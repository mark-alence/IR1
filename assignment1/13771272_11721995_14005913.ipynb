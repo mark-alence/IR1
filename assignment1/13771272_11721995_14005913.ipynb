{
 "cells": [
  {
   "cell_type": "markdown",
   "metadata": {
    "deletable": false,
    "editable": false,
    "nbgrader": {
     "cell_type": "markdown",
     "checksum": "1bba455de8bc2825ca70469169bbadaa",
     "grade": false,
     "grade_id": "cell-c9cd9e550239e812",
     "locked": true,
     "schema_version": 3,
     "solution": false,
     "task": false
    }
   },
   "source": [
    "# Homework 1 (Total Points: 250) <a class=\"anchor\" id=\"top\"></a>\n",
    "\n",
    "\n",
    "**Submission instructions**:\n",
    "- The cells with the `# YOUR CODE HERE` denote that these sections are graded and you need to add your implementation.\n",
    "- For Part 1: You can use the `nltk`, `NumPy`, and `matplotlib` libraries here. Other libraries, e.g., `gensim` or `scikit-learn`, may not be used. For Part 2: `gensim` is allowed in addition to the imported libraries in the next code cell\n",
    "- Please use Python 3.6.5 and `pip install -r requirements.txt` to avoid version issues.\n",
    "- The notebook you submit has to have the student ids, separated by underscores (E.g., `12341234_12341234_12341234_hw1.ipynb`).\n",
    "- This will be parsed by a regexp, **so please double check your filename**.\n",
    "- Only one member of each group has to submit the file (**please do not compress the .ipynb file when you will submit it**) to canvas.\n",
    "- **Make sure to check that your notebook runs before submission**. A quick way to do this is to restart the kernel and run all the cells.  \n",
    "- Do not change the number of arugments in the given functions.\n",
    "- **Please do not delete/add new cells**. Removing cells **will** lead to grade deduction. \n",
    "- Note, that you are not allowed to use Google Colab.\n",
    "\n",
    "\n",
    "**Learning Goals**:\n",
    "- [Part 1, Term-based matching](#part1) (165 points):\n",
    "    - Learn how to load a dataset and process it.\n",
    "    - Learn how to implement several standard IR methods (TF-IDF, BM25, QL) and understand their weaknesses & strengths.\n",
    "    - Learn how to evaluate IR methods.\n",
    "- [Part 2, Semantic-based matching](#part2) (85 points):\n",
    "    - Learn how to implement vector-space retrieval methods (LSI, LDA).\n",
    "    - Learn how to use LSI and LDA for re-ranking.\n",
    "\n",
    "    \n",
    "**Resources**: \n",
    "- **Part 1**: Sections 2.3, 4.1, 4.2, 4.3, 5.3, 5.6, 5.7, 6.2, 7, 8 of [Search Engines: Information Retrieval in Practice](https://ciir.cs.umass.edu/downloads/SEIRiP.pdf)\n",
    "- **Part 2**: [LSI - Chapter 18](https://nlp.stanford.edu/IR-book/pdf/18lsi.pdf) from [Introduction to Information Retrieval](https://nlp.stanford.edu/IR-book/) book and the [original LDA paper](https://jmlr.org/papers/volume3/blei03a/blei03a.pdf)"
   ]
  },
  {
   "cell_type": "code",
   "execution_count": 1,
   "metadata": {
    "deletable": false,
    "editable": false,
    "nbgrader": {
     "cell_type": "code",
     "checksum": "c55bfe94ff1f564dd595547e516c4c6e",
     "grade": false,
     "grade_id": "cell-f5357fabdb9660e3",
     "locked": true,
     "schema_version": 3,
     "solution": false,
     "task": false
    }
   },
   "outputs": [],
   "source": [
    "# imports \n",
    "# TODO: Ensure that no additional library is imported in the notebook. \n",
    "# TODO: Only the standard library and the following libraries are allowed:\n",
    "# TODO: You can also use unlisted classes from these libraries or standard libraries (such as defaultdict, Counter, ...).\n",
    "\n",
    "import os\n",
    "import zipfile\n",
    "from functools import partial\n",
    "\n",
    "import nltk\n",
    "import requests\n",
    "import numpy as np\n",
    "from tqdm import tqdm\n",
    "\n",
    "import matplotlib.pyplot as plt\n",
    "from matplotlib.pyplot import cm\n",
    "\n",
    "from ipywidgets import widgets\n",
    "from IPython.display import display, HTML\n",
    "#from IPython.html import widgets\n",
    "from collections import namedtuple\n",
    "\n",
    "%matplotlib inline"
   ]
  },
  {
   "cell_type": "markdown",
   "metadata": {
    "deletable": false,
    "editable": false,
    "nbgrader": {
     "cell_type": "markdown",
     "checksum": "c8328f758ca5b69f76eee03dbbdd4715",
     "grade": false,
     "grade_id": "cell-7428e12ed184408b",
     "locked": true,
     "schema_version": 3,
     "solution": false,
     "task": false
    }
   },
   "source": [
    "\n",
    "# Part 1: Term-based Matching (165 points) <a class=\"anchor\" id=\"part1\"></a>\n",
    "\n",
    "[Back to top](#top)\n",
    "\n",
    "In the first part, we will learn the basics of IR from loading and preprocessing the material, to implementing some well known search algorithms, to evaluating the ranking performance of the implemented algorithms. We will be using the CACM dataset throughout the assignment. The CACM dataset is a collection of titles and abstracts from the journal CACM (Communication of the ACM).\n",
    "\n",
    "Table of contents:\n",
    "- [Section 1: Text Processing](#text_processing) (5 points)\n",
    "- [Section 2: Indexing](#indexing) (10 points)\n",
    "- [Section 3: Ranking](#ranking) (80 points)\n",
    "- [Section 4: Evaluation](#evaluation) (40 points)\n",
    "- [Section 5: Analysis](#analysis) (30 points)\n"
   ]
  },
  {
   "cell_type": "markdown",
   "metadata": {
    "deletable": false,
    "editable": false,
    "nbgrader": {
     "cell_type": "markdown",
     "checksum": "4e3f938065183dc743aa8254b96b4f5e",
     "grade": false,
     "grade_id": "cell-4b24825cf4ae55ec",
     "locked": true,
     "schema_version": 3,
     "solution": false,
     "task": false
    }
   },
   "source": [
    "---\n",
    "## Section 1: Text Processing (5 points)<a class=\"anchor\" id=\"text_processing\"></a>\n",
    "\n",
    "[Back to Part 1](#part1)\n",
    "\n",
    "In this section, we will load the dataset and learn how to clean up the data to make it usable for an IR system. \n",
    "First, go through the implementation of the following functions:\n",
    "- `read_cacm_docs`: Reads in the CACM documents.\n",
    "- `read_queries`: Reads in the CACM queries.\n",
    "- `load_stopwords`: Loads the stopwords.\n",
    "\n",
    "The points of this section are earned for the following implementations:\n",
    "- `tokenize` (3 points): Tokenizes the input text.\n",
    "- `stem_token` (2 points): Stems the given token. \n",
    "\n",
    "We are using the [CACM dataset](http://ir.dcs.gla.ac.uk/resources/test_collections/cacm/), which is a small, classic IR dataset, composed of a collection of titles and abstracts from the journal CACM. It comes with relevance judgements for queries, so we can evaluate our IR system. \n"
   ]
  },
  {
   "cell_type": "markdown",
   "metadata": {
    "deletable": false,
    "editable": false,
    "nbgrader": {
     "cell_type": "markdown",
     "checksum": "0155d897c7016389d73d160921947a6f",
     "grade": false,
     "grade_id": "cell-45651364e7af6d5a",
     "locked": true,
     "schema_version": 3,
     "solution": false,
     "task": false
    }
   },
   "source": [
    "---\n",
    "### 1.1 Read the CACM documents\n",
    "\n",
    "\n",
    "The following cell downloads the dataset and unzips it to a local directory."
   ]
  },
  {
   "cell_type": "code",
   "execution_count": 2,
   "metadata": {
    "deletable": false,
    "editable": false,
    "nbgrader": {
     "cell_type": "code",
     "checksum": "4d43c9ad6e77cc01ce4cef0c34824930",
     "grade": false,
     "grade_id": "cell-bbc3030bb3fe7e02",
     "locked": true,
     "schema_version": 3,
     "solution": false,
     "task": false
    }
   },
   "outputs": [],
   "source": [
    "def download_dataset():\n",
    "    folder_path = os.environ.get(\"IR1_DATA_PATH\")\n",
    "    if not folder_path:\n",
    "        folder_path = \"./datasets/\"\n",
    "    os.makedirs(folder_path, exist_ok=True)\n",
    "    \n",
    "    file_location = os.path.join(folder_path, \"cacm.zip\")\n",
    "    \n",
    "    # download file if it doesn't exist\n",
    "    if not os.path.exists(file_location):\n",
    "        \n",
    "        url = \"https://surfdrive.surf.nl/files/index.php/s/M0FGJpX2p8wDwxR/download\"\n",
    "\n",
    "        with open(file_location, \"wb\") as handle:\n",
    "            print(f\"Downloading file from {url} to {file_location}\")\n",
    "            response = requests.get(url, stream=True)\n",
    "            for data in tqdm(response.iter_content()):\n",
    "                handle.write(data)\n",
    "            print(\"Finished downloading file\")\n",
    "    \n",
    "    if not os.path.exists(os.path.join(folder_path, \"train.txt\")):\n",
    "        \n",
    "        # unzip file\n",
    "        with zipfile.ZipFile(file_location, 'r') as zip_ref:\n",
    "            zip_ref.extractall(folder_path)\n",
    "        \n",
    "download_dataset()"
   ]
  },
  {
   "cell_type": "markdown",
   "metadata": {
    "deletable": false,
    "editable": false,
    "nbgrader": {
     "cell_type": "markdown",
     "checksum": "31609b0d61d0c74cbd69bc43e47c23be",
     "grade": false,
     "grade_id": "cell-a7dd9a9bf98ede05",
     "locked": true,
     "schema_version": 3,
     "solution": false,
     "task": false
    }
   },
   "source": [
    "---\n",
    "\n",
    "You can see a brief description of each file in the dataset by looking at the README file:"
   ]
  },
  {
   "cell_type": "code",
   "execution_count": 3,
   "metadata": {
    "deletable": false,
    "editable": false,
    "nbgrader": {
     "cell_type": "code",
     "checksum": "cb3c9a2b8b2bf4fd5b7446b0c4c00f43",
     "grade": false,
     "grade_id": "cell-9b6ff1a17124711f",
     "locked": true,
     "schema_version": 3,
     "solution": false,
     "task": false
    }
   },
   "outputs": [
    {
     "name": "stdout",
     "output_type": "stream",
     "text": [
      "Files in this directory with sizes:\n",
      "          0 Jun 19 21:01 README\n",
      "\n",
      "    2187734 Jun 19 20:55 cacm.all              text of documents\n",
      "        626 Jun 19 20:58 cite.info             key to citation info\n",
      "                                                (the X sections in cacm.all)\n",
      "       2668 Jun 19 20:55 common_words           stop words used by smart\n",
      "       2194 Jun 19 20:55 make_coll*             shell script to make collection\n",
      "       1557 Jun 19 20:55 make_coll_term*        ditto (both useless without\n",
      "                                                smart system)\n",
      "       9948 Jun 19 20:55 qrels.text             relation giving\n",
      "                                                    qid did 0 0\n",
      "                                                to indicate dument did is\n",
      "                                                relevant to query qid\n",
      "      13689 Jun 19 20:55 query.text             Original text of the query\n",
      "\n"
     ]
    }
   ],
   "source": [
    "##### Read the README file \n",
    "with open (\"./datasets/README\",\"r\") as file:\n",
    "    readme = file.read()\n",
    "    print(readme)\n",
    "#####"
   ]
  },
  {
   "cell_type": "markdown",
   "metadata": {
    "deletable": false,
    "editable": false,
    "nbgrader": {
     "cell_type": "markdown",
     "checksum": "6e2712c4c4632bf7486a532f7f18074d",
     "grade": false,
     "grade_id": "cell-73351431869fda76",
     "locked": true,
     "schema_version": 3,
     "solution": false,
     "task": false
    }
   },
   "source": [
    "---\n",
    "We are interested in 4 files:\n",
    "- `cacm.all` : Contains the text for all documents. Note that some documents do not have abstracts available\n",
    "- `query.text` : The text of all queries\n",
    "- `qrels.text` : The relevance judgements\n",
    "- `common_words` : A list of common words. This may be used as a collection of stopwords"
   ]
  },
  {
   "cell_type": "code",
   "execution_count": 4,
   "metadata": {
    "deletable": false,
    "editable": false,
    "nbgrader": {
     "cell_type": "code",
     "checksum": "f1162c15177eb4ffe466531d03cff4a2",
     "grade": false,
     "grade_id": "cell-b44dd14079f278ca",
     "locked": true,
     "schema_version": 3,
     "solution": false,
     "task": false
    }
   },
   "outputs": [
    {
     "name": "stdout",
     "output_type": "stream",
     "text": [
      ".I 1\n",
      ".T\n",
      "Preliminary Report-International Algebraic Language\n",
      ".B\n",
      "CACM December, 1958\n",
      ".A\n",
      "Perlis, A. J.\n",
      "Samelson,K.\n",
      ".N\n",
      "CA581203 JB March 22, 1978  8:28 PM\n",
      ".X\n",
      "100\t5\t1\n",
      "123\t5\t1\n",
      "164\t5\t1\n",
      "1\t5\t1\n",
      "1\t5\t1\n",
      "1\t5\t1\n",
      "205\t5\t1\n",
      "210\t5\t1\n",
      "214\t5\t1\n",
      "1982\t5\t1\n",
      "398\t5\t1\n",
      "642\t5\t1\n",
      "669\t5\t1\n",
      "1\t6\t1\n",
      "1\t6\t1\n",
      "1\t6\t1\n",
      "1\t6\t1\n",
      "1\t6\t1\n",
      "1\t6\t1\n",
      "1\t6\t1\n",
      "1\t6\t1\n",
      "1\t6\t1\n",
      "1\t6\t1\n",
      "165\t6\t1\n",
      "196\t6\t1\n",
      "196\t6\t1\n",
      "1273\t6\t1\n",
      "1883\t6\t1\n",
      "324\t6\t1\n",
      "43\t6\t1\n",
      "53\t6\t1\n",
      "91\t6\t1\n",
      "410\t6\t1\n",
      "3184\t6\t1\n",
      "\n"
     ]
    }
   ],
   "source": [
    "##### The first 45 lines of the CACM dataset forms the first record\n",
    "# We are interested only in 3 fields. \n",
    "# 1. the '.I' field, which is the document id\n",
    "# 2. the '.T' field (the title) and\n",
    "# 3. the '.W' field (the abstract, which may be absent)\n",
    "with open (\"./datasets/cacm.all\",\"r\") as file:\n",
    "    cacm_all = \"\".join(file.readlines()[:45])\n",
    "    print(cacm_all)\n",
    "#####"
   ]
  },
  {
   "cell_type": "markdown",
   "metadata": {
    "deletable": false,
    "editable": false,
    "nbgrader": {
     "cell_type": "markdown",
     "checksum": "250b413baccd8efb186bb46a34ae0060",
     "grade": false,
     "grade_id": "cell-c4bf2e263ec553d8",
     "locked": true,
     "schema_version": 3,
     "solution": false,
     "task": false
    }
   },
   "source": [
    "---\n",
    "\n",
    "The following function reads the `cacm.all` file. Note that each document has a variable number of lines. The `.I` field denotes a new document:"
   ]
  },
  {
   "cell_type": "code",
   "execution_count": 5,
   "metadata": {
    "deletable": false,
    "editable": false,
    "nbgrader": {
     "cell_type": "code",
     "checksum": "57d757e6a7a6938740dc899022b4f291",
     "grade": false,
     "grade_id": "cell-b736116eb419c624",
     "locked": true,
     "schema_version": 3,
     "solution": false,
     "task": false
    }
   },
   "outputs": [],
   "source": [
    "def read_cacm_docs(root_folder = \"./datasets/\"):\n",
    "    \"\"\"\n",
    "        Reads in the CACM documents. The dataset is assumed to be in the folder \"./datasets/\" by default\n",
    "        Returns: A list of 2-tuples: (doc_id, document), where 'document' is a single string created by \n",
    "            appending the title and abstract (separated by a \"\\n\"). \n",
    "            In case the record doesn't have an abstract, the document is composed only by the title\n",
    "    \"\"\"\n",
    "    with open(os.path.join(root_folder, \"cacm.all\")) as reader:\n",
    "        lines = reader.readlines()\n",
    "    \n",
    "    doc_id, title, abstract = None, None, None\n",
    "    \n",
    "    docs = []\n",
    "    line_idx = 0\n",
    "    while line_idx < len(lines):\n",
    "        line = lines[line_idx]\n",
    "        if line.startswith(\".I\"):\n",
    "            if doc_id is not None:\n",
    "                docs.append((doc_id, title, abstract))\n",
    "                doc_id, title, abstract = None, None, None\n",
    "            \n",
    "            doc_id = line.split()[-1]\n",
    "            line_idx += 1\n",
    "        elif line.startswith(\".T\"):\n",
    "            # start at next line\n",
    "            line_idx += 1\n",
    "            temp_lines = []\n",
    "            # read till next '.'\n",
    "            while not lines[line_idx].startswith(\".\"):\n",
    "                temp_lines.append(lines[line_idx].strip(\"\\n\"))\n",
    "                line_idx += 1\n",
    "            title = \"\\n\".join(temp_lines).strip(\"\\n\")\n",
    "        elif line.startswith(\".W\"):\n",
    "            # start at next line\n",
    "            line_idx += 1\n",
    "            temp_lines = []\n",
    "            # read till next '.'\n",
    "            while not lines[line_idx].startswith(\".\"):\n",
    "                temp_lines.append(lines[line_idx].strip(\"\\n\"))\n",
    "                line_idx += 1\n",
    "            abstract = \"\\n\".join(temp_lines).strip(\"\\n\")\n",
    "        else:\n",
    "            line_idx += 1\n",
    "    \n",
    "    docs.append((doc_id, title, abstract))\n",
    "    \n",
    "    p_docs = []\n",
    "    for (did, t, a) in docs:\n",
    "        if a is None:\n",
    "            a = \"\"\n",
    "        p_docs.append((did, t + \"\\n\" + a))\n",
    "    return p_docs\n"
   ]
  },
  {
   "cell_type": "code",
   "execution_count": 6,
   "metadata": {
    "deletable": false,
    "editable": false,
    "nbgrader": {
     "cell_type": "code",
     "checksum": "2f81930fcd89670b6e20e2255e1f2369",
     "grade": false,
     "grade_id": "cell-a1c43818e0d3fd79",
     "locked": true,
     "schema_version": 3,
     "solution": false,
     "task": false
    }
   },
   "outputs": [],
   "source": [
    "##### Function check\n",
    "docs = read_cacm_docs()\n",
    "\n",
    "assert isinstance(docs, list)\n",
    "assert len(docs) == 3204, \"There should be exactly 3204 documents\"\n",
    "\n",
    "unzipped_docs = list(zip(*docs))\n",
    "assert np.sum(np.array(list(map(int,unzipped_docs[0])))) == 5134410\n",
    "\n",
    "##### "
   ]
  },
  {
   "cell_type": "markdown",
   "metadata": {
    "deletable": false,
    "editable": false,
    "nbgrader": {
     "cell_type": "markdown",
     "checksum": "25fd3cfaf2137c56002b850699b3c9d3",
     "grade": false,
     "grade_id": "cell-5ed2ddc91f73c60e",
     "locked": true,
     "schema_version": 3,
     "solution": false,
     "task": false
    }
   },
   "source": [
    "---\n",
    "### 1.2 Read the CACM queries\n",
    "\n",
    "Next, let us read the queries. They are formatted similarly:"
   ]
  },
  {
   "cell_type": "code",
   "execution_count": 7,
   "metadata": {
    "deletable": false,
    "editable": false,
    "nbgrader": {
     "cell_type": "code",
     "checksum": "5d26c0908e758acb9968b84056b1060a",
     "grade": false,
     "grade_id": "cell-5c7e8e7c4fc2757f",
     "locked": true,
     "schema_version": 3,
     "solution": false,
     "task": false
    }
   },
   "outputs": [
    {
     "name": "stdout",
     "output_type": "stream",
     "text": [
      ".I 1\r\n",
      ".W\r\n",
      " What articles exist which deal with TSS (Time Sharing System), an\r\n",
      "operating system for IBM computers?\r\n",
      ".N\r\n",
      " 1. Richard Alexander, Comp Serv, Langmuir Lab (TSS)\r\n",
      " \r\n",
      ".I 2\r\n",
      ".W\r\n",
      " I am interested in articles written either by Prieve or Udo Pooch\r\n",
      ".A\r\n",
      "Prieve, B.\r\n",
      "Pooch, U.\r\n",
      ".N\r\n",
      " 2. Richard Alexander, Comp Serv, Langmuir Lab (author = Pooch or Prieve)\r\n"
     ]
    }
   ],
   "source": [
    "##### The first 15 lines of 'query.text' has 2 queries\n",
    "# We are interested only in 2 fields. \n",
    "# 1. the '.I' - the query id\n",
    "# 2. the '.W' - the query\n",
    "!head -15 ./datasets/query.text\n",
    "#####"
   ]
  },
  {
   "cell_type": "markdown",
   "metadata": {
    "deletable": false,
    "editable": false,
    "nbgrader": {
     "cell_type": "markdown",
     "checksum": "8f19f311a660f30e3f86cb0f7037d54a",
     "grade": false,
     "grade_id": "cell-88e293507d2dcef6",
     "locked": true,
     "schema_version": 3,
     "solution": false,
     "task": false
    }
   },
   "source": [
    "---\n",
    "\n",
    "The following function reads the `query.text` file:"
   ]
  },
  {
   "cell_type": "code",
   "execution_count": 8,
   "metadata": {
    "deletable": false,
    "editable": false,
    "nbgrader": {
     "cell_type": "code",
     "checksum": "e3fbb193211007672849487f5cff1664",
     "grade": false,
     "grade_id": "cell-433e3ad5d0e2572a",
     "locked": true,
     "schema_version": 3,
     "solution": false,
     "task": false
    }
   },
   "outputs": [],
   "source": [
    "def read_queries(root_folder = \"./datasets/\"):\n",
    "    \"\"\"\n",
    "        Reads in the CACM queries. The dataset is assumed to be in the folder \"./datasets/\" by default\n",
    "        Returns: A list of 2-tuples: (query_id, query)\n",
    "    \"\"\"\n",
    "    with open(os.path.join(root_folder, \"query.text\")) as reader:\n",
    "        lines = reader.readlines()\n",
    "    \n",
    "    query_id, query = None, None\n",
    "    \n",
    "    queries = []\n",
    "    line_idx = 0\n",
    "    while line_idx < len(lines):\n",
    "        line = lines[line_idx]\n",
    "        if line.startswith(\".I\"):\n",
    "            if query_id is not None:\n",
    "                queries.append((query_id, query))\n",
    "                query_id, query = None, None\n",
    "    \n",
    "            query_id = line.split()[-1]\n",
    "            line_idx += 1\n",
    "        elif line.startswith(\".W\"):\n",
    "            # start at next line\n",
    "            line_idx += 1\n",
    "            temp_lines = []\n",
    "            # read till next '.'\n",
    "            while not lines[line_idx].startswith(\".\"):\n",
    "                temp_lines.append(lines[line_idx].strip(\"\\n\"))\n",
    "                line_idx += 1\n",
    "            query = \"\\n\".join(temp_lines).strip(\"\\n\")\n",
    "        else:\n",
    "            line_idx += 1\n",
    "    \n",
    "    queries.append((query_id, query))\n",
    "    return queries\n"
   ]
  },
  {
   "cell_type": "code",
   "execution_count": 9,
   "metadata": {
    "deletable": false,
    "editable": false,
    "nbgrader": {
     "cell_type": "code",
     "checksum": "a897b9771b54f447be3418d7246fc4a0",
     "grade": false,
     "grade_id": "cell-6ec540abce66c598",
     "locked": true,
     "schema_version": 3,
     "solution": false,
     "task": false
    }
   },
   "outputs": [],
   "source": [
    "##### Function check\n",
    "queries = read_queries()\n",
    "\n",
    "assert isinstance(queries, list)\n",
    "assert len(queries) == 64 and all([q[1] is not None for q in queries]), \"There should be exactly 64 queries\"\n",
    "\n",
    "unzipped_queries = list(zip(*queries))\n",
    "assert np.sum(np.array(list(map(int,unzipped_queries[0])))) == 2080\n",
    "\n",
    "##### "
   ]
  },
  {
   "cell_type": "markdown",
   "metadata": {
    "deletable": false,
    "editable": false,
    "nbgrader": {
     "cell_type": "markdown",
     "checksum": "a300c41912ac63b239070b4c15c9f5c5",
     "grade": false,
     "grade_id": "cell-1c31569491d7b782",
     "locked": true,
     "schema_version": 3,
     "solution": false,
     "task": false
    }
   },
   "source": [
    "---\n",
    "### 1.3 Read the stop words\n",
    "\n",
    "We use the common words stored in `common_words`:"
   ]
  },
  {
   "cell_type": "code",
   "execution_count": 10,
   "metadata": {
    "deletable": false,
    "editable": false,
    "nbgrader": {
     "cell_type": "code",
     "checksum": "1ad6f5bae6a792504c1c8513ae5751ad",
     "grade": false,
     "grade_id": "cell-34bdb63461418a96",
     "locked": true,
     "schema_version": 3,
     "solution": false,
     "task": false
    }
   },
   "outputs": [
    {
     "name": "stdout",
     "output_type": "stream",
     "text": [
      "a\r\n",
      "about\r\n",
      "above\r\n",
      "accordingly\r\n",
      "across\r\n",
      "after\r\n",
      "afterwards\r\n",
      "again\r\n",
      "against\r\n",
      "all\r\n"
     ]
    }
   ],
   "source": [
    "##### Read the stop words file \n",
    "!head ./datasets/common_words\n",
    "##### Read the README file "
   ]
  },
  {
   "cell_type": "markdown",
   "metadata": {
    "deletable": false,
    "editable": false,
    "nbgrader": {
     "cell_type": "markdown",
     "checksum": "6d0fe612e770213b6397c2179b07a966",
     "grade": false,
     "grade_id": "cell-4744bde0338895d8",
     "locked": true,
     "schema_version": 3,
     "solution": false,
     "task": false
    }
   },
   "source": [
    "---\n",
    "\n",
    "The following function reads the `common_words` file (For better coverage, we try to keep them in lowercase):"
   ]
  },
  {
   "cell_type": "code",
   "execution_count": 11,
   "metadata": {
    "deletable": false,
    "editable": false,
    "nbgrader": {
     "cell_type": "code",
     "checksum": "9409713fd26eb0c33587e190638997c4",
     "grade": false,
     "grade_id": "cell-7357aa40f64e5bcb",
     "locked": true,
     "schema_version": 3,
     "solution": false,
     "task": false
    }
   },
   "outputs": [],
   "source": [
    "def load_stopwords(root_folder = \"./datasets/\"):\n",
    "    \"\"\"\n",
    "        Loads the stopwords. The dataset is assumed to be in the folder \"./datasets/\" by default\n",
    "        Output: A set of stopwords\n",
    "    \"\"\"\n",
    "    with open(os.path.join(root_folder, \"common_words\")) as reader:\n",
    "        lines = reader.readlines()\n",
    "    stopwords = set([l.strip().lower() for l in lines])\n",
    "    return stopwords\n"
   ]
  },
  {
   "cell_type": "code",
   "execution_count": 12,
   "metadata": {
    "deletable": false,
    "editable": false,
    "nbgrader": {
     "cell_type": "code",
     "checksum": "f1c8153c3c38133bc2db6e7b076ad470",
     "grade": false,
     "grade_id": "cell-2ca3ac162004de97",
     "locked": true,
     "schema_version": 3,
     "solution": false,
     "task": false
    }
   },
   "outputs": [],
   "source": [
    "##### Function check\n",
    "stopwords = load_stopwords()\n",
    "\n",
    "assert isinstance(stopwords, set)\n",
    "assert len(stopwords) == 428, \"There should be exactly 428 stop words\"\n",
    "\n",
    "assert np.sum(np.array(list(map(len,stopwords)))) == 2234\n",
    "\n",
    "##### \n"
   ]
  },
  {
   "cell_type": "markdown",
   "metadata": {
    "deletable": false,
    "editable": false,
    "nbgrader": {
     "cell_type": "markdown",
     "checksum": "92c1191e9e7291dcf0d70dc67b907a65",
     "grade": false,
     "grade_id": "cell-134b72872f4300cb",
     "locked": true,
     "schema_version": 3,
     "solution": false,
     "task": false
    }
   },
   "source": [
    "---\n",
    "### 1.4 Tokenization (3 points)\n",
    "\n",
    "We can now write some basic text processing functions. \n",
    "A first step is to tokenize the text. \n",
    "\n",
    "**Note**: Use the  `WordPunctTokenizer` available in the `nltk` library:"
   ]
  },
  {
   "cell_type": "code",
   "execution_count": 13,
   "metadata": {
    "deletable": false,
    "nbgrader": {
     "cell_type": "code",
     "checksum": "3f5564d3c75bf22fbf832b3a9b938f37",
     "grade": false,
     "grade_id": "cell-322be4c9499bdc4b",
     "locked": false,
     "schema_version": 3,
     "solution": true,
     "task": false
    }
   },
   "outputs": [],
   "source": [
    "# TODO: Implement this! (4 points)\n",
    "def tokenize(text):\n",
    "    \"\"\"\n",
    "        Tokenizes the input text. Use the WordPunctTokenizer\n",
    "        Input: text - a string\n",
    "        Output: a list of tokens\n",
    "    \"\"\"\n",
    "    tk = nltk.tokenize.WordPunctTokenizer()\n",
    "    return tk.tokenize(text)"
   ]
  },
  {
   "cell_type": "code",
   "execution_count": 14,
   "metadata": {
    "deletable": false,
    "editable": false,
    "nbgrader": {
     "cell_type": "code",
     "checksum": "e15af22c4d8ae0a3f9dac43bef7097ec",
     "grade": true,
     "grade_id": "cell-7fbf48bf7541a622",
     "locked": true,
     "points": 3,
     "schema_version": 3,
     "solution": false,
     "task": false
    }
   },
   "outputs": [
    {
     "name": "stdout",
     "output_type": "stream",
     "text": [
      "['the', 'quick', 'brown', 'fox', 'jumps', 'over', 'the', 'lazy', 'dog']\n"
     ]
    }
   ],
   "source": [
    "##### Function check\n",
    "text = \"the quick brown fox jumps over the lazy dog\"\n",
    "tokens = tokenize(text)\n",
    "\n",
    "assert isinstance(tokens, list)\n",
    "assert len(tokens) == 9\n",
    "\n",
    "print(tokens)\n",
    "# output: ['the', 'quick', 'brown', 'fox', 'jumps', 'over', 'the', 'lazy', 'dog']\n",
    "#####"
   ]
  },
  {
   "cell_type": "markdown",
   "metadata": {
    "deletable": false,
    "editable": false,
    "nbgrader": {
     "cell_type": "markdown",
     "checksum": "34210618bff4cb47aad2f03cb4b9854c",
     "grade": false,
     "grade_id": "cell-fd1b98ae61b697ca",
     "locked": true,
     "schema_version": 3,
     "solution": false,
     "task": false
    }
   },
   "source": [
    "---\n",
    "### 1.5 Stemming (2 points)\n",
    "\n",
    "Write a function to stem tokens. \n",
    "Again, you can use the nltk library for this:"
   ]
  },
  {
   "cell_type": "code",
   "execution_count": 15,
   "metadata": {
    "deletable": false,
    "nbgrader": {
     "cell_type": "code",
     "checksum": "1c4a6aa979d66158c7b6b992af43293a",
     "grade": false,
     "grade_id": "cell-e3f6c8e3f874b28d",
     "locked": false,
     "schema_version": 3,
     "solution": true,
     "task": false
    }
   },
   "outputs": [],
   "source": [
    "# TODO: Implement this! (3 points)\n",
    "def stem_token(token):\n",
    "    \"\"\"\n",
    "        Stems the given token using the PorterStemmer from the nltk library\n",
    "        Input: a single token\n",
    "        Output: the stem of the token\n",
    "    \"\"\"\n",
    "    stemmer = nltk.stem.PorterStemmer()\n",
    "    return stemmer.stem(token)"
   ]
  },
  {
   "cell_type": "code",
   "execution_count": 16,
   "metadata": {
    "deletable": false,
    "editable": false,
    "nbgrader": {
     "cell_type": "code",
     "checksum": "9363b4f09b556d424d9c895d4ab57b1c",
     "grade": true,
     "grade_id": "cell-cd6863e6ee6ed205",
     "locked": true,
     "points": 2,
     "schema_version": 3,
     "solution": false,
     "task": false
    }
   },
   "outputs": [],
   "source": [
    "##### Function check\n",
    "\n",
    "assert stem_token('owned') == 'own'\n",
    "assert stem_token('itemization') == 'item'\n",
    "#####"
   ]
  },
  {
   "cell_type": "markdown",
   "metadata": {
    "deletable": false,
    "editable": false,
    "nbgrader": {
     "cell_type": "markdown",
     "checksum": "0b311d014146da6afa1d39542fab9869",
     "grade": false,
     "grade_id": "cell-47c9f90498699110",
     "locked": true,
     "schema_version": 3,
     "solution": false,
     "task": false
    }
   },
   "source": [
    "---\n",
    "### 1.6 Summary\n",
    "\n",
    "The following function puts it all together. Given an input string, this functions tokenizes and processes it according to the flags that you set."
   ]
  },
  {
   "cell_type": "code",
   "execution_count": 17,
   "metadata": {
    "deletable": false,
    "editable": false,
    "nbgrader": {
     "cell_type": "code",
     "checksum": "2ff2d215ee8e0039c5a91fd3de12e6bd",
     "grade": false,
     "grade_id": "cell-dd0d3f46b30801da",
     "locked": true,
     "schema_version": 3,
     "solution": false,
     "task": false
    }
   },
   "outputs": [],
   "source": [
    "#### Putting it all together\n",
    "def process_text(text, stem=False, remove_stopwords=False, lowercase_text=False):\n",
    "    \n",
    "    tokens = []\n",
    "    for token in tokenize(text):\n",
    "        if remove_stopwords and token.lower() in stopwords:\n",
    "            continue\n",
    "        if stem:\n",
    "            token = stem_token(token)\n",
    "        if lowercase_text:\n",
    "            token = token.lower()\n",
    "        tokens.append(token)\n",
    "\n",
    "    return tokens\n",
    "#### "
   ]
  },
  {
   "cell_type": "markdown",
   "metadata": {
    "deletable": false,
    "editable": false,
    "nbgrader": {
     "cell_type": "markdown",
     "checksum": "02d433b18eb43654fa4306a7bf55b190",
     "grade": false,
     "grade_id": "cell-8d885bfd2edd43ae",
     "locked": true,
     "schema_version": 3,
     "solution": false,
     "task": false
    }
   },
   "source": [
    "---\n",
    "\n",
    "Let's create two sets of preprocessed documents.\n",
    "We can process the documents and queries according to these two configurations:"
   ]
  },
  {
   "cell_type": "code",
   "execution_count": 18,
   "metadata": {
    "deletable": false,
    "editable": false,
    "nbgrader": {
     "cell_type": "code",
     "checksum": "dbe4ca667be6842fdcf512fbcad50c7f",
     "grade": false,
     "grade_id": "cell-d427365ee0fb21d8",
     "locked": true,
     "schema_version": 3,
     "solution": false,
     "task": false
    }
   },
   "outputs": [],
   "source": [
    "# In this configuration:\n",
    "# Don't preprocess the text, except to tokenize \n",
    "config_1 = {\n",
    "  \"stem\": False,\n",
    "  \"remove_stopwords\" : False,\n",
    "  \"lowercase_text\": True\n",
    "} \n",
    "\n",
    "\n",
    "# In this configuration:\n",
    "# Preprocess the text, stem and remove stopwords\n",
    "config_2 = {\n",
    "  \"stem\": True,\n",
    "  \"remove_stopwords\" : True,\n",
    "  \"lowercase_text\": True, \n",
    "} \n",
    "\n",
    "####\n",
    "doc_repr_1 = []\n",
    "doc_repr_2 = []\n",
    "for (doc_id, document) in docs:\n",
    "    doc_repr_1.append((doc_id, process_text(document, **config_1)))\n",
    "    doc_repr_2.append((doc_id, process_text(document, **config_2)))\n",
    "\n",
    "####"
   ]
  },
  {
   "cell_type": "markdown",
   "metadata": {
    "deletable": false,
    "editable": false,
    "nbgrader": {
     "cell_type": "markdown",
     "checksum": "b60589aac19e80941d860d9b3f1e9a16",
     "grade": false,
     "grade_id": "cell-b1c102db61ae7495",
     "locked": true,
     "schema_version": 3,
     "solution": false,
     "task": false
    }
   },
   "source": [
    "--- \n",
    "\n",
    "## Section 2: Indexing (10 points)<a class=\"anchor\" id=\"indexing\"></a>\n",
    "\n",
    "[Back to Part 1](#part1)\n",
    "\n",
    "\n",
    "\n",
    "A retrieval function usually takes in a query document pair, and scores a query against a document.  Our document set is quite small - just a few thousand documents. However, consider a web-scale dataset with a few million documents. In such a scenario, it would become infeasible to score every query and document pair. In such a case, we can build an inverted index. From Wikipedia:\n",
    "\n",
    "> ... , an inverted index (also referred to as a postings file or inverted file) is a database index storing a mapping from content, such as words or numbers, to its locations in a table, .... The purpose of an inverted index is to allow fast full-text searches, at a cost of increased processing when a document is added to the database. ...\n",
    "\n",
    "\n",
    "Consider a simple inverted index, which maps from word to document. This can improve the performance of a retrieval system significantly. In this assignment, we consider a *simple* inverted index, which maps a word to a set of documents. In practice, however, more complex indices might be used.  \n"
   ]
  },
  {
   "cell_type": "markdown",
   "metadata": {
    "deletable": false,
    "editable": false,
    "nbgrader": {
     "cell_type": "markdown",
     "checksum": "710fd943f45523ac36fcb887cc0d4d39",
     "grade": false,
     "grade_id": "cell-fa373192c1b7bb95",
     "locked": true,
     "schema_version": 3,
     "solution": false,
     "task": false
    }
   },
   "source": [
    "### 2.1 Term Frequency-index (10 points)\n",
    "In this assignment, we will be using an index created in memory since our dataset is tiny. To get started, build a simple index that maps each `token` to a list of `(doc_id, count)` where `count` is the count of the `token` in `doc_id`.\n",
    "For consistency, build this index using a python dictionary.\n",
    "    \n",
    "Now, implement a function to build an index:"
   ]
  },
  {
   "cell_type": "code",
   "execution_count": 19,
   "metadata": {
    "deletable": false,
    "nbgrader": {
     "cell_type": "code",
     "checksum": "d4e8c6b658c469379d5fe511de05b536",
     "grade": false,
     "grade_id": "cell-077599b87e953209",
     "locked": false,
     "schema_version": 3,
     "solution": true,
     "task": false
    }
   },
   "outputs": [],
   "source": [
    "# TODO: Implement this! (10 points)\n",
    "from collections import defaultdict\n",
    "def build_tf_index(documents):\n",
    "    \"\"\"\n",
    "        Build an inverted index (with counts). The output is a dictionary which takes in a token\n",
    "        and returns a list of (doc_id, count) where 'count' is the count of the 'token' in 'doc_id'\n",
    "        Input: a list of documents - (doc_id, tokens) \n",
    "        Output: An inverted index implemented within a pyhton dictionary: [token] -> [(doc_id, token_count)]\n",
    "    \"\"\"\n",
    "    # YOUR CODE HERE\n",
    "    index = defaultdict(list)\n",
    "    for (doc_id, tokens) in documents:\n",
    "        doc_id = int(doc_id)\n",
    "        seen_tks = {}\n",
    "        for tk in tokens:\n",
    "            new_tk = tk not in index\n",
    "            if new_tk:\n",
    "                index[tk] = []\n",
    "            if tk not in seen_tks:\n",
    "                index[tk].append([doc_id, 1])\n",
    "                seen_tks[tk] = True\n",
    "            else:\n",
    "                index[tk][-1][1] += 1\n",
    "    return index"
   ]
  },
  {
   "cell_type": "markdown",
   "metadata": {
    "deletable": false,
    "editable": false,
    "nbgrader": {
     "cell_type": "markdown",
     "checksum": "15e7041b4323d2a290322de538ff7670",
     "grade": false,
     "grade_id": "cell-093aebfa504f96f2",
     "locked": true,
     "schema_version": 3,
     "solution": false,
     "task": false
    }
   },
   "source": [
    "---\n",
    "Now we can build indexed documents and preprocess the queries based on the two configurations:"
   ]
  },
  {
   "cell_type": "code",
   "execution_count": 20,
   "metadata": {
    "deletable": false,
    "editable": false,
    "nbgrader": {
     "cell_type": "code",
     "checksum": "e27540c1d8d77a3779a05f557f3f40c6",
     "grade": false,
     "grade_id": "cell-b2ff1676348b90a8",
     "locked": true,
     "schema_version": 3,
     "solution": false,
     "task": false
    }
   },
   "outputs": [],
   "source": [
    "#### Indexed documents based on the two configs\n",
    "\n",
    "# Create the 2 indices\n",
    "tf_index_1 = build_tf_index(doc_repr_1)\n",
    "tf_index_2 = build_tf_index(doc_repr_2)\n",
    "\n",
    "# This function returns the tf_index of the corresponding config\n",
    "def get_index(index_set):\n",
    "    assert index_set in {1, 2}\n",
    "    return {\n",
    "        1: tf_index_1,\n",
    "        2: tf_index_2\n",
    "    }[index_set]\n",
    "\n",
    "####\n",
    "#### Preprocessed query based on the two configs\n",
    "\n",
    "# This function preprocesses the text given the index set, according to the specified config\n",
    "def preprocess_query(text, index_set):\n",
    "    assert index_set in {1, 2}\n",
    "    if index_set == 1:\n",
    "        return process_text(text, **config_1)\n",
    "    elif index_set == 2:\n",
    "        return process_text(text, **config_2)\n",
    "\n",
    "#### "
   ]
  },
  {
   "cell_type": "code",
   "execution_count": 21,
   "metadata": {
    "deletable": false,
    "editable": false,
    "nbgrader": {
     "cell_type": "code",
     "checksum": "f0cbc8703e1248cd6edf03f9019b69db",
     "grade": true,
     "grade_id": "cell-fc7c7232d5d2ee46",
     "locked": true,
     "points": 5,
     "schema_version": 3,
     "solution": false,
     "task": false
    }
   },
   "outputs": [
    {
     "name": "stdout",
     "output_type": "stream",
     "text": [
      "sample tf index for computer: [[4, 1], [7, 1], [10, 1], [13, 1], [19, 1], [22, 1], [23, 1], [37, 1], [40, 3], [41, 1]]\n",
      "sample tf index for examples: [[111, 1], [320, 1], [644, 1], [691, 1], [727, 1], [848, 1], [892, 1], [893, 1], [1049, 1], [1051, 1]]\n"
     ]
    }
   ],
   "source": [
    "##### Function check\n",
    "\n",
    "assert isinstance(tf_index_1, dict)\n",
    "\n",
    "assert isinstance(tf_index_1['computer'], list)\n",
    "print('sample tf index for computer:', tf_index_1['computer'][:10])\n",
    "\n",
    "assert isinstance(tf_index_1['examples'], list)\n",
    "print('sample tf index for examples:', tf_index_1['examples'][:10])\n",
    "#### "
   ]
  },
  {
   "cell_type": "code",
   "execution_count": 22,
   "metadata": {
    "deletable": false,
    "editable": false,
    "nbgrader": {
     "cell_type": "code",
     "checksum": "d49b8ac36815d9a5cb4bed838ab53a50",
     "grade": true,
     "grade_id": "cell-ff06bd11204db250",
     "locked": true,
     "points": 5,
     "schema_version": 3,
     "solution": false,
     "task": false
    }
   },
   "outputs": [
    {
     "name": "stdout",
     "output_type": "stream",
     "text": [
      "sample tf index for computer: [[4, 1], [7, 1], [10, 1], [13, 1], [19, 1], [22, 1], [23, 1], [37, 1], [40, 3], [41, 1]]\n",
      "sample tf index for examples: []\n"
     ]
    }
   ],
   "source": [
    "##### Function check\n",
    "\n",
    "assert isinstance(tf_index_2, dict)\n",
    "\n",
    "assert isinstance(tf_index_2['computer'], list)\n",
    "print('sample tf index for computer:', tf_index_1['computer'][:10])\n",
    "\n",
    "assert isinstance(tf_index_2['examples'], list)\n",
    "print('sample tf index for examples:', tf_index_2['examples'][:10])\n",
    "#### "
   ]
  },
  {
   "cell_type": "markdown",
   "metadata": {
    "deletable": false,
    "editable": false,
    "nbgrader": {
     "cell_type": "markdown",
     "checksum": "880b2ef3ca405f2af6e0667d2dc7a600",
     "grade": false,
     "grade_id": "cell-89eba71f04310291",
     "locked": true,
     "schema_version": 3,
     "solution": false,
     "task": false
    }
   },
   "source": [
    "\n",
    "---\n",
    "## Section 3: Ranking  (80 points) <a class=\"anchor\" id=\"ranking\"></a>\n",
    "\n",
    "[Back to Part 1](#part1)\n",
    "\n",
    "Now that we have cleaned and processed our dataset, we can start building simple IR systems. \n",
    "\n",
    "For now, we consider *simple* IR systems, which involve computing scores from the tokens present in the document/query. More advanced methods are covered in later assignments.\n",
    "\n",
    "We will implement the following methods in this section:\n",
    "- [Section 3.1: Bag of Words](#bow) (10 points)\n",
    "- [Section 3.2: TF-IDF](#tfidf) (15 points)\n",
    "- [Section 3.3: Query Likelihood Model](#qlm) (35 points)\n",
    "- [Section 3.4: BM25](#bm25) (20 points)\n",
    "\n",
    "*All search functions should be able to handle multiple words queries.*\n",
    "\n",
    "**Scoring policy:**\n",
    "Your implementations in this section are scored based on the expected performance of your ranking functions.\n",
    "You will get a full mark if your implementation meets the expected performance (measured by some evaluation metric).\n",
    "Otherwise, you may get partial credit.\n",
    "For example, if your *Bag of words* ranking function has 60% of expected performance, you will get 6 out of 10."
   ]
  },
  {
   "cell_type": "markdown",
   "metadata": {
    "deletable": false,
    "editable": false,
    "nbgrader": {
     "cell_type": "markdown",
     "checksum": "6c74e5061917358300c6e8085ec07864",
     "grade": false,
     "grade_id": "cell-3daf70a60e393adf",
     "locked": true,
     "schema_version": 3,
     "solution": false,
     "task": false
    }
   },
   "source": [
    "--- \n",
    "\n",
    "### Section 3.1: Bag of Words (10 points)<a class=\"anchor\" id=\"bow\"></a>\n",
    "\n",
    "Probably the simplest IR model is the Bag of Words (BOW) model.\n",
    "Implement a function that scores and ranks all the documents against a query using this model.   \n",
    "\n",
    "- For consistency, you should use the count of the token and **not** the binary indicator.\n",
    "- Use `float` type for the scores (even though the scores are integers in this case).\n",
    "- No normalization of the scores is necessary, as the ordering is what we are interested in.\n",
    "- If two documents have the same score, they can have any ordering: you are not required to disambiguate.\n"
   ]
  },
  {
   "cell_type": "code",
   "execution_count": 23,
   "metadata": {
    "deletable": false,
    "nbgrader": {
     "cell_type": "code",
     "checksum": "fee4640e22bfc4f05eb958a675ef40e7",
     "grade": false,
     "grade_id": "cell-de9cf0459c4b9324",
     "locked": false,
     "schema_version": 3,
     "solution": true,
     "task": false
    }
   },
   "outputs": [],
   "source": [
    "# TODO: Implement this! (10 points)\n",
    "\n",
    "def dict_to_arr(d, descending=True):\n",
    "    arr = []\n",
    "    for (k, _) in doc_repr_1:\n",
    "         arr.append([k, 0. if int(k) not in d else d[int(k)]])\n",
    "    return sorted(arr, key=lambda x: x[1], reverse=descending)\n",
    "def bow_search(query, index_set):\n",
    "    \"\"\"\n",
    "        Perform a search over all documents with the given query. \n",
    "        Note: You have to use the `get_index` function created in the previous cells\n",
    "        Input: \n",
    "            query - a (unprocessed) query\n",
    "            index_set - the index to use\n",
    "        Output: a list of (document_id, score), sorted in descending relevance to the given query. \n",
    "    \"\"\"\n",
    "    index = get_index(index_set)\n",
    "    processed_query = preprocess_query(query, index_set)\n",
    "    scores = {}\n",
    "    for q in processed_query:\n",
    "        if q not in index: continue\n",
    "        for (doc_id, freq) in index[q]:\n",
    "            if doc_id not in scores:\n",
    "                scores[doc_id] = float(freq)\n",
    "            else:\n",
    "                scores[doc_id] += freq\n",
    "    return dict_to_arr(scores)"
   ]
  },
  {
   "cell_type": "code",
   "execution_count": 24,
   "metadata": {
    "deletable": false,
    "editable": false,
    "nbgrader": {
     "cell_type": "code",
     "checksum": "613524fbbf02b1d122c6611a71fbf11b",
     "grade": true,
     "grade_id": "cell-9f6aceae6dd9125f",
     "locked": true,
     "points": 2,
     "schema_version": 3,
     "solution": false,
     "task": false
    }
   },
   "outputs": [],
   "source": [
    "#### Function check\n",
    "\n",
    "test_bow = bow_search(\"how to implement bag of words search\", index_set=1)[:5]\n",
    "assert isinstance(test_bow, list)\n",
    "assert len(test_bow[0]) == 2\n",
    "assert isinstance(test_bow[0][0], str)\n",
    "assert isinstance(test_bow[0][1], float)\n",
    "\n",
    "#### "
   ]
  },
  {
   "cell_type": "code",
   "execution_count": 25,
   "metadata": {
    "deletable": false,
    "editable": false,
    "nbgrader": {
     "cell_type": "code",
     "checksum": "9af20897659edb62fe77598483590500",
     "grade": true,
     "grade_id": "cell-4eed3abf233d9b58",
     "locked": true,
     "points": 2,
     "schema_version": 3,
     "solution": false,
     "task": false
    }
   },
   "outputs": [
    {
     "name": "stdout",
     "output_type": "stream",
     "text": [
      "BOW Results:\n",
      "Rank 0(1.3e+01): On Computing The Fast Fourier Transform\\nCooley an...\n",
      "Rank 1(1.2e+01): Variable Length Tree Structures Having Minimum Ave...\n",
      "Rank 2(1.1e+01): A Modular Computer Sharing System\\nAn alternative ...\n",
      "Rank 3(1e+01): PEEKABIT, Computer Offspring of Punched\\nCard PEEK...\n",
      "Rank 4(9.0): Computer Simulation-Discussion of the\\nTechnique a...\n"
     ]
    }
   ],
   "source": [
    "\n",
    "docs_by_id = dict(docs)\n",
    "def print_results(docs, len_limit=50):    \n",
    "    for i, (doc_id, score) in enumerate(docs):\n",
    "        doc_content = docs_by_id[doc_id].strip().replace(\"\\n\", \"\\\\n\")[:len_limit] + \"...\"\n",
    "        print(f\"Rank {i}({score:.2}): {doc_content}\")\n",
    "\n",
    "test_bow_2 = bow_search(\"computer search word\", index_set=2)[:5]\n",
    "print(f\"BOW Results:\")\n",
    "print_results(test_bow_2)\n"
   ]
  },
  {
   "cell_type": "code",
   "execution_count": 26,
   "metadata": {
    "deletable": false,
    "editable": false,
    "nbgrader": {
     "cell_type": "code",
     "checksum": "3c9c8b16c8e7d1032f101e9da8a6e845",
     "grade": true,
     "grade_id": "cell-4d65a2d7090c466c",
     "locked": true,
     "points": 3,
     "schema_version": 3,
     "solution": false,
     "task": false
    }
   },
   "outputs": [
    {
     "name": "stdout",
     "output_type": "stream",
     "text": [
      "BOW Results:\n",
      "Rank 0(9.0): CURRICULUM 68 -- Recommendations for Academic\\nPro...\n",
      "Rank 1(9.0): Variable Length Tree Structures Having Minimum Ave...\n",
      "Rank 2(7.0): Computer Formulation of the Equations of Motion Us...\n",
      "Rank 3(7.0): The Effects of Multiplexing on a Computer-Communic...\n",
      "Rank 4(6.0): Optimizing Bit-time Computer Simulation\\nA major c...\n"
     ]
    }
   ],
   "source": [
    "\n",
    "test_bow_1 = bow_search(\"computer search word\", index_set=1)[:5]\n",
    "print(f\"BOW Results:\")\n",
    "print_results(test_bow_1)\n"
   ]
  },
  {
   "cell_type": "code",
   "execution_count": 27,
   "metadata": {
    "deletable": false,
    "editable": false,
    "nbgrader": {
     "cell_type": "code",
     "checksum": "b7e593847aa4202ae45ec061fb18ad73",
     "grade": true,
     "grade_id": "cell-dedf36ab5853ce20",
     "locked": true,
     "points": 3,
     "schema_version": 3,
     "solution": false,
     "task": false
    }
   },
   "outputs": [
    {
     "name": "stdout",
     "output_type": "stream",
     "text": [
      "top-5 docs for index1: ('1771', '1936', '1543', '2535', '678')\n",
      "top-5 docs for index2: ('1525', '1936', '1844', '1700', '1366')\n"
     ]
    }
   ],
   "source": [
    "print('top-5 docs for index1:', list(zip(*test_bow_1[:5]))[0])\n",
    "print('top-5 docs for index2:', list(zip(*test_bow_2[:5]))[0])\n"
   ]
  },
  {
   "cell_type": "markdown",
   "metadata": {
    "deletable": false,
    "editable": false,
    "nbgrader": {
     "cell_type": "markdown",
     "checksum": "b04352ee0716dfdf094b8cdb6f32e984",
     "grade": false,
     "grade_id": "cell-a5c09c79ac1f2871",
     "locked": true,
     "schema_version": 3,
     "solution": false,
     "task": false
    }
   },
   "source": [
    "\n",
    "---\n",
    "\n",
    "### Section 3.2: TF-IDF (15 points) <a class=\"anchor\" id=\"tfidf\"></a>\n",
    "\n",
    "Before we implement the tf-idf scoring functions, let's first write a function to compute the document frequencies of all words.  \n",
    "\n",
    "#### 3.2.1 Document frequency (5 points)\n",
    "Compute the document frequencies of all tokens in the collection. \n",
    "Your code should return a dictionary with tokens as its keys and the number of documents containing the token as values.\n",
    "For consistency, the values should have `int` type."
   ]
  },
  {
   "cell_type": "code",
   "execution_count": 28,
   "metadata": {
    "deletable": false,
    "nbgrader": {
     "cell_type": "code",
     "checksum": "5c53263cf4c0b0ffcaae08b91fc364cc",
     "grade": false,
     "grade_id": "cell-9a2369f32e864b8a",
     "locked": false,
     "schema_version": 3,
     "solution": true,
     "task": false
    }
   },
   "outputs": [],
   "source": [
    "# TODO: Implement this! (5 points)\n",
    "def compute_df(documents):\n",
    "    \"\"\"\n",
    "        Compute the document frequency of all terms in the vocabulary\n",
    "        Input: A list of documents\n",
    "        Output: A dictionary with {token: document frequency (int)}\n",
    "    \"\"\"\n",
    "    # YOUR CODE HERE\n",
    "    df = {}\n",
    "    for doc in documents:\n",
    "        seen_tks = {}\n",
    "        for tk in doc:\n",
    "            if tk not in df:\n",
    "                df[tk] = 0\n",
    "            df[tk] += not tk in seen_tks\n",
    "            seen_tks[tk] = True\n",
    "    return df"
   ]
  },
  {
   "cell_type": "code",
   "execution_count": 29,
   "metadata": {
    "deletable": false,
    "editable": false,
    "nbgrader": {
     "cell_type": "code",
     "checksum": "154985511d7925c5793a1f97dea81880",
     "grade": false,
     "grade_id": "cell-4c3bddd0b73ac90e",
     "locked": true,
     "schema_version": 3,
     "solution": false,
     "task": false
    }
   },
   "outputs": [],
   "source": [
    "#### Compute df based on the two configs\n",
    "\n",
    "# get the document frequencies of each document\n",
    "df_1 = compute_df([d[1] for d in doc_repr_1])\n",
    "df_2 = compute_df([d[1] for d in doc_repr_2])\n",
    "\n",
    "def get_df(index_set):\n",
    "    assert index_set in {1, 2}\n",
    "    return {\n",
    "        1: df_1,\n",
    "        2: df_2\n",
    "    }[index_set]\n",
    "####"
   ]
  },
  {
   "cell_type": "code",
   "execution_count": 30,
   "metadata": {
    "deletable": false,
    "editable": false,
    "nbgrader": {
     "cell_type": "code",
     "checksum": "110cc180068cf3f77c682ee3de2a117c",
     "grade": true,
     "grade_id": "cell-79e8a6db1e5fc46f",
     "locked": true,
     "points": 5,
     "schema_version": 3,
     "solution": false,
     "task": false
    }
   },
   "outputs": [
    {
     "name": "stdout",
     "output_type": "stream",
     "text": [
      "597\n",
      "11\n"
     ]
    }
   ],
   "source": [
    "#### Function check\n",
    "\n",
    "print(df_1['computer'])\n",
    "print(df_2['computer'])\n",
    "####"
   ]
  },
  {
   "cell_type": "markdown",
   "metadata": {
    "deletable": false,
    "editable": false,
    "nbgrader": {
     "cell_type": "markdown",
     "checksum": "d0d577668fa51b80aeab6e67209ae73b",
     "grade": false,
     "grade_id": "cell-52f6acc487e1b96d",
     "locked": true,
     "schema_version": 3,
     "solution": false,
     "task": false
    }
   },
   "source": [
    "---\n",
    "#### 3.2.2 TF-IDF search (10 points)\n",
    "Next, implement a function that computes a tf-idf score, given a query.\n",
    "Use the following formulas for TF and IDF:\n",
    "\n",
    "$$ TF=\\log (1 + f_{d,t}) $$\n",
    "\n",
    "$$ IDF=\\log (\\frac{N}{n_t})$$\n",
    "\n",
    "where $f_{d,t}$ is the frequency of token $t$ in document $d$, $N$ is the number of total documents and $n_t$ is the number of documents containing token $t$.\n",
    "\n",
    "**Note:** your implementation will be auto-graded assuming you have used the above formulas.\n"
   ]
  },
  {
   "cell_type": "code",
   "execution_count": 31,
   "metadata": {
    "deletable": false,
    "nbgrader": {
     "cell_type": "code",
     "checksum": "3534c44b4a3419ca1db98eebe7115dc1",
     "grade": false,
     "grade_id": "cell-2fb5ba34b2994cd9",
     "locked": false,
     "schema_version": 3,
     "solution": true,
     "task": false
    }
   },
   "outputs": [],
   "source": [
    "# TODO: Implement this! (10 points)\n",
    "def tfidf_search(query, index_set):\n",
    "    \"\"\"\n",
    "        Perform a search over all documents with the given query using tf-idf. \n",
    "        Note #1: You have to use the `get_index` (and the `get_df`) function created in the previous cells\n",
    "        Input: \n",
    "            query - a (unprocessed) query\n",
    "            index_set - the index to use\n",
    "        Output: a list of (document_id, score), sorted in descending relevance to the given query \n",
    "    \"\"\"\n",
    "    index = get_index(index_set)\n",
    "    df = get_df(index_set)\n",
    "    processed_query = preprocess_query(query, index_set)\n",
    "    \n",
    "    N = len(docs)\n",
    "    \n",
    "    scores = {}\n",
    "    for q in processed_query:\n",
    "        if q not in index: continue\n",
    "        for (doc_id, freq) in index[q]:\n",
    "            tf = np.log(1 + freq)\n",
    "            idf = np.log(N/df[q])\n",
    "            if doc_id not in scores:\n",
    "                scores[doc_id] = 0\n",
    "            scores[doc_id] += tf*idf #question: correct to add tfidf score of each word?\n",
    "  \n",
    "    return dict_to_arr(scores)"
   ]
  },
  {
   "cell_type": "code",
   "execution_count": 32,
   "metadata": {
    "deletable": false,
    "editable": false,
    "nbgrader": {
     "cell_type": "code",
     "checksum": "7b66a514663d898694b09a23a597312b",
     "grade": true,
     "grade_id": "cell-bc68aeeacf42beb3",
     "locked": true,
     "points": 2,
     "schema_version": 3,
     "solution": false,
     "task": false
    }
   },
   "outputs": [],
   "source": [
    "\n",
    "#### Function check\n",
    "test_tfidf = tfidf_search(\"how to implement tf idf search\", index_set=1)[:5]\n",
    "assert isinstance(test_tfidf, list)\n",
    "assert len(test_tfidf[0]) == 2\n",
    "assert isinstance(test_tfidf[0][0], str)\n",
    "assert isinstance(test_tfidf[0][1], float)\n",
    "\n",
    "####"
   ]
  },
  {
   "cell_type": "code",
   "execution_count": 33,
   "metadata": {
    "deletable": false,
    "editable": false,
    "nbgrader": {
     "cell_type": "code",
     "checksum": "98fb1326cf4bf7983ae237ca8a9105f9",
     "grade": true,
     "grade_id": "cell-c7702fa8179fadb9",
     "locked": true,
     "points": 2,
     "schema_version": 3,
     "solution": false,
     "task": false
    }
   },
   "outputs": [
    {
     "name": "stdout",
     "output_type": "stream",
     "text": [
      "TFIDF Results:\n",
      "Rank 0(1.3e+01): PEEKABIT, Computer Offspring of Punched\\nCard PEEK...\n",
      "Rank 1(9.8): Variable Length Tree Structures Having Minimum Ave...\n",
      "Rank 2(8.2): A Stochastic Approach to the Grammatical Coding of...\n",
      "Rank 3(8.1): Full Table Quadratic Searching for Scatter Storage...\n",
      "Rank 4(7.6): Use of Tree Structures for Processing Files\\nIn da...\n"
     ]
    }
   ],
   "source": [
    "\n",
    "test_tfidf_2 = tfidf_search(\"computer word search\", index_set=2)[:5]\n",
    "print(f\"TFIDF Results:\")\n",
    "print_results(test_tfidf_2)\n"
   ]
  },
  {
   "cell_type": "code",
   "execution_count": 34,
   "metadata": {
    "deletable": false,
    "editable": false,
    "nbgrader": {
     "cell_type": "code",
     "checksum": "733b5b67be5e53989f5b763ce5e52ee9",
     "grade": true,
     "grade_id": "cell-3284f50ac29abbaa",
     "locked": true,
     "points": 3,
     "schema_version": 3,
     "solution": false,
     "task": false
    }
   },
   "outputs": [
    {
     "name": "stdout",
     "output_type": "stream",
     "text": [
      "TFIDF Results:\n",
      "Rank 0(9.4): Variable Length Tree Structures Having Minimum Ave...\n",
      "Rank 1(7.4): On the Feasibility of Voice Input to\\nan On-line C...\n",
      "Rank 2(7.3): Median Split Trees: A Fast Lookup Technique for Fr...\n",
      "Rank 3(7.0): Execution Time Requirements for Encipherment Progr...\n",
      "Rank 4(7.0): Storage and Search Properties of a Tree-Organized ...\n"
     ]
    }
   ],
   "source": [
    "\n",
    "test_tfidf_1 = tfidf_search(\"computer word search\", index_set=1)[:5]\n",
    "print(f\"TFIDF Results:\")\n",
    "print_results(test_tfidf_1)\n"
   ]
  },
  {
   "cell_type": "code",
   "execution_count": 35,
   "metadata": {
    "deletable": false,
    "editable": false,
    "nbgrader": {
     "cell_type": "code",
     "checksum": "e0edb37a5ae807a2de85d578c87ccb78",
     "grade": true,
     "grade_id": "cell-d908c80a3155354b",
     "locked": true,
     "points": 3,
     "schema_version": 3,
     "solution": false,
     "task": false
    }
   },
   "outputs": [
    {
     "name": "stdout",
     "output_type": "stream",
     "text": [
      "top-5 docs for index1 with BOW search: ('1771', '1936', '1543', '2535', '678')\n",
      "top-5 docs for index2 with BOW search: ('1525', '1936', '1844', '1700', '1366')\n",
      "top-5 docs for index1 with TF-IDF search: ('1936', '2054', '3041', '2620', '944')\n",
      "top-5 docs for index2 with TF-IDF search: ('1700', '1936', '1235', '2018', '849')\n"
     ]
    }
   ],
   "source": [
    "\n",
    "print('top-5 docs for index1 with BOW search:', list(zip(*test_bow_1[:5]))[0])\n",
    "print('top-5 docs for index2 with BOW search:', list(zip(*test_bow_2[:5]))[0])\n",
    "print('top-5 docs for index1 with TF-IDF search:', list(zip(*test_tfidf_1[:5]))[0])\n",
    "print('top-5 docs for index2 with TF-IDF search:', list(zip(*test_tfidf_2[:5]))[0])\n",
    "\n"
   ]
  },
  {
   "cell_type": "markdown",
   "metadata": {
    "deletable": false,
    "editable": false,
    "nbgrader": {
     "cell_type": "markdown",
     "checksum": "cdffc83f0eaea937cf64a212e7e9af8d",
     "grade": false,
     "grade_id": "cell-f5d923459ba21733",
     "locked": true,
     "schema_version": 3,
     "solution": false,
     "task": false
    }
   },
   "source": [
    "--- \n",
    "\n",
    "### Section 3.3: Query Likelihood Model (35 points) <a class=\"anchor\" id=\"qlm\"></a>\n",
    "\n",
    "In this section, you will implement a simple query likelihood model. \n",
    "\n",
    "\n",
    "#### 3.3.1 Naive QL (15 points)\n",
    "\n",
    "First, let us implement a naive version of a QL model, assuming a multinomial unigram language model (with a uniform prior over the documents). \n",
    "\n"
   ]
  },
  {
   "cell_type": "code",
   "execution_count": 36,
   "metadata": {
    "deletable": false,
    "editable": false,
    "nbgrader": {
     "cell_type": "code",
     "checksum": "b7ae2b7d818b428b4638c1c9206d2aca",
     "grade": false,
     "grade_id": "cell-98505778f7b68e7f",
     "locked": true,
     "schema_version": 3,
     "solution": false,
     "task": false
    }
   },
   "outputs": [],
   "source": [
    "#### Document length for normalization\n",
    "\n",
    "def doc_lengths(documents):\n",
    "    doc_lengths = {doc_id:len(doc) for (doc_id, doc) in documents}\n",
    "    return doc_lengths\n",
    "\n",
    "doc_lengths_1 = doc_lengths(doc_repr_1)\n",
    "doc_lengths_2 = doc_lengths(doc_repr_2)\n",
    "\n",
    "def get_doc_lengths(index_set):\n",
    "    assert index_set in {1, 2}\n",
    "    return {\n",
    "        1: doc_lengths_1,\n",
    "        2: doc_lengths_2\n",
    "    }[index_set]\n",
    "####"
   ]
  },
  {
   "cell_type": "code",
   "execution_count": 37,
   "metadata": {
    "deletable": false,
    "nbgrader": {
     "cell_type": "code",
     "checksum": "cedd08303a914243fefdb6b876977ca1",
     "grade": false,
     "grade_id": "cell-8bcf2b804d636c2e",
     "locked": false,
     "schema_version": 3,
     "solution": true,
     "task": false
    }
   },
   "outputs": [],
   "source": [
    "# TODO: Implement this! (15 points)\n",
    "def naive_ql_search(query, index_set):\n",
    "    \"\"\"\n",
    "        Perform a search over all documents with the given query using a naive QL model. \n",
    "        Note #1: You have to use the `get_index` (and get_doc_lengths) function created in the previous cells\n",
    "        Input: \n",
    "            query - a (unprocessed) query\n",
    "            index_set - the index to use\n",
    "        Output: a list of (document_id, score), sorted in descending relevance to the given query \n",
    "    \"\"\"\n",
    "    index = get_index(index_set)\n",
    "    doc_lengths = get_doc_lengths(index_set)\n",
    "    processed_query = preprocess_query(query, index_set)\n",
    "    scores = {}\n",
    "    for q in processed_query:\n",
    "        if q not in index: continue\n",
    "        for (doc_id, freq) in index[q]:\n",
    "            if doc_id not in scores:\n",
    "                scores[doc_id] = 1\n",
    "            scores[doc_id] *= freq/doc_lengths[str(doc_id)]\n",
    "    return dict_to_arr(scores)"
   ]
  },
  {
   "cell_type": "code",
   "execution_count": 38,
   "metadata": {
    "deletable": false,
    "editable": false,
    "nbgrader": {
     "cell_type": "code",
     "checksum": "b550d15bdad28354c336020a00c33d56",
     "grade": true,
     "grade_id": "cell-5a83ac12ecde8578",
     "locked": true,
     "points": 3,
     "schema_version": 3,
     "solution": false,
     "task": false
    }
   },
   "outputs": [
    {
     "name": "stdout",
     "output_type": "stream",
     "text": [
      "Naive QL Results:\n",
      "Rank 0(0.2): A Report Writer For COBOL...\n",
      "Rank 1(0.2): A CRT Report Generating System...\n",
      "Rank 2(0.17): Preliminary Report-International Algebraic Languag...\n",
      "Rank 3(0.17): Supplement to the ALGOL 60 Report...\n",
      "Rank 4(0.14): ALGOL Sub-Committee Report - Extensions...\n"
     ]
    }
   ],
   "source": [
    "#### Function check\n",
    "test_naiveql = naive_ql_search(\"report\", index_set=1)[:5]\n",
    "print(f\"Naive QL Results:\")\n",
    "print_results(test_naiveql)\n",
    "####"
   ]
  },
  {
   "cell_type": "code",
   "execution_count": 39,
   "metadata": {
    "deletable": false,
    "editable": false,
    "nbgrader": {
     "cell_type": "code",
     "checksum": "799df1d81c63fe90edbb6c218fc707fb",
     "grade": true,
     "grade_id": "cell-80f4bf2137f997bb",
     "locked": true,
     "points": 2,
     "schema_version": 3,
     "solution": false,
     "task": false
    }
   },
   "outputs": [],
   "source": [
    "#### Please do not change this. This cell is used for grading."
   ]
  },
  {
   "cell_type": "code",
   "execution_count": 40,
   "metadata": {
    "deletable": false,
    "editable": false,
    "nbgrader": {
     "cell_type": "code",
     "checksum": "875a4a517d27e20625d41783cebec118",
     "grade": true,
     "grade_id": "cell-5ce2993458a8ce51",
     "locked": true,
     "points": 3,
     "schema_version": 3,
     "solution": false,
     "task": false
    }
   },
   "outputs": [],
   "source": [
    "#### Please do not change this. This cell is used for grading."
   ]
  },
  {
   "cell_type": "code",
   "execution_count": 41,
   "metadata": {
    "deletable": false,
    "editable": false,
    "nbgrader": {
     "cell_type": "code",
     "checksum": "d5c4e1c3852e71a46f32825b122f1b71",
     "grade": true,
     "grade_id": "cell-7753bdb54e292f3d",
     "locked": true,
     "points": 3,
     "schema_version": 3,
     "solution": false,
     "task": false
    }
   },
   "outputs": [],
   "source": [
    "#### Please do not change this. This cell is used for grading."
   ]
  },
  {
   "cell_type": "code",
   "execution_count": 42,
   "metadata": {
    "deletable": false,
    "editable": false,
    "nbgrader": {
     "cell_type": "code",
     "checksum": "c4d4332d4356e89ce0240f6b80e1899a",
     "grade": true,
     "grade_id": "cell-54e476e2f96e64bb",
     "locked": true,
     "points": 4,
     "schema_version": 3,
     "solution": false,
     "task": false
    }
   },
   "outputs": [],
   "source": [
    "#### Please do not change this. This cell is used for grading."
   ]
  },
  {
   "cell_type": "markdown",
   "metadata": {
    "deletable": false,
    "editable": false,
    "nbgrader": {
     "cell_type": "markdown",
     "checksum": "8d739dc91a22bd48897f603885f95a74",
     "grade": false,
     "grade_id": "cell-5414dfd69dab8b94",
     "locked": true,
     "schema_version": 3,
     "solution": false,
     "task": false
    }
   },
   "source": [
    "---\n",
    "#### 3.3.2 QL (20 points)\n",
    "Now, let's implement a QL model that handles the issues with the naive version. In particular, you will implement a QL model with Jelinek-Mercer Smoothing. That means an interpolated score is computed per word - one term is the same as the previous naive version, and the second term comes from a unigram language model. In addition, you should accumulate the scores by summing the **log** (smoothed) probability which leads to better numerical stability."
   ]
  },
  {
   "cell_type": "code",
   "execution_count": 43,
   "metadata": {
    "deletable": false,
    "nbgrader": {
     "cell_type": "code",
     "checksum": "b8c6abf937ad333e628f1db891f2e29e",
     "grade": false,
     "grade_id": "cell-bb1f506409771257",
     "locked": false,
     "schema_version": 3,
     "solution": true,
     "task": false
    }
   },
   "outputs": [],
   "source": [
    "# TODO: Implement this! (20 points)\n",
    "\n",
    "# YOUR CODE HERE\n",
    "# raise NotImplementedError()\n",
    "\n",
    "def ql_search(query, index_set):\n",
    "    \"\"\"\n",
    "        Perform a search over all documents with the given query using a QL model \n",
    "        with Jelinek-Mercer Smoothing (set smoothing=0.1). \n",
    "        \n",
    "        \n",
    "        Note #1: You have to use the `get_index` (and get_doc_lengths) function created in the previous cells\n",
    "        Note #2: You might have to create some variables beforehand and use them in this function\n",
    "        \n",
    "        \n",
    "        Input: \n",
    "            query - a (unprocessed) query\n",
    "            index_set - the index to use\n",
    "        Output: a list of (document_id, score), sorted in descending relevance to the given query \n",
    "    \"\"\"\n",
    "    index = get_index(index_set)\n",
    "    doc_lengths = get_doc_lengths(index_set)\n",
    "    processed_query = preprocess_query(query, index_set)\n",
    "    scores = {}\n",
    "    N = sum(doc_lengths.values())        \n",
    "    \n",
    "    for q in processed_query:\n",
    "        seen = {int(key): False for key in doc_lengths.keys()}\n",
    "        n = sum([x[1] for x in index[q]])\n",
    "        if q in index:\n",
    "            for (doc_id, freq) in index[q]:\n",
    "                D = doc_lengths[str(doc_id)]\n",
    "                if doc_id not in scores:\n",
    "                    scores[doc_id] = 0\n",
    "                scores[doc_id] += np.log(0.9*freq/D + 0.1*n/N)\n",
    "                seen[doc_id] = True\n",
    "        for k in seen.keys():\n",
    "            if not seen[k]:\n",
    "                if k not in scores:\n",
    "                    scores[k] = 0\n",
    "                scores[k] += np.log(1e-20)\n",
    "    return dict_to_arr(scores)"
   ]
  },
  {
   "cell_type": "code",
   "execution_count": 44,
   "metadata": {
    "deletable": false,
    "editable": false,
    "nbgrader": {
     "cell_type": "code",
     "checksum": "0b12a7f3355193a257fd9f5f69a66562",
     "grade": true,
     "grade_id": "cell-850e9d6369bcec32",
     "locked": true,
     "points": 4,
     "schema_version": 3,
     "solution": false,
     "task": false
    }
   },
   "outputs": [
    {
     "name": "stdout",
     "output_type": "stream",
     "text": [
      "Rank 0(-1.7): A Report Writer For COBOL...\n",
      "Rank 1(-1.7): A CRT Report Generating System...\n",
      "Rank 2(-1.9): Preliminary Report-International Algebraic Languag...\n",
      "Rank 3(-1.9): Supplement to the ALGOL 60 Report...\n",
      "Rank 4(-2.1): ALGOL Sub-Committee Report - Extensions...\n",
      "\n",
      "Rank 0(-1.7e+01): A Report Writer For COBOL...\n",
      "Rank 1(-1.7e+01): A CRT Report Generating System...\n",
      "Rank 2(-1.9e+01): Preliminary Report-International Algebraic Languag...\n",
      "Rank 3(-1.9e+01): Supplement to the ALGOL 60 Report...\n",
      "Rank 4(-2.1e+01): ALGOL Sub-Committee Report - Extensions...\n"
     ]
    }
   ],
   "source": [
    "#### Function check\n",
    "test_ql_results = ql_search(\"report\", index_set=1)[:5]\n",
    "print_results(test_ql_results)\n",
    "print()\n",
    "test_ql_results_long = ql_search(\"report \" * 10, index_set=1)[:5]\n",
    "print_results(test_ql_results_long)\n",
    "####"
   ]
  },
  {
   "cell_type": "code",
   "execution_count": 45,
   "metadata": {
    "deletable": false,
    "editable": false,
    "nbgrader": {
     "cell_type": "code",
     "checksum": "e40be645140389c115849856145f5b59",
     "grade": true,
     "grade_id": "cell-958cdcf6fd6899b7",
     "locked": true,
     "points": 3,
     "schema_version": 3,
     "solution": false,
     "task": false
    }
   },
   "outputs": [],
   "source": [
    "#### Please do not change this. This cell is used for grading."
   ]
  },
  {
   "cell_type": "code",
   "execution_count": 46,
   "metadata": {
    "deletable": false,
    "editable": false,
    "nbgrader": {
     "cell_type": "code",
     "checksum": "41d4aff001df17e7963ba79b45810b30",
     "grade": true,
     "grade_id": "cell-384dc23a0c251f6e",
     "locked": true,
     "points": 4,
     "schema_version": 3,
     "solution": false,
     "task": false
    }
   },
   "outputs": [],
   "source": [
    "#### Please do not change this. This cell is used for grading."
   ]
  },
  {
   "cell_type": "code",
   "execution_count": 47,
   "metadata": {
    "deletable": false,
    "editable": false,
    "nbgrader": {
     "cell_type": "code",
     "checksum": "893e8c5a073abc8ebb763d267b91bc02",
     "grade": true,
     "grade_id": "cell-7218966cba5097cc",
     "locked": true,
     "points": 4,
     "schema_version": 3,
     "solution": false,
     "task": false
    }
   },
   "outputs": [],
   "source": [
    "#### Please do not change this. This cell is used for grading."
   ]
  },
  {
   "cell_type": "code",
   "execution_count": 48,
   "metadata": {
    "deletable": false,
    "editable": false,
    "nbgrader": {
     "cell_type": "code",
     "checksum": "f99cb6f8b1f5830aaed8f06712ff846e",
     "grade": true,
     "grade_id": "cell-481ab073259ae53f",
     "locked": true,
     "points": 5,
     "schema_version": 3,
     "solution": false,
     "task": false
    }
   },
   "outputs": [],
   "source": [
    "#### Please do not change this. This cell is used for grading."
   ]
  },
  {
   "cell_type": "markdown",
   "metadata": {
    "deletable": false,
    "editable": false,
    "nbgrader": {
     "cell_type": "markdown",
     "checksum": "c02f14705d679579b1aa9f78f54779d5",
     "grade": false,
     "grade_id": "cell-f44088bfdac1dc90",
     "locked": true,
     "schema_version": 3,
     "solution": false,
     "task": false
    }
   },
   "source": [
    "--- \n",
    "\n",
    "### Section 3.4: BM25 (20 points) <a class=\"anchor\" id=\"bm25\"></a>\n",
    "\n",
    "In this section, we will implement the BM25 scoring function. \n"
   ]
  },
  {
   "cell_type": "code",
   "execution_count": 49,
   "metadata": {
    "deletable": false,
    "nbgrader": {
     "cell_type": "code",
     "checksum": "e57efe06ea92af1c83784a42eb3d86e0",
     "grade": false,
     "grade_id": "cell-15640fc9b5d00a3c",
     "locked": false,
     "schema_version": 3,
     "solution": true,
     "task": false
    }
   },
   "outputs": [],
   "source": [
    "# TODO: Implement this! (20 points)\n",
    "def bm25_search(query, index_set):\n",
    "    \"\"\"\n",
    "        Perform a search over all documents with the given query using BM25. Use k_1 = 1.5 and b = 0.75\n",
    "        Note #1: You have to use the `get_index` (and `get_doc_lengths`) function created in the previous cells\n",
    "        Note #2: You might have to create some variables beforehand and use them in this function\n",
    "        \n",
    "        Input: \n",
    "            query - a (unprocessed) query\n",
    "            index_set - the index to use\n",
    "        Output: a list of (document_id, score), sorted in descending relevance to the given query \n",
    "    \"\"\"\n",
    "    k_1 = 1.5\n",
    "    b = 0.75\n",
    "    index = get_index(index_set)\n",
    "    df = get_df(index_set)\n",
    "    doc_lengths = get_doc_lengths(index_set)\n",
    "    processed_query = preprocess_query(query, index_set)\n",
    "    scores = {}\n",
    "    vals = doc_lengths.values()\n",
    "    N = len(vals)\n",
    "    dl_avg = sum(vals)/len(vals)\n",
    "    for q in processed_query:\n",
    "        if q not in index: continue\n",
    "        for (doc_id, freq) in index[q]:\n",
    "            if doc_id not in scores:\n",
    "                scores[doc_id] = 0\n",
    "            scores[doc_id] += np.log(N/df[q])*(k_1+1)*freq/(k_1*(1-b + b*doc_lengths[str(doc_id)]/dl_avg)+freq)\n",
    "    return dict_to_arr(scores)"
   ]
  },
  {
   "cell_type": "code",
   "execution_count": 50,
   "metadata": {
    "deletable": false,
    "editable": false,
    "nbgrader": {
     "cell_type": "code",
     "checksum": "4be9de5d4e94637960d83725422bea6c",
     "grade": true,
     "grade_id": "cell-d10536bca72c74b1",
     "locked": true,
     "points": 3,
     "schema_version": 3,
     "solution": false,
     "task": false
    }
   },
   "outputs": [
    {
     "name": "stdout",
     "output_type": "stream",
     "text": [
      "Rank 0(6.7): A Report Writer For COBOL...\n",
      "Rank 1(6.7): A CRT Report Generating System...\n",
      "Rank 2(6.6): Preliminary Report-International Algebraic Languag...\n",
      "Rank 3(6.6): Supplement to the ALGOL 60 Report...\n",
      "Rank 4(6.5): ALGOL Sub-Committee Report - Extensions...\n"
     ]
    }
   ],
   "source": [
    "#### Function check\n",
    "test_bm25_results = bm25_search(\"report\", index_set=1)[:5]\n",
    "print_results(test_bm25_results)\n",
    "####"
   ]
  },
  {
   "cell_type": "code",
   "execution_count": 51,
   "metadata": {
    "deletable": false,
    "editable": false,
    "nbgrader": {
     "cell_type": "code",
     "checksum": "31b550d6a46ae4f8ede88788799ac2b9",
     "grade": true,
     "grade_id": "cell-60f6ec5052712d79",
     "locked": true,
     "points": 5,
     "schema_version": 3,
     "solution": false,
     "task": false
    }
   },
   "outputs": [],
   "source": [
    "#### Please do not change this. This cell is used for grading."
   ]
  },
  {
   "cell_type": "code",
   "execution_count": 52,
   "metadata": {
    "deletable": false,
    "editable": false,
    "nbgrader": {
     "cell_type": "code",
     "checksum": "3da2ec16bfe781916e71755d65aa2983",
     "grade": true,
     "grade_id": "cell-5d17524043a5abcc",
     "locked": true,
     "points": 5,
     "schema_version": 3,
     "solution": false,
     "task": false
    }
   },
   "outputs": [],
   "source": [
    "#### Please do not change this. This cell is used for grading."
   ]
  },
  {
   "cell_type": "code",
   "execution_count": 53,
   "metadata": {
    "deletable": false,
    "editable": false,
    "nbgrader": {
     "cell_type": "code",
     "checksum": "e7b563d54fa84c20909c0ae107010541",
     "grade": true,
     "grade_id": "cell-ff8e704eda1184e3",
     "locked": true,
     "points": 3,
     "schema_version": 3,
     "solution": false,
     "task": false
    }
   },
   "outputs": [],
   "source": [
    "#### Please do not change this. This cell is used for grading."
   ]
  },
  {
   "cell_type": "code",
   "execution_count": 54,
   "metadata": {
    "deletable": false,
    "editable": false,
    "nbgrader": {
     "cell_type": "code",
     "checksum": "b013f90974b396630a8831d6f1d7e5f7",
     "grade": true,
     "grade_id": "cell-a52310500a2543cb",
     "locked": true,
     "points": 4,
     "schema_version": 3,
     "solution": false,
     "task": false
    }
   },
   "outputs": [],
   "source": [
    "#### Please do not change this. This cell is used for grading."
   ]
  },
  {
   "cell_type": "markdown",
   "metadata": {
    "deletable": false,
    "editable": false,
    "nbgrader": {
     "cell_type": "markdown",
     "checksum": "8fcf67cb7d5e8b26cb9bf1f0aa42c847",
     "grade": false,
     "grade_id": "cell-8b2b412c81d62f2d",
     "locked": true,
     "schema_version": 3,
     "solution": false,
     "task": false
    }
   },
   "source": [
    "\n",
    "---\n",
    "\n",
    "### 3.5. Test Your Functions\n",
    "\n",
    "The widget below allows you to play with the search functions you've written so far. Use this to test your search functions and ensure that they work as expected."
   ]
  },
  {
   "cell_type": "code",
   "execution_count": 55,
   "metadata": {
    "deletable": false,
    "editable": false,
    "nbgrader": {
     "cell_type": "code",
     "checksum": "dfeb204b390acc0794dbdcac92b0cf2c",
     "grade": false,
     "grade_id": "cell-c9c2bb76354e8d97",
     "locked": true,
     "schema_version": 3,
     "solution": false,
     "task": false
    }
   },
   "outputs": [],
   "source": [
    "#### Highlighter function\n",
    "# class for results\n",
    "ResultRow = namedtuple(\"ResultRow\", [\"doc_id\", \"snippet\", \"score\"])\n",
    "# doc_id -> doc\n",
    "docs_by_id = dict((d[0], d[1]) for d in docs)\n",
    "\n",
    "def highlight_text(document, query, tol=17):\n",
    "    import re\n",
    "    tokens = tokenize(query)\n",
    "    regex = \"|\".join(f\"(\\\\b{t}\\\\b)\" for t in tokens)\n",
    "    regex = re.compile(regex, flags=re.IGNORECASE)\n",
    "    output = \"\"\n",
    "    i = 0\n",
    "    for m in regex.finditer(document):\n",
    "        start_idx = max(0, m.start() - tol)\n",
    "        end_idx = min(len(document), m.end() + tol)\n",
    "        output += \"\".join([\"...\",\n",
    "                        document[start_idx:m.start()],\n",
    "                        \"<strong>\",\n",
    "                        document[m.start():m.end()],\n",
    "                        \"</strong>\",\n",
    "                        document[m.end():end_idx],\n",
    "                        \"...\"])\n",
    "    return output.replace(\"\\n\", \" \")\n",
    "\n",
    "\n",
    "def make_results(query, search_fn, index_set):\n",
    "    results = []\n",
    "    for doc_id, score in search_fn(query, index_set):\n",
    "        highlight = highlight_text(docs_by_id[doc_id], query)\n",
    "        if len(highlight.strip()) == 0:\n",
    "            highlight = docs_by_id[doc_id]\n",
    "        results.append(ResultRow(doc_id, highlight, score))\n",
    "    return results\n",
    "####"
   ]
  },
  {
   "cell_type": "code",
   "execution_count": 56,
   "metadata": {},
   "outputs": [
    {
     "data": {
      "application/vnd.jupyter.widget-view+json": {
       "model_id": "dc6e44b0fc1247fda0a932a4cede6eb4",
       "version_major": 2,
       "version_minor": 0
      },
      "text/plain": [
       "Text(value='', description='Search Bar')"
      ]
     },
     "metadata": {},
     "output_type": "display_data"
    }
   ],
   "source": [
    "# TODO: Set this to the function you want to test!\n",
    "# this function should take in a query (string)\n",
    "# and return a sorted list of (doc_id, score) \n",
    "# with the most relevant document in the first position\n",
    "search_fn = bm25_search\n",
    "index_set = 1\n",
    "\n",
    "text = widgets.Text(description=\"Search Bar\", width=200)\n",
    "display(text)\n",
    "\n",
    "def handle_submit(sender):\n",
    "    print(f\"Searching for: '{sender.value}'\")\n",
    "    \n",
    "    results = make_results(sender.value, search_fn, index_set)\n",
    "    \n",
    "    # display only the top 5\n",
    "    results = results[:5]\n",
    "    \n",
    "    body = \"\"\n",
    "    for idx, r in enumerate(results):\n",
    "        body += f\"<li>Document #{r.doc_id}({r.score}): {r.snippet}</li>\"\n",
    "    display(HTML(f\"<ul>{body}</ul>\"))\n",
    "    \n",
    "\n",
    "text.on_submit(handle_submit)"
   ]
  },
  {
   "cell_type": "markdown",
   "metadata": {
    "deletable": false,
    "editable": false,
    "nbgrader": {
     "cell_type": "markdown",
     "checksum": "019b1ff878dc6339dd068e2d48d19904",
     "grade": false,
     "grade_id": "cell-8d46fe8e4f3d8cdb",
     "locked": true,
     "schema_version": 3,
     "solution": false,
     "task": false
    }
   },
   "source": [
    "---\n",
    "\n",
    "## Section 4: Evaluation (40 points) <a class=\"anchor\" id=\"evaluation\"></a>\n",
    "\n",
    "[Back to Part 1](#part1)\n",
    "\n",
    "In order to analyze the effectiveness of retrieval algorithms, we first have to learn how to evaluate such a system. In particular, we will work with offline evaluation metrics. These metrics are computed on a dataset with known relevance judgements.\n",
    "\n",
    "Implement the following evaluation metrics. \n",
    "\n",
    "1. Precision (7 points)\n",
    "2. Recall (7 points)\n",
    "3. Mean Average Precision (13 points)\n",
    "4. Expected Reciprocal Rank (13 points)"
   ]
  },
  {
   "cell_type": "markdown",
   "metadata": {
    "deletable": false,
    "editable": false,
    "nbgrader": {
     "cell_type": "markdown",
     "checksum": "e46f54c7f81d88bbc950b0fae14c4ca5",
     "grade": false,
     "grade_id": "cell-3419fd3bc663d7cc",
     "locked": true,
     "schema_version": 3,
     "solution": false,
     "task": false
    }
   },
   "source": [
    "---\n",
    "### 4.1 Read relevance labels\n",
    "\n",
    "Let's take a look at the `qrels.text` file, which contains the ground truth relevance scores. The relevance labels for CACM are binary - either 0 or 1. \n"
   ]
  },
  {
   "cell_type": "code",
   "execution_count": 57,
   "metadata": {
    "deletable": false,
    "editable": false,
    "nbgrader": {
     "cell_type": "code",
     "checksum": "6c11025f5a222796f2882c73c1634799",
     "grade": false,
     "grade_id": "cell-6b738366059dde9e",
     "locked": true,
     "schema_version": 3,
     "solution": false,
     "task": false
    }
   },
   "outputs": [
    {
     "name": "stdout",
     "output_type": "stream",
     "text": [
      "01 1410  0 0\r\n",
      "01 1572  0 0\r\n",
      "01 1605  0 0\r\n",
      "01 2020  0 0\r\n",
      "01 2358  0 0\r\n",
      "02 2434  0 0\r\n",
      "02 2863  0 0\r\n",
      "02 3078  0 0\r\n",
      "03 1134  0 0\r\n",
      "03 1613  0 0\r\n"
     ]
    }
   ],
   "source": [
    "!head ./datasets/qrels.text"
   ]
  },
  {
   "cell_type": "markdown",
   "metadata": {
    "deletable": false,
    "editable": false,
    "nbgrader": {
     "cell_type": "markdown",
     "checksum": "7ce95245c1597183320d7254afde5c8e",
     "grade": false,
     "grade_id": "cell-10e16bff2753ffbb",
     "locked": true,
     "schema_version": 3,
     "solution": false,
     "task": false
    }
   },
   "source": [
    "---\n",
    "\n",
    "The first column is the query_id and the second column is the document_id. We can safely ignore the 3rd and 4th columns."
   ]
  },
  {
   "cell_type": "code",
   "execution_count": 58,
   "metadata": {
    "deletable": false,
    "nbgrader": {
     "cell_type": "code",
     "checksum": "000c6d59dce08dba0ba1e8d691dbbc2e",
     "grade": false,
     "grade_id": "cell-ee5253a4ef602fce",
     "locked": false,
     "schema_version": 3,
     "solution": true,
     "task": false
    }
   },
   "outputs": [],
   "source": [
    "def read_qrels():\n",
    "    obj = {}\n",
    "    table = np.loadtxt('./datasets/qrels.text', dtype=int)[:, 0:2]\n",
    "    for (qid, did) in table:\n",
    "        qid = str(qid)\n",
    "        if qid not in obj:\n",
    "            obj[qid] = [did]\n",
    "        else:\n",
    "            obj[qid].append(did)\n",
    "    return obj"
   ]
  },
  {
   "cell_type": "code",
   "execution_count": 59,
   "metadata": {
    "deletable": false,
    "editable": false,
    "nbgrader": {
     "cell_type": "code",
     "checksum": "d60caeba85c2a97d2211184a5ae91fd1",
     "grade": false,
     "grade_id": "cell-72215605fbe24f65",
     "locked": true,
     "schema_version": 3,
     "solution": false,
     "task": false
    }
   },
   "outputs": [],
   "source": [
    "#### Function check\n",
    "qrels = read_qrels()\n",
    "\n",
    "assert len(qrels) == 52, \"There should be 52 queries with relevance judgements\"\n",
    "assert sum(len(j) for j in qrels.values()) == 796, \"There should be a total of 796 Relevance Judgements\"\n",
    "\n",
    "assert np.min(np.array([len(j) for j in qrels.values()])) == 1\n",
    "assert np.max(np.array([len(j) for j in qrels.values()])) == 51\n",
    "\n",
    "####"
   ]
  },
  {
   "cell_type": "markdown",
   "metadata": {
    "deletable": false,
    "editable": false,
    "nbgrader": {
     "cell_type": "markdown",
     "checksum": "6c9e7428a52e291a2cdf92a379730d4c",
     "grade": false,
     "grade_id": "cell-176a6fb2939d0420",
     "locked": true,
     "schema_version": 3,
     "solution": false,
     "task": false
    }
   },
   "source": [
    "---\n",
    "**Note:** For a given query `query_id`, you can assume that documents *not* in `qrels[query_id]` are not relevant to `query_id`. \n"
   ]
  },
  {
   "cell_type": "markdown",
   "metadata": {
    "deletable": false,
    "editable": false,
    "nbgrader": {
     "cell_type": "markdown",
     "checksum": "b26a818c7b4f7ad490e00b35ea0edd69",
     "grade": false,
     "grade_id": "cell-bd8341b72cdd89bb",
     "locked": true,
     "schema_version": 3,
     "solution": false,
     "task": false
    }
   },
   "source": [
    "---\n",
    "### 4.2 Precision (7 points)\n",
    "Implement the `precision@k` metric:"
   ]
  },
  {
   "cell_type": "code",
   "execution_count": 60,
   "metadata": {
    "deletable": false,
    "nbgrader": {
     "cell_type": "code",
     "checksum": "43dea1979ebdec24ffcfeff71c670433",
     "grade": false,
     "grade_id": "cell-494bd0cce108ed67",
     "locked": false,
     "schema_version": 3,
     "solution": true,
     "task": false
    }
   },
   "outputs": [],
   "source": [
    "# TODO: Implement this! (7 points)\n",
    "def precision_k(results, relevant_docs, k):\n",
    "    \"\"\"\n",
    "        Compute Precision@K\n",
    "        Input: \n",
    "            results: A sorted list of 2-tuples (document_id, score), \n",
    "                    with the most relevant document in the first position\n",
    "            relevant_docs: A set of relevant documents. \n",
    "            k: the cut-off\n",
    "        Output: Precision@K\n",
    "    \"\"\"\n",
    "    if k > len(results):\n",
    "        k = len(results)\n",
    "    res = set([x[0] for x in results[0:k]])\n",
    "    rel = set(relevant_docs)\n",
    "    return sum([int(r) in rel for r in res])/k"
   ]
  },
  {
   "cell_type": "code",
   "execution_count": 61,
   "metadata": {
    "deletable": false,
    "editable": false,
    "nbgrader": {
     "cell_type": "code",
     "checksum": "9222e35582b1840ffb60fd02fb0b60c3",
     "grade": true,
     "grade_id": "cell-e7ff0d91c319ca64",
     "locked": true,
     "points": 7,
     "schema_version": 3,
     "solution": false,
     "task": false
    }
   },
   "outputs": [
    {
     "name": "stdout",
     "output_type": "stream",
     "text": [
      "query: What articles exist which deal with TSS (Time Sharing System), an\n",
      "operating system for IBM computers?\n",
      "precision@10 = 0.2\n"
     ]
    }
   ],
   "source": [
    "\n",
    "#### Function check\n",
    "qid = queries[0][0]\n",
    "qtext = queries[0][1]\n",
    "print(f'query:{qtext}')\n",
    "results = bm25_search(qtext, 2)\n",
    "precision = precision_k(results, qrels[qid], 10)\n",
    "print(f'precision@10 = {precision}')\n",
    "####"
   ]
  },
  {
   "cell_type": "markdown",
   "metadata": {
    "deletable": false,
    "editable": false,
    "nbgrader": {
     "cell_type": "markdown",
     "checksum": "8fd3b3998197c7097a40348500affb68",
     "grade": false,
     "grade_id": "cell-afd95f865bc7191e",
     "locked": true,
     "schema_version": 3,
     "solution": false,
     "task": false
    }
   },
   "source": [
    "---\n",
    "### 4.3 Recall (7 points)\n",
    "Implement the `recall@k` metric:"
   ]
  },
  {
   "cell_type": "code",
   "execution_count": 62,
   "metadata": {
    "deletable": false,
    "nbgrader": {
     "cell_type": "code",
     "checksum": "b2020e5741ae03b3fe35817ed8f4ccaa",
     "grade": false,
     "grade_id": "cell-c323fc8c3f8a7cf8",
     "locked": false,
     "schema_version": 3,
     "solution": true,
     "task": false
    }
   },
   "outputs": [],
   "source": [
    "# TODO: Implement this! (7 points)\n",
    "def recall_k(results, relevant_docs, k):\n",
    "    \"\"\"\n",
    "        Compute Recall@K\n",
    "        Input: \n",
    "            results: A sorted list of 2-tuples (document_id, score), with the most relevant document in the first position\n",
    "            relevant_docs: A set of relevant documents. \n",
    "            k: the cut-off\n",
    "        Output: Recall@K\n",
    "    \"\"\"\n",
    "    res = set([x[0] for x in results[0:k]])\n",
    "    rel = set(relevant_docs)\n",
    "    return sum([int(r) in rel for r in res])/len(relevant_docs)"
   ]
  },
  {
   "cell_type": "code",
   "execution_count": 63,
   "metadata": {
    "deletable": false,
    "editable": false,
    "nbgrader": {
     "cell_type": "code",
     "checksum": "56b6e0b8522f8b2dffbfb3206b2efa84",
     "grade": true,
     "grade_id": "cell-b25172161aef165c",
     "locked": true,
     "points": 7,
     "schema_version": 3,
     "solution": false,
     "task": false
    }
   },
   "outputs": [
    {
     "name": "stdout",
     "output_type": "stream",
     "text": [
      "query: SETL, Very High Level Languages\n",
      "recall@10 = 0.3157894736842105\n"
     ]
    }
   ],
   "source": [
    "#### Function check\n",
    "qid = queries[10][0]\n",
    "qtext = queries[10][1]\n",
    "print(f'query:{qtext}')\n",
    "results = bm25_search(qtext, 2)\n",
    "recall = recall_k(results, qrels[qid], 10)\n",
    "print(f'recall@10 = {recall}')\n",
    "####"
   ]
  },
  {
   "cell_type": "markdown",
   "metadata": {
    "deletable": false,
    "editable": false,
    "nbgrader": {
     "cell_type": "markdown",
     "checksum": "b3d3c7bd1cd977cd07ef5df7d3fbf159",
     "grade": false,
     "grade_id": "cell-77fd2e7a39a74739",
     "locked": true,
     "schema_version": 3,
     "solution": false,
     "task": false
    }
   },
   "source": [
    "---\n",
    "### 4.4 Mean Average Precision (13 points)\n",
    "Implement the `map` metric:"
   ]
  },
  {
   "cell_type": "code",
   "execution_count": 64,
   "metadata": {
    "deletable": false,
    "nbgrader": {
     "cell_type": "code",
     "checksum": "aae2c62f2ffd76f5b6c004e9519b9f14",
     "grade": false,
     "grade_id": "cell-e50925fa9093a30d",
     "locked": false,
     "schema_version": 3,
     "solution": true,
     "task": false
    }
   },
   "outputs": [],
   "source": [
    "# TODO: Implement this! (12 points)\n",
    "def average_precision(results, relevant_docs):\n",
    "    \"\"\"\n",
    "        Compute Average Precision (for a single query - the results are \n",
    "        averaged across queries to get MAP in the next few cells)\n",
    "        Hint: You can use the recall_k and precision_k functions here!\n",
    "        Input: \n",
    "            results: A sorted list of 2-tuples (document_id, score), with the most \n",
    "                    relevant document in the first position\n",
    "            relevant_docs: A set of relevant documents. \n",
    "        Output: Average Precision\n",
    "    \"\"\"\n",
    "    N_relevant = len(relevant_docs)\n",
    "    relevant = []\n",
    "    numerator = 0 \n",
    "    for i, result in enumerate(results):\n",
    "        if int(result[0]) in relevant_docs:\n",
    "            relevant.append(i)\n",
    "    numerator = np.sum([precision_k(results, relevant_docs, i + 1) for i in relevant])\n",
    "    AP = numerator / N_relevant\n",
    "    return  AP"
   ]
  },
  {
   "cell_type": "code",
   "execution_count": 65,
   "metadata": {
    "deletable": false,
    "editable": false,
    "nbgrader": {
     "cell_type": "code",
     "checksum": "3b00e147c2fa146fa59f179b7c9cab75",
     "grade": true,
     "grade_id": "cell-8a1f7ec98571e58b",
     "locked": true,
     "points": 13,
     "schema_version": 3,
     "solution": false,
     "task": false
    }
   },
   "outputs": [
    {
     "name": "stdout",
     "output_type": "stream",
     "text": [
      "query: computational complexity, intractability, class-complete reductions,\n",
      "algorithms and efficiency\n",
      "MAP = 0.1724040411055945\n"
     ]
    }
   ],
   "source": [
    "#### Function check\n",
    "qid = queries[20][0]\n",
    "qtext = queries[20][1]\n",
    "print(f'query:{qtext}')\n",
    "results = bm25_search(qtext, 2)\n",
    "mean_ap = average_precision(results, qrels[qid])\n",
    "print(f'MAP = {mean_ap}')\n",
    "####"
   ]
  },
  {
   "cell_type": "markdown",
   "metadata": {
    "deletable": false,
    "editable": false,
    "nbgrader": {
     "cell_type": "markdown",
     "checksum": "36f85f45ef52d9467ba9a717d6d99ff2",
     "grade": false,
     "grade_id": "cell-1da18f0fe6f6d7be",
     "locked": true,
     "schema_version": 3,
     "solution": false,
     "task": false
    }
   },
   "source": [
    "---\n",
    "### 4.5 Expected Reciprocal Rank (13 points)\n",
    "Implement the `err` metric:"
   ]
  },
  {
   "cell_type": "code",
   "execution_count": 66,
   "metadata": {
    "deletable": false,
    "nbgrader": {
     "cell_type": "code",
     "checksum": "9ac94db728e23ea1f5dc0d509473c6fb",
     "grade": false,
     "grade_id": "cell-64262889f9b267ea",
     "locked": false,
     "schema_version": 3,
     "solution": true,
     "task": false
    }
   },
   "outputs": [],
   "source": [
    "# TODO: Implement this! (12 points)\n",
    "def err(results, relevant_docs):\n",
    "    \"\"\"\n",
    "        Compute the expected reciprocal rank.\n",
    "        Hint: https://dl.acm.org/doi/pdf/10.1145/1645953.1646033?download=true\n",
    "        Input: \n",
    "            results: A sorted list of 2-tuples (document_id, score), with the most \n",
    "                    relevant document in the first position\n",
    "            relevant_docs: A set of relevant documents. \n",
    "        Output: ERR\n",
    "        \n",
    "    \"\"\"\n",
    "    p = 1\n",
    "    err = 0\n",
    "    n = len(results)\n",
    "    rel = set(relevant_docs)\n",
    "    for i in range(len(results)):\n",
    "        R = (int(results[i][0]) in rel)/2\n",
    "        err += p*R/(i+1)\n",
    "        p *= 1-R\n",
    "    return err"
   ]
  },
  {
   "cell_type": "code",
   "execution_count": 67,
   "metadata": {
    "deletable": false,
    "editable": false,
    "nbgrader": {
     "cell_type": "code",
     "checksum": "b7d201de0990b69d5f38704668665d87",
     "grade": true,
     "grade_id": "cell-071e3970ff1afae4",
     "locked": true,
     "points": 13,
     "schema_version": 3,
     "solution": false,
     "task": false
    }
   },
   "outputs": [
    {
     "name": "stdout",
     "output_type": "stream",
     "text": [
      "query: I'd like to find articles describing the use of singular value decomposition\n",
      "in digital image processing.  Applications include finding approximations\n",
      "to the original image and restoring images that are subject to noise. An\n",
      "article on the subject is H.C. Andrews and C.L. Patterson \"Outer product\n",
      "expansions and their uses in digital image processing\", American Mathematical\n",
      "Monthly, vol. 82.\n",
      "ERR = 0.625\n"
     ]
    }
   ],
   "source": [
    "#### Function check\n",
    "qid = queries[30][0]\n",
    "qtext = queries[30][1]\n",
    "print(f'query:{qtext}')\n",
    "results = bm25_search(qtext, 2)\n",
    "ERR = err(results, qrels[qid])\n",
    "print(f'ERR = {ERR}')\n",
    "####"
   ]
  },
  {
   "cell_type": "markdown",
   "metadata": {
    "deletable": false,
    "editable": false,
    "nbgrader": {
     "cell_type": "markdown",
     "checksum": "5bd94caf77cfa5f34675df758d91002d",
     "grade": false,
     "grade_id": "cell-43709a765f353946",
     "locked": true,
     "schema_version": 3,
     "solution": false,
     "task": false
    }
   },
   "source": [
    "---\n",
    "### 4.6 Evaluate Search Functions\n",
    "\n",
    "Let's define some metrics@k using [partial functions](https://docs.python.org/3/library/functools.html#functools.partial)"
   ]
  },
  {
   "cell_type": "code",
   "execution_count": 68,
   "metadata": {
    "deletable": false,
    "editable": false,
    "nbgrader": {
     "cell_type": "code",
     "checksum": "49ccc158e5fb7340ace55e90eeb9d62a",
     "grade": false,
     "grade_id": "cell-dab560e18e340da8",
     "locked": true,
     "schema_version": 3,
     "solution": false,
     "task": false
    }
   },
   "outputs": [],
   "source": [
    "#### metrics@k functions\n",
    "\n",
    "recall_at_1 = partial(recall_k, k=1)\n",
    "recall_at_5 = partial(recall_k, k=5)\n",
    "recall_at_10 = partial(recall_k, k=10)\n",
    "precision_at_1 = partial(precision_k, k=1)\n",
    "precision_at_5 = partial(precision_k, k=5)\n",
    "precision_at_10 = partial(precision_k, k=10)\n",
    "\n",
    "\n",
    "list_of_metrics = [\n",
    "    (\"ERR\", err),\n",
    "    (\"MAP\", average_precision),\n",
    "    (\"Recall@1\",recall_at_1),\n",
    "    (\"Recall@5\", recall_at_5),\n",
    "    (\"Recall@10\", recall_at_10),\n",
    "    (\"Precision@1\", precision_at_1),\n",
    "    (\"Precision@5\", precision_at_5),\n",
    "    (\"Precision@10\", precision_at_10)]\n",
    "####"
   ]
  },
  {
   "cell_type": "markdown",
   "metadata": {
    "deletable": false,
    "editable": false,
    "nbgrader": {
     "cell_type": "markdown",
     "checksum": "fb541002c03221b453b8936290020ea5",
     "grade": false,
     "grade_id": "cell-580a2bdc66d03b47",
     "locked": true,
     "schema_version": 3,
     "solution": false,
     "task": false
    }
   },
   "source": [
    "---\n",
    "\n",
    "The following function evaluates a `search_fn` using the `metric_fn`. Note that the final number is averaged over all the queries"
   ]
  },
  {
   "cell_type": "code",
   "execution_count": 69,
   "metadata": {},
   "outputs": [],
   "source": [
    "#### Evaluate a search function\n",
    "\n",
    "list_of_search_fns = [\n",
    "    (\"BOW\", bow_search),\n",
    "    (\"TF-IDF\", tfidf_search),\n",
    "    (\"NaiveQL\", naive_ql_search),\n",
    "    (\"QL\", ql_search),\n",
    "    (\"BM25\", bm25_search)\n",
    "]\n",
    "\n",
    "def evaluate_search_fn(search_fn, metric_fns, index_set=None):\n",
    "    # build a dict query_id -> query \n",
    "    queries_by_id = dict((q[0], q[1]) for q in queries)\n",
    "    \n",
    "    metrics = {}\n",
    "    for metric, metric_fn in metric_fns:\n",
    "        metrics[metric] = np.zeros(len(qrels), dtype=np.float32)\n",
    "    \n",
    "    for i, (query_id, relevant_docs) in enumerate(qrels.items()):\n",
    "        query = queries_by_id[query_id]\n",
    "        if index_set:\n",
    "            results = search_fn(query, index_set)\n",
    "        else:\n",
    "            results = search_fn(query)\n",
    "        \n",
    "        for metric, metric_fn in metric_fns:\n",
    "            metrics[metric][i] = metric_fn(results, relevant_docs)\n",
    "\n",
    "    \n",
    "    \n",
    "    final_dict = {}\n",
    "    for metric, metric_vals in metrics.items():\n",
    "        final_dict[metric] = metric_vals.mean()\n",
    "    \n",
    "    return final_dict\n",
    "####"
   ]
  },
  {
   "cell_type": "markdown",
   "metadata": {
    "deletable": false,
    "editable": false,
    "nbgrader": {
     "cell_type": "markdown",
     "checksum": "6ea67534f74a8f81e1f504794f641709",
     "grade": false,
     "grade_id": "cell-b156d83a0649cbb4",
     "locked": true,
     "schema_version": 3,
     "solution": false,
     "task": false
    }
   },
   "source": [
    "## Section 5: Analysis (30 points) <a class=\"anchor\" id=\"analysis\"></a>\n",
    "\n",
    "[Back to Part 1](#part1)\n",
    "\n",
    "In the final section of Part1, we will compare the different term-based IR algorithms and different preprocessing configurations and analyze their advantages and disadvantages.\n",
    "\n",
    "### Section 5.1: Plot (20 points)\n",
    "\n",
    "First, gather the results. The results should consider the index set, the different search functions and different metrics. Plot the results in bar charts, per metric, with clear labels.\n",
    "\n",
    "**Rubric:**\n",
    "- Each Metric is plotted: 7 points\n",
    "- Each Method is plotted: 7 points\n",
    "- Clear titles, x label, y labels and legends (if applicable): 6 points"
   ]
  },
  {
   "cell_type": "code",
   "execution_count": 70,
   "metadata": {
    "deletable": false,
    "nbgrader": {
     "cell_type": "code",
     "checksum": "7e2588a925d13ddf588abe8311dc9cfc",
     "grade": true,
     "grade_id": "cell-46fda42a25863a04",
     "locked": false,
     "points": 20,
     "schema_version": 3,
     "solution": true,
     "task": false
    }
   },
   "outputs": [
    {
     "data": {
      "image/png": "[encoded data removed]",
      "text/plain": [
       "<Figure size 864x432 with 1 Axes>"
      ]
     },
     "metadata": {
      "needs_background": "light"
     },
     "output_type": "display_data"
    },
    {
     "data": {
      "image/png": "[encoded data removed]",
      "text/plain": [
       "<Figure size 864x432 with 1 Axes>"
      ]
     },
     "metadata": {
      "needs_background": "light"
     },
     "output_type": "display_data"
    }
   ],
   "source": [
    "import pandas as pd\n",
    "def plot_results(search_fns, title, include_index):\n",
    "    results = []\n",
    "    for i in [1,2] if include_index else [None]:\n",
    "        r = []\n",
    "        for (s_name, s_fn) in search_fns:\n",
    "            r.append((s_name, evaluate_search_fn(s_fn, list_of_metrics, index_set=i)))\n",
    "        results.append(r)\n",
    "\n",
    "    index = [x[0] for x in results[0]]\n",
    "    data = {}\n",
    "\n",
    "    for r in range(2 if include_index else 1):\n",
    "        for k in results[0][0][1].keys():\n",
    "            data[k] = [x[1][k] for x in results[r]]\n",
    "        df = pd.DataFrame(data, index)\n",
    "        if include_index:\n",
    "            df.T.plot.bar(figsize=(12,6), title=f'{title} (Index Set {r+1})', xlabel = \"Metric\", ylabel=\"Value\")\n",
    "        else:\n",
    "            df.T.plot.bar(figsize=(12,6), title=title, xlabel = \"Metric\", ylabel=\"Value\")\n",
    "            \n",
    "plot_results(list_of_search_fns, \"Evaluation of Search Functions Using Various Metrics\", True)\n",
    "\n",
    "x = []\n",
    "y = []\n",
    "for (doc_id, document) in docs:\n",
    "    n = 0\n",
    "    for tk in document:\n",
    "        if tk in stopwords:\n",
    "            n += 1\n",
    "    y.append(n)\n",
    "    x.append(len(document))\n",
    "plt.scatter(x,y)\n",
    "plt.title(\"Number of stopwords vs Length of Document\")\n",
    "plt.xlabel(\"Length of Document (in words)\")\n",
    "plt.ylabel(\"Number of Stopwords\")\n",
    "plt.show()"
   ]
  },
  {
   "cell_type": "markdown",
   "metadata": {
    "deletable": false,
    "editable": false,
    "nbgrader": {
     "cell_type": "markdown",
     "checksum": "e88c444a0acf4e398c65e289169b75f7",
     "grade": false,
     "grade_id": "cell-8aabe3bcf265deb0",
     "locked": true,
     "points": 10,
     "schema_version": 3,
     "solution": false,
     "task": true
    }
   },
   "source": [
    "---\n",
    "### Section 5.2: Summary (10 points)\n",
    "Write a summary of what you observe in the results.\n",
    "Your summary should compare results across the 2 indices and the methods being used. State what you expected to see in the results, followed by either supporting evidence *or* justify why the results did not support your expectations.      "
   ]
  },
  {
   "cell_type": "markdown",
   "metadata": {},
   "source": [
    "The results across metrics and indices were as expected. We begin by explaining the trends across different methods and their respective performance, then compare the results across the 2 indices.\n",
    "\n",
    "Firstly, we observe that the metric used does not influence the order in which we rank the performance of each search function. The results for recall@k improve with increasing k and decrease precision@k. This is in line with our expectation per the definition of these functions. \n",
    "\n",
    "The plot in 5.1 demonstrates that the TF-IDF, BM25, and QL search functions show similar performance, whereas the BOW model performs significantly worse. This is because the BOW model, unlike the others, does not utilize any information about the length of a document. Intuitively, if two documents mention a term of interest the same number of times, the shorter document is likely to be more focused on that term and, therefore, more relevant to the search.\n",
    "\n",
    "The Naive-QL approach is the poorest performer of all the search functions. Each document's relevance score is a product of floats that are between zero and one, which makes this method vulnerable to underflow. This makes it likely that each document obtains an equal relevance score -- zero.\n",
    "\n",
    "The difference in the performance between index set 1 and set 2 can be attributed to removing stopwords in the documents. The plot above shows the number of stopwords in a document is directly proportional to the length of the document. In the case where stopwords are not removed, if a query contains stopwords, longer documents are likely to be favoured rather than documents whose content are more closely related to the query. As a result, search accuracy suffers. This can be seen in the plot in section 5.1, where all search functions improve when stopwords are removed."
   ]
  },
  {
   "cell_type": "markdown",
   "metadata": {
    "deletable": false,
    "editable": false,
    "nbgrader": {
     "cell_type": "markdown",
     "checksum": "b3eb77be74eecca205fc7b47316d1627",
     "grade": false,
     "grade_id": "cell-bb60dd5c092d0f2e",
     "locked": true,
     "schema_version": 3,
     "solution": false,
     "task": false
    }
   },
   "source": [
    "---\n",
    "---\n",
    "# Part 2: Semantic-based Matching (85 points) <a class=\"anchor\" id=\"part2\"></a>\n",
    "\n",
    "[Back to top](#top)\n",
    "\n",
    "We will now experiment with methods that go beyond lexical methods like TF-IDF, which operate at the word level and are high dimensional and sparse, and look at methods which constructs low dimensional dense representations of queries and documents. \n",
    "\n",
    "Since these low-dimensional methods have a higher time complexity, they are typically used in conjunction with methods like BM-25. That is, instead of searching through potentially million documents to find matches using low dimensional vectors, a list of K documents are retrieved using BM25, and then **re-ranked** using the other method. This is the method that is going to be applied in the following exercises. \n",
    "\n",
    "LSI/LDA takes documents that are similar on a semantic level - for instance, if they are describing the same topic - and projects them into nearby vectors, despite having low lexical overlap.\n",
    "\n",
    "In this assignment, you will use `gensim` to create LSI/LDA models and use them in re-ranking. \n",
    "\n",
    "**Note**: The following exercises only uses `doc_repr_2` and `config_2`\n",
    "\n",
    "Table of contents:\n",
    "- [Section 6: LSI](#lsi) (15 points)\n",
    "- [Section 7: LDA](#lda) (10 points)\n",
    "- [Section 8: Word2Vec/Doc2Vec](#2vec) (20 points)\n",
    "- [Section 8: Re-ranking](#reranking) (10 points)\n",
    "- [Section 9: Re-ranking Evaluation](#reranking_eval) (30 points)"
   ]
  },
  {
   "cell_type": "markdown",
   "metadata": {
    "deletable": false,
    "editable": false,
    "nbgrader": {
     "cell_type": "markdown",
     "checksum": "f7c7b2cab82f576ed0acf836ca57171c",
     "grade": false,
     "grade_id": "cell-6b2c81e7a8abd180",
     "locked": true,
     "schema_version": 3,
     "solution": false,
     "task": false
    }
   },
   "source": [
    "---\n",
    "## Section 6: Latent Semantic Indexing (LSI) (15 points) <a class=\"anchor\" id=\"lsi\"></a>\n",
    "\n",
    "[Back to Part 2](#part2)\n",
    "\n",
    "LSI is one of the methods to embed the queries and documents into vectors. It is based on a method similar to Principal Component Analysis (PCA) for obtaining a dense concept matrix out of the sparse term-document matrix.\n",
    "\n",
    "See [wikipedia](https://en.wikipedia.org/wiki/Latent_semantic_analysis), particularly [#Mathematics_of_LSI](https://en.wikipedia.org/wiki/Latent_semantic_analysis#Mathematics_of_LSI)."
   ]
  },
  {
   "cell_type": "code",
   "execution_count": 71,
   "metadata": {
    "deletable": false,
    "editable": false,
    "nbgrader": {
     "cell_type": "code",
     "checksum": "c17ee75319cb517e2bf48ec3d9efc329",
     "grade": false,
     "grade_id": "cell-59913daee47f680d",
     "locked": true,
     "schema_version": 3,
     "solution": false,
     "task": false
    }
   },
   "outputs": [],
   "source": [
    "from gensim.corpora import Dictionary\n",
    "from gensim.models import LdaModel, LsiModel, Word2Vec\n",
    "from gensim.models.doc2vec import Doc2Vec, TaggedDocument\n",
    "from gensim import downloader as g_downloader\n",
    "# gensim uses logging, so set it up \n",
    "import logging\n",
    "logging.basicConfig(format='%(asctime)s : %(levelname)s : %(message)s', level=logging.INFO)"
   ]
  },
  {
   "cell_type": "markdown",
   "metadata": {
    "deletable": false,
    "editable": false,
    "nbgrader": {
     "cell_type": "markdown",
     "checksum": "5fce140c546759b54a9fc060901ae77c",
     "grade": false,
     "grade_id": "cell-3644faff4976598a",
     "locked": true,
     "schema_version": 3,
     "solution": false,
     "task": false
    }
   },
   "source": [
    "---\n",
    "### Section 6.1: Cosine Similarity (5 points)<a class=\"anchor\" id=\"cosing_sim\"></a>\n",
    "Before we begin, let us first define our method of similarity for the LSI model, the cosine similarity:\n",
    "\n",
    "$$\\text{similarity} = \\cos(\\theta) = {\\mathbf{A} \\cdot \\mathbf{B} \\over \\|\\mathbf{A}\\| \\|\\mathbf{B}\\|} = \\frac{ \\sum\\limits_{i=1}^{n}{A_i  B_i} }{ \\sqrt{\\sum\\limits_{i=1}^{n}{A_i^2}}  \\sqrt{\\sum\\limits_{i=1}^{n}{B_i^2}} }$$\n",
    "\n",
    "Since we are using gensim, the types of vectors returned by their classes are of the form defined below (they are not just simple vectors):"
   ]
  },
  {
   "cell_type": "code",
   "execution_count": 72,
   "metadata": {
    "deletable": false,
    "editable": false,
    "nbgrader": {
     "cell_type": "code",
     "checksum": "4e340e1a1d546f430c018fd0760e707a",
     "grade": false,
     "grade_id": "cell-3995a50f951314d5",
     "locked": true,
     "schema_version": 3,
     "solution": false,
     "task": false
    }
   },
   "outputs": [],
   "source": [
    "# 1, 2, 3 are either latent dimensions (LSI), or topics (LDA)\n",
    "# The second value in each tuple is a number (LSI) or a probability (LDA)  \n",
    "example_vec_1 = [(1, 0.2), (2, 0.3), (3, 0.4)]\n",
    "example_vec_2 = [(1, 0.2), (2, 0.7), (3, 0.4)]"
   ]
  },
  {
   "cell_type": "markdown",
   "metadata": {
    "deletable": false,
    "editable": false,
    "nbgrader": {
     "cell_type": "markdown",
     "checksum": "20832fd4f579f49ae204b0efee02edd1",
     "grade": false,
     "grade_id": "cell-5e54d581858dc8f7",
     "locked": true,
     "schema_version": 3,
     "solution": false,
     "task": false
    }
   },
   "source": [
    "---\n",
    "**Implementation (2+3 points):**\n",
    "Now, implement the `dot product` operation on these types of vectors and using this operator, implement the `cosine similarity` (don't forget: two functions to implement!):"
   ]
  },
  {
   "cell_type": "code",
   "execution_count": 73,
   "metadata": {
    "deletable": false,
    "nbgrader": {
     "cell_type": "code",
     "checksum": "06a712ee75fc213a21c5f0067fd8fe28",
     "grade": false,
     "grade_id": "cell-0e8189f5f93de33f",
     "locked": false,
     "schema_version": 3,
     "solution": true,
     "task": false
    }
   },
   "outputs": [],
   "source": [
    "def dot(vec_1,vec_2): \n",
    "    \"\"\"\n",
    "        vec_1 and vec_2 are of the form: [(int, float), (int, float), ...]\n",
    "        Return the dot product of two such vectors, computed only on the floats\n",
    "        You can assume that the lengths of the vectors are the same, and the dimensions are aligned \n",
    "            i.e you won't get: vec_1 = [(1, 0.2)] ; vec_2 = [(2, 0.3)] \n",
    "                                (dimensions are unaligned and lengths are different)\n",
    "    \"\"\"\n",
    "    return sum([x[1]*y[1] for (x,y) in zip(vec_1, vec_2)])\n",
    "\n",
    "\n",
    "# TODO: Implement this! (3 points)\n",
    "def cosine_sim(vec_1, vec_2):\n",
    "    d = dot(vec_1,vec_2)\n",
    "    x = sum([x[1]**2 for x in vec_1])\n",
    "    y = sum([y[1]**2 for y in vec_2])\n",
    "    if x*y == 0: return 0\n",
    "    else: return d/np.sqrt(x)/np.sqrt(y)"
   ]
  },
  {
   "cell_type": "code",
   "execution_count": 74,
   "metadata": {
    "deletable": false,
    "editable": false,
    "nbgrader": {
     "cell_type": "code",
     "checksum": "d22a4a7325ba7815a808390388f534a1",
     "grade": true,
     "grade_id": "cell-b25d04ed6b79fd35",
     "locked": true,
     "points": 2,
     "schema_version": 3,
     "solution": false,
     "task": false
    }
   },
   "outputs": [
    {
     "name": "stdout",
     "output_type": "stream",
     "text": [
      "vectors: ([(1, 0.2), (2, 0.3), (3, 0.4)], [(1, 0.2), (2, 0.7), (3, 0.4)])\n",
      "dot product = 0.41000000000000003\n",
      "cosine similarity = 0.9165587597202864\n"
     ]
    }
   ],
   "source": [
    "##### Function check\n",
    "print(f'vectors: {(example_vec_1,example_vec_2)}')\n",
    "print(f'dot product = {dot(example_vec_1,example_vec_2)}')\n",
    "print(f'cosine similarity = {cosine_sim(example_vec_1,example_vec_2)}')\n",
    "##### "
   ]
  },
  {
   "cell_type": "code",
   "execution_count": 75,
   "metadata": {
    "deletable": false,
    "editable": false,
    "nbgrader": {
     "cell_type": "code",
     "checksum": "0744131724ce76b1b3f163b4bae5f700",
     "grade": true,
     "grade_id": "cell-ae3c4466866ace77",
     "locked": true,
     "points": 3,
     "schema_version": 3,
     "solution": false,
     "task": false
    }
   },
   "outputs": [],
   "source": [
    "#### Please do not change this. This cell is used for grading."
   ]
  },
  {
   "cell_type": "markdown",
   "metadata": {
    "deletable": false,
    "editable": false,
    "nbgrader": {
     "cell_type": "markdown",
     "checksum": "9b123f599f9ea372d14676e23f1c6a52",
     "grade": false,
     "grade_id": "cell-4b2534067c44fcdf",
     "locked": true,
     "schema_version": 3,
     "solution": false,
     "task": false
    }
   },
   "source": [
    "---\n",
    "### Section 6.2: LSI Retrieval (10 points)<a class=\"anchor\" id=\"lsi_retrieval\"></a>\n",
    "LSI retrieval is simply ranking the documents based on their cosine similarity to the query vector.\n",
    "First, let's write a parent class for vector-based retrieval models:"
   ]
  },
  {
   "cell_type": "code",
   "execution_count": 76,
   "metadata": {
    "deletable": false,
    "editable": false,
    "nbgrader": {
     "cell_type": "code",
     "checksum": "ecc111d58182570e2252b8ef5d6b02af",
     "grade": false,
     "grade_id": "cell-937936cea18711ee",
     "locked": true,
     "schema_version": 3,
     "solution": false,
     "task": false
    }
   },
   "outputs": [],
   "source": [
    "class VectorSpaceRetrievalModel:\n",
    "    \"\"\"\n",
    "        Parent class for Dense Vector Retrieval models\n",
    "    \"\"\"\n",
    "    def __init__(self, doc_repr):\n",
    "        \"\"\"\n",
    "            document_collection: \n",
    "                [\n",
    "                    (doc_id_1, [token 1, token 2, ...]), \n",
    "                    (doc_id_2, [token 1, token 2, ....]) \n",
    "                    ...\n",
    "                ]\n",
    "\n",
    "        \"\"\"\n",
    "        self.doc_repr = doc_repr\n",
    "        self.documents = [_[1] for _ in self.doc_repr]\n",
    "        \n",
    "        # construct a dictionary\n",
    "        self.dictionary = Dictionary(self.documents)\n",
    "        # Filter out words that occur less than 20 documents, or more than 50% of the documents.\n",
    "        self.dictionary.filter_extremes(no_below=10)\n",
    "        self.corpus = [self.dictionary.doc2bow(doc) for doc in self.documents]\n",
    "    \n",
    "        # Make a index to word dictionary.\n",
    "        temp = self.dictionary[0]  # This is only to \"load\" the dictionary.\n",
    "        self.id2word = self.dictionary.id2token\n",
    "        \n",
    "        # this is set by the train_model function\n",
    "        self.model = None\n",
    "        \n",
    "        \n",
    "    def vectorize_documents(self):\n",
    "        \"\"\"\n",
    "            Returns a doc_id -> vector dictionary\n",
    "        \"\"\"\n",
    "        vectors = {}\n",
    "        for (doc_id, _), cc in zip(self.doc_repr, self.corpus):\n",
    "            vectors[doc_id] = self.model[cc]\n",
    "        return vectors\n",
    "\n",
    "    def vectorize_query(self, query):\n",
    "        # Note the use of config_2 here!\n",
    "        query = process_text(query, **config_2)\n",
    "        query_vector = self.dictionary.doc2bow(query)\n",
    "        return self.model[query_vector]\n",
    "    \n",
    "    def train_model(self):\n",
    "        \"\"\"\n",
    "            Trains a model and sets the 'self.model' variable. \n",
    "            Make sure to use the variables created in the __init__ method.\n",
    "            e.g the variables which may be useful: {corpus, dictionary, id2word}\n",
    "        \"\"\"\n",
    "        raise NotImplementedError()"
   ]
  },
  {
   "cell_type": "markdown",
   "metadata": {
    "deletable": false,
    "editable": false,
    "nbgrader": {
     "cell_type": "markdown",
     "checksum": "ff161eefd9b81b768cd6361bc1a502b0",
     "grade": false,
     "grade_id": "cell-704a18c2f80cd60c",
     "locked": true,
     "schema_version": 3,
     "solution": false,
     "task": false
    }
   },
   "source": [
    "---\n",
    "**Implementation (5 points):**\n",
    "Implement the `train_model` method in the following class (note that this is only one line of code in `gensim`!). Ensure that the parameters defined in the `__init__` method are not changed, and are *used in the `train_method` function*. Normally, the hyperaparameter space will be searched using grid search / other methods - in this assignment we have provided the hyperparameters for you.\n",
    "\n",
    "The last two lines of code train an LSI model on the list of documents which have been stemmed, lower-cased and have stopwords removed. "
   ]
  },
  {
   "cell_type": "code",
   "execution_count": 77,
   "metadata": {
    "deletable": false,
    "nbgrader": {
     "cell_type": "code",
     "checksum": "0e90eedc27c248bc1ae050518a46a46c",
     "grade": false,
     "grade_id": "cell-307682c9089f15d6",
     "locked": false,
     "schema_version": 3,
     "solution": true,
     "task": false
    }
   },
   "outputs": [],
   "source": [
    "# TODO: Implement this! (5 points)\n",
    "class LsiRetrievalModel(VectorSpaceRetrievalModel):\n",
    "    def __init__(self, doc_repr):\n",
    "        super().__init__(doc_repr)\n",
    "        \n",
    "        self.num_topics = 100\n",
    "        self.chunksize = 2000\n",
    "    \n",
    "    def train_model(self):\n",
    "        # YOUR CODE HERE\n",
    "        self.model=LsiModel(self.corpus, id2word=self.id2word, num_topics=self.num_topics, chunksize=self.chunksize)"
   ]
  },
  {
   "cell_type": "code",
   "execution_count": 78,
   "metadata": {
    "deletable": false,
    "editable": false,
    "nbgrader": {
     "cell_type": "code",
     "checksum": "00399cfe13d60cb4beed1271e36004b0",
     "grade": true,
     "grade_id": "cell-5ce512650c1b2dfb",
     "locked": true,
     "points": 0,
     "schema_version": 3,
     "solution": false,
     "task": false
    }
   },
   "outputs": [
    {
     "name": "stderr",
     "output_type": "stream",
     "text": [
      "2022-02-28 22:41:31,242 : INFO : adding document #0 to Dictionary(0 unique tokens: [])\n",
      "2022-02-28 22:41:31,383 : INFO : built Dictionary(5937 unique tokens: ['-', 'algebra', 'intern', 'languag', 'preliminari']...) from 3204 documents (total 115969 corpus positions)\n",
      "2022-02-28 22:41:31,384 : INFO : Dictionary lifecycle event {'msg': \"built Dictionary(5937 unique tokens: ['-', 'algebra', 'intern', 'languag', 'preliminari']...) from 3204 documents (total 115969 corpus positions)\", 'datetime': '2022-02-28T22:41:31.384637', 'gensim': '4.1.2', 'python': '3.8.10 (default, Nov 26 2021, 20:14:08) \\n[GCC 9.3.0]', 'platform': 'Linux-5.13.0-30-generic-x86_64-with-glibc2.29', 'event': 'created'}\n",
      "2022-02-28 22:41:31,396 : INFO : discarding 4740 tokens: [('repeat', 8), ('glossari', 7), ('inspect', 8), ('uncol', 2), ('rung', 9), ('secant', 2), ('.', 1603), ('acceler', 6), ('diverg', 3), ('induc', 9)]...\n",
      "2022-02-28 22:41:31,398 : INFO : keeping 1197 tokens which were in no less than 10 and no more than 1602 (=50.0%) documents\n",
      "2022-02-28 22:41:31,405 : INFO : resulting dictionary: Dictionary(1197 unique tokens: ['-', 'algebra', 'intern', 'languag', 'preliminari']...)\n",
      "2022-02-28 22:41:31,512 : INFO : using serial LSI version on this node\n",
      "2022-02-28 22:41:31,512 : INFO : updating model with new documents\n",
      "2022-02-28 22:41:31,516 : INFO : preparing a new chunk of documents\n",
      "2022-02-28 22:41:31,539 : INFO : using 100 extra samples and 2 power iterations\n",
      "2022-02-28 22:41:31,543 : INFO : 1st phase: constructing (1197, 200) action matrix\n",
      "2022-02-28 22:41:31,573 : INFO : orthonormalizing (1197, 200) action matrix\n",
      "2022-02-28 22:41:31,770 : INFO : 2nd phase: running dense svd on (200, 2000) matrix\n",
      "2022-02-28 22:41:31,993 : INFO : computing the final decomposition\n",
      "2022-02-28 22:41:32,007 : INFO : keeping 100 factors (discarding 13.469% of energy spectrum)\n",
      "2022-02-28 22:41:32,019 : INFO : processed documents up to #2000\n",
      "2022-02-28 22:41:32,022 : INFO : topic #0(152.127): 0.741*\",\" + 0.342*\"-\" + 0.211*\"system\" + 0.204*\"program\" + 0.192*\"comput\" + 0.146*\"(\" + 0.127*\"languag\" + 0.108*\")\" + 0.084*\"gener\" + 0.083*\"data\"\n",
      "2022-02-28 22:41:32,025 : INFO : topic #1(60.600): -0.607*\"(\" + -0.434*\")\" + -0.366*\"algorithm\" + -0.300*\"-\" + 0.237*\",\" + 0.213*\"system\" + 0.132*\"comput\" + -0.096*\"[\" + 0.093*\"program\" + -0.084*\"])\"\n",
      "2022-02-28 22:41:32,028 : INFO : topic #2(57.438): -0.744*\"-\" + 0.452*\",\" + -0.263*\"system\" + 0.214*\"(\" + 0.166*\")\" + -0.107*\"time\" + -0.105*\"program\" + 0.094*\"algorithm\" + -0.068*\"comput\" + -0.067*\"share\"\n",
      "2022-02-28 22:41:32,040 : INFO : topic #3(48.370): -0.483*\"system\" + -0.375*\"program\" + -0.367*\"comput\" + 0.363*\"-\" + 0.308*\",\" + -0.212*\"(\" + -0.168*\")\" + -0.147*\"algorithm\" + 0.144*\"languag\" + -0.119*\"time\"\n",
      "2022-02-28 22:41:32,043 : INFO : topic #4(45.710): -0.489*\"comput\" + 0.475*\"languag\" + 0.428*\"program\" + -0.238*\"method\" + -0.141*\"problem\" + 0.121*\"system\" + 0.109*\")\" + -0.107*\"equat\" + -0.100*\"algorithm\" + 0.099*\"(\"\n",
      "2022-02-28 22:41:32,046 : INFO : preparing a new chunk of documents\n",
      "2022-02-28 22:41:32,108 : INFO : using 100 extra samples and 2 power iterations\n",
      "2022-02-28 22:41:32,111 : INFO : 1st phase: constructing (1197, 200) action matrix\n",
      "2022-02-28 22:41:32,137 : INFO : orthonormalizing (1197, 200) action matrix\n",
      "2022-02-28 22:41:32,319 : INFO : 2nd phase: running dense svd on (200, 1204) matrix\n",
      "2022-02-28 22:41:32,429 : INFO : computing the final decomposition\n",
      "2022-02-28 22:41:32,434 : INFO : keeping 100 factors (discarding 14.009% of energy spectrum)\n",
      "2022-02-28 22:41:32,472 : INFO : merging projections: (1197, 100) + (1197, 100)\n",
      "2022-02-28 22:41:32,591 : INFO : keeping 100 factors (discarding 8.175% of energy spectrum)\n",
      "2022-02-28 22:41:32,616 : INFO : processed documents up to #3204\n",
      "2022-02-28 22:41:32,622 : INFO : topic #0(225.136): 0.759*\",\" + 0.337*\"-\" + 0.196*\"system\" + 0.186*\"program\" + 0.166*\"comput\" + 0.139*\"(\" + 0.103*\")\" + 0.103*\"algorithm\" + 0.099*\"languag\" + 0.087*\"time\"\n",
      "2022-02-28 22:41:32,625 : INFO : topic #1(87.805): 0.613*\"-\" + -0.399*\",\" + 0.399*\"(\" + 0.326*\"algorithm\" + 0.293*\")\" + -0.129*\"system\" + -0.107*\"program\" + 0.085*\"method\" + 0.077*\"time\" + 0.062*\"1\"\n",
      "2022-02-28 22:41:32,628 : INFO : topic #2(81.909): 0.550*\"-\" + -0.434*\"(\" + 0.355*\"system\" + -0.321*\")\" + -0.291*\",\" + -0.266*\"algorithm\" + 0.146*\"program\" + 0.123*\"comput\" + 0.078*\"time\" + -0.064*\"[\"\n",
      "2022-02-28 22:41:32,631 : INFO : topic #3(72.433): -0.693*\"program\" + 0.339*\",\" + 0.279*\"-\" + -0.251*\"(\" + -0.221*\"system\" + -0.214*\"languag\" + -0.204*\")\" + -0.160*\"comput\" + -0.099*\"data\" + -0.056*\"execut\"\n",
      "2022-02-28 22:41:32,634 : INFO : topic #4(68.523): -0.673*\"system\" + 0.453*\"program\" + 0.254*\"languag\" + 0.212*\"-\" + -0.179*\"comput\" + -0.165*\"(\" + -0.121*\")\" + -0.115*\"model\" + 0.101*\",\" + -0.098*\"algorithm\"\n",
      "2022-02-28 22:41:32,636 : INFO : LsiModel lifecycle event {'msg': 'trained LsiModel(num_terms=1197, num_topics=100, decay=1.0, chunksize=2000) in 1.12s', 'datetime': '2022-02-28T22:41:32.636311', 'gensim': '4.1.2', 'python': '3.8.10 (default, Nov 26 2021, 20:14:08) \\n[GCC 9.3.0]', 'platform': 'Linux-5.13.0-30-generic-x86_64-with-glibc2.29', 'event': 'created'}\n"
     ]
    },
    {
     "data": {
      "text/plain": [
       "[(0, 0.015215717711700463),\n",
       " (1, -0.016284375473237835),\n",
       " (2, -0.00019591005130067864),\n",
       " (3, -0.001808832326260389),\n",
       " (4, -0.009430014587644286),\n",
       " (5, -0.004693894665209287),\n",
       " (6, 0.02702363485027387),\n",
       " (7, 0.016804012411429384),\n",
       " (8, -0.03174794850518741),\n",
       " (9, -0.0007886045531867378),\n",
       " (10, 0.0019324922287916654),\n",
       " (11, -0.01739449232607838),\n",
       " (12, -9.349903823008612e-05),\n",
       " (13, 0.001431733709732541),\n",
       " (14, 0.003911549090506826),\n",
       " (15, 0.005385051094308078),\n",
       " (16, 0.0048910892688646115),\n",
       " (17, 0.0015752948176985804),\n",
       " (18, -0.018395314953061723),\n",
       " (19, 0.0191159233424202),\n",
       " (20, -0.010625781262997364),\n",
       " (21, -0.012995022212821405),\n",
       " (22, 0.048207257057140615),\n",
       " (23, 0.026313654351854444),\n",
       " (24, -0.012237514202258708),\n",
       " (25, -0.010179734927448718),\n",
       " (26, 0.004979904053478024),\n",
       " (27, 0.0760855241213785),\n",
       " (28, -0.06177084525894782),\n",
       " (29, 0.029200026476048115),\n",
       " (30, 0.04309859800809186),\n",
       " (31, 0.049992410223401215),\n",
       " (32, -0.07677703384790499),\n",
       " (33, 0.042872367343043956),\n",
       " (34, -0.020117532942203593),\n",
       " (35, 0.06207988260334006),\n",
       " (36, 0.03973850032524597),\n",
       " (37, -0.0029709152315961964),\n",
       " (38, -0.061134479140620174),\n",
       " (39, 0.024654690543211195),\n",
       " (40, -0.04416845738486743),\n",
       " (41, -0.02959978745719426),\n",
       " (42, 0.023492854423150356),\n",
       " (43, 0.006994359064649082),\n",
       " (44, 0.01591920705734865),\n",
       " (45, 0.060482414933012985),\n",
       " (46, -0.012189284635721116),\n",
       " (47, 0.004076338188763179),\n",
       " (48, 0.020599532683675995),\n",
       " (49, 0.025882888247467123),\n",
       " (50, 0.013340009283231166),\n",
       " (51, 0.0532345230552204),\n",
       " (52, -0.009649086005637493),\n",
       " (53, -0.0017217556525889665),\n",
       " (54, 0.04219042360530682),\n",
       " (55, 0.00017124789134743273),\n",
       " (56, 0.03044930447763041),\n",
       " (57, -0.013921421705764608),\n",
       " (58, -0.01614505137400106),\n",
       " (59, 0.0399561749111895),\n",
       " (60, -0.007611703353986204),\n",
       " (61, -0.051967413964014456),\n",
       " (62, -0.009909767833661935),\n",
       " (63, -0.005451603526513145),\n",
       " (64, 0.06549501452387572),\n",
       " (65, 0.032196456300409786),\n",
       " (66, 0.00133698265557553),\n",
       " (67, -0.0023320087344514406),\n",
       " (68, -0.07071715330387437),\n",
       " (69, -0.04624517325498788),\n",
       " (70, -0.06405818773807792),\n",
       " (71, -0.022609539558634744),\n",
       " (72, 0.012895035507837504),\n",
       " (73, 0.08558567079266292),\n",
       " (74, -0.044880121198170836),\n",
       " (75, 0.03101188461184682),\n",
       " (76, 0.022608509671001083),\n",
       " (77, -0.01312654803550976),\n",
       " (78, 0.04240132935787662),\n",
       " (79, -0.0255814522982392),\n",
       " (80, -0.02005207836360385),\n",
       " (81, 0.00507459389126743),\n",
       " (82, 0.059525285635159304),\n",
       " (83, -0.0037943656626536412),\n",
       " (84, -0.0453328882489953),\n",
       " (85, 0.005113401962166607),\n",
       " (86, -0.004064743878441414),\n",
       " (87, -0.0240304461001399),\n",
       " (88, -0.08851384890825645),\n",
       " (89, -0.07616605749741351),\n",
       " (90, 0.011492420020449812),\n",
       " (91, 0.04308886649890589),\n",
       " (92, 0.002875676511025627),\n",
       " (93, -0.04732294083209232),\n",
       " (94, -0.066244941350566),\n",
       " (95, -0.015773430757476503),\n",
       " (96, 0.006275387046265521),\n",
       " (97, -0.011242296210112713),\n",
       " (98, 0.017489426132320754),\n",
       " (99, 0.03805818330764997)]"
      ]
     },
     "execution_count": 78,
     "metadata": {},
     "output_type": "execute_result"
    }
   ],
   "source": [
    "##### Function check\n",
    "lsi = LsiRetrievalModel(doc_repr_2)\n",
    "lsi.train_model()\n",
    "\n",
    "# you can now get an LSI vector for a given query in the following way:\n",
    "lsi.vectorize_query(\"report\")\n",
    "##### "
   ]
  },
  {
   "cell_type": "markdown",
   "metadata": {
    "deletable": false,
    "editable": false,
    "nbgrader": {
     "cell_type": "markdown",
     "checksum": "7116bb9f576c5bb04934e1d59c51d729",
     "grade": false,
     "grade_id": "cell-4c5eeb557b4fca2f",
     "locked": true,
     "points": 5,
     "schema_version": 3,
     "solution": false,
     "task": true
    }
   },
   "source": [
    "\\#### Please do not change this. This cell is used for grading."
   ]
  },
  {
   "cell_type": "markdown",
   "metadata": {
    "deletable": false,
    "editable": false,
    "nbgrader": {
     "cell_type": "markdown",
     "checksum": "26e2ff3c413745e633d99f66c041d6b1",
     "grade": false,
     "grade_id": "cell-c4e50296cd17a555",
     "locked": true,
     "schema_version": 3,
     "solution": false,
     "task": false
    }
   },
   "source": [
    "---\n",
    "**Implementation (5 points):**\n",
    " Next, implement a basic ranking class for vector space retrieval (used for all semantic methods): "
   ]
  },
  {
   "cell_type": "code",
   "execution_count": 79,
   "metadata": {
    "deletable": false,
    "nbgrader": {
     "cell_type": "code",
     "checksum": "1a8389d2f0635c3405e2b0b27ed9f327",
     "grade": false,
     "grade_id": "cell-250515d288e80cdc",
     "locked": false,
     "schema_version": 3,
     "solution": true,
     "task": false
    }
   },
   "outputs": [],
   "source": [
    "# TODO: Implement this! (5 points)\n",
    "class DenseRetrievalRanker:\n",
    "    def __init__(self, vsrm, similarity_fn):\n",
    "        \"\"\"\n",
    "            vsrm: instance of `VectorSpaceRetrievalModel`\n",
    "            similarity_fn: function instance that takes in two vectors \n",
    "                            and returns a similarity score e.g cosine_sim defined earlier\n",
    "        \"\"\"\n",
    "        self.vsrm = vsrm\n",
    "        self.vectorized_documents = self.vsrm.vectorize_documents()\n",
    "        self.similarity_fn = similarity_fn\n",
    "    \n",
    "    def _compute_sim(self, query_vector):\n",
    "        \"\"\"\n",
    "            Compute the similarity of `query_vector` to documents in \n",
    "            `self.vectorized_documents` using `self.similarity_fn`\n",
    "            Returns a list of (doc_id, score) tuples\n",
    "        \"\"\"\n",
    "        \n",
    "        scores=[]\n",
    "        for k in self.vectorized_documents.keys():\n",
    "            scores.append((k, self.similarity_fn(self.vectorized_documents[k], query_vector)))\n",
    "        return scores\n",
    "    \n",
    "    def search(self, query):\n",
    "        scores = self._compute_sim(self.vsrm.vectorize_query(query))\n",
    "        scores.sort(key=lambda _:-_[1])\n",
    "        return scores"
   ]
  },
  {
   "cell_type": "code",
   "execution_count": 80,
   "metadata": {
    "deletable": false,
    "editable": false,
    "nbgrader": {
     "cell_type": "code",
     "checksum": "f237dd1ef6c1783c06797f4b514421f5",
     "grade": true,
     "grade_id": "cell-b73068b3e77a8e31",
     "locked": true,
     "points": 0,
     "schema_version": 3,
     "solution": false,
     "task": false
    }
   },
   "outputs": [
    {
     "data": {
      "text/plain": [
       "[('599', 0.7907582802332579),\n",
       " ('947', 0.585908090542798),\n",
       " ('53', 0.5169029466390589),\n",
       " ('3160', 0.4504633640246471),\n",
       " ('1339', 0.43249555318968474)]"
      ]
     },
     "execution_count": 80,
     "metadata": {},
     "output_type": "execute_result"
    }
   ],
   "source": [
    "##### Function check\n",
    "drm_lsi = DenseRetrievalRanker(lsi, cosine_sim)\n",
    "drm_lsi.search(\"report\")[:5]\n",
    "##### "
   ]
  },
  {
   "cell_type": "markdown",
   "metadata": {
    "deletable": false,
    "editable": false,
    "nbgrader": {
     "cell_type": "markdown",
     "checksum": "5b3f19fdcaa585d263706d5a26038799",
     "grade": false,
     "grade_id": "cell-034c755a6502b868",
     "locked": true,
     "points": 5,
     "schema_version": 3,
     "solution": false,
     "task": true
    }
   },
   "source": [
    "\\#### Please do not change this. This cell is used for grading."
   ]
  },
  {
   "cell_type": "markdown",
   "metadata": {
    "deletable": false,
    "editable": false,
    "nbgrader": {
     "cell_type": "markdown",
     "checksum": "dcafef6e037033c46304b914f7c78bdf",
     "grade": false,
     "grade_id": "cell-d1df23f497d5ed6b",
     "locked": true,
     "schema_version": 3,
     "solution": false,
     "task": false
    }
   },
   "source": [
    "---\n",
    "Now, you can test your LSI model in the following cell: try finding queries which are lexically different to documents, but semantically similar - does LSI work well for these queries?!"
   ]
  },
  {
   "cell_type": "code",
   "execution_count": 81,
   "metadata": {
    "deletable": false,
    "editable": false,
    "nbgrader": {
     "cell_type": "code",
     "checksum": "11734bc7674377b340ad51297a8e8bb5",
     "grade": false,
     "grade_id": "cell-efd1d08dfc04ec3e",
     "locked": true,
     "schema_version": 3,
     "solution": false,
     "task": false
    }
   },
   "outputs": [
    {
     "data": {
      "application/vnd.jupyter.widget-view+json": {
       "model_id": "c610e6a5d05444d8bca411b6530df6ea",
       "version_major": 2,
       "version_minor": 0
      },
      "text/plain": [
       "Text(value='', description='Search Bar')"
      ]
     },
     "metadata": {},
     "output_type": "display_data"
    }
   ],
   "source": [
    "# test your LSI model\n",
    "search_fn = drm_lsi.search\n",
    "\n",
    "text = widgets.Text(description=\"Search Bar\", width=200)\n",
    "display(text)\n",
    "\n",
    "def make_results_2(query, search_fn):\n",
    "    results = []\n",
    "    for doc_id, score in search_fn(query):\n",
    "        highlight = highlight_text(docs_by_id[doc_id], query)\n",
    "        if len(highlight.strip()) == 0:\n",
    "            highlight = docs_by_id[doc_id]\n",
    "        results.append(ResultRow(doc_id, highlight, score))\n",
    "    return results\n",
    "\n",
    "def handle_submit_2(sender):\n",
    "    print(f\"Searching for: '{sender.value}' (SEARCH FN: {search_fn})\")\n",
    "    \n",
    "    results = make_results_2(sender.value, search_fn)\n",
    "    \n",
    "    # display only the top 5\n",
    "    results = results[:5]\n",
    "    \n",
    "    body = \"\"\n",
    "    for idx, r in enumerate(results):\n",
    "        body += f\"<li>Document #{r.doc_id}({r.score}): {r.snippet}</li>\"\n",
    "    display(HTML(f\"<ul>{body}</ul>\"))\n",
    "    \n",
    "\n",
    "text.on_submit(handle_submit_2)"
   ]
  },
  {
   "cell_type": "markdown",
   "metadata": {
    "deletable": false,
    "editable": false,
    "nbgrader": {
     "cell_type": "markdown",
     "checksum": "d074ce1ca48384cdda78742741c938be",
     "grade": false,
     "grade_id": "cell-3a86cef264d8f6cf",
     "locked": true,
     "schema_version": 3,
     "solution": false,
     "task": false
    }
   },
   "source": [
    "---\n",
    "## Section 7: Latent Dirichlet Allocation (LDA) (10 points) <a class=\"anchor\" id=\"lda\"></a>\n",
    "\n",
    "[Back to Part 2](#part2)\n",
    "\n",
    "The specifics of LDA is out of the scope of this assignment, but we will use the `gensim` implementation to perform search using LDA over our small document collection. The key thing to remember is that LDA, unlike LSI, outputs a topic **distribution**, not a vector. With that in mind, let's first define a similarity measure.\n"
   ]
  },
  {
   "cell_type": "markdown",
   "metadata": {
    "deletable": false,
    "editable": false,
    "nbgrader": {
     "cell_type": "markdown",
     "checksum": "db01092373b18f0c9dfed1bb17db4ad9",
     "grade": false,
     "grade_id": "cell-6b78ad22c2d60ba7",
     "locked": true,
     "schema_version": 3,
     "solution": false,
     "task": false
    }
   },
   "source": [
    "---\n",
    "### Section 7.1: Jenson-Shannon divergence (5 points) <a class=\"anchor\" id=\"js_sim\"></a>\n",
    "\n",
    "The Jenson-Shannon divergence is a symmetric and finite measure on two probability distributions (unlike the KL, which is neither). For identical distributions, the JSD is equal to 0, and since our code uses 0 as irrelevant and higher scores as relevant, we use `(1 - JSD)` as the score or 'similarity' in our setup\n",
    "\n",
    "**Note**: the JSD is bounded to \\[0,1\\] only if we use log base 2. So please ensure that you're using `np.log2` instead of `np.log`"
   ]
  },
  {
   "cell_type": "code",
   "execution_count": 82,
   "metadata": {
    "deletable": false,
    "nbgrader": {
     "cell_type": "code",
     "checksum": "a579e6cd7a24a3516bc9a84528b392d3",
     "grade": false,
     "grade_id": "cell-d2376a85a4841e98",
     "locked": false,
     "schema_version": 3,
     "solution": true,
     "task": false
    }
   },
   "outputs": [],
   "source": [
    "## TODO: Implement this! (5 points)\n",
    "def KL_divergence(p, q):\n",
    "    return sum(p[i] * np.log2(p[i]/q[i]) for i in range(len(p)) if q[i] != 0 or q[i] != 0.0)\n",
    "\n",
    "def jenson_shannon_divergence(vec_1, vec_2, assert_prob=False):\n",
    "    \"\"\"\n",
    "        Computes the Jensen-Shannon divergence between two probability distributions. \n",
    "        NOTE: DO NOT RETURN 1 - JSD here, that is handled by the next function which is already implemented! \n",
    "        The inputs are *gensim* vectors - same as the vectors for the cosine_sim function\n",
    "        assert_prob is a flag that checks if the inputs are proper probability distributions \n",
    "            i.e they sum to 1 and are positive - use this to check your inputs if needed. \n",
    "                (This is optional to implement, but recommended - \n",
    "                you can the default to False to save a few ms off the runtime)\n",
    "    \"\"\"\n",
    "    \n",
    "    vec_1=np.array(vec_1)[:,1]\n",
    "    vec_2=np.array(vec_2)[:,1]\n",
    "    m = 0.5 * (vec_1 + vec_2)\n",
    "    return 0.5 * KL_divergence(vec_1, m) + 0.5 * KL_divergence(vec_2, m)\n",
    "    \n",
    "\n",
    "def jenson_shannon_sim(vec_1, vec_2, assert_prob=False):\n",
    "    return 1 - jenson_shannon_divergence(vec_1, vec_2)"
   ]
  },
  {
   "cell_type": "code",
   "execution_count": 83,
   "metadata": {
    "deletable": false,
    "editable": false,
    "nbgrader": {
     "cell_type": "code",
     "checksum": "ab340aa941c9fb5c89b3fd0a9139e246",
     "grade": true,
     "grade_id": "cell-487c6d2933f38053",
     "locked": true,
     "points": 5,
     "schema_version": 3,
     "solution": false,
     "task": false
    }
   },
   "outputs": [
    {
     "data": {
      "text/plain": [
       "0.9251064410358459"
      ]
     },
     "execution_count": 83,
     "metadata": {},
     "output_type": "execute_result"
    }
   ],
   "source": [
    "##### Function check\n",
    "vec_1 = [(1, 0.3), (2, 0.4), (3, 0.3)]\n",
    "vec_2 = [(1, 0.1), (2, 0.7), (3, 0.2)]\n",
    "jenson_shannon_sim(vec_1, vec_2, assert_prob=True)\n",
    "##### "
   ]
  },
  {
   "cell_type": "markdown",
   "metadata": {
    "deletable": false,
    "editable": false,
    "nbgrader": {
     "cell_type": "markdown",
     "checksum": "0a1583a5f23e3390038331cce67f5d8e",
     "grade": false,
     "grade_id": "cell-4535cc67a50b80fa",
     "locked": true,
     "schema_version": 3,
     "solution": false,
     "task": false
    }
   },
   "source": [
    "---\n",
    "### Section 7.2: LDA retrieval (5 points) <a class=\"anchor\" id=\"lda_ret\"></a>\n",
    "\n",
    "Implement the `train_model` method in the following class (note that this is only one line of code in `gensim`!). Ensure that the parameters defined in the `__init__` method are not changed, and are *used in the `train_method` function*. You do not need to set this. Normally, the hyperaparameter space will be searched using grid search / other methods. Note that training the LDA model might take some time\n",
    "\n",
    "The last two lines of code train an LDA model on the list of documents which have been stemmed, lower-cased and have stopwords removed. "
   ]
  },
  {
   "cell_type": "code",
   "execution_count": 84,
   "metadata": {
    "deletable": false,
    "nbgrader": {
     "cell_type": "code",
     "checksum": "27de8e4fa85536bb396b73bfc51b3f50",
     "grade": false,
     "grade_id": "cell-021a48dff4a8bb91",
     "locked": false,
     "schema_version": 3,
     "solution": true,
     "task": false
    }
   },
   "outputs": [],
   "source": [
    "# TODO: Implement this! (5 points)\n",
    "class LdaRetrievalModel(VectorSpaceRetrievalModel):\n",
    "    def __init__(self, doc_repr):\n",
    "        super().__init__(doc_repr)\n",
    "        \n",
    "        # use these parameters in the train_model method\n",
    "        self.num_topics = 100\n",
    "        self.chunksize = 2000\n",
    "        self.passes = 20\n",
    "        self.iterations = 400\n",
    "        self.eval_every = 10\n",
    "        # this is need to get full vectors\n",
    "        self.minimum_probability=0.0\n",
    "        self.alpha='auto'\n",
    "        self.eta='auto'\n",
    "    \n",
    "    \n",
    "    def train_model(self):\n",
    "        self.model=LdaModel(self.corpus, num_topics=self.num_topics, chunksize=self.chunksize, passes=self.passes, \n",
    "                           iterations=self.iterations, eval_every=self.eval_every, minimum_probability=self.minimum_probability,\n",
    "                           alpha=self.alpha, eta=self.eta)"
   ]
  },
  {
   "cell_type": "code",
   "execution_count": 85,
   "metadata": {
    "deletable": false,
    "editable": false,
    "nbgrader": {
     "cell_type": "code",
     "checksum": "be70fcb8098d0b6ce64cd2a10e6a05b7",
     "grade": true,
     "grade_id": "cell-86750b715f0345fd",
     "locked": true,
     "points": 0,
     "schema_version": 3,
     "solution": false,
     "task": false
    }
   },
   "outputs": [
    {
     "name": "stderr",
     "output_type": "stream",
     "text": [
      "2022-02-28 22:41:33,876 : INFO : adding document #0 to Dictionary(0 unique tokens: [])\n",
      "2022-02-28 22:41:34,064 : INFO : built Dictionary(5937 unique tokens: ['-', 'algebra', 'intern', 'languag', 'preliminari']...) from 3204 documents (total 115969 corpus positions)\n",
      "2022-02-28 22:41:34,066 : INFO : Dictionary lifecycle event {'msg': \"built Dictionary(5937 unique tokens: ['-', 'algebra', 'intern', 'languag', 'preliminari']...) from 3204 documents (total 115969 corpus positions)\", 'datetime': '2022-02-28T22:41:34.066417', 'gensim': '4.1.2', 'python': '3.8.10 (default, Nov 26 2021, 20:14:08) \\n[GCC 9.3.0]', 'platform': 'Linux-5.13.0-30-generic-x86_64-with-glibc2.29', 'event': 'created'}\n",
      "2022-02-28 22:41:34,076 : INFO : discarding 4740 tokens: [('repeat', 8), ('glossari', 7), ('inspect', 8), ('uncol', 2), ('rung', 9), ('secant', 2), ('.', 1603), ('acceler', 6), ('diverg', 3), ('induc', 9)]...\n",
      "2022-02-28 22:41:34,077 : INFO : keeping 1197 tokens which were in no less than 10 and no more than 1602 (=50.0%) documents\n",
      "2022-02-28 22:41:34,082 : INFO : resulting dictionary: Dictionary(1197 unique tokens: ['-', 'algebra', 'intern', 'languag', 'preliminari']...)\n",
      "2022-02-28 22:41:34,157 : WARNING : no word id mapping provided; initializing from corpus, assuming identity\n",
      "2022-02-28 22:41:34,167 : INFO : using autotuned alpha, starting with [0.01, 0.01, 0.01, 0.01, 0.01, 0.01, 0.01, 0.01, 0.01, 0.01, 0.01, 0.01, 0.01, 0.01, 0.01, 0.01, 0.01, 0.01, 0.01, 0.01, 0.01, 0.01, 0.01, 0.01, 0.01, 0.01, 0.01, 0.01, 0.01, 0.01, 0.01, 0.01, 0.01, 0.01, 0.01, 0.01, 0.01, 0.01, 0.01, 0.01, 0.01, 0.01, 0.01, 0.01, 0.01, 0.01, 0.01, 0.01, 0.01, 0.01, 0.01, 0.01, 0.01, 0.01, 0.01, 0.01, 0.01, 0.01, 0.01, 0.01, 0.01, 0.01, 0.01, 0.01, 0.01, 0.01, 0.01, 0.01, 0.01, 0.01, 0.01, 0.01, 0.01, 0.01, 0.01, 0.01, 0.01, 0.01, 0.01, 0.01, 0.01, 0.01, 0.01, 0.01, 0.01, 0.01, 0.01, 0.01, 0.01, 0.01, 0.01, 0.01, 0.01, 0.01, 0.01, 0.01, 0.01, 0.01, 0.01, 0.01]\n",
      "2022-02-28 22:41:34,171 : INFO : using serial LDA version on this node\n",
      "2022-02-28 22:41:34,187 : INFO : running online (multi-pass) LDA training, 100 topics, 20 passes over the supplied corpus of 3204 documents, updating model once every 2000 documents, evaluating perplexity every 3204 documents, iterating 400x with a convergence threshold of 0.001000\n",
      "2022-02-28 22:41:34,188 : INFO : PROGRESS: pass 0, at document #2000/3204\n",
      "2022-02-28 22:41:35,749 : INFO : optimized alpha [0.009807951, 0.00980804, 0.009776846, 0.009807985, 0.009834156, 0.00981858, 0.009776869, 0.009818597, 0.0097923055, 0.009900219, 0.009803052, 0.009870354, 0.00979246, 0.009802762, 0.009854171, 0.009823622, 0.00977675, 0.009818443, 0.009771655, 0.00986438, 0.009828229, 0.009802681, 0.009776829, 0.0098234005, 0.009787208, 0.009834739, 0.00979752, 0.009792461, 0.009802755, 0.0098498175, 0.009895062, 0.009771775, 0.009782088, 0.009807656, 0.009853791, 0.009891367, 0.0098289065, 0.009865333, 0.009818272, 0.00979737, 0.009797335, 0.009771929, 0.009792238, 0.009828828, 0.009782004, 0.009782237, 0.009844573, 0.009905043, 0.009884168, 0.00979728, 0.0099275885, 0.009870302, 0.009854639, 0.009843834, 0.009776972, 0.009802735, 0.009797595, 0.009797394, 0.009776814, 0.009854516, 0.009776816, 0.010024819, 0.009843141, 0.009829085, 0.009844328, 0.0098446235, 0.009808125, 0.009766595, 0.009797548, 0.009807706, 0.009792487, 0.009792424, 0.009776901, 0.009828754, 0.009802735, 0.009776928, 0.009844364, 0.009870353, 0.009792621, 0.009771616, 0.00988576, 0.009849592, 0.009781999, 0.009983841, 0.009932335, 0.009782244, 0.009859524, 0.0098652635, 0.009864857, 0.009818281, 0.009797708, 0.009813531, 0.009776901, 0.009859588, 0.0098285675, 0.009958966, 0.009891334, 0.009804798, 0.01016224, 0.009776841]\n",
      "2022-02-28 22:41:35,754 : INFO : merging changes from 2000 documents into a model of 3204 documents\n",
      "2022-02-28 22:41:35,760 : INFO : topic #16 (0.010): 0.073*\"83\" + 0.072*\"146\" + 0.071*\"611\" + 0.063*\"50\" + 0.054*\"1015\" + 0.054*\"34\" + 0.027*\"485\" + 0.027*\"78\" + 0.027*\"254\" + 0.027*\"531\"\n",
      "2022-02-28 22:41:35,761 : INFO : topic #70 (0.010): 0.039*\"0\" + 0.037*\"69\" + 0.032*\"6\" + 0.032*\"757\" + 0.028*\"27\" + 0.028*\"239\" + 0.028*\"611\" + 0.028*\"224\" + 0.023*\"604\" + 0.023*\"1034\"\n",
      "2022-02-28 22:41:35,762 : INFO : topic #61 (0.010): 0.060*\"0\" + 0.056*\"83\" + 0.050*\"34\" + 0.040*\"50\" + 0.032*\"35\" + 0.015*\"611\" + 0.012*\"1015\" + 0.012*\"254\" + 0.011*\"3\" + 0.010*\"47\"\n",
      "2022-02-28 22:41:35,763 : INFO : topic #83 (0.010): 0.047*\"50\" + 0.039*\"0\" + 0.024*\"34\" + 0.020*\"6\" + 0.019*\"115\" + 0.018*\"13\" + 0.018*\"49\" + 0.017*\"83\" + 0.017*\"41\" + 0.015*\"35\"\n",
      "2022-02-28 22:41:35,763 : INFO : topic #98 (0.010): 0.067*\"50\" + 0.049*\"0\" + 0.022*\"6\" + 0.021*\"49\" + 0.016*\"34\" + 0.012*\"13\" + 0.011*\"115\" + 0.011*\"35\" + 0.010*\"174\" + 0.009*\"29\"\n",
      "2022-02-28 22:41:35,764 : INFO : topic diff=82.873543, rho=1.000000\n",
      "2022-02-28 22:41:36,752 : INFO : -7.281 per-word bound, 155.5 perplexity estimate based on a held-out corpus of 1204 documents with 49783 words\n",
      "2022-02-28 22:41:36,753 : INFO : PROGRESS: pass 0, at document #3204/3204\n",
      "2022-02-28 22:41:37,589 : INFO : optimized alpha [0.0098258015, 0.009885005, 0.009999851, 0.009909084, 0.010129295, 0.01000287, 0.009648376, 0.009973461, 0.010001175, 0.009880002, 0.009880683, 0.010329367, 0.009838578, 0.00995519, 0.00981771, 0.0099479435, 0.010060253, 0.009895176, 0.009684095, 0.009893482, 0.009935063, 0.00993645, 0.0097171385, 0.0099108545, 0.010020997, 0.01022744, 0.009896987, 0.009915687, 0.00980888, 0.009945625, 0.009727116, 0.009811265, 0.009874571, 0.009818858, 0.009776252, 0.010046324, 0.010030187, 0.0100741675, 0.009965388, 0.009855316, 0.009966796, 0.010082958, 0.009961235, 0.010123167, 0.010319517, 0.010163999, 0.010117654, 0.010100534, 0.010025426, 0.009948181, 0.010334861, 0.010137917, 0.010068792, 0.0098780915, 0.0097892275, 0.009815274, 0.009844477, 0.009831773, 0.009851169, 0.009961034, 0.009636482, 0.010183944, 0.009995301, 0.009871789, 0.010123598, 0.010350914, 0.0099491505, 0.009881691, 0.009855761, 0.009806765, 0.009974655, 0.009815375, 0.009765269, 0.010035999, 0.00988422, 0.009852156, 0.010151591, 0.010007221, 0.009927148, 0.009701357, 0.010028085, 0.009914993, 0.009946015, 0.010029514, 0.0101645915, 0.009848238, 0.009811306, 0.0100732725, 0.009870257, 0.009883511, 0.009863249, 0.009961261, 0.009975894, 0.01013202, 0.00995733, 0.010535166, 0.0102252895, 0.009810137, 0.010458725, 0.009782161]\n",
      "2022-02-28 22:41:37,597 : INFO : merging changes from 1204 documents into a model of 3204 documents\n",
      "2022-02-28 22:41:37,605 : INFO : topic #6 (0.010): 0.231*\"324\" + 0.070*\"649\" + 0.069*\"416\" + 0.057*\"0\" + 0.056*\"491\" + 0.043*\"252\" + 0.040*\"679\" + 0.040*\"650\" + 0.037*\"224\" + 0.036*\"15\"\n",
      "2022-02-28 22:41:37,606 : INFO : topic #60 (0.010): 0.177*\"269\" + 0.089*\"341\" + 0.086*\"854\" + 0.048*\"34\" + 0.044*\"83\" + 0.040*\"940\" + 0.037*\"340\" + 0.035*\"35\" + 0.030*\"224\" + 0.026*\"795\"\n",
      "2022-02-28 22:41:37,609 : INFO : topic #50 (0.010): 0.085*\"50\" + 0.064*\"13\" + 0.031*\"3\" + 0.028*\"0\" + 0.026*\"34\" + 0.021*\"35\" + 0.016*\"604\" + 0.016*\"176\" + 0.015*\"49\" + 0.012*\"458\"\n",
      "2022-02-28 22:41:37,610 : INFO : topic #98 (0.010): 0.078*\"50\" + 0.045*\"0\" + 0.022*\"49\" + 0.022*\"6\" + 0.013*\"34\" + 0.013*\"115\" + 0.011*\"29\" + 0.010*\"176\" + 0.009*\"35\" + 0.009*\"131\"\n",
      "2022-02-28 22:41:37,614 : INFO : topic #95 (0.011): 0.085*\"50\" + 0.047*\"49\" + 0.042*\"0\" + 0.026*\"146\" + 0.016*\"57\" + 0.015*\"135\" + 0.014*\"518\" + 0.013*\"690\" + 0.013*\"45\" + 0.012*\"996\"\n",
      "2022-02-28 22:41:37,616 : INFO : topic diff=0.790388, rho=0.707107\n",
      "2022-02-28 22:41:37,625 : INFO : PROGRESS: pass 1, at document #2000/3204\n",
      "2022-02-28 22:41:38,468 : INFO : optimized alpha [0.00981193, 0.0098206345, 0.009961302, 0.009870539, 0.010051479, 0.010083521, 0.009683419, 0.009920616, 0.00994386, 0.01001442, 0.009835113, 0.010238638, 0.009837562, 0.00996564, 0.009807165, 0.009858132, 0.010340756, 0.009867385, 0.010275042, 0.009818177, 0.009969905, 0.009978435, 0.009688899, 0.009869221, 0.010073681, 0.0101971235, 0.009841859, 0.0099210655, 0.009777077, 0.009907242, 0.0096682925, 0.009742137, 0.009890767, 0.009865067, 0.0098867705, 0.010041779, 0.009954886, 0.010030852, 0.009888, 0.009785699, 0.00999839, 0.010085606, 0.009967325, 0.010069692, 0.010345122, 0.010177137, 0.010056583, 0.010001638, 0.009979305, 0.01012697, 0.010267068, 0.010046355, 0.0100658005, 0.009834662, 0.00990451, 0.009928129, 0.009814217, 0.009754658, 0.009823268, 0.009878682, 0.009574258, 0.010099567, 0.009885347, 0.00983448, 0.01002979, 0.010298947, 0.009861848, 0.009952754, 0.00984664, 0.009821606, 0.009982073, 0.009843863, 0.009944438, 0.009970956, 0.010027219, 0.009777392, 0.010083874, 0.010015385, 0.009898073, 0.009741534, 0.00991795, 0.0098502515, 0.010115426, 0.009943723, 0.010138049, 0.0098397015, 0.009703908, 0.010005298, 0.0098937275, 0.009856046, 0.00979661, 0.009929971, 0.010022991, 0.010064891, 0.009877676, 0.010448352, 0.010121094, 0.009793692, 0.010390931, 0.009840984]\n"
     ]
    },
    {
     "name": "stderr",
     "output_type": "stream",
     "text": [
      "2022-02-28 22:41:38,476 : INFO : merging changes from 2000 documents into a model of 3204 documents\n",
      "2022-02-28 22:41:38,484 : INFO : topic #60 (0.010): 0.083*\"341\" + 0.082*\"269\" + 0.074*\"1018\" + 0.059*\"340\" + 0.053*\"940\" + 0.051*\"34\" + 0.044*\"854\" + 0.039*\"83\" + 0.034*\"230\" + 0.034*\"1015\"\n",
      "2022-02-28 22:41:38,485 : INFO : topic #30 (0.010): 0.119*\"94\" + 0.067*\"34\" + 0.060*\"35\" + 0.049*\"83\" + 0.042*\"50\" + 0.030*\"73\" + 0.022*\"267\" + 0.021*\"237\" + 0.018*\"472\" + 0.018*\"0\"\n",
      "2022-02-28 22:41:38,485 : INFO : topic #65 (0.010): 0.077*\"49\" + 0.074*\"50\" + 0.039*\"13\" + 0.025*\"64\" + 0.022*\"0\" + 0.014*\"186\" + 0.013*\"165\" + 0.013*\"240\" + 0.013*\"613\" + 0.012*\"135\"\n",
      "2022-02-28 22:41:38,486 : INFO : topic #95 (0.010): 0.085*\"50\" + 0.053*\"49\" + 0.043*\"0\" + 0.028*\"146\" + 0.018*\"57\" + 0.015*\"518\" + 0.015*\"135\" + 0.014*\"45\" + 0.013*\"13\" + 0.010*\"690\"\n",
      "2022-02-28 22:41:38,487 : INFO : topic #98 (0.010): 0.078*\"50\" + 0.047*\"0\" + 0.023*\"6\" + 0.022*\"49\" + 0.013*\"34\" + 0.011*\"115\" + 0.010*\"174\" + 0.010*\"176\" + 0.010*\"29\" + 0.009*\"582\"\n",
      "2022-02-28 22:41:38,489 : INFO : topic diff=0.312311, rho=0.526900\n",
      "2022-02-28 22:41:39,470 : INFO : -6.896 per-word bound, 119.1 perplexity estimate based on a held-out corpus of 1204 documents with 49783 words\n",
      "2022-02-28 22:41:39,471 : INFO : PROGRESS: pass 1, at document #3204/3204\n",
      "2022-02-28 22:41:40,247 : INFO : optimized alpha [0.009900357, 0.010005947, 0.0102173295, 0.01001675, 0.010265242, 0.010333792, 0.009668991, 0.009992036, 0.0101751415, 0.010073916, 0.009898566, 0.01050062, 0.009985666, 0.010163752, 0.0098481, 0.009960156, 0.010647464, 0.0099862935, 0.010968593, 0.009920828, 0.010057653, 0.010233352, 0.009793594, 0.009974417, 0.010253307, 0.010480477, 0.009956105, 0.010070333, 0.009840187, 0.010019061, 0.009611767, 0.009923511, 0.010082282, 0.009891006, 0.0098955, 0.01012115, 0.010141423, 0.010133406, 0.010015846, 0.009938885, 0.010284394, 0.010387197, 0.010154889, 0.010251039, 0.010777021, 0.0105078425, 0.01025301, 0.01015245, 0.010026899, 0.010278907, 0.010501991, 0.010198102, 0.010293872, 0.009909572, 0.010036288, 0.0100778155, 0.009924412, 0.009851147, 0.010045218, 0.009910567, 0.009561645, 0.010204823, 0.009968848, 0.009889596, 0.010230368, 0.010714522, 0.010007389, 0.010169601, 0.01000845, 0.0099346, 0.010157597, 0.0099354815, 0.01010116, 0.0101483725, 0.010095008, 0.009922061, 0.0102969045, 0.010148401, 0.010134757, 0.00975633, 0.009976429, 0.009908743, 0.0105643775, 0.009957628, 0.010280179, 0.0099903615, 0.0096987095, 0.010151638, 0.0099469, 0.009980952, 0.009886435, 0.010036298, 0.010283509, 0.010247428, 0.009996235, 0.010730274, 0.010263499, 0.009894671, 0.0103923865, 0.01003004]\n",
      "2022-02-28 22:41:40,253 : INFO : merging changes from 1204 documents into a model of 3204 documents\n",
      "2022-02-28 22:41:40,261 : INFO : topic #60 (0.010): 0.160*\"269\" + 0.115*\"341\" + 0.080*\"854\" + 0.061*\"340\" + 0.060*\"940\" + 0.047*\"795\" + 0.036*\"34\" + 0.034*\"1018\" + 0.032*\"230\" + 0.030*\"25\"\n",
      "2022-02-28 22:41:40,262 : INFO : topic #30 (0.010): 0.307*\"94\" + 0.043*\"34\" + 0.040*\"35\" + 0.038*\"83\" + 0.033*\"50\" + 0.032*\"834\" + 0.029*\"95\" + 0.022*\"73\" + 0.022*\"472\" + 0.018*\"430\"\n",
      "2022-02-28 22:41:40,263 : INFO : topic #95 (0.011): 0.096*\"50\" + 0.059*\"49\" + 0.044*\"0\" + 0.032*\"146\" + 0.018*\"135\" + 0.017*\"57\" + 0.016*\"518\" + 0.014*\"996\" + 0.014*\"45\" + 0.013*\"765\"\n",
      "2022-02-28 22:41:40,264 : INFO : topic #44 (0.011): 0.113*\"1083\" + 0.060*\"79\" + 0.056*\"50\" + 0.053*\"429\" + 0.039*\"918\" + 0.035*\"448\" + 0.033*\"83\" + 0.033*\"1162\" + 0.030*\"24\" + 0.030*\"995\"\n",
      "2022-02-28 22:41:40,264 : INFO : topic #18 (0.011): 0.335*\"35\" + 0.315*\"34\" + 0.250*\"83\" + 0.032*\"691\" + 0.011*\"254\" + 0.009*\"536\" + 0.007*\"384\" + 0.005*\"348\" + 0.005*\"342\" + 0.004*\"174\"\n",
      "2022-02-28 22:41:40,265 : INFO : topic diff=0.420703, rho=0.526900\n",
      "2022-02-28 22:41:40,276 : INFO : PROGRESS: pass 2, at document #2000/3204\n",
      "2022-02-28 22:41:41,117 : INFO : optimized alpha [0.009941758, 0.00997864, 0.010209593, 0.009996217, 0.010212059, 0.0104998965, 0.009737608, 0.009951036, 0.010151231, 0.010164616, 0.009878118, 0.010440685, 0.00999595, 0.010206544, 0.009904582, 0.009900606, 0.011127834, 0.009975721, 0.012044629, 0.00987619, 0.010128778, 0.010331601, 0.009805722, 0.009984922, 0.010296167, 0.010463113, 0.009926745, 0.010138561, 0.00982471, 0.010001772, 0.009583157, 0.009896357, 0.010140418, 0.009971702, 0.009965081, 0.010151081, 0.010090745, 0.010107491, 0.00995479, 0.009912143, 0.010314398, 0.010411149, 0.010188381, 0.01020516, 0.010792865, 0.010521234, 0.010231728, 0.010086827, 0.009967957, 0.010442931, 0.010455104, 0.010131541, 0.010353203, 0.009913675, 0.010236261, 0.010254249, 0.009939726, 0.0098138815, 0.010143744, 0.009849491, 0.00954735, 0.010135759, 0.009896993, 0.009892851, 0.010165717, 0.0106963385, 0.009944333, 0.010262757, 0.010020887, 0.00998722, 0.010177356, 0.010004935, 0.010306782, 0.010089843, 0.0102916565, 0.009884111, 0.010250091, 0.010200694, 0.010149838, 0.009822099, 0.009886376, 0.00986211, 0.010788126, 0.00988213, 0.010275565, 0.010015294, 0.009632885, 0.010112782, 0.010038234, 0.009975669, 0.009858664, 0.010053653, 0.010374167, 0.010226196, 0.009945181, 0.010655758, 0.010191237, 0.009940601, 0.010307845, 0.010130773]\n",
      "2022-02-28 22:41:41,123 : INFO : merging changes from 2000 documents into a model of 3204 documents\n",
      "2022-02-28 22:41:41,129 : INFO : topic #60 (0.010): 0.135*\"341\" + 0.092*\"269\" + 0.080*\"340\" + 0.075*\"1018\" + 0.059*\"940\" + 0.050*\"854\" + 0.038*\"795\" + 0.035*\"34\" + 0.034*\"25\" + 0.033*\"230\"\n",
      "2022-02-28 22:41:41,130 : INFO : topic #30 (0.010): 0.275*\"94\" + 0.035*\"34\" + 0.035*\"50\" + 0.032*\"35\" + 0.032*\"237\" + 0.030*\"73\" + 0.029*\"83\" + 0.028*\"834\" + 0.027*\"267\" + 0.023*\"472\"\n",
      "2022-02-28 22:41:41,134 : INFO : topic #44 (0.011): 0.106*\"1083\" + 0.057*\"50\" + 0.056*\"79\" + 0.042*\"429\" + 0.039*\"24\" + 0.037*\"448\" + 0.034*\"918\" + 0.032*\"83\" + 0.029*\"995\" + 0.029*\"194\"\n",
      "2022-02-28 22:41:41,135 : INFO : topic #16 (0.011): 0.251*\"611\" + 0.192*\"83\" + 0.168*\"34\" + 0.143*\"1015\" + 0.092*\"859\" + 0.034*\"69\" + 0.021*\"531\" + 0.016*\"78\" + 0.011*\"50\" + 0.009*\"730\"\n",
      "2022-02-28 22:41:41,137 : INFO : topic #18 (0.012): 0.345*\"35\" + 0.336*\"34\" + 0.247*\"83\" + 0.018*\"691\" + 0.012*\"254\" + 0.006*\"536\" + 0.005*\"384\" + 0.004*\"348\" + 0.003*\"342\" + 0.003*\"529\"\n",
      "2022-02-28 22:41:41,138 : INFO : topic diff=0.382189, rho=0.466151\n",
      "2022-02-28 22:41:42,256 : INFO : -6.780 per-word bound, 109.9 perplexity estimate based on a held-out corpus of 1204 documents with 49783 words\n",
      "2022-02-28 22:41:42,256 : INFO : PROGRESS: pass 2, at document #3204/3204\n",
      "2022-02-28 22:41:43,086 : INFO : optimized alpha [0.010051292, 0.010159689, 0.01047095, 0.010142063, 0.010427251, 0.010753769, 0.009729176, 0.009995817, 0.010389643, 0.010256616, 0.009950903, 0.010691247, 0.010170941, 0.010415405, 0.009971994, 0.010007474, 0.011406941, 0.01010113, 0.013090357, 0.009999334, 0.010269505, 0.01064138, 0.009948494, 0.010105771, 0.010464077, 0.010696062, 0.010044083, 0.010275104, 0.009893238, 0.010129178, 0.009566336, 0.010119817, 0.010370355, 0.010013782, 0.009996318, 0.010222023, 0.010304672, 0.010198742, 0.01010404, 0.010080046, 0.010659789, 0.010706579, 0.010355632, 0.010358773, 0.011137673, 0.010876191, 0.0104152225, 0.01028047, 0.009992026, 0.010593631, 0.010660956, 0.010266732, 0.010594562, 0.010034776, 0.010368423, 0.010394829, 0.010111577, 0.00994582, 0.010430123, 0.009891115, 0.009586358, 0.010257805, 0.009987666, 0.009969538, 0.01034464, 0.011072928, 0.01008601, 0.010476677, 0.010180831, 0.01013007, 0.01033727, 0.010140702, 0.010533799, 0.010232134, 0.010349856, 0.0100907115, 0.0104885725, 0.010330766, 0.010365715, 0.009873563, 0.009932087, 0.009934503, 0.011340082, 0.009923961, 0.010402148, 0.01018884, 0.009661127, 0.010234881, 0.010119818, 0.010091247, 0.00994705, 0.010152206, 0.01064875, 0.010437104, 0.010066716, 0.010890568, 0.010310107, 0.010084651, 0.010295697, 0.0103449775]\n",
      "2022-02-28 22:41:43,092 : INFO : merging changes from 1204 documents into a model of 3204 documents\n",
      "2022-02-28 22:41:43,099 : INFO : topic #30 (0.010): 0.423*\"94\" + 0.036*\"834\" + 0.033*\"95\" + 0.028*\"50\" + 0.025*\"472\" + 0.023*\"83\" + 0.022*\"73\" + 0.022*\"34\" + 0.021*\"242\" + 0.020*\"35\"\n",
      "2022-02-28 22:41:43,100 : INFO : topic #60 (0.010): 0.154*\"341\" + 0.143*\"269\" + 0.076*\"340\" + 0.071*\"854\" + 0.061*\"940\" + 0.053*\"795\" + 0.048*\"25\" + 0.040*\"672\" + 0.038*\"1018\" + 0.031*\"440\"\n"
     ]
    },
    {
     "name": "stderr",
     "output_type": "stream",
     "text": [
      "2022-02-28 22:41:43,101 : INFO : topic #16 (0.011): 0.267*\"611\" + 0.180*\"83\" + 0.174*\"859\" + 0.153*\"34\" + 0.082*\"1015\" + 0.030*\"531\" + 0.030*\"69\" + 0.012*\"78\" + 0.010*\"822\" + 0.009*\"730\"\n",
      "2022-02-28 22:41:43,103 : INFO : topic #82 (0.011): 0.369*\"29\" + 0.154*\"30\" + 0.053*\"83\" + 0.049*\"345\" + 0.029*\"50\" + 0.029*\"61\" + 0.018*\"510\" + 0.017*\"478\" + 0.015*\"954\" + 0.015*\"174\"\n",
      "2022-02-28 22:41:43,105 : INFO : topic #18 (0.013): 0.358*\"35\" + 0.351*\"34\" + 0.235*\"83\" + 0.021*\"691\" + 0.008*\"254\" + 0.004*\"384\" + 0.003*\"536\" + 0.003*\"348\" + 0.002*\"342\" + 0.002*\"39\"\n",
      "2022-02-28 22:41:43,106 : INFO : topic diff=0.508300, rho=0.466151\n",
      "2022-02-28 22:41:43,114 : INFO : PROGRESS: pass 3, at document #2000/3204\n",
      "2022-02-28 22:41:44,281 : INFO : optimized alpha [0.0101253865, 0.010157863, 0.010506563, 0.010125431, 0.010386621, 0.01095274, 0.009800754, 0.009968595, 0.010379534, 0.01034984, 0.009939401, 0.010653274, 0.0101991035, 0.010476418, 0.010061806, 0.009992623, 0.011936306, 0.0101108095, 0.014370686, 0.009971773, 0.010360231, 0.010755132, 0.009982379, 0.0101454025, 0.010493518, 0.0106900465, 0.010023944, 0.010356749, 0.009907213, 0.010133012, 0.009558748, 0.010102301, 0.0104487585, 0.010113139, 0.010057954, 0.010262698, 0.010275014, 0.010197623, 0.010063611, 0.010072456, 0.010675485, 0.010753562, 0.010409721, 0.010327841, 0.011146718, 0.010894534, 0.010413023, 0.010246424, 0.009942831, 0.010764206, 0.010640254, 0.010224114, 0.010686561, 0.010070517, 0.010586215, 0.010586235, 0.010157231, 0.009935246, 0.01058799, 0.009852183, 0.009596671, 0.010210941, 0.009932064, 0.009996429, 0.010303006, 0.01107649, 0.010039546, 0.010567959, 0.0102046095, 0.010220657, 0.010347966, 0.010248937, 0.010768659, 0.010187807, 0.010541847, 0.010091536, 0.010435399, 0.010400302, 0.01038476, 0.00995257, 0.009850739, 0.009914338, 0.011601654, 0.009863944, 0.010422316, 0.010237012, 0.009613868, 0.010210662, 0.010252643, 0.010099426, 0.009937239, 0.010179267, 0.010766908, 0.010436792, 0.010022838, 0.010818994, 0.010245173, 0.010160328, 0.01022692, 0.010454229]\n",
      "2022-02-28 22:41:44,287 : INFO : merging changes from 2000 documents into a model of 3204 documents\n",
      "2022-02-28 22:41:44,293 : INFO : topic #86 (0.010): 0.121*\"50\" + 0.045*\"0\" + 0.029*\"698\" + 0.026*\"112\" + 0.026*\"925\" + 0.021*\"139\" + 0.018*\"453\" + 0.016*\"1121\" + 0.016*\"137\" + 0.015*\"367\"\n",
      "2022-02-28 22:41:44,294 : INFO : topic #30 (0.010): 0.376*\"94\" + 0.038*\"237\" + 0.031*\"834\" + 0.029*\"73\" + 0.028*\"267\" + 0.028*\"50\" + 0.026*\"95\" + 0.026*\"472\" + 0.023*\"152\" + 0.023*\"430\"\n",
      "2022-02-28 22:41:44,295 : INFO : topic #82 (0.012): 0.367*\"29\" + 0.167*\"30\" + 0.050*\"345\" + 0.045*\"83\" + 0.028*\"50\" + 0.027*\"61\" + 0.020*\"478\" + 0.015*\"510\" + 0.015*\"174\" + 0.014*\"954\"\n",
      "2022-02-28 22:41:44,296 : INFO : topic #16 (0.012): 0.262*\"611\" + 0.196*\"83\" + 0.176*\"34\" + 0.158*\"1015\" + 0.087*\"859\" + 0.032*\"69\" + 0.018*\"531\" + 0.014*\"78\" + 0.008*\"730\" + 0.007*\"822\"\n",
      "2022-02-28 22:41:44,296 : INFO : topic #18 (0.014): 0.360*\"35\" + 0.357*\"34\" + 0.235*\"83\" + 0.015*\"691\" + 0.010*\"254\" + 0.004*\"384\" + 0.003*\"536\" + 0.003*\"348\" + 0.002*\"39\" + 0.001*\"342\"\n",
      "2022-02-28 22:41:44,297 : INFO : topic diff=0.516639, rho=0.422502\n",
      "2022-02-28 22:41:46,033 : INFO : -6.696 per-word bound, 103.7 perplexity estimate based on a held-out corpus of 1204 documents with 49783 words\n",
      "2022-02-28 22:41:46,034 : INFO : PROGRESS: pass 3, at document #3204/3204\n",
      "2022-02-28 22:41:47,472 : INFO : optimized alpha [0.010267936, 0.010341677, 0.0107469745, 0.010273338, 0.010602261, 0.011218279, 0.009797123, 0.0099997325, 0.010613073, 0.0104737235, 0.010024017, 0.0108832335, 0.010373659, 0.010660723, 0.010151572, 0.010101203, 0.012203584, 0.010239779, 0.015640976, 0.010112808, 0.010510292, 0.011080441, 0.010127117, 0.010241498, 0.010609675, 0.010880746, 0.0101454, 0.010506918, 0.00998055, 0.010267723, 0.009562247, 0.010342788, 0.01070443, 0.01016194, 0.010082871, 0.01032388, 0.010518456, 0.010288382, 0.010235865, 0.010251267, 0.011006765, 0.011033827, 0.010558983, 0.010468322, 0.01142946, 0.01123067, 0.010592093, 0.010452954, 0.009955842, 0.010946877, 0.0108592985, 0.010369787, 0.01093925, 0.010223745, 0.010720731, 0.010717908, 0.010329133, 0.010087452, 0.010917441, 0.009908686, 0.009636464, 0.010358885, 0.0100437235, 0.010077191, 0.010488836, 0.011453208, 0.0101693, 0.01077914, 0.010383514, 0.010361857, 0.010475639, 0.010401489, 0.011019451, 0.010303344, 0.010578316, 0.010320615, 0.01070184, 0.0105003435, 0.010597392, 0.0100170225, 0.009915003, 0.009991493, 0.012193424, 0.009931611, 0.010556337, 0.010421243, 0.009671746, 0.010347699, 0.010362275, 0.010223138, 0.010029027, 0.010276729, 0.011039447, 0.010633687, 0.010155412, 0.011014697, 0.010353919, 0.010338445, 0.010229775, 0.01065484]\n",
      "2022-02-28 22:41:47,486 : INFO : merging changes from 1204 documents into a model of 3204 documents\n",
      "2022-02-28 22:41:47,495 : INFO : topic #30 (0.010): 0.477*\"94\" + 0.037*\"834\" + 0.034*\"95\" + 0.028*\"472\" + 0.023*\"50\" + 0.023*\"242\" + 0.022*\"430\" + 0.022*\"73\" + 0.021*\"267\" + 0.021*\"237\"\n",
      "2022-02-28 22:41:47,498 : INFO : topic #60 (0.010): 0.170*\"341\" + 0.136*\"269\" + 0.081*\"340\" + 0.071*\"854\" + 0.062*\"940\" + 0.054*\"672\" + 0.054*\"795\" + 0.054*\"25\" + 0.040*\"1018\" + 0.031*\"440\"\n",
      "2022-02-28 22:41:47,499 : INFO : topic #82 (0.012): 0.394*\"29\" + 0.154*\"30\" + 0.057*\"345\" + 0.048*\"83\" + 0.029*\"61\" + 0.028*\"50\" + 0.018*\"510\" + 0.016*\"174\" + 0.015*\"478\" + 0.015*\"954\"\n",
      "2022-02-28 22:41:47,500 : INFO : topic #16 (0.012): 0.274*\"611\" + 0.188*\"83\" + 0.161*\"34\" + 0.155*\"859\" + 0.101*\"1015\" + 0.029*\"69\" + 0.027*\"531\" + 0.012*\"78\" + 0.009*\"822\" + 0.008*\"730\"\n",
      "2022-02-28 22:41:47,501 : INFO : topic #18 (0.016): 0.368*\"35\" + 0.367*\"34\" + 0.224*\"83\" + 0.017*\"691\" + 0.007*\"254\" + 0.002*\"348\" + 0.002*\"384\" + 0.002*\"536\" + 0.002*\"39\" + 0.001*\"342\"\n",
      "2022-02-28 22:41:47,502 : INFO : topic diff=0.630331, rho=0.422502\n",
      "2022-02-28 22:41:47,514 : INFO : PROGRESS: pass 4, at document #2000/3204\n",
      "2022-02-28 22:41:48,946 : INFO : optimized alpha [0.010354628, 0.010355534, 0.010787238, 0.010265825, 0.010576141, 0.01140778, 0.009873777, 0.009977943, 0.010614901, 0.010588766, 0.010017801, 0.010851109, 0.0104135005, 0.010725196, 0.010255119, 0.010105708, 0.012731553, 0.010258752, 0.017117506, 0.010097231, 0.010604759, 0.011209519, 0.010164228, 0.010302559, 0.010628577, 0.010878661, 0.01013873, 0.010607171, 0.010007623, 0.0102874255, 0.0095677925, 0.010331162, 0.010780743, 0.010266333, 0.010132602, 0.010376358, 0.010510279, 0.010297868, 0.0102060335, 0.010267764, 0.011029631, 0.011084569, 0.01065224, 0.010445912, 0.0114293005, 0.011245353, 0.01059573, 0.010422699, 0.009914446, 0.011114843, 0.010839149, 0.010346817, 0.011045892, 0.010270533, 0.010950772, 0.010910121, 0.010385236, 0.0100952415, 0.011093043, 0.009879815, 0.009658002, 0.010337841, 0.010010652, 0.010102519, 0.010447727, 0.011464889, 0.010138542, 0.010874034, 0.010415008, 0.010447981, 0.0104852505, 0.010528603, 0.011282138, 0.010277012, 0.010759995, 0.010360741, 0.010659226, 0.010569163, 0.0106119625, 0.010102421, 0.009855387, 0.0099755805, 0.012473766, 0.009891135, 0.010591558, 0.010477645, 0.009640742, 0.01033336, 0.010518657, 0.010232734, 0.010030134, 0.01031419, 0.011164141, 0.010645196, 0.010131032, 0.010948164, 0.010298819, 0.010462766, 0.010177113, 0.010766648]\n",
      "2022-02-28 22:41:48,955 : INFO : merging changes from 2000 documents into a model of 3204 documents\n",
      "2022-02-28 22:41:48,963 : INFO : topic #30 (0.010): 0.424*\"94\" + 0.043*\"237\" + 0.036*\"152\" + 0.033*\"834\" + 0.029*\"73\" + 0.028*\"472\" + 0.028*\"267\" + 0.026*\"95\" + 0.024*\"430\" + 0.023*\"840\"\n",
      "2022-02-28 22:41:48,964 : INFO : topic #60 (0.010): 0.180*\"341\" + 0.096*\"269\" + 0.088*\"340\" + 0.068*\"1018\" + 0.062*\"940\" + 0.062*\"672\" + 0.053*\"854\" + 0.049*\"25\" + 0.047*\"795\" + 0.036*\"1130\"\n",
      "2022-02-28 22:41:48,965 : INFO : topic #82 (0.012): 0.392*\"29\" + 0.165*\"30\" + 0.057*\"345\" + 0.043*\"83\" + 0.028*\"61\" + 0.026*\"50\" + 0.019*\"478\" + 0.016*\"174\" + 0.015*\"510\" + 0.014*\"954\"\n",
      "2022-02-28 22:41:48,966 : INFO : topic #16 (0.013): 0.265*\"611\" + 0.201*\"83\" + 0.180*\"34\" + 0.163*\"1015\" + 0.085*\"859\" + 0.031*\"69\" + 0.017*\"531\" + 0.013*\"78\" + 0.007*\"730\" + 0.007*\"822\"\n",
      "2022-02-28 22:41:48,967 : INFO : topic #18 (0.017): 0.369*\"34\" + 0.368*\"35\" + 0.224*\"83\" + 0.013*\"691\" + 0.009*\"254\" + 0.003*\"348\" + 0.003*\"384\" + 0.002*\"39\" + 0.002*\"536\" + 0.001*\"342\"\n"
     ]
    },
    {
     "name": "stderr",
     "output_type": "stream",
     "text": [
      "2022-02-28 22:41:48,968 : INFO : topic diff=0.614027, rho=0.389191\n",
      "2022-02-28 22:41:50,733 : INFO : -6.638 per-word bound, 99.6 perplexity estimate based on a held-out corpus of 1204 documents with 49783 words\n",
      "2022-02-28 22:41:50,734 : INFO : PROGRESS: pass 4, at document #3204/3204\n",
      "2022-02-28 22:41:52,025 : INFO : optimized alpha [0.010510739, 0.0105199665, 0.011026089, 0.010400152, 0.0107773235, 0.0116757825, 0.009874129, 0.00999485, 0.010829553, 0.010741763, 0.010113084, 0.011061765, 0.010582742, 0.01091787, 0.010364889, 0.010229869, 0.012974149, 0.010398734, 0.018588383, 0.0102318255, 0.0107408, 0.011545792, 0.010322037, 0.010415138, 0.010712314, 0.01105246, 0.010258405, 0.010767307, 0.01008581, 0.01042293, 0.009569203, 0.010589161, 0.011030924, 0.010324656, 0.010169141, 0.010429821, 0.010748266, 0.010389114, 0.010376334, 0.010451209, 0.011373491, 0.0113725085, 0.0107908435, 0.010569903, 0.011697188, 0.01152805, 0.010769468, 0.010639185, 0.009924942, 0.011310149, 0.011050488, 0.010485801, 0.011290298, 0.010429777, 0.01107863, 0.011042472, 0.010555643, 0.010266407, 0.011448255, 0.00992984, 0.0097048, 0.010482258, 0.01015713, 0.010190922, 0.01064126, 0.011865619, 0.010259318, 0.011071099, 0.010588423, 0.010592627, 0.0106038265, 0.010707722, 0.011576471, 0.010391184, 0.010785542, 0.010632617, 0.010939427, 0.0106551945, 0.010838042, 0.010191548, 0.009935391, 0.010060642, 0.013075944, 0.009980844, 0.010726598, 0.010656204, 0.009714184, 0.010454084, 0.010626575, 0.010344518, 0.010161524, 0.010401424, 0.011434637, 0.010842431, 0.010287355, 0.011141249, 0.010403501, 0.010655918, 0.010185289, 0.010992137]\n",
      "2022-02-28 22:41:52,033 : INFO : merging changes from 1204 documents into a model of 3204 documents\n",
      "2022-02-28 22:41:52,044 : INFO : topic #30 (0.010): 0.505*\"94\" + 0.037*\"834\" + 0.033*\"95\" + 0.030*\"472\" + 0.027*\"152\" + 0.025*\"237\" + 0.023*\"430\" + 0.022*\"73\" + 0.022*\"267\" + 0.021*\"242\"\n",
      "2022-02-28 22:41:52,045 : INFO : topic #86 (0.010): 0.127*\"50\" + 0.055*\"0\" + 0.046*\"139\" + 0.035*\"112\" + 0.034*\"698\" + 0.023*\"137\" + 0.023*\"1121\" + 0.019*\"925\" + 0.019*\"453\" + 0.019*\"367\"\n",
      "2022-02-28 22:41:52,046 : INFO : topic #16 (0.013): 0.276*\"611\" + 0.193*\"83\" + 0.166*\"34\" + 0.145*\"859\" + 0.111*\"1015\" + 0.028*\"69\" + 0.024*\"531\" + 0.012*\"78\" + 0.009*\"822\" + 0.008*\"730\"\n",
      "2022-02-28 22:41:52,047 : INFO : topic #82 (0.013): 0.410*\"29\" + 0.154*\"30\" + 0.062*\"345\" + 0.046*\"83\" + 0.029*\"61\" + 0.026*\"50\" + 0.017*\"510\" + 0.016*\"174\" + 0.015*\"478\" + 0.014*\"954\"\n",
      "2022-02-28 22:41:52,048 : INFO : topic #18 (0.019): 0.378*\"34\" + 0.373*\"35\" + 0.214*\"83\" + 0.015*\"691\" + 0.007*\"254\" + 0.002*\"348\" + 0.002*\"384\" + 0.002*\"39\" + 0.001*\"536\" + 0.000*\"342\"\n",
      "2022-02-28 22:41:52,051 : INFO : topic diff=0.680713, rho=0.389191\n",
      "2022-02-28 22:41:52,062 : INFO : PROGRESS: pass 5, at document #2000/3204\n",
      "2022-02-28 22:41:53,223 : INFO : optimized alpha [0.010601721, 0.01055369, 0.01107291, 0.010381638, 0.010760032, 0.011879295, 0.009946697, 0.0099741, 0.010838268, 0.010879396, 0.010109467, 0.0110430885, 0.010627607, 0.010984066, 0.010483279, 0.0102434745, 0.013487202, 0.01043151, 0.020269059, 0.010222824, 0.010847238, 0.011669298, 0.010364013, 0.01047834, 0.010734234, 0.011048014, 0.010256001, 0.010869456, 0.010126194, 0.010454732, 0.009580803, 0.010578674, 0.011114005, 0.010434368, 0.010218, 0.010493006, 0.010743252, 0.010415594, 0.010357489, 0.010475722, 0.011396865, 0.011431367, 0.010898173, 0.010551132, 0.011695444, 0.011527521, 0.010780463, 0.010623531, 0.009891739, 0.0114815235, 0.011040968, 0.010470013, 0.011394669, 0.010477181, 0.011299712, 0.011253092, 0.010625217, 0.010278807, 0.01161721, 0.009907561, 0.009729053, 0.010477973, 0.010133452, 0.010231739, 0.010615766, 0.0118911555, 0.01022712, 0.01116214, 0.010621421, 0.010679364, 0.01061666, 0.010849079, 0.011862208, 0.010376268, 0.010957266, 0.010702225, 0.010897631, 0.010735581, 0.010852648, 0.010273857, 0.009882667, 0.010051763, 0.013362987, 0.009958319, 0.01076741, 0.010720527, 0.009700267, 0.010450432, 0.010791973, 0.010366974, 0.010182829, 0.010453779, 0.011547873, 0.010864383, 0.010262408, 0.011094988, 0.010350855, 0.010802358, 0.0101532675, 0.011107191]\n",
      "2022-02-28 22:41:53,231 : INFO : merging changes from 2000 documents into a model of 3204 documents\n",
      "2022-02-28 22:41:53,239 : INFO : topic #30 (0.010): 0.445*\"94\" + 0.052*\"152\" + 0.045*\"237\" + 0.034*\"834\" + 0.030*\"472\" + 0.028*\"73\" + 0.028*\"267\" + 0.026*\"95\" + 0.024*\"430\" + 0.024*\"840\"\n",
      "2022-02-28 22:41:53,240 : INFO : topic #86 (0.010): 0.127*\"50\" + 0.053*\"0\" + 0.039*\"139\" + 0.037*\"698\" + 0.033*\"112\" + 0.025*\"925\" + 0.020*\"453\" + 0.019*\"137\" + 0.018*\"367\" + 0.018*\"1121\"\n",
      "2022-02-28 22:41:53,241 : INFO : topic #82 (0.013): 0.408*\"29\" + 0.164*\"30\" + 0.062*\"345\" + 0.042*\"83\" + 0.028*\"61\" + 0.025*\"50\" + 0.018*\"478\" + 0.016*\"174\" + 0.015*\"510\" + 0.015*\"13\"\n",
      "2022-02-28 22:41:53,242 : INFO : topic #16 (0.013): 0.266*\"611\" + 0.202*\"83\" + 0.184*\"34\" + 0.164*\"1015\" + 0.086*\"859\" + 0.029*\"69\" + 0.016*\"531\" + 0.013*\"78\" + 0.007*\"730\" + 0.006*\"822\"\n",
      "2022-02-28 22:41:53,243 : INFO : topic #18 (0.020): 0.379*\"34\" + 0.373*\"35\" + 0.216*\"83\" + 0.012*\"691\" + 0.008*\"254\" + 0.003*\"348\" + 0.002*\"384\" + 0.002*\"39\" + 0.001*\"536\" + 0.000*\"342\"\n",
      "2022-02-28 22:41:53,245 : INFO : topic diff=0.626083, rho=0.362690\n",
      "2022-02-28 22:41:54,641 : INFO : -6.593 per-word bound, 96.5 perplexity estimate based on a held-out corpus of 1204 documents with 49783 words\n",
      "2022-02-28 22:41:54,642 : INFO : PROGRESS: pass 5, at document #3204/3204\n",
      "2022-02-28 22:41:55,928 : INFO : optimized alpha [0.010771487, 0.010721425, 0.011292101, 0.010514494, 0.010976087, 0.012144868, 0.009947439, 0.009994284, 0.011044123, 0.011023407, 0.01020543, 0.011245187, 0.010793568, 0.0111558745, 0.010602034, 0.010366603, 0.013720079, 0.010566491, 0.021945274, 0.010365177, 0.010991479, 0.012004799, 0.010515846, 0.010599959, 0.01081959, 0.011211688, 0.01036865, 0.011036518, 0.010221348, 0.010595131, 0.009586126, 0.010832377, 0.011361034, 0.010504547, 0.010252481, 0.010540241, 0.010987879, 0.010494916, 0.010533682, 0.01065834, 0.011748413, 0.011708063, 0.011041431, 0.010667897, 0.011944946, 0.011777489, 0.010960714, 0.010840873, 0.009912103, 0.011676405, 0.011246958, 0.010619906, 0.011643628, 0.010643094, 0.011419123, 0.011390736, 0.010789103, 0.010446466, 0.0119892685, 0.009979008, 0.009773378, 0.010623549, 0.010292959, 0.010321145, 0.010814588, 0.012307102, 0.010347097, 0.011351466, 0.010801032, 0.010815354, 0.010728054, 0.011021514, 0.012139987, 0.010496472, 0.010986823, 0.011002807, 0.01116264, 0.010822683, 0.011069581, 0.010360654, 0.009976631, 0.010138157, 0.013987799, 0.010055157, 0.010887853, 0.010898647, 0.0097726295, 0.01058009, 0.010928663, 0.010497579, 0.010325238, 0.010551615, 0.011804589, 0.011053789, 0.010418964, 0.011266453, 0.010462168, 0.011010913, 0.010174937, 0.011324067]\n",
      "2022-02-28 22:41:55,941 : INFO : merging changes from 1204 documents into a model of 3204 documents\n",
      "2022-02-28 22:41:55,952 : INFO : topic #30 (0.010): 0.513*\"94\" + 0.037*\"834\" + 0.037*\"152\" + 0.032*\"95\" + 0.030*\"472\" + 0.027*\"237\" + 0.026*\"430\" + 0.023*\"267\" + 0.023*\"73\" + 0.020*\"242\"\n",
      "2022-02-28 22:41:55,955 : INFO : topic #60 (0.010): 0.187*\"341\" + 0.134*\"269\" + 0.085*\"340\" + 0.075*\"672\" + 0.069*\"25\" + 0.067*\"854\" + 0.063*\"940\" + 0.054*\"795\" + 0.043*\"1018\" + 0.035*\"440\"\n",
      "2022-02-28 22:41:55,958 : INFO : topic #16 (0.014): 0.276*\"611\" + 0.195*\"83\" + 0.170*\"34\" + 0.140*\"859\" + 0.117*\"1015\" + 0.027*\"69\" + 0.022*\"531\" + 0.011*\"78\" + 0.008*\"822\" + 0.008*\"730\"\n",
      "2022-02-28 22:41:55,959 : INFO : topic #82 (0.014): 0.424*\"29\" + 0.153*\"30\" + 0.066*\"345\" + 0.046*\"83\" + 0.029*\"61\" + 0.025*\"50\" + 0.017*\"510\" + 0.016*\"174\" + 0.015*\"13\" + 0.015*\"478\"\n",
      "2022-02-28 22:41:55,960 : INFO : topic #18 (0.022): 0.386*\"34\" + 0.377*\"35\" + 0.206*\"83\" + 0.013*\"691\" + 0.007*\"254\" + 0.002*\"348\" + 0.002*\"39\" + 0.002*\"384\" + 0.000*\"536\" + 0.000*\"13\"\n",
      "2022-02-28 22:41:55,961 : INFO : topic diff=0.653143, rho=0.362690\n",
      "2022-02-28 22:41:55,977 : INFO : PROGRESS: pass 6, at document #2000/3204\n",
      "2022-02-28 22:41:57,488 : INFO : optimized alpha [0.010861552, 0.010764057, 0.011351306, 0.010493299, 0.01097205, 0.012352887, 0.010021727, 0.009979425, 0.0110573815, 0.011171513, 0.010202341, 0.011230712, 0.01084497, 0.011218387, 0.0107311485, 0.010390146, 0.014227653, 0.010602876, 0.023787463, 0.01035302, 0.011109593, 0.01213626, 0.010557241, 0.010676319, 0.010842611, 0.011207071, 0.010377125, 0.011116612, 0.010277199, 0.010632511, 0.009598075, 0.010832122, 0.011450911, 0.01061251, 0.010299216, 0.010602419, 0.010999019, 0.010525787, 0.010522662, 0.01069022, 0.011772421, 0.011768901, 0.011158606, 0.010650384, 0.011939954, 0.011777752, 0.010985813, 0.010828931, 0.009885707, 0.011854146, 0.011235203, 0.0106029995, 0.011754778, 0.010693244, 0.011638985, 0.011608351, 0.0108641805, 0.010464965, 0.012173507, 0.009965584, 0.009796829, 0.010624824, 0.010280919, 0.01036715, 0.010800962, 0.01234155, 0.01032405, 0.011437557, 0.010835565, 0.010895804, 0.010731121, 0.011162013, 0.012433241, 0.010491655, 0.0111486735, 0.01110202, 0.011129195, 0.010899041, 0.011090216, 0.010445936, 0.009936285, 0.010135395, 0.014278406, 0.010070597, 0.010939579, 0.010966787, 0.009771905, 0.010589346, 0.011101696, 0.010518774, 0.010347027, 0.010601378, 0.011915993, 0.011083503, 0.010402374, 0.011220851, 0.010416665, 0.0111583555, 0.010144417, 0.011439163]\n"
     ]
    },
    {
     "name": "stderr",
     "output_type": "stream",
     "text": [
      "2022-02-28 22:41:57,494 : INFO : merging changes from 2000 documents into a model of 3204 documents\n",
      "2022-02-28 22:41:57,504 : INFO : topic #30 (0.010): 0.455*\"94\" + 0.061*\"152\" + 0.046*\"237\" + 0.034*\"834\" + 0.030*\"472\" + 0.028*\"73\" + 0.028*\"267\" + 0.026*\"430\" + 0.025*\"95\" + 0.024*\"840\"\n",
      "2022-02-28 22:41:57,505 : INFO : topic #60 (0.010): 0.198*\"341\" + 0.104*\"269\" + 0.093*\"340\" + 0.078*\"672\" + 0.067*\"1018\" + 0.063*\"940\" + 0.063*\"25\" + 0.054*\"854\" + 0.049*\"795\" + 0.037*\"1130\"\n",
      "2022-02-28 22:41:57,509 : INFO : topic #82 (0.014): 0.421*\"29\" + 0.161*\"30\" + 0.065*\"345\" + 0.042*\"83\" + 0.028*\"61\" + 0.024*\"50\" + 0.017*\"478\" + 0.016*\"174\" + 0.016*\"13\" + 0.015*\"510\"\n",
      "2022-02-28 22:41:57,510 : INFO : topic #16 (0.014): 0.267*\"611\" + 0.204*\"83\" + 0.186*\"34\" + 0.163*\"1015\" + 0.086*\"859\" + 0.027*\"69\" + 0.016*\"531\" + 0.013*\"78\" + 0.007*\"730\" + 0.006*\"822\"\n",
      "2022-02-28 22:41:57,513 : INFO : topic #18 (0.024): 0.384*\"34\" + 0.375*\"35\" + 0.210*\"83\" + 0.011*\"691\" + 0.008*\"254\" + 0.002*\"348\" + 0.002*\"39\" + 0.002*\"384\" + 0.000*\"536\" + 0.000*\"13\"\n",
      "2022-02-28 22:41:57,515 : INFO : topic diff=0.582171, rho=0.340958\n",
      "2022-02-28 22:41:58,902 : INFO : -6.561 per-word bound, 94.4 perplexity estimate based on a held-out corpus of 1204 documents with 49783 words\n",
      "2022-02-28 22:41:58,902 : INFO : PROGRESS: pass 6, at document #3204/3204\n",
      "2022-02-28 22:42:00,016 : INFO : optimized alpha [0.011029129, 0.010954301, 0.01156701, 0.010652359, 0.011174796, 0.012610841, 0.010037033, 0.009999422, 0.011244026, 0.011333496, 0.010290594, 0.011426197, 0.011018166, 0.011375302, 0.0108527355, 0.010501153, 0.014456515, 0.010734059, 0.025619311, 0.010488224, 0.011274806, 0.012486908, 0.010716448, 0.010800836, 0.010911256, 0.011365555, 0.010489927, 0.011262735, 0.010376145, 0.0107720895, 0.009612162, 0.011071478, 0.011683822, 0.010675609, 0.010337875, 0.010653368, 0.011241996, 0.010610208, 0.010702322, 0.010861085, 0.01212026, 0.012040027, 0.011303962, 0.010776551, 0.012153623, 0.01201243, 0.01116046, 0.011048393, 0.009908899, 0.0120769385, 0.011427946, 0.010754529, 0.011979507, 0.010869209, 0.011754622, 0.011758318, 0.011038536, 0.01063329, 0.01254765, 0.010047885, 0.0098474305, 0.010778072, 0.010441366, 0.010454922, 0.011008839, 0.01273578, 0.010443923, 0.0116176205, 0.01101261, 0.011012223, 0.010836849, 0.011338791, 0.0127248205, 0.010623787, 0.011191776, 0.011432445, 0.011401124, 0.010994002, 0.011306344, 0.010528037, 0.01003137, 0.010223302, 0.014925508, 0.010171272, 0.011053795, 0.0111582335, 0.009846329, 0.010727491, 0.011240548, 0.010645798, 0.010509087, 0.010700228, 0.012161394, 0.011279594, 0.010554132, 0.011380545, 0.010528431, 0.011395355, 0.010172003, 0.011662328]\n",
      "2022-02-28 22:42:00,022 : INFO : merging changes from 1204 documents into a model of 3204 documents\n",
      "2022-02-28 22:42:00,031 : INFO : topic #30 (0.010): 0.514*\"94\" + 0.047*\"152\" + 0.037*\"834\" + 0.032*\"472\" + 0.031*\"95\" + 0.029*\"237\" + 0.027*\"430\" + 0.023*\"267\" + 0.023*\"73\" + 0.020*\"242\"\n",
      "2022-02-28 22:42:00,033 : INFO : topic #86 (0.010): 0.123*\"50\" + 0.061*\"0\" + 0.057*\"139\" + 0.037*\"112\" + 0.037*\"698\" + 0.023*\"137\" + 0.023*\"453\" + 0.022*\"1121\" + 0.021*\"367\" + 0.019*\"40\"\n",
      "2022-02-28 22:42:00,034 : INFO : topic #16 (0.014): 0.276*\"611\" + 0.197*\"83\" + 0.173*\"34\" + 0.136*\"859\" + 0.119*\"1015\" + 0.026*\"69\" + 0.022*\"531\" + 0.011*\"78\" + 0.008*\"822\" + 0.007*\"730\"\n",
      "2022-02-28 22:42:00,035 : INFO : topic #82 (0.015): 0.436*\"29\" + 0.152*\"30\" + 0.068*\"345\" + 0.045*\"83\" + 0.029*\"61\" + 0.023*\"50\" + 0.017*\"174\" + 0.016*\"510\" + 0.016*\"13\" + 0.015*\"53\"\n",
      "2022-02-28 22:42:00,036 : INFO : topic #18 (0.026): 0.391*\"34\" + 0.380*\"35\" + 0.202*\"83\" + 0.012*\"691\" + 0.006*\"254\" + 0.002*\"348\" + 0.001*\"384\" + 0.001*\"39\" + 0.000*\"536\" + 0.000*\"13\"\n",
      "2022-02-28 22:42:00,037 : INFO : topic diff=0.590843, rho=0.340958\n",
      "2022-02-28 22:42:00,047 : INFO : PROGRESS: pass 7, at document #2000/3204\n",
      "2022-02-28 22:42:01,218 : INFO : optimized alpha [0.011125852, 0.010998098, 0.011645342, 0.010638764, 0.011179437, 0.012815925, 0.010121436, 0.009991383, 0.011257922, 0.011481397, 0.010291331, 0.011419269, 0.011070514, 0.011436669, 0.01097489, 0.010532324, 0.014960621, 0.010784386, 0.027586315, 0.010483411, 0.011404337, 0.012616649, 0.010757441, 0.010877405, 0.0109425215, 0.011366485, 0.010501493, 0.011331793, 0.010446371, 0.010816459, 0.009628984, 0.01107378, 0.011767491, 0.010766899, 0.010392781, 0.010714756, 0.011246062, 0.0106468545, 0.010693052, 0.01088944, 0.012151009, 0.012103063, 0.011425451, 0.010758289, 0.012148037, 0.012013625, 0.011191347, 0.011036152, 0.009886666, 0.012254057, 0.011427414, 0.01074526, 0.01207997, 0.010936274, 0.01196489, 0.011978139, 0.011120872, 0.010662514, 0.012739563, 0.0100388, 0.009874959, 0.010791397, 0.01043131, 0.0105160205, 0.011013083, 0.012783152, 0.0104306685, 0.011699548, 0.011041627, 0.011090881, 0.010834726, 0.0114938365, 0.01302529, 0.010636399, 0.011352575, 0.011536388, 0.011367707, 0.011088468, 0.011319764, 0.010611431, 0.010000138, 0.010235998, 0.015215999, 0.010191321, 0.011114061, 0.011230256, 0.009849251, 0.01073966, 0.011418153, 0.0106712, 0.010534615, 0.010744381, 0.012269678, 0.011307364, 0.010536459, 0.011335358, 0.010487403, 0.011550101, 0.010152684, 0.011778155]\n",
      "2022-02-28 22:42:01,226 : INFO : merging changes from 2000 documents into a model of 3204 documents\n",
      "2022-02-28 22:42:01,237 : INFO : topic #30 (0.010): 0.458*\"94\" + 0.073*\"152\" + 0.046*\"237\" + 0.034*\"834\" + 0.032*\"472\" + 0.029*\"267\" + 0.028*\"73\" + 0.026*\"430\" + 0.025*\"95\" + 0.023*\"840\"\n",
      "2022-02-28 22:42:01,238 : INFO : topic #86 (0.010): 0.123*\"50\" + 0.060*\"0\" + 0.049*\"139\" + 0.040*\"698\" + 0.035*\"112\" + 0.024*\"925\" + 0.023*\"453\" + 0.021*\"367\" + 0.020*\"137\" + 0.018*\"1121\"\n",
      "2022-02-28 22:42:01,239 : INFO : topic #16 (0.015): 0.267*\"611\" + 0.205*\"83\" + 0.188*\"34\" + 0.162*\"1015\" + 0.087*\"859\" + 0.027*\"69\" + 0.015*\"531\" + 0.013*\"78\" + 0.007*\"730\" + 0.006*\"822\"\n",
      "2022-02-28 22:42:01,240 : INFO : topic #82 (0.015): 0.434*\"29\" + 0.158*\"30\" + 0.067*\"345\" + 0.041*\"83\" + 0.028*\"61\" + 0.023*\"50\" + 0.017*\"174\" + 0.017*\"478\" + 0.016*\"13\" + 0.015*\"510\"\n",
      "2022-02-28 22:42:01,242 : INFO : topic #18 (0.028): 0.389*\"34\" + 0.378*\"35\" + 0.205*\"83\" + 0.010*\"691\" + 0.008*\"254\" + 0.002*\"348\" + 0.002*\"384\" + 0.001*\"39\" + 0.000*\"536\" + 0.000*\"13\"\n",
      "2022-02-28 22:42:01,244 : INFO : topic diff=0.519111, rho=0.322715\n",
      "2022-02-28 22:42:02,665 : INFO : -6.538 per-word bound, 92.9 perplexity estimate based on a held-out corpus of 1204 documents with 49783 words\n",
      "2022-02-28 22:42:02,667 : INFO : PROGRESS: pass 7, at document #3204/3204\n",
      "2022-02-28 22:42:03,955 : INFO : optimized alpha [0.011295456, 0.01119536, 0.011868273, 0.010793796, 0.011382885, 0.0130645605, 0.01014162, 0.010022238, 0.011433517, 0.011639474, 0.010381359, 0.011606602, 0.011251358, 0.011586787, 0.011093815, 0.010652715, 0.0151748, 0.010915592, 0.029519651, 0.01062409, 0.011568558, 0.012994066, 0.010921354, 0.010996423, 0.01102892, 0.011514964, 0.010603567, 0.0114746, 0.010535229, 0.010952889, 0.009650855, 0.011315554, 0.011997594, 0.010829862, 0.010440857, 0.010781023, 0.011488702, 0.010736185, 0.0108707715, 0.011050184, 0.012500518, 0.012364061, 0.011570337, 0.010881848, 0.012345889, 0.012228859, 0.011364809, 0.01125865, 0.009915157, 0.012494617, 0.011630533, 0.010890181, 0.012305859, 0.011110907, 0.012061631, 0.012124585, 0.011300087, 0.010826621, 0.013127845, 0.010131097, 0.0099287685, 0.010952605, 0.010593268, 0.010614079, 0.011224627, 0.013165336, 0.010550954, 0.011881245, 0.011208179, 0.011204872, 0.010941625, 0.011672489, 0.01331469, 0.01078011, 0.011399165, 0.011894575, 0.011619774, 0.011191095, 0.011530129, 0.010698288, 0.010104694, 0.0103338575, 0.015871856, 0.010312646, 0.011232195, 0.011420083, 0.009928545, 0.010886416, 0.011562965, 0.010798569, 0.010707054, 0.0108445315, 0.012489227, 0.011495281, 0.010690194, 0.0114756115, 0.010588522, 0.011784614, 0.010190928, 0.011992702]\n",
      "2022-02-28 22:42:03,962 : INFO : merging changes from 1204 documents into a model of 3204 documents\n",
      "2022-02-28 22:42:03,970 : INFO : topic #30 (0.010): 0.514*\"94\" + 0.058*\"152\" + 0.037*\"834\" + 0.033*\"472\" + 0.031*\"95\" + 0.030*\"237\" + 0.028*\"430\" + 0.024*\"267\" + 0.023*\"73\" + 0.019*\"242\"\n",
      "2022-02-28 22:42:03,971 : INFO : topic #86 (0.010): 0.121*\"50\" + 0.064*\"0\" + 0.062*\"139\" + 0.037*\"698\" + 0.037*\"112\" + 0.022*\"453\" + 0.022*\"137\" + 0.022*\"1121\" + 0.021*\"367\" + 0.020*\"40\"\n"
     ]
    },
    {
     "name": "stderr",
     "output_type": "stream",
     "text": [
      "2022-02-28 22:42:03,973 : INFO : topic #16 (0.015): 0.275*\"611\" + 0.203*\"83\" + 0.175*\"34\" + 0.133*\"859\" + 0.121*\"1015\" + 0.026*\"69\" + 0.021*\"531\" + 0.011*\"78\" + 0.008*\"822\" + 0.007*\"730\"\n",
      "2022-02-28 22:42:03,974 : INFO : topic #82 (0.016): 0.448*\"29\" + 0.148*\"30\" + 0.069*\"345\" + 0.044*\"83\" + 0.029*\"61\" + 0.022*\"50\" + 0.017*\"174\" + 0.016*\"13\" + 0.016*\"510\" + 0.015*\"53\"\n",
      "2022-02-28 22:42:03,975 : INFO : topic #18 (0.030): 0.396*\"34\" + 0.383*\"35\" + 0.196*\"83\" + 0.011*\"691\" + 0.006*\"254\" + 0.002*\"348\" + 0.001*\"384\" + 0.001*\"39\" + 0.000*\"536\" + 0.000*\"13\"\n",
      "2022-02-28 22:42:03,977 : INFO : topic diff=0.521087, rho=0.322715\n",
      "2022-02-28 22:42:03,989 : INFO : PROGRESS: pass 8, at document #2000/3204\n",
      "2022-02-28 22:42:05,160 : INFO : optimized alpha [0.011395426, 0.01123693, 0.011950502, 0.01077893, 0.011385016, 0.01327361, 0.010229195, 0.0100169405, 0.01145008, 0.011787711, 0.010383944, 0.011601324, 0.011308182, 0.011650899, 0.011216672, 0.010697444, 0.015678959, 0.010963863, 0.031639386, 0.01062103, 0.011698831, 0.013114625, 0.010960353, 0.011080264, 0.011069414, 0.011515805, 0.010618066, 0.0115478495, 0.010615853, 0.0109987315, 0.009672021, 0.011316671, 0.012084908, 0.0109144235, 0.010500323, 0.010840219, 0.011500504, 0.010773289, 0.010863149, 0.0110941315, 0.012532002, 0.012427653, 0.011699925, 0.010869604, 0.012341897, 0.012229281, 0.011404779, 0.011247806, 0.009896474, 0.012677744, 0.011636543, 0.010886359, 0.012407991, 0.01118021, 0.012259735, 0.012356895, 0.011391242, 0.01085774, 0.013328223, 0.010128995, 0.009960067, 0.010973612, 0.010581671, 0.010672771, 0.01123661, 0.013219288, 0.010538403, 0.011959653, 0.011232275, 0.011278711, 0.010939838, 0.011818887, 0.013621292, 0.01078535, 0.011547342, 0.012001639, 0.011591953, 0.011297584, 0.011545749, 0.01078682, 0.010081522, 0.010355745, 0.01615086, 0.010338223, 0.011291858, 0.011496092, 0.009939376, 0.010903031, 0.011745623, 0.010829593, 0.010746053, 0.010891952, 0.012589259, 0.011525036, 0.010673104, 0.011443447, 0.010553179, 0.011946962, 0.010176579, 0.0121022975]\n",
      "2022-02-28 22:42:05,169 : INFO : merging changes from 2000 documents into a model of 3204 documents\n",
      "2022-02-28 22:42:05,176 : INFO : topic #30 (0.010): 0.459*\"94\" + 0.084*\"152\" + 0.045*\"237\" + 0.034*\"834\" + 0.032*\"472\" + 0.029*\"267\" + 0.028*\"430\" + 0.028*\"73\" + 0.025*\"95\" + 0.023*\"840\"\n",
      "2022-02-28 22:42:05,177 : INFO : topic #86 (0.010): 0.122*\"50\" + 0.062*\"0\" + 0.055*\"139\" + 0.040*\"698\" + 0.034*\"112\" + 0.023*\"925\" + 0.022*\"453\" + 0.021*\"367\" + 0.020*\"87\" + 0.019*\"137\"\n",
      "2022-02-28 22:42:05,178 : INFO : topic #16 (0.016): 0.267*\"611\" + 0.210*\"83\" + 0.188*\"34\" + 0.160*\"1015\" + 0.087*\"859\" + 0.026*\"69\" + 0.015*\"531\" + 0.013*\"78\" + 0.006*\"822\" + 0.006*\"730\"\n",
      "2022-02-28 22:42:05,183 : INFO : topic #82 (0.016): 0.446*\"29\" + 0.153*\"30\" + 0.069*\"345\" + 0.041*\"83\" + 0.028*\"61\" + 0.022*\"50\" + 0.017*\"13\" + 0.017*\"174\" + 0.016*\"478\" + 0.015*\"53\"\n",
      "2022-02-28 22:42:05,184 : INFO : topic #18 (0.032): 0.394*\"34\" + 0.381*\"35\" + 0.200*\"83\" + 0.010*\"691\" + 0.007*\"254\" + 0.002*\"348\" + 0.002*\"384\" + 0.001*\"39\" + 0.000*\"536\" + 0.000*\"13\"\n",
      "2022-02-28 22:42:05,185 : INFO : topic diff=0.454158, rho=0.307119\n",
      "2022-02-28 22:42:06,503 : INFO : -6.517 per-word bound, 91.6 perplexity estimate based on a held-out corpus of 1204 documents with 49783 words\n",
      "2022-02-28 22:42:06,503 : INFO : PROGRESS: pass 8, at document #3204/3204\n",
      "2022-02-28 22:42:07,809 : INFO : optimized alpha [0.011567588, 0.011441675, 0.012202527, 0.010930855, 0.011587107, 0.013527866, 0.010253807, 0.010039489, 0.011622077, 0.0119427405, 0.010473222, 0.011781597, 0.011485365, 0.011792206, 0.01133362, 0.010815922, 0.015891397, 0.01108998, 0.03368392, 0.010750885, 0.011853964, 0.013486362, 0.0111237755, 0.011194555, 0.0111467205, 0.0116675235, 0.010713425, 0.011688078, 0.01070381, 0.011130052, 0.0096935425, 0.011550182, 0.012310303, 0.010980362, 0.010549106, 0.010903885, 0.011729103, 0.010870198, 0.01103985, 0.011251827, 0.012881452, 0.01268008, 0.011839119, 0.011008152, 0.012538583, 0.012449153, 0.011583631, 0.011468278, 0.009922072, 0.012927015, 0.011838357, 0.011031217, 0.012636213, 0.011354299, 0.0123518165, 0.012503664, 0.011575729, 0.011015796, 0.013725501, 0.010222986, 0.010019537, 0.011142792, 0.010737536, 0.010761395, 0.011446609, 0.013591631, 0.010659469, 0.012137671, 0.011383928, 0.01138809, 0.011045439, 0.0120123755, 0.013923458, 0.010929185, 0.011585519, 0.012361161, 0.011835367, 0.011404791, 0.01173378, 0.010870075, 0.010184671, 0.010460445, 0.016833397, 0.010471018, 0.011402418, 0.011693977, 0.010018251, 0.011055596, 0.0118907755, 0.010960423, 0.010923424, 0.010993711, 0.012791369, 0.011720993, 0.010840208, 0.011578281, 0.010653153, 0.0121742645, 0.0102166105, 0.012318783]\n",
      "2022-02-28 22:42:07,819 : INFO : merging changes from 1204 documents into a model of 3204 documents\n",
      "2022-02-28 22:42:07,828 : INFO : topic #30 (0.010): 0.512*\"94\" + 0.067*\"152\" + 0.036*\"834\" + 0.032*\"472\" + 0.030*\"95\" + 0.030*\"237\" + 0.029*\"430\" + 0.025*\"267\" + 0.023*\"73\" + 0.018*\"242\"\n",
      "2022-02-28 22:42:07,830 : INFO : topic #48 (0.010): 0.146*\"226\" + 0.083*\"800\" + 0.076*\"83\" + 0.069*\"674\" + 0.050*\"50\" + 0.039*\"37\" + 0.036*\"317\" + 0.035*\"905\" + 0.032*\"997\" + 0.026*\"1020\"\n",
      "2022-02-28 22:42:07,835 : INFO : topic #16 (0.016): 0.273*\"611\" + 0.208*\"83\" + 0.175*\"34\" + 0.130*\"859\" + 0.122*\"1015\" + 0.025*\"69\" + 0.021*\"531\" + 0.011*\"78\" + 0.007*\"822\" + 0.007*\"730\"\n",
      "2022-02-28 22:42:07,836 : INFO : topic #82 (0.017): 0.459*\"29\" + 0.144*\"30\" + 0.071*\"345\" + 0.043*\"83\" + 0.029*\"61\" + 0.021*\"50\" + 0.017*\"13\" + 0.017*\"174\" + 0.016*\"510\" + 0.015*\"53\"\n",
      "2022-02-28 22:42:07,838 : INFO : topic #18 (0.034): 0.400*\"34\" + 0.386*\"35\" + 0.191*\"83\" + 0.010*\"691\" + 0.006*\"254\" + 0.002*\"348\" + 0.001*\"384\" + 0.001*\"39\" + 0.000*\"536\" + 0.000*\"13\"\n",
      "2022-02-28 22:42:07,841 : INFO : topic diff=0.454533, rho=0.307119\n",
      "2022-02-28 22:42:07,855 : INFO : PROGRESS: pass 9, at document #2000/3204\n",
      "2022-02-28 22:42:09,228 : INFO : optimized alpha [0.011662431, 0.011487983, 0.012292345, 0.010924402, 0.011595372, 0.013729612, 0.0103416005, 0.010032308, 0.011642803, 0.012096982, 0.010477582, 0.011779621, 0.011548407, 0.011847035, 0.011459271, 0.010859133, 0.016385103, 0.011144776, 0.03592675, 0.010751071, 0.011980192, 0.01361012, 0.011167614, 0.011277285, 0.011200838, 0.011671618, 0.010730784, 0.0117569165, 0.010792881, 0.011175943, 0.009717295, 0.011555451, 0.01239785, 0.011068559, 0.010608248, 0.010969258, 0.011743083, 0.010907657, 0.011033743, 0.011292338, 0.012913892, 0.012746329, 0.01196468, 0.010999623, 0.01253792, 0.012450636, 0.011627097, 0.011457005, 0.009910978, 0.013110958, 0.01184002, 0.011035657, 0.012744183, 0.011419294, 0.012538809, 0.012734055, 0.011672324, 0.011042259, 0.013933077, 0.010218135, 0.010052856, 0.011174222, 0.010730844, 0.010824593, 0.0114626, 0.013650204, 0.010653876, 0.012216747, 0.011406864, 0.011462771, 0.01104556, 0.012161406, 0.014226882, 0.0109422095, 0.011722251, 0.012462431, 0.011807562, 0.011529945, 0.011744922, 0.01095572, 0.010161184, 0.0104971025, 0.017103497, 0.010503374, 0.01146002, 0.011774098, 0.010036304, 0.0110862, 0.012082485, 0.010982122, 0.010970411, 0.011031336, 0.012889626, 0.011756163, 0.010826658, 0.011547534, 0.010619641, 0.012337524, 0.010212808, 0.012428275]\n",
      "2022-02-28 22:42:09,237 : INFO : merging changes from 2000 documents into a model of 3204 documents\n",
      "2022-02-28 22:42:09,248 : INFO : topic #30 (0.010): 0.459*\"94\" + 0.091*\"152\" + 0.045*\"237\" + 0.033*\"834\" + 0.032*\"472\" + 0.029*\"430\" + 0.029*\"267\" + 0.028*\"73\" + 0.025*\"95\" + 0.022*\"840\"\n",
      "2022-02-28 22:42:09,250 : INFO : topic #48 (0.010): 0.127*\"226\" + 0.073*\"674\" + 0.071*\"800\" + 0.065*\"83\" + 0.053*\"50\" + 0.041*\"317\" + 0.040*\"37\" + 0.035*\"997\" + 0.033*\"905\" + 0.027*\"1020\"\n",
      "2022-02-28 22:42:09,251 : INFO : topic #16 (0.016): 0.266*\"611\" + 0.212*\"83\" + 0.189*\"34\" + 0.159*\"1015\" + 0.087*\"859\" + 0.025*\"69\" + 0.015*\"531\" + 0.012*\"78\" + 0.006*\"730\" + 0.006*\"822\"\n",
      "2022-02-28 22:42:09,255 : INFO : topic #82 (0.017): 0.458*\"29\" + 0.147*\"30\" + 0.070*\"345\" + 0.040*\"83\" + 0.028*\"61\" + 0.021*\"50\" + 0.018*\"13\" + 0.017*\"174\" + 0.015*\"478\" + 0.015*\"53\"\n",
      "2022-02-28 22:42:09,256 : INFO : topic #18 (0.036): 0.398*\"34\" + 0.383*\"35\" + 0.196*\"83\" + 0.008*\"691\" + 0.007*\"254\" + 0.002*\"348\" + 0.002*\"384\" + 0.000*\"39\" + 0.000*\"536\" + 0.000*\"13\"\n"
     ]
    },
    {
     "name": "stderr",
     "output_type": "stream",
     "text": [
      "2022-02-28 22:42:09,257 : INFO : topic diff=0.394337, rho=0.293585\n",
      "2022-02-28 22:42:10,600 : INFO : -6.500 per-word bound, 90.5 perplexity estimate based on a held-out corpus of 1204 documents with 49783 words\n",
      "2022-02-28 22:42:10,601 : INFO : PROGRESS: pass 9, at document #3204/3204\n",
      "2022-02-28 22:42:11,664 : INFO : optimized alpha [0.011831825, 0.011703413, 0.0125405835, 0.011071112, 0.011805492, 0.013980085, 0.010372911, 0.010057166, 0.011828703, 0.012258467, 0.010563805, 0.011968461, 0.0117226895, 0.011974627, 0.0115718655, 0.010984223, 0.01658851, 0.011271974, 0.0380614, 0.010881782, 0.012132935, 0.01398071, 0.011328408, 0.011387457, 0.011280779, 0.011820892, 0.0108174905, 0.011897868, 0.010880162, 0.011308206, 0.009738453, 0.011776238, 0.012622555, 0.011142839, 0.010650006, 0.011027832, 0.011982122, 0.010995816, 0.011212612, 0.011444817, 0.013261249, 0.012994447, 0.012101809, 0.011133385, 0.012730868, 0.01265719, 0.01180014, 0.011679087, 0.0099387, 0.013366155, 0.012035237, 0.011175526, 0.01298126, 0.011590491, 0.012632925, 0.012875297, 0.011862565, 0.011205807, 0.014343896, 0.010308765, 0.010107828, 0.0113488855, 0.01089461, 0.010923328, 0.011668989, 0.014020774, 0.010778582, 0.012388802, 0.011550546, 0.011570913, 0.011147377, 0.012354806, 0.014528803, 0.01108655, 0.011758526, 0.012809069, 0.0120462375, 0.01163599, 0.011941128, 0.011038489, 0.01026572, 0.010605899, 0.017793855, 0.010644742, 0.01156387, 0.011971703, 0.010119887, 0.011241901, 0.012237176, 0.011111128, 0.011144994, 0.01111862, 0.013088175, 0.011951712, 0.010996204, 0.0116748605, 0.010710975, 0.012564568, 0.010251862, 0.012629154]\n",
      "2022-02-28 22:42:11,672 : INFO : merging changes from 1204 documents into a model of 3204 documents\n",
      "2022-02-28 22:42:11,680 : INFO : topic #30 (0.010): 0.510*\"94\" + 0.073*\"152\" + 0.036*\"834\" + 0.032*\"472\" + 0.030*\"95\" + 0.030*\"237\" + 0.030*\"430\" + 0.026*\"267\" + 0.023*\"73\" + 0.017*\"840\"\n",
      "2022-02-28 22:42:11,681 : INFO : topic #48 (0.010): 0.146*\"226\" + 0.083*\"800\" + 0.078*\"674\" + 0.075*\"83\" + 0.051*\"50\" + 0.040*\"37\" + 0.037*\"905\" + 0.037*\"317\" + 0.032*\"997\" + 0.026*\"41\"\n",
      "2022-02-28 22:42:11,686 : INFO : topic #16 (0.017): 0.272*\"611\" + 0.214*\"83\" + 0.176*\"34\" + 0.128*\"859\" + 0.122*\"1015\" + 0.024*\"69\" + 0.020*\"531\" + 0.011*\"78\" + 0.007*\"730\" + 0.006*\"822\"\n",
      "2022-02-28 22:42:11,691 : INFO : topic #82 (0.018): 0.469*\"29\" + 0.140*\"30\" + 0.072*\"345\" + 0.041*\"83\" + 0.029*\"61\" + 0.020*\"50\" + 0.018*\"13\" + 0.017*\"174\" + 0.015*\"510\" + 0.015*\"53\"\n",
      "2022-02-28 22:42:11,694 : INFO : topic #18 (0.038): 0.403*\"34\" + 0.387*\"35\" + 0.188*\"83\" + 0.008*\"691\" + 0.006*\"254\" + 0.002*\"348\" + 0.001*\"384\" + 0.000*\"39\" + 0.000*\"536\" + 0.000*\"13\"\n",
      "2022-02-28 22:42:11,695 : INFO : topic diff=0.395191, rho=0.293585\n",
      "2022-02-28 22:42:11,710 : INFO : PROGRESS: pass 10, at document #2000/3204\n",
      "2022-02-28 22:42:12,838 : INFO : optimized alpha [0.011925415, 0.011752702, 0.0126379365, 0.011064733, 0.0118162455, 0.014183058, 0.010456761, 0.010052478, 0.011846658, 0.012413953, 0.010568282, 0.011967768, 0.01178687, 0.012029341, 0.0116989575, 0.011035303, 0.017081862, 0.01132499, 0.040420722, 0.010883462, 0.012255561, 0.014104154, 0.011370623, 0.011469317, 0.0113317305, 0.011823, 0.010834442, 0.011964447, 0.010974316, 0.011362111, 0.009760511, 0.011780565, 0.012714115, 0.011234733, 0.010710433, 0.011089729, 0.011994849, 0.011035364, 0.011204694, 0.011490259, 0.013290913, 0.013052474, 0.012230651, 0.011131464, 0.012731536, 0.012663396, 0.0118419025, 0.011669067, 0.00993022, 0.0135438405, 0.01203626, 0.011181289, 0.013080368, 0.011654878, 0.012816933, 0.013100772, 0.011959533, 0.011237416, 0.014547125, 0.010313048, 0.010143166, 0.011382199, 0.010893973, 0.010990803, 0.011688868, 0.014094023, 0.010774734, 0.012465217, 0.011575832, 0.01164164, 0.011146142, 0.012494756, 0.014835955, 0.011092639, 0.011894736, 0.012914019, 0.012023527, 0.011752739, 0.0119513795, 0.011127816, 0.010247651, 0.010648908, 0.0180575, 0.010683442, 0.011621327, 0.012050899, 0.010138996, 0.011284058, 0.012428071, 0.011138405, 0.011196538, 0.01116462, 0.013186887, 0.011990331, 0.010984306, 0.011643912, 0.010679202, 0.012723814, 0.010248879, 0.012738817]\n",
      "2022-02-28 22:42:12,847 : INFO : merging changes from 2000 documents into a model of 3204 documents\n",
      "2022-02-28 22:42:12,856 : INFO : topic #30 (0.010): 0.461*\"94\" + 0.096*\"152\" + 0.044*\"237\" + 0.033*\"834\" + 0.032*\"472\" + 0.030*\"267\" + 0.029*\"430\" + 0.027*\"73\" + 0.025*\"95\" + 0.022*\"840\"\n",
      "2022-02-28 22:42:12,857 : INFO : topic #48 (0.010): 0.128*\"226\" + 0.084*\"674\" + 0.071*\"800\" + 0.065*\"83\" + 0.054*\"50\" + 0.041*\"317\" + 0.040*\"37\" + 0.035*\"997\" + 0.035*\"905\" + 0.027*\"1020\"\n",
      "2022-02-28 22:42:12,858 : INFO : topic #16 (0.017): 0.265*\"611\" + 0.217*\"83\" + 0.189*\"34\" + 0.157*\"1015\" + 0.088*\"859\" + 0.025*\"69\" + 0.015*\"531\" + 0.012*\"78\" + 0.006*\"730\" + 0.005*\"822\"\n",
      "2022-02-28 22:42:12,859 : INFO : topic #82 (0.018): 0.468*\"29\" + 0.142*\"30\" + 0.071*\"345\" + 0.038*\"83\" + 0.028*\"61\" + 0.020*\"50\" + 0.019*\"13\" + 0.018*\"174\" + 0.015*\"53\" + 0.015*\"478\"\n",
      "2022-02-28 22:42:12,860 : INFO : topic #18 (0.040): 0.400*\"34\" + 0.384*\"35\" + 0.194*\"83\" + 0.007*\"691\" + 0.007*\"254\" + 0.002*\"348\" + 0.002*\"384\" + 0.000*\"39\" + 0.000*\"536\" + 0.000*\"13\"\n",
      "2022-02-28 22:42:12,862 : INFO : topic diff=0.342543, rho=0.281696\n",
      "2022-02-28 22:42:14,128 : INFO : -6.486 per-word bound, 89.6 perplexity estimate based on a held-out corpus of 1204 documents with 49783 words\n",
      "2022-02-28 22:42:14,131 : INFO : PROGRESS: pass 10, at document #3204/3204\n",
      "2022-02-28 22:42:15,398 : INFO : optimized alpha [0.012098322, 0.011965322, 0.012892139, 0.011207105, 0.012020516, 0.014440495, 0.010489415, 0.010077119, 0.01203006, 0.012576403, 0.010649433, 0.012156858, 0.011961638, 0.012155559, 0.011818816, 0.011161803, 0.017268676, 0.011453645, 0.042637635, 0.011017885, 0.012409292, 0.014472698, 0.011526651, 0.011578608, 0.011422375, 0.011973273, 0.01093621, 0.012101047, 0.011069024, 0.011493001, 0.009781418, 0.011992427, 0.012938779, 0.011311719, 0.010750865, 0.01114905, 0.0122305155, 0.01112068, 0.011380885, 0.011635431, 0.013634035, 0.013281861, 0.012366288, 0.011266475, 0.012915714, 0.012857946, 0.0120240515, 0.01189327, 0.009959953, 0.013805684, 0.012222959, 0.011316921, 0.013305364, 0.01182663, 0.012907345, 0.013240372, 0.012144607, 0.011398878, 0.014969059, 0.010398422, 0.010198853, 0.0115625905, 0.011058009, 0.011089009, 0.01189238, 0.0144506795, 0.010895632, 0.012629194, 0.011720559, 0.011748939, 0.011244729, 0.012688707, 0.015155497, 0.011243094, 0.011940623, 0.013257623, 0.012258383, 0.011855233, 0.012139131, 0.011207777, 0.010356217, 0.010756887, 0.018756483, 0.010840896, 0.011713636, 0.012237506, 0.010234259, 0.011435209, 0.012580925, 0.011266125, 0.011369059, 0.011254259, 0.013385748, 0.012183342, 0.011166912, 0.011767258, 0.010775364, 0.012948116, 0.010291983, 0.012939972]\n",
      "2022-02-28 22:42:15,407 : INFO : merging changes from 1204 documents into a model of 3204 documents\n",
      "2022-02-28 22:42:15,417 : INFO : topic #30 (0.010): 0.509*\"94\" + 0.077*\"152\" + 0.036*\"834\" + 0.032*\"472\" + 0.031*\"95\" + 0.030*\"237\" + 0.030*\"430\" + 0.026*\"267\" + 0.023*\"73\" + 0.018*\"346\"\n",
      "2022-02-28 22:42:15,420 : INFO : topic #48 (0.010): 0.146*\"226\" + 0.087*\"674\" + 0.083*\"800\" + 0.074*\"83\" + 0.051*\"50\" + 0.041*\"37\" + 0.037*\"905\" + 0.036*\"317\" + 0.033*\"997\" + 0.028*\"41\"\n",
      "2022-02-28 22:42:15,421 : INFO : topic #16 (0.017): 0.272*\"611\" + 0.217*\"83\" + 0.177*\"34\" + 0.126*\"859\" + 0.123*\"1015\" + 0.024*\"69\" + 0.020*\"531\" + 0.011*\"78\" + 0.006*\"822\" + 0.006*\"730\"\n",
      "2022-02-28 22:42:15,423 : INFO : topic #82 (0.019): 0.479*\"29\" + 0.137*\"30\" + 0.073*\"345\" + 0.039*\"83\" + 0.029*\"61\" + 0.020*\"50\" + 0.019*\"13\" + 0.018*\"174\" + 0.016*\"53\" + 0.015*\"510\"\n",
      "2022-02-28 22:42:15,425 : INFO : topic #18 (0.043): 0.406*\"34\" + 0.389*\"35\" + 0.184*\"83\" + 0.007*\"691\" + 0.006*\"254\" + 0.002*\"348\" + 0.001*\"384\" + 0.000*\"39\" + 0.000*\"536\" + 0.000*\"13\"\n",
      "2022-02-28 22:42:15,427 : INFO : topic diff=0.344749, rho=0.281696\n",
      "2022-02-28 22:42:15,442 : INFO : PROGRESS: pass 11, at document #2000/3204\n",
      "2022-02-28 22:42:16,565 : INFO : optimized alpha [0.012194184, 0.012024073, 0.013009196, 0.011199286, 0.012032016, 0.0146552585, 0.010575374, 0.010073304, 0.012053537, 0.012736908, 0.010654087, 0.012164085, 0.012023748, 0.012212003, 0.01194278, 0.011219068, 0.017764669, 0.011511329, 0.04509415, 0.01101944, 0.012528783, 0.014584357, 0.011568964, 0.011662938, 0.011479704, 0.011976805, 0.010952763, 0.012170558, 0.011162259, 0.011554826, 0.0098058935, 0.011997605, 0.013029315, 0.011402732, 0.010809744, 0.011213955, 0.012248769, 0.011166738, 0.011374376, 0.011681005, 0.013664891, 0.013339398, 0.012491898, 0.011269206, 0.012910698, 0.012861757, 0.012060952, 0.011889254, 0.00996058, 0.013973828, 0.012223467, 0.011322483, 0.013408886, 0.011888979, 0.013094143, 0.013463464, 0.012242253, 0.011430839, 0.015182423, 0.010408406, 0.010236154, 0.011599319, 0.011057086, 0.011154718, 0.01191931, 0.014518777, 0.010894886, 0.012708385, 0.011752937, 0.011822485, 0.011246826, 0.012826973, 0.0154670365, 0.011253481, 0.012076669, 0.013353943, 0.01223551, 0.011975512, 0.012155255, 0.011300846, 0.0103431335, 0.010800185, 0.019003645, 0.010893074, 0.011764718, 0.012317623, 0.0102557, 0.0114838695, 0.0127731515, 0.011295583, 0.011421961, 0.011297466, 0.013483278, 0.012220474, 0.011154934, 0.01173928, 0.0107465, 0.013105587, 0.010295329, 0.013046597]\n"
     ]
    },
    {
     "name": "stderr",
     "output_type": "stream",
     "text": [
      "2022-02-28 22:42:16,572 : INFO : merging changes from 2000 documents into a model of 3204 documents\n",
      "2022-02-28 22:42:16,580 : INFO : topic #30 (0.010): 0.462*\"94\" + 0.099*\"152\" + 0.043*\"237\" + 0.033*\"834\" + 0.031*\"472\" + 0.030*\"267\" + 0.030*\"430\" + 0.027*\"73\" + 0.026*\"95\" + 0.022*\"840\"\n",
      "2022-02-28 22:42:16,582 : INFO : topic #48 (0.010): 0.129*\"226\" + 0.094*\"674\" + 0.072*\"800\" + 0.065*\"83\" + 0.054*\"50\" + 0.041*\"37\" + 0.041*\"317\" + 0.036*\"997\" + 0.035*\"905\" + 0.028*\"41\"\n",
      "2022-02-28 22:42:16,585 : INFO : topic #16 (0.018): 0.264*\"611\" + 0.221*\"83\" + 0.189*\"34\" + 0.156*\"1015\" + 0.088*\"859\" + 0.024*\"69\" + 0.015*\"531\" + 0.012*\"78\" + 0.006*\"730\" + 0.005*\"822\"\n",
      "2022-02-28 22:42:16,589 : INFO : topic #82 (0.019): 0.479*\"29\" + 0.138*\"30\" + 0.072*\"345\" + 0.036*\"83\" + 0.029*\"61\" + 0.020*\"13\" + 0.019*\"50\" + 0.018*\"174\" + 0.016*\"53\" + 0.014*\"510\"\n",
      "2022-02-28 22:42:16,592 : INFO : topic #18 (0.045): 0.403*\"34\" + 0.386*\"35\" + 0.190*\"83\" + 0.007*\"254\" + 0.007*\"691\" + 0.002*\"348\" + 0.002*\"384\" + 0.000*\"39\" + 0.000*\"536\" + 0.000*\"13\"\n",
      "2022-02-28 22:42:16,593 : INFO : topic diff=0.299300, rho=0.271143\n",
      "2022-02-28 22:42:17,965 : INFO : -6.473 per-word bound, 88.8 perplexity estimate based on a held-out corpus of 1204 documents with 49783 words\n",
      "2022-02-28 22:42:17,966 : INFO : PROGRESS: pass 11, at document #3204/3204\n",
      "2022-02-28 22:42:18,958 : INFO : optimized alpha [0.012365363, 0.012234425, 0.013272739, 0.011345299, 0.012222929, 0.014906854, 0.0106093725, 0.010100119, 0.012234832, 0.012900561, 0.01073299, 0.012359236, 0.012193927, 0.012334606, 0.012067166, 0.011347144, 0.017947359, 0.011636345, 0.047397744, 0.011145115, 0.012678146, 0.014945201, 0.011723372, 0.011774205, 0.01155724, 0.012133797, 0.011054115, 0.012303197, 0.011264273, 0.011689936, 0.00982651, 0.012204031, 0.01325441, 0.011479874, 0.010851412, 0.011276564, 0.012481669, 0.011257187, 0.011548376, 0.01182469, 0.014001478, 0.013563001, 0.012623521, 0.01139789, 0.013089762, 0.013050964, 0.012238366, 0.012110637, 0.009994335, 0.0142363915, 0.012396771, 0.011459397, 0.013622346, 0.012053652, 0.013195909, 0.0136017, 0.012433887, 0.011585364, 0.015606375, 0.010493698, 0.010297163, 0.011785658, 0.011224219, 0.011242398, 0.012120477, 0.014875726, 0.011017314, 0.0128649045, 0.011904212, 0.011929244, 0.011345087, 0.013018956, 0.01578088, 0.011399859, 0.012117972, 0.013689127, 0.0124672055, 0.012077488, 0.01234081, 0.011383371, 0.010448646, 0.010912389, 0.019694747, 0.011051493, 0.011862398, 0.012502304, 0.010359951, 0.011633721, 0.012921632, 0.0114300065, 0.011605705, 0.011394668, 0.01367384, 0.012422302, 0.011335331, 0.011859164, 0.01084482, 0.013330681, 0.0103421705, 0.013239707]\n",
      "2022-02-28 22:42:18,964 : INFO : merging changes from 1204 documents into a model of 3204 documents\n",
      "2022-02-28 22:42:18,973 : INFO : topic #30 (0.010): 0.508*\"94\" + 0.080*\"152\" + 0.036*\"834\" + 0.032*\"472\" + 0.031*\"95\" + 0.030*\"430\" + 0.030*\"237\" + 0.027*\"267\" + 0.023*\"73\" + 0.018*\"346\"\n",
      "2022-02-28 22:42:18,974 : INFO : topic #48 (0.010): 0.145*\"226\" + 0.095*\"674\" + 0.082*\"800\" + 0.073*\"83\" + 0.051*\"50\" + 0.042*\"37\" + 0.037*\"905\" + 0.036*\"317\" + 0.033*\"997\" + 0.030*\"41\"\n",
      "2022-02-28 22:42:18,976 : INFO : topic #16 (0.018): 0.270*\"611\" + 0.221*\"83\" + 0.177*\"34\" + 0.124*\"859\" + 0.123*\"1015\" + 0.023*\"69\" + 0.020*\"531\" + 0.011*\"78\" + 0.006*\"822\" + 0.005*\"730\"\n",
      "2022-02-28 22:42:18,981 : INFO : topic #82 (0.020): 0.487*\"29\" + 0.134*\"30\" + 0.073*\"345\" + 0.037*\"83\" + 0.029*\"61\" + 0.019*\"13\" + 0.019*\"50\" + 0.018*\"174\" + 0.016*\"53\" + 0.015*\"510\"\n",
      "2022-02-28 22:42:18,984 : INFO : topic #18 (0.047): 0.410*\"34\" + 0.391*\"35\" + 0.181*\"83\" + 0.006*\"691\" + 0.006*\"254\" + 0.002*\"348\" + 0.001*\"384\" + 0.000*\"39\" + 0.000*\"536\" + 0.000*\"13\"\n",
      "2022-02-28 22:42:18,986 : INFO : topic diff=0.302841, rho=0.271143\n",
      "2022-02-28 22:42:19,000 : INFO : PROGRESS: pass 12, at document #2000/3204\n",
      "2022-02-28 22:42:20,102 : INFO : optimized alpha [0.012463668, 0.012296079, 0.013399292, 0.01134054, 0.01223529, 0.015119871, 0.010703028, 0.010098411, 0.012263726, 0.0130561255, 0.010737792, 0.0123690665, 0.012260589, 0.012383023, 0.012191512, 0.011405914, 0.018432233, 0.011692502, 0.04996326, 0.011148106, 0.012794847, 0.015051222, 0.011764364, 0.0118595455, 0.01161626, 0.012138584, 0.011078999, 0.012375694, 0.011358296, 0.011748615, 0.009852003, 0.012208441, 0.013344112, 0.011567194, 0.010908889, 0.011339834, 0.012498695, 0.0113036465, 0.011543205, 0.011870553, 0.014026281, 0.013614937, 0.012747947, 0.011405059, 0.01308974, 0.0130559355, 0.0122788325, 0.012109214, 0.009991579, 0.014404773, 0.012400319, 0.011466258, 0.013728804, 0.012118957, 0.013375475, 0.013830014, 0.012530724, 0.011619234, 0.015807895, 0.010503614, 0.010336325, 0.011828821, 0.011225893, 0.011310914, 0.012150994, 0.014946775, 0.011016591, 0.012943614, 0.011937111, 0.011999346, 0.011350303, 0.0131626595, 0.016105467, 0.011414346, 0.012249271, 0.0137824705, 0.012440842, 0.012193478, 0.012347928, 0.011477216, 0.010442935, 0.010963146, 0.019950919, 0.011105124, 0.011913832, 0.012581839, 0.01038357, 0.01168401, 0.013113805, 0.011463173, 0.011657002, 0.011438299, 0.013765109, 0.012459632, 0.011330707, 0.011835433, 0.010815795, 0.013486613, 0.010351398, 0.013347006]\n",
      "2022-02-28 22:42:20,111 : INFO : merging changes from 2000 documents into a model of 3204 documents\n",
      "2022-02-28 22:42:20,120 : INFO : topic #30 (0.010): 0.462*\"94\" + 0.101*\"152\" + 0.042*\"237\" + 0.033*\"834\" + 0.032*\"267\" + 0.031*\"472\" + 0.030*\"430\" + 0.027*\"73\" + 0.026*\"95\" + 0.022*\"840\"\n",
      "2022-02-28 22:42:20,122 : INFO : topic #48 (0.010): 0.130*\"226\" + 0.101*\"674\" + 0.072*\"800\" + 0.065*\"83\" + 0.054*\"50\" + 0.042*\"37\" + 0.040*\"317\" + 0.036*\"997\" + 0.035*\"905\" + 0.030*\"41\"\n",
      "2022-02-28 22:42:20,123 : INFO : topic #16 (0.018): 0.264*\"611\" + 0.222*\"83\" + 0.189*\"34\" + 0.155*\"1015\" + 0.088*\"859\" + 0.024*\"69\" + 0.015*\"531\" + 0.012*\"78\" + 0.005*\"730\" + 0.005*\"822\"\n",
      "2022-02-28 22:42:20,128 : INFO : topic #82 (0.020): 0.486*\"29\" + 0.136*\"30\" + 0.073*\"345\" + 0.034*\"83\" + 0.029*\"61\" + 0.020*\"13\" + 0.019*\"50\" + 0.018*\"174\" + 0.016*\"53\" + 0.014*\"510\"\n",
      "2022-02-28 22:42:20,129 : INFO : topic #18 (0.050): 0.406*\"34\" + 0.387*\"35\" + 0.187*\"83\" + 0.007*\"254\" + 0.006*\"691\" + 0.002*\"348\" + 0.002*\"384\" + 0.000*\"39\" + 0.000*\"536\" + 0.000*\"13\"\n",
      "2022-02-28 22:42:20,130 : INFO : topic diff=0.264024, rho=0.261694\n",
      "2022-02-28 22:42:21,353 : INFO : -6.464 per-word bound, 88.3 perplexity estimate based on a held-out corpus of 1204 documents with 49783 words\n",
      "2022-02-28 22:42:21,354 : INFO : PROGRESS: pass 12, at document #3204/3204\n",
      "2022-02-28 22:42:22,336 : INFO : optimized alpha [0.012641705, 0.012501974, 0.013670004, 0.011482876, 0.012419071, 0.015359513, 0.01074064, 0.010129373, 0.012446118, 0.013210001, 0.010817078, 0.012559676, 0.012442736, 0.012507828, 0.012312669, 0.011528333, 0.018603206, 0.011809171, 0.052341487, 0.011280344, 0.012937634, 0.015412971, 0.011914986, 0.011967841, 0.011704337, 0.012289041, 0.011180099, 0.012507558, 0.011462582, 0.011890574, 0.00987239, 0.012412721, 0.013564407, 0.011644639, 0.010946994, 0.011403197, 0.012732215, 0.01138922, 0.0117080435, 0.012005479, 0.014356973, 0.013839375, 0.01288421, 0.011535497, 0.013261429, 0.013240488, 0.01245756, 0.012333724, 0.01002918, 0.014678067, 0.012571905, 0.011599607, 0.013937606, 0.01227975, 0.013471042, 0.013967263, 0.012729115, 0.011772528, 0.016223773, 0.010586706, 0.010395742, 0.012013563, 0.011393877, 0.011406154, 0.012355671, 0.015324553, 0.011135871, 0.01309896, 0.012084672, 0.012103182, 0.0114460215, 0.013353217, 0.016431281, 0.011564686, 0.012294426, 0.014109796, 0.012672693, 0.012295232, 0.0125290165, 0.011557361, 0.010545761, 0.011070085, 0.02063823, 0.011267249, 0.012008908, 0.012759533, 0.010489749, 0.01183798, 0.013269743, 0.011596744, 0.011849528, 0.011527946, 0.013950902, 0.012662483, 0.011509367, 0.011954769, 0.01091164, 0.013707071, 0.010401717, 0.013535605]\n",
      "2022-02-28 22:42:22,344 : INFO : merging changes from 1204 documents into a model of 3204 documents\n",
      "2022-02-28 22:42:22,355 : INFO : topic #30 (0.010): 0.506*\"94\" + 0.082*\"152\" + 0.035*\"834\" + 0.032*\"472\" + 0.031*\"95\" + 0.031*\"430\" + 0.030*\"237\" + 0.028*\"267\" + 0.023*\"73\" + 0.018*\"346\"\n",
      "2022-02-28 22:42:22,358 : INFO : topic #48 (0.010): 0.145*\"226\" + 0.099*\"674\" + 0.082*\"800\" + 0.073*\"83\" + 0.051*\"50\" + 0.044*\"37\" + 0.037*\"317\" + 0.036*\"905\" + 0.034*\"997\" + 0.031*\"41\"\n"
     ]
    },
    {
     "name": "stderr",
     "output_type": "stream",
     "text": [
      "2022-02-28 22:42:22,360 : INFO : topic #16 (0.019): 0.270*\"611\" + 0.222*\"83\" + 0.178*\"34\" + 0.124*\"1015\" + 0.123*\"859\" + 0.023*\"69\" + 0.020*\"531\" + 0.011*\"78\" + 0.005*\"822\" + 0.005*\"730\"\n",
      "2022-02-28 22:42:22,361 : INFO : topic #82 (0.021): 0.494*\"29\" + 0.131*\"30\" + 0.074*\"345\" + 0.035*\"83\" + 0.029*\"61\" + 0.020*\"13\" + 0.018*\"50\" + 0.018*\"174\" + 0.016*\"53\" + 0.015*\"510\"\n",
      "2022-02-28 22:42:22,362 : INFO : topic #18 (0.052): 0.412*\"34\" + 0.391*\"35\" + 0.178*\"83\" + 0.006*\"254\" + 0.006*\"691\" + 0.002*\"348\" + 0.001*\"384\" + 0.000*\"39\" + 0.000*\"536\" + 0.000*\"13\"\n",
      "2022-02-28 22:42:22,364 : INFO : topic diff=0.268404, rho=0.261694\n",
      "2022-02-28 22:42:22,377 : INFO : PROGRESS: pass 13, at document #2000/3204\n",
      "2022-02-28 22:42:23,408 : INFO : optimized alpha [0.012739419, 0.012560228, 0.013790413, 0.011479619, 0.0124371005, 0.015567111, 0.010833676, 0.010129578, 0.012475561, 0.01336433, 0.010822006, 0.012573657, 0.012513984, 0.01255659, 0.012437605, 0.011594589, 0.019091537, 0.011866996, 0.054951362, 0.011281738, 0.0130501725, 0.015513733, 0.011956307, 0.012051245, 0.011763509, 0.012298291, 0.011205923, 0.012576711, 0.011559006, 0.011958459, 0.009896328, 0.012416432, 0.013651724, 0.011734481, 0.011003218, 0.011468028, 0.012751343, 0.011437545, 0.01170421, 0.012051677, 0.014379725, 0.013891211, 0.013004426, 0.011543915, 0.013257784, 0.013243266, 0.012501535, 0.0123331165, 0.01002702, 0.014858305, 0.01258152, 0.011606195, 0.014036082, 0.0123434225, 0.0136541175, 0.014193988, 0.012825176, 0.011806882, 0.01642773, 0.010597919, 0.010435408, 0.012058443, 0.011400951, 0.011471679, 0.012381752, 0.015398675, 0.011136605, 0.013177306, 0.012116568, 0.012174716, 0.011449861, 0.013497508, 0.016757334, 0.011585985, 0.012421406, 0.014203928, 0.012652673, 0.012413459, 0.0125404, 0.0116520915, 0.010541685, 0.011121128, 0.020893339, 0.011328034, 0.012057654, 0.012845232, 0.010519468, 0.011889945, 0.013462273, 0.011630464, 0.011905286, 0.011570526, 0.014048626, 0.012706536, 0.011503016, 0.011933454, 0.010883778, 0.013860082, 0.01041375, 0.01364384]\n",
      "2022-02-28 22:42:23,417 : INFO : merging changes from 2000 documents into a model of 3204 documents\n",
      "2022-02-28 22:42:23,423 : INFO : topic #30 (0.010): 0.463*\"94\" + 0.102*\"152\" + 0.041*\"237\" + 0.033*\"834\" + 0.032*\"267\" + 0.031*\"472\" + 0.030*\"430\" + 0.026*\"73\" + 0.026*\"95\" + 0.022*\"840\"\n",
      "2022-02-28 22:42:23,424 : INFO : topic #48 (0.010): 0.131*\"226\" + 0.105*\"674\" + 0.072*\"800\" + 0.065*\"83\" + 0.054*\"50\" + 0.044*\"37\" + 0.040*\"317\" + 0.036*\"997\" + 0.035*\"905\" + 0.031*\"41\"\n",
      "2022-02-28 22:42:23,424 : INFO : topic #16 (0.019): 0.263*\"611\" + 0.225*\"83\" + 0.189*\"34\" + 0.154*\"1015\" + 0.088*\"859\" + 0.024*\"69\" + 0.015*\"531\" + 0.012*\"78\" + 0.005*\"730\" + 0.005*\"822\"\n",
      "2022-02-28 22:42:23,425 : INFO : topic #82 (0.021): 0.493*\"29\" + 0.132*\"30\" + 0.073*\"345\" + 0.033*\"83\" + 0.029*\"61\" + 0.021*\"13\" + 0.019*\"174\" + 0.018*\"50\" + 0.016*\"53\" + 0.014*\"510\"\n",
      "2022-02-28 22:42:23,426 : INFO : topic #18 (0.055): 0.409*\"34\" + 0.388*\"35\" + 0.184*\"83\" + 0.007*\"254\" + 0.005*\"691\" + 0.002*\"348\" + 0.002*\"384\" + 0.000*\"39\" + 0.000*\"536\" + 0.000*\"13\"\n",
      "2022-02-28 22:42:23,427 : INFO : topic diff=0.235093, rho=0.253169\n",
      "2022-02-28 22:42:24,616 : INFO : -6.454 per-word bound, 87.7 perplexity estimate based on a held-out corpus of 1204 documents with 49783 words\n",
      "2022-02-28 22:42:24,616 : INFO : PROGRESS: pass 13, at document #3204/3204\n",
      "2022-02-28 22:42:25,587 : INFO : optimized alpha [0.012913763, 0.012770127, 0.014071608, 0.011618685, 0.012619644, 0.01579507, 0.010870217, 0.010153687, 0.012659306, 0.013514341, 0.010899445, 0.012757533, 0.012692343, 0.012673061, 0.012560975, 0.011721526, 0.019259296, 0.011985849, 0.057390228, 0.011403648, 0.013192247, 0.015876936, 0.012106037, 0.012151713, 0.0118618, 0.012442645, 0.0113069685, 0.012708071, 0.011668101, 0.012087143, 0.009916515, 0.0126189785, 0.013873331, 0.011807394, 0.011047321, 0.011527302, 0.012988459, 0.0115211215, 0.011865362, 0.012180931, 0.014705124, 0.01410803, 0.013134615, 0.011678629, 0.013431042, 0.013426466, 0.01268451, 0.012550603, 0.010057604, 0.015123953, 0.012746701, 0.011738883, 0.014252454, 0.012505855, 0.013746555, 0.014324486, 0.013016947, 0.0119592585, 0.016849756, 0.010683469, 0.010493392, 0.01224199, 0.01156772, 0.011567026, 0.012587663, 0.01577833, 0.011260127, 0.01333451, 0.012260798, 0.012281049, 0.011545667, 0.0136840725, 0.017088948, 0.01173308, 0.012465062, 0.014529863, 0.012879818, 0.01253101, 0.012720122, 0.011737436, 0.010639839, 0.011225525, 0.021585364, 0.011489342, 0.01215557, 0.01301919, 0.010625417, 0.012058189, 0.013617393, 0.011770754, 0.012101625, 0.011657969, 0.014227323, 0.012913399, 0.011680294, 0.0120474985, 0.010984312, 0.014076197, 0.0104762595, 0.013831138]\n",
      "2022-02-28 22:42:25,595 : INFO : merging changes from 1204 documents into a model of 3204 documents\n",
      "2022-02-28 22:42:25,605 : INFO : topic #30 (0.010): 0.506*\"94\" + 0.083*\"152\" + 0.035*\"834\" + 0.032*\"472\" + 0.031*\"95\" + 0.031*\"430\" + 0.030*\"237\" + 0.029*\"267\" + 0.023*\"73\" + 0.018*\"346\"\n",
      "2022-02-28 22:42:25,607 : INFO : topic #48 (0.010): 0.146*\"226\" + 0.104*\"674\" + 0.082*\"800\" + 0.072*\"83\" + 0.052*\"50\" + 0.044*\"37\" + 0.036*\"317\" + 0.036*\"905\" + 0.034*\"997\" + 0.031*\"41\"\n",
      "2022-02-28 22:42:25,608 : INFO : topic #16 (0.019): 0.269*\"611\" + 0.226*\"83\" + 0.178*\"34\" + 0.124*\"1015\" + 0.122*\"859\" + 0.023*\"69\" + 0.019*\"531\" + 0.011*\"78\" + 0.005*\"822\" + 0.005*\"730\"\n",
      "2022-02-28 22:42:25,609 : INFO : topic #82 (0.022): 0.500*\"29\" + 0.128*\"30\" + 0.074*\"345\" + 0.033*\"83\" + 0.029*\"61\" + 0.021*\"13\" + 0.018*\"174\" + 0.018*\"50\" + 0.017*\"53\" + 0.014*\"510\"\n",
      "2022-02-28 22:42:25,610 : INFO : topic #18 (0.057): 0.415*\"34\" + 0.393*\"35\" + 0.176*\"83\" + 0.006*\"254\" + 0.005*\"691\" + 0.002*\"348\" + 0.001*\"384\" + 0.000*\"39\" + 0.000*\"536\" + 0.000*\"13\"\n",
      "2022-02-28 22:42:25,612 : INFO : topic diff=0.239588, rho=0.253169\n",
      "2022-02-28 22:42:25,622 : INFO : PROGRESS: pass 14, at document #2000/3204\n",
      "2022-02-28 22:42:26,628 : INFO : optimized alpha [0.013018884, 0.012834628, 0.014203353, 0.01161688, 0.012641589, 0.016007269, 0.010965473, 0.010153186, 0.012687661, 0.013667647, 0.0109058665, 0.012772351, 0.012761873, 0.012720707, 0.012688249, 0.011780542, 0.019741993, 0.012043824, 0.06003203, 0.01140787, 0.013304148, 0.015980372, 0.012143259, 0.012234908, 0.011916833, 0.012448486, 0.011335013, 0.012775668, 0.011768371, 0.012153545, 0.009940232, 0.012626633, 0.013956686, 0.011895383, 0.01110785, 0.011588004, 0.013006341, 0.011564203, 0.011864254, 0.012226009, 0.014725849, 0.01415641, 0.013252452, 0.011686788, 0.013427241, 0.013430448, 0.012739804, 0.012555531, 0.010057252, 0.0152936885, 0.012758938, 0.01174818, 0.014350511, 0.012564894, 0.013921416, 0.01455342, 0.01311408, 0.011991105, 0.017050313, 0.010697187, 0.010531031, 0.012287019, 0.011579937, 0.011635528, 0.012618912, 0.015847515, 0.0112635745, 0.013412651, 0.012293304, 0.012357111, 0.011552391, 0.013825809, 0.017414577, 0.011753785, 0.012589565, 0.014619578, 0.012861069, 0.012648721, 0.012732414, 0.011837437, 0.010633352, 0.011280981, 0.021829037, 0.011555785, 0.012204818, 0.01309977, 0.010655749, 0.012114736, 0.013810527, 0.011810913, 0.012160348, 0.011701189, 0.014324565, 0.0129576055, 0.011679477, 0.012035927, 0.010960115, 0.014228252, 0.010493462, 0.01393531]\n",
      "2022-02-28 22:42:26,637 : INFO : merging changes from 2000 documents into a model of 3204 documents\n",
      "2022-02-28 22:42:26,644 : INFO : topic #30 (0.010): 0.465*\"94\" + 0.102*\"152\" + 0.041*\"237\" + 0.033*\"834\" + 0.033*\"267\" + 0.031*\"472\" + 0.030*\"430\" + 0.027*\"95\" + 0.026*\"73\" + 0.022*\"840\"\n",
      "2022-02-28 22:42:26,645 : INFO : topic #48 (0.010): 0.132*\"226\" + 0.110*\"674\" + 0.073*\"800\" + 0.064*\"83\" + 0.054*\"50\" + 0.044*\"37\" + 0.039*\"317\" + 0.037*\"997\" + 0.034*\"905\" + 0.031*\"41\"\n",
      "2022-02-28 22:42:26,649 : INFO : topic #16 (0.020): 0.263*\"611\" + 0.227*\"83\" + 0.189*\"34\" + 0.153*\"1015\" + 0.089*\"859\" + 0.024*\"69\" + 0.015*\"531\" + 0.012*\"78\" + 0.005*\"730\" + 0.005*\"822\"\n",
      "2022-02-28 22:42:26,651 : INFO : topic #82 (0.022): 0.500*\"29\" + 0.130*\"30\" + 0.074*\"345\" + 0.031*\"83\" + 0.029*\"61\" + 0.022*\"13\" + 0.019*\"174\" + 0.018*\"50\" + 0.017*\"53\" + 0.013*\"954\"\n",
      "2022-02-28 22:42:26,653 : INFO : topic #18 (0.060): 0.411*\"34\" + 0.389*\"35\" + 0.181*\"83\" + 0.007*\"254\" + 0.005*\"691\" + 0.002*\"348\" + 0.002*\"384\" + 0.000*\"39\" + 0.000*\"536\" + 0.000*\"13\"\n"
     ]
    },
    {
     "name": "stderr",
     "output_type": "stream",
     "text": [
      "2022-02-28 22:42:26,656 : INFO : topic diff=0.211423, rho=0.245426\n",
      "2022-02-28 22:42:27,833 : INFO : -6.446 per-word bound, 87.2 perplexity estimate based on a held-out corpus of 1204 documents with 49783 words\n",
      "2022-02-28 22:42:27,834 : INFO : PROGRESS: pass 14, at document #3204/3204\n",
      "2022-02-28 22:42:28,868 : INFO : optimized alpha [0.013192443, 0.0130434325, 0.0144865895, 0.011755325, 0.012830913, 0.016227337, 0.011005448, 0.010179241, 0.01287036, 0.013811426, 0.010981629, 0.012952519, 0.012944592, 0.012823995, 0.012808811, 0.011909631, 0.019902583, 0.012162537, 0.06250397, 0.011527092, 0.013445789, 0.016332258, 0.012287416, 0.012337951, 0.012022665, 0.0125974575, 0.011436117, 0.012904078, 0.01187978, 0.012284584, 0.009962288, 0.012825226, 0.014182654, 0.011968885, 0.011153212, 0.011648267, 0.01324479, 0.011631571, 0.012022068, 0.012359877, 0.015040425, 0.014366092, 0.013379623, 0.011823499, 0.01359404, 0.013609759, 0.012919325, 0.012776799, 0.010087423, 0.015561379, 0.012926041, 0.011875556, 0.014574907, 0.012724145, 0.014005445, 0.014686364, 0.013305003, 0.012137878, 0.01745468, 0.010787408, 0.010587719, 0.012467084, 0.011738674, 0.011735833, 0.012826265, 0.016216235, 0.011382115, 0.013563751, 0.012437018, 0.012463472, 0.011643742, 0.014005815, 0.017762724, 0.011905115, 0.012631882, 0.014941412, 0.013078647, 0.012763721, 0.01290835, 0.011918296, 0.010731548, 0.0113946, 0.022534732, 0.011718933, 0.012313207, 0.01327299, 0.010766054, 0.012279979, 0.013962237, 0.0119435005, 0.012373351, 0.011779474, 0.014505317, 0.01316078, 0.011862882, 0.012154963, 0.011056109, 0.014449246, 0.010554647, 0.014121698]\n",
      "2022-02-28 22:42:28,878 : INFO : merging changes from 1204 documents into a model of 3204 documents\n",
      "2022-02-28 22:42:28,892 : INFO : topic #30 (0.010): 0.504*\"94\" + 0.084*\"152\" + 0.035*\"834\" + 0.032*\"267\" + 0.032*\"95\" + 0.031*\"472\" + 0.031*\"430\" + 0.030*\"237\" + 0.022*\"73\" + 0.018*\"346\"\n",
      "2022-02-28 22:42:28,894 : INFO : topic #48 (0.010): 0.148*\"226\" + 0.107*\"674\" + 0.083*\"800\" + 0.070*\"83\" + 0.052*\"50\" + 0.045*\"37\" + 0.036*\"317\" + 0.035*\"905\" + 0.034*\"997\" + 0.032*\"41\"\n",
      "2022-02-28 22:42:28,895 : INFO : topic #16 (0.020): 0.268*\"611\" + 0.228*\"83\" + 0.178*\"34\" + 0.124*\"1015\" + 0.121*\"859\" + 0.023*\"69\" + 0.019*\"531\" + 0.011*\"78\" + 0.005*\"822\" + 0.005*\"730\"\n",
      "2022-02-28 22:42:28,903 : INFO : topic #82 (0.023): 0.507*\"29\" + 0.126*\"30\" + 0.075*\"345\" + 0.032*\"83\" + 0.029*\"61\" + 0.021*\"13\" + 0.019*\"174\" + 0.017*\"50\" + 0.017*\"53\" + 0.014*\"954\"\n",
      "2022-02-28 22:42:28,906 : INFO : topic #18 (0.063): 0.416*\"34\" + 0.393*\"35\" + 0.174*\"83\" + 0.006*\"254\" + 0.004*\"691\" + 0.002*\"348\" + 0.001*\"384\" + 0.000*\"39\" + 0.000*\"536\" + 0.000*\"13\"\n",
      "2022-02-28 22:42:28,907 : INFO : topic diff=0.215995, rho=0.245426\n",
      "2022-02-28 22:42:28,919 : INFO : PROGRESS: pass 15, at document #2000/3204\n",
      "2022-02-28 22:42:30,319 : INFO : optimized alpha [0.01329405, 0.013106317, 0.014631498, 0.011753459, 0.012850458, 0.016436668, 0.011097706, 0.010178054, 0.012903851, 0.013957293, 0.010988141, 0.01296677, 0.013023379, 0.012872249, 0.012930872, 0.01197313, 0.020382185, 0.0122164, 0.065204576, 0.01153117, 0.013555606, 0.016436502, 0.012325131, 0.01242253, 0.012083771, 0.012609078, 0.011466325, 0.0129717775, 0.011985381, 0.012345159, 0.009989363, 0.012833724, 0.014272471, 0.0120594995, 0.011212618, 0.01171345, 0.013264786, 0.011673866, 0.012026507, 0.012405407, 0.015061143, 0.014416396, 0.01349374, 0.011829912, 0.013590132, 0.013618217, 0.012979524, 0.0127824815, 0.010087505, 0.01573206, 0.012931531, 0.011881757, 0.014677952, 0.012780269, 0.014174201, 0.0149194915, 0.013403438, 0.012168851, 0.01764762, 0.010800949, 0.010627209, 0.012510951, 0.0117475875, 0.011802934, 0.012857902, 0.016288528, 0.011385535, 0.013641837, 0.01246873, 0.012538064, 0.011650487, 0.014148506, 0.018092483, 0.011926625, 0.012757139, 0.015026867, 0.013064375, 0.012885434, 0.01292002, 0.012019445, 0.010726625, 0.0114503, 0.022779921, 0.011791048, 0.012362889, 0.013356634, 0.010797005, 0.012333748, 0.014152882, 0.011975604, 0.012433529, 0.01181907, 0.014600476, 0.01320688, 0.011864476, 0.012143813, 0.0110313995, 0.01460058, 0.010570447, 0.014220403]\n",
      "2022-02-28 22:42:30,329 : INFO : merging changes from 2000 documents into a model of 3204 documents\n",
      "2022-02-28 22:42:30,342 : INFO : topic #30 (0.010): 0.462*\"94\" + 0.102*\"152\" + 0.040*\"267\" + 0.040*\"237\" + 0.033*\"834\" + 0.031*\"472\" + 0.030*\"430\" + 0.027*\"95\" + 0.025*\"73\" + 0.021*\"840\"\n",
      "2022-02-28 22:42:30,343 : INFO : topic #48 (0.010): 0.134*\"226\" + 0.113*\"674\" + 0.074*\"800\" + 0.064*\"83\" + 0.054*\"50\" + 0.046*\"37\" + 0.039*\"317\" + 0.037*\"997\" + 0.034*\"905\" + 0.031*\"41\"\n",
      "2022-02-28 22:42:30,344 : INFO : topic #16 (0.020): 0.262*\"611\" + 0.228*\"83\" + 0.189*\"34\" + 0.152*\"1015\" + 0.089*\"859\" + 0.024*\"69\" + 0.015*\"531\" + 0.012*\"78\" + 0.005*\"730\" + 0.005*\"822\"\n",
      "2022-02-28 22:42:30,346 : INFO : topic #82 (0.023): 0.507*\"29\" + 0.127*\"30\" + 0.075*\"345\" + 0.030*\"83\" + 0.029*\"61\" + 0.022*\"13\" + 0.019*\"174\" + 0.017*\"50\" + 0.017*\"53\" + 0.013*\"954\"\n",
      "2022-02-28 22:42:30,348 : INFO : topic #18 (0.065): 0.413*\"34\" + 0.390*\"35\" + 0.180*\"83\" + 0.007*\"254\" + 0.004*\"691\" + 0.002*\"348\" + 0.002*\"384\" + 0.000*\"39\" + 0.000*\"536\" + 0.000*\"13\"\n",
      "2022-02-28 22:42:30,352 : INFO : topic diff=0.191674, rho=0.238352\n",
      "2022-02-28 22:42:31,596 : INFO : -6.438 per-word bound, 86.7 perplexity estimate based on a held-out corpus of 1204 documents with 49783 words\n",
      "2022-02-28 22:42:31,597 : INFO : PROGRESS: pass 15, at document #3204/3204\n",
      "2022-02-28 22:42:32,490 : INFO : optimized alpha [0.013464535, 0.01331939, 0.014934564, 0.011889158, 0.013031285, 0.016642736, 0.011141047, 0.010205921, 0.0130806705, 0.01409521, 0.011064496, 0.013146194, 0.01320808, 0.0129732145, 0.013048797, 0.012111753, 0.020527648, 0.012335122, 0.067641556, 0.011648027, 0.013697028, 0.016800558, 0.012466411, 0.012525829, 0.012185028, 0.012750048, 0.011565354, 0.0131026935, 0.012092099, 0.012490966, 0.010011187, 0.0130363135, 0.014492032, 0.01213365, 0.011256979, 0.011772389, 0.0135047985, 0.011742145, 0.01217889, 0.012534065, 0.015380204, 0.0146338055, 0.013620847, 0.011959279, 0.013753564, 0.0137940245, 0.0131585635, 0.013000102, 0.010115329, 0.015998917, 0.0130979745, 0.012008918, 0.014901756, 0.012936472, 0.014252993, 0.0150520075, 0.013596453, 0.012312767, 0.018058337, 0.010887178, 0.010682708, 0.01270028, 0.011908, 0.011896421, 0.013074658, 0.016649965, 0.011501697, 0.013789826, 0.012607166, 0.012639673, 0.011739949, 0.014325148, 0.018443525, 0.012079861, 0.012795591, 0.015335969, 0.013285901, 0.01300056, 0.013092643, 0.012100814, 0.010829265, 0.011557129, 0.023486964, 0.0119515415, 0.01247155, 0.013526675, 0.01090727, 0.012508383, 0.0143097695, 0.012103105, 0.012643568, 0.011890999, 0.014774786, 0.01341192, 0.012039981, 0.01226771, 0.011125512, 0.014812145, 0.010632495, 0.014406162]\n",
      "2022-02-28 22:42:32,500 : INFO : merging changes from 1204 documents into a model of 3204 documents\n",
      "2022-02-28 22:42:32,507 : INFO : topic #30 (0.010): 0.499*\"94\" + 0.084*\"152\" + 0.042*\"267\" + 0.035*\"834\" + 0.032*\"95\" + 0.031*\"472\" + 0.031*\"430\" + 0.030*\"237\" + 0.021*\"73\" + 0.019*\"782\"\n",
      "2022-02-28 22:42:32,510 : INFO : topic #48 (0.010): 0.149*\"226\" + 0.110*\"674\" + 0.084*\"800\" + 0.070*\"83\" + 0.052*\"50\" + 0.044*\"37\" + 0.036*\"317\" + 0.035*\"905\" + 0.035*\"997\" + 0.032*\"41\"\n",
      "2022-02-28 22:42:32,510 : INFO : topic #16 (0.021): 0.268*\"611\" + 0.228*\"83\" + 0.179*\"34\" + 0.125*\"1015\" + 0.120*\"859\" + 0.022*\"69\" + 0.019*\"531\" + 0.011*\"78\" + 0.005*\"822\" + 0.005*\"730\"\n",
      "2022-02-28 22:42:32,515 : INFO : topic #82 (0.023): 0.513*\"29\" + 0.123*\"30\" + 0.075*\"345\" + 0.030*\"83\" + 0.029*\"61\" + 0.022*\"13\" + 0.019*\"174\" + 0.017*\"53\" + 0.017*\"50\" + 0.014*\"954\"\n",
      "2022-02-28 22:42:32,517 : INFO : topic #18 (0.068): 0.418*\"34\" + 0.393*\"35\" + 0.172*\"83\" + 0.006*\"254\" + 0.004*\"691\" + 0.002*\"348\" + 0.001*\"384\" + 0.000*\"39\" + 0.000*\"536\" + 0.000*\"13\"\n",
      "2022-02-28 22:42:32,518 : INFO : topic diff=0.196427, rho=0.238352\n",
      "2022-02-28 22:42:32,529 : INFO : PROGRESS: pass 16, at document #2000/3204\n",
      "2022-02-28 22:42:33,488 : INFO : optimized alpha [0.013562799, 0.013385348, 0.015089435, 0.011889947, 0.013050088, 0.016859043, 0.011230463, 0.010207627, 0.013107145, 0.014242103, 0.01107107, 0.013161359, 0.013294421, 0.013015979, 0.013164304, 0.012175432, 0.021009002, 0.012386481, 0.070347354, 0.011650633, 0.013804953, 0.01689996, 0.012506104, 0.012607456, 0.012250727, 0.012759831, 0.011596327, 0.013167516, 0.0121946605, 0.012548876, 0.010040328, 0.013047092, 0.014583195, 0.01222274, 0.011316688, 0.01183511, 0.013523648, 0.011785158, 0.012183078, 0.012580094, 0.015397316, 0.014686036, 0.013736169, 0.01197528, 0.013747956, 0.013800393, 0.013222031, 0.013009589, 0.010119397, 0.016161432, 0.013106196, 0.012023325, 0.014997442, 0.012991368, 0.014419197, 0.015282807, 0.013697812, 0.012350107, 0.018247895, 0.010900539, 0.010721558, 0.012742935, 0.011919203, 0.011962368, 0.013108128, 0.016717698, 0.011507684, 0.013866341, 0.012641082, 0.012714372, 0.011748083, 0.014470567, 0.018779762, 0.0121078, 0.012920186, 0.015417311, 0.013271237, 0.013120455, 0.0131006865, 0.012198937, 0.010830848, 0.011611795, 0.02372854, 0.012023824, 0.012523212, 0.013610221, 0.010937602, 0.012566822, 0.014501455, 0.012140145, 0.012703777, 0.011935457, 0.014866305, 0.013461416, 0.012048165, 0.012259675, 0.0111028915, 0.014959399, 0.010650671, 0.01451126]\n"
     ]
    },
    {
     "name": "stderr",
     "output_type": "stream",
     "text": [
      "2022-02-28 22:42:33,496 : INFO : merging changes from 2000 documents into a model of 3204 documents\n",
      "2022-02-28 22:42:33,507 : INFO : topic #30 (0.010): 0.456*\"94\" + 0.100*\"152\" + 0.054*\"267\" + 0.039*\"237\" + 0.033*\"834\" + 0.030*\"472\" + 0.030*\"430\" + 0.027*\"95\" + 0.024*\"73\" + 0.021*\"840\"\n",
      "2022-02-28 22:42:33,508 : INFO : topic #48 (0.010): 0.136*\"226\" + 0.117*\"674\" + 0.075*\"800\" + 0.063*\"83\" + 0.054*\"50\" + 0.044*\"37\" + 0.040*\"317\" + 0.037*\"997\" + 0.034*\"905\" + 0.031*\"41\"\n",
      "2022-02-28 22:42:33,509 : INFO : topic #16 (0.021): 0.262*\"611\" + 0.229*\"83\" + 0.189*\"34\" + 0.152*\"1015\" + 0.089*\"859\" + 0.023*\"69\" + 0.015*\"531\" + 0.012*\"78\" + 0.005*\"822\" + 0.005*\"730\"\n",
      "2022-02-28 22:42:33,517 : INFO : topic #82 (0.024): 0.513*\"29\" + 0.124*\"30\" + 0.075*\"345\" + 0.029*\"61\" + 0.028*\"83\" + 0.023*\"13\" + 0.019*\"174\" + 0.017*\"53\" + 0.017*\"50\" + 0.013*\"954\"\n",
      "2022-02-28 22:42:33,518 : INFO : topic #18 (0.070): 0.415*\"34\" + 0.390*\"35\" + 0.178*\"83\" + 0.007*\"254\" + 0.004*\"691\" + 0.002*\"348\" + 0.002*\"384\" + 0.000*\"39\" + 0.000*\"536\" + 0.000*\"13\"\n",
      "2022-02-28 22:42:33,521 : INFO : topic diff=0.175187, rho=0.231857\n",
      "2022-02-28 22:42:34,658 : INFO : -6.432 per-word bound, 86.3 perplexity estimate based on a held-out corpus of 1204 documents with 49783 words\n",
      "2022-02-28 22:42:34,659 : INFO : PROGRESS: pass 16, at document #3204/3204\n",
      "2022-02-28 22:42:35,503 : INFO : optimized alpha [0.013735551, 0.013610915, 0.015404073, 0.012025455, 0.013227878, 0.017074363, 0.011270657, 0.010233267, 0.013285942, 0.014371605, 0.01114389, 0.013350478, 0.013481318, 0.013104685, 0.013274705, 0.012321104, 0.02114781, 0.012505334, 0.072697476, 0.01176302, 0.013935569, 0.017246796, 0.012644833, 0.012708631, 0.012354678, 0.012900685, 0.011693423, 0.013295949, 0.012299307, 0.012694615, 0.010063863, 0.013251345, 0.01480494, 0.01230232, 0.011360115, 0.011892891, 0.013768195, 0.011854412, 0.012335074, 0.012703905, 0.01570326, 0.014902613, 0.013860645, 0.012109249, 0.0139083145, 0.013972948, 0.013400772, 0.013223842, 0.010148898, 0.016424667, 0.013277371, 0.012145794, 0.015208878, 0.0131397955, 0.014498617, 0.015421136, 0.0138878105, 0.012493797, 0.018658418, 0.010987222, 0.01077597, 0.012929356, 0.012076884, 0.012058684, 0.013321848, 0.017091658, 0.011626097, 0.014014176, 0.01277696, 0.012816329, 0.011833527, 0.014644045, 0.019137565, 0.012260824, 0.012962492, 0.015722735, 0.013491787, 0.013233251, 0.013270226, 0.012280901, 0.010931583, 0.011718806, 0.024432132, 0.012186502, 0.012639566, 0.013774672, 0.011050131, 0.012738782, 0.014658127, 0.01226297, 0.012928319, 0.012017502, 0.015034393, 0.013668599, 0.012230115, 0.0123883495, 0.011201671, 0.015164683, 0.010715716, 0.0146965515]\n",
      "2022-02-28 22:42:35,511 : INFO : merging changes from 1204 documents into a model of 3204 documents\n",
      "2022-02-28 22:42:35,521 : INFO : topic #30 (0.010): 0.491*\"94\" + 0.083*\"152\" + 0.056*\"267\" + 0.034*\"834\" + 0.031*\"95\" + 0.030*\"430\" + 0.030*\"472\" + 0.029*\"237\" + 0.020*\"73\" + 0.019*\"782\"\n",
      "2022-02-28 22:42:35,524 : INFO : topic #48 (0.010): 0.149*\"226\" + 0.114*\"674\" + 0.084*\"800\" + 0.069*\"83\" + 0.052*\"50\" + 0.045*\"37\" + 0.036*\"317\" + 0.035*\"997\" + 0.033*\"905\" + 0.032*\"41\"\n",
      "2022-02-28 22:42:35,529 : INFO : topic #16 (0.021): 0.268*\"611\" + 0.228*\"83\" + 0.179*\"34\" + 0.125*\"1015\" + 0.120*\"859\" + 0.022*\"69\" + 0.019*\"531\" + 0.011*\"78\" + 0.005*\"822\" + 0.004*\"730\"\n",
      "2022-02-28 22:42:35,532 : INFO : topic #82 (0.024): 0.518*\"29\" + 0.122*\"30\" + 0.076*\"345\" + 0.029*\"61\" + 0.029*\"83\" + 0.022*\"13\" + 0.019*\"174\" + 0.017*\"53\" + 0.016*\"50\" + 0.014*\"954\"\n",
      "2022-02-28 22:42:35,534 : INFO : topic #18 (0.073): 0.420*\"34\" + 0.394*\"35\" + 0.171*\"83\" + 0.006*\"254\" + 0.004*\"691\" + 0.002*\"348\" + 0.001*\"384\" + 0.000*\"39\" + 0.000*\"536\" + 0.000*\"13\"\n",
      "2022-02-28 22:42:35,536 : INFO : topic diff=0.179955, rho=0.231857\n",
      "2022-02-28 22:42:35,551 : INFO : PROGRESS: pass 17, at document #2000/3204\n",
      "2022-02-28 22:42:36,509 : INFO : optimized alpha [0.0138351815, 0.013676864, 0.0155584905, 0.012021985, 0.013245939, 0.017290067, 0.011361218, 0.01023419, 0.013317555, 0.014514712, 0.011150562, 0.013366509, 0.013569227, 0.0131482845, 0.013391438, 0.012383528, 0.021626413, 0.012557151, 0.07537809, 0.011765618, 0.014041719, 0.017343452, 0.012685126, 0.012786039, 0.012416415, 0.012914589, 0.011725157, 0.013361066, 0.012404462, 0.012761589, 0.010094927, 0.013261359, 0.014895868, 0.012391384, 0.011417596, 0.011954588, 0.013793708, 0.011898129, 0.012341721, 0.012749033, 0.015717002, 0.014960066, 0.013975704, 0.012124852, 0.013908888, 0.013978918, 0.013461343, 0.013232546, 0.010152109, 0.01658853, 0.013280566, 0.012162624, 0.015302678, 0.013193552, 0.014659192, 0.015649663, 0.013989019, 0.012531715, 0.018846812, 0.011002909, 0.0108142225, 0.0129724, 0.012088969, 0.012124915, 0.013360331, 0.01717075, 0.011633291, 0.014095465, 0.012811539, 0.012891127, 0.011841659, 0.014790673, 0.019478332, 0.012282464, 0.013083685, 0.015801897, 0.01347976, 0.013352966, 0.0132763, 0.012381661, 0.0109344125, 0.011777828, 0.024678266, 0.012265827, 0.012691752, 0.013859848, 0.011083666, 0.0128032295, 0.014847752, 0.012306271, 0.012990093, 0.012052997, 0.01512586, 0.01371215, 0.012239126, 0.012384791, 0.0111822495, 0.015309791, 0.010734943, 0.014799786]\n",
      "2022-02-28 22:42:36,518 : INFO : merging changes from 2000 documents into a model of 3204 documents\n",
      "2022-02-28 22:42:36,525 : INFO : topic #30 (0.010): 0.450*\"94\" + 0.099*\"152\" + 0.067*\"267\" + 0.039*\"237\" + 0.032*\"834\" + 0.030*\"430\" + 0.030*\"472\" + 0.027*\"95\" + 0.022*\"73\" + 0.021*\"840\"\n",
      "2022-02-28 22:42:36,526 : INFO : topic #48 (0.010): 0.137*\"226\" + 0.121*\"674\" + 0.076*\"800\" + 0.063*\"83\" + 0.055*\"50\" + 0.045*\"37\" + 0.040*\"317\" + 0.038*\"997\" + 0.032*\"905\" + 0.031*\"41\"\n",
      "2022-02-28 22:42:36,527 : INFO : topic #16 (0.022): 0.262*\"611\" + 0.230*\"83\" + 0.190*\"34\" + 0.152*\"1015\" + 0.090*\"859\" + 0.023*\"69\" + 0.015*\"531\" + 0.012*\"78\" + 0.005*\"822\" + 0.005*\"730\"\n",
      "2022-02-28 22:42:36,528 : INFO : topic #82 (0.025): 0.517*\"29\" + 0.123*\"30\" + 0.075*\"345\" + 0.029*\"61\" + 0.027*\"83\" + 0.023*\"13\" + 0.019*\"174\" + 0.017*\"53\" + 0.016*\"50\" + 0.013*\"954\"\n",
      "2022-02-28 22:42:36,529 : INFO : topic #18 (0.075): 0.416*\"34\" + 0.390*\"35\" + 0.176*\"83\" + 0.007*\"254\" + 0.004*\"691\" + 0.002*\"348\" + 0.002*\"384\" + 0.000*\"39\" + 0.000*\"536\" + 0.000*\"13\"\n",
      "2022-02-28 22:42:36,532 : INFO : topic diff=0.161497, rho=0.225865\n",
      "2022-02-28 22:42:37,605 : INFO : -6.425 per-word bound, 85.9 perplexity estimate based on a held-out corpus of 1204 documents with 49783 words\n",
      "2022-02-28 22:42:37,606 : INFO : PROGRESS: pass 17, at document #3204/3204\n",
      "2022-02-28 22:42:38,424 : INFO : optimized alpha [0.014007842, 0.013897131, 0.01587378, 0.012161904, 0.0134234335, 0.017481646, 0.011402598, 0.010263502, 0.013493516, 0.014641462, 0.011228364, 0.013550259, 0.013753309, 0.013240293, 0.013502183, 0.012543365, 0.021771196, 0.012676271, 0.07761892, 0.011873724, 0.014167144, 0.017689668, 0.012823825, 0.012882893, 0.012518456, 0.013052923, 0.011824892, 0.013487173, 0.01251411, 0.012907477, 0.010120054, 0.013462553, 0.015117215, 0.01246936, 0.011460168, 0.012011295, 0.014040396, 0.011963842, 0.012488897, 0.01287784, 0.016001321, 0.015173346, 0.014100356, 0.012254295, 0.014066408, 0.01414848, 0.013637329, 0.013446285, 0.0101793595, 0.01684825, 0.013448855, 0.012285087, 0.01551986, 0.013341955, 0.014736528, 0.015790902, 0.014173655, 0.012670619, 0.019260807, 0.011088012, 0.010869631, 0.013163405, 0.012250864, 0.012217159, 0.013576135, 0.017538015, 0.011756243, 0.014240641, 0.012947482, 0.012988666, 0.011925556, 0.014961177, 0.019842995, 0.012430784, 0.013129756, 0.016097981, 0.01370208, 0.013466142, 0.013437945, 0.012466576, 0.0110375155, 0.011887354, 0.025387371, 0.012428542, 0.012805989, 0.014021602, 0.011192211, 0.012980026, 0.015009825, 0.012433953, 0.013221971, 0.012135774, 0.015288062, 0.013916409, 0.012432228, 0.012504187, 0.011279264, 0.015514727, 0.010798858, 0.014987591]\n",
      "2022-02-28 22:42:38,431 : INFO : merging changes from 1204 documents into a model of 3204 documents\n",
      "2022-02-28 22:42:38,439 : INFO : topic #30 (0.010): 0.484*\"94\" + 0.082*\"152\" + 0.068*\"267\" + 0.034*\"834\" + 0.031*\"95\" + 0.030*\"430\" + 0.030*\"472\" + 0.029*\"237\" + 0.020*\"782\" + 0.019*\"73\"\n",
      "2022-02-28 22:42:38,439 : INFO : topic #48 (0.010): 0.150*\"226\" + 0.118*\"674\" + 0.085*\"800\" + 0.069*\"83\" + 0.052*\"50\" + 0.045*\"37\" + 0.036*\"317\" + 0.036*\"997\" + 0.033*\"0\" + 0.032*\"41\"\n"
     ]
    },
    {
     "name": "stderr",
     "output_type": "stream",
     "text": [
      "2022-02-28 22:42:38,441 : INFO : topic #16 (0.022): 0.267*\"611\" + 0.231*\"83\" + 0.179*\"34\" + 0.125*\"1015\" + 0.119*\"859\" + 0.022*\"69\" + 0.019*\"531\" + 0.011*\"78\" + 0.005*\"822\" + 0.004*\"730\"\n",
      "2022-02-28 22:42:38,443 : INFO : topic #82 (0.025): 0.522*\"29\" + 0.120*\"30\" + 0.076*\"345\" + 0.029*\"61\" + 0.028*\"83\" + 0.023*\"13\" + 0.019*\"174\" + 0.018*\"53\" + 0.016*\"50\" + 0.014*\"954\"\n",
      "2022-02-28 22:42:38,444 : INFO : topic #18 (0.078): 0.421*\"34\" + 0.394*\"35\" + 0.170*\"83\" + 0.006*\"254\" + 0.003*\"691\" + 0.002*\"348\" + 0.001*\"384\" + 0.000*\"39\" + 0.000*\"536\" + 0.000*\"13\"\n",
      "2022-02-28 22:42:38,445 : INFO : topic diff=0.166122, rho=0.225865\n",
      "2022-02-28 22:42:38,456 : INFO : PROGRESS: pass 18, at document #2000/3204\n",
      "2022-02-28 22:42:39,525 : INFO : optimized alpha [0.014105849, 0.013963149, 0.016029775, 0.012156983, 0.013440826, 0.017694863, 0.01149313, 0.010267087, 0.01352571, 0.014780944, 0.011235057, 0.013568646, 0.013839746, 0.013286072, 0.013617255, 0.012610278, 0.022249749, 0.01272858, 0.0802429, 0.011880197, 0.0142716495, 0.017783608, 0.012861873, 0.012963326, 0.012579221, 0.013067887, 0.011857384, 0.013552599, 0.012616435, 0.012977667, 0.010150754, 0.013473314, 0.01521138, 0.01255845, 0.011516774, 0.0120693585, 0.014066273, 0.01200958, 0.012495252, 0.012919292, 0.016011896, 0.015229381, 0.014213696, 0.0122695, 0.014063696, 0.01415406, 0.013701243, 0.013457182, 0.010182876, 0.017011596, 0.013460636, 0.012298873, 0.015615472, 0.013397547, 0.014891683, 0.016024342, 0.014279512, 0.012707709, 0.01944816, 0.011103473, 0.01090852, 0.013208243, 0.012265118, 0.012283651, 0.013610375, 0.017608605, 0.011764522, 0.014322099, 0.012984221, 0.013063741, 0.011933684, 0.015107477, 0.020190736, 0.012455987, 0.013249164, 0.016175061, 0.013688034, 0.01358717, 0.013443637, 0.012567258, 0.011040306, 0.011944086, 0.025632557, 0.012508013, 0.012852948, 0.014105315, 0.011223894, 0.013049052, 0.01519919, 0.012472279, 0.013286811, 0.01217614, 0.015372806, 0.013968053, 0.012443316, 0.01249513, 0.011260397, 0.015661135, 0.010820304, 0.015089065]\n",
      "2022-02-28 22:42:39,537 : INFO : merging changes from 2000 documents into a model of 3204 documents\n",
      "2022-02-28 22:42:39,555 : INFO : topic #30 (0.010): 0.446*\"94\" + 0.097*\"152\" + 0.078*\"267\" + 0.038*\"237\" + 0.032*\"834\" + 0.030*\"430\" + 0.029*\"472\" + 0.026*\"95\" + 0.021*\"73\" + 0.021*\"840\"\n",
      "2022-02-28 22:42:39,557 : INFO : topic #48 (0.010): 0.138*\"226\" + 0.124*\"674\" + 0.076*\"800\" + 0.063*\"83\" + 0.055*\"50\" + 0.045*\"37\" + 0.040*\"317\" + 0.038*\"997\" + 0.031*\"0\" + 0.031*\"41\"\n",
      "2022-02-28 22:42:39,558 : INFO : topic #16 (0.022): 0.261*\"611\" + 0.232*\"83\" + 0.190*\"34\" + 0.151*\"1015\" + 0.090*\"859\" + 0.022*\"69\" + 0.015*\"531\" + 0.012*\"78\" + 0.005*\"822\" + 0.005*\"730\"\n",
      "2022-02-28 22:42:39,562 : INFO : topic #82 (0.026): 0.522*\"29\" + 0.121*\"30\" + 0.075*\"345\" + 0.029*\"61\" + 0.026*\"83\" + 0.024*\"13\" + 0.020*\"174\" + 0.018*\"53\" + 0.016*\"50\" + 0.013*\"954\"\n",
      "2022-02-28 22:42:39,565 : INFO : topic #18 (0.080): 0.417*\"34\" + 0.391*\"35\" + 0.175*\"83\" + 0.007*\"254\" + 0.004*\"691\" + 0.002*\"348\" + 0.002*\"384\" + 0.000*\"39\" + 0.000*\"536\" + 0.000*\"13\"\n",
      "2022-02-28 22:42:39,566 : INFO : topic diff=0.150211, rho=0.220316\n",
      "2022-02-28 22:42:40,875 : INFO : -6.419 per-word bound, 85.6 perplexity estimate based on a held-out corpus of 1204 documents with 49783 words\n",
      "2022-02-28 22:42:40,878 : INFO : PROGRESS: pass 18, at document #3204/3204\n",
      "2022-02-28 22:42:42,143 : INFO : optimized alpha [0.014276, 0.014180812, 0.016357552, 0.012294734, 0.013618155, 0.0178862, 0.011535702, 0.010294232, 0.013699031, 0.014913382, 0.011311576, 0.0137522295, 0.014023773, 0.01338376, 0.013723441, 0.012758654, 0.022383872, 0.01284804, 0.08240257, 0.011984298, 0.014394782, 0.018113086, 0.013000712, 0.013060785, 0.012684102, 0.013211283, 0.011957574, 0.013674063, 0.012719591, 0.013123771, 0.01017927, 0.013669221, 0.015429752, 0.012634906, 0.011558544, 0.0121250525, 0.014328304, 0.012078644, 0.012642362, 0.013041221, 0.016292594, 0.015439583, 0.014336034, 0.012394631, 0.014218589, 0.014320912, 0.013882407, 0.013668096, 0.010209878, 0.017274207, 0.013626357, 0.012416973, 0.015838403, 0.013548507, 0.014967115, 0.016168553, 0.014464172, 0.012849041, 0.019865882, 0.0111891795, 0.010962963, 0.013403987, 0.012424691, 0.012374288, 0.01382106, 0.017982394, 0.011885472, 0.01446747, 0.013122734, 0.013161856, 0.012016147, 0.01528066, 0.020566428, 0.012604369, 0.013294086, 0.016470833, 0.0139123425, 0.013705834, 0.013605189, 0.0126528265, 0.011137634, 0.012051797, 0.026342658, 0.012675588, 0.012962832, 0.014272281, 0.01133275, 0.013226022, 0.015358497, 0.012588624, 0.013526331, 0.012261941, 0.0155321965, 0.0141644385, 0.012636156, 0.012621865, 0.011353683, 0.015860148, 0.01088113, 0.015265709]\n",
      "2022-02-28 22:42:42,155 : INFO : merging changes from 1204 documents into a model of 3204 documents\n",
      "2022-02-28 22:42:42,164 : INFO : topic #30 (0.010): 0.479*\"94\" + 0.082*\"152\" + 0.079*\"267\" + 0.034*\"834\" + 0.030*\"95\" + 0.030*\"430\" + 0.029*\"472\" + 0.029*\"237\" + 0.020*\"782\" + 0.018*\"73\"\n",
      "2022-02-28 22:42:42,165 : INFO : topic #48 (0.010): 0.151*\"226\" + 0.121*\"674\" + 0.085*\"800\" + 0.069*\"83\" + 0.053*\"50\" + 0.044*\"37\" + 0.037*\"317\" + 0.036*\"997\" + 0.034*\"0\" + 0.032*\"41\"\n",
      "2022-02-28 22:42:42,166 : INFO : topic #16 (0.022): 0.267*\"611\" + 0.232*\"83\" + 0.179*\"34\" + 0.126*\"1015\" + 0.118*\"859\" + 0.021*\"69\" + 0.019*\"531\" + 0.011*\"78\" + 0.005*\"822\" + 0.004*\"730\"\n",
      "2022-02-28 22:42:42,173 : INFO : topic #82 (0.026): 0.526*\"29\" + 0.119*\"30\" + 0.076*\"345\" + 0.029*\"61\" + 0.027*\"83\" + 0.023*\"13\" + 0.019*\"174\" + 0.018*\"53\" + 0.015*\"50\" + 0.014*\"954\"\n",
      "2022-02-28 22:42:42,174 : INFO : topic #18 (0.082): 0.422*\"34\" + 0.394*\"35\" + 0.169*\"83\" + 0.006*\"254\" + 0.003*\"691\" + 0.002*\"348\" + 0.001*\"384\" + 0.000*\"39\" + 0.000*\"536\" + 0.000*\"13\"\n",
      "2022-02-28 22:42:42,176 : INFO : topic diff=0.154667, rho=0.220316\n",
      "2022-02-28 22:42:42,187 : INFO : PROGRESS: pass 19, at document #2000/3204\n",
      "2022-02-28 22:42:43,441 : INFO : optimized alpha [0.014372541, 0.01424232, 0.0165169, 0.012289749, 0.01363635, 0.018091282, 0.011624997, 0.010295866, 0.013728924, 0.015054268, 0.011319511, 0.013771417, 0.014108787, 0.013430242, 0.013836998, 0.012825862, 0.02285985, 0.012899486, 0.084998325, 0.01199331, 0.014497761, 0.018206453, 0.013037993, 0.013141446, 0.012742527, 0.013230183, 0.01198954, 0.013739868, 0.012824724, 0.013191411, 0.0102096265, 0.013680757, 0.015520651, 0.01272405, 0.011614328, 0.012183616, 0.014362208, 0.012125041, 0.01264839, 0.013086121, 0.016301863, 0.015500903, 0.014446201, 0.012412208, 0.014215733, 0.0143261105, 0.013951167, 0.013678185, 0.010212577, 0.017439019, 0.013634682, 0.012435774, 0.015934141, 0.013604511, 0.015125147, 0.016398367, 0.014568399, 0.012885313, 0.02004994, 0.011204437, 0.011001312, 0.013446243, 0.012438411, 0.012441192, 0.013852776, 0.018044505, 0.011892235, 0.014549094, 0.013157318, 0.01323863, 0.01202428, 0.015428368, 0.020921256, 0.012631627, 0.013414674, 0.016545933, 0.013902327, 0.013825423, 0.013609023, 0.012753537, 0.0111428145, 0.012112842, 0.026584148, 0.012756627, 0.013009034, 0.0143546155, 0.011363863, 0.013296786, 0.015547703, 0.012633174, 0.013591324, 0.012304316, 0.015618771, 0.014214844, 0.012646569, 0.012621264, 0.011339015, 0.016002899, 0.010901152, 0.015363804]\n",
      "2022-02-28 22:42:43,451 : INFO : merging changes from 2000 documents into a model of 3204 documents\n",
      "2022-02-28 22:42:43,463 : INFO : topic #48 (0.010): 0.139*\"226\" + 0.127*\"674\" + 0.077*\"800\" + 0.063*\"83\" + 0.055*\"50\" + 0.044*\"37\" + 0.040*\"317\" + 0.038*\"997\" + 0.032*\"0\" + 0.031*\"41\"\n",
      "2022-02-28 22:42:43,466 : INFO : topic #30 (0.010): 0.443*\"94\" + 0.096*\"152\" + 0.086*\"267\" + 0.037*\"237\" + 0.032*\"834\" + 0.029*\"430\" + 0.029*\"472\" + 0.026*\"95\" + 0.021*\"73\" + 0.020*\"840\"\n",
      "2022-02-28 22:42:43,468 : INFO : topic #16 (0.023): 0.261*\"611\" + 0.233*\"83\" + 0.190*\"34\" + 0.151*\"1015\" + 0.090*\"859\" + 0.022*\"69\" + 0.015*\"531\" + 0.012*\"78\" + 0.005*\"822\" + 0.005*\"730\"\n",
      "2022-02-28 22:42:43,471 : INFO : topic #82 (0.027): 0.525*\"29\" + 0.120*\"30\" + 0.075*\"345\" + 0.029*\"61\" + 0.025*\"83\" + 0.024*\"13\" + 0.020*\"174\" + 0.018*\"53\" + 0.015*\"50\" + 0.013*\"954\"\n",
      "2022-02-28 22:42:43,473 : INFO : topic #18 (0.085): 0.418*\"34\" + 0.391*\"35\" + 0.174*\"83\" + 0.006*\"254\" + 0.003*\"691\" + 0.002*\"348\" + 0.002*\"384\" + 0.000*\"39\" + 0.000*\"536\" + 0.000*\"13\"\n"
     ]
    },
    {
     "name": "stderr",
     "output_type": "stream",
     "text": [
      "2022-02-28 22:42:43,476 : INFO : topic diff=0.140882, rho=0.215156\n",
      "2022-02-28 22:42:44,952 : INFO : -6.413 per-word bound, 85.2 perplexity estimate based on a held-out corpus of 1204 documents with 49783 words\n",
      "2022-02-28 22:42:44,953 : INFO : PROGRESS: pass 19, at document #3204/3204\n",
      "2022-02-28 22:42:45,775 : INFO : optimized alpha [0.014540312, 0.014462546, 0.0168459, 0.012425448, 0.0138087375, 0.018279137, 0.011666697, 0.010326475, 0.013902233, 0.015184241, 0.011394812, 0.013952577, 0.014290503, 0.013526253, 0.01394126, 0.012972202, 0.022983616, 0.01302169, 0.08706959, 0.012095764, 0.014618704, 0.018532446, 0.013172405, 0.013234825, 0.012841119, 0.013369008, 0.01208813, 0.01385933, 0.012926204, 0.013345068, 0.010239584, 0.013876427, 0.015736202, 0.012801347, 0.011657391, 0.012236118, 0.014629555, 0.012188538, 0.012793363, 0.013203786, 0.01657916, 0.015719432, 0.0145689575, 0.012546644, 0.014368184, 0.014485236, 0.01413254, 0.013886496, 0.010239323, 0.01770159, 0.013802933, 0.01255873, 0.016148543, 0.0137532605, 0.015201393, 0.016539754, 0.0147480145, 0.013026823, 0.020475116, 0.011288751, 0.011054852, 0.013642004, 0.012593532, 0.012530292, 0.01406592, 0.018412042, 0.012013445, 0.01468951, 0.013296106, 0.013337384, 0.012105393, 0.01559339, 0.021293374, 0.012777977, 0.013460856, 0.016835583, 0.0141238095, 0.01394214, 0.01376567, 0.012835264, 0.011236625, 0.012216681, 0.027295096, 0.012922281, 0.013117185, 0.014524453, 0.011473132, 0.013478829, 0.015701614, 0.012749988, 0.013828843, 0.0123952925, 0.015772797, 0.014411318, 0.012846141, 0.012748362, 0.01143694, 0.016196141, 0.010970772, 0.015546029]\n",
      "2022-02-28 22:42:45,784 : INFO : merging changes from 1204 documents into a model of 3204 documents\n",
      "2022-02-28 22:42:45,791 : INFO : topic #30 (0.010): 0.475*\"94\" + 0.087*\"267\" + 0.081*\"152\" + 0.033*\"834\" + 0.030*\"95\" + 0.030*\"430\" + 0.029*\"472\" + 0.029*\"237\" + 0.020*\"782\" + 0.018*\"189\"\n",
      "2022-02-28 22:42:45,792 : INFO : topic #48 (0.010): 0.152*\"226\" + 0.124*\"674\" + 0.086*\"800\" + 0.069*\"83\" + 0.053*\"50\" + 0.044*\"37\" + 0.037*\"317\" + 0.036*\"997\" + 0.035*\"0\" + 0.032*\"41\"\n",
      "2022-02-28 22:42:45,792 : INFO : topic #16 (0.023): 0.267*\"611\" + 0.233*\"83\" + 0.180*\"34\" + 0.126*\"1015\" + 0.118*\"859\" + 0.021*\"69\" + 0.019*\"531\" + 0.011*\"78\" + 0.005*\"822\" + 0.004*\"730\"\n",
      "2022-02-28 22:42:45,794 : INFO : topic #82 (0.027): 0.529*\"29\" + 0.119*\"30\" + 0.076*\"345\" + 0.029*\"61\" + 0.026*\"83\" + 0.023*\"13\" + 0.020*\"174\" + 0.018*\"53\" + 0.015*\"50\" + 0.014*\"954\"\n",
      "2022-02-28 22:42:45,795 : INFO : topic #18 (0.087): 0.423*\"34\" + 0.394*\"35\" + 0.168*\"83\" + 0.006*\"254\" + 0.003*\"691\" + 0.002*\"348\" + 0.001*\"384\" + 0.000*\"39\" + 0.000*\"536\" + 0.000*\"13\"\n",
      "2022-02-28 22:42:45,801 : INFO : topic diff=0.144990, rho=0.215156\n",
      "2022-02-28 22:42:45,816 : INFO : LdaModel lifecycle event {'msg': 'trained LdaModel(num_terms=1197, num_topics=100, decay=0.5, chunksize=2000) in 71.63s', 'datetime': '2022-02-28T22:42:45.816549', 'gensim': '4.1.2', 'python': '3.8.10 (default, Nov 26 2021, 20:14:08) \\n[GCC 9.3.0]', 'platform': 'Linux-5.13.0-30-generic-x86_64-with-glibc2.29', 'event': 'created'}\n"
     ]
    },
    {
     "data": {
      "text/plain": [
       "[(0, 0.0058653015),\n",
       " (1, 0.005833932),\n",
       " (2, 0.0067953346),\n",
       " (3, 0.005012203),\n",
       " (4, 0.0055701975),\n",
       " (5, 0.0073734764),\n",
       " (6, 0.004706137),\n",
       " (7, 0.004165515),\n",
       " (8, 0.005607912),\n",
       " (9, 0.006125051),\n",
       " (10, 0.004596463),\n",
       " (11, 0.0056282193),\n",
       " (12, 0.005764533),\n",
       " (13, 0.0054562483),\n",
       " (14, 0.0056236545),\n",
       " (15, 0.005232754),\n",
       " (16, 0.009271179),\n",
       " (17, 0.0052527166),\n",
       " (18, 0.035122313),\n",
       " (19, 0.004879215),\n",
       " (20, 0.005896923),\n",
       " (21, 0.0074756565),\n",
       " (22, 0.005313512),\n",
       " (23, 0.005338691),\n",
       " (24, 0.0051798774),\n",
       " (25, 0.0053928182),\n",
       " (26, 0.0048761354),\n",
       " (27, 0.0055906055),\n",
       " (28, 0.005214199),\n",
       " (29, 0.0053831614),\n",
       " (30, 0.004130465),\n",
       " (31, 0.005597502),\n",
       " (32, 0.006347702),\n",
       " (33, 0.005163834),\n",
       " (34, 0.0047023827),\n",
       " (35, 0.004935831),\n",
       " (36, 0.0059013003),\n",
       " (37, 0.0049166377),\n",
       " (38, 0.0051606135),\n",
       " (39, 0.0053261705),\n",
       " (40, 0.006687736),\n",
       " (41, 0.006340937),\n",
       " (42, 0.0058768564),\n",
       " (43, 0.0050610914),\n",
       " (44, 0.005795868),\n",
       " (45, 0.005843085),\n",
       " (46, 0.005700813),\n",
       " (47, 0.005601564),\n",
       " (48, 0.0041303593),\n",
       " (49, 0.0071405047),\n",
       " (50, 0.0055678557),\n",
       " (51, 0.005065967),\n",
       " (52, 0.006514033),\n",
       " (53, 0.0055478187),\n",
       " (54, 0.0061319694),\n",
       " (55, 0.006671841),\n",
       " (56, 0.0059490846),\n",
       " (57, 0.005254787),\n",
       " (58, 0.008259295),\n",
       " (59, 0.00455368),\n",
       " (60, 0.0044593294),\n",
       " (61, 0.00550294),\n",
       " (62, 0.005080005),\n",
       " (63, 0.0050544953),\n",
       " (64, 0.0056739403),\n",
       " (65, 0.007427088),\n",
       " (66, 0.0048460085),\n",
       " (67, 0.005925485),\n",
       " (68, 0.005363411),\n",
       " (69, 0.005380062),\n",
       " (70, 0.004883099),\n",
       " (71, 0.006290094),\n",
       " (72, 0.0085893655),\n",
       " (73, 0.005154407),\n",
       " (74, 0.40880865),\n",
       " (75, 0.0067911725),\n",
       " (76, 0.005697292),\n",
       " (77, 0.0056240098),\n",
       " (78, 0.005552825),\n",
       " (79, 0.0051775156),\n",
       " (80, 0.0045326534),\n",
       " (81, 0.00492799),\n",
       " (82, 0.0110103525),\n",
       " (83, 0.0052126166),\n",
       " (84, 0.0052912375),\n",
       " (85, 0.005858904),\n",
       " (86, 0.004628056),\n",
       " (87, 0.005437118),\n",
       " (88, 0.0063337497),\n",
       " (89, 0.0051431167),\n",
       " (90, 0.0055783074),\n",
       " (91, 0.005000039),\n",
       " (92, 0.006362464),\n",
       " (93, 0.0058132675),\n",
       " (94, 0.005181903),\n",
       " (95, 0.0051424606),\n",
       " (96, 0.004613457),\n",
       " (97, 0.006533233),\n",
       " (98, 0.004425413),\n",
       " (99, 0.00627099)]"
      ]
     },
     "execution_count": 85,
     "metadata": {},
     "output_type": "execute_result"
    }
   ],
   "source": [
    "##### Function check\n",
    "lda = LdaRetrievalModel(doc_repr_2)\n",
    "lda.train_model()\n",
    "\n",
    "# you can now get an LDA vector for a given query in the following way:\n",
    "lda.vectorize_query(\"report\")\n",
    "##### "
   ]
  },
  {
   "cell_type": "markdown",
   "metadata": {
    "deletable": false,
    "editable": false,
    "nbgrader": {
     "cell_type": "markdown",
     "checksum": "32d83b6ea79ca3ddb789a7f8805a1b25",
     "grade": false,
     "grade_id": "cell-0e24b727d5908c0e",
     "locked": true,
     "points": 5,
     "schema_version": 3,
     "solution": false,
     "task": true
    }
   },
   "source": [
    "\\#### Please do not change this. This cell is used for grading."
   ]
  },
  {
   "cell_type": "markdown",
   "metadata": {
    "deletable": false,
    "editable": false,
    "nbgrader": {
     "cell_type": "markdown",
     "checksum": "114a934f0b9ce696e6cf09d3b8da6a3d",
     "grade": false,
     "grade_id": "cell-b1bffcb970b18aeb",
     "locked": true,
     "schema_version": 3,
     "solution": false,
     "task": false
    }
   },
   "source": [
    "---\n",
    "Now we can use the `DenseRetrievalModel` class to obtain an LDA search function.\n",
    "You can test your LDA model in the following cell: Try finding queries which are lexically different to documents, but semantically similar - does LDA work well for these queries?!"
   ]
  },
  {
   "cell_type": "code",
   "execution_count": 86,
   "metadata": {},
   "outputs": [
    {
     "data": {
      "application/vnd.jupyter.widget-view+json": {
       "model_id": "9d968a9d50654c169b6d7b699c9070fb",
       "version_major": 2,
       "version_minor": 0
      },
      "text/plain": [
       "Text(value='', description='Search Bar')"
      ]
     },
     "metadata": {},
     "output_type": "display_data"
    }
   ],
   "source": [
    "drm_lda = DenseRetrievalRanker(lda, jenson_shannon_sim)\n",
    "\n",
    "# test your LDA model\n",
    "search_fn = drm_lda.search\n",
    "\n",
    "text = widgets.Text(description=\"Search Bar\", width=200)\n",
    "display(text)\n",
    "\n",
    "\n",
    "text.on_submit(handle_submit_2)"
   ]
  },
  {
   "cell_type": "markdown",
   "metadata": {
    "deletable": false,
    "editable": false,
    "nbgrader": {
     "cell_type": "markdown",
     "checksum": "9d7f15863b655119b45f4d89354e5661",
     "grade": false,
     "grade_id": "cell-190cd0854b2791cc",
     "locked": true,
     "schema_version": 3,
     "solution": false,
     "task": false
    }
   },
   "source": [
    "## Section 8: Word2Vec/Doc2Vec (20 points) <a class=\"anchor\" id=\"2vec\"></a>\n",
    "\n",
    "[Back to Part 2](#part2)\n",
    "\n",
    "We will implement two other methods here, the Word2Vec model and the Doc2Vec model, also using `gensim`. Word2Vec creates representations of words, not documents, so the word level vectors need to be aggregated to obtain a representation for the document. Here, we will simply take the mean of the vectors. \n",
    "\n",
    "\n",
    "A drawback of these models is that they need a lot of training data. Our dataset is tiny, so in addition to using a model trained on the data, we will also use a pre-trained model for Word2Vec (this will be automatically downloaded).     \n",
    "\n",
    "*Note*:\n",
    "1. The code in vectorize_documents / vectorize_query should return gensim-like vectors i.e `[(dim, val), .. (dim, val)]`. \n",
    "2. For Word2Vec: You should also handle the following two cases: (a) A word in the query is not present in the vocabulary of the model and (b) none of the words in the query are present in the model - you can return 0 scores for all documents in this case. For either of these, you can check if a `word` is present in the vocab by using `word in self.model`\n"
   ]
  },
  {
   "cell_type": "code",
   "execution_count": 87,
   "metadata": {
    "deletable": false,
    "nbgrader": {
     "cell_type": "code",
     "checksum": "83ab733608ed14c29c09b36b4e1b6daa",
     "grade": false,
     "grade_id": "cell-2b73759f9baf688f",
     "locked": false,
     "schema_version": 3,
     "solution": true,
     "task": false
    }
   },
   "outputs": [
    {
     "name": "stderr",
     "output_type": "stream",
     "text": [
      "2022-02-28 22:42:48,482 : INFO : adding document #0 to Dictionary(0 unique tokens: [])\n",
      "2022-02-28 22:42:48,651 : INFO : built Dictionary(5937 unique tokens: ['-', 'algebra', 'intern', 'languag', 'preliminari']...) from 3204 documents (total 115969 corpus positions)\n",
      "2022-02-28 22:42:48,653 : INFO : Dictionary lifecycle event {'msg': \"built Dictionary(5937 unique tokens: ['-', 'algebra', 'intern', 'languag', 'preliminari']...) from 3204 documents (total 115969 corpus positions)\", 'datetime': '2022-02-28T22:42:48.653121', 'gensim': '4.1.2', 'python': '3.8.10 (default, Nov 26 2021, 20:14:08) \\n[GCC 9.3.0]', 'platform': 'Linux-5.13.0-30-generic-x86_64-with-glibc2.29', 'event': 'created'}\n",
      "2022-02-28 22:42:48,661 : INFO : discarding 4740 tokens: [('repeat', 8), ('glossari', 7), ('inspect', 8), ('uncol', 2), ('rung', 9), ('secant', 2), ('.', 1603), ('acceler', 6), ('diverg', 3), ('induc', 9)]...\n",
      "2022-02-28 22:42:48,664 : INFO : keeping 1197 tokens which were in no less than 10 and no more than 1602 (=50.0%) documents\n",
      "2022-02-28 22:42:48,669 : INFO : resulting dictionary: Dictionary(1197 unique tokens: ['-', 'algebra', 'intern', 'languag', 'preliminari']...)\n",
      "2022-02-28 22:42:48,778 : INFO : collecting all words and their counts\n",
      "2022-02-28 22:42:48,781 : INFO : PROGRESS: at sentence #0, processed 0 words, keeping 0 word types\n",
      "2022-02-28 22:42:48,813 : INFO : collected 5937 word types from a corpus of 115969 raw words and 3204 sentences\n",
      "2022-02-28 22:42:48,816 : INFO : Creating a fresh vocabulary\n",
      "2022-02-28 22:42:48,837 : INFO : Word2Vec lifecycle event {'msg': 'effective_min_count=5 retains 2069 unique words (34.8492504631969%% of original 5937, drops 3868)', 'datetime': '2022-02-28T22:42:48.837898', 'gensim': '4.1.2', 'python': '3.8.10 (default, Nov 26 2021, 20:14:08) \\n[GCC 9.3.0]', 'platform': 'Linux-5.13.0-30-generic-x86_64-with-glibc2.29', 'event': 'prepare_vocab'}\n",
      "2022-02-28 22:42:48,838 : INFO : Word2Vec lifecycle event {'msg': 'effective_min_count=5 leaves 109261 word corpus (94.21569557381714%% of original 115969, drops 6708)', 'datetime': '2022-02-28T22:42:48.838883', 'gensim': '4.1.2', 'python': '3.8.10 (default, Nov 26 2021, 20:14:08) \\n[GCC 9.3.0]', 'platform': 'Linux-5.13.0-30-generic-x86_64-with-glibc2.29', 'event': 'prepare_vocab'}\n",
      "2022-02-28 22:42:48,871 : INFO : deleting the raw counts dictionary of 5937 items\n",
      "2022-02-28 22:42:48,872 : INFO : sample=0.001 downsamples 44 most-common words\n",
      "2022-02-28 22:42:48,874 : INFO : Word2Vec lifecycle event {'msg': 'downsampling leaves estimated 84994.13994831842 word corpus (77.8%% of prior 109261)', 'datetime': '2022-02-28T22:42:48.874425', 'gensim': '4.1.2', 'python': '3.8.10 (default, Nov 26 2021, 20:14:08) \\n[GCC 9.3.0]', 'platform': 'Linux-5.13.0-30-generic-x86_64-with-glibc2.29', 'event': 'prepare_vocab'}\n",
      "2022-02-28 22:42:48,927 : INFO : estimated required memory for 2069 words and 100 dimensions: 2689700 bytes\n",
      "2022-02-28 22:42:48,928 : INFO : resetting layer weights\n",
      "2022-02-28 22:42:48,932 : INFO : Word2Vec lifecycle event {'update': False, 'trim_rule': 'None', 'datetime': '2022-02-28T22:42:48.932365', 'gensim': '4.1.2', 'python': '3.8.10 (default, Nov 26 2021, 20:14:08) \\n[GCC 9.3.0]', 'platform': 'Linux-5.13.0-30-generic-x86_64-with-glibc2.29', 'event': 'build_vocab'}\n",
      "2022-02-28 22:42:48,933 : INFO : Word2Vec lifecycle event {'msg': 'training model with 3 workers on 2069 vocabulary and 100 features, using sg=0 hs=0 sample=0.001 negative=5 window=5 shrink_windows=True', 'datetime': '2022-02-28T22:42:48.933821', 'gensim': '4.1.2', 'python': '3.8.10 (default, Nov 26 2021, 20:14:08) \\n[GCC 9.3.0]', 'platform': 'Linux-5.13.0-30-generic-x86_64-with-glibc2.29', 'event': 'train'}\n",
      "2022-02-28 22:42:49,088 : INFO : worker thread finished; awaiting finish of 2 more threads\n",
      "2022-02-28 22:42:49,098 : INFO : worker thread finished; awaiting finish of 1 more threads\n",
      "2022-02-28 22:42:49,100 : INFO : worker thread finished; awaiting finish of 0 more threads\n",
      "2022-02-28 22:42:49,101 : INFO : EPOCH - 1 : training on 115969 raw words (84809 effective words) took 0.2s, 559547 effective words/s\n",
      "2022-02-28 22:42:49,220 : INFO : worker thread finished; awaiting finish of 2 more threads\n",
      "2022-02-28 22:42:49,235 : INFO : worker thread finished; awaiting finish of 1 more threads\n",
      "2022-02-28 22:42:49,240 : INFO : worker thread finished; awaiting finish of 0 more threads\n",
      "2022-02-28 22:42:49,241 : INFO : EPOCH - 2 : training on 115969 raw words (85010 effective words) took 0.1s, 641678 effective words/s\n",
      "2022-02-28 22:42:49,390 : INFO : worker thread finished; awaiting finish of 2 more threads\n",
      "2022-02-28 22:42:49,417 : INFO : worker thread finished; awaiting finish of 1 more threads\n",
      "2022-02-28 22:42:49,418 : INFO : worker thread finished; awaiting finish of 0 more threads\n",
      "2022-02-28 22:42:49,420 : INFO : EPOCH - 3 : training on 115969 raw words (84892 effective words) took 0.2s, 495024 effective words/s\n",
      "2022-02-28 22:42:49,553 : INFO : worker thread finished; awaiting finish of 2 more threads\n",
      "2022-02-28 22:42:49,555 : INFO : worker thread finished; awaiting finish of 1 more threads\n",
      "2022-02-28 22:42:49,563 : INFO : worker thread finished; awaiting finish of 0 more threads\n",
      "2022-02-28 22:42:49,566 : INFO : EPOCH - 4 : training on 115969 raw words (84926 effective words) took 0.1s, 613719 effective words/s\n",
      "2022-02-28 22:42:49,686 : INFO : worker thread finished; awaiting finish of 2 more threads\n",
      "2022-02-28 22:42:49,688 : INFO : worker thread finished; awaiting finish of 1 more threads\n",
      "2022-02-28 22:42:49,692 : INFO : worker thread finished; awaiting finish of 0 more threads\n",
      "2022-02-28 22:42:49,693 : INFO : EPOCH - 5 : training on 115969 raw words (84964 effective words) took 0.1s, 717531 effective words/s\n",
      "2022-02-28 22:42:49,696 : INFO : Word2Vec lifecycle event {'msg': 'training on 579845 raw words (424601 effective words) took 0.8s, 557640 effective words/s', 'datetime': '2022-02-28T22:42:49.696284', 'gensim': '4.1.2', 'python': '3.8.10 (default, Nov 26 2021, 20:14:08) \\n[GCC 9.3.0]', 'platform': 'Linux-5.13.0-30-generic-x86_64-with-glibc2.29', 'event': 'train'}\n",
      "2022-02-28 22:42:49,702 : INFO : Word2Vec lifecycle event {'params': 'Word2Vec(vocab=2069, vector_size=100, alpha=0.025)', 'datetime': '2022-02-28T22:42:49.702440', 'gensim': '4.1.2', 'python': '3.8.10 (default, Nov 26 2021, 20:14:08) \\n[GCC 9.3.0]', 'platform': 'Linux-5.13.0-30-generic-x86_64-with-glibc2.29', 'event': 'created'}\n"
     ]
    },
    {
     "data": {
      "text/plain": [
       "[(0, 0.08307218551635742),\n",
       " (1, 0.4377746284008026),\n",
       " (2, 0.1812218874692917),\n",
       " (3, -0.12619805335998535),\n",
       " (4, 0.07116065174341202),\n",
       " (5, -0.46811386942863464),\n",
       " (6, 0.22468134760856628),\n",
       " (7, 0.7422063946723938),\n",
       " (8, -0.2612680196762085),\n",
       " (9, -0.2805819809436798),\n",
       " (10, -0.0363064706325531),\n",
       " (11, -0.6970447897911072),\n",
       " (12, 0.30218788981437683),\n",
       " (13, -0.09718455374240875),\n",
       " (14, 0.06737073510885239),\n",
       " (15, -0.10653433203697205),\n",
       " (16, 0.09473296254873276),\n",
       " (17, -0.13977926969528198),\n",
       " (18, 0.05814259126782417),\n",
       " (19, -0.6786125898361206),\n",
       " (20, 0.032173242419958115),\n",
       " (21, 0.28993818163871765),\n",
       " (22, 0.1419699341058731),\n",
       " (23, -0.04247169941663742),\n",
       " (24, -0.12827983498573303),\n",
       " (25, 0.16737914085388184),\n",
       " (26, -0.1703489124774933),\n",
       " (27, -0.1659233719110489),\n",
       " (28, -0.2568630278110504),\n",
       " (29, -0.05485432967543602),\n",
       " (30, 0.3678636848926544),\n",
       " (31, -0.12957488000392914),\n",
       " (32, 0.4091164171695709),\n",
       " (33, -0.3981141149997711),\n",
       " (34, -0.1506098508834839),\n",
       " (35, 0.16225126385688782),\n",
       " (36, -0.032058004289865494),\n",
       " (37, -0.4340938925743103),\n",
       " (38, -0.26624545454978943),\n",
       " (39, -0.5709381103515625),\n",
       " (40, 0.15517133474349976),\n",
       " (41, -0.32156673073768616),\n",
       " (42, -0.26529642939567566),\n",
       " (43, -0.028555933386087418),\n",
       " (44, 0.3804592192173004),\n",
       " (45, -0.18325696885585785),\n",
       " (46, -0.3525037169456482),\n",
       " (47, 0.0983794629573822),\n",
       " (48, 0.03707562014460564),\n",
       " (49, 0.15562327206134796),\n",
       " (50, 0.2137444168329239),\n",
       " (51, -0.32366421818733215),\n",
       " (52, -0.22347375750541687),\n",
       " (53, 0.18459008634090424),\n",
       " (54, -0.26615455746650696),\n",
       " (55, 0.021961063146591187),\n",
       " (56, 0.108740895986557),\n",
       " (57, -0.23806944489479065),\n",
       " (58, -0.37125539779663086),\n",
       " (59, 0.17091207206249237),\n",
       " (60, -0.10609804093837738),\n",
       " (61, 0.065250463783741),\n",
       " (62, 0.0896633043885231),\n",
       " (63, -0.05214405804872513),\n",
       " (64, -0.5868035554885864),\n",
       " (65, 0.28786370158195496),\n",
       " (66, -0.01736827939748764),\n",
       " (67, 0.2785099446773529),\n",
       " (68, -0.46691280603408813),\n",
       " (69, 0.05807233601808548),\n",
       " (70, -0.26278993487358093),\n",
       " (71, 0.17911405861377716),\n",
       " (72, 0.5688562989234924),\n",
       " (73, 0.0024044644087553024),\n",
       " (74, 0.20521728694438934),\n",
       " (75, 0.3065181374549866),\n",
       " (76, 0.210732102394104),\n",
       " (77, 0.05270342528820038),\n",
       " (78, -0.48781824111938477),\n",
       " (79, 0.2961221933364868),\n",
       " (80, -0.348349392414093),\n",
       " (81, 0.04464317113161087),\n",
       " (82, -0.21660670638084412),\n",
       " (83, 0.3118927478790283),\n",
       " (84, 0.13980910181999207),\n",
       " (85, 0.22113855183124542),\n",
       " (86, -0.013922527432441711),\n",
       " (87, 0.2439565658569336),\n",
       " (88, 0.4438283145427704),\n",
       " (89, 0.2848270535469055),\n",
       " (90, 0.21564224362373352),\n",
       " (91, 0.4358038306236267),\n",
       " (92, -0.11943663656711578),\n",
       " (93, 0.19055034220218658),\n",
       " (94, 0.6939883828163147),\n",
       " (95, 0.668448269367218),\n",
       " (96, 0.0588022917509079),\n",
       " (97, -0.45579293370246887),\n",
       " (98, 0.167344868183136),\n",
       " (99, -0.03841405734419823)]"
      ]
     },
     "execution_count": 87,
     "metadata": {},
     "output_type": "execute_result"
    }
   ],
   "source": [
    "#TODO: Implement this! (10 points)\n",
    "class W2VRetrievalModel(VectorSpaceRetrievalModel):\n",
    "    def __init__(self, doc_repr):\n",
    "        super().__init__(doc_repr)\n",
    "        \n",
    "        # the dimensionality of the vectors\n",
    "        self.size = 100 \n",
    "        self.min_count = 1\n",
    "    \n",
    "    def train_model(self):\n",
    "        \"\"\"\n",
    "        Trains the W2V model\n",
    "        \"\"\"\n",
    "        self.model = Word2Vec(self.documents).wv\n",
    "        \n",
    "    def vectorize_documents(self):\n",
    "        \"\"\"\n",
    "            Returns a doc_id -> vector dictionary\n",
    "        \"\"\"\n",
    "        id2vec = {}\n",
    "        for (doc_id, doc) in self.doc_repr:\n",
    "            v = np.zeros(self.size)\n",
    "            S = 0\n",
    "            for word in doc:\n",
    "                if word in self.model:\n",
    "                    v += self.model[word]\n",
    "                    S += 1\n",
    "            v /= 1 if S == 0 else S\n",
    "            id2vec[doc_id] = [(i, v[i]) for i in range(self.size)]\n",
    "            \n",
    "        return id2vec\n",
    "            \n",
    "    def vectorize_query(self, query):\n",
    "        \"\"\"\n",
    "        Vectorizes the query using the W2V model\n",
    "        \"\"\"\n",
    "        query = process_text(query, **config_2)\n",
    "        \n",
    "        v = np.zeros(self.size)\n",
    "        S = 0\n",
    "        for word in query:\n",
    "            if word in self.model:\n",
    "                v += self.model[word]\n",
    "                S += 1\n",
    "        v /= 1 if S == 0 else S\n",
    "        return [(i, v[i]) for i in range(self.size)]\n",
    "    \n",
    "class W2VPretrainedRetrievalModel(W2VRetrievalModel):\n",
    "    def __init__(self, doc_repr):\n",
    "        super().__init__(doc_repr)\n",
    "        self.model_name = \"word2vec-google-news-300\"\n",
    "        self.size = 300\n",
    "    \n",
    "    def train_model(self):\n",
    "        \"\"\"\n",
    "        Loads the pretrained model\n",
    "        \"\"\"\n",
    "        self.model = g_downloader.load(self.model_name)\n",
    "        \n",
    "w2v = W2VRetrievalModel(doc_repr_2)\n",
    "w2v.train_model()\n",
    "\n",
    "# you can now get a W2V vector for a given query in the following way:\n",
    "w2v.vectorize_query(\"report\")"
   ]
  },
  {
   "cell_type": "code",
   "execution_count": 88,
   "metadata": {
    "deletable": false,
    "editable": false,
    "nbgrader": {
     "cell_type": "code",
     "checksum": "f92b5c5a8c6c4b80652b94223209ab0b",
     "grade": true,
     "grade_id": "cell-b31c0f8d214b8bdf",
     "locked": true,
     "points": 0,
     "schema_version": 3,
     "solution": false,
     "task": false
    }
   },
   "outputs": [],
   "source": [
    "assert len(w2v.vectorize_query(\"report\")) == 100\n",
    "assert len(w2v.vectorize_query(\"this is a sentence that is not mellifluous\")) == 100\n"
   ]
  },
  {
   "cell_type": "markdown",
   "metadata": {
    "deletable": false,
    "editable": false,
    "nbgrader": {
     "cell_type": "markdown",
     "checksum": "8dfaabebcb06f308a7ca61fdc5d369e7",
     "grade": false,
     "grade_id": "cell-c2614fa067386384",
     "locked": true,
     "points": 8,
     "schema_version": 3,
     "solution": false,
     "task": true
    }
   },
   "source": [
    "\\#### Please do not change this. This cell is used for grading."
   ]
  },
  {
   "cell_type": "code",
   "execution_count": 89,
   "metadata": {},
   "outputs": [
    {
     "name": "stderr",
     "output_type": "stream",
     "text": [
      "2022-02-28 22:42:49,736 : INFO : adding document #0 to Dictionary(0 unique tokens: [])\n",
      "2022-02-28 22:42:49,936 : INFO : built Dictionary(5937 unique tokens: ['-', 'algebra', 'intern', 'languag', 'preliminari']...) from 3204 documents (total 115969 corpus positions)\n",
      "2022-02-28 22:42:49,938 : INFO : Dictionary lifecycle event {'msg': \"built Dictionary(5937 unique tokens: ['-', 'algebra', 'intern', 'languag', 'preliminari']...) from 3204 documents (total 115969 corpus positions)\", 'datetime': '2022-02-28T22:42:49.938040', 'gensim': '4.1.2', 'python': '3.8.10 (default, Nov 26 2021, 20:14:08) \\n[GCC 9.3.0]', 'platform': 'Linux-5.13.0-30-generic-x86_64-with-glibc2.29', 'event': 'created'}\n",
      "2022-02-28 22:42:49,950 : INFO : discarding 4740 tokens: [('repeat', 8), ('glossari', 7), ('inspect', 8), ('uncol', 2), ('rung', 9), ('secant', 2), ('.', 1603), ('acceler', 6), ('diverg', 3), ('induc', 9)]...\n",
      "2022-02-28 22:42:49,951 : INFO : keeping 1197 tokens which were in no less than 10 and no more than 1602 (=50.0%) documents\n",
      "2022-02-28 22:42:49,956 : INFO : resulting dictionary: Dictionary(1197 unique tokens: ['-', 'algebra', 'intern', 'languag', 'preliminari']...)\n",
      "2022-02-28 22:42:50,166 : INFO : loading projection weights from /home/mark/gensim-data/word2vec-google-news-300/word2vec-google-news-300.gz\n",
      "2022-02-28 22:43:54,204 : INFO : KeyedVectors lifecycle event {'msg': 'loaded (3000000, 300) matrix of type float32 from /home/mark/gensim-data/word2vec-google-news-300/word2vec-google-news-300.gz', 'binary': True, 'encoding': 'utf8', 'datetime': '2022-02-28T22:43:54.204248', 'gensim': '4.1.2', 'python': '3.8.10 (default, Nov 26 2021, 20:14:08) \\n[GCC 9.3.0]', 'platform': 'Linux-5.13.0-30-generic-x86_64-with-glibc2.29', 'event': 'load_word2vec_format'}\n"
     ]
    },
    {
     "data": {
      "text/plain": [
       "[(0, -0.142578125),\n",
       " (1, -0.1640625),\n",
       " (2, -0.09033203125),\n",
       " (3, -0.1123046875),\n",
       " (4, 0.10009765625),\n",
       " (5, -0.041259765625),\n",
       " (6, 0.048828125),\n",
       " (7, -0.13671875),\n",
       " (8, 0.1962890625),\n",
       " (9, -0.134765625),\n",
       " (10, -0.017578125),\n",
       " (11, 0.0322265625),\n",
       " (12, 0.09521484375),\n",
       " (13, -0.10595703125),\n",
       " (14, -0.169921875),\n",
       " (15, 0.041015625),\n",
       " (16, -0.263671875),\n",
       " (17, -0.006317138671875),\n",
       " (18, -0.177734375),\n",
       " (19, -0.240234375),\n",
       " (20, 0.3515625),\n",
       " (21, -0.01220703125),\n",
       " (22, -0.162109375),\n",
       " (23, -0.12060546875),\n",
       " (24, 0.043212890625),\n",
       " (25, 0.10986328125),\n",
       " (26, 0.052490234375),\n",
       " (27, 0.1787109375),\n",
       " (28, -0.1455078125),\n",
       " (29, 0.1376953125),\n",
       " (30, -0.08203125),\n",
       " (31, -0.283203125),\n",
       " (32, -0.10888671875),\n",
       " (33, -0.2890625),\n",
       " (34, 0.072265625),\n",
       " (35, -0.04736328125),\n",
       " (36, 0.040283203125),\n",
       " (37, 0.06787109375),\n",
       " (38, 0.11669921875),\n",
       " (39, 0.00083160400390625),\n",
       " (40, 0.068359375),\n",
       " (41, 0.1201171875),\n",
       " (42, -0.08837890625),\n",
       " (43, 0.337890625),\n",
       " (44, -0.044677734375),\n",
       " (45, -0.0301513671875),\n",
       " (46, 0.0076904296875),\n",
       " (47, -0.0211181640625),\n",
       " (48, -0.25390625),\n",
       " (49, 0.1494140625),\n",
       " (50, 0.3984375),\n",
       " (51, 0.0216064453125),\n",
       " (52, -0.023193359375),\n",
       " (53, 0.00634765625),\n",
       " (54, 0.00823974609375),\n",
       " (55, -0.1689453125),\n",
       " (56, 0.037353515625),\n",
       " (57, -0.0634765625),\n",
       " (58, 0.1171875),\n",
       " (59, -0.1484375),\n",
       " (60, -0.07861328125),\n",
       " (61, 0.369140625),\n",
       " (62, -0.224609375),\n",
       " (63, 0.173828125),\n",
       " (64, 0.01385498046875),\n",
       " (65, 0.1875),\n",
       " (66, -0.10107421875),\n",
       " (67, 0.037841796875),\n",
       " (68, 0.0021209716796875),\n",
       " (69, -0.05126953125),\n",
       " (70, 0.09619140625),\n",
       " (71, -0.05712890625),\n",
       " (72, 0.10595703125),\n",
       " (73, -0.02099609375),\n",
       " (74, 0.1611328125),\n",
       " (75, 0.09765625),\n",
       " (76, 0.038330078125),\n",
       " (77, 0.2197265625),\n",
       " (78, 0.1064453125),\n",
       " (79, 0.0859375),\n",
       " (80, 0.1796875),\n",
       " (81, -0.0830078125),\n",
       " (82, -0.033203125),\n",
       " (83, 0.041015625),\n",
       " (84, -0.06494140625),\n",
       " (85, 0.0198974609375),\n",
       " (86, 0.1337890625),\n",
       " (87, -0.09765625),\n",
       " (88, -0.193359375),\n",
       " (89, -0.2353515625),\n",
       " (90, 0.1904296875),\n",
       " (91, 0.0024871826171875),\n",
       " (92, -0.0157470703125),\n",
       " (93, 0.0322265625),\n",
       " (94, -0.2197265625),\n",
       " (95, -0.09130859375),\n",
       " (96, 0.021240234375),\n",
       " (97, 0.158203125),\n",
       " (98, 0.298828125),\n",
       " (99, -0.328125),\n",
       " (100, 0.057373046875),\n",
       " (101, -0.04638671875),\n",
       " (102, 0.11328125),\n",
       " (103, -0.1015625),\n",
       " (104, 0.1806640625),\n",
       " (105, -0.025146484375),\n",
       " (106, -0.166015625),\n",
       " (107, -0.09619140625),\n",
       " (108, 0.018798828125),\n",
       " (109, -0.1943359375),\n",
       " (110, 0.1494140625),\n",
       " (111, -0.056640625),\n",
       " (112, -0.10693359375),\n",
       " (113, -0.150390625),\n",
       " (114, -0.17578125),\n",
       " (115, 0.11279296875),\n",
       " (116, 0.04931640625),\n",
       " (117, 0.2197265625),\n",
       " (118, 0.318359375),\n",
       " (119, 0.1572265625),\n",
       " (120, -0.29296875),\n",
       " (121, 0.10498046875),\n",
       " (122, -0.296875),\n",
       " (123, -0.013427734375),\n",
       " (124, 0.0908203125),\n",
       " (125, 0.0125732421875),\n",
       " (126, -0.051513671875),\n",
       " (127, -0.12890625),\n",
       " (128, 0.01446533203125),\n",
       " (129, 0.12060546875),\n",
       " (130, -0.10107421875),\n",
       " (131, -0.111328125),\n",
       " (132, 0.06396484375),\n",
       " (133, -0.052978515625),\n",
       " (134, -0.043212890625),\n",
       " (135, -0.012939453125),\n",
       " (136, -0.027587890625),\n",
       " (137, -0.09716796875),\n",
       " (138, -0.2021484375),\n",
       " (139, 0.123046875),\n",
       " (140, -0.04248046875),\n",
       " (141, 0.173828125),\n",
       " (142, -0.013671875),\n",
       " (143, 0.1015625),\n",
       " (144, -0.00093841552734375),\n",
       " (145, -0.03564453125),\n",
       " (146, 0.30078125),\n",
       " (147, -0.068359375),\n",
       " (148, -0.05615234375),\n",
       " (149, 0.03759765625),\n",
       " (150, 0.06591796875),\n",
       " (151, 0.040283203125),\n",
       " (152, 0.01190185546875),\n",
       " (153, 0.09619140625),\n",
       " (154, 0.3671875),\n",
       " (155, -0.279296875),\n",
       " (156, -0.052001953125),\n",
       " (157, -0.10693359375),\n",
       " (158, -0.134765625),\n",
       " (159, -0.046142578125),\n",
       " (160, 0.25),\n",
       " (161, 0.00567626953125),\n",
       " (162, -0.014404296875),\n",
       " (163, -0.031005859375),\n",
       " (164, -0.060302734375),\n",
       " (165, 0.10595703125),\n",
       " (166, 0.37890625),\n",
       " (167, 0.058837890625),\n",
       " (168, 0.123046875),\n",
       " (169, -0.115234375),\n",
       " (170, 0.1494140625),\n",
       " (171, -0.1640625),\n",
       " (172, -0.2333984375),\n",
       " (173, -0.07763671875),\n",
       " (174, 0.0267333984375),\n",
       " (175, -0.0211181640625),\n",
       " (176, 0.1943359375),\n",
       " (177, -0.05615234375),\n",
       " (178, -0.006439208984375),\n",
       " (179, -0.169921875),\n",
       " (180, -0.11865234375),\n",
       " (181, -0.0673828125),\n",
       " (182, -0.06884765625),\n",
       " (183, -0.0869140625),\n",
       " (184, -0.1015625),\n",
       " (185, 0.01416015625),\n",
       " (186, -0.201171875),\n",
       " (187, 0.09814453125),\n",
       " (188, -0.01025390625),\n",
       " (189, 0.1875),\n",
       " (190, 0.1962890625),\n",
       " (191, -0.220703125),\n",
       " (192, -0.1962890625),\n",
       " (193, -0.07373046875),\n",
       " (194, 0.06640625),\n",
       " (195, -0.1337890625),\n",
       " (196, 0.18359375),\n",
       " (197, -0.2001953125),\n",
       " (198, 0.1982421875),\n",
       " (199, 0.05029296875),\n",
       " (200, 0.0299072265625),\n",
       " (201, 0.0177001953125),\n",
       " (202, -0.193359375),\n",
       " (203, -0.09619140625),\n",
       " (204, -0.1025390625),\n",
       " (205, 0.212890625),\n",
       " (206, -0.0299072265625),\n",
       " (207, 0.1435546875),\n",
       " (208, 0.041015625),\n",
       " (209, -0.2119140625),\n",
       " (210, 0.2080078125),\n",
       " (211, 0.1376953125),\n",
       " (212, -0.0196533203125),\n",
       " (213, 0.01495361328125),\n",
       " (214, -0.09765625),\n",
       " (215, 0.2431640625),\n",
       " (216, 0.080078125),\n",
       " (217, 0.08251953125),\n",
       " (218, 0.0986328125),\n",
       " (219, 0.056884765625),\n",
       " (220, 0.04248046875),\n",
       " (221, 0.06884765625),\n",
       " (222, -0.035400390625),\n",
       " (223, -0.076171875),\n",
       " (224, -0.00016117095947265625),\n",
       " (225, -0.0751953125),\n",
       " (226, 0.224609375),\n",
       " (227, 0.1513671875),\n",
       " (228, 0.1005859375),\n",
       " (229, 0.10986328125),\n",
       " (230, 0.0238037109375),\n",
       " (231, 0.08837890625),\n",
       " (232, 0.061767578125),\n",
       " (233, -0.10791015625),\n",
       " (234, 0.062255859375),\n",
       " (235, 0.0034332275390625),\n",
       " (236, 0.08056640625),\n",
       " (237, 0.10693359375),\n",
       " (238, 0.0888671875),\n",
       " (239, -0.2373046875),\n",
       " (240, 0.06494140625),\n",
       " (241, 0.01019287109375),\n",
       " (242, -0.08837890625),\n",
       " (243, -0.33203125),\n",
       " (244, 0.004669189453125),\n",
       " (245, 0.212890625),\n",
       " (246, 0.0859375),\n",
       " (247, 0.0203857421875),\n",
       " (248, 0.045654296875),\n",
       " (249, 0.1484375),\n",
       " (250, 0.1181640625),\n",
       " (251, 0.0556640625),\n",
       " (252, -0.1728515625),\n",
       " (253, -0.125),\n",
       " (254, -0.025390625),\n",
       " (255, -0.318359375),\n",
       " (256, 0.0311279296875),\n",
       " (257, 0.0859375),\n",
       " (258, -0.0419921875),\n",
       " (259, 0.15625),\n",
       " (260, 0.1611328125),\n",
       " (261, 0.1982421875),\n",
       " (262, -0.10009765625),\n",
       " (263, 0.203125),\n",
       " (264, 0.12890625),\n",
       " (265, 0.2333984375),\n",
       " (266, -0.267578125),\n",
       " (267, 0.05517578125),\n",
       " (268, 0.048828125),\n",
       " (269, 0.072265625),\n",
       " (270, 0.244140625),\n",
       " (271, 0.244140625),\n",
       " (272, 0.056884765625),\n",
       " (273, -0.0546875),\n",
       " (274, -0.03369140625),\n",
       " (275, -0.12060546875),\n",
       " (276, 0.034912109375),\n",
       " (277, -0.1455078125),\n",
       " (278, 0.08740234375),\n",
       " (279, -0.0830078125),\n",
       " (280, 0.0172119140625),\n",
       " (281, 0.1435546875),\n",
       " (282, -0.12255859375),\n",
       " (283, 0.1796875),\n",
       " (284, 0.130859375),\n",
       " (285, -0.1650390625),\n",
       " (286, 0.01275634765625),\n",
       " (287, 0.16015625),\n",
       " (288, -0.0311279296875),\n",
       " (289, 0.08203125),\n",
       " (290, 0.173828125),\n",
       " (291, -0.16796875),\n",
       " (292, 0.130859375),\n",
       " (293, 0.08544921875),\n",
       " (294, -0.2109375),\n",
       " (295, -0.130859375),\n",
       " (296, -0.0289306640625),\n",
       " (297, -0.10546875),\n",
       " (298, 0.08447265625),\n",
       " (299, -0.1416015625)]"
      ]
     },
     "execution_count": 89,
     "metadata": {},
     "output_type": "execute_result"
    }
   ],
   "source": [
    "w2v_pretrained = W2VPretrainedRetrievalModel(doc_repr_2)\n",
    "w2v_pretrained.train_model()\n",
    "\n",
    "# you can now get an W2V vector for a given query in the following way:\n",
    "w2v_pretrained.vectorize_query(\"report\")"
   ]
  },
  {
   "cell_type": "code",
   "execution_count": 90,
   "metadata": {
    "deletable": false,
    "editable": false,
    "nbgrader": {
     "cell_type": "code",
     "checksum": "0822845afb5eafe5ddb1ffeaa4f4942a",
     "grade": true,
     "grade_id": "cell-1b1466f8ce516f42",
     "locked": true,
     "points": 2,
     "schema_version": 3,
     "solution": false,
     "task": false
    }
   },
   "outputs": [
    {
     "name": "stdout",
     "output_type": "stream",
     "text": [
      "300\n"
     ]
    }
   ],
   "source": [
    "##### Function check\n",
    "\n",
    "print(len(w2v_pretrained.vectorize_query(\"report\")))\n",
    "#####"
   ]
  },
  {
   "cell_type": "code",
   "execution_count": 91,
   "metadata": {},
   "outputs": [
    {
     "data": {
      "application/vnd.jupyter.widget-view+json": {
       "model_id": "79bb4041ec574f82b64458c41d95b4b5",
       "version_major": 2,
       "version_minor": 0
      },
      "text/plain": [
       "Text(value='', description='Search Bar')"
      ]
     },
     "metadata": {},
     "output_type": "display_data"
    }
   ],
   "source": [
    "drm_w2v = DenseRetrievalRanker(w2v, cosine_sim)\n",
    "\n",
    "# test your LDA model\n",
    "search_fn = drm_w2v.search\n",
    "\n",
    "text = widgets.Text(description=\"Search Bar\", width=200)\n",
    "display(text)\n",
    "\n",
    "\n",
    "text.on_submit(handle_submit_2)"
   ]
  },
  {
   "cell_type": "code",
   "execution_count": 92,
   "metadata": {},
   "outputs": [
    {
     "data": {
      "application/vnd.jupyter.widget-view+json": {
       "model_id": "c60ede7a99cc4b3ca063afde0ed64a59",
       "version_major": 2,
       "version_minor": 0
      },
      "text/plain": [
       "Text(value='', description='Search Bar')"
      ]
     },
     "metadata": {},
     "output_type": "display_data"
    }
   ],
   "source": [
    "drm_w2v_pretrained = DenseRetrievalRanker(w2v_pretrained, cosine_sim)\n",
    "\n",
    "#test your LDA model\n",
    "search_fn = drm_w2v_pretrained.search\n",
    "\n",
    "text = widgets.Text(description=\"Search Bar\", width=200)\n",
    "display(text)\n",
    "\n",
    "\n",
    "text.on_submit(handle_submit_2)"
   ]
  },
  {
   "cell_type": "markdown",
   "metadata": {
    "deletable": false,
    "editable": false,
    "nbgrader": {
     "cell_type": "markdown",
     "checksum": "51b778984fd60757974f51047c61eb15",
     "grade": false,
     "grade_id": "cell-b92f701cbc706108",
     "locked": true,
     "schema_version": 3,
     "solution": false,
     "task": false
    }
   },
   "source": [
    "**Implementation (10 points):**\n",
    "For Doc2Vec, you will need to create a list of `TaggedDocument` instead of using the `self.corpus` or `self.documents` variable. Use the document id as the 'tag'.\n",
    "  "
   ]
  },
  {
   "cell_type": "code",
   "execution_count": 93,
   "metadata": {
    "deletable": false,
    "editable": false,
    "nbgrader": {
     "cell_type": "code",
     "checksum": "e83a363a9d4f136efbdde1426a83925e",
     "grade": true,
     "grade_id": "cell-5e2c5e0c9a2e8cb5",
     "locked": true,
     "points": 0,
     "schema_version": 3,
     "solution": false,
     "task": false
    }
   },
   "outputs": [],
   "source": [
    "#### Please do not change this. This cell is used for grading."
   ]
  },
  {
   "cell_type": "markdown",
   "metadata": {
    "deletable": false,
    "editable": false,
    "nbgrader": {
     "cell_type": "markdown",
     "checksum": "5bb46bf6b9be1e0ca66f0b0bc6260ecb",
     "grade": false,
     "grade_id": "cell-8a49d414f798a595",
     "locked": true,
     "points": 10,
     "schema_version": 3,
     "solution": false,
     "task": true
    }
   },
   "source": [
    "\\#### Please do not change this. This cell is used for grading."
   ]
  },
  {
   "cell_type": "code",
   "execution_count": 94,
   "metadata": {
    "deletable": false,
    "nbgrader": {
     "cell_type": "code",
     "checksum": "1f60fdeb97febb7f4a6fd5bf109aac20",
     "grade": false,
     "grade_id": "cell-680facdcc98a19ab",
     "locked": false,
     "schema_version": 3,
     "solution": true,
     "task": false
    }
   },
   "outputs": [
    {
     "name": "stderr",
     "output_type": "stream",
     "text": [
      "2022-02-28 22:43:55,740 : INFO : adding document #0 to Dictionary(0 unique tokens: [])\n",
      "2022-02-28 22:43:55,926 : INFO : built Dictionary(5937 unique tokens: ['-', 'algebra', 'intern', 'languag', 'preliminari']...) from 3204 documents (total 115969 corpus positions)\n",
      "2022-02-28 22:43:55,928 : INFO : Dictionary lifecycle event {'msg': \"built Dictionary(5937 unique tokens: ['-', 'algebra', 'intern', 'languag', 'preliminari']...) from 3204 documents (total 115969 corpus positions)\", 'datetime': '2022-02-28T22:43:55.928483', 'gensim': '4.1.2', 'python': '3.8.10 (default, Nov 26 2021, 20:14:08) \\n[GCC 9.3.0]', 'platform': 'Linux-5.13.0-30-generic-x86_64-with-glibc2.29', 'event': 'created'}\n",
      "2022-02-28 22:43:55,939 : INFO : discarding 4740 tokens: [('repeat', 8), ('glossari', 7), ('inspect', 8), ('uncol', 2), ('rung', 9), ('secant', 2), ('.', 1603), ('acceler', 6), ('diverg', 3), ('induc', 9)]...\n",
      "2022-02-28 22:43:55,940 : INFO : keeping 1197 tokens which were in no less than 10 and no more than 1602 (=50.0%) documents\n",
      "2022-02-28 22:43:55,946 : INFO : resulting dictionary: Dictionary(1197 unique tokens: ['-', 'algebra', 'intern', 'languag', 'preliminari']...)\n",
      "2022-02-28 22:43:56,075 : INFO : collecting all words and their counts\n",
      "2022-02-28 22:43:56,075 : INFO : PROGRESS: at example #0, processed 0 words (0/s), 0 word types, 0 tags\n",
      "2022-02-28 22:43:56,164 : INFO : collected 5937 word types and 3204 unique tags from a corpus of 3204 examples and 115969 words\n",
      "2022-02-28 22:43:56,167 : INFO : Creating a fresh vocabulary\n",
      "2022-02-28 22:43:56,185 : INFO : Doc2Vec lifecycle event {'msg': 'effective_min_count=5 retains 2069 unique words (34.8492504631969%% of original 5937, drops 3868)', 'datetime': '2022-02-28T22:43:56.185607', 'gensim': '4.1.2', 'python': '3.8.10 (default, Nov 26 2021, 20:14:08) \\n[GCC 9.3.0]', 'platform': 'Linux-5.13.0-30-generic-x86_64-with-glibc2.29', 'event': 'prepare_vocab'}\n",
      "2022-02-28 22:43:56,187 : INFO : Doc2Vec lifecycle event {'msg': 'effective_min_count=5 leaves 109261 word corpus (94.21569557381714%% of original 115969, drops 6708)', 'datetime': '2022-02-28T22:43:56.187005', 'gensim': '4.1.2', 'python': '3.8.10 (default, Nov 26 2021, 20:14:08) \\n[GCC 9.3.0]', 'platform': 'Linux-5.13.0-30-generic-x86_64-with-glibc2.29', 'event': 'prepare_vocab'}\n",
      "2022-02-28 22:43:56,219 : INFO : deleting the raw counts dictionary of 5937 items\n",
      "2022-02-28 22:43:56,222 : INFO : sample=0.001 downsamples 44 most-common words\n",
      "2022-02-28 22:43:56,223 : INFO : Doc2Vec lifecycle event {'msg': 'downsampling leaves estimated 84994.13994831842 word corpus (77.8%% of prior 109261)', 'datetime': '2022-02-28T22:43:56.223847', 'gensim': '4.1.2', 'python': '3.8.10 (default, Nov 26 2021, 20:14:08) \\n[GCC 9.3.0]', 'platform': 'Linux-5.13.0-30-generic-x86_64-with-glibc2.29', 'event': 'prepare_vocab'}\n",
      "2022-02-28 22:43:56,290 : INFO : estimated required memory for 2069 words and 100 dimensions: 4612100 bytes\n",
      "2022-02-28 22:43:56,292 : INFO : resetting layer weights\n",
      "2022-02-28 22:43:56,301 : INFO : Doc2Vec lifecycle event {'msg': 'training model with 3 workers on 2069 vocabulary and 100 features, using sg=0 hs=0 sample=0.001 negative=5 window=5 shrink_windows=True', 'datetime': '2022-02-28T22:43:56.301850', 'gensim': '4.1.2', 'python': '3.8.10 (default, Nov 26 2021, 20:14:08) \\n[GCC 9.3.0]', 'platform': 'Linux-5.13.0-30-generic-x86_64-with-glibc2.29', 'event': 'train'}\n",
      "2022-02-28 22:43:56,766 : INFO : worker thread finished; awaiting finish of 2 more threads\n",
      "2022-02-28 22:43:56,774 : INFO : worker thread finished; awaiting finish of 1 more threads\n",
      "2022-02-28 22:43:56,780 : INFO : worker thread finished; awaiting finish of 0 more threads\n",
      "2022-02-28 22:43:56,781 : INFO : EPOCH - 1 : training on 115969 raw words (88208 effective words) took 0.5s, 187224 effective words/s\n",
      "2022-02-28 22:43:57,302 : INFO : worker thread finished; awaiting finish of 2 more threads\n",
      "2022-02-28 22:43:57,332 : INFO : worker thread finished; awaiting finish of 1 more threads\n",
      "2022-02-28 22:43:57,347 : INFO : worker thread finished; awaiting finish of 0 more threads\n",
      "2022-02-28 22:43:57,349 : INFO : EPOCH - 2 : training on 115969 raw words (87978 effective words) took 0.6s, 159852 effective words/s\n",
      "2022-02-28 22:43:57,716 : INFO : worker thread finished; awaiting finish of 2 more threads\n",
      "2022-02-28 22:43:57,723 : INFO : worker thread finished; awaiting finish of 1 more threads\n",
      "2022-02-28 22:43:57,734 : INFO : worker thread finished; awaiting finish of 0 more threads\n",
      "2022-02-28 22:43:57,735 : INFO : EPOCH - 3 : training on 115969 raw words (88298 effective words) took 0.4s, 233658 effective words/s\n",
      "2022-02-28 22:43:58,071 : INFO : worker thread finished; awaiting finish of 2 more threads\n",
      "2022-02-28 22:43:58,077 : INFO : worker thread finished; awaiting finish of 1 more threads\n",
      "2022-02-28 22:43:58,090 : INFO : worker thread finished; awaiting finish of 0 more threads\n",
      "2022-02-28 22:43:58,091 : INFO : EPOCH - 4 : training on 115969 raw words (88044 effective words) took 0.3s, 254277 effective words/s\n",
      "2022-02-28 22:43:58,417 : INFO : worker thread finished; awaiting finish of 2 more threads\n",
      "2022-02-28 22:43:58,435 : INFO : worker thread finished; awaiting finish of 1 more threads\n",
      "2022-02-28 22:43:58,441 : INFO : worker thread finished; awaiting finish of 0 more threads\n",
      "2022-02-28 22:43:58,444 : INFO : EPOCH - 5 : training on 115969 raw words (88209 effective words) took 0.3s, 258072 effective words/s\n",
      "2022-02-28 22:43:58,772 : INFO : worker thread finished; awaiting finish of 2 more threads\n",
      "2022-02-28 22:43:58,779 : INFO : worker thread finished; awaiting finish of 1 more threads\n",
      "2022-02-28 22:43:58,785 : INFO : worker thread finished; awaiting finish of 0 more threads\n",
      "2022-02-28 22:43:58,786 : INFO : EPOCH - 6 : training on 115969 raw words (88085 effective words) took 0.3s, 269252 effective words/s\n",
      "2022-02-28 22:43:59,109 : INFO : worker thread finished; awaiting finish of 2 more threads\n",
      "2022-02-28 22:43:59,128 : INFO : worker thread finished; awaiting finish of 1 more threads\n",
      "2022-02-28 22:43:59,134 : INFO : worker thread finished; awaiting finish of 0 more threads\n",
      "2022-02-28 22:43:59,135 : INFO : EPOCH - 7 : training on 115969 raw words (88286 effective words) took 0.3s, 254897 effective words/s\n",
      "2022-02-28 22:43:59,483 : INFO : worker thread finished; awaiting finish of 2 more threads\n",
      "2022-02-28 22:43:59,487 : INFO : worker thread finished; awaiting finish of 1 more threads\n",
      "2022-02-28 22:43:59,494 : INFO : worker thread finished; awaiting finish of 0 more threads\n",
      "2022-02-28 22:43:59,495 : INFO : EPOCH - 8 : training on 115969 raw words (88172 effective words) took 0.4s, 251118 effective words/s\n",
      "2022-02-28 22:43:59,809 : INFO : worker thread finished; awaiting finish of 2 more threads\n",
      "2022-02-28 22:43:59,838 : INFO : worker thread finished; awaiting finish of 1 more threads\n",
      "2022-02-28 22:43:59,839 : INFO : worker thread finished; awaiting finish of 0 more threads\n",
      "2022-02-28 22:43:59,840 : INFO : EPOCH - 9 : training on 115969 raw words (88222 effective words) took 0.3s, 258091 effective words/s\n",
      "2022-02-28 22:44:00,176 : INFO : worker thread finished; awaiting finish of 2 more threads\n",
      "2022-02-28 22:44:00,183 : INFO : worker thread finished; awaiting finish of 1 more threads\n",
      "2022-02-28 22:44:00,190 : INFO : worker thread finished; awaiting finish of 0 more threads\n",
      "2022-02-28 22:44:00,191 : INFO : EPOCH - 10 : training on 115969 raw words (88170 effective words) took 0.3s, 257954 effective words/s\n",
      "2022-02-28 22:44:00,192 : INFO : Doc2Vec lifecycle event {'msg': 'training on 1159690 raw words (881672 effective words) took 3.9s, 226712 effective words/s', 'datetime': '2022-02-28T22:44:00.192256', 'gensim': '4.1.2', 'python': '3.8.10 (default, Nov 26 2021, 20:14:08) \\n[GCC 9.3.0]', 'platform': 'Linux-5.13.0-30-generic-x86_64-with-glibc2.29', 'event': 'train'}\n",
      "2022-02-28 22:44:00,193 : INFO : Doc2Vec lifecycle event {'params': 'Doc2Vec(dm/m,d100,n5,w5,mc5,s0.001,t3)', 'datetime': '2022-02-28T22:44:00.192992', 'gensim': '4.1.2', 'python': '3.8.10 (default, Nov 26 2021, 20:14:08) \\n[GCC 9.3.0]', 'platform': 'Linux-5.13.0-30-generic-x86_64-with-glibc2.29', 'event': 'created'}\n"
     ]
    },
    {
     "data": {
      "text/plain": [
       "[(0, -0.0061895866),\n",
       " (1, 0.029259052),\n",
       " (2, 0.023875695),\n",
       " (3, -0.015621462),\n",
       " (4, -0.0017264617),\n",
       " (5, -0.043942075),\n",
       " (6, 0.0060001216),\n",
       " (7, 0.05910142),\n",
       " (8, -0.03124733),\n",
       " (9, -0.034110047),\n",
       " (10, -0.030836565),\n",
       " (11, -0.03034199),\n",
       " (12, 0.028800195),\n",
       " (13, 0.0024632507),\n",
       " (14, -0.00044578832),\n",
       " (15, -0.034464322),\n",
       " (16, 0.015628872),\n",
       " (17, -0.023121076),\n",
       " (18, -0.0047982233),\n",
       " (19, -0.08468032),\n",
       " (20, 0.009659279),\n",
       " (21, 0.012921481),\n",
       " (22, 0.019201009),\n",
       " (23, 0.0029068224),\n",
       " (24, -0.012400939),\n",
       " (25, 0.0122333905),\n",
       " (26, -0.03721091),\n",
       " (27, -0.0049819597),\n",
       " (28, -0.013095391),\n",
       " (29, -0.0024984798),\n",
       " (30, 0.04307269),\n",
       " (31, 0.0049841353),\n",
       " (32, 0.017557897),\n",
       " (33, -0.01794579),\n",
       " (34, 0.0065612467),\n",
       " (35, 0.018770838),\n",
       " (36, -0.0053170123),\n",
       " (37, -0.02592572),\n",
       " (38, -0.020000082),\n",
       " (39, -0.045825515),\n",
       " (40, 0.017003087),\n",
       " (41, -0.024482036),\n",
       " (42, -0.010573837),\n",
       " (43, -0.020138187),\n",
       " (44, 0.023646183),\n",
       " (45, -0.019953568),\n",
       " (46, -0.0069192303),\n",
       " (47, 0.005175066),\n",
       " (48, -0.0053581423),\n",
       " (49, 0.021534855),\n",
       " (50, 0.00059974554),\n",
       " (51, -0.012535558),\n",
       " (52, 0.0012270992),\n",
       " (53, 0.0007445235),\n",
       " (54, -0.03352257),\n",
       " (55, -0.004901918),\n",
       " (56, -0.0052781343),\n",
       " (57, -0.033048913),\n",
       " (58, -0.04039788),\n",
       " (59, 0.007362127),\n",
       " (60, 0.0052172183),\n",
       " (61, -0.0023805161),\n",
       " (62, 0.006185507),\n",
       " (63, -0.00668619),\n",
       " (64, -0.05889923),\n",
       " (65, 0.038261205),\n",
       " (66, -0.004820567),\n",
       " (67, -0.010620387),\n",
       " (68, -0.040816814),\n",
       " (69, 0.020257397),\n",
       " (70, -0.023583515),\n",
       " (71, 0.022229955),\n",
       " (72, 0.040767845),\n",
       " (73, -0.008362427),\n",
       " (74, 0.026203576),\n",
       " (75, 0.020611601),\n",
       " (76, 0.019045524),\n",
       " (77, 0.006639878),\n",
       " (78, -0.017699331),\n",
       " (79, 0.024344632),\n",
       " (80, -0.003946827),\n",
       " (81, 0.0054815975),\n",
       " (82, -0.013191541),\n",
       " (83, 0.03095275),\n",
       " (84, -0.004117106),\n",
       " (85, 0.0035377468),\n",
       " (86, -0.004841828),\n",
       " (87, 0.021918818),\n",
       " (88, 0.028144274),\n",
       " (89, 0.022391293),\n",
       " (90, 0.03247136),\n",
       " (91, 0.020761894),\n",
       " (92, -0.03710314),\n",
       " (93, 0.015583903),\n",
       " (94, 0.03997842),\n",
       " (95, 0.018794177),\n",
       " (96, -0.0049425378),\n",
       " (97, -0.037905842),\n",
       " (98, 0.018765822),\n",
       " (99, -0.0031880531)]"
      ]
     },
     "execution_count": 94,
     "metadata": {},
     "output_type": "execute_result"
    }
   ],
   "source": [
    "# TODO: Implement this! (10 points)\n",
    "class D2VRetrievalModel(VectorSpaceRetrievalModel):\n",
    "    def __init__(self, doc_repr):\n",
    "        super().__init__(doc_repr)\n",
    "        \n",
    "        self.vector_size= 100\n",
    "        self.min_count = 1\n",
    "        self.epochs = 20\n",
    "        self.tagged_docs = [TaggedDocument(doc, [doc_id]) for (doc_id, doc) in self.doc_repr]\n",
    "        \n",
    "    def train_model(self):\n",
    "        # YOUR CODE HERE\n",
    "        self.model = Doc2Vec(self.tagged_docs)\n",
    "    \n",
    "    def vectorize_documents(self):\n",
    "        \"\"\"\n",
    "            Returns a doc_id -> vector dictionary\n",
    "        \"\"\"\n",
    "        id2vec = {}\n",
    "        for (doc_id, doc) in self.doc_repr:\n",
    "            v = self.model.infer_vector(doc)\n",
    "            id2vec[doc_id] = [(i, v[i]) for i in range(self.vector_size)]\n",
    "        return id2vec\n",
    "\n",
    "    def vectorize_query(self, query):\n",
    "        query = process_text(query, **config_2)        \n",
    "        v = self.model.infer_vector(query)\n",
    "        return [(i, v[i]) for i in range(self.vector_size)]\n",
    "        \n",
    "d2v = D2VRetrievalModel(doc_repr_2)\n",
    "d2v.train_model()\n",
    "\n",
    "\n",
    "# # you can now get an LSI vector for a given query in the following way:\n",
    "d2v.vectorize_query(\"report\")"
   ]
  },
  {
   "cell_type": "code",
   "execution_count": 95,
   "metadata": {},
   "outputs": [
    {
     "data": {
      "application/vnd.jupyter.widget-view+json": {
       "model_id": "5481a819a62f43c29365530a43d12502",
       "version_major": 2,
       "version_minor": 0
      },
      "text/plain": [
       "Text(value='', description='Search Bar')"
      ]
     },
     "metadata": {},
     "output_type": "display_data"
    }
   ],
   "source": [
    "drm_d2v = DenseRetrievalRanker(d2v, cosine_sim)\n",
    "\n",
    "# test your LDA model\n",
    "search_fn = drm_d2v.search\n",
    "len(qrels.keys())\n",
    "text = widgets.Text(description=\"Search Bar\", width=200)\n",
    "display(text)\n",
    "\n",
    "\n",
    "text.on_submit(handle_submit_2)"
   ]
  },
  {
   "cell_type": "markdown",
   "metadata": {
    "deletable": false,
    "editable": false,
    "nbgrader": {
     "cell_type": "markdown",
     "checksum": "363ec36c1d03d9f9e1c2045a6e193c14",
     "grade": false,
     "grade_id": "cell-3529ae29eece7b97",
     "locked": true,
     "schema_version": 3,
     "solution": false,
     "task": false
    }
   },
   "source": [
    "---\n",
    "## Section 9: Re-ranking (10 points) <a class=\"anchor\" id=\"reranking\"></a>\n",
    "\n",
    "[Back to Part 2](#part2)\n",
    "\n",
    "To motivate the re-ranking perspective (i.e retrieve with lexical method + rerank with a semantic method), let's search using semantic methods and compare it to BM25's performance, along with their runtime:\n"
   ]
  },
  {
   "cell_type": "code",
   "execution_count": 96,
   "metadata": {
    "deletable": false,
    "editable": false,
    "nbgrader": {
     "cell_type": "code",
     "checksum": "5755f70e3eb28abc65d14d80125338af",
     "grade": false,
     "grade_id": "cell-f8f43bf5ae383128",
     "locked": true,
     "schema_version": 3,
     "solution": false,
     "task": false
    }
   },
   "outputs": [
    {
     "name": "stdout",
     "output_type": "stream",
     "text": [
      "BM25: \n",
      "4.23 ms ± 195 µs per loop (mean ± std. dev. of 7 runs, 100 loops each)\n",
      "LSI: \n",
      "568 ms ± 85.4 ms per loop (mean ± std. dev. of 7 runs, 1 loop each)\n",
      "LDA: \n",
      "2.89 s ± 117 ms per loop (mean ± std. dev. of 7 runs, 1 loop each)\n",
      "W2V: \n",
      "642 ms ± 80.6 ms per loop (mean ± std. dev. of 7 runs, 1 loop each)\n",
      "W2V(Pretrained): \n",
      "1.69 s ± 313 ms per loop (mean ± std. dev. of 7 runs, 1 loop each)\n",
      "D2V:\n",
      "2.42 s ± 191 ms per loop (mean ± std. dev. of 7 runs, 1 loop each)\n"
     ]
    }
   ],
   "source": [
    "query = \"algebraic functions\"\n",
    "print(\"BM25: \")\n",
    "%timeit bm25_search(query, 2)\n",
    "print(\"LSI: \")\n",
    "%timeit drm_lsi.search(query)\n",
    "print(\"LDA: \")\n",
    "%timeit drm_lda.search(query)\n",
    "print(\"W2V: \")\n",
    "%timeit drm_w2v.search(query)\n",
    "print(\"W2V(Pretrained): \")\n",
    "%timeit drm_w2v_pretrained.search(query)\n",
    "print(\"D2V:\")\n",
    "%timeit drm_d2v.search(query)"
   ]
  },
  {
   "cell_type": "markdown",
   "metadata": {
    "deletable": false,
    "editable": false,
    "nbgrader": {
     "cell_type": "markdown",
     "checksum": "ae398da0a8c23c95bcbb0023b7ec6f34",
     "grade": false,
     "grade_id": "cell-db5ff09f97841af7",
     "locked": true,
     "schema_version": 3,
     "solution": false,
     "task": false
    }
   },
   "source": [
    "---\n",
    "\n",
    "**Implementation (10 points):**\n",
    "Re-ranking involves retrieving a small set of documents using simple but fast methods like BM25 and then re-ranking them with the aid of semantic methods such as LDA or LSI. Implement the following class, which takes in an `initial_retrieval_fn` - the initial retrieval function and `vsrm` - an instance of the `VectorSpaceRetrievalModel` class (i.e LSI/LDA) as input. The search function should first retrieve an initial list of K documents, and then these documents are re-ranked using a semantic method. This not only makes retrieval faster, but semantic methods perform poorly when used in isolation, as you will find out."
   ]
  },
  {
   "cell_type": "code",
   "execution_count": 97,
   "metadata": {
    "deletable": false,
    "nbgrader": {
     "cell_type": "code",
     "checksum": "63b6b05a676a2ae3f08d8bed1bc59428",
     "grade": false,
     "grade_id": "cell-5bf47600d1a0c507",
     "locked": false,
     "schema_version": 3,
     "solution": true,
     "task": false
    }
   },
   "outputs": [],
   "source": [
    "# TODO: Implement this! (10 points)\n",
    "class DenseRerankingModel:\n",
    "    def __init__(self, initial_retrieval_fn, vsrm, similarity_fn):\n",
    "        \"\"\"\n",
    "            initial_retrieval_fn: takes in a query and returns a list of [(doc_id, score)] (sorted)\n",
    "            vsrm: instance of `VectorSpaceRetrievalModel`\n",
    "            similarity_fn: function instance that takes in two vectors \n",
    "                            and returns a similarity score e.g cosine_sim defined earlier\n",
    "        \"\"\"\n",
    "        self.ret = initial_retrieval_fn\n",
    "        self.vsrm = vsrm\n",
    "        self.similarity_fn = similarity_fn\n",
    "        self.vectorized_documents = vsrm.vectorize_documents()\n",
    "        \n",
    "        assert len(self.vectorized_documents) == len(doc_repr_2)\n",
    "    \n",
    "    def search(self, query, K=50):\n",
    "        \"\"\"\n",
    "            First, retrieve the top K results using the retrieval function\n",
    "            Then, re-rank the results using the VSRM instance\n",
    "        \"\"\"\n",
    "        top_k = self.ret(query)[0:K]\n",
    "        scores = []\n",
    "        query = self.vsrm.vectorize_query(query)\n",
    "        for (doc_id, _) in top_k:\n",
    "            scores.append((doc_id, self.similarity_fn(query, self.vectorized_documents[doc_id])))\n",
    "        scores.sort(key=lambda _:-_[1])\n",
    "        return scores"
   ]
  },
  {
   "cell_type": "code",
   "execution_count": 98,
   "metadata": {
    "deletable": false,
    "editable": false,
    "nbgrader": {
     "cell_type": "code",
     "checksum": "334ab5af96976265cace682ab82a7387",
     "grade": true,
     "grade_id": "cell-52c6d18a4c0b4882",
     "locked": true,
     "points": 0,
     "schema_version": 3,
     "solution": false,
     "task": false
    }
   },
   "outputs": [],
   "source": [
    "##### Function check\n",
    "bm25_search_2 = partial(bm25_search, index_set=2)\n",
    "lsi_rerank = DenseRerankingModel(bm25_search_2, lsi, cosine_sim)\n",
    "lda_rerank = DenseRerankingModel(bm25_search_2, lda, jenson_shannon_sim)\n",
    "w2v_rerank = DenseRerankingModel(bm25_search_2, w2v, cosine_sim)\n",
    "w2v_pretrained_rerank = DenseRerankingModel(bm25_search_2, w2v_pretrained, cosine_sim)\n",
    "d2v_rerank = DenseRerankingModel(bm25_search_2, d2v, cosine_sim)\n",
    "\n",
    "##### "
   ]
  },
  {
   "cell_type": "markdown",
   "metadata": {
    "deletable": false,
    "editable": false,
    "nbgrader": {
     "cell_type": "markdown",
     "checksum": "bd904253f45f84e63bab3a69729058fc",
     "grade": false,
     "grade_id": "cell-93215dfe6bcf7cff",
     "locked": true,
     "points": 10,
     "schema_version": 3,
     "solution": false,
     "task": true
    }
   },
   "source": [
    "\\#### Please do not change this. This cell is used for grading."
   ]
  },
  {
   "cell_type": "markdown",
   "metadata": {
    "deletable": false,
    "editable": false,
    "nbgrader": {
     "cell_type": "markdown",
     "checksum": "b592e60292bfe3d9ef2930a354c4077a",
     "grade": false,
     "grade_id": "cell-aa694ff55fa91e7d",
     "locked": true,
     "schema_version": 3,
     "solution": false,
     "task": false
    }
   },
   "source": [
    "---\n",
    "Now, let us time the new search functions:"
   ]
  },
  {
   "cell_type": "code",
   "execution_count": 99,
   "metadata": {
    "deletable": false,
    "editable": false,
    "nbgrader": {
     "cell_type": "code",
     "checksum": "338c7e3528cba266a865a061287c0e38",
     "grade": false,
     "grade_id": "cell-5edbd481562ad91f",
     "locked": true,
     "schema_version": 3,
     "solution": false,
     "task": false
    }
   },
   "outputs": [
    {
     "name": "stdout",
     "output_type": "stream",
     "text": [
      "BM25: \n",
      "4.33 ms ± 115 µs per loop (mean ± std. dev. of 7 runs, 100 loops each)\n",
      "LSI: \n",
      "14.3 ms ± 1 ms per loop (mean ± std. dev. of 7 runs, 100 loops each)\n",
      "LDA: \n",
      "44.4 ms ± 4.52 ms per loop (mean ± std. dev. of 7 runs, 10 loops each)\n",
      "W2V: \n",
      "12.8 ms ± 1.3 ms per loop (mean ± std. dev. of 7 runs, 100 loops each)\n",
      "W2V(Pretrained): \n",
      "32 ms ± 7.12 ms per loop (mean ± std. dev. of 7 runs, 10 loops each)\n",
      "D2V:\n",
      "39.8 ms ± 4.94 ms per loop (mean ± std. dev. of 7 runs, 10 loops each)\n"
     ]
    }
   ],
   "source": [
    "query = \"algebraic functions\"\n",
    "print(\"BM25: \")\n",
    "%timeit bm25_search(query, 2)\n",
    "print(\"LSI: \")\n",
    "%timeit lsi_rerank.search(query)\n",
    "print(\"LDA: \")\n",
    "%timeit lda_rerank.search(query)\n",
    "print(\"W2V: \")\n",
    "%timeit w2v_rerank.search(query)\n",
    "print(\"W2V(Pretrained): \")\n",
    "%timeit w2v_pretrained_rerank.search(query)\n",
    "print(\"D2V:\")\n",
    "%timeit d2v_rerank.search(query)"
   ]
  },
  {
   "cell_type": "code",
   "execution_count": 100,
   "metadata": {},
   "outputs": [
    {
     "name": "stdout",
     "output_type": "stream",
     "text": [
      "[('295', 0.9426483824806022), ('1394', 0.9248599216818519), ('284', 0.9234300299227548), ('55', 0.9082853743383638), ('21', 0.8698980785496083), ('2166', 0.862324309833521), ('1397', 0.8448092125971726), ('393', 0.8422854874978276), ('2190', 0.841054251646161), ('95', 0.8338424837311973), ('1216', 0.8325428212413987), ('3199', 0.8317914249598857), ('44', 0.8170995639323249), ('2167', 0.8045874502400856), ('2323', 0.7992130134740638), ('1214', 0.7912380722079989), ('1183', 0.7827581128512443), ('2165', 0.7815519421522202), ('964', 0.7812076703294822), ('1391', 0.7704534604309871), ('2802', 0.7586039746139743), ('1403', 0.7560044266357413), ('54', 0.7548388218588588), ('2164', 0.7455707695331302), ('3189', 0.7330214247379165), ('1373', 0.7018280676691372), ('1453', 0.6979887345156912), ('1334', 0.686955793018645), ('3077', 0.6738065007009127), ('2609', 0.6686294414663543), ('3031', 0.655188046153228), ('1253', 0.6502474808118441), ('1029', 0.6405361766629161), ('3202', 0.624857046888546), ('2143', 0.619046124807438), ('2958', 0.6179746212515022), ('2340', 0.616920349515231), ('3078', 0.5786243347552247), ('99', 0.5714854131340883), ('93', 0.562750336006122), ('3203', 0.540090891762414), ('1', 0.5278420537686666), ('1975', 0.5138318110060469), ('2366', 0.4991735967966589), ('905', 0.4989494377246183), ('2160', 0.46749007766607564), ('2716', 0.4654847018861833), ('1962', 0.30248435827888565), ('769', 0.24007670415624635), ('2090', -0.039021534589720575)]\n"
     ]
    }
   ],
   "source": [
    "print(d2v_rerank.search(query))"
   ]
  },
  {
   "cell_type": "markdown",
   "metadata": {
    "deletable": false,
    "editable": false,
    "nbgrader": {
     "cell_type": "markdown",
     "checksum": "c45c5e3f015b2de89d9d39ae3766368b",
     "grade": false,
     "grade_id": "cell-85c50f2ab9eec301",
     "locked": true,
     "schema_version": 3,
     "solution": false,
     "task": false
    }
   },
   "source": [
    "---\n",
    "As you can see, it is much faster (but BM25 is still orders of magnitude faster)."
   ]
  },
  {
   "cell_type": "markdown",
   "metadata": {
    "deletable": false,
    "editable": false,
    "nbgrader": {
     "cell_type": "markdown",
     "checksum": "1e2f3388e3807659f303fe31a75a010e",
     "grade": false,
     "grade_id": "cell-5071bb99b2af61cb",
     "locked": true,
     "schema_version": 3,
     "solution": false,
     "task": false
    }
   },
   "source": [
    "---\n",
    "## Section 10: Evaluation & Analysis (30 points) <a class=\"anchor\" id=\"reranking_eval\"></a>\n",
    "\n",
    "[Back to Part 2](#part2)\n",
    "\n",
    "[Previously](#evaluation) we have implemented some evaluation metrics and used them for measuring the ranking performance of term-based IR algorithms. In this section, we will do the same for semantic methods, both with and without re-ranking.\n",
    "\n",
    "### Section 10.1: Plot (10 points)\n",
    "\n",
    "First, gather the results. The results should consider the index set, the different search functions and different metrics. Plot the results in bar charts, per metric, with clear labels.\n",
    "\n",
    "Then, gather only the re-ranking models, and plot and compare them with the results obtained in part 1 (only index set 2)."
   ]
  },
  {
   "cell_type": "code",
   "execution_count": 101,
   "metadata": {
    "deletable": false,
    "editable": false,
    "nbgrader": {
     "cell_type": "code",
     "checksum": "4fe81520ac6413a803838913fd64de03",
     "grade": false,
     "grade_id": "cell-b672fe6dfae0b1ce",
     "locked": true,
     "schema_version": 3,
     "solution": false,
     "task": false
    }
   },
   "outputs": [],
   "source": [
    "list_of_sem_search_fns = [\n",
    "    (\"lda\", drm_lda.search),\n",
    "    (\"lsi\", drm_lsi.search),\n",
    "    (\"w2v\", drm_w2v.search),\n",
    "    (\"w2v_pretrained\", drm_w2v_pretrained.search),\n",
    "    (\"d2v\", drm_d2v.search),\n",
    "    (\"lsi_rr\", lsi_rerank.search),\n",
    "    (\"lda_rr\", lda_rerank.search),\n",
    "    (\"w2v_rr\", w2v_rerank.search),\n",
    "    (\"w2v_pretrained_rr\", w2v_pretrained_rerank.search),\n",
    "    (\"d2v_rr\", d2v_rerank.search),\n",
    "    \n",
    "]"
   ]
  },
  {
   "cell_type": "code",
   "execution_count": 102,
   "metadata": {
    "deletable": false,
    "nbgrader": {
     "cell_type": "code",
     "checksum": "54707c4afac084299aeefa047259b4a9",
     "grade": true,
     "grade_id": "cell-7dd8273b0f5a3c22",
     "locked": false,
     "points": 10,
     "schema_version": 3,
     "solution": true,
     "task": false
    }
   },
   "outputs": [
    {
     "data": {
      "image/png": "[encoded data removed]",
      "text/plain": [
       "<Figure size 864x432 with 1 Axes>"
      ]
     },
     "metadata": {
      "needs_background": "light"
     },
     "output_type": "display_data"
    },
    {
     "data": {
      "image/png": "[encoded data removed]",
      "text/plain": [
       "<Figure size 864x432 with 1 Axes>"
      ]
     },
     "metadata": {
      "needs_background": "light"
     },
     "output_type": "display_data"
    }
   ],
   "source": [
    "plot_results([s for s in list_of_sem_search_fns if \"rr\" not in s[0]],\n",
    "             \"Evaluation of Semantic-Based Matching Models Using Various Metrics\", False)\n",
    "\n",
    "plot_results([s for s in list_of_sem_search_fns if \"rr\" in s[0]],\n",
    "             \"Evaluation of BM25 Search With Semantic-Based Matching Models for Re-Ranking\", False)"
   ]
  },
  {
   "cell_type": "markdown",
   "metadata": {
    "deletable": false,
    "editable": false,
    "nbgrader": {
     "cell_type": "markdown",
     "checksum": "a8a3b6189bdde66704c694d85e38d049",
     "grade": false,
     "grade_id": "cell-deb2ef3daa306e82",
     "locked": true,
     "schema_version": 3,
     "solution": false,
     "task": false
    }
   },
   "source": [
    "### Section 10.2: Summary (20 points)\n",
    "\n",
    "Your summary should compare methods from Part 1 and Part 2 (only for index set 2). State what you expected to see in the results, followed by either supporting evidence *or* justify why the results did not support your expectations. Consider the availability of data, scalability, domain/type of data, etc."
   ]
  },
  {
   "cell_type": "markdown",
   "metadata": {
    "deletable": false,
    "nbgrader": {
     "cell_type": "markdown",
     "checksum": "ff97c43837d10bff6aaffa75e1492887",
     "grade": true,
     "grade_id": "cell-ec5dd7d9cf59dd86",
     "locked": false,
     "points": 20,
     "schema_version": 3,
     "solution": true,
     "task": false
    }
   },
   "source": [
    "In this summary, we first compare the results of the plain semantic-based matching models (SBMMs) to each other. Then, we compare the results of the BM25 search function, reranked by the semantic-based matching models.\n",
    "\n",
    "We observe that the pre-trained Word2Vec model performs significantly better than all the other models. This may be due to the large amount of data that this model is trained on. The trained Word2Vec model, trained on our tiny dataset, is the poorest performer of all SBMMs. The disparity between the pretrained Word2Vec and the trained Word2Vec demonstrates the importance of good word embeddings. The LSI and LDA models perform similarly, while the Doc2Vec model performs slightly worse.\n",
    "\n",
    "The results when using the SBMMs for reranking were surprising. We expected to see that the performance of using BM25 and then reranking using a good SBMM would improve performance on a vanilla BM25 search. However, reranking harmed performance in every case. We believe this may be due to the difference in granularity in the BM25 search vs the SBMMs used. BM25 search operates at the word level, while SBMMs operate at the document level. Therefore, for an SBMM to improve performance on a vanilla BM25 search, it needs to be trained on a large amount of data to be expressive enough to represent an entire document or query accurately.\n",
    "\n",
    "Admittedly, the pre-trained Word2Vec model is trained on a large amount of data. However, we used a relatively simple aggregation method of averaging each word in a document/query. Therefore, we are trying to match the \"average word\" in a query to the \"average word\" in a document. This method is vulnerable to words significantly different from the rest of the words in a sentence and can therefore return incorrect results. To improve the results using a pre-trained Word2Vec model, it would be interesting to investigate a more sophisticated aggregation function in future."
   ]
  }
 ],
 "metadata": {
  "kernelspec": {
   "display_name": "Python 3 (ipykernel)",
   "language": "python",
   "name": "python3"
  },
  "language_info": {
   "codemirror_mode": {
    "name": "ipython",
    "version": 3
   },
   "file_extension": ".py",
   "mimetype": "text/x-python",
   "name": "python",
   "nbconvert_exporter": "python",
   "pygments_lexer": "ipython3",
   "version": "3.8.10"
  },
  "toc": {
   "base_numbering": 1,
   "nav_menu": {},
   "number_sections": true,
   "sideBar": true,
   "skip_h1_title": false,
   "title_cell": "Table of Contents",
   "title_sidebar": "Contents",
   "toc_cell": false,
   "toc_position": {},
   "toc_section_display": true,
   "toc_window_display": false
  }
 },
 "nbformat": 4,
 "nbformat_minor": 4
}
