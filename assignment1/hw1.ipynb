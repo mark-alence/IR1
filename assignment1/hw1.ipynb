{
 "cells": [
  {
   "cell_type": "markdown",
   "metadata": {
    "deletable": false,
    "editable": false,
    "nbgrader": {
     "cell_type": "markdown",
     "checksum": "1bba455de8bc2825ca70469169bbadaa",
     "grade": false,
     "grade_id": "cell-c9cd9e550239e812",
     "locked": true,
     "schema_version": 3,
     "solution": false,
     "task": false
    }
   },
   "source": [
    "# Homework 1 (Total Points: 250) <a class=\"anchor\" id=\"top\"></a>\n",
    "\n",
    "\n",
    "**Submission instructions**:\n",
    "- The cells with the `# YOUR CODE HERE` denote that these sections are graded and you need to add your implementation.\n",
    "- For Part 1: You can use the `nltk`, `NumPy`, and `matplotlib` libraries here. Other libraries, e.g., `gensim` or `scikit-learn`, may not be used. For Part 2: `gensim` is allowed in addition to the imported libraries in the next code cell\n",
    "- Please use Python 3.6.5 and `pip install -r requirements.txt` to avoid version issues.\n",
    "- The notebook you submit has to have the student ids, separated by underscores (E.g., `12341234_12341234_12341234_hw1.ipynb`).\n",
    "- This will be parsed by a regexp, **so please double check your filename**.\n",
    "- Only one member of each group has to submit the file (**please do not compress the .ipynb file when you will submit it**) to canvas.\n",
    "- **Make sure to check that your notebook runs before submission**. A quick way to do this is to restart the kernel and run all the cells.  \n",
    "- Do not change the number of arugments in the given functions.\n",
    "- **Please do not delete/add new cells**. Removing cells **will** lead to grade deduction. \n",
    "- Note, that you are not allowed to use Google Colab.\n",
    "\n",
    "\n",
    "**Learning Goals**:\n",
    "- [Part 1, Term-based matching](#part1) (165 points):\n",
    "    - Learn how to load a dataset and process it.\n",
    "    - Learn how to implement several standard IR methods (TF-IDF, BM25, QL) and understand their weaknesses & strengths.\n",
    "    - Learn how to evaluate IR methods.\n",
    "- [Part 2, Semantic-based matching](#part2) (85 points):\n",
    "    - Learn how to implement vector-space retrieval methods (LSI, LDA).\n",
    "    - Learn how to use LSI and LDA for re-ranking.\n",
    "\n",
    "    \n",
    "**Resources**: \n",
    "- **Part 1**: Sections 2.3, 4.1, 4.2, 4.3, 5.3, 5.6, 5.7, 6.2, 7, 8 of [Search Engines: Information Retrieval in Practice](https://ciir.cs.umass.edu/downloads/SEIRiP.pdf)\n",
    "- **Part 2**: [LSI - Chapter 18](https://nlp.stanford.edu/IR-book/pdf/18lsi.pdf) from [Introduction to Information Retrieval](https://nlp.stanford.edu/IR-book/) book and the [original LDA paper](https://jmlr.org/papers/volume3/blei03a/blei03a.pdf)"
   ]
  },
  {
   "cell_type": "code",
   "execution_count": 1,
   "metadata": {
    "deletable": false,
    "editable": false,
    "nbgrader": {
     "cell_type": "code",
     "checksum": "c55bfe94ff1f564dd595547e516c4c6e",
     "grade": false,
     "grade_id": "cell-f5357fabdb9660e3",
     "locked": true,
     "schema_version": 3,
     "solution": false,
     "task": false
    }
   },
   "outputs": [],
   "source": [
    "# imports \n",
    "# TODO: Ensure that no additional library is imported in the notebook. \n",
    "# TODO: Only the standard library and the following libraries are allowed:\n",
    "# TODO: You can also use unlisted classes from these libraries or standard libraries (such as defaultdict, Counter, ...).\n",
    "\n",
    "import os\n",
    "import zipfile\n",
    "from functools import partial\n",
    "\n",
    "import nltk\n",
    "import requests\n",
    "import numpy as np\n",
    "from tqdm import tqdm\n",
    "\n",
    "import matplotlib.pyplot as plt\n",
    "from matplotlib.pyplot import cm\n",
    "\n",
    "from ipywidgets import widgets\n",
    "from IPython.display import display, HTML\n",
    "#from IPython.html import widgets\n",
    "from collections import namedtuple\n",
    "\n",
    "%matplotlib inline"
   ]
  },
  {
   "cell_type": "markdown",
   "metadata": {
    "deletable": false,
    "editable": false,
    "nbgrader": {
     "cell_type": "markdown",
     "checksum": "c8328f758ca5b69f76eee03dbbdd4715",
     "grade": false,
     "grade_id": "cell-7428e12ed184408b",
     "locked": true,
     "schema_version": 3,
     "solution": false,
     "task": false
    }
   },
   "source": [
    "\n",
    "# Part 1: Term-based Matching (165 points) <a class=\"anchor\" id=\"part1\"></a>\n",
    "\n",
    "[Back to top](#top)\n",
    "\n",
    "In the first part, we will learn the basics of IR from loading and preprocessing the material, to implementing some well known search algorithms, to evaluating the ranking performance of the implemented algorithms. We will be using the CACM dataset throughout the assignment. The CACM dataset is a collection of titles and abstracts from the journal CACM (Communication of the ACM).\n",
    "\n",
    "Table of contents:\n",
    "- [Section 1: Text Processing](#text_processing) (5 points)\n",
    "- [Section 2: Indexing](#indexing) (10 points)\n",
    "- [Section 3: Ranking](#ranking) (80 points)\n",
    "- [Section 4: Evaluation](#evaluation) (40 points)\n",
    "- [Section 5: Analysis](#analysis) (30 points)\n"
   ]
  },
  {
   "cell_type": "markdown",
   "metadata": {
    "deletable": false,
    "editable": false,
    "nbgrader": {
     "cell_type": "markdown",
     "checksum": "4e3f938065183dc743aa8254b96b4f5e",
     "grade": false,
     "grade_id": "cell-4b24825cf4ae55ec",
     "locked": true,
     "schema_version": 3,
     "solution": false,
     "task": false
    }
   },
   "source": [
    "---\n",
    "## Section 1: Text Processing (5 points)<a class=\"anchor\" id=\"text_processing\"></a>\n",
    "\n",
    "[Back to Part 1](#part1)\n",
    "\n",
    "In this section, we will load the dataset and learn how to clean up the data to make it usable for an IR system. \n",
    "First, go through the implementation of the following functions:\n",
    "- `read_cacm_docs`: Reads in the CACM documents.\n",
    "- `read_queries`: Reads in the CACM queries.\n",
    "- `load_stopwords`: Loads the stopwords.\n",
    "\n",
    "The points of this section are earned for the following implementations:\n",
    "- `tokenize` (3 points): Tokenizes the input text.\n",
    "- `stem_token` (2 points): Stems the given token. \n",
    "\n",
    "We are using the [CACM dataset](http://ir.dcs.gla.ac.uk/resources/test_collections/cacm/), which is a small, classic IR dataset, composed of a collection of titles and abstracts from the journal CACM. It comes with relevance judgements for queries, so we can evaluate our IR system. \n"
   ]
  },
  {
   "cell_type": "markdown",
   "metadata": {
    "deletable": false,
    "editable": false,
    "nbgrader": {
     "cell_type": "markdown",
     "checksum": "0155d897c7016389d73d160921947a6f",
     "grade": false,
     "grade_id": "cell-45651364e7af6d5a",
     "locked": true,
     "schema_version": 3,
     "solution": false,
     "task": false
    }
   },
   "source": [
    "---\n",
    "### 1.1 Read the CACM documents\n",
    "\n",
    "\n",
    "The following cell downloads the dataset and unzips it to a local directory."
   ]
  },
  {
   "cell_type": "code",
   "execution_count": 2,
   "metadata": {
    "deletable": false,
    "editable": false,
    "nbgrader": {
     "cell_type": "code",
     "checksum": "4d43c9ad6e77cc01ce4cef0c34824930",
     "grade": false,
     "grade_id": "cell-bbc3030bb3fe7e02",
     "locked": true,
     "schema_version": 3,
     "solution": false,
     "task": false
    }
   },
   "outputs": [],
   "source": [
    "def download_dataset():\n",
    "    folder_path = os.environ.get(\"IR1_DATA_PATH\")\n",
    "    if not folder_path:\n",
    "        folder_path = \"./datasets/\"\n",
    "    os.makedirs(folder_path, exist_ok=True)\n",
    "    \n",
    "    file_location = os.path.join(folder_path, \"cacm.zip\")\n",
    "    \n",
    "    # download file if it doesn't exist\n",
    "    if not os.path.exists(file_location):\n",
    "        \n",
    "        url = \"https://surfdrive.surf.nl/files/index.php/s/M0FGJpX2p8wDwxR/download\"\n",
    "\n",
    "        with open(file_location, \"wb\") as handle:\n",
    "            print(f\"Downloading file from {url} to {file_location}\")\n",
    "            response = requests.get(url, stream=True)\n",
    "            for data in tqdm(response.iter_content()):\n",
    "                handle.write(data)\n",
    "            print(\"Finished downloading file\")\n",
    "    \n",
    "    if not os.path.exists(os.path.join(folder_path, \"train.txt\")):\n",
    "        \n",
    "        # unzip file\n",
    "        with zipfile.ZipFile(file_location, 'r') as zip_ref:\n",
    "            zip_ref.extractall(folder_path)\n",
    "        \n",
    "download_dataset()"
   ]
  },
  {
   "cell_type": "markdown",
   "metadata": {
    "deletable": false,
    "editable": false,
    "nbgrader": {
     "cell_type": "markdown",
     "checksum": "31609b0d61d0c74cbd69bc43e47c23be",
     "grade": false,
     "grade_id": "cell-a7dd9a9bf98ede05",
     "locked": true,
     "schema_version": 3,
     "solution": false,
     "task": false
    }
   },
   "source": [
    "---\n",
    "\n",
    "You can see a brief description of each file in the dataset by looking at the README file:"
   ]
  },
  {
   "cell_type": "code",
   "execution_count": 3,
   "metadata": {
    "deletable": false,
    "editable": false,
    "nbgrader": {
     "cell_type": "code",
     "checksum": "cb3c9a2b8b2bf4fd5b7446b0c4c00f43",
     "grade": false,
     "grade_id": "cell-9b6ff1a17124711f",
     "locked": true,
     "schema_version": 3,
     "solution": false,
     "task": false
    }
   },
   "outputs": [
    {
     "name": "stdout",
     "output_type": "stream",
     "text": [
      "Files in this directory with sizes:\n",
      "          0 Jun 19 21:01 README\n",
      "\n",
      "    2187734 Jun 19 20:55 cacm.all              text of documents\n",
      "        626 Jun 19 20:58 cite.info             key to citation info\n",
      "                                                (the X sections in cacm.all)\n",
      "       2668 Jun 19 20:55 common_words           stop words used by smart\n",
      "       2194 Jun 19 20:55 make_coll*             shell script to make collection\n",
      "       1557 Jun 19 20:55 make_coll_term*        ditto (both useless without\n",
      "                                                smart system)\n",
      "       9948 Jun 19 20:55 qrels.text             relation giving\n",
      "                                                    qid did 0 0\n",
      "                                                to indicate dument did is\n",
      "                                                relevant to query qid\n",
      "      13689 Jun 19 20:55 query.text             Original text of the query\n",
      "\n"
     ]
    }
   ],
   "source": [
    "##### Read the README file \n",
    "with open (\"./datasets/README\",\"r\") as file:\n",
    "    readme = file.read()\n",
    "    print(readme)\n",
    "#####"
   ]
  },
  {
   "cell_type": "markdown",
   "metadata": {
    "deletable": false,
    "editable": false,
    "nbgrader": {
     "cell_type": "markdown",
     "checksum": "6e2712c4c4632bf7486a532f7f18074d",
     "grade": false,
     "grade_id": "cell-73351431869fda76",
     "locked": true,
     "schema_version": 3,
     "solution": false,
     "task": false
    }
   },
   "source": [
    "---\n",
    "We are interested in 4 files:\n",
    "- `cacm.all` : Contains the text for all documents. Note that some documents do not have abstracts available\n",
    "- `query.text` : The text of all queries\n",
    "- `qrels.text` : The relevance judgements\n",
    "- `common_words` : A list of common words. This may be used as a collection of stopwords"
   ]
  },
  {
   "cell_type": "code",
   "execution_count": 4,
   "metadata": {
    "deletable": false,
    "editable": false,
    "nbgrader": {
     "cell_type": "code",
     "checksum": "f1162c15177eb4ffe466531d03cff4a2",
     "grade": false,
     "grade_id": "cell-b44dd14079f278ca",
     "locked": true,
     "schema_version": 3,
     "solution": false,
     "task": false
    }
   },
   "outputs": [
    {
     "name": "stdout",
     "output_type": "stream",
     "text": [
      ".I 1\n",
      ".T\n",
      "Preliminary Report-International Algebraic Language\n",
      ".B\n",
      "CACM December, 1958\n",
      ".A\n",
      "Perlis, A. J.\n",
      "Samelson,K.\n",
      ".N\n",
      "CA581203 JB March 22, 1978  8:28 PM\n",
      ".X\n",
      "100\t5\t1\n",
      "123\t5\t1\n",
      "164\t5\t1\n",
      "1\t5\t1\n",
      "1\t5\t1\n",
      "1\t5\t1\n",
      "205\t5\t1\n",
      "210\t5\t1\n",
      "214\t5\t1\n",
      "1982\t5\t1\n",
      "398\t5\t1\n",
      "642\t5\t1\n",
      "669\t5\t1\n",
      "1\t6\t1\n",
      "1\t6\t1\n",
      "1\t6\t1\n",
      "1\t6\t1\n",
      "1\t6\t1\n",
      "1\t6\t1\n",
      "1\t6\t1\n",
      "1\t6\t1\n",
      "1\t6\t1\n",
      "1\t6\t1\n",
      "165\t6\t1\n",
      "196\t6\t1\n",
      "196\t6\t1\n",
      "1273\t6\t1\n",
      "1883\t6\t1\n",
      "324\t6\t1\n",
      "43\t6\t1\n",
      "53\t6\t1\n",
      "91\t6\t1\n",
      "410\t6\t1\n",
      "3184\t6\t1\n",
      "\n"
     ]
    }
   ],
   "source": [
    "##### The first 45 lines of the CACM dataset forms the first record\n",
    "# We are interested only in 3 fields. \n",
    "# 1. the '.I' field, which is the document id\n",
    "# 2. the '.T' field (the title) and\n",
    "# 3. the '.W' field (the abstract, which may be absent)\n",
    "with open (\"./datasets/cacm.all\",\"r\") as file:\n",
    "    cacm_all = \"\".join(file.readlines()[:45])\n",
    "    print(cacm_all)\n",
    "#####"
   ]
  },
  {
   "cell_type": "markdown",
   "metadata": {
    "deletable": false,
    "editable": false,
    "nbgrader": {
     "cell_type": "markdown",
     "checksum": "250b413baccd8efb186bb46a34ae0060",
     "grade": false,
     "grade_id": "cell-c4bf2e263ec553d8",
     "locked": true,
     "schema_version": 3,
     "solution": false,
     "task": false
    }
   },
   "source": [
    "---\n",
    "\n",
    "The following function reads the `cacm.all` file. Note that each document has a variable number of lines. The `.I` field denotes a new document:"
   ]
  },
  {
   "cell_type": "code",
   "execution_count": 5,
   "metadata": {
    "deletable": false,
    "editable": false,
    "nbgrader": {
     "cell_type": "code",
     "checksum": "57d757e6a7a6938740dc899022b4f291",
     "grade": false,
     "grade_id": "cell-b736116eb419c624",
     "locked": true,
     "schema_version": 3,
     "solution": false,
     "task": false
    }
   },
   "outputs": [],
   "source": [
    "def read_cacm_docs(root_folder = \"./datasets/\"):\n",
    "    \"\"\"\n",
    "        Reads in the CACM documents. The dataset is assumed to be in the folder \"./datasets/\" by default\n",
    "        Returns: A list of 2-tuples: (doc_id, document), where 'document' is a single string created by \n",
    "            appending the title and abstract (separated by a \"\\n\"). \n",
    "            In case the record doesn't have an abstract, the document is composed only by the title\n",
    "    \"\"\"\n",
    "    with open(os.path.join(root_folder, \"cacm.all\")) as reader:\n",
    "        lines = reader.readlines()\n",
    "    \n",
    "    doc_id, title, abstract = None, None, None\n",
    "    \n",
    "    docs = []\n",
    "    line_idx = 0\n",
    "    while line_idx < len(lines):\n",
    "        line = lines[line_idx]\n",
    "        if line.startswith(\".I\"):\n",
    "            if doc_id is not None:\n",
    "                docs.append((doc_id, title, abstract))\n",
    "                doc_id, title, abstract = None, None, None\n",
    "            \n",
    "            doc_id = line.split()[-1]\n",
    "            line_idx += 1\n",
    "        elif line.startswith(\".T\"):\n",
    "            # start at next line\n",
    "            line_idx += 1\n",
    "            temp_lines = []\n",
    "            # read till next '.'\n",
    "            while not lines[line_idx].startswith(\".\"):\n",
    "                temp_lines.append(lines[line_idx].strip(\"\\n\"))\n",
    "                line_idx += 1\n",
    "            title = \"\\n\".join(temp_lines).strip(\"\\n\")\n",
    "        elif line.startswith(\".W\"):\n",
    "            # start at next line\n",
    "            line_idx += 1\n",
    "            temp_lines = []\n",
    "            # read till next '.'\n",
    "            while not lines[line_idx].startswith(\".\"):\n",
    "                temp_lines.append(lines[line_idx].strip(\"\\n\"))\n",
    "                line_idx += 1\n",
    "            abstract = \"\\n\".join(temp_lines).strip(\"\\n\")\n",
    "        else:\n",
    "            line_idx += 1\n",
    "    \n",
    "    docs.append((doc_id, title, abstract))\n",
    "    \n",
    "    p_docs = []\n",
    "    for (did, t, a) in docs:\n",
    "        if a is None:\n",
    "            a = \"\"\n",
    "        p_docs.append((did, t + \"\\n\" + a))\n",
    "    return p_docs\n"
   ]
  },
  {
   "cell_type": "code",
   "execution_count": 6,
   "metadata": {
    "deletable": false,
    "editable": false,
    "nbgrader": {
     "cell_type": "code",
     "checksum": "2f81930fcd89670b6e20e2255e1f2369",
     "grade": false,
     "grade_id": "cell-a1c43818e0d3fd79",
     "locked": true,
     "schema_version": 3,
     "solution": false,
     "task": false
    }
   },
   "outputs": [],
   "source": [
    "##### Function check\n",
    "docs = read_cacm_docs()\n",
    "\n",
    "assert isinstance(docs, list)\n",
    "assert len(docs) == 3204, \"There should be exactly 3204 documents\"\n",
    "\n",
    "unzipped_docs = list(zip(*docs))\n",
    "assert np.sum(np.array(list(map(int,unzipped_docs[0])))) == 5134410\n",
    "\n",
    "##### "
   ]
  },
  {
   "cell_type": "markdown",
   "metadata": {
    "deletable": false,
    "editable": false,
    "nbgrader": {
     "cell_type": "markdown",
     "checksum": "25fd3cfaf2137c56002b850699b3c9d3",
     "grade": false,
     "grade_id": "cell-5ed2ddc91f73c60e",
     "locked": true,
     "schema_version": 3,
     "solution": false,
     "task": false
    }
   },
   "source": [
    "---\n",
    "### 1.2 Read the CACM queries\n",
    "\n",
    "Next, let us read the queries. They are formatted similarly:"
   ]
  },
  {
   "cell_type": "code",
   "execution_count": 7,
   "metadata": {
    "deletable": false,
    "editable": false,
    "nbgrader": {
     "cell_type": "code",
     "checksum": "5d26c0908e758acb9968b84056b1060a",
     "grade": false,
     "grade_id": "cell-5c7e8e7c4fc2757f",
     "locked": true,
     "schema_version": 3,
     "solution": false,
     "task": false
    }
   },
   "outputs": [
    {
     "name": "stdout",
     "output_type": "stream",
     "text": [
      ".I 1\r\n",
      ".W\r\n",
      " What articles exist which deal with TSS (Time Sharing System), an\r\n",
      "operating system for IBM computers?\r\n",
      ".N\r\n",
      " 1. Richard Alexander, Comp Serv, Langmuir Lab (TSS)\r\n",
      " \r\n",
      ".I 2\r\n",
      ".W\r\n",
      " I am interested in articles written either by Prieve or Udo Pooch\r\n",
      ".A\r\n",
      "Prieve, B.\r\n",
      "Pooch, U.\r\n",
      ".N\r\n",
      " 2. Richard Alexander, Comp Serv, Langmuir Lab (author = Pooch or Prieve)\r\n"
     ]
    }
   ],
   "source": [
    "##### The first 15 lines of 'query.text' has 2 queries\n",
    "# We are interested only in 2 fields. \n",
    "# 1. the '.I' - the query id\n",
    "# 2. the '.W' - the query\n",
    "!head -15 ./datasets/query.text\n",
    "#####"
   ]
  },
  {
   "cell_type": "markdown",
   "metadata": {
    "deletable": false,
    "editable": false,
    "nbgrader": {
     "cell_type": "markdown",
     "checksum": "8f19f311a660f30e3f86cb0f7037d54a",
     "grade": false,
     "grade_id": "cell-88e293507d2dcef6",
     "locked": true,
     "schema_version": 3,
     "solution": false,
     "task": false
    }
   },
   "source": [
    "---\n",
    "\n",
    "The following function reads the `query.text` file:"
   ]
  },
  {
   "cell_type": "code",
   "execution_count": 8,
   "metadata": {
    "deletable": false,
    "editable": false,
    "nbgrader": {
     "cell_type": "code",
     "checksum": "e3fbb193211007672849487f5cff1664",
     "grade": false,
     "grade_id": "cell-433e3ad5d0e2572a",
     "locked": true,
     "schema_version": 3,
     "solution": false,
     "task": false
    }
   },
   "outputs": [],
   "source": [
    "def read_queries(root_folder = \"./datasets/\"):\n",
    "    \"\"\"\n",
    "        Reads in the CACM queries. The dataset is assumed to be in the folder \"./datasets/\" by default\n",
    "        Returns: A list of 2-tuples: (query_id, query)\n",
    "    \"\"\"\n",
    "    with open(os.path.join(root_folder, \"query.text\")) as reader:\n",
    "        lines = reader.readlines()\n",
    "    \n",
    "    query_id, query = None, None\n",
    "    \n",
    "    queries = []\n",
    "    line_idx = 0\n",
    "    while line_idx < len(lines):\n",
    "        line = lines[line_idx]\n",
    "        if line.startswith(\".I\"):\n",
    "            if query_id is not None:\n",
    "                queries.append((query_id, query))\n",
    "                query_id, query = None, None\n",
    "    \n",
    "            query_id = line.split()[-1]\n",
    "            line_idx += 1\n",
    "        elif line.startswith(\".W\"):\n",
    "            # start at next line\n",
    "            line_idx += 1\n",
    "            temp_lines = []\n",
    "            # read till next '.'\n",
    "            while not lines[line_idx].startswith(\".\"):\n",
    "                temp_lines.append(lines[line_idx].strip(\"\\n\"))\n",
    "                line_idx += 1\n",
    "            query = \"\\n\".join(temp_lines).strip(\"\\n\")\n",
    "        else:\n",
    "            line_idx += 1\n",
    "    \n",
    "    queries.append((query_id, query))\n",
    "    return queries\n"
   ]
  },
  {
   "cell_type": "code",
   "execution_count": 9,
   "metadata": {
    "deletable": false,
    "editable": false,
    "nbgrader": {
     "cell_type": "code",
     "checksum": "a897b9771b54f447be3418d7246fc4a0",
     "grade": false,
     "grade_id": "cell-6ec540abce66c598",
     "locked": true,
     "schema_version": 3,
     "solution": false,
     "task": false
    }
   },
   "outputs": [],
   "source": [
    "##### Function check\n",
    "queries = read_queries()\n",
    "\n",
    "assert isinstance(queries, list)\n",
    "assert len(queries) == 64 and all([q[1] is not None for q in queries]), \"There should be exactly 64 queries\"\n",
    "\n",
    "unzipped_queries = list(zip(*queries))\n",
    "assert np.sum(np.array(list(map(int,unzipped_queries[0])))) == 2080\n",
    "\n",
    "##### "
   ]
  },
  {
   "cell_type": "markdown",
   "metadata": {
    "deletable": false,
    "editable": false,
    "nbgrader": {
     "cell_type": "markdown",
     "checksum": "a300c41912ac63b239070b4c15c9f5c5",
     "grade": false,
     "grade_id": "cell-1c31569491d7b782",
     "locked": true,
     "schema_version": 3,
     "solution": false,
     "task": false
    }
   },
   "source": [
    "---\n",
    "### 1.3 Read the stop words\n",
    "\n",
    "We use the common words stored in `common_words`:"
   ]
  },
  {
   "cell_type": "code",
   "execution_count": 10,
   "metadata": {
    "deletable": false,
    "editable": false,
    "nbgrader": {
     "cell_type": "code",
     "checksum": "1ad6f5bae6a792504c1c8513ae5751ad",
     "grade": false,
     "grade_id": "cell-34bdb63461418a96",
     "locked": true,
     "schema_version": 3,
     "solution": false,
     "task": false
    }
   },
   "outputs": [
    {
     "name": "stdout",
     "output_type": "stream",
     "text": [
      "a\r\n",
      "about\r\n",
      "above\r\n",
      "accordingly\r\n",
      "across\r\n",
      "after\r\n",
      "afterwards\r\n",
      "again\r\n",
      "against\r\n",
      "all\r\n"
     ]
    }
   ],
   "source": [
    "##### Read the stop words file \n",
    "!head ./datasets/common_words\n",
    "##### Read the README file "
   ]
  },
  {
   "cell_type": "markdown",
   "metadata": {
    "deletable": false,
    "editable": false,
    "nbgrader": {
     "cell_type": "markdown",
     "checksum": "6d0fe612e770213b6397c2179b07a966",
     "grade": false,
     "grade_id": "cell-4744bde0338895d8",
     "locked": true,
     "schema_version": 3,
     "solution": false,
     "task": false
    }
   },
   "source": [
    "---\n",
    "\n",
    "The following function reads the `common_words` file (For better coverage, we try to keep them in lowercase):"
   ]
  },
  {
   "cell_type": "code",
   "execution_count": 11,
   "metadata": {
    "deletable": false,
    "editable": false,
    "nbgrader": {
     "cell_type": "code",
     "checksum": "9409713fd26eb0c33587e190638997c4",
     "grade": false,
     "grade_id": "cell-7357aa40f64e5bcb",
     "locked": true,
     "schema_version": 3,
     "solution": false,
     "task": false
    }
   },
   "outputs": [],
   "source": [
    "def load_stopwords(root_folder = \"./datasets/\"):\n",
    "    \"\"\"\n",
    "        Loads the stopwords. The dataset is assumed to be in the folder \"./datasets/\" by default\n",
    "        Output: A set of stopwords\n",
    "    \"\"\"\n",
    "    with open(os.path.join(root_folder, \"common_words\")) as reader:\n",
    "        lines = reader.readlines()\n",
    "    stopwords = set([l.strip().lower() for l in lines])\n",
    "    return stopwords\n"
   ]
  },
  {
   "cell_type": "code",
   "execution_count": 12,
   "metadata": {
    "deletable": false,
    "editable": false,
    "nbgrader": {
     "cell_type": "code",
     "checksum": "f1c8153c3c38133bc2db6e7b076ad470",
     "grade": false,
     "grade_id": "cell-2ca3ac162004de97",
     "locked": true,
     "schema_version": 3,
     "solution": false,
     "task": false
    }
   },
   "outputs": [],
   "source": [
    "##### Function check\n",
    "stopwords = load_stopwords()\n",
    "\n",
    "assert isinstance(stopwords, set)\n",
    "assert len(stopwords) == 428, \"There should be exactly 428 stop words\"\n",
    "\n",
    "assert np.sum(np.array(list(map(len,stopwords)))) == 2234\n",
    "\n",
    "##### \n"
   ]
  },
  {
   "cell_type": "markdown",
   "metadata": {
    "deletable": false,
    "editable": false,
    "nbgrader": {
     "cell_type": "markdown",
     "checksum": "92c1191e9e7291dcf0d70dc67b907a65",
     "grade": false,
     "grade_id": "cell-134b72872f4300cb",
     "locked": true,
     "schema_version": 3,
     "solution": false,
     "task": false
    }
   },
   "source": [
    "---\n",
    "### 1.4 Tokenization (3 points)\n",
    "\n",
    "We can now write some basic text processing functions. \n",
    "A first step is to tokenize the text. \n",
    "\n",
    "**Note**: Use the  `WordPunctTokenizer` available in the `nltk` library:"
   ]
  },
  {
   "cell_type": "code",
   "execution_count": 13,
   "metadata": {
    "deletable": false,
    "nbgrader": {
     "cell_type": "code",
     "checksum": "3f5564d3c75bf22fbf832b3a9b938f37",
     "grade": false,
     "grade_id": "cell-322be4c9499bdc4b",
     "locked": false,
     "schema_version": 3,
     "solution": true,
     "task": false
    }
   },
   "outputs": [],
   "source": [
    "# TODO: Implement this! (4 points)\n",
    "def tokenize(text):\n",
    "    \"\"\"\n",
    "        Tokenizes the input text. Use the WordPunctTokenizer\n",
    "        Input: text - a string\n",
    "        Output: a list of tokens\n",
    "    \"\"\"\n",
    "    tk = nltk.tokenize.WordPunctTokenizer()\n",
    "    return tk.tokenize(text)"
   ]
  },
  {
   "cell_type": "code",
   "execution_count": 14,
   "metadata": {
    "deletable": false,
    "editable": false,
    "nbgrader": {
     "cell_type": "code",
     "checksum": "e15af22c4d8ae0a3f9dac43bef7097ec",
     "grade": true,
     "grade_id": "cell-7fbf48bf7541a622",
     "locked": true,
     "points": 3,
     "schema_version": 3,
     "solution": false,
     "task": false
    }
   },
   "outputs": [
    {
     "name": "stdout",
     "output_type": "stream",
     "text": [
      "['the', 'quick', 'brown', 'fox', 'jumps', 'over', 'the', 'lazy', 'dog']\n"
     ]
    }
   ],
   "source": [
    "##### Function check\n",
    "text = \"the quick brown fox jumps over the lazy dog\"\n",
    "tokens = tokenize(text)\n",
    "\n",
    "assert isinstance(tokens, list)\n",
    "assert len(tokens) == 9\n",
    "\n",
    "print(tokens)\n",
    "# output: ['the', 'quick', 'brown', 'fox', 'jumps', 'over', 'the', 'lazy', 'dog']\n",
    "#####"
   ]
  },
  {
   "cell_type": "markdown",
   "metadata": {
    "deletable": false,
    "editable": false,
    "nbgrader": {
     "cell_type": "markdown",
     "checksum": "34210618bff4cb47aad2f03cb4b9854c",
     "grade": false,
     "grade_id": "cell-fd1b98ae61b697ca",
     "locked": true,
     "schema_version": 3,
     "solution": false,
     "task": false
    }
   },
   "source": [
    "---\n",
    "### 1.5 Stemming (2 points)\n",
    "\n",
    "Write a function to stem tokens. \n",
    "Again, you can use the nltk library for this:"
   ]
  },
  {
   "cell_type": "code",
   "execution_count": 15,
   "metadata": {
    "deletable": false,
    "nbgrader": {
     "cell_type": "code",
     "checksum": "1c4a6aa979d66158c7b6b992af43293a",
     "grade": false,
     "grade_id": "cell-e3f6c8e3f874b28d",
     "locked": false,
     "schema_version": 3,
     "solution": true,
     "task": false
    }
   },
   "outputs": [],
   "source": [
    "# TODO: Implement this! (3 points)\n",
    "def stem_token(token):\n",
    "    \"\"\"\n",
    "        Stems the given token using the PorterStemmer from the nltk library\n",
    "        Input: a single token\n",
    "        Output: the stem of the token\n",
    "    \"\"\"\n",
    "    stemmer = nltk.stem.PorterStemmer()\n",
    "    return stemmer.stem(token)"
   ]
  },
  {
   "cell_type": "code",
   "execution_count": 16,
   "metadata": {
    "deletable": false,
    "editable": false,
    "nbgrader": {
     "cell_type": "code",
     "checksum": "9363b4f09b556d424d9c895d4ab57b1c",
     "grade": true,
     "grade_id": "cell-cd6863e6ee6ed205",
     "locked": true,
     "points": 2,
     "schema_version": 3,
     "solution": false,
     "task": false
    }
   },
   "outputs": [],
   "source": [
    "##### Function check\n",
    "\n",
    "assert stem_token('owned') == 'own'\n",
    "assert stem_token('itemization') == 'item'\n",
    "#####"
   ]
  },
  {
   "cell_type": "markdown",
   "metadata": {
    "deletable": false,
    "editable": false,
    "nbgrader": {
     "cell_type": "markdown",
     "checksum": "0b311d014146da6afa1d39542fab9869",
     "grade": false,
     "grade_id": "cell-47c9f90498699110",
     "locked": true,
     "schema_version": 3,
     "solution": false,
     "task": false
    }
   },
   "source": [
    "---\n",
    "### 1.6 Summary\n",
    "\n",
    "The following function puts it all together. Given an input string, this functions tokenizes and processes it according to the flags that you set."
   ]
  },
  {
   "cell_type": "code",
   "execution_count": 17,
   "metadata": {
    "deletable": false,
    "editable": false,
    "nbgrader": {
     "cell_type": "code",
     "checksum": "2ff2d215ee8e0039c5a91fd3de12e6bd",
     "grade": false,
     "grade_id": "cell-dd0d3f46b30801da",
     "locked": true,
     "schema_version": 3,
     "solution": false,
     "task": false
    }
   },
   "outputs": [],
   "source": [
    "#### Putting it all together\n",
    "def process_text(text, stem=False, remove_stopwords=False, lowercase_text=False):\n",
    "    \n",
    "    tokens = []\n",
    "    for token in tokenize(text):\n",
    "        if remove_stopwords and token.lower() in stopwords:\n",
    "            continue\n",
    "        if stem:\n",
    "            token = stem_token(token)\n",
    "        if lowercase_text:\n",
    "            token = token.lower()\n",
    "        tokens.append(token)\n",
    "\n",
    "    return tokens\n",
    "#### "
   ]
  },
  {
   "cell_type": "markdown",
   "metadata": {
    "deletable": false,
    "editable": false,
    "nbgrader": {
     "cell_type": "markdown",
     "checksum": "02d433b18eb43654fa4306a7bf55b190",
     "grade": false,
     "grade_id": "cell-8d885bfd2edd43ae",
     "locked": true,
     "schema_version": 3,
     "solution": false,
     "task": false
    }
   },
   "source": [
    "---\n",
    "\n",
    "Let's create two sets of preprocessed documents.\n",
    "We can process the documents and queries according to these two configurations:"
   ]
  },
  {
   "cell_type": "code",
   "execution_count": 18,
   "metadata": {
    "deletable": false,
    "editable": false,
    "nbgrader": {
     "cell_type": "code",
     "checksum": "dbe4ca667be6842fdcf512fbcad50c7f",
     "grade": false,
     "grade_id": "cell-d427365ee0fb21d8",
     "locked": true,
     "schema_version": 3,
     "solution": false,
     "task": false
    }
   },
   "outputs": [],
   "source": [
    "# In this configuration:\n",
    "# Don't preprocess the text, except to tokenize \n",
    "config_1 = {\n",
    "  \"stem\": False,\n",
    "  \"remove_stopwords\" : False,\n",
    "  \"lowercase_text\": True\n",
    "} \n",
    "\n",
    "\n",
    "# In this configuration:\n",
    "# Preprocess the text, stem and remove stopwords\n",
    "config_2 = {\n",
    "  \"stem\": True,\n",
    "  \"remove_stopwords\" : True,\n",
    "  \"lowercase_text\": True, \n",
    "} \n",
    "\n",
    "####\n",
    "doc_repr_1 = []\n",
    "doc_repr_2 = []\n",
    "for (doc_id, document) in docs:\n",
    "    doc_repr_1.append((doc_id, process_text(document, **config_1)))\n",
    "    doc_repr_2.append((doc_id, process_text(document, **config_2)))\n",
    "\n",
    "####"
   ]
  },
  {
   "cell_type": "markdown",
   "metadata": {
    "deletable": false,
    "editable": false,
    "nbgrader": {
     "cell_type": "markdown",
     "checksum": "b60589aac19e80941d860d9b3f1e9a16",
     "grade": false,
     "grade_id": "cell-b1c102db61ae7495",
     "locked": true,
     "schema_version": 3,
     "solution": false,
     "task": false
    }
   },
   "source": [
    "--- \n",
    "\n",
    "## Section 2: Indexing (10 points)<a class=\"anchor\" id=\"indexing\"></a>\n",
    "\n",
    "[Back to Part 1](#part1)\n",
    "\n",
    "\n",
    "\n",
    "A retrieval function usually takes in a query document pair, and scores a query against a document.  Our document set is quite small - just a few thousand documents. However, consider a web-scale dataset with a few million documents. In such a scenario, it would become infeasible to score every query and document pair. In such a case, we can build an inverted index. From Wikipedia:\n",
    "\n",
    "> ... , an inverted index (also referred to as a postings file or inverted file) is a database index storing a mapping from content, such as words or numbers, to its locations in a table, .... The purpose of an inverted index is to allow fast full-text searches, at a cost of increased processing when a document is added to the database. ...\n",
    "\n",
    "\n",
    "Consider a simple inverted index, which maps from word to document. This can improve the performance of a retrieval system significantly. In this assignment, we consider a *simple* inverted index, which maps a word to a set of documents. In practice, however, more complex indices might be used.  \n"
   ]
  },
  {
   "cell_type": "markdown",
   "metadata": {
    "deletable": false,
    "editable": false,
    "nbgrader": {
     "cell_type": "markdown",
     "checksum": "710fd943f45523ac36fcb887cc0d4d39",
     "grade": false,
     "grade_id": "cell-fa373192c1b7bb95",
     "locked": true,
     "schema_version": 3,
     "solution": false,
     "task": false
    }
   },
   "source": [
    "### 2.1 Term Frequency-index (10 points)\n",
    "In this assignment, we will be using an index created in memory since our dataset is tiny. To get started, build a simple index that maps each `token` to a list of `(doc_id, count)` where `count` is the count of the `token` in `doc_id`.\n",
    "For consistency, build this index using a python dictionary.\n",
    "    \n",
    "Now, implement a function to build an index:"
   ]
  },
  {
   "cell_type": "code",
   "execution_count": 19,
   "metadata": {
    "deletable": false,
    "nbgrader": {
     "cell_type": "code",
     "checksum": "d4e8c6b658c469379d5fe511de05b536",
     "grade": false,
     "grade_id": "cell-077599b87e953209",
     "locked": false,
     "schema_version": 3,
     "solution": true,
     "task": false
    }
   },
   "outputs": [],
   "source": [
    "# TODO: Implement this! (10 points)\n",
    "from collections import defaultdict\n",
    "def build_tf_index(documents):\n",
    "    \"\"\"\n",
    "        Build an inverted index (with counts). The output is a dictionary which takes in a token\n",
    "        and returns a list of (doc_id, count) where 'count' is the count of the 'token' in 'doc_id'\n",
    "        Input: a list of documents - (doc_id, tokens) \n",
    "        Output: An inverted index implemented within a pyhton dictionary: [token] -> [(doc_id, token_count)]\n",
    "    \"\"\"\n",
    "    # YOUR CODE HERE\n",
    "    index = defaultdict(list)\n",
    "    for (doc_id, tokens) in documents:\n",
    "        doc_id = int(doc_id)\n",
    "        seen_tks = {}\n",
    "        for tk in tokens:\n",
    "            new_tk = tk not in index\n",
    "            if new_tk:\n",
    "                index[tk] = []\n",
    "            if tk not in seen_tks:\n",
    "                index[tk].append([doc_id, 1])\n",
    "                seen_tks[tk] = True\n",
    "            else:\n",
    "                index[tk][-1][1] += 1\n",
    "    return index"
   ]
  },
  {
   "cell_type": "markdown",
   "metadata": {
    "deletable": false,
    "editable": false,
    "nbgrader": {
     "cell_type": "markdown",
     "checksum": "15e7041b4323d2a290322de538ff7670",
     "grade": false,
     "grade_id": "cell-093aebfa504f96f2",
     "locked": true,
     "schema_version": 3,
     "solution": false,
     "task": false
    }
   },
   "source": [
    "---\n",
    "Now we can build indexed documents and preprocess the queries based on the two configurations:"
   ]
  },
  {
   "cell_type": "code",
   "execution_count": 20,
   "metadata": {
    "deletable": false,
    "editable": false,
    "nbgrader": {
     "cell_type": "code",
     "checksum": "e27540c1d8d77a3779a05f557f3f40c6",
     "grade": false,
     "grade_id": "cell-b2ff1676348b90a8",
     "locked": true,
     "schema_version": 3,
     "solution": false,
     "task": false
    }
   },
   "outputs": [],
   "source": [
    "#### Indexed documents based on the two configs\n",
    "\n",
    "# Create the 2 indices\n",
    "tf_index_1 = build_tf_index(doc_repr_1)\n",
    "tf_index_2 = build_tf_index(doc_repr_2)\n",
    "\n",
    "# This function returns the tf_index of the corresponding config\n",
    "def get_index(index_set):\n",
    "    assert index_set in {1, 2}\n",
    "    return {\n",
    "        1: tf_index_1,\n",
    "        2: tf_index_2\n",
    "    }[index_set]\n",
    "\n",
    "####\n",
    "#### Preprocessed query based on the two configs\n",
    "\n",
    "# This function preprocesses the text given the index set, according to the specified config\n",
    "def preprocess_query(text, index_set):\n",
    "    assert index_set in {1, 2}\n",
    "    if index_set == 1:\n",
    "        return process_text(text, **config_1)\n",
    "    elif index_set == 2:\n",
    "        return process_text(text, **config_2)\n",
    "\n",
    "#### "
   ]
  },
  {
   "cell_type": "code",
   "execution_count": 21,
   "metadata": {
    "deletable": false,
    "editable": false,
    "nbgrader": {
     "cell_type": "code",
     "checksum": "f0cbc8703e1248cd6edf03f9019b69db",
     "grade": true,
     "grade_id": "cell-fc7c7232d5d2ee46",
     "locked": true,
     "points": 5,
     "schema_version": 3,
     "solution": false,
     "task": false
    }
   },
   "outputs": [
    {
     "name": "stdout",
     "output_type": "stream",
     "text": [
      "sample tf index for computer: [[4, 1], [7, 1], [10, 1], [13, 1], [19, 1], [22, 1], [23, 1], [37, 1], [40, 3], [41, 1]]\n",
      "sample tf index for examples: [[111, 1], [320, 1], [644, 1], [691, 1], [727, 1], [848, 1], [892, 1], [893, 1], [1049, 1], [1051, 1]]\n"
     ]
    }
   ],
   "source": [
    "##### Function check\n",
    "\n",
    "assert isinstance(tf_index_1, dict)\n",
    "\n",
    "assert isinstance(tf_index_1['computer'], list)\n",
    "print('sample tf index for computer:', tf_index_1['computer'][:10])\n",
    "\n",
    "assert isinstance(tf_index_1['examples'], list)\n",
    "print('sample tf index for examples:', tf_index_1['examples'][:10])\n",
    "#### "
   ]
  },
  {
   "cell_type": "code",
   "execution_count": 22,
   "metadata": {
    "deletable": false,
    "editable": false,
    "nbgrader": {
     "cell_type": "code",
     "checksum": "d49b8ac36815d9a5cb4bed838ab53a50",
     "grade": true,
     "grade_id": "cell-ff06bd11204db250",
     "locked": true,
     "points": 5,
     "schema_version": 3,
     "solution": false,
     "task": false
    }
   },
   "outputs": [
    {
     "name": "stdout",
     "output_type": "stream",
     "text": [
      "sample tf index for computer: [[4, 1], [7, 1], [10, 1], [13, 1], [19, 1], [22, 1], [23, 1], [37, 1], [40, 3], [41, 1]]\n",
      "sample tf index for examples: []\n"
     ]
    }
   ],
   "source": [
    "##### Function check\n",
    "\n",
    "assert isinstance(tf_index_2, dict)\n",
    "\n",
    "assert isinstance(tf_index_2['computer'], list)\n",
    "print('sample tf index for computer:', tf_index_1['computer'][:10])\n",
    "\n",
    "assert isinstance(tf_index_2['examples'], list)\n",
    "print('sample tf index for examples:', tf_index_2['examples'][:10])\n",
    "#### "
   ]
  },
  {
   "cell_type": "markdown",
   "metadata": {
    "deletable": false,
    "editable": false,
    "nbgrader": {
     "cell_type": "markdown",
     "checksum": "880b2ef3ca405f2af6e0667d2dc7a600",
     "grade": false,
     "grade_id": "cell-89eba71f04310291",
     "locked": true,
     "schema_version": 3,
     "solution": false,
     "task": false
    }
   },
   "source": [
    "\n",
    "---\n",
    "## Section 3: Ranking  (80 points) <a class=\"anchor\" id=\"ranking\"></a>\n",
    "\n",
    "[Back to Part 1](#part1)\n",
    "\n",
    "Now that we have cleaned and processed our dataset, we can start building simple IR systems. \n",
    "\n",
    "For now, we consider *simple* IR systems, which involve computing scores from the tokens present in the document/query. More advanced methods are covered in later assignments.\n",
    "\n",
    "We will implement the following methods in this section:\n",
    "- [Section 3.1: Bag of Words](#bow) (10 points)\n",
    "- [Section 3.2: TF-IDF](#tfidf) (15 points)\n",
    "- [Section 3.3: Query Likelihood Model](#qlm) (35 points)\n",
    "- [Section 3.4: BM25](#bm25) (20 points)\n",
    "\n",
    "*All search functions should be able to handle multiple words queries.*\n",
    "\n",
    "**Scoring policy:**\n",
    "Your implementations in this section are scored based on the expected performance of your ranking functions.\n",
    "You will get a full mark if your implementation meets the expected performance (measured by some evaluation metric).\n",
    "Otherwise, you may get partial credit.\n",
    "For example, if your *Bag of words* ranking function has 60% of expected performance, you will get 6 out of 10."
   ]
  },
  {
   "cell_type": "markdown",
   "metadata": {
    "deletable": false,
    "editable": false,
    "nbgrader": {
     "cell_type": "markdown",
     "checksum": "6c74e5061917358300c6e8085ec07864",
     "grade": false,
     "grade_id": "cell-3daf70a60e393adf",
     "locked": true,
     "schema_version": 3,
     "solution": false,
     "task": false
    }
   },
   "source": [
    "--- \n",
    "\n",
    "### Section 3.1: Bag of Words (10 points)<a class=\"anchor\" id=\"bow\"></a>\n",
    "\n",
    "Probably the simplest IR model is the Bag of Words (BOW) model.\n",
    "Implement a function that scores and ranks all the documents against a query using this model.   \n",
    "\n",
    "- For consistency, you should use the count of the token and **not** the binary indicator.\n",
    "- Use `float` type for the scores (even though the scores are integers in this case).\n",
    "- No normalization of the scores is necessary, as the ordering is what we are interested in.\n",
    "- If two documents have the same score, they can have any ordering: you are not required to disambiguate.\n"
   ]
  },
  {
   "cell_type": "code",
   "execution_count": 23,
   "metadata": {
    "deletable": false,
    "nbgrader": {
     "cell_type": "code",
     "checksum": "fee4640e22bfc4f05eb958a675ef40e7",
     "grade": false,
     "grade_id": "cell-de9cf0459c4b9324",
     "locked": false,
     "schema_version": 3,
     "solution": true,
     "task": false
    }
   },
   "outputs": [],
   "source": [
    "# TODO: Implement this! (10 points)\n",
    "\n",
    "def dict_to_arr(d, descending=True):\n",
    "    arr = []\n",
    "    for k in d.keys():\n",
    "         arr.append([str(k), d[k]])\n",
    "    return sorted(arr, key=lambda x: x[1], reverse=descending)\n",
    "\n",
    "def bow_search(query, index_set):\n",
    "    \"\"\"\n",
    "        Perform a search over all documents with the given query. \n",
    "        Note: You have to use the `get_index` function created in the previous cells\n",
    "        Input: \n",
    "            query - a (unprocessed) query\n",
    "            index_set - the index to use\n",
    "        Output: a list of (document_id, score), sorted in descending relevance to the given query. \n",
    "    \"\"\"\n",
    "    index = get_index(index_set)\n",
    "    processed_query = preprocess_query(query, index_set)\n",
    "    scores = {}\n",
    "    for q in processed_query:\n",
    "        if q not in index: continue\n",
    "        for (doc_id, freq) in index[q]:\n",
    "            if doc_id not in scores:\n",
    "                scores[doc_id] = float(freq)\n",
    "            else:\n",
    "                scores[doc_id] += freq\n",
    "    return dict_to_arr(scores)"
   ]
  },
  {
   "cell_type": "code",
   "execution_count": 24,
   "metadata": {
    "deletable": false,
    "editable": false,
    "nbgrader": {
     "cell_type": "code",
     "checksum": "613524fbbf02b1d122c6611a71fbf11b",
     "grade": true,
     "grade_id": "cell-9f6aceae6dd9125f",
     "locked": true,
     "points": 2,
     "schema_version": 3,
     "solution": false,
     "task": false
    }
   },
   "outputs": [],
   "source": [
    "#### Function check\n",
    "\n",
    "test_bow = bow_search(\"how to implement bag of words search\", index_set=1)[:5]\n",
    "assert isinstance(test_bow, list)\n",
    "assert len(test_bow[0]) == 2\n",
    "assert isinstance(test_bow[0][0], str)\n",
    "assert isinstance(test_bow[0][1], float)\n",
    "\n",
    "#### "
   ]
  },
  {
   "cell_type": "code",
   "execution_count": 25,
   "metadata": {
    "deletable": false,
    "editable": false,
    "nbgrader": {
     "cell_type": "code",
     "checksum": "9af20897659edb62fe77598483590500",
     "grade": true,
     "grade_id": "cell-4eed3abf233d9b58",
     "locked": true,
     "points": 2,
     "schema_version": 3,
     "solution": false,
     "task": false
    }
   },
   "outputs": [
    {
     "name": "stdout",
     "output_type": "stream",
     "text": [
      "BOW Results:\n",
      "Rank 0(1.3e+01): On Computing The Fast Fourier Transform\\nCooley an...\n",
      "Rank 1(1.2e+01): Variable Length Tree Structures Having Minimum Ave...\n",
      "Rank 2(1.1e+01): A Modular Computer Sharing System\\nAn alternative ...\n",
      "Rank 3(1e+01): PEEKABIT, Computer Offspring of Punched\\nCard PEEK...\n",
      "Rank 4(9.0): Computer Simulation-Discussion of the\\nTechnique a...\n"
     ]
    }
   ],
   "source": [
    "\n",
    "docs_by_id = dict(docs)\n",
    "def print_results(docs, len_limit=50):    \n",
    "    for i, (doc_id, score) in enumerate(docs):\n",
    "        doc_content = docs_by_id[doc_id].strip().replace(\"\\n\", \"\\\\n\")[:len_limit] + \"...\"\n",
    "        print(f\"Rank {i}({score:.2}): {doc_content}\")\n",
    "\n",
    "test_bow_2 = bow_search(\"computer search word\", index_set=2)[:5]\n",
    "print(f\"BOW Results:\")\n",
    "print_results(test_bow_2)\n"
   ]
  },
  {
   "cell_type": "code",
   "execution_count": 26,
   "metadata": {
    "deletable": false,
    "editable": false,
    "nbgrader": {
     "cell_type": "code",
     "checksum": "3c9c8b16c8e7d1032f101e9da8a6e845",
     "grade": true,
     "grade_id": "cell-4d65a2d7090c466c",
     "locked": true,
     "points": 3,
     "schema_version": 3,
     "solution": false,
     "task": false
    }
   },
   "outputs": [
    {
     "name": "stdout",
     "output_type": "stream",
     "text": [
      "BOW Results:\n",
      "Rank 0(9.0): CURRICULUM 68 -- Recommendations for Academic\\nPro...\n",
      "Rank 1(9.0): Variable Length Tree Structures Having Minimum Ave...\n",
      "Rank 2(7.0): Computer Formulation of the Equations of Motion Us...\n",
      "Rank 3(7.0): The Effects of Multiplexing on a Computer-Communic...\n",
      "Rank 4(6.0): Optimizing Bit-time Computer Simulation\\nA major c...\n"
     ]
    }
   ],
   "source": [
    "\n",
    "test_bow_1 = bow_search(\"computer search word\", index_set=1)[:5]\n",
    "print(f\"BOW Results:\")\n",
    "print_results(test_bow_1)\n"
   ]
  },
  {
   "cell_type": "code",
   "execution_count": 27,
   "metadata": {
    "deletable": false,
    "editable": false,
    "nbgrader": {
     "cell_type": "code",
     "checksum": "b7e593847aa4202ae45ec061fb18ad73",
     "grade": true,
     "grade_id": "cell-dedf36ab5853ce20",
     "locked": true,
     "points": 3,
     "schema_version": 3,
     "solution": false,
     "task": false
    }
   },
   "outputs": [
    {
     "name": "stdout",
     "output_type": "stream",
     "text": [
      "top-5 docs for index1: ('1771', '1936', '1543', '2535', '678')\n",
      "top-5 docs for index2: ('1525', '1936', '1844', '1700', '1366')\n"
     ]
    }
   ],
   "source": [
    "print('top-5 docs for index1:', list(zip(*test_bow_1[:5]))[0])\n",
    "print('top-5 docs for index2:', list(zip(*test_bow_2[:5]))[0])\n"
   ]
  },
  {
   "cell_type": "markdown",
   "metadata": {
    "deletable": false,
    "editable": false,
    "nbgrader": {
     "cell_type": "markdown",
     "checksum": "b04352ee0716dfdf094b8cdb6f32e984",
     "grade": false,
     "grade_id": "cell-a5c09c79ac1f2871",
     "locked": true,
     "schema_version": 3,
     "solution": false,
     "task": false
    }
   },
   "source": [
    "\n",
    "---\n",
    "\n",
    "### Section 3.2: TF-IDF (15 points) <a class=\"anchor\" id=\"tfidf\"></a>\n",
    "\n",
    "Before we implement the tf-idf scoring functions, let's first write a function to compute the document frequencies of all words.  \n",
    "\n",
    "#### 3.2.1 Document frequency (5 points)\n",
    "Compute the document frequencies of all tokens in the collection. \n",
    "Your code should return a dictionary with tokens as its keys and the number of documents containing the token as values.\n",
    "For consistency, the values should have `int` type."
   ]
  },
  {
   "cell_type": "code",
   "execution_count": 28,
   "metadata": {
    "deletable": false,
    "nbgrader": {
     "cell_type": "code",
     "checksum": "5c53263cf4c0b0ffcaae08b91fc364cc",
     "grade": false,
     "grade_id": "cell-9a2369f32e864b8a",
     "locked": false,
     "schema_version": 3,
     "solution": true,
     "task": false
    }
   },
   "outputs": [],
   "source": [
    "# TODO: Implement this! (5 points)\n",
    "def compute_df(documents):\n",
    "    \"\"\"\n",
    "        Compute the document frequency of all terms in the vocabulary\n",
    "        Input: A list of documents\n",
    "        Output: A dictionary with {token: document frequency (int)}\n",
    "    \"\"\"\n",
    "    # YOUR CODE HERE\n",
    "    df = {}\n",
    "    for doc in documents:\n",
    "        seen_tks = {}\n",
    "        for tk in doc:\n",
    "            if tk not in df:\n",
    "                df[tk] = 0\n",
    "            df[tk] += not tk in seen_tks\n",
    "            seen_tks[tk] = True\n",
    "    return df"
   ]
  },
  {
   "cell_type": "code",
   "execution_count": 29,
   "metadata": {
    "deletable": false,
    "editable": false,
    "nbgrader": {
     "cell_type": "code",
     "checksum": "154985511d7925c5793a1f97dea81880",
     "grade": false,
     "grade_id": "cell-4c3bddd0b73ac90e",
     "locked": true,
     "schema_version": 3,
     "solution": false,
     "task": false
    }
   },
   "outputs": [],
   "source": [
    "#### Compute df based on the two configs\n",
    "\n",
    "# get the document frequencies of each document\n",
    "df_1 = compute_df([d[1] for d in doc_repr_1])\n",
    "df_2 = compute_df([d[1] for d in doc_repr_2])\n",
    "\n",
    "def get_df(index_set):\n",
    "    assert index_set in {1, 2}\n",
    "    return {\n",
    "        1: df_1,\n",
    "        2: df_2\n",
    "    }[index_set]\n",
    "####"
   ]
  },
  {
   "cell_type": "code",
   "execution_count": 30,
   "metadata": {
    "deletable": false,
    "editable": false,
    "nbgrader": {
     "cell_type": "code",
     "checksum": "110cc180068cf3f77c682ee3de2a117c",
     "grade": true,
     "grade_id": "cell-79e8a6db1e5fc46f",
     "locked": true,
     "points": 5,
     "schema_version": 3,
     "solution": false,
     "task": false
    }
   },
   "outputs": [
    {
     "name": "stdout",
     "output_type": "stream",
     "text": [
      "597\n",
      "11\n"
     ]
    }
   ],
   "source": [
    "#### Function check\n",
    "\n",
    "print(df_1['computer'])\n",
    "print(df_2['computer'])\n",
    "####"
   ]
  },
  {
   "cell_type": "markdown",
   "metadata": {
    "deletable": false,
    "editable": false,
    "nbgrader": {
     "cell_type": "markdown",
     "checksum": "d0d577668fa51b80aeab6e67209ae73b",
     "grade": false,
     "grade_id": "cell-52f6acc487e1b96d",
     "locked": true,
     "schema_version": 3,
     "solution": false,
     "task": false
    }
   },
   "source": [
    "---\n",
    "#### 3.2.2 TF-IDF search (10 points)\n",
    "Next, implement a function that computes a tf-idf score, given a query.\n",
    "Use the following formulas for TF and IDF:\n",
    "\n",
    "$$ TF=\\log (1 + f_{d,t}) $$\n",
    "\n",
    "$$ IDF=\\log (\\frac{N}{n_t})$$\n",
    "\n",
    "where $f_{d,t}$ is the frequency of token $t$ in document $d$, $N$ is the number of total documents and $n_t$ is the number of documents containing token $t$.\n",
    "\n",
    "**Note:** your implementation will be auto-graded assuming you have used the above formulas.\n"
   ]
  },
  {
   "cell_type": "code",
   "execution_count": 31,
   "metadata": {
    "deletable": false,
    "nbgrader": {
     "cell_type": "code",
     "checksum": "3534c44b4a3419ca1db98eebe7115dc1",
     "grade": false,
     "grade_id": "cell-2fb5ba34b2994cd9",
     "locked": false,
     "schema_version": 3,
     "solution": true,
     "task": false
    }
   },
   "outputs": [],
   "source": [
    "# TODO: Implement this! (10 points)\n",
    "def tfidf_search(query, index_set):\n",
    "    \"\"\"\n",
    "        Perform a search over all documents with the given query using tf-idf. \n",
    "        Note #1: You have to use the `get_index` (and the `get_df`) function created in the previous cells\n",
    "        Input: \n",
    "            query - a (unprocessed) query\n",
    "            index_set - the index to use\n",
    "        Output: a list of (document_id, score), sorted in descending relevance to the given query \n",
    "    \"\"\"\n",
    "    index = get_index(index_set)\n",
    "    df = get_df(index_set)\n",
    "    processed_query = preprocess_query(query, index_set)\n",
    "    \n",
    "    N = len(docs)\n",
    "    \n",
    "    scores = {}\n",
    "    for q in processed_query:\n",
    "        if q not in index: continue\n",
    "        for (doc_id, freq) in index[q]:\n",
    "            tf = np.log(1 + freq)\n",
    "            idf = np.log(N/df[q])\n",
    "            if doc_id not in scores:\n",
    "                scores[doc_id] = 0\n",
    "            scores[doc_id] += tf*idf #question: correct to add tfidf score of each word?\n",
    "  \n",
    "    return dict_to_arr(scores)"
   ]
  },
  {
   "cell_type": "code",
   "execution_count": 32,
   "metadata": {
    "deletable": false,
    "editable": false,
    "nbgrader": {
     "cell_type": "code",
     "checksum": "7b66a514663d898694b09a23a597312b",
     "grade": true,
     "grade_id": "cell-bc68aeeacf42beb3",
     "locked": true,
     "points": 2,
     "schema_version": 3,
     "solution": false,
     "task": false
    }
   },
   "outputs": [],
   "source": [
    "\n",
    "#### Function check\n",
    "test_tfidf = tfidf_search(\"how to implement tf idf search\", index_set=1)[:5]\n",
    "assert isinstance(test_tfidf, list)\n",
    "assert len(test_tfidf[0]) == 2\n",
    "assert isinstance(test_tfidf[0][0], str)\n",
    "assert isinstance(test_tfidf[0][1], float)\n",
    "\n",
    "####"
   ]
  },
  {
   "cell_type": "code",
   "execution_count": 33,
   "metadata": {
    "deletable": false,
    "editable": false,
    "nbgrader": {
     "cell_type": "code",
     "checksum": "98fb1326cf4bf7983ae237ca8a9105f9",
     "grade": true,
     "grade_id": "cell-c7702fa8179fadb9",
     "locked": true,
     "points": 2,
     "schema_version": 3,
     "solution": false,
     "task": false
    }
   },
   "outputs": [
    {
     "name": "stdout",
     "output_type": "stream",
     "text": [
      "TFIDF Results:\n",
      "Rank 0(1.3e+01): PEEKABIT, Computer Offspring of Punched\\nCard PEEK...\n",
      "Rank 1(9.8): Variable Length Tree Structures Having Minimum Ave...\n",
      "Rank 2(8.2): A Stochastic Approach to the Grammatical Coding of...\n",
      "Rank 3(8.1): Full Table Quadratic Searching for Scatter Storage...\n",
      "Rank 4(7.6): Use of Tree Structures for Processing Files\\nIn da...\n"
     ]
    }
   ],
   "source": [
    "\n",
    "test_tfidf_2 = tfidf_search(\"computer word search\", index_set=2)[:5]\n",
    "print(f\"TFIDF Results:\")\n",
    "print_results(test_tfidf_2)\n"
   ]
  },
  {
   "cell_type": "code",
   "execution_count": 34,
   "metadata": {
    "deletable": false,
    "editable": false,
    "nbgrader": {
     "cell_type": "code",
     "checksum": "733b5b67be5e53989f5b763ce5e52ee9",
     "grade": true,
     "grade_id": "cell-3284f50ac29abbaa",
     "locked": true,
     "points": 3,
     "schema_version": 3,
     "solution": false,
     "task": false
    }
   },
   "outputs": [
    {
     "name": "stdout",
     "output_type": "stream",
     "text": [
      "TFIDF Results:\n",
      "Rank 0(9.4): Variable Length Tree Structures Having Minimum Ave...\n",
      "Rank 1(7.4): On the Feasibility of Voice Input to\\nan On-line C...\n",
      "Rank 2(7.3): Median Split Trees: A Fast Lookup Technique for Fr...\n",
      "Rank 3(7.0): Execution Time Requirements for Encipherment Progr...\n",
      "Rank 4(7.0): Storage and Search Properties of a Tree-Organized ...\n"
     ]
    }
   ],
   "source": [
    "\n",
    "test_tfidf_1 = tfidf_search(\"computer word search\", index_set=1)[:5]\n",
    "print(f\"TFIDF Results:\")\n",
    "print_results(test_tfidf_1)\n"
   ]
  },
  {
   "cell_type": "code",
   "execution_count": 35,
   "metadata": {
    "deletable": false,
    "editable": false,
    "nbgrader": {
     "cell_type": "code",
     "checksum": "e0edb37a5ae807a2de85d578c87ccb78",
     "grade": true,
     "grade_id": "cell-d908c80a3155354b",
     "locked": true,
     "points": 3,
     "schema_version": 3,
     "solution": false,
     "task": false
    }
   },
   "outputs": [
    {
     "name": "stdout",
     "output_type": "stream",
     "text": [
      "top-5 docs for index1 with BOW search: ('1771', '1936', '1543', '2535', '678')\n",
      "top-5 docs for index2 with BOW search: ('1525', '1936', '1844', '1700', '1366')\n",
      "top-5 docs for index1 with TF-IDF search: ('1936', '2054', '3041', '2620', '944')\n",
      "top-5 docs for index2 with TF-IDF search: ('1700', '1936', '1235', '2018', '849')\n"
     ]
    }
   ],
   "source": [
    "\n",
    "print('top-5 docs for index1 with BOW search:', list(zip(*test_bow_1[:5]))[0])\n",
    "print('top-5 docs for index2 with BOW search:', list(zip(*test_bow_2[:5]))[0])\n",
    "print('top-5 docs for index1 with TF-IDF search:', list(zip(*test_tfidf_1[:5]))[0])\n",
    "print('top-5 docs for index2 with TF-IDF search:', list(zip(*test_tfidf_2[:5]))[0])\n",
    "\n"
   ]
  },
  {
   "cell_type": "markdown",
   "metadata": {
    "deletable": false,
    "editable": false,
    "nbgrader": {
     "cell_type": "markdown",
     "checksum": "cdffc83f0eaea937cf64a212e7e9af8d",
     "grade": false,
     "grade_id": "cell-f5d923459ba21733",
     "locked": true,
     "schema_version": 3,
     "solution": false,
     "task": false
    }
   },
   "source": [
    "--- \n",
    "\n",
    "### Section 3.3: Query Likelihood Model (35 points) <a class=\"anchor\" id=\"qlm\"></a>\n",
    "\n",
    "In this section, you will implement a simple query likelihood model. \n",
    "\n",
    "\n",
    "#### 3.3.1 Naive QL (15 points)\n",
    "\n",
    "First, let us implement a naive version of a QL model, assuming a multinomial unigram language model (with a uniform prior over the documents). \n",
    "\n"
   ]
  },
  {
   "cell_type": "code",
   "execution_count": 36,
   "metadata": {
    "deletable": false,
    "editable": false,
    "nbgrader": {
     "cell_type": "code",
     "checksum": "b7ae2b7d818b428b4638c1c9206d2aca",
     "grade": false,
     "grade_id": "cell-98505778f7b68e7f",
     "locked": true,
     "schema_version": 3,
     "solution": false,
     "task": false
    }
   },
   "outputs": [],
   "source": [
    "#### Document length for normalization\n",
    "\n",
    "def doc_lengths(documents):\n",
    "    doc_lengths = {doc_id:len(doc) for (doc_id, doc) in documents}\n",
    "    return doc_lengths\n",
    "\n",
    "doc_lengths_1 = doc_lengths(doc_repr_1)\n",
    "doc_lengths_2 = doc_lengths(doc_repr_2)\n",
    "\n",
    "def get_doc_lengths(index_set):\n",
    "    assert index_set in {1, 2}\n",
    "    return {\n",
    "        1: doc_lengths_1,\n",
    "        2: doc_lengths_2\n",
    "    }[index_set]\n",
    "####"
   ]
  },
  {
   "cell_type": "code",
   "execution_count": 37,
   "metadata": {
    "deletable": false,
    "nbgrader": {
     "cell_type": "code",
     "checksum": "cedd08303a914243fefdb6b876977ca1",
     "grade": false,
     "grade_id": "cell-8bcf2b804d636c2e",
     "locked": false,
     "schema_version": 3,
     "solution": true,
     "task": false
    }
   },
   "outputs": [],
   "source": [
    "# TODO: Implement this! (15 points)\n",
    "def naive_ql_search(query, index_set):\n",
    "    \"\"\"\n",
    "        Perform a search over all documents with the given query using a naive QL model. \n",
    "        Note #1: You have to use the `get_index` (and get_doc_lengths) function created in the previous cells\n",
    "        Input: \n",
    "            query - a (unprocessed) query\n",
    "            index_set - the index to use\n",
    "        Output: a list of (document_id, score), sorted in descending relevance to the given query \n",
    "    \"\"\"\n",
    "    index = get_index(index_set)\n",
    "    doc_lengths = get_doc_lengths(index_set)\n",
    "    processed_query = preprocess_query(query, index_set)\n",
    "    scores = {}\n",
    "    for q in processed_query:\n",
    "        if q not in index: continue\n",
    "        for (doc_id, freq) in index[q]:\n",
    "            if doc_id not in scores:\n",
    "                scores[doc_id] = 1\n",
    "            scores[doc_id] *= freq/doc_lengths[str(doc_id)]\n",
    "    return dict_to_arr(scores)"
   ]
  },
  {
   "cell_type": "code",
   "execution_count": 38,
   "metadata": {
    "deletable": false,
    "editable": false,
    "nbgrader": {
     "cell_type": "code",
     "checksum": "b550d15bdad28354c336020a00c33d56",
     "grade": true,
     "grade_id": "cell-5a83ac12ecde8578",
     "locked": true,
     "points": 3,
     "schema_version": 3,
     "solution": false,
     "task": false
    }
   },
   "outputs": [
    {
     "name": "stdout",
     "output_type": "stream",
     "text": [
      "Naive QL Results:\n",
      "Rank 0(0.2): A Report Writer For COBOL...\n",
      "Rank 1(0.2): A CRT Report Generating System...\n",
      "Rank 2(0.17): Preliminary Report-International Algebraic Languag...\n",
      "Rank 3(0.17): Supplement to the ALGOL 60 Report...\n",
      "Rank 4(0.14): ALGOL Sub-Committee Report - Extensions...\n"
     ]
    }
   ],
   "source": [
    "#### Function check\n",
    "test_naiveql = naive_ql_search(\"report\", index_set=1)[:5]\n",
    "print(f\"Naive QL Results:\")\n",
    "print_results(test_naiveql)\n",
    "####"
   ]
  },
  {
   "cell_type": "code",
   "execution_count": 39,
   "metadata": {
    "deletable": false,
    "editable": false,
    "nbgrader": {
     "cell_type": "code",
     "checksum": "799df1d81c63fe90edbb6c218fc707fb",
     "grade": true,
     "grade_id": "cell-80f4bf2137f997bb",
     "locked": true,
     "points": 2,
     "schema_version": 3,
     "solution": false,
     "task": false
    }
   },
   "outputs": [],
   "source": [
    "#### Please do not change this. This cell is used for grading."
   ]
  },
  {
   "cell_type": "code",
   "execution_count": 40,
   "metadata": {
    "deletable": false,
    "editable": false,
    "nbgrader": {
     "cell_type": "code",
     "checksum": "875a4a517d27e20625d41783cebec118",
     "grade": true,
     "grade_id": "cell-5ce2993458a8ce51",
     "locked": true,
     "points": 3,
     "schema_version": 3,
     "solution": false,
     "task": false
    }
   },
   "outputs": [],
   "source": [
    "#### Please do not change this. This cell is used for grading."
   ]
  },
  {
   "cell_type": "code",
   "execution_count": 41,
   "metadata": {
    "deletable": false,
    "editable": false,
    "nbgrader": {
     "cell_type": "code",
     "checksum": "d5c4e1c3852e71a46f32825b122f1b71",
     "grade": true,
     "grade_id": "cell-7753bdb54e292f3d",
     "locked": true,
     "points": 3,
     "schema_version": 3,
     "solution": false,
     "task": false
    }
   },
   "outputs": [],
   "source": [
    "#### Please do not change this. This cell is used for grading."
   ]
  },
  {
   "cell_type": "code",
   "execution_count": 42,
   "metadata": {
    "deletable": false,
    "editable": false,
    "nbgrader": {
     "cell_type": "code",
     "checksum": "c4d4332d4356e89ce0240f6b80e1899a",
     "grade": true,
     "grade_id": "cell-54e476e2f96e64bb",
     "locked": true,
     "points": 4,
     "schema_version": 3,
     "solution": false,
     "task": false
    }
   },
   "outputs": [],
   "source": [
    "#### Please do not change this. This cell is used for grading."
   ]
  },
  {
   "cell_type": "markdown",
   "metadata": {
    "deletable": false,
    "editable": false,
    "nbgrader": {
     "cell_type": "markdown",
     "checksum": "8d739dc91a22bd48897f603885f95a74",
     "grade": false,
     "grade_id": "cell-5414dfd69dab8b94",
     "locked": true,
     "schema_version": 3,
     "solution": false,
     "task": false
    }
   },
   "source": [
    "---\n",
    "#### 3.3.2 QL (20 points)\n",
    "Now, let's implement a QL model that handles the issues with the naive version. In particular, you will implement a QL model with Jelinek-Mercer Smoothing. That means an interpolated score is computed per word - one term is the same as the previous naive version, and the second term comes from a unigram language model. In addition, you should accumulate the scores by summing the **log** (smoothed) probability which leads to better numerical stability."
   ]
  },
  {
   "cell_type": "code",
   "execution_count": 43,
   "metadata": {
    "deletable": false,
    "nbgrader": {
     "cell_type": "code",
     "checksum": "b8c6abf937ad333e628f1db891f2e29e",
     "grade": false,
     "grade_id": "cell-bb1f506409771257",
     "locked": false,
     "schema_version": 3,
     "solution": true,
     "task": false
    }
   },
   "outputs": [],
   "source": [
    "# TODO: Implement this! (20 points)\n",
    "\n",
    "# YOUR CODE HERE\n",
    "# raise NotImplementedError()\n",
    "\n",
    "def ql_search(query, index_set):\n",
    "    \"\"\"\n",
    "        Perform a search over all documents with the given query using a QL model \n",
    "        with Jelinek-Mercer Smoothing (set smoothing=0.1). \n",
    "        \n",
    "        \n",
    "        Note #1: You have to use the `get_index` (and get_doc_lengths) function created in the previous cells\n",
    "        Note #2: You might have to create some variables beforehand and use them in this function\n",
    "        \n",
    "        \n",
    "        Input: \n",
    "            query - a (unprocessed) query\n",
    "            index_set - the index to use\n",
    "        Output: a list of (document_id, score), sorted in descending relevance to the given query \n",
    "    \"\"\"\n",
    "    index = get_index(index_set)\n",
    "    doc_lengths = get_doc_lengths(index_set)\n",
    "    processed_query = preprocess_query(query, index_set)\n",
    "    scores = {}\n",
    "    N = sum(doc_lengths.values())\n",
    "    for q in processed_query:\n",
    "        if q not in index: continue\n",
    "        n = sum([x[1] for x in index[q]])\n",
    "        for (doc_id, freq) in index[q]:\n",
    "            D = doc_lengths[str(doc_id)]\n",
    "            if doc_id not in scores:\n",
    "                scores[doc_id] = 0\n",
    "            scores[doc_id] += np.log(0.9*freq/D + 0.1*n/N)\n",
    "    return dict_to_arr(scores)\n",
    "    "
   ]
  },
  {
   "cell_type": "code",
   "execution_count": 44,
   "metadata": {
    "deletable": false,
    "editable": false,
    "nbgrader": {
     "cell_type": "code",
     "checksum": "0b12a7f3355193a257fd9f5f69a66562",
     "grade": true,
     "grade_id": "cell-850e9d6369bcec32",
     "locked": true,
     "points": 4,
     "schema_version": 3,
     "solution": false,
     "task": false
    }
   },
   "outputs": [
    {
     "name": "stdout",
     "output_type": "stream",
     "text": [
      "Rank 0(-1.7): A Report Writer For COBOL...\n",
      "Rank 1(-1.7): A CRT Report Generating System...\n",
      "Rank 2(-1.9): Preliminary Report-International Algebraic Languag...\n",
      "Rank 3(-1.9): Supplement to the ALGOL 60 Report...\n",
      "Rank 4(-2.1): ALGOL Sub-Committee Report - Extensions...\n",
      "\n",
      "Rank 0(-1.7e+01): A Report Writer For COBOL...\n",
      "Rank 1(-1.7e+01): A CRT Report Generating System...\n",
      "Rank 2(-1.9e+01): Preliminary Report-International Algebraic Languag...\n",
      "Rank 3(-1.9e+01): Supplement to the ALGOL 60 Report...\n",
      "Rank 4(-2.1e+01): ALGOL Sub-Committee Report - Extensions...\n"
     ]
    }
   ],
   "source": [
    "#### Function check\n",
    "test_ql_results = ql_search(\"report\", index_set=1)[:5]\n",
    "print_results(test_ql_results)\n",
    "print()\n",
    "test_ql_results_long = ql_search(\"report \" * 10, index_set=1)[:5]\n",
    "print_results(test_ql_results_long)\n",
    "####"
   ]
  },
  {
   "cell_type": "code",
   "execution_count": 45,
   "metadata": {
    "deletable": false,
    "editable": false,
    "nbgrader": {
     "cell_type": "code",
     "checksum": "e40be645140389c115849856145f5b59",
     "grade": true,
     "grade_id": "cell-958cdcf6fd6899b7",
     "locked": true,
     "points": 3,
     "schema_version": 3,
     "solution": false,
     "task": false
    }
   },
   "outputs": [],
   "source": [
    "#### Please do not change this. This cell is used for grading."
   ]
  },
  {
   "cell_type": "code",
   "execution_count": 46,
   "metadata": {
    "deletable": false,
    "editable": false,
    "nbgrader": {
     "cell_type": "code",
     "checksum": "41d4aff001df17e7963ba79b45810b30",
     "grade": true,
     "grade_id": "cell-384dc23a0c251f6e",
     "locked": true,
     "points": 4,
     "schema_version": 3,
     "solution": false,
     "task": false
    }
   },
   "outputs": [],
   "source": [
    "#### Please do not change this. This cell is used for grading."
   ]
  },
  {
   "cell_type": "code",
   "execution_count": 47,
   "metadata": {
    "deletable": false,
    "editable": false,
    "nbgrader": {
     "cell_type": "code",
     "checksum": "893e8c5a073abc8ebb763d267b91bc02",
     "grade": true,
     "grade_id": "cell-7218966cba5097cc",
     "locked": true,
     "points": 4,
     "schema_version": 3,
     "solution": false,
     "task": false
    }
   },
   "outputs": [],
   "source": [
    "#### Please do not change this. This cell is used for grading."
   ]
  },
  {
   "cell_type": "code",
   "execution_count": 48,
   "metadata": {
    "deletable": false,
    "editable": false,
    "nbgrader": {
     "cell_type": "code",
     "checksum": "f99cb6f8b1f5830aaed8f06712ff846e",
     "grade": true,
     "grade_id": "cell-481ab073259ae53f",
     "locked": true,
     "points": 5,
     "schema_version": 3,
     "solution": false,
     "task": false
    }
   },
   "outputs": [],
   "source": [
    "#### Please do not change this. This cell is used for grading."
   ]
  },
  {
   "cell_type": "markdown",
   "metadata": {
    "deletable": false,
    "editable": false,
    "nbgrader": {
     "cell_type": "markdown",
     "checksum": "c02f14705d679579b1aa9f78f54779d5",
     "grade": false,
     "grade_id": "cell-f44088bfdac1dc90",
     "locked": true,
     "schema_version": 3,
     "solution": false,
     "task": false
    }
   },
   "source": [
    "--- \n",
    "\n",
    "### Section 3.4: BM25 (20 points) <a class=\"anchor\" id=\"bm25\"></a>\n",
    "\n",
    "In this section, we will implement the BM25 scoring function. \n"
   ]
  },
  {
   "cell_type": "code",
   "execution_count": 49,
   "metadata": {
    "deletable": false,
    "nbgrader": {
     "cell_type": "code",
     "checksum": "e57efe06ea92af1c83784a42eb3d86e0",
     "grade": false,
     "grade_id": "cell-15640fc9b5d00a3c",
     "locked": false,
     "schema_version": 3,
     "solution": true,
     "task": false
    }
   },
   "outputs": [],
   "source": [
    "# TODO: Implement this! (20 points)\n",
    "def bm25_search(query, index_set):\n",
    "    \"\"\"\n",
    "        Perform a search over all documents with the given query using BM25. Use k_1 = 1.5 and b = 0.75\n",
    "        Note #1: You have to use the `get_index` (and `get_doc_lengths`) function created in the previous cells\n",
    "        Note #2: You might have to create some variables beforehand and use them in this function\n",
    "        \n",
    "        Input: \n",
    "            query - a (unprocessed) query\n",
    "            index_set - the index to use\n",
    "        Output: a list of (document_id, score), sorted in descending relevance to the given query \n",
    "    \"\"\"\n",
    "    k_1 = 1.5\n",
    "    b = 0.75\n",
    "    index = get_index(index_set)\n",
    "    df = get_df(index_set)\n",
    "    doc_lengths = get_doc_lengths(index_set)\n",
    "    processed_query = preprocess_query(query, index_set)\n",
    "    scores = {}\n",
    "    vals = doc_lengths.values()\n",
    "    N = len(vals)\n",
    "    dl_avg = sum(vals)/len(vals)\n",
    "    for q in processed_query:\n",
    "        if q not in index: continue\n",
    "        for (doc_id, freq) in index[q]:\n",
    "            if doc_id not in scores:\n",
    "                scores[doc_id] = 0\n",
    "            scores[doc_id] += np.log(N/df[q])*(k_1+1)*freq/(k_1*(1-b + b*doc_lengths[str(doc_id)]/dl_avg)+freq)\n",
    "    return dict_to_arr(scores)"
   ]
  },
  {
   "cell_type": "code",
   "execution_count": 50,
   "metadata": {
    "deletable": false,
    "editable": false,
    "nbgrader": {
     "cell_type": "code",
     "checksum": "4be9de5d4e94637960d83725422bea6c",
     "grade": true,
     "grade_id": "cell-d10536bca72c74b1",
     "locked": true,
     "points": 3,
     "schema_version": 3,
     "solution": false,
     "task": false
    }
   },
   "outputs": [
    {
     "name": "stdout",
     "output_type": "stream",
     "text": [
      "Rank 0(6.7): A Report Writer For COBOL...\n",
      "Rank 1(6.7): A CRT Report Generating System...\n",
      "Rank 2(6.6): Preliminary Report-International Algebraic Languag...\n",
      "Rank 3(6.6): Supplement to the ALGOL 60 Report...\n",
      "Rank 4(6.5): ALGOL Sub-Committee Report - Extensions...\n"
     ]
    }
   ],
   "source": [
    "#### Function check\n",
    "test_bm25_results = bm25_search(\"report\", index_set=1)[:5]\n",
    "print_results(test_bm25_results)\n",
    "####"
   ]
  },
  {
   "cell_type": "code",
   "execution_count": 51,
   "metadata": {
    "deletable": false,
    "editable": false,
    "nbgrader": {
     "cell_type": "code",
     "checksum": "31b550d6a46ae4f8ede88788799ac2b9",
     "grade": true,
     "grade_id": "cell-60f6ec5052712d79",
     "locked": true,
     "points": 5,
     "schema_version": 3,
     "solution": false,
     "task": false
    }
   },
   "outputs": [],
   "source": [
    "#### Please do not change this. This cell is used for grading."
   ]
  },
  {
   "cell_type": "code",
   "execution_count": 52,
   "metadata": {
    "deletable": false,
    "editable": false,
    "nbgrader": {
     "cell_type": "code",
     "checksum": "3da2ec16bfe781916e71755d65aa2983",
     "grade": true,
     "grade_id": "cell-5d17524043a5abcc",
     "locked": true,
     "points": 5,
     "schema_version": 3,
     "solution": false,
     "task": false
    }
   },
   "outputs": [],
   "source": [
    "#### Please do not change this. This cell is used for grading."
   ]
  },
  {
   "cell_type": "code",
   "execution_count": 53,
   "metadata": {
    "deletable": false,
    "editable": false,
    "nbgrader": {
     "cell_type": "code",
     "checksum": "e7b563d54fa84c20909c0ae107010541",
     "grade": true,
     "grade_id": "cell-ff8e704eda1184e3",
     "locked": true,
     "points": 3,
     "schema_version": 3,
     "solution": false,
     "task": false
    }
   },
   "outputs": [],
   "source": [
    "#### Please do not change this. This cell is used for grading."
   ]
  },
  {
   "cell_type": "code",
   "execution_count": 54,
   "metadata": {
    "deletable": false,
    "editable": false,
    "nbgrader": {
     "cell_type": "code",
     "checksum": "b013f90974b396630a8831d6f1d7e5f7",
     "grade": true,
     "grade_id": "cell-a52310500a2543cb",
     "locked": true,
     "points": 4,
     "schema_version": 3,
     "solution": false,
     "task": false
    }
   },
   "outputs": [],
   "source": [
    "#### Please do not change this. This cell is used for grading."
   ]
  },
  {
   "cell_type": "markdown",
   "metadata": {
    "deletable": false,
    "editable": false,
    "nbgrader": {
     "cell_type": "markdown",
     "checksum": "8fcf67cb7d5e8b26cb9bf1f0aa42c847",
     "grade": false,
     "grade_id": "cell-8b2b412c81d62f2d",
     "locked": true,
     "schema_version": 3,
     "solution": false,
     "task": false
    }
   },
   "source": [
    "\n",
    "---\n",
    "\n",
    "### 3.5. Test Your Functions\n",
    "\n",
    "The widget below allows you to play with the search functions you've written so far. Use this to test your search functions and ensure that they work as expected."
   ]
  },
  {
   "cell_type": "code",
   "execution_count": 55,
   "metadata": {
    "deletable": false,
    "editable": false,
    "nbgrader": {
     "cell_type": "code",
     "checksum": "dfeb204b390acc0794dbdcac92b0cf2c",
     "grade": false,
     "grade_id": "cell-c9c2bb76354e8d97",
     "locked": true,
     "schema_version": 3,
     "solution": false,
     "task": false
    }
   },
   "outputs": [],
   "source": [
    "#### Highlighter function\n",
    "# class for results\n",
    "ResultRow = namedtuple(\"ResultRow\", [\"doc_id\", \"snippet\", \"score\"])\n",
    "# doc_id -> doc\n",
    "docs_by_id = dict((d[0], d[1]) for d in docs)\n",
    "\n",
    "def highlight_text(document, query, tol=17):\n",
    "    import re\n",
    "    tokens = tokenize(query)\n",
    "    regex = \"|\".join(f\"(\\\\b{t}\\\\b)\" for t in tokens)\n",
    "    regex = re.compile(regex, flags=re.IGNORECASE)\n",
    "    output = \"\"\n",
    "    i = 0\n",
    "    for m in regex.finditer(document):\n",
    "        start_idx = max(0, m.start() - tol)\n",
    "        end_idx = min(len(document), m.end() + tol)\n",
    "        output += \"\".join([\"...\",\n",
    "                        document[start_idx:m.start()],\n",
    "                        \"<strong>\",\n",
    "                        document[m.start():m.end()],\n",
    "                        \"</strong>\",\n",
    "                        document[m.end():end_idx],\n",
    "                        \"...\"])\n",
    "    return output.replace(\"\\n\", \" \")\n",
    "\n",
    "\n",
    "def make_results(query, search_fn, index_set):\n",
    "    results = []\n",
    "    for doc_id, score in search_fn(query, index_set):\n",
    "        highlight = highlight_text(docs_by_id[doc_id], query)\n",
    "        if len(highlight.strip()) == 0:\n",
    "            highlight = docs_by_id[doc_id]\n",
    "        results.append(ResultRow(doc_id, highlight, score))\n",
    "    return results\n",
    "####"
   ]
  },
  {
   "cell_type": "code",
   "execution_count": 56,
   "metadata": {},
   "outputs": [
    {
     "data": {
      "application/vnd.jupyter.widget-view+json": {
       "model_id": "79e79e03c8684141af3251f8168e1730",
       "version_major": 2,
       "version_minor": 0
      },
      "text/plain": [
       "Text(value='', description='Search Bar')"
      ]
     },
     "metadata": {},
     "output_type": "display_data"
    }
   ],
   "source": [
    "# TODO: Set this to the function you want to test!\n",
    "# this function should take in a query (string)\n",
    "# and return a sorted list of (doc_id, score) \n",
    "# with the most relevant document in the first position\n",
    "search_fn = bm25_search\n",
    "index_set = 1\n",
    "\n",
    "text = widgets.Text(description=\"Search Bar\", width=200)\n",
    "display(text)\n",
    "\n",
    "def handle_submit(sender):\n",
    "    print(f\"Searching for: '{sender.value}'\")\n",
    "    \n",
    "    results = make_results(sender.value, search_fn, index_set)\n",
    "    \n",
    "    # display only the top 5\n",
    "    results = results[:5]\n",
    "    \n",
    "    body = \"\"\n",
    "    for idx, r in enumerate(results):\n",
    "        body += f\"<li>Document #{r.doc_id}({r.score}): {r.snippet}</li>\"\n",
    "    display(HTML(f\"<ul>{body}</ul>\"))\n",
    "    \n",
    "\n",
    "text.on_submit(handle_submit)"
   ]
  },
  {
   "cell_type": "markdown",
   "metadata": {
    "deletable": false,
    "editable": false,
    "nbgrader": {
     "cell_type": "markdown",
     "checksum": "019b1ff878dc6339dd068e2d48d19904",
     "grade": false,
     "grade_id": "cell-8d46fe8e4f3d8cdb",
     "locked": true,
     "schema_version": 3,
     "solution": false,
     "task": false
    }
   },
   "source": [
    "---\n",
    "\n",
    "## Section 4: Evaluation (40 points) <a class=\"anchor\" id=\"evaluation\"></a>\n",
    "\n",
    "[Back to Part 1](#part1)\n",
    "\n",
    "In order to analyze the effectiveness of retrieval algorithms, we first have to learn how to evaluate such a system. In particular, we will work with offline evaluation metrics. These metrics are computed on a dataset with known relevance judgements.\n",
    "\n",
    "Implement the following evaluation metrics. \n",
    "\n",
    "1. Precision (7 points)\n",
    "2. Recall (7 points)\n",
    "3. Mean Average Precision (13 points)\n",
    "4. Expected Reciprocal Rank (13 points)"
   ]
  },
  {
   "cell_type": "markdown",
   "metadata": {
    "deletable": false,
    "editable": false,
    "nbgrader": {
     "cell_type": "markdown",
     "checksum": "e46f54c7f81d88bbc950b0fae14c4ca5",
     "grade": false,
     "grade_id": "cell-3419fd3bc663d7cc",
     "locked": true,
     "schema_version": 3,
     "solution": false,
     "task": false
    }
   },
   "source": [
    "---\n",
    "### 4.1 Read relevance labels\n",
    "\n",
    "Let's take a look at the `qrels.text` file, which contains the ground truth relevance scores. The relevance labels for CACM are binary - either 0 or 1. \n"
   ]
  },
  {
   "cell_type": "code",
   "execution_count": 57,
   "metadata": {
    "deletable": false,
    "editable": false,
    "nbgrader": {
     "cell_type": "code",
     "checksum": "6c11025f5a222796f2882c73c1634799",
     "grade": false,
     "grade_id": "cell-6b738366059dde9e",
     "locked": true,
     "schema_version": 3,
     "solution": false,
     "task": false
    }
   },
   "outputs": [
    {
     "name": "stdout",
     "output_type": "stream",
     "text": [
      "01 1410  0 0\r\n",
      "01 1572  0 0\r\n",
      "01 1605  0 0\r\n",
      "01 2020  0 0\r\n",
      "01 2358  0 0\r\n",
      "02 2434  0 0\r\n",
      "02 2863  0 0\r\n",
      "02 3078  0 0\r\n",
      "03 1134  0 0\r\n",
      "03 1613  0 0\r\n"
     ]
    }
   ],
   "source": [
    "!head ./datasets/qrels.text"
   ]
  },
  {
   "cell_type": "markdown",
   "metadata": {
    "deletable": false,
    "editable": false,
    "nbgrader": {
     "cell_type": "markdown",
     "checksum": "7ce95245c1597183320d7254afde5c8e",
     "grade": false,
     "grade_id": "cell-10e16bff2753ffbb",
     "locked": true,
     "schema_version": 3,
     "solution": false,
     "task": false
    }
   },
   "source": [
    "---\n",
    "\n",
    "The first column is the query_id and the second column is the document_id. We can safely ignore the 3rd and 4th columns."
   ]
  },
  {
   "cell_type": "code",
   "execution_count": 58,
   "metadata": {
    "deletable": false,
    "nbgrader": {
     "cell_type": "code",
     "checksum": "000c6d59dce08dba0ba1e8d691dbbc2e",
     "grade": false,
     "grade_id": "cell-ee5253a4ef602fce",
     "locked": false,
     "schema_version": 3,
     "solution": true,
     "task": false
    }
   },
   "outputs": [],
   "source": [
    "def read_qrels():\n",
    "    obj = {}\n",
    "    table = np.loadtxt('./datasets/qrels.text', dtype=int)[:, 0:2]\n",
    "    for (qid, did) in table:\n",
    "        qid = str(qid)\n",
    "        if qid not in obj:\n",
    "            obj[qid] = [did]\n",
    "        else:\n",
    "            obj[qid].append(did)\n",
    "    return obj"
   ]
  },
  {
   "cell_type": "code",
   "execution_count": 59,
   "metadata": {
    "deletable": false,
    "editable": false,
    "nbgrader": {
     "cell_type": "code",
     "checksum": "d60caeba85c2a97d2211184a5ae91fd1",
     "grade": false,
     "grade_id": "cell-72215605fbe24f65",
     "locked": true,
     "schema_version": 3,
     "solution": false,
     "task": false
    }
   },
   "outputs": [],
   "source": [
    "#### Function check\n",
    "qrels = read_qrels()\n",
    "\n",
    "assert len(qrels) == 52, \"There should be 52 queries with relevance judgements\"\n",
    "assert sum(len(j) for j in qrels.values()) == 796, \"There should be a total of 796 Relevance Judgements\"\n",
    "\n",
    "assert np.min(np.array([len(j) for j in qrels.values()])) == 1\n",
    "assert np.max(np.array([len(j) for j in qrels.values()])) == 51\n",
    "\n",
    "####"
   ]
  },
  {
   "cell_type": "markdown",
   "metadata": {
    "deletable": false,
    "editable": false,
    "nbgrader": {
     "cell_type": "markdown",
     "checksum": "6c9e7428a52e291a2cdf92a379730d4c",
     "grade": false,
     "grade_id": "cell-176a6fb2939d0420",
     "locked": true,
     "schema_version": 3,
     "solution": false,
     "task": false
    }
   },
   "source": [
    "---\n",
    "**Note:** For a given query `query_id`, you can assume that documents *not* in `qrels[query_id]` are not relevant to `query_id`. \n"
   ]
  },
  {
   "cell_type": "markdown",
   "metadata": {
    "deletable": false,
    "editable": false,
    "nbgrader": {
     "cell_type": "markdown",
     "checksum": "b26a818c7b4f7ad490e00b35ea0edd69",
     "grade": false,
     "grade_id": "cell-bd8341b72cdd89bb",
     "locked": true,
     "schema_version": 3,
     "solution": false,
     "task": false
    }
   },
   "source": [
    "---\n",
    "### 4.2 Precision (7 points)\n",
    "Implement the `precision@k` metric:"
   ]
  },
  {
   "cell_type": "code",
   "execution_count": 61,
   "metadata": {
    "deletable": false,
    "nbgrader": {
     "cell_type": "code",
     "checksum": "43dea1979ebdec24ffcfeff71c670433",
     "grade": false,
     "grade_id": "cell-494bd0cce108ed67",
     "locked": false,
     "schema_version": 3,
     "solution": true,
     "task": false
    }
   },
   "outputs": [],
   "source": [
    "# TODO: Implement this! (7 points)\n",
    "def precision_k(results, relevant_docs, k):\n",
    "    \"\"\"\n",
    "        Compute Precision@K\n",
    "        Input: \n",
    "            results: A sorted list of 2-tuples (document_id, score), \n",
    "                    with the most relevant document in the first position\n",
    "            relevant_docs: A set of relevant documents. \n",
    "            k: the cut-off\n",
    "        Output: Precision@K\n",
    "    \"\"\"\n",
    "    if k > len(results):\n",
    "        k = len(results)\n",
    "    res = set([x[0] for x in results[0:k]])\n",
    "    rel = set(relevant_docs)\n",
    "    return sum([int(r) in rel for r in res])/k"
   ]
  },
  {
   "cell_type": "code",
   "execution_count": 62,
   "metadata": {
    "deletable": false,
    "editable": false,
    "nbgrader": {
     "cell_type": "code",
     "checksum": "9222e35582b1840ffb60fd02fb0b60c3",
     "grade": true,
     "grade_id": "cell-e7ff0d91c319ca64",
     "locked": true,
     "points": 7,
     "schema_version": 3,
     "solution": false,
     "task": false
    }
   },
   "outputs": [
    {
     "name": "stdout",
     "output_type": "stream",
     "text": [
      "query: What articles exist which deal with TSS (Time Sharing System), an\n",
      "operating system for IBM computers?\n",
      "precision@10 = 0.2\n"
     ]
    }
   ],
   "source": [
    "\n",
    "#### Function check\n",
    "qid = queries[0][0]\n",
    "qtext = queries[0][1]\n",
    "print(f'query:{qtext}')\n",
    "results = bm25_search(qtext, 2)\n",
    "precision = precision_k(results, qrels[qid], 10)\n",
    "print(f'precision@10 = {precision}')\n",
    "####"
   ]
  },
  {
   "cell_type": "markdown",
   "metadata": {
    "deletable": false,
    "editable": false,
    "nbgrader": {
     "cell_type": "markdown",
     "checksum": "8fd3b3998197c7097a40348500affb68",
     "grade": false,
     "grade_id": "cell-afd95f865bc7191e",
     "locked": true,
     "schema_version": 3,
     "solution": false,
     "task": false
    }
   },
   "source": [
    "---\n",
    "### 4.3 Recall (7 points)\n",
    "Implement the `recall@k` metric:"
   ]
  },
  {
   "cell_type": "code",
   "execution_count": 63,
   "metadata": {
    "deletable": false,
    "nbgrader": {
     "cell_type": "code",
     "checksum": "b2020e5741ae03b3fe35817ed8f4ccaa",
     "grade": false,
     "grade_id": "cell-c323fc8c3f8a7cf8",
     "locked": false,
     "schema_version": 3,
     "solution": true,
     "task": false
    }
   },
   "outputs": [],
   "source": [
    "# TODO: Implement this! (7 points)\n",
    "def recall_k(results, relevant_docs, k):\n",
    "    \"\"\"\n",
    "        Compute Recall@K\n",
    "        Input: \n",
    "            results: A sorted list of 2-tuples (document_id, score), with the most relevant document in the first position\n",
    "            relevant_docs: A set of relevant documents. \n",
    "            k: the cut-off\n",
    "        Output: Recall@K\n",
    "    \"\"\"\n",
    "    res = set([x[0] for x in results[0:k]])\n",
    "    rel = set(relevant_docs)\n",
    "    return sum([int(r) in rel for r in res])/len(relevant_docs)"
   ]
  },
  {
   "cell_type": "code",
   "execution_count": 64,
   "metadata": {
    "deletable": false,
    "editable": false,
    "nbgrader": {
     "cell_type": "code",
     "checksum": "56b6e0b8522f8b2dffbfb3206b2efa84",
     "grade": true,
     "grade_id": "cell-b25172161aef165c",
     "locked": true,
     "points": 7,
     "schema_version": 3,
     "solution": false,
     "task": false
    }
   },
   "outputs": [
    {
     "name": "stdout",
     "output_type": "stream",
     "text": [
      "query: SETL, Very High Level Languages\n",
      "recall@10 = 0.3157894736842105\n"
     ]
    }
   ],
   "source": [
    "#### Function check\n",
    "qid = queries[10][0]\n",
    "qtext = queries[10][1]\n",
    "print(f'query:{qtext}')\n",
    "results = bm25_search(qtext, 2)\n",
    "recall = recall_k(results, qrels[qid], 10)\n",
    "print(f'recall@10 = {recall}')\n",
    "####"
   ]
  },
  {
   "cell_type": "markdown",
   "metadata": {
    "deletable": false,
    "editable": false,
    "nbgrader": {
     "cell_type": "markdown",
     "checksum": "b3d3c7bd1cd977cd07ef5df7d3fbf159",
     "grade": false,
     "grade_id": "cell-77fd2e7a39a74739",
     "locked": true,
     "schema_version": 3,
     "solution": false,
     "task": false
    }
   },
   "source": [
    "---\n",
    "### 4.4 Mean Average Precision (13 points)\n",
    "Implement the `map` metric:"
   ]
  },
  {
   "cell_type": "code",
   "execution_count": 65,
   "metadata": {
    "deletable": false,
    "nbgrader": {
     "cell_type": "code",
     "checksum": "aae2c62f2ffd76f5b6c004e9519b9f14",
     "grade": false,
     "grade_id": "cell-e50925fa9093a30d",
     "locked": false,
     "schema_version": 3,
     "solution": true,
     "task": false
    }
   },
   "outputs": [],
   "source": [
    "# TODO: Implement this! (12 points)\n",
    "def average_precision(results, relevant_docs):\n",
    "    \"\"\"\n",
    "        Compute Average Precision (for a single query - the results are \n",
    "        averaged across queries to get MAP in the next few cells)\n",
    "        Hint: You can use the recall_k and precision_k functions here!\n",
    "        Input: \n",
    "            results: A sorted list of 2-tuples (document_id, score), with the most \n",
    "                    relevant document in the first position\n",
    "            relevant_docs: A set of relevant documents. \n",
    "        Output: Average Precision\n",
    "    \"\"\"\n",
    "    n = len(results)\n",
    "    r = np.array([recall_k(results, relevant_docs, k) for k in range(1,n)])\n",
    "    p = np.array([precision_k(results, relevant_docs, k) for k in range(1,n)])\n",
    "    return np.sum(p[1:]*(r[1:]-r[:-1]))"
   ]
  },
  {
   "cell_type": "code",
   "execution_count": 66,
   "metadata": {
    "deletable": false,
    "editable": false,
    "nbgrader": {
     "cell_type": "code",
     "checksum": "3b00e147c2fa146fa59f179b7c9cab75",
     "grade": true,
     "grade_id": "cell-8a1f7ec98571e58b",
     "locked": true,
     "points": 13,
     "schema_version": 3,
     "solution": false,
     "task": false
    }
   },
   "outputs": [
    {
     "name": "stdout",
     "output_type": "stream",
     "text": [
      "query: computational complexity, intractability, class-complete reductions,\n",
      "algorithms and efficiency\n",
      "MAP = 0.17240404110559454\n"
     ]
    }
   ],
   "source": [
    "#### Function check\n",
    "qid = queries[20][0]\n",
    "qtext = queries[20][1]\n",
    "print(f'query:{qtext}')\n",
    "results = bm25_search(qtext, 2)\n",
    "mean_ap = average_precision(results, qrels[qid])\n",
    "print(f'MAP = {mean_ap}')\n",
    "####"
   ]
  },
  {
   "cell_type": "markdown",
   "metadata": {
    "deletable": false,
    "editable": false,
    "nbgrader": {
     "cell_type": "markdown",
     "checksum": "36f85f45ef52d9467ba9a717d6d99ff2",
     "grade": false,
     "grade_id": "cell-1da18f0fe6f6d7be",
     "locked": true,
     "schema_version": 3,
     "solution": false,
     "task": false
    }
   },
   "source": [
    "---\n",
    "### 4.5 Expected Reciprocal Rank (13 points)\n",
    "Implement the `err` metric:"
   ]
  },
  {
   "cell_type": "code",
   "execution_count": 67,
   "metadata": {
    "deletable": false,
    "nbgrader": {
     "cell_type": "code",
     "checksum": "9ac94db728e23ea1f5dc0d509473c6fb",
     "grade": false,
     "grade_id": "cell-64262889f9b267ea",
     "locked": false,
     "schema_version": 3,
     "solution": true,
     "task": false
    }
   },
   "outputs": [],
   "source": [
    "# TODO: Implement this! (12 points)\n",
    "def err(results, relevant_docs):\n",
    "    \"\"\"\n",
    "        Compute the expected reciprocal rank.\n",
    "        Hint: https://dl.acm.org/doi/pdf/10.1145/1645953.1646033?download=true\n",
    "        Input: \n",
    "            results: A sorted list of 2-tuples (document_id, score), with the most \n",
    "                    relevant document in the first position\n",
    "            relevant_docs: A set of relevant documents. \n",
    "        Output: ERR\n",
    "        \n",
    "    \"\"\"\n",
    "    p = 1\n",
    "    err = 0\n",
    "    n = len(results)\n",
    "    rel = set(relevant_docs)\n",
    "    for i in range(len(results)):\n",
    "        R = (int(results[i][0]) in rel)/2\n",
    "        err += p*R/(i+1)\n",
    "        p *= 1-R\n",
    "    return err"
   ]
  },
  {
   "cell_type": "code",
   "execution_count": 68,
   "metadata": {
    "deletable": false,
    "editable": false,
    "nbgrader": {
     "cell_type": "code",
     "checksum": "b7d201de0990b69d5f38704668665d87",
     "grade": true,
     "grade_id": "cell-071e3970ff1afae4",
     "locked": true,
     "points": 13,
     "schema_version": 3,
     "solution": false,
     "task": false
    }
   },
   "outputs": [
    {
     "name": "stdout",
     "output_type": "stream",
     "text": [
      "query: I'd like to find articles describing the use of singular value decomposition\n",
      "in digital image processing.  Applications include finding approximations\n",
      "to the original image and restoring images that are subject to noise. An\n",
      "article on the subject is H.C. Andrews and C.L. Patterson \"Outer product\n",
      "expansions and their uses in digital image processing\", American Mathematical\n",
      "Monthly, vol. 82.\n",
      "ERR = 0.625\n"
     ]
    }
   ],
   "source": [
    "#### Function check\n",
    "qid = queries[30][0]\n",
    "qtext = queries[30][1]\n",
    "print(f'query:{qtext}')\n",
    "results = bm25_search(qtext, 2)\n",
    "ERR = err(results, qrels[qid])\n",
    "print(f'ERR = {ERR}')\n",
    "####"
   ]
  },
  {
   "cell_type": "markdown",
   "metadata": {
    "deletable": false,
    "editable": false,
    "nbgrader": {
     "cell_type": "markdown",
     "checksum": "5bd94caf77cfa5f34675df758d91002d",
     "grade": false,
     "grade_id": "cell-43709a765f353946",
     "locked": true,
     "schema_version": 3,
     "solution": false,
     "task": false
    }
   },
   "source": [
    "---\n",
    "### 4.6 Evaluate Search Functions\n",
    "\n",
    "Let's define some metrics@k using [partial functions](https://docs.python.org/3/library/functools.html#functools.partial)"
   ]
  },
  {
   "cell_type": "code",
   "execution_count": 69,
   "metadata": {
    "deletable": false,
    "editable": false,
    "nbgrader": {
     "cell_type": "code",
     "checksum": "49ccc158e5fb7340ace55e90eeb9d62a",
     "grade": false,
     "grade_id": "cell-dab560e18e340da8",
     "locked": true,
     "schema_version": 3,
     "solution": false,
     "task": false
    }
   },
   "outputs": [],
   "source": [
    "#### metrics@k functions\n",
    "\n",
    "recall_at_1 = partial(recall_k, k=1)\n",
    "recall_at_5 = partial(recall_k, k=5)\n",
    "recall_at_10 = partial(recall_k, k=10)\n",
    "precision_at_1 = partial(precision_k, k=1)\n",
    "precision_at_5 = partial(precision_k, k=5)\n",
    "precision_at_10 = partial(precision_k, k=10)\n",
    "\n",
    "\n",
    "list_of_metrics = [\n",
    "    (\"ERR\", err),\n",
    "    (\"MAP\", average_precision),\n",
    "    (\"Recall@1\",recall_at_1),\n",
    "    (\"Recall@5\", recall_at_5),\n",
    "    (\"Recall@10\", recall_at_10),\n",
    "    (\"Precision@1\", precision_at_1),\n",
    "    (\"Precision@5\", precision_at_5),\n",
    "    (\"Precision@10\", precision_at_10)]\n",
    "####"
   ]
  },
  {
   "cell_type": "markdown",
   "metadata": {
    "deletable": false,
    "editable": false,
    "nbgrader": {
     "cell_type": "markdown",
     "checksum": "fb541002c03221b453b8936290020ea5",
     "grade": false,
     "grade_id": "cell-580a2bdc66d03b47",
     "locked": true,
     "schema_version": 3,
     "solution": false,
     "task": false
    }
   },
   "source": [
    "---\n",
    "\n",
    "The following function evaluates a `search_fn` using the `metric_fn`. Note that the final number is averaged over all the queries"
   ]
  },
  {
   "cell_type": "code",
   "execution_count": 70,
   "metadata": {},
   "outputs": [],
   "source": [
    "#### Evaluate a search function\n",
    "\n",
    "list_of_search_fns = [\n",
    "    (\"BOW\", bow_search),\n",
    "    (\"TF-IDF\", tfidf_search),\n",
    "    (\"NaiveQL\", naive_ql_search),\n",
    "    (\"QL\", ql_search),\n",
    "    (\"BM25\", bm25_search)\n",
    "]\n",
    "\n",
    "def evaluate_search_fn(search_fn, metric_fns, index_set=None):\n",
    "    # build a dict query_id -> query \n",
    "    queries_by_id = dict((q[0], q[1]) for q in queries)\n",
    "    \n",
    "    metrics = {}\n",
    "    for metric, metric_fn in metric_fns:\n",
    "        metrics[metric] = np.zeros(len(qrels), dtype=np.float32)\n",
    "    \n",
    "    for i, (query_id, relevant_docs) in enumerate(qrels.items()):\n",
    "        query = queries_by_id[query_id]\n",
    "        if index_set:\n",
    "            results = search_fn(query, index_set)\n",
    "        else:\n",
    "            results = search_fn(query)\n",
    "        \n",
    "        for metric, metric_fn in metric_fns:\n",
    "            metrics[metric][i] = metric_fn(results, relevant_docs)\n",
    "\n",
    "    \n",
    "    \n",
    "    final_dict = {}\n",
    "    for metric, metric_vals in metrics.items():\n",
    "        final_dict[metric] = metric_vals.mean()\n",
    "    \n",
    "    return final_dict\n",
    "####"
   ]
  },
  {
   "cell_type": "markdown",
   "metadata": {
    "deletable": false,
    "editable": false,
    "nbgrader": {
     "cell_type": "markdown",
     "checksum": "6ea67534f74a8f81e1f504794f641709",
     "grade": false,
     "grade_id": "cell-b156d83a0649cbb4",
     "locked": true,
     "schema_version": 3,
     "solution": false,
     "task": false
    }
   },
   "source": [
    "## Section 5: Analysis (30 points) <a class=\"anchor\" id=\"analysis\"></a>\n",
    "\n",
    "[Back to Part 1](#part1)\n",
    "\n",
    "In the final section of Part1, we will compare the different term-based IR algorithms and different preprocessing configurations and analyze their advantages and disadvantages.\n",
    "\n",
    "### Section 5.1: Plot (20 points)\n",
    "\n",
    "First, gather the results. The results should consider the index set, the different search functions and different metrics. Plot the results in bar charts, per metric, with clear labels.\n",
    "\n",
    "**Rubric:**\n",
    "- Each Metric is plotted: 7 points\n",
    "- Each Method is plotted: 7 points\n",
    "- Clear titles, x label, y labels and legends (if applicable): 6 points"
   ]
  },
  {
   "cell_type": "code",
   "execution_count": null,
   "metadata": {
    "deletable": false,
    "nbgrader": {
     "cell_type": "code",
     "checksum": "7e2588a925d13ddf588abe8311dc9cfc",
     "grade": true,
     "grade_id": "cell-46fda42a25863a04",
     "locked": false,
     "points": 20,
     "schema_version": 3,
     "solution": true,
     "task": false
    }
   },
   "outputs": [],
   "source": [
    "for (s_name, s_fn) in [(\"NaiveQL\", naive_ql_search)]:\n",
    "    for i in [2]:\n",
    "        print(s_name, evaluate_search_fn(s_fn, list_of_metrics, index_set=i))\n",
    "    \n",
    "for (s_name, s_fn) in [(\"QL\", ql_search)]:\n",
    "    for i in [2]:\n",
    "        print(s_name, evaluate_search_fn(s_fn, list_of_metrics, index_set=i))"
   ]
  },
  {
   "cell_type": "markdown",
   "metadata": {
    "deletable": false,
    "editable": false,
    "nbgrader": {
     "cell_type": "markdown",
     "checksum": "e88c444a0acf4e398c65e289169b75f7",
     "grade": false,
     "grade_id": "cell-8aabe3bcf265deb0",
     "locked": true,
     "points": 10,
     "schema_version": 3,
     "solution": false,
     "task": true
    }
   },
   "source": [
    "---\n",
    "### Section 5.2: Summary (10 points)\n",
    "Write a summary of what you observe in the results.\n",
    "Your summary should compare results across the 2 indices and the methods being used. State what you expected to see in the results, followed by either supporting evidence *or* justify why the results did not support your expectations.      "
   ]
  },
  {
   "cell_type": "markdown",
   "metadata": {},
   "source": [
    "Write your answer here!"
   ]
  },
  {
   "cell_type": "markdown",
   "metadata": {
    "deletable": false,
    "editable": false,
    "nbgrader": {
     "cell_type": "markdown",
     "checksum": "b3eb77be74eecca205fc7b47316d1627",
     "grade": false,
     "grade_id": "cell-bb60dd5c092d0f2e",
     "locked": true,
     "schema_version": 3,
     "solution": false,
     "task": false
    }
   },
   "source": [
    "---\n",
    "---\n",
    "# Part 2: Semantic-based Matching (85 points) <a class=\"anchor\" id=\"part2\"></a>\n",
    "\n",
    "[Back to top](#top)\n",
    "\n",
    "We will now experiment with methods that go beyond lexical methods like TF-IDF, which operate at the word level and are high dimensional and sparse, and look at methods which constructs low dimensional dense representations of queries and documents. \n",
    "\n",
    "Since these low-dimensional methods have a higher time complexity, they are typically used in conjunction with methods like BM-25. That is, instead of searching through potentially million documents to find matches using low dimensional vectors, a list of K documents are retrieved using BM25, and then **re-ranked** using the other method. This is the method that is going to be applied in the following exercises. \n",
    "\n",
    "LSI/LDA takes documents that are similar on a semantic level - for instance, if they are describing the same topic - and projects them into nearby vectors, despite having low lexical overlap.\n",
    "\n",
    "In this assignment, you will use `gensim` to create LSI/LDA models and use them in re-ranking. \n",
    "\n",
    "**Note**: The following exercises only uses `doc_repr_2` and `config_2`\n",
    "\n",
    "Table of contents:\n",
    "- [Section 6: LSI](#lsi) (15 points)\n",
    "- [Section 7: LDA](#lda) (10 points)\n",
    "- [Section 8: Word2Vec/Doc2Vec](#2vec) (20 points)\n",
    "- [Section 8: Re-ranking](#reranking) (10 points)\n",
    "- [Section 9: Re-ranking Evaluation](#reranking_eval) (30 points)"
   ]
  },
  {
   "cell_type": "markdown",
   "metadata": {
    "deletable": false,
    "editable": false,
    "nbgrader": {
     "cell_type": "markdown",
     "checksum": "f7c7b2cab82f576ed0acf836ca57171c",
     "grade": false,
     "grade_id": "cell-6b2c81e7a8abd180",
     "locked": true,
     "schema_version": 3,
     "solution": false,
     "task": false
    }
   },
   "source": [
    "---\n",
    "## Section 6: Latent Semantic Indexing (LSI) (15 points) <a class=\"anchor\" id=\"lsi\"></a>\n",
    "\n",
    "[Back to Part 2](#part2)\n",
    "\n",
    "LSI is one of the methods to embed the queries and documents into vectors. It is based on a method similar to Principal Component Analysis (PCA) for obtaining a dense concept matrix out of the sparse term-document matrix.\n",
    "\n",
    "See [wikipedia](https://en.wikipedia.org/wiki/Latent_semantic_analysis), particularly [#Mathematics_of_LSI](https://en.wikipedia.org/wiki/Latent_semantic_analysis#Mathematics_of_LSI)."
   ]
  },
  {
   "cell_type": "code",
   "execution_count": 71,
   "metadata": {
    "deletable": false,
    "editable": false,
    "nbgrader": {
     "cell_type": "code",
     "checksum": "c17ee75319cb517e2bf48ec3d9efc329",
     "grade": false,
     "grade_id": "cell-59913daee47f680d",
     "locked": true,
     "schema_version": 3,
     "solution": false,
     "task": false
    }
   },
   "outputs": [],
   "source": [
    "from gensim.corpora import Dictionary\n",
    "from gensim.models import LdaModel, LsiModel, Word2Vec\n",
    "from gensim.models.doc2vec import Doc2Vec, TaggedDocument\n",
    "from gensim import downloader as g_downloader\n",
    "# gensim uses logging, so set it up \n",
    "import logging\n",
    "logging.basicConfig(format='%(asctime)s : %(levelname)s : %(message)s', level=logging.INFO)"
   ]
  },
  {
   "cell_type": "markdown",
   "metadata": {
    "deletable": false,
    "editable": false,
    "nbgrader": {
     "cell_type": "markdown",
     "checksum": "5fce140c546759b54a9fc060901ae77c",
     "grade": false,
     "grade_id": "cell-3644faff4976598a",
     "locked": true,
     "schema_version": 3,
     "solution": false,
     "task": false
    }
   },
   "source": [
    "---\n",
    "### Section 6.1: Cosine Similarity (5 points)<a class=\"anchor\" id=\"cosing_sim\"></a>\n",
    "Before we begin, let us first define our method of similarity for the LSI model, the cosine similarity:\n",
    "\n",
    "$$\\text{similarity} = \\cos(\\theta) = {\\mathbf{A} \\cdot \\mathbf{B} \\over \\|\\mathbf{A}\\| \\|\\mathbf{B}\\|} = \\frac{ \\sum\\limits_{i=1}^{n}{A_i  B_i} }{ \\sqrt{\\sum\\limits_{i=1}^{n}{A_i^2}}  \\sqrt{\\sum\\limits_{i=1}^{n}{B_i^2}} }$$\n",
    "\n",
    "Since we are using gensim, the types of vectors returned by their classes are of the form defined below (they are not just simple vectors):"
   ]
  },
  {
   "cell_type": "code",
   "execution_count": 72,
   "metadata": {
    "deletable": false,
    "editable": false,
    "nbgrader": {
     "cell_type": "code",
     "checksum": "4e340e1a1d546f430c018fd0760e707a",
     "grade": false,
     "grade_id": "cell-3995a50f951314d5",
     "locked": true,
     "schema_version": 3,
     "solution": false,
     "task": false
    }
   },
   "outputs": [],
   "source": [
    "# 1, 2, 3 are either latent dimensions (LSI), or topics (LDA)\n",
    "# The second value in each tuple is a number (LSI) or a probability (LDA)  \n",
    "example_vec_1 = [(1, 0.2), (2, 0.3), (3, 0.4)]\n",
    "example_vec_2 = [(1, 0.2), (2, 0.7), (3, 0.4)]"
   ]
  },
  {
   "cell_type": "markdown",
   "metadata": {
    "deletable": false,
    "editable": false,
    "nbgrader": {
     "cell_type": "markdown",
     "checksum": "20832fd4f579f49ae204b0efee02edd1",
     "grade": false,
     "grade_id": "cell-5e54d581858dc8f7",
     "locked": true,
     "schema_version": 3,
     "solution": false,
     "task": false
    }
   },
   "source": [
    "---\n",
    "**Implementation (2+3 points):**\n",
    "Now, implement the `dot product` operation on these types of vectors and using this operator, implement the `cosine similarity` (don't forget: two functions to implement!):"
   ]
  },
  {
   "cell_type": "code",
   "execution_count": 73,
   "metadata": {
    "deletable": false,
    "nbgrader": {
     "cell_type": "code",
     "checksum": "06a712ee75fc213a21c5f0067fd8fe28",
     "grade": false,
     "grade_id": "cell-0e8189f5f93de33f",
     "locked": false,
     "schema_version": 3,
     "solution": true,
     "task": false
    }
   },
   "outputs": [],
   "source": [
    "def dot(vec_1,vec_2): \n",
    "    \"\"\"\n",
    "        vec_1 and vec_2 are of the form: [(int, float), (int, float), ...]\n",
    "        Return the dot product of two such vectors, computed only on the floats\n",
    "        You can assume that the lengths of the vectors are the same, and the dimensions are aligned \n",
    "            i.e you won't get: vec_1 = [(1, 0.2)] ; vec_2 = [(2, 0.3)] \n",
    "                                (dimensions are unaligned and lengths are different)\n",
    "    \"\"\"\n",
    "    ar_1=np.array(vec_1)[:,1]\n",
    "    ar_2=np.array(vec_2)[:,1]\n",
    "    combined=np.dot(ar_1,ar_2)\n",
    "    return combined\n",
    "\n",
    "\n",
    "# TODO: Implement this! (3 points)\n",
    "def cosine_sim(vec_1, vec_2):\n",
    "    d = dot(vec_1,vec_2)\n",
    "    ar_1=np.array(vec_1)[:,1]\n",
    "    ar_2=np.array(vec_2)[:,1]\n",
    "    squar_1=np.sqrt(np.sum(np.square(ar_1)))\n",
    "    squar_2=np.sqrt(np.sum(np.square(ar_2)))\n",
    "    \n",
    "    return d/(np.dot(squar_1,squar_2))"
   ]
  },
  {
   "cell_type": "code",
   "execution_count": 74,
   "metadata": {
    "deletable": false,
    "editable": false,
    "nbgrader": {
     "cell_type": "code",
     "checksum": "d22a4a7325ba7815a808390388f534a1",
     "grade": true,
     "grade_id": "cell-b25d04ed6b79fd35",
     "locked": true,
     "points": 2,
     "schema_version": 3,
     "solution": false,
     "task": false
    }
   },
   "outputs": [
    {
     "name": "stdout",
     "output_type": "stream",
     "text": [
      "vectors: ([(1, 0.2), (2, 0.3), (3, 0.4)], [(1, 0.2), (2, 0.7), (3, 0.4)])\n",
      "dot product = 0.41000000000000003\n",
      "cosine similarity = 0.9165587597202866\n"
     ]
    }
   ],
   "source": [
    "##### Function check\n",
    "print(f'vectors: {(example_vec_1,example_vec_2)}')\n",
    "print(f'dot product = {dot(example_vec_1,example_vec_2)}')\n",
    "print(f'cosine similarity = {cosine_sim(example_vec_1,example_vec_2)}')\n",
    "##### "
   ]
  },
  {
   "cell_type": "code",
   "execution_count": 75,
   "metadata": {
    "deletable": false,
    "editable": false,
    "nbgrader": {
     "cell_type": "code",
     "checksum": "0744131724ce76b1b3f163b4bae5f700",
     "grade": true,
     "grade_id": "cell-ae3c4466866ace77",
     "locked": true,
     "points": 3,
     "schema_version": 3,
     "solution": false,
     "task": false
    }
   },
   "outputs": [],
   "source": [
    "#### Please do not change this. This cell is used for grading."
   ]
  },
  {
   "cell_type": "markdown",
   "metadata": {
    "deletable": false,
    "editable": false,
    "nbgrader": {
     "cell_type": "markdown",
     "checksum": "9b123f599f9ea372d14676e23f1c6a52",
     "grade": false,
     "grade_id": "cell-4b2534067c44fcdf",
     "locked": true,
     "schema_version": 3,
     "solution": false,
     "task": false
    }
   },
   "source": [
    "---\n",
    "### Section 6.2: LSI Retrieval (10 points)<a class=\"anchor\" id=\"lsi_retrieval\"></a>\n",
    "LSI retrieval is simply ranking the documents based on their cosine similarity to the query vector.\n",
    "First, let's write a parent class for vector-based retrieval models:"
   ]
  },
  {
   "cell_type": "code",
   "execution_count": 76,
   "metadata": {
    "deletable": false,
    "editable": false,
    "nbgrader": {
     "cell_type": "code",
     "checksum": "ecc111d58182570e2252b8ef5d6b02af",
     "grade": false,
     "grade_id": "cell-937936cea18711ee",
     "locked": true,
     "schema_version": 3,
     "solution": false,
     "task": false
    }
   },
   "outputs": [],
   "source": [
    "class VectorSpaceRetrievalModel:\n",
    "    \"\"\"\n",
    "        Parent class for Dense Vector Retrieval models\n",
    "    \"\"\"\n",
    "    def __init__(self, doc_repr):\n",
    "        \"\"\"\n",
    "            document_collection: \n",
    "                [\n",
    "                    (doc_id_1, [token 1, token 2, ...]), \n",
    "                    (doc_id_2, [token 1, token 2, ....]) \n",
    "                    ...\n",
    "                ]\n",
    "\n",
    "        \"\"\"\n",
    "        self.doc_repr = doc_repr\n",
    "        self.documents = [_[1] for _ in self.doc_repr]\n",
    "        \n",
    "        # construct a dictionary\n",
    "        self.dictionary = Dictionary(self.documents)\n",
    "        # Filter out words that occur less than 20 documents, or more than 50% of the documents.\n",
    "        self.dictionary.filter_extremes(no_below=10)\n",
    "        self.corpus = [self.dictionary.doc2bow(doc) for doc in self.documents]\n",
    "    \n",
    "        # Make a index to word dictionary.\n",
    "        temp = self.dictionary[0]  # This is only to \"load\" the dictionary.\n",
    "        self.id2word = self.dictionary.id2token\n",
    "        \n",
    "        # this is set by the train_model function\n",
    "        self.model = None\n",
    "        \n",
    "        \n",
    "    def vectorize_documents(self):\n",
    "        \"\"\"\n",
    "            Returns a doc_id -> vector dictionary\n",
    "        \"\"\"\n",
    "        vectors = {}\n",
    "        for (doc_id, _), cc in zip(self.doc_repr, self.corpus):\n",
    "            vectors[doc_id] = self.model[cc]\n",
    "        return vectors\n",
    "\n",
    "    def vectorize_query(self, query):\n",
    "        # Note the use of config_2 here!\n",
    "        query = process_text(query, **config_2)\n",
    "        query_vector = self.dictionary.doc2bow(query)\n",
    "        return self.model[query_vector]\n",
    "    \n",
    "    def train_model(self):\n",
    "        \"\"\"\n",
    "            Trains a model and sets the 'self.model' variable. \n",
    "            Make sure to use the variables created in the __init__ method.\n",
    "            e.g the variables which may be useful: {corpus, dictionary, id2word}\n",
    "        \"\"\"\n",
    "        raise NotImplementedError()"
   ]
  },
  {
   "cell_type": "markdown",
   "metadata": {
    "deletable": false,
    "editable": false,
    "nbgrader": {
     "cell_type": "markdown",
     "checksum": "ff161eefd9b81b768cd6361bc1a502b0",
     "grade": false,
     "grade_id": "cell-704a18c2f80cd60c",
     "locked": true,
     "schema_version": 3,
     "solution": false,
     "task": false
    }
   },
   "source": [
    "---\n",
    "**Implementation (5 points):**\n",
    "Implement the `train_model` method in the following class (note that this is only one line of code in `gensim`!). Ensure that the parameters defined in the `__init__` method are not changed, and are *used in the `train_method` function*. Normally, the hyperaparameter space will be searched using grid search / other methods - in this assignment we have provided the hyperparameters for you.\n",
    "\n",
    "The last two lines of code train an LSI model on the list of documents which have been stemmed, lower-cased and have stopwords removed. "
   ]
  },
  {
   "cell_type": "code",
   "execution_count": 77,
   "metadata": {
    "deletable": false,
    "nbgrader": {
     "cell_type": "code",
     "checksum": "0e90eedc27c248bc1ae050518a46a46c",
     "grade": false,
     "grade_id": "cell-307682c9089f15d6",
     "locked": false,
     "schema_version": 3,
     "solution": true,
     "task": false
    }
   },
   "outputs": [],
   "source": [
    "# TODO: Implement this! (5 points)\n",
    "class LsiRetrievalModel(VectorSpaceRetrievalModel):\n",
    "    def __init__(self, doc_repr):\n",
    "        super().__init__(doc_repr)\n",
    "        \n",
    "        self.num_topics = 100\n",
    "        self.chunksize = 2000\n",
    "    \n",
    "    def train_model(self):\n",
    "        # YOUR CODE HERE\n",
    "        self.model=LsiModel(self.corpus, id2word=self.id2word, num_topics=self.num_topics, chunksize=self.chunksize)"
   ]
  },
  {
   "cell_type": "code",
   "execution_count": 78,
   "metadata": {
    "deletable": false,
    "editable": false,
    "nbgrader": {
     "cell_type": "code",
     "checksum": "00399cfe13d60cb4beed1271e36004b0",
     "grade": true,
     "grade_id": "cell-5ce512650c1b2dfb",
     "locked": true,
     "points": 0,
     "schema_version": 3,
     "solution": false,
     "task": false
    }
   },
   "outputs": [
    {
     "name": "stderr",
     "output_type": "stream",
     "text": [
      "2022-02-25 22:15:25,808 : INFO : adding document #0 to Dictionary(0 unique tokens: [])\n",
      "2022-02-25 22:15:25,955 : INFO : built Dictionary(5937 unique tokens: ['-', 'algebra', 'intern', 'languag', 'preliminari']...) from 3204 documents (total 115969 corpus positions)\n",
      "2022-02-25 22:15:25,956 : INFO : Dictionary lifecycle event {'msg': \"built Dictionary(5937 unique tokens: ['-', 'algebra', 'intern', 'languag', 'preliminari']...) from 3204 documents (total 115969 corpus positions)\", 'datetime': '2022-02-25T22:15:25.956296', 'gensim': '4.1.2', 'python': '3.8.10 (default, Nov 26 2021, 20:14:08) \\n[GCC 9.3.0]', 'platform': 'Linux-5.13.0-30-generic-x86_64-with-glibc2.29', 'event': 'created'}\n",
      "2022-02-25 22:15:25,961 : INFO : discarding 4740 tokens: [('repeat', 8), ('glossari', 7), ('inspect', 8), ('uncol', 2), ('rung', 9), ('secant', 2), ('.', 1603), ('acceler', 6), ('diverg', 3), ('induc', 9)]...\n",
      "2022-02-25 22:15:25,962 : INFO : keeping 1197 tokens which were in no less than 10 and no more than 1602 (=50.0%) documents\n",
      "2022-02-25 22:15:25,964 : INFO : resulting dictionary: Dictionary(1197 unique tokens: ['-', 'algebra', 'intern', 'languag', 'preliminari']...)\n",
      "2022-02-25 22:15:26,023 : INFO : using serial LSI version on this node\n",
      "2022-02-25 22:15:26,024 : INFO : updating model with new documents\n",
      "2022-02-25 22:15:26,025 : INFO : preparing a new chunk of documents\n",
      "2022-02-25 22:15:26,041 : INFO : using 100 extra samples and 2 power iterations\n",
      "2022-02-25 22:15:26,041 : INFO : 1st phase: constructing (1197, 200) action matrix\n",
      "2022-02-25 22:15:26,066 : INFO : orthonormalizing (1197, 200) action matrix\n",
      "2022-02-25 22:15:26,280 : INFO : 2nd phase: running dense svd on (200, 2000) matrix\n",
      "2022-02-25 22:15:26,515 : INFO : computing the final decomposition\n",
      "2022-02-25 22:15:26,526 : INFO : keeping 100 factors (discarding 13.469% of energy spectrum)\n",
      "2022-02-25 22:15:26,547 : INFO : processed documents up to #2000\n",
      "2022-02-25 22:15:26,551 : INFO : topic #0(152.127): 0.741*\",\" + 0.342*\"-\" + 0.211*\"system\" + 0.204*\"program\" + 0.192*\"comput\" + 0.146*\"(\" + 0.127*\"languag\" + 0.108*\")\" + 0.084*\"gener\" + 0.083*\"data\"\n",
      "2022-02-25 22:15:26,552 : INFO : topic #1(60.600): -0.607*\"(\" + -0.434*\")\" + -0.366*\"algorithm\" + -0.300*\"-\" + 0.237*\",\" + 0.213*\"system\" + 0.132*\"comput\" + -0.096*\"[\" + 0.093*\"program\" + -0.084*\"])\"\n",
      "2022-02-25 22:15:26,554 : INFO : topic #2(57.438): -0.744*\"-\" + 0.452*\",\" + -0.263*\"system\" + 0.214*\"(\" + 0.166*\")\" + -0.107*\"time\" + -0.105*\"program\" + 0.094*\"algorithm\" + -0.068*\"comput\" + -0.067*\"share\"\n",
      "2022-02-25 22:15:26,555 : INFO : topic #3(48.370): 0.483*\"system\" + 0.375*\"program\" + 0.367*\"comput\" + -0.363*\"-\" + -0.308*\",\" + 0.212*\"(\" + 0.168*\")\" + 0.147*\"algorithm\" + -0.144*\"languag\" + 0.119*\"time\"\n",
      "2022-02-25 22:15:26,556 : INFO : topic #4(45.710): 0.489*\"comput\" + -0.475*\"languag\" + -0.428*\"program\" + 0.238*\"method\" + 0.141*\"problem\" + -0.121*\"system\" + -0.109*\")\" + 0.107*\"equat\" + 0.100*\"algorithm\" + -0.099*\"(\"\n",
      "2022-02-25 22:15:26,557 : INFO : preparing a new chunk of documents\n",
      "2022-02-25 22:15:26,608 : INFO : using 100 extra samples and 2 power iterations\n",
      "2022-02-25 22:15:26,622 : INFO : 1st phase: constructing (1197, 200) action matrix\n",
      "2022-02-25 22:15:26,675 : INFO : orthonormalizing (1197, 200) action matrix\n",
      "2022-02-25 22:15:26,863 : INFO : 2nd phase: running dense svd on (200, 1204) matrix\n",
      "2022-02-25 22:15:27,042 : INFO : computing the final decomposition\n",
      "2022-02-25 22:15:27,056 : INFO : keeping 100 factors (discarding 14.005% of energy spectrum)\n",
      "2022-02-25 22:15:27,065 : INFO : merging projections: (1197, 100) + (1197, 100)\n",
      "2022-02-25 22:15:27,228 : INFO : keeping 100 factors (discarding 8.164% of energy spectrum)\n",
      "2022-02-25 22:15:27,248 : INFO : processed documents up to #3204\n",
      "2022-02-25 22:15:27,258 : INFO : topic #0(225.136): 0.759*\",\" + 0.337*\"-\" + 0.196*\"system\" + 0.186*\"program\" + 0.166*\"comput\" + 0.139*\"(\" + 0.103*\")\" + 0.103*\"algorithm\" + 0.099*\"languag\" + 0.087*\"time\"\n",
      "2022-02-25 22:15:27,266 : INFO : topic #1(87.805): 0.613*\"-\" + -0.399*\",\" + 0.399*\"(\" + 0.326*\"algorithm\" + 0.293*\")\" + -0.129*\"system\" + -0.107*\"program\" + 0.085*\"method\" + 0.077*\"time\" + 0.062*\"1\"\n",
      "2022-02-25 22:15:27,277 : INFO : topic #2(81.909): 0.550*\"-\" + -0.434*\"(\" + 0.355*\"system\" + -0.321*\")\" + -0.291*\",\" + -0.266*\"algorithm\" + 0.146*\"program\" + 0.123*\"comput\" + 0.078*\"time\" + -0.064*\"[\"\n",
      "2022-02-25 22:15:27,284 : INFO : topic #3(72.433): -0.693*\"program\" + 0.339*\",\" + 0.279*\"-\" + -0.251*\"(\" + -0.221*\"system\" + -0.214*\"languag\" + -0.204*\")\" + -0.160*\"comput\" + -0.099*\"data\" + -0.056*\"execut\"\n",
      "2022-02-25 22:15:27,289 : INFO : topic #4(68.523): -0.673*\"system\" + 0.453*\"program\" + 0.254*\"languag\" + 0.212*\"-\" + -0.179*\"comput\" + -0.165*\"(\" + -0.121*\")\" + -0.115*\"model\" + 0.101*\",\" + -0.098*\"algorithm\"\n",
      "2022-02-25 22:15:27,294 : INFO : LsiModel lifecycle event {'msg': 'trained LsiModel(num_terms=1197, num_topics=100, decay=1.0, chunksize=2000) in 1.27s', 'datetime': '2022-02-25T22:15:27.294334', 'gensim': '4.1.2', 'python': '3.8.10 (default, Nov 26 2021, 20:14:08) \\n[GCC 9.3.0]', 'platform': 'Linux-5.13.0-30-generic-x86_64-with-glibc2.29', 'event': 'created'}\n"
     ]
    },
    {
     "data": {
      "text/plain": [
       "[(0, 0.015212973941044714),\n",
       " (1, -0.016271306805383055),\n",
       " (2, -0.00020291017534424232),\n",
       " (3, -0.001829147253090169),\n",
       " (4, -0.009402890100807222),\n",
       " (5, -0.004705573358645447),\n",
       " (6, 0.02711319584133158),\n",
       " (7, 0.016744542830056462),\n",
       " (8, -0.031732500280157894),\n",
       " (9, -0.0006085632771516813),\n",
       " (10, 0.0022053802328528918),\n",
       " (11, -0.017326655644005935),\n",
       " (12, 0.00014256780694770106),\n",
       " (13, 0.0013959454802988198),\n",
       " (14, 0.00410625616619772),\n",
       " (15, 0.005698071097122025),\n",
       " (16, 0.005617364948690727),\n",
       " (17, 0.002342641163732055),\n",
       " (18, -0.018003856082009797),\n",
       " (19, 0.01991848682141157),\n",
       " (20, -0.008817151788421306),\n",
       " (21, -0.012043003418384038),\n",
       " (22, 0.047968358351771136),\n",
       " (23, 0.02553482144848132),\n",
       " (24, -0.01078137631567813),\n",
       " (25, -0.010713779982855543),\n",
       " (26, 0.006423203414277351),\n",
       " (27, 0.07834980651542936),\n",
       " (28, -0.05874167832553698),\n",
       " (29, 0.031955863967986525),\n",
       " (30, 0.044518916770710626),\n",
       " (31, 0.04923322721544087),\n",
       " (32, -0.07099439585076214),\n",
       " (33, 0.04797023308239419),\n",
       " (34, -0.02764246089681906),\n",
       " (35, 0.060730047152988034),\n",
       " (36, 0.040807614220012715),\n",
       " (37, -0.005131776486031209),\n",
       " (38, -0.0607928631623641),\n",
       " (39, 0.020301484604095355),\n",
       " (40, -0.040862478607494736),\n",
       " (41, -0.03988846148096258),\n",
       " (42, 0.022723438885305453),\n",
       " (43, 0.016608061183295757),\n",
       " (44, 0.02259470225559008),\n",
       " (45, -0.05057004217023573),\n",
       " (46, -0.019289158158174582),\n",
       " (47, 0.003999803130053461),\n",
       " (48, -0.013291011511583368),\n",
       " (49, 0.03198401166421541),\n",
       " (50, 0.024720874012385943),\n",
       " (51, 0.050153969690461896),\n",
       " (52, -0.0035703880889793142),\n",
       " (53, 0.0075900708939005065),\n",
       " (54, 0.04252251724700097),\n",
       " (55, 0.022347865492063357),\n",
       " (56, 0.015625213142490803),\n",
       " (57, -0.013796436889257106),\n",
       " (58, -0.004659487226500555),\n",
       " (59, -0.04889580759096406),\n",
       " (60, 0.01614521723736989),\n",
       " (61, -0.055170751278095384),\n",
       " (62, -0.0026460603405984782),\n",
       " (63, 0.04189382235828094),\n",
       " (64, -0.03763013204630267),\n",
       " (65, 0.04896567695336146),\n",
       " (66, 0.010998348866644735),\n",
       " (67, -0.07350921998938598),\n",
       " (68, 0.019617515585035317),\n",
       " (69, -0.04027425780666134),\n",
       " (70, -0.056798548176680244),\n",
       " (71, 0.007133626877965151),\n",
       " (72, -0.0061033381908445926),\n",
       " (73, 0.06294776788463914),\n",
       " (74, -0.08435569322658988),\n",
       " (75, 0.03322017771383215),\n",
       " (76, 0.03279188506988317),\n",
       " (77, -0.005539340883257103),\n",
       " (78, 0.05889412420537654),\n",
       " (79, 0.00806942117388805),\n",
       " (80, -0.027589356849429304),\n",
       " (81, -0.008655006401677514),\n",
       " (82, 0.04739014476999784),\n",
       " (83, 0.007503707212218663),\n",
       " (84, -0.0503045212962095),\n",
       " (85, 0.001096329433873132),\n",
       " (86, 0.01371627140189655),\n",
       " (87, 0.00019951579565628819),\n",
       " (88, -0.0696314513827256),\n",
       " (89, 0.05417579085967113),\n",
       " (90, -0.04743161339125298),\n",
       " (91, 0.03546485140217685),\n",
       " (92, -0.04017413249084907),\n",
       " (93, -0.021124240572476582),\n",
       " (94, -0.0629391489916509),\n",
       " (95, -0.037456448439288595),\n",
       " (96, -0.02777771168094246),\n",
       " (97, 0.007843035950929961),\n",
       " (98, 0.0041183368713656725),\n",
       " (99, -0.009894900952088708)]"
      ]
     },
     "execution_count": 78,
     "metadata": {},
     "output_type": "execute_result"
    }
   ],
   "source": [
    "##### Function check\n",
    "lsi = LsiRetrievalModel(doc_repr_2)\n",
    "lsi.train_model()\n",
    "\n",
    "# you can now get an LSI vector for a given query in the following way:\n",
    "lsi.vectorize_query(\"report\")\n",
    "##### "
   ]
  },
  {
   "cell_type": "markdown",
   "metadata": {
    "deletable": false,
    "editable": false,
    "nbgrader": {
     "cell_type": "markdown",
     "checksum": "7116bb9f576c5bb04934e1d59c51d729",
     "grade": false,
     "grade_id": "cell-4c5eeb557b4fca2f",
     "locked": true,
     "points": 5,
     "schema_version": 3,
     "solution": false,
     "task": true
    }
   },
   "source": [
    "\\#### Please do not change this. This cell is used for grading."
   ]
  },
  {
   "cell_type": "markdown",
   "metadata": {
    "deletable": false,
    "editable": false,
    "nbgrader": {
     "cell_type": "markdown",
     "checksum": "26e2ff3c413745e633d99f66c041d6b1",
     "grade": false,
     "grade_id": "cell-c4e50296cd17a555",
     "locked": true,
     "schema_version": 3,
     "solution": false,
     "task": false
    }
   },
   "source": [
    "---\n",
    "**Implementation (5 points):**\n",
    " Next, implement a basic ranking class for vector space retrieval (used for all semantic methods): "
   ]
  },
  {
   "cell_type": "code",
   "execution_count": 79,
   "metadata": {
    "deletable": false,
    "nbgrader": {
     "cell_type": "code",
     "checksum": "1a8389d2f0635c3405e2b0b27ed9f327",
     "grade": false,
     "grade_id": "cell-250515d288e80cdc",
     "locked": false,
     "schema_version": 3,
     "solution": true,
     "task": false
    }
   },
   "outputs": [],
   "source": [
    "# TODO: Implement this! (5 points)\n",
    "class DenseRetrievalRanker:\n",
    "    def __init__(self, vsrm, similarity_fn):\n",
    "        \"\"\"\n",
    "            vsrm: instance of `VectorSpaceRetrievalModel`\n",
    "            similarity_fn: function instance that takes in two vectors \n",
    "                            and returns a similarity score e.g cosine_sim defined earlier\n",
    "        \"\"\"\n",
    "        self.vsrm = vsrm\n",
    "        self.vectorized_documents = self.vsrm.vectorize_documents()\n",
    "        self.similarity_fn = similarity_fn\n",
    "    \n",
    "    def _compute_sim(self, query_vector):\n",
    "        \"\"\"\n",
    "            Compute the similarity of `query_vector` to documents in \n",
    "            `self.vectorized_documents` using `self.similarity_fn`\n",
    "            Returns a list of (doc_id, score) tuples\n",
    "        \"\"\"\n",
    "        tup=[]\n",
    "        for i in self.vectorized_documents:\n",
    "            \n",
    "            if np.array(self.vectorized_documents[i]).size==0 or  np.array(query_vector).size==0:\n",
    "                continue\n",
    "            \n",
    "            if np.array(self.vectorized_documents[i]).shape!=np.array(query_vector).shape:\n",
    "                continue\n",
    "            else:\n",
    "                scor=self.similarity_fn(self.vectorized_documents[i],query_vector)\n",
    "            tup.append((i,scor))\n",
    "        return tup\n",
    "    \n",
    "    def search(self, query):\n",
    "        scores = self._compute_sim(self.vsrm.vectorize_query(query))\n",
    "        scores.sort(key=lambda _:-_[1])\n",
    "        return scores "
   ]
  },
  {
   "cell_type": "code",
   "execution_count": 80,
   "metadata": {
    "deletable": false,
    "editable": false,
    "nbgrader": {
     "cell_type": "code",
     "checksum": "f237dd1ef6c1783c06797f4b514421f5",
     "grade": true,
     "grade_id": "cell-b73068b3e77a8e31",
     "locked": true,
     "points": 0,
     "schema_version": 3,
     "solution": false,
     "task": false
    }
   },
   "outputs": [
    {
     "data": {
      "text/plain": [
       "[('599', 0.8033143762746081),\n",
       " ('947', 0.5849248184693937),\n",
       " ('53', 0.4883726718278629),\n",
       " ('1339', 0.4458335314594625),\n",
       " ('3160', 0.4454310602290564)]"
      ]
     },
     "execution_count": 80,
     "metadata": {},
     "output_type": "execute_result"
    }
   ],
   "source": [
    "##### Function check\n",
    "drm_lsi = DenseRetrievalRanker(lsi, cosine_sim)\n",
    "drm_lsi.search(\"report\")[:5]\n",
    "##### "
   ]
  },
  {
   "cell_type": "markdown",
   "metadata": {
    "deletable": false,
    "editable": false,
    "nbgrader": {
     "cell_type": "markdown",
     "checksum": "5b3f19fdcaa585d263706d5a26038799",
     "grade": false,
     "grade_id": "cell-034c755a6502b868",
     "locked": true,
     "points": 5,
     "schema_version": 3,
     "solution": false,
     "task": true
    }
   },
   "source": [
    "\\#### Please do not change this. This cell is used for grading."
   ]
  },
  {
   "cell_type": "markdown",
   "metadata": {
    "deletable": false,
    "editable": false,
    "nbgrader": {
     "cell_type": "markdown",
     "checksum": "dcafef6e037033c46304b914f7c78bdf",
     "grade": false,
     "grade_id": "cell-d1df23f497d5ed6b",
     "locked": true,
     "schema_version": 3,
     "solution": false,
     "task": false
    }
   },
   "source": [
    "---\n",
    "Now, you can test your LSI model in the following cell: try finding queries which are lexically different to documents, but semantically similar - does LSI work well for these queries?!"
   ]
  },
  {
   "cell_type": "code",
   "execution_count": 81,
   "metadata": {
    "deletable": false,
    "editable": false,
    "nbgrader": {
     "cell_type": "code",
     "checksum": "11734bc7674377b340ad51297a8e8bb5",
     "grade": false,
     "grade_id": "cell-efd1d08dfc04ec3e",
     "locked": true,
     "schema_version": 3,
     "solution": false,
     "task": false
    }
   },
   "outputs": [
    {
     "data": {
      "application/vnd.jupyter.widget-view+json": {
       "model_id": "e230fca263494159b6e7395c77472041",
       "version_major": 2,
       "version_minor": 0
      },
      "text/plain": [
       "Text(value='', description='Search Bar')"
      ]
     },
     "metadata": {},
     "output_type": "display_data"
    }
   ],
   "source": [
    "# test your LSI model\n",
    "search_fn = drm_lsi.search\n",
    "\n",
    "text = widgets.Text(description=\"Search Bar\", width=200)\n",
    "display(text)\n",
    "\n",
    "def make_results_2(query, search_fn):\n",
    "    results = []\n",
    "    for doc_id, score in search_fn(query):\n",
    "        highlight = highlight_text(docs_by_id[doc_id], query)\n",
    "        if len(highlight.strip()) == 0:\n",
    "            highlight = docs_by_id[doc_id]\n",
    "        results.append(ResultRow(doc_id, highlight, score))\n",
    "    return results\n",
    "\n",
    "def handle_submit_2(sender):\n",
    "    print(f\"Searching for: '{sender.value}' (SEARCH FN: {search_fn})\")\n",
    "    \n",
    "    results = make_results_2(sender.value, search_fn)\n",
    "    \n",
    "    # display only the top 5\n",
    "    results = results[:5]\n",
    "    \n",
    "    body = \"\"\n",
    "    for idx, r in enumerate(results):\n",
    "        body += f\"<li>Document #{r.doc_id}({r.score}): {r.snippet}</li>\"\n",
    "    display(HTML(f\"<ul>{body}</ul>\"))\n",
    "    \n",
    "\n",
    "text.on_submit(handle_submit_2)"
   ]
  },
  {
   "cell_type": "markdown",
   "metadata": {
    "deletable": false,
    "editable": false,
    "nbgrader": {
     "cell_type": "markdown",
     "checksum": "d074ce1ca48384cdda78742741c938be",
     "grade": false,
     "grade_id": "cell-3a86cef264d8f6cf",
     "locked": true,
     "schema_version": 3,
     "solution": false,
     "task": false
    }
   },
   "source": [
    "---\n",
    "## Section 7: Latent Dirichlet Allocation (LDA) (10 points) <a class=\"anchor\" id=\"lda\"></a>\n",
    "\n",
    "[Back to Part 2](#part2)\n",
    "\n",
    "The specifics of LDA is out of the scope of this assignment, but we will use the `gensim` implementation to perform search using LDA over our small document collection. The key thing to remember is that LDA, unlike LSI, outputs a topic **distribution**, not a vector. With that in mind, let's first define a similarity measure.\n"
   ]
  },
  {
   "cell_type": "markdown",
   "metadata": {
    "deletable": false,
    "editable": false,
    "nbgrader": {
     "cell_type": "markdown",
     "checksum": "db01092373b18f0c9dfed1bb17db4ad9",
     "grade": false,
     "grade_id": "cell-6b78ad22c2d60ba7",
     "locked": true,
     "schema_version": 3,
     "solution": false,
     "task": false
    }
   },
   "source": [
    "---\n",
    "### Section 7.1: Jenson-Shannon divergence (5 points) <a class=\"anchor\" id=\"js_sim\"></a>\n",
    "\n",
    "The Jenson-Shannon divergence is a symmetric and finite measure on two probability distributions (unlike the KL, which is neither). For identical distributions, the JSD is equal to 0, and since our code uses 0 as irrelevant and higher scores as relevant, we use `(1 - JSD)` as the score or 'similarity' in our setup\n",
    "\n",
    "**Note**: the JSD is bounded to \\[0,1\\] only if we use log base 2. So please ensure that you're using `np.log2` instead of `np.log`"
   ]
  },
  {
   "cell_type": "code",
   "execution_count": 82,
   "metadata": {
    "deletable": false,
    "nbgrader": {
     "cell_type": "code",
     "checksum": "a579e6cd7a24a3516bc9a84528b392d3",
     "grade": false,
     "grade_id": "cell-d2376a85a4841e98",
     "locked": false,
     "schema_version": 3,
     "solution": true,
     "task": false
    }
   },
   "outputs": [],
   "source": [
    "## TODO: Implement this! (5 points)\n",
    "def KL_divergence(p, q):\n",
    "    \"\"\" Compute KL divergence of two vectors, K(p || q).\"\"\"\n",
    "    return sum(p[x] * np.log2((p[x]) / (q[x])) for x in range(len(p)) if p[x] != 0.0 or p[x] != 0)\n",
    "\n",
    "def jenson_shannon_divergence(vec_1, vec_2, assert_prob=False):\n",
    "    \"\"\"\n",
    "        Computes the Jensen-Shannon divergence between two probability distributions. \n",
    "        NOTE: DO NOT RETURN 1 - JSD here, that is handled by the next function which is already implemented! \n",
    "        The inputs are *gensim* vectors - same as the vectors for the cosine_sim function\n",
    "        assert_prob is a flag that checks if the inputs are proper probability distributions \n",
    "            i.e they sum to 1 and are positive - use this to check your inputs if needed. \n",
    "                (This is optional to implement, but recommended - \n",
    "                you can the default to False to save a few ms off the runtime)\n",
    "    \"\"\"\n",
    "    \n",
    "    if not vec_1 or not vec_2:\n",
    "        return 0\n",
    "    vec_1=np.array(vec_1)[:,1]\n",
    "    vec_2=np.array(vec_2)[:,1]\n",
    "    if vec_1.size!=vec_2.size:\n",
    "        return 0\n",
    "    JSD = 0.0\n",
    "    weight = 0.5\n",
    "    average = np.zeros(len(vec_1)) #Average\n",
    "    for x in range(len(vec_1)):\n",
    "        average[x] = weight * vec_1[x] + (1 - weight) * vec_2[x]\n",
    "        JSD = (weight * KL_divergence(np.array(vec_1), average)) + ((1 - weight) * KL_divergence(np.array(vec_2), average))\n",
    "    return JSD/np.sqrt(2*0.5)\n",
    "    \n",
    "\n",
    "def jenson_shannon_sim(vec_1, vec_2, assert_prob=False):\n",
    "    return 1 - jenson_shannon_divergence(vec_1, vec_2)\n",
    "\n"
   ]
  },
  {
   "cell_type": "code",
   "execution_count": 83,
   "metadata": {
    "deletable": false,
    "editable": false,
    "nbgrader": {
     "cell_type": "code",
     "checksum": "ab340aa941c9fb5c89b3fd0a9139e246",
     "grade": true,
     "grade_id": "cell-487c6d2933f38053",
     "locked": true,
     "points": 5,
     "schema_version": 3,
     "solution": false,
     "task": false
    }
   },
   "outputs": [
    {
     "name": "stderr",
     "output_type": "stream",
     "text": [
      "/tmp/ipykernel_73849/2120849064.py:4: RuntimeWarning: divide by zero encountered in double_scalars\n",
      "  return sum(p[x] * np.log2((p[x]) / (q[x])) for x in range(len(p)) if p[x] != 0.0 or p[x] != 0)\n"
     ]
    },
    {
     "data": {
      "text/plain": [
       "0.9251064410358459"
      ]
     },
     "execution_count": 83,
     "metadata": {},
     "output_type": "execute_result"
    }
   ],
   "source": [
    "##### Function check\n",
    "vec_1 = [(1, 0.3), (2, 0.4), (3, 0.3)]\n",
    "vec_2 = [(1, 0.1), (2, 0.7), (3, 0.2)]\n",
    "jenson_shannon_sim(vec_1, vec_2, assert_prob=True)\n",
    "##### "
   ]
  },
  {
   "cell_type": "markdown",
   "metadata": {
    "deletable": false,
    "editable": false,
    "nbgrader": {
     "cell_type": "markdown",
     "checksum": "0a1583a5f23e3390038331cce67f5d8e",
     "grade": false,
     "grade_id": "cell-4535cc67a50b80fa",
     "locked": true,
     "schema_version": 3,
     "solution": false,
     "task": false
    }
   },
   "source": [
    "---\n",
    "### Section 7.2: LDA retrieval (5 points) <a class=\"anchor\" id=\"lda_ret\"></a>\n",
    "\n",
    "Implement the `train_model` method in the following class (note that this is only one line of code in `gensim`!). Ensure that the parameters defined in the `__init__` method are not changed, and are *used in the `train_method` function*. You do not need to set this. Normally, the hyperaparameter space will be searched using grid search / other methods. Note that training the LDA model might take some time\n",
    "\n",
    "The last two lines of code train an LDA model on the list of documents which have been stemmed, lower-cased and have stopwords removed. "
   ]
  },
  {
   "cell_type": "code",
   "execution_count": 84,
   "metadata": {
    "deletable": false,
    "nbgrader": {
     "cell_type": "code",
     "checksum": "27de8e4fa85536bb396b73bfc51b3f50",
     "grade": false,
     "grade_id": "cell-021a48dff4a8bb91",
     "locked": false,
     "schema_version": 3,
     "solution": true,
     "task": false
    }
   },
   "outputs": [],
   "source": [
    "# TODO: Implement this! (5 points)\n",
    "class LdaRetrievalModel(VectorSpaceRetrievalModel):\n",
    "    def __init__(self, doc_repr):\n",
    "        super().__init__(doc_repr)\n",
    "        \n",
    "        # use these parameters in the train_model method\n",
    "        self.num_topics = 100\n",
    "        self.chunksize = 2000\n",
    "        self.passes = 20\n",
    "        self.iterations = 400\n",
    "        self.eval_every = 10\n",
    "        # this is need to get full vectors\n",
    "        self.minimum_probability=0.0\n",
    "        self.alpha='auto'\n",
    "        self.eta='auto'\n",
    "    \n",
    "    \n",
    "    def train_model(self):\n",
    "        self.model=LdaModel(self.corpus, num_topics=self.num_topics, chunksize=self.chunksize, passes=self.passes, \n",
    "                           iterations=self.iterations, eval_every=self.eval_every, minimum_probability=self.minimum_probability,\n",
    "                           alpha=self.alpha, eta=self.eta)"
   ]
  },
  {
   "cell_type": "code",
   "execution_count": 85,
   "metadata": {
    "deletable": false,
    "editable": false,
    "nbgrader": {
     "cell_type": "code",
     "checksum": "be70fcb8098d0b6ce64cd2a10e6a05b7",
     "grade": true,
     "grade_id": "cell-86750b715f0345fd",
     "locked": true,
     "points": 0,
     "schema_version": 3,
     "solution": false,
     "task": false
    }
   },
   "outputs": [
    {
     "name": "stderr",
     "output_type": "stream",
     "text": [
      "2022-02-25 22:15:30,429 : INFO : adding document #0 to Dictionary(0 unique tokens: [])\n",
      "2022-02-25 22:15:30,564 : INFO : built Dictionary(5937 unique tokens: ['-', 'algebra', 'intern', 'languag', 'preliminari']...) from 3204 documents (total 115969 corpus positions)\n",
      "2022-02-25 22:15:30,565 : INFO : Dictionary lifecycle event {'msg': \"built Dictionary(5937 unique tokens: ['-', 'algebra', 'intern', 'languag', 'preliminari']...) from 3204 documents (total 115969 corpus positions)\", 'datetime': '2022-02-25T22:15:30.565526', 'gensim': '4.1.2', 'python': '3.8.10 (default, Nov 26 2021, 20:14:08) \\n[GCC 9.3.0]', 'platform': 'Linux-5.13.0-30-generic-x86_64-with-glibc2.29', 'event': 'created'}\n",
      "2022-02-25 22:15:30,572 : INFO : discarding 4740 tokens: [('repeat', 8), ('glossari', 7), ('inspect', 8), ('uncol', 2), ('rung', 9), ('secant', 2), ('.', 1603), ('acceler', 6), ('diverg', 3), ('induc', 9)]...\n",
      "2022-02-25 22:15:30,572 : INFO : keeping 1197 tokens which were in no less than 10 and no more than 1602 (=50.0%) documents\n",
      "2022-02-25 22:15:30,575 : INFO : resulting dictionary: Dictionary(1197 unique tokens: ['-', 'algebra', 'intern', 'languag', 'preliminari']...)\n",
      "2022-02-25 22:15:30,651 : WARNING : no word id mapping provided; initializing from corpus, assuming identity\n",
      "2022-02-25 22:15:30,659 : INFO : using autotuned alpha, starting with [0.01, 0.01, 0.01, 0.01, 0.01, 0.01, 0.01, 0.01, 0.01, 0.01, 0.01, 0.01, 0.01, 0.01, 0.01, 0.01, 0.01, 0.01, 0.01, 0.01, 0.01, 0.01, 0.01, 0.01, 0.01, 0.01, 0.01, 0.01, 0.01, 0.01, 0.01, 0.01, 0.01, 0.01, 0.01, 0.01, 0.01, 0.01, 0.01, 0.01, 0.01, 0.01, 0.01, 0.01, 0.01, 0.01, 0.01, 0.01, 0.01, 0.01, 0.01, 0.01, 0.01, 0.01, 0.01, 0.01, 0.01, 0.01, 0.01, 0.01, 0.01, 0.01, 0.01, 0.01, 0.01, 0.01, 0.01, 0.01, 0.01, 0.01, 0.01, 0.01, 0.01, 0.01, 0.01, 0.01, 0.01, 0.01, 0.01, 0.01, 0.01, 0.01, 0.01, 0.01, 0.01, 0.01, 0.01, 0.01, 0.01, 0.01, 0.01, 0.01, 0.01, 0.01, 0.01, 0.01, 0.01, 0.01, 0.01, 0.01]\n",
      "2022-02-25 22:15:30,660 : INFO : using serial LDA version on this node\n",
      "2022-02-25 22:15:30,671 : INFO : running online (multi-pass) LDA training, 100 topics, 20 passes over the supplied corpus of 3204 documents, updating model once every 2000 documents, evaluating perplexity every 3204 documents, iterating 400x with a convergence threshold of 0.001000\n",
      "2022-02-25 22:15:30,672 : INFO : PROGRESS: pass 0, at document #2000/3204\n",
      "2022-02-25 22:15:32,217 : INFO : optimized alpha [0.009844691, 0.009791884, 0.009762188, 0.009834791, 0.009788077, 0.009819071, 0.00978795, 0.009921948, 0.00980884, 0.009777635, 0.009840293, 0.009834317, 0.009988212, 0.009813956, 0.009866243, 0.009808764, 0.009762226, 0.010043998, 0.009901185, 0.00982444, 0.009829074, 0.009819389, 0.009762235, 0.00985005, 0.009990283, 0.009807263, 0.009834552, 0.0098453555, 0.009787942, 0.009860697, 0.009881767, 0.009990387, 0.009782812, 0.009798587, 0.009840056, 0.009834411, 0.0098241195, 0.009808587, 0.00984984, 0.0097880345, 0.009793065, 0.0098192, 0.009850094, 0.0097880745, 0.009845482, 0.009762313, 0.009782792, 0.010027978, 0.009813874, 0.009782832, 0.009819334, 0.009782832, 0.009798223, 0.009788146, 0.009782897, 0.009798711, 0.009803569, 0.009772594, 0.009815338, 0.009834128, 0.009777795, 0.009855742, 0.009788014, 0.009850444, 0.009844955, 0.009798491, 0.009824397, 0.009881203, 0.00981911, 0.010084861, 0.009813642, 0.009798389, 0.009808687, 0.009829368, 0.00996023, 0.009892005, 0.009829807, 0.009772532, 0.009762232, 0.009803567, 0.0097985165, 0.009788015, 0.009819008, 0.009835114, 0.009783058, 0.009834364, 0.009773394, 0.00977763, 0.009783006, 0.009819426, 0.009813728, 0.009860546, 0.009772652, 0.009819064, 0.009891164, 0.009870867, 0.009808962, 0.009788121, 0.009823957, 0.009823695]\n",
      "2022-02-25 22:15:32,222 : INFO : merging changes from 2000 documents into a model of 3204 documents\n",
      "2022-02-25 22:15:32,228 : INFO : topic #22 (0.010): 0.163*\"0\" + 0.054*\"441\" + 0.054*\"327\" + 0.054*\"10\" + 0.054*\"114\" + 0.054*\"68\" + 0.054*\"107\" + 0.054*\"66\" + 0.054*\"486\" + 0.000*\"799\"\n",
      "2022-02-25 22:15:32,229 : INFO : topic #2 (0.010): 0.053*\"508\" + 0.051*\"289\" + 0.050*\"417\" + 0.050*\"165\" + 0.048*\"47\" + 0.047*\"71\" + 0.043*\"115\" + 0.039*\"57\" + 0.001*\"802\" + 0.001*\"800\"\n",
      "2022-02-25 22:15:32,230 : INFO : topic #24 (0.010): 0.078*\"50\" + 0.026*\"6\" + 0.022*\"3\" + 0.021*\"0\" + 0.018*\"13\" + 0.017*\"34\" + 0.015*\"83\" + 0.013*\"35\" + 0.010*\"87\" + 0.009*\"490\"\n",
      "2022-02-25 22:15:32,231 : INFO : topic #69 (0.010): 0.065*\"50\" + 0.045*\"0\" + 0.028*\"49\" + 0.027*\"34\" + 0.020*\"35\" + 0.018*\"6\" + 0.013*\"582\" + 0.011*\"57\" + 0.011*\"146\" + 0.010*\"3\"\n",
      "2022-02-25 22:15:32,232 : INFO : topic #17 (0.010): 0.077*\"50\" + 0.044*\"13\" + 0.031*\"0\" + 0.023*\"49\" + 0.020*\"6\" + 0.017*\"3\" + 0.016*\"115\" + 0.010*\"582\" + 0.010*\"34\" + 0.009*\"146\"\n",
      "2022-02-25 22:15:32,234 : INFO : topic diff=83.251129, rho=1.000000\n",
      "2022-02-25 22:15:33,496 : INFO : -7.233 per-word bound, 150.5 perplexity estimate based on a held-out corpus of 1204 documents with 49783 words\n",
      "2022-02-25 22:15:33,497 : INFO : PROGRESS: pass 0, at document #3204/3204\n",
      "2022-02-25 22:15:34,576 : INFO : optimized alpha [0.009796439, 0.009995212, 0.009518119, 0.010042448, 0.009805431, 0.00988449, 0.009700096, 0.0098722605, 0.009826899, 0.009678232, 0.010267297, 0.00989863, 0.009918267, 0.009807605, 0.010068526, 0.009942859, 0.009691675, 0.010870436, 0.010028755, 0.00990133, 0.009745916, 0.009991522, 0.009679847, 0.010039108, 0.010235144, 0.010052293, 0.00997538, 0.010087767, 0.009933172, 0.010115356, 0.010316405, 0.010162868, 0.009706522, 0.009956977, 0.009887778, 0.00982842, 0.009865082, 0.0101354085, 0.00990879, 0.009875975, 0.009809157, 0.010191373, 0.009860697, 0.010027776, 0.010340065, 0.009919224, 0.009939664, 0.010322919, 0.009855003, 0.009740834, 0.010030895, 0.009689373, 0.010071762, 0.00991083, 0.009776112, 0.010087183, 0.0099794455, 0.010010248, 0.010043635, 0.010009706, 0.009737113, 0.010207525, 0.009823033, 0.010206113, 0.009933372, 0.009868088, 0.009928929, 0.009965127, 0.010023153, 0.010686634, 0.010006434, 0.009902781, 0.009943263, 0.010005292, 0.010265585, 0.01015878, 0.010124615, 0.009851402, 0.009690562, 0.009873946, 0.009909973, 0.009875637, 0.009789379, 0.009959738, 0.010240857, 0.0100222295, 0.009598078, 0.00970665, 0.009748051, 0.010026858, 0.00980739, 0.009930842, 0.009773211, 0.01000236, 0.009847389, 0.00985884, 0.010404722, 0.009841011, 0.009793726, 0.009847233]\n",
      "2022-02-25 22:15:34,584 : INFO : merging changes from 1204 documents into a model of 3204 documents\n",
      "2022-02-25 22:15:34,592 : INFO : topic #2 (0.010): 0.421*\"289\" + 0.191*\"71\" + 0.044*\"508\" + 0.036*\"57\" + 0.007*\"417\" + 0.007*\"165\" + 0.007*\"47\" + 0.006*\"115\" + 0.000*\"804\" + 0.000*\"802\"\n",
      "2022-02-25 22:15:34,592 : INFO : topic #86 (0.010): 0.135*\"980\" + 0.112*\"315\" + 0.076*\"1022\" + 0.072*\"292\" + 0.058*\"146\" + 0.057*\"73\" + 0.049*\"12\" + 0.042*\"882\" + 0.036*\"366\" + 0.028*\"6\"\n",
      "2022-02-25 22:15:34,593 : INFO : topic #96 (0.010): 0.093*\"918\" + 0.066*\"458\" + 0.062*\"50\" + 0.055*\"91\" + 0.025*\"115\" + 0.020*\"83\" + 0.020*\"66\" + 0.019*\"472\" + 0.018*\"276\" + 0.017*\"765\"\n",
      "2022-02-25 22:15:34,595 : INFO : topic #69 (0.011): 0.074*\"50\" + 0.043*\"0\" + 0.039*\"49\" + 0.023*\"34\" + 0.020*\"35\" + 0.018*\"6\" + 0.017*\"165\" + 0.014*\"582\" + 0.014*\"518\" + 0.011*\"57\"\n",
      "2022-02-25 22:15:34,597 : INFO : topic #17 (0.011): 0.084*\"50\" + 0.048*\"13\" + 0.029*\"0\" + 0.024*\"49\" + 0.021*\"115\" + 0.018*\"3\" + 0.013*\"6\" + 0.012*\"146\" + 0.010*\"240\" + 0.010*\"45\"\n",
      "2022-02-25 22:15:34,599 : INFO : topic diff=0.783650, rho=0.707107\n",
      "2022-02-25 22:15:34,610 : INFO : PROGRESS: pass 1, at document #2000/3204\n",
      "2022-02-25 22:15:35,540 : INFO : optimized alpha [0.009725814, 0.010026561, 0.009462945, 0.009987797, 0.009804879, 0.009827557, 0.009662376, 0.009797487, 0.009774129, 0.009868569, 0.010210725, 0.009883226, 0.009823818, 0.009823327, 0.010029855, 0.009927462, 0.009696607, 0.01089103, 0.010470047, 0.009876009, 0.0097617265, 0.009929864, 0.009728926, 0.0100062, 0.01019134, 0.010012688, 0.009921848, 0.010013485, 0.009922002, 0.0099971555, 0.010345334, 0.010084665, 0.009784087, 0.009914295, 0.009889266, 0.0097467145, 0.009798072, 0.010208977, 0.009822311, 0.009921509, 0.009894559, 0.010100555, 0.009807216, 0.010036872, 0.010315602, 0.009927004, 0.009947994, 0.0102693, 0.009875152, 0.009761423, 0.010095474, 0.009605192, 0.010104536, 0.009932292, 0.009951506, 0.010087691, 0.009949722, 0.009963109, 0.009993836, 0.010348824, 0.00980771, 0.010125321, 0.009945144, 0.010104324, 0.009894127, 0.009811508, 0.009900163, 0.009931552, 0.009922956, 0.0106866555, 0.010018617, 0.009866448, 0.009972822, 0.0100228395, 0.010188223, 0.010112871, 0.010046829, 0.009843974, 0.009695296, 0.009877718, 0.009902603, 0.009989596, 0.009817817, 0.009904554, 0.010291094, 0.009919553, 0.0095847575, 0.009673572, 0.009660245, 0.010015936, 0.009715207, 0.009831017, 0.009880501, 0.010023771, 0.009767859, 0.009773989, 0.010339216, 0.009827291, 0.009710065, 0.009801735]\n"
     ]
    },
    {
     "name": "stderr",
     "output_type": "stream",
     "text": [
      "2022-02-25 22:15:35,549 : INFO : merging changes from 2000 documents into a model of 3204 documents\n",
      "2022-02-25 22:15:35,555 : INFO : topic #2 (0.009): 0.580*\"289\" + 0.130*\"71\" + 0.094*\"508\" + 0.036*\"57\" + 0.005*\"417\" + 0.003*\"47\" + 0.002*\"165\" + 0.002*\"115\" + 0.000*\"803\" + 0.000*\"802\"\n",
      "2022-02-25 22:15:35,556 : INFO : topic #86 (0.010): 0.170*\"315\" + 0.125*\"12\" + 0.084*\"980\" + 0.080*\"292\" + 0.072*\"882\" + 0.065*\"146\" + 0.057*\"1022\" + 0.045*\"1110\" + 0.035*\"6\" + 0.035*\"73\"\n",
      "2022-02-25 22:15:35,557 : INFO : topic #18 (0.010): 0.137*\"34\" + 0.130*\"83\" + 0.077*\"611\" + 0.072*\"1015\" + 0.060*\"35\" + 0.028*\"254\" + 0.019*\"69\" + 0.017*\"31\" + 0.017*\"404\" + 0.016*\"356\"\n",
      "2022-02-25 22:15:35,561 : INFO : topic #69 (0.011): 0.076*\"50\" + 0.045*\"0\" + 0.040*\"49\" + 0.024*\"34\" + 0.020*\"6\" + 0.019*\"35\" + 0.016*\"165\" + 0.015*\"582\" + 0.014*\"518\" + 0.014*\"57\"\n",
      "2022-02-25 22:15:35,562 : INFO : topic #17 (0.011): 0.086*\"50\" + 0.054*\"13\" + 0.030*\"0\" + 0.027*\"49\" + 0.023*\"115\" + 0.019*\"3\" + 0.014*\"6\" + 0.012*\"146\" + 0.011*\"45\" + 0.010*\"582\"\n",
      "2022-02-25 22:15:35,563 : INFO : topic diff=0.301376, rho=0.526900\n",
      "2022-02-25 22:15:36,541 : INFO : -6.844 per-word bound, 114.8 perplexity estimate based on a held-out corpus of 1204 documents with 49783 words\n",
      "2022-02-25 22:15:36,542 : INFO : PROGRESS: pass 1, at document #3204/3204\n",
      "2022-02-25 22:15:37,343 : INFO : optimized alpha [0.009745712, 0.010263485, 0.009435794, 0.010054043, 0.0098929405, 0.009986486, 0.009635867, 0.009812492, 0.009854744, 0.009859336, 0.010539012, 0.010010407, 0.009824733, 0.009890012, 0.010193998, 0.010054096, 0.009783963, 0.011390247, 0.010527699, 0.009947321, 0.009802383, 0.010120493, 0.009841258, 0.010209762, 0.010310748, 0.010209808, 0.010062809, 0.010194778, 0.010144678, 0.010094507, 0.010639105, 0.010141253, 0.009888622, 0.01005886, 0.009934174, 0.009792603, 0.009860782, 0.010643262, 0.009954706, 0.010136694, 0.009928175, 0.010367857, 0.009843382, 0.010270133, 0.010731146, 0.010118886, 0.01014513, 0.010458175, 0.0099899955, 0.0098786205, 0.010326082, 0.00960527, 0.010448926, 0.01012546, 0.0100149205, 0.010309052, 0.010125722, 0.010207605, 0.010129563, 0.0106020095, 0.009961344, 0.010390553, 0.010026646, 0.01027708, 0.010031211, 0.00989922, 0.010044604, 0.010074809, 0.010057739, 0.010986873, 0.010277869, 0.010009918, 0.010121555, 0.010228772, 0.010311676, 0.0102670435, 0.0102194585, 0.010042111, 0.009802464, 0.010018695, 0.010086937, 0.010124432, 0.009854023, 0.010037623, 0.010631698, 0.010051272, 0.009605746, 0.009773658, 0.009702466, 0.010202635, 0.009760994, 0.009911373, 0.0100206295, 0.010290981, 0.009800193, 0.009820426, 0.010802085, 0.009972613, 0.00976072, 0.00987757]\n",
      "2022-02-25 22:15:37,349 : INFO : merging changes from 1204 documents into a model of 3204 documents\n",
      "2022-02-25 22:15:37,355 : INFO : topic #2 (0.009): 0.783*\"289\" + 0.082*\"71\" + 0.036*\"57\" + 0.033*\"508\" + 0.001*\"417\" + 0.001*\"47\" + 0.000*\"165\" + 0.000*\"115\" + 0.000*\"803\" + 0.000*\"802\"\n",
      "2022-02-25 22:15:37,356 : INFO : topic #51 (0.010): 0.158*\"800\" + 0.112*\"784\" + 0.049*\"616\" + 0.035*\"916\" + 0.034*\"1091\" + 0.034*\"631\" + 0.033*\"904\" + 0.031*\"50\" + 0.030*\"89\" + 0.030*\"1099\"\n",
      "2022-02-25 22:15:37,360 : INFO : topic #96 (0.011): 0.109*\"918\" + 0.082*\"458\" + 0.067*\"50\" + 0.064*\"91\" + 0.032*\"115\" + 0.024*\"276\" + 0.023*\"66\" + 0.021*\"472\" + 0.020*\"83\" + 0.020*\"765\"\n",
      "2022-02-25 22:15:37,363 : INFO : topic #69 (0.011): 0.081*\"50\" + 0.048*\"49\" + 0.046*\"0\" + 0.023*\"34\" + 0.022*\"165\" + 0.020*\"6\" + 0.019*\"518\" + 0.019*\"35\" + 0.016*\"582\" + 0.014*\"57\"\n",
      "2022-02-25 22:15:37,364 : INFO : topic #17 (0.011): 0.089*\"50\" + 0.054*\"13\" + 0.031*\"0\" + 0.028*\"49\" + 0.025*\"115\" + 0.018*\"3\" + 0.014*\"146\" + 0.011*\"45\" + 0.011*\"240\" + 0.011*\"244\"\n",
      "2022-02-25 22:15:37,368 : INFO : topic diff=0.426102, rho=0.526900\n",
      "2022-02-25 22:15:37,375 : INFO : PROGRESS: pass 2, at document #2000/3204\n",
      "2022-02-25 22:15:38,201 : INFO : optimized alpha [0.009692184, 0.0103183985, 0.009416484, 0.010009297, 0.009894921, 0.009949704, 0.009647811, 0.00975359, 0.009822978, 0.010209726, 0.010504939, 0.010024821, 0.009751522, 0.009990883, 0.01018531, 0.01008746, 0.009811409, 0.011408254, 0.01090427, 0.009953581, 0.009839773, 0.01008889, 0.009946866, 0.010220185, 0.010274482, 0.010201969, 0.010055787, 0.010147453, 0.010166605, 0.009991835, 0.010710094, 0.010066514, 0.010019897, 0.010044313, 0.01000428, 0.009740468, 0.00982605, 0.010725386, 0.009892584, 0.010225891, 0.010001782, 0.0103022335, 0.00981621, 0.010268981, 0.010732715, 0.01016982, 0.010199025, 0.010412119, 0.0100527955, 0.009973226, 0.01047041, 0.009576543, 0.010489555, 0.010181812, 0.010223523, 0.010325084, 0.010110394, 0.010190101, 0.010109211, 0.011004977, 0.01009882, 0.010337646, 0.010222612, 0.010194303, 0.010059813, 0.009882456, 0.010084605, 0.010065953, 0.009986257, 0.010991727, 0.010327442, 0.010015049, 0.010209103, 0.010266726, 0.01023849, 0.010233065, 0.010181446, 0.01009085, 0.009834082, 0.010064073, 0.010126577, 0.010242341, 0.009954035, 0.00996987, 0.010706281, 0.009965884, 0.009675898, 0.009799254, 0.009645362, 0.010220717, 0.009714118, 0.009834213, 0.010175402, 0.01039587, 0.0097529, 0.009777687, 0.010765288, 0.009992919, 0.009704865, 0.009875571]\n",
      "2022-02-25 22:15:38,207 : INFO : merging changes from 2000 documents into a model of 3204 documents\n",
      "2022-02-25 22:15:38,212 : INFO : topic #2 (0.009): 0.774*\"289\" + 0.066*\"71\" + 0.051*\"508\" + 0.040*\"57\" + 0.001*\"417\" + 0.000*\"47\" + 0.000*\"165\" + 0.000*\"115\" + 0.000*\"803\" + 0.000*\"802\"\n",
      "2022-02-25 22:15:38,213 : INFO : topic #51 (0.010): 0.105*\"800\" + 0.098*\"784\" + 0.072*\"89\" + 0.050*\"631\" + 0.039*\"616\" + 0.038*\"916\" + 0.037*\"1091\" + 0.035*\"1099\" + 0.029*\"50\" + 0.028*\"904\"\n",
      "2022-02-25 22:15:38,215 : INFO : topic #69 (0.011): 0.082*\"50\" + 0.049*\"0\" + 0.049*\"49\" + 0.024*\"34\" + 0.021*\"6\" + 0.021*\"165\" + 0.020*\"518\" + 0.019*\"35\" + 0.017*\"57\" + 0.016*\"582\"\n",
      "2022-02-25 22:15:38,216 : INFO : topic #59 (0.011): 0.167*\"34\" + 0.156*\"35\" + 0.138*\"83\" + 0.034*\"294\" + 0.034*\"38\" + 0.032*\"37\" + 0.031*\"516\" + 0.030*\"69\" + 0.030*\"0\" + 0.025*\"19\"\n",
      "2022-02-25 22:15:38,217 : INFO : topic #17 (0.011): 0.091*\"50\" + 0.060*\"13\" + 0.031*\"0\" + 0.030*\"49\" + 0.025*\"115\" + 0.018*\"3\" + 0.014*\"146\" + 0.012*\"45\" + 0.011*\"6\" + 0.010*\"244\"\n",
      "2022-02-25 22:15:38,218 : INFO : topic diff=0.372690, rho=0.466151\n",
      "2022-02-25 22:15:39,207 : INFO : -6.730 per-word bound, 106.1 perplexity estimate based on a held-out corpus of 1204 documents with 49783 words\n",
      "2022-02-25 22:15:39,208 : INFO : PROGRESS: pass 2, at document #3204/3204\n",
      "2022-02-25 22:15:40,315 : INFO : optimized alpha [0.009775814, 0.010546866, 0.0094967615, 0.010073013, 0.010015993, 0.010134368, 0.009693772, 0.009799599, 0.0099027585, 0.010200806, 0.01081667, 0.010181269, 0.009785499, 0.010080985, 0.010355043, 0.01021591, 0.009904545, 0.011766808, 0.010976334, 0.010075452, 0.0099145165, 0.010278701, 0.010081231, 0.010453856, 0.010376681, 0.010389574, 0.010212884, 0.010301212, 0.0103777135, 0.010063626, 0.01099956, 0.010098226, 0.010162553, 0.010200409, 0.010071206, 0.00980172, 0.0099248085, 0.011117896, 0.010057122, 0.010457909, 0.010047141, 0.010573494, 0.009887848, 0.010453337, 0.011134912, 0.010388267, 0.01037524, 0.010592596, 0.010202063, 0.010112336, 0.010726818, 0.009600944, 0.010845786, 0.010406269, 0.010301721, 0.01052262, 0.010295175, 0.010424724, 0.010230155, 0.011237017, 0.010314733, 0.010579182, 0.010305487, 0.010312021, 0.01024851, 0.0099877855, 0.01024459, 0.010221421, 0.010110346, 0.011251959, 0.010588103, 0.010193749, 0.010365333, 0.01048258, 0.010380865, 0.010382405, 0.010347548, 0.010322939, 0.009941018, 0.010213061, 0.01033053, 0.010413448, 0.010035954, 0.010064911, 0.011038606, 0.010075829, 0.009792216, 0.009960407, 0.0097297, 0.010383242, 0.009767477, 0.009972444, 0.010346979, 0.010726792, 0.009828936, 0.0098509155, 0.01116867, 0.010243552, 0.009774236, 0.009985845]\n",
      "2022-02-25 22:15:40,321 : INFO : merging changes from 1204 documents into a model of 3204 documents\n",
      "2022-02-25 22:15:40,329 : INFO : topic #2 (0.009): 0.839*\"289\" + 0.054*\"71\" + 0.039*\"57\" + 0.023*\"508\" + 0.000*\"417\" + 0.000*\"47\" + 0.000*\"165\" + 0.000*\"115\" + 0.000*\"803\" + 0.000*\"802\"\n",
      "2022-02-25 22:15:40,330 : INFO : topic #51 (0.010): 0.148*\"800\" + 0.109*\"784\" + 0.059*\"89\" + 0.059*\"631\" + 0.049*\"616\" + 0.037*\"1099\" + 0.036*\"904\" + 0.033*\"916\" + 0.032*\"1091\" + 0.029*\"50\"\n"
     ]
    },
    {
     "name": "stderr",
     "output_type": "stream",
     "text": [
      "2022-02-25 22:15:40,331 : INFO : topic #59 (0.011): 0.163*\"34\" + 0.151*\"35\" + 0.129*\"83\" + 0.038*\"294\" + 0.033*\"69\" + 0.033*\"516\" + 0.031*\"37\" + 0.031*\"0\" + 0.030*\"38\" + 0.030*\"202\"\n",
      "2022-02-25 22:15:40,331 : INFO : topic #69 (0.011): 0.084*\"50\" + 0.055*\"49\" + 0.050*\"0\" + 0.025*\"165\" + 0.024*\"518\" + 0.022*\"34\" + 0.022*\"6\" + 0.017*\"35\" + 0.017*\"57\" + 0.016*\"582\"\n",
      "2022-02-25 22:15:40,332 : INFO : topic #17 (0.012): 0.092*\"50\" + 0.057*\"13\" + 0.031*\"0\" + 0.030*\"49\" + 0.028*\"115\" + 0.016*\"146\" + 0.015*\"3\" + 0.012*\"518\" + 0.012*\"244\" + 0.011*\"53\"\n",
      "2022-02-25 22:15:40,333 : INFO : topic diff=0.510683, rho=0.466151\n",
      "2022-02-25 22:15:40,342 : INFO : PROGRESS: pass 3, at document #2000/3204\n",
      "2022-02-25 22:15:41,493 : INFO : optimized alpha [0.009755109, 0.010595672, 0.009499781, 0.010052958, 0.010032489, 0.010106535, 0.009742388, 0.009762333, 0.009891614, 0.010576933, 0.010796718, 0.010230646, 0.009727452, 0.010188542, 0.010361801, 0.010281054, 0.009931743, 0.01179796, 0.011306464, 0.010085292, 0.009952776, 0.010264478, 0.010207579, 0.010477482, 0.010341836, 0.010394885, 0.010225666, 0.010271163, 0.010412101, 0.009970486, 0.011086319, 0.0100478055, 0.010306549, 0.010204021, 0.010186858, 0.009770231, 0.009895708, 0.01128112, 0.010008801, 0.010549689, 0.010131484, 0.010527536, 0.009895435, 0.01048454, 0.011168339, 0.010464488, 0.010436941, 0.010561349, 0.010274226, 0.010217796, 0.010914105, 0.00959466, 0.010905491, 0.010485527, 0.010515623, 0.010549607, 0.010297829, 0.0104315, 0.010227045, 0.011638756, 0.010475803, 0.010540781, 0.010501166, 0.010253208, 0.010312868, 0.010000377, 0.010306518, 0.010232522, 0.010052433, 0.011276317, 0.010636375, 0.010232221, 0.010466923, 0.010522546, 0.0103212595, 0.010357878, 0.01034343, 0.010409967, 0.009982329, 0.010271576, 0.01037441, 0.010543251, 0.010150987, 0.010006359, 0.011116572, 0.010005796, 0.009908013, 0.010002011, 0.0096829515, 0.010421382, 0.009732484, 0.009930283, 0.0105334185, 0.010906803, 0.00980975, 0.009834037, 0.011142464, 0.010315012, 0.009724835, 0.009990536]\n",
      "2022-02-25 22:15:41,501 : INFO : merging changes from 2000 documents into a model of 3204 documents\n",
      "2022-02-25 22:15:41,508 : INFO : topic #2 (0.009): 0.820*\"289\" + 0.049*\"71\" + 0.042*\"57\" + 0.037*\"508\" + 0.000*\"417\" + 0.000*\"47\" + 0.000*\"165\" + 0.000*\"115\" + 0.000*\"803\" + 0.000*\"802\"\n",
      "2022-02-25 22:15:41,509 : INFO : topic #51 (0.010): 0.107*\"800\" + 0.100*\"784\" + 0.098*\"89\" + 0.068*\"631\" + 0.041*\"616\" + 0.041*\"1099\" + 0.035*\"916\" + 0.035*\"1091\" + 0.031*\"904\" + 0.028*\"50\"\n",
      "2022-02-25 22:15:41,510 : INFO : topic #18 (0.011): 0.147*\"83\" + 0.147*\"34\" + 0.076*\"611\" + 0.074*\"35\" + 0.066*\"1015\" + 0.061*\"254\" + 0.030*\"9\" + 0.026*\"356\" + 0.026*\"19\" + 0.025*\"1093\"\n",
      "2022-02-25 22:15:41,512 : INFO : topic #59 (0.012): 0.182*\"34\" + 0.170*\"35\" + 0.145*\"83\" + 0.036*\"38\" + 0.036*\"294\" + 0.032*\"37\" + 0.031*\"69\" + 0.030*\"516\" + 0.027*\"19\" + 0.026*\"0\"\n",
      "2022-02-25 22:15:41,513 : INFO : topic #17 (0.012): 0.094*\"50\" + 0.063*\"13\" + 0.032*\"0\" + 0.032*\"49\" + 0.028*\"115\" + 0.015*\"146\" + 0.015*\"3\" + 0.013*\"518\" + 0.012*\"353\" + 0.012*\"45\"\n",
      "2022-02-25 22:15:41,515 : INFO : topic diff=0.508898, rho=0.422502\n",
      "2022-02-25 22:15:42,805 : INFO : -6.652 per-word bound, 100.6 perplexity estimate based on a held-out corpus of 1204 documents with 49783 words\n",
      "2022-02-25 22:15:42,812 : INFO : PROGRESS: pass 3, at document #3204/3204\n",
      "2022-02-25 22:15:43,805 : INFO : optimized alpha [0.009873134, 0.010808929, 0.00962006, 0.010100854, 0.010207315, 0.010304204, 0.0098049985, 0.009826106, 0.009961151, 0.0105714435, 0.01111447, 0.010380772, 0.009770268, 0.010277611, 0.010524087, 0.010412665, 0.010013356, 0.012086229, 0.011356686, 0.010200137, 0.010035086, 0.010445528, 0.010355141, 0.010740173, 0.010457525, 0.010573902, 0.010387497, 0.010430144, 0.010620471, 0.010037279, 0.011337147, 0.010089042, 0.010469153, 0.010346662, 0.010239756, 0.009840631, 0.010000143, 0.011712379, 0.010205331, 0.01077416, 0.01018694, 0.010818146, 0.009964587, 0.010675134, 0.011558007, 0.0106429225, 0.01061682, 0.010756644, 0.01045445, 0.010380467, 0.011189497, 0.009634743, 0.011254944, 0.0107587725, 0.010599986, 0.010753058, 0.010496374, 0.010676328, 0.010359325, 0.011826751, 0.010697057, 0.010788474, 0.010608678, 0.010368298, 0.010503999, 0.010107189, 0.01045997, 0.010378359, 0.010176561, 0.01150277, 0.01089119, 0.010428156, 0.010627933, 0.01072021, 0.010470027, 0.010490711, 0.010528438, 0.010634384, 0.010076376, 0.010414932, 0.010583302, 0.010725453, 0.010235504, 0.010122149, 0.011439629, 0.010092232, 0.010038427, 0.010170456, 0.009777567, 0.010588511, 0.009792281, 0.010063875, 0.010708572, 0.011246337, 0.009928139, 0.0099363, 0.011539829, 0.010593517, 0.009785516, 0.0101018455]\n",
      "2022-02-25 22:15:43,811 : INFO : merging changes from 1204 documents into a model of 3204 documents\n",
      "2022-02-25 22:15:43,817 : INFO : topic #2 (0.010): 0.857*\"289\" + 0.045*\"71\" + 0.040*\"57\" + 0.020*\"508\" + 0.000*\"417\" + 0.000*\"47\" + 0.000*\"165\" + 0.000*\"115\" + 0.000*\"803\" + 0.000*\"802\"\n",
      "2022-02-25 22:15:43,818 : INFO : topic #51 (0.010): 0.143*\"800\" + 0.109*\"784\" + 0.078*\"89\" + 0.075*\"631\" + 0.049*\"616\" + 0.042*\"1099\" + 0.036*\"904\" + 0.032*\"916\" + 0.031*\"1091\" + 0.029*\"400\"\n",
      "2022-02-25 22:15:43,818 : INFO : topic #37 (0.012): 0.202*\"34\" + 0.175*\"35\" + 0.139*\"83\" + 0.112*\"859\" + 0.094*\"611\" + 0.025*\"180\" + 0.023*\"36\" + 0.021*\"542\" + 0.021*\"30\" + 0.018*\"54\"\n",
      "2022-02-25 22:15:43,822 : INFO : topic #59 (0.012): 0.178*\"34\" + 0.163*\"35\" + 0.133*\"83\" + 0.036*\"69\" + 0.036*\"294\" + 0.034*\"516\" + 0.032*\"38\" + 0.032*\"37\" + 0.029*\"202\" + 0.029*\"1187\"\n",
      "2022-02-25 22:15:43,823 : INFO : topic #17 (0.012): 0.096*\"50\" + 0.061*\"13\" + 0.032*\"0\" + 0.032*\"49\" + 0.028*\"115\" + 0.017*\"146\" + 0.014*\"518\" + 0.014*\"353\" + 0.014*\"244\" + 0.013*\"3\"\n",
      "2022-02-25 22:15:43,824 : INFO : topic diff=0.629533, rho=0.422502\n",
      "2022-02-25 22:15:43,833 : INFO : PROGRESS: pass 4, at document #2000/3204\n",
      "2022-02-25 22:15:44,774 : INFO : optimized alpha [0.009863622, 0.010853072, 0.009635761, 0.010105074, 0.010234005, 0.0102814445, 0.009875039, 0.00980422, 0.00995535, 0.010981804, 0.011093333, 0.01044044, 0.009725891, 0.010395917, 0.010531892, 0.010491182, 0.01003874, 0.012117915, 0.011656377, 0.010221138, 0.0100959055, 0.010435763, 0.010480929, 0.010775177, 0.010433808, 0.010602991, 0.010413137, 0.010410212, 0.010653464, 0.009955267, 0.011429948, 0.010038088, 0.010628005, 0.010361791, 0.010369685, 0.009818038, 0.009977503, 0.012066036, 0.010177757, 0.010884172, 0.010277111, 0.010790191, 0.0099759605, 0.010709363, 0.011604628, 0.010711217, 0.010677731, 0.010741838, 0.010539636, 0.010496523, 0.0113874, 0.009646769, 0.011310424, 0.010854732, 0.010788131, 0.010793975, 0.010499951, 0.010691544, 0.0103603285, 0.0121097565, 0.010852026, 0.010774706, 0.010810534, 0.010316601, 0.010583669, 0.010120824, 0.010523233, 0.010396414, 0.0101293875, 0.01154475, 0.010951674, 0.010477359, 0.010757415, 0.010745668, 0.010421125, 0.010478229, 0.0105280215, 0.010743667, 0.01011861, 0.0104853185, 0.010635288, 0.010865061, 0.0103624435, 0.010072603, 0.011528299, 0.01004467, 0.0101716425, 0.010218305, 0.009746421, 0.010635819, 0.009766753, 0.010034883, 0.010906308, 0.011455294, 0.009918198, 0.009940409, 0.011525157, 0.010685935, 0.00975254, 0.010112127]\n",
      "2022-02-25 22:15:44,781 : INFO : merging changes from 2000 documents into a model of 3204 documents\n",
      "2022-02-25 22:15:44,787 : INFO : topic #2 (0.010): 0.847*\"289\" + 0.041*\"57\" + 0.041*\"71\" + 0.025*\"508\" + 0.000*\"417\" + 0.000*\"47\" + 0.000*\"165\" + 0.000*\"115\" + 0.000*\"803\" + 0.000*\"802\"\n",
      "2022-02-25 22:15:44,788 : INFO : topic #51 (0.010): 0.121*\"89\" + 0.105*\"800\" + 0.099*\"784\" + 0.077*\"631\" + 0.052*\"1099\" + 0.041*\"616\" + 0.034*\"916\" + 0.033*\"1091\" + 0.030*\"904\" + 0.028*\"400\"\n",
      "2022-02-25 22:15:44,788 : INFO : topic #37 (0.012): 0.236*\"34\" + 0.207*\"35\" + 0.160*\"83\" + 0.078*\"859\" + 0.068*\"611\" + 0.023*\"36\" + 0.022*\"180\" + 0.018*\"542\" + 0.017*\"30\" + 0.017*\"54\"\n",
      "2022-02-25 22:15:44,789 : INFO : topic #59 (0.012): 0.185*\"34\" + 0.170*\"35\" + 0.138*\"83\" + 0.039*\"38\" + 0.034*\"69\" + 0.034*\"37\" + 0.033*\"516\" + 0.033*\"294\" + 0.031*\"19\" + 0.026*\"202\"\n",
      "2022-02-25 22:15:44,790 : INFO : topic #17 (0.012): 0.098*\"50\" + 0.066*\"13\" + 0.033*\"49\" + 0.032*\"0\" + 0.029*\"115\" + 0.016*\"146\" + 0.015*\"353\" + 0.013*\"518\" + 0.013*\"3\" + 0.013*\"244\"\n"
     ]
    },
    {
     "name": "stderr",
     "output_type": "stream",
     "text": [
      "2022-02-25 22:15:44,791 : INFO : topic diff=0.604909, rho=0.389191\n",
      "2022-02-25 22:15:45,853 : INFO : -6.596 per-word bound, 96.7 perplexity estimate based on a held-out corpus of 1204 documents with 49783 words\n",
      "2022-02-25 22:15:45,853 : INFO : PROGRESS: pass 4, at document #3204/3204\n",
      "2022-02-25 22:15:46,702 : INFO : optimized alpha [0.009999023, 0.011044755, 0.009766291, 0.010176374, 0.010426853, 0.010472279, 0.00994247, 0.009899221, 0.010016911, 0.010968172, 0.011376518, 0.010610274, 0.009766658, 0.010484799, 0.01067595, 0.010599557, 0.010114541, 0.012382799, 0.011699858, 0.010327648, 0.010181744, 0.010614296, 0.010621374, 0.011035085, 0.010541348, 0.010772901, 0.010567126, 0.010581932, 0.010854759, 0.0100279, 0.011679336, 0.010084232, 0.0107963495, 0.010500915, 0.010435025, 0.00990623, 0.010074603, 0.012611968, 0.010374136, 0.011118579, 0.010344848, 0.011076403, 0.010066434, 0.0108867595, 0.01200667, 0.0108806025, 0.010827683, 0.010930654, 0.010738466, 0.0106716165, 0.011713331, 0.00969385, 0.011654159, 0.011171755, 0.010889493, 0.010972927, 0.010715759, 0.010913239, 0.010496769, 0.012219922, 0.011076776, 0.010995465, 0.0109338015, 0.010433944, 0.010789245, 0.010233198, 0.010672634, 0.010545483, 0.010267818, 0.011782571, 0.011204335, 0.010659903, 0.01091373, 0.0109155085, 0.0105697205, 0.010598131, 0.010727761, 0.010967169, 0.010199324, 0.010632097, 0.01084042, 0.011041651, 0.010446762, 0.010183697, 0.0118393935, 0.010115589, 0.010308993, 0.010384966, 0.009847221, 0.010791264, 0.009822809, 0.010201641, 0.011076082, 0.011822014, 0.010057235, 0.01005832, 0.011918219, 0.0109861335, 0.0097966185, 0.010218869]\n",
      "2022-02-25 22:15:46,710 : INFO : merging changes from 1204 documents into a model of 3204 documents\n",
      "2022-02-25 22:15:46,717 : INFO : topic #51 (0.010): 0.138*\"800\" + 0.106*\"784\" + 0.096*\"89\" + 0.084*\"631\" + 0.048*\"1099\" + 0.047*\"616\" + 0.035*\"904\" + 0.035*\"400\" + 0.031*\"916\" + 0.028*\"1091\"\n",
      "2022-02-25 22:15:46,720 : INFO : topic #12 (0.010): 0.053*\"50\" + 0.050*\"1168\" + 0.047*\"1169\" + 0.041*\"429\" + 0.039*\"1079\" + 0.035*\"29\" + 0.035*\"6\" + 0.028*\"794\" + 0.026*\"15\" + 0.024*\"73\"\n",
      "2022-02-25 22:15:46,721 : INFO : topic #59 (0.012): 0.176*\"34\" + 0.160*\"35\" + 0.120*\"83\" + 0.043*\"69\" + 0.038*\"516\" + 0.038*\"38\" + 0.036*\"37\" + 0.033*\"294\" + 0.033*\"19\" + 0.032*\"1187\"\n",
      "2022-02-25 22:15:46,722 : INFO : topic #17 (0.012): 0.098*\"50\" + 0.063*\"13\" + 0.032*\"49\" + 0.031*\"0\" + 0.029*\"115\" + 0.017*\"146\" + 0.017*\"353\" + 0.015*\"244\" + 0.014*\"518\" + 0.012*\"53\"\n",
      "2022-02-25 22:15:46,723 : INFO : topic #37 (0.013): 0.239*\"34\" + 0.212*\"35\" + 0.161*\"83\" + 0.093*\"859\" + 0.078*\"611\" + 0.026*\"36\" + 0.023*\"180\" + 0.015*\"542\" + 0.014*\"30\" + 0.013*\"54\"\n",
      "2022-02-25 22:15:46,724 : INFO : topic diff=0.674237, rho=0.389191\n",
      "2022-02-25 22:15:46,731 : INFO : PROGRESS: pass 5, at document #2000/3204\n",
      "2022-02-25 22:15:47,590 : INFO : optimized alpha [0.009999118, 0.011095313, 0.00977903, 0.010201208, 0.010477721, 0.010455899, 0.010022866, 0.009888059, 0.010017523, 0.011358142, 0.011358923, 0.010677448, 0.009728227, 0.01061946, 0.010688833, 0.01069445, 0.01013861, 0.012426931, 0.011993339, 0.010354928, 0.010253758, 0.010614251, 0.010749653, 0.011080786, 0.010523236, 0.010807598, 0.010600487, 0.010568532, 0.010900729, 0.00995103, 0.011763821, 0.010049148, 0.010950681, 0.010520582, 0.010571037, 0.009890996, 0.010057446, 0.013180923, 0.010356954, 0.011241953, 0.010446608, 0.011060282, 0.010090104, 0.010914265, 0.012050202, 0.010948269, 0.010858795, 0.0109259905, 0.010828073, 0.010790667, 0.011931876, 0.009716297, 0.011704234, 0.0112939915, 0.011069594, 0.011024732, 0.010727848, 0.010930341, 0.010503215, 0.012376837, 0.011241446, 0.010991601, 0.011143094, 0.010399474, 0.0108832745, 0.010249672, 0.010753056, 0.010564018, 0.010229315, 0.011840669, 0.011274448, 0.010711347, 0.01104569, 0.010946625, 0.01053752, 0.010594226, 0.010749944, 0.011079761, 0.010246467, 0.010703883, 0.0109081855, 0.011177336, 0.01057404, 0.010156516, 0.011928066, 0.0100739375, 0.010468437, 0.010429428, 0.0098201865, 0.0108413175, 0.009810581, 0.010185237, 0.011264024, 0.012045168, 0.010055064, 0.010063909, 0.011896631, 0.011098377, 0.009770507, 0.010237932]\n",
      "2022-02-25 22:15:47,596 : INFO : merging changes from 2000 documents into a model of 3204 documents\n",
      "2022-02-25 22:15:47,602 : INFO : topic #12 (0.010): 0.056*\"50\" + 0.042*\"1168\" + 0.039*\"1079\" + 0.039*\"1169\" + 0.038*\"6\" + 0.033*\"429\" + 0.033*\"29\" + 0.027*\"15\" + 0.026*\"73\" + 0.024*\"794\"\n",
      "2022-02-25 22:15:47,603 : INFO : topic #51 (0.010): 0.140*\"89\" + 0.104*\"800\" + 0.096*\"784\" + 0.085*\"631\" + 0.061*\"1099\" + 0.040*\"616\" + 0.032*\"916\" + 0.032*\"400\" + 0.030*\"1091\" + 0.030*\"904\"\n",
      "2022-02-25 22:15:47,603 : INFO : topic #59 (0.012): 0.177*\"34\" + 0.160*\"35\" + 0.122*\"83\" + 0.046*\"38\" + 0.042*\"69\" + 0.041*\"37\" + 0.039*\"516\" + 0.036*\"19\" + 0.029*\"202\" + 0.029*\"294\"\n",
      "2022-02-25 22:15:47,606 : INFO : topic #17 (0.012): 0.099*\"50\" + 0.069*\"13\" + 0.034*\"49\" + 0.032*\"0\" + 0.029*\"115\" + 0.018*\"353\" + 0.017*\"146\" + 0.014*\"518\" + 0.014*\"244\" + 0.012*\"773\"\n",
      "2022-02-25 22:15:47,607 : INFO : topic #37 (0.013): 0.271*\"34\" + 0.245*\"35\" + 0.178*\"83\" + 0.064*\"859\" + 0.055*\"611\" + 0.025*\"36\" + 0.020*\"180\" + 0.012*\"542\" + 0.010*\"30\" + 0.010*\"54\"\n",
      "2022-02-25 22:15:47,608 : INFO : topic diff=0.615176, rho=0.362690\n",
      "2022-02-25 22:15:48,723 : INFO : -6.555 per-word bound, 94.0 perplexity estimate based on a held-out corpus of 1204 documents with 49783 words\n",
      "2022-02-25 22:15:48,723 : INFO : PROGRESS: pass 5, at document #3204/3204\n",
      "2022-02-25 22:15:49,549 : INFO : optimized alpha [0.010138507, 0.0112725375, 0.009901985, 0.010280766, 0.010685074, 0.0106261, 0.010097911, 0.009998445, 0.010084791, 0.011340899, 0.011623473, 0.010869439, 0.009773281, 0.0107120415, 0.010830839, 0.010811979, 0.010216019, 0.012688517, 0.012038555, 0.01047064, 0.010355795, 0.010801776, 0.010888004, 0.011327027, 0.010624528, 0.010980674, 0.010764834, 0.010749779, 0.011090633, 0.010032016, 0.011977949, 0.010111809, 0.011109211, 0.010660687, 0.010625379, 0.00998604, 0.010148695, 0.013887075, 0.010557871, 0.011477183, 0.010525558, 0.011331468, 0.010196815, 0.011107567, 0.012430902, 0.011107648, 0.010996525, 0.01111725, 0.011039062, 0.010962293, 0.012286993, 0.0097754905, 0.012045456, 0.01163452, 0.011164044, 0.011186519, 0.010934828, 0.01114636, 0.010634744, 0.012429662, 0.011474995, 0.011213154, 0.011268309, 0.010513131, 0.011100542, 0.010364629, 0.010909871, 0.010720315, 0.010374994, 0.012083606, 0.011527331, 0.010883307, 0.011192564, 0.011116318, 0.0107032135, 0.010739136, 0.0109513365, 0.011307943, 0.010325296, 0.010854901, 0.011105213, 0.011346962, 0.010658999, 0.010282706, 0.01223441, 0.010134856, 0.010603775, 0.010595824, 0.009920928, 0.01098423, 0.009860712, 0.010370233, 0.01141005, 0.012415678, 0.010207181, 0.010199306, 0.012270813, 0.011431554, 0.00981248, 0.010341224]\n",
      "2022-02-25 22:15:49,557 : INFO : merging changes from 1204 documents into a model of 3204 documents\n",
      "2022-02-25 22:15:49,564 : INFO : topic #51 (0.010): 0.132*\"800\" + 0.112*\"89\" + 0.102*\"784\" + 0.089*\"631\" + 0.060*\"1099\" + 0.045*\"616\" + 0.039*\"400\" + 0.034*\"904\" + 0.030*\"916\" + 0.027*\"1091\"\n",
      "2022-02-25 22:15:49,565 : INFO : topic #98 (0.010): 0.087*\"198\" + 0.077*\"34\" + 0.065*\"35\" + 0.058*\"209\" + 0.048*\"0\" + 0.045*\"425\" + 0.045*\"442\" + 0.044*\"694\" + 0.031*\"1078\" + 0.030*\"36\"\n",
      "2022-02-25 22:15:49,566 : INFO : topic #44 (0.012): 0.127*\"49\" + 0.070*\"50\" + 0.054*\"239\" + 0.041*\"135\" + 0.037*\"1070\" + 0.033*\"96\" + 0.031*\"6\" + 0.025*\"45\" + 0.024*\"0\" + 0.022*\"165\"\n",
      "2022-02-25 22:15:49,567 : INFO : topic #17 (0.013): 0.099*\"50\" + 0.067*\"13\" + 0.033*\"49\" + 0.031*\"0\" + 0.028*\"115\" + 0.019*\"353\" + 0.018*\"146\" + 0.015*\"244\" + 0.014*\"518\" + 0.013*\"53\"\n",
      "2022-02-25 22:15:49,568 : INFO : topic #37 (0.014): 0.269*\"34\" + 0.243*\"35\" + 0.176*\"83\" + 0.077*\"859\" + 0.064*\"611\" + 0.027*\"36\" + 0.021*\"180\" + 0.011*\"542\" + 0.009*\"24\" + 0.009*\"30\"\n",
      "2022-02-25 22:15:49,569 : INFO : topic diff=0.642633, rho=0.362690\n",
      "2022-02-25 22:15:49,579 : INFO : PROGRESS: pass 6, at document #2000/3204\n",
      "2022-02-25 22:15:50,482 : INFO : optimized alpha [0.010143539, 0.011325657, 0.009913901, 0.010311528, 0.010749101, 0.010611916, 0.010184522, 0.009998328, 0.010087438, 0.011723361, 0.011613244, 0.010943831, 0.00973988, 0.010858764, 0.010840863, 0.010909495, 0.010242506, 0.012729036, 0.012325952, 0.01050714, 0.010425766, 0.01081038, 0.011013818, 0.011381045, 0.010609627, 0.01102797, 0.010801514, 0.010743893, 0.011139346, 0.009962558, 0.012055423, 0.01007958, 0.011264021, 0.010684422, 0.010760358, 0.0099719195, 0.01013626, 0.014617998, 0.01054988, 0.011609852, 0.010629377, 0.011314604, 0.0102192415, 0.011130923, 0.012474279, 0.011177103, 0.011021925, 0.011119772, 0.0111332815, 0.011086619, 0.0125017995, 0.009807079, 0.012093048, 0.01176855, 0.011332113, 0.011237126, 0.010964119, 0.011165416, 0.010646174, 0.012540208, 0.011632325, 0.011210369, 0.011482257, 0.01048635, 0.01120269, 0.010396157, 0.010995335, 0.01073366, 0.010347372, 0.012158817, 0.011610688, 0.0109353615, 0.011333491, 0.011156621, 0.010679818, 0.010738943, 0.010984762, 0.011420471, 0.010370075, 0.010930282, 0.011161215, 0.0114800185, 0.010792795, 0.010260621, 0.0123298345, 0.010103553, 0.010763483, 0.010637479, 0.009902463, 0.01103138, 0.009848274, 0.010363, 0.0115957735, 0.012649982, 0.010206409, 0.010218297, 0.012247232, 0.011561416, 0.009788675, 0.010361108]\n"
     ]
    },
    {
     "name": "stderr",
     "output_type": "stream",
     "text": [
      "2022-02-25 22:15:50,488 : INFO : merging changes from 2000 documents into a model of 3204 documents\n",
      "2022-02-25 22:15:50,494 : INFO : topic #12 (0.010): 0.056*\"50\" + 0.044*\"1168\" + 0.042*\"6\" + 0.040*\"1079\" + 0.040*\"1169\" + 0.039*\"429\" + 0.035*\"29\" + 0.029*\"15\" + 0.026*\"73\" + 0.025*\"794\"\n",
      "2022-02-25 22:15:50,495 : INFO : topic #51 (0.010): 0.154*\"89\" + 0.100*\"800\" + 0.093*\"784\" + 0.090*\"631\" + 0.073*\"1099\" + 0.038*\"616\" + 0.035*\"400\" + 0.031*\"916\" + 0.029*\"904\" + 0.028*\"1091\"\n",
      "2022-02-25 22:15:50,495 : INFO : topic #93 (0.013): 0.229*\"13\" + 0.171*\"3\" + 0.039*\"50\" + 0.030*\"598\" + 0.022*\"6\" + 0.022*\"666\" + 0.021*\"220\" + 0.018*\"53\" + 0.017*\"240\" + 0.016*\"0\"\n",
      "2022-02-25 22:15:50,497 : INFO : topic #17 (0.013): 0.101*\"50\" + 0.073*\"13\" + 0.035*\"49\" + 0.031*\"0\" + 0.028*\"115\" + 0.020*\"353\" + 0.017*\"146\" + 0.014*\"244\" + 0.014*\"518\" + 0.013*\"773\"\n",
      "2022-02-25 22:15:50,498 : INFO : topic #37 (0.015): 0.292*\"34\" + 0.268*\"35\" + 0.187*\"83\" + 0.055*\"859\" + 0.047*\"611\" + 0.026*\"36\" + 0.018*\"180\" + 0.010*\"24\" + 0.009*\"542\" + 0.007*\"50\"\n",
      "2022-02-25 22:15:50,499 : INFO : topic diff=0.569122, rho=0.340958\n",
      "2022-02-25 22:15:51,527 : INFO : -6.525 per-word bound, 92.1 perplexity estimate based on a held-out corpus of 1204 documents with 49783 words\n",
      "2022-02-25 22:15:51,528 : INFO : PROGRESS: pass 6, at document #3204/3204\n",
      "2022-02-25 22:15:52,373 : INFO : optimized alpha [0.010284454, 0.011497149, 0.010030596, 0.01039864, 0.010959223, 0.010785608, 0.010266785, 0.010114492, 0.010142842, 0.011709553, 0.0118554365, 0.011135873, 0.009783321, 0.010949016, 0.010981878, 0.0110080475, 0.010310129, 0.012974199, 0.012366183, 0.010616844, 0.010528279, 0.0110041555, 0.011148019, 0.011638838, 0.010721116, 0.011201908, 0.010963763, 0.0109254755, 0.011323078, 0.010039748, 0.012272783, 0.010151008, 0.011424035, 0.0108081475, 0.010808131, 0.010070734, 0.010220039, 0.015472754, 0.010744167, 0.011847796, 0.010709847, 0.01158332, 0.010332218, 0.011314717, 0.012854913, 0.011331491, 0.011146228, 0.011301595, 0.011344172, 0.011252986, 0.012873537, 0.009874502, 0.012417163, 0.01212061, 0.011430437, 0.011397186, 0.011179832, 0.011374177, 0.010770877, 0.012567758, 0.01186883, 0.0114342915, 0.011606824, 0.010597204, 0.01141647, 0.010505167, 0.011150502, 0.010879031, 0.010494488, 0.012397615, 0.011852508, 0.011107954, 0.01151128, 0.011314524, 0.010840332, 0.010888769, 0.011198494, 0.01163832, 0.010447656, 0.011070545, 0.011364626, 0.011650795, 0.010872721, 0.01037453, 0.012644267, 0.010167543, 0.010903937, 0.010801546, 0.0100120865, 0.011166715, 0.009899061, 0.010565562, 0.011733941, 0.0130416835, 0.010365363, 0.0103556495, 0.012591754, 0.0119091775, 0.009820538, 0.01046503]\n",
      "2022-02-25 22:15:52,382 : INFO : merging changes from 1204 documents into a model of 3204 documents\n",
      "2022-02-25 22:15:52,390 : INFO : topic #12 (0.010): 0.054*\"50\" + 0.051*\"1168\" + 0.051*\"429\" + 0.047*\"1169\" + 0.042*\"6\" + 0.041*\"1079\" + 0.040*\"29\" + 0.031*\"794\" + 0.029*\"15\" + 0.024*\"73\"\n",
      "2022-02-25 22:15:52,397 : INFO : topic #98 (0.010): 0.102*\"198\" + 0.070*\"34\" + 0.064*\"209\" + 0.058*\"35\" + 0.049*\"425\" + 0.049*\"442\" + 0.048*\"694\" + 0.046*\"0\" + 0.034*\"1078\" + 0.031*\"455\"\n",
      "2022-02-25 22:15:52,398 : INFO : topic #17 (0.013): 0.101*\"50\" + 0.069*\"13\" + 0.034*\"49\" + 0.030*\"0\" + 0.027*\"115\" + 0.020*\"353\" + 0.018*\"146\" + 0.016*\"244\" + 0.014*\"518\" + 0.013*\"53\"\n",
      "2022-02-25 22:15:52,403 : INFO : topic #93 (0.013): 0.243*\"13\" + 0.164*\"3\" + 0.040*\"50\" + 0.035*\"598\" + 0.023*\"220\" + 0.023*\"666\" + 0.019*\"6\" + 0.019*\"240\" + 0.018*\"221\" + 0.017*\"53\"\n",
      "2022-02-25 22:15:52,405 : INFO : topic #37 (0.015): 0.291*\"34\" + 0.265*\"35\" + 0.180*\"83\" + 0.066*\"859\" + 0.055*\"611\" + 0.028*\"36\" + 0.019*\"180\" + 0.012*\"24\" + 0.009*\"542\" + 0.006*\"29\"\n",
      "2022-02-25 22:15:52,407 : INFO : topic diff=0.576837, rho=0.340958\n",
      "2022-02-25 22:15:52,421 : INFO : PROGRESS: pass 7, at document #2000/3204\n",
      "2022-02-25 22:15:53,331 : INFO : optimized alpha [0.0102955885, 0.011554775, 0.010041872, 0.01044316, 0.0110322125, 0.010773277, 0.010354481, 0.01011931, 0.010149204, 0.012086591, 0.011844528, 0.011206481, 0.009754177, 0.011097004, 0.010996556, 0.01110483, 0.0103306575, 0.013007381, 0.012646942, 0.010655098, 0.010596766, 0.011015215, 0.011266781, 0.011691382, 0.010705432, 0.011255801, 0.011014282, 0.010931698, 0.011376308, 0.0099749295, 0.012356157, 0.010124431, 0.011572748, 0.010834121, 0.010944599, 0.010059141, 0.010215185, 0.01639571, 0.010732352, 0.011982443, 0.0108126355, 0.011571294, 0.010356926, 0.0113382405, 0.012892051, 0.011401211, 0.011168495, 0.011310831, 0.011443156, 0.011366745, 0.01309394, 0.009912861, 0.012458773, 0.012264673, 0.01160094, 0.011448845, 0.011206929, 0.011389603, 0.010786885, 0.01266081, 0.012023887, 0.011451257, 0.011818948, 0.010577202, 0.01151579, 0.010543713, 0.011242925, 0.010893241, 0.010474822, 0.012485154, 0.0119392695, 0.011167884, 0.011661299, 0.011358186, 0.010831909, 0.010890086, 0.011249499, 0.01175326, 0.010492166, 0.011147721, 0.011419377, 0.011780111, 0.010999288, 0.010360391, 0.012734615, 0.010140249, 0.011061109, 0.010840815, 0.010004418, 0.01121879, 0.009891119, 0.0105698155, 0.011914569, 0.01329455, 0.010362585, 0.010366815, 0.012564672, 0.012048914, 0.0098020425, 0.010482376]\n",
      "2022-02-25 22:15:53,338 : INFO : merging changes from 2000 documents into a model of 3204 documents\n",
      "2022-02-25 22:15:53,346 : INFO : topic #12 (0.010): 0.057*\"50\" + 0.045*\"6\" + 0.044*\"429\" + 0.044*\"1168\" + 0.040*\"1079\" + 0.040*\"1169\" + 0.038*\"29\" + 0.032*\"15\" + 0.026*\"794\" + 0.026*\"73\"\n",
      "2022-02-25 22:15:53,347 : INFO : topic #98 (0.010): 0.112*\"198\" + 0.067*\"34\" + 0.065*\"209\" + 0.055*\"35\" + 0.047*\"425\" + 0.046*\"0\" + 0.045*\"694\" + 0.043*\"442\" + 0.034*\"1078\" + 0.030*\"507\"\n",
      "2022-02-25 22:15:53,348 : INFO : topic #50 (0.013): 0.136*\"29\" + 0.116*\"30\" + 0.104*\"54\" + 0.065*\"0\" + 0.057*\"41\" + 0.044*\"50\" + 0.043*\"334\" + 0.035*\"345\" + 0.025*\"342\" + 0.021*\"273\"\n",
      "2022-02-25 22:15:53,350 : INFO : topic #93 (0.013): 0.239*\"13\" + 0.175*\"3\" + 0.040*\"50\" + 0.029*\"598\" + 0.022*\"666\" + 0.021*\"6\" + 0.021*\"220\" + 0.018*\"53\" + 0.017*\"240\" + 0.016*\"0\"\n",
      "2022-02-25 22:15:53,351 : INFO : topic #37 (0.016): 0.309*\"34\" + 0.286*\"35\" + 0.188*\"83\" + 0.048*\"859\" + 0.041*\"611\" + 0.026*\"36\" + 0.016*\"180\" + 0.013*\"24\" + 0.007*\"542\" + 0.006*\"50\"\n",
      "2022-02-25 22:15:53,352 : INFO : topic diff=0.503548, rho=0.322715\n",
      "2022-02-25 22:15:54,336 : INFO : -6.500 per-word bound, 90.5 perplexity estimate based on a held-out corpus of 1204 documents with 49783 words\n",
      "2022-02-25 22:15:54,337 : INFO : PROGRESS: pass 7, at document #3204/3204\n",
      "2022-02-25 22:15:55,128 : INFO : optimized alpha [0.010435757, 0.011709283, 0.010153349, 0.010523349, 0.01123114, 0.01093656, 0.010429876, 0.010235828, 0.010207756, 0.012059748, 0.012079967, 0.011387476, 0.009804086, 0.011194552, 0.011137216, 0.01120144, 0.010395274, 0.013238608, 0.012693165, 0.01075974, 0.010700082, 0.011209759, 0.011400765, 0.0119456295, 0.010820743, 0.011437364, 0.0111783715, 0.011099712, 0.011555251, 0.010065165, 0.012554393, 0.010195584, 0.011725669, 0.010952197, 0.010998513, 0.010167067, 0.010303537, 0.017365327, 0.010927186, 0.012220922, 0.010894762, 0.011836027, 0.010478972, 0.011517116, 0.0132528655, 0.011554785, 0.011280977, 0.0114942435, 0.01164888, 0.011525842, 0.013473354, 0.009982466, 0.012777937, 0.012630028, 0.011694034, 0.011608044, 0.011407831, 0.0115927, 0.010908845, 0.01269385, 0.012271084, 0.011675301, 0.011940433, 0.010691789, 0.011727296, 0.010653385, 0.011394267, 0.011043879, 0.010623831, 0.012731753, 0.012178168, 0.011338904, 0.011834724, 0.011511964, 0.011006038, 0.01103909, 0.011469892, 0.011965539, 0.0105661545, 0.011290664, 0.011620439, 0.011946442, 0.011072063, 0.010474821, 0.013037851, 0.010209955, 0.011201078, 0.0110064475, 0.010111789, 0.011353991, 0.009937336, 0.010784054, 0.01204926, 0.0137019735, 0.010511744, 0.010503654, 0.012903098, 0.012403019, 0.0098356595, 0.010584453]\n",
      "2022-02-25 22:15:55,136 : INFO : merging changes from 1204 documents into a model of 3204 documents\n",
      "2022-02-25 22:15:55,144 : INFO : topic #12 (0.010): 0.056*\"429\" + 0.054*\"50\" + 0.051*\"1168\" + 0.047*\"1169\" + 0.045*\"6\" + 0.042*\"29\" + 0.041*\"1079\" + 0.031*\"15\" + 0.031*\"794\" + 0.024*\"73\"\n",
      "2022-02-25 22:15:55,144 : INFO : topic #98 (0.010): 0.114*\"198\" + 0.069*\"209\" + 0.061*\"34\" + 0.054*\"694\" + 0.053*\"425\" + 0.053*\"442\" + 0.050*\"35\" + 0.045*\"0\" + 0.037*\"1078\" + 0.034*\"455\"\n"
     ]
    },
    {
     "name": "stderr",
     "output_type": "stream",
     "text": [
      "2022-02-25 22:15:55,146 : INFO : topic #50 (0.013): 0.150*\"29\" + 0.122*\"30\" + 0.101*\"54\" + 0.063*\"0\" + 0.055*\"41\" + 0.044*\"50\" + 0.041*\"334\" + 0.038*\"345\" + 0.021*\"273\" + 0.019*\"103\"\n",
      "2022-02-25 22:15:55,147 : INFO : topic #93 (0.014): 0.251*\"13\" + 0.167*\"3\" + 0.041*\"50\" + 0.034*\"598\" + 0.023*\"220\" + 0.023*\"666\" + 0.019*\"6\" + 0.018*\"240\" + 0.017*\"221\" + 0.017*\"53\"\n",
      "2022-02-25 22:15:55,149 : INFO : topic #37 (0.017): 0.305*\"34\" + 0.280*\"35\" + 0.181*\"83\" + 0.059*\"859\" + 0.049*\"611\" + 0.028*\"36\" + 0.017*\"180\" + 0.015*\"24\" + 0.008*\"542\" + 0.005*\"50\"\n",
      "2022-02-25 22:15:55,150 : INFO : topic diff=0.503929, rho=0.322715\n",
      "2022-02-25 22:15:55,157 : INFO : PROGRESS: pass 8, at document #2000/3204\n",
      "2022-02-25 22:15:56,009 : INFO : optimized alpha [0.010446152, 0.011764239, 0.01016411, 0.010562799, 0.011304356, 0.010924375, 0.010520539, 0.010246672, 0.010218934, 0.012470385, 0.012075946, 0.01146537, 0.009783092, 0.01134094, 0.0111511005, 0.011301382, 0.010415186, 0.013279943, 0.012974664, 0.010801473, 0.010764131, 0.011221477, 0.011522064, 0.011995196, 0.010817642, 0.011497362, 0.011230001, 0.011108652, 0.011605945, 0.010005589, 0.012630261, 0.010170772, 0.011876355, 0.01097863, 0.0111470185, 0.010157624, 0.010302333, 0.01840167, 0.010918499, 0.012348614, 0.010996972, 0.011821338, 0.010510624, 0.011537359, 0.01328652, 0.011623231, 0.011309195, 0.011500766, 0.011740309, 0.011638735, 0.013690028, 0.010022445, 0.012824035, 0.012780531, 0.01186759, 0.011659068, 0.011443722, 0.011613836, 0.010925767, 0.012789141, 0.012417027, 0.011685175, 0.012151614, 0.010684383, 0.011827919, 0.010690335, 0.011483002, 0.0110572, 0.010608026, 0.012823402, 0.012264744, 0.011394351, 0.011993977, 0.011558717, 0.011002674, 0.011050334, 0.011527159, 0.012077746, 0.010612173, 0.011380439, 0.01167231, 0.012072768, 0.011200793, 0.010464621, 0.013133736, 0.010184544, 0.011353025, 0.011047063, 0.010104538, 0.011407262, 0.009935, 0.010803857, 0.012231368, 0.013959768, 0.010520082, 0.010517374, 0.0128767155, 0.012545379, 0.009826388, 0.010604384]\n",
      "2022-02-25 22:15:56,015 : INFO : merging changes from 2000 documents into a model of 3204 documents\n",
      "2022-02-25 22:15:56,021 : INFO : topic #12 (0.010): 0.057*\"50\" + 0.048*\"429\" + 0.048*\"6\" + 0.044*\"1168\" + 0.042*\"29\" + 0.040*\"1079\" + 0.040*\"1169\" + 0.034*\"15\" + 0.027*\"794\" + 0.025*\"73\"\n",
      "2022-02-25 22:15:56,022 : INFO : topic #98 (0.010): 0.123*\"198\" + 0.069*\"209\" + 0.058*\"34\" + 0.051*\"425\" + 0.050*\"694\" + 0.047*\"442\" + 0.046*\"35\" + 0.046*\"0\" + 0.036*\"1078\" + 0.032*\"507\"\n",
      "2022-02-25 22:15:56,024 : INFO : topic #50 (0.014): 0.141*\"29\" + 0.119*\"30\" + 0.105*\"54\" + 0.065*\"0\" + 0.056*\"41\" + 0.044*\"50\" + 0.042*\"334\" + 0.036*\"345\" + 0.025*\"342\" + 0.021*\"273\"\n",
      "2022-02-25 22:15:56,026 : INFO : topic #93 (0.014): 0.246*\"13\" + 0.178*\"3\" + 0.041*\"50\" + 0.029*\"598\" + 0.022*\"666\" + 0.021*\"220\" + 0.021*\"6\" + 0.018*\"53\" + 0.017*\"240\" + 0.017*\"0\"\n",
      "2022-02-25 22:15:56,027 : INFO : topic #37 (0.018): 0.318*\"34\" + 0.298*\"35\" + 0.188*\"83\" + 0.045*\"859\" + 0.037*\"611\" + 0.027*\"36\" + 0.015*\"180\" + 0.015*\"24\" + 0.006*\"542\" + 0.005*\"50\"\n",
      "2022-02-25 22:15:56,028 : INFO : topic diff=0.437799, rho=0.307119\n",
      "2022-02-25 22:15:56,949 : INFO : -6.482 per-word bound, 89.4 perplexity estimate based on a held-out corpus of 1204 documents with 49783 words\n",
      "2022-02-25 22:15:56,949 : INFO : PROGRESS: pass 8, at document #3204/3204\n",
      "2022-02-25 22:15:57,828 : INFO : optimized alpha [0.010580847, 0.0119185485, 0.010271153, 0.010647822, 0.011496232, 0.011075767, 0.010603175, 0.010366441, 0.010272702, 0.012440271, 0.012305869, 0.011645496, 0.009836482, 0.011434143, 0.011286308, 0.011387808, 0.010474637, 0.013505806, 0.013016651, 0.010910193, 0.010868708, 0.011411676, 0.011650512, 0.012237907, 0.010928397, 0.011683998, 0.011387903, 0.011293267, 0.011778069, 0.010089752, 0.012811265, 0.010262937, 0.0120292, 0.01109195, 0.011203802, 0.0102664875, 0.010381875, 0.019476673, 0.011100481, 0.012597863, 0.011078245, 0.012101504, 0.010644078, 0.011709473, 0.013640433, 0.011782602, 0.011428679, 0.011695321, 0.011953772, 0.011791654, 0.01408196, 0.010104472, 0.01312328, 0.013147286, 0.011962177, 0.011821064, 0.011646148, 0.01182133, 0.011045526, 0.0128274, 0.01266595, 0.0118952105, 0.012279948, 0.0107944645, 0.01203505, 0.010811995, 0.011634377, 0.011204836, 0.0107619185, 0.013061724, 0.012508054, 0.011561762, 0.012167014, 0.01171231, 0.011175961, 0.011187864, 0.011748881, 0.012291769, 0.010685769, 0.011517721, 0.011869016, 0.012251086, 0.011281558, 0.010569184, 0.013417292, 0.010259574, 0.01148743, 0.011209214, 0.010207623, 0.011536997, 0.009982272, 0.011030294, 0.012353993, 0.014374184, 0.010676794, 0.010670592, 0.013197307, 0.012900836, 0.009859157, 0.010702436]\n",
      "2022-02-25 22:15:57,834 : INFO : merging changes from 1204 documents into a model of 3204 documents\n",
      "2022-02-25 22:15:57,840 : INFO : topic #12 (0.010): 0.059*\"429\" + 0.054*\"50\" + 0.050*\"1168\" + 0.048*\"6\" + 0.046*\"1169\" + 0.046*\"29\" + 0.040*\"1079\" + 0.032*\"15\" + 0.031*\"794\" + 0.025*\"588\"\n",
      "2022-02-25 22:15:57,841 : INFO : topic #98 (0.010): 0.124*\"198\" + 0.071*\"209\" + 0.058*\"694\" + 0.056*\"425\" + 0.055*\"442\" + 0.054*\"34\" + 0.045*\"0\" + 0.044*\"35\" + 0.038*\"1078\" + 0.035*\"455\"\n",
      "2022-02-25 22:15:57,843 : INFO : topic #50 (0.014): 0.155*\"29\" + 0.124*\"30\" + 0.102*\"54\" + 0.062*\"0\" + 0.054*\"41\" + 0.044*\"50\" + 0.041*\"334\" + 0.039*\"345\" + 0.021*\"273\" + 0.020*\"103\"\n",
      "2022-02-25 22:15:57,845 : INFO : topic #93 (0.014): 0.256*\"13\" + 0.170*\"3\" + 0.042*\"50\" + 0.033*\"598\" + 0.024*\"220\" + 0.023*\"666\" + 0.018*\"6\" + 0.018*\"240\" + 0.018*\"53\" + 0.017*\"221\"\n",
      "2022-02-25 22:15:57,846 : INFO : topic #37 (0.019): 0.315*\"34\" + 0.291*\"35\" + 0.181*\"83\" + 0.055*\"859\" + 0.044*\"611\" + 0.029*\"36\" + 0.017*\"180\" + 0.016*\"24\" + 0.006*\"542\" + 0.005*\"20\"\n",
      "2022-02-25 22:15:57,846 : INFO : topic diff=0.437155, rho=0.307119\n",
      "2022-02-25 22:15:57,853 : INFO : PROGRESS: pass 9, at document #2000/3204\n",
      "2022-02-25 22:15:58,736 : INFO : optimized alpha [0.010598422, 0.011972958, 0.010281482, 0.010687496, 0.011571652, 0.011062157, 0.010695383, 0.01038443, 0.010279362, 0.012845007, 0.012302799, 0.011723784, 0.009818402, 0.011587852, 0.01129611, 0.011489374, 0.010494108, 0.013556933, 0.013298027, 0.010955226, 0.010932025, 0.011427412, 0.011769511, 0.012297495, 0.010933641, 0.011746727, 0.011440862, 0.011306341, 0.01183349, 0.010034893, 0.012887789, 0.010242462, 0.012177078, 0.01111888, 0.011344287, 0.010260509, 0.010382494, 0.020628424, 0.011096431, 0.012730422, 0.011181895, 0.012096547, 0.010679133, 0.011730205, 0.013685091, 0.0118500935, 0.011452472, 0.011704456, 0.012043526, 0.011902541, 0.014299705, 0.0101533765, 0.013156714, 0.0133142425, 0.012123477, 0.011871681, 0.011683563, 0.01184789, 0.011063446, 0.012917313, 0.012810953, 0.0119040115, 0.01248743, 0.0107907, 0.012139043, 0.010853863, 0.011721623, 0.011215736, 0.010751187, 0.013151597, 0.012592881, 0.011616601, 0.012334089, 0.011760433, 0.011175629, 0.0112002045, 0.011810477, 0.012405382, 0.010728673, 0.0116060935, 0.011920238, 0.012374975, 0.011412782, 0.010562702, 0.013509061, 0.0102341445, 0.011633193, 0.011249631, 0.01019919, 0.0115898345, 0.009984989, 0.011051823, 0.012530879, 0.0146481525, 0.010687637, 0.010683419, 0.013167897, 0.013042409, 0.009853856, 0.010724862]\n",
      "2022-02-25 22:15:58,745 : INFO : merging changes from 2000 documents into a model of 3204 documents\n",
      "2022-02-25 22:15:58,752 : INFO : topic #98 (0.010): 0.131*\"198\" + 0.071*\"209\" + 0.055*\"425\" + 0.053*\"694\" + 0.051*\"34\" + 0.050*\"442\" + 0.045*\"0\" + 0.041*\"35\" + 0.037*\"1078\" + 0.035*\"507\"\n",
      "2022-02-25 22:15:58,753 : INFO : topic #12 (0.010): 0.057*\"50\" + 0.051*\"6\" + 0.051*\"429\" + 0.044*\"29\" + 0.043*\"1168\" + 0.040*\"1079\" + 0.039*\"1169\" + 0.035*\"15\" + 0.027*\"794\" + 0.025*\"73\"\n",
      "2022-02-25 22:15:58,755 : INFO : topic #50 (0.014): 0.146*\"29\" + 0.121*\"30\" + 0.106*\"54\" + 0.064*\"0\" + 0.055*\"41\" + 0.044*\"50\" + 0.042*\"334\" + 0.037*\"345\" + 0.024*\"342\" + 0.020*\"273\"\n",
      "2022-02-25 22:15:58,756 : INFO : topic #93 (0.015): 0.251*\"13\" + 0.180*\"3\" + 0.042*\"50\" + 0.029*\"598\" + 0.022*\"666\" + 0.022*\"220\" + 0.021*\"6\" + 0.019*\"53\" + 0.017*\"240\" + 0.017*\"0\"\n",
      "2022-02-25 22:15:58,757 : INFO : topic #37 (0.021): 0.326*\"34\" + 0.306*\"35\" + 0.187*\"83\" + 0.042*\"859\" + 0.034*\"611\" + 0.027*\"36\" + 0.016*\"24\" + 0.015*\"180\" + 0.005*\"542\" + 0.005*\"20\"\n"
     ]
    },
    {
     "name": "stderr",
     "output_type": "stream",
     "text": [
      "2022-02-25 22:15:58,760 : INFO : topic diff=0.378973, rho=0.293585\n",
      "2022-02-25 22:15:59,709 : INFO : -6.464 per-word bound, 88.3 perplexity estimate based on a held-out corpus of 1204 documents with 49783 words\n",
      "2022-02-25 22:15:59,710 : INFO : PROGRESS: pass 9, at document #3204/3204\n",
      "2022-02-25 22:16:00,623 : INFO : optimized alpha [0.010725804, 0.01212182, 0.010384691, 0.010774668, 0.0117717, 0.011210932, 0.010774787, 0.010502593, 0.010341474, 0.012818125, 0.012519156, 0.01190938, 0.009867829, 0.011679951, 0.011437561, 0.011569446, 0.010551513, 0.013775173, 0.013349263, 0.01105999, 0.011035397, 0.011614222, 0.011887477, 0.012536012, 0.011048589, 0.01193024, 0.011599107, 0.011496182, 0.011996835, 0.010123629, 0.013062368, 0.010339056, 0.012330363, 0.011227911, 0.011401153, 0.010365545, 0.010471885, 0.021803802, 0.011275133, 0.012966316, 0.011262535, 0.012362633, 0.010808107, 0.011899274, 0.01402636, 0.012001081, 0.011565017, 0.011880896, 0.01225937, 0.012047215, 0.014687692, 0.010232419, 0.013450382, 0.013700167, 0.012216913, 0.012030961, 0.011868121, 0.012066026, 0.011173451, 0.012950716, 0.013062376, 0.01212197, 0.012616749, 0.010904875, 0.01235464, 0.0109659415, 0.01187345, 0.01135544, 0.010905006, 0.013392527, 0.012838297, 0.011775483, 0.012510206, 0.011914293, 0.011362387, 0.011332817, 0.012031428, 0.012618787, 0.01080215, 0.01173856, 0.0121105155, 0.012550183, 0.011481733, 0.010658294, 0.013784311, 0.010304099, 0.011762665, 0.011409005, 0.010298567, 0.011720552, 0.010035706, 0.011290653, 0.0126393335, 0.015077911, 0.010857432, 0.01083153, 0.013482242, 0.013390714, 0.0098906625, 0.010819422]\n",
      "2022-02-25 22:16:00,630 : INFO : merging changes from 1204 documents into a model of 3204 documents\n",
      "2022-02-25 22:16:00,637 : INFO : topic #98 (0.010): 0.130*\"198\" + 0.073*\"209\" + 0.063*\"694\" + 0.059*\"425\" + 0.057*\"442\" + 0.048*\"34\" + 0.044*\"0\" + 0.039*\"1078\" + 0.038*\"35\" + 0.038*\"455\"\n",
      "2022-02-25 22:16:00,638 : INFO : topic #12 (0.010): 0.062*\"429\" + 0.055*\"50\" + 0.052*\"6\" + 0.049*\"1168\" + 0.049*\"29\" + 0.045*\"1169\" + 0.040*\"1079\" + 0.033*\"15\" + 0.030*\"794\" + 0.028*\"588\"\n",
      "2022-02-25 22:16:00,638 : INFO : topic #50 (0.015): 0.159*\"29\" + 0.126*\"30\" + 0.103*\"54\" + 0.062*\"0\" + 0.053*\"41\" + 0.044*\"50\" + 0.041*\"334\" + 0.040*\"345\" + 0.021*\"273\" + 0.020*\"103\"\n",
      "2022-02-25 22:16:00,639 : INFO : topic #93 (0.015): 0.261*\"13\" + 0.171*\"3\" + 0.043*\"50\" + 0.033*\"598\" + 0.024*\"220\" + 0.023*\"666\" + 0.018*\"6\" + 0.018*\"240\" + 0.018*\"458\" + 0.018*\"53\"\n",
      "2022-02-25 22:16:00,641 : INFO : topic #37 (0.022): 0.323*\"34\" + 0.299*\"35\" + 0.179*\"83\" + 0.052*\"859\" + 0.041*\"611\" + 0.029*\"36\" + 0.018*\"24\" + 0.016*\"180\" + 0.006*\"542\" + 0.005*\"20\"\n",
      "2022-02-25 22:16:00,642 : INFO : topic diff=0.380431, rho=0.293585\n",
      "2022-02-25 22:16:00,648 : INFO : PROGRESS: pass 10, at document #2000/3204\n",
      "2022-02-25 22:16:01,476 : INFO : optimized alpha [0.010745643, 0.012175879, 0.010394665, 0.010811569, 0.0118460385, 0.011200676, 0.010865664, 0.010518373, 0.010351171, 0.01323812, 0.01252259, 0.0119883, 0.0098565845, 0.011837675, 0.011451691, 0.011669566, 0.010570619, 0.013816033, 0.013621948, 0.011100356, 0.011105876, 0.011635401, 0.012006288, 0.012594692, 0.011053635, 0.01199571, 0.011655014, 0.011509856, 0.012056853, 0.010069945, 0.013136082, 0.010326897, 0.012474127, 0.011258669, 0.011542515, 0.010362735, 0.010471167, 0.023041073, 0.01127539, 0.013092913, 0.011363006, 0.012370514, 0.01084496, 0.011922196, 0.014079863, 0.012064546, 0.011601197, 0.011889244, 0.012353052, 0.012151301, 0.014911143, 0.0102827065, 0.013477549, 0.013880359, 0.012368535, 0.01207788, 0.011898769, 0.012096005, 0.011189158, 0.013037802, 0.013201293, 0.012129579, 0.012826579, 0.0109058935, 0.0124605475, 0.011011025, 0.011961206, 0.011372241, 0.010894313, 0.013479292, 0.012919901, 0.011828244, 0.01267478, 0.011963874, 0.01137127, 0.01134783, 0.012095705, 0.012737576, 0.010843719, 0.0118309045, 0.012161223, 0.01267032, 0.0116141, 0.0106522385, 0.013870499, 0.010294711, 0.01190776, 0.011447782, 0.010294915, 0.011769791, 0.010041574, 0.011313721, 0.012818595, 0.015345501, 0.010865891, 0.010845157, 0.013451862, 0.013526234, 0.009891686, 0.01084424]\n",
      "2022-02-25 22:16:01,483 : INFO : merging changes from 2000 documents into a model of 3204 documents\n",
      "2022-02-25 22:16:01,489 : INFO : topic #12 (0.010): 0.057*\"50\" + 0.055*\"6\" + 0.054*\"429\" + 0.047*\"29\" + 0.043*\"1168\" + 0.039*\"1079\" + 0.039*\"1169\" + 0.035*\"15\" + 0.027*\"588\" + 0.026*\"794\"\n",
      "2022-02-25 22:16:01,490 : INFO : topic #98 (0.010): 0.136*\"198\" + 0.072*\"209\" + 0.060*\"425\" + 0.058*\"694\" + 0.051*\"442\" + 0.044*\"34\" + 0.044*\"0\" + 0.038*\"1078\" + 0.035*\"35\" + 0.035*\"507\"\n",
      "2022-02-25 22:16:01,491 : INFO : topic #50 (0.015): 0.150*\"29\" + 0.123*\"30\" + 0.107*\"54\" + 0.063*\"0\" + 0.054*\"41\" + 0.045*\"50\" + 0.042*\"334\" + 0.038*\"345\" + 0.024*\"342\" + 0.020*\"273\"\n",
      "2022-02-25 22:16:01,492 : INFO : topic #93 (0.015): 0.256*\"13\" + 0.181*\"3\" + 0.043*\"50\" + 0.029*\"598\" + 0.022*\"666\" + 0.022*\"220\" + 0.020*\"6\" + 0.019*\"53\" + 0.018*\"458\" + 0.017*\"0\"\n",
      "2022-02-25 22:16:01,493 : INFO : topic #37 (0.023): 0.332*\"34\" + 0.311*\"35\" + 0.185*\"83\" + 0.041*\"859\" + 0.032*\"611\" + 0.028*\"36\" + 0.018*\"24\" + 0.015*\"180\" + 0.005*\"542\" + 0.005*\"20\"\n",
      "2022-02-25 22:16:01,494 : INFO : topic diff=0.329644, rho=0.281696\n",
      "2022-02-25 22:16:02,558 : INFO : -6.450 per-word bound, 87.5 perplexity estimate based on a held-out corpus of 1204 documents with 49783 words\n",
      "2022-02-25 22:16:02,559 : INFO : PROGRESS: pass 10, at document #3204/3204\n",
      "2022-02-25 22:16:03,341 : INFO : optimized alpha [0.010871447, 0.012319955, 0.01049455, 0.010900949, 0.012062721, 0.01135268, 0.010942194, 0.010632797, 0.010421028, 0.013195409, 0.012738593, 0.012176913, 0.009913907, 0.01193746, 0.011583206, 0.011749374, 0.010623817, 0.014021023, 0.013672614, 0.011196437, 0.0112057915, 0.011813958, 0.012122992, 0.012838687, 0.011167498, 0.012188009, 0.01181399, 0.011699694, 0.012203717, 0.010160718, 0.013302123, 0.010422884, 0.012610864, 0.011364118, 0.011594276, 0.0104716895, 0.010562573, 0.024344299, 0.011451363, 0.013325523, 0.011448643, 0.012632747, 0.010980098, 0.012100061, 0.014430192, 0.01221639, 0.011710096, 0.012077404, 0.0125631755, 0.012291322, 0.015289195, 0.010363917, 0.013769957, 0.014273824, 0.012467042, 0.012237906, 0.012086209, 0.012305207, 0.011298159, 0.013079318, 0.013446535, 0.012326829, 0.012954169, 0.011026882, 0.012673303, 0.011129852, 0.012111119, 0.011502244, 0.011051005, 0.013720093, 0.013167819, 0.011984915, 0.012857458, 0.012109964, 0.011558017, 0.011478918, 0.012316504, 0.012953881, 0.010914749, 0.01195076, 0.012345864, 0.012840167, 0.011683064, 0.010747272, 0.014138462, 0.010367426, 0.01203289, 0.011607658, 0.01039346, 0.011896227, 0.010093208, 0.011570423, 0.012925866, 0.015773313, 0.01103314, 0.010991275, 0.013754529, 0.013864977, 0.009934559, 0.010933194]\n",
      "2022-02-25 22:16:03,347 : INFO : merging changes from 1204 documents into a model of 3204 documents\n",
      "2022-02-25 22:16:03,352 : INFO : topic #98 (0.010): 0.133*\"198\" + 0.074*\"209\" + 0.068*\"694\" + 0.062*\"425\" + 0.058*\"442\" + 0.043*\"0\" + 0.043*\"34\" + 0.041*\"455\" + 0.039*\"1078\" + 0.035*\"507\"\n",
      "2022-02-25 22:16:03,353 : INFO : topic #12 (0.010): 0.063*\"429\" + 0.056*\"6\" + 0.055*\"50\" + 0.052*\"29\" + 0.048*\"1168\" + 0.044*\"1169\" + 0.039*\"1079\" + 0.033*\"15\" + 0.031*\"588\" + 0.030*\"794\"\n",
      "2022-02-25 22:16:03,353 : INFO : topic #50 (0.015): 0.162*\"29\" + 0.129*\"30\" + 0.104*\"54\" + 0.061*\"0\" + 0.053*\"41\" + 0.044*\"50\" + 0.041*\"334\" + 0.040*\"345\" + 0.021*\"273\" + 0.020*\"103\"\n",
      "2022-02-25 22:16:03,354 : INFO : topic #93 (0.016): 0.264*\"13\" + 0.173*\"3\" + 0.044*\"50\" + 0.032*\"598\" + 0.024*\"220\" + 0.023*\"666\" + 0.019*\"458\" + 0.018*\"6\" + 0.018*\"53\" + 0.018*\"240\"\n",
      "2022-02-25 22:16:03,355 : INFO : topic #37 (0.024): 0.329*\"34\" + 0.305*\"35\" + 0.178*\"83\" + 0.050*\"859\" + 0.038*\"611\" + 0.029*\"36\" + 0.019*\"24\" + 0.016*\"180\" + 0.005*\"542\" + 0.004*\"20\"\n",
      "2022-02-25 22:16:03,356 : INFO : topic diff=0.332837, rho=0.281696\n",
      "2022-02-25 22:16:03,363 : INFO : PROGRESS: pass 11, at document #2000/3204\n",
      "2022-02-25 22:16:04,132 : INFO : optimized alpha [0.010891995, 0.012375495, 0.010504225, 0.010936732, 0.01213452, 0.011339405, 0.011030586, 0.010652386, 0.010433467, 0.013613193, 0.012742836, 0.012253302, 0.00990346, 0.01210454, 0.011596784, 0.011849918, 0.010642601, 0.014071751, 0.013941169, 0.011238664, 0.011275748, 0.011835648, 0.012240249, 0.012898441, 0.011175493, 0.012254464, 0.011872809, 0.011717239, 0.012265081, 0.010113559, 0.013371591, 0.010412685, 0.01275093, 0.01139392, 0.011733673, 0.010469011, 0.010566323, 0.02570181, 0.011452723, 0.013444821, 0.011546384, 0.012635698, 0.011020211, 0.012123533, 0.014472734, 0.012281094, 0.011743481, 0.012093265, 0.012660819, 0.012392508, 0.015510353, 0.010414179, 0.013806064, 0.01444817, 0.012608072, 0.012289834, 0.012121975, 0.012333606, 0.011314904, 0.013163842, 0.013585476, 0.012341988, 0.013161484, 0.011029343, 0.012776126, 0.0111750355, 0.012196213, 0.011515251, 0.011041809, 0.013813249, 0.013241153, 0.012032531, 0.013021774, 0.012156143, 0.011569281, 0.011498002, 0.012383451, 0.013069366, 0.010955176, 0.012043741, 0.012392914, 0.012965722, 0.011808821, 0.010743033, 0.014219495, 0.010352999, 0.012174433, 0.011646514, 0.0103914505, 0.011942239, 0.010103372, 0.011598107, 0.01309754, 0.016054105, 0.01104389, 0.011013193, 0.013723298, 0.014000455, 0.009941386, 0.010961832]\n"
     ]
    },
    {
     "name": "stderr",
     "output_type": "stream",
     "text": [
      "2022-02-25 22:16:04,137 : INFO : merging changes from 2000 documents into a model of 3204 documents\n",
      "2022-02-25 22:16:04,143 : INFO : topic #12 (0.010): 0.058*\"6\" + 0.057*\"50\" + 0.055*\"429\" + 0.051*\"29\" + 0.042*\"1168\" + 0.038*\"1079\" + 0.038*\"1169\" + 0.034*\"15\" + 0.029*\"588\" + 0.027*\"794\"\n",
      "2022-02-25 22:16:04,143 : INFO : topic #98 (0.010): 0.141*\"198\" + 0.073*\"209\" + 0.064*\"425\" + 0.063*\"694\" + 0.052*\"442\" + 0.043*\"0\" + 0.039*\"34\" + 0.038*\"1078\" + 0.036*\"455\" + 0.035*\"507\"\n",
      "2022-02-25 22:16:04,144 : INFO : topic #50 (0.016): 0.153*\"29\" + 0.125*\"30\" + 0.108*\"54\" + 0.063*\"0\" + 0.054*\"41\" + 0.045*\"50\" + 0.042*\"334\" + 0.038*\"345\" + 0.024*\"342\" + 0.020*\"273\"\n",
      "2022-02-25 22:16:04,145 : INFO : topic #93 (0.016): 0.259*\"13\" + 0.181*\"3\" + 0.044*\"50\" + 0.028*\"598\" + 0.023*\"220\" + 0.022*\"666\" + 0.020*\"6\" + 0.019*\"458\" + 0.019*\"53\" + 0.017*\"0\"\n",
      "2022-02-25 22:16:04,145 : INFO : topic #37 (0.026): 0.337*\"34\" + 0.316*\"35\" + 0.184*\"83\" + 0.039*\"859\" + 0.030*\"611\" + 0.028*\"36\" + 0.018*\"24\" + 0.014*\"180\" + 0.004*\"20\" + 0.004*\"542\"\n",
      "2022-02-25 22:16:04,146 : INFO : topic diff=0.289262, rho=0.271143\n",
      "2022-02-25 22:16:05,052 : INFO : -6.438 per-word bound, 86.7 perplexity estimate based on a held-out corpus of 1204 documents with 49783 words\n",
      "2022-02-25 22:16:05,053 : INFO : PROGRESS: pass 11, at document #3204/3204\n",
      "2022-02-25 22:16:05,783 : INFO : optimized alpha [0.011016647, 0.012515343, 0.010601162, 0.01102597, 0.012343333, 0.011479362, 0.011104592, 0.010758712, 0.01050139, 0.01357064, 0.012958977, 0.012439851, 0.00995026, 0.012206338, 0.011727228, 0.011927002, 0.0106919445, 0.014287243, 0.013985258, 0.011326771, 0.01137004, 0.012017452, 0.012353224, 0.01313368, 0.011293647, 0.012469726, 0.012024753, 0.011910225, 0.012407642, 0.010197078, 0.0135328015, 0.010510608, 0.012889124, 0.011498775, 0.011788634, 0.010579543, 0.010657429, 0.027109398, 0.011626506, 0.013674634, 0.01162921, 0.012900471, 0.011151647, 0.012296556, 0.0148093095, 0.012431365, 0.01185171, 0.01229585, 0.012885855, 0.012528355, 0.015882492, 0.010497642, 0.014097845, 0.014843258, 0.012703158, 0.012448183, 0.012312595, 0.0125429295, 0.011418077, 0.013197956, 0.013834217, 0.012536712, 0.013281871, 0.01115194, 0.012989377, 0.011290415, 0.012350103, 0.011636215, 0.0112015465, 0.014042092, 0.013492153, 0.0121875005, 0.013205316, 0.012297978, 0.011753857, 0.011630474, 0.012607392, 0.013286174, 0.01102406, 0.0121599035, 0.012572492, 0.013136622, 0.011875282, 0.010832827, 0.014471237, 0.010428398, 0.012292915, 0.011804595, 0.010491833, 0.012070335, 0.010160458, 0.011865213, 0.013203898, 0.016477073, 0.011211689, 0.011162833, 0.014002907, 0.014333368, 0.009985377, 0.011050615]\n",
      "2022-02-25 22:16:05,789 : INFO : merging changes from 1204 documents into a model of 3204 documents\n",
      "2022-02-25 22:16:05,795 : INFO : topic #12 (0.010): 0.064*\"429\" + 0.059*\"6\" + 0.055*\"50\" + 0.053*\"29\" + 0.048*\"1168\" + 0.044*\"1169\" + 0.039*\"1079\" + 0.033*\"15\" + 0.033*\"588\" + 0.031*\"794\"\n",
      "2022-02-25 22:16:05,795 : INFO : topic #98 (0.010): 0.138*\"198\" + 0.075*\"209\" + 0.073*\"694\" + 0.065*\"425\" + 0.058*\"442\" + 0.043*\"0\" + 0.042*\"455\" + 0.040*\"1078\" + 0.038*\"507\" + 0.037*\"34\"\n",
      "2022-02-25 22:16:05,796 : INFO : topic #50 (0.016): 0.164*\"29\" + 0.130*\"30\" + 0.105*\"54\" + 0.061*\"0\" + 0.052*\"41\" + 0.045*\"50\" + 0.041*\"334\" + 0.040*\"345\" + 0.020*\"273\" + 0.020*\"103\"\n",
      "2022-02-25 22:16:05,797 : INFO : topic #93 (0.016): 0.267*\"13\" + 0.173*\"3\" + 0.044*\"50\" + 0.032*\"598\" + 0.024*\"220\" + 0.023*\"666\" + 0.021*\"458\" + 0.018*\"6\" + 0.018*\"53\" + 0.017*\"240\"\n",
      "2022-02-25 22:16:05,798 : INFO : topic #37 (0.027): 0.334*\"34\" + 0.309*\"35\" + 0.177*\"83\" + 0.048*\"859\" + 0.037*\"611\" + 0.029*\"36\" + 0.019*\"24\" + 0.015*\"180\" + 0.004*\"542\" + 0.004*\"20\"\n",
      "2022-02-25 22:16:05,799 : INFO : topic diff=0.293448, rho=0.271143\n",
      "2022-02-25 22:16:05,806 : INFO : PROGRESS: pass 12, at document #2000/3204\n",
      "2022-02-25 22:16:06,540 : INFO : optimized alpha [0.0110364705, 0.0125675425, 0.0106105795, 0.011063708, 0.012417756, 0.011466313, 0.011192213, 0.010783403, 0.0105122775, 0.013983472, 0.012969184, 0.012518836, 0.009941892, 0.012376457, 0.011741842, 0.012026581, 0.0107021155, 0.014334011, 0.014255814, 0.011373926, 0.011441126, 0.012042844, 0.012467598, 0.013201592, 0.011302861, 0.012545512, 0.012095964, 0.011926732, 0.012470415, 0.01015189, 0.0136036705, 0.010499425, 0.013025922, 0.011529225, 0.011924842, 0.0105782915, 0.010664003, 0.028573873, 0.011625783, 0.013797773, 0.011722935, 0.012903891, 0.011193496, 0.012318924, 0.014854948, 0.012497351, 0.011891969, 0.01231232, 0.01298591, 0.012628563, 0.016105954, 0.010552051, 0.014128012, 0.015021708, 0.012837523, 0.012500091, 0.012343631, 0.012568163, 0.011435837, 0.0132785095, 0.01397144, 0.012549253, 0.013485252, 0.011157237, 0.013091116, 0.011335755, 0.012444216, 0.011648765, 0.011195176, 0.014132504, 0.013568169, 0.012230371, 0.01338001, 0.012342652, 0.011767397, 0.011644212, 0.012677096, 0.0134021295, 0.011062014, 0.0122521715, 0.012614443, 0.013260818, 0.012001228, 0.010831759, 0.014547446, 0.010417514, 0.012431241, 0.011842075, 0.010489936, 0.012116516, 0.010170602, 0.011891107, 0.013377038, 0.016754504, 0.011229045, 0.011183936, 0.013974816, 0.014465277, 0.009994979, 0.011078495]\n",
      "2022-02-25 22:16:06,546 : INFO : merging changes from 2000 documents into a model of 3204 documents\n",
      "2022-02-25 22:16:06,551 : INFO : topic #12 (0.010): 0.061*\"6\" + 0.057*\"50\" + 0.056*\"429\" + 0.052*\"29\" + 0.043*\"1168\" + 0.039*\"1169\" + 0.039*\"1079\" + 0.034*\"15\" + 0.031*\"588\" + 0.028*\"794\"\n",
      "2022-02-25 22:16:06,552 : INFO : topic #98 (0.010): 0.146*\"198\" + 0.074*\"209\" + 0.068*\"694\" + 0.067*\"425\" + 0.053*\"442\" + 0.041*\"0\" + 0.039*\"1078\" + 0.038*\"507\" + 0.038*\"455\" + 0.036*\"432\"\n",
      "2022-02-25 22:16:06,553 : INFO : topic #50 (0.016): 0.156*\"29\" + 0.127*\"30\" + 0.108*\"54\" + 0.062*\"0\" + 0.053*\"41\" + 0.045*\"50\" + 0.042*\"334\" + 0.039*\"345\" + 0.024*\"342\" + 0.020*\"343\"\n",
      "2022-02-25 22:16:06,553 : INFO : topic #93 (0.017): 0.263*\"13\" + 0.182*\"3\" + 0.045*\"50\" + 0.028*\"598\" + 0.023*\"220\" + 0.022*\"666\" + 0.021*\"458\" + 0.020*\"6\" + 0.019*\"53\" + 0.018*\"0\"\n",
      "2022-02-25 22:16:06,554 : INFO : topic #37 (0.029): 0.341*\"34\" + 0.319*\"35\" + 0.182*\"83\" + 0.038*\"859\" + 0.029*\"611\" + 0.028*\"36\" + 0.019*\"24\" + 0.014*\"180\" + 0.004*\"20\" + 0.004*\"542\"\n",
      "2022-02-25 22:16:06,555 : INFO : topic diff=0.256782, rho=0.261694\n",
      "2022-02-25 22:16:07,445 : INFO : -6.427 per-word bound, 86.0 perplexity estimate based on a held-out corpus of 1204 documents with 49783 words\n",
      "2022-02-25 22:16:07,445 : INFO : PROGRESS: pass 12, at document #3204/3204\n",
      "2022-02-25 22:16:08,155 : INFO : optimized alpha [0.011160248, 0.012703573, 0.010704896, 0.011160167, 0.012621947, 0.011605109, 0.011266392, 0.01088693, 0.0105852615, 0.013941079, 0.013177312, 0.012706506, 0.009994195, 0.012483255, 0.011866308, 0.012106479, 0.010752607, 0.014553828, 0.01429987, 0.011462114, 0.011535232, 0.012220231, 0.012579912, 0.013425928, 0.011420411, 0.012767298, 0.012246739, 0.012115308, 0.01260896, 0.010239866, 0.013751607, 0.010599443, 0.013149021, 0.011633759, 0.011980384, 0.010685909, 0.010747994, 0.030063342, 0.011800296, 0.014025335, 0.01180325, 0.01315177, 0.011333862, 0.012492946, 0.015188427, 0.012649141, 0.011997232, 0.012510191, 0.013214792, 0.012766216, 0.016465472, 0.010633207, 0.014416747, 0.015432141, 0.012923906, 0.012662685, 0.012524345, 0.0127752805, 0.011541123, 0.013317332, 0.014205984, 0.012750359, 0.01360186, 0.011281464, 0.013302492, 0.011448067, 0.012594172, 0.011766519, 0.011355732, 0.0143561885, 0.013807986, 0.012373346, 0.0135678025, 0.012483314, 0.011944977, 0.011778386, 0.012912912, 0.013614042, 0.011131362, 0.01236779, 0.012795083, 0.013427328, 0.012068059, 0.010919154, 0.014793278, 0.010493268, 0.012546257, 0.011993583, 0.010587632, 0.012241206, 0.010228457, 0.012163852, 0.013479913, 0.017172975, 0.011400174, 0.0113396505, 0.014247917, 0.014792976, 0.010037959, 0.011169687]\n",
      "2022-02-25 22:16:08,161 : INFO : merging changes from 1204 documents into a model of 3204 documents\n",
      "2022-02-25 22:16:08,166 : INFO : topic #12 (0.010): 0.065*\"429\" + 0.062*\"6\" + 0.055*\"50\" + 0.054*\"29\" + 0.047*\"1168\" + 0.044*\"1169\" + 0.039*\"1079\" + 0.035*\"588\" + 0.032*\"15\" + 0.032*\"794\"\n",
      "2022-02-25 22:16:08,167 : INFO : topic #98 (0.010): 0.142*\"198\" + 0.077*\"694\" + 0.075*\"209\" + 0.067*\"425\" + 0.059*\"442\" + 0.046*\"455\" + 0.040*\"0\" + 0.040*\"1078\" + 0.038*\"507\" + 0.034*\"92\"\n"
     ]
    },
    {
     "name": "stderr",
     "output_type": "stream",
     "text": [
      "2022-02-25 22:16:08,168 : INFO : topic #50 (0.016): 0.166*\"29\" + 0.131*\"30\" + 0.105*\"54\" + 0.061*\"0\" + 0.052*\"41\" + 0.045*\"50\" + 0.041*\"334\" + 0.041*\"345\" + 0.020*\"103\" + 0.020*\"273\"\n",
      "2022-02-25 22:16:08,168 : INFO : topic #93 (0.017): 0.269*\"13\" + 0.175*\"3\" + 0.045*\"50\" + 0.032*\"598\" + 0.025*\"220\" + 0.022*\"666\" + 0.022*\"458\" + 0.018*\"53\" + 0.018*\"6\" + 0.017*\"240\"\n",
      "2022-02-25 22:16:08,169 : INFO : topic #37 (0.030): 0.338*\"34\" + 0.312*\"35\" + 0.176*\"83\" + 0.047*\"859\" + 0.035*\"611\" + 0.029*\"36\" + 0.020*\"24\" + 0.015*\"180\" + 0.004*\"20\" + 0.004*\"542\"\n",
      "2022-02-25 22:16:08,171 : INFO : topic diff=0.261710, rho=0.261694\n",
      "2022-02-25 22:16:08,178 : INFO : PROGRESS: pass 13, at document #2000/3204\n",
      "2022-02-25 22:16:08,889 : INFO : optimized alpha [0.01118084, 0.012749427, 0.010714139, 0.011196971, 0.012697532, 0.011596719, 0.011350573, 0.010910965, 0.010598726, 0.014354854, 0.013184934, 0.012784959, 0.009989005, 0.012651965, 0.0118804835, 0.012213058, 0.01076287, 0.014600746, 0.014569359, 0.011511034, 0.011604578, 0.012246124, 0.012688544, 0.01350015, 0.011430748, 0.012850624, 0.012323888, 0.012130906, 0.012666853, 0.01019767, 0.013825922, 0.010590081, 0.013282824, 0.011664857, 0.012112192, 0.01068873, 0.010755922, 0.031699993, 0.011799136, 0.0141437445, 0.011899269, 0.013160772, 0.011373063, 0.012514317, 0.015231405, 0.012713378, 0.012031703, 0.012522441, 0.013312315, 0.012862419, 0.016689455, 0.010686315, 0.014446642, 0.015626755, 0.013053649, 0.012713067, 0.0125605, 0.01279605, 0.011558462, 0.013395928, 0.014340098, 0.012761893, 0.013805207, 0.011283653, 0.013399869, 0.011492261, 0.012689217, 0.011778691, 0.011350629, 0.014453419, 0.013881617, 0.012416466, 0.013744542, 0.012528226, 0.011959327, 0.01179312, 0.012987031, 0.013728933, 0.01116848, 0.012457964, 0.012837202, 0.013553755, 0.012192847, 0.01091966, 0.014870675, 0.010488317, 0.012680181, 0.012029859, 0.010587229, 0.012289306, 0.010238596, 0.012192766, 0.013658222, 0.017459774, 0.011418151, 0.011361381, 0.014219267, 0.014921563, 0.010050142, 0.01120116]\n",
      "2022-02-25 22:16:08,895 : INFO : merging changes from 2000 documents into a model of 3204 documents\n",
      "2022-02-25 22:16:08,900 : INFO : topic #12 (0.010): 0.064*\"6\" + 0.058*\"429\" + 0.057*\"50\" + 0.053*\"29\" + 0.042*\"1168\" + 0.039*\"1169\" + 0.039*\"1079\" + 0.034*\"15\" + 0.032*\"588\" + 0.028*\"794\"\n",
      "2022-02-25 22:16:08,901 : INFO : topic #98 (0.010): 0.149*\"198\" + 0.074*\"209\" + 0.072*\"694\" + 0.070*\"425\" + 0.053*\"442\" + 0.041*\"455\" + 0.039*\"0\" + 0.039*\"1078\" + 0.038*\"507\" + 0.036*\"432\"\n",
      "2022-02-25 22:16:08,902 : INFO : topic #50 (0.017): 0.158*\"29\" + 0.128*\"30\" + 0.109*\"54\" + 0.062*\"0\" + 0.053*\"41\" + 0.045*\"50\" + 0.041*\"334\" + 0.039*\"345\" + 0.024*\"342\" + 0.020*\"343\"\n",
      "2022-02-25 22:16:08,903 : INFO : topic #93 (0.017): 0.265*\"13\" + 0.183*\"3\" + 0.045*\"50\" + 0.028*\"598\" + 0.024*\"220\" + 0.022*\"666\" + 0.022*\"458\" + 0.020*\"6\" + 0.019*\"53\" + 0.018*\"0\"\n",
      "2022-02-25 22:16:08,903 : INFO : topic #37 (0.032): 0.344*\"34\" + 0.322*\"35\" + 0.181*\"83\" + 0.038*\"859\" + 0.028*\"611\" + 0.028*\"36\" + 0.019*\"24\" + 0.014*\"180\" + 0.004*\"20\" + 0.003*\"803\"\n",
      "2022-02-25 22:16:08,904 : INFO : topic diff=0.230840, rho=0.253169\n",
      "2022-02-25 22:16:09,775 : INFO : -6.416 per-word bound, 85.4 perplexity estimate based on a held-out corpus of 1204 documents with 49783 words\n",
      "2022-02-25 22:16:09,776 : INFO : PROGRESS: pass 13, at document #3204/3204\n",
      "2022-02-25 22:16:10,463 : INFO : optimized alpha [0.011303993, 0.01287933, 0.010806118, 0.011288609, 0.012910951, 0.011734605, 0.011420294, 0.011014311, 0.010669932, 0.014303491, 0.013391345, 0.012973978, 0.010052858, 0.012755761, 0.012004361, 0.012290655, 0.010809979, 0.0148030585, 0.014607368, 0.011599434, 0.0116962455, 0.012422188, 0.012797815, 0.013725841, 0.011542975, 0.013060195, 0.012468532, 0.012312897, 0.012799248, 0.010279133, 0.013976, 0.010689912, 0.013405335, 0.011766726, 0.012170961, 0.010795968, 0.01084238, 0.03329287, 0.011977163, 0.014366591, 0.011977314, 0.013406549, 0.011505427, 0.012684338, 0.015546391, 0.012866896, 0.012129155, 0.012729528, 0.013550977, 0.012996642, 0.017047435, 0.010765403, 0.014738957, 0.016050354, 0.013140098, 0.012866466, 0.012739875, 0.013006827, 0.011663552, 0.013444942, 0.01457605, 0.012955906, 0.01392988, 0.011409764, 0.0136040645, 0.011601779, 0.012838332, 0.011888548, 0.011512287, 0.014675621, 0.014122578, 0.012553331, 0.013931067, 0.012668049, 0.012140722, 0.011926625, 0.013229504, 0.01393641, 0.011236055, 0.012567906, 0.013010969, 0.013713423, 0.012262779, 0.011002526, 0.015114511, 0.010566686, 0.012792069, 0.012175307, 0.010682506, 0.012418671, 0.010299378, 0.012453544, 0.013760747, 0.017885027, 0.011590421, 0.01152088, 0.014492503, 0.015241197, 0.010092173, 0.011292499]\n",
      "2022-02-25 22:16:10,470 : INFO : merging changes from 1204 documents into a model of 3204 documents\n",
      "2022-02-25 22:16:10,475 : INFO : topic #12 (0.010): 0.068*\"429\" + 0.065*\"6\" + 0.056*\"29\" + 0.055*\"50\" + 0.046*\"1168\" + 0.043*\"1169\" + 0.038*\"1079\" + 0.036*\"588\" + 0.031*\"794\" + 0.031*\"15\"\n",
      "2022-02-25 22:16:10,476 : INFO : topic #98 (0.010): 0.145*\"198\" + 0.080*\"694\" + 0.076*\"209\" + 0.070*\"425\" + 0.059*\"442\" + 0.048*\"455\" + 0.040*\"1078\" + 0.038*\"0\" + 0.037*\"507\" + 0.035*\"92\"\n",
      "2022-02-25 22:16:10,476 : INFO : topic #50 (0.017): 0.167*\"29\" + 0.132*\"30\" + 0.106*\"54\" + 0.061*\"0\" + 0.052*\"41\" + 0.045*\"50\" + 0.041*\"345\" + 0.041*\"334\" + 0.020*\"103\" + 0.020*\"342\"\n",
      "2022-02-25 22:16:10,478 : INFO : topic #93 (0.018): 0.271*\"13\" + 0.176*\"3\" + 0.046*\"50\" + 0.031*\"598\" + 0.025*\"220\" + 0.023*\"458\" + 0.023*\"666\" + 0.018*\"53\" + 0.018*\"6\" + 0.017*\"0\"\n",
      "2022-02-25 22:16:10,478 : INFO : topic #37 (0.033): 0.342*\"34\" + 0.315*\"35\" + 0.175*\"83\" + 0.046*\"859\" + 0.034*\"611\" + 0.028*\"36\" + 0.020*\"24\" + 0.015*\"180\" + 0.004*\"20\" + 0.004*\"542\"\n",
      "2022-02-25 22:16:10,479 : INFO : topic diff=0.235554, rho=0.253169\n",
      "2022-02-25 22:16:10,486 : INFO : PROGRESS: pass 14, at document #2000/3204\n",
      "2022-02-25 22:16:11,250 : INFO : optimized alpha [0.011325329, 0.0129255, 0.01081519, 0.01132881, 0.012982894, 0.011726243, 0.0115054725, 0.011039079, 0.01068189, 0.014713314, 0.013401402, 0.013050425, 0.010050569, 0.012924876, 0.012016593, 0.012398064, 0.010820352, 0.014850274, 0.014872612, 0.0116415685, 0.011764064, 0.012447036, 0.01290415, 0.013796276, 0.011563079, 0.013154272, 0.012545449, 0.012332211, 0.012857248, 0.010237212, 0.014051823, 0.010682208, 0.0135381, 0.011799978, 0.012303265, 0.010798715, 0.010852877, 0.035037827, 0.011974051, 0.01449112, 0.01207282, 0.013417727, 0.011546487, 0.012704784, 0.015596647, 0.012929471, 0.012165707, 0.01274245, 0.013642782, 0.013092349, 0.017265763, 0.010818675, 0.014766841, 0.016247785, 0.013267187, 0.012916999, 0.012776424, 0.01302641, 0.011679035, 0.013526745, 0.014710738, 0.012968228, 0.014131794, 0.011420385, 0.013704109, 0.011644878, 0.012936037, 0.011901928, 0.0115083335, 0.014768514, 0.014192203, 0.0125937415, 0.014104971, 0.01271327, 0.012160356, 0.011942328, 0.013311387, 0.014050459, 0.011273749, 0.012656137, 0.013050059, 0.013838943, 0.01238817, 0.011003195, 0.01518572, 0.010564673, 0.012920262, 0.012210486, 0.010682182, 0.012465536, 0.010313301, 0.012488608, 0.013939348, 0.018171076, 0.011614607, 0.011543192, 0.01446506, 0.015366686, 0.010103115, 0.011326043]\n",
      "2022-02-25 22:16:11,256 : INFO : merging changes from 2000 documents into a model of 3204 documents\n",
      "2022-02-25 22:16:11,262 : INFO : topic #12 (0.010): 0.066*\"6\" + 0.061*\"429\" + 0.057*\"50\" + 0.055*\"29\" + 0.042*\"1168\" + 0.038*\"1169\" + 0.038*\"1079\" + 0.034*\"588\" + 0.032*\"15\" + 0.028*\"794\"\n",
      "2022-02-25 22:16:11,262 : INFO : topic #98 (0.010): 0.152*\"198\" + 0.075*\"209\" + 0.075*\"694\" + 0.072*\"425\" + 0.054*\"442\" + 0.043*\"455\" + 0.039*\"1078\" + 0.037*\"507\" + 0.037*\"0\" + 0.037*\"432\"\n",
      "2022-02-25 22:16:11,263 : INFO : topic #50 (0.017): 0.159*\"29\" + 0.129*\"30\" + 0.109*\"54\" + 0.062*\"0\" + 0.053*\"41\" + 0.045*\"50\" + 0.041*\"334\" + 0.040*\"345\" + 0.024*\"342\" + 0.020*\"343\"\n",
      "2022-02-25 22:16:11,264 : INFO : topic #93 (0.018): 0.267*\"13\" + 0.184*\"3\" + 0.046*\"50\" + 0.028*\"598\" + 0.023*\"220\" + 0.023*\"458\" + 0.022*\"666\" + 0.019*\"6\" + 0.019*\"53\" + 0.018*\"0\"\n",
      "2022-02-25 22:16:11,265 : INFO : topic #37 (0.035): 0.347*\"34\" + 0.324*\"35\" + 0.181*\"83\" + 0.037*\"859\" + 0.028*\"611\" + 0.027*\"36\" + 0.019*\"24\" + 0.013*\"180\" + 0.004*\"20\" + 0.003*\"803\"\n"
     ]
    },
    {
     "name": "stderr",
     "output_type": "stream",
     "text": [
      "2022-02-25 22:16:11,266 : INFO : topic diff=0.209298, rho=0.245426\n",
      "2022-02-25 22:16:12,088 : INFO : -6.409 per-word bound, 85.0 perplexity estimate based on a held-out corpus of 1204 documents with 49783 words\n",
      "2022-02-25 22:16:12,089 : INFO : PROGRESS: pass 14, at document #3204/3204\n",
      "2022-02-25 22:16:12,753 : INFO : optimized alpha [0.01144577, 0.013052372, 0.0109050535, 0.011425309, 0.013187085, 0.011863494, 0.011575709, 0.011140046, 0.010751448, 0.014659197, 0.013603671, 0.013238424, 0.01010892, 0.013031172, 0.012135217, 0.012473591, 0.010866551, 0.015042033, 0.01491093, 0.011715826, 0.011853476, 0.012624539, 0.013010664, 0.014017773, 0.011672835, 0.0133899385, 0.012689536, 0.012533508, 0.0129839955, 0.010312627, 0.014201343, 0.010779771, 0.013657565, 0.011899488, 0.012357677, 0.010905764, 0.010932903, 0.036720335, 0.012148454, 0.014712696, 0.0121512525, 0.013670281, 0.011687865, 0.012876318, 0.01591935, 0.013079643, 0.012255751, 0.012940334, 0.0138804, 0.01322074, 0.017618783, 0.010895854, 0.015066121, 0.016681872, 0.013351032, 0.0130803, 0.012941559, 0.013238369, 0.011781709, 0.013560513, 0.014945328, 0.013160999, 0.01425596, 0.011548449, 0.013912874, 0.011749501, 0.013084516, 0.0120215155, 0.011668936, 0.014983459, 0.014422875, 0.012727495, 0.014284914, 0.012847337, 0.012345805, 0.012077779, 0.013552908, 0.014256696, 0.011339733, 0.012766112, 0.013222847, 0.013992162, 0.012458608, 0.011081876, 0.015421475, 0.010641281, 0.013029272, 0.012350286, 0.010775286, 0.012594591, 0.010374806, 0.01276593, 0.014038869, 0.018592544, 0.01179066, 0.011701859, 0.014735995, 0.015681796, 0.010150503, 0.011415286]\n",
      "2022-02-25 22:16:12,759 : INFO : merging changes from 1204 documents into a model of 3204 documents\n",
      "2022-02-25 22:16:12,764 : INFO : topic #12 (0.010): 0.068*\"429\" + 0.067*\"6\" + 0.057*\"29\" + 0.056*\"50\" + 0.046*\"1168\" + 0.042*\"1169\" + 0.038*\"1079\" + 0.037*\"588\" + 0.031*\"794\" + 0.030*\"15\"\n",
      "2022-02-25 22:16:12,765 : INFO : topic #98 (0.010): 0.148*\"198\" + 0.082*\"694\" + 0.076*\"209\" + 0.072*\"425\" + 0.059*\"442\" + 0.050*\"455\" + 0.040*\"1078\" + 0.038*\"507\" + 0.037*\"0\" + 0.036*\"92\"\n",
      "2022-02-25 22:16:12,767 : INFO : topic #50 (0.018): 0.168*\"29\" + 0.133*\"30\" + 0.106*\"54\" + 0.061*\"0\" + 0.052*\"41\" + 0.045*\"50\" + 0.041*\"345\" + 0.041*\"334\" + 0.020*\"103\" + 0.020*\"342\"\n",
      "2022-02-25 22:16:12,768 : INFO : topic #93 (0.019): 0.273*\"13\" + 0.177*\"3\" + 0.047*\"50\" + 0.031*\"598\" + 0.025*\"220\" + 0.023*\"458\" + 0.023*\"666\" + 0.019*\"53\" + 0.017*\"6\" + 0.017*\"0\"\n",
      "2022-02-25 22:16:12,769 : INFO : topic #37 (0.037): 0.345*\"34\" + 0.318*\"35\" + 0.175*\"83\" + 0.044*\"859\" + 0.033*\"611\" + 0.028*\"36\" + 0.020*\"24\" + 0.014*\"180\" + 0.004*\"20\" + 0.003*\"803\"\n",
      "2022-02-25 22:16:12,770 : INFO : topic diff=0.213708, rho=0.245426\n",
      "2022-02-25 22:16:12,777 : INFO : PROGRESS: pass 15, at document #2000/3204\n",
      "2022-02-25 22:16:13,480 : INFO : optimized alpha [0.011465178, 0.013097384, 0.010913964, 0.011464663, 0.013263485, 0.011855184, 0.011657826, 0.011166926, 0.010764607, 0.015060132, 0.013619399, 0.013313034, 0.010111788, 0.013200849, 0.0121500185, 0.012581949, 0.010876996, 0.015089597, 0.015174062, 0.011761326, 0.011918489, 0.012657457, 0.013114908, 0.014097925, 0.011695242, 0.013493213, 0.012766345, 0.012553381, 0.013042195, 0.01027217, 0.014272128, 0.010776203, 0.013787897, 0.011930575, 0.012489129, 0.010911032, 0.010941968, 0.038542803, 0.012149264, 0.014827613, 0.012244876, 0.013685215, 0.011727813, 0.012897463, 0.015961617, 0.013140702, 0.012298833, 0.012947705, 0.013975032, 0.013316051, 0.017833631, 0.010950603, 0.015093796, 0.016880337, 0.01347412, 0.013135737, 0.012969293, 0.013259934, 0.011796874, 0.013642253, 0.015079123, 0.013166135, 0.014451643, 0.011560014, 0.014009103, 0.011793062, 0.013183425, 0.012038846, 0.011666069, 0.015064985, 0.01449394, 0.012766864, 0.014457878, 0.01289138, 0.012371988, 0.012095886, 0.013631159, 0.014368314, 0.01137671, 0.012855698, 0.013257477, 0.014115249, 0.012580239, 0.011085401, 0.015492386, 0.010644644, 0.013153538, 0.012384495, 0.010777634, 0.012638783, 0.010386092, 0.012800875, 0.01421803, 0.018877644, 0.011820994, 0.011726185, 0.014707902, 0.01580434, 0.010161442, 0.011449556]\n",
      "2022-02-25 22:16:13,486 : INFO : merging changes from 2000 documents into a model of 3204 documents\n",
      "2022-02-25 22:16:13,492 : INFO : topic #12 (0.010): 0.070*\"6\" + 0.063*\"429\" + 0.057*\"50\" + 0.056*\"29\" + 0.041*\"1168\" + 0.038*\"1169\" + 0.037*\"1079\" + 0.035*\"588\" + 0.031*\"15\" + 0.028*\"794\"\n",
      "2022-02-25 22:16:13,492 : INFO : topic #98 (0.010): 0.155*\"198\" + 0.077*\"694\" + 0.076*\"209\" + 0.073*\"425\" + 0.054*\"442\" + 0.044*\"455\" + 0.039*\"1078\" + 0.038*\"507\" + 0.037*\"432\" + 0.035*\"0\"\n",
      "2022-02-25 22:16:13,493 : INFO : topic #50 (0.018): 0.160*\"29\" + 0.130*\"30\" + 0.109*\"54\" + 0.062*\"0\" + 0.053*\"41\" + 0.046*\"50\" + 0.041*\"334\" + 0.040*\"345\" + 0.024*\"342\" + 0.020*\"49\"\n",
      "2022-02-25 22:16:13,494 : INFO : topic #93 (0.019): 0.268*\"13\" + 0.184*\"3\" + 0.047*\"50\" + 0.028*\"598\" + 0.024*\"220\" + 0.023*\"458\" + 0.022*\"666\" + 0.019*\"53\" + 0.019*\"6\" + 0.018*\"0\"\n",
      "2022-02-25 22:16:13,495 : INFO : topic #37 (0.039): 0.350*\"34\" + 0.326*\"35\" + 0.180*\"83\" + 0.036*\"859\" + 0.027*\"611\" + 0.026*\"36\" + 0.019*\"24\" + 0.013*\"180\" + 0.004*\"20\" + 0.003*\"803\"\n",
      "2022-02-25 22:16:13,496 : INFO : topic diff=0.190963, rho=0.238352\n",
      "2022-02-25 22:16:14,320 : INFO : -6.402 per-word bound, 84.5 perplexity estimate based on a held-out corpus of 1204 documents with 49783 words\n",
      "2022-02-25 22:16:14,321 : INFO : PROGRESS: pass 15, at document #3204/3204\n",
      "2022-02-25 22:16:14,968 : INFO : optimized alpha [0.01158766, 0.013224102, 0.011001908, 0.011554492, 0.013469485, 0.0119943535, 0.011724034, 0.011267979, 0.010832714, 0.014997523, 0.013817836, 0.01349758, 0.010172963, 0.013307157, 0.012263698, 0.012657984, 0.010922353, 0.015298829, 0.015209759, 0.011843303, 0.012008234, 0.012839386, 0.013216291, 0.014310014, 0.01181203, 0.013744503, 0.012905032, 0.012743796, 0.013168781, 0.010343955, 0.014421295, 0.010880343, 0.013909916, 0.012030229, 0.012539424, 0.011018031, 0.011024629, 0.040294852, 0.012313035, 0.015051079, 0.012321373, 0.013939234, 0.011871215, 0.01306565, 0.016266687, 0.013287839, 0.012394171, 0.013149802, 0.014209064, 0.013444189, 0.018192708, 0.011028215, 0.015385402, 0.017328724, 0.0135557335, 0.013293223, 0.013136293, 0.013470763, 0.011899669, 0.013672491, 0.015318863, 0.013352562, 0.014572657, 0.011685544, 0.014214213, 0.01189543, 0.013328947, 0.012153542, 0.011825864, 0.015269863, 0.014720598, 0.012902823, 0.014634379, 0.013022555, 0.012546734, 0.012226195, 0.013871874, 0.014565148, 0.01144124, 0.012971062, 0.013434716, 0.014265048, 0.012648786, 0.011164632, 0.01572382, 0.010719668, 0.013259911, 0.012521421, 0.01086873, 0.012762651, 0.010448385, 0.01308268, 0.014314732, 0.01930281, 0.0119940005, 0.011884245, 0.014970981, 0.01611525, 0.010205878, 0.011539245]\n",
      "2022-02-25 22:16:14,974 : INFO : merging changes from 1204 documents into a model of 3204 documents\n",
      "2022-02-25 22:16:14,980 : INFO : topic #98 (0.010): 0.152*\"198\" + 0.084*\"694\" + 0.077*\"209\" + 0.072*\"425\" + 0.060*\"442\" + 0.052*\"455\" + 0.041*\"1078\" + 0.037*\"507\" + 0.037*\"92\" + 0.035*\"0\"\n",
      "2022-02-25 22:16:14,981 : INFO : topic #12 (0.010): 0.072*\"429\" + 0.070*\"6\" + 0.058*\"29\" + 0.055*\"50\" + 0.045*\"1168\" + 0.042*\"1169\" + 0.039*\"588\" + 0.037*\"1079\" + 0.030*\"794\" + 0.029*\"15\"\n",
      "2022-02-25 22:16:14,981 : INFO : topic #50 (0.018): 0.169*\"29\" + 0.134*\"30\" + 0.106*\"54\" + 0.061*\"0\" + 0.052*\"41\" + 0.045*\"50\" + 0.042*\"345\" + 0.041*\"334\" + 0.020*\"103\" + 0.020*\"342\"\n",
      "2022-02-25 22:16:14,982 : INFO : topic #93 (0.019): 0.274*\"13\" + 0.176*\"3\" + 0.047*\"50\" + 0.031*\"598\" + 0.025*\"220\" + 0.024*\"458\" + 0.022*\"666\" + 0.019*\"53\" + 0.018*\"0\" + 0.017*\"6\"\n",
      "2022-02-25 22:16:14,983 : INFO : topic #37 (0.040): 0.348*\"34\" + 0.319*\"35\" + 0.175*\"83\" + 0.044*\"859\" + 0.033*\"611\" + 0.027*\"36\" + 0.020*\"24\" + 0.014*\"180\" + 0.004*\"20\" + 0.003*\"803\"\n",
      "2022-02-25 22:16:14,984 : INFO : topic diff=0.195428, rho=0.238352\n",
      "2022-02-25 22:16:14,991 : INFO : PROGRESS: pass 16, at document #2000/3204\n",
      "2022-02-25 22:16:15,652 : INFO : optimized alpha [0.011606527, 0.013269545, 0.011010704, 0.011591661, 0.013545689, 0.011991628, 0.011804654, 0.01129427, 0.010845754, 0.015400252, 0.013831095, 0.013570494, 0.01017357, 0.013472948, 0.012279598, 0.012765934, 0.010932868, 0.0153484875, 0.015467595, 0.011894876, 0.012071968, 0.012871237, 0.0133186355, 0.01438165, 0.011832564, 0.013863376, 0.012981771, 0.012759776, 0.013228778, 0.010307344, 0.014493824, 0.010878089, 0.014034815, 0.012062076, 0.012670203, 0.0110231545, 0.011034905, 0.04219824, 0.012316319, 0.015168853, 0.012413314, 0.013951258, 0.011918546, 0.013084382, 0.016297156, 0.013349035, 0.012437781, 0.013156407, 0.014308271, 0.013537657, 0.018398032, 0.011081918, 0.015409486, 0.017524377, 0.013676612, 0.013344221, 0.013161544, 0.013495948, 0.0119145075, 0.01375269, 0.015455468, 0.013363437, 0.014767377, 0.011699485, 0.014308349, 0.01193807, 0.013430673, 0.012171881, 0.011822696, 0.015354988, 0.014787984, 0.01294271, 0.014804825, 0.013064033, 0.012572024, 0.012243815, 0.013951464, 0.014676101, 0.011477575, 0.013059016, 0.013472943, 0.014387582, 0.01276545, 0.011168261, 0.015792703, 0.010723067, 0.013383629, 0.012554721, 0.010869826, 0.012808814, 0.010463249, 0.013117504, 0.01448964, 0.019596325, 0.01202477, 0.011909093, 0.014945865, 0.016235044, 0.010222723, 0.011570105]\n"
     ]
    },
    {
     "name": "stderr",
     "output_type": "stream",
     "text": [
      "2022-02-25 22:16:15,658 : INFO : merging changes from 2000 documents into a model of 3204 documents\n",
      "2022-02-25 22:16:15,665 : INFO : topic #12 (0.010): 0.071*\"6\" + 0.066*\"429\" + 0.057*\"29\" + 0.057*\"50\" + 0.041*\"1168\" + 0.038*\"1169\" + 0.037*\"1079\" + 0.036*\"588\" + 0.031*\"15\" + 0.028*\"914\"\n",
      "2022-02-25 22:16:15,665 : INFO : topic #98 (0.010): 0.159*\"198\" + 0.079*\"694\" + 0.077*\"209\" + 0.074*\"425\" + 0.055*\"442\" + 0.047*\"455\" + 0.039*\"1078\" + 0.037*\"432\" + 0.037*\"507\" + 0.035*\"92\"\n",
      "2022-02-25 22:16:15,666 : INFO : topic #50 (0.018): 0.161*\"29\" + 0.130*\"30\" + 0.109*\"54\" + 0.062*\"0\" + 0.053*\"41\" + 0.046*\"50\" + 0.041*\"334\" + 0.040*\"345\" + 0.024*\"342\" + 0.021*\"49\"\n",
      "2022-02-25 22:16:15,667 : INFO : topic #93 (0.020): 0.270*\"13\" + 0.184*\"3\" + 0.047*\"50\" + 0.027*\"598\" + 0.024*\"220\" + 0.023*\"458\" + 0.022*\"666\" + 0.019*\"53\" + 0.019*\"6\" + 0.018*\"0\"\n",
      "2022-02-25 22:16:15,668 : INFO : topic #37 (0.042): 0.352*\"34\" + 0.327*\"35\" + 0.180*\"83\" + 0.036*\"859\" + 0.027*\"611\" + 0.026*\"36\" + 0.019*\"24\" + 0.013*\"180\" + 0.004*\"20\" + 0.003*\"803\"\n",
      "2022-02-25 22:16:15,669 : INFO : topic diff=0.175482, rho=0.231857\n",
      "2022-02-25 22:16:16,461 : INFO : -6.395 per-word bound, 84.2 perplexity estimate based on a held-out corpus of 1204 documents with 49783 words\n",
      "2022-02-25 22:16:16,462 : INFO : PROGRESS: pass 16, at document #3204/3204\n",
      "2022-02-25 22:16:17,084 : INFO : optimized alpha [0.01172668, 0.01339373, 0.011096902, 0.011684088, 0.013761463, 0.012130468, 0.01186933, 0.011395527, 0.010916742, 0.015341275, 0.014026116, 0.0137545, 0.0102375755, 0.0135845225, 0.012381414, 0.012842592, 0.010975376, 0.015544722, 0.015500826, 0.011970515, 0.012159831, 0.013052587, 0.013420288, 0.01459875, 0.011951748, 0.014133388, 0.013125432, 0.012956907, 0.013352819, 0.010377742, 0.014642753, 0.010982368, 0.014154142, 0.012159741, 0.012721471, 0.011128081, 0.0111266505, 0.043963615, 0.012479534, 0.01539152, 0.012488036, 0.014201612, 0.012064082, 0.013249472, 0.016620258, 0.013495913, 0.012533583, 0.013362944, 0.014547293, 0.013665829, 0.018752797, 0.011157901, 0.015693806, 0.017981231, 0.013753499, 0.01349108, 0.013327961, 0.013705873, 0.012012994, 0.013790262, 0.015703483, 0.013551708, 0.014888317, 0.011818108, 0.014515627, 0.01204304, 0.01357342, 0.012279637, 0.011975041, 0.015550253, 0.015005261, 0.013071023, 0.01497208, 0.013192588, 0.012751208, 0.012376423, 0.014210489, 0.0148722725, 0.01154078, 0.0131745525, 0.013652159, 0.014537082, 0.012834694, 0.011241637, 0.016020114, 0.010798726, 0.013487591, 0.012689006, 0.010959123, 0.012930288, 0.010528401, 0.013403972, 0.014589458, 0.020029584, 0.01219724, 0.012066767, 0.015198717, 0.016535662, 0.010272221, 0.011660269]\n",
      "2022-02-25 22:16:17,090 : INFO : merging changes from 1204 documents into a model of 3204 documents\n",
      "2022-02-25 22:16:17,096 : INFO : topic #12 (0.010): 0.075*\"429\" + 0.072*\"6\" + 0.059*\"29\" + 0.055*\"50\" + 0.045*\"1168\" + 0.041*\"1169\" + 0.039*\"588\" + 0.037*\"1079\" + 0.030*\"794\" + 0.029*\"15\"\n",
      "2022-02-25 22:16:17,096 : INFO : topic #98 (0.010): 0.154*\"198\" + 0.085*\"694\" + 0.078*\"209\" + 0.073*\"425\" + 0.060*\"442\" + 0.055*\"455\" + 0.040*\"1078\" + 0.039*\"507\" + 0.037*\"92\" + 0.035*\"0\"\n",
      "2022-02-25 22:16:17,097 : INFO : topic #50 (0.019): 0.169*\"29\" + 0.134*\"30\" + 0.106*\"54\" + 0.061*\"0\" + 0.052*\"41\" + 0.045*\"50\" + 0.042*\"345\" + 0.041*\"334\" + 0.020*\"342\" + 0.020*\"103\"\n",
      "2022-02-25 22:16:17,098 : INFO : topic #93 (0.020): 0.277*\"13\" + 0.175*\"3\" + 0.048*\"50\" + 0.030*\"598\" + 0.025*\"220\" + 0.024*\"458\" + 0.022*\"666\" + 0.019*\"53\" + 0.018*\"0\" + 0.017*\"6\"\n",
      "2022-02-25 22:16:17,099 : INFO : topic #37 (0.044): 0.350*\"34\" + 0.320*\"35\" + 0.174*\"83\" + 0.043*\"859\" + 0.033*\"611\" + 0.026*\"36\" + 0.020*\"24\" + 0.014*\"180\" + 0.004*\"20\" + 0.003*\"803\"\n",
      "2022-02-25 22:16:17,100 : INFO : topic diff=0.179676, rho=0.231857\n",
      "2022-02-25 22:16:17,106 : INFO : PROGRESS: pass 17, at document #2000/3204\n",
      "2022-02-25 22:16:17,768 : INFO : optimized alpha [0.01174639, 0.013438238, 0.011105567, 0.011725904, 0.013845139, 0.012126238, 0.011947239, 0.011422562, 0.010930875, 0.01573405, 0.014040184, 0.013825821, 0.010243018, 0.013749819, 0.01239281, 0.0129531175, 0.010985982, 0.015593068, 0.01575716, 0.01201575, 0.012222418, 0.013083446, 0.013520904, 0.014670349, 0.011973129, 0.014274438, 0.013199203, 0.012974966, 0.013410071, 0.010341121, 0.014717175, 0.010981434, 0.014276954, 0.012189583, 0.012848792, 0.0111330785, 0.011139266, 0.045919713, 0.012480988, 0.015507075, 0.012578403, 0.014218909, 0.012114407, 0.013267474, 0.016658189, 0.01355734, 0.012579237, 0.01337492, 0.014651173, 0.013757631, 0.018963445, 0.011211901, 0.015717903, 0.01816981, 0.013872368, 0.013545467, 0.013355363, 0.013728401, 0.012028905, 0.0138738295, 0.015837692, 0.013561857, 0.01507726, 0.011834364, 0.01461115, 0.012087583, 0.013670307, 0.012294798, 0.011974346, 0.015635429, 0.015075921, 0.013108538, 0.015141934, 0.013236085, 0.0127770435, 0.012392144, 0.014291424, 0.014979586, 0.011576507, 0.013266989, 0.0136892665, 0.014655907, 0.0129553, 0.011245326, 0.01608524, 0.010803466, 0.013606262, 0.012721476, 0.010962741, 0.01297697, 0.010546695, 0.013443299, 0.014765361, 0.02031817, 0.012228513, 0.012092276, 0.015171364, 0.016652811, 0.010290054, 0.011695884]\n",
      "2022-02-25 22:16:17,774 : INFO : merging changes from 2000 documents into a model of 3204 documents\n",
      "2022-02-25 22:16:17,779 : INFO : topic #12 (0.010): 0.073*\"6\" + 0.070*\"429\" + 0.058*\"29\" + 0.057*\"50\" + 0.041*\"1168\" + 0.037*\"1169\" + 0.037*\"1079\" + 0.036*\"588\" + 0.030*\"15\" + 0.030*\"914\"\n",
      "2022-02-25 22:16:17,780 : INFO : topic #98 (0.010): 0.162*\"198\" + 0.080*\"694\" + 0.078*\"209\" + 0.075*\"425\" + 0.055*\"442\" + 0.049*\"455\" + 0.039*\"1078\" + 0.038*\"507\" + 0.038*\"432\" + 0.036*\"92\"\n",
      "2022-02-25 22:16:17,781 : INFO : topic #50 (0.019): 0.162*\"29\" + 0.131*\"30\" + 0.109*\"54\" + 0.062*\"0\" + 0.052*\"41\" + 0.046*\"50\" + 0.041*\"334\" + 0.041*\"345\" + 0.024*\"342\" + 0.021*\"49\"\n",
      "2022-02-25 22:16:17,782 : INFO : topic #93 (0.020): 0.272*\"13\" + 0.182*\"3\" + 0.048*\"50\" + 0.027*\"598\" + 0.024*\"220\" + 0.024*\"458\" + 0.022*\"666\" + 0.019*\"53\" + 0.019*\"6\" + 0.019*\"0\"\n",
      "2022-02-25 22:16:17,783 : INFO : topic #37 (0.046): 0.354*\"34\" + 0.328*\"35\" + 0.179*\"83\" + 0.036*\"859\" + 0.027*\"611\" + 0.025*\"36\" + 0.020*\"24\" + 0.013*\"180\" + 0.004*\"20\" + 0.003*\"803\"\n",
      "2022-02-25 22:16:17,783 : INFO : topic diff=0.162167, rho=0.225865\n",
      "2022-02-25 22:16:18,555 : INFO : -6.389 per-word bound, 83.8 perplexity estimate based on a held-out corpus of 1204 documents with 49783 words\n",
      "2022-02-25 22:16:18,556 : INFO : PROGRESS: pass 17, at document #3204/3204\n",
      "2022-02-25 22:16:19,183 : INFO : optimized alpha [0.011864392, 0.013559982, 0.01119016, 0.011820963, 0.01405539, 0.012264908, 0.012010505, 0.01152198, 0.011002642, 0.015663898, 0.014237318, 0.014009443, 0.010309735, 0.013859004, 0.012485724, 0.013025606, 0.011029861, 0.015798053, 0.01578805, 0.012096689, 0.012306154, 0.013264482, 0.013622906, 0.014881349, 0.012096955, 0.01456109, 0.013340326, 0.013166801, 0.013534274, 0.01041023, 0.014854919, 0.011079641, 0.014385731, 0.012287675, 0.012901096, 0.011238192, 0.011225096, 0.047727272, 0.012641437, 0.015729161, 0.012656173, 0.014474101, 0.012262233, 0.013432173, 0.016967518, 0.01370161, 0.012673133, 0.013588654, 0.01488995, 0.013883301, 0.01931767, 0.01128638, 0.016001191, 0.018618003, 0.0139524825, 0.013694825, 0.013518939, 0.013937639, 0.01212553, 0.01391307, 0.016085297, 0.0137419645, 0.015189728, 0.0119599495, 0.014809759, 0.012190595, 0.013818251, 0.012395874, 0.012128536, 0.015833454, 0.015289672, 0.013234443, 0.015308748, 0.013362198, 0.0129510965, 0.012515372, 0.014547668, 0.015169652, 0.011638493, 0.013382852, 0.013865576, 0.014797042, 0.013022926, 0.011317293, 0.016308792, 0.010877722, 0.013705396, 0.012855671, 0.011054522, 0.013098638, 0.010612658, 0.013732267, 0.014859845, 0.020740058, 0.012400687, 0.012258867, 0.0154231135, 0.016959118, 0.010342559, 0.011784349]\n",
      "2022-02-25 22:16:19,189 : INFO : merging changes from 1204 documents into a model of 3204 documents\n",
      "2022-02-25 22:16:19,195 : INFO : topic #12 (0.010): 0.077*\"429\" + 0.074*\"6\" + 0.059*\"29\" + 0.056*\"50\" + 0.044*\"1168\" + 0.040*\"1169\" + 0.039*\"588\" + 0.036*\"1079\" + 0.030*\"794\" + 0.029*\"914\"\n",
      "2022-02-25 22:16:19,196 : INFO : topic #98 (0.010): 0.158*\"198\" + 0.086*\"694\" + 0.078*\"209\" + 0.074*\"425\" + 0.059*\"442\" + 0.057*\"455\" + 0.040*\"1078\" + 0.040*\"507\" + 0.038*\"92\" + 0.035*\"432\"\n"
     ]
    },
    {
     "name": "stderr",
     "output_type": "stream",
     "text": [
      "2022-02-25 22:16:19,196 : INFO : topic #50 (0.019): 0.170*\"29\" + 0.134*\"30\" + 0.106*\"54\" + 0.061*\"0\" + 0.052*\"41\" + 0.045*\"50\" + 0.042*\"345\" + 0.040*\"334\" + 0.020*\"342\" + 0.020*\"103\"\n",
      "2022-02-25 22:16:19,198 : INFO : topic #93 (0.021): 0.278*\"13\" + 0.174*\"3\" + 0.049*\"50\" + 0.030*\"598\" + 0.025*\"220\" + 0.024*\"458\" + 0.022*\"666\" + 0.019*\"53\" + 0.018*\"0\" + 0.017*\"6\"\n",
      "2022-02-25 22:16:19,199 : INFO : topic #37 (0.048): 0.352*\"34\" + 0.322*\"35\" + 0.174*\"83\" + 0.043*\"859\" + 0.032*\"611\" + 0.026*\"36\" + 0.021*\"24\" + 0.014*\"180\" + 0.004*\"20\" + 0.003*\"803\"\n",
      "2022-02-25 22:16:19,199 : INFO : topic diff=0.165929, rho=0.225865\n",
      "2022-02-25 22:16:19,207 : INFO : PROGRESS: pass 18, at document #2000/3204\n",
      "2022-02-25 22:16:19,825 : INFO : optimized alpha [0.011884942, 0.013603581, 0.011198733, 0.011862045, 0.014138978, 0.012263308, 0.012087153, 0.011551056, 0.011017874, 0.016057173, 0.014253713, 0.0140807675, 0.0103129335, 0.014025444, 0.012499731, 0.013134496, 0.011040557, 0.015845016, 0.016039707, 0.012143853, 0.012367685, 0.013297347, 0.013721901, 0.014959647, 0.012116515, 0.014710149, 0.013415709, 0.013188386, 0.013591942, 0.010377079, 0.014927939, 0.011078759, 0.014505053, 0.012314242, 0.013023743, 0.011243063, 0.011238761, 0.049760036, 0.012642521, 0.015842631, 0.012746497, 0.014490113, 0.012317032, 0.013449495, 0.017012822, 0.013764843, 0.012713759, 0.013605935, 0.014992005, 0.013975025, 0.019525422, 0.011338249, 0.016023712, 0.018807778, 0.014067942, 0.013749621, 0.013545515, 0.013957616, 0.012142511, 0.0139906835, 0.016215492, 0.013754627, 0.015374713, 0.011979734, 0.014903457, 0.012235671, 0.01391663, 0.012414886, 0.012128871, 0.01591688, 0.015353573, 0.013271173, 0.015481487, 0.0134062525, 0.012973261, 0.012533425, 0.01463655, 0.015276664, 0.011674964, 0.013473851, 0.013895516, 0.014915607, 0.013143275, 0.01131985, 0.016372176, 0.010882484, 0.013822275, 0.0128873745, 0.011056881, 0.013144416, 0.01062955, 0.013776086, 0.015031862, 0.021032954, 0.012435096, 0.012284877, 0.015398677, 0.017073736, 0.010360212, 0.011814145]\n",
      "2022-02-25 22:16:19,831 : INFO : merging changes from 2000 documents into a model of 3204 documents\n",
      "2022-02-25 22:16:19,837 : INFO : topic #12 (0.010): 0.075*\"6\" + 0.071*\"429\" + 0.058*\"29\" + 0.057*\"50\" + 0.040*\"1168\" + 0.037*\"588\" + 0.037*\"1169\" + 0.036*\"1079\" + 0.030*\"914\" + 0.029*\"15\"\n",
      "2022-02-25 22:16:19,837 : INFO : topic #98 (0.010): 0.166*\"198\" + 0.081*\"694\" + 0.078*\"209\" + 0.076*\"425\" + 0.055*\"442\" + 0.051*\"455\" + 0.039*\"1078\" + 0.039*\"507\" + 0.038*\"432\" + 0.037*\"92\"\n",
      "2022-02-25 22:16:19,838 : INFO : topic #50 (0.020): 0.163*\"29\" + 0.131*\"30\" + 0.109*\"54\" + 0.062*\"0\" + 0.052*\"41\" + 0.046*\"50\" + 0.041*\"334\" + 0.041*\"345\" + 0.024*\"342\" + 0.021*\"49\"\n",
      "2022-02-25 22:16:19,839 : INFO : topic #93 (0.021): 0.273*\"13\" + 0.182*\"3\" + 0.049*\"50\" + 0.027*\"598\" + 0.024*\"220\" + 0.024*\"458\" + 0.022*\"666\" + 0.019*\"53\" + 0.019*\"0\" + 0.019*\"6\"\n",
      "2022-02-25 22:16:19,840 : INFO : topic #37 (0.050): 0.356*\"34\" + 0.328*\"35\" + 0.178*\"83\" + 0.035*\"859\" + 0.027*\"611\" + 0.025*\"36\" + 0.020*\"24\" + 0.013*\"180\" + 0.004*\"20\" + 0.003*\"803\"\n",
      "2022-02-25 22:16:19,841 : INFO : topic diff=0.150650, rho=0.220316\n",
      "2022-02-25 22:16:20,631 : INFO : -6.383 per-word bound, 83.5 perplexity estimate based on a held-out corpus of 1204 documents with 49783 words\n",
      "2022-02-25 22:16:20,631 : INFO : PROGRESS: pass 18, at document #3204/3204\n",
      "2022-02-25 22:16:21,222 : INFO : optimized alpha [0.012003135, 0.01372564, 0.011281835, 0.011957702, 0.014356863, 0.012401924, 0.012151333, 0.011646618, 0.011088309, 0.015984967, 0.014450617, 0.014264196, 0.010374696, 0.014134953, 0.012595672, 0.0132077485, 0.0110818185, 0.016049813, 0.016068423, 0.012216522, 0.0124498615, 0.013483097, 0.01381688, 0.015173285, 0.012245089, 0.015000364, 0.013549592, 0.013387296, 0.013713903, 0.01044883, 0.015068803, 0.011183556, 0.014608901, 0.012408368, 0.013074735, 0.011346401, 0.011337509, 0.05159156, 0.012802766, 0.016055744, 0.012824968, 0.0147341285, 0.012462738, 0.013611551, 0.017321765, 0.013906683, 0.01280358, 0.013826852, 0.015233421, 0.014093193, 0.019882701, 0.011411339, 0.016300328, 0.019267771, 0.014146197, 0.0138965435, 0.013706495, 0.014166439, 0.01223744, 0.014026586, 0.0164568, 0.013921755, 0.015476035, 0.012105489, 0.01510188, 0.012336895, 0.014059553, 0.0125142215, 0.012276194, 0.016123654, 0.0155698275, 0.013397308, 0.01565118, 0.013527686, 0.013149672, 0.012659238, 0.01489273, 0.015466429, 0.011735822, 0.013592616, 0.014071553, 0.015054098, 0.013206898, 0.011390594, 0.016583107, 0.010961449, 0.013911683, 0.0130193075, 0.011145029, 0.013271256, 0.010696275, 0.014072926, 0.015124015, 0.021463124, 0.012607142, 0.012460433, 0.015643729, 0.017373402, 0.010411826, 0.011901115]\n",
      "2022-02-25 22:16:21,228 : INFO : merging changes from 1204 documents into a model of 3204 documents\n",
      "2022-02-25 22:16:21,233 : INFO : topic #12 (0.010): 0.078*\"429\" + 0.075*\"6\" + 0.060*\"29\" + 0.056*\"50\" + 0.044*\"1168\" + 0.040*\"1169\" + 0.039*\"588\" + 0.036*\"1079\" + 0.030*\"914\" + 0.029*\"794\"\n",
      "2022-02-25 22:16:21,234 : INFO : topic #98 (0.010): 0.162*\"198\" + 0.086*\"694\" + 0.078*\"209\" + 0.074*\"425\" + 0.059*\"442\" + 0.058*\"455\" + 0.041*\"507\" + 0.040*\"1078\" + 0.039*\"92\" + 0.035*\"432\"\n",
      "2022-02-25 22:16:21,235 : INFO : topic #50 (0.020): 0.170*\"29\" + 0.135*\"30\" + 0.106*\"54\" + 0.061*\"0\" + 0.052*\"41\" + 0.046*\"50\" + 0.042*\"345\" + 0.040*\"334\" + 0.021*\"342\" + 0.020*\"103\"\n",
      "2022-02-25 22:16:21,236 : INFO : topic #93 (0.021): 0.279*\"13\" + 0.174*\"3\" + 0.049*\"50\" + 0.030*\"598\" + 0.026*\"220\" + 0.024*\"458\" + 0.022*\"666\" + 0.019*\"53\" + 0.019*\"0\" + 0.017*\"6\"\n",
      "2022-02-25 22:16:21,236 : INFO : topic #37 (0.052): 0.354*\"34\" + 0.323*\"35\" + 0.173*\"83\" + 0.042*\"859\" + 0.032*\"611\" + 0.025*\"36\" + 0.020*\"24\" + 0.013*\"180\" + 0.004*\"20\" + 0.003*\"803\"\n",
      "2022-02-25 22:16:21,237 : INFO : topic diff=0.153859, rho=0.220316\n",
      "2022-02-25 22:16:21,245 : INFO : PROGRESS: pass 19, at document #2000/3204\n",
      "2022-02-25 22:16:21,860 : INFO : optimized alpha [0.012023211, 0.013768415, 0.011290331, 0.011998055, 0.014437346, 0.01239882, 0.012226842, 0.011676469, 0.011104571, 0.016377239, 0.014466309, 0.014334117, 0.010379087, 0.01430272, 0.012604003, 0.013318003, 0.011092593, 0.016097303, 0.016317358, 0.012264324, 0.012510405, 0.013516465, 0.013914367, 0.0152467135, 0.012266855, 0.015160774, 0.013625176, 0.013408031, 0.01376753, 0.010415497, 0.01514216, 0.011183904, 0.014724954, 0.012438492, 0.013198556, 0.011353601, 0.01135094, 0.053728595, 0.012804871, 0.016167125, 0.01291397, 0.014755364, 0.012520599, 0.0136282565, 0.017353795, 0.013967247, 0.012844858, 0.013841636, 0.015340146, 0.014178964, 0.020096187, 0.011463614, 0.016330013, 0.019458776, 0.014258411, 0.013947252, 0.013732318, 0.014188496, 0.012252832, 0.014104531, 0.01658655, 0.013932372, 0.015658861, 0.012123539, 0.015193901, 0.012382524, 0.014154886, 0.012531528, 0.012276237, 0.016207293, 0.015635518, 0.0134347435, 0.015821917, 0.013570916, 0.013176805, 0.012678266, 0.014984811, 0.015571535, 0.011771786, 0.013685244, 0.014102052, 0.015169284, 0.013325644, 0.011394558, 0.016646724, 0.010968605, 0.014025395, 0.013050323, 0.011151022, 0.013317583, 0.010712979, 0.014115093, 0.015297307, 0.021764971, 0.012640657, 0.012489697, 0.015618823, 0.017485674, 0.010430455, 0.011938191]\n",
      "2022-02-25 22:16:21,866 : INFO : merging changes from 2000 documents into a model of 3204 documents\n",
      "2022-02-25 22:16:21,871 : INFO : topic #12 (0.010): 0.076*\"6\" + 0.072*\"429\" + 0.059*\"29\" + 0.057*\"50\" + 0.040*\"1168\" + 0.037*\"588\" + 0.037*\"1169\" + 0.036*\"1079\" + 0.031*\"914\" + 0.028*\"15\"\n",
      "2022-02-25 22:16:21,872 : INFO : topic #29 (0.010): 0.099*\"50\" + 0.069*\"0\" + 0.046*\"83\" + 0.042*\"1090\" + 0.034*\"429\" + 0.033*\"646\" + 0.026*\"772\" + 0.024*\"131\" + 0.023*\"762\" + 0.022*\"1032\"\n",
      "2022-02-25 22:16:21,873 : INFO : topic #50 (0.020): 0.164*\"29\" + 0.132*\"30\" + 0.109*\"54\" + 0.062*\"0\" + 0.052*\"41\" + 0.046*\"50\" + 0.041*\"345\" + 0.041*\"334\" + 0.024*\"342\" + 0.021*\"49\"\n",
      "2022-02-25 22:16:21,874 : INFO : topic #93 (0.022): 0.274*\"13\" + 0.181*\"3\" + 0.049*\"50\" + 0.027*\"598\" + 0.025*\"220\" + 0.024*\"458\" + 0.022*\"666\" + 0.020*\"53\" + 0.019*\"0\" + 0.019*\"6\"\n",
      "2022-02-25 22:16:21,874 : INFO : topic #37 (0.054): 0.357*\"34\" + 0.329*\"35\" + 0.178*\"83\" + 0.035*\"859\" + 0.027*\"611\" + 0.025*\"36\" + 0.020*\"24\" + 0.012*\"180\" + 0.003*\"20\" + 0.003*\"803\"\n"
     ]
    },
    {
     "name": "stderr",
     "output_type": "stream",
     "text": [
      "2022-02-25 22:16:21,875 : INFO : topic diff=0.140711, rho=0.215156\n",
      "2022-02-25 22:16:22,614 : INFO : -6.379 per-word bound, 83.2 perplexity estimate based on a held-out corpus of 1204 documents with 49783 words\n",
      "2022-02-25 22:16:22,615 : INFO : PROGRESS: pass 19, at document #3204/3204\n",
      "2022-02-25 22:16:23,219 : INFO : optimized alpha [0.012135241, 0.013888416, 0.011372064, 0.012094347, 0.014655295, 0.012533065, 0.01229197, 0.011776859, 0.011175887, 0.016299998, 0.014662965, 0.014520039, 0.010447328, 0.014412679, 0.012696125, 0.013384911, 0.011133281, 0.016304826, 0.016346926, 0.01234016, 0.012593324, 0.01369491, 0.014009978, 0.015454785, 0.012402327, 0.015471192, 0.0137618175, 0.013606903, 0.013892268, 0.010480474, 0.01527797, 0.0112789115, 0.014826731, 0.012533261, 0.013250678, 0.011457301, 0.011444098, 0.05555566, 0.01296046, 0.016377147, 0.012993248, 0.014996509, 0.012666538, 0.013785324, 0.01766846, 0.014106825, 0.012933135, 0.014060031, 0.015573408, 0.01429505, 0.02045709, 0.011533382, 0.016609069, 0.019913526, 0.014337554, 0.014094397, 0.013890852, 0.014397088, 0.012346179, 0.014139767, 0.016833832, 0.014107164, 0.015763428, 0.012251756, 0.015384117, 0.012486538, 0.014295521, 0.01262926, 0.012425721, 0.016411282, 0.01584314, 0.013561192, 0.01598857, 0.013692727, 0.013343612, 0.012808974, 0.015249449, 0.015755674, 0.0118315965, 0.013811997, 0.014270361, 0.015305303, 0.013387844, 0.011466193, 0.016857538, 0.011054191, 0.014112939, 0.013180161, 0.011237716, 0.013440055, 0.010782473, 0.0144175235, 0.015389954, 0.022199862, 0.0128194, 0.01266311, 0.015866103, 0.017785111, 0.010481252, 0.012028018]\n",
      "2022-02-25 22:16:23,225 : INFO : merging changes from 1204 documents into a model of 3204 documents\n",
      "2022-02-25 22:16:23,230 : INFO : topic #29 (0.010): 0.101*\"50\" + 0.067*\"0\" + 0.047*\"83\" + 0.046*\"1090\" + 0.035*\"429\" + 0.034*\"646\" + 0.026*\"772\" + 0.025*\"1032\" + 0.024*\"131\" + 0.023*\"621\"\n",
      "2022-02-25 22:16:23,231 : INFO : topic #12 (0.010): 0.080*\"429\" + 0.075*\"6\" + 0.060*\"29\" + 0.056*\"50\" + 0.043*\"1168\" + 0.040*\"588\" + 0.040*\"1169\" + 0.036*\"1079\" + 0.030*\"914\" + 0.029*\"794\"\n",
      "2022-02-25 22:16:23,232 : INFO : topic #50 (0.020): 0.171*\"29\" + 0.136*\"30\" + 0.106*\"54\" + 0.061*\"0\" + 0.052*\"41\" + 0.046*\"50\" + 0.043*\"345\" + 0.040*\"334\" + 0.021*\"342\" + 0.020*\"103\"\n",
      "2022-02-25 22:16:23,233 : INFO : topic #93 (0.022): 0.280*\"13\" + 0.173*\"3\" + 0.050*\"50\" + 0.029*\"598\" + 0.026*\"220\" + 0.024*\"458\" + 0.022*\"666\" + 0.019*\"0\" + 0.019*\"53\" + 0.017*\"6\"\n",
      "2022-02-25 22:16:23,234 : INFO : topic #37 (0.056): 0.355*\"34\" + 0.323*\"35\" + 0.173*\"83\" + 0.042*\"859\" + 0.032*\"611\" + 0.025*\"36\" + 0.020*\"24\" + 0.013*\"180\" + 0.003*\"20\" + 0.003*\"803\"\n",
      "2022-02-25 22:16:23,235 : INFO : topic diff=0.143561, rho=0.215156\n",
      "2022-02-25 22:16:23,242 : INFO : LdaModel lifecycle event {'msg': 'trained LdaModel(num_terms=1197, num_topics=100, decay=0.5, chunksize=2000) in 52.57s', 'datetime': '2022-02-25T22:16:23.241998', 'gensim': '4.1.2', 'python': '3.8.10 (default, Nov 26 2021, 20:14:08) \\n[GCC 9.3.0]', 'platform': 'Linux-5.13.0-30-generic-x86_64-with-glibc2.29', 'event': 'created'}\n"
     ]
    },
    {
     "data": {
      "text/plain": [
       "[(0, 0.004988162),\n",
       " (1, 0.0057088),\n",
       " (2, 0.00467446),\n",
       " (3, 0.0049713524),\n",
       " (4, 0.006024024),\n",
       " (5, 0.0051516863),\n",
       " (6, 0.0050525847),\n",
       " (7, 0.00484085),\n",
       " (8, 0.0045938217),\n",
       " (9, 0.0067000757),\n",
       " (10, 0.006027177),\n",
       " (11, 0.0059684273),\n",
       " (12, 0.0042943493),\n",
       " (13, 0.0059242975),\n",
       " (14, 0.0052187117),\n",
       " (15, 0.005501836),\n",
       " (16, 0.0045763087),\n",
       " (17, 0.00670206),\n",
       " (18, 0.006719365),\n",
       " (19, 0.0050723935),\n",
       " (20, 0.005176456),\n",
       " (21, 0.00562926),\n",
       " (22, 0.005758768),\n",
       " (23, 0.41739517),\n",
       " (24, 0.005097947),\n",
       " (25, 0.0063593965),\n",
       " (26, 0.0056567625),\n",
       " (27, 0.005593085),\n",
       " (28, 0.0057103834),\n",
       " (29, 0.0043079737),\n",
       " (30, 0.006279973),\n",
       " (31, 0.00463617),\n",
       " (32, 0.0060944925),\n",
       " (33, 0.0051517673),\n",
       " (34, 0.0054466594),\n",
       " (35, 0.004709496),\n",
       " (36, 0.0047040693),\n",
       " (37, 0.022836022),\n",
       " (38, 0.0053273663),\n",
       " (39, 0.006731787),\n",
       " (40, 0.005340844),\n",
       " (41, 0.0061642793),\n",
       " (42, 0.0052065505),\n",
       " (43, 0.0056664245),\n",
       " (44, 0.0072625782),\n",
       " (45, 0.005798577),\n",
       " (46, 0.0053161345),\n",
       " (47, 0.0057793423),\n",
       " (48, 0.0064014127),\n",
       " (49, 0.005875946),\n",
       " (50, 0.008408839),\n",
       " (51, 0.0047407695),\n",
       " (52, 0.0068271183),\n",
       " (53, 0.008185407),\n",
       " (54, 0.005893417),\n",
       " (55, 0.0057934686),\n",
       " (56, 0.005709802),\n",
       " (57, 0.005917889),\n",
       " (58, 0.0050748675),\n",
       " (59, 0.0058121174),\n",
       " (60, 0.006919507),\n",
       " (61, 0.005798716),\n",
       " (62, 0.0064795194),\n",
       " (63, 0.005036055),\n",
       " (64, 0.006323605),\n",
       " (65, 0.0051325615),\n",
       " (66, 0.0058761397),\n",
       " (67, 0.0051912274),\n",
       " (68, 0.005107563),\n",
       " (69, 0.0067458185),\n",
       " (70, 0.0065122847),\n",
       " (71, 0.0055742958),\n",
       " (72, 0.0065720635),\n",
       " (73, 0.0056283628),\n",
       " (74, 0.00548486),\n",
       " (75, 0.005265098),\n",
       " (76, 0.00626825),\n",
       " (77, 0.0064763324),\n",
       " (78, 0.0048633497),\n",
       " (79, 0.0056773885),\n",
       " (80, 0.005865798),\n",
       " (81, 0.0062912083),\n",
       " (82, 0.005503041),\n",
       " (83, 0.004713151),\n",
       " (84, 0.006929251),\n",
       " (85, 0.004543799),\n",
       " (86, 0.00580109),\n",
       " (87, 0.005417674),\n",
       " (88, 0.0046192366),\n",
       " (89, 0.0055245026),\n",
       " (90, 0.0044321097),\n",
       " (91, 0.0059262887),\n",
       " (92, 0.006326004),\n",
       " (93, 0.0091252),\n",
       " (94, 0.005269384),\n",
       " (95, 0.0052051414),\n",
       " (96, 0.0065217237),\n",
       " (97, 0.007310528),\n",
       " (98, 0.004308294),\n",
       " (99, 0.004944088)]"
      ]
     },
     "execution_count": 85,
     "metadata": {},
     "output_type": "execute_result"
    }
   ],
   "source": [
    "##### Function check\n",
    "lda = LdaRetrievalModel(doc_repr_2)\n",
    "lda.train_model()\n",
    "\n",
    "# you can now get an LDA vector for a given query in the following way:\n",
    "lda.vectorize_query(\"report\")\n",
    "##### "
   ]
  },
  {
   "cell_type": "markdown",
   "metadata": {
    "deletable": false,
    "editable": false,
    "nbgrader": {
     "cell_type": "markdown",
     "checksum": "32d83b6ea79ca3ddb789a7f8805a1b25",
     "grade": false,
     "grade_id": "cell-0e24b727d5908c0e",
     "locked": true,
     "points": 5,
     "schema_version": 3,
     "solution": false,
     "task": true
    }
   },
   "source": [
    "\\#### Please do not change this. This cell is used for grading."
   ]
  },
  {
   "cell_type": "markdown",
   "metadata": {
    "deletable": false,
    "editable": false,
    "nbgrader": {
     "cell_type": "markdown",
     "checksum": "114a934f0b9ce696e6cf09d3b8da6a3d",
     "grade": false,
     "grade_id": "cell-b1bffcb970b18aeb",
     "locked": true,
     "schema_version": 3,
     "solution": false,
     "task": false
    }
   },
   "source": [
    "---\n",
    "Now we can use the `DenseRetrievalModel` class to obtain an LDA search function.\n",
    "You can test your LDA model in the following cell: Try finding queries which are lexically different to documents, but semantically similar - does LDA work well for these queries?!"
   ]
  },
  {
   "cell_type": "code",
   "execution_count": 86,
   "metadata": {},
   "outputs": [
    {
     "data": {
      "application/vnd.jupyter.widget-view+json": {
       "model_id": "91e4ef4c4cde4b15b65250094094f2b6",
       "version_major": 2,
       "version_minor": 0
      },
      "text/plain": [
       "Text(value='', description='Search Bar')"
      ]
     },
     "metadata": {},
     "output_type": "display_data"
    }
   ],
   "source": [
    "drm_lda = DenseRetrievalRanker(lda, jenson_shannon_sim)\n",
    "\n",
    "# test your LDA model\n",
    "search_fn = drm_lda.search\n",
    "\n",
    "text = widgets.Text(description=\"Search Bar\", width=200)\n",
    "display(text)\n",
    "\n",
    "\n",
    "text.on_submit(handle_submit_2)"
   ]
  },
  {
   "cell_type": "markdown",
   "metadata": {
    "deletable": false,
    "editable": false,
    "nbgrader": {
     "cell_type": "markdown",
     "checksum": "9d7f15863b655119b45f4d89354e5661",
     "grade": false,
     "grade_id": "cell-190cd0854b2791cc",
     "locked": true,
     "schema_version": 3,
     "solution": false,
     "task": false
    }
   },
   "source": [
    "## Section 8: Word2Vec/Doc2Vec (20 points) <a class=\"anchor\" id=\"2vec\"></a>\n",
    "\n",
    "[Back to Part 2](#part2)\n",
    "\n",
    "We will implement two other methods here, the Word2Vec model and the Doc2Vec model, also using `gensim`. Word2Vec creates representations of words, not documents, so the word level vectors need to be aggregated to obtain a representation for the document. Here, we will simply take the mean of the vectors. \n",
    "\n",
    "\n",
    "A drawback of these models is that they need a lot of training data. Our dataset is tiny, so in addition to using a model trained on the data, we will also use a pre-trained model for Word2Vec (this will be automatically downloaded).     \n",
    "\n",
    "*Note*:\n",
    "1. The code in vectorize_documents / vectorize_query should return gensim-like vectors i.e `[(dim, val), .. (dim, val)]`. \n",
    "2. For Word2Vec: You should also handle the following two cases: (a) A word in the query is not present in the vocabulary of the model and (b) none of the words in the query are present in the model - you can return 0 scores for all documents in this case. For either of these, you can check if a `word` is present in the vocab by using `word in self.model`\n"
   ]
  },
  {
   "cell_type": "code",
   "execution_count": 87,
   "metadata": {
    "deletable": false,
    "nbgrader": {
     "cell_type": "code",
     "checksum": "83ab733608ed14c29c09b36b4e1b6daa",
     "grade": false,
     "grade_id": "cell-2b73759f9baf688f",
     "locked": false,
     "schema_version": 3,
     "solution": true,
     "task": false
    }
   },
   "outputs": [
    {
     "name": "stderr",
     "output_type": "stream",
     "text": [
      "2022-02-25 22:16:24,950 : INFO : adding document #0 to Dictionary(0 unique tokens: [])\n",
      "2022-02-25 22:16:25,030 : INFO : built Dictionary(5937 unique tokens: ['-', 'algebra', 'intern', 'languag', 'preliminari']...) from 3204 documents (total 115969 corpus positions)\n",
      "2022-02-25 22:16:25,030 : INFO : Dictionary lifecycle event {'msg': \"built Dictionary(5937 unique tokens: ['-', 'algebra', 'intern', 'languag', 'preliminari']...) from 3204 documents (total 115969 corpus positions)\", 'datetime': '2022-02-25T22:16:25.030851', 'gensim': '4.1.2', 'python': '3.8.10 (default, Nov 26 2021, 20:14:08) \\n[GCC 9.3.0]', 'platform': 'Linux-5.13.0-30-generic-x86_64-with-glibc2.29', 'event': 'created'}\n",
      "2022-02-25 22:16:25,037 : INFO : discarding 4740 tokens: [('repeat', 8), ('glossari', 7), ('inspect', 8), ('uncol', 2), ('rung', 9), ('secant', 2), ('.', 1603), ('acceler', 6), ('diverg', 3), ('induc', 9)]...\n",
      "2022-02-25 22:16:25,037 : INFO : keeping 1197 tokens which were in no less than 10 and no more than 1602 (=50.0%) documents\n",
      "2022-02-25 22:16:25,040 : INFO : resulting dictionary: Dictionary(1197 unique tokens: ['-', 'algebra', 'intern', 'languag', 'preliminari']...)\n",
      "2022-02-25 22:16:25,088 : INFO : collecting all words and their counts\n",
      "2022-02-25 22:16:25,088 : INFO : PROGRESS: at sentence #0, processed 0 words, keeping 0 word types\n",
      "2022-02-25 22:16:25,102 : INFO : collected 5937 word types from a corpus of 115969 raw words and 3204 sentences\n",
      "2022-02-25 22:16:25,103 : INFO : Creating a fresh vocabulary\n",
      "2022-02-25 22:16:25,120 : INFO : Word2Vec lifecycle event {'msg': 'effective_min_count=1 retains 5937 unique words (100.0%% of original 5937, drops 0)', 'datetime': '2022-02-25T22:16:25.119967', 'gensim': '4.1.2', 'python': '3.8.10 (default, Nov 26 2021, 20:14:08) \\n[GCC 9.3.0]', 'platform': 'Linux-5.13.0-30-generic-x86_64-with-glibc2.29', 'event': 'prepare_vocab'}\n",
      "2022-02-25 22:16:25,120 : INFO : Word2Vec lifecycle event {'msg': 'effective_min_count=1 leaves 115969 word corpus (100.0%% of original 115969, drops 0)', 'datetime': '2022-02-25T22:16:25.120785', 'gensim': '4.1.2', 'python': '3.8.10 (default, Nov 26 2021, 20:14:08) \\n[GCC 9.3.0]', 'platform': 'Linux-5.13.0-30-generic-x86_64-with-glibc2.29', 'event': 'prepare_vocab'}\n",
      "2022-02-25 22:16:25,151 : INFO : deleting the raw counts dictionary of 5937 items\n",
      "2022-02-25 22:16:25,152 : INFO : sample=0.001 downsamples 40 most-common words\n",
      "2022-02-25 22:16:25,152 : INFO : Word2Vec lifecycle event {'msg': 'downsampling leaves estimated 92346.50772718964 word corpus (79.6%% of prior 115969)', 'datetime': '2022-02-25T22:16:25.152560', 'gensim': '4.1.2', 'python': '3.8.10 (default, Nov 26 2021, 20:14:08) \\n[GCC 9.3.0]', 'platform': 'Linux-5.13.0-30-generic-x86_64-with-glibc2.29', 'event': 'prepare_vocab'}\n",
      "2022-02-25 22:16:25,201 : INFO : estimated required memory for 5937 words and 100 dimensions: 7718100 bytes\n",
      "2022-02-25 22:16:25,202 : INFO : resetting layer weights\n",
      "2022-02-25 22:16:25,207 : INFO : Word2Vec lifecycle event {'update': False, 'trim_rule': 'None', 'datetime': '2022-02-25T22:16:25.206982', 'gensim': '4.1.2', 'python': '3.8.10 (default, Nov 26 2021, 20:14:08) \\n[GCC 9.3.0]', 'platform': 'Linux-5.13.0-30-generic-x86_64-with-glibc2.29', 'event': 'build_vocab'}\n",
      "2022-02-25 22:16:25,207 : INFO : Word2Vec lifecycle event {'msg': 'training model with 4 workers on 5937 vocabulary and 100 features, using sg=0 hs=0 sample=0.001 negative=5 window=2 shrink_windows=True', 'datetime': '2022-02-25T22:16:25.207762', 'gensim': '4.1.2', 'python': '3.8.10 (default, Nov 26 2021, 20:14:08) \\n[GCC 9.3.0]', 'platform': 'Linux-5.13.0-30-generic-x86_64-with-glibc2.29', 'event': 'train'}\n",
      "2022-02-25 22:16:25,302 : INFO : worker thread finished; awaiting finish of 3 more threads\n",
      "2022-02-25 22:16:25,306 : INFO : worker thread finished; awaiting finish of 2 more threads\n",
      "2022-02-25 22:16:25,311 : INFO : worker thread finished; awaiting finish of 1 more threads\n",
      "2022-02-25 22:16:25,312 : INFO : worker thread finished; awaiting finish of 0 more threads\n",
      "2022-02-25 22:16:25,313 : INFO : EPOCH - 1 : training on 115969 raw words (92232 effective words) took 0.1s, 925629 effective words/s\n",
      "2022-02-25 22:16:25,365 : INFO : worker thread finished; awaiting finish of 3 more threads\n",
      "2022-02-25 22:16:25,366 : INFO : worker thread finished; awaiting finish of 2 more threads\n",
      "2022-02-25 22:16:25,371 : INFO : worker thread finished; awaiting finish of 1 more threads\n",
      "2022-02-25 22:16:25,373 : INFO : worker thread finished; awaiting finish of 0 more threads\n",
      "2022-02-25 22:16:25,373 : INFO : EPOCH - 2 : training on 115969 raw words (92180 effective words) took 0.1s, 1618155 effective words/s\n",
      "2022-02-25 22:16:25,423 : INFO : worker thread finished; awaiting finish of 3 more threads\n",
      "2022-02-25 22:16:25,427 : INFO : worker thread finished; awaiting finish of 2 more threads\n",
      "2022-02-25 22:16:25,429 : INFO : worker thread finished; awaiting finish of 1 more threads\n",
      "2022-02-25 22:16:25,431 : INFO : worker thread finished; awaiting finish of 0 more threads\n",
      "2022-02-25 22:16:25,432 : INFO : EPOCH - 3 : training on 115969 raw words (92318 effective words) took 0.1s, 1654080 effective words/s\n",
      "2022-02-25 22:16:25,481 : INFO : worker thread finished; awaiting finish of 3 more threads\n",
      "2022-02-25 22:16:25,485 : INFO : worker thread finished; awaiting finish of 2 more threads\n",
      "2022-02-25 22:16:25,496 : INFO : worker thread finished; awaiting finish of 1 more threads\n",
      "2022-02-25 22:16:25,496 : INFO : worker thread finished; awaiting finish of 0 more threads\n",
      "2022-02-25 22:16:25,497 : INFO : EPOCH - 4 : training on 115969 raw words (92464 effective words) took 0.1s, 1490681 effective words/s\n",
      "2022-02-25 22:16:25,578 : INFO : worker thread finished; awaiting finish of 3 more threads\n",
      "2022-02-25 22:16:25,579 : INFO : worker thread finished; awaiting finish of 2 more threads\n",
      "2022-02-25 22:16:25,585 : INFO : worker thread finished; awaiting finish of 1 more threads\n",
      "2022-02-25 22:16:25,592 : INFO : worker thread finished; awaiting finish of 0 more threads\n",
      "2022-02-25 22:16:25,593 : INFO : EPOCH - 5 : training on 115969 raw words (92301 effective words) took 0.1s, 1052381 effective words/s\n",
      "2022-02-25 22:16:25,593 : INFO : Word2Vec lifecycle event {'msg': 'training on 579845 raw words (461495 effective words) took 0.4s, 1198020 effective words/s', 'datetime': '2022-02-25T22:16:25.593772', 'gensim': '4.1.2', 'python': '3.8.10 (default, Nov 26 2021, 20:14:08) \\n[GCC 9.3.0]', 'platform': 'Linux-5.13.0-30-generic-x86_64-with-glibc2.29', 'event': 'train'}\n",
      "2022-02-25 22:16:25,594 : INFO : Word2Vec lifecycle event {'params': 'Word2Vec(vocab=5937, vector_size=100, alpha=0.025)', 'datetime': '2022-02-25T22:16:25.594384', 'gensim': '4.1.2', 'python': '3.8.10 (default, Nov 26 2021, 20:14:08) \\n[GCC 9.3.0]', 'platform': 'Linux-5.13.0-30-generic-x86_64-with-glibc2.29', 'event': 'created'}\n"
     ]
    },
    {
     "data": {
      "text/plain": [
       "[(0, -0.2867662),\n",
       " (1, 0.52728873),\n",
       " (2, 0.08453168),\n",
       " (3, -0.18264796),\n",
       " (4, 0.028602175),\n",
       " (5, -0.43776318),\n",
       " (6, 0.286458),\n",
       " (7, 0.8166693),\n",
       " (8, -0.2679899),\n",
       " (9, -0.24462092),\n",
       " (10, -0.12096604),\n",
       " (11, -0.4760727),\n",
       " (12, 0.2419019),\n",
       " (13, -0.11796952),\n",
       " (14, 0.051194023),\n",
       " (15, -0.36263633),\n",
       " (16, 0.19350114),\n",
       " (17, -0.3667098),\n",
       " (18, -0.22032298),\n",
       " (19, -0.7809704),\n",
       " (20, 0.11095253),\n",
       " (21, -0.07941345),\n",
       " (22, 0.43609256),\n",
       " (23, -0.11526004),\n",
       " (24, -0.26134443),\n",
       " (25, -0.015423693),\n",
       " (26, -0.23165232),\n",
       " (27, -0.25400674),\n",
       " (28, -0.38175067),\n",
       " (29, -0.010283222),\n",
       " (30, 0.44423065),\n",
       " (31, -0.095669195),\n",
       " (32, 0.20221692),\n",
       " (33, -0.33579555),\n",
       " (34, -0.10455616),\n",
       " (35, 0.3627834),\n",
       " (36, 0.23325123),\n",
       " (37, -0.39971825),\n",
       " (38, -0.50448155),\n",
       " (39, -0.60015035),\n",
       " (40, 0.21514197),\n",
       " (41, -0.2149887),\n",
       " (42, -0.37182772),\n",
       " (43, -0.024812581),\n",
       " (44, 0.4364889),\n",
       " (45, -0.2970066),\n",
       " (46, -0.056439605),\n",
       " (47, -0.01380368),\n",
       " (48, 0.25692517),\n",
       " (49, 0.031332243),\n",
       " (50, 0.18859674),\n",
       " (51, -0.4237603),\n",
       " (52, 0.17155457),\n",
       " (53, -0.060388565),\n",
       " (54, -0.3192408),\n",
       " (55, 0.11778551),\n",
       " (56, 0.1440619),\n",
       " (57, -0.08642864),\n",
       " (58, -0.38469988),\n",
       " (59, -0.2147812),\n",
       " (60, 0.042756297),\n",
       " (61, 0.1880019),\n",
       " (62, 0.26420933),\n",
       " (63, 0.0361556),\n",
       " (64, -0.4981963),\n",
       " (65, 0.3103738),\n",
       " (66, -0.014073002),\n",
       " (67, 0.24305677),\n",
       " (68, -0.47687712),\n",
       " (69, 0.22507757),\n",
       " (70, -0.034658156),\n",
       " (71, 0.19545545),\n",
       " (72, 0.27146766),\n",
       " (73, 0.3280711),\n",
       " (74, 0.3450245),\n",
       " (75, 0.10812702),\n",
       " (76, 0.15394649),\n",
       " (77, 0.0023133745),\n",
       " (78, -0.6643392),\n",
       " (79, 0.032755762),\n",
       " (80, -0.22758698),\n",
       " (81, -0.059215333),\n",
       " (82, -0.26680422),\n",
       " (83, 0.554694),\n",
       " (84, -0.05687379),\n",
       " (85, -0.12472837),\n",
       " (86, 0.21127467),\n",
       " (87, 0.34376633),\n",
       " (88, 0.22033808),\n",
       " (89, 0.15301059),\n",
       " (90, 0.29330996),\n",
       " (91, 0.12469664),\n",
       " (92, -0.02017197),\n",
       " (93, 0.15741462),\n",
       " (94, 0.87705314),\n",
       " (95, 0.46687117),\n",
       " (96, 0.1678144),\n",
       " (97, -0.5023592),\n",
       " (98, 0.32698616),\n",
       " (99, -0.11724097)]"
      ]
     },
     "execution_count": 87,
     "metadata": {},
     "output_type": "execute_result"
    }
   ],
   "source": [
    "# TODO: Implement this! (10 points)\n",
    "class W2VRetrievalModel(VectorSpaceRetrievalModel):\n",
    "    def __init__(self, doc_repr):\n",
    "        super().__init__(doc_repr)\n",
    "        \n",
    "        # the dimensionality of the vectors\n",
    "        self.size = 100 \n",
    "        self.min_count = 1\n",
    "    \n",
    "    def train_model(self):\n",
    "        \"\"\"\n",
    "        Trains the W2V model\n",
    "        \"\"\"\n",
    "        self.model = Word2Vec(self.documents, vector_size=self.size, window=2, min_count=self.min_count, workers=4)\n",
    "        \n",
    "    def vectorize_documents(self):\n",
    "        \"\"\"\n",
    "            Returns a doc_id -> vector dictionary\n",
    "        \"\"\"    \n",
    "        vectors={}\n",
    "        for (doc_id, _), cc in zip(self.doc_repr, self.documents):\n",
    "            docvec=np.zeros(self.size)\n",
    "            zer=0\n",
    "            for word in cc:\n",
    "                if word not in self.model.wv:\n",
    "                    zer=1\n",
    "            if zer==0:\n",
    "                docvec = self.model.wv[cc]\n",
    "            tot=np.linspace(0, self.size-1,num=self.size,dtype=int)\n",
    "            real=list(zip(tot, docvec[0]))\n",
    "            vectors[doc_id]=real\n",
    "        return vectors\n",
    "\n",
    "    def vectorize_query(self, query):\n",
    "        \"\"\"\n",
    "        Vectorizes the query using the W2V model\n",
    "        \"\"\"\n",
    "        query = process_text(query, **config_2)\n",
    "        for word in query:\n",
    "            if word not in self.model.wv:\n",
    "                return np.zeros(self.size)\n",
    "        tot=np.linspace(0, self.size-1,num=self.size,dtype=int)\n",
    "        query_vector = self.model.wv[query]\n",
    "        real=list(zip(tot, query_vector[0]))\n",
    "        return real\n",
    "        \n",
    "    \n",
    "    \n",
    "class W2VPretrainedRetrievalModel(W2VRetrievalModel):\n",
    "    def __init__(self, doc_repr):\n",
    "        super().__init__(doc_repr)\n",
    "        self.model_name = \"word2vec-google-news-300\"\n",
    "        self.size = 300\n",
    "    \n",
    "    def train_model(self):\n",
    "        \"\"\"\n",
    "        Loads the pretrained model\n",
    "        \"\"\"\n",
    "        self.model = g_downloader.load(self.model_name)\n",
    "        \n",
    "    def vectorize_documents(self):\n",
    "        \"\"\"\n",
    "            Returns a doc_id -> vector dictionary\n",
    "        \"\"\"    \n",
    "        vectors={}\n",
    "        for (doc_id, _), cc in zip(self.doc_repr, self.documents):\n",
    "            docvec=np.zeros(self.size)\n",
    "            zer=0\n",
    "            for word in cc:\n",
    "                if word not in self.model:\n",
    "                    zer=1\n",
    "            if zer==0:\n",
    "                docvec = self.model[cc]\n",
    "            tot=np.linspace(0, self.size-1,num=self.size,dtype=int)\n",
    "            real=list(zip(tot, docvec[0]))\n",
    "            vectors[doc_id]=real\n",
    "        return vectors\n",
    "\n",
    "    def vectorize_query(self, query):\n",
    "        \"\"\"\n",
    "        Vectorizes the query using the W2V model\n",
    "        \"\"\"\n",
    "        query = process_text(query, **config_2)\n",
    "        for word in query:\n",
    "            if word not in self.model:\n",
    "                return np.zeros(self.size)\n",
    "        tot=np.linspace(0, self.size-1,num=self.size,dtype=int)\n",
    "        query_vector = self.model[query]\n",
    "        real=list(zip(tot, query_vector[0]))\n",
    "        return real\n",
    "\n",
    "\n",
    "w2v = W2VRetrievalModel(doc_repr_2)\n",
    "w2v.train_model()\n",
    "\n",
    "# you can now get a W2V vector for a given query in the following way:\n",
    "w2v.vectorize_query(\"report\")"
   ]
  },
  {
   "cell_type": "code",
   "execution_count": 88,
   "metadata": {
    "deletable": false,
    "editable": false,
    "nbgrader": {
     "cell_type": "code",
     "checksum": "f92b5c5a8c6c4b80652b94223209ab0b",
     "grade": true,
     "grade_id": "cell-b31c0f8d214b8bdf",
     "locked": true,
     "points": 0,
     "schema_version": 3,
     "solution": false,
     "task": false
    }
   },
   "outputs": [],
   "source": [
    "assert len(w2v.vectorize_query(\"report\")) == 100\n",
    "assert len(w2v.vectorize_query(\"this is a sentence that is not mellifluous\")) == 100\n"
   ]
  },
  {
   "cell_type": "markdown",
   "metadata": {
    "deletable": false,
    "editable": false,
    "nbgrader": {
     "cell_type": "markdown",
     "checksum": "8dfaabebcb06f308a7ca61fdc5d369e7",
     "grade": false,
     "grade_id": "cell-c2614fa067386384",
     "locked": true,
     "points": 8,
     "schema_version": 3,
     "solution": false,
     "task": true
    }
   },
   "source": [
    "\\#### Please do not change this. This cell is used for grading."
   ]
  },
  {
   "cell_type": "code",
   "execution_count": 89,
   "metadata": {},
   "outputs": [
    {
     "name": "stderr",
     "output_type": "stream",
     "text": [
      "2022-02-25 22:16:25,622 : INFO : adding document #0 to Dictionary(0 unique tokens: [])\n",
      "2022-02-25 22:16:25,722 : INFO : built Dictionary(5937 unique tokens: ['-', 'algebra', 'intern', 'languag', 'preliminari']...) from 3204 documents (total 115969 corpus positions)\n",
      "2022-02-25 22:16:25,723 : INFO : Dictionary lifecycle event {'msg': \"built Dictionary(5937 unique tokens: ['-', 'algebra', 'intern', 'languag', 'preliminari']...) from 3204 documents (total 115969 corpus positions)\", 'datetime': '2022-02-25T22:16:25.722992', 'gensim': '4.1.2', 'python': '3.8.10 (default, Nov 26 2021, 20:14:08) \\n[GCC 9.3.0]', 'platform': 'Linux-5.13.0-30-generic-x86_64-with-glibc2.29', 'event': 'created'}\n",
      "2022-02-25 22:16:25,729 : INFO : discarding 4740 tokens: [('repeat', 8), ('glossari', 7), ('inspect', 8), ('uncol', 2), ('rung', 9), ('secant', 2), ('.', 1603), ('acceler', 6), ('diverg', 3), ('induc', 9)]...\n",
      "2022-02-25 22:16:25,730 : INFO : keeping 1197 tokens which were in no less than 10 and no more than 1602 (=50.0%) documents\n",
      "2022-02-25 22:16:25,735 : INFO : resulting dictionary: Dictionary(1197 unique tokens: ['-', 'algebra', 'intern', 'languag', 'preliminari']...)\n",
      "2022-02-25 22:16:25,793 : INFO : Creating /home/mark/gensim-data\n"
     ]
    },
    {
     "name": "stdout",
     "output_type": "stream",
     "text": [
      "[=======-------------------------------------------] 14.9% 247.3/1662.8MB downloaded"
     ]
    },
    {
     "name": "stderr",
     "output_type": "stream",
     "text": [
      "IOPub message rate exceeded.\n",
      "The notebook server will temporarily stop sending output\n",
      "to the client in order to avoid crashing it.\n",
      "To change this limit, set the config variable\n",
      "`--NotebookApp.iopub_msg_rate_limit`.\n",
      "\n",
      "Current values:\n",
      "NotebookApp.iopub_msg_rate_limit=1000.0 (msgs/sec)\n",
      "NotebookApp.rate_limit_window=3.0 (secs)\n",
      "\n"
     ]
    },
    {
     "name": "stdout",
     "output_type": "stream",
     "text": [
      "[============--------------------------------------] 24.3% 403.6/1662.8MB downloaded"
     ]
    },
    {
     "name": "stderr",
     "output_type": "stream",
     "text": [
      "IOPub message rate exceeded.\n",
      "The notebook server will temporarily stop sending output\n",
      "to the client in order to avoid crashing it.\n",
      "To change this limit, set the config variable\n",
      "`--NotebookApp.iopub_msg_rate_limit`.\n",
      "\n",
      "Current values:\n",
      "NotebookApp.iopub_msg_rate_limit=1000.0 (msgs/sec)\n",
      "NotebookApp.rate_limit_window=3.0 (secs)\n",
      "\n"
     ]
    },
    {
     "name": "stdout",
     "output_type": "stream",
     "text": [
      "[=============-------------------------------------] 26.1% 434.2/1662.8MB downloaded"
     ]
    },
    {
     "name": "stderr",
     "output_type": "stream",
     "text": [
      "IOPub message rate exceeded.\n",
      "The notebook server will temporarily stop sending output\n",
      "to the client in order to avoid crashing it.\n",
      "To change this limit, set the config variable\n",
      "`--NotebookApp.iopub_msg_rate_limit`.\n",
      "\n",
      "Current values:\n",
      "NotebookApp.iopub_msg_rate_limit=1000.0 (msgs/sec)\n",
      "NotebookApp.rate_limit_window=3.0 (secs)\n",
      "\n"
     ]
    },
    {
     "name": "stdout",
     "output_type": "stream",
     "text": [
      "[=============-------------------------------------] 26.8% 445.1/1662.8MB downloaded"
     ]
    },
    {
     "ename": "KeyboardInterrupt",
     "evalue": "",
     "output_type": "error",
     "traceback": [
      "\u001b[0;31m---------------------------------------------------------------------------\u001b[0m",
      "\u001b[0;31mKeyboardInterrupt\u001b[0m                         Traceback (most recent call last)",
      "Input \u001b[0;32mIn [89]\u001b[0m, in \u001b[0;36m<module>\u001b[0;34m\u001b[0m\n\u001b[1;32m      1\u001b[0m w2v_pretrained \u001b[38;5;241m=\u001b[39m W2VPretrainedRetrievalModel(doc_repr_2)\n\u001b[0;32m----> 2\u001b[0m \u001b[43mw2v_pretrained\u001b[49m\u001b[38;5;241;43m.\u001b[39;49m\u001b[43mtrain_model\u001b[49m\u001b[43m(\u001b[49m\u001b[43m)\u001b[49m\n\u001b[1;32m      4\u001b[0m \u001b[38;5;66;03m# you can now get an W2V vector for a given query in the following way:\u001b[39;00m\n\u001b[1;32m      5\u001b[0m w2v_pretrained\u001b[38;5;241m.\u001b[39mvectorize_query(\u001b[38;5;124m\"\u001b[39m\u001b[38;5;124mreport\u001b[39m\u001b[38;5;124m\"\u001b[39m)\n",
      "Input \u001b[0;32mIn [87]\u001b[0m, in \u001b[0;36mW2VPretrainedRetrievalModel.train_model\u001b[0;34m(self)\u001b[0m\n\u001b[1;32m     55\u001b[0m \u001b[38;5;28;01mdef\u001b[39;00m \u001b[38;5;21mtrain_model\u001b[39m(\u001b[38;5;28mself\u001b[39m):\n\u001b[1;32m     56\u001b[0m     \u001b[38;5;124;03m\"\"\"\u001b[39;00m\n\u001b[1;32m     57\u001b[0m \u001b[38;5;124;03m    Loads the pretrained model\u001b[39;00m\n\u001b[1;32m     58\u001b[0m \u001b[38;5;124;03m    \"\"\"\u001b[39;00m\n\u001b[0;32m---> 59\u001b[0m     \u001b[38;5;28mself\u001b[39m\u001b[38;5;241m.\u001b[39mmodel \u001b[38;5;241m=\u001b[39m \u001b[43mg_downloader\u001b[49m\u001b[38;5;241;43m.\u001b[39;49m\u001b[43mload\u001b[49m\u001b[43m(\u001b[49m\u001b[38;5;28;43mself\u001b[39;49m\u001b[38;5;241;43m.\u001b[39;49m\u001b[43mmodel_name\u001b[49m\u001b[43m)\u001b[49m\n",
      "File \u001b[0;32m~/.local/lib/python3.8/site-packages/gensim/downloader.py:496\u001b[0m, in \u001b[0;36mload\u001b[0;34m(name, return_path)\u001b[0m\n\u001b[1;32m    494\u001b[0m path \u001b[38;5;241m=\u001b[39m os\u001b[38;5;241m.\u001b[39mpath\u001b[38;5;241m.\u001b[39mjoin(folder_dir, file_name)\n\u001b[1;32m    495\u001b[0m \u001b[38;5;28;01mif\u001b[39;00m \u001b[38;5;129;01mnot\u001b[39;00m os\u001b[38;5;241m.\u001b[39mpath\u001b[38;5;241m.\u001b[39mexists(folder_dir):\n\u001b[0;32m--> 496\u001b[0m     \u001b[43m_download\u001b[49m\u001b[43m(\u001b[49m\u001b[43mname\u001b[49m\u001b[43m)\u001b[49m\n\u001b[1;32m    498\u001b[0m \u001b[38;5;28;01mif\u001b[39;00m return_path:\n\u001b[1;32m    499\u001b[0m     \u001b[38;5;28;01mreturn\u001b[39;00m path\n",
      "File \u001b[0;32m~/.local/lib/python3.8/site-packages/gensim/downloader.py:396\u001b[0m, in \u001b[0;36m_download\u001b[0;34m(name)\u001b[0m\n\u001b[1;32m    394\u001b[0m fname \u001b[38;5;241m=\u001b[39m \u001b[38;5;124m\"\u001b[39m\u001b[38;5;132;01m{fname}\u001b[39;00m\u001b[38;5;124m.gz\u001b[39m\u001b[38;5;124m\"\u001b[39m\u001b[38;5;241m.\u001b[39mformat(fname\u001b[38;5;241m=\u001b[39mname)\n\u001b[1;32m    395\u001b[0m dst_path \u001b[38;5;241m=\u001b[39m os\u001b[38;5;241m.\u001b[39mpath\u001b[38;5;241m.\u001b[39mjoin(tmp_dir, fname)\n\u001b[0;32m--> 396\u001b[0m \u001b[43murllib\u001b[49m\u001b[38;5;241;43m.\u001b[39;49m\u001b[43murlretrieve\u001b[49m\u001b[43m(\u001b[49m\u001b[43murl_data\u001b[49m\u001b[43m,\u001b[49m\u001b[43m \u001b[49m\u001b[43mdst_path\u001b[49m\u001b[43m,\u001b[49m\u001b[43m \u001b[49m\u001b[43mreporthook\u001b[49m\u001b[38;5;241;43m=\u001b[39;49m\u001b[43m_progress\u001b[49m\u001b[43m)\u001b[49m\n\u001b[1;32m    397\u001b[0m \u001b[38;5;28;01mif\u001b[39;00m _calculate_md5_checksum(dst_path) \u001b[38;5;241m==\u001b[39m _get_checksum(name):\n\u001b[1;32m    398\u001b[0m     sys\u001b[38;5;241m.\u001b[39mstdout\u001b[38;5;241m.\u001b[39mwrite(\u001b[38;5;124m\"\u001b[39m\u001b[38;5;130;01m\\n\u001b[39;00m\u001b[38;5;124m\"\u001b[39m)\n",
      "File \u001b[0;32m/usr/lib/python3.8/urllib/request.py:283\u001b[0m, in \u001b[0;36murlretrieve\u001b[0;34m(url, filename, reporthook, data)\u001b[0m\n\u001b[1;32m    281\u001b[0m             blocknum \u001b[38;5;241m+\u001b[39m\u001b[38;5;241m=\u001b[39m \u001b[38;5;241m1\u001b[39m\n\u001b[1;32m    282\u001b[0m             \u001b[38;5;28;01mif\u001b[39;00m reporthook:\n\u001b[0;32m--> 283\u001b[0m                 \u001b[43mreporthook\u001b[49m\u001b[43m(\u001b[49m\u001b[43mblocknum\u001b[49m\u001b[43m,\u001b[49m\u001b[43m \u001b[49m\u001b[43mbs\u001b[49m\u001b[43m,\u001b[49m\u001b[43m \u001b[49m\u001b[43msize\u001b[49m\u001b[43m)\u001b[49m\n\u001b[1;32m    285\u001b[0m \u001b[38;5;28;01mif\u001b[39;00m size \u001b[38;5;241m>\u001b[39m\u001b[38;5;241m=\u001b[39m \u001b[38;5;241m0\u001b[39m \u001b[38;5;129;01mand\u001b[39;00m read \u001b[38;5;241m<\u001b[39m size:\n\u001b[1;32m    286\u001b[0m     \u001b[38;5;28;01mraise\u001b[39;00m ContentTooShortError(\n\u001b[1;32m    287\u001b[0m         \u001b[38;5;124m\"\u001b[39m\u001b[38;5;124mretrieval incomplete: got only \u001b[39m\u001b[38;5;132;01m%i\u001b[39;00m\u001b[38;5;124m out of \u001b[39m\u001b[38;5;132;01m%i\u001b[39;00m\u001b[38;5;124m bytes\u001b[39m\u001b[38;5;124m\"\u001b[39m\n\u001b[1;32m    288\u001b[0m         \u001b[38;5;241m%\u001b[39m (read, size), result)\n",
      "File \u001b[0;32m~/.local/lib/python3.8/site-packages/gensim/downloader.py:129\u001b[0m, in \u001b[0;36m_progress\u001b[0;34m(chunks_downloaded, chunk_size, total_size, part, total_parts)\u001b[0m\n\u001b[1;32m    122\u001b[0m \u001b[38;5;28;01mif\u001b[39;00m total_parts \u001b[38;5;241m==\u001b[39m \u001b[38;5;241m1\u001b[39m:\n\u001b[1;32m    123\u001b[0m     sys\u001b[38;5;241m.\u001b[39mstdout\u001b[38;5;241m.\u001b[39mwrite(\n\u001b[1;32m    124\u001b[0m         \u001b[38;5;124m'\u001b[39m\u001b[38;5;130;01m\\r\u001b[39;00m\u001b[38;5;124m[\u001b[39m\u001b[38;5;132;01m%s\u001b[39;00m\u001b[38;5;124m] \u001b[39m\u001b[38;5;132;01m%s\u001b[39;00m\u001b[38;5;132;01m%s\u001b[39;00m\u001b[38;5;124m \u001b[39m\u001b[38;5;132;01m%s\u001b[39;00m\u001b[38;5;124m/\u001b[39m\u001b[38;5;132;01m%s\u001b[39;00m\u001b[38;5;124mMB downloaded\u001b[39m\u001b[38;5;124m'\u001b[39m \u001b[38;5;241m%\u001b[39m (\n\u001b[1;32m    125\u001b[0m             bar, percent_downloaded, \u001b[38;5;124m\"\u001b[39m\u001b[38;5;124m%\u001b[39m\u001b[38;5;124m\"\u001b[39m,\n\u001b[1;32m    126\u001b[0m             \u001b[38;5;28mround\u001b[39m(size_downloaded \u001b[38;5;241m/\u001b[39m (\u001b[38;5;241m1024\u001b[39m \u001b[38;5;241m*\u001b[39m \u001b[38;5;241m1024\u001b[39m), \u001b[38;5;241m1\u001b[39m),\n\u001b[1;32m    127\u001b[0m             \u001b[38;5;28mround\u001b[39m(\u001b[38;5;28mfloat\u001b[39m(total_size) \u001b[38;5;241m/\u001b[39m (\u001b[38;5;241m1024\u001b[39m \u001b[38;5;241m*\u001b[39m \u001b[38;5;241m1024\u001b[39m), \u001b[38;5;241m1\u001b[39m))\n\u001b[1;32m    128\u001b[0m     )\n\u001b[0;32m--> 129\u001b[0m     \u001b[43msys\u001b[49m\u001b[38;5;241;43m.\u001b[39;49m\u001b[43mstdout\u001b[49m\u001b[38;5;241;43m.\u001b[39;49m\u001b[43mflush\u001b[49m\u001b[43m(\u001b[49m\u001b[43m)\u001b[49m\n\u001b[1;32m    130\u001b[0m \u001b[38;5;28;01melse\u001b[39;00m:\n\u001b[1;32m    131\u001b[0m     sys\u001b[38;5;241m.\u001b[39mstdout\u001b[38;5;241m.\u001b[39mwrite(\n\u001b[1;32m    132\u001b[0m         \u001b[38;5;124m'\u001b[39m\u001b[38;5;130;01m\\r\u001b[39;00m\u001b[38;5;124m Part \u001b[39m\u001b[38;5;132;01m%s\u001b[39;00m\u001b[38;5;124m/\u001b[39m\u001b[38;5;132;01m%s\u001b[39;00m\u001b[38;5;124m [\u001b[39m\u001b[38;5;132;01m%s\u001b[39;00m\u001b[38;5;124m] \u001b[39m\u001b[38;5;132;01m%s\u001b[39;00m\u001b[38;5;132;01m%s\u001b[39;00m\u001b[38;5;124m \u001b[39m\u001b[38;5;132;01m%s\u001b[39;00m\u001b[38;5;124m/\u001b[39m\u001b[38;5;132;01m%s\u001b[39;00m\u001b[38;5;124mMB downloaded\u001b[39m\u001b[38;5;124m'\u001b[39m \u001b[38;5;241m%\u001b[39m (\n\u001b[1;32m    133\u001b[0m             part \u001b[38;5;241m+\u001b[39m \u001b[38;5;241m1\u001b[39m, total_parts, bar, percent_downloaded, \u001b[38;5;124m\"\u001b[39m\u001b[38;5;124m%\u001b[39m\u001b[38;5;124m\"\u001b[39m,\n\u001b[1;32m    134\u001b[0m             \u001b[38;5;28mround\u001b[39m(size_downloaded \u001b[38;5;241m/\u001b[39m (\u001b[38;5;241m1024\u001b[39m \u001b[38;5;241m*\u001b[39m \u001b[38;5;241m1024\u001b[39m), \u001b[38;5;241m1\u001b[39m),\n\u001b[1;32m    135\u001b[0m             \u001b[38;5;28mround\u001b[39m(\u001b[38;5;28mfloat\u001b[39m(total_size) \u001b[38;5;241m/\u001b[39m (\u001b[38;5;241m1024\u001b[39m \u001b[38;5;241m*\u001b[39m \u001b[38;5;241m1024\u001b[39m), \u001b[38;5;241m1\u001b[39m))\n\u001b[1;32m    136\u001b[0m     )\n",
      "File \u001b[0;32m~/.local/lib/python3.8/site-packages/ipykernel/iostream.py:468\u001b[0m, in \u001b[0;36mOutStream.flush\u001b[0;34m(self)\u001b[0m\n\u001b[1;32m    466\u001b[0m         \u001b[38;5;28mself\u001b[39m\u001b[38;5;241m.\u001b[39mpub_thread\u001b[38;5;241m.\u001b[39mschedule(evt\u001b[38;5;241m.\u001b[39mset)\n\u001b[1;32m    467\u001b[0m         \u001b[38;5;66;03m# and give a timeout to avoid\u001b[39;00m\n\u001b[0;32m--> 468\u001b[0m         \u001b[38;5;28;01mif\u001b[39;00m \u001b[38;5;129;01mnot\u001b[39;00m \u001b[43mevt\u001b[49m\u001b[38;5;241;43m.\u001b[39;49m\u001b[43mwait\u001b[49m\u001b[43m(\u001b[49m\u001b[38;5;28;43mself\u001b[39;49m\u001b[38;5;241;43m.\u001b[39;49m\u001b[43mflush_timeout\u001b[49m\u001b[43m)\u001b[49m:\n\u001b[1;32m    469\u001b[0m             \u001b[38;5;66;03m# write directly to __stderr__ instead of warning because\u001b[39;00m\n\u001b[1;32m    470\u001b[0m             \u001b[38;5;66;03m# if this is happening sys.stderr may be the problem.\u001b[39;00m\n\u001b[1;32m    471\u001b[0m             \u001b[38;5;28mprint\u001b[39m(\u001b[38;5;124m\"\u001b[39m\u001b[38;5;124mIOStream.flush timed out\u001b[39m\u001b[38;5;124m\"\u001b[39m, file\u001b[38;5;241m=\u001b[39msys\u001b[38;5;241m.\u001b[39m__stderr__)\n\u001b[1;32m    472\u001b[0m \u001b[38;5;28;01melse\u001b[39;00m:\n",
      "File \u001b[0;32m/usr/lib/python3.8/threading.py:558\u001b[0m, in \u001b[0;36mEvent.wait\u001b[0;34m(self, timeout)\u001b[0m\n\u001b[1;32m    556\u001b[0m signaled \u001b[38;5;241m=\u001b[39m \u001b[38;5;28mself\u001b[39m\u001b[38;5;241m.\u001b[39m_flag\n\u001b[1;32m    557\u001b[0m \u001b[38;5;28;01mif\u001b[39;00m \u001b[38;5;129;01mnot\u001b[39;00m signaled:\n\u001b[0;32m--> 558\u001b[0m     signaled \u001b[38;5;241m=\u001b[39m \u001b[38;5;28;43mself\u001b[39;49m\u001b[38;5;241;43m.\u001b[39;49m\u001b[43m_cond\u001b[49m\u001b[38;5;241;43m.\u001b[39;49m\u001b[43mwait\u001b[49m\u001b[43m(\u001b[49m\u001b[43mtimeout\u001b[49m\u001b[43m)\u001b[49m\n\u001b[1;32m    559\u001b[0m \u001b[38;5;28;01mreturn\u001b[39;00m signaled\n",
      "File \u001b[0;32m/usr/lib/python3.8/threading.py:306\u001b[0m, in \u001b[0;36mCondition.wait\u001b[0;34m(self, timeout)\u001b[0m\n\u001b[1;32m    304\u001b[0m \u001b[38;5;28;01melse\u001b[39;00m:\n\u001b[1;32m    305\u001b[0m     \u001b[38;5;28;01mif\u001b[39;00m timeout \u001b[38;5;241m>\u001b[39m \u001b[38;5;241m0\u001b[39m:\n\u001b[0;32m--> 306\u001b[0m         gotit \u001b[38;5;241m=\u001b[39m \u001b[43mwaiter\u001b[49m\u001b[38;5;241;43m.\u001b[39;49m\u001b[43macquire\u001b[49m\u001b[43m(\u001b[49m\u001b[38;5;28;43;01mTrue\u001b[39;49;00m\u001b[43m,\u001b[49m\u001b[43m \u001b[49m\u001b[43mtimeout\u001b[49m\u001b[43m)\u001b[49m\n\u001b[1;32m    307\u001b[0m     \u001b[38;5;28;01melse\u001b[39;00m:\n\u001b[1;32m    308\u001b[0m         gotit \u001b[38;5;241m=\u001b[39m waiter\u001b[38;5;241m.\u001b[39macquire(\u001b[38;5;28;01mFalse\u001b[39;00m)\n",
      "\u001b[0;31mKeyboardInterrupt\u001b[0m: "
     ]
    }
   ],
   "source": [
    "w2v_pretrained = W2VPretrainedRetrievalModel(doc_repr_2)\n",
    "w2v_pretrained.train_model()\n",
    "\n",
    "# you can now get an W2V vector for a given query in the following way:\n",
    "w2v_pretrained.vectorize_query(\"report\")"
   ]
  },
  {
   "cell_type": "code",
   "execution_count": null,
   "metadata": {
    "deletable": false,
    "editable": false,
    "nbgrader": {
     "cell_type": "code",
     "checksum": "0822845afb5eafe5ddb1ffeaa4f4942a",
     "grade": true,
     "grade_id": "cell-1b1466f8ce516f42",
     "locked": true,
     "points": 2,
     "schema_version": 3,
     "solution": false,
     "task": false
    }
   },
   "outputs": [],
   "source": [
    "##### Function check\n",
    "\n",
    "print(len(w2v_pretrained.vectorize_query(\"report\")))\n",
    "#####"
   ]
  },
  {
   "cell_type": "code",
   "execution_count": null,
   "metadata": {},
   "outputs": [],
   "source": [
    "drm_w2v = DenseRetrievalRanker(w2v, cosine_sim)\n",
    "\n",
    "# test your LDA model\n",
    "search_fn = drm_w2v.search\n",
    "\n",
    "text = widgets.Text(description=\"Search Bar\", width=200)\n",
    "display(text)\n",
    "\n",
    "\n",
    "text.on_submit(handle_submit_2)"
   ]
  },
  {
   "cell_type": "code",
   "execution_count": null,
   "metadata": {},
   "outputs": [],
   "source": [
    "drm_w2v_pretrained = DenseRetrievalRanker(w2v_pretrained, cosine_sim)\n",
    "\n",
    "#test your LDA model\n",
    "search_fn = drm_w2v_pretrained.search\n",
    "\n",
    "text = widgets.Text(description=\"Search Bar\", width=200)\n",
    "display(text)\n",
    "\n",
    "\n",
    "text.on_submit(handle_submit_2)"
   ]
  },
  {
   "cell_type": "markdown",
   "metadata": {
    "deletable": false,
    "editable": false,
    "nbgrader": {
     "cell_type": "markdown",
     "checksum": "51b778984fd60757974f51047c61eb15",
     "grade": false,
     "grade_id": "cell-b92f701cbc706108",
     "locked": true,
     "schema_version": 3,
     "solution": false,
     "task": false
    }
   },
   "source": [
    "**Implementation (10 points):**\n",
    "For Doc2Vec, you will need to create a list of `TaggedDocument` instead of using the `self.corpus` or `self.documents` variable. Use the document id as the 'tag'.\n",
    "  "
   ]
  },
  {
   "cell_type": "code",
   "execution_count": null,
   "metadata": {
    "deletable": false,
    "editable": false,
    "nbgrader": {
     "cell_type": "code",
     "checksum": "e83a363a9d4f136efbdde1426a83925e",
     "grade": true,
     "grade_id": "cell-5e2c5e0c9a2e8cb5",
     "locked": true,
     "points": 0,
     "schema_version": 3,
     "solution": false,
     "task": false
    }
   },
   "outputs": [],
   "source": [
    "#### Please do not change this. This cell is used for grading."
   ]
  },
  {
   "cell_type": "markdown",
   "metadata": {
    "deletable": false,
    "editable": false,
    "nbgrader": {
     "cell_type": "markdown",
     "checksum": "5bb46bf6b9be1e0ca66f0b0bc6260ecb",
     "grade": false,
     "grade_id": "cell-8a49d414f798a595",
     "locked": true,
     "points": 10,
     "schema_version": 3,
     "solution": false,
     "task": true
    }
   },
   "source": [
    "\\#### Please do not change this. This cell is used for grading."
   ]
  },
  {
   "cell_type": "code",
   "execution_count": null,
   "metadata": {
    "deletable": false,
    "nbgrader": {
     "cell_type": "code",
     "checksum": "1f60fdeb97febb7f4a6fd5bf109aac20",
     "grade": false,
     "grade_id": "cell-680facdcc98a19ab",
     "locked": false,
     "schema_version": 3,
     "solution": true,
     "task": false
    }
   },
   "outputs": [],
   "source": [
    "# TODO: Implement this! (10 points)\n",
    "class D2VRetrievalModel(VectorSpaceRetrievalModel):\n",
    "    def __init__(self, doc_repr):\n",
    "        super().__init__(doc_repr)\n",
    "        \n",
    "        self.vector_size= 100\n",
    "        self.min_count = 1\n",
    "        self.epochs = 20\n",
    "        self.doc = [TaggedDocument(d[1], d[0]) for i, d in enumerate(doc_repr)]\n",
    "        \n",
    "    def train_model(self):\n",
    "        \"\"\"\n",
    "        Trains the W2V model\n",
    "        \"\"\"\n",
    "        self.model = Doc2Vec(self.doc, vector_size=self.vector_size, window=5, min_count=self.min_count, workers=4)\n",
    "        \n",
    "    def vectorize_documents(self):\n",
    "        \"\"\"\n",
    "            Returns a doc_id -> vector dictionary\n",
    "        \"\"\"    \n",
    "        vectors={}\n",
    "        \n",
    "        for (_, doc_id) in self.doc:\n",
    "            if doc_id not in self.model.dv:\n",
    "                docvec=np.zeros(self.vector_size)\n",
    "            else:\n",
    "                docvec=self.model.dv[doc_id]\n",
    "            tot=np.linspace(0, self.vector_size-1,num=self.vector_size,dtype=int)\n",
    "            real=list(zip(tot, docvec))\n",
    "            vectors[doc_id]=real\n",
    "            \n",
    "        return vectors\n",
    "\n",
    "    def vectorize_query(self, query):\n",
    "        \"\"\"\n",
    "        Vectorizes the query using the W2V model\n",
    "        \"\"\"\n",
    "        query = process_text(query, **config_2)\n",
    "        for word in query:\n",
    "            if word not in self.model.wv:\n",
    "                return np.zeros(self.vector_size)\n",
    "        tot=np.linspace(0, self.vector_size-1,num=self.vector_size,dtype=int)\n",
    "        query_vector = self.model.wv[query]\n",
    "        real=list(zip(tot, query_vector[0]))\n",
    "        \n",
    "        return real\n",
    "        \n",
    "d2v = D2VRetrievalModel(doc_repr_2)\n",
    "d2v.train_model()\n",
    "\n",
    "\n",
    "# # you can now get an LSI vector for a given query in the following way:\n",
    "d2v.vectorize_query(\"report\")"
   ]
  },
  {
   "cell_type": "code",
   "execution_count": null,
   "metadata": {},
   "outputs": [],
   "source": [
    "drm_d2v = DenseRetrievalRanker(d2v, cosine_sim)\n",
    "\n",
    "# test your LDA model\n",
    "search_fn = drm_d2v.search\n",
    "\n",
    "text = widgets.Text(description=\"Search Bar\", width=200)\n",
    "display(text)\n",
    "\n",
    "\n",
    "text.on_submit(handle_submit_2)"
   ]
  },
  {
   "cell_type": "markdown",
   "metadata": {
    "deletable": false,
    "editable": false,
    "nbgrader": {
     "cell_type": "markdown",
     "checksum": "363ec36c1d03d9f9e1c2045a6e193c14",
     "grade": false,
     "grade_id": "cell-3529ae29eece7b97",
     "locked": true,
     "schema_version": 3,
     "solution": false,
     "task": false
    }
   },
   "source": [
    "---\n",
    "## Section 9: Re-ranking (10 points) <a class=\"anchor\" id=\"reranking\"></a>\n",
    "\n",
    "[Back to Part 2](#part2)\n",
    "\n",
    "To motivate the re-ranking perspective (i.e retrieve with lexical method + rerank with a semantic method), let's search using semantic methods and compare it to BM25's performance, along with their runtime:\n"
   ]
  },
  {
   "cell_type": "code",
   "execution_count": null,
   "metadata": {
    "deletable": false,
    "editable": false,
    "nbgrader": {
     "cell_type": "code",
     "checksum": "5755f70e3eb28abc65d14d80125338af",
     "grade": false,
     "grade_id": "cell-f8f43bf5ae383128",
     "locked": true,
     "schema_version": 3,
     "solution": false,
     "task": false
    }
   },
   "outputs": [],
   "source": [
    "query = \"algebraic functions\"\n",
    "print(\"BM25: \")\n",
    "%timeit bm25_search(query, 2)\n",
    "print(\"LSI: \")\n",
    "%timeit drm_lsi.search(query)\n",
    "print(\"LDA: \")\n",
    "%timeit drm_lda.search(query)\n",
    "print(\"W2V: \")\n",
    "%timeit drm_w2v.search(query)\n",
    "print(\"W2V(Pretrained): \")\n",
    "%timeit drm_w2v_pretrained.search(query)\n",
    "print(\"D2V:\")\n",
    "%timeit drm_d2v.search(query)"
   ]
  },
  {
   "cell_type": "code",
   "execution_count": null,
   "metadata": {},
   "outputs": [],
   "source": [
    "query = \"algebraic functions\"\n",
    "print(\"BM25: \")\n",
    "%timeit bm25_search(query, 2)\n",
    "print(\"LSI: \")\n",
    "%timeit drm_lsi.search(query)\n",
    "#print(\"LDA: \")\n",
    "#%timeit drm_lda.search(query)\n",
    "print(\"W2V: \")\n",
    "%timeit drm_w2v.search(query)\n",
    "print(\"W2V(Pretrained): \")\n",
    "%timeit drm_w2v_pretrained.search(query)\n",
    "print(\"D2V:\")\n",
    "%timeit drm_d2v.search(query)"
   ]
  },
  {
   "cell_type": "markdown",
   "metadata": {
    "deletable": false,
    "editable": false,
    "nbgrader": {
     "cell_type": "markdown",
     "checksum": "ae398da0a8c23c95bcbb0023b7ec6f34",
     "grade": false,
     "grade_id": "cell-db5ff09f97841af7",
     "locked": true,
     "schema_version": 3,
     "solution": false,
     "task": false
    }
   },
   "source": [
    "---\n",
    "\n",
    "**Implementation (10 points):**\n",
    "Re-ranking involves retrieving a small set of documents using simple but fast methods like BM25 and then re-ranking them with the aid of semantic methods such as LDA or LSI. Implement the following class, which takes in an `initial_retrieval_fn` - the initial retrieval function and `vsrm` - an instance of the `VectorSpaceRetrievalModel` class (i.e LSI/LDA) as input. The search function should first retrieve an initial list of K documents, and then these documents are re-ranked using a semantic method. This not only makes retrieval faster, but semantic methods perform poorly when used in isolation, as you will find out."
   ]
  },
  {
   "cell_type": "code",
   "execution_count": null,
   "metadata": {
    "deletable": false,
    "nbgrader": {
     "cell_type": "code",
     "checksum": "63b6b05a676a2ae3f08d8bed1bc59428",
     "grade": false,
     "grade_id": "cell-5bf47600d1a0c507",
     "locked": false,
     "schema_version": 3,
     "solution": true,
     "task": false
    }
   },
   "outputs": [],
   "source": [
    "# TODO: Implement this! (10 points)\n",
    "def Sort_Tuple(tup): \n",
    "      \n",
    "    # getting length of list of tuples\n",
    "    lst = len(tup) \n",
    "    for i in range(0, lst): \n",
    "          \n",
    "        for j in range(0, lst-i-1): \n",
    "            if (tup[j][1] > tup[j + 1][1]): \n",
    "                temp = tup[j] \n",
    "                tup[j]= tup[j + 1] \n",
    "                tup[j + 1]= temp \n",
    "    return tup \n",
    "\n",
    "\n",
    "class DenseRerankingModel:\n",
    "    def __init__(self, initial_retrieval_fn, vsrm, similarity_fn):\n",
    "        \"\"\"\n",
    "            initial_retrieval_fn: takes in a query and returns a list of [(doc_id, score)] (sorted)\n",
    "            vsrm: instance of `VectorSpaceRetrievalModel`\n",
    "            similarity_fn: function instance that takes in two vectors \n",
    "                            and returns a similarity score e.g cosine_sim defined earlier\n",
    "        \"\"\"\n",
    "        self.ret = initial_retrieval_fn\n",
    "        self.vsrm = vsrm\n",
    "        self.similarity_fn = similarity_fn\n",
    "        self.vectorized_documents = vsrm.vectorize_documents()\n",
    "        \n",
    "        assert len(self.vectorized_documents) == len(doc_repr_2)\n",
    "    \n",
    "    def search(self, query, K=50):\n",
    "        \"\"\"\n",
    "            First, retrieve the top K results using the retrieval function\n",
    "            Then, re-rank the results using the VSRM instance\n",
    "        \"\"\"\n",
    "        reranked_l=[]\n",
    "        for i in self.ret(query):\n",
    "            query_vector=self.vsrm.vectorize_query(query)\n",
    "            doc_id=i[0]\n",
    "            if np.array(self.vectorized_documents[doc_id]).size==0 or  np.array(query_vector).size==0:\n",
    "                continue\n",
    "            else:\n",
    "                \n",
    "\n",
    "                scor=self.similarity_fn(self.vectorized_documents[doc_id],query_vector)\n",
    "                reranked_l.append([doc_id,scor])\n",
    "        reranked_l=Sort_Tuple(reranked_l)\n",
    "        print(reranked_l)\n",
    "        return reranked_l\n",
    "            "
   ]
  },
  {
   "cell_type": "code",
   "execution_count": null,
   "metadata": {
    "deletable": false,
    "editable": false,
    "nbgrader": {
     "cell_type": "code",
     "checksum": "334ab5af96976265cace682ab82a7387",
     "grade": true,
     "grade_id": "cell-52c6d18a4c0b4882",
     "locked": true,
     "points": 0,
     "schema_version": 3,
     "solution": false,
     "task": false
    }
   },
   "outputs": [],
   "source": [
    "##### Function check\n",
    "bm25_search_2 = partial(bm25_search, index_set=2)\n",
    "lsi_rerank = DenseRerankingModel(bm25_search_2, lsi, cosine_sim)\n",
    "lda_rerank = DenseRerankingModel(bm25_search_2, lda, jenson_shannon_sim)\n",
    "w2v_rerank = DenseRerankingModel(bm25_search_2, w2v, cosine_sim)\n",
    "w2v_pretrained_rerank = DenseRerankingModel(bm25_search_2, w2v_pretrained, cosine_sim)\n",
    "d2v_rerank = DenseRerankingModel(bm25_search_2, d2v, cosine_sim)\n",
    "\n",
    "##### "
   ]
  },
  {
   "cell_type": "code",
   "execution_count": null,
   "metadata": {},
   "outputs": [],
   "source": [
    "print(lsi_rerank.ret('root'))"
   ]
  },
  {
   "cell_type": "markdown",
   "metadata": {
    "deletable": false,
    "editable": false,
    "nbgrader": {
     "cell_type": "markdown",
     "checksum": "bd904253f45f84e63bab3a69729058fc",
     "grade": false,
     "grade_id": "cell-93215dfe6bcf7cff",
     "locked": true,
     "points": 10,
     "schema_version": 3,
     "solution": false,
     "task": true
    }
   },
   "source": [
    "\\#### Please do not change this. This cell is used for grading."
   ]
  },
  {
   "cell_type": "markdown",
   "metadata": {
    "deletable": false,
    "editable": false,
    "nbgrader": {
     "cell_type": "markdown",
     "checksum": "b592e60292bfe3d9ef2930a354c4077a",
     "grade": false,
     "grade_id": "cell-aa694ff55fa91e7d",
     "locked": true,
     "schema_version": 3,
     "solution": false,
     "task": false
    }
   },
   "source": [
    "---\n",
    "Now, let us time the new search functions:"
   ]
  },
  {
   "cell_type": "code",
   "execution_count": null,
   "metadata": {
    "deletable": false,
    "editable": false,
    "nbgrader": {
     "cell_type": "code",
     "checksum": "338c7e3528cba266a865a061287c0e38",
     "grade": false,
     "grade_id": "cell-5edbd481562ad91f",
     "locked": true,
     "schema_version": 3,
     "solution": false,
     "task": false
    }
   },
   "outputs": [],
   "source": [
    "query = \"algebraic functions\"\n",
    "print(\"BM25: \")\n",
    "%timeit bm25_search(query, 2)\n",
    "print(\"LSI: \")\n",
    "%timeit lsi_rerank.search(query)\n",
    "print(\"LDA: \")\n",
    "%timeit lda_rerank.search(query)\n",
    "print(\"W2V: \")\n",
    "%timeit w2v_rerank.search(query)\n",
    "print(\"W2V(Pretrained): \")\n",
    "%timeit w2v_pretrained_rerank.search(query)\n",
    "print(\"D2V:\")\n",
    "%timeit d2v_rerank.search(query)"
   ]
  },
  {
   "cell_type": "code",
   "execution_count": null,
   "metadata": {},
   "outputs": [],
   "source": []
  },
  {
   "cell_type": "markdown",
   "metadata": {
    "deletable": false,
    "editable": false,
    "nbgrader": {
     "cell_type": "markdown",
     "checksum": "c45c5e3f015b2de89d9d39ae3766368b",
     "grade": false,
     "grade_id": "cell-85c50f2ab9eec301",
     "locked": true,
     "schema_version": 3,
     "solution": false,
     "task": false
    }
   },
   "source": [
    "---\n",
    "As you can see, it is much faster (but BM25 is still orders of magnitude faster)."
   ]
  },
  {
   "cell_type": "markdown",
   "metadata": {
    "deletable": false,
    "editable": false,
    "nbgrader": {
     "cell_type": "markdown",
     "checksum": "1e2f3388e3807659f303fe31a75a010e",
     "grade": false,
     "grade_id": "cell-5071bb99b2af61cb",
     "locked": true,
     "schema_version": 3,
     "solution": false,
     "task": false
    }
   },
   "source": [
    "---\n",
    "## Section 10: Evaluation & Analysis (30 points) <a class=\"anchor\" id=\"reranking_eval\"></a>\n",
    "\n",
    "[Back to Part 2](#part2)\n",
    "\n",
    "[Previously](#evaluation) we have implemented some evaluation metrics and used them for measuring the ranking performance of term-based IR algorithms. In this section, we will do the same for semantic methods, both with and without re-ranking.\n",
    "\n",
    "### Section 10.1: Plot (10 points)\n",
    "\n",
    "First, gather the results. The results should consider the index set, the different search functions and different metrics. Plot the results in bar charts, per metric, with clear labels.\n",
    "\n",
    "Then, gather only the re-ranking models, and plot and compare them with the results obtained in part 1 (only index set 2)."
   ]
  },
  {
   "cell_type": "code",
   "execution_count": null,
   "metadata": {
    "deletable": false,
    "editable": false,
    "nbgrader": {
     "cell_type": "code",
     "checksum": "4fe81520ac6413a803838913fd64de03",
     "grade": false,
     "grade_id": "cell-b672fe6dfae0b1ce",
     "locked": true,
     "schema_version": 3,
     "solution": false,
     "task": false
    }
   },
   "outputs": [],
   "source": [
    "list_of_sem_search_fns = [\n",
    "    (\"lda\", drm_lda.search),\n",
    "    (\"lsi\", drm_lsi.search),\n",
    "    (\"w2v\", drm_w2v.search),\n",
    "    (\"w2v_pretrained\", drm_w2v_pretrained.search),\n",
    "    (\"d2v\", drm_d2v.search),\n",
    "    (\"lsi_rr\", lsi_rerank.search),\n",
    "    (\"lda_rr\", lda_rerank.search),\n",
    "    (\"w2v_rr\", w2v_rerank.search),\n",
    "    (\"w2v_pretrained_rr\", w2v_pretrained_rerank.search),\n",
    "    (\"d2v_rr\", d2v_rerank.search),\n",
    "    \n",
    "]"
   ]
  },
  {
   "cell_type": "code",
   "execution_count": null,
   "metadata": {
    "deletable": false,
    "nbgrader": {
     "cell_type": "code",
     "checksum": "54707c4afac084299aeefa047259b4a9",
     "grade": true,
     "grade_id": "cell-7dd8273b0f5a3c22",
     "locked": false,
     "points": 10,
     "schema_version": 3,
     "solution": true,
     "task": false
    }
   },
   "outputs": [],
   "source": [
    "# YOUR CODE HERE\n",
    "raise NotImplementedError()"
   ]
  },
  {
   "cell_type": "markdown",
   "metadata": {
    "deletable": false,
    "editable": false,
    "nbgrader": {
     "cell_type": "markdown",
     "checksum": "a8a3b6189bdde66704c694d85e38d049",
     "grade": false,
     "grade_id": "cell-deb2ef3daa306e82",
     "locked": true,
     "schema_version": 3,
     "solution": false,
     "task": false
    }
   },
   "source": [
    "### Section 10.2: Summary (20 points)\n",
    "\n",
    "Your summary should compare methods from Part 1 and Part 2 (only for index set 2). State what you expected to see in the results, followed by either supporting evidence *or* justify why the results did not support your expectations. Consider the availability of data, scalability, domain/type of data, etc."
   ]
  },
  {
   "cell_type": "markdown",
   "metadata": {
    "deletable": false,
    "nbgrader": {
     "cell_type": "markdown",
     "checksum": "ff97c43837d10bff6aaffa75e1492887",
     "grade": true,
     "grade_id": "cell-ec5dd7d9cf59dd86",
     "locked": false,
     "points": 20,
     "schema_version": 3,
     "solution": true,
     "task": false
    }
   },
   "source": [
    "YOUR ANSWER HERE"
   ]
  }
 ],
 "metadata": {
  "kernelspec": {
   "display_name": "Python 3 (ipykernel)",
   "language": "python",
   "name": "python3"
  },
  "language_info": {
   "codemirror_mode": {
    "name": "ipython",
    "version": 3
   },
   "file_extension": ".py",
   "mimetype": "text/x-python",
   "name": "python",
   "nbconvert_exporter": "python",
   "pygments_lexer": "ipython3",
   "version": "3.8.10"
  },
  "toc": {
   "base_numbering": 1,
   "nav_menu": {},
   "number_sections": true,
   "sideBar": true,
   "skip_h1_title": false,
   "title_cell": "Table of Contents",
   "title_sidebar": "Contents",
   "toc_cell": false,
   "toc_position": {},
   "toc_section_display": true,
   "toc_window_display": false
  }
 },
 "nbformat": 4,
 "nbformat_minor": 4
}
