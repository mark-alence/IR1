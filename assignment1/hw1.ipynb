{
 "cells": [
  {
   "cell_type": "markdown",
   "metadata": {
    "deletable": false,
    "editable": false,
    "nbgrader": {
     "cell_type": "markdown",
     "checksum": "1bba455de8bc2825ca70469169bbadaa",
     "grade": false,
     "grade_id": "cell-c9cd9e550239e812",
     "locked": true,
     "schema_version": 3,
     "solution": false,
     "task": false
    }
   },
   "source": [
    "# Homework 1 (Total Points: 250) <a class=\"anchor\" id=\"top\"></a>\n",
    "\n",
    "\n",
    "**Submission instructions**:\n",
    "- The cells with the `# YOUR CODE HERE` denote that these sections are graded and you need to add your implementation.\n",
    "- For Part 1: You can use the `nltk`, `NumPy`, and `matplotlib` libraries here. Other libraries, e.g., `gensim` or `scikit-learn`, may not be used. For Part 2: `gensim` is allowed in addition to the imported libraries in the next code cell\n",
    "- Please use Python 3.6.5 and `pip install -r requirements.txt` to avoid version issues.\n",
    "- The notebook you submit has to have the student ids, separated by underscores (E.g., `12341234_12341234_12341234_hw1.ipynb`).\n",
    "- This will be parsed by a regexp, **so please double check your filename**.\n",
    "- Only one member of each group has to submit the file (**please do not compress the .ipynb file when you will submit it**) to canvas.\n",
    "- **Make sure to check that your notebook runs before submission**. A quick way to do this is to restart the kernel and run all the cells.  \n",
    "- Do not change the number of arugments in the given functions.\n",
    "- **Please do not delete/add new cells**. Removing cells **will** lead to grade deduction. \n",
    "- Note, that you are not allowed to use Google Colab.\n",
    "\n",
    "\n",
    "**Learning Goals**:\n",
    "- [Part 1, Term-based matching](#part1) (165 points):\n",
    "    - Learn how to load a dataset and process it.\n",
    "    - Learn how to implement several standard IR methods (TF-IDF, BM25, QL) and understand their weaknesses & strengths.\n",
    "    - Learn how to evaluate IR methods.\n",
    "- [Part 2, Semantic-based matching](#part2) (85 points):\n",
    "    - Learn how to implement vector-space retrieval methods (LSI, LDA).\n",
    "    - Learn how to use LSI and LDA for re-ranking.\n",
    "\n",
    "    \n",
    "**Resources**: \n",
    "- **Part 1**: Sections 2.3, 4.1, 4.2, 4.3, 5.3, 5.6, 5.7, 6.2, 7, 8 of [Search Engines: Information Retrieval in Practice](https://ciir.cs.umass.edu/downloads/SEIRiP.pdf)\n",
    "- **Part 2**: [LSI - Chapter 18](https://nlp.stanford.edu/IR-book/pdf/18lsi.pdf) from [Introduction to Information Retrieval](https://nlp.stanford.edu/IR-book/) book and the [original LDA paper](https://jmlr.org/papers/volume3/blei03a/blei03a.pdf)"
   ]
  },
  {
   "cell_type": "code",
   "execution_count": 1,
   "metadata": {
    "deletable": false,
    "editable": false,
    "nbgrader": {
     "cell_type": "code",
     "checksum": "c55bfe94ff1f564dd595547e516c4c6e",
     "grade": false,
     "grade_id": "cell-f5357fabdb9660e3",
     "locked": true,
     "schema_version": 3,
     "solution": false,
     "task": false
    }
   },
   "outputs": [],
   "source": [
    "# imports \n",
    "# TODO: Ensure that no additional library is imported in the notebook. \n",
    "# TODO: Only the standard library and the following libraries are allowed:\n",
    "# TODO: You can also use unlisted classes from these libraries or standard libraries (such as defaultdict, Counter, ...).\n",
    "\n",
    "import os\n",
    "import zipfile\n",
    "from functools import partial\n",
    "\n",
    "import nltk\n",
    "import requests\n",
    "import numpy as np\n",
    "from tqdm import tqdm\n",
    "\n",
    "import matplotlib.pyplot as plt\n",
    "from matplotlib.pyplot import cm\n",
    "\n",
    "from ipywidgets import widgets\n",
    "from IPython.display import display, HTML\n",
    "#from IPython.html import widgets\n",
    "from collections import namedtuple\n",
    "\n",
    "%matplotlib inline"
   ]
  },
  {
   "cell_type": "markdown",
   "metadata": {
    "deletable": false,
    "editable": false,
    "nbgrader": {
     "cell_type": "markdown",
     "checksum": "c8328f758ca5b69f76eee03dbbdd4715",
     "grade": false,
     "grade_id": "cell-7428e12ed184408b",
     "locked": true,
     "schema_version": 3,
     "solution": false,
     "task": false
    }
   },
   "source": [
    "\n",
    "# Part 1: Term-based Matching (165 points) <a class=\"anchor\" id=\"part1\"></a>\n",
    "\n",
    "[Back to top](#top)\n",
    "\n",
    "In the first part, we will learn the basics of IR from loading and preprocessing the material, to implementing some well known search algorithms, to evaluating the ranking performance of the implemented algorithms. We will be using the CACM dataset throughout the assignment. The CACM dataset is a collection of titles and abstracts from the journal CACM (Communication of the ACM).\n",
    "\n",
    "Table of contents:\n",
    "- [Section 1: Text Processing](#text_processing) (5 points)\n",
    "- [Section 2: Indexing](#indexing) (10 points)\n",
    "- [Section 3: Ranking](#ranking) (80 points)\n",
    "- [Section 4: Evaluation](#evaluation) (40 points)\n",
    "- [Section 5: Analysis](#analysis) (30 points)\n"
   ]
  },
  {
   "cell_type": "markdown",
   "metadata": {
    "deletable": false,
    "editable": false,
    "nbgrader": {
     "cell_type": "markdown",
     "checksum": "4e3f938065183dc743aa8254b96b4f5e",
     "grade": false,
     "grade_id": "cell-4b24825cf4ae55ec",
     "locked": true,
     "schema_version": 3,
     "solution": false,
     "task": false
    }
   },
   "source": [
    "---\n",
    "## Section 1: Text Processing (5 points)<a class=\"anchor\" id=\"text_processing\"></a>\n",
    "\n",
    "[Back to Part 1](#part1)\n",
    "\n",
    "In this section, we will load the dataset and learn how to clean up the data to make it usable for an IR system. \n",
    "First, go through the implementation of the following functions:\n",
    "- `read_cacm_docs`: Reads in the CACM documents.\n",
    "- `read_queries`: Reads in the CACM queries.\n",
    "- `load_stopwords`: Loads the stopwords.\n",
    "\n",
    "The points of this section are earned for the following implementations:\n",
    "- `tokenize` (3 points): Tokenizes the input text.\n",
    "- `stem_token` (2 points): Stems the given token. \n",
    "\n",
    "We are using the [CACM dataset](http://ir.dcs.gla.ac.uk/resources/test_collections/cacm/), which is a small, classic IR dataset, composed of a collection of titles and abstracts from the journal CACM. It comes with relevance judgements for queries, so we can evaluate our IR system. \n"
   ]
  },
  {
   "cell_type": "markdown",
   "metadata": {
    "deletable": false,
    "editable": false,
    "nbgrader": {
     "cell_type": "markdown",
     "checksum": "0155d897c7016389d73d160921947a6f",
     "grade": false,
     "grade_id": "cell-45651364e7af6d5a",
     "locked": true,
     "schema_version": 3,
     "solution": false,
     "task": false
    }
   },
   "source": [
    "---\n",
    "### 1.1 Read the CACM documents\n",
    "\n",
    "\n",
    "The following cell downloads the dataset and unzips it to a local directory."
   ]
  },
  {
   "cell_type": "code",
   "execution_count": 2,
   "metadata": {
    "deletable": false,
    "editable": false,
    "nbgrader": {
     "cell_type": "code",
     "checksum": "4d43c9ad6e77cc01ce4cef0c34824930",
     "grade": false,
     "grade_id": "cell-bbc3030bb3fe7e02",
     "locked": true,
     "schema_version": 3,
     "solution": false,
     "task": false
    }
   },
   "outputs": [],
   "source": [
    "def download_dataset():\n",
    "    folder_path = os.environ.get(\"IR1_DATA_PATH\")\n",
    "    if not folder_path:\n",
    "        folder_path = \"./datasets/\"\n",
    "    os.makedirs(folder_path, exist_ok=True)\n",
    "    \n",
    "    file_location = os.path.join(folder_path, \"cacm.zip\")\n",
    "    \n",
    "    # download file if it doesn't exist\n",
    "    if not os.path.exists(file_location):\n",
    "        \n",
    "        url = \"https://surfdrive.surf.nl/files/index.php/s/M0FGJpX2p8wDwxR/download\"\n",
    "\n",
    "        with open(file_location, \"wb\") as handle:\n",
    "            print(f\"Downloading file from {url} to {file_location}\")\n",
    "            response = requests.get(url, stream=True)\n",
    "            for data in tqdm(response.iter_content()):\n",
    "                handle.write(data)\n",
    "            print(\"Finished downloading file\")\n",
    "    \n",
    "    if not os.path.exists(os.path.join(folder_path, \"train.txt\")):\n",
    "        \n",
    "        # unzip file\n",
    "        with zipfile.ZipFile(file_location, 'r') as zip_ref:\n",
    "            zip_ref.extractall(folder_path)\n",
    "        \n",
    "download_dataset()"
   ]
  },
  {
   "cell_type": "markdown",
   "metadata": {
    "deletable": false,
    "editable": false,
    "nbgrader": {
     "cell_type": "markdown",
     "checksum": "31609b0d61d0c74cbd69bc43e47c23be",
     "grade": false,
     "grade_id": "cell-a7dd9a9bf98ede05",
     "locked": true,
     "schema_version": 3,
     "solution": false,
     "task": false
    }
   },
   "source": [
    "---\n",
    "\n",
    "You can see a brief description of each file in the dataset by looking at the README file:"
   ]
  },
  {
   "cell_type": "code",
   "execution_count": 3,
   "metadata": {
    "deletable": false,
    "editable": false,
    "nbgrader": {
     "cell_type": "code",
     "checksum": "cb3c9a2b8b2bf4fd5b7446b0c4c00f43",
     "grade": false,
     "grade_id": "cell-9b6ff1a17124711f",
     "locked": true,
     "schema_version": 3,
     "solution": false,
     "task": false
    }
   },
   "outputs": [
    {
     "name": "stdout",
     "output_type": "stream",
     "text": [
      "Files in this directory with sizes:\n",
      "          0 Jun 19 21:01 README\n",
      "\n",
      "    2187734 Jun 19 20:55 cacm.all              text of documents\n",
      "        626 Jun 19 20:58 cite.info             key to citation info\n",
      "                                                (the X sections in cacm.all)\n",
      "       2668 Jun 19 20:55 common_words           stop words used by smart\n",
      "       2194 Jun 19 20:55 make_coll*             shell script to make collection\n",
      "       1557 Jun 19 20:55 make_coll_term*        ditto (both useless without\n",
      "                                                smart system)\n",
      "       9948 Jun 19 20:55 qrels.text             relation giving\n",
      "                                                    qid did 0 0\n",
      "                                                to indicate dument did is\n",
      "                                                relevant to query qid\n",
      "      13689 Jun 19 20:55 query.text             Original text of the query\n",
      "\n"
     ]
    }
   ],
   "source": [
    "##### Read the README file \n",
    "with open (\"./datasets/README\",\"r\") as file:\n",
    "    readme = file.read()\n",
    "    print(readme)\n",
    "#####"
   ]
  },
  {
   "cell_type": "markdown",
   "metadata": {
    "deletable": false,
    "editable": false,
    "nbgrader": {
     "cell_type": "markdown",
     "checksum": "6e2712c4c4632bf7486a532f7f18074d",
     "grade": false,
     "grade_id": "cell-73351431869fda76",
     "locked": true,
     "schema_version": 3,
     "solution": false,
     "task": false
    }
   },
   "source": [
    "---\n",
    "We are interested in 4 files:\n",
    "- `cacm.all` : Contains the text for all documents. Note that some documents do not have abstracts available\n",
    "- `query.text` : The text of all queries\n",
    "- `qrels.text` : The relevance judgements\n",
    "- `common_words` : A list of common words. This may be used as a collection of stopwords"
   ]
  },
  {
   "cell_type": "code",
   "execution_count": 4,
   "metadata": {
    "deletable": false,
    "editable": false,
    "nbgrader": {
     "cell_type": "code",
     "checksum": "f1162c15177eb4ffe466531d03cff4a2",
     "grade": false,
     "grade_id": "cell-b44dd14079f278ca",
     "locked": true,
     "schema_version": 3,
     "solution": false,
     "task": false
    }
   },
   "outputs": [
    {
     "name": "stdout",
     "output_type": "stream",
     "text": [
      ".I 1\n",
      ".T\n",
      "Preliminary Report-International Algebraic Language\n",
      ".B\n",
      "CACM December, 1958\n",
      ".A\n",
      "Perlis, A. J.\n",
      "Samelson,K.\n",
      ".N\n",
      "CA581203 JB March 22, 1978  8:28 PM\n",
      ".X\n",
      "100\t5\t1\n",
      "123\t5\t1\n",
      "164\t5\t1\n",
      "1\t5\t1\n",
      "1\t5\t1\n",
      "1\t5\t1\n",
      "205\t5\t1\n",
      "210\t5\t1\n",
      "214\t5\t1\n",
      "1982\t5\t1\n",
      "398\t5\t1\n",
      "642\t5\t1\n",
      "669\t5\t1\n",
      "1\t6\t1\n",
      "1\t6\t1\n",
      "1\t6\t1\n",
      "1\t6\t1\n",
      "1\t6\t1\n",
      "1\t6\t1\n",
      "1\t6\t1\n",
      "1\t6\t1\n",
      "1\t6\t1\n",
      "1\t6\t1\n",
      "165\t6\t1\n",
      "196\t6\t1\n",
      "196\t6\t1\n",
      "1273\t6\t1\n",
      "1883\t6\t1\n",
      "324\t6\t1\n",
      "43\t6\t1\n",
      "53\t6\t1\n",
      "91\t6\t1\n",
      "410\t6\t1\n",
      "3184\t6\t1\n",
      "\n"
     ]
    }
   ],
   "source": [
    "##### The first 45 lines of the CACM dataset forms the first record\n",
    "# We are interested only in 3 fields. \n",
    "# 1. the '.I' field, which is the document id\n",
    "# 2. the '.T' field (the title) and\n",
    "# 3. the '.W' field (the abstract, which may be absent)\n",
    "with open (\"./datasets/cacm.all\",\"r\") as file:\n",
    "    cacm_all = \"\".join(file.readlines()[:45])\n",
    "    print(cacm_all)\n",
    "#####"
   ]
  },
  {
   "cell_type": "markdown",
   "metadata": {
    "deletable": false,
    "editable": false,
    "nbgrader": {
     "cell_type": "markdown",
     "checksum": "250b413baccd8efb186bb46a34ae0060",
     "grade": false,
     "grade_id": "cell-c4bf2e263ec553d8",
     "locked": true,
     "schema_version": 3,
     "solution": false,
     "task": false
    }
   },
   "source": [
    "---\n",
    "\n",
    "The following function reads the `cacm.all` file. Note that each document has a variable number of lines. The `.I` field denotes a new document:"
   ]
  },
  {
   "cell_type": "code",
   "execution_count": 5,
   "metadata": {
    "deletable": false,
    "editable": false,
    "nbgrader": {
     "cell_type": "code",
     "checksum": "57d757e6a7a6938740dc899022b4f291",
     "grade": false,
     "grade_id": "cell-b736116eb419c624",
     "locked": true,
     "schema_version": 3,
     "solution": false,
     "task": false
    }
   },
   "outputs": [],
   "source": [
    "def read_cacm_docs(root_folder = \"./datasets/\"):\n",
    "    \"\"\"\n",
    "        Reads in the CACM documents. The dataset is assumed to be in the folder \"./datasets/\" by default\n",
    "        Returns: A list of 2-tuples: (doc_id, document), where 'document' is a single string created by \n",
    "            appending the title and abstract (separated by a \"\\n\"). \n",
    "            In case the record doesn't have an abstract, the document is composed only by the title\n",
    "    \"\"\"\n",
    "    with open(os.path.join(root_folder, \"cacm.all\")) as reader:\n",
    "        lines = reader.readlines()\n",
    "    \n",
    "    doc_id, title, abstract = None, None, None\n",
    "    \n",
    "    docs = []\n",
    "    line_idx = 0\n",
    "    while line_idx < len(lines):\n",
    "        line = lines[line_idx]\n",
    "        if line.startswith(\".I\"):\n",
    "            if doc_id is not None:\n",
    "                docs.append((doc_id, title, abstract))\n",
    "                doc_id, title, abstract = None, None, None\n",
    "            \n",
    "            doc_id = line.split()[-1]\n",
    "            line_idx += 1\n",
    "        elif line.startswith(\".T\"):\n",
    "            # start at next line\n",
    "            line_idx += 1\n",
    "            temp_lines = []\n",
    "            # read till next '.'\n",
    "            while not lines[line_idx].startswith(\".\"):\n",
    "                temp_lines.append(lines[line_idx].strip(\"\\n\"))\n",
    "                line_idx += 1\n",
    "            title = \"\\n\".join(temp_lines).strip(\"\\n\")\n",
    "        elif line.startswith(\".W\"):\n",
    "            # start at next line\n",
    "            line_idx += 1\n",
    "            temp_lines = []\n",
    "            # read till next '.'\n",
    "            while not lines[line_idx].startswith(\".\"):\n",
    "                temp_lines.append(lines[line_idx].strip(\"\\n\"))\n",
    "                line_idx += 1\n",
    "            abstract = \"\\n\".join(temp_lines).strip(\"\\n\")\n",
    "        else:\n",
    "            line_idx += 1\n",
    "    \n",
    "    docs.append((doc_id, title, abstract))\n",
    "    \n",
    "    p_docs = []\n",
    "    for (did, t, a) in docs:\n",
    "        if a is None:\n",
    "            a = \"\"\n",
    "        p_docs.append((did, t + \"\\n\" + a))\n",
    "    return p_docs\n"
   ]
  },
  {
   "cell_type": "code",
   "execution_count": 6,
   "metadata": {
    "deletable": false,
    "editable": false,
    "nbgrader": {
     "cell_type": "code",
     "checksum": "2f81930fcd89670b6e20e2255e1f2369",
     "grade": false,
     "grade_id": "cell-a1c43818e0d3fd79",
     "locked": true,
     "schema_version": 3,
     "solution": false,
     "task": false
    }
   },
   "outputs": [],
   "source": [
    "##### Function check\n",
    "docs = read_cacm_docs()\n",
    "\n",
    "assert isinstance(docs, list)\n",
    "assert len(docs) == 3204, \"There should be exactly 3204 documents\"\n",
    "\n",
    "unzipped_docs = list(zip(*docs))\n",
    "assert np.sum(np.array(list(map(int,unzipped_docs[0])))) == 5134410\n",
    "\n",
    "##### "
   ]
  },
  {
   "cell_type": "markdown",
   "metadata": {
    "deletable": false,
    "editable": false,
    "nbgrader": {
     "cell_type": "markdown",
     "checksum": "25fd3cfaf2137c56002b850699b3c9d3",
     "grade": false,
     "grade_id": "cell-5ed2ddc91f73c60e",
     "locked": true,
     "schema_version": 3,
     "solution": false,
     "task": false
    }
   },
   "source": [
    "---\n",
    "### 1.2 Read the CACM queries\n",
    "\n",
    "Next, let us read the queries. They are formatted similarly:"
   ]
  },
  {
   "cell_type": "code",
   "execution_count": 7,
   "metadata": {
    "deletable": false,
    "editable": false,
    "nbgrader": {
     "cell_type": "code",
     "checksum": "5d26c0908e758acb9968b84056b1060a",
     "grade": false,
     "grade_id": "cell-5c7e8e7c4fc2757f",
     "locked": true,
     "schema_version": 3,
     "solution": false,
     "task": false
    }
   },
   "outputs": [
    {
     "name": "stdout",
     "output_type": "stream",
     "text": [
      ".I 1\r\n",
      ".W\r\n",
      " What articles exist which deal with TSS (Time Sharing System), an\r\n",
      "operating system for IBM computers?\r\n",
      ".N\r\n",
      " 1. Richard Alexander, Comp Serv, Langmuir Lab (TSS)\r\n",
      " \r\n",
      ".I 2\r\n",
      ".W\r\n",
      " I am interested in articles written either by Prieve or Udo Pooch\r\n",
      ".A\r\n",
      "Prieve, B.\r\n",
      "Pooch, U.\r\n",
      ".N\r\n",
      " 2. Richard Alexander, Comp Serv, Langmuir Lab (author = Pooch or Prieve)\r\n"
     ]
    }
   ],
   "source": [
    "##### The first 15 lines of 'query.text' has 2 queries\n",
    "# We are interested only in 2 fields. \n",
    "# 1. the '.I' - the query id\n",
    "# 2. the '.W' - the query\n",
    "!head -15 ./datasets/query.text\n",
    "#####"
   ]
  },
  {
   "cell_type": "markdown",
   "metadata": {
    "deletable": false,
    "editable": false,
    "nbgrader": {
     "cell_type": "markdown",
     "checksum": "8f19f311a660f30e3f86cb0f7037d54a",
     "grade": false,
     "grade_id": "cell-88e293507d2dcef6",
     "locked": true,
     "schema_version": 3,
     "solution": false,
     "task": false
    }
   },
   "source": [
    "---\n",
    "\n",
    "The following function reads the `query.text` file:"
   ]
  },
  {
   "cell_type": "code",
   "execution_count": 8,
   "metadata": {
    "deletable": false,
    "editable": false,
    "nbgrader": {
     "cell_type": "code",
     "checksum": "e3fbb193211007672849487f5cff1664",
     "grade": false,
     "grade_id": "cell-433e3ad5d0e2572a",
     "locked": true,
     "schema_version": 3,
     "solution": false,
     "task": false
    }
   },
   "outputs": [],
   "source": [
    "def read_queries(root_folder = \"./datasets/\"):\n",
    "    \"\"\"\n",
    "        Reads in the CACM queries. The dataset is assumed to be in the folder \"./datasets/\" by default\n",
    "        Returns: A list of 2-tuples: (query_id, query)\n",
    "    \"\"\"\n",
    "    with open(os.path.join(root_folder, \"query.text\")) as reader:\n",
    "        lines = reader.readlines()\n",
    "    \n",
    "    query_id, query = None, None\n",
    "    \n",
    "    queries = []\n",
    "    line_idx = 0\n",
    "    while line_idx < len(lines):\n",
    "        line = lines[line_idx]\n",
    "        if line.startswith(\".I\"):\n",
    "            if query_id is not None:\n",
    "                queries.append((query_id, query))\n",
    "                query_id, query = None, None\n",
    "    \n",
    "            query_id = line.split()[-1]\n",
    "            line_idx += 1\n",
    "        elif line.startswith(\".W\"):\n",
    "            # start at next line\n",
    "            line_idx += 1\n",
    "            temp_lines = []\n",
    "            # read till next '.'\n",
    "            while not lines[line_idx].startswith(\".\"):\n",
    "                temp_lines.append(lines[line_idx].strip(\"\\n\"))\n",
    "                line_idx += 1\n",
    "            query = \"\\n\".join(temp_lines).strip(\"\\n\")\n",
    "        else:\n",
    "            line_idx += 1\n",
    "    \n",
    "    queries.append((query_id, query))\n",
    "    return queries\n"
   ]
  },
  {
   "cell_type": "code",
   "execution_count": 9,
   "metadata": {
    "deletable": false,
    "editable": false,
    "nbgrader": {
     "cell_type": "code",
     "checksum": "a897b9771b54f447be3418d7246fc4a0",
     "grade": false,
     "grade_id": "cell-6ec540abce66c598",
     "locked": true,
     "schema_version": 3,
     "solution": false,
     "task": false
    }
   },
   "outputs": [],
   "source": [
    "##### Function check\n",
    "queries = read_queries()\n",
    "\n",
    "assert isinstance(queries, list)\n",
    "assert len(queries) == 64 and all([q[1] is not None for q in queries]), \"There should be exactly 64 queries\"\n",
    "\n",
    "unzipped_queries = list(zip(*queries))\n",
    "assert np.sum(np.array(list(map(int,unzipped_queries[0])))) == 2080\n",
    "\n",
    "##### "
   ]
  },
  {
   "cell_type": "markdown",
   "metadata": {
    "deletable": false,
    "editable": false,
    "nbgrader": {
     "cell_type": "markdown",
     "checksum": "a300c41912ac63b239070b4c15c9f5c5",
     "grade": false,
     "grade_id": "cell-1c31569491d7b782",
     "locked": true,
     "schema_version": 3,
     "solution": false,
     "task": false
    }
   },
   "source": [
    "---\n",
    "### 1.3 Read the stop words\n",
    "\n",
    "We use the common words stored in `common_words`:"
   ]
  },
  {
   "cell_type": "code",
   "execution_count": 10,
   "metadata": {
    "deletable": false,
    "editable": false,
    "nbgrader": {
     "cell_type": "code",
     "checksum": "1ad6f5bae6a792504c1c8513ae5751ad",
     "grade": false,
     "grade_id": "cell-34bdb63461418a96",
     "locked": true,
     "schema_version": 3,
     "solution": false,
     "task": false
    }
   },
   "outputs": [
    {
     "name": "stdout",
     "output_type": "stream",
     "text": [
      "a\r\n",
      "about\r\n",
      "above\r\n",
      "accordingly\r\n",
      "across\r\n",
      "after\r\n",
      "afterwards\r\n",
      "again\r\n",
      "against\r\n",
      "all\r\n"
     ]
    }
   ],
   "source": [
    "##### Read the stop words file \n",
    "!head ./datasets/common_words\n",
    "##### Read the README file "
   ]
  },
  {
   "cell_type": "markdown",
   "metadata": {
    "deletable": false,
    "editable": false,
    "nbgrader": {
     "cell_type": "markdown",
     "checksum": "6d0fe612e770213b6397c2179b07a966",
     "grade": false,
     "grade_id": "cell-4744bde0338895d8",
     "locked": true,
     "schema_version": 3,
     "solution": false,
     "task": false
    }
   },
   "source": [
    "---\n",
    "\n",
    "The following function reads the `common_words` file (For better coverage, we try to keep them in lowercase):"
   ]
  },
  {
   "cell_type": "code",
   "execution_count": 11,
   "metadata": {
    "deletable": false,
    "editable": false,
    "nbgrader": {
     "cell_type": "code",
     "checksum": "9409713fd26eb0c33587e190638997c4",
     "grade": false,
     "grade_id": "cell-7357aa40f64e5bcb",
     "locked": true,
     "schema_version": 3,
     "solution": false,
     "task": false
    }
   },
   "outputs": [],
   "source": [
    "def load_stopwords(root_folder = \"./datasets/\"):\n",
    "    \"\"\"\n",
    "        Loads the stopwords. The dataset is assumed to be in the folder \"./datasets/\" by default\n",
    "        Output: A set of stopwords\n",
    "    \"\"\"\n",
    "    with open(os.path.join(root_folder, \"common_words\")) as reader:\n",
    "        lines = reader.readlines()\n",
    "    stopwords = set([l.strip().lower() for l in lines])\n",
    "    return stopwords\n"
   ]
  },
  {
   "cell_type": "code",
   "execution_count": 12,
   "metadata": {
    "deletable": false,
    "editable": false,
    "nbgrader": {
     "cell_type": "code",
     "checksum": "f1c8153c3c38133bc2db6e7b076ad470",
     "grade": false,
     "grade_id": "cell-2ca3ac162004de97",
     "locked": true,
     "schema_version": 3,
     "solution": false,
     "task": false
    }
   },
   "outputs": [],
   "source": [
    "##### Function check\n",
    "stopwords = load_stopwords()\n",
    "\n",
    "assert isinstance(stopwords, set)\n",
    "assert len(stopwords) == 428, \"There should be exactly 428 stop words\"\n",
    "\n",
    "assert np.sum(np.array(list(map(len,stopwords)))) == 2234\n",
    "\n",
    "##### \n"
   ]
  },
  {
   "cell_type": "markdown",
   "metadata": {
    "deletable": false,
    "editable": false,
    "nbgrader": {
     "cell_type": "markdown",
     "checksum": "92c1191e9e7291dcf0d70dc67b907a65",
     "grade": false,
     "grade_id": "cell-134b72872f4300cb",
     "locked": true,
     "schema_version": 3,
     "solution": false,
     "task": false
    }
   },
   "source": [
    "---\n",
    "### 1.4 Tokenization (3 points)\n",
    "\n",
    "We can now write some basic text processing functions. \n",
    "A first step is to tokenize the text. \n",
    "\n",
    "**Note**: Use the  `WordPunctTokenizer` available in the `nltk` library:"
   ]
  },
  {
   "cell_type": "code",
   "execution_count": 13,
   "metadata": {
    "deletable": false,
    "nbgrader": {
     "cell_type": "code",
     "checksum": "3f5564d3c75bf22fbf832b3a9b938f37",
     "grade": false,
     "grade_id": "cell-322be4c9499bdc4b",
     "locked": false,
     "schema_version": 3,
     "solution": true,
     "task": false
    }
   },
   "outputs": [],
   "source": [
    "# TODO: Implement this! (4 points)\n",
    "def tokenize(text):\n",
    "    \"\"\"\n",
    "        Tokenizes the input text. Use the WordPunctTokenizer\n",
    "        Input: text - a string\n",
    "        Output: a list of tokens\n",
    "    \"\"\"\n",
    "    tk = nltk.tokenize.WordPunctTokenizer()\n",
    "    return tk.tokenize(text)"
   ]
  },
  {
   "cell_type": "code",
   "execution_count": 14,
   "metadata": {
    "deletable": false,
    "editable": false,
    "nbgrader": {
     "cell_type": "code",
     "checksum": "e15af22c4d8ae0a3f9dac43bef7097ec",
     "grade": true,
     "grade_id": "cell-7fbf48bf7541a622",
     "locked": true,
     "points": 3,
     "schema_version": 3,
     "solution": false,
     "task": false
    }
   },
   "outputs": [
    {
     "name": "stdout",
     "output_type": "stream",
     "text": [
      "['the', 'quick', 'brown', 'fox', 'jumps', 'over', 'the', 'lazy', 'dog']\n"
     ]
    }
   ],
   "source": [
    "##### Function check\n",
    "text = \"the quick brown fox jumps over the lazy dog\"\n",
    "tokens = tokenize(text)\n",
    "\n",
    "assert isinstance(tokens, list)\n",
    "assert len(tokens) == 9\n",
    "\n",
    "print(tokens)\n",
    "# output: ['the', 'quick', 'brown', 'fox', 'jumps', 'over', 'the', 'lazy', 'dog']\n",
    "#####"
   ]
  },
  {
   "cell_type": "markdown",
   "metadata": {
    "deletable": false,
    "editable": false,
    "nbgrader": {
     "cell_type": "markdown",
     "checksum": "34210618bff4cb47aad2f03cb4b9854c",
     "grade": false,
     "grade_id": "cell-fd1b98ae61b697ca",
     "locked": true,
     "schema_version": 3,
     "solution": false,
     "task": false
    }
   },
   "source": [
    "---\n",
    "### 1.5 Stemming (2 points)\n",
    "\n",
    "Write a function to stem tokens. \n",
    "Again, you can use the nltk library for this:"
   ]
  },
  {
   "cell_type": "code",
   "execution_count": 15,
   "metadata": {
    "deletable": false,
    "nbgrader": {
     "cell_type": "code",
     "checksum": "1c4a6aa979d66158c7b6b992af43293a",
     "grade": false,
     "grade_id": "cell-e3f6c8e3f874b28d",
     "locked": false,
     "schema_version": 3,
     "solution": true,
     "task": false
    }
   },
   "outputs": [],
   "source": [
    "# TODO: Implement this! (3 points)\n",
    "def stem_token(token):\n",
    "    \"\"\"\n",
    "        Stems the given token using the PorterStemmer from the nltk library\n",
    "        Input: a single token\n",
    "        Output: the stem of the token\n",
    "    \"\"\"\n",
    "    stemmer = nltk.stem.PorterStemmer()\n",
    "    return stemmer.stem(token)"
   ]
  },
  {
   "cell_type": "code",
   "execution_count": 16,
   "metadata": {
    "deletable": false,
    "editable": false,
    "nbgrader": {
     "cell_type": "code",
     "checksum": "9363b4f09b556d424d9c895d4ab57b1c",
     "grade": true,
     "grade_id": "cell-cd6863e6ee6ed205",
     "locked": true,
     "points": 2,
     "schema_version": 3,
     "solution": false,
     "task": false
    }
   },
   "outputs": [],
   "source": [
    "##### Function check\n",
    "\n",
    "assert stem_token('owned') == 'own'\n",
    "assert stem_token('itemization') == 'item'\n",
    "#####"
   ]
  },
  {
   "cell_type": "markdown",
   "metadata": {
    "deletable": false,
    "editable": false,
    "nbgrader": {
     "cell_type": "markdown",
     "checksum": "0b311d014146da6afa1d39542fab9869",
     "grade": false,
     "grade_id": "cell-47c9f90498699110",
     "locked": true,
     "schema_version": 3,
     "solution": false,
     "task": false
    }
   },
   "source": [
    "---\n",
    "### 1.6 Summary\n",
    "\n",
    "The following function puts it all together. Given an input string, this functions tokenizes and processes it according to the flags that you set."
   ]
  },
  {
   "cell_type": "code",
   "execution_count": 17,
   "metadata": {
    "deletable": false,
    "editable": false,
    "nbgrader": {
     "cell_type": "code",
     "checksum": "2ff2d215ee8e0039c5a91fd3de12e6bd",
     "grade": false,
     "grade_id": "cell-dd0d3f46b30801da",
     "locked": true,
     "schema_version": 3,
     "solution": false,
     "task": false
    }
   },
   "outputs": [],
   "source": [
    "#### Putting it all together\n",
    "def process_text(text, stem=False, remove_stopwords=False, lowercase_text=False):\n",
    "    \n",
    "    tokens = []\n",
    "    for token in tokenize(text):\n",
    "        if remove_stopwords and token.lower() in stopwords:\n",
    "            continue\n",
    "        if stem:\n",
    "            token = stem_token(token)\n",
    "        if lowercase_text:\n",
    "            token = token.lower()\n",
    "        tokens.append(token)\n",
    "\n",
    "    return tokens\n",
    "#### "
   ]
  },
  {
   "cell_type": "markdown",
   "metadata": {
    "deletable": false,
    "editable": false,
    "nbgrader": {
     "cell_type": "markdown",
     "checksum": "02d433b18eb43654fa4306a7bf55b190",
     "grade": false,
     "grade_id": "cell-8d885bfd2edd43ae",
     "locked": true,
     "schema_version": 3,
     "solution": false,
     "task": false
    }
   },
   "source": [
    "---\n",
    "\n",
    "Let's create two sets of preprocessed documents.\n",
    "We can process the documents and queries according to these two configurations:"
   ]
  },
  {
   "cell_type": "code",
   "execution_count": 18,
   "metadata": {
    "deletable": false,
    "editable": false,
    "nbgrader": {
     "cell_type": "code",
     "checksum": "dbe4ca667be6842fdcf512fbcad50c7f",
     "grade": false,
     "grade_id": "cell-d427365ee0fb21d8",
     "locked": true,
     "schema_version": 3,
     "solution": false,
     "task": false
    }
   },
   "outputs": [],
   "source": [
    "# In this configuration:\n",
    "# Don't preprocess the text, except to tokenize \n",
    "config_1 = {\n",
    "  \"stem\": False,\n",
    "  \"remove_stopwords\" : False,\n",
    "  \"lowercase_text\": True\n",
    "} \n",
    "\n",
    "\n",
    "# In this configuration:\n",
    "# Preprocess the text, stem and remove stopwords\n",
    "config_2 = {\n",
    "  \"stem\": True,\n",
    "  \"remove_stopwords\" : True,\n",
    "  \"lowercase_text\": True, \n",
    "} \n",
    "\n",
    "####\n",
    "doc_repr_1 = []\n",
    "doc_repr_2 = []\n",
    "for (doc_id, document) in docs:\n",
    "    doc_repr_1.append((doc_id, process_text(document, **config_1)))\n",
    "    doc_repr_2.append((doc_id, process_text(document, **config_2)))\n",
    "\n",
    "####"
   ]
  },
  {
   "cell_type": "markdown",
   "metadata": {
    "deletable": false,
    "editable": false,
    "nbgrader": {
     "cell_type": "markdown",
     "checksum": "b60589aac19e80941d860d9b3f1e9a16",
     "grade": false,
     "grade_id": "cell-b1c102db61ae7495",
     "locked": true,
     "schema_version": 3,
     "solution": false,
     "task": false
    }
   },
   "source": [
    "--- \n",
    "\n",
    "## Section 2: Indexing (10 points)<a class=\"anchor\" id=\"indexing\"></a>\n",
    "\n",
    "[Back to Part 1](#part1)\n",
    "\n",
    "\n",
    "\n",
    "A retrieval function usually takes in a query document pair, and scores a query against a document.  Our document set is quite small - just a few thousand documents. However, consider a web-scale dataset with a few million documents. In such a scenario, it would become infeasible to score every query and document pair. In such a case, we can build an inverted index. From Wikipedia:\n",
    "\n",
    "> ... , an inverted index (also referred to as a postings file or inverted file) is a database index storing a mapping from content, such as words or numbers, to its locations in a table, .... The purpose of an inverted index is to allow fast full-text searches, at a cost of increased processing when a document is added to the database. ...\n",
    "\n",
    "\n",
    "Consider a simple inverted index, which maps from word to document. This can improve the performance of a retrieval system significantly. In this assignment, we consider a *simple* inverted index, which maps a word to a set of documents. In practice, however, more complex indices might be used.  \n"
   ]
  },
  {
   "cell_type": "markdown",
   "metadata": {
    "deletable": false,
    "editable": false,
    "nbgrader": {
     "cell_type": "markdown",
     "checksum": "710fd943f45523ac36fcb887cc0d4d39",
     "grade": false,
     "grade_id": "cell-fa373192c1b7bb95",
     "locked": true,
     "schema_version": 3,
     "solution": false,
     "task": false
    }
   },
   "source": [
    "### 2.1 Term Frequency-index (10 points)\n",
    "In this assignment, we will be using an index created in memory since our dataset is tiny. To get started, build a simple index that maps each `token` to a list of `(doc_id, count)` where `count` is the count of the `token` in `doc_id`.\n",
    "For consistency, build this index using a python dictionary.\n",
    "    \n",
    "Now, implement a function to build an index:"
   ]
  },
  {
   "cell_type": "code",
   "execution_count": 19,
   "metadata": {
    "deletable": false,
    "nbgrader": {
     "cell_type": "code",
     "checksum": "d4e8c6b658c469379d5fe511de05b536",
     "grade": false,
     "grade_id": "cell-077599b87e953209",
     "locked": false,
     "schema_version": 3,
     "solution": true,
     "task": false
    }
   },
   "outputs": [],
   "source": [
    "# TODO: Implement this! (10 points)\n",
    "from collections import defaultdict\n",
    "def build_tf_index(documents):\n",
    "    \"\"\"\n",
    "        Build an inverted index (with counts). The output is a dictionary which takes in a token\n",
    "        and returns a list of (doc_id, count) where 'count' is the count of the 'token' in 'doc_id'\n",
    "        Input: a list of documents - (doc_id, tokens) \n",
    "        Output: An inverted index implemented within a pyhton dictionary: [token] -> [(doc_id, token_count)]\n",
    "    \"\"\"\n",
    "    # YOUR CODE HERE\n",
    "    index = defaultdict(list)\n",
    "    for (doc_id, tokens) in documents:\n",
    "        doc_id = int(doc_id)\n",
    "        seen_tks = {}\n",
    "        for tk in tokens:\n",
    "            new_tk = tk not in index\n",
    "            if new_tk:\n",
    "                index[tk] = []\n",
    "            if tk not in seen_tks:\n",
    "                index[tk].append([doc_id, 1])\n",
    "                seen_tks[tk] = True\n",
    "            else:\n",
    "                index[tk][-1][1] += 1\n",
    "    return index"
   ]
  },
  {
   "cell_type": "markdown",
   "metadata": {
    "deletable": false,
    "editable": false,
    "nbgrader": {
     "cell_type": "markdown",
     "checksum": "15e7041b4323d2a290322de538ff7670",
     "grade": false,
     "grade_id": "cell-093aebfa504f96f2",
     "locked": true,
     "schema_version": 3,
     "solution": false,
     "task": false
    }
   },
   "source": [
    "---\n",
    "Now we can build indexed documents and preprocess the queries based on the two configurations:"
   ]
  },
  {
   "cell_type": "code",
   "execution_count": 20,
   "metadata": {
    "deletable": false,
    "editable": false,
    "nbgrader": {
     "cell_type": "code",
     "checksum": "e27540c1d8d77a3779a05f557f3f40c6",
     "grade": false,
     "grade_id": "cell-b2ff1676348b90a8",
     "locked": true,
     "schema_version": 3,
     "solution": false,
     "task": false
    }
   },
   "outputs": [],
   "source": [
    "#### Indexed documents based on the two configs\n",
    "\n",
    "# Create the 2 indices\n",
    "tf_index_1 = build_tf_index(doc_repr_1)\n",
    "tf_index_2 = build_tf_index(doc_repr_2)\n",
    "\n",
    "# This function returns the tf_index of the corresponding config\n",
    "def get_index(index_set):\n",
    "    assert index_set in {1, 2}\n",
    "    return {\n",
    "        1: tf_index_1,\n",
    "        2: tf_index_2\n",
    "    }[index_set]\n",
    "\n",
    "####\n",
    "#### Preprocessed query based on the two configs\n",
    "\n",
    "# This function preprocesses the text given the index set, according to the specified config\n",
    "def preprocess_query(text, index_set):\n",
    "    assert index_set in {1, 2}\n",
    "    if index_set == 1:\n",
    "        return process_text(text, **config_1)\n",
    "    elif index_set == 2:\n",
    "        return process_text(text, **config_2)\n",
    "\n",
    "#### "
   ]
  },
  {
   "cell_type": "code",
   "execution_count": 21,
   "metadata": {
    "deletable": false,
    "editable": false,
    "nbgrader": {
     "cell_type": "code",
     "checksum": "f0cbc8703e1248cd6edf03f9019b69db",
     "grade": true,
     "grade_id": "cell-fc7c7232d5d2ee46",
     "locked": true,
     "points": 5,
     "schema_version": 3,
     "solution": false,
     "task": false
    }
   },
   "outputs": [
    {
     "name": "stdout",
     "output_type": "stream",
     "text": [
      "sample tf index for computer: [[4, 1], [7, 1], [10, 1], [13, 1], [19, 1], [22, 1], [23, 1], [37, 1], [40, 3], [41, 1]]\n",
      "sample tf index for examples: [[111, 1], [320, 1], [644, 1], [691, 1], [727, 1], [848, 1], [892, 1], [893, 1], [1049, 1], [1051, 1]]\n"
     ]
    }
   ],
   "source": [
    "##### Function check\n",
    "\n",
    "assert isinstance(tf_index_1, dict)\n",
    "\n",
    "assert isinstance(tf_index_1['computer'], list)\n",
    "print('sample tf index for computer:', tf_index_1['computer'][:10])\n",
    "\n",
    "assert isinstance(tf_index_1['examples'], list)\n",
    "print('sample tf index for examples:', tf_index_1['examples'][:10])\n",
    "#### "
   ]
  },
  {
   "cell_type": "code",
   "execution_count": 22,
   "metadata": {
    "deletable": false,
    "editable": false,
    "nbgrader": {
     "cell_type": "code",
     "checksum": "d49b8ac36815d9a5cb4bed838ab53a50",
     "grade": true,
     "grade_id": "cell-ff06bd11204db250",
     "locked": true,
     "points": 5,
     "schema_version": 3,
     "solution": false,
     "task": false
    }
   },
   "outputs": [
    {
     "name": "stdout",
     "output_type": "stream",
     "text": [
      "sample tf index for computer: [[4, 1], [7, 1], [10, 1], [13, 1], [19, 1], [22, 1], [23, 1], [37, 1], [40, 3], [41, 1]]\n",
      "sample tf index for examples: []\n"
     ]
    }
   ],
   "source": [
    "##### Function check\n",
    "\n",
    "assert isinstance(tf_index_2, dict)\n",
    "\n",
    "assert isinstance(tf_index_2['computer'], list)\n",
    "print('sample tf index for computer:', tf_index_1['computer'][:10])\n",
    "\n",
    "assert isinstance(tf_index_2['examples'], list)\n",
    "print('sample tf index for examples:', tf_index_2['examples'][:10])\n",
    "#### "
   ]
  },
  {
   "cell_type": "markdown",
   "metadata": {
    "deletable": false,
    "editable": false,
    "nbgrader": {
     "cell_type": "markdown",
     "checksum": "880b2ef3ca405f2af6e0667d2dc7a600",
     "grade": false,
     "grade_id": "cell-89eba71f04310291",
     "locked": true,
     "schema_version": 3,
     "solution": false,
     "task": false
    }
   },
   "source": [
    "\n",
    "---\n",
    "## Section 3: Ranking  (80 points) <a class=\"anchor\" id=\"ranking\"></a>\n",
    "\n",
    "[Back to Part 1](#part1)\n",
    "\n",
    "Now that we have cleaned and processed our dataset, we can start building simple IR systems. \n",
    "\n",
    "For now, we consider *simple* IR systems, which involve computing scores from the tokens present in the document/query. More advanced methods are covered in later assignments.\n",
    "\n",
    "We will implement the following methods in this section:\n",
    "- [Section 3.1: Bag of Words](#bow) (10 points)\n",
    "- [Section 3.2: TF-IDF](#tfidf) (15 points)\n",
    "- [Section 3.3: Query Likelihood Model](#qlm) (35 points)\n",
    "- [Section 3.4: BM25](#bm25) (20 points)\n",
    "\n",
    "*All search functions should be able to handle multiple words queries.*\n",
    "\n",
    "**Scoring policy:**\n",
    "Your implementations in this section are scored based on the expected performance of your ranking functions.\n",
    "You will get a full mark if your implementation meets the expected performance (measured by some evaluation metric).\n",
    "Otherwise, you may get partial credit.\n",
    "For example, if your *Bag of words* ranking function has 60% of expected performance, you will get 6 out of 10."
   ]
  },
  {
   "cell_type": "markdown",
   "metadata": {
    "deletable": false,
    "editable": false,
    "nbgrader": {
     "cell_type": "markdown",
     "checksum": "6c74e5061917358300c6e8085ec07864",
     "grade": false,
     "grade_id": "cell-3daf70a60e393adf",
     "locked": true,
     "schema_version": 3,
     "solution": false,
     "task": false
    }
   },
   "source": [
    "--- \n",
    "\n",
    "### Section 3.1: Bag of Words (10 points)<a class=\"anchor\" id=\"bow\"></a>\n",
    "\n",
    "Probably the simplest IR model is the Bag of Words (BOW) model.\n",
    "Implement a function that scores and ranks all the documents against a query using this model.   \n",
    "\n",
    "- For consistency, you should use the count of the token and **not** the binary indicator.\n",
    "- Use `float` type for the scores (even though the scores are integers in this case).\n",
    "- No normalization of the scores is necessary, as the ordering is what we are interested in.\n",
    "- If two documents have the same score, they can have any ordering: you are not required to disambiguate.\n"
   ]
  },
  {
   "cell_type": "code",
   "execution_count": 23,
   "metadata": {
    "deletable": false,
    "nbgrader": {
     "cell_type": "code",
     "checksum": "fee4640e22bfc4f05eb958a675ef40e7",
     "grade": false,
     "grade_id": "cell-de9cf0459c4b9324",
     "locked": false,
     "schema_version": 3,
     "solution": true,
     "task": false
    }
   },
   "outputs": [],
   "source": [
    "# TODO: Implement this! (10 points)\n",
    "\n",
    "def dict_to_arr(d, descending=True):\n",
    "    arr = []\n",
    "    for k in d.keys():\n",
    "         arr.append([str(k), d[k]])\n",
    "    return sorted(arr, key=lambda x: x[1], reverse=descending)\n",
    "\n",
    "def bow_search(query, index_set):\n",
    "    \"\"\"\n",
    "        Perform a search over all documents with the given query. \n",
    "        Note: You have to use the `get_index` function created in the previous cells\n",
    "        Input: \n",
    "            query - a (unprocessed) query\n",
    "            index_set - the index to use\n",
    "        Output: a list of (document_id, score), sorted in descending relevance to the given query. \n",
    "    \"\"\"\n",
    "    index = get_index(index_set)\n",
    "    processed_query = preprocess_query(query, index_set)\n",
    "    scores = {}\n",
    "    for q in processed_query:\n",
    "        if q not in index: continue\n",
    "        for (doc_id, freq) in index[q]:\n",
    "            if doc_id not in scores:\n",
    "                scores[doc_id] = float(freq)\n",
    "            else:\n",
    "                scores[doc_id] += freq\n",
    "    return dict_to_arr(scores)"
   ]
  },
  {
   "cell_type": "code",
   "execution_count": 24,
   "metadata": {
    "deletable": false,
    "editable": false,
    "nbgrader": {
     "cell_type": "code",
     "checksum": "613524fbbf02b1d122c6611a71fbf11b",
     "grade": true,
     "grade_id": "cell-9f6aceae6dd9125f",
     "locked": true,
     "points": 2,
     "schema_version": 3,
     "solution": false,
     "task": false
    }
   },
   "outputs": [],
   "source": [
    "#### Function check\n",
    "\n",
    "test_bow = bow_search(\"how to implement bag of words search\", index_set=1)[:5]\n",
    "assert isinstance(test_bow, list)\n",
    "assert len(test_bow[0]) == 2\n",
    "assert isinstance(test_bow[0][0], str)\n",
    "assert isinstance(test_bow[0][1], float)\n",
    "\n",
    "#### "
   ]
  },
  {
   "cell_type": "code",
   "execution_count": 25,
   "metadata": {
    "deletable": false,
    "editable": false,
    "nbgrader": {
     "cell_type": "code",
     "checksum": "9af20897659edb62fe77598483590500",
     "grade": true,
     "grade_id": "cell-4eed3abf233d9b58",
     "locked": true,
     "points": 2,
     "schema_version": 3,
     "solution": false,
     "task": false
    }
   },
   "outputs": [
    {
     "name": "stdout",
     "output_type": "stream",
     "text": [
      "BOW Results:\n",
      "Rank 0(1.3e+01): On Computing The Fast Fourier Transform\\nCooley an...\n",
      "Rank 1(1.2e+01): Variable Length Tree Structures Having Minimum Ave...\n",
      "Rank 2(1.1e+01): A Modular Computer Sharing System\\nAn alternative ...\n",
      "Rank 3(1e+01): PEEKABIT, Computer Offspring of Punched\\nCard PEEK...\n",
      "Rank 4(9.0): Computer Simulation-Discussion of the\\nTechnique a...\n"
     ]
    }
   ],
   "source": [
    "\n",
    "docs_by_id = dict(docs)\n",
    "def print_results(docs, len_limit=50):    \n",
    "    for i, (doc_id, score) in enumerate(docs):\n",
    "        doc_content = docs_by_id[doc_id].strip().replace(\"\\n\", \"\\\\n\")[:len_limit] + \"...\"\n",
    "        print(f\"Rank {i}({score:.2}): {doc_content}\")\n",
    "\n",
    "test_bow_2 = bow_search(\"computer search word\", index_set=2)[:5]\n",
    "print(f\"BOW Results:\")\n",
    "print_results(test_bow_2)\n"
   ]
  },
  {
   "cell_type": "code",
   "execution_count": 26,
   "metadata": {
    "deletable": false,
    "editable": false,
    "nbgrader": {
     "cell_type": "code",
     "checksum": "3c9c8b16c8e7d1032f101e9da8a6e845",
     "grade": true,
     "grade_id": "cell-4d65a2d7090c466c",
     "locked": true,
     "points": 3,
     "schema_version": 3,
     "solution": false,
     "task": false
    }
   },
   "outputs": [
    {
     "name": "stdout",
     "output_type": "stream",
     "text": [
      "BOW Results:\n",
      "Rank 0(9.0): CURRICULUM 68 -- Recommendations for Academic\\nPro...\n",
      "Rank 1(9.0): Variable Length Tree Structures Having Minimum Ave...\n",
      "Rank 2(7.0): Computer Formulation of the Equations of Motion Us...\n",
      "Rank 3(7.0): The Effects of Multiplexing on a Computer-Communic...\n",
      "Rank 4(6.0): Optimizing Bit-time Computer Simulation\\nA major c...\n"
     ]
    }
   ],
   "source": [
    "\n",
    "test_bow_1 = bow_search(\"computer search word\", index_set=1)[:5]\n",
    "print(f\"BOW Results:\")\n",
    "print_results(test_bow_1)\n"
   ]
  },
  {
   "cell_type": "code",
   "execution_count": 27,
   "metadata": {
    "deletable": false,
    "editable": false,
    "nbgrader": {
     "cell_type": "code",
     "checksum": "b7e593847aa4202ae45ec061fb18ad73",
     "grade": true,
     "grade_id": "cell-dedf36ab5853ce20",
     "locked": true,
     "points": 3,
     "schema_version": 3,
     "solution": false,
     "task": false
    }
   },
   "outputs": [
    {
     "name": "stdout",
     "output_type": "stream",
     "text": [
      "top-5 docs for index1: ('1771', '1936', '1543', '2535', '678')\n",
      "top-5 docs for index2: ('1525', '1936', '1844', '1700', '1366')\n"
     ]
    }
   ],
   "source": [
    "print('top-5 docs for index1:', list(zip(*test_bow_1[:5]))[0])\n",
    "print('top-5 docs for index2:', list(zip(*test_bow_2[:5]))[0])\n"
   ]
  },
  {
   "cell_type": "markdown",
   "metadata": {
    "deletable": false,
    "editable": false,
    "nbgrader": {
     "cell_type": "markdown",
     "checksum": "b04352ee0716dfdf094b8cdb6f32e984",
     "grade": false,
     "grade_id": "cell-a5c09c79ac1f2871",
     "locked": true,
     "schema_version": 3,
     "solution": false,
     "task": false
    }
   },
   "source": [
    "\n",
    "---\n",
    "\n",
    "### Section 3.2: TF-IDF (15 points) <a class=\"anchor\" id=\"tfidf\"></a>\n",
    "\n",
    "Before we implement the tf-idf scoring functions, let's first write a function to compute the document frequencies of all words.  \n",
    "\n",
    "#### 3.2.1 Document frequency (5 points)\n",
    "Compute the document frequencies of all tokens in the collection. \n",
    "Your code should return a dictionary with tokens as its keys and the number of documents containing the token as values.\n",
    "For consistency, the values should have `int` type."
   ]
  },
  {
   "cell_type": "code",
   "execution_count": 28,
   "metadata": {
    "deletable": false,
    "nbgrader": {
     "cell_type": "code",
     "checksum": "5c53263cf4c0b0ffcaae08b91fc364cc",
     "grade": false,
     "grade_id": "cell-9a2369f32e864b8a",
     "locked": false,
     "schema_version": 3,
     "solution": true,
     "task": false
    }
   },
   "outputs": [],
   "source": [
    "# TODO: Implement this! (5 points)\n",
    "def compute_df(documents):\n",
    "    \"\"\"\n",
    "        Compute the document frequency of all terms in the vocabulary\n",
    "        Input: A list of documents\n",
    "        Output: A dictionary with {token: document frequency (int)}\n",
    "    \"\"\"\n",
    "    # YOUR CODE HERE\n",
    "    df = {}\n",
    "    for doc in documents:\n",
    "        seen_tks = {}\n",
    "        for tk in doc:\n",
    "            if tk not in df:\n",
    "                df[tk] = 0\n",
    "            df[tk] += not tk in seen_tks\n",
    "            seen_tks[tk] = True\n",
    "    return df"
   ]
  },
  {
   "cell_type": "code",
   "execution_count": 29,
   "metadata": {
    "deletable": false,
    "editable": false,
    "nbgrader": {
     "cell_type": "code",
     "checksum": "154985511d7925c5793a1f97dea81880",
     "grade": false,
     "grade_id": "cell-4c3bddd0b73ac90e",
     "locked": true,
     "schema_version": 3,
     "solution": false,
     "task": false
    }
   },
   "outputs": [],
   "source": [
    "#### Compute df based on the two configs\n",
    "\n",
    "# get the document frequencies of each document\n",
    "df_1 = compute_df([d[1] for d in doc_repr_1])\n",
    "df_2 = compute_df([d[1] for d in doc_repr_2])\n",
    "\n",
    "def get_df(index_set):\n",
    "    assert index_set in {1, 2}\n",
    "    return {\n",
    "        1: df_1,\n",
    "        2: df_2\n",
    "    }[index_set]\n",
    "####"
   ]
  },
  {
   "cell_type": "code",
   "execution_count": 30,
   "metadata": {
    "deletable": false,
    "editable": false,
    "nbgrader": {
     "cell_type": "code",
     "checksum": "110cc180068cf3f77c682ee3de2a117c",
     "grade": true,
     "grade_id": "cell-79e8a6db1e5fc46f",
     "locked": true,
     "points": 5,
     "schema_version": 3,
     "solution": false,
     "task": false
    }
   },
   "outputs": [
    {
     "name": "stdout",
     "output_type": "stream",
     "text": [
      "597\n",
      "11\n"
     ]
    }
   ],
   "source": [
    "#### Function check\n",
    "\n",
    "print(df_1['computer'])\n",
    "print(df_2['computer'])\n",
    "####"
   ]
  },
  {
   "cell_type": "markdown",
   "metadata": {
    "deletable": false,
    "editable": false,
    "nbgrader": {
     "cell_type": "markdown",
     "checksum": "d0d577668fa51b80aeab6e67209ae73b",
     "grade": false,
     "grade_id": "cell-52f6acc487e1b96d",
     "locked": true,
     "schema_version": 3,
     "solution": false,
     "task": false
    }
   },
   "source": [
    "---\n",
    "#### 3.2.2 TF-IDF search (10 points)\n",
    "Next, implement a function that computes a tf-idf score, given a query.\n",
    "Use the following formulas for TF and IDF:\n",
    "\n",
    "$$ TF=\\log (1 + f_{d,t}) $$\n",
    "\n",
    "$$ IDF=\\log (\\frac{N}{n_t})$$\n",
    "\n",
    "where $f_{d,t}$ is the frequency of token $t$ in document $d$, $N$ is the number of total documents and $n_t$ is the number of documents containing token $t$.\n",
    "\n",
    "**Note:** your implementation will be auto-graded assuming you have used the above formulas.\n"
   ]
  },
  {
   "cell_type": "code",
   "execution_count": 31,
   "metadata": {
    "deletable": false,
    "nbgrader": {
     "cell_type": "code",
     "checksum": "3534c44b4a3419ca1db98eebe7115dc1",
     "grade": false,
     "grade_id": "cell-2fb5ba34b2994cd9",
     "locked": false,
     "schema_version": 3,
     "solution": true,
     "task": false
    }
   },
   "outputs": [],
   "source": [
    "# TODO: Implement this! (10 points)\n",
    "def tfidf_search(query, index_set):\n",
    "    \"\"\"\n",
    "        Perform a search over all documents with the given query using tf-idf. \n",
    "        Note #1: You have to use the `get_index` (and the `get_df`) function created in the previous cells\n",
    "        Input: \n",
    "            query - a (unprocessed) query\n",
    "            index_set - the index to use\n",
    "        Output: a list of (document_id, score), sorted in descending relevance to the given query \n",
    "    \"\"\"\n",
    "    index = get_index(index_set)\n",
    "    df = get_df(index_set)\n",
    "    processed_query = preprocess_query(query, index_set)\n",
    "    \n",
    "    N = len(docs)\n",
    "    \n",
    "    scores = {}\n",
    "    for q in processed_query:\n",
    "        if q not in index: continue\n",
    "        for (doc_id, freq) in index[q]:\n",
    "            tf = np.log(1 + freq)\n",
    "            idf = np.log(N/df[q])\n",
    "            if doc_id not in scores:\n",
    "                scores[doc_id] = 0\n",
    "            scores[doc_id] += tf*idf #question: correct to add tfidf score of each word?\n",
    "  \n",
    "    return dict_to_arr(scores)"
   ]
  },
  {
   "cell_type": "code",
   "execution_count": 32,
   "metadata": {
    "deletable": false,
    "editable": false,
    "nbgrader": {
     "cell_type": "code",
     "checksum": "7b66a514663d898694b09a23a597312b",
     "grade": true,
     "grade_id": "cell-bc68aeeacf42beb3",
     "locked": true,
     "points": 2,
     "schema_version": 3,
     "solution": false,
     "task": false
    }
   },
   "outputs": [],
   "source": [
    "\n",
    "#### Function check\n",
    "test_tfidf = tfidf_search(\"how to implement tf idf search\", index_set=1)[:5]\n",
    "assert isinstance(test_tfidf, list)\n",
    "assert len(test_tfidf[0]) == 2\n",
    "assert isinstance(test_tfidf[0][0], str)\n",
    "assert isinstance(test_tfidf[0][1], float)\n",
    "\n",
    "####"
   ]
  },
  {
   "cell_type": "code",
   "execution_count": 33,
   "metadata": {
    "deletable": false,
    "editable": false,
    "nbgrader": {
     "cell_type": "code",
     "checksum": "98fb1326cf4bf7983ae237ca8a9105f9",
     "grade": true,
     "grade_id": "cell-c7702fa8179fadb9",
     "locked": true,
     "points": 2,
     "schema_version": 3,
     "solution": false,
     "task": false
    }
   },
   "outputs": [
    {
     "name": "stdout",
     "output_type": "stream",
     "text": [
      "TFIDF Results:\n",
      "Rank 0(1.3e+01): PEEKABIT, Computer Offspring of Punched\\nCard PEEK...\n",
      "Rank 1(9.8): Variable Length Tree Structures Having Minimum Ave...\n",
      "Rank 2(8.2): A Stochastic Approach to the Grammatical Coding of...\n",
      "Rank 3(8.1): Full Table Quadratic Searching for Scatter Storage...\n",
      "Rank 4(7.6): Use of Tree Structures for Processing Files\\nIn da...\n"
     ]
    }
   ],
   "source": [
    "\n",
    "test_tfidf_2 = tfidf_search(\"computer word search\", index_set=2)[:5]\n",
    "print(f\"TFIDF Results:\")\n",
    "print_results(test_tfidf_2)\n"
   ]
  },
  {
   "cell_type": "code",
   "execution_count": 34,
   "metadata": {
    "deletable": false,
    "editable": false,
    "nbgrader": {
     "cell_type": "code",
     "checksum": "733b5b67be5e53989f5b763ce5e52ee9",
     "grade": true,
     "grade_id": "cell-3284f50ac29abbaa",
     "locked": true,
     "points": 3,
     "schema_version": 3,
     "solution": false,
     "task": false
    }
   },
   "outputs": [
    {
     "name": "stdout",
     "output_type": "stream",
     "text": [
      "TFIDF Results:\n",
      "Rank 0(9.4): Variable Length Tree Structures Having Minimum Ave...\n",
      "Rank 1(7.4): On the Feasibility of Voice Input to\\nan On-line C...\n",
      "Rank 2(7.3): Median Split Trees: A Fast Lookup Technique for Fr...\n",
      "Rank 3(7.0): Execution Time Requirements for Encipherment Progr...\n",
      "Rank 4(7.0): Storage and Search Properties of a Tree-Organized ...\n"
     ]
    }
   ],
   "source": [
    "\n",
    "test_tfidf_1 = tfidf_search(\"computer word search\", index_set=1)[:5]\n",
    "print(f\"TFIDF Results:\")\n",
    "print_results(test_tfidf_1)\n"
   ]
  },
  {
   "cell_type": "code",
   "execution_count": 35,
   "metadata": {
    "deletable": false,
    "editable": false,
    "nbgrader": {
     "cell_type": "code",
     "checksum": "e0edb37a5ae807a2de85d578c87ccb78",
     "grade": true,
     "grade_id": "cell-d908c80a3155354b",
     "locked": true,
     "points": 3,
     "schema_version": 3,
     "solution": false,
     "task": false
    }
   },
   "outputs": [
    {
     "name": "stdout",
     "output_type": "stream",
     "text": [
      "top-5 docs for index1 with BOW search: ('1771', '1936', '1543', '2535', '678')\n",
      "top-5 docs for index2 with BOW search: ('1525', '1936', '1844', '1700', '1366')\n",
      "top-5 docs for index1 with TF-IDF search: ('1936', '2054', '3041', '2620', '944')\n",
      "top-5 docs for index2 with TF-IDF search: ('1700', '1936', '1235', '2018', '849')\n"
     ]
    }
   ],
   "source": [
    "\n",
    "print('top-5 docs for index1 with BOW search:', list(zip(*test_bow_1[:5]))[0])\n",
    "print('top-5 docs for index2 with BOW search:', list(zip(*test_bow_2[:5]))[0])\n",
    "print('top-5 docs for index1 with TF-IDF search:', list(zip(*test_tfidf_1[:5]))[0])\n",
    "print('top-5 docs for index2 with TF-IDF search:', list(zip(*test_tfidf_2[:5]))[0])\n",
    "\n"
   ]
  },
  {
   "cell_type": "markdown",
   "metadata": {
    "deletable": false,
    "editable": false,
    "nbgrader": {
     "cell_type": "markdown",
     "checksum": "cdffc83f0eaea937cf64a212e7e9af8d",
     "grade": false,
     "grade_id": "cell-f5d923459ba21733",
     "locked": true,
     "schema_version": 3,
     "solution": false,
     "task": false
    }
   },
   "source": [
    "--- \n",
    "\n",
    "### Section 3.3: Query Likelihood Model (35 points) <a class=\"anchor\" id=\"qlm\"></a>\n",
    "\n",
    "In this section, you will implement a simple query likelihood model. \n",
    "\n",
    "\n",
    "#### 3.3.1 Naive QL (15 points)\n",
    "\n",
    "First, let us implement a naive version of a QL model, assuming a multinomial unigram language model (with a uniform prior over the documents). \n",
    "\n"
   ]
  },
  {
   "cell_type": "code",
   "execution_count": 36,
   "metadata": {
    "deletable": false,
    "editable": false,
    "nbgrader": {
     "cell_type": "code",
     "checksum": "b7ae2b7d818b428b4638c1c9206d2aca",
     "grade": false,
     "grade_id": "cell-98505778f7b68e7f",
     "locked": true,
     "schema_version": 3,
     "solution": false,
     "task": false
    }
   },
   "outputs": [],
   "source": [
    "#### Document length for normalization\n",
    "\n",
    "def doc_lengths(documents):\n",
    "    doc_lengths = {doc_id:len(doc) for (doc_id, doc) in documents}\n",
    "    return doc_lengths\n",
    "\n",
    "doc_lengths_1 = doc_lengths(doc_repr_1)\n",
    "doc_lengths_2 = doc_lengths(doc_repr_2)\n",
    "\n",
    "def get_doc_lengths(index_set):\n",
    "    assert index_set in {1, 2}\n",
    "    return {\n",
    "        1: doc_lengths_1,\n",
    "        2: doc_lengths_2\n",
    "    }[index_set]\n",
    "####"
   ]
  },
  {
   "cell_type": "code",
   "execution_count": 37,
   "metadata": {
    "deletable": false,
    "nbgrader": {
     "cell_type": "code",
     "checksum": "cedd08303a914243fefdb6b876977ca1",
     "grade": false,
     "grade_id": "cell-8bcf2b804d636c2e",
     "locked": false,
     "schema_version": 3,
     "solution": true,
     "task": false
    }
   },
   "outputs": [],
   "source": [
    "# TODO: Implement this! (15 points)\n",
    "def naive_ql_search(query, index_set):\n",
    "    \"\"\"\n",
    "        Perform a search over all documents with the given query using a naive QL model. \n",
    "        Note #1: You have to use the `get_index` (and get_doc_lengths) function created in the previous cells\n",
    "        Input: \n",
    "            query - a (unprocessed) query\n",
    "            index_set - the index to use\n",
    "        Output: a list of (document_id, score), sorted in descending relevance to the given query \n",
    "    \"\"\"\n",
    "    index = get_index(index_set)\n",
    "    doc_lengths = get_doc_lengths(index_set)\n",
    "    processed_query = preprocess_query(query, index_set)\n",
    "    scores = {}\n",
    "    for q in processed_query:\n",
    "        if q not in index: continue\n",
    "        for (doc_id, freq) in index[q]:\n",
    "            if doc_id not in scores:\n",
    "                scores[doc_id] = 1\n",
    "            scores[doc_id] *= freq/doc_lengths[str(doc_id)]\n",
    "    return dict_to_arr(scores)"
   ]
  },
  {
   "cell_type": "code",
   "execution_count": 38,
   "metadata": {
    "deletable": false,
    "editable": false,
    "nbgrader": {
     "cell_type": "code",
     "checksum": "b550d15bdad28354c336020a00c33d56",
     "grade": true,
     "grade_id": "cell-5a83ac12ecde8578",
     "locked": true,
     "points": 3,
     "schema_version": 3,
     "solution": false,
     "task": false
    }
   },
   "outputs": [
    {
     "name": "stdout",
     "output_type": "stream",
     "text": [
      "Naive QL Results:\n",
      "Rank 0(0.2): A Report Writer For COBOL...\n",
      "Rank 1(0.2): A CRT Report Generating System...\n",
      "Rank 2(0.17): Preliminary Report-International Algebraic Languag...\n",
      "Rank 3(0.17): Supplement to the ALGOL 60 Report...\n",
      "Rank 4(0.14): ALGOL Sub-Committee Report - Extensions...\n"
     ]
    }
   ],
   "source": [
    "#### Function check\n",
    "test_naiveql = naive_ql_search(\"report\", index_set=1)[:5]\n",
    "print(f\"Naive QL Results:\")\n",
    "print_results(test_naiveql)\n",
    "####"
   ]
  },
  {
   "cell_type": "code",
   "execution_count": 39,
   "metadata": {
    "deletable": false,
    "editable": false,
    "nbgrader": {
     "cell_type": "code",
     "checksum": "799df1d81c63fe90edbb6c218fc707fb",
     "grade": true,
     "grade_id": "cell-80f4bf2137f997bb",
     "locked": true,
     "points": 2,
     "schema_version": 3,
     "solution": false,
     "task": false
    }
   },
   "outputs": [],
   "source": [
    "#### Please do not change this. This cell is used for grading."
   ]
  },
  {
   "cell_type": "code",
   "execution_count": 40,
   "metadata": {
    "deletable": false,
    "editable": false,
    "nbgrader": {
     "cell_type": "code",
     "checksum": "875a4a517d27e20625d41783cebec118",
     "grade": true,
     "grade_id": "cell-5ce2993458a8ce51",
     "locked": true,
     "points": 3,
     "schema_version": 3,
     "solution": false,
     "task": false
    }
   },
   "outputs": [],
   "source": [
    "#### Please do not change this. This cell is used for grading."
   ]
  },
  {
   "cell_type": "code",
   "execution_count": 41,
   "metadata": {
    "deletable": false,
    "editable": false,
    "nbgrader": {
     "cell_type": "code",
     "checksum": "d5c4e1c3852e71a46f32825b122f1b71",
     "grade": true,
     "grade_id": "cell-7753bdb54e292f3d",
     "locked": true,
     "points": 3,
     "schema_version": 3,
     "solution": false,
     "task": false
    }
   },
   "outputs": [],
   "source": [
    "#### Please do not change this. This cell is used for grading."
   ]
  },
  {
   "cell_type": "code",
   "execution_count": 42,
   "metadata": {
    "deletable": false,
    "editable": false,
    "nbgrader": {
     "cell_type": "code",
     "checksum": "c4d4332d4356e89ce0240f6b80e1899a",
     "grade": true,
     "grade_id": "cell-54e476e2f96e64bb",
     "locked": true,
     "points": 4,
     "schema_version": 3,
     "solution": false,
     "task": false
    }
   },
   "outputs": [],
   "source": [
    "#### Please do not change this. This cell is used for grading."
   ]
  },
  {
   "cell_type": "markdown",
   "metadata": {
    "deletable": false,
    "editable": false,
    "nbgrader": {
     "cell_type": "markdown",
     "checksum": "8d739dc91a22bd48897f603885f95a74",
     "grade": false,
     "grade_id": "cell-5414dfd69dab8b94",
     "locked": true,
     "schema_version": 3,
     "solution": false,
     "task": false
    }
   },
   "source": [
    "---\n",
    "#### 3.3.2 QL (20 points)\n",
    "Now, let's implement a QL model that handles the issues with the naive version. In particular, you will implement a QL model with Jelinek-Mercer Smoothing. That means an interpolated score is computed per word - one term is the same as the previous naive version, and the second term comes from a unigram language model. In addition, you should accumulate the scores by summing the **log** (smoothed) probability which leads to better numerical stability."
   ]
  },
  {
   "cell_type": "code",
   "execution_count": 43,
   "metadata": {
    "deletable": false,
    "nbgrader": {
     "cell_type": "code",
     "checksum": "b8c6abf937ad333e628f1db891f2e29e",
     "grade": false,
     "grade_id": "cell-bb1f506409771257",
     "locked": false,
     "schema_version": 3,
     "solution": true,
     "task": false
    }
   },
   "outputs": [],
   "source": [
    "# TODO: Implement this! (20 points)\n",
    "\n",
    "# YOUR CODE HERE\n",
    "# raise NotImplementedError()\n",
    "\n",
    "def ql_search(query, index_set):\n",
    "    \"\"\"\n",
    "        Perform a search over all documents with the given query using a QL model \n",
    "        with Jelinek-Mercer Smoothing (set smoothing=0.1). \n",
    "        \n",
    "        \n",
    "        Note #1: You have to use the `get_index` (and get_doc_lengths) function created in the previous cells\n",
    "        Note #2: You might have to create some variables beforehand and use them in this function\n",
    "        \n",
    "        \n",
    "        Input: \n",
    "            query - a (unprocessed) query\n",
    "            index_set - the index to use\n",
    "        Output: a list of (document_id, score), sorted in descending relevance to the given query \n",
    "    \"\"\"\n",
    "    index = get_index(index_set)\n",
    "    doc_lengths = get_doc_lengths(index_set)\n",
    "    processed_query = preprocess_query(query, index_set)\n",
    "    scores = {}\n",
    "    N = sum(doc_lengths.values())        \n",
    "    \n",
    "    for q in processed_query:\n",
    "        seen = {int(key): False for key in doc_lengths.keys()}\n",
    "        n = sum([x[1] for x in index[q]])\n",
    "        if q in index:\n",
    "            for (doc_id, freq) in index[q]:\n",
    "                D = doc_lengths[str(doc_id)]\n",
    "                if doc_id not in scores:\n",
    "                    scores[doc_id] = 0\n",
    "                scores[doc_id] += np.log(0.9*freq/D + 0.1*n/N)\n",
    "                seen[doc_id] = True\n",
    "        for k in seen.keys():\n",
    "            if not seen[k]:\n",
    "                if k not in scores:\n",
    "                    scores[k] = 0\n",
    "                scores[k] += np.log(1e-20)\n",
    "    return dict_to_arr(scores)"
   ]
  },
  {
   "cell_type": "code",
   "execution_count": 44,
   "metadata": {
    "deletable": false,
    "editable": false,
    "nbgrader": {
     "cell_type": "code",
     "checksum": "0b12a7f3355193a257fd9f5f69a66562",
     "grade": true,
     "grade_id": "cell-850e9d6369bcec32",
     "locked": true,
     "points": 4,
     "schema_version": 3,
     "solution": false,
     "task": false
    }
   },
   "outputs": [
    {
     "name": "stdout",
     "output_type": "stream",
     "text": [
      "Rank 0(-1.7): A Report Writer For COBOL...\n",
      "Rank 1(-1.7): A CRT Report Generating System...\n",
      "Rank 2(-1.9): Preliminary Report-International Algebraic Languag...\n",
      "Rank 3(-1.9): Supplement to the ALGOL 60 Report...\n",
      "Rank 4(-2.1): ALGOL Sub-Committee Report - Extensions...\n",
      "\n",
      "Rank 0(-1.7e+01): A Report Writer For COBOL...\n",
      "Rank 1(-1.7e+01): A CRT Report Generating System...\n",
      "Rank 2(-1.9e+01): Preliminary Report-International Algebraic Languag...\n",
      "Rank 3(-1.9e+01): Supplement to the ALGOL 60 Report...\n",
      "Rank 4(-2.1e+01): ALGOL Sub-Committee Report - Extensions...\n"
     ]
    }
   ],
   "source": [
    "#### Function check\n",
    "test_ql_results = ql_search(\"report\", index_set=1)[:5]\n",
    "print_results(test_ql_results)\n",
    "print()\n",
    "test_ql_results_long = ql_search(\"report \" * 10, index_set=1)[:5]\n",
    "print_results(test_ql_results_long)\n",
    "####"
   ]
  },
  {
   "cell_type": "code",
   "execution_count": 45,
   "metadata": {
    "deletable": false,
    "editable": false,
    "nbgrader": {
     "cell_type": "code",
     "checksum": "e40be645140389c115849856145f5b59",
     "grade": true,
     "grade_id": "cell-958cdcf6fd6899b7",
     "locked": true,
     "points": 3,
     "schema_version": 3,
     "solution": false,
     "task": false
    }
   },
   "outputs": [],
   "source": [
    "#### Please do not change this. This cell is used for grading."
   ]
  },
  {
   "cell_type": "code",
   "execution_count": 46,
   "metadata": {
    "deletable": false,
    "editable": false,
    "nbgrader": {
     "cell_type": "code",
     "checksum": "41d4aff001df17e7963ba79b45810b30",
     "grade": true,
     "grade_id": "cell-384dc23a0c251f6e",
     "locked": true,
     "points": 4,
     "schema_version": 3,
     "solution": false,
     "task": false
    }
   },
   "outputs": [],
   "source": [
    "#### Please do not change this. This cell is used for grading."
   ]
  },
  {
   "cell_type": "code",
   "execution_count": 47,
   "metadata": {
    "deletable": false,
    "editable": false,
    "nbgrader": {
     "cell_type": "code",
     "checksum": "893e8c5a073abc8ebb763d267b91bc02",
     "grade": true,
     "grade_id": "cell-7218966cba5097cc",
     "locked": true,
     "points": 4,
     "schema_version": 3,
     "solution": false,
     "task": false
    }
   },
   "outputs": [],
   "source": [
    "#### Please do not change this. This cell is used for grading."
   ]
  },
  {
   "cell_type": "code",
   "execution_count": 48,
   "metadata": {
    "deletable": false,
    "editable": false,
    "nbgrader": {
     "cell_type": "code",
     "checksum": "f99cb6f8b1f5830aaed8f06712ff846e",
     "grade": true,
     "grade_id": "cell-481ab073259ae53f",
     "locked": true,
     "points": 5,
     "schema_version": 3,
     "solution": false,
     "task": false
    }
   },
   "outputs": [],
   "source": [
    "#### Please do not change this. This cell is used for grading."
   ]
  },
  {
   "cell_type": "markdown",
   "metadata": {
    "deletable": false,
    "editable": false,
    "nbgrader": {
     "cell_type": "markdown",
     "checksum": "c02f14705d679579b1aa9f78f54779d5",
     "grade": false,
     "grade_id": "cell-f44088bfdac1dc90",
     "locked": true,
     "schema_version": 3,
     "solution": false,
     "task": false
    }
   },
   "source": [
    "--- \n",
    "\n",
    "### Section 3.4: BM25 (20 points) <a class=\"anchor\" id=\"bm25\"></a>\n",
    "\n",
    "In this section, we will implement the BM25 scoring function. \n"
   ]
  },
  {
   "cell_type": "code",
   "execution_count": 49,
   "metadata": {
    "deletable": false,
    "nbgrader": {
     "cell_type": "code",
     "checksum": "e57efe06ea92af1c83784a42eb3d86e0",
     "grade": false,
     "grade_id": "cell-15640fc9b5d00a3c",
     "locked": false,
     "schema_version": 3,
     "solution": true,
     "task": false
    }
   },
   "outputs": [],
   "source": [
    "# TODO: Implement this! (20 points)\n",
    "def bm25_search(query, index_set):\n",
    "    \"\"\"\n",
    "        Perform a search over all documents with the given query using BM25. Use k_1 = 1.5 and b = 0.75\n",
    "        Note #1: You have to use the `get_index` (and `get_doc_lengths`) function created in the previous cells\n",
    "        Note #2: You might have to create some variables beforehand and use them in this function\n",
    "        \n",
    "        Input: \n",
    "            query - a (unprocessed) query\n",
    "            index_set - the index to use\n",
    "        Output: a list of (document_id, score), sorted in descending relevance to the given query \n",
    "    \"\"\"\n",
    "    k_1 = 1.5\n",
    "    b = 0.75\n",
    "    index = get_index(index_set)\n",
    "    df = get_df(index_set)\n",
    "    doc_lengths = get_doc_lengths(index_set)\n",
    "    processed_query = preprocess_query(query, index_set)\n",
    "    scores = {}\n",
    "    vals = doc_lengths.values()\n",
    "    N = len(vals)\n",
    "    dl_avg = sum(vals)/len(vals)\n",
    "    for q in processed_query:\n",
    "        if q not in index: continue\n",
    "        for (doc_id, freq) in index[q]:\n",
    "            if doc_id not in scores:\n",
    "                scores[doc_id] = 0\n",
    "            scores[doc_id] += np.log(N/df[q])*(k_1+1)*freq/(k_1*(1-b + b*doc_lengths[str(doc_id)]/dl_avg)+freq)\n",
    "    return dict_to_arr(scores)"
   ]
  },
  {
   "cell_type": "code",
   "execution_count": 50,
   "metadata": {
    "deletable": false,
    "editable": false,
    "nbgrader": {
     "cell_type": "code",
     "checksum": "4be9de5d4e94637960d83725422bea6c",
     "grade": true,
     "grade_id": "cell-d10536bca72c74b1",
     "locked": true,
     "points": 3,
     "schema_version": 3,
     "solution": false,
     "task": false
    }
   },
   "outputs": [
    {
     "name": "stdout",
     "output_type": "stream",
     "text": [
      "Rank 0(6.7): A Report Writer For COBOL...\n",
      "Rank 1(6.7): A CRT Report Generating System...\n",
      "Rank 2(6.6): Preliminary Report-International Algebraic Languag...\n",
      "Rank 3(6.6): Supplement to the ALGOL 60 Report...\n",
      "Rank 4(6.5): ALGOL Sub-Committee Report - Extensions...\n"
     ]
    }
   ],
   "source": [
    "#### Function check\n",
    "test_bm25_results = bm25_search(\"report\", index_set=1)[:5]\n",
    "print_results(test_bm25_results)\n",
    "####"
   ]
  },
  {
   "cell_type": "code",
   "execution_count": 51,
   "metadata": {
    "deletable": false,
    "editable": false,
    "nbgrader": {
     "cell_type": "code",
     "checksum": "31b550d6a46ae4f8ede88788799ac2b9",
     "grade": true,
     "grade_id": "cell-60f6ec5052712d79",
     "locked": true,
     "points": 5,
     "schema_version": 3,
     "solution": false,
     "task": false
    }
   },
   "outputs": [],
   "source": [
    "#### Please do not change this. This cell is used for grading."
   ]
  },
  {
   "cell_type": "code",
   "execution_count": 52,
   "metadata": {
    "deletable": false,
    "editable": false,
    "nbgrader": {
     "cell_type": "code",
     "checksum": "3da2ec16bfe781916e71755d65aa2983",
     "grade": true,
     "grade_id": "cell-5d17524043a5abcc",
     "locked": true,
     "points": 5,
     "schema_version": 3,
     "solution": false,
     "task": false
    }
   },
   "outputs": [],
   "source": [
    "#### Please do not change this. This cell is used for grading."
   ]
  },
  {
   "cell_type": "code",
   "execution_count": 53,
   "metadata": {
    "deletable": false,
    "editable": false,
    "nbgrader": {
     "cell_type": "code",
     "checksum": "e7b563d54fa84c20909c0ae107010541",
     "grade": true,
     "grade_id": "cell-ff8e704eda1184e3",
     "locked": true,
     "points": 3,
     "schema_version": 3,
     "solution": false,
     "task": false
    }
   },
   "outputs": [],
   "source": [
    "#### Please do not change this. This cell is used for grading."
   ]
  },
  {
   "cell_type": "code",
   "execution_count": 54,
   "metadata": {
    "deletable": false,
    "editable": false,
    "nbgrader": {
     "cell_type": "code",
     "checksum": "b013f90974b396630a8831d6f1d7e5f7",
     "grade": true,
     "grade_id": "cell-a52310500a2543cb",
     "locked": true,
     "points": 4,
     "schema_version": 3,
     "solution": false,
     "task": false
    }
   },
   "outputs": [],
   "source": [
    "#### Please do not change this. This cell is used for grading."
   ]
  },
  {
   "cell_type": "markdown",
   "metadata": {
    "deletable": false,
    "editable": false,
    "nbgrader": {
     "cell_type": "markdown",
     "checksum": "8fcf67cb7d5e8b26cb9bf1f0aa42c847",
     "grade": false,
     "grade_id": "cell-8b2b412c81d62f2d",
     "locked": true,
     "schema_version": 3,
     "solution": false,
     "task": false
    }
   },
   "source": [
    "\n",
    "---\n",
    "\n",
    "### 3.5. Test Your Functions\n",
    "\n",
    "The widget below allows you to play with the search functions you've written so far. Use this to test your search functions and ensure that they work as expected."
   ]
  },
  {
   "cell_type": "code",
   "execution_count": 55,
   "metadata": {
    "deletable": false,
    "editable": false,
    "nbgrader": {
     "cell_type": "code",
     "checksum": "dfeb204b390acc0794dbdcac92b0cf2c",
     "grade": false,
     "grade_id": "cell-c9c2bb76354e8d97",
     "locked": true,
     "schema_version": 3,
     "solution": false,
     "task": false
    }
   },
   "outputs": [],
   "source": [
    "#### Highlighter function\n",
    "# class for results\n",
    "ResultRow = namedtuple(\"ResultRow\", [\"doc_id\", \"snippet\", \"score\"])\n",
    "# doc_id -> doc\n",
    "docs_by_id = dict((d[0], d[1]) for d in docs)\n",
    "\n",
    "def highlight_text(document, query, tol=17):\n",
    "    import re\n",
    "    tokens = tokenize(query)\n",
    "    regex = \"|\".join(f\"(\\\\b{t}\\\\b)\" for t in tokens)\n",
    "    regex = re.compile(regex, flags=re.IGNORECASE)\n",
    "    output = \"\"\n",
    "    i = 0\n",
    "    for m in regex.finditer(document):\n",
    "        start_idx = max(0, m.start() - tol)\n",
    "        end_idx = min(len(document), m.end() + tol)\n",
    "        output += \"\".join([\"...\",\n",
    "                        document[start_idx:m.start()],\n",
    "                        \"<strong>\",\n",
    "                        document[m.start():m.end()],\n",
    "                        \"</strong>\",\n",
    "                        document[m.end():end_idx],\n",
    "                        \"...\"])\n",
    "    return output.replace(\"\\n\", \" \")\n",
    "\n",
    "\n",
    "def make_results(query, search_fn, index_set):\n",
    "    results = []\n",
    "    for doc_id, score in search_fn(query, index_set):\n",
    "        highlight = highlight_text(docs_by_id[doc_id], query)\n",
    "        if len(highlight.strip()) == 0:\n",
    "            highlight = docs_by_id[doc_id]\n",
    "        results.append(ResultRow(doc_id, highlight, score))\n",
    "    return results\n",
    "####"
   ]
  },
  {
   "cell_type": "code",
   "execution_count": 56,
   "metadata": {},
   "outputs": [
    {
     "data": {
      "application/vnd.jupyter.widget-view+json": {
       "model_id": "0b8da90d0dda4d3c9cf3eda1a6c573b3",
       "version_major": 2,
       "version_minor": 0
      },
      "text/plain": [
       "Text(value='', description='Search Bar')"
      ]
     },
     "metadata": {},
     "output_type": "display_data"
    }
   ],
   "source": [
    "# TODO: Set this to the function you want to test!\n",
    "# this function should take in a query (string)\n",
    "# and return a sorted list of (doc_id, score) \n",
    "# with the most relevant document in the first position\n",
    "search_fn = bm25_search\n",
    "index_set = 1\n",
    "\n",
    "text = widgets.Text(description=\"Search Bar\", width=200)\n",
    "display(text)\n",
    "\n",
    "def handle_submit(sender):\n",
    "    print(f\"Searching for: '{sender.value}'\")\n",
    "    \n",
    "    results = make_results(sender.value, search_fn, index_set)\n",
    "    \n",
    "    # display only the top 5\n",
    "    results = results[:5]\n",
    "    \n",
    "    body = \"\"\n",
    "    for idx, r in enumerate(results):\n",
    "        body += f\"<li>Document #{r.doc_id}({r.score}): {r.snippet}</li>\"\n",
    "    display(HTML(f\"<ul>{body}</ul>\"))\n",
    "    \n",
    "\n",
    "text.on_submit(handle_submit)"
   ]
  },
  {
   "cell_type": "markdown",
   "metadata": {
    "deletable": false,
    "editable": false,
    "nbgrader": {
     "cell_type": "markdown",
     "checksum": "019b1ff878dc6339dd068e2d48d19904",
     "grade": false,
     "grade_id": "cell-8d46fe8e4f3d8cdb",
     "locked": true,
     "schema_version": 3,
     "solution": false,
     "task": false
    }
   },
   "source": [
    "---\n",
    "\n",
    "## Section 4: Evaluation (40 points) <a class=\"anchor\" id=\"evaluation\"></a>\n",
    "\n",
    "[Back to Part 1](#part1)\n",
    "\n",
    "In order to analyze the effectiveness of retrieval algorithms, we first have to learn how to evaluate such a system. In particular, we will work with offline evaluation metrics. These metrics are computed on a dataset with known relevance judgements.\n",
    "\n",
    "Implement the following evaluation metrics. \n",
    "\n",
    "1. Precision (7 points)\n",
    "2. Recall (7 points)\n",
    "3. Mean Average Precision (13 points)\n",
    "4. Expected Reciprocal Rank (13 points)"
   ]
  },
  {
   "cell_type": "markdown",
   "metadata": {
    "deletable": false,
    "editable": false,
    "nbgrader": {
     "cell_type": "markdown",
     "checksum": "e46f54c7f81d88bbc950b0fae14c4ca5",
     "grade": false,
     "grade_id": "cell-3419fd3bc663d7cc",
     "locked": true,
     "schema_version": 3,
     "solution": false,
     "task": false
    }
   },
   "source": [
    "---\n",
    "### 4.1 Read relevance labels\n",
    "\n",
    "Let's take a look at the `qrels.text` file, which contains the ground truth relevance scores. The relevance labels for CACM are binary - either 0 or 1. \n"
   ]
  },
  {
   "cell_type": "code",
   "execution_count": 57,
   "metadata": {
    "deletable": false,
    "editable": false,
    "nbgrader": {
     "cell_type": "code",
     "checksum": "6c11025f5a222796f2882c73c1634799",
     "grade": false,
     "grade_id": "cell-6b738366059dde9e",
     "locked": true,
     "schema_version": 3,
     "solution": false,
     "task": false
    }
   },
   "outputs": [
    {
     "name": "stdout",
     "output_type": "stream",
     "text": [
      "01 1410  0 0\r\n",
      "01 1572  0 0\r\n",
      "01 1605  0 0\r\n",
      "01 2020  0 0\r\n",
      "01 2358  0 0\r\n",
      "02 2434  0 0\r\n",
      "02 2863  0 0\r\n",
      "02 3078  0 0\r\n",
      "03 1134  0 0\r\n",
      "03 1613  0 0\r\n"
     ]
    }
   ],
   "source": [
    "!head ./datasets/qrels.text"
   ]
  },
  {
   "cell_type": "markdown",
   "metadata": {
    "deletable": false,
    "editable": false,
    "nbgrader": {
     "cell_type": "markdown",
     "checksum": "7ce95245c1597183320d7254afde5c8e",
     "grade": false,
     "grade_id": "cell-10e16bff2753ffbb",
     "locked": true,
     "schema_version": 3,
     "solution": false,
     "task": false
    }
   },
   "source": [
    "---\n",
    "\n",
    "The first column is the query_id and the second column is the document_id. We can safely ignore the 3rd and 4th columns."
   ]
  },
  {
   "cell_type": "code",
   "execution_count": 58,
   "metadata": {
    "deletable": false,
    "nbgrader": {
     "cell_type": "code",
     "checksum": "000c6d59dce08dba0ba1e8d691dbbc2e",
     "grade": false,
     "grade_id": "cell-ee5253a4ef602fce",
     "locked": false,
     "schema_version": 3,
     "solution": true,
     "task": false
    }
   },
   "outputs": [],
   "source": [
    "def read_qrels():\n",
    "    obj = {}\n",
    "    table = np.loadtxt('./datasets/qrels.text', dtype=int)[:, 0:2]\n",
    "    for (qid, did) in table:\n",
    "        qid = str(qid)\n",
    "        if qid not in obj:\n",
    "            obj[qid] = [did]\n",
    "        else:\n",
    "            obj[qid].append(did)\n",
    "    return obj"
   ]
  },
  {
   "cell_type": "code",
   "execution_count": 59,
   "metadata": {
    "deletable": false,
    "editable": false,
    "nbgrader": {
     "cell_type": "code",
     "checksum": "d60caeba85c2a97d2211184a5ae91fd1",
     "grade": false,
     "grade_id": "cell-72215605fbe24f65",
     "locked": true,
     "schema_version": 3,
     "solution": false,
     "task": false
    }
   },
   "outputs": [],
   "source": [
    "#### Function check\n",
    "qrels = read_qrels()\n",
    "\n",
    "assert len(qrels) == 52, \"There should be 52 queries with relevance judgements\"\n",
    "assert sum(len(j) for j in qrels.values()) == 796, \"There should be a total of 796 Relevance Judgements\"\n",
    "\n",
    "assert np.min(np.array([len(j) for j in qrels.values()])) == 1\n",
    "assert np.max(np.array([len(j) for j in qrels.values()])) == 51\n",
    "\n",
    "####"
   ]
  },
  {
   "cell_type": "markdown",
   "metadata": {
    "deletable": false,
    "editable": false,
    "nbgrader": {
     "cell_type": "markdown",
     "checksum": "6c9e7428a52e291a2cdf92a379730d4c",
     "grade": false,
     "grade_id": "cell-176a6fb2939d0420",
     "locked": true,
     "schema_version": 3,
     "solution": false,
     "task": false
    }
   },
   "source": [
    "---\n",
    "**Note:** For a given query `query_id`, you can assume that documents *not* in `qrels[query_id]` are not relevant to `query_id`. \n"
   ]
  },
  {
   "cell_type": "markdown",
   "metadata": {
    "deletable": false,
    "editable": false,
    "nbgrader": {
     "cell_type": "markdown",
     "checksum": "b26a818c7b4f7ad490e00b35ea0edd69",
     "grade": false,
     "grade_id": "cell-bd8341b72cdd89bb",
     "locked": true,
     "schema_version": 3,
     "solution": false,
     "task": false
    }
   },
   "source": [
    "---\n",
    "### 4.2 Precision (7 points)\n",
    "Implement the `precision@k` metric:"
   ]
  },
  {
   "cell_type": "code",
   "execution_count": 60,
   "metadata": {
    "deletable": false,
    "nbgrader": {
     "cell_type": "code",
     "checksum": "43dea1979ebdec24ffcfeff71c670433",
     "grade": false,
     "grade_id": "cell-494bd0cce108ed67",
     "locked": false,
     "schema_version": 3,
     "solution": true,
     "task": false
    }
   },
   "outputs": [],
   "source": [
    "# TODO: Implement this! (7 points)\n",
    "def precision_k(results, relevant_docs, k):\n",
    "    \"\"\"\n",
    "        Compute Precision@K\n",
    "        Input: \n",
    "            results: A sorted list of 2-tuples (document_id, score), \n",
    "                    with the most relevant document in the first position\n",
    "            relevant_docs: A set of relevant documents. \n",
    "            k: the cut-off\n",
    "        Output: Precision@K\n",
    "    \"\"\"\n",
    "    if k > len(results):\n",
    "        k = len(results)\n",
    "    res = set([x[0] for x in results[0:k]])\n",
    "    rel = set(relevant_docs)\n",
    "    return sum([int(r) in rel for r in res])/k"
   ]
  },
  {
   "cell_type": "code",
   "execution_count": 61,
   "metadata": {
    "deletable": false,
    "editable": false,
    "nbgrader": {
     "cell_type": "code",
     "checksum": "9222e35582b1840ffb60fd02fb0b60c3",
     "grade": true,
     "grade_id": "cell-e7ff0d91c319ca64",
     "locked": true,
     "points": 7,
     "schema_version": 3,
     "solution": false,
     "task": false
    }
   },
   "outputs": [
    {
     "name": "stdout",
     "output_type": "stream",
     "text": [
      "query: What articles exist which deal with TSS (Time Sharing System), an\n",
      "operating system for IBM computers?\n",
      "precision@10 = 0.2\n"
     ]
    }
   ],
   "source": [
    "\n",
    "#### Function check\n",
    "qid = queries[0][0]\n",
    "qtext = queries[0][1]\n",
    "print(f'query:{qtext}')\n",
    "results = bm25_search(qtext, 2)\n",
    "precision = precision_k(results, qrels[qid], 10)\n",
    "print(f'precision@10 = {precision}')\n",
    "####"
   ]
  },
  {
   "cell_type": "markdown",
   "metadata": {
    "deletable": false,
    "editable": false,
    "nbgrader": {
     "cell_type": "markdown",
     "checksum": "8fd3b3998197c7097a40348500affb68",
     "grade": false,
     "grade_id": "cell-afd95f865bc7191e",
     "locked": true,
     "schema_version": 3,
     "solution": false,
     "task": false
    }
   },
   "source": [
    "---\n",
    "### 4.3 Recall (7 points)\n",
    "Implement the `recall@k` metric:"
   ]
  },
  {
   "cell_type": "code",
   "execution_count": 62,
   "metadata": {
    "deletable": false,
    "nbgrader": {
     "cell_type": "code",
     "checksum": "b2020e5741ae03b3fe35817ed8f4ccaa",
     "grade": false,
     "grade_id": "cell-c323fc8c3f8a7cf8",
     "locked": false,
     "schema_version": 3,
     "solution": true,
     "task": false
    }
   },
   "outputs": [],
   "source": [
    "# TODO: Implement this! (7 points)\n",
    "def recall_k(results, relevant_docs, k):\n",
    "    \"\"\"\n",
    "        Compute Recall@K\n",
    "        Input: \n",
    "            results: A sorted list of 2-tuples (document_id, score), with the most relevant document in the first position\n",
    "            relevant_docs: A set of relevant documents. \n",
    "            k: the cut-off\n",
    "        Output: Recall@K\n",
    "    \"\"\"\n",
    "    res = set([x[0] for x in results[0:k]])\n",
    "    rel = set(relevant_docs)\n",
    "    return sum([int(r) in rel for r in res])/len(relevant_docs)"
   ]
  },
  {
   "cell_type": "code",
   "execution_count": 63,
   "metadata": {
    "deletable": false,
    "editable": false,
    "nbgrader": {
     "cell_type": "code",
     "checksum": "56b6e0b8522f8b2dffbfb3206b2efa84",
     "grade": true,
     "grade_id": "cell-b25172161aef165c",
     "locked": true,
     "points": 7,
     "schema_version": 3,
     "solution": false,
     "task": false
    }
   },
   "outputs": [
    {
     "name": "stdout",
     "output_type": "stream",
     "text": [
      "query: SETL, Very High Level Languages\n",
      "recall@10 = 0.3157894736842105\n"
     ]
    }
   ],
   "source": [
    "#### Function check\n",
    "qid = queries[10][0]\n",
    "qtext = queries[10][1]\n",
    "print(f'query:{qtext}')\n",
    "results = bm25_search(qtext, 2)\n",
    "recall = recall_k(results, qrels[qid], 10)\n",
    "print(f'recall@10 = {recall}')\n",
    "####"
   ]
  },
  {
   "cell_type": "markdown",
   "metadata": {
    "deletable": false,
    "editable": false,
    "nbgrader": {
     "cell_type": "markdown",
     "checksum": "b3d3c7bd1cd977cd07ef5df7d3fbf159",
     "grade": false,
     "grade_id": "cell-77fd2e7a39a74739",
     "locked": true,
     "schema_version": 3,
     "solution": false,
     "task": false
    }
   },
   "source": [
    "---\n",
    "### 4.4 Mean Average Precision (13 points)\n",
    "Implement the `map` metric:"
   ]
  },
  {
   "cell_type": "code",
   "execution_count": 119,
   "metadata": {
    "deletable": false,
    "nbgrader": {
     "cell_type": "code",
     "checksum": "aae2c62f2ffd76f5b6c004e9519b9f14",
     "grade": false,
     "grade_id": "cell-e50925fa9093a30d",
     "locked": false,
     "schema_version": 3,
     "solution": true,
     "task": false
    }
   },
   "outputs": [],
   "source": [
    "# TODO: Implement this! (12 points)\n",
    "def average_precision(results, relevant_docs):\n",
    "    \"\"\"\n",
    "        Compute Average Precision (for a single query - the results are \n",
    "        averaged across queries to get MAP in the next few cells)\n",
    "        Hint: You can use the recall_k and precision_k functions here!\n",
    "        Input: \n",
    "            results: A sorted list of 2-tuples (document_id, score), with the most \n",
    "                    relevant document in the first position\n",
    "            relevant_docs: A set of relevant documents. \n",
    "        Output: Average Precision\n",
    "    \"\"\"\n",
    "    N_relevant = len(relevant_docs)\n",
    "    relevant = []\n",
    "    numerator = 0 \n",
    "    for i, result in enumerate(results):\n",
    "        if result[0] in relevant_docs:\n",
    "            relevant.append(i)\n",
    "    numerator = np.sum([precision_k(results, relevant_docs, i + 1) for i in relevant])\n",
    "    AP = numerator\n",
    "    return  AP\n",
    "#     n = len(results)\n",
    "#     r = np.array([recall_k(results, relevant_docs, k) for k in range(1,n)])\n",
    "#     p = np.array([precision_k(results, relevant_docs, k) for k in range(1,n)])\n",
    "#     return np.sum(p[1:]*(r[1:]-r[:-1]))"
   ]
  },
  {
   "cell_type": "code",
   "execution_count": 120,
   "metadata": {
    "deletable": false,
    "editable": false,
    "nbgrader": {
     "cell_type": "code",
     "checksum": "3b00e147c2fa146fa59f179b7c9cab75",
     "grade": true,
     "grade_id": "cell-8a1f7ec98571e58b",
     "locked": true,
     "points": 13,
     "schema_version": 3,
     "solution": false,
     "task": false
    }
   },
   "outputs": [
    {
     "name": "stdout",
     "output_type": "stream",
     "text": [
      "query: computational complexity, intractability, class-complete reductions,\n",
      "algorithms and efficiency\n",
      "MAP = 0.0\n"
     ]
    }
   ],
   "source": [
    "#### Function check\n",
    "qid = queries[20][0]\n",
    "qtext = queries[20][1]\n",
    "print(f'query:{qtext}')\n",
    "results = bm25_search(qtext, 2)\n",
    "mean_ap = average_precision(results, qrels[qid])\n",
    "print(f'MAP = {mean_ap}')\n",
    "####"
   ]
  },
  {
   "cell_type": "markdown",
   "metadata": {
    "deletable": false,
    "editable": false,
    "nbgrader": {
     "cell_type": "markdown",
     "checksum": "36f85f45ef52d9467ba9a717d6d99ff2",
     "grade": false,
     "grade_id": "cell-1da18f0fe6f6d7be",
     "locked": true,
     "schema_version": 3,
     "solution": false,
     "task": false
    }
   },
   "source": [
    "---\n",
    "### 4.5 Expected Reciprocal Rank (13 points)\n",
    "Implement the `err` metric:"
   ]
  },
  {
   "cell_type": "code",
   "execution_count": 104,
   "metadata": {
    "deletable": false,
    "nbgrader": {
     "cell_type": "code",
     "checksum": "9ac94db728e23ea1f5dc0d509473c6fb",
     "grade": false,
     "grade_id": "cell-64262889f9b267ea",
     "locked": false,
     "schema_version": 3,
     "solution": true,
     "task": false
    }
   },
   "outputs": [],
   "source": [
    "# TODO: Implement this! (12 points)\n",
    "def err(results, relevant_docs):\n",
    "    \"\"\"\n",
    "        Compute the expected reciprocal rank.\n",
    "        Hint: https://dl.acm.org/doi/pdf/10.1145/1645953.1646033?download=true\n",
    "        Input: \n",
    "            results: A sorted list of 2-tuples (document_id, score), with the most \n",
    "                    relevant document in the first position\n",
    "            relevant_docs: A set of relevant documents. \n",
    "        Output: ERR\n",
    "        \n",
    "    \"\"\"\n",
    "    p = 1\n",
    "    err = 0\n",
    "    n = len(results)\n",
    "    rel = set(relevant_docs)\n",
    "    for i in range(len(results)):\n",
    "        R = (int(results[i][0]) in rel)/2\n",
    "        err += p*R/(i+1)\n",
    "        p *= 1-R\n",
    "    return err"
   ]
  },
  {
   "cell_type": "code",
   "execution_count": 105,
   "metadata": {
    "deletable": false,
    "editable": false,
    "nbgrader": {
     "cell_type": "code",
     "checksum": "b7d201de0990b69d5f38704668665d87",
     "grade": true,
     "grade_id": "cell-071e3970ff1afae4",
     "locked": true,
     "points": 13,
     "schema_version": 3,
     "solution": false,
     "task": false
    }
   },
   "outputs": [
    {
     "name": "stdout",
     "output_type": "stream",
     "text": [
      "query: I'd like to find articles describing the use of singular value decomposition\n",
      "in digital image processing.  Applications include finding approximations\n",
      "to the original image and restoring images that are subject to noise. An\n",
      "article on the subject is H.C. Andrews and C.L. Patterson \"Outer product\n",
      "expansions and their uses in digital image processing\", American Mathematical\n",
      "Monthly, vol. 82.\n",
      "ERR = 0.625\n"
     ]
    }
   ],
   "source": [
    "#### Function check\n",
    "qid = queries[30][0]\n",
    "qtext = queries[30][1]\n",
    "print(f'query:{qtext}')\n",
    "results = bm25_search(qtext, 2)\n",
    "ERR = err(results, qrels[qid])\n",
    "print(f'ERR = {ERR}')\n",
    "####"
   ]
  },
  {
   "cell_type": "markdown",
   "metadata": {
    "deletable": false,
    "editable": false,
    "nbgrader": {
     "cell_type": "markdown",
     "checksum": "5bd94caf77cfa5f34675df758d91002d",
     "grade": false,
     "grade_id": "cell-43709a765f353946",
     "locked": true,
     "schema_version": 3,
     "solution": false,
     "task": false
    }
   },
   "source": [
    "---\n",
    "### 4.6 Evaluate Search Functions\n",
    "\n",
    "Let's define some metrics@k using [partial functions](https://docs.python.org/3/library/functools.html#functools.partial)"
   ]
  },
  {
   "cell_type": "code",
   "execution_count": 106,
   "metadata": {
    "deletable": false,
    "editable": false,
    "nbgrader": {
     "cell_type": "code",
     "checksum": "49ccc158e5fb7340ace55e90eeb9d62a",
     "grade": false,
     "grade_id": "cell-dab560e18e340da8",
     "locked": true,
     "schema_version": 3,
     "solution": false,
     "task": false
    }
   },
   "outputs": [],
   "source": [
    "#### metrics@k functions\n",
    "\n",
    "recall_at_1 = partial(recall_k, k=1)\n",
    "recall_at_5 = partial(recall_k, k=5)\n",
    "recall_at_10 = partial(recall_k, k=10)\n",
    "precision_at_1 = partial(precision_k, k=1)\n",
    "precision_at_5 = partial(precision_k, k=5)\n",
    "precision_at_10 = partial(precision_k, k=10)\n",
    "\n",
    "\n",
    "list_of_metrics = [\n",
    "    (\"ERR\", err),\n",
    "    (\"MAP\", average_precision),\n",
    "    (\"Recall@1\",recall_at_1),\n",
    "    (\"Recall@5\", recall_at_5),\n",
    "    (\"Recall@10\", recall_at_10),\n",
    "    (\"Precision@1\", precision_at_1),\n",
    "    (\"Precision@5\", precision_at_5),\n",
    "    (\"Precision@10\", precision_at_10)]\n",
    "####"
   ]
  },
  {
   "cell_type": "markdown",
   "metadata": {
    "deletable": false,
    "editable": false,
    "nbgrader": {
     "cell_type": "markdown",
     "checksum": "fb541002c03221b453b8936290020ea5",
     "grade": false,
     "grade_id": "cell-580a2bdc66d03b47",
     "locked": true,
     "schema_version": 3,
     "solution": false,
     "task": false
    }
   },
   "source": [
    "---\n",
    "\n",
    "The following function evaluates a `search_fn` using the `metric_fn`. Note that the final number is averaged over all the queries"
   ]
  },
  {
   "cell_type": "code",
   "execution_count": 107,
   "metadata": {},
   "outputs": [],
   "source": [
    "#### Evaluate a search function\n",
    "\n",
    "list_of_search_fns = [\n",
    "    (\"BOW\", bow_search),\n",
    "    (\"TF-IDF\", tfidf_search),\n",
    "    (\"NaiveQL\", naive_ql_search),\n",
    "    (\"QL\", ql_search),\n",
    "    (\"BM25\", bm25_search)\n",
    "]\n",
    "\n",
    "def evaluate_search_fn(search_fn, metric_fns, index_set=None):\n",
    "    # build a dict query_id -> query \n",
    "    queries_by_id = dict((q[0], q[1]) for q in queries)\n",
    "    \n",
    "    metrics = {}\n",
    "    for metric, metric_fn in metric_fns:\n",
    "        metrics[metric] = np.zeros(len(qrels), dtype=np.float32)\n",
    "    \n",
    "    for i, (query_id, relevant_docs) in enumerate(qrels.items()):\n",
    "        query = queries_by_id[query_id]\n",
    "        if index_set:\n",
    "            results = search_fn(query, index_set)\n",
    "        else:\n",
    "            results = search_fn(query)\n",
    "        \n",
    "        for metric, metric_fn in metric_fns:\n",
    "            metrics[metric][i] = metric_fn(results, relevant_docs)\n",
    "\n",
    "    \n",
    "    \n",
    "    final_dict = {}\n",
    "    for metric, metric_vals in metrics.items():\n",
    "        final_dict[metric] = metric_vals.mean()\n",
    "    \n",
    "    return final_dict\n",
    "####"
   ]
  },
  {
   "cell_type": "markdown",
   "metadata": {
    "deletable": false,
    "editable": false,
    "nbgrader": {
     "cell_type": "markdown",
     "checksum": "6ea67534f74a8f81e1f504794f641709",
     "grade": false,
     "grade_id": "cell-b156d83a0649cbb4",
     "locked": true,
     "schema_version": 3,
     "solution": false,
     "task": false
    }
   },
   "source": [
    "## Section 5: Analysis (30 points) <a class=\"anchor\" id=\"analysis\"></a>\n",
    "\n",
    "[Back to Part 1](#part1)\n",
    "\n",
    "In the final section of Part1, we will compare the different term-based IR algorithms and different preprocessing configurations and analyze their advantages and disadvantages.\n",
    "\n",
    "### Section 5.1: Plot (20 points)\n",
    "\n",
    "First, gather the results. The results should consider the index set, the different search functions and different metrics. Plot the results in bar charts, per metric, with clear labels.\n",
    "\n",
    "**Rubric:**\n",
    "- Each Metric is plotted: 7 points\n",
    "- Each Method is plotted: 7 points\n",
    "- Clear titles, x label, y labels and legends (if applicable): 6 points"
   ]
  },
  {
   "cell_type": "code",
   "execution_count": 108,
   "metadata": {
    "deletable": false,
    "nbgrader": {
     "cell_type": "code",
     "checksum": "7e2588a925d13ddf588abe8311dc9cfc",
     "grade": true,
     "grade_id": "cell-46fda42a25863a04",
     "locked": false,
     "points": 20,
     "schema_version": 3,
     "solution": true,
     "task": false
    }
   },
   "outputs": [
    {
     "data": {
      "image/png": "[encoded data removed]",
      "text/plain": [
       "<Figure size 864x432 with 1 Axes>"
      ]
     },
     "metadata": {
      "needs_background": "light"
     },
     "output_type": "display_data"
    },
    {
     "data": {
      "image/png": "[encoded data removed]",
      "text/plain": [
       "<Figure size 864x432 with 1 Axes>"
      ]
     },
     "metadata": {
      "needs_background": "light"
     },
     "output_type": "display_data"
    }
   ],
   "source": [
    "results = []\n",
    "for i in [1,2]:\n",
    "    r = []\n",
    "    for (s_name, s_fn) in list_of_search_fns:\n",
    "        r.append((s_name, evaluate_search_fn(s_fn, list_of_metrics, index_set=i)))\n",
    "    results.append(r)\n",
    "\n",
    "import pandas as pd\n",
    "index = [x[0] for x in results[0]]\n",
    "data = {}\n",
    "\n",
    "for r in range(2):\n",
    "    for k in results[0][0][1].keys():\n",
    "        data[k] = [x[1][k] for x in results[r]]\n",
    "    df = pd.DataFrame(data, index)\n",
    "    df.T.plot.bar(figsize=(12,6), title=f\"Index Set {r+1}\")"
   ]
  },
  {
   "cell_type": "markdown",
   "metadata": {
    "deletable": false,
    "editable": false,
    "nbgrader": {
     "cell_type": "markdown",
     "checksum": "e88c444a0acf4e398c65e289169b75f7",
     "grade": false,
     "grade_id": "cell-8aabe3bcf265deb0",
     "locked": true,
     "points": 10,
     "schema_version": 3,
     "solution": false,
     "task": true
    }
   },
   "source": [
    "---\n",
    "### Section 5.2: Summary (10 points)\n",
    "Write a summary of what you observe in the results.\n",
    "Your summary should compare results across the 2 indices and the methods being used. State what you expected to see in the results, followed by either supporting evidence *or* justify why the results did not support your expectations.      "
   ]
  },
  {
   "cell_type": "markdown",
   "metadata": {},
   "source": [
    "Write your answer here!"
   ]
  },
  {
   "cell_type": "markdown",
   "metadata": {
    "deletable": false,
    "editable": false,
    "nbgrader": {
     "cell_type": "markdown",
     "checksum": "b3eb77be74eecca205fc7b47316d1627",
     "grade": false,
     "grade_id": "cell-bb60dd5c092d0f2e",
     "locked": true,
     "schema_version": 3,
     "solution": false,
     "task": false
    }
   },
   "source": [
    "---\n",
    "---\n",
    "# Part 2: Semantic-based Matching (85 points) <a class=\"anchor\" id=\"part2\"></a>\n",
    "\n",
    "[Back to top](#top)\n",
    "\n",
    "We will now experiment with methods that go beyond lexical methods like TF-IDF, which operate at the word level and are high dimensional and sparse, and look at methods which constructs low dimensional dense representations of queries and documents. \n",
    "\n",
    "Since these low-dimensional methods have a higher time complexity, they are typically used in conjunction with methods like BM-25. That is, instead of searching through potentially million documents to find matches using low dimensional vectors, a list of K documents are retrieved using BM25, and then **re-ranked** using the other method. This is the method that is going to be applied in the following exercises. \n",
    "\n",
    "LSI/LDA takes documents that are similar on a semantic level - for instance, if they are describing the same topic - and projects them into nearby vectors, despite having low lexical overlap.\n",
    "\n",
    "In this assignment, you will use `gensim` to create LSI/LDA models and use them in re-ranking. \n",
    "\n",
    "**Note**: The following exercises only uses `doc_repr_2` and `config_2`\n",
    "\n",
    "Table of contents:\n",
    "- [Section 6: LSI](#lsi) (15 points)\n",
    "- [Section 7: LDA](#lda) (10 points)\n",
    "- [Section 8: Word2Vec/Doc2Vec](#2vec) (20 points)\n",
    "- [Section 8: Re-ranking](#reranking) (10 points)\n",
    "- [Section 9: Re-ranking Evaluation](#reranking_eval) (30 points)"
   ]
  },
  {
   "cell_type": "markdown",
   "metadata": {
    "deletable": false,
    "editable": false,
    "nbgrader": {
     "cell_type": "markdown",
     "checksum": "f7c7b2cab82f576ed0acf836ca57171c",
     "grade": false,
     "grade_id": "cell-6b2c81e7a8abd180",
     "locked": true,
     "schema_version": 3,
     "solution": false,
     "task": false
    }
   },
   "source": [
    "---\n",
    "## Section 6: Latent Semantic Indexing (LSI) (15 points) <a class=\"anchor\" id=\"lsi\"></a>\n",
    "\n",
    "[Back to Part 2](#part2)\n",
    "\n",
    "LSI is one of the methods to embed the queries and documents into vectors. It is based on a method similar to Principal Component Analysis (PCA) for obtaining a dense concept matrix out of the sparse term-document matrix.\n",
    "\n",
    "See [wikipedia](https://en.wikipedia.org/wiki/Latent_semantic_analysis), particularly [#Mathematics_of_LSI](https://en.wikipedia.org/wiki/Latent_semantic_analysis#Mathematics_of_LSI)."
   ]
  },
  {
   "cell_type": "code",
   "execution_count": 71,
   "metadata": {
    "deletable": false,
    "editable": false,
    "nbgrader": {
     "cell_type": "code",
     "checksum": "c17ee75319cb517e2bf48ec3d9efc329",
     "grade": false,
     "grade_id": "cell-59913daee47f680d",
     "locked": true,
     "schema_version": 3,
     "solution": false,
     "task": false
    }
   },
   "outputs": [],
   "source": [
    "from gensim.corpora import Dictionary\n",
    "from gensim.models import LdaModel, LsiModel, Word2Vec\n",
    "from gensim.models.doc2vec import Doc2Vec, TaggedDocument\n",
    "from gensim import downloader as g_downloader\n",
    "# gensim uses logging, so set it up \n",
    "import logging\n",
    "logging.basicConfig(format='%(asctime)s : %(levelname)s : %(message)s', level=logging.INFO)"
   ]
  },
  {
   "cell_type": "markdown",
   "metadata": {
    "deletable": false,
    "editable": false,
    "nbgrader": {
     "cell_type": "markdown",
     "checksum": "5fce140c546759b54a9fc060901ae77c",
     "grade": false,
     "grade_id": "cell-3644faff4976598a",
     "locked": true,
     "schema_version": 3,
     "solution": false,
     "task": false
    }
   },
   "source": [
    "---\n",
    "### Section 6.1: Cosine Similarity (5 points)<a class=\"anchor\" id=\"cosing_sim\"></a>\n",
    "Before we begin, let us first define our method of similarity for the LSI model, the cosine similarity:\n",
    "\n",
    "$$\\text{similarity} = \\cos(\\theta) = {\\mathbf{A} \\cdot \\mathbf{B} \\over \\|\\mathbf{A}\\| \\|\\mathbf{B}\\|} = \\frac{ \\sum\\limits_{i=1}^{n}{A_i  B_i} }{ \\sqrt{\\sum\\limits_{i=1}^{n}{A_i^2}}  \\sqrt{\\sum\\limits_{i=1}^{n}{B_i^2}} }$$\n",
    "\n",
    "Since we are using gensim, the types of vectors returned by their classes are of the form defined below (they are not just simple vectors):"
   ]
  },
  {
   "cell_type": "code",
   "execution_count": 72,
   "metadata": {
    "deletable": false,
    "editable": false,
    "nbgrader": {
     "cell_type": "code",
     "checksum": "4e340e1a1d546f430c018fd0760e707a",
     "grade": false,
     "grade_id": "cell-3995a50f951314d5",
     "locked": true,
     "schema_version": 3,
     "solution": false,
     "task": false
    }
   },
   "outputs": [],
   "source": [
    "# 1, 2, 3 are either latent dimensions (LSI), or topics (LDA)\n",
    "# The second value in each tuple is a number (LSI) or a probability (LDA)  \n",
    "example_vec_1 = [(1, 0.2), (2, 0.3), (3, 0.4)]\n",
    "example_vec_2 = [(1, 0.2), (2, 0.7), (3, 0.4)]"
   ]
  },
  {
   "cell_type": "markdown",
   "metadata": {
    "deletable": false,
    "editable": false,
    "nbgrader": {
     "cell_type": "markdown",
     "checksum": "20832fd4f579f49ae204b0efee02edd1",
     "grade": false,
     "grade_id": "cell-5e54d581858dc8f7",
     "locked": true,
     "schema_version": 3,
     "solution": false,
     "task": false
    }
   },
   "source": [
    "---\n",
    "**Implementation (2+3 points):**\n",
    "Now, implement the `dot product` operation on these types of vectors and using this operator, implement the `cosine similarity` (don't forget: two functions to implement!):"
   ]
  },
  {
   "cell_type": "code",
   "execution_count": 73,
   "metadata": {
    "deletable": false,
    "nbgrader": {
     "cell_type": "code",
     "checksum": "06a712ee75fc213a21c5f0067fd8fe28",
     "grade": false,
     "grade_id": "cell-0e8189f5f93de33f",
     "locked": false,
     "schema_version": 3,
     "solution": true,
     "task": false
    }
   },
   "outputs": [],
   "source": [
    "def dot(vec_1,vec_2): \n",
    "    \"\"\"\n",
    "        vec_1 and vec_2 are of the form: [(int, float), (int, float), ...]\n",
    "        Return the dot product of two such vectors, computed only on the floats\n",
    "        You can assume that the lengths of the vectors are the same, and the dimensions are aligned \n",
    "            i.e you won't get: vec_1 = [(1, 0.2)] ; vec_2 = [(2, 0.3)] \n",
    "                                (dimensions are unaligned and lengths are different)\n",
    "    \"\"\"\n",
    "    ar_1=np.array(vec_1)[:,1]\n",
    "    ar_2=np.array(vec_2)[:,1]\n",
    "    combined=np.dot(ar_1,ar_2)\n",
    "    return combined\n",
    "\n",
    "\n",
    "# TODO: Implement this! (3 points)\n",
    "def cosine_sim(vec_1, vec_2):\n",
    "    d = dot(vec_1,vec_2)\n",
    "    ar_1=np.array(vec_1)[:,1]\n",
    "    ar_2=np.array(vec_2)[:,1]\n",
    "    squar_1=np.sqrt(np.sum(np.square(ar_1)))\n",
    "    squar_2=np.sqrt(np.sum(np.square(ar_2)))\n",
    "    if np.dot(squar_1,squar_2)==0:\n",
    "        return 0\n",
    "    else:\n",
    "        return d/(np.dot(squar_1,squar_2))"
   ]
  },
  {
   "cell_type": "code",
   "execution_count": 74,
   "metadata": {
    "deletable": false,
    "editable": false,
    "nbgrader": {
     "cell_type": "code",
     "checksum": "d22a4a7325ba7815a808390388f534a1",
     "grade": true,
     "grade_id": "cell-b25d04ed6b79fd35",
     "locked": true,
     "points": 2,
     "schema_version": 3,
     "solution": false,
     "task": false
    }
   },
   "outputs": [
    {
     "name": "stdout",
     "output_type": "stream",
     "text": [
      "vectors: ([(1, 0.2), (2, 0.3), (3, 0.4)], [(1, 0.2), (2, 0.7), (3, 0.4)])\n",
      "dot product = 0.41000000000000003\n",
      "cosine similarity = 0.9165587597202866\n"
     ]
    }
   ],
   "source": [
    "##### Function check\n",
    "print(f'vectors: {(example_vec_1,example_vec_2)}')\n",
    "print(f'dot product = {dot(example_vec_1,example_vec_2)}')\n",
    "print(f'cosine similarity = {cosine_sim(example_vec_1,example_vec_2)}')\n",
    "##### "
   ]
  },
  {
   "cell_type": "code",
   "execution_count": 75,
   "metadata": {
    "deletable": false,
    "editable": false,
    "nbgrader": {
     "cell_type": "code",
     "checksum": "0744131724ce76b1b3f163b4bae5f700",
     "grade": true,
     "grade_id": "cell-ae3c4466866ace77",
     "locked": true,
     "points": 3,
     "schema_version": 3,
     "solution": false,
     "task": false
    }
   },
   "outputs": [],
   "source": [
    "#### Please do not change this. This cell is used for grading."
   ]
  },
  {
   "cell_type": "markdown",
   "metadata": {
    "deletable": false,
    "editable": false,
    "nbgrader": {
     "cell_type": "markdown",
     "checksum": "9b123f599f9ea372d14676e23f1c6a52",
     "grade": false,
     "grade_id": "cell-4b2534067c44fcdf",
     "locked": true,
     "schema_version": 3,
     "solution": false,
     "task": false
    }
   },
   "source": [
    "---\n",
    "### Section 6.2: LSI Retrieval (10 points)<a class=\"anchor\" id=\"lsi_retrieval\"></a>\n",
    "LSI retrieval is simply ranking the documents based on their cosine similarity to the query vector.\n",
    "First, let's write a parent class for vector-based retrieval models:"
   ]
  },
  {
   "cell_type": "code",
   "execution_count": 76,
   "metadata": {
    "deletable": false,
    "editable": false,
    "nbgrader": {
     "cell_type": "code",
     "checksum": "ecc111d58182570e2252b8ef5d6b02af",
     "grade": false,
     "grade_id": "cell-937936cea18711ee",
     "locked": true,
     "schema_version": 3,
     "solution": false,
     "task": false
    }
   },
   "outputs": [],
   "source": [
    "class VectorSpaceRetrievalModel:\n",
    "    \"\"\"\n",
    "        Parent class for Dense Vector Retrieval models\n",
    "    \"\"\"\n",
    "    def __init__(self, doc_repr):\n",
    "        \"\"\"\n",
    "            document_collection: \n",
    "                [\n",
    "                    (doc_id_1, [token 1, token 2, ...]), \n",
    "                    (doc_id_2, [token 1, token 2, ....]) \n",
    "                    ...\n",
    "                ]\n",
    "\n",
    "        \"\"\"\n",
    "        self.doc_repr = doc_repr\n",
    "        self.documents = [_[1] for _ in self.doc_repr]\n",
    "        \n",
    "        # construct a dictionary\n",
    "        self.dictionary = Dictionary(self.documents)\n",
    "        # Filter out words that occur less than 20 documents, or more than 50% of the documents.\n",
    "        self.dictionary.filter_extremes(no_below=10)\n",
    "        self.corpus = [self.dictionary.doc2bow(doc) for doc in self.documents]\n",
    "    \n",
    "        # Make a index to word dictionary.\n",
    "        temp = self.dictionary[0]  # This is only to \"load\" the dictionary.\n",
    "        self.id2word = self.dictionary.id2token\n",
    "        \n",
    "        # this is set by the train_model function\n",
    "        self.model = None\n",
    "        \n",
    "        \n",
    "    def vectorize_documents(self):\n",
    "        \"\"\"\n",
    "            Returns a doc_id -> vector dictionary\n",
    "        \"\"\"\n",
    "        vectors = {}\n",
    "        for (doc_id, _), cc in zip(self.doc_repr, self.corpus):\n",
    "            vectors[doc_id] = self.model[cc]\n",
    "        return vectors\n",
    "\n",
    "    def vectorize_query(self, query):\n",
    "        # Note the use of config_2 here!\n",
    "        query = process_text(query, **config_2)\n",
    "        query_vector = self.dictionary.doc2bow(query)\n",
    "        return self.model[query_vector]\n",
    "    \n",
    "    def train_model(self):\n",
    "        \"\"\"\n",
    "            Trains a model and sets the 'self.model' variable. \n",
    "            Make sure to use the variables created in the __init__ method.\n",
    "            e.g the variables which may be useful: {corpus, dictionary, id2word}\n",
    "        \"\"\"\n",
    "        raise NotImplementedError()"
   ]
  },
  {
   "cell_type": "markdown",
   "metadata": {
    "deletable": false,
    "editable": false,
    "nbgrader": {
     "cell_type": "markdown",
     "checksum": "ff161eefd9b81b768cd6361bc1a502b0",
     "grade": false,
     "grade_id": "cell-704a18c2f80cd60c",
     "locked": true,
     "schema_version": 3,
     "solution": false,
     "task": false
    }
   },
   "source": [
    "---\n",
    "**Implementation (5 points):**\n",
    "Implement the `train_model` method in the following class (note that this is only one line of code in `gensim`!). Ensure that the parameters defined in the `__init__` method are not changed, and are *used in the `train_method` function*. Normally, the hyperaparameter space will be searched using grid search / other methods - in this assignment we have provided the hyperparameters for you.\n",
    "\n",
    "The last two lines of code train an LSI model on the list of documents which have been stemmed, lower-cased and have stopwords removed. "
   ]
  },
  {
   "cell_type": "code",
   "execution_count": 77,
   "metadata": {
    "deletable": false,
    "nbgrader": {
     "cell_type": "code",
     "checksum": "0e90eedc27c248bc1ae050518a46a46c",
     "grade": false,
     "grade_id": "cell-307682c9089f15d6",
     "locked": false,
     "schema_version": 3,
     "solution": true,
     "task": false
    }
   },
   "outputs": [],
   "source": [
    "# TODO: Implement this! (5 points)\n",
    "class LsiRetrievalModel(VectorSpaceRetrievalModel):\n",
    "    def __init__(self, doc_repr):\n",
    "        super().__init__(doc_repr)\n",
    "        \n",
    "        self.num_topics = 100\n",
    "        self.chunksize = 2000\n",
    "    \n",
    "    def train_model(self):\n",
    "        # YOUR CODE HERE\n",
    "        self.model=LsiModel(self.corpus, id2word=self.id2word, num_topics=self.num_topics, chunksize=self.chunksize)"
   ]
  },
  {
   "cell_type": "code",
   "execution_count": 78,
   "metadata": {
    "deletable": false,
    "editable": false,
    "nbgrader": {
     "cell_type": "code",
     "checksum": "00399cfe13d60cb4beed1271e36004b0",
     "grade": true,
     "grade_id": "cell-5ce512650c1b2dfb",
     "locked": true,
     "points": 0,
     "schema_version": 3,
     "solution": false,
     "task": false
    }
   },
   "outputs": [
    {
     "name": "stderr",
     "output_type": "stream",
     "text": [
      "2022-02-27 13:43:10,446 : INFO : adding document #0 to Dictionary(0 unique tokens: [])\n",
      "2022-02-27 13:43:10,541 : INFO : built Dictionary(5937 unique tokens: ['-', 'algebra', 'intern', 'languag', 'preliminari']...) from 3204 documents (total 115969 corpus positions)\n",
      "2022-02-27 13:43:10,541 : INFO : Dictionary lifecycle event {'msg': \"built Dictionary(5937 unique tokens: ['-', 'algebra', 'intern', 'languag', 'preliminari']...) from 3204 documents (total 115969 corpus positions)\", 'datetime': '2022-02-27T13:43:10.541742', 'gensim': '4.1.2', 'python': '3.8.10 (default, Nov 26 2021, 20:14:08) \\n[GCC 9.3.0]', 'platform': 'Linux-5.13.0-30-generic-x86_64-with-glibc2.29', 'event': 'created'}\n",
      "2022-02-27 13:43:10,546 : INFO : discarding 4740 tokens: [('repeat', 8), ('glossari', 7), ('inspect', 8), ('uncol', 2), ('rung', 9), ('secant', 2), ('.', 1603), ('acceler', 6), ('diverg', 3), ('induc', 9)]...\n",
      "2022-02-27 13:43:10,547 : INFO : keeping 1197 tokens which were in no less than 10 and no more than 1602 (=50.0%) documents\n",
      "2022-02-27 13:43:10,549 : INFO : resulting dictionary: Dictionary(1197 unique tokens: ['-', 'algebra', 'intern', 'languag', 'preliminari']...)\n",
      "2022-02-27 13:43:10,599 : INFO : using serial LSI version on this node\n",
      "2022-02-27 13:43:10,600 : INFO : updating model with new documents\n",
      "2022-02-27 13:43:10,600 : INFO : preparing a new chunk of documents\n",
      "2022-02-27 13:43:10,626 : INFO : using 100 extra samples and 2 power iterations\n",
      "2022-02-27 13:43:10,628 : INFO : 1st phase: constructing (1197, 200) action matrix\n",
      "2022-02-27 13:43:10,647 : INFO : orthonormalizing (1197, 200) action matrix\n",
      "2022-02-27 13:43:10,745 : INFO : 2nd phase: running dense svd on (200, 2000) matrix\n",
      "2022-02-27 13:43:10,832 : INFO : computing the final decomposition\n",
      "2022-02-27 13:43:10,833 : INFO : keeping 100 factors (discarding 13.474% of energy spectrum)\n",
      "2022-02-27 13:43:10,846 : INFO : processed documents up to #2000\n",
      "2022-02-27 13:43:10,848 : INFO : topic #0(152.127): 0.741*\",\" + 0.342*\"-\" + 0.211*\"system\" + 0.204*\"program\" + 0.192*\"comput\" + 0.146*\"(\" + 0.127*\"languag\" + 0.108*\")\" + 0.084*\"gener\" + 0.083*\"data\"\n",
      "2022-02-27 13:43:10,849 : INFO : topic #1(60.600): 0.607*\"(\" + 0.434*\")\" + 0.366*\"algorithm\" + 0.300*\"-\" + -0.237*\",\" + -0.213*\"system\" + -0.132*\"comput\" + 0.096*\"[\" + -0.093*\"program\" + 0.084*\"])\"\n",
      "2022-02-27 13:43:10,851 : INFO : topic #2(57.438): -0.744*\"-\" + 0.452*\",\" + -0.263*\"system\" + 0.214*\"(\" + 0.166*\")\" + -0.107*\"time\" + -0.105*\"program\" + 0.094*\"algorithm\" + -0.068*\"comput\" + -0.067*\"share\"\n",
      "2022-02-27 13:43:10,852 : INFO : topic #3(48.370): -0.483*\"system\" + -0.375*\"program\" + -0.367*\"comput\" + 0.363*\"-\" + 0.308*\",\" + -0.212*\"(\" + -0.168*\")\" + -0.147*\"algorithm\" + 0.144*\"languag\" + -0.119*\"time\"\n",
      "2022-02-27 13:43:10,854 : INFO : topic #4(45.710): -0.489*\"comput\" + 0.475*\"languag\" + 0.428*\"program\" + -0.238*\"method\" + -0.141*\"problem\" + 0.121*\"system\" + 0.109*\")\" + -0.107*\"equat\" + -0.100*\"algorithm\" + 0.099*\"(\"\n",
      "2022-02-27 13:43:10,855 : INFO : preparing a new chunk of documents\n",
      "2022-02-27 13:43:10,891 : INFO : using 100 extra samples and 2 power iterations\n",
      "2022-02-27 13:43:10,892 : INFO : 1st phase: constructing (1197, 200) action matrix\n",
      "2022-02-27 13:43:10,916 : INFO : orthonormalizing (1197, 200) action matrix\n",
      "2022-02-27 13:43:11,037 : INFO : 2nd phase: running dense svd on (200, 1204) matrix\n",
      "2022-02-27 13:43:11,115 : INFO : computing the final decomposition\n",
      "2022-02-27 13:43:11,116 : INFO : keeping 100 factors (discarding 14.023% of energy spectrum)\n",
      "2022-02-27 13:43:11,121 : INFO : merging projections: (1197, 100) + (1197, 100)\n",
      "2022-02-27 13:43:11,208 : INFO : keeping 100 factors (discarding 8.172% of energy spectrum)\n",
      "2022-02-27 13:43:11,214 : INFO : processed documents up to #3204\n",
      "2022-02-27 13:43:11,218 : INFO : topic #0(225.136): 0.759*\",\" + 0.337*\"-\" + 0.196*\"system\" + 0.186*\"program\" + 0.166*\"comput\" + 0.139*\"(\" + 0.103*\")\" + 0.103*\"algorithm\" + 0.099*\"languag\" + 0.087*\"time\"\n",
      "2022-02-27 13:43:11,222 : INFO : topic #1(87.805): 0.613*\"-\" + -0.399*\",\" + 0.399*\"(\" + 0.326*\"algorithm\" + 0.293*\")\" + -0.129*\"system\" + -0.107*\"program\" + 0.085*\"method\" + 0.077*\"time\" + 0.062*\"1\"\n",
      "2022-02-27 13:43:11,225 : INFO : topic #2(81.909): 0.550*\"-\" + -0.434*\"(\" + 0.355*\"system\" + -0.321*\")\" + -0.291*\",\" + -0.266*\"algorithm\" + 0.146*\"program\" + 0.123*\"comput\" + 0.078*\"time\" + -0.064*\"[\"\n",
      "2022-02-27 13:43:11,229 : INFO : topic #3(72.433): -0.693*\"program\" + 0.339*\",\" + 0.279*\"-\" + -0.251*\"(\" + -0.221*\"system\" + -0.214*\"languag\" + -0.204*\")\" + -0.160*\"comput\" + -0.099*\"data\" + -0.056*\"execut\"\n",
      "2022-02-27 13:43:11,232 : INFO : topic #4(68.523): -0.673*\"system\" + 0.453*\"program\" + 0.254*\"languag\" + 0.212*\"-\" + -0.179*\"comput\" + -0.165*\"(\" + -0.121*\")\" + -0.115*\"model\" + 0.101*\",\" + -0.098*\"algorithm\"\n",
      "2022-02-27 13:43:11,235 : INFO : LsiModel lifecycle event {'msg': 'trained LsiModel(num_terms=1197, num_topics=100, decay=1.0, chunksize=2000) in 0.64s', 'datetime': '2022-02-27T13:43:11.235361', 'gensim': '4.1.2', 'python': '3.8.10 (default, Nov 26 2021, 20:14:08) \\n[GCC 9.3.0]', 'platform': 'Linux-5.13.0-30-generic-x86_64-with-glibc2.29', 'event': 'created'}\n"
     ]
    },
    {
     "data": {
      "text/plain": [
       "[(0, 0.015214325310009248),\n",
       " (1, -0.016250333681479857),\n",
       " (2, -0.0002061034012891096),\n",
       " (3, -0.001823027050748572),\n",
       " (4, -0.009467057005221841),\n",
       " (5, -0.004636336713297938),\n",
       " (6, 0.027082291765661293),\n",
       " (7, 0.016656090405367596),\n",
       " (8, -0.03173894215727048),\n",
       " (9, -0.0005299078485581261),\n",
       " (10, 0.0022850291180225536),\n",
       " (11, -0.017428007475724795),\n",
       " (12, 9.396358334008703e-05),\n",
       " (13, 0.0016869592198269596),\n",
       " (14, 0.004014862804873289),\n",
       " (15, 0.005915017664213791),\n",
       " (16, 0.0060031480411716865),\n",
       " (17, 0.0023002810485487288),\n",
       " (18, -0.018591846240435167),\n",
       " (19, 0.02048367219920165),\n",
       " (20, -0.009766454517602441),\n",
       " (21, -0.013520231831726393),\n",
       " (22, 0.048446249698358146),\n",
       " (23, 0.026096572695159904),\n",
       " (24, -0.009587548645813772),\n",
       " (25, -0.01311519667004013),\n",
       " (26, 0.00435389291938133),\n",
       " (27, 0.07448634088827596),\n",
       " (28, -0.061452443147939705),\n",
       " (29, 0.03295326914016954),\n",
       " (30, 0.045623880340899696),\n",
       " (31, 0.04524361934362722),\n",
       " (32, -0.07354674917180035),\n",
       " (33, 0.042989455923036615),\n",
       " (34, -0.0211436247685535),\n",
       " (35, 0.0666452158606877),\n",
       " (36, 0.03929865867185743),\n",
       " (37, -0.010451000158771172),\n",
       " (38, -0.06196541720940371),\n",
       " (39, 0.019603565266408593),\n",
       " (40, -0.043492729613109966),\n",
       " (41, -0.04075700427438566),\n",
       " (42, 0.026110352809269148),\n",
       " (43, 0.007726543103596562),\n",
       " (44, 0.021691502280626045),\n",
       " (45, 0.054624322357625966),\n",
       " (46, -0.01715265801331115),\n",
       " (47, 0.006591570980165063),\n",
       " (48, 0.018927326167026172),\n",
       " (49, 0.02969094850518331),\n",
       " (50, 0.015065646913030972),\n",
       " (51, 0.056293920100424354),\n",
       " (52, -0.009920553763975597),\n",
       " (53, -0.006922921261472339),\n",
       " (54, 0.03335823745242131),\n",
       " (55, 0.019428412182813975),\n",
       " (56, -0.02031753056431101),\n",
       " (57, -0.017076357562376732),\n",
       " (58, -0.007752289703952984),\n",
       " (59, 0.05321501719197355),\n",
       " (60, -0.009806480645666757),\n",
       " (61, 0.031515839373132494),\n",
       " (62, 0.04719569052997367),\n",
       " (63, 0.020425393894937763),\n",
       " (64, 0.045451547917706135),\n",
       " (65, 0.05061214276631229),\n",
       " (66, -0.006140465364671161),\n",
       " (67, -0.06649448756733171),\n",
       " (68, -0.01981776827321592),\n",
       " (69, -0.04679975663115856),\n",
       " (70, 0.04218872400917775),\n",
       " (71, -0.04033737600965005),\n",
       " (72, 0.029545722365062654),\n",
       " (73, 0.061130301202336104),\n",
       " (74, -0.07552938536876772),\n",
       " (75, 0.04516916424949157),\n",
       " (76, -0.0031381179180470405),\n",
       " (77, -0.01141034382801),\n",
       " (78, 0.04717439044097061),\n",
       " (79, -0.009810847189317719),\n",
       " (80, -0.04131547902876947),\n",
       " (81, -0.019316293438445147),\n",
       " (82, 0.04503137084954203),\n",
       " (83, -0.05098318652158061),\n",
       " (84, -0.023548959233884892),\n",
       " (85, 0.008224977340610128),\n",
       " (86, 0.017236599680838027),\n",
       " (87, -0.009838183356890134),\n",
       " (88, -0.06620745017074549),\n",
       " (89, 0.046109910804210286),\n",
       " (90, -0.05734905024930704),\n",
       " (91, 0.0632246599355275),\n",
       " (92, -0.03268514188047664),\n",
       " (93, -0.009250509891355726),\n",
       " (94, 0.005041729867514874),\n",
       " (95, -0.04922181241067605),\n",
       " (96, -0.009849428003352508),\n",
       " (97, 0.022663343377089654),\n",
       " (98, -0.017477030145086565),\n",
       " (99, -0.016798892021035947)]"
      ]
     },
     "execution_count": 78,
     "metadata": {},
     "output_type": "execute_result"
    }
   ],
   "source": [
    "##### Function check\n",
    "lsi = LsiRetrievalModel(doc_repr_2)\n",
    "lsi.train_model()\n",
    "\n",
    "# you can now get an LSI vector for a given query in the following way:\n",
    "lsi.vectorize_query(\"report\")\n",
    "##### "
   ]
  },
  {
   "cell_type": "markdown",
   "metadata": {
    "deletable": false,
    "editable": false,
    "nbgrader": {
     "cell_type": "markdown",
     "checksum": "7116bb9f576c5bb04934e1d59c51d729",
     "grade": false,
     "grade_id": "cell-4c5eeb557b4fca2f",
     "locked": true,
     "points": 5,
     "schema_version": 3,
     "solution": false,
     "task": true
    }
   },
   "source": [
    "\\#### Please do not change this. This cell is used for grading."
   ]
  },
  {
   "cell_type": "markdown",
   "metadata": {
    "deletable": false,
    "editable": false,
    "nbgrader": {
     "cell_type": "markdown",
     "checksum": "26e2ff3c413745e633d99f66c041d6b1",
     "grade": false,
     "grade_id": "cell-c4e50296cd17a555",
     "locked": true,
     "schema_version": 3,
     "solution": false,
     "task": false
    }
   },
   "source": [
    "---\n",
    "**Implementation (5 points):**\n",
    " Next, implement a basic ranking class for vector space retrieval (used for all semantic methods): "
   ]
  },
  {
   "cell_type": "code",
   "execution_count": 79,
   "metadata": {
    "deletable": false,
    "nbgrader": {
     "cell_type": "code",
     "checksum": "1a8389d2f0635c3405e2b0b27ed9f327",
     "grade": false,
     "grade_id": "cell-250515d288e80cdc",
     "locked": false,
     "schema_version": 3,
     "solution": true,
     "task": false
    }
   },
   "outputs": [],
   "source": [
    "# TODO: Implement this! (5 points)\n",
    "class DenseRetrievalRanker:\n",
    "    def __init__(self, vsrm, similarity_fn):\n",
    "        \"\"\"\n",
    "            vsrm: instance of `VectorSpaceRetrievalModel`\n",
    "            similarity_fn: function instance that takes in two vectors \n",
    "                            and returns a similarity score e.g cosine_sim defined earlier\n",
    "        \"\"\"\n",
    "        self.vsrm = vsrm\n",
    "        self.vectorized_documents = self.vsrm.vectorize_documents()\n",
    "        self.similarity_fn = similarity_fn\n",
    "    \n",
    "    def _compute_sim(self, query_vector):\n",
    "        \"\"\"\n",
    "            Compute the similarity of `query_vector` to documents in \n",
    "            `self.vectorized_documents` using `self.similarity_fn`\n",
    "            Returns a list of (doc_id, score) tuples\n",
    "        \"\"\"\n",
    "        tup=[]\n",
    "        for i in self.vectorized_documents:\n",
    "            \n",
    "            if np.array(self.vectorized_documents[i]).size==0 or  np.array(query_vector).size==0:\n",
    "                continue\n",
    "            \n",
    "            if np.array(self.vectorized_documents[i]).shape!=np.array(query_vector).shape:\n",
    "                continue\n",
    "            else:\n",
    "                scor=self.similarity_fn(self.vectorized_documents[i],query_vector)\n",
    "            tup.append((i,scor))\n",
    "        return tup\n",
    "    \n",
    "    def search(self, query):\n",
    "        scores = self._compute_sim(self.vsrm.vectorize_query(query))\n",
    "        scores.sort(key=lambda _:-_[1])\n",
    "        return scores"
   ]
  },
  {
   "cell_type": "code",
   "execution_count": 80,
   "metadata": {
    "deletable": false,
    "editable": false,
    "nbgrader": {
     "cell_type": "code",
     "checksum": "f237dd1ef6c1783c06797f4b514421f5",
     "grade": true,
     "grade_id": "cell-b73068b3e77a8e31",
     "locked": true,
     "points": 0,
     "schema_version": 3,
     "solution": false,
     "task": false
    }
   },
   "outputs": [
    {
     "data": {
      "text/plain": [
       "[('599', 0.7920354977118239),\n",
       " ('947', 0.5782514232994715),\n",
       " ('53', 0.49238616092194215),\n",
       " ('3160', 0.44626159882342603),\n",
       " ('1339', 0.445183047298596)]"
      ]
     },
     "execution_count": 80,
     "metadata": {},
     "output_type": "execute_result"
    }
   ],
   "source": [
    "##### Function check\n",
    "drm_lsi = DenseRetrievalRanker(lsi, cosine_sim)\n",
    "drm_lsi.search(\"report\")[:5]\n",
    "##### "
   ]
  },
  {
   "cell_type": "markdown",
   "metadata": {
    "deletable": false,
    "editable": false,
    "nbgrader": {
     "cell_type": "markdown",
     "checksum": "5b3f19fdcaa585d263706d5a26038799",
     "grade": false,
     "grade_id": "cell-034c755a6502b868",
     "locked": true,
     "points": 5,
     "schema_version": 3,
     "solution": false,
     "task": true
    }
   },
   "source": [
    "\\#### Please do not change this. This cell is used for grading."
   ]
  },
  {
   "cell_type": "markdown",
   "metadata": {
    "deletable": false,
    "editable": false,
    "nbgrader": {
     "cell_type": "markdown",
     "checksum": "dcafef6e037033c46304b914f7c78bdf",
     "grade": false,
     "grade_id": "cell-d1df23f497d5ed6b",
     "locked": true,
     "schema_version": 3,
     "solution": false,
     "task": false
    }
   },
   "source": [
    "---\n",
    "Now, you can test your LSI model in the following cell: try finding queries which are lexically different to documents, but semantically similar - does LSI work well for these queries?!"
   ]
  },
  {
   "cell_type": "code",
   "execution_count": 81,
   "metadata": {
    "deletable": false,
    "editable": false,
    "nbgrader": {
     "cell_type": "code",
     "checksum": "11734bc7674377b340ad51297a8e8bb5",
     "grade": false,
     "grade_id": "cell-efd1d08dfc04ec3e",
     "locked": true,
     "schema_version": 3,
     "solution": false,
     "task": false
    }
   },
   "outputs": [
    {
     "data": {
      "application/vnd.jupyter.widget-view+json": {
       "model_id": "118e280fbade4d08a1a0fc68c708f299",
       "version_major": 2,
       "version_minor": 0
      },
      "text/plain": [
       "Text(value='', description='Search Bar')"
      ]
     },
     "metadata": {},
     "output_type": "display_data"
    }
   ],
   "source": [
    "# test your LSI model\n",
    "search_fn = drm_lsi.search\n",
    "\n",
    "text = widgets.Text(description=\"Search Bar\", width=200)\n",
    "display(text)\n",
    "\n",
    "def make_results_2(query, search_fn):\n",
    "    results = []\n",
    "    for doc_id, score in search_fn(query):\n",
    "        highlight = highlight_text(docs_by_id[doc_id], query)\n",
    "        if len(highlight.strip()) == 0:\n",
    "            highlight = docs_by_id[doc_id]\n",
    "        results.append(ResultRow(doc_id, highlight, score))\n",
    "    return results\n",
    "\n",
    "def handle_submit_2(sender):\n",
    "    print(f\"Searching for: '{sender.value}' (SEARCH FN: {search_fn})\")\n",
    "    \n",
    "    results = make_results_2(sender.value, search_fn)\n",
    "    \n",
    "    # display only the top 5\n",
    "    results = results[:5]\n",
    "    \n",
    "    body = \"\"\n",
    "    for idx, r in enumerate(results):\n",
    "        body += f\"<li>Document #{r.doc_id}({r.score}): {r.snippet}</li>\"\n",
    "    display(HTML(f\"<ul>{body}</ul>\"))\n",
    "    \n",
    "\n",
    "text.on_submit(handle_submit_2)"
   ]
  },
  {
   "cell_type": "markdown",
   "metadata": {
    "deletable": false,
    "editable": false,
    "nbgrader": {
     "cell_type": "markdown",
     "checksum": "d074ce1ca48384cdda78742741c938be",
     "grade": false,
     "grade_id": "cell-3a86cef264d8f6cf",
     "locked": true,
     "schema_version": 3,
     "solution": false,
     "task": false
    }
   },
   "source": [
    "---\n",
    "## Section 7: Latent Dirichlet Allocation (LDA) (10 points) <a class=\"anchor\" id=\"lda\"></a>\n",
    "\n",
    "[Back to Part 2](#part2)\n",
    "\n",
    "The specifics of LDA is out of the scope of this assignment, but we will use the `gensim` implementation to perform search using LDA over our small document collection. The key thing to remember is that LDA, unlike LSI, outputs a topic **distribution**, not a vector. With that in mind, let's first define a similarity measure.\n"
   ]
  },
  {
   "cell_type": "markdown",
   "metadata": {
    "deletable": false,
    "editable": false,
    "nbgrader": {
     "cell_type": "markdown",
     "checksum": "db01092373b18f0c9dfed1bb17db4ad9",
     "grade": false,
     "grade_id": "cell-6b78ad22c2d60ba7",
     "locked": true,
     "schema_version": 3,
     "solution": false,
     "task": false
    }
   },
   "source": [
    "---\n",
    "### Section 7.1: Jenson-Shannon divergence (5 points) <a class=\"anchor\" id=\"js_sim\"></a>\n",
    "\n",
    "The Jenson-Shannon divergence is a symmetric and finite measure on two probability distributions (unlike the KL, which is neither). For identical distributions, the JSD is equal to 0, and since our code uses 0 as irrelevant and higher scores as relevant, we use `(1 - JSD)` as the score or 'similarity' in our setup\n",
    "\n",
    "**Note**: the JSD is bounded to \\[0,1\\] only if we use log base 2. So please ensure that you're using `np.log2` instead of `np.log`"
   ]
  },
  {
   "cell_type": "code",
   "execution_count": 82,
   "metadata": {
    "deletable": false,
    "nbgrader": {
     "cell_type": "code",
     "checksum": "a579e6cd7a24a3516bc9a84528b392d3",
     "grade": false,
     "grade_id": "cell-d2376a85a4841e98",
     "locked": false,
     "schema_version": 3,
     "solution": true,
     "task": false
    }
   },
   "outputs": [],
   "source": [
    "## TODO: Implement this! (5 points)\n",
    "def KL_divergence(p, q):\n",
    "    \"\"\" Compute KL divergence of two vectors, K(p || q).\"\"\"\n",
    "    return sum(p[i] * np.log2(p[i]/q[i]) for i in range(len(p)) if q[i] != 0 or q[i] != 0.0)\n",
    "\n",
    "def jenson_shannon_divergence(vec_1, vec_2, assert_prob=False):\n",
    "    \"\"\"\n",
    "        Computes the Jensen-Shannon divergence between two probability distributions. \n",
    "        NOTE: DO NOT RETURN 1 - JSD here, that is handled by the next function which is already implemented! \n",
    "        The inputs are *gensim* vectors - same as the vectors for the cosine_sim function\n",
    "        assert_prob is a flag that checks if the inputs are proper probability distributions \n",
    "            i.e they sum to 1 and are positive - use this to check your inputs if needed. \n",
    "                (This is optional to implement, but recommended - \n",
    "                you can the default to False to save a few ms off the runtime)\n",
    "    \"\"\"\n",
    "    \n",
    "    if not vec_1 or not vec_2:\n",
    "        return 0\n",
    "    vec_1=np.array(vec_1)[:,1]\n",
    "    vec_2=np.array(vec_2)[:,1]\n",
    "    if vec_1.size!=vec_2.size:\n",
    "        return 0\n",
    "    m = 0.5 * (vec_1 + vec_2)\n",
    "    return 0.5 * KL_divergence(vec_1, m) + 0.5 * KL_divergence(vec_2, m)\n",
    "    \n",
    "\n",
    "def jenson_shannon_sim(vec_1, vec_2, assert_prob=False):\n",
    "    return 1 - jenson_shannon_divergence(vec_1, vec_2)"
   ]
  },
  {
   "cell_type": "code",
   "execution_count": 83,
   "metadata": {
    "deletable": false,
    "editable": false,
    "nbgrader": {
     "cell_type": "code",
     "checksum": "ab340aa941c9fb5c89b3fd0a9139e246",
     "grade": true,
     "grade_id": "cell-487c6d2933f38053",
     "locked": true,
     "points": 5,
     "schema_version": 3,
     "solution": false,
     "task": false
    }
   },
   "outputs": [
    {
     "data": {
      "text/plain": [
       "0.9251064410358459"
      ]
     },
     "execution_count": 83,
     "metadata": {},
     "output_type": "execute_result"
    }
   ],
   "source": [
    "##### Function check\n",
    "vec_1 = [(1, 0.3), (2, 0.4), (3, 0.3)]\n",
    "vec_2 = [(1, 0.1), (2, 0.7), (3, 0.2)]\n",
    "jenson_shannon_sim(vec_1, vec_2, assert_prob=True)\n",
    "##### "
   ]
  },
  {
   "cell_type": "markdown",
   "metadata": {
    "deletable": false,
    "editable": false,
    "nbgrader": {
     "cell_type": "markdown",
     "checksum": "0a1583a5f23e3390038331cce67f5d8e",
     "grade": false,
     "grade_id": "cell-4535cc67a50b80fa",
     "locked": true,
     "schema_version": 3,
     "solution": false,
     "task": false
    }
   },
   "source": [
    "---\n",
    "### Section 7.2: LDA retrieval (5 points) <a class=\"anchor\" id=\"lda_ret\"></a>\n",
    "\n",
    "Implement the `train_model` method in the following class (note that this is only one line of code in `gensim`!). Ensure that the parameters defined in the `__init__` method are not changed, and are *used in the `train_method` function*. You do not need to set this. Normally, the hyperaparameter space will be searched using grid search / other methods. Note that training the LDA model might take some time\n",
    "\n",
    "The last two lines of code train an LDA model on the list of documents which have been stemmed, lower-cased and have stopwords removed. "
   ]
  },
  {
   "cell_type": "code",
   "execution_count": 84,
   "metadata": {
    "deletable": false,
    "nbgrader": {
     "cell_type": "code",
     "checksum": "27de8e4fa85536bb396b73bfc51b3f50",
     "grade": false,
     "grade_id": "cell-021a48dff4a8bb91",
     "locked": false,
     "schema_version": 3,
     "solution": true,
     "task": false
    }
   },
   "outputs": [],
   "source": [
    "# TODO: Implement this! (5 points)\n",
    "class LdaRetrievalModel(VectorSpaceRetrievalModel):\n",
    "    def __init__(self, doc_repr):\n",
    "        super().__init__(doc_repr)\n",
    "        \n",
    "        # use these parameters in the train_model method\n",
    "        self.num_topics = 100\n",
    "        self.chunksize = 2000\n",
    "        self.passes = 20\n",
    "        self.iterations = 400\n",
    "        self.eval_every = 10\n",
    "        # this is need to get full vectors\n",
    "        self.minimum_probability=0.0\n",
    "        self.alpha='auto'\n",
    "        self.eta='auto'\n",
    "    \n",
    "    \n",
    "    def train_model(self):\n",
    "        self.model=LdaModel(self.corpus, num_topics=self.num_topics, chunksize=self.chunksize, passes=self.passes, \n",
    "                           iterations=self.iterations, eval_every=self.eval_every, minimum_probability=self.minimum_probability,\n",
    "                           alpha=self.alpha, eta=self.eta)"
   ]
  },
  {
   "cell_type": "code",
   "execution_count": 85,
   "metadata": {
    "deletable": false,
    "editable": false,
    "nbgrader": {
     "cell_type": "code",
     "checksum": "be70fcb8098d0b6ce64cd2a10e6a05b7",
     "grade": true,
     "grade_id": "cell-86750b715f0345fd",
     "locked": true,
     "points": 0,
     "schema_version": 3,
     "solution": false,
     "task": false
    }
   },
   "outputs": [
    {
     "name": "stderr",
     "output_type": "stream",
     "text": [
      "2022-02-27 13:43:13,889 : INFO : adding document #0 to Dictionary(0 unique tokens: [])\n",
      "2022-02-27 13:43:13,998 : INFO : built Dictionary(5937 unique tokens: ['-', 'algebra', 'intern', 'languag', 'preliminari']...) from 3204 documents (total 115969 corpus positions)\n",
      "2022-02-27 13:43:13,999 : INFO : Dictionary lifecycle event {'msg': \"built Dictionary(5937 unique tokens: ['-', 'algebra', 'intern', 'languag', 'preliminari']...) from 3204 documents (total 115969 corpus positions)\", 'datetime': '2022-02-27T13:43:13.999676', 'gensim': '4.1.2', 'python': '3.8.10 (default, Nov 26 2021, 20:14:08) \\n[GCC 9.3.0]', 'platform': 'Linux-5.13.0-30-generic-x86_64-with-glibc2.29', 'event': 'created'}\n",
      "2022-02-27 13:43:14,005 : INFO : discarding 4740 tokens: [('repeat', 8), ('glossari', 7), ('inspect', 8), ('uncol', 2), ('rung', 9), ('secant', 2), ('.', 1603), ('acceler', 6), ('diverg', 3), ('induc', 9)]...\n",
      "2022-02-27 13:43:14,007 : INFO : keeping 1197 tokens which were in no less than 10 and no more than 1602 (=50.0%) documents\n",
      "2022-02-27 13:43:14,009 : INFO : resulting dictionary: Dictionary(1197 unique tokens: ['-', 'algebra', 'intern', 'languag', 'preliminari']...)\n",
      "2022-02-27 13:43:14,078 : WARNING : no word id mapping provided; initializing from corpus, assuming identity\n",
      "2022-02-27 13:43:14,084 : INFO : using autotuned alpha, starting with [0.01, 0.01, 0.01, 0.01, 0.01, 0.01, 0.01, 0.01, 0.01, 0.01, 0.01, 0.01, 0.01, 0.01, 0.01, 0.01, 0.01, 0.01, 0.01, 0.01, 0.01, 0.01, 0.01, 0.01, 0.01, 0.01, 0.01, 0.01, 0.01, 0.01, 0.01, 0.01, 0.01, 0.01, 0.01, 0.01, 0.01, 0.01, 0.01, 0.01, 0.01, 0.01, 0.01, 0.01, 0.01, 0.01, 0.01, 0.01, 0.01, 0.01, 0.01, 0.01, 0.01, 0.01, 0.01, 0.01, 0.01, 0.01, 0.01, 0.01, 0.01, 0.01, 0.01, 0.01, 0.01, 0.01, 0.01, 0.01, 0.01, 0.01, 0.01, 0.01, 0.01, 0.01, 0.01, 0.01, 0.01, 0.01, 0.01, 0.01, 0.01, 0.01, 0.01, 0.01, 0.01, 0.01, 0.01, 0.01, 0.01, 0.01, 0.01, 0.01, 0.01, 0.01, 0.01, 0.01, 0.01, 0.01, 0.01, 0.01]\n",
      "2022-02-27 13:43:14,085 : INFO : using serial LDA version on this node\n",
      "2022-02-27 13:43:14,095 : INFO : running online (multi-pass) LDA training, 100 topics, 20 passes over the supplied corpus of 3204 documents, updating model once every 2000 documents, evaluating perplexity every 3204 documents, iterating 400x with a convergence threshold of 0.001000\n",
      "2022-02-27 13:43:14,096 : INFO : PROGRESS: pass 0, at document #2000/3204\n",
      "2022-02-27 13:43:15,454 : INFO : optimized alpha [0.009819828, 0.009860937, 0.009762543, 0.009814011, 0.009819684, 0.009902069, 0.009798674, 0.0098146135, 0.00978842, 0.009902446, 0.0099242525, 0.0100582335, 0.009788516, 0.009897171, 0.009883743, 0.009783252, 0.010053292, 0.009816761, 0.009819623, 0.00982882, 0.009793737, 0.010001027, 0.0098091755, 0.009835106, 0.0098056765, 0.009860728, 0.009824128, 0.0098089315, 0.009819693, 0.0097677745, 0.009882343, 0.009772947, 0.009903149, 0.009783369, 0.009829384, 0.009757416, 0.009803606, 0.009849925, 0.009798855, 0.009757416, 0.009856027, 0.009819549, 0.009799167, 0.009823896, 0.009803977, 0.009778055, 0.009777929, 0.009778154, 0.009804254, 0.009809033, 0.009778168, 0.0097678695, 0.009808885, 0.009902388, 0.009959873, 0.00978323, 0.00980402, 0.009793687, 0.009866591, 0.00977639, 0.00980416, 0.009803768, 0.009871196, 0.009912937, 0.009907679, 0.009809038, 0.009793695, 0.009844937, 0.009778193, 0.009819788, 0.009790981, 0.009798639, 0.00980918, 0.009778041, 0.009767795, 0.009819122, 0.009887271, 0.009788557, 0.009819421, 0.009793419, 0.009824957, 0.009808871, 0.0098040365, 0.009975767, 0.009844874, 0.00983813, 0.009840587, 0.009840359, 0.009824778, 0.0098347785, 0.009881405, 0.009783277, 0.009798725, 0.009811492, 0.00976775, 0.009877217, 0.009829805, 0.009860197, 0.009835467, 0.009814197]\n",
      "2022-02-27 13:43:15,459 : INFO : merging changes from 2000 documents into a model of 3204 documents\n",
      "2022-02-27 13:43:15,466 : INFO : topic #74 (0.010): 0.074*\"146\" + 0.059*\"13\" + 0.059*\"50\" + 0.059*\"0\" + 0.045*\"229\" + 0.030*\"244\" + 0.030*\"49\" + 0.030*\"34\" + 0.030*\"434\" + 0.015*\"629\"\n",
      "2022-02-27 13:43:15,466 : INFO : topic #94 (0.010): 0.066*\"585\" + 0.066*\"265\" + 0.044*\"20\" + 0.044*\"617\" + 0.022*\"478\" + 0.022*\"959\" + 0.022*\"876\" + 0.022*\"454\" + 0.022*\"34\" + 0.022*\"57\"\n",
      "2022-02-27 13:43:15,467 : INFO : topic #21 (0.010): 0.067*\"50\" + 0.042*\"6\" + 0.037*\"0\" + 0.025*\"49\" + 0.022*\"34\" + 0.015*\"83\" + 0.013*\"35\" + 0.013*\"41\" + 0.011*\"69\" + 0.011*\"13\"\n",
      "2022-02-27 13:43:15,469 : INFO : topic #11 (0.010): 0.065*\"50\" + 0.045*\"0\" + 0.025*\"34\" + 0.018*\"83\" + 0.016*\"6\" + 0.015*\"35\" + 0.012*\"3\" + 0.012*\"41\" + 0.011*\"13\" + 0.010*\"15\"\n",
      "2022-02-27 13:43:15,470 : INFO : topic #16 (0.010): 0.075*\"50\" + 0.028*\"6\" + 0.026*\"13\" + 0.022*\"49\" + 0.020*\"0\" + 0.017*\"34\" + 0.012*\"83\" + 0.011*\"35\" + 0.010*\"174\" + 0.009*\"131\"\n",
      "2022-02-27 13:43:15,471 : INFO : topic diff=82.799713, rho=1.000000\n",
      "2022-02-27 13:43:16,601 : INFO : -7.294 per-word bound, 157.0 perplexity estimate based on a held-out corpus of 1204 documents with 49783 words\n",
      "2022-02-27 13:43:16,602 : INFO : PROGRESS: pass 0, at document #3204/3204\n",
      "2022-02-27 13:43:17,561 : INFO : optimized alpha [0.010140091, 0.01010979, 0.009581476, 0.009789558, 0.009968693, 0.0101861125, 0.009893095, 0.009810362, 0.009991917, 0.010211727, 0.010393691, 0.010359851, 0.009871201, 0.010129695, 0.0100838905, 0.009900512, 0.010196123, 0.00981697, 0.00982572, 0.009846369, 0.009859081, 0.010234316, 0.009914712, 0.009776818, 0.009793756, 0.010061014, 0.009811354, 0.009790475, 0.009884931, 0.010086865, 0.010032126, 0.009913522, 0.010262264, 0.00992362, 0.009758189, 0.0094963, 0.0098084975, 0.009908081, 0.010074973, 0.0094963, 0.009862428, 0.00981359, 0.010095169, 0.009994271, 0.009991978, 0.009866033, 0.009719867, 0.009906886, 0.01002847, 0.0098262, 0.0097660385, 0.010110186, 0.009884186, 0.010037539, 0.010067381, 0.009836565, 0.010410319, 0.009971035, 0.010087419, 0.009839682, 0.010023278, 0.010013636, 0.010006045, 0.01013417, 0.010192779, 0.009998357, 0.009958533, 0.009950938, 0.0100126015, 0.009980497, 0.009801003, 0.009950664, 0.00995587, 0.0102740815, 0.009756346, 0.009760573, 0.010315827, 0.010006551, 0.0099490145, 0.009752843, 0.010221146, 0.009890493, 0.009869098, 0.010076377, 0.009849488, 0.010080643, 0.01030351, 0.010036905, 0.009929626, 0.009828589, 0.009957955, 0.010011267, 0.010015219, 0.009770697, 0.009802175, 0.0101895975, 0.009964649, 0.009817787, 0.0101556545, 0.0099314395]\n",
      "2022-02-27 13:43:17,567 : INFO : merging changes from 1204 documents into a model of 3204 documents\n",
      "2022-02-27 13:43:17,573 : INFO : topic #35 (0.009): 0.001*\"795\" + 0.001*\"794\" + 0.001*\"801\" + 0.001*\"800\" + 0.001*\"799\" + 0.001*\"798\" + 0.001*\"797\" + 0.001*\"796\" + 0.001*\"803\" + 0.001*\"791\"\n",
      "2022-02-27 13:43:17,574 : INFO : topic #39 (0.009): 0.001*\"795\" + 0.001*\"794\" + 0.001*\"801\" + 0.001*\"800\" + 0.001*\"799\" + 0.001*\"798\" + 0.001*\"797\" + 0.001*\"796\" + 0.001*\"803\" + 0.001*\"791\"\n",
      "2022-02-27 13:43:17,575 : INFO : topic #11 (0.010): 0.071*\"50\" + 0.050*\"0\" + 0.028*\"34\" + 0.023*\"83\" + 0.019*\"35\" + 0.018*\"841\" + 0.016*\"1083\" + 0.014*\"1162\" + 0.012*\"174\" + 0.012*\"41\"\n",
      "2022-02-27 13:43:17,576 : INFO : topic #10 (0.010): 0.093*\"50\" + 0.059*\"13\" + 0.034*\"6\" + 0.024*\"0\" + 0.020*\"49\" + 0.014*\"282\" + 0.012*\"146\" + 0.012*\"176\" + 0.011*\"604\" + 0.011*\"165\"\n",
      "2022-02-27 13:43:17,577 : INFO : topic #56 (0.010): 0.093*\"918\" + 0.069*\"91\" + 0.048*\"50\" + 0.040*\"0\" + 0.039*\"996\" + 0.037*\"765\" + 0.030*\"131\" + 0.028*\"458\" + 0.024*\"146\" + 0.024*\"184\"\n",
      "2022-02-27 13:43:17,579 : INFO : topic diff=0.753335, rho=0.707107\n",
      "2022-02-27 13:43:17,588 : INFO : PROGRESS: pass 1, at document #2000/3204\n",
      "2022-02-27 13:43:18,493 : INFO : optimized alpha [0.010080765, 0.010023972, 0.009662813, 0.009781053, 0.009945139, 0.010076591, 0.009838416, 0.0098081445, 0.010011706, 0.010134999, 0.010436824, 0.010260571, 0.0098563135, 0.01004933, 0.010004062, 0.009856154, 0.010134021, 0.009853375, 0.0097438535, 0.009879329, 0.009787018, 0.010146323, 0.009984476, 0.00973008, 0.00984568, 0.0099978745, 0.00986565, 0.009774168, 0.00980188, 0.01003273, 0.010011602, 0.010109168, 0.010245578, 0.0099218795, 0.009766381, 0.009348581, 0.0098231025, 0.00995913, 0.010024599, 0.009348581, 0.009780357, 0.009747583, 0.010018109, 0.009940366, 0.0100044105, 0.009835451, 0.010012118, 0.009965504, 0.009966259, 0.009843462, 0.009833748, 0.0100422995, 0.010034623, 0.009937667, 0.010038155, 0.010019469, 0.010366638, 0.009912322, 0.010043228, 0.009806574, 0.010003609, 0.010022249, 0.009949636, 0.010105589, 0.0100944955, 0.009958129, 0.009908015, 0.01011996, 0.009947185, 0.009916797, 0.009784038, 0.009921013, 0.009908046, 0.010278732, 0.009824469, 0.009914686, 0.010253591, 0.010072861, 0.009933145, 0.010489248, 0.010187182, 0.009846411, 0.009910097, 0.010021807, 0.009769277, 0.0100729605, 0.0102549, 0.009995742, 0.009864216, 0.00975474, 0.0098839225, 0.010009903, 0.009954981, 0.009760353, 0.009905092, 0.010183922, 0.009850295, 0.009738745, 0.01006876, 0.009841585]\n"
     ]
    },
    {
     "name": "stderr",
     "output_type": "stream",
     "text": [
      "2022-02-27 13:43:18,501 : INFO : merging changes from 2000 documents into a model of 3204 documents\n",
      "2022-02-27 13:43:18,509 : INFO : topic #35 (0.009): 0.001*\"795\" + 0.001*\"794\" + 0.001*\"801\" + 0.001*\"800\" + 0.001*\"799\" + 0.001*\"798\" + 0.001*\"797\" + 0.001*\"796\" + 0.001*\"803\" + 0.001*\"791\"\n",
      "2022-02-27 13:43:18,509 : INFO : topic #39 (0.009): 0.001*\"795\" + 0.001*\"794\" + 0.001*\"801\" + 0.001*\"800\" + 0.001*\"799\" + 0.001*\"798\" + 0.001*\"797\" + 0.001*\"796\" + 0.001*\"803\" + 0.001*\"791\"\n",
      "2022-02-27 13:43:18,510 : INFO : topic #56 (0.010): 0.083*\"918\" + 0.073*\"91\" + 0.047*\"50\" + 0.038*\"0\" + 0.033*\"996\" + 0.032*\"131\" + 0.032*\"765\" + 0.027*\"458\" + 0.025*\"184\" + 0.022*\"146\"\n",
      "2022-02-27 13:43:18,511 : INFO : topic #10 (0.010): 0.094*\"50\" + 0.063*\"13\" + 0.039*\"6\" + 0.026*\"0\" + 0.021*\"49\" + 0.012*\"282\" + 0.012*\"176\" + 0.012*\"286\" + 0.011*\"45\" + 0.011*\"146\"\n",
      "2022-02-27 13:43:18,512 : INFO : topic #79 (0.010): 0.240*\"34\" + 0.220*\"35\" + 0.203*\"83\" + 0.042*\"273\" + 0.027*\"611\" + 0.021*\"0\" + 0.017*\"646\" + 0.017*\"12\" + 0.017*\"202\" + 0.014*\"1182\"\n",
      "2022-02-27 13:43:18,516 : INFO : topic diff=0.329361, rho=0.526900\n",
      "2022-02-27 13:43:19,551 : INFO : -6.910 per-word bound, 120.3 perplexity estimate based on a held-out corpus of 1204 documents with 49783 words\n",
      "2022-02-27 13:43:19,551 : INFO : PROGRESS: pass 1, at document #3204/3204\n",
      "2022-02-27 13:43:20,419 : INFO : optimized alpha [0.010241015, 0.010250417, 0.009550052, 0.009877136, 0.010061183, 0.010311787, 0.009953509, 0.009854708, 0.010292401, 0.010353245, 0.010664099, 0.010362089, 0.010028136, 0.01026799, 0.010162194, 0.010013952, 0.010203865, 0.009967925, 0.009794498, 0.009976228, 0.00988503, 0.010225206, 0.010115127, 0.009720589, 0.0098461555, 0.010192058, 0.009965828, 0.009888019, 0.009843445, 0.010379419, 0.01012342, 0.0103507545, 0.010456653, 0.010132276, 0.0097941095, 0.009171496, 0.009870751, 0.0100591965, 0.0103252, 0.009171496, 0.009766298, 0.00975886, 0.010263099, 0.010098505, 0.01021144, 0.010059384, 0.010054137, 0.010202565, 0.010191405, 0.009922726, 0.009846989, 0.010349525, 0.010199754, 0.010017192, 0.0100698, 0.010271223, 0.010815241, 0.010111267, 0.010217587, 0.009963231, 0.010172264, 0.010258567, 0.010117107, 0.010257204, 0.010280774, 0.010237809, 0.009969297, 0.010210387, 0.010179962, 0.010028423, 0.009857517, 0.01013571, 0.010035083, 0.010758275, 0.010043479, 0.009971764, 0.010536925, 0.01037993, 0.010061029, 0.011158828, 0.010469128, 0.010039246, 0.010024436, 0.010052088, 0.009857893, 0.010298743, 0.010520644, 0.010097784, 0.009995322, 0.009813884, 0.009976993, 0.010318509, 0.010205511, 0.00977998, 0.010091755, 0.010337654, 0.009974081, 0.009741214, 0.010277303, 0.010003893]\n",
      "2022-02-27 13:43:20,426 : INFO : merging changes from 1204 documents into a model of 3204 documents\n",
      "2022-02-27 13:43:20,435 : INFO : topic #35 (0.009): 0.001*\"795\" + 0.001*\"794\" + 0.001*\"801\" + 0.001*\"800\" + 0.001*\"799\" + 0.001*\"798\" + 0.001*\"797\" + 0.001*\"796\" + 0.001*\"803\" + 0.001*\"791\"\n",
      "2022-02-27 13:43:20,437 : INFO : topic #39 (0.009): 0.001*\"795\" + 0.001*\"794\" + 0.001*\"801\" + 0.001*\"800\" + 0.001*\"799\" + 0.001*\"798\" + 0.001*\"797\" + 0.001*\"796\" + 0.001*\"803\" + 0.001*\"791\"\n",
      "2022-02-27 13:43:20,438 : INFO : topic #73 (0.011): 0.269*\"859\" + 0.069*\"379\" + 0.060*\"18\" + 0.052*\"530\" + 0.051*\"611\" + 0.035*\"69\" + 0.029*\"560\" + 0.027*\"144\" + 0.026*\"24\" + 0.025*\"872\"\n",
      "2022-02-27 13:43:20,439 : INFO : topic #56 (0.011): 0.115*\"918\" + 0.091*\"91\" + 0.057*\"50\" + 0.041*\"996\" + 0.041*\"765\" + 0.038*\"0\" + 0.031*\"458\" + 0.028*\"146\" + 0.027*\"131\" + 0.026*\"184\"\n",
      "2022-02-27 13:43:20,442 : INFO : topic #79 (0.011): 0.263*\"34\" + 0.237*\"35\" + 0.231*\"83\" + 0.034*\"611\" + 0.029*\"273\" + 0.024*\"0\" + 0.016*\"12\" + 0.016*\"1182\" + 0.015*\"202\" + 0.011*\"69\"\n",
      "2022-02-27 13:43:20,443 : INFO : topic diff=0.426371, rho=0.526900\n",
      "2022-02-27 13:43:20,451 : INFO : PROGRESS: pass 2, at document #2000/3204\n",
      "2022-02-27 13:43:21,340 : INFO : optimized alpha [0.010190598, 0.010189921, 0.0099923555, 0.00991831, 0.010064078, 0.010225594, 0.009912474, 0.009886231, 0.010334516, 0.010296026, 0.010716093, 0.01027069, 0.010045001, 0.0102512855, 0.0101009235, 0.009999876, 0.010155013, 0.010094075, 0.009761065, 0.010063953, 0.009836202, 0.010134433, 0.010229557, 0.009688626, 0.009932461, 0.0101495525, 0.010069229, 0.009908349, 0.009788553, 0.01035908, 0.010138902, 0.010587549, 0.010450372, 0.010218008, 0.009820388, 0.009050891, 0.00989323, 0.010125396, 0.010277571, 0.009050891, 0.00969486, 0.009755631, 0.010227085, 0.010069235, 0.010264149, 0.010106159, 0.010216173, 0.010375676, 0.010151432, 0.009954507, 0.010011793, 0.010291155, 0.010340404, 0.009952097, 0.010064663, 0.0105424505, 0.010772903, 0.010074815, 0.010199446, 0.009977777, 0.010153838, 0.010278664, 0.010102168, 0.010241062, 0.010195764, 0.01022159, 0.009928145, 0.010384364, 0.010146561, 0.009996252, 0.009861613, 0.010136423, 0.010020995, 0.010784463, 0.010183731, 0.01018686, 0.010481448, 0.010505733, 0.010068132, 0.012186795, 0.010446256, 0.010074556, 0.010126801, 0.010031639, 0.009843858, 0.010314371, 0.0104826335, 0.010061671, 0.009986963, 0.009780251, 0.009926665, 0.01038706, 0.0101570655, 0.009776666, 0.010230213, 0.010324052, 0.009902302, 0.009667365, 0.01020421, 0.009936058]\n",
      "2022-02-27 13:43:21,346 : INFO : merging changes from 2000 documents into a model of 3204 documents\n",
      "2022-02-27 13:43:21,353 : INFO : topic #35 (0.009): 0.001*\"795\" + 0.001*\"794\" + 0.001*\"801\" + 0.001*\"800\" + 0.001*\"799\" + 0.001*\"798\" + 0.001*\"797\" + 0.001*\"796\" + 0.001*\"803\" + 0.001*\"791\"\n",
      "2022-02-27 13:43:21,354 : INFO : topic #39 (0.009): 0.001*\"795\" + 0.001*\"794\" + 0.001*\"801\" + 0.001*\"800\" + 0.001*\"799\" + 0.001*\"798\" + 0.001*\"797\" + 0.001*\"796\" + 0.001*\"803\" + 0.001*\"791\"\n",
      "2022-02-27 13:43:21,354 : INFO : topic #73 (0.011): 0.196*\"859\" + 0.089*\"379\" + 0.070*\"18\" + 0.059*\"530\" + 0.042*\"69\" + 0.041*\"611\" + 0.039*\"872\" + 0.027*\"24\" + 0.026*\"144\" + 0.025*\"560\"\n",
      "2022-02-27 13:43:21,356 : INFO : topic #10 (0.011): 0.099*\"50\" + 0.066*\"13\" + 0.047*\"6\" + 0.023*\"0\" + 0.021*\"49\" + 0.016*\"286\" + 0.014*\"282\" + 0.013*\"604\" + 0.011*\"176\" + 0.011*\"5\"\n",
      "2022-02-27 13:43:21,357 : INFO : topic #79 (0.012): 0.277*\"34\" + 0.255*\"35\" + 0.239*\"83\" + 0.026*\"273\" + 0.020*\"0\" + 0.019*\"611\" + 0.015*\"12\" + 0.014*\"202\" + 0.013*\"646\" + 0.011*\"1036\"\n",
      "2022-02-27 13:43:21,358 : INFO : topic diff=0.411042, rho=0.466151\n",
      "2022-02-27 13:43:22,417 : INFO : -6.792 per-word bound, 110.8 perplexity estimate based on a held-out corpus of 1204 documents with 49783 words\n",
      "2022-02-27 13:43:22,418 : INFO : PROGRESS: pass 2, at document #3204/3204\n",
      "2022-02-27 13:43:23,323 : INFO : optimized alpha [0.010317218, 0.010408146, 0.009966556, 0.01004982, 0.010175464, 0.010447438, 0.010096725, 0.0099394405, 0.0106031, 0.010510953, 0.010889222, 0.010390298, 0.010281598, 0.01055555, 0.010273318, 0.010175644, 0.010217857, 0.01027434, 0.009845181, 0.010212738, 0.009985546, 0.010205584, 0.010373165, 0.009693751, 0.009971674, 0.010370639, 0.01019701, 0.010078989, 0.009846113, 0.010679531, 0.010262431, 0.010791683, 0.010605785, 0.0104827415, 0.009906943, 0.008905433, 0.009924443, 0.010249344, 0.010523499, 0.008905433, 0.009700581, 0.009782181, 0.010458438, 0.010225866, 0.010456761, 0.010382371, 0.01026011, 0.010604683, 0.010384273, 0.010036747, 0.010029946, 0.0105787655, 0.010506885, 0.010023758, 0.010105963, 0.010806585, 0.011166699, 0.010244337, 0.01037492, 0.01013671, 0.010276181, 0.01054996, 0.010291123, 0.0103638135, 0.01034952, 0.010496905, 0.009999186, 0.01047111, 0.01037016, 0.010091798, 0.009946267, 0.010375734, 0.010145876, 0.011201074, 0.010468253, 0.010247251, 0.010731362, 0.010820724, 0.010213418, 0.0131215975, 0.010698575, 0.0103218965, 0.010259524, 0.010111044, 0.009984891, 0.010548201, 0.010679074, 0.010140732, 0.010135013, 0.009891388, 0.0100138495, 0.010681537, 0.010405125, 0.009860416, 0.0104483, 0.010502087, 0.010059783, 0.00968728, 0.010390322, 0.010123756]\n",
      "2022-02-27 13:43:23,328 : INFO : merging changes from 1204 documents into a model of 3204 documents\n",
      "2022-02-27 13:43:23,334 : INFO : topic #39 (0.009): 0.001*\"795\" + 0.001*\"794\" + 0.001*\"801\" + 0.001*\"800\" + 0.001*\"799\" + 0.001*\"798\" + 0.001*\"797\" + 0.001*\"796\" + 0.001*\"803\" + 0.001*\"791\"\n",
      "2022-02-27 13:43:23,334 : INFO : topic #35 (0.009): 0.001*\"795\" + 0.001*\"794\" + 0.001*\"801\" + 0.001*\"800\" + 0.001*\"799\" + 0.001*\"798\" + 0.001*\"797\" + 0.001*\"796\" + 0.001*\"803\" + 0.001*\"791\"\n"
     ]
    },
    {
     "name": "stderr",
     "output_type": "stream",
     "text": [
      "2022-02-27 13:43:23,338 : INFO : topic #73 (0.011): 0.271*\"859\" + 0.081*\"379\" + 0.070*\"530\" + 0.068*\"611\" + 0.056*\"18\" + 0.041*\"69\" + 0.031*\"872\" + 0.025*\"716\" + 0.024*\"515\" + 0.022*\"6\"\n",
      "2022-02-27 13:43:23,340 : INFO : topic #56 (0.011): 0.130*\"918\" + 0.108*\"91\" + 0.065*\"50\" + 0.044*\"765\" + 0.042*\"996\" + 0.034*\"0\" + 0.031*\"458\" + 0.029*\"146\" + 0.029*\"184\" + 0.025*\"131\"\n",
      "2022-02-27 13:43:23,342 : INFO : topic #79 (0.013): 0.287*\"34\" + 0.258*\"35\" + 0.252*\"83\" + 0.022*\"611\" + 0.021*\"0\" + 0.020*\"273\" + 0.015*\"12\" + 0.013*\"202\" + 0.010*\"1182\" + 0.010*\"69\"\n",
      "2022-02-27 13:43:23,343 : INFO : topic diff=0.531861, rho=0.466151\n",
      "2022-02-27 13:43:23,354 : INFO : PROGRESS: pass 3, at document #2000/3204\n",
      "2022-02-27 13:43:24,239 : INFO : optimized alpha [0.010280469, 0.010365364, 0.010405584, 0.010119034, 0.010193355, 0.0103791775, 0.010069327, 0.009989734, 0.010642195, 0.010469078, 0.010947303, 0.010323859, 0.010350596, 0.010587662, 0.010245634, 0.010181473, 0.010190037, 0.010436027, 0.00984059, 0.010299057, 0.009953795, 0.010122926, 0.010499732, 0.009681021, 0.01006988, 0.010365935, 0.010306648, 0.010116045, 0.0098018935, 0.01067393, 0.010298494, 0.011036218, 0.010615484, 0.010603074, 0.0099624265, 0.008803543, 0.009964662, 0.010335438, 0.01049871, 0.008803543, 0.009640522, 0.0097928895, 0.010439952, 0.010207628, 0.010510853, 0.010474148, 0.01039554, 0.010800152, 0.010359692, 0.01007445, 0.0102390535, 0.010532313, 0.010624366, 0.009968237, 0.010139428, 0.011110522, 0.0111333495, 0.010217353, 0.010353326, 0.010166695, 0.010255078, 0.010573009, 0.010296395, 0.0103536025, 0.010288069, 0.010506925, 0.009977754, 0.010683773, 0.010351581, 0.010058803, 0.009962936, 0.010403489, 0.010150086, 0.011223542, 0.010639417, 0.010430401, 0.010683721, 0.010979306, 0.010228169, 0.014271604, 0.010694103, 0.010366098, 0.01038596, 0.010121189, 0.010018553, 0.010592665, 0.010664268, 0.010113149, 0.010124966, 0.009880104, 0.010001034, 0.010756325, 0.010381362, 0.009864119, 0.010604036, 0.01056547, 0.010005232, 0.009639149, 0.010338924, 0.010089343]\n",
      "2022-02-27 13:43:24,246 : INFO : merging changes from 2000 documents into a model of 3204 documents\n",
      "2022-02-27 13:43:24,255 : INFO : topic #35 (0.009): 0.001*\"795\" + 0.001*\"794\" + 0.001*\"801\" + 0.001*\"800\" + 0.001*\"799\" + 0.001*\"798\" + 0.001*\"797\" + 0.001*\"796\" + 0.001*\"803\" + 0.001*\"791\"\n",
      "2022-02-27 13:43:24,256 : INFO : topic #39 (0.009): 0.001*\"795\" + 0.001*\"794\" + 0.001*\"801\" + 0.001*\"800\" + 0.001*\"799\" + 0.001*\"798\" + 0.001*\"797\" + 0.001*\"796\" + 0.001*\"803\" + 0.001*\"791\"\n",
      "2022-02-27 13:43:24,258 : INFO : topic #56 (0.011): 0.121*\"918\" + 0.114*\"91\" + 0.063*\"50\" + 0.041*\"765\" + 0.037*\"996\" + 0.033*\"0\" + 0.030*\"184\" + 0.030*\"458\" + 0.028*\"146\" + 0.027*\"131\"\n",
      "2022-02-27 13:43:24,260 : INFO : topic #73 (0.011): 0.212*\"859\" + 0.099*\"379\" + 0.078*\"530\" + 0.064*\"18\" + 0.056*\"611\" + 0.043*\"69\" + 0.043*\"872\" + 0.031*\"716\" + 0.025*\"515\" + 0.022*\"6\"\n",
      "2022-02-27 13:43:24,261 : INFO : topic #79 (0.014): 0.294*\"34\" + 0.270*\"35\" + 0.247*\"83\" + 0.020*\"273\" + 0.018*\"0\" + 0.014*\"12\" + 0.014*\"611\" + 0.013*\"202\" + 0.012*\"646\" + 0.010*\"1036\"\n",
      "2022-02-27 13:43:24,261 : INFO : topic diff=0.539291, rho=0.422502\n",
      "2022-02-27 13:43:25,284 : INFO : -6.710 per-word bound, 104.7 perplexity estimate based on a held-out corpus of 1204 documents with 49783 words\n",
      "2022-02-27 13:43:25,285 : INFO : PROGRESS: pass 3, at document #3204/3204\n",
      "2022-02-27 13:43:26,155 : INFO : optimized alpha [0.01037808, 0.010613086, 0.010438563, 0.010246126, 0.010287692, 0.0105933985, 0.010270137, 0.010045448, 0.010912243, 0.010680822, 0.0110973045, 0.010473799, 0.01057953, 0.010929108, 0.010450246, 0.010367476, 0.010266319, 0.010637832, 0.009935042, 0.010482227, 0.010094076, 0.010210563, 0.010659936, 0.009690682, 0.010105305, 0.010583558, 0.010441077, 0.010286382, 0.009890107, 0.010939485, 0.010418681, 0.011238624, 0.0107650645, 0.010908351, 0.010079957, 0.008680031, 0.010007819, 0.010459177, 0.0107245995, 0.008680031, 0.00964099, 0.009828379, 0.010663579, 0.010365491, 0.010676024, 0.010763003, 0.010449284, 0.011037474, 0.010587684, 0.010167322, 0.0102899, 0.010811655, 0.010809679, 0.010048676, 0.010199407, 0.011374898, 0.011505448, 0.010375971, 0.010506594, 0.0103193, 0.010388708, 0.010874836, 0.010502381, 0.0104397945, 0.010428461, 0.010771799, 0.010050348, 0.010833148, 0.010556486, 0.010149841, 0.010050822, 0.010619768, 0.010271384, 0.011610832, 0.010959772, 0.010502143, 0.010905276, 0.011322333, 0.0104005495, 0.015421808, 0.0108875325, 0.010601211, 0.010506776, 0.01021561, 0.010193457, 0.010822308, 0.010832711, 0.010196469, 0.010249526, 0.009992539, 0.01009143, 0.011043541, 0.010627656, 0.009954955, 0.010811879, 0.010774015, 0.010195645, 0.009665802, 0.010498138, 0.010278965]\n",
      "2022-02-27 13:43:26,160 : INFO : merging changes from 1204 documents into a model of 3204 documents\n",
      "2022-02-27 13:43:26,166 : INFO : topic #39 (0.009): 0.001*\"795\" + 0.001*\"794\" + 0.001*\"801\" + 0.001*\"800\" + 0.001*\"799\" + 0.001*\"798\" + 0.001*\"797\" + 0.001*\"796\" + 0.001*\"803\" + 0.001*\"791\"\n",
      "2022-02-27 13:43:26,167 : INFO : topic #35 (0.009): 0.001*\"795\" + 0.001*\"794\" + 0.001*\"801\" + 0.001*\"800\" + 0.001*\"799\" + 0.001*\"798\" + 0.001*\"797\" + 0.001*\"796\" + 0.001*\"803\" + 0.001*\"791\"\n",
      "2022-02-27 13:43:26,168 : INFO : topic #56 (0.012): 0.140*\"918\" + 0.120*\"91\" + 0.071*\"50\" + 0.048*\"765\" + 0.042*\"996\" + 0.032*\"0\" + 0.031*\"458\" + 0.030*\"146\" + 0.029*\"184\" + 0.025*\"66\"\n",
      "2022-02-27 13:43:26,169 : INFO : topic #73 (0.012): 0.273*\"859\" + 0.088*\"611\" + 0.087*\"379\" + 0.080*\"530\" + 0.052*\"18\" + 0.038*\"69\" + 0.034*\"872\" + 0.034*\"716\" + 0.029*\"515\" + 0.024*\"6\"\n",
      "2022-02-27 13:43:26,170 : INFO : topic #79 (0.015): 0.300*\"34\" + 0.269*\"35\" + 0.260*\"83\" + 0.019*\"0\" + 0.016*\"273\" + 0.014*\"611\" + 0.014*\"12\" + 0.013*\"202\" + 0.008*\"296\" + 0.008*\"646\"\n",
      "2022-02-27 13:43:26,171 : INFO : topic diff=0.648484, rho=0.422502\n",
      "2022-02-27 13:43:26,179 : INFO : PROGRESS: pass 4, at document #2000/3204\n",
      "2022-02-27 13:43:27,016 : INFO : optimized alpha [0.010352839, 0.010582219, 0.010860462, 0.010324269, 0.010316564, 0.010535499, 0.010243845, 0.01010031, 0.010962022, 0.010653581, 0.011168385, 0.010425028, 0.010657515, 0.01101249, 0.01043587, 0.010372169, 0.010253544, 0.010826617, 0.009938826, 0.010574343, 0.010078464, 0.0101377405, 0.010802826, 0.009689747, 0.010204756, 0.010586387, 0.010559335, 0.010322199, 0.009863598, 0.010940963, 0.010482925, 0.011466727, 0.010778092, 0.011069516, 0.010137172, 0.008591871, 0.010051427, 0.010543071, 0.0107025765, 0.008591871, 0.009585995, 0.009856389, 0.010666356, 0.010352194, 0.010752904, 0.010879116, 0.010567173, 0.011246925, 0.010565662, 0.010202351, 0.010504137, 0.0107729575, 0.010946005, 0.010010296, 0.0102471225, 0.011702305, 0.011475575, 0.010356779, 0.010477945, 0.010372993, 0.010375249, 0.010904793, 0.01052497, 0.010424561, 0.010373958, 0.01077937, 0.010047178, 0.011071018, 0.010547264, 0.010111993, 0.0100742765, 0.0106629785, 0.01028327, 0.011632987, 0.011148371, 0.010675444, 0.010877224, 0.011506029, 0.010431893, 0.016703084, 0.010886786, 0.010651523, 0.010632874, 0.0102455, 0.010244105, 0.010892343, 0.01081002, 0.010183574, 0.010244169, 0.009988137, 0.010084076, 0.011124823, 0.010624825, 0.009966382, 0.010963694, 0.010870662, 0.01015655, 0.009628727, 0.010454486, 0.010254395]\n",
      "2022-02-27 13:43:27,022 : INFO : merging changes from 2000 documents into a model of 3204 documents\n",
      "2022-02-27 13:43:27,028 : INFO : topic #39 (0.009): 0.001*\"795\" + 0.001*\"794\" + 0.001*\"801\" + 0.001*\"800\" + 0.001*\"799\" + 0.001*\"798\" + 0.001*\"797\" + 0.001*\"796\" + 0.001*\"803\" + 0.001*\"791\"\n",
      "2022-02-27 13:43:27,029 : INFO : topic #35 (0.009): 0.001*\"795\" + 0.001*\"794\" + 0.001*\"801\" + 0.001*\"800\" + 0.001*\"799\" + 0.001*\"798\" + 0.001*\"797\" + 0.001*\"796\" + 0.001*\"803\" + 0.001*\"791\"\n",
      "2022-02-27 13:43:27,030 : INFO : topic #73 (0.012): 0.221*\"859\" + 0.103*\"379\" + 0.086*\"530\" + 0.074*\"611\" + 0.058*\"18\" + 0.048*\"872\" + 0.039*\"69\" + 0.038*\"716\" + 0.030*\"515\" + 0.022*\"6\"\n",
      "2022-02-27 13:43:27,031 : INFO : topic #55 (0.012): 0.363*\"3\" + 0.117*\"13\" + 0.064*\"27\" + 0.056*\"50\" + 0.045*\"0\" + 0.039*\"29\" + 0.031*\"574\" + 0.022*\"488\" + 0.017*\"263\" + 0.016*\"722\"\n",
      "2022-02-27 13:43:27,033 : INFO : topic #79 (0.017): 0.304*\"34\" + 0.278*\"35\" + 0.253*\"83\" + 0.018*\"273\" + 0.017*\"0\" + 0.013*\"12\" + 0.013*\"202\" + 0.011*\"646\" + 0.009*\"1036\" + 0.009*\"611\"\n"
     ]
    },
    {
     "name": "stderr",
     "output_type": "stream",
     "text": [
      "2022-02-27 13:43:27,034 : INFO : topic diff=0.624510, rho=0.389191\n",
      "2022-02-27 13:43:27,997 : INFO : -6.654 per-word bound, 100.7 perplexity estimate based on a held-out corpus of 1204 documents with 49783 words\n",
      "2022-02-27 13:43:27,997 : INFO : PROGRESS: pass 4, at document #3204/3204\n",
      "2022-02-27 13:43:28,817 : INFO : optimized alpha [0.010433518, 0.010830631, 0.010900837, 0.0104789585, 0.01042776, 0.010762477, 0.010457652, 0.0101584, 0.011232914, 0.010854455, 0.011314631, 0.010574701, 0.010899656, 0.011377991, 0.010646869, 0.010555521, 0.010355185, 0.011046637, 0.010055779, 0.010776094, 0.010235123, 0.010223122, 0.010976098, 0.009696637, 0.010237303, 0.010806629, 0.010708022, 0.010507397, 0.009958696, 0.01118907, 0.01059462, 0.011666257, 0.0109137725, 0.011393805, 0.010272669, 0.00848457, 0.010117941, 0.010674959, 0.010941116, 0.00848457, 0.009588484, 0.009886518, 0.010889133, 0.010502375, 0.010909854, 0.011193193, 0.010613058, 0.011461782, 0.010781721, 0.010298578, 0.010573585, 0.011051635, 0.011150514, 0.010085547, 0.010302902, 0.0119852, 0.011843585, 0.010524542, 0.010637599, 0.010521825, 0.010506094, 0.011209311, 0.01073092, 0.010511485, 0.010504422, 0.0110486, 0.010121515, 0.0112634, 0.010751882, 0.010213283, 0.010168948, 0.010868245, 0.010395781, 0.011994446, 0.011462536, 0.010751289, 0.011090703, 0.011872051, 0.010582168, 0.01798657, 0.01106316, 0.010860883, 0.010762083, 0.010353455, 0.010423823, 0.011106733, 0.010966747, 0.010261082, 0.010373186, 0.01011544, 0.010168201, 0.011405297, 0.010882496, 0.010076846, 0.01117203, 0.011083287, 0.010360492, 0.009654733, 0.010626574, 0.010434364]\n",
      "2022-02-27 13:43:28,823 : INFO : merging changes from 1204 documents into a model of 3204 documents\n",
      "2022-02-27 13:43:28,830 : INFO : topic #35 (0.008): 0.001*\"795\" + 0.001*\"794\" + 0.001*\"801\" + 0.001*\"800\" + 0.001*\"799\" + 0.001*\"798\" + 0.001*\"797\" + 0.001*\"796\" + 0.001*\"803\" + 0.001*\"791\"\n",
      "2022-02-27 13:43:28,831 : INFO : topic #39 (0.008): 0.001*\"795\" + 0.001*\"794\" + 0.001*\"801\" + 0.001*\"800\" + 0.001*\"799\" + 0.001*\"798\" + 0.001*\"797\" + 0.001*\"796\" + 0.001*\"803\" + 0.001*\"791\"\n",
      "2022-02-27 13:43:28,832 : INFO : topic #55 (0.012): 0.380*\"3\" + 0.121*\"13\" + 0.060*\"27\" + 0.057*\"50\" + 0.042*\"29\" + 0.040*\"0\" + 0.026*\"574\" + 0.022*\"488\" + 0.019*\"263\" + 0.016*\"722\"\n",
      "2022-02-27 13:43:28,832 : INFO : topic #73 (0.012): 0.271*\"859\" + 0.111*\"611\" + 0.088*\"379\" + 0.083*\"530\" + 0.049*\"18\" + 0.041*\"716\" + 0.037*\"872\" + 0.034*\"69\" + 0.031*\"515\" + 0.024*\"6\"\n",
      "2022-02-27 13:43:28,833 : INFO : topic #79 (0.018): 0.311*\"34\" + 0.277*\"35\" + 0.260*\"83\" + 0.018*\"0\" + 0.015*\"273\" + 0.013*\"12\" + 0.013*\"202\" + 0.009*\"73\" + 0.009*\"611\" + 0.008*\"646\"\n",
      "2022-02-27 13:43:28,835 : INFO : topic diff=0.685017, rho=0.389191\n",
      "2022-02-27 13:43:28,843 : INFO : PROGRESS: pass 5, at document #2000/3204\n",
      "2022-02-27 13:43:29,686 : INFO : optimized alpha [0.010425871, 0.010814155, 0.011307916, 0.010569378, 0.010460662, 0.010714997, 0.010447211, 0.010221272, 0.011278411, 0.010826027, 0.011403818, 0.010527023, 0.011000347, 0.011459617, 0.010638158, 0.010561121, 0.010351135, 0.011228129, 0.0100611, 0.0108662825, 0.010238809, 0.010161934, 0.011117214, 0.009707487, 0.010349809, 0.010814155, 0.010829161, 0.010553693, 0.009941603, 0.011193127, 0.010659037, 0.011885315, 0.01094192, 0.011573842, 0.010333641, 0.008406969, 0.010172013, 0.010755774, 0.010925092, 0.008406969, 0.009549717, 0.009915182, 0.010890624, 0.010495409, 0.010989804, 0.011314352, 0.010729908, 0.01166727, 0.010761958, 0.010329674, 0.010803945, 0.011031584, 0.011285141, 0.010065237, 0.010370973, 0.012316364, 0.011818808, 0.010509926, 0.010626011, 0.010575836, 0.010501225, 0.011241678, 0.01075712, 0.010513061, 0.010455699, 0.011056244, 0.010115341, 0.011512834, 0.01074949, 0.010180224, 0.0102112945, 0.010910096, 0.01041076, 0.01201689, 0.011650299, 0.010919003, 0.011079694, 0.0120487595, 0.010622791, 0.019405201, 0.011067968, 0.0109232, 0.010886844, 0.010398593, 0.010493761, 0.011198358, 0.010949284, 0.010262706, 0.010370041, 0.010129697, 0.010172782, 0.011493022, 0.010878304, 0.010096725, 0.01133369, 0.011180179, 0.010326865, 0.009623326, 0.010589289, 0.010424065]\n",
      "2022-02-27 13:43:29,692 : INFO : merging changes from 2000 documents into a model of 3204 documents\n",
      "2022-02-27 13:43:29,699 : INFO : topic #39 (0.008): 0.001*\"795\" + 0.001*\"794\" + 0.001*\"801\" + 0.001*\"800\" + 0.001*\"799\" + 0.001*\"798\" + 0.001*\"797\" + 0.001*\"796\" + 0.001*\"803\" + 0.001*\"791\"\n",
      "2022-02-27 13:43:29,700 : INFO : topic #35 (0.008): 0.001*\"795\" + 0.001*\"794\" + 0.001*\"801\" + 0.001*\"800\" + 0.001*\"799\" + 0.001*\"798\" + 0.001*\"797\" + 0.001*\"796\" + 0.001*\"803\" + 0.001*\"791\"\n",
      "2022-02-27 13:43:29,700 : INFO : topic #77 (0.012): 0.262*\"115\" + 0.080*\"458\" + 0.034*\"57\" + 0.029*\"63\" + 0.029*\"50\" + 0.026*\"582\" + 0.026*\"64\" + 0.024*\"66\" + 0.023*\"603\" + 0.019*\"139\"\n",
      "2022-02-27 13:43:29,701 : INFO : topic #55 (0.012): 0.376*\"3\" + 0.122*\"13\" + 0.066*\"27\" + 0.056*\"50\" + 0.045*\"0\" + 0.036*\"29\" + 0.030*\"574\" + 0.021*\"488\" + 0.018*\"263\" + 0.015*\"722\"\n",
      "2022-02-27 13:43:29,703 : INFO : topic #79 (0.019): 0.314*\"34\" + 0.285*\"35\" + 0.253*\"83\" + 0.016*\"273\" + 0.016*\"0\" + 0.013*\"12\" + 0.012*\"202\" + 0.011*\"646\" + 0.010*\"73\" + 0.009*\"1036\"\n",
      "2022-02-27 13:43:29,705 : INFO : topic diff=0.622751, rho=0.362690\n",
      "2022-02-27 13:43:30,667 : INFO : -6.612 per-word bound, 97.8 perplexity estimate based on a held-out corpus of 1204 documents with 49783 words\n",
      "2022-02-27 13:43:30,668 : INFO : PROGRESS: pass 5, at document #3204/3204\n",
      "2022-02-27 13:43:31,482 : INFO : optimized alpha [0.010514725, 0.011042251, 0.011328242, 0.010727874, 0.010565177, 0.010935569, 0.010671205, 0.010278906, 0.011528365, 0.011021921, 0.011537561, 0.010674419, 0.0112434495, 0.011847626, 0.010833892, 0.010737215, 0.010472381, 0.011467021, 0.01017724, 0.0110635515, 0.010386347, 0.010251941, 0.011280508, 0.009723744, 0.010395754, 0.011028595, 0.010978772, 0.010741104, 0.010055282, 0.011427506, 0.010767211, 0.012073272, 0.011072961, 0.011930211, 0.010460987, 0.008312176, 0.010253262, 0.010889467, 0.011143898, 0.008312176, 0.009559524, 0.009940973, 0.011114409, 0.010636709, 0.011147238, 0.011634836, 0.010756092, 0.011856218, 0.010978729, 0.01042299, 0.010890709, 0.01129206, 0.011484951, 0.010148681, 0.010439229, 0.012612193, 0.012182665, 0.010655156, 0.010789233, 0.01071918, 0.010653154, 0.011547848, 0.010971215, 0.010588464, 0.010607025, 0.011321467, 0.010197712, 0.011739422, 0.010929415, 0.01028813, 0.010324678, 0.011103813, 0.010516561, 0.012368306, 0.011971753, 0.010995987, 0.011287922, 0.012443514, 0.010767199, 0.020819955, 0.011234046, 0.011130914, 0.011017943, 0.010525409, 0.010672976, 0.011411109, 0.0110899415, 0.010351313, 0.010500991, 0.010261882, 0.010252064, 0.011766161, 0.011135462, 0.0102098305, 0.011540924, 0.011415333, 0.010528699, 0.009651817, 0.010767473, 0.010603148]\n",
      "2022-02-27 13:43:31,488 : INFO : merging changes from 1204 documents into a model of 3204 documents\n",
      "2022-02-27 13:43:31,494 : INFO : topic #39 (0.008): 0.001*\"795\" + 0.001*\"794\" + 0.001*\"801\" + 0.001*\"800\" + 0.001*\"799\" + 0.001*\"798\" + 0.001*\"797\" + 0.001*\"796\" + 0.001*\"803\" + 0.001*\"791\"\n",
      "2022-02-27 13:43:31,495 : INFO : topic #35 (0.008): 0.001*\"795\" + 0.001*\"794\" + 0.001*\"801\" + 0.001*\"800\" + 0.001*\"799\" + 0.001*\"798\" + 0.001*\"797\" + 0.001*\"796\" + 0.001*\"803\" + 0.001*\"791\"\n",
      "2022-02-27 13:43:31,496 : INFO : topic #77 (0.012): 0.285*\"115\" + 0.094*\"458\" + 0.030*\"57\" + 0.029*\"50\" + 0.028*\"64\" + 0.027*\"63\" + 0.025*\"582\" + 0.022*\"139\" + 0.019*\"66\" + 0.018*\"603\"\n",
      "2022-02-27 13:43:31,497 : INFO : topic #55 (0.013): 0.390*\"3\" + 0.125*\"13\" + 0.064*\"27\" + 0.056*\"50\" + 0.040*\"0\" + 0.038*\"29\" + 0.026*\"574\" + 0.021*\"488\" + 0.019*\"263\" + 0.016*\"722\"\n",
      "2022-02-27 13:43:31,497 : INFO : topic #79 (0.021): 0.321*\"34\" + 0.285*\"35\" + 0.258*\"83\" + 0.017*\"0\" + 0.014*\"273\" + 0.013*\"12\" + 0.012*\"202\" + 0.009*\"73\" + 0.008*\"646\" + 0.008*\"296\"\n",
      "2022-02-27 13:43:31,499 : INFO : topic diff=0.645244, rho=0.362690\n",
      "2022-02-27 13:43:31,508 : INFO : PROGRESS: pass 6, at document #2000/3204\n",
      "2022-02-27 13:43:32,381 : INFO : optimized alpha [0.010506176, 0.0110408785, 0.011722984, 0.010821028, 0.010594738, 0.010893544, 0.01067309, 0.010347515, 0.01158636, 0.010998208, 0.011632002, 0.010633131, 0.011342798, 0.011946276, 0.010834218, 0.010742063, 0.01047943, 0.011650699, 0.01019628, 0.011156453, 0.010407429, 0.010198715, 0.011442106, 0.009731499, 0.010525816, 0.0110424375, 0.011097731, 0.010786224, 0.010034048, 0.011428239, 0.010828279, 0.012285425, 0.011105281, 0.012123455, 0.010515, 0.00824301, 0.010313472, 0.010967959, 0.011141184, 0.00824301, 0.009531048, 0.009972169, 0.011128375, 0.010635507, 0.0112209115, 0.0117637655, 0.01086518, 0.012036769, 0.010960945, 0.010456191, 0.011136044, 0.011277375, 0.011616935, 0.010135315, 0.01051124, 0.012938488, 0.012150084, 0.010650462, 0.010776111, 0.010782969, 0.010652, 0.0115807485, 0.011010269, 0.010590421, 0.010570057, 0.011340985, 0.010208031, 0.011995991, 0.010924758, 0.010266183, 0.010373551, 0.011140908, 0.010534504, 0.012389278, 0.012155954, 0.011167266, 0.01127867, 0.01263607, 0.010814656, 0.02239611, 0.0112400735, 0.011189517, 0.011146154, 0.010575448, 0.010746375, 0.011503671, 0.011073372, 0.010355068, 0.010501486, 0.010280537, 0.010260369, 0.011864738, 0.01113582, 0.010233993, 0.011707192, 0.011524873, 0.010501486, 0.009626695, 0.010742916, 0.010598318]\n"
     ]
    },
    {
     "name": "stderr",
     "output_type": "stream",
     "text": [
      "2022-02-27 13:43:32,387 : INFO : merging changes from 2000 documents into a model of 3204 documents\n",
      "2022-02-27 13:43:32,394 : INFO : topic #35 (0.008): 0.001*\"795\" + 0.001*\"794\" + 0.001*\"801\" + 0.001*\"800\" + 0.001*\"799\" + 0.001*\"798\" + 0.001*\"797\" + 0.001*\"796\" + 0.001*\"803\" + 0.001*\"791\"\n",
      "2022-02-27 13:43:32,395 : INFO : topic #39 (0.008): 0.001*\"795\" + 0.001*\"794\" + 0.001*\"801\" + 0.001*\"800\" + 0.001*\"799\" + 0.001*\"798\" + 0.001*\"797\" + 0.001*\"796\" + 0.001*\"803\" + 0.001*\"791\"\n",
      "2022-02-27 13:43:32,396 : INFO : topic #77 (0.013): 0.285*\"115\" + 0.086*\"458\" + 0.034*\"57\" + 0.028*\"63\" + 0.028*\"50\" + 0.026*\"582\" + 0.026*\"64\" + 0.020*\"66\" + 0.019*\"139\" + 0.018*\"603\"\n",
      "2022-02-27 13:43:32,397 : INFO : topic #55 (0.013): 0.386*\"3\" + 0.125*\"13\" + 0.070*\"27\" + 0.055*\"50\" + 0.046*\"0\" + 0.034*\"29\" + 0.029*\"574\" + 0.021*\"488\" + 0.018*\"263\" + 0.015*\"722\"\n",
      "2022-02-27 13:43:32,397 : INFO : topic #79 (0.022): 0.322*\"34\" + 0.291*\"35\" + 0.251*\"83\" + 0.016*\"273\" + 0.016*\"0\" + 0.012*\"12\" + 0.012*\"202\" + 0.011*\"646\" + 0.010*\"73\" + 0.009*\"1036\"\n",
      "2022-02-27 13:43:32,398 : INFO : topic diff=0.568881, rho=0.340958\n",
      "2022-02-27 13:43:33,375 : INFO : -6.578 per-word bound, 95.6 perplexity estimate based on a held-out corpus of 1204 documents with 49783 words\n",
      "2022-02-27 13:43:33,375 : INFO : PROGRESS: pass 6, at document #3204/3204\n",
      "2022-02-27 13:43:34,208 : INFO : optimized alpha [0.010611665, 0.011264574, 0.011665197, 0.010974577, 0.010693716, 0.011112853, 0.010904969, 0.010410851, 0.0118119, 0.011193894, 0.011775335, 0.010776059, 0.011575341, 0.012328221, 0.011026577, 0.010915593, 0.01061569, 0.011889219, 0.0103180865, 0.011350714, 0.0105593745, 0.010293256, 0.011603529, 0.009753194, 0.010574837, 0.011262534, 0.011242963, 0.010967644, 0.010144833, 0.011657815, 0.010940067, 0.012467288, 0.0112423785, 0.012492748, 0.010638761, 0.0081581725, 0.010414168, 0.011100946, 0.011352666, 0.0081581725, 0.009547034, 0.009991232, 0.011344921, 0.01076968, 0.011357525, 0.012085717, 0.010883526, 0.012222953, 0.011173379, 0.010556497, 0.011226654, 0.011522631, 0.011807145, 0.0102320155, 0.010581859, 0.013230324, 0.0125058135, 0.010791347, 0.010943563, 0.010906855, 0.010808505, 0.011884001, 0.011220665, 0.010661915, 0.01070762, 0.011597632, 0.01029781, 0.012233009, 0.011095616, 0.010374499, 0.01048108, 0.011315694, 0.010649722, 0.012733824, 0.012462446, 0.011245707, 0.011483038, 0.013036457, 0.010963969, 0.02393327, 0.0113913, 0.011387308, 0.011279772, 0.01070493, 0.010932153, 0.011709691, 0.011219654, 0.010430398, 0.010637721, 0.010417801, 0.010347447, 0.012132734, 0.011387702, 0.010352957, 0.011914655, 0.01175642, 0.010705662, 0.009657254, 0.010924567, 0.010771605]\n",
      "2022-02-27 13:43:34,214 : INFO : merging changes from 1204 documents into a model of 3204 documents\n",
      "2022-02-27 13:43:34,221 : INFO : topic #39 (0.008): 0.001*\"795\" + 0.001*\"794\" + 0.001*\"801\" + 0.001*\"800\" + 0.001*\"799\" + 0.001*\"798\" + 0.001*\"797\" + 0.001*\"796\" + 0.001*\"803\" + 0.001*\"791\"\n",
      "2022-02-27 13:43:34,221 : INFO : topic #35 (0.008): 0.001*\"795\" + 0.001*\"794\" + 0.001*\"801\" + 0.001*\"800\" + 0.001*\"799\" + 0.001*\"798\" + 0.001*\"797\" + 0.001*\"796\" + 0.001*\"803\" + 0.001*\"791\"\n",
      "2022-02-27 13:43:34,222 : INFO : topic #77 (0.013): 0.303*\"115\" + 0.098*\"458\" + 0.032*\"57\" + 0.028*\"50\" + 0.027*\"64\" + 0.026*\"63\" + 0.025*\"582\" + 0.022*\"139\" + 0.018*\"637\" + 0.017*\"49\"\n",
      "2022-02-27 13:43:34,223 : INFO : topic #55 (0.013): 0.400*\"3\" + 0.126*\"13\" + 0.067*\"27\" + 0.056*\"50\" + 0.042*\"0\" + 0.035*\"29\" + 0.026*\"574\" + 0.021*\"488\" + 0.019*\"263\" + 0.016*\"722\"\n",
      "2022-02-27 13:43:34,224 : INFO : topic #79 (0.024): 0.329*\"34\" + 0.290*\"35\" + 0.255*\"83\" + 0.016*\"0\" + 0.014*\"273\" + 0.012*\"12\" + 0.012*\"202\" + 0.009*\"73\" + 0.008*\"646\" + 0.008*\"296\"\n",
      "2022-02-27 13:43:34,225 : INFO : topic diff=0.575048, rho=0.340958\n",
      "2022-02-27 13:43:34,234 : INFO : PROGRESS: pass 7, at document #2000/3204\n",
      "2022-02-27 13:43:35,094 : INFO : optimized alpha [0.010620979, 0.011269772, 0.012049879, 0.0110653825, 0.010723736, 0.011070091, 0.010903962, 0.010481609, 0.011872334, 0.011174355, 0.011875093, 0.01074031, 0.011677733, 0.0124257, 0.011028054, 0.0109232385, 0.010625846, 0.012072192, 0.010346147, 0.011442975, 0.010580973, 0.010251774, 0.011758962, 0.009770796, 0.010715044, 0.011284028, 0.011356883, 0.011015534, 0.010131424, 0.011676186, 0.011018126, 0.012677888, 0.011298787, 0.012681788, 0.010690187, 0.008095815, 0.010478563, 0.011179468, 0.011347506, 0.008095815, 0.009521216, 0.010021564, 0.011361188, 0.010770229, 0.011438719, 0.012222733, 0.010989707, 0.012390604, 0.011157361, 0.010590038, 0.011465728, 0.011509343, 0.011941133, 0.0102279205, 0.01065765, 0.013570472, 0.012480219, 0.0107832365, 0.010935954, 0.01097306, 0.010807064, 0.011925398, 0.011264582, 0.010664261, 0.010670764, 0.0116169695, 0.010306089, 0.012507688, 0.011103359, 0.010360632, 0.010531128, 0.011354269, 0.010668498, 0.012753753, 0.012654231, 0.011406642, 0.011479048, 0.013232677, 0.011016131, 0.025636662, 0.011400606, 0.011441001, 0.011410029, 0.010757872, 0.011014365, 0.011801628, 0.011209365, 0.010446216, 0.010638109, 0.010438875, 0.010360677, 0.0122305155, 0.011381185, 0.010377562, 0.012084324, 0.0118687665, 0.010677216, 0.0096391635, 0.010905964, 0.010770018]\n",
      "2022-02-27 13:43:35,101 : INFO : merging changes from 2000 documents into a model of 3204 documents\n",
      "2022-02-27 13:43:35,111 : INFO : topic #39 (0.008): 0.001*\"795\" + 0.001*\"794\" + 0.001*\"801\" + 0.001*\"800\" + 0.001*\"799\" + 0.001*\"798\" + 0.001*\"797\" + 0.001*\"796\" + 0.001*\"803\" + 0.001*\"791\"\n",
      "2022-02-27 13:43:35,112 : INFO : topic #35 (0.008): 0.001*\"795\" + 0.001*\"794\" + 0.001*\"801\" + 0.001*\"800\" + 0.001*\"799\" + 0.001*\"798\" + 0.001*\"797\" + 0.001*\"796\" + 0.001*\"803\" + 0.001*\"791\"\n",
      "2022-02-27 13:43:35,113 : INFO : topic #77 (0.013): 0.302*\"115\" + 0.090*\"458\" + 0.036*\"57\" + 0.028*\"50\" + 0.027*\"63\" + 0.026*\"582\" + 0.026*\"64\" + 0.019*\"139\" + 0.018*\"49\" + 0.016*\"637\"\n",
      "2022-02-27 13:43:35,113 : INFO : topic #55 (0.014): 0.393*\"3\" + 0.127*\"13\" + 0.072*\"27\" + 0.055*\"50\" + 0.047*\"0\" + 0.031*\"29\" + 0.029*\"574\" + 0.020*\"488\" + 0.018*\"263\" + 0.016*\"28\"\n",
      "2022-02-27 13:43:35,115 : INFO : topic #79 (0.026): 0.329*\"34\" + 0.296*\"35\" + 0.248*\"83\" + 0.015*\"0\" + 0.015*\"273\" + 0.012*\"12\" + 0.012*\"202\" + 0.011*\"646\" + 0.010*\"73\" + 0.009*\"1036\"\n",
      "2022-02-27 13:43:35,116 : INFO : topic diff=0.500277, rho=0.322715\n",
      "2022-02-27 13:43:36,089 : INFO : -6.553 per-word bound, 93.9 perplexity estimate based on a held-out corpus of 1204 documents with 49783 words\n",
      "2022-02-27 13:43:36,090 : INFO : PROGRESS: pass 7, at document #3204/3204\n",
      "2022-02-27 13:43:36,918 : INFO : optimized alpha [0.010727496, 0.011490498, 0.011964716, 0.01121527, 0.010832861, 0.011283156, 0.011135421, 0.010547604, 0.012088863, 0.011364657, 0.012008659, 0.010885646, 0.01193311, 0.012813865, 0.01119443, 0.011089264, 0.010770633, 0.01231164, 0.010465329, 0.011626133, 0.010732062, 0.010361721, 0.011910158, 0.009786821, 0.010761187, 0.01149835, 0.0115017155, 0.011192265, 0.0102344705, 0.011915052, 0.011121847, 0.012861664, 0.011438977, 0.0130653335, 0.010814129, 0.0080191, 0.010617356, 0.011306492, 0.011553178, 0.0080191, 0.0095399385, 0.010042936, 0.011565899, 0.010889623, 0.011578318, 0.012554574, 0.011012804, 0.012575225, 0.011369943, 0.010671504, 0.011551188, 0.011747747, 0.012129692, 0.010337037, 0.01073083, 0.013859871, 0.01282324, 0.0109295705, 0.011102068, 0.011085463, 0.010962577, 0.012230737, 0.011484667, 0.010729897, 0.0107991835, 0.011870186, 0.010411369, 0.012752785, 0.011248672, 0.010489318, 0.010639405, 0.011518426, 0.010801553, 0.013079396, 0.012961184, 0.011489954, 0.011668512, 0.013644266, 0.011161906, 0.027313463, 0.011548265, 0.011618332, 0.011540613, 0.010896218, 0.011201445, 0.012011928, 0.011367472, 0.01053238, 0.010771228, 0.010567403, 0.0104522975, 0.012508314, 0.011629364, 0.010508039, 0.012302888, 0.012088332, 0.010887403, 0.009671628, 0.011094678, 0.010944531]\n",
      "2022-02-27 13:43:36,923 : INFO : merging changes from 1204 documents into a model of 3204 documents\n",
      "2022-02-27 13:43:36,930 : INFO : topic #39 (0.008): 0.001*\"795\" + 0.001*\"794\" + 0.001*\"801\" + 0.001*\"800\" + 0.001*\"799\" + 0.001*\"798\" + 0.001*\"797\" + 0.001*\"796\" + 0.001*\"803\" + 0.001*\"791\"\n",
      "2022-02-27 13:43:36,932 : INFO : topic #35 (0.008): 0.001*\"795\" + 0.001*\"794\" + 0.001*\"801\" + 0.001*\"800\" + 0.001*\"799\" + 0.001*\"798\" + 0.001*\"797\" + 0.001*\"796\" + 0.001*\"803\" + 0.001*\"791\"\n"
     ]
    },
    {
     "name": "stderr",
     "output_type": "stream",
     "text": [
      "2022-02-27 13:43:36,933 : INFO : topic #77 (0.014): 0.318*\"115\" + 0.101*\"458\" + 0.034*\"57\" + 0.027*\"50\" + 0.027*\"64\" + 0.026*\"63\" + 0.025*\"582\" + 0.022*\"139\" + 0.018*\"637\" + 0.017*\"49\"\n",
      "2022-02-27 13:43:36,934 : INFO : topic #55 (0.014): 0.407*\"3\" + 0.128*\"13\" + 0.069*\"27\" + 0.055*\"50\" + 0.043*\"0\" + 0.033*\"29\" + 0.026*\"574\" + 0.021*\"488\" + 0.019*\"263\" + 0.015*\"722\"\n",
      "2022-02-27 13:43:36,936 : INFO : topic #79 (0.027): 0.337*\"34\" + 0.296*\"35\" + 0.249*\"83\" + 0.016*\"0\" + 0.013*\"273\" + 0.012*\"12\" + 0.012*\"202\" + 0.010*\"73\" + 0.008*\"646\" + 0.008*\"296\"\n",
      "2022-02-27 13:43:36,938 : INFO : topic diff=0.502009, rho=0.322715\n",
      "2022-02-27 13:43:36,946 : INFO : PROGRESS: pass 8, at document #2000/3204\n",
      "2022-02-27 13:43:37,799 : INFO : optimized alpha [0.010739894, 0.011501712, 0.0123387, 0.011305938, 0.0108583635, 0.011246707, 0.011135231, 0.010620591, 0.012157497, 0.0113454135, 0.012121479, 0.010856494, 0.012048046, 0.012910594, 0.01120406, 0.0110979015, 0.010780121, 0.012494693, 0.010488982, 0.011716407, 0.010760826, 0.01032405, 0.012073085, 0.009811855, 0.010904672, 0.011527085, 0.011609568, 0.011239537, 0.010224998, 0.011933539, 0.011207335, 0.0130656315, 0.011496731, 0.01325488, 0.010868321, 0.007962421, 0.010700407, 0.011381899, 0.011560048, 0.007962421, 0.009517803, 0.010074062, 0.011584436, 0.010893514, 0.011654476, 0.012707577, 0.011120112, 0.012746757, 0.011353752, 0.010712119, 0.011783393, 0.011737563, 0.012262431, 0.010338088, 0.010808772, 0.014191464, 0.012798249, 0.010924921, 0.011101343, 0.011154172, 0.010974494, 0.012269019, 0.011531407, 0.010732598, 0.01076915, 0.011885693, 0.010425872, 0.013025101, 0.01124904, 0.01047282, 0.010692334, 0.011556889, 0.010822703, 0.013098614, 0.013149169, 0.011645404, 0.011674948, 0.013836659, 0.0112152, 0.02913075, 0.011558752, 0.01166415, 0.011662621, 0.010953665, 0.011290599, 0.012111174, 0.011362622, 0.010549432, 0.010773146, 0.010584209, 0.010468391, 0.01260754, 0.011629072, 0.010534723, 0.012467046, 0.012201946, 0.01086269, 0.009652231, 0.011079726, 0.010940835]\n",
      "2022-02-27 13:43:37,807 : INFO : merging changes from 2000 documents into a model of 3204 documents\n",
      "2022-02-27 13:43:37,815 : INFO : topic #39 (0.008): 0.001*\"795\" + 0.001*\"794\" + 0.001*\"801\" + 0.001*\"800\" + 0.001*\"799\" + 0.001*\"798\" + 0.001*\"797\" + 0.001*\"796\" + 0.001*\"803\" + 0.001*\"791\"\n",
      "2022-02-27 13:43:37,816 : INFO : topic #35 (0.008): 0.001*\"795\" + 0.001*\"794\" + 0.001*\"801\" + 0.001*\"800\" + 0.001*\"799\" + 0.001*\"798\" + 0.001*\"797\" + 0.001*\"796\" + 0.001*\"803\" + 0.001*\"791\"\n",
      "2022-02-27 13:43:37,818 : INFO : topic #77 (0.014): 0.317*\"115\" + 0.093*\"458\" + 0.038*\"57\" + 0.027*\"63\" + 0.027*\"50\" + 0.026*\"582\" + 0.026*\"64\" + 0.019*\"139\" + 0.018*\"49\" + 0.017*\"637\"\n",
      "2022-02-27 13:43:37,820 : INFO : topic #55 (0.014): 0.401*\"3\" + 0.128*\"13\" + 0.074*\"27\" + 0.055*\"50\" + 0.047*\"0\" + 0.029*\"574\" + 0.029*\"29\" + 0.020*\"488\" + 0.017*\"263\" + 0.017*\"28\"\n",
      "2022-02-27 13:43:37,822 : INFO : topic #79 (0.029): 0.336*\"34\" + 0.301*\"35\" + 0.244*\"83\" + 0.015*\"0\" + 0.014*\"273\" + 0.012*\"12\" + 0.011*\"202\" + 0.011*\"73\" + 0.010*\"646\" + 0.009*\"1036\"\n",
      "2022-02-27 13:43:37,823 : INFO : topic diff=0.435330, rho=0.307119\n",
      "2022-02-27 13:43:38,799 : INFO : -6.533 per-word bound, 92.6 perplexity estimate based on a held-out corpus of 1204 documents with 49783 words\n",
      "2022-02-27 13:43:38,800 : INFO : PROGRESS: pass 8, at document #3204/3204\n",
      "2022-02-27 13:43:39,632 : INFO : optimized alpha [0.010853338, 0.011720458, 0.01225006, 0.011464447, 0.010968814, 0.011454688, 0.011370182, 0.010681094, 0.012378786, 0.011525678, 0.01226853, 0.01100471, 0.012295644, 0.01328963, 0.011364159, 0.011260444, 0.01092207, 0.012720155, 0.010616917, 0.011889839, 0.010914419, 0.010429775, 0.012218195, 0.009835266, 0.010956635, 0.011739815, 0.011748686, 0.011415395, 0.010331836, 0.012167073, 0.011300888, 0.01324214, 0.011640481, 0.013626684, 0.010990119, 0.007892458, 0.0108727515, 0.011509635, 0.011770062, 0.007892458, 0.009543956, 0.010097596, 0.011787828, 0.011011009, 0.011782379, 0.013037546, 0.011150619, 0.012924167, 0.011558547, 0.010787539, 0.011873338, 0.011970574, 0.012446989, 0.010450969, 0.010878915, 0.014479451, 0.013130468, 0.011057047, 0.011284054, 0.011270594, 0.011132416, 0.01257126, 0.011755794, 0.010809569, 0.010914691, 0.012121235, 0.010526998, 0.013275636, 0.011385718, 0.0105965445, 0.010796253, 0.011711873, 0.010953323, 0.013417176, 0.013454459, 0.011730693, 0.011857193, 0.014257082, 0.011366723, 0.030874949, 0.011709461, 0.011849691, 0.011790886, 0.011095193, 0.011476784, 0.012310857, 0.011517464, 0.010637558, 0.010895555, 0.010710463, 0.010556333, 0.012886207, 0.011868755, 0.010660171, 0.012690859, 0.012420349, 0.011070851, 0.009686471, 0.011278509, 0.011106062]\n",
      "2022-02-27 13:43:39,638 : INFO : merging changes from 1204 documents into a model of 3204 documents\n",
      "2022-02-27 13:43:39,646 : INFO : topic #39 (0.008): 0.001*\"795\" + 0.001*\"794\" + 0.001*\"801\" + 0.001*\"800\" + 0.001*\"799\" + 0.001*\"798\" + 0.001*\"797\" + 0.001*\"796\" + 0.001*\"803\" + 0.001*\"791\"\n",
      "2022-02-27 13:43:39,646 : INFO : topic #35 (0.008): 0.001*\"795\" + 0.001*\"794\" + 0.001*\"801\" + 0.001*\"800\" + 0.001*\"799\" + 0.001*\"798\" + 0.001*\"797\" + 0.001*\"796\" + 0.001*\"803\" + 0.001*\"791\"\n",
      "2022-02-27 13:43:39,647 : INFO : topic #77 (0.014): 0.331*\"115\" + 0.102*\"458\" + 0.036*\"57\" + 0.027*\"64\" + 0.026*\"50\" + 0.026*\"63\" + 0.025*\"582\" + 0.021*\"139\" + 0.019*\"637\" + 0.017*\"49\"\n",
      "2022-02-27 13:43:39,648 : INFO : topic #55 (0.014): 0.415*\"3\" + 0.128*\"13\" + 0.071*\"27\" + 0.055*\"50\" + 0.044*\"0\" + 0.030*\"29\" + 0.026*\"574\" + 0.020*\"488\" + 0.018*\"263\" + 0.015*\"28\"\n",
      "2022-02-27 13:43:39,649 : INFO : topic #79 (0.031): 0.344*\"34\" + 0.301*\"35\" + 0.243*\"83\" + 0.016*\"0\" + 0.013*\"273\" + 0.012*\"12\" + 0.011*\"202\" + 0.010*\"73\" + 0.008*\"646\" + 0.008*\"296\"\n",
      "2022-02-27 13:43:39,650 : INFO : topic diff=0.437359, rho=0.307119\n",
      "2022-02-27 13:43:39,664 : INFO : PROGRESS: pass 9, at document #2000/3204\n",
      "2022-02-27 13:43:40,526 : INFO : optimized alpha [0.010879867, 0.01172529, 0.012614797, 0.011551938, 0.011004733, 0.011422331, 0.01137402, 0.010759582, 0.012446314, 0.011510101, 0.012395864, 0.010979818, 0.012408493, 0.013391842, 0.011369779, 0.011271689, 0.010934346, 0.012901957, 0.010647429, 0.0119802905, 0.01095475, 0.010397053, 0.012385341, 0.0098598255, 0.011113408, 0.011770345, 0.011838985, 0.0114639625, 0.010325894, 0.012183969, 0.0114003, 0.013442316, 0.011692649, 0.013817411, 0.011035757, 0.00784055, 0.010965836, 0.011587363, 0.011781139, 0.00784055, 0.009529278, 0.010127986, 0.01180857, 0.011016466, 0.011864346, 0.013187935, 0.011259258, 0.013105615, 0.011547347, 0.010822072, 0.012104915, 0.011958028, 0.012577231, 0.010458207, 0.010950967, 0.014807542, 0.013108162, 0.011052628, 0.0112861805, 0.011341799, 0.0111517925, 0.012606764, 0.011801952, 0.010810904, 0.01088734, 0.0121387495, 0.010544106, 0.013552212, 0.011386018, 0.010590093, 0.010845696, 0.011745192, 0.010978442, 0.013431956, 0.013635283, 0.011886537, 0.011866413, 0.014462922, 0.011421248, 0.032795418, 0.011719347, 0.011902084, 0.011914208, 0.011153771, 0.011566099, 0.012411945, 0.011515951, 0.01065261, 0.010900616, 0.010721785, 0.010575089, 0.012985242, 0.0118674375, 0.010690496, 0.012865064, 0.012539294, 0.011056136, 0.009671541, 0.011268469, 0.011108693]\n",
      "2022-02-27 13:43:40,532 : INFO : merging changes from 2000 documents into a model of 3204 documents\n",
      "2022-02-27 13:43:40,537 : INFO : topic #35 (0.008): 0.001*\"795\" + 0.001*\"794\" + 0.001*\"801\" + 0.001*\"800\" + 0.001*\"799\" + 0.001*\"798\" + 0.001*\"797\" + 0.001*\"796\" + 0.001*\"803\" + 0.001*\"791\"\n",
      "2022-02-27 13:43:40,538 : INFO : topic #39 (0.008): 0.001*\"795\" + 0.001*\"794\" + 0.001*\"801\" + 0.001*\"800\" + 0.001*\"799\" + 0.001*\"798\" + 0.001*\"797\" + 0.001*\"796\" + 0.001*\"803\" + 0.001*\"791\"\n",
      "2022-02-27 13:43:40,540 : INFO : topic #77 (0.014): 0.330*\"115\" + 0.095*\"458\" + 0.040*\"57\" + 0.027*\"63\" + 0.026*\"64\" + 0.026*\"50\" + 0.025*\"582\" + 0.019*\"139\" + 0.018*\"49\" + 0.018*\"637\"\n",
      "2022-02-27 13:43:40,541 : INFO : topic #55 (0.015): 0.408*\"3\" + 0.128*\"13\" + 0.075*\"27\" + 0.055*\"50\" + 0.048*\"0\" + 0.029*\"574\" + 0.027*\"29\" + 0.020*\"488\" + 0.017*\"263\" + 0.017*\"28\"\n",
      "2022-02-27 13:43:40,542 : INFO : topic #79 (0.033): 0.342*\"34\" + 0.305*\"35\" + 0.239*\"83\" + 0.015*\"0\" + 0.014*\"273\" + 0.011*\"12\" + 0.011*\"202\" + 0.011*\"73\" + 0.010*\"646\" + 0.009*\"1036\"\n"
     ]
    },
    {
     "name": "stderr",
     "output_type": "stream",
     "text": [
      "2022-02-27 13:43:40,544 : INFO : topic diff=0.379182, rho=0.293585\n",
      "2022-02-27 13:43:41,504 : INFO : -6.518 per-word bound, 91.6 perplexity estimate based on a held-out corpus of 1204 documents with 49783 words\n",
      "2022-02-27 13:43:41,505 : INFO : PROGRESS: pass 9, at document #3204/3204\n",
      "2022-02-27 13:43:42,328 : INFO : optimized alpha [0.010997443, 0.011940144, 0.012523, 0.011713652, 0.011111279, 0.0116235055, 0.011599087, 0.010828302, 0.012678964, 0.011687106, 0.012522403, 0.011122888, 0.012655556, 0.01376645, 0.011521506, 0.011431495, 0.011079664, 0.013139632, 0.010783967, 0.012150785, 0.011108584, 0.010509424, 0.0125373, 0.0098997215, 0.011173686, 0.011985084, 0.0119672725, 0.011645247, 0.010434036, 0.012410194, 0.011495928, 0.013619023, 0.011834373, 0.014209263, 0.011147814, 0.0077763014, 0.011186807, 0.011704897, 0.011990232, 0.0077763014, 0.009555096, 0.010148491, 0.012005405, 0.011132525, 0.011996256, 0.013523598, 0.011296585, 0.013273428, 0.011748308, 0.010900103, 0.012187742, 0.012189618, 0.012764806, 0.010577534, 0.011023874, 0.015091614, 0.013427752, 0.011193718, 0.011465643, 0.011448447, 0.011323597, 0.012909978, 0.012031096, 0.010901261, 0.011017076, 0.012370113, 0.010649399, 0.013812162, 0.011517936, 0.010704257, 0.01094583, 0.011891842, 0.011109847, 0.013738188, 0.013946447, 0.011965286, 0.012036653, 0.014876351, 0.011575999, 0.034653176, 0.011859131, 0.012087396, 0.012040711, 0.011290496, 0.01175205, 0.012605265, 0.011662617, 0.010740254, 0.011021406, 0.010840987, 0.0106625175, 0.013256282, 0.012108498, 0.010816766, 0.013088553, 0.01275443, 0.011263175, 0.009714503, 0.011466357, 0.01127103]\n",
      "2022-02-27 13:43:42,336 : INFO : merging changes from 1204 documents into a model of 3204 documents\n",
      "2022-02-27 13:43:42,344 : INFO : topic #35 (0.008): 0.001*\"795\" + 0.001*\"794\" + 0.001*\"801\" + 0.001*\"800\" + 0.001*\"799\" + 0.001*\"798\" + 0.001*\"797\" + 0.001*\"796\" + 0.001*\"803\" + 0.001*\"791\"\n",
      "2022-02-27 13:43:42,344 : INFO : topic #39 (0.008): 0.001*\"795\" + 0.001*\"794\" + 0.001*\"801\" + 0.001*\"800\" + 0.001*\"799\" + 0.001*\"798\" + 0.001*\"797\" + 0.001*\"796\" + 0.001*\"803\" + 0.001*\"791\"\n",
      "2022-02-27 13:43:42,345 : INFO : topic #77 (0.015): 0.341*\"115\" + 0.104*\"458\" + 0.037*\"57\" + 0.027*\"64\" + 0.025*\"63\" + 0.025*\"50\" + 0.024*\"582\" + 0.021*\"139\" + 0.019*\"637\" + 0.017*\"49\"\n",
      "2022-02-27 13:43:42,346 : INFO : topic #55 (0.015): 0.420*\"3\" + 0.128*\"13\" + 0.073*\"27\" + 0.056*\"50\" + 0.044*\"0\" + 0.028*\"29\" + 0.026*\"574\" + 0.019*\"488\" + 0.018*\"263\" + 0.016*\"28\"\n",
      "2022-02-27 13:43:42,347 : INFO : topic #79 (0.035): 0.349*\"34\" + 0.305*\"35\" + 0.239*\"83\" + 0.016*\"0\" + 0.012*\"273\" + 0.011*\"12\" + 0.010*\"73\" + 0.010*\"202\" + 0.008*\"646\" + 0.008*\"1036\"\n",
      "2022-02-27 13:43:42,348 : INFO : topic diff=0.383343, rho=0.293585\n",
      "2022-02-27 13:43:42,358 : INFO : PROGRESS: pass 10, at document #2000/3204\n",
      "2022-02-27 13:43:43,169 : INFO : optimized alpha [0.011021506, 0.011956067, 0.012877898, 0.011796684, 0.011142869, 0.011598225, 0.011606823, 0.010902932, 0.012749007, 0.011678373, 0.012646107, 0.011105121, 0.012784737, 0.013876494, 0.011530056, 0.011445315, 0.011088102, 0.0133244665, 0.010817894, 0.012239982, 0.011152078, 0.010478136, 0.012696675, 0.009933623, 0.011335799, 0.012024243, 0.01205302, 0.011695157, 0.010432784, 0.012425657, 0.011595715, 0.013825651, 0.01188815, 0.014399402, 0.011191921, 0.00772849, 0.011296023, 0.011780179, 0.012005338, 0.00772849, 0.009543046, 0.010178258, 0.012031831, 0.011140945, 0.012077325, 0.013685222, 0.011402037, 0.013459498, 0.011736865, 0.010936775, 0.0124159, 0.0121783195, 0.0128947515, 0.010586033, 0.01110022, 0.015419152, 0.013406294, 0.011192458, 0.011464026, 0.011515863, 0.011359677, 0.012943037, 0.012075063, 0.010908998, 0.0109908, 0.01238624, 0.010669015, 0.014105352, 0.011526265, 0.010702744, 0.01099523, 0.011925519, 0.011137146, 0.0137528125, 0.014126704, 0.012118602, 0.012048603, 0.015077324, 0.011628536, 0.036672667, 0.011870201, 0.012144578, 0.012162242, 0.011347143, 0.011841783, 0.012712097, 0.011666002, 0.010755009, 0.011029485, 0.010853447, 0.010683768, 0.013355348, 0.012106244, 0.010846022, 0.013274894, 0.012871629, 0.011249839, 0.009704906, 0.011460934, 0.011266915]\n",
      "2022-02-27 13:43:43,176 : INFO : merging changes from 2000 documents into a model of 3204 documents\n",
      "2022-02-27 13:43:43,184 : INFO : topic #35 (0.008): 0.001*\"795\" + 0.001*\"794\" + 0.001*\"801\" + 0.001*\"800\" + 0.001*\"799\" + 0.001*\"798\" + 0.001*\"797\" + 0.001*\"796\" + 0.001*\"803\" + 0.001*\"791\"\n",
      "2022-02-27 13:43:43,184 : INFO : topic #39 (0.008): 0.001*\"795\" + 0.001*\"794\" + 0.001*\"801\" + 0.001*\"800\" + 0.001*\"799\" + 0.001*\"798\" + 0.001*\"797\" + 0.001*\"796\" + 0.001*\"803\" + 0.001*\"791\"\n",
      "2022-02-27 13:43:43,185 : INFO : topic #77 (0.015): 0.340*\"115\" + 0.097*\"458\" + 0.041*\"57\" + 0.027*\"63\" + 0.026*\"64\" + 0.025*\"582\" + 0.024*\"50\" + 0.018*\"637\" + 0.018*\"139\" + 0.018*\"49\"\n",
      "2022-02-27 13:43:43,186 : INFO : topic #55 (0.015): 0.412*\"3\" + 0.128*\"13\" + 0.077*\"27\" + 0.056*\"50\" + 0.049*\"0\" + 0.029*\"574\" + 0.025*\"29\" + 0.019*\"488\" + 0.018*\"28\" + 0.018*\"263\"\n",
      "2022-02-27 13:43:43,187 : INFO : topic #79 (0.037): 0.347*\"34\" + 0.309*\"35\" + 0.236*\"83\" + 0.015*\"0\" + 0.013*\"273\" + 0.011*\"12\" + 0.011*\"73\" + 0.010*\"646\" + 0.010*\"202\" + 0.008*\"1036\"\n",
      "2022-02-27 13:43:43,188 : INFO : topic diff=0.332585, rho=0.281696\n",
      "2022-02-27 13:43:44,134 : INFO : -6.503 per-word bound, 90.7 perplexity estimate based on a held-out corpus of 1204 documents with 49783 words\n",
      "2022-02-27 13:43:44,134 : INFO : PROGRESS: pass 10, at document #3204/3204\n",
      "2022-02-27 13:43:44,932 : INFO : optimized alpha [0.011143278, 0.012164944, 0.012786111, 0.011956358, 0.011251288, 0.011807173, 0.011828526, 0.010971905, 0.012984489, 0.011850119, 0.012774386, 0.011254271, 0.01303189, 0.014244357, 0.01168247, 0.0116002755, 0.011226348, 0.013562452, 0.010945249, 0.012399593, 0.011306574, 0.010586966, 0.012846823, 0.00997475, 0.0113987895, 0.012230361, 0.01217428, 0.011876649, 0.0105350455, 0.012642547, 0.011688014, 0.013996606, 0.012039671, 0.014795334, 0.011305578, 0.007669141, 0.011544291, 0.0118994005, 0.012219961, 0.007669141, 0.009575268, 0.010200856, 0.012231702, 0.011258549, 0.012207811, 0.014030816, 0.011451311, 0.013621775, 0.011931979, 0.011009788, 0.012495, 0.012400528, 0.013079832, 0.01070417, 0.011173359, 0.01569619, 0.013714494, 0.011323857, 0.011635505, 0.011613585, 0.0115398895, 0.013254128, 0.012298177, 0.010993874, 0.011116526, 0.01262587, 0.010768507, 0.014378765, 0.0116565665, 0.01082343, 0.011086973, 0.012061927, 0.01127749, 0.014047762, 0.0144378655, 0.012197095, 0.012207897, 0.015473473, 0.0117758, 0.03864904, 0.01201109, 0.0123216715, 0.01228153, 0.011485035, 0.0120225325, 0.012884855, 0.011824583, 0.010850081, 0.011151624, 0.010979057, 0.01078339, 0.013638311, 0.012349275, 0.010970884, 0.01350182, 0.01308103, 0.011458994, 0.009749121, 0.011677475, 0.011426903]\n",
      "2022-02-27 13:43:44,938 : INFO : merging changes from 1204 documents into a model of 3204 documents\n",
      "2022-02-27 13:43:44,944 : INFO : topic #35 (0.008): 0.001*\"795\" + 0.001*\"794\" + 0.001*\"801\" + 0.001*\"800\" + 0.001*\"799\" + 0.001*\"798\" + 0.001*\"797\" + 0.001*\"796\" + 0.001*\"803\" + 0.001*\"791\"\n",
      "2022-02-27 13:43:44,945 : INFO : topic #39 (0.008): 0.001*\"795\" + 0.001*\"794\" + 0.001*\"801\" + 0.001*\"800\" + 0.001*\"799\" + 0.001*\"798\" + 0.001*\"797\" + 0.001*\"796\" + 0.001*\"803\" + 0.001*\"791\"\n",
      "2022-02-27 13:43:44,946 : INFO : topic #77 (0.015): 0.350*\"115\" + 0.104*\"458\" + 0.039*\"57\" + 0.027*\"64\" + 0.025*\"63\" + 0.024*\"50\" + 0.024*\"582\" + 0.020*\"139\" + 0.019*\"637\" + 0.018*\"129\"\n",
      "2022-02-27 13:43:44,947 : INFO : topic #55 (0.016): 0.424*\"3\" + 0.129*\"13\" + 0.075*\"27\" + 0.056*\"50\" + 0.045*\"0\" + 0.027*\"574\" + 0.026*\"29\" + 0.019*\"488\" + 0.019*\"263\" + 0.016*\"28\"\n",
      "2022-02-27 13:43:44,948 : INFO : topic #79 (0.039): 0.354*\"34\" + 0.309*\"35\" + 0.236*\"83\" + 0.016*\"0\" + 0.012*\"273\" + 0.011*\"12\" + 0.010*\"73\" + 0.010*\"202\" + 0.008*\"646\" + 0.008*\"1036\"\n",
      "2022-02-27 13:43:44,948 : INFO : topic diff=0.337766, rho=0.281696\n",
      "2022-02-27 13:43:44,958 : INFO : PROGRESS: pass 11, at document #2000/3204\n",
      "2022-02-27 13:43:45,764 : INFO : optimized alpha [0.011165089, 0.012184722, 0.013132151, 0.012041828, 0.011289636, 0.011781963, 0.011836906, 0.011047547, 0.01305733, 0.011846181, 0.012898326, 0.011239983, 0.013162982, 0.014350655, 0.011698418, 0.011616573, 0.011242157, 0.013747044, 0.0109765725, 0.012482748, 0.0113516925, 0.010556901, 0.013012928, 0.01001467, 0.011566386, 0.012269447, 0.012247586, 0.011927979, 0.010538326, 0.012655086, 0.011790137, 0.014198734, 0.012096689, 0.014991499, 0.011345243, 0.0076248604, 0.011652425, 0.011977371, 0.012235534, 0.0076248604, 0.009561679, 0.0102286795, 0.012256818, 0.011265187, 0.012293133, 0.014201801, 0.011560155, 0.013814479, 0.011920265, 0.01104254, 0.012718634, 0.012388765, 0.01321165, 0.010715338, 0.011253794, 0.01601507, 0.0136938095, 0.011328815, 0.011638257, 0.0116743855, 0.0115759615, 0.013286614, 0.012348504, 0.011004593, 0.011095749, 0.0126424525, 0.010787586, 0.014676009, 0.011664594, 0.010827843, 0.011134951, 0.012092833, 0.01130988, 0.014064323, 0.014625739, 0.012348297, 0.012220973, 0.015688905, 0.011828258, 0.0407132, 0.012021804, 0.012380303, 0.012396585, 0.011538365, 0.012111314, 0.012990377, 0.011837303, 0.010867451, 0.011165492, 0.010991052, 0.010811372, 0.013739553, 0.012349445, 0.011002207, 0.0136860525, 0.013196847, 0.011448436, 0.00973906, 0.011679527, 0.011425643]\n"
     ]
    },
    {
     "name": "stderr",
     "output_type": "stream",
     "text": [
      "2022-02-27 13:43:45,771 : INFO : merging changes from 2000 documents into a model of 3204 documents\n",
      "2022-02-27 13:43:45,779 : INFO : topic #39 (0.008): 0.001*\"795\" + 0.001*\"794\" + 0.001*\"801\" + 0.001*\"800\" + 0.001*\"799\" + 0.001*\"798\" + 0.001*\"797\" + 0.001*\"796\" + 0.001*\"803\" + 0.001*\"791\"\n",
      "2022-02-27 13:43:45,780 : INFO : topic #35 (0.008): 0.001*\"795\" + 0.001*\"794\" + 0.001*\"801\" + 0.001*\"800\" + 0.001*\"799\" + 0.001*\"798\" + 0.001*\"797\" + 0.001*\"796\" + 0.001*\"803\" + 0.001*\"791\"\n",
      "2022-02-27 13:43:45,781 : INFO : topic #77 (0.016): 0.348*\"115\" + 0.098*\"458\" + 0.043*\"57\" + 0.026*\"63\" + 0.026*\"64\" + 0.024*\"582\" + 0.023*\"50\" + 0.018*\"637\" + 0.018*\"49\" + 0.018*\"120\"\n",
      "2022-02-27 13:43:45,782 : INFO : topic #55 (0.016): 0.417*\"3\" + 0.128*\"13\" + 0.078*\"27\" + 0.056*\"50\" + 0.049*\"0\" + 0.030*\"574\" + 0.023*\"29\" + 0.019*\"488\" + 0.018*\"28\" + 0.018*\"263\"\n",
      "2022-02-27 13:43:45,783 : INFO : topic #79 (0.041): 0.351*\"34\" + 0.312*\"35\" + 0.234*\"83\" + 0.015*\"0\" + 0.012*\"273\" + 0.011*\"12\" + 0.011*\"73\" + 0.010*\"646\" + 0.009*\"202\" + 0.008*\"1036\"\n",
      "2022-02-27 13:43:45,785 : INFO : topic diff=0.294371, rho=0.271143\n",
      "2022-02-27 13:43:46,714 : INFO : -6.491 per-word bound, 90.0 perplexity estimate based on a held-out corpus of 1204 documents with 49783 words\n",
      "2022-02-27 13:43:46,715 : INFO : PROGRESS: pass 11, at document #3204/3204\n",
      "2022-02-27 13:43:47,485 : INFO : optimized alpha [0.011288657, 0.01238834, 0.013040364, 0.012205284, 0.01139497, 0.011977469, 0.012055874, 0.011114425, 0.013293213, 0.012013327, 0.013025615, 0.011395233, 0.013416875, 0.0147125535, 0.011851939, 0.011767253, 0.011384267, 0.013985843, 0.011112681, 0.012635065, 0.011514929, 0.010674631, 0.013155661, 0.010059242, 0.011629522, 0.012476044, 0.012365053, 0.012099365, 0.0106448075, 0.012863399, 0.011876773, 0.014364429, 0.012246878, 0.015409591, 0.011455552, 0.00756975, 0.011928236, 0.012095807, 0.012433636, 0.00756975, 0.009593377, 0.010248582, 0.012462829, 0.011379397, 0.012422569, 0.01455494, 0.011597102, 0.0139840515, 0.012112855, 0.011115915, 0.012794364, 0.012608053, 0.013397723, 0.010835044, 0.011332229, 0.01630727, 0.014004066, 0.011464176, 0.011818388, 0.011774446, 0.011762129, 0.013606184, 0.01256627, 0.011094515, 0.011222916, 0.012873492, 0.010889014, 0.014953678, 0.011791201, 0.010950024, 0.0112239495, 0.012225347, 0.011451412, 0.014355485, 0.014954333, 0.012423936, 0.012381292, 0.016086094, 0.011968702, 0.042748354, 0.01215053, 0.01255264, 0.012514981, 0.011675141, 0.012287375, 0.013158357, 0.012005088, 0.010954837, 0.011289206, 0.011110586, 0.010912997, 0.0140227685, 0.012575389, 0.011130991, 0.013923163, 0.013410209, 0.011654955, 0.009784495, 0.011898717, 0.011576155]\n",
      "2022-02-27 13:43:47,491 : INFO : merging changes from 1204 documents into a model of 3204 documents\n",
      "2022-02-27 13:43:47,498 : INFO : topic #39 (0.008): 0.001*\"795\" + 0.001*\"794\" + 0.001*\"801\" + 0.001*\"800\" + 0.001*\"799\" + 0.001*\"798\" + 0.001*\"797\" + 0.001*\"796\" + 0.001*\"803\" + 0.001*\"791\"\n",
      "2022-02-27 13:43:47,499 : INFO : topic #35 (0.008): 0.001*\"795\" + 0.001*\"794\" + 0.001*\"801\" + 0.001*\"800\" + 0.001*\"799\" + 0.001*\"798\" + 0.001*\"797\" + 0.001*\"796\" + 0.001*\"803\" + 0.001*\"791\"\n",
      "2022-02-27 13:43:47,500 : INFO : topic #77 (0.016): 0.357*\"115\" + 0.105*\"458\" + 0.040*\"57\" + 0.027*\"64\" + 0.025*\"63\" + 0.024*\"582\" + 0.023*\"50\" + 0.020*\"637\" + 0.019*\"139\" + 0.019*\"129\"\n",
      "2022-02-27 13:43:47,500 : INFO : topic #55 (0.016): 0.428*\"3\" + 0.128*\"13\" + 0.076*\"27\" + 0.056*\"50\" + 0.046*\"0\" + 0.027*\"574\" + 0.024*\"29\" + 0.019*\"488\" + 0.019*\"263\" + 0.017*\"28\"\n",
      "2022-02-27 13:43:47,502 : INFO : topic #79 (0.043): 0.359*\"34\" + 0.312*\"35\" + 0.232*\"83\" + 0.016*\"0\" + 0.011*\"12\" + 0.010*\"73\" + 0.010*\"273\" + 0.009*\"202\" + 0.008*\"646\" + 0.007*\"1036\"\n",
      "2022-02-27 13:43:47,504 : INFO : topic diff=0.300545, rho=0.271143\n",
      "2022-02-27 13:43:47,513 : INFO : PROGRESS: pass 12, at document #2000/3204\n",
      "2022-02-27 13:43:48,312 : INFO : optimized alpha [0.011312797, 0.012408657, 0.013381822, 0.012291645, 0.01142475, 0.011950867, 0.012064881, 0.011194097, 0.013367082, 0.012010801, 0.013150028, 0.011387197, 0.013536144, 0.014815423, 0.011878086, 0.011782858, 0.011394874, 0.014172463, 0.011145916, 0.012715927, 0.011564689, 0.010649824, 0.013325257, 0.010100966, 0.011795223, 0.01252026, 0.012439602, 0.012149031, 0.01065083, 0.012868191, 0.011981196, 0.014560616, 0.012310445, 0.01560413, 0.0114926165, 0.0075285495, 0.012038585, 0.012176497, 0.01245818, 0.0075285495, 0.009582069, 0.010278692, 0.012488371, 0.01138734, 0.012505609, 0.014728215, 0.011700292, 0.014200142, 0.012102563, 0.0111567415, 0.013015624, 0.012594261, 0.013528069, 0.01084868, 0.011409252, 0.016633015, 0.013984117, 0.011471925, 0.011825325, 0.011833679, 0.011804576, 0.013636338, 0.012616389, 0.011108033, 0.011204286, 0.0128921755, 0.010904751, 0.0152554475, 0.011797438, 0.010962978, 0.011270695, 0.012256874, 0.011481232, 0.014368271, 0.015142424, 0.0125783235, 0.012397044, 0.016295344, 0.012021172, 0.04490162, 0.012159303, 0.012617625, 0.012628963, 0.011728483, 0.0123738125, 0.013268031, 0.012020355, 0.010971873, 0.011302599, 0.011123668, 0.010945968, 0.014120889, 0.012574744, 0.011162823, 0.01409844, 0.013526664, 0.01164402, 0.009777803, 0.0119015165, 0.011577775]\n",
      "2022-02-27 13:43:48,320 : INFO : merging changes from 2000 documents into a model of 3204 documents\n",
      "2022-02-27 13:43:48,326 : INFO : topic #35 (0.008): 0.001*\"795\" + 0.001*\"794\" + 0.001*\"801\" + 0.001*\"800\" + 0.001*\"799\" + 0.001*\"798\" + 0.001*\"797\" + 0.001*\"796\" + 0.001*\"803\" + 0.001*\"791\"\n",
      "2022-02-27 13:43:48,327 : INFO : topic #39 (0.008): 0.001*\"795\" + 0.001*\"794\" + 0.001*\"801\" + 0.001*\"800\" + 0.001*\"799\" + 0.001*\"798\" + 0.001*\"797\" + 0.001*\"796\" + 0.001*\"803\" + 0.001*\"791\"\n",
      "2022-02-27 13:43:48,328 : INFO : topic #77 (0.016): 0.356*\"115\" + 0.098*\"458\" + 0.044*\"57\" + 0.027*\"64\" + 0.026*\"63\" + 0.024*\"582\" + 0.022*\"50\" + 0.019*\"129\" + 0.019*\"637\" + 0.018*\"120\"\n",
      "2022-02-27 13:43:48,328 : INFO : topic #55 (0.017): 0.420*\"3\" + 0.127*\"13\" + 0.079*\"27\" + 0.056*\"50\" + 0.050*\"0\" + 0.029*\"574\" + 0.021*\"29\" + 0.019*\"488\" + 0.019*\"28\" + 0.018*\"263\"\n",
      "2022-02-27 13:43:48,329 : INFO : topic #79 (0.045): 0.356*\"34\" + 0.315*\"35\" + 0.231*\"83\" + 0.016*\"0\" + 0.011*\"73\" + 0.010*\"12\" + 0.010*\"646\" + 0.009*\"273\" + 0.009*\"202\" + 0.008*\"1036\"\n",
      "2022-02-27 13:43:48,330 : INFO : topic diff=0.262703, rho=0.261694\n",
      "2022-02-27 13:43:49,230 : INFO : -6.483 per-word bound, 89.5 perplexity estimate based on a held-out corpus of 1204 documents with 49783 words\n",
      "2022-02-27 13:43:49,230 : INFO : PROGRESS: pass 12, at document #3204/3204\n",
      "2022-02-27 13:43:49,995 : INFO : optimized alpha [0.011435673, 0.012604769, 0.013292858, 0.012456553, 0.011529829, 0.012154672, 0.012279031, 0.011266386, 0.013606711, 0.012181729, 0.013273651, 0.011536125, 0.01380302, 0.015175107, 0.012038195, 0.011934879, 0.011530911, 0.014409459, 0.0112761585, 0.0128725525, 0.011736665, 0.01077388, 0.013464041, 0.010157659, 0.011858555, 0.01272504, 0.012553844, 0.012313549, 0.010763837, 0.01306866, 0.01207062, 0.01472477, 0.012454305, 0.016011164, 0.011604942, 0.0074771554, 0.012337198, 0.012297073, 0.012659825, 0.0074771554, 0.009615382, 0.010300604, 0.012681463, 0.011500982, 0.012637023, 0.015086354, 0.01174617, 0.014374259, 0.01229312, 0.011225638, 0.013091096, 0.0128002055, 0.01371248, 0.010977291, 0.011483131, 0.016915733, 0.014290964, 0.011616303, 0.012003743, 0.011930994, 0.01199694, 0.013956196, 0.012837602, 0.011193128, 0.011335509, 0.013126688, 0.01100831, 0.015534472, 0.0119207725, 0.0110772485, 0.011357239, 0.012385889, 0.011621705, 0.014649943, 0.015485771, 0.01264865, 0.012542399, 0.01671568, 0.0121607045, 0.04696293, 0.012292616, 0.012791353, 0.012752304, 0.011866859, 0.012545769, 0.013434619, 0.012181323, 0.011064199, 0.011418173, 0.011232779, 0.011052079, 0.014392428, 0.012798335, 0.011288308, 0.014361369, 0.01372952, 0.01185094, 0.009830774, 0.012110654, 0.011729485]\n",
      "2022-02-27 13:43:50,000 : INFO : merging changes from 1204 documents into a model of 3204 documents\n",
      "2022-02-27 13:43:50,007 : INFO : topic #39 (0.007): 0.001*\"795\" + 0.001*\"794\" + 0.001*\"801\" + 0.001*\"800\" + 0.001*\"799\" + 0.001*\"798\" + 0.001*\"797\" + 0.001*\"796\" + 0.001*\"803\" + 0.001*\"791\"\n",
      "2022-02-27 13:43:50,008 : INFO : topic #35 (0.007): 0.001*\"795\" + 0.001*\"794\" + 0.001*\"801\" + 0.001*\"800\" + 0.001*\"799\" + 0.001*\"798\" + 0.001*\"797\" + 0.001*\"796\" + 0.001*\"803\" + 0.001*\"791\"\n"
     ]
    },
    {
     "name": "stderr",
     "output_type": "stream",
     "text": [
      "2022-02-27 13:43:50,009 : INFO : topic #77 (0.017): 0.365*\"115\" + 0.105*\"458\" + 0.042*\"57\" + 0.028*\"64\" + 0.025*\"63\" + 0.024*\"582\" + 0.022*\"50\" + 0.020*\"637\" + 0.019*\"129\" + 0.019*\"139\"\n",
      "2022-02-27 13:43:50,010 : INFO : topic #55 (0.017): 0.431*\"3\" + 0.128*\"13\" + 0.077*\"27\" + 0.057*\"50\" + 0.047*\"0\" + 0.027*\"574\" + 0.022*\"29\" + 0.019*\"488\" + 0.019*\"263\" + 0.017*\"28\"\n",
      "2022-02-27 13:43:50,011 : INFO : topic #79 (0.047): 0.363*\"34\" + 0.315*\"35\" + 0.230*\"83\" + 0.017*\"0\" + 0.010*\"73\" + 0.010*\"12\" + 0.009*\"202\" + 0.008*\"646\" + 0.008*\"273\" + 0.007*\"1036\"\n",
      "2022-02-27 13:43:50,011 : INFO : topic diff=0.269264, rho=0.261694\n",
      "2022-02-27 13:43:50,019 : INFO : PROGRESS: pass 13, at document #2000/3204\n",
      "2022-02-27 13:43:50,771 : INFO : optimized alpha [0.011462059, 0.012630656, 0.013628732, 0.012542347, 0.011564782, 0.012134421, 0.0122886915, 0.011344311, 0.0136782825, 0.012178974, 0.013393649, 0.01152811, 0.013908955, 0.01527282, 0.012066455, 0.011948332, 0.01154262, 0.014591006, 0.011308448, 0.012951372, 0.011796978, 0.010753853, 0.013633924, 0.010201102, 0.012024148, 0.012766044, 0.012626533, 0.012366432, 0.010769704, 0.013069449, 0.012179022, 0.014913543, 0.0125178415, 0.016206287, 0.0116395345, 0.007438678, 0.012459422, 0.012375899, 0.012691353, 0.007438678, 0.009608622, 0.010328984, 0.012704335, 0.011511681, 0.012725931, 0.01525828, 0.011854439, 0.014585138, 0.01228258, 0.011261325, 0.013313744, 0.012787821, 0.013841717, 0.010987732, 0.011568807, 0.017233608, 0.014271729, 0.011623727, 0.012003991, 0.011984313, 0.012045638, 0.01398418, 0.01288921, 0.011206452, 0.011324545, 0.01314417, 0.01103204, 0.015843166, 0.011926852, 0.011095477, 0.01140143, 0.012414994, 0.011653562, 0.014663055, 0.015670571, 0.012803153, 0.012555946, 0.016923146, 0.012211765, 0.049179323, 0.012305837, 0.0128609855, 0.012871928, 0.0119203385, 0.012639615, 0.013553641, 0.012200448, 0.0110907275, 0.011432638, 0.011245531, 0.011087058, 0.01449314, 0.012798548, 0.011320702, 0.014535353, 0.013846787, 0.011839638, 0.009825949, 0.012112685, 0.011736847]\n",
      "2022-02-27 13:43:50,778 : INFO : merging changes from 2000 documents into a model of 3204 documents\n",
      "2022-02-27 13:43:50,786 : INFO : topic #35 (0.007): 0.001*\"795\" + 0.001*\"794\" + 0.001*\"801\" + 0.001*\"800\" + 0.001*\"799\" + 0.001*\"798\" + 0.001*\"797\" + 0.001*\"796\" + 0.001*\"803\" + 0.001*\"791\"\n",
      "2022-02-27 13:43:50,787 : INFO : topic #39 (0.007): 0.001*\"795\" + 0.001*\"794\" + 0.001*\"801\" + 0.001*\"800\" + 0.001*\"799\" + 0.001*\"798\" + 0.001*\"797\" + 0.001*\"796\" + 0.001*\"803\" + 0.001*\"791\"\n",
      "2022-02-27 13:43:50,788 : INFO : topic #77 (0.017): 0.364*\"115\" + 0.099*\"458\" + 0.045*\"57\" + 0.027*\"64\" + 0.026*\"63\" + 0.024*\"582\" + 0.021*\"50\" + 0.019*\"129\" + 0.019*\"637\" + 0.018*\"120\"\n",
      "2022-02-27 13:43:50,789 : INFO : topic #55 (0.017): 0.424*\"3\" + 0.126*\"13\" + 0.079*\"27\" + 0.057*\"50\" + 0.050*\"0\" + 0.029*\"574\" + 0.020*\"29\" + 0.019*\"488\" + 0.019*\"28\" + 0.018*\"263\"\n",
      "2022-02-27 13:43:50,790 : INFO : topic #79 (0.049): 0.360*\"34\" + 0.318*\"35\" + 0.229*\"83\" + 0.016*\"0\" + 0.011*\"73\" + 0.010*\"646\" + 0.010*\"12\" + 0.009*\"202\" + 0.008*\"1036\" + 0.007*\"273\"\n",
      "2022-02-27 13:43:50,791 : INFO : topic diff=0.236686, rho=0.253169\n",
      "2022-02-27 13:43:51,677 : INFO : -6.473 per-word bound, 88.8 perplexity estimate based on a held-out corpus of 1204 documents with 49783 words\n",
      "2022-02-27 13:43:51,678 : INFO : PROGRESS: pass 13, at document #3204/3204\n",
      "2022-02-27 13:43:52,407 : INFO : optimized alpha [0.011579644, 0.012833336, 0.013539521, 0.012706258, 0.011669773, 0.01233642, 0.012506301, 0.011409913, 0.013922068, 0.012343479, 0.013514162, 0.011683487, 0.014174467, 0.01563072, 0.012235711, 0.01209434, 0.011682926, 0.014820429, 0.01144283, 0.013101625, 0.011965451, 0.010884064, 0.013771988, 0.0102564385, 0.012085323, 0.012972124, 0.012737882, 0.012532445, 0.010879975, 0.013268165, 0.012268617, 0.015073351, 0.0126718115, 0.016629776, 0.011751568, 0.007390554, 0.012786925, 0.012490878, 0.012891517, 0.007390554, 0.009641443, 0.010350641, 0.012893351, 0.011620165, 0.0128646055, 0.015621909, 0.011893801, 0.0147550255, 0.012466306, 0.011335729, 0.01339198, 0.0129838195, 0.014024828, 0.011111093, 0.011643231, 0.017517747, 0.0145879425, 0.011769627, 0.012180978, 0.0120791895, 0.012234203, 0.014301843, 0.013108801, 0.011291895, 0.011457504, 0.013371297, 0.011149258, 0.016130842, 0.012052277, 0.011207062, 0.01148579, 0.012540866, 0.011790793, 0.014935951, 0.016009392, 0.012876589, 0.012700508, 0.017338863, 0.012350511, 0.051270414, 0.012425469, 0.013030911, 0.0129893785, 0.012063275, 0.0128051685, 0.013710518, 0.012365652, 0.011180811, 0.011552699, 0.011354385, 0.0111999195, 0.014768917, 0.013020145, 0.0114576295, 0.0147909215, 0.014045443, 0.012044918, 0.009886071, 0.0123279, 0.011887576]\n",
      "2022-02-27 13:43:52,413 : INFO : merging changes from 1204 documents into a model of 3204 documents\n",
      "2022-02-27 13:43:52,419 : INFO : topic #39 (0.007): 0.001*\"795\" + 0.001*\"794\" + 0.001*\"801\" + 0.001*\"800\" + 0.001*\"799\" + 0.001*\"798\" + 0.001*\"797\" + 0.001*\"796\" + 0.001*\"803\" + 0.001*\"791\"\n",
      "2022-02-27 13:43:52,420 : INFO : topic #35 (0.007): 0.001*\"795\" + 0.001*\"794\" + 0.001*\"801\" + 0.001*\"800\" + 0.001*\"799\" + 0.001*\"798\" + 0.001*\"797\" + 0.001*\"796\" + 0.001*\"803\" + 0.001*\"791\"\n",
      "2022-02-27 13:43:52,422 : INFO : topic #77 (0.017): 0.372*\"115\" + 0.106*\"458\" + 0.043*\"57\" + 0.028*\"64\" + 0.024*\"63\" + 0.024*\"582\" + 0.021*\"50\" + 0.020*\"129\" + 0.020*\"637\" + 0.018*\"139\"\n",
      "2022-02-27 13:43:52,424 : INFO : topic #55 (0.018): 0.435*\"3\" + 0.127*\"13\" + 0.078*\"27\" + 0.057*\"50\" + 0.047*\"0\" + 0.027*\"574\" + 0.021*\"29\" + 0.019*\"263\" + 0.019*\"488\" + 0.017*\"28\"\n",
      "2022-02-27 13:43:52,425 : INFO : topic #79 (0.051): 0.368*\"34\" + 0.318*\"35\" + 0.227*\"83\" + 0.017*\"0\" + 0.010*\"73\" + 0.009*\"12\" + 0.008*\"202\" + 0.008*\"646\" + 0.007*\"1036\" + 0.006*\"273\"\n",
      "2022-02-27 13:43:52,425 : INFO : topic diff=0.243113, rho=0.253169\n",
      "2022-02-27 13:43:52,432 : INFO : PROGRESS: pass 14, at document #2000/3204\n",
      "2022-02-27 13:43:53,153 : INFO : optimized alpha [0.011605379, 0.012861287, 0.01387038, 0.012788593, 0.011690912, 0.012317598, 0.012518154, 0.011490528, 0.013993315, 0.012342047, 0.013630037, 0.011679784, 0.014277947, 0.015725404, 0.012267517, 0.012108774, 0.011695691, 0.015002672, 0.011477049, 0.013178621, 0.012021341, 0.010876691, 0.013940707, 0.010307868, 0.012252623, 0.013014907, 0.012807446, 0.012586975, 0.010885734, 0.013266763, 0.0123764705, 0.015262503, 0.012740118, 0.01681537, 0.011786791, 0.007354492, 0.012921247, 0.012571067, 0.012928336, 0.007354492, 0.009637741, 0.0103799505, 0.012916817, 0.01163064, 0.012967403, 0.015788872, 0.012004169, 0.014964556, 0.012454074, 0.0113721285, 0.013613068, 0.012972842, 0.014156635, 0.011129433, 0.011731579, 0.017843267, 0.014567518, 0.01178106, 0.012182302, 0.012134337, 0.012284505, 0.014327764, 0.01316044, 0.011310655, 0.011443912, 0.013389305, 0.011176567, 0.016439008, 0.0120612, 0.011227738, 0.011529058, 0.012570748, 0.011823181, 0.014947616, 0.016197003, 0.013031499, 0.0127167925, 0.017555367, 0.012398784, 0.05361026, 0.012438393, 0.013097275, 0.013106685, 0.012116918, 0.012895464, 0.013830544, 0.012384107, 0.011206847, 0.011568205, 0.011368273, 0.011234086, 0.0148777375, 0.013018038, 0.011486307, 0.01496201, 0.014161943, 0.012033256, 0.009882903, 0.01233527, 0.01189305]\n",
      "2022-02-27 13:43:53,158 : INFO : merging changes from 2000 documents into a model of 3204 documents\n",
      "2022-02-27 13:43:53,164 : INFO : topic #39 (0.007): 0.001*\"795\" + 0.001*\"794\" + 0.001*\"801\" + 0.001*\"800\" + 0.001*\"799\" + 0.001*\"798\" + 0.001*\"797\" + 0.001*\"796\" + 0.001*\"803\" + 0.001*\"791\"\n",
      "2022-02-27 13:43:53,165 : INFO : topic #35 (0.007): 0.001*\"795\" + 0.001*\"794\" + 0.001*\"801\" + 0.001*\"800\" + 0.001*\"799\" + 0.001*\"798\" + 0.001*\"797\" + 0.001*\"796\" + 0.001*\"803\" + 0.001*\"791\"\n",
      "2022-02-27 13:43:53,166 : INFO : topic #77 (0.018): 0.371*\"115\" + 0.100*\"458\" + 0.047*\"57\" + 0.027*\"64\" + 0.025*\"63\" + 0.024*\"582\" + 0.020*\"50\" + 0.020*\"129\" + 0.019*\"120\" + 0.018*\"637\"\n",
      "2022-02-27 13:43:53,167 : INFO : topic #55 (0.018): 0.428*\"3\" + 0.126*\"13\" + 0.080*\"27\" + 0.058*\"50\" + 0.050*\"0\" + 0.029*\"574\" + 0.019*\"488\" + 0.019*\"29\" + 0.018*\"28\" + 0.018*\"263\"\n",
      "2022-02-27 13:43:53,167 : INFO : topic #79 (0.054): 0.365*\"34\" + 0.321*\"35\" + 0.227*\"83\" + 0.016*\"0\" + 0.011*\"73\" + 0.010*\"646\" + 0.008*\"1036\" + 0.008*\"12\" + 0.008*\"202\" + 0.005*\"273\"\n"
     ]
    },
    {
     "name": "stderr",
     "output_type": "stream",
     "text": [
      "2022-02-27 13:43:53,168 : INFO : topic diff=0.215176, rho=0.245426\n",
      "2022-02-27 13:43:54,029 : INFO : -6.466 per-word bound, 88.4 perplexity estimate based on a held-out corpus of 1204 documents with 49783 words\n",
      "2022-02-27 13:43:54,030 : INFO : PROGRESS: pass 14, at document #3204/3204\n",
      "2022-02-27 13:43:54,739 : INFO : optimized alpha [0.011725266, 0.013065514, 0.0137780495, 0.012949163, 0.011795989, 0.012518185, 0.012744696, 0.0115569, 0.014235806, 0.012513314, 0.013747632, 0.011829583, 0.014545376, 0.016075559, 0.012430901, 0.012249188, 0.011830601, 0.015224948, 0.011610931, 0.013325606, 0.012196346, 0.0110064605, 0.014081085, 0.01036194, 0.012316764, 0.013217274, 0.012916159, 0.012749618, 0.010995714, 0.013458691, 0.01246391, 0.0154183125, 0.012890945, 0.017248694, 0.011896216, 0.0073092757, 0.013270877, 0.012696326, 0.0131248, 0.0073092757, 0.0096700555, 0.010405594, 0.0131020555, 0.011748563, 0.0131028965, 0.01615841, 0.012049629, 0.015127312, 0.012636577, 0.011444871, 0.013688593, 0.013162172, 0.014347368, 0.011252496, 0.011804153, 0.018125897, 0.014875419, 0.011923924, 0.01236081, 0.012224568, 0.012474719, 0.014652322, 0.013373501, 0.01139654, 0.011578675, 0.013617899, 0.011298227, 0.016728839, 0.012186287, 0.01134618, 0.011611462, 0.012696397, 0.011959843, 0.0152154425, 0.016528321, 0.013107993, 0.012858113, 0.017981322, 0.012537149, 0.05575522, 0.012565725, 0.01326636, 0.0132267745, 0.012256806, 0.013065573, 0.013992458, 0.012548315, 0.011299561, 0.0116856145, 0.011474722, 0.011339894, 0.015154985, 0.01323552, 0.011613273, 0.015225783, 0.014362568, 0.012242095, 0.009939752, 0.012541474, 0.012043068]\n",
      "2022-02-27 13:43:54,746 : INFO : merging changes from 1204 documents into a model of 3204 documents\n",
      "2022-02-27 13:43:54,752 : INFO : topic #35 (0.007): 0.001*\"795\" + 0.001*\"794\" + 0.001*\"801\" + 0.001*\"800\" + 0.001*\"799\" + 0.001*\"798\" + 0.001*\"797\" + 0.001*\"796\" + 0.001*\"803\" + 0.001*\"791\"\n",
      "2022-02-27 13:43:54,753 : INFO : topic #39 (0.007): 0.001*\"795\" + 0.001*\"794\" + 0.001*\"801\" + 0.001*\"800\" + 0.001*\"799\" + 0.001*\"798\" + 0.001*\"797\" + 0.001*\"796\" + 0.001*\"803\" + 0.001*\"791\"\n",
      "2022-02-27 13:43:54,754 : INFO : topic #77 (0.018): 0.378*\"115\" + 0.106*\"458\" + 0.044*\"57\" + 0.028*\"64\" + 0.024*\"63\" + 0.023*\"582\" + 0.021*\"129\" + 0.020*\"50\" + 0.020*\"637\" + 0.018*\"139\"\n",
      "2022-02-27 13:43:54,755 : INFO : topic #55 (0.018): 0.437*\"3\" + 0.127*\"13\" + 0.079*\"27\" + 0.058*\"50\" + 0.048*\"0\" + 0.027*\"574\" + 0.019*\"29\" + 0.019*\"263\" + 0.019*\"488\" + 0.017*\"28\"\n",
      "2022-02-27 13:43:54,756 : INFO : topic #79 (0.056): 0.373*\"34\" + 0.321*\"35\" + 0.225*\"83\" + 0.017*\"0\" + 0.011*\"73\" + 0.008*\"646\" + 0.007*\"202\" + 0.007*\"1036\" + 0.007*\"12\" + 0.004*\"273\"\n",
      "2022-02-27 13:43:54,758 : INFO : topic diff=0.221169, rho=0.245426\n",
      "2022-02-27 13:43:54,765 : INFO : PROGRESS: pass 15, at document #2000/3204\n",
      "2022-02-27 13:43:55,471 : INFO : optimized alpha [0.01175466, 0.013095567, 0.014104329, 0.013029739, 0.01181531, 0.012499225, 0.012757085, 0.011641533, 0.014306733, 0.012513098, 0.013869636, 0.011827206, 0.0146465, 0.016169278, 0.01246175, 0.012264601, 0.011842914, 0.0154008325, 0.01164291, 0.01339933, 0.01225819, 0.010995176, 0.014253969, 0.010417405, 0.012480065, 0.013258764, 0.01298581, 0.012804345, 0.011001347, 0.013453656, 0.0125744175, 0.015609961, 0.012962526, 0.01744137, 0.011930614, 0.0072753653, 0.013405011, 0.0127793895, 0.013155645, 0.0072753653, 0.0096680345, 0.010436974, 0.01312151, 0.0117601985, 0.013205287, 0.016335959, 0.012155049, 0.015328558, 0.012624183, 0.011479252, 0.013906787, 0.013151047, 0.01448352, 0.011270342, 0.011895191, 0.01844846, 0.014853893, 0.011940648, 0.012363212, 0.012281519, 0.012531133, 0.01468315, 0.013425148, 0.011420459, 0.011566704, 0.01363974, 0.011324836, 0.017048668, 0.012196421, 0.011371839, 0.011652468, 0.012725546, 0.011997079, 0.015225762, 0.016716862, 0.013258795, 0.012870751, 0.018202942, 0.012585789, 0.058143694, 0.012578344, 0.013334313, 0.013348314, 0.012309203, 0.013158663, 0.014108511, 0.012569112, 0.011329218, 0.011702183, 0.01148832, 0.011376012, 0.015264802, 0.013231224, 0.011639889, 0.015394224, 0.014480282, 0.012227072, 0.009934589, 0.012548131, 0.01204822]\n",
      "2022-02-27 13:43:55,477 : INFO : merging changes from 2000 documents into a model of 3204 documents\n",
      "2022-02-27 13:43:55,483 : INFO : topic #39 (0.007): 0.001*\"795\" + 0.001*\"794\" + 0.001*\"801\" + 0.001*\"800\" + 0.001*\"799\" + 0.001*\"798\" + 0.001*\"797\" + 0.001*\"796\" + 0.001*\"803\" + 0.001*\"791\"\n",
      "2022-02-27 13:43:55,484 : INFO : topic #35 (0.007): 0.001*\"795\" + 0.001*\"794\" + 0.001*\"801\" + 0.001*\"800\" + 0.001*\"799\" + 0.001*\"798\" + 0.001*\"797\" + 0.001*\"796\" + 0.001*\"803\" + 0.001*\"791\"\n",
      "2022-02-27 13:43:55,485 : INFO : topic #77 (0.018): 0.378*\"115\" + 0.101*\"458\" + 0.047*\"57\" + 0.027*\"64\" + 0.025*\"63\" + 0.024*\"582\" + 0.020*\"129\" + 0.019*\"50\" + 0.019*\"120\" + 0.018*\"637\"\n",
      "2022-02-27 13:43:55,486 : INFO : topic #55 (0.018): 0.431*\"3\" + 0.125*\"13\" + 0.081*\"27\" + 0.058*\"50\" + 0.051*\"0\" + 0.030*\"574\" + 0.019*\"488\" + 0.018*\"263\" + 0.018*\"28\" + 0.017*\"29\"\n",
      "2022-02-27 13:43:55,487 : INFO : topic #79 (0.058): 0.369*\"34\" + 0.323*\"35\" + 0.226*\"83\" + 0.016*\"0\" + 0.011*\"73\" + 0.009*\"646\" + 0.008*\"1036\" + 0.007*\"202\" + 0.007*\"12\" + 0.004*\"1131\"\n",
      "2022-02-27 13:43:55,488 : INFO : topic diff=0.197113, rho=0.238352\n",
      "2022-02-27 13:43:56,339 : INFO : -6.460 per-word bound, 88.1 perplexity estimate based on a held-out corpus of 1204 documents with 49783 words\n",
      "2022-02-27 13:43:56,340 : INFO : PROGRESS: pass 15, at document #3204/3204\n",
      "2022-02-27 13:43:57,017 : INFO : optimized alpha [0.011874523, 0.013301528, 0.014011809, 0.01319244, 0.011925315, 0.012703571, 0.012982574, 0.011708654, 0.014542543, 0.012676089, 0.01398446, 0.011983557, 0.014907293, 0.016515106, 0.012629503, 0.012404638, 0.011982379, 0.015622204, 0.011771847, 0.013543281, 0.012427838, 0.011126817, 0.014391214, 0.010466125, 0.012544747, 0.013465544, 0.01309469, 0.0129638845, 0.011109096, 0.0136364605, 0.012662366, 0.015761979, 0.013113129, 0.017882254, 0.012042447, 0.0072327405, 0.013774967, 0.012899522, 0.013348661, 0.0072327405, 0.009699894, 0.010462278, 0.013298182, 0.011873389, 0.013340464, 0.016708696, 0.012201582, 0.015490647, 0.012800676, 0.011550428, 0.0139907375, 0.013336772, 0.014673491, 0.011386517, 0.011973251, 0.018733222, 0.015154035, 0.012083024, 0.012548146, 0.012369829, 0.012735633, 0.015009424, 0.01363999, 0.0115090925, 0.01170341, 0.013864522, 0.011448641, 0.017351119, 0.0123238275, 0.01149019, 0.011733093, 0.01285111, 0.012140548, 0.015488919, 0.017054202, 0.0133305015, 0.013011801, 0.018646955, 0.0127238305, 0.06021568, 0.012703019, 0.013497561, 0.013465726, 0.012448789, 0.013323026, 0.014267154, 0.012732721, 0.011420028, 0.0118218735, 0.011592607, 0.011493282, 0.015544072, 0.013447572, 0.011771217, 0.015672505, 0.014686208, 0.0124298325, 0.009986389, 0.012753314, 0.012197664]\n",
      "2022-02-27 13:43:57,025 : INFO : merging changes from 1204 documents into a model of 3204 documents\n",
      "2022-02-27 13:43:57,034 : INFO : topic #35 (0.007): 0.001*\"795\" + 0.001*\"794\" + 0.001*\"801\" + 0.001*\"800\" + 0.001*\"799\" + 0.001*\"798\" + 0.001*\"797\" + 0.001*\"796\" + 0.001*\"803\" + 0.001*\"791\"\n",
      "2022-02-27 13:43:57,035 : INFO : topic #39 (0.007): 0.001*\"795\" + 0.001*\"794\" + 0.001*\"801\" + 0.001*\"800\" + 0.001*\"799\" + 0.001*\"798\" + 0.001*\"797\" + 0.001*\"796\" + 0.001*\"803\" + 0.001*\"791\"\n",
      "2022-02-27 13:43:57,038 : INFO : topic #77 (0.019): 0.383*\"115\" + 0.107*\"458\" + 0.045*\"57\" + 0.028*\"64\" + 0.024*\"63\" + 0.023*\"582\" + 0.021*\"129\" + 0.019*\"637\" + 0.019*\"50\" + 0.018*\"139\"\n",
      "2022-02-27 13:43:57,039 : INFO : topic #55 (0.019): 0.440*\"3\" + 0.126*\"13\" + 0.080*\"27\" + 0.058*\"50\" + 0.048*\"0\" + 0.027*\"574\" + 0.019*\"263\" + 0.019*\"488\" + 0.018*\"29\" + 0.017*\"28\"\n",
      "2022-02-27 13:43:57,039 : INFO : topic #79 (0.060): 0.376*\"34\" + 0.322*\"35\" + 0.224*\"83\" + 0.017*\"0\" + 0.011*\"73\" + 0.008*\"646\" + 0.007*\"1036\" + 0.007*\"202\" + 0.006*\"12\" + 0.004*\"1131\"\n",
      "2022-02-27 13:43:57,040 : INFO : topic diff=0.202735, rho=0.238352\n",
      "2022-02-27 13:43:57,048 : INFO : PROGRESS: pass 16, at document #2000/3204\n",
      "2022-02-27 13:43:57,734 : INFO : optimized alpha [0.011899117, 0.013332012, 0.01433394, 0.013271414, 0.011952569, 0.012682898, 0.01299554, 0.011793265, 0.01461836, 0.012674125, 0.014107617, 0.011979543, 0.015009768, 0.016604172, 0.012663833, 0.01241959, 0.011995737, 0.015793743, 0.011804429, 0.0136155225, 0.012489792, 0.011116965, 0.014560088, 0.010523048, 0.0127101485, 0.013507287, 0.013159993, 0.013018848, 0.011115898, 0.013631129, 0.01277409, 0.015949015, 0.013180215, 0.018071927, 0.012076134, 0.007200766, 0.013909007, 0.012981063, 0.01337999, 0.007200766, 0.009698324, 0.010493301, 0.013319981, 0.01188337, 0.013442659, 0.01689313, 0.012309349, 0.015694574, 0.012789652, 0.011585583, 0.014207984, 0.013327038, 0.014808983, 0.011403947, 0.012065592, 0.019059733, 0.015135032, 0.012103427, 0.012551532, 0.012430029, 0.012793591, 0.015038348, 0.0136918, 0.011535291, 0.011694322, 0.0138868615, 0.011475975, 0.017669262, 0.012336608, 0.01151125, 0.011773375, 0.012879597, 0.0121797, 0.015497978, 0.017249785, 0.013486754, 0.0130240405, 0.018867532, 0.012772907, 0.0626343, 0.01271387, 0.013565632, 0.013586867, 0.012505928, 0.013419029, 0.014379538, 0.012755839, 0.011443794, 0.011839415, 0.0116059715, 0.011527282, 0.015667621, 0.01344735, 0.011797156, 0.015842082, 0.014805289, 0.012424677, 0.009981654, 0.012765207, 0.012206742]\n"
     ]
    },
    {
     "name": "stderr",
     "output_type": "stream",
     "text": [
      "2022-02-27 13:43:57,740 : INFO : merging changes from 2000 documents into a model of 3204 documents\n",
      "2022-02-27 13:43:57,746 : INFO : topic #39 (0.007): 0.001*\"795\" + 0.001*\"794\" + 0.001*\"801\" + 0.001*\"800\" + 0.001*\"799\" + 0.001*\"798\" + 0.001*\"797\" + 0.001*\"796\" + 0.001*\"803\" + 0.001*\"791\"\n",
      "2022-02-27 13:43:57,747 : INFO : topic #35 (0.007): 0.001*\"795\" + 0.001*\"794\" + 0.001*\"801\" + 0.001*\"800\" + 0.001*\"799\" + 0.001*\"798\" + 0.001*\"797\" + 0.001*\"796\" + 0.001*\"803\" + 0.001*\"791\"\n",
      "2022-02-27 13:43:57,748 : INFO : topic #77 (0.019): 0.383*\"115\" + 0.101*\"458\" + 0.049*\"57\" + 0.027*\"64\" + 0.025*\"63\" + 0.024*\"582\" + 0.021*\"129\" + 0.019*\"120\" + 0.019*\"50\" + 0.018*\"637\"\n",
      "2022-02-27 13:43:57,750 : INFO : topic #55 (0.019): 0.433*\"3\" + 0.125*\"13\" + 0.082*\"27\" + 0.059*\"50\" + 0.052*\"0\" + 0.030*\"574\" + 0.019*\"488\" + 0.019*\"263\" + 0.018*\"28\" + 0.016*\"29\"\n",
      "2022-02-27 13:43:57,751 : INFO : topic #79 (0.063): 0.373*\"34\" + 0.324*\"35\" + 0.225*\"83\" + 0.017*\"0\" + 0.011*\"73\" + 0.009*\"646\" + 0.008*\"1036\" + 0.006*\"202\" + 0.005*\"12\" + 0.004*\"1131\"\n",
      "2022-02-27 13:43:57,752 : INFO : topic diff=0.181865, rho=0.231857\n",
      "2022-02-27 13:43:58,573 : INFO : -6.453 per-word bound, 87.6 perplexity estimate based on a held-out corpus of 1204 documents with 49783 words\n",
      "2022-02-27 13:43:58,574 : INFO : PROGRESS: pass 16, at document #3204/3204\n",
      "2022-02-27 13:43:59,238 : INFO : optimized alpha [0.012016787, 0.013526974, 0.014238416, 0.013436394, 0.012058233, 0.012886316, 0.0132278865, 0.011861275, 0.014853421, 0.012831707, 0.014225561, 0.012133189, 0.015278841, 0.016949298, 0.012831209, 0.012559444, 0.012134983, 0.016017608, 0.011928683, 0.013759321, 0.012663934, 0.011246158, 0.014691621, 0.01057688, 0.012770494, 0.0137082115, 0.013266629, 0.01317808, 0.011223731, 0.013810592, 0.0128601175, 0.01609752, 0.013325598, 0.018516945, 0.01218578, 0.007160474, 0.014297415, 0.013101344, 0.013572497, 0.007160474, 0.009729795, 0.010522334, 0.013496148, 0.012001243, 0.013577765, 0.01727269, 0.012357034, 0.01585618, 0.012965532, 0.01165311, 0.01429215, 0.013512053, 0.015004124, 0.01153131, 0.012141908, 0.019347152, 0.015430783, 0.012238554, 0.012740839, 0.01251653, 0.013000194, 0.015363752, 0.013903344, 0.011622204, 0.011826246, 0.014110905, 0.011595309, 0.017984886, 0.012456817, 0.0116296895, 0.011854611, 0.013007738, 0.012318265, 0.015756864, 0.01760033, 0.013559134, 0.0131649, 0.019308146, 0.0129109165, 0.064687, 0.012831199, 0.0137232635, 0.013701841, 0.012640617, 0.013583104, 0.014537993, 0.012929034, 0.011535051, 0.011961412, 0.0117104985, 0.011644616, 0.015946161, 0.013657571, 0.011923825, 0.016120063, 0.015005063, 0.012631579, 0.010040263, 0.0129672205, 0.012353507]\n",
      "2022-02-27 13:43:59,244 : INFO : merging changes from 1204 documents into a model of 3204 documents\n",
      "2022-02-27 13:43:59,249 : INFO : topic #39 (0.007): 0.001*\"795\" + 0.001*\"794\" + 0.001*\"801\" + 0.001*\"800\" + 0.001*\"799\" + 0.001*\"798\" + 0.001*\"797\" + 0.001*\"796\" + 0.001*\"803\" + 0.001*\"791\"\n",
      "2022-02-27 13:43:59,251 : INFO : topic #35 (0.007): 0.001*\"795\" + 0.001*\"794\" + 0.001*\"801\" + 0.001*\"800\" + 0.001*\"799\" + 0.001*\"798\" + 0.001*\"797\" + 0.001*\"796\" + 0.001*\"803\" + 0.001*\"791\"\n",
      "2022-02-27 13:43:59,252 : INFO : topic #77 (0.019): 0.389*\"115\" + 0.107*\"458\" + 0.046*\"57\" + 0.028*\"64\" + 0.024*\"63\" + 0.023*\"582\" + 0.021*\"129\" + 0.019*\"637\" + 0.018*\"50\" + 0.018*\"139\"\n",
      "2022-02-27 13:43:59,252 : INFO : topic #55 (0.019): 0.442*\"3\" + 0.126*\"13\" + 0.081*\"27\" + 0.059*\"50\" + 0.049*\"0\" + 0.028*\"574\" + 0.019*\"263\" + 0.019*\"488\" + 0.017*\"29\" + 0.017*\"28\"\n",
      "2022-02-27 13:43:59,253 : INFO : topic #79 (0.065): 0.379*\"34\" + 0.323*\"35\" + 0.224*\"83\" + 0.017*\"0\" + 0.011*\"73\" + 0.008*\"646\" + 0.007*\"1036\" + 0.006*\"202\" + 0.004*\"12\" + 0.004*\"1131\"\n",
      "2022-02-27 13:43:59,254 : INFO : topic diff=0.187338, rho=0.231857\n",
      "2022-02-27 13:43:59,262 : INFO : PROGRESS: pass 17, at document #2000/3204\n",
      "2022-02-27 13:43:59,926 : INFO : optimized alpha [0.012040868, 0.013556452, 0.014553468, 0.013513864, 0.012089173, 0.012872782, 0.013239889, 0.01194589, 0.0149240615, 0.012832464, 0.014335454, 0.012131827, 0.015382699, 0.017037712, 0.0128660975, 0.012573947, 0.012146536, 0.016190378, 0.011963239, 0.013831696, 0.012730318, 0.011244146, 0.014859938, 0.010631728, 0.012930825, 0.013751907, 0.013332266, 0.013234776, 0.011236734, 0.0138065815, 0.0129761305, 0.016283745, 0.013394497, 0.01870783, 0.012221557, 0.0071302317, 0.0144362245, 0.013185968, 0.013605902, 0.0071302317, 0.009729742, 0.010552998, 0.01351411, 0.012012342, 0.013681329, 0.017454537, 0.012464431, 0.016059471, 0.012954367, 0.011691655, 0.014510299, 0.01350517, 0.015137486, 0.011552272, 0.012238396, 0.01967351, 0.015410814, 0.012258501, 0.012743658, 0.012575749, 0.013059769, 0.015399405, 0.013956904, 0.0116506815, 0.011821303, 0.014128979, 0.011624682, 0.018303456, 0.012469285, 0.011650258, 0.011894207, 0.013034129, 0.012353838, 0.01576837, 0.017787263, 0.013711743, 0.013176733, 0.019523526, 0.012963354, 0.06716537, 0.012843322, 0.013786858, 0.0138226785, 0.012703893, 0.013675914, 0.014641913, 0.0129513815, 0.011557107, 0.011981276, 0.0117236385, 0.01168052, 0.016070953, 0.013655191, 0.011951893, 0.016283631, 0.015122169, 0.0126158325, 0.010037026, 0.012984254, 0.012358009]\n",
      "2022-02-27 13:43:59,932 : INFO : merging changes from 2000 documents into a model of 3204 documents\n",
      "2022-02-27 13:43:59,939 : INFO : topic #35 (0.007): 0.001*\"795\" + 0.001*\"794\" + 0.001*\"801\" + 0.001*\"800\" + 0.001*\"799\" + 0.001*\"798\" + 0.001*\"797\" + 0.001*\"796\" + 0.001*\"803\" + 0.001*\"791\"\n",
      "2022-02-27 13:43:59,940 : INFO : topic #39 (0.007): 0.001*\"795\" + 0.001*\"794\" + 0.001*\"801\" + 0.001*\"800\" + 0.001*\"799\" + 0.001*\"798\" + 0.001*\"797\" + 0.001*\"796\" + 0.001*\"803\" + 0.001*\"791\"\n",
      "2022-02-27 13:43:59,941 : INFO : topic #77 (0.020): 0.388*\"115\" + 0.102*\"458\" + 0.050*\"57\" + 0.027*\"64\" + 0.025*\"63\" + 0.023*\"582\" + 0.021*\"129\" + 0.019*\"120\" + 0.018*\"637\" + 0.018*\"50\"\n",
      "2022-02-27 13:43:59,942 : INFO : topic #55 (0.020): 0.435*\"3\" + 0.125*\"13\" + 0.083*\"27\" + 0.059*\"50\" + 0.052*\"0\" + 0.030*\"574\" + 0.019*\"488\" + 0.019*\"263\" + 0.018*\"28\" + 0.016*\"29\"\n",
      "2022-02-27 13:43:59,944 : INFO : topic #79 (0.067): 0.375*\"34\" + 0.325*\"35\" + 0.225*\"83\" + 0.017*\"0\" + 0.011*\"73\" + 0.009*\"646\" + 0.008*\"1036\" + 0.005*\"202\" + 0.004*\"1131\" + 0.004*\"12\"\n",
      "2022-02-27 13:43:59,944 : INFO : topic diff=0.168729, rho=0.225865\n",
      "2022-02-27 13:44:00,744 : INFO : -6.448 per-word bound, 87.3 perplexity estimate based on a held-out corpus of 1204 documents with 49783 words\n",
      "2022-02-27 13:44:00,744 : INFO : PROGRESS: pass 17, at document #3204/3204\n",
      "2022-02-27 13:44:01,381 : INFO : optimized alpha [0.01216108, 0.013753559, 0.014457831, 0.013673631, 0.012195227, 0.0130755585, 0.013471636, 0.012014735, 0.015155834, 0.012984938, 0.014456499, 0.012282959, 0.01564279, 0.017379113, 0.013038125, 0.012711329, 0.012285791, 0.016407736, 0.012080838, 0.013972954, 0.01290193, 0.011369041, 0.014991508, 0.0106865065, 0.012989483, 0.013955094, 0.013434345, 0.013391375, 0.011342672, 0.01398037, 0.013060342, 0.016428957, 0.013539976, 0.01915028, 0.012331463, 0.0070920424, 0.014841266, 0.013308971, 0.01381097, 0.0070920424, 0.009762639, 0.010577611, 0.013690007, 0.0121259, 0.013808795, 0.01784129, 0.012515678, 0.016214734, 0.013129832, 0.011762322, 0.014591983, 0.01368463, 0.015335205, 0.011684079, 0.012315549, 0.019952467, 0.015705436, 0.012393657, 0.01293733, 0.012660585, 0.013268596, 0.015727088, 0.014170667, 0.011740439, 0.011948701, 0.0143497335, 0.011750691, 0.018622465, 0.012587314, 0.011764406, 0.011976128, 0.013157502, 0.012492441, 0.016020289, 0.018137813, 0.013784801, 0.013320156, 0.01995353, 0.013096487, 0.06917248, 0.012953623, 0.0139470305, 0.013940534, 0.012841103, 0.0138450125, 0.01479481, 0.013119387, 0.0116532305, 0.01210339, 0.011821844, 0.011800231, 0.016364055, 0.013862184, 0.012080868, 0.016558345, 0.015316, 0.012822094, 0.010098373, 0.013188258, 0.01250228]\n",
      "2022-02-27 13:44:01,387 : INFO : merging changes from 1204 documents into a model of 3204 documents\n",
      "2022-02-27 13:44:01,393 : INFO : topic #39 (0.007): 0.001*\"795\" + 0.001*\"794\" + 0.001*\"801\" + 0.001*\"800\" + 0.001*\"799\" + 0.001*\"798\" + 0.001*\"797\" + 0.001*\"796\" + 0.001*\"803\" + 0.001*\"791\"\n",
      "2022-02-27 13:44:01,394 : INFO : topic #35 (0.007): 0.001*\"795\" + 0.001*\"794\" + 0.001*\"801\" + 0.001*\"800\" + 0.001*\"799\" + 0.001*\"798\" + 0.001*\"797\" + 0.001*\"796\" + 0.001*\"803\" + 0.001*\"791\"\n"
     ]
    },
    {
     "name": "stderr",
     "output_type": "stream",
     "text": [
      "2022-02-27 13:44:01,396 : INFO : topic #77 (0.020): 0.394*\"115\" + 0.107*\"458\" + 0.047*\"57\" + 0.028*\"64\" + 0.023*\"63\" + 0.022*\"582\" + 0.021*\"129\" + 0.019*\"637\" + 0.017*\"50\" + 0.017*\"139\"\n",
      "2022-02-27 13:44:01,397 : INFO : topic #55 (0.020): 0.444*\"3\" + 0.126*\"13\" + 0.082*\"27\" + 0.059*\"50\" + 0.050*\"0\" + 0.028*\"574\" + 0.020*\"263\" + 0.019*\"488\" + 0.017*\"28\" + 0.016*\"29\"\n",
      "2022-02-27 13:44:01,398 : INFO : topic #79 (0.069): 0.382*\"34\" + 0.324*\"35\" + 0.223*\"83\" + 0.018*\"0\" + 0.011*\"73\" + 0.008*\"646\" + 0.007*\"1036\" + 0.005*\"202\" + 0.004*\"1131\" + 0.003*\"12\"\n",
      "2022-02-27 13:44:01,400 : INFO : topic diff=0.173831, rho=0.225865\n",
      "2022-02-27 13:44:01,409 : INFO : PROGRESS: pass 18, at document #2000/3204\n",
      "2022-02-27 13:44:02,063 : INFO : optimized alpha [0.01218602, 0.013782048, 0.014767755, 0.013752679, 0.012228358, 0.013061676, 0.013481196, 0.012096814, 0.015228132, 0.012982607, 0.014574357, 0.012281368, 0.015746437, 0.017465042, 0.013070651, 0.012724027, 0.012299706, 0.016574604, 0.012114725, 0.014044015, 0.012969934, 0.011366982, 0.01516111, 0.0107405195, 0.013144942, 0.013999041, 0.013498876, 0.0134469075, 0.011357954, 0.013976102, 0.013171919, 0.016616352, 0.013609158, 0.019335976, 0.012365185, 0.00706338, 0.014983394, 0.013393667, 0.013846384, 0.00706338, 0.009768338, 0.010609107, 0.013710357, 0.012140772, 0.013913857, 0.018030396, 0.012624254, 0.016417505, 0.013121444, 0.011798985, 0.014809536, 0.0136760175, 0.0154699525, 0.011705829, 0.01241602, 0.020274114, 0.01568448, 0.01241446, 0.012943851, 0.0127244685, 0.013326873, 0.0157625, 0.014224498, 0.011769749, 0.011943794, 0.014370021, 0.01178075, 0.018941436, 0.012603681, 0.011784551, 0.012013763, 0.013183352, 0.012527239, 0.016028872, 0.018326161, 0.013939943, 0.013331672, 0.020172123, 0.013149363, 0.07162405, 0.012967002, 0.014004734, 0.014059612, 0.012900366, 0.013942345, 0.014898686, 0.013148373, 0.011676218, 0.012121421, 0.011834808, 0.01183674, 0.016488485, 0.013857705, 0.012109658, 0.016719708, 0.015438048, 0.012811671, 0.010097606, 0.013204444, 0.012509257]\n",
      "2022-02-27 13:44:02,069 : INFO : merging changes from 2000 documents into a model of 3204 documents\n",
      "2022-02-27 13:44:02,075 : INFO : topic #39 (0.007): 0.001*\"795\" + 0.001*\"794\" + 0.001*\"801\" + 0.001*\"800\" + 0.001*\"799\" + 0.001*\"798\" + 0.001*\"797\" + 0.001*\"796\" + 0.001*\"803\" + 0.001*\"791\"\n",
      "2022-02-27 13:44:02,076 : INFO : topic #35 (0.007): 0.001*\"795\" + 0.001*\"794\" + 0.001*\"801\" + 0.001*\"800\" + 0.001*\"799\" + 0.001*\"798\" + 0.001*\"797\" + 0.001*\"796\" + 0.001*\"803\" + 0.001*\"791\"\n",
      "2022-02-27 13:44:02,077 : INFO : topic #77 (0.020): 0.394*\"115\" + 0.102*\"458\" + 0.051*\"57\" + 0.027*\"64\" + 0.025*\"63\" + 0.023*\"582\" + 0.021*\"129\" + 0.019*\"120\" + 0.018*\"637\" + 0.017*\"50\"\n",
      "2022-02-27 13:44:02,078 : INFO : topic #55 (0.020): 0.437*\"3\" + 0.125*\"13\" + 0.084*\"27\" + 0.060*\"50\" + 0.053*\"0\" + 0.030*\"574\" + 0.019*\"263\" + 0.019*\"488\" + 0.018*\"28\" + 0.015*\"29\"\n",
      "2022-02-27 13:44:02,079 : INFO : topic #79 (0.072): 0.378*\"34\" + 0.326*\"35\" + 0.225*\"83\" + 0.017*\"0\" + 0.011*\"73\" + 0.009*\"646\" + 0.008*\"1036\" + 0.004*\"1131\" + 0.004*\"202\" + 0.003*\"883\"\n",
      "2022-02-27 13:44:02,080 : INFO : topic diff=0.157495, rho=0.220316\n",
      "2022-02-27 13:44:02,865 : INFO : -6.441 per-word bound, 86.9 perplexity estimate based on a held-out corpus of 1204 documents with 49783 words\n",
      "2022-02-27 13:44:02,865 : INFO : PROGRESS: pass 18, at document #3204/3204\n",
      "2022-02-27 13:44:03,493 : INFO : optimized alpha [0.01230428, 0.013978988, 0.014674704, 0.013920024, 0.012334912, 0.0132639855, 0.013712578, 0.012166566, 0.015467955, 0.013137438, 0.014695786, 0.012430161, 0.016009415, 0.01780298, 0.013237793, 0.012852165, 0.012439127, 0.016791634, 0.012230386, 0.014182845, 0.013139218, 0.011491988, 0.015292878, 0.01079821, 0.013204328, 0.014196918, 0.013601481, 0.013606027, 0.011464197, 0.014147065, 0.013254397, 0.016758405, 0.013752402, 0.019782817, 0.012470949, 0.0070270984, 0.01540001, 0.01351701, 0.01404095, 0.0070270984, 0.009802624, 0.010635382, 0.013883614, 0.012256857, 0.014044202, 0.018421382, 0.012674257, 0.016575636, 0.013296585, 0.011870555, 0.014891668, 0.013847658, 0.015661784, 0.011833472, 0.012505545, 0.020552175, 0.015969548, 0.012549741, 0.013130062, 0.012805382, 0.013535581, 0.0160899, 0.014427613, 0.011862305, 0.012066902, 0.014593085, 0.01190694, 0.019260237, 0.012717327, 0.011905626, 0.012094224, 0.013304673, 0.0126659805, 0.016277164, 0.01867696, 0.014016332, 0.013467769, 0.02060259, 0.013277835, 0.07350974, 0.013077864, 0.014159708, 0.01418047, 0.013037661, 0.014108915, 0.015054417, 0.013323608, 0.011775071, 0.012241512, 0.011933552, 0.011954527, 0.016781546, 0.014064241, 0.012238774, 0.017000364, 0.015634825, 0.01302466, 0.010157976, 0.01340089, 0.012655879]\n",
      "2022-02-27 13:44:03,499 : INFO : merging changes from 1204 documents into a model of 3204 documents\n",
      "2022-02-27 13:44:03,506 : INFO : topic #39 (0.007): 0.001*\"795\" + 0.001*\"794\" + 0.001*\"801\" + 0.001*\"800\" + 0.001*\"799\" + 0.001*\"798\" + 0.001*\"797\" + 0.001*\"796\" + 0.001*\"803\" + 0.001*\"791\"\n",
      "2022-02-27 13:44:03,507 : INFO : topic #35 (0.007): 0.001*\"795\" + 0.001*\"794\" + 0.001*\"801\" + 0.001*\"800\" + 0.001*\"799\" + 0.001*\"798\" + 0.001*\"797\" + 0.001*\"796\" + 0.001*\"803\" + 0.001*\"791\"\n",
      "2022-02-27 13:44:03,507 : INFO : topic #55 (0.021): 0.446*\"3\" + 0.126*\"13\" + 0.082*\"27\" + 0.060*\"50\" + 0.051*\"0\" + 0.028*\"574\" + 0.020*\"263\" + 0.018*\"488\" + 0.017*\"28\" + 0.015*\"29\"\n",
      "2022-02-27 13:44:03,508 : INFO : topic #77 (0.021): 0.398*\"115\" + 0.108*\"458\" + 0.048*\"57\" + 0.028*\"64\" + 0.023*\"63\" + 0.022*\"582\" + 0.021*\"129\" + 0.019*\"637\" + 0.017*\"139\" + 0.017*\"120\"\n",
      "2022-02-27 13:44:03,509 : INFO : topic #79 (0.074): 0.384*\"34\" + 0.325*\"35\" + 0.224*\"83\" + 0.018*\"0\" + 0.011*\"73\" + 0.008*\"646\" + 0.007*\"1036\" + 0.004*\"1131\" + 0.004*\"202\" + 0.003*\"486\"\n",
      "2022-02-27 13:44:03,510 : INFO : topic diff=0.161988, rho=0.220316\n",
      "2022-02-27 13:44:03,517 : INFO : PROGRESS: pass 19, at document #2000/3204\n",
      "2022-02-27 13:44:04,168 : INFO : optimized alpha [0.012331457, 0.014011094, 0.014979764, 0.013997711, 0.012363432, 0.013251193, 0.01372266, 0.012250099, 0.015543598, 0.013139203, 0.014810461, 0.012425642, 0.01610422, 0.01788652, 0.013272349, 0.012864545, 0.012448538, 0.016958194, 0.012262321, 0.014251161, 0.013207446, 0.01149237, 0.0154621955, 0.010852607, 0.013359438, 0.014242894, 0.013664949, 0.013661933, 0.011476702, 0.0141425505, 0.013373218, 0.016943524, 0.013820442, 0.019961186, 0.012504077, 0.0069998624, 0.015540596, 0.013600405, 0.014078416, 0.0069998624, 0.009808483, 0.010665394, 0.013903291, 0.012272751, 0.014149257, 0.01861787, 0.012786794, 0.016770808, 0.013286481, 0.0119118085, 0.015112055, 0.013841828, 0.0157929, 0.011858626, 0.012603552, 0.020871472, 0.015947722, 0.012572757, 0.013143178, 0.012871051, 0.013599913, 0.01612682, 0.014475488, 0.011888562, 0.012062022, 0.01461723, 0.011936384, 0.019579701, 0.012733392, 0.011930532, 0.01213127, 0.013328585, 0.012700045, 0.016288236, 0.018864771, 0.014168127, 0.013477487, 0.020829177, 0.013331214, 0.07595536, 0.013091037, 0.014217867, 0.014296489, 0.013100166, 0.014201732, 0.0151566565, 0.013357563, 0.0117964195, 0.0122604845, 0.0119463205, 0.011991637, 0.01690373, 0.014060787, 0.01226695, 0.017157687, 0.015756777, 0.013019407, 0.010157424, 0.013416336, 0.012663909]\n",
      "2022-02-27 13:44:04,174 : INFO : merging changes from 2000 documents into a model of 3204 documents\n",
      "2022-02-27 13:44:04,181 : INFO : topic #39 (0.007): 0.001*\"795\" + 0.001*\"794\" + 0.001*\"801\" + 0.001*\"800\" + 0.001*\"799\" + 0.001*\"798\" + 0.001*\"797\" + 0.001*\"796\" + 0.001*\"803\" + 0.001*\"791\"\n",
      "2022-02-27 13:44:04,182 : INFO : topic #35 (0.007): 0.001*\"795\" + 0.001*\"794\" + 0.001*\"801\" + 0.001*\"800\" + 0.001*\"799\" + 0.001*\"798\" + 0.001*\"797\" + 0.001*\"796\" + 0.001*\"803\" + 0.001*\"791\"\n",
      "2022-02-27 13:44:04,184 : INFO : topic #77 (0.021): 0.398*\"115\" + 0.102*\"458\" + 0.052*\"57\" + 0.027*\"64\" + 0.024*\"63\" + 0.022*\"582\" + 0.021*\"129\" + 0.019*\"120\" + 0.018*\"637\" + 0.016*\"50\"\n",
      "2022-02-27 13:44:04,186 : INFO : topic #55 (0.021): 0.439*\"3\" + 0.124*\"13\" + 0.084*\"27\" + 0.060*\"50\" + 0.054*\"0\" + 0.030*\"574\" + 0.019*\"263\" + 0.019*\"488\" + 0.018*\"28\" + 0.015*\"722\"\n",
      "2022-02-27 13:44:04,188 : INFO : topic #79 (0.076): 0.380*\"34\" + 0.326*\"35\" + 0.225*\"83\" + 0.017*\"0\" + 0.011*\"73\" + 0.009*\"646\" + 0.008*\"1036\" + 0.004*\"1131\" + 0.003*\"883\" + 0.003*\"202\"\n"
     ]
    },
    {
     "name": "stderr",
     "output_type": "stream",
     "text": [
      "2022-02-27 13:44:04,189 : INFO : topic diff=0.147705, rho=0.215156\n",
      "2022-02-27 13:44:04,953 : INFO : -6.436 per-word bound, 86.6 perplexity estimate based on a held-out corpus of 1204 documents with 49783 words\n",
      "2022-02-27 13:44:04,953 : INFO : PROGRESS: pass 19, at document #3204/3204\n",
      "2022-02-27 13:44:05,564 : INFO : optimized alpha [0.01244794, 0.014213003, 0.014886479, 0.014165207, 0.012468321, 0.013453249, 0.013951375, 0.012316383, 0.015780602, 0.013291666, 0.014937907, 0.012572206, 0.016378706, 0.018221177, 0.013439605, 0.012995327, 0.012594971, 0.017162904, 0.0123805655, 0.014387786, 0.013374558, 0.011617551, 0.015591478, 0.010907395, 0.013417336, 0.01443821, 0.013768179, 0.013816295, 0.011583385, 0.014310883, 0.013456522, 0.017082607, 0.013974067, 0.020412613, 0.012608107, 0.0069653243, 0.015963659, 0.013721791, 0.014275532, 0.0069653243, 0.009840572, 0.010691368, 0.014081681, 0.012384783, 0.014279977, 0.019016802, 0.012837901, 0.01692593, 0.013459106, 0.01197793, 0.015194547, 0.014013408, 0.015990373, 0.011990932, 0.012689357, 0.02115256, 0.016235039, 0.0127037605, 0.0133316275, 0.012955103, 0.013806463, 0.016448405, 0.014673319, 0.011975353, 0.012187558, 0.014834901, 0.012071301, 0.019901866, 0.012842928, 0.012045514, 0.0122103905, 0.013447943, 0.012836717, 0.016527254, 0.019215804, 0.01425297, 0.013616224, 0.021256374, 0.013457662, 0.07780778, 0.01319999, 0.014370451, 0.014412711, 0.013237832, 0.01436595, 0.015312743, 0.01353053, 0.011889458, 0.012385317, 0.012047785, 0.012105431, 0.01719082, 0.014262003, 0.012391972, 0.017444538, 0.015950862, 0.013222813, 0.010222312, 0.013617555, 0.012808356]\n",
      "2022-02-27 13:44:05,570 : INFO : merging changes from 1204 documents into a model of 3204 documents\n",
      "2022-02-27 13:44:05,580 : INFO : topic #39 (0.007): 0.001*\"795\" + 0.001*\"794\" + 0.001*\"801\" + 0.001*\"800\" + 0.001*\"799\" + 0.001*\"798\" + 0.001*\"797\" + 0.001*\"796\" + 0.001*\"803\" + 0.001*\"791\"\n",
      "2022-02-27 13:44:05,581 : INFO : topic #35 (0.007): 0.001*\"795\" + 0.001*\"794\" + 0.001*\"801\" + 0.001*\"800\" + 0.001*\"799\" + 0.001*\"798\" + 0.001*\"797\" + 0.001*\"796\" + 0.001*\"803\" + 0.001*\"791\"\n",
      "2022-02-27 13:44:05,582 : INFO : topic #55 (0.021): 0.447*\"3\" + 0.125*\"13\" + 0.083*\"27\" + 0.060*\"50\" + 0.052*\"0\" + 0.028*\"574\" + 0.020*\"263\" + 0.018*\"488\" + 0.017*\"28\" + 0.015*\"722\"\n",
      "2022-02-27 13:44:05,582 : INFO : topic #77 (0.021): 0.402*\"115\" + 0.108*\"458\" + 0.049*\"57\" + 0.029*\"64\" + 0.023*\"63\" + 0.021*\"582\" + 0.021*\"129\" + 0.019*\"637\" + 0.017*\"139\" + 0.017*\"120\"\n",
      "2022-02-27 13:44:05,583 : INFO : topic #79 (0.078): 0.386*\"34\" + 0.325*\"35\" + 0.224*\"83\" + 0.018*\"0\" + 0.011*\"73\" + 0.008*\"646\" + 0.007*\"1036\" + 0.004*\"1131\" + 0.003*\"486\" + 0.003*\"883\"\n",
      "2022-02-27 13:44:05,584 : INFO : topic diff=0.151626, rho=0.215156\n",
      "2022-02-27 13:44:05,593 : INFO : LdaModel lifecycle event {'msg': 'trained LdaModel(num_terms=1197, num_topics=100, decay=0.5, chunksize=2000) in 51.50s', 'datetime': '2022-02-27T13:44:05.593121', 'gensim': '4.1.2', 'python': '3.8.10 (default, Nov 26 2021, 20:14:08) \\n[GCC 9.3.0]', 'platform': 'Linux-5.13.0-30-generic-x86_64-with-glibc2.29', 'event': 'created'}\n"
     ]
    },
    {
     "data": {
      "text/plain": [
       "[(0, 0.005057212),\n",
       " (1, 0.0057743024),\n",
       " (2, 0.0060479147),\n",
       " (3, 0.0057548843),\n",
       " (4, 0.0050654924),\n",
       " (5, 0.005465638),\n",
       " (6, 0.005668011),\n",
       " (7, 0.0050037648),\n",
       " (8, 0.006411169),\n",
       " (9, 0.0053999918),\n",
       " (10, 0.4123331),\n",
       " (11, 0.005107697),\n",
       " (12, 0.0066541606),\n",
       " (13, 0.0074026994),\n",
       " (14, 0.0054600947),\n",
       " (15, 0.0052795983),\n",
       " (16, 0.005116946),\n",
       " (17, 0.006972756),\n",
       " (18, 0.00502984),\n",
       " (19, 0.0058453116),\n",
       " (20, 0.005433668),\n",
       " (21, 0.0047198506),\n",
       " (22, 0.006334334),\n",
       " (23, 0.004431336),\n",
       " (24, 0.005451048),\n",
       " (25, 0.005865797),\n",
       " (26, 0.0055935844),\n",
       " (27, 0.0056131324),\n",
       " (28, 0.00470597),\n",
       " (29, 0.005814068),\n",
       " (30, 0.0054669674),\n",
       " (31, 0.006940134),\n",
       " (32, 0.00567723),\n",
       " (33, 0.008293011),\n",
       " (34, 0.005122283),\n",
       " (35, 0.0028297952),\n",
       " (36, 0.0064855395),\n",
       " (37, 0.005574738),\n",
       " (38, 0.005799706),\n",
       " (39, 0.0028297952),\n",
       " (40, 0.003997919),\n",
       " (41, 0.004343571),\n",
       " (42, 0.00572095),\n",
       " (43, 0.005031553),\n",
       " (44, 0.005801512),\n",
       " (45, 0.0077259373),\n",
       " (46, 0.005215641),\n",
       " (47, 0.0068764803),\n",
       " (48, 0.0054680174),\n",
       " (49, 0.0048662615),\n",
       " (50, 0.0061730733),\n",
       " (51, 0.005693213),\n",
       " (52, 0.0064963927),\n",
       " (53, 0.004871544),\n",
       " (54, 0.0051552923),\n",
       " (55, 0.008593629),\n",
       " (56, 0.0065957927),\n",
       " (57, 0.005161144),\n",
       " (58, 0.005416227),\n",
       " (59, 0.005263257),\n",
       " (60, 0.005609138),\n",
       " (61, 0.006682477),\n",
       " (62, 0.0059613143),\n",
       " (63, 0.004865214),\n",
       " (64, 0.0049514268),\n",
       " (65, 0.0060269604),\n",
       " (66, 0.004904195),\n",
       " (67, 0.008085511),\n",
       " (68, 0.0052176835),\n",
       " (69, 0.0048937188),\n",
       " (70, 0.004960703),\n",
       " (71, 0.0054634823),\n",
       " (72, 0.00521516),\n",
       " (73, 0.0067145107),\n",
       " (74, 0.007806785),\n",
       " (75, 0.0057905396),\n",
       " (76, 0.0055318493),\n",
       " (77, 0.008635806),\n",
       " (78, 0.005467431),\n",
       " (79, 0.031610887),\n",
       " (80, 0.0053627463),\n",
       " (81, 0.0058382684),\n",
       " (82, 0.005855438),\n",
       " (83, 0.0053781206),\n",
       " (84, 0.00583644),\n",
       " (85, 0.006221093),\n",
       " (86, 0.0054970346),\n",
       " (87, 0.004830318),\n",
       " (88, 0.00503177),\n",
       " (89, 0.0048946417),\n",
       " (90, 0.004918061),\n",
       " (91, 0.006984097),\n",
       " (92, 0.0057942094),\n",
       " (93, 0.005034474),\n",
       " (94, 0.007087175),\n",
       " (95, 0.006480341),\n",
       " (96, 0.0053720186),\n",
       " (97, 0.0041530086),\n",
       " (98, 0.00553239),\n",
       " (99, 0.005203638)]"
      ]
     },
     "execution_count": 85,
     "metadata": {},
     "output_type": "execute_result"
    }
   ],
   "source": [
    "##### Function check\n",
    "lda = LdaRetrievalModel(doc_repr_2)\n",
    "lda.train_model()\n",
    "\n",
    "# you can now get an LDA vector for a given query in the following way:\n",
    "lda.vectorize_query(\"report\")\n",
    "##### "
   ]
  },
  {
   "cell_type": "markdown",
   "metadata": {
    "deletable": false,
    "editable": false,
    "nbgrader": {
     "cell_type": "markdown",
     "checksum": "32d83b6ea79ca3ddb789a7f8805a1b25",
     "grade": false,
     "grade_id": "cell-0e24b727d5908c0e",
     "locked": true,
     "points": 5,
     "schema_version": 3,
     "solution": false,
     "task": true
    }
   },
   "source": [
    "\\#### Please do not change this. This cell is used for grading."
   ]
  },
  {
   "cell_type": "markdown",
   "metadata": {
    "deletable": false,
    "editable": false,
    "nbgrader": {
     "cell_type": "markdown",
     "checksum": "114a934f0b9ce696e6cf09d3b8da6a3d",
     "grade": false,
     "grade_id": "cell-b1bffcb970b18aeb",
     "locked": true,
     "schema_version": 3,
     "solution": false,
     "task": false
    }
   },
   "source": [
    "---\n",
    "Now we can use the `DenseRetrievalModel` class to obtain an LDA search function.\n",
    "You can test your LDA model in the following cell: Try finding queries which are lexically different to documents, but semantically similar - does LDA work well for these queries?!"
   ]
  },
  {
   "cell_type": "code",
   "execution_count": 86,
   "metadata": {},
   "outputs": [
    {
     "data": {
      "application/vnd.jupyter.widget-view+json": {
       "model_id": "f70de280f05a4610885600afcb8fed0a",
       "version_major": 2,
       "version_minor": 0
      },
      "text/plain": [
       "Text(value='', description='Search Bar')"
      ]
     },
     "metadata": {},
     "output_type": "display_data"
    }
   ],
   "source": [
    "drm_lda = DenseRetrievalRanker(lda, jenson_shannon_sim)\n",
    "\n",
    "# test your LDA model\n",
    "search_fn = drm_lda.search\n",
    "\n",
    "text = widgets.Text(description=\"Search Bar\", width=200)\n",
    "display(text)\n",
    "\n",
    "\n",
    "text.on_submit(handle_submit_2)"
   ]
  },
  {
   "cell_type": "markdown",
   "metadata": {
    "deletable": false,
    "editable": false,
    "nbgrader": {
     "cell_type": "markdown",
     "checksum": "9d7f15863b655119b45f4d89354e5661",
     "grade": false,
     "grade_id": "cell-190cd0854b2791cc",
     "locked": true,
     "schema_version": 3,
     "solution": false,
     "task": false
    }
   },
   "source": [
    "## Section 8: Word2Vec/Doc2Vec (20 points) <a class=\"anchor\" id=\"2vec\"></a>\n",
    "\n",
    "[Back to Part 2](#part2)\n",
    "\n",
    "We will implement two other methods here, the Word2Vec model and the Doc2Vec model, also using `gensim`. Word2Vec creates representations of words, not documents, so the word level vectors need to be aggregated to obtain a representation for the document. Here, we will simply take the mean of the vectors. \n",
    "\n",
    "\n",
    "A drawback of these models is that they need a lot of training data. Our dataset is tiny, so in addition to using a model trained on the data, we will also use a pre-trained model for Word2Vec (this will be automatically downloaded).     \n",
    "\n",
    "*Note*:\n",
    "1. The code in vectorize_documents / vectorize_query should return gensim-like vectors i.e `[(dim, val), .. (dim, val)]`. \n",
    "2. For Word2Vec: You should also handle the following two cases: (a) A word in the query is not present in the vocabulary of the model and (b) none of the words in the query are present in the model - you can return 0 scores for all documents in this case. For either of these, you can check if a `word` is present in the vocab by using `word in self.model`\n"
   ]
  },
  {
   "cell_type": "code",
   "execution_count": 87,
   "metadata": {
    "deletable": false,
    "nbgrader": {
     "cell_type": "code",
     "checksum": "83ab733608ed14c29c09b36b4e1b6daa",
     "grade": false,
     "grade_id": "cell-2b73759f9baf688f",
     "locked": false,
     "schema_version": 3,
     "solution": true,
     "task": false
    }
   },
   "outputs": [
    {
     "name": "stderr",
     "output_type": "stream",
     "text": [
      "2022-02-27 13:44:07,359 : INFO : adding document #0 to Dictionary(0 unique tokens: [])\n",
      "2022-02-27 13:44:07,455 : INFO : built Dictionary(5937 unique tokens: ['-', 'algebra', 'intern', 'languag', 'preliminari']...) from 3204 documents (total 115969 corpus positions)\n",
      "2022-02-27 13:44:07,456 : INFO : Dictionary lifecycle event {'msg': \"built Dictionary(5937 unique tokens: ['-', 'algebra', 'intern', 'languag', 'preliminari']...) from 3204 documents (total 115969 corpus positions)\", 'datetime': '2022-02-27T13:44:07.456074', 'gensim': '4.1.2', 'python': '3.8.10 (default, Nov 26 2021, 20:14:08) \\n[GCC 9.3.0]', 'platform': 'Linux-5.13.0-30-generic-x86_64-with-glibc2.29', 'event': 'created'}\n",
      "2022-02-27 13:44:07,460 : INFO : discarding 4740 tokens: [('repeat', 8), ('glossari', 7), ('inspect', 8), ('uncol', 2), ('rung', 9), ('secant', 2), ('.', 1603), ('acceler', 6), ('diverg', 3), ('induc', 9)]...\n",
      "2022-02-27 13:44:07,461 : INFO : keeping 1197 tokens which were in no less than 10 and no more than 1602 (=50.0%) documents\n",
      "2022-02-27 13:44:07,464 : INFO : resulting dictionary: Dictionary(1197 unique tokens: ['-', 'algebra', 'intern', 'languag', 'preliminari']...)\n",
      "2022-02-27 13:44:07,530 : INFO : collecting all words and their counts\n",
      "2022-02-27 13:44:07,530 : INFO : PROGRESS: at sentence #0, processed 0 words, keeping 0 word types\n",
      "2022-02-27 13:44:07,545 : INFO : collected 5937 word types from a corpus of 115969 raw words and 3204 sentences\n",
      "2022-02-27 13:44:07,546 : INFO : Creating a fresh vocabulary\n",
      "2022-02-27 13:44:07,563 : INFO : Word2Vec lifecycle event {'msg': 'effective_min_count=1 retains 5937 unique words (100.0%% of original 5937, drops 0)', 'datetime': '2022-02-27T13:44:07.563669', 'gensim': '4.1.2', 'python': '3.8.10 (default, Nov 26 2021, 20:14:08) \\n[GCC 9.3.0]', 'platform': 'Linux-5.13.0-30-generic-x86_64-with-glibc2.29', 'event': 'prepare_vocab'}\n",
      "2022-02-27 13:44:07,564 : INFO : Word2Vec lifecycle event {'msg': 'effective_min_count=1 leaves 115969 word corpus (100.0%% of original 115969, drops 0)', 'datetime': '2022-02-27T13:44:07.564497', 'gensim': '4.1.2', 'python': '3.8.10 (default, Nov 26 2021, 20:14:08) \\n[GCC 9.3.0]', 'platform': 'Linux-5.13.0-30-generic-x86_64-with-glibc2.29', 'event': 'prepare_vocab'}\n",
      "2022-02-27 13:44:07,608 : INFO : deleting the raw counts dictionary of 5937 items\n",
      "2022-02-27 13:44:07,608 : INFO : sample=0.001 downsamples 40 most-common words\n",
      "2022-02-27 13:44:07,609 : INFO : Word2Vec lifecycle event {'msg': 'downsampling leaves estimated 92346.50772718964 word corpus (79.6%% of prior 115969)', 'datetime': '2022-02-27T13:44:07.609313', 'gensim': '4.1.2', 'python': '3.8.10 (default, Nov 26 2021, 20:14:08) \\n[GCC 9.3.0]', 'platform': 'Linux-5.13.0-30-generic-x86_64-with-glibc2.29', 'event': 'prepare_vocab'}\n",
      "2022-02-27 13:44:07,675 : INFO : estimated required memory for 5937 words and 100 dimensions: 7718100 bytes\n",
      "2022-02-27 13:44:07,676 : INFO : resetting layer weights\n",
      "2022-02-27 13:44:07,680 : INFO : Word2Vec lifecycle event {'update': False, 'trim_rule': 'None', 'datetime': '2022-02-27T13:44:07.680576', 'gensim': '4.1.2', 'python': '3.8.10 (default, Nov 26 2021, 20:14:08) \\n[GCC 9.3.0]', 'platform': 'Linux-5.13.0-30-generic-x86_64-with-glibc2.29', 'event': 'build_vocab'}\n",
      "2022-02-27 13:44:07,681 : INFO : Word2Vec lifecycle event {'msg': 'training model with 4 workers on 5937 vocabulary and 100 features, using sg=0 hs=0 sample=0.001 negative=5 window=2 shrink_windows=True', 'datetime': '2022-02-27T13:44:07.681260', 'gensim': '4.1.2', 'python': '3.8.10 (default, Nov 26 2021, 20:14:08) \\n[GCC 9.3.0]', 'platform': 'Linux-5.13.0-30-generic-x86_64-with-glibc2.29', 'event': 'train'}\n",
      "2022-02-27 13:44:07,740 : INFO : worker thread finished; awaiting finish of 3 more threads\n",
      "2022-02-27 13:44:07,745 : INFO : worker thread finished; awaiting finish of 2 more threads\n",
      "2022-02-27 13:44:07,748 : INFO : worker thread finished; awaiting finish of 1 more threads\n",
      "2022-02-27 13:44:07,749 : INFO : worker thread finished; awaiting finish of 0 more threads\n",
      "2022-02-27 13:44:07,749 : INFO : EPOCH - 1 : training on 115969 raw words (92347 effective words) took 0.1s, 1451275 effective words/s\n",
      "2022-02-27 13:44:07,814 : INFO : worker thread finished; awaiting finish of 3 more threads\n",
      "2022-02-27 13:44:07,820 : INFO : worker thread finished; awaiting finish of 2 more threads\n",
      "2022-02-27 13:44:07,821 : INFO : worker thread finished; awaiting finish of 1 more threads\n",
      "2022-02-27 13:44:07,824 : INFO : worker thread finished; awaiting finish of 0 more threads\n",
      "2022-02-27 13:44:07,825 : INFO : EPOCH - 2 : training on 115969 raw words (92339 effective words) took 0.1s, 1339405 effective words/s\n",
      "2022-02-27 13:44:07,884 : INFO : worker thread finished; awaiting finish of 3 more threads\n",
      "2022-02-27 13:44:07,888 : INFO : worker thread finished; awaiting finish of 2 more threads\n",
      "2022-02-27 13:44:07,892 : INFO : worker thread finished; awaiting finish of 1 more threads\n",
      "2022-02-27 13:44:07,893 : INFO : worker thread finished; awaiting finish of 0 more threads\n",
      "2022-02-27 13:44:07,894 : INFO : EPOCH - 3 : training on 115969 raw words (92279 effective words) took 0.1s, 1394504 effective words/s\n",
      "2022-02-27 13:44:07,959 : INFO : worker thread finished; awaiting finish of 3 more threads\n",
      "2022-02-27 13:44:07,961 : INFO : worker thread finished; awaiting finish of 2 more threads\n",
      "2022-02-27 13:44:07,964 : INFO : worker thread finished; awaiting finish of 1 more threads\n",
      "2022-02-27 13:44:07,973 : INFO : worker thread finished; awaiting finish of 0 more threads\n",
      "2022-02-27 13:44:07,975 : INFO : EPOCH - 4 : training on 115969 raw words (92318 effective words) took 0.1s, 1199330 effective words/s\n",
      "2022-02-27 13:44:08,036 : INFO : worker thread finished; awaiting finish of 3 more threads\n",
      "2022-02-27 13:44:08,044 : INFO : worker thread finished; awaiting finish of 2 more threads\n",
      "2022-02-27 13:44:08,046 : INFO : worker thread finished; awaiting finish of 1 more threads\n",
      "2022-02-27 13:44:08,050 : INFO : worker thread finished; awaiting finish of 0 more threads\n",
      "2022-02-27 13:44:08,051 : INFO : EPOCH - 5 : training on 115969 raw words (92351 effective words) took 0.1s, 1292069 effective words/s\n",
      "2022-02-27 13:44:08,052 : INFO : Word2Vec lifecycle event {'msg': 'training on 579845 raw words (461634 effective words) took 0.4s, 1247667 effective words/s', 'datetime': '2022-02-27T13:44:08.052368', 'gensim': '4.1.2', 'python': '3.8.10 (default, Nov 26 2021, 20:14:08) \\n[GCC 9.3.0]', 'platform': 'Linux-5.13.0-30-generic-x86_64-with-glibc2.29', 'event': 'train'}\n",
      "2022-02-27 13:44:08,053 : INFO : Word2Vec lifecycle event {'params': 'Word2Vec(vocab=5937, vector_size=100, alpha=0.025)', 'datetime': '2022-02-27T13:44:08.053306', 'gensim': '4.1.2', 'python': '3.8.10 (default, Nov 26 2021, 20:14:08) \\n[GCC 9.3.0]', 'platform': 'Linux-5.13.0-30-generic-x86_64-with-glibc2.29', 'event': 'created'}\n"
     ]
    },
    {
     "data": {
      "text/plain": [
       "[(0, -0.29935712),\n",
       " (1, 0.4793832),\n",
       " (2, 0.14477445),\n",
       " (3, -0.20961428),\n",
       " (4, 0.00048551554),\n",
       " (5, -0.44450372),\n",
       " (6, 0.27365878),\n",
       " (7, 0.8531492),\n",
       " (8, -0.3092311),\n",
       " (9, -0.24546845),\n",
       " (10, -0.06462307),\n",
       " (11, -0.504447),\n",
       " (12, 0.03161679),\n",
       " (13, 0.0065536187),\n",
       " (14, -0.03761754),\n",
       " (15, -0.31901145),\n",
       " (16, 0.23739502),\n",
       " (17, -0.41229185),\n",
       " (18, -0.16505615),\n",
       " (19, -0.8087381),\n",
       " (20, 0.05411985),\n",
       " (21, -0.18747492),\n",
       " (22, 0.40881285),\n",
       " (23, -0.2237769),\n",
       " (24, -0.26957038),\n",
       " (25, -0.109997086),\n",
       " (26, -0.22899082),\n",
       " (27, -0.18164176),\n",
       " (28, -0.36229005),\n",
       " (29, -0.0234935),\n",
       " (30, 0.5273139),\n",
       " (31, -0.050532807),\n",
       " (32, 0.1112426),\n",
       " (33, -0.2873161),\n",
       " (34, -0.07617038),\n",
       " (35, 0.17680886),\n",
       " (36, 0.119232915),\n",
       " (37, -0.3616948),\n",
       " (38, -0.48092946),\n",
       " (39, -0.6570672),\n",
       " (40, 0.07984109),\n",
       " (41, -0.27706182),\n",
       " (42, -0.40817234),\n",
       " (43, 0.0130231865),\n",
       " (44, 0.32729375),\n",
       " (45, -0.27422026),\n",
       " (46, -0.03795839),\n",
       " (47, 0.0012867379),\n",
       " (48, 0.25302723),\n",
       " (49, 0.017827567),\n",
       " (50, 0.12564097),\n",
       " (51, -0.42956522),\n",
       " (52, 0.24933992),\n",
       " (53, -0.024445023),\n",
       " (54, -0.16568558),\n",
       " (55, 0.1365845),\n",
       " (56, 0.16716784),\n",
       " (57, -0.10121722),\n",
       " (58, -0.44717225),\n",
       " (59, -0.060464043),\n",
       " (60, -0.047505543),\n",
       " (61, 0.14060025),\n",
       " (62, 0.1480176),\n",
       " (63, -0.038802873),\n",
       " (64, -0.64893425),\n",
       " (65, 0.36071122),\n",
       " (66, -0.054790914),\n",
       " (67, 0.23406085),\n",
       " (68, -0.53733295),\n",
       " (69, 0.15995719),\n",
       " (70, -0.08681182),\n",
       " (71, 0.23284397),\n",
       " (72, 0.35355476),\n",
       " (73, 0.20249127),\n",
       " (74, 0.34245577),\n",
       " (75, 0.20789318),\n",
       " (76, 0.19392803),\n",
       " (77, -0.062475305),\n",
       " (78, -0.66786194),\n",
       " (79, 0.0060080206),\n",
       " (80, -0.34065744),\n",
       " (81, -0.058140803),\n",
       " (82, -0.23194821),\n",
       " (83, 0.58326936),\n",
       " (84, -0.010035103),\n",
       " (85, -0.1883613),\n",
       " (86, 0.23072763),\n",
       " (87, 0.42013592),\n",
       " (88, 0.33552167),\n",
       " (89, 0.118803106),\n",
       " (90, 0.3397602),\n",
       " (91, 0.11089403),\n",
       " (92, -0.012392186),\n",
       " (93, 0.11561311),\n",
       " (94, 0.749059),\n",
       " (95, 0.53113544),\n",
       " (96, 0.115622886),\n",
       " (97, -0.4737069),\n",
       " (98, 0.27469712),\n",
       " (99, -0.019544087)]"
      ]
     },
     "execution_count": 87,
     "metadata": {},
     "output_type": "execute_result"
    }
   ],
   "source": [
    "# TODO: Implement this! (10 points)\n",
    "class W2VRetrievalModel(VectorSpaceRetrievalModel):\n",
    "    def __init__(self, doc_repr):\n",
    "        super().__init__(doc_repr)\n",
    "        \n",
    "        # the dimensionality of the vectors\n",
    "        self.size = 100 \n",
    "        self.min_count = 1\n",
    "    \n",
    "    def train_model(self):\n",
    "        \"\"\"\n",
    "        Trains the W2V model\n",
    "        \"\"\"\n",
    "        self.model = Word2Vec(self.documents, vector_size=self.size, window=2, min_count=self.min_count, workers=4)\n",
    "        \n",
    "    def vectorize_documents(self):\n",
    "        \"\"\"\n",
    "            Returns a doc_id -> vector dictionary\n",
    "        \"\"\"    \n",
    "        vectors={}\n",
    "        for (doc_id, _), cc in zip(self.doc_repr, self.documents):\n",
    "            for word in cc:\n",
    "                if word not in self.model.wv:\n",
    "                    cc.remove(word)\n",
    "            docvec = self.model.wv[cc]\n",
    "            tot=np.linspace(0, self.size-1,num=self.size,dtype=int)\n",
    "            real=list(zip(tot, docvec[0]))\n",
    "            vectors[doc_id]=real\n",
    "        return vectors\n",
    "\n",
    "    def vectorize_query(self, query):\n",
    "        \"\"\"\n",
    "        Vectorizes the query using the W2V model\n",
    "        \"\"\"\n",
    "        query = process_text(query, **config_2)\n",
    "        for word in query:\n",
    "            if word not in self.model.wv:\n",
    "                return np.zeros(self.size)\n",
    "        tot=np.linspace(0, self.size-1,num=self.size,dtype=int)\n",
    "        query_vector = self.model.wv[query]\n",
    "        real=list(zip(tot, query_vector[0]))\n",
    "        return real\n",
    "        \n",
    "    \n",
    "    \n",
    "class W2VPretrainedRetrievalModel(W2VRetrievalModel):\n",
    "    def __init__(self, doc_repr):\n",
    "        super().__init__(doc_repr)\n",
    "        self.model_name = \"word2vec-google-news-300\"\n",
    "        self.size = 300\n",
    "    \n",
    "    def train_model(self):\n",
    "        \"\"\"\n",
    "        Loads the pretrained model\n",
    "        \"\"\"\n",
    "        self.model = g_downloader.load(self.model_name)\n",
    "        \n",
    "    def vectorize_documents(self):\n",
    "        \"\"\"\n",
    "            Returns a doc_id -> vector dictionary\n",
    "        \"\"\"    \n",
    "        vectors={}\n",
    "        for (doc_id, _), cc in zip(self.doc_repr, self.documents):\n",
    "            wrong_words=[]\n",
    "            new=cc[:]\n",
    "            for word in cc:\n",
    "                if word not in self.model:\n",
    "                    wrong_words.append(word)\n",
    "            if len(wrong_words)==len(cc):\n",
    "                docvec=[np.zeros(self.size)]\n",
    "            else:\n",
    "                for i in wrong_words:\n",
    "                    new.remove(i)\n",
    "                docvec = self.model[new]\n",
    "            tot=np.linspace(0, self.size-1,num=self.size,dtype=int)\n",
    "            real=list(zip(tot, docvec[0]))\n",
    "            vectors[doc_id]=real\n",
    "        return vectors\n",
    "\n",
    "    def vectorize_query(self, query):\n",
    "        \"\"\"\n",
    "        Vectorizes the query using the W2V model\n",
    "        \"\"\"\n",
    "        query = process_text(query, **config_2)\n",
    "        for word in query:\n",
    "            if word not in self.model:\n",
    "                return np.zeros(self.size)\n",
    "        tot=np.linspace(0, self.size-1,num=self.size,dtype=int)\n",
    "        query_vector = self.model[query]\n",
    "        real=list(zip(tot, query_vector[0]))\n",
    "        return real\n",
    "\n",
    "\n",
    "w2v = W2VRetrievalModel(doc_repr_2)\n",
    "w2v.train_model()\n",
    "\n",
    "# you can now get a W2V vector for a given query in the following way:\n",
    "w2v.vectorize_query(\"report\")"
   ]
  },
  {
   "cell_type": "code",
   "execution_count": 88,
   "metadata": {
    "deletable": false,
    "editable": false,
    "nbgrader": {
     "cell_type": "code",
     "checksum": "f92b5c5a8c6c4b80652b94223209ab0b",
     "grade": true,
     "grade_id": "cell-b31c0f8d214b8bdf",
     "locked": true,
     "points": 0,
     "schema_version": 3,
     "solution": false,
     "task": false
    }
   },
   "outputs": [],
   "source": [
    "assert len(w2v.vectorize_query(\"report\")) == 100\n",
    "assert len(w2v.vectorize_query(\"this is a sentence that is not mellifluous\")) == 100\n"
   ]
  },
  {
   "cell_type": "markdown",
   "metadata": {
    "deletable": false,
    "editable": false,
    "nbgrader": {
     "cell_type": "markdown",
     "checksum": "8dfaabebcb06f308a7ca61fdc5d369e7",
     "grade": false,
     "grade_id": "cell-c2614fa067386384",
     "locked": true,
     "points": 8,
     "schema_version": 3,
     "solution": false,
     "task": true
    }
   },
   "source": [
    "\\#### Please do not change this. This cell is used for grading."
   ]
  },
  {
   "cell_type": "code",
   "execution_count": 89,
   "metadata": {},
   "outputs": [
    {
     "name": "stderr",
     "output_type": "stream",
     "text": [
      "2022-02-27 13:44:08,083 : INFO : adding document #0 to Dictionary(0 unique tokens: [])\n",
      "2022-02-27 13:44:08,190 : INFO : built Dictionary(5937 unique tokens: ['-', 'algebra', 'intern', 'languag', 'preliminari']...) from 3204 documents (total 115969 corpus positions)\n",
      "2022-02-27 13:44:08,190 : INFO : Dictionary lifecycle event {'msg': \"built Dictionary(5937 unique tokens: ['-', 'algebra', 'intern', 'languag', 'preliminari']...) from 3204 documents (total 115969 corpus positions)\", 'datetime': '2022-02-27T13:44:08.190723', 'gensim': '4.1.2', 'python': '3.8.10 (default, Nov 26 2021, 20:14:08) \\n[GCC 9.3.0]', 'platform': 'Linux-5.13.0-30-generic-x86_64-with-glibc2.29', 'event': 'created'}\n",
      "2022-02-27 13:44:08,197 : INFO : discarding 4740 tokens: [('repeat', 8), ('glossari', 7), ('inspect', 8), ('uncol', 2), ('rung', 9), ('secant', 2), ('.', 1603), ('acceler', 6), ('diverg', 3), ('induc', 9)]...\n",
      "2022-02-27 13:44:08,198 : INFO : keeping 1197 tokens which were in no less than 10 and no more than 1602 (=50.0%) documents\n",
      "2022-02-27 13:44:08,200 : INFO : resulting dictionary: Dictionary(1197 unique tokens: ['-', 'algebra', 'intern', 'languag', 'preliminari']...)\n"
     ]
    },
    {
     "name": "stdout",
     "output_type": "stream",
     "text": [
      "[=======================================-----------] 79.3% 1317.8/1662.8MB downloaded"
     ]
    },
    {
     "name": "stderr",
     "output_type": "stream",
     "text": [
      "IOPub message rate exceeded.\n",
      "The notebook server will temporarily stop sending output\n",
      "to the client in order to avoid crashing it.\n",
      "To change this limit, set the config variable\n",
      "`--NotebookApp.iopub_msg_rate_limit`.\n",
      "\n",
      "Current values:\n",
      "NotebookApp.iopub_msg_rate_limit=1000.0 (msgs/sec)\n",
      "NotebookApp.rate_limit_window=3.0 (secs)\n",
      "\n"
     ]
    },
    {
     "name": "stdout",
     "output_type": "stream",
     "text": [
      "[=========================================---------] 82.1% 1365.2/1662.8MB downloaded"
     ]
    },
    {
     "name": "stderr",
     "output_type": "stream",
     "text": [
      "IOPub message rate exceeded.\n",
      "The notebook server will temporarily stop sending output\n",
      "to the client in order to avoid crashing it.\n",
      "To change this limit, set the config variable\n",
      "`--NotebookApp.iopub_msg_rate_limit`.\n",
      "\n",
      "Current values:\n",
      "NotebookApp.iopub_msg_rate_limit=1000.0 (msgs/sec)\n",
      "NotebookApp.rate_limit_window=3.0 (secs)\n",
      "\n"
     ]
    },
    {
     "name": "stdout",
     "output_type": "stream",
     "text": [
      "[==========================================--------] 84.9% 1412.1/1662.8MB downloaded"
     ]
    },
    {
     "name": "stderr",
     "output_type": "stream",
     "text": [
      "IOPub message rate exceeded.\n",
      "The notebook server will temporarily stop sending output\n",
      "to the client in order to avoid crashing it.\n",
      "To change this limit, set the config variable\n",
      "`--NotebookApp.iopub_msg_rate_limit`.\n",
      "\n",
      "Current values:\n",
      "NotebookApp.iopub_msg_rate_limit=1000.0 (msgs/sec)\n",
      "NotebookApp.rate_limit_window=3.0 (secs)\n",
      "\n"
     ]
    },
    {
     "name": "stdout",
     "output_type": "stream",
     "text": [
      "[===========================================-------] 86.8% 1443.2/1662.8MB downloaded"
     ]
    },
    {
     "name": "stderr",
     "output_type": "stream",
     "text": [
      "IOPub message rate exceeded.\n",
      "The notebook server will temporarily stop sending output\n",
      "to the client in order to avoid crashing it.\n",
      "To change this limit, set the config variable\n",
      "`--NotebookApp.iopub_msg_rate_limit`.\n",
      "\n",
      "Current values:\n",
      "NotebookApp.iopub_msg_rate_limit=1000.0 (msgs/sec)\n",
      "NotebookApp.rate_limit_window=3.0 (secs)\n",
      "\n"
     ]
    },
    {
     "name": "stdout",
     "output_type": "stream",
     "text": [
      "[============================================------] 88.8% 1476.8/1662.8MB downloaded"
     ]
    },
    {
     "name": "stderr",
     "output_type": "stream",
     "text": [
      "IOPub message rate exceeded.\n",
      "The notebook server will temporarily stop sending output\n",
      "to the client in order to avoid crashing it.\n",
      "To change this limit, set the config variable\n",
      "`--NotebookApp.iopub_msg_rate_limit`.\n",
      "\n",
      "Current values:\n",
      "NotebookApp.iopub_msg_rate_limit=1000.0 (msgs/sec)\n",
      "NotebookApp.rate_limit_window=3.0 (secs)\n",
      "\n"
     ]
    },
    {
     "name": "stdout",
     "output_type": "stream",
     "text": [
      "[=============================================-----] 91.7% 1525.2/1662.8MB downloaded"
     ]
    },
    {
     "name": "stderr",
     "output_type": "stream",
     "text": [
      "IOPub message rate exceeded.\n",
      "The notebook server will temporarily stop sending output\n",
      "to the client in order to avoid crashing it.\n",
      "To change this limit, set the config variable\n",
      "`--NotebookApp.iopub_msg_rate_limit`.\n",
      "\n",
      "Current values:\n",
      "NotebookApp.iopub_msg_rate_limit=1000.0 (msgs/sec)\n",
      "NotebookApp.rate_limit_window=3.0 (secs)\n",
      "\n"
     ]
    },
    {
     "name": "stdout",
     "output_type": "stream",
     "text": [
      "[==============================================----] 93.6% 1556.7/1662.8MB downloaded"
     ]
    },
    {
     "name": "stderr",
     "output_type": "stream",
     "text": [
      "IOPub message rate exceeded.\n",
      "The notebook server will temporarily stop sending output\n",
      "to the client in order to avoid crashing it.\n",
      "To change this limit, set the config variable\n",
      "`--NotebookApp.iopub_msg_rate_limit`.\n",
      "\n",
      "Current values:\n",
      "NotebookApp.iopub_msg_rate_limit=1000.0 (msgs/sec)\n",
      "NotebookApp.rate_limit_window=3.0 (secs)\n",
      "\n"
     ]
    },
    {
     "name": "stdout",
     "output_type": "stream",
     "text": [
      "[===============================================---] 95.8% 1592.9/1662.8MB downloaded"
     ]
    },
    {
     "name": "stderr",
     "output_type": "stream",
     "text": [
      "IOPub message rate exceeded.\n",
      "The notebook server will temporarily stop sending output\n",
      "to the client in order to avoid crashing it.\n",
      "To change this limit, set the config variable\n",
      "`--NotebookApp.iopub_msg_rate_limit`.\n",
      "\n",
      "Current values:\n",
      "NotebookApp.iopub_msg_rate_limit=1000.0 (msgs/sec)\n",
      "NotebookApp.rate_limit_window=3.0 (secs)\n",
      "\n"
     ]
    },
    {
     "name": "stdout",
     "output_type": "stream",
     "text": [
      "[================================================--] 97.6% 1622.6/1662.8MB downloaded"
     ]
    },
    {
     "name": "stderr",
     "output_type": "stream",
     "text": [
      "IOPub message rate exceeded.\n",
      "The notebook server will temporarily stop sending output\n",
      "to the client in order to avoid crashing it.\n",
      "To change this limit, set the config variable\n",
      "`--NotebookApp.iopub_msg_rate_limit`.\n",
      "\n",
      "Current values:\n",
      "NotebookApp.iopub_msg_rate_limit=1000.0 (msgs/sec)\n",
      "NotebookApp.rate_limit_window=3.0 (secs)\n",
      "\n"
     ]
    },
    {
     "name": "stdout",
     "output_type": "stream",
     "text": [
      "[=================================================-] 99.9% 1660.8/1662.8MB downloaded"
     ]
    },
    {
     "name": "stderr",
     "output_type": "stream",
     "text": [
      "IOPub message rate exceeded.\n",
      "The notebook server will temporarily stop sending output\n",
      "to the client in order to avoid crashing it.\n",
      "To change this limit, set the config variable\n",
      "`--NotebookApp.iopub_msg_rate_limit`.\n",
      "\n",
      "Current values:\n",
      "NotebookApp.iopub_msg_rate_limit=1000.0 (msgs/sec)\n",
      "NotebookApp.rate_limit_window=3.0 (secs)\n",
      "\n",
      "2022-02-27 13:48:34,620 : INFO : KeyedVectors lifecycle event {'msg': 'loaded (3000000, 300) matrix of type float32 from /home/mark/gensim-data/word2vec-google-news-300/word2vec-google-news-300.gz', 'binary': True, 'encoding': 'utf8', 'datetime': '2022-02-27T13:48:34.620059', 'gensim': '4.1.2', 'python': '3.8.10 (default, Nov 26 2021, 20:14:08) \\n[GCC 9.3.0]', 'platform': 'Linux-5.13.0-30-generic-x86_64-with-glibc2.29', 'event': 'load_word2vec_format'}\n"
     ]
    },
    {
     "data": {
      "text/plain": [
       "[(0, -0.14257812),\n",
       " (1, -0.1640625),\n",
       " (2, -0.09033203),\n",
       " (3, -0.11230469),\n",
       " (4, 0.100097656),\n",
       " (5, -0.041259766),\n",
       " (6, 0.048828125),\n",
       " (7, -0.13671875),\n",
       " (8, 0.19628906),\n",
       " (9, -0.13476562),\n",
       " (10, -0.017578125),\n",
       " (11, 0.032226562),\n",
       " (12, 0.095214844),\n",
       " (13, -0.10595703),\n",
       " (14, -0.16992188),\n",
       " (15, 0.041015625),\n",
       " (16, -0.26367188),\n",
       " (17, -0.0063171387),\n",
       " (18, -0.17773438),\n",
       " (19, -0.24023438),\n",
       " (20, 0.3515625),\n",
       " (21, -0.012207031),\n",
       " (22, -0.16210938),\n",
       " (23, -0.12060547),\n",
       " (24, 0.04321289),\n",
       " (25, 0.10986328),\n",
       " (26, 0.052490234),\n",
       " (27, 0.17871094),\n",
       " (28, -0.14550781),\n",
       " (29, 0.13769531),\n",
       " (30, -0.08203125),\n",
       " (31, -0.28320312),\n",
       " (32, -0.10888672),\n",
       " (33, -0.2890625),\n",
       " (34, 0.072265625),\n",
       " (35, -0.04736328),\n",
       " (36, 0.040283203),\n",
       " (37, 0.067871094),\n",
       " (38, 0.11669922),\n",
       " (39, 0.000831604),\n",
       " (40, 0.068359375),\n",
       " (41, 0.12011719),\n",
       " (42, -0.088378906),\n",
       " (43, 0.33789062),\n",
       " (44, -0.044677734),\n",
       " (45, -0.030151367),\n",
       " (46, 0.0076904297),\n",
       " (47, -0.021118164),\n",
       " (48, -0.25390625),\n",
       " (49, 0.14941406),\n",
       " (50, 0.3984375),\n",
       " (51, 0.021606445),\n",
       " (52, -0.02319336),\n",
       " (53, 0.0063476562),\n",
       " (54, 0.008239746),\n",
       " (55, -0.16894531),\n",
       " (56, 0.037353516),\n",
       " (57, -0.06347656),\n",
       " (58, 0.1171875),\n",
       " (59, -0.1484375),\n",
       " (60, -0.07861328),\n",
       " (61, 0.36914062),\n",
       " (62, -0.22460938),\n",
       " (63, 0.17382812),\n",
       " (64, 0.0138549805),\n",
       " (65, 0.1875),\n",
       " (66, -0.10107422),\n",
       " (67, 0.037841797),\n",
       " (68, 0.0021209717),\n",
       " (69, -0.05126953),\n",
       " (70, 0.096191406),\n",
       " (71, -0.057128906),\n",
       " (72, 0.10595703),\n",
       " (73, -0.020996094),\n",
       " (74, 0.16113281),\n",
       " (75, 0.09765625),\n",
       " (76, 0.038330078),\n",
       " (77, 0.21972656),\n",
       " (78, 0.10644531),\n",
       " (79, 0.0859375),\n",
       " (80, 0.1796875),\n",
       " (81, -0.08300781),\n",
       " (82, -0.033203125),\n",
       " (83, 0.041015625),\n",
       " (84, -0.064941406),\n",
       " (85, 0.019897461),\n",
       " (86, 0.13378906),\n",
       " (87, -0.09765625),\n",
       " (88, -0.19335938),\n",
       " (89, -0.23535156),\n",
       " (90, 0.19042969),\n",
       " (91, 0.0024871826),\n",
       " (92, -0.01574707),\n",
       " (93, 0.032226562),\n",
       " (94, -0.21972656),\n",
       " (95, -0.091308594),\n",
       " (96, 0.021240234),\n",
       " (97, 0.15820312),\n",
       " (98, 0.29882812),\n",
       " (99, -0.328125),\n",
       " (100, 0.057373047),\n",
       " (101, -0.04638672),\n",
       " (102, 0.11328125),\n",
       " (103, -0.1015625),\n",
       " (104, 0.18066406),\n",
       " (105, -0.025146484),\n",
       " (106, -0.16601562),\n",
       " (107, -0.096191406),\n",
       " (108, 0.018798828),\n",
       " (109, -0.19433594),\n",
       " (110, 0.14941406),\n",
       " (111, -0.056640625),\n",
       " (112, -0.106933594),\n",
       " (113, -0.15039062),\n",
       " (114, -0.17578125),\n",
       " (115, 0.11279297),\n",
       " (116, 0.049316406),\n",
       " (117, 0.21972656),\n",
       " (118, 0.31835938),\n",
       " (119, 0.15722656),\n",
       " (120, -0.29296875),\n",
       " (121, 0.10498047),\n",
       " (122, -0.296875),\n",
       " (123, -0.013427734),\n",
       " (124, 0.09082031),\n",
       " (125, 0.012573242),\n",
       " (126, -0.051513672),\n",
       " (127, -0.12890625),\n",
       " (128, 0.014465332),\n",
       " (129, 0.12060547),\n",
       " (130, -0.10107422),\n",
       " (131, -0.111328125),\n",
       " (132, 0.063964844),\n",
       " (133, -0.052978516),\n",
       " (134, -0.04321289),\n",
       " (135, -0.012939453),\n",
       " (136, -0.02758789),\n",
       " (137, -0.09716797),\n",
       " (138, -0.20214844),\n",
       " (139, 0.123046875),\n",
       " (140, -0.04248047),\n",
       " (141, 0.17382812),\n",
       " (142, -0.013671875),\n",
       " (143, 0.1015625),\n",
       " (144, -0.0009384155),\n",
       " (145, -0.03564453),\n",
       " (146, 0.30078125),\n",
       " (147, -0.068359375),\n",
       " (148, -0.056152344),\n",
       " (149, 0.037597656),\n",
       " (150, 0.06591797),\n",
       " (151, 0.040283203),\n",
       " (152, 0.0119018555),\n",
       " (153, 0.096191406),\n",
       " (154, 0.3671875),\n",
       " (155, -0.27929688),\n",
       " (156, -0.052001953),\n",
       " (157, -0.106933594),\n",
       " (158, -0.13476562),\n",
       " (159, -0.046142578),\n",
       " (160, 0.25),\n",
       " (161, 0.0056762695),\n",
       " (162, -0.014404297),\n",
       " (163, -0.03100586),\n",
       " (164, -0.060302734),\n",
       " (165, 0.10595703),\n",
       " (166, 0.37890625),\n",
       " (167, 0.05883789),\n",
       " (168, 0.123046875),\n",
       " (169, -0.115234375),\n",
       " (170, 0.14941406),\n",
       " (171, -0.1640625),\n",
       " (172, -0.23339844),\n",
       " (173, -0.07763672),\n",
       " (174, 0.026733398),\n",
       " (175, -0.021118164),\n",
       " (176, 0.19433594),\n",
       " (177, -0.056152344),\n",
       " (178, -0.006439209),\n",
       " (179, -0.16992188),\n",
       " (180, -0.118652344),\n",
       " (181, -0.06738281),\n",
       " (182, -0.068847656),\n",
       " (183, -0.08691406),\n",
       " (184, -0.1015625),\n",
       " (185, 0.014160156),\n",
       " (186, -0.20117188),\n",
       " (187, 0.09814453),\n",
       " (188, -0.010253906),\n",
       " (189, 0.1875),\n",
       " (190, 0.19628906),\n",
       " (191, -0.22070312),\n",
       " (192, -0.19628906),\n",
       " (193, -0.07373047),\n",
       " (194, 0.06640625),\n",
       " (195, -0.13378906),\n",
       " (196, 0.18359375),\n",
       " (197, -0.20019531),\n",
       " (198, 0.19824219),\n",
       " (199, 0.05029297),\n",
       " (200, 0.029907227),\n",
       " (201, 0.017700195),\n",
       " (202, -0.19335938),\n",
       " (203, -0.096191406),\n",
       " (204, -0.10253906),\n",
       " (205, 0.21289062),\n",
       " (206, -0.029907227),\n",
       " (207, 0.14355469),\n",
       " (208, 0.041015625),\n",
       " (209, -0.21191406),\n",
       " (210, 0.20800781),\n",
       " (211, 0.13769531),\n",
       " (212, -0.01965332),\n",
       " (213, 0.014953613),\n",
       " (214, -0.09765625),\n",
       " (215, 0.24316406),\n",
       " (216, 0.080078125),\n",
       " (217, 0.08251953),\n",
       " (218, 0.09863281),\n",
       " (219, 0.056884766),\n",
       " (220, 0.04248047),\n",
       " (221, 0.068847656),\n",
       " (222, -0.03540039),\n",
       " (223, -0.076171875),\n",
       " (224, -0.00016117096),\n",
       " (225, -0.07519531),\n",
       " (226, 0.22460938),\n",
       " (227, 0.15136719),\n",
       " (228, 0.10058594),\n",
       " (229, 0.10986328),\n",
       " (230, 0.023803711),\n",
       " (231, 0.088378906),\n",
       " (232, 0.061767578),\n",
       " (233, -0.107910156),\n",
       " (234, 0.06225586),\n",
       " (235, 0.0034332275),\n",
       " (236, 0.080566406),\n",
       " (237, 0.106933594),\n",
       " (238, 0.08886719),\n",
       " (239, -0.23730469),\n",
       " (240, 0.064941406),\n",
       " (241, 0.010192871),\n",
       " (242, -0.088378906),\n",
       " (243, -0.33203125),\n",
       " (244, 0.0046691895),\n",
       " (245, 0.21289062),\n",
       " (246, 0.0859375),\n",
       " (247, 0.020385742),\n",
       " (248, 0.045654297),\n",
       " (249, 0.1484375),\n",
       " (250, 0.11816406),\n",
       " (251, 0.055664062),\n",
       " (252, -0.17285156),\n",
       " (253, -0.125),\n",
       " (254, -0.025390625),\n",
       " (255, -0.31835938),\n",
       " (256, 0.03112793),\n",
       " (257, 0.0859375),\n",
       " (258, -0.041992188),\n",
       " (259, 0.15625),\n",
       " (260, 0.16113281),\n",
       " (261, 0.19824219),\n",
       " (262, -0.100097656),\n",
       " (263, 0.203125),\n",
       " (264, 0.12890625),\n",
       " (265, 0.23339844),\n",
       " (266, -0.26757812),\n",
       " (267, 0.05517578),\n",
       " (268, 0.048828125),\n",
       " (269, 0.072265625),\n",
       " (270, 0.24414062),\n",
       " (271, 0.24414062),\n",
       " (272, 0.056884766),\n",
       " (273, -0.0546875),\n",
       " (274, -0.033691406),\n",
       " (275, -0.12060547),\n",
       " (276, 0.03491211),\n",
       " (277, -0.14550781),\n",
       " (278, 0.087402344),\n",
       " (279, -0.08300781),\n",
       " (280, 0.017211914),\n",
       " (281, 0.14355469),\n",
       " (282, -0.122558594),\n",
       " (283, 0.1796875),\n",
       " (284, 0.13085938),\n",
       " (285, -0.16503906),\n",
       " (286, 0.012756348),\n",
       " (287, 0.16015625),\n",
       " (288, -0.03112793),\n",
       " (289, 0.08203125),\n",
       " (290, 0.17382812),\n",
       " (291, -0.16796875),\n",
       " (292, 0.13085938),\n",
       " (293, 0.08544922),\n",
       " (294, -0.2109375),\n",
       " (295, -0.13085938),\n",
       " (296, -0.028930664),\n",
       " (297, -0.10546875),\n",
       " (298, 0.084472656),\n",
       " (299, -0.14160156)]"
      ]
     },
     "execution_count": 89,
     "metadata": {},
     "output_type": "execute_result"
    }
   ],
   "source": [
    "w2v_pretrained = W2VPretrainedRetrievalModel(doc_repr_2)\n",
    "w2v_pretrained.train_model()\n",
    "\n",
    "# you can now get an W2V vector for a given query in the following way:\n",
    "w2v_pretrained.vectorize_query(\"report\")"
   ]
  },
  {
   "cell_type": "code",
   "execution_count": 90,
   "metadata": {
    "deletable": false,
    "editable": false,
    "nbgrader": {
     "cell_type": "code",
     "checksum": "0822845afb5eafe5ddb1ffeaa4f4942a",
     "grade": true,
     "grade_id": "cell-1b1466f8ce516f42",
     "locked": true,
     "points": 2,
     "schema_version": 3,
     "solution": false,
     "task": false
    }
   },
   "outputs": [
    {
     "name": "stdout",
     "output_type": "stream",
     "text": [
      "300\n"
     ]
    }
   ],
   "source": [
    "##### Function check\n",
    "\n",
    "print(len(w2v_pretrained.vectorize_query(\"report\")))\n",
    "#####"
   ]
  },
  {
   "cell_type": "code",
   "execution_count": 91,
   "metadata": {},
   "outputs": [
    {
     "data": {
      "application/vnd.jupyter.widget-view+json": {
       "model_id": "26a365b6f98646a7ac36cceb246cfb43",
       "version_major": 2,
       "version_minor": 0
      },
      "text/plain": [
       "Text(value='', description='Search Bar')"
      ]
     },
     "metadata": {},
     "output_type": "display_data"
    }
   ],
   "source": [
    "drm_w2v = DenseRetrievalRanker(w2v, cosine_sim)\n",
    "\n",
    "# test your LDA model\n",
    "search_fn = drm_w2v.search\n",
    "\n",
    "text = widgets.Text(description=\"Search Bar\", width=200)\n",
    "display(text)\n",
    "\n",
    "\n",
    "text.on_submit(handle_submit_2)"
   ]
  },
  {
   "cell_type": "code",
   "execution_count": 92,
   "metadata": {},
   "outputs": [
    {
     "data": {
      "application/vnd.jupyter.widget-view+json": {
       "model_id": "314dc6b245504a10937630de89e74aed",
       "version_major": 2,
       "version_minor": 0
      },
      "text/plain": [
       "Text(value='', description='Search Bar')"
      ]
     },
     "metadata": {},
     "output_type": "display_data"
    }
   ],
   "source": [
    "drm_w2v_pretrained = DenseRetrievalRanker(w2v_pretrained, cosine_sim)\n",
    "\n",
    "#test your LDA model\n",
    "search_fn = drm_w2v_pretrained.search\n",
    "\n",
    "text = widgets.Text(description=\"Search Bar\", width=200)\n",
    "display(text)\n",
    "\n",
    "\n",
    "text.on_submit(handle_submit_2)"
   ]
  },
  {
   "cell_type": "markdown",
   "metadata": {
    "deletable": false,
    "editable": false,
    "nbgrader": {
     "cell_type": "markdown",
     "checksum": "51b778984fd60757974f51047c61eb15",
     "grade": false,
     "grade_id": "cell-b92f701cbc706108",
     "locked": true,
     "schema_version": 3,
     "solution": false,
     "task": false
    }
   },
   "source": [
    "**Implementation (10 points):**\n",
    "For Doc2Vec, you will need to create a list of `TaggedDocument` instead of using the `self.corpus` or `self.documents` variable. Use the document id as the 'tag'.\n",
    "  "
   ]
  },
  {
   "cell_type": "code",
   "execution_count": 93,
   "metadata": {
    "deletable": false,
    "editable": false,
    "nbgrader": {
     "cell_type": "code",
     "checksum": "e83a363a9d4f136efbdde1426a83925e",
     "grade": true,
     "grade_id": "cell-5e2c5e0c9a2e8cb5",
     "locked": true,
     "points": 0,
     "schema_version": 3,
     "solution": false,
     "task": false
    }
   },
   "outputs": [],
   "source": [
    "#### Please do not change this. This cell is used for grading."
   ]
  },
  {
   "cell_type": "markdown",
   "metadata": {
    "deletable": false,
    "editable": false,
    "nbgrader": {
     "cell_type": "markdown",
     "checksum": "5bb46bf6b9be1e0ca66f0b0bc6260ecb",
     "grade": false,
     "grade_id": "cell-8a49d414f798a595",
     "locked": true,
     "points": 10,
     "schema_version": 3,
     "solution": false,
     "task": true
    }
   },
   "source": [
    "\\#### Please do not change this. This cell is used for grading."
   ]
  },
  {
   "cell_type": "code",
   "execution_count": 94,
   "metadata": {
    "deletable": false,
    "nbgrader": {
     "cell_type": "code",
     "checksum": "1f60fdeb97febb7f4a6fd5bf109aac20",
     "grade": false,
     "grade_id": "cell-680facdcc98a19ab",
     "locked": false,
     "schema_version": 3,
     "solution": true,
     "task": false
    }
   },
   "outputs": [
    {
     "name": "stderr",
     "output_type": "stream",
     "text": [
      "2022-02-27 13:48:35,811 : INFO : adding document #0 to Dictionary(0 unique tokens: [])\n",
      "2022-02-27 13:48:35,895 : INFO : built Dictionary(5937 unique tokens: ['-', 'algebra', 'intern', 'languag', 'preliminari']...) from 3204 documents (total 115969 corpus positions)\n",
      "2022-02-27 13:48:35,896 : INFO : Dictionary lifecycle event {'msg': \"built Dictionary(5937 unique tokens: ['-', 'algebra', 'intern', 'languag', 'preliminari']...) from 3204 documents (total 115969 corpus positions)\", 'datetime': '2022-02-27T13:48:35.896215', 'gensim': '4.1.2', 'python': '3.8.10 (default, Nov 26 2021, 20:14:08) \\n[GCC 9.3.0]', 'platform': 'Linux-5.13.0-30-generic-x86_64-with-glibc2.29', 'event': 'created'}\n",
      "2022-02-27 13:48:35,903 : INFO : discarding 4740 tokens: [('repeat', 8), ('glossari', 7), ('inspect', 8), ('uncol', 2), ('rung', 9), ('secant', 2), ('.', 1603), ('acceler', 6), ('diverg', 3), ('induc', 9)]...\n",
      "2022-02-27 13:48:35,904 : INFO : keeping 1197 tokens which were in no less than 10 and no more than 1602 (=50.0%) documents\n",
      "2022-02-27 13:48:35,906 : INFO : resulting dictionary: Dictionary(1197 unique tokens: ['-', 'algebra', 'intern', 'languag', 'preliminari']...)\n",
      "2022-02-27 13:48:35,958 : INFO : collecting all words and their counts\n",
      "2022-02-27 13:48:35,959 : INFO : PROGRESS: at example #0, processed 0 words (0/s), 0 word types, 0 tags\n",
      "2022-02-27 13:48:35,981 : INFO : collected 5937 word types and 1 unique tags from a corpus of 3204 examples and 115969 words\n",
      "2022-02-27 13:48:35,981 : INFO : Creating a fresh vocabulary\n",
      "2022-02-27 13:48:36,006 : INFO : Doc2Vec lifecycle event {'msg': 'effective_min_count=1 retains 5937 unique words (100.0%% of original 5937, drops 0)', 'datetime': '2022-02-27T13:48:36.006298', 'gensim': '4.1.2', 'python': '3.8.10 (default, Nov 26 2021, 20:14:08) \\n[GCC 9.3.0]', 'platform': 'Linux-5.13.0-30-generic-x86_64-with-glibc2.29', 'event': 'prepare_vocab'}\n",
      "2022-02-27 13:48:36,007 : INFO : Doc2Vec lifecycle event {'msg': 'effective_min_count=1 leaves 115969 word corpus (100.0%% of original 115969, drops 0)', 'datetime': '2022-02-27T13:48:36.006986', 'gensim': '4.1.2', 'python': '3.8.10 (default, Nov 26 2021, 20:14:08) \\n[GCC 9.3.0]', 'platform': 'Linux-5.13.0-30-generic-x86_64-with-glibc2.29', 'event': 'prepare_vocab'}\n",
      "2022-02-27 13:48:36,038 : INFO : deleting the raw counts dictionary of 5937 items\n",
      "2022-02-27 13:48:36,040 : INFO : sample=0.001 downsamples 40 most-common words\n",
      "2022-02-27 13:48:36,041 : INFO : Doc2Vec lifecycle event {'msg': 'downsampling leaves estimated 92346.50772718964 word corpus (79.6%% of prior 115969)', 'datetime': '2022-02-27T13:48:36.041606', 'gensim': '4.1.2', 'python': '3.8.10 (default, Nov 26 2021, 20:14:08) \\n[GCC 9.3.0]', 'platform': 'Linux-5.13.0-30-generic-x86_64-with-glibc2.29', 'event': 'prepare_vocab'}\n",
      "2022-02-27 13:48:36,091 : INFO : estimated required memory for 5937 words and 100 dimensions: 7718700 bytes\n",
      "2022-02-27 13:48:36,092 : INFO : resetting layer weights\n",
      "2022-02-27 13:48:36,096 : INFO : Doc2Vec lifecycle event {'msg': 'training model with 4 workers on 5937 vocabulary and 100 features, using sg=0 hs=0 sample=0.001 negative=5 window=5 shrink_windows=True', 'datetime': '2022-02-27T13:48:36.096430', 'gensim': '4.1.2', 'python': '3.8.10 (default, Nov 26 2021, 20:14:08) \\n[GCC 9.3.0]', 'platform': 'Linux-5.13.0-30-generic-x86_64-with-glibc2.29', 'event': 'train'}\n",
      "2022-02-27 13:48:36,311 : INFO : worker thread finished; awaiting finish of 3 more threads\n",
      "2022-02-27 13:48:36,337 : INFO : worker thread finished; awaiting finish of 2 more threads\n",
      "2022-02-27 13:48:36,341 : INFO : worker thread finished; awaiting finish of 1 more threads\n",
      "2022-02-27 13:48:36,346 : INFO : worker thread finished; awaiting finish of 0 more threads\n",
      "2022-02-27 13:48:36,346 : INFO : EPOCH - 1 : training on 115969 raw words (95445 effective words) took 0.2s, 388453 effective words/s\n",
      "2022-02-27 13:48:36,574 : INFO : worker thread finished; awaiting finish of 3 more threads\n",
      "2022-02-27 13:48:36,586 : INFO : worker thread finished; awaiting finish of 2 more threads\n",
      "2022-02-27 13:48:36,594 : INFO : worker thread finished; awaiting finish of 1 more threads\n",
      "2022-02-27 13:48:36,600 : INFO : worker thread finished; awaiting finish of 0 more threads\n",
      "2022-02-27 13:48:36,601 : INFO : EPOCH - 2 : training on 115969 raw words (95650 effective words) took 0.3s, 380743 effective words/s\n",
      "2022-02-27 13:48:36,808 : INFO : worker thread finished; awaiting finish of 3 more threads\n",
      "2022-02-27 13:48:36,839 : INFO : worker thread finished; awaiting finish of 2 more threads\n",
      "2022-02-27 13:48:36,840 : INFO : worker thread finished; awaiting finish of 1 more threads\n",
      "2022-02-27 13:48:36,844 : INFO : worker thread finished; awaiting finish of 0 more threads\n",
      "2022-02-27 13:48:36,845 : INFO : EPOCH - 3 : training on 115969 raw words (95377 effective words) took 0.2s, 400639 effective words/s\n",
      "2022-02-27 13:48:37,067 : INFO : worker thread finished; awaiting finish of 3 more threads\n",
      "2022-02-27 13:48:37,085 : INFO : worker thread finished; awaiting finish of 2 more threads\n",
      "2022-02-27 13:48:37,087 : INFO : worker thread finished; awaiting finish of 1 more threads\n",
      "2022-02-27 13:48:37,090 : INFO : worker thread finished; awaiting finish of 0 more threads\n",
      "2022-02-27 13:48:37,091 : INFO : EPOCH - 4 : training on 115969 raw words (95617 effective words) took 0.2s, 399166 effective words/s\n",
      "2022-02-27 13:48:37,304 : INFO : worker thread finished; awaiting finish of 3 more threads\n",
      "2022-02-27 13:48:37,326 : INFO : worker thread finished; awaiting finish of 2 more threads\n",
      "2022-02-27 13:48:37,328 : INFO : worker thread finished; awaiting finish of 1 more threads\n",
      "2022-02-27 13:48:37,331 : INFO : worker thread finished; awaiting finish of 0 more threads\n",
      "2022-02-27 13:48:37,332 : INFO : EPOCH - 5 : training on 115969 raw words (95513 effective words) took 0.2s, 404900 effective words/s\n",
      "2022-02-27 13:48:37,539 : INFO : worker thread finished; awaiting finish of 3 more threads\n",
      "2022-02-27 13:48:37,565 : INFO : worker thread finished; awaiting finish of 2 more threads\n",
      "2022-02-27 13:48:37,566 : INFO : worker thread finished; awaiting finish of 1 more threads\n",
      "2022-02-27 13:48:37,568 : INFO : worker thread finished; awaiting finish of 0 more threads\n",
      "2022-02-27 13:48:37,569 : INFO : EPOCH - 6 : training on 115969 raw words (95566 effective words) took 0.2s, 409093 effective words/s\n",
      "2022-02-27 13:48:37,778 : INFO : worker thread finished; awaiting finish of 3 more threads\n",
      "2022-02-27 13:48:37,802 : INFO : worker thread finished; awaiting finish of 2 more threads\n",
      "2022-02-27 13:48:37,805 : INFO : worker thread finished; awaiting finish of 1 more threads\n",
      "2022-02-27 13:48:37,809 : INFO : worker thread finished; awaiting finish of 0 more threads\n",
      "2022-02-27 13:48:37,810 : INFO : EPOCH - 7 : training on 115969 raw words (95578 effective words) took 0.2s, 402698 effective words/s\n",
      "2022-02-27 13:48:38,019 : INFO : worker thread finished; awaiting finish of 3 more threads\n",
      "2022-02-27 13:48:38,040 : INFO : worker thread finished; awaiting finish of 2 more threads\n",
      "2022-02-27 13:48:38,044 : INFO : worker thread finished; awaiting finish of 1 more threads\n",
      "2022-02-27 13:48:38,048 : INFO : worker thread finished; awaiting finish of 0 more threads\n",
      "2022-02-27 13:48:38,049 : INFO : EPOCH - 8 : training on 115969 raw words (95608 effective words) took 0.2s, 407240 effective words/s\n",
      "2022-02-27 13:48:38,254 : INFO : worker thread finished; awaiting finish of 3 more threads\n",
      "2022-02-27 13:48:38,278 : INFO : worker thread finished; awaiting finish of 2 more threads\n",
      "2022-02-27 13:48:38,282 : INFO : worker thread finished; awaiting finish of 1 more threads\n",
      "2022-02-27 13:48:38,285 : INFO : worker thread finished; awaiting finish of 0 more threads\n",
      "2022-02-27 13:48:38,285 : INFO : EPOCH - 9 : training on 115969 raw words (95747 effective words) took 0.2s, 411425 effective words/s\n",
      "2022-02-27 13:48:38,495 : INFO : worker thread finished; awaiting finish of 3 more threads\n",
      "2022-02-27 13:48:38,513 : INFO : worker thread finished; awaiting finish of 2 more threads\n",
      "2022-02-27 13:48:38,515 : INFO : worker thread finished; awaiting finish of 1 more threads\n",
      "2022-02-27 13:48:38,516 : INFO : worker thread finished; awaiting finish of 0 more threads\n"
     ]
    },
    {
     "name": "stderr",
     "output_type": "stream",
     "text": [
      "2022-02-27 13:48:38,517 : INFO : EPOCH - 10 : training on 115969 raw words (95540 effective words) took 0.2s, 424069 effective words/s\n",
      "2022-02-27 13:48:38,517 : INFO : Doc2Vec lifecycle event {'msg': 'training on 1159690 raw words (955641 effective words) took 2.4s, 394813 effective words/s', 'datetime': '2022-02-27T13:48:38.517508', 'gensim': '4.1.2', 'python': '3.8.10 (default, Nov 26 2021, 20:14:08) \\n[GCC 9.3.0]', 'platform': 'Linux-5.13.0-30-generic-x86_64-with-glibc2.29', 'event': 'train'}\n",
      "2022-02-27 13:48:38,518 : INFO : Doc2Vec lifecycle event {'params': 'Doc2Vec(dm/m,d100,n5,w5,s0.001,t4)', 'datetime': '2022-02-27T13:48:38.518019', 'gensim': '4.1.2', 'python': '3.8.10 (default, Nov 26 2021, 20:14:08) \\n[GCC 9.3.0]', 'platform': 'Linux-5.13.0-30-generic-x86_64-with-glibc2.29', 'event': 'created'}\n"
     ]
    },
    {
     "data": {
      "text/plain": [
       "[(0, -0.2773433),\n",
       " (1, -0.3460807),\n",
       " (2, -0.5040401),\n",
       " (3, 0.21645099),\n",
       " (4, 0.07543485),\n",
       " (5, -0.18668383),\n",
       " (6, -0.4543111),\n",
       " (7, -0.083230846),\n",
       " (8, -0.7202274),\n",
       " (9, 0.046750326),\n",
       " (10, 0.18962066),\n",
       " (11, -0.015471338),\n",
       " (12, -0.20079456),\n",
       " (13, -0.2508945),\n",
       " (14, -0.48813927),\n",
       " (15, -0.46449813),\n",
       " (16, 0.22547583),\n",
       " (17, 0.3905662),\n",
       " (18, -0.37637296),\n",
       " (19, -0.40017828),\n",
       " (20, -0.17340085),\n",
       " (21, 0.07576899),\n",
       " (22, -0.027263248),\n",
       " (23, 0.13847287),\n",
       " (24, 0.09028058),\n",
       " (25, -0.5292608),\n",
       " (26, -0.44528267),\n",
       " (27, -0.71188146),\n",
       " (28, 0.28626588),\n",
       " (29, -0.5874197),\n",
       " (30, 0.35314864),\n",
       " (31, 0.4303683),\n",
       " (32, -0.38605404),\n",
       " (33, -0.3627248),\n",
       " (34, -0.049602475),\n",
       " (35, 0.052602116),\n",
       " (36, -0.16317897),\n",
       " (37, -0.59030557),\n",
       " (38, -0.17077),\n",
       " (39, -0.038167898),\n",
       " (40, -0.093117885),\n",
       " (41, -0.5489722),\n",
       " (42, 0.2705928),\n",
       " (43, -0.63537186),\n",
       " (44, 0.09116837),\n",
       " (45, -0.29805174),\n",
       " (46, 0.015643502),\n",
       " (47, -0.09027952),\n",
       " (48, 0.30731636),\n",
       " (49, -0.5185128),\n",
       " (50, -0.31904703),\n",
       " (51, -0.23931687),\n",
       " (52, -0.0539742),\n",
       " (53, -0.1270284),\n",
       " (54, -0.15564497),\n",
       " (55, 0.6426391),\n",
       " (56, -0.1634929),\n",
       " (57, 0.21288161),\n",
       " (58, -0.3998467),\n",
       " (59, 0.45168146),\n",
       " (60, 0.3268706),\n",
       " (61, 0.35579604),\n",
       " (62, 0.1978959),\n",
       " (63, -0.18240659),\n",
       " (64, 0.021357665),\n",
       " (65, -0.33162376),\n",
       " (66, 0.39639586),\n",
       " (67, 0.17473426),\n",
       " (68, -0.33496147),\n",
       " (69, -0.5619522),\n",
       " (70, -0.37371027),\n",
       " (71, 0.07495598),\n",
       " (72, -0.45369405),\n",
       " (73, -0.4678119),\n",
       " (74, -0.24716842),\n",
       " (75, 0.49445987),\n",
       " (76, -0.5554701),\n",
       " (77, -0.49252665),\n",
       " (78, -0.06547178),\n",
       " (79, 0.16774775),\n",
       " (80, 0.5954741),\n",
       " (81, 0.32555005),\n",
       " (82, -0.6305778),\n",
       " (83, -0.07204116),\n",
       " (84, 0.50139976),\n",
       " (85, 0.06079445),\n",
       " (86, 0.2935602),\n",
       " (87, -0.27001837),\n",
       " (88, 0.4748464),\n",
       " (89, 0.2758051),\n",
       " (90, -0.47842956),\n",
       " (91, 0.2085757),\n",
       " (92, -0.80257446),\n",
       " (93, -0.3667028),\n",
       " (94, -0.086891696),\n",
       " (95, 0.8044104),\n",
       " (96, 0.020348066),\n",
       " (97, -0.2319463),\n",
       " (98, 0.3548445),\n",
       " (99, 0.15971981)]"
      ]
     },
     "execution_count": 94,
     "metadata": {},
     "output_type": "execute_result"
    }
   ],
   "source": [
    "# TODO: Implement this! (10 points)\n",
    "class D2VRetrievalModel(VectorSpaceRetrievalModel):\n",
    "    def __init__(self, doc_repr):\n",
    "        super().__init__(doc_repr)\n",
    "        \n",
    "        self.vector_size= 100\n",
    "        self.min_count = 1\n",
    "        self.epochs = 20\n",
    "        self.doc = [TaggedDocument(d[1],[0]) for i, d in enumerate(doc_repr)]\n",
    "        \n",
    "    def train_model(self):\n",
    "        \"\"\"\n",
    "        Trains the W2V model\n",
    "        \"\"\"\n",
    "        self.model = Doc2Vec(self.doc, vector_size=self.vector_size, window=5, min_count=self.min_count, workers=4)\n",
    "        \n",
    "    def vectorize_documents(self):\n",
    "        \"\"\"\n",
    "            Returns a doc_id -> vector dictionary\n",
    "        \"\"\"    \n",
    "        vectors={}\n",
    "        \n",
    "        for (doc_id, _), cc in zip(self.doc_repr, self.documents):\n",
    "            n=cc[:]\n",
    "            for word in cc:\n",
    "                if word not in self.model.wv:\n",
    "                    n.remove(word)        \n",
    "            docvec=self.model.infer_vector(n)\n",
    "            tot=np.linspace(0, self.vector_size-1,num=self.vector_size,dtype=int)\n",
    "            real=list(zip(tot, docvec))\n",
    "            vectors[doc_id]=real\n",
    "            \n",
    "        return vectors\n",
    "\n",
    "    def vectorize_query(self, query):\n",
    "        \"\"\"\n",
    "        Vectorizes the query using the W2V model\n",
    "        \"\"\"\n",
    "        query = process_text(query, **config_2)\n",
    "        for word in query:\n",
    "            if word not in self.model.wv:\n",
    "                return np.zeros(self.vector_size)\n",
    "        tot=np.linspace(0, self.vector_size-1,num=self.vector_size,dtype=int)\n",
    "        query_vector = self.model.wv[query]\n",
    "        real=list(zip(tot, query_vector[0]))\n",
    "        \n",
    "        return real\n",
    "        \n",
    "d2v = D2VRetrievalModel(doc_repr_2)\n",
    "d2v.train_model()\n",
    "\n",
    "\n",
    "# # you can now get an LSI vector for a given query in the following way:\n",
    "d2v.vectorize_query(\"report\")"
   ]
  },
  {
   "cell_type": "code",
   "execution_count": 95,
   "metadata": {},
   "outputs": [
    {
     "data": {
      "application/vnd.jupyter.widget-view+json": {
       "model_id": "c1f25fd7525e480faabc587a0721f201",
       "version_major": 2,
       "version_minor": 0
      },
      "text/plain": [
       "Text(value='', description='Search Bar')"
      ]
     },
     "metadata": {},
     "output_type": "display_data"
    }
   ],
   "source": [
    "drm_d2v = DenseRetrievalRanker(d2v, cosine_sim)\n",
    "\n",
    "# test your LDA model\n",
    "search_fn = drm_d2v.search\n",
    "\n",
    "text = widgets.Text(description=\"Search Bar\", width=200)\n",
    "display(text)\n",
    "\n",
    "\n",
    "text.on_submit(handle_submit_2)"
   ]
  },
  {
   "cell_type": "markdown",
   "metadata": {
    "deletable": false,
    "editable": false,
    "nbgrader": {
     "cell_type": "markdown",
     "checksum": "363ec36c1d03d9f9e1c2045a6e193c14",
     "grade": false,
     "grade_id": "cell-3529ae29eece7b97",
     "locked": true,
     "schema_version": 3,
     "solution": false,
     "task": false
    }
   },
   "source": [
    "---\n",
    "## Section 9: Re-ranking (10 points) <a class=\"anchor\" id=\"reranking\"></a>\n",
    "\n",
    "[Back to Part 2](#part2)\n",
    "\n",
    "To motivate the re-ranking perspective (i.e retrieve with lexical method + rerank with a semantic method), let's search using semantic methods and compare it to BM25's performance, along with their runtime:\n"
   ]
  },
  {
   "cell_type": "code",
   "execution_count": 96,
   "metadata": {
    "deletable": false,
    "editable": false,
    "nbgrader": {
     "cell_type": "code",
     "checksum": "5755f70e3eb28abc65d14d80125338af",
     "grade": false,
     "grade_id": "cell-f8f43bf5ae383128",
     "locked": true,
     "schema_version": 3,
     "solution": false,
     "task": false
    }
   },
   "outputs": [
    {
     "name": "stdout",
     "output_type": "stream",
     "text": [
      "BM25: \n",
      "1.06 ms ± 6.11 µs per loop (mean ± std. dev. of 7 runs, 1,000 loops each)\n",
      "LSI: \n",
      "1.97 s ± 10.5 ms per loop (mean ± std. dev. of 7 runs, 1 loop each)\n",
      "LDA: \n",
      "2.67 s ± 16.2 ms per loop (mean ± std. dev. of 7 runs, 1 loop each)\n",
      "W2V: \n",
      "2.41 s ± 418 ms per loop (mean ± std. dev. of 7 runs, 1 loop each)\n",
      "W2V(Pretrained): \n",
      "6.09 s ± 167 ms per loop (mean ± std. dev. of 7 runs, 1 loop each)\n",
      "D2V:\n",
      "2.02 s ± 9.71 ms per loop (mean ± std. dev. of 7 runs, 1 loop each)\n"
     ]
    }
   ],
   "source": [
    "query = \"algebraic functions\"\n",
    "print(\"BM25: \")\n",
    "%timeit bm25_search(query, 2)\n",
    "print(\"LSI: \")\n",
    "%timeit drm_lsi.search(query)\n",
    "print(\"LDA: \")\n",
    "%timeit drm_lda.search(query)\n",
    "print(\"W2V: \")\n",
    "%timeit drm_w2v.search(query)\n",
    "print(\"W2V(Pretrained): \")\n",
    "%timeit drm_w2v_pretrained.search(query)\n",
    "print(\"D2V:\")\n",
    "%timeit drm_d2v.search(query)"
   ]
  },
  {
   "cell_type": "markdown",
   "metadata": {
    "deletable": false,
    "editable": false,
    "nbgrader": {
     "cell_type": "markdown",
     "checksum": "ae398da0a8c23c95bcbb0023b7ec6f34",
     "grade": false,
     "grade_id": "cell-db5ff09f97841af7",
     "locked": true,
     "schema_version": 3,
     "solution": false,
     "task": false
    }
   },
   "source": [
    "---\n",
    "\n",
    "**Implementation (10 points):**\n",
    "Re-ranking involves retrieving a small set of documents using simple but fast methods like BM25 and then re-ranking them with the aid of semantic methods such as LDA or LSI. Implement the following class, which takes in an `initial_retrieval_fn` - the initial retrieval function and `vsrm` - an instance of the `VectorSpaceRetrievalModel` class (i.e LSI/LDA) as input. The search function should first retrieve an initial list of K documents, and then these documents are re-ranked using a semantic method. This not only makes retrieval faster, but semantic methods perform poorly when used in isolation, as you will find out."
   ]
  },
  {
   "cell_type": "code",
   "execution_count": 97,
   "metadata": {
    "deletable": false,
    "nbgrader": {
     "cell_type": "code",
     "checksum": "63b6b05a676a2ae3f08d8bed1bc59428",
     "grade": false,
     "grade_id": "cell-5bf47600d1a0c507",
     "locked": false,
     "schema_version": 3,
     "solution": true,
     "task": false
    }
   },
   "outputs": [],
   "source": [
    "# TODO: Implement this! (10 points)\n",
    "def Sort_Tuple(tup): \n",
    "      \n",
    "    # getting length of list of tuples\n",
    "    lst = len(tup) \n",
    "    for i in range(0, lst): \n",
    "          \n",
    "        for j in range(0, lst-i-1): \n",
    "            if (tup[j][1] < tup[j + 1][1]): \n",
    "                temp = tup[j] \n",
    "                tup[j]= tup[j + 1] \n",
    "                tup[j + 1]= temp \n",
    "    return tup \n",
    "\n",
    "\n",
    "class DenseRerankingModel:\n",
    "    def __init__(self, initial_retrieval_fn, vsrm, similarity_fn):\n",
    "        \"\"\"\n",
    "            initial_retrieval_fn: takes in a query and returns a list of [(doc_id, score)] (sorted)\n",
    "            vsrm: instance of `VectorSpaceRetrievalModel`\n",
    "            similarity_fn: function instance that takes in two vectors \n",
    "                            and returns a similarity score e.g cosine_sim defined earlier\n",
    "        \"\"\"\n",
    "        self.ret = initial_retrieval_fn\n",
    "        self.vsrm = vsrm\n",
    "        self.similarity_fn = similarity_fn\n",
    "        self.vectorized_documents = vsrm.vectorize_documents()\n",
    "        \n",
    "        assert len(self.vectorized_documents) == len(doc_repr_2)\n",
    "    \n",
    "    def search(self, query, K=50):\n",
    "        \"\"\"\n",
    "            First, retrieve the top K results using the retrieval function\n",
    "            Then, re-rank the results using the VSRM instance\n",
    "        \"\"\"\n",
    "        reranked_l=[]\n",
    "        n=0\n",
    "        for i in self.ret(query):\n",
    "            n+=1\n",
    "            query_vector=self.vsrm.vectorize_query(query)\n",
    "            doc_id=i[0]\n",
    "            if np.array(self.vectorized_documents[doc_id]).size==0 or  np.array(query_vector).size==0:\n",
    "                continue\n",
    "            else:\n",
    "                \n",
    "\n",
    "                scor=self.similarity_fn(self.vectorized_documents[doc_id],query_vector)\n",
    "                reranked_l.append([doc_id,scor])\n",
    "        reranked_l=Sort_Tuple(reranked_l)\n",
    "        final=[]\n",
    "        for i in range(len(reranked_l)):\n",
    "            final.append(reranked_l[i])\n",
    "            if i==K:\n",
    "                break\n",
    "        return final"
   ]
  },
  {
   "cell_type": "code",
   "execution_count": 98,
   "metadata": {
    "deletable": false,
    "editable": false,
    "nbgrader": {
     "cell_type": "code",
     "checksum": "334ab5af96976265cace682ab82a7387",
     "grade": true,
     "grade_id": "cell-52c6d18a4c0b4882",
     "locked": true,
     "points": 0,
     "schema_version": 3,
     "solution": false,
     "task": false
    }
   },
   "outputs": [],
   "source": [
    "##### Function check\n",
    "bm25_search_2 = partial(bm25_search, index_set=2)\n",
    "lsi_rerank = DenseRerankingModel(bm25_search_2, lsi, cosine_sim)\n",
    "lda_rerank = DenseRerankingModel(bm25_search_2, lda, jenson_shannon_sim)\n",
    "w2v_rerank = DenseRerankingModel(bm25_search_2, w2v, cosine_sim)\n",
    "w2v_pretrained_rerank = DenseRerankingModel(bm25_search_2, w2v_pretrained, cosine_sim)\n",
    "d2v_rerank = DenseRerankingModel(bm25_search_2, d2v, cosine_sim)\n",
    "\n",
    "##### "
   ]
  },
  {
   "cell_type": "markdown",
   "metadata": {
    "deletable": false,
    "editable": false,
    "nbgrader": {
     "cell_type": "markdown",
     "checksum": "bd904253f45f84e63bab3a69729058fc",
     "grade": false,
     "grade_id": "cell-93215dfe6bcf7cff",
     "locked": true,
     "points": 10,
     "schema_version": 3,
     "solution": false,
     "task": true
    }
   },
   "source": [
    "\\#### Please do not change this. This cell is used for grading."
   ]
  },
  {
   "cell_type": "markdown",
   "metadata": {
    "deletable": false,
    "editable": false,
    "nbgrader": {
     "cell_type": "markdown",
     "checksum": "b592e60292bfe3d9ef2930a354c4077a",
     "grade": false,
     "grade_id": "cell-aa694ff55fa91e7d",
     "locked": true,
     "schema_version": 3,
     "solution": false,
     "task": false
    }
   },
   "source": [
    "---\n",
    "Now, let us time the new search functions:"
   ]
  },
  {
   "cell_type": "code",
   "execution_count": 99,
   "metadata": {
    "deletable": false,
    "editable": false,
    "nbgrader": {
     "cell_type": "code",
     "checksum": "338c7e3528cba266a865a061287c0e38",
     "grade": false,
     "grade_id": "cell-5edbd481562ad91f",
     "locked": true,
     "schema_version": 3,
     "solution": false,
     "task": false
    }
   },
   "outputs": [
    {
     "name": "stdout",
     "output_type": "stream",
     "text": [
      "BM25: \n",
      "1.07 ms ± 5.18 µs per loop (mean ± std. dev. of 7 runs, 1,000 loops each)\n",
      "LSI: \n",
      "294 ms ± 8.43 ms per loop (mean ± std. dev. of 7 runs, 1 loop each)\n",
      "LDA: \n",
      "404 ms ± 1.65 ms per loop (mean ± std. dev. of 7 runs, 1 loop each)\n",
      "W2V: \n",
      "248 ms ± 3.03 ms per loop (mean ± std. dev. of 7 runs, 1 loop each)\n",
      "W2V(Pretrained): \n",
      "602 ms ± 6.65 ms per loop (mean ± std. dev. of 7 runs, 1 loop each)\n",
      "D2V:\n",
      "251 ms ± 6.3 ms per loop (mean ± std. dev. of 7 runs, 1 loop each)\n"
     ]
    }
   ],
   "source": [
    "query = \"algebraic functions\"\n",
    "print(\"BM25: \")\n",
    "%timeit bm25_search(query, 2)\n",
    "print(\"LSI: \")\n",
    "%timeit lsi_rerank.search(query)\n",
    "print(\"LDA: \")\n",
    "%timeit lda_rerank.search(query)\n",
    "print(\"W2V: \")\n",
    "%timeit w2v_rerank.search(query)\n",
    "print(\"W2V(Pretrained): \")\n",
    "%timeit w2v_pretrained_rerank.search(query)\n",
    "print(\"D2V:\")\n",
    "%timeit d2v_rerank.search(query)"
   ]
  },
  {
   "cell_type": "code",
   "execution_count": 100,
   "metadata": {},
   "outputs": [
    {
     "name": "stdout",
     "output_type": "stream",
     "text": [
      "[['2224', 0.9605287259283859], ['1607', 0.956715335210722], ['1821', 0.9563316387330753], ['1898', 0.9547461541512486], ['1896', 0.9403346226020368], ['1596', 0.9396375758198457], ['21', 0.9372052500437877], ['365', 0.929693524613611], ['1', 0.9268399989448877], ['992', 0.9252436195637105], ['1799', 0.9250980250737222], ['3078', 0.9207636474383456], ['2775', 0.9207385582764445], ['510', 0.9184906228721252], ['688', 0.9126952839288887], ['1798', 0.9111919725001502], ['1214', 0.9080376816428914], ['1913', 0.9068602432977259], ['1819', 0.9054883291182336], ['1460', 0.9041044214172329], ['1584', 0.9040213813364869], ['1789', 0.9039887395224747], ['2166', 0.9035330964990217], ['2167', 0.9022853763417495], ['1579', 0.9015870621294279], ['1471', 0.9014613930261229], ['967', 0.8989463737330775], ['2165', 0.898553508225707], ['3126', 0.8975533633521965], ['1510', 0.8963891707536586], ['93', 0.8954133642821357], ['1547', 0.8951507130047109], ['1397', 0.8908762912677909], ['39', 0.8901920773321051], ['2259', 0.8898105986115409], ['424', 0.8896782345615338], ['1467', 0.8885478218065634], ['1942', 0.8871010388119008], ['2958', 0.8868949002042353], ['95', 0.8864445377158918], ['2039', 0.8853722077678005], ['384', 0.8850495995268762], ['1371', 0.8847314685079429], ['1157', 0.8840741665303202], ['1583', 0.8840398858189376], ['2336', 0.8837507030053819], ['2468', 0.8817075818302499], ['1253', 0.8808905098467914], ['2210', 0.8782516607265592], ['1496', 0.8768295389764649], ['2013', 0.8756421980229605]]\n"
     ]
    }
   ],
   "source": [
    "print(d2v_rerank.search(query))"
   ]
  },
  {
   "cell_type": "markdown",
   "metadata": {
    "deletable": false,
    "editable": false,
    "nbgrader": {
     "cell_type": "markdown",
     "checksum": "c45c5e3f015b2de89d9d39ae3766368b",
     "grade": false,
     "grade_id": "cell-85c50f2ab9eec301",
     "locked": true,
     "schema_version": 3,
     "solution": false,
     "task": false
    }
   },
   "source": [
    "---\n",
    "As you can see, it is much faster (but BM25 is still orders of magnitude faster)."
   ]
  },
  {
   "cell_type": "markdown",
   "metadata": {
    "deletable": false,
    "editable": false,
    "nbgrader": {
     "cell_type": "markdown",
     "checksum": "1e2f3388e3807659f303fe31a75a010e",
     "grade": false,
     "grade_id": "cell-5071bb99b2af61cb",
     "locked": true,
     "schema_version": 3,
     "solution": false,
     "task": false
    }
   },
   "source": [
    "---\n",
    "## Section 10: Evaluation & Analysis (30 points) <a class=\"anchor\" id=\"reranking_eval\"></a>\n",
    "\n",
    "[Back to Part 2](#part2)\n",
    "\n",
    "[Previously](#evaluation) we have implemented some evaluation metrics and used them for measuring the ranking performance of term-based IR algorithms. In this section, we will do the same for semantic methods, both with and without re-ranking.\n",
    "\n",
    "### Section 10.1: Plot (10 points)\n",
    "\n",
    "First, gather the results. The results should consider the index set, the different search functions and different metrics. Plot the results in bar charts, per metric, with clear labels.\n",
    "\n",
    "Then, gather only the re-ranking models, and plot and compare them with the results obtained in part 1 (only index set 2)."
   ]
  },
  {
   "cell_type": "code",
   "execution_count": 101,
   "metadata": {
    "deletable": false,
    "editable": false,
    "nbgrader": {
     "cell_type": "code",
     "checksum": "4fe81520ac6413a803838913fd64de03",
     "grade": false,
     "grade_id": "cell-b672fe6dfae0b1ce",
     "locked": true,
     "schema_version": 3,
     "solution": false,
     "task": false
    }
   },
   "outputs": [],
   "source": [
    "list_of_sem_search_fns = [\n",
    "    (\"lda\", drm_lda.search),\n",
    "    (\"lsi\", drm_lsi.search),\n",
    "    (\"w2v\", drm_w2v.search),\n",
    "    (\"w2v_pretrained\", drm_w2v_pretrained.search),\n",
    "    (\"d2v\", drm_d2v.search),\n",
    "    (\"lsi_rr\", lsi_rerank.search),\n",
    "    (\"lda_rr\", lda_rerank.search),\n",
    "    (\"w2v_rr\", w2v_rerank.search),\n",
    "    (\"w2v_pretrained_rr\", w2v_pretrained_rerank.search),\n",
    "    (\"d2v_rr\", d2v_rerank.search),\n",
    "    \n",
    "]"
   ]
  },
  {
   "cell_type": "code",
   "execution_count": null,
   "metadata": {
    "deletable": false,
    "nbgrader": {
     "cell_type": "code",
     "checksum": "54707c4afac084299aeefa047259b4a9",
     "grade": true,
     "grade_id": "cell-7dd8273b0f5a3c22",
     "locked": false,
     "points": 10,
     "schema_version": 3,
     "solution": true,
     "task": false
    }
   },
   "outputs": [],
   "source": []
  },
  {
   "cell_type": "markdown",
   "metadata": {
    "deletable": false,
    "editable": false,
    "nbgrader": {
     "cell_type": "markdown",
     "checksum": "a8a3b6189bdde66704c694d85e38d049",
     "grade": false,
     "grade_id": "cell-deb2ef3daa306e82",
     "locked": true,
     "schema_version": 3,
     "solution": false,
     "task": false
    }
   },
   "source": [
    "### Section 10.2: Summary (20 points)\n",
    "\n",
    "Your summary should compare methods from Part 1 and Part 2 (only for index set 2). State what you expected to see in the results, followed by either supporting evidence *or* justify why the results did not support your expectations. Consider the availability of data, scalability, domain/type of data, etc."
   ]
  },
  {
   "cell_type": "markdown",
   "metadata": {
    "deletable": false,
    "nbgrader": {
     "cell_type": "markdown",
     "checksum": "ff97c43837d10bff6aaffa75e1492887",
     "grade": true,
     "grade_id": "cell-ec5dd7d9cf59dd86",
     "locked": false,
     "points": 20,
     "schema_version": 3,
     "solution": true,
     "task": false
    }
   },
   "source": [
    "YOUR ANSWER HERE"
   ]
  }
 ],
 "metadata": {
  "kernelspec": {
   "display_name": "Python 3 (ipykernel)",
   "language": "python",
   "name": "python3"
  },
  "language_info": {
   "codemirror_mode": {
    "name": "ipython",
    "version": 3
   },
   "file_extension": ".py",
   "mimetype": "text/x-python",
   "name": "python",
   "nbconvert_exporter": "python",
   "pygments_lexer": "ipython3",
   "version": "3.8.10"
  },
  "toc": {
   "base_numbering": 1,
   "nav_menu": {},
   "number_sections": true,
   "sideBar": true,
   "skip_h1_title": false,
   "title_cell": "Table of Contents",
   "title_sidebar": "Contents",
   "toc_cell": false,
   "toc_position": {},
   "toc_section_display": true,
   "toc_window_display": false
  }
 },
 "nbformat": 4,
 "nbformat_minor": 4
}
