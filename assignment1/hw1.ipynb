{
 "cells": [
  {
   "cell_type": "markdown",
   "metadata": {
    "deletable": false,
    "editable": false,
    "nbgrader": {
     "cell_type": "markdown",
     "checksum": "1bba455de8bc2825ca70469169bbadaa",
     "grade": false,
     "grade_id": "cell-c9cd9e550239e812",
     "locked": true,
     "schema_version": 3,
     "solution": false,
     "task": false
    }
   },
   "source": [
    "# Homework 1 (Total Points: 250) <a class=\"anchor\" id=\"top\"></a>\n",
    "\n",
    "\n",
    "**Submission instructions**:\n",
    "- The cells with the `# YOUR CODE HERE` denote that these sections are graded and you need to add your implementation.\n",
    "- For Part 1: You can use the `nltk`, `NumPy`, and `matplotlib` libraries here. Other libraries, e.g., `gensim` or `scikit-learn`, may not be used. For Part 2: `gensim` is allowed in addition to the imported libraries in the next code cell\n",
    "- Please use Python 3.6.5 and `pip install -r requirements.txt` to avoid version issues.\n",
    "- The notebook you submit has to have the student ids, separated by underscores (E.g., `12341234_12341234_12341234_hw1.ipynb`).\n",
    "- This will be parsed by a regexp, **so please double check your filename**.\n",
    "- Only one member of each group has to submit the file (**please do not compress the .ipynb file when you will submit it**) to canvas.\n",
    "- **Make sure to check that your notebook runs before submission**. A quick way to do this is to restart the kernel and run all the cells.  \n",
    "- Do not change the number of arugments in the given functions.\n",
    "- **Please do not delete/add new cells**. Removing cells **will** lead to grade deduction. \n",
    "- Note, that you are not allowed to use Google Colab.\n",
    "\n",
    "\n",
    "**Learning Goals**:\n",
    "- [Part 1, Term-based matching](#part1) (165 points):\n",
    "    - Learn how to load a dataset and process it.\n",
    "    - Learn how to implement several standard IR methods (TF-IDF, BM25, QL) and understand their weaknesses & strengths.\n",
    "    - Learn how to evaluate IR methods.\n",
    "- [Part 2, Semantic-based matching](#part2) (85 points):\n",
    "    - Learn how to implement vector-space retrieval methods (LSI, LDA).\n",
    "    - Learn how to use LSI and LDA for re-ranking.\n",
    "\n",
    "    \n",
    "**Resources**: \n",
    "- **Part 1**: Sections 2.3, 4.1, 4.2, 4.3, 5.3, 5.6, 5.7, 6.2, 7, 8 of [Search Engines: Information Retrieval in Practice](https://ciir.cs.umass.edu/downloads/SEIRiP.pdf)\n",
    "- **Part 2**: [LSI - Chapter 18](https://nlp.stanford.edu/IR-book/pdf/18lsi.pdf) from [Introduction to Information Retrieval](https://nlp.stanford.edu/IR-book/) book and the [original LDA paper](https://jmlr.org/papers/volume3/blei03a/blei03a.pdf)"
   ]
  },
  {
   "cell_type": "code",
   "execution_count": 1,
   "metadata": {
    "deletable": false,
    "editable": false,
    "nbgrader": {
     "cell_type": "code",
     "checksum": "c55bfe94ff1f564dd595547e516c4c6e",
     "grade": false,
     "grade_id": "cell-f5357fabdb9660e3",
     "locked": true,
     "schema_version": 3,
     "solution": false,
     "task": false
    }
   },
   "outputs": [],
   "source": [
    "# imports \n",
    "# TODO: Ensure that no additional library is imported in the notebook. \n",
    "# TODO: Only the standard library and the following libraries are allowed:\n",
    "# TODO: You can also use unlisted classes from these libraries or standard libraries (such as defaultdict, Counter, ...).\n",
    "\n",
    "import os\n",
    "import zipfile\n",
    "from functools import partial\n",
    "\n",
    "import nltk\n",
    "import requests\n",
    "import numpy as np\n",
    "from tqdm import tqdm\n",
    "\n",
    "import matplotlib.pyplot as plt\n",
    "from matplotlib.pyplot import cm\n",
    "\n",
    "from ipywidgets import widgets\n",
    "from IPython.display import display, HTML\n",
    "#from IPython.html import widgets\n",
    "from collections import namedtuple\n",
    "\n",
    "%matplotlib inline"
   ]
  },
  {
   "cell_type": "markdown",
   "metadata": {
    "deletable": false,
    "editable": false,
    "nbgrader": {
     "cell_type": "markdown",
     "checksum": "c8328f758ca5b69f76eee03dbbdd4715",
     "grade": false,
     "grade_id": "cell-7428e12ed184408b",
     "locked": true,
     "schema_version": 3,
     "solution": false,
     "task": false
    }
   },
   "source": [
    "\n",
    "# Part 1: Term-based Matching (165 points) <a class=\"anchor\" id=\"part1\"></a>\n",
    "\n",
    "[Back to top](#top)\n",
    "\n",
    "In the first part, we will learn the basics of IR from loading and preprocessing the material, to implementing some well known search algorithms, to evaluating the ranking performance of the implemented algorithms. We will be using the CACM dataset throughout the assignment. The CACM dataset is a collection of titles and abstracts from the journal CACM (Communication of the ACM).\n",
    "\n",
    "Table of contents:\n",
    "- [Section 1: Text Processing](#text_processing) (5 points)\n",
    "- [Section 2: Indexing](#indexing) (10 points)\n",
    "- [Section 3: Ranking](#ranking) (80 points)\n",
    "- [Section 4: Evaluation](#evaluation) (40 points)\n",
    "- [Section 5: Analysis](#analysis) (30 points)\n"
   ]
  },
  {
   "cell_type": "markdown",
   "metadata": {
    "deletable": false,
    "editable": false,
    "nbgrader": {
     "cell_type": "markdown",
     "checksum": "4e3f938065183dc743aa8254b96b4f5e",
     "grade": false,
     "grade_id": "cell-4b24825cf4ae55ec",
     "locked": true,
     "schema_version": 3,
     "solution": false,
     "task": false
    }
   },
   "source": [
    "---\n",
    "## Section 1: Text Processing (5 points)<a class=\"anchor\" id=\"text_processing\"></a>\n",
    "\n",
    "[Back to Part 1](#part1)\n",
    "\n",
    "In this section, we will load the dataset and learn how to clean up the data to make it usable for an IR system. \n",
    "First, go through the implementation of the following functions:\n",
    "- `read_cacm_docs`: Reads in the CACM documents.\n",
    "- `read_queries`: Reads in the CACM queries.\n",
    "- `load_stopwords`: Loads the stopwords.\n",
    "\n",
    "The points of this section are earned for the following implementations:\n",
    "- `tokenize` (3 points): Tokenizes the input text.\n",
    "- `stem_token` (2 points): Stems the given token. \n",
    "\n",
    "We are using the [CACM dataset](http://ir.dcs.gla.ac.uk/resources/test_collections/cacm/), which is a small, classic IR dataset, composed of a collection of titles and abstracts from the journal CACM. It comes with relevance judgements for queries, so we can evaluate our IR system. \n"
   ]
  },
  {
   "cell_type": "markdown",
   "metadata": {
    "deletable": false,
    "editable": false,
    "nbgrader": {
     "cell_type": "markdown",
     "checksum": "0155d897c7016389d73d160921947a6f",
     "grade": false,
     "grade_id": "cell-45651364e7af6d5a",
     "locked": true,
     "schema_version": 3,
     "solution": false,
     "task": false
    }
   },
   "source": [
    "---\n",
    "### 1.1 Read the CACM documents\n",
    "\n",
    "\n",
    "The following cell downloads the dataset and unzips it to a local directory."
   ]
  },
  {
   "cell_type": "code",
   "execution_count": 2,
   "metadata": {
    "deletable": false,
    "editable": false,
    "nbgrader": {
     "cell_type": "code",
     "checksum": "4d43c9ad6e77cc01ce4cef0c34824930",
     "grade": false,
     "grade_id": "cell-bbc3030bb3fe7e02",
     "locked": true,
     "schema_version": 3,
     "solution": false,
     "task": false
    }
   },
   "outputs": [],
   "source": [
    "def download_dataset():\n",
    "    folder_path = os.environ.get(\"IR1_DATA_PATH\")\n",
    "    if not folder_path:\n",
    "        folder_path = \"./datasets/\"\n",
    "    os.makedirs(folder_path, exist_ok=True)\n",
    "    \n",
    "    file_location = os.path.join(folder_path, \"cacm.zip\")\n",
    "    \n",
    "    # download file if it doesn't exist\n",
    "    if not os.path.exists(file_location):\n",
    "        \n",
    "        url = \"https://surfdrive.surf.nl/files/index.php/s/M0FGJpX2p8wDwxR/download\"\n",
    "\n",
    "        with open(file_location, \"wb\") as handle:\n",
    "            print(f\"Downloading file from {url} to {file_location}\")\n",
    "            response = requests.get(url, stream=True)\n",
    "            for data in tqdm(response.iter_content()):\n",
    "                handle.write(data)\n",
    "            print(\"Finished downloading file\")\n",
    "    \n",
    "    if not os.path.exists(os.path.join(folder_path, \"train.txt\")):\n",
    "        \n",
    "        # unzip file\n",
    "        with zipfile.ZipFile(file_location, 'r') as zip_ref:\n",
    "            zip_ref.extractall(folder_path)\n",
    "        \n",
    "download_dataset()"
   ]
  },
  {
   "cell_type": "markdown",
   "metadata": {
    "deletable": false,
    "editable": false,
    "nbgrader": {
     "cell_type": "markdown",
     "checksum": "31609b0d61d0c74cbd69bc43e47c23be",
     "grade": false,
     "grade_id": "cell-a7dd9a9bf98ede05",
     "locked": true,
     "schema_version": 3,
     "solution": false,
     "task": false
    }
   },
   "source": [
    "---\n",
    "\n",
    "You can see a brief description of each file in the dataset by looking at the README file:"
   ]
  },
  {
   "cell_type": "code",
   "execution_count": 3,
   "metadata": {
    "deletable": false,
    "editable": false,
    "nbgrader": {
     "cell_type": "code",
     "checksum": "cb3c9a2b8b2bf4fd5b7446b0c4c00f43",
     "grade": false,
     "grade_id": "cell-9b6ff1a17124711f",
     "locked": true,
     "schema_version": 3,
     "solution": false,
     "task": false
    }
   },
   "outputs": [
    {
     "name": "stdout",
     "output_type": "stream",
     "text": [
      "Files in this directory with sizes:\n",
      "          0 Jun 19 21:01 README\n",
      "\n",
      "    2187734 Jun 19 20:55 cacm.all              text of documents\n",
      "        626 Jun 19 20:58 cite.info             key to citation info\n",
      "                                                (the X sections in cacm.all)\n",
      "       2668 Jun 19 20:55 common_words           stop words used by smart\n",
      "       2194 Jun 19 20:55 make_coll*             shell script to make collection\n",
      "       1557 Jun 19 20:55 make_coll_term*        ditto (both useless without\n",
      "                                                smart system)\n",
      "       9948 Jun 19 20:55 qrels.text             relation giving\n",
      "                                                    qid did 0 0\n",
      "                                                to indicate dument did is\n",
      "                                                relevant to query qid\n",
      "      13689 Jun 19 20:55 query.text             Original text of the query\n",
      "\n"
     ]
    }
   ],
   "source": [
    "##### Read the README file \n",
    "with open (\"./datasets/README\",\"r\") as file:\n",
    "    readme = file.read()\n",
    "    print(readme)\n",
    "#####"
   ]
  },
  {
   "cell_type": "markdown",
   "metadata": {
    "deletable": false,
    "editable": false,
    "nbgrader": {
     "cell_type": "markdown",
     "checksum": "6e2712c4c4632bf7486a532f7f18074d",
     "grade": false,
     "grade_id": "cell-73351431869fda76",
     "locked": true,
     "schema_version": 3,
     "solution": false,
     "task": false
    }
   },
   "source": [
    "---\n",
    "We are interested in 4 files:\n",
    "- `cacm.all` : Contains the text for all documents. Note that some documents do not have abstracts available\n",
    "- `query.text` : The text of all queries\n",
    "- `qrels.text` : The relevance judgements\n",
    "- `common_words` : A list of common words. This may be used as a collection of stopwords"
   ]
  },
  {
   "cell_type": "code",
   "execution_count": 4,
   "metadata": {
    "deletable": false,
    "editable": false,
    "nbgrader": {
     "cell_type": "code",
     "checksum": "f1162c15177eb4ffe466531d03cff4a2",
     "grade": false,
     "grade_id": "cell-b44dd14079f278ca",
     "locked": true,
     "schema_version": 3,
     "solution": false,
     "task": false
    }
   },
   "outputs": [
    {
     "name": "stdout",
     "output_type": "stream",
     "text": [
      ".I 1\n",
      ".T\n",
      "Preliminary Report-International Algebraic Language\n",
      ".B\n",
      "CACM December, 1958\n",
      ".A\n",
      "Perlis, A. J.\n",
      "Samelson,K.\n",
      ".N\n",
      "CA581203 JB March 22, 1978  8:28 PM\n",
      ".X\n",
      "100\t5\t1\n",
      "123\t5\t1\n",
      "164\t5\t1\n",
      "1\t5\t1\n",
      "1\t5\t1\n",
      "1\t5\t1\n",
      "205\t5\t1\n",
      "210\t5\t1\n",
      "214\t5\t1\n",
      "1982\t5\t1\n",
      "398\t5\t1\n",
      "642\t5\t1\n",
      "669\t5\t1\n",
      "1\t6\t1\n",
      "1\t6\t1\n",
      "1\t6\t1\n",
      "1\t6\t1\n",
      "1\t6\t1\n",
      "1\t6\t1\n",
      "1\t6\t1\n",
      "1\t6\t1\n",
      "1\t6\t1\n",
      "1\t6\t1\n",
      "165\t6\t1\n",
      "196\t6\t1\n",
      "196\t6\t1\n",
      "1273\t6\t1\n",
      "1883\t6\t1\n",
      "324\t6\t1\n",
      "43\t6\t1\n",
      "53\t6\t1\n",
      "91\t6\t1\n",
      "410\t6\t1\n",
      "3184\t6\t1\n",
      "\n"
     ]
    }
   ],
   "source": [
    "##### The first 45 lines of the CACM dataset forms the first record\n",
    "# We are interested only in 3 fields. \n",
    "# 1. the '.I' field, which is the document id\n",
    "# 2. the '.T' field (the title) and\n",
    "# 3. the '.W' field (the abstract, which may be absent)\n",
    "with open (\"./datasets/cacm.all\",\"r\") as file:\n",
    "    cacm_all = \"\".join(file.readlines()[:45])\n",
    "    print(cacm_all)\n",
    "#####"
   ]
  },
  {
   "cell_type": "markdown",
   "metadata": {
    "deletable": false,
    "editable": false,
    "nbgrader": {
     "cell_type": "markdown",
     "checksum": "250b413baccd8efb186bb46a34ae0060",
     "grade": false,
     "grade_id": "cell-c4bf2e263ec553d8",
     "locked": true,
     "schema_version": 3,
     "solution": false,
     "task": false
    }
   },
   "source": [
    "---\n",
    "\n",
    "The following function reads the `cacm.all` file. Note that each document has a variable number of lines. The `.I` field denotes a new document:"
   ]
  },
  {
   "cell_type": "code",
   "execution_count": 5,
   "metadata": {
    "deletable": false,
    "editable": false,
    "nbgrader": {
     "cell_type": "code",
     "checksum": "57d757e6a7a6938740dc899022b4f291",
     "grade": false,
     "grade_id": "cell-b736116eb419c624",
     "locked": true,
     "schema_version": 3,
     "solution": false,
     "task": false
    }
   },
   "outputs": [],
   "source": [
    "def read_cacm_docs(root_folder = \"./datasets/\"):\n",
    "    \"\"\"\n",
    "        Reads in the CACM documents. The dataset is assumed to be in the folder \"./datasets/\" by default\n",
    "        Returns: A list of 2-tuples: (doc_id, document), where 'document' is a single string created by \n",
    "            appending the title and abstract (separated by a \"\\n\"). \n",
    "            In case the record doesn't have an abstract, the document is composed only by the title\n",
    "    \"\"\"\n",
    "    with open(os.path.join(root_folder, \"cacm.all\")) as reader:\n",
    "        lines = reader.readlines()\n",
    "    \n",
    "    doc_id, title, abstract = None, None, None\n",
    "    \n",
    "    docs = []\n",
    "    line_idx = 0\n",
    "    while line_idx < len(lines):\n",
    "        line = lines[line_idx]\n",
    "        if line.startswith(\".I\"):\n",
    "            if doc_id is not None:\n",
    "                docs.append((doc_id, title, abstract))\n",
    "                doc_id, title, abstract = None, None, None\n",
    "            \n",
    "            doc_id = line.split()[-1]\n",
    "            line_idx += 1\n",
    "        elif line.startswith(\".T\"):\n",
    "            # start at next line\n",
    "            line_idx += 1\n",
    "            temp_lines = []\n",
    "            # read till next '.'\n",
    "            while not lines[line_idx].startswith(\".\"):\n",
    "                temp_lines.append(lines[line_idx].strip(\"\\n\"))\n",
    "                line_idx += 1\n",
    "            title = \"\\n\".join(temp_lines).strip(\"\\n\")\n",
    "        elif line.startswith(\".W\"):\n",
    "            # start at next line\n",
    "            line_idx += 1\n",
    "            temp_lines = []\n",
    "            # read till next '.'\n",
    "            while not lines[line_idx].startswith(\".\"):\n",
    "                temp_lines.append(lines[line_idx].strip(\"\\n\"))\n",
    "                line_idx += 1\n",
    "            abstract = \"\\n\".join(temp_lines).strip(\"\\n\")\n",
    "        else:\n",
    "            line_idx += 1\n",
    "    \n",
    "    docs.append((doc_id, title, abstract))\n",
    "    \n",
    "    p_docs = []\n",
    "    for (did, t, a) in docs:\n",
    "        if a is None:\n",
    "            a = \"\"\n",
    "        p_docs.append((did, t + \"\\n\" + a))\n",
    "    return p_docs\n"
   ]
  },
  {
   "cell_type": "code",
   "execution_count": 6,
   "metadata": {
    "deletable": false,
    "editable": false,
    "nbgrader": {
     "cell_type": "code",
     "checksum": "2f81930fcd89670b6e20e2255e1f2369",
     "grade": false,
     "grade_id": "cell-a1c43818e0d3fd79",
     "locked": true,
     "schema_version": 3,
     "solution": false,
     "task": false
    }
   },
   "outputs": [],
   "source": [
    "##### Function check\n",
    "docs = read_cacm_docs()\n",
    "\n",
    "assert isinstance(docs, list)\n",
    "assert len(docs) == 3204, \"There should be exactly 3204 documents\"\n",
    "\n",
    "unzipped_docs = list(zip(*docs))\n",
    "assert np.sum(np.array(list(map(int,unzipped_docs[0])))) == 5134410\n",
    "\n",
    "##### "
   ]
  },
  {
   "cell_type": "markdown",
   "metadata": {
    "deletable": false,
    "editable": false,
    "nbgrader": {
     "cell_type": "markdown",
     "checksum": "25fd3cfaf2137c56002b850699b3c9d3",
     "grade": false,
     "grade_id": "cell-5ed2ddc91f73c60e",
     "locked": true,
     "schema_version": 3,
     "solution": false,
     "task": false
    }
   },
   "source": [
    "---\n",
    "### 1.2 Read the CACM queries\n",
    "\n",
    "Next, let us read the queries. They are formatted similarly:"
   ]
  },
  {
   "cell_type": "code",
   "execution_count": 7,
   "metadata": {
    "deletable": false,
    "editable": false,
    "nbgrader": {
     "cell_type": "code",
     "checksum": "5d26c0908e758acb9968b84056b1060a",
     "grade": false,
     "grade_id": "cell-5c7e8e7c4fc2757f",
     "locked": true,
     "schema_version": 3,
     "solution": false,
     "task": false
    }
   },
   "outputs": [
    {
     "name": "stderr",
     "output_type": "stream",
     "text": [
      "'head' is not recognized as an internal or external command,\n",
      "operable program or batch file.\n"
     ]
    }
   ],
   "source": [
    "##### The first 15 lines of 'query.text' has 2 queries\n",
    "# We are interested only in 2 fields. \n",
    "# 1. the '.I' - the query id\n",
    "# 2. the '.W' - the query\n",
    "!head -15 ./datasets/query.text\n",
    "#####"
   ]
  },
  {
   "cell_type": "markdown",
   "metadata": {
    "deletable": false,
    "editable": false,
    "nbgrader": {
     "cell_type": "markdown",
     "checksum": "8f19f311a660f30e3f86cb0f7037d54a",
     "grade": false,
     "grade_id": "cell-88e293507d2dcef6",
     "locked": true,
     "schema_version": 3,
     "solution": false,
     "task": false
    }
   },
   "source": [
    "---\n",
    "\n",
    "The following function reads the `query.text` file:"
   ]
  },
  {
   "cell_type": "code",
   "execution_count": 8,
   "metadata": {
    "deletable": false,
    "editable": false,
    "nbgrader": {
     "cell_type": "code",
     "checksum": "e3fbb193211007672849487f5cff1664",
     "grade": false,
     "grade_id": "cell-433e3ad5d0e2572a",
     "locked": true,
     "schema_version": 3,
     "solution": false,
     "task": false
    }
   },
   "outputs": [],
   "source": [
    "def read_queries(root_folder = \"./datasets/\"):\n",
    "    \"\"\"\n",
    "        Reads in the CACM queries. The dataset is assumed to be in the folder \"./datasets/\" by default\n",
    "        Returns: A list of 2-tuples: (query_id, query)\n",
    "    \"\"\"\n",
    "    with open(os.path.join(root_folder, \"query.text\")) as reader:\n",
    "        lines = reader.readlines()\n",
    "    \n",
    "    query_id, query = None, None\n",
    "    \n",
    "    queries = []\n",
    "    line_idx = 0\n",
    "    while line_idx < len(lines):\n",
    "        line = lines[line_idx]\n",
    "        if line.startswith(\".I\"):\n",
    "            if query_id is not None:\n",
    "                queries.append((query_id, query))\n",
    "                query_id, query = None, None\n",
    "    \n",
    "            query_id = line.split()[-1]\n",
    "            line_idx += 1\n",
    "        elif line.startswith(\".W\"):\n",
    "            # start at next line\n",
    "            line_idx += 1\n",
    "            temp_lines = []\n",
    "            # read till next '.'\n",
    "            while not lines[line_idx].startswith(\".\"):\n",
    "                temp_lines.append(lines[line_idx].strip(\"\\n\"))\n",
    "                line_idx += 1\n",
    "            query = \"\\n\".join(temp_lines).strip(\"\\n\")\n",
    "        else:\n",
    "            line_idx += 1\n",
    "    \n",
    "    queries.append((query_id, query))\n",
    "    return queries\n"
   ]
  },
  {
   "cell_type": "code",
   "execution_count": 9,
   "metadata": {
    "deletable": false,
    "editable": false,
    "nbgrader": {
     "cell_type": "code",
     "checksum": "a897b9771b54f447be3418d7246fc4a0",
     "grade": false,
     "grade_id": "cell-6ec540abce66c598",
     "locked": true,
     "schema_version": 3,
     "solution": false,
     "task": false
    }
   },
   "outputs": [],
   "source": [
    "##### Function check\n",
    "queries = read_queries()\n",
    "\n",
    "assert isinstance(queries, list)\n",
    "assert len(queries) == 64 and all([q[1] is not None for q in queries]), \"There should be exactly 64 queries\"\n",
    "\n",
    "unzipped_queries = list(zip(*queries))\n",
    "assert np.sum(np.array(list(map(int,unzipped_queries[0])))) == 2080\n",
    "\n",
    "##### "
   ]
  },
  {
   "cell_type": "markdown",
   "metadata": {
    "deletable": false,
    "editable": false,
    "nbgrader": {
     "cell_type": "markdown",
     "checksum": "a300c41912ac63b239070b4c15c9f5c5",
     "grade": false,
     "grade_id": "cell-1c31569491d7b782",
     "locked": true,
     "schema_version": 3,
     "solution": false,
     "task": false
    }
   },
   "source": [
    "---\n",
    "### 1.3 Read the stop words\n",
    "\n",
    "We use the common words stored in `common_words`:"
   ]
  },
  {
   "cell_type": "code",
   "execution_count": 10,
   "metadata": {
    "deletable": false,
    "editable": false,
    "nbgrader": {
     "cell_type": "code",
     "checksum": "1ad6f5bae6a792504c1c8513ae5751ad",
     "grade": false,
     "grade_id": "cell-34bdb63461418a96",
     "locked": true,
     "schema_version": 3,
     "solution": false,
     "task": false
    }
   },
   "outputs": [
    {
     "name": "stderr",
     "output_type": "stream",
     "text": [
      "'head' is not recognized as an internal or external command,\n",
      "operable program or batch file.\n"
     ]
    }
   ],
   "source": [
    "##### Read the stop words file \n",
    "!head ./datasets/common_words\n",
    "##### Read the README file "
   ]
  },
  {
   "cell_type": "markdown",
   "metadata": {
    "deletable": false,
    "editable": false,
    "nbgrader": {
     "cell_type": "markdown",
     "checksum": "6d0fe612e770213b6397c2179b07a966",
     "grade": false,
     "grade_id": "cell-4744bde0338895d8",
     "locked": true,
     "schema_version": 3,
     "solution": false,
     "task": false
    }
   },
   "source": [
    "---\n",
    "\n",
    "The following function reads the `common_words` file (For better coverage, we try to keep them in lowercase):"
   ]
  },
  {
   "cell_type": "code",
   "execution_count": 11,
   "metadata": {
    "deletable": false,
    "editable": false,
    "nbgrader": {
     "cell_type": "code",
     "checksum": "9409713fd26eb0c33587e190638997c4",
     "grade": false,
     "grade_id": "cell-7357aa40f64e5bcb",
     "locked": true,
     "schema_version": 3,
     "solution": false,
     "task": false
    }
   },
   "outputs": [],
   "source": [
    "def load_stopwords(root_folder = \"./datasets/\"):\n",
    "    \"\"\"\n",
    "        Loads the stopwords. The dataset is assumed to be in the folder \"./datasets/\" by default\n",
    "        Output: A set of stopwords\n",
    "    \"\"\"\n",
    "    with open(os.path.join(root_folder, \"common_words\")) as reader:\n",
    "        lines = reader.readlines()\n",
    "    stopwords = set([l.strip().lower() for l in lines])\n",
    "    return stopwords\n"
   ]
  },
  {
   "cell_type": "code",
   "execution_count": 12,
   "metadata": {
    "deletable": false,
    "editable": false,
    "nbgrader": {
     "cell_type": "code",
     "checksum": "f1c8153c3c38133bc2db6e7b076ad470",
     "grade": false,
     "grade_id": "cell-2ca3ac162004de97",
     "locked": true,
     "schema_version": 3,
     "solution": false,
     "task": false
    }
   },
   "outputs": [],
   "source": [
    "##### Function check\n",
    "stopwords = load_stopwords()\n",
    "\n",
    "assert isinstance(stopwords, set)\n",
    "assert len(stopwords) == 428, \"There should be exactly 428 stop words\"\n",
    "\n",
    "assert np.sum(np.array(list(map(len,stopwords)))) == 2234\n",
    "\n",
    "##### \n"
   ]
  },
  {
   "cell_type": "markdown",
   "metadata": {
    "deletable": false,
    "editable": false,
    "nbgrader": {
     "cell_type": "markdown",
     "checksum": "92c1191e9e7291dcf0d70dc67b907a65",
     "grade": false,
     "grade_id": "cell-134b72872f4300cb",
     "locked": true,
     "schema_version": 3,
     "solution": false,
     "task": false
    }
   },
   "source": [
    "---\n",
    "### 1.4 Tokenization (3 points)\n",
    "\n",
    "We can now write some basic text processing functions. \n",
    "A first step is to tokenize the text. \n",
    "\n",
    "**Note**: Use the  `WordPunctTokenizer` available in the `nltk` library:"
   ]
  },
  {
   "cell_type": "code",
   "execution_count": 13,
   "metadata": {
    "deletable": false,
    "nbgrader": {
     "cell_type": "code",
     "checksum": "3f5564d3c75bf22fbf832b3a9b938f37",
     "grade": false,
     "grade_id": "cell-322be4c9499bdc4b",
     "locked": false,
     "schema_version": 3,
     "solution": true,
     "task": false
    }
   },
   "outputs": [],
   "source": [
    "# TODO: Implement this! (4 points)\n",
    "def tokenize(text):\n",
    "    \"\"\"\n",
    "        Tokenizes the input text. Use the WordPunctTokenizer\n",
    "        Input: text - a string\n",
    "        Output: a list of tokens\n",
    "    \"\"\"\n",
    "    tk = nltk.tokenize.WordPunctTokenizer()\n",
    "    return tk.tokenize(text)"
   ]
  },
  {
   "cell_type": "code",
   "execution_count": 14,
   "metadata": {
    "deletable": false,
    "editable": false,
    "nbgrader": {
     "cell_type": "code",
     "checksum": "e15af22c4d8ae0a3f9dac43bef7097ec",
     "grade": true,
     "grade_id": "cell-7fbf48bf7541a622",
     "locked": true,
     "points": 3,
     "schema_version": 3,
     "solution": false,
     "task": false
    }
   },
   "outputs": [
    {
     "name": "stdout",
     "output_type": "stream",
     "text": [
      "['the', 'quick', 'brown', 'fox', 'jumps', 'over', 'the', 'lazy', 'dog']\n"
     ]
    }
   ],
   "source": [
    "##### Function check\n",
    "text = \"the quick brown fox jumps over the lazy dog\"\n",
    "tokens = tokenize(text)\n",
    "\n",
    "assert isinstance(tokens, list)\n",
    "assert len(tokens) == 9\n",
    "\n",
    "print(tokens)\n",
    "# output: ['the', 'quick', 'brown', 'fox', 'jumps', 'over', 'the', 'lazy', 'dog']\n",
    "#####"
   ]
  },
  {
   "cell_type": "markdown",
   "metadata": {
    "deletable": false,
    "editable": false,
    "nbgrader": {
     "cell_type": "markdown",
     "checksum": "34210618bff4cb47aad2f03cb4b9854c",
     "grade": false,
     "grade_id": "cell-fd1b98ae61b697ca",
     "locked": true,
     "schema_version": 3,
     "solution": false,
     "task": false
    }
   },
   "source": [
    "---\n",
    "### 1.5 Stemming (2 points)\n",
    "\n",
    "Write a function to stem tokens. \n",
    "Again, you can use the nltk library for this:"
   ]
  },
  {
   "cell_type": "code",
   "execution_count": 15,
   "metadata": {
    "deletable": false,
    "nbgrader": {
     "cell_type": "code",
     "checksum": "1c4a6aa979d66158c7b6b992af43293a",
     "grade": false,
     "grade_id": "cell-e3f6c8e3f874b28d",
     "locked": false,
     "schema_version": 3,
     "solution": true,
     "task": false
    }
   },
   "outputs": [],
   "source": [
    "# TODO: Implement this! (3 points)\n",
    "def stem_token(token):\n",
    "    \"\"\"\n",
    "        Stems the given token using the PorterStemmer from the nltk library\n",
    "        Input: a single token\n",
    "        Output: the stem of the token\n",
    "    \"\"\"\n",
    "    stemmer = nltk.stem.PorterStemmer()\n",
    "    return stemmer.stem(token)"
   ]
  },
  {
   "cell_type": "code",
   "execution_count": 16,
   "metadata": {
    "deletable": false,
    "editable": false,
    "nbgrader": {
     "cell_type": "code",
     "checksum": "9363b4f09b556d424d9c895d4ab57b1c",
     "grade": true,
     "grade_id": "cell-cd6863e6ee6ed205",
     "locked": true,
     "points": 2,
     "schema_version": 3,
     "solution": false,
     "task": false
    }
   },
   "outputs": [],
   "source": [
    "##### Function check\n",
    "\n",
    "assert stem_token('owned') == 'own'\n",
    "assert stem_token('itemization') == 'item'\n",
    "#####"
   ]
  },
  {
   "cell_type": "markdown",
   "metadata": {
    "deletable": false,
    "editable": false,
    "nbgrader": {
     "cell_type": "markdown",
     "checksum": "0b311d014146da6afa1d39542fab9869",
     "grade": false,
     "grade_id": "cell-47c9f90498699110",
     "locked": true,
     "schema_version": 3,
     "solution": false,
     "task": false
    }
   },
   "source": [
    "---\n",
    "### 1.6 Summary\n",
    "\n",
    "The following function puts it all together. Given an input string, this functions tokenizes and processes it according to the flags that you set."
   ]
  },
  {
   "cell_type": "code",
   "execution_count": 17,
   "metadata": {
    "deletable": false,
    "editable": false,
    "nbgrader": {
     "cell_type": "code",
     "checksum": "2ff2d215ee8e0039c5a91fd3de12e6bd",
     "grade": false,
     "grade_id": "cell-dd0d3f46b30801da",
     "locked": true,
     "schema_version": 3,
     "solution": false,
     "task": false
    }
   },
   "outputs": [],
   "source": [
    "#### Putting it all together\n",
    "def process_text(text, stem=False, remove_stopwords=False, lowercase_text=False):\n",
    "    \n",
    "    tokens = []\n",
    "    for token in tokenize(text):\n",
    "        if remove_stopwords and token.lower() in stopwords:\n",
    "            continue\n",
    "        if stem:\n",
    "            token = stem_token(token)\n",
    "        if lowercase_text:\n",
    "            token = token.lower()\n",
    "        tokens.append(token)\n",
    "\n",
    "    return tokens\n",
    "#### "
   ]
  },
  {
   "cell_type": "markdown",
   "metadata": {
    "deletable": false,
    "editable": false,
    "nbgrader": {
     "cell_type": "markdown",
     "checksum": "02d433b18eb43654fa4306a7bf55b190",
     "grade": false,
     "grade_id": "cell-8d885bfd2edd43ae",
     "locked": true,
     "schema_version": 3,
     "solution": false,
     "task": false
    }
   },
   "source": [
    "---\n",
    "\n",
    "Let's create two sets of preprocessed documents.\n",
    "We can process the documents and queries according to these two configurations:"
   ]
  },
  {
   "cell_type": "code",
   "execution_count": 18,
   "metadata": {
    "deletable": false,
    "editable": false,
    "nbgrader": {
     "cell_type": "code",
     "checksum": "dbe4ca667be6842fdcf512fbcad50c7f",
     "grade": false,
     "grade_id": "cell-d427365ee0fb21d8",
     "locked": true,
     "schema_version": 3,
     "solution": false,
     "task": false
    }
   },
   "outputs": [],
   "source": [
    "# In this configuration:\n",
    "# Don't preprocess the text, except to tokenize \n",
    "config_1 = {\n",
    "  \"stem\": False,\n",
    "  \"remove_stopwords\" : False,\n",
    "  \"lowercase_text\": True\n",
    "} \n",
    "\n",
    "\n",
    "# In this configuration:\n",
    "# Preprocess the text, stem and remove stopwords\n",
    "config_2 = {\n",
    "  \"stem\": True,\n",
    "  \"remove_stopwords\" : True,\n",
    "  \"lowercase_text\": True, \n",
    "} \n",
    "\n",
    "####\n",
    "doc_repr_1 = []\n",
    "doc_repr_2 = []\n",
    "for (doc_id, document) in docs:\n",
    "    doc_repr_1.append((doc_id, process_text(document, **config_1)))\n",
    "    doc_repr_2.append((doc_id, process_text(document, **config_2)))\n",
    "\n",
    "####"
   ]
  },
  {
   "cell_type": "markdown",
   "metadata": {
    "deletable": false,
    "editable": false,
    "nbgrader": {
     "cell_type": "markdown",
     "checksum": "b60589aac19e80941d860d9b3f1e9a16",
     "grade": false,
     "grade_id": "cell-b1c102db61ae7495",
     "locked": true,
     "schema_version": 3,
     "solution": false,
     "task": false
    }
   },
   "source": [
    "--- \n",
    "\n",
    "## Section 2: Indexing (10 points)<a class=\"anchor\" id=\"indexing\"></a>\n",
    "\n",
    "[Back to Part 1](#part1)\n",
    "\n",
    "\n",
    "\n",
    "A retrieval function usually takes in a query document pair, and scores a query against a document.  Our document set is quite small - just a few thousand documents. However, consider a web-scale dataset with a few million documents. In such a scenario, it would become infeasible to score every query and document pair. In such a case, we can build an inverted index. From Wikipedia:\n",
    "\n",
    "> ... , an inverted index (also referred to as a postings file or inverted file) is a database index storing a mapping from content, such as words or numbers, to its locations in a table, .... The purpose of an inverted index is to allow fast full-text searches, at a cost of increased processing when a document is added to the database. ...\n",
    "\n",
    "\n",
    "Consider a simple inverted index, which maps from word to document. This can improve the performance of a retrieval system significantly. In this assignment, we consider a *simple* inverted index, which maps a word to a set of documents. In practice, however, more complex indices might be used.  \n"
   ]
  },
  {
   "cell_type": "markdown",
   "metadata": {
    "deletable": false,
    "editable": false,
    "nbgrader": {
     "cell_type": "markdown",
     "checksum": "710fd943f45523ac36fcb887cc0d4d39",
     "grade": false,
     "grade_id": "cell-fa373192c1b7bb95",
     "locked": true,
     "schema_version": 3,
     "solution": false,
     "task": false
    }
   },
   "source": [
    "### 2.1 Term Frequency-index (10 points)\n",
    "In this assignment, we will be using an index created in memory since our dataset is tiny. To get started, build a simple index that maps each `token` to a list of `(doc_id, count)` where `count` is the count of the `token` in `doc_id`.\n",
    "For consistency, build this index using a python dictionary.\n",
    "    \n",
    "Now, implement a function to build an index:"
   ]
  },
  {
   "cell_type": "code",
   "execution_count": 19,
   "metadata": {
    "deletable": false,
    "nbgrader": {
     "cell_type": "code",
     "checksum": "d4e8c6b658c469379d5fe511de05b536",
     "grade": false,
     "grade_id": "cell-077599b87e953209",
     "locked": false,
     "schema_version": 3,
     "solution": true,
     "task": false
    }
   },
   "outputs": [],
   "source": [
    "# TODO: Implement this! (10 points)\n",
    "from collections import defaultdict\n",
    "def build_tf_index(documents):\n",
    "    \"\"\"\n",
    "        Build an inverted index (with counts). The output is a dictionary which takes in a token\n",
    "        and returns a list of (doc_id, count) where 'count' is the count of the 'token' in 'doc_id'\n",
    "        Input: a list of documents - (doc_id, tokens) \n",
    "        Output: An inverted index implemented within a pyhton dictionary: [token] -> [(doc_id, token_count)]\n",
    "    \"\"\"\n",
    "    # YOUR CODE HERE\n",
    "    index = defaultdict(list)\n",
    "    for (doc_id, tokens) in documents:\n",
    "        doc_id = int(doc_id)\n",
    "        seen_tks = {}\n",
    "        for tk in tokens:\n",
    "            new_tk = tk not in index\n",
    "            if new_tk:\n",
    "                index[tk] = []\n",
    "            if tk not in seen_tks:\n",
    "                index[tk].append([doc_id, 1])\n",
    "                seen_tks[tk] = True\n",
    "            else:\n",
    "                index[tk][-1][1] += 1\n",
    "    return index"
   ]
  },
  {
   "cell_type": "markdown",
   "metadata": {
    "deletable": false,
    "editable": false,
    "nbgrader": {
     "cell_type": "markdown",
     "checksum": "15e7041b4323d2a290322de538ff7670",
     "grade": false,
     "grade_id": "cell-093aebfa504f96f2",
     "locked": true,
     "schema_version": 3,
     "solution": false,
     "task": false
    }
   },
   "source": [
    "---\n",
    "Now we can build indexed documents and preprocess the queries based on the two configurations:"
   ]
  },
  {
   "cell_type": "code",
   "execution_count": 20,
   "metadata": {
    "deletable": false,
    "editable": false,
    "nbgrader": {
     "cell_type": "code",
     "checksum": "e27540c1d8d77a3779a05f557f3f40c6",
     "grade": false,
     "grade_id": "cell-b2ff1676348b90a8",
     "locked": true,
     "schema_version": 3,
     "solution": false,
     "task": false
    }
   },
   "outputs": [],
   "source": [
    "#### Indexed documents based on the two configs\n",
    "\n",
    "# Create the 2 indices\n",
    "tf_index_1 = build_tf_index(doc_repr_1)\n",
    "tf_index_2 = build_tf_index(doc_repr_2)\n",
    "\n",
    "# This function returns the tf_index of the corresponding config\n",
    "def get_index(index_set):\n",
    "    assert index_set in {1, 2}\n",
    "    return {\n",
    "        1: tf_index_1,\n",
    "        2: tf_index_2\n",
    "    }[index_set]\n",
    "\n",
    "####\n",
    "#### Preprocessed query based on the two configs\n",
    "\n",
    "# This function preprocesses the text given the index set, according to the specified config\n",
    "def preprocess_query(text, index_set):\n",
    "    assert index_set in {1, 2}\n",
    "    if index_set == 1:\n",
    "        return process_text(text, **config_1)\n",
    "    elif index_set == 2:\n",
    "        return process_text(text, **config_2)\n",
    "\n",
    "#### "
   ]
  },
  {
   "cell_type": "code",
   "execution_count": 21,
   "metadata": {
    "deletable": false,
    "editable": false,
    "nbgrader": {
     "cell_type": "code",
     "checksum": "f0cbc8703e1248cd6edf03f9019b69db",
     "grade": true,
     "grade_id": "cell-fc7c7232d5d2ee46",
     "locked": true,
     "points": 5,
     "schema_version": 3,
     "solution": false,
     "task": false
    }
   },
   "outputs": [
    {
     "name": "stdout",
     "output_type": "stream",
     "text": [
      "sample tf index for computer: [[4, 1], [7, 1], [10, 1], [13, 1], [19, 1], [22, 1], [23, 1], [37, 1], [40, 3], [41, 1]]\n",
      "sample tf index for examples: [[111, 1], [320, 1], [644, 1], [691, 1], [727, 1], [848, 1], [892, 1], [893, 1], [1049, 1], [1051, 1]]\n"
     ]
    }
   ],
   "source": [
    "##### Function check\n",
    "\n",
    "assert isinstance(tf_index_1, dict)\n",
    "\n",
    "assert isinstance(tf_index_1['computer'], list)\n",
    "print('sample tf index for computer:', tf_index_1['computer'][:10])\n",
    "\n",
    "assert isinstance(tf_index_1['examples'], list)\n",
    "print('sample tf index for examples:', tf_index_1['examples'][:10])\n",
    "#### "
   ]
  },
  {
   "cell_type": "code",
   "execution_count": 22,
   "metadata": {
    "deletable": false,
    "editable": false,
    "nbgrader": {
     "cell_type": "code",
     "checksum": "d49b8ac36815d9a5cb4bed838ab53a50",
     "grade": true,
     "grade_id": "cell-ff06bd11204db250",
     "locked": true,
     "points": 5,
     "schema_version": 3,
     "solution": false,
     "task": false
    }
   },
   "outputs": [
    {
     "name": "stdout",
     "output_type": "stream",
     "text": [
      "sample tf index for computer: [[4, 1], [7, 1], [10, 1], [13, 1], [19, 1], [22, 1], [23, 1], [37, 1], [40, 3], [41, 1]]\n",
      "sample tf index for examples: []\n"
     ]
    }
   ],
   "source": [
    "##### Function check\n",
    "\n",
    "assert isinstance(tf_index_2, dict)\n",
    "\n",
    "assert isinstance(tf_index_2['computer'], list)\n",
    "print('sample tf index for computer:', tf_index_1['computer'][:10])\n",
    "\n",
    "assert isinstance(tf_index_2['examples'], list)\n",
    "print('sample tf index for examples:', tf_index_2['examples'][:10])\n",
    "#### "
   ]
  },
  {
   "cell_type": "markdown",
   "metadata": {
    "deletable": false,
    "editable": false,
    "nbgrader": {
     "cell_type": "markdown",
     "checksum": "880b2ef3ca405f2af6e0667d2dc7a600",
     "grade": false,
     "grade_id": "cell-89eba71f04310291",
     "locked": true,
     "schema_version": 3,
     "solution": false,
     "task": false
    }
   },
   "source": [
    "\n",
    "---\n",
    "## Section 3: Ranking  (80 points) <a class=\"anchor\" id=\"ranking\"></a>\n",
    "\n",
    "[Back to Part 1](#part1)\n",
    "\n",
    "Now that we have cleaned and processed our dataset, we can start building simple IR systems. \n",
    "\n",
    "For now, we consider *simple* IR systems, which involve computing scores from the tokens present in the document/query. More advanced methods are covered in later assignments.\n",
    "\n",
    "We will implement the following methods in this section:\n",
    "- [Section 3.1: Bag of Words](#bow) (10 points)\n",
    "- [Section 3.2: TF-IDF](#tfidf) (15 points)\n",
    "- [Section 3.3: Query Likelihood Model](#qlm) (35 points)\n",
    "- [Section 3.4: BM25](#bm25) (20 points)\n",
    "\n",
    "*All search functions should be able to handle multiple words queries.*\n",
    "\n",
    "**Scoring policy:**\n",
    "Your implementations in this section are scored based on the expected performance of your ranking functions.\n",
    "You will get a full mark if your implementation meets the expected performance (measured by some evaluation metric).\n",
    "Otherwise, you may get partial credit.\n",
    "For example, if your *Bag of words* ranking function has 60% of expected performance, you will get 6 out of 10."
   ]
  },
  {
   "cell_type": "markdown",
   "metadata": {
    "deletable": false,
    "editable": false,
    "nbgrader": {
     "cell_type": "markdown",
     "checksum": "6c74e5061917358300c6e8085ec07864",
     "grade": false,
     "grade_id": "cell-3daf70a60e393adf",
     "locked": true,
     "schema_version": 3,
     "solution": false,
     "task": false
    }
   },
   "source": [
    "--- \n",
    "\n",
    "### Section 3.1: Bag of Words (10 points)<a class=\"anchor\" id=\"bow\"></a>\n",
    "\n",
    "Probably the simplest IR model is the Bag of Words (BOW) model.\n",
    "Implement a function that scores and ranks all the documents against a query using this model.   \n",
    "\n",
    "- For consistency, you should use the count of the token and **not** the binary indicator.\n",
    "- Use `float` type for the scores (even though the scores are integers in this case).\n",
    "- No normalization of the scores is necessary, as the ordering is what we are interested in.\n",
    "- If two documents have the same score, they can have any ordering: you are not required to disambiguate.\n"
   ]
  },
  {
   "cell_type": "code",
   "execution_count": 23,
   "metadata": {
    "deletable": false,
    "nbgrader": {
     "cell_type": "code",
     "checksum": "fee4640e22bfc4f05eb958a675ef40e7",
     "grade": false,
     "grade_id": "cell-de9cf0459c4b9324",
     "locked": false,
     "schema_version": 3,
     "solution": true,
     "task": false
    }
   },
   "outputs": [],
   "source": [
    "# TODO: Implement this! (10 points)\n",
    "\n",
    "def dict_to_arr(d, descending=True):\n",
    "    arr = []\n",
    "    for k in d.keys():\n",
    "         arr.append([str(k), d[k]])\n",
    "    return sorted(arr, key=lambda x: x[1], reverse=descending)\n",
    "\n",
    "def bow_search(query, index_set):\n",
    "    \"\"\"\n",
    "        Perform a search over all documents with the given query. \n",
    "        Note: You have to use the `get_index` function created in the previous cells\n",
    "        Input: \n",
    "            query - a (unprocessed) query\n",
    "            index_set - the index to use\n",
    "        Output: a list of (document_id, score), sorted in descending relevance to the given query. \n",
    "    \"\"\"\n",
    "    index = get_index(index_set)\n",
    "    processed_query = preprocess_query(query, index_set)\n",
    "    scores = {}\n",
    "    for q in processed_query:\n",
    "        if q not in index: continue\n",
    "        for (doc_id, freq) in index[q]:\n",
    "            if doc_id not in scores:\n",
    "                scores[doc_id] = float(freq)\n",
    "            else:\n",
    "                scores[doc_id] += freq\n",
    "    return dict_to_arr(scores)"
   ]
  },
  {
   "cell_type": "code",
   "execution_count": 24,
   "metadata": {
    "deletable": false,
    "editable": false,
    "nbgrader": {
     "cell_type": "code",
     "checksum": "613524fbbf02b1d122c6611a71fbf11b",
     "grade": true,
     "grade_id": "cell-9f6aceae6dd9125f",
     "locked": true,
     "points": 2,
     "schema_version": 3,
     "solution": false,
     "task": false
    }
   },
   "outputs": [],
   "source": [
    "#### Function check\n",
    "\n",
    "test_bow = bow_search(\"how to implement bag of words search\", index_set=1)[:5]\n",
    "assert isinstance(test_bow, list)\n",
    "assert len(test_bow[0]) == 2\n",
    "assert isinstance(test_bow[0][0], str)\n",
    "assert isinstance(test_bow[0][1], float)\n",
    "\n",
    "#### "
   ]
  },
  {
   "cell_type": "code",
   "execution_count": 25,
   "metadata": {
    "deletable": false,
    "editable": false,
    "nbgrader": {
     "cell_type": "code",
     "checksum": "9af20897659edb62fe77598483590500",
     "grade": true,
     "grade_id": "cell-4eed3abf233d9b58",
     "locked": true,
     "points": 2,
     "schema_version": 3,
     "solution": false,
     "task": false
    }
   },
   "outputs": [
    {
     "name": "stdout",
     "output_type": "stream",
     "text": [
      "BOW Results:\n",
      "Rank 0(1.3e+01): On Computing The Fast Fourier Transform\\nCooley an...\n",
      "Rank 1(1.2e+01): Variable Length Tree Structures Having Minimum Ave...\n",
      "Rank 2(1.1e+01): A Modular Computer Sharing System\\nAn alternative ...\n",
      "Rank 3(1e+01): PEEKABIT, Computer Offspring of Punched\\nCard PEEK...\n",
      "Rank 4(9.0): Computer Simulation-Discussion of the\\nTechnique a...\n"
     ]
    }
   ],
   "source": [
    "\n",
    "docs_by_id = dict(docs)\n",
    "def print_results(docs, len_limit=50):    \n",
    "    for i, (doc_id, score) in enumerate(docs):\n",
    "        doc_content = docs_by_id[doc_id].strip().replace(\"\\n\", \"\\\\n\")[:len_limit] + \"...\"\n",
    "        print(f\"Rank {i}({score:.2}): {doc_content}\")\n",
    "\n",
    "test_bow_2 = bow_search(\"computer search word\", index_set=2)[:5]\n",
    "print(f\"BOW Results:\")\n",
    "print_results(test_bow_2)\n"
   ]
  },
  {
   "cell_type": "code",
   "execution_count": 26,
   "metadata": {
    "deletable": false,
    "editable": false,
    "nbgrader": {
     "cell_type": "code",
     "checksum": "3c9c8b16c8e7d1032f101e9da8a6e845",
     "grade": true,
     "grade_id": "cell-4d65a2d7090c466c",
     "locked": true,
     "points": 3,
     "schema_version": 3,
     "solution": false,
     "task": false
    }
   },
   "outputs": [
    {
     "name": "stdout",
     "output_type": "stream",
     "text": [
      "BOW Results:\n",
      "Rank 0(9.0): CURRICULUM 68 -- Recommendations for Academic\\nPro...\n",
      "Rank 1(9.0): Variable Length Tree Structures Having Minimum Ave...\n",
      "Rank 2(7.0): Computer Formulation of the Equations of Motion Us...\n",
      "Rank 3(7.0): The Effects of Multiplexing on a Computer-Communic...\n",
      "Rank 4(6.0): Optimizing Bit-time Computer Simulation\\nA major c...\n"
     ]
    }
   ],
   "source": [
    "\n",
    "test_bow_1 = bow_search(\"computer search word\", index_set=1)[:5]\n",
    "print(f\"BOW Results:\")\n",
    "print_results(test_bow_1)\n"
   ]
  },
  {
   "cell_type": "code",
   "execution_count": 27,
   "metadata": {
    "deletable": false,
    "editable": false,
    "nbgrader": {
     "cell_type": "code",
     "checksum": "b7e593847aa4202ae45ec061fb18ad73",
     "grade": true,
     "grade_id": "cell-dedf36ab5853ce20",
     "locked": true,
     "points": 3,
     "schema_version": 3,
     "solution": false,
     "task": false
    }
   },
   "outputs": [
    {
     "name": "stdout",
     "output_type": "stream",
     "text": [
      "top-5 docs for index1: ('1771', '1936', '1543', '2535', '678')\n",
      "top-5 docs for index2: ('1525', '1936', '1844', '1700', '1366')\n"
     ]
    }
   ],
   "source": [
    "print('top-5 docs for index1:', list(zip(*test_bow_1[:5]))[0])\n",
    "print('top-5 docs for index2:', list(zip(*test_bow_2[:5]))[0])\n"
   ]
  },
  {
   "cell_type": "markdown",
   "metadata": {
    "deletable": false,
    "editable": false,
    "nbgrader": {
     "cell_type": "markdown",
     "checksum": "b04352ee0716dfdf094b8cdb6f32e984",
     "grade": false,
     "grade_id": "cell-a5c09c79ac1f2871",
     "locked": true,
     "schema_version": 3,
     "solution": false,
     "task": false
    }
   },
   "source": [
    "\n",
    "---\n",
    "\n",
    "### Section 3.2: TF-IDF (15 points) <a class=\"anchor\" id=\"tfidf\"></a>\n",
    "\n",
    "Before we implement the tf-idf scoring functions, let's first write a function to compute the document frequencies of all words.  \n",
    "\n",
    "#### 3.2.1 Document frequency (5 points)\n",
    "Compute the document frequencies of all tokens in the collection. \n",
    "Your code should return a dictionary with tokens as its keys and the number of documents containing the token as values.\n",
    "For consistency, the values should have `int` type."
   ]
  },
  {
   "cell_type": "code",
   "execution_count": 28,
   "metadata": {
    "deletable": false,
    "nbgrader": {
     "cell_type": "code",
     "checksum": "5c53263cf4c0b0ffcaae08b91fc364cc",
     "grade": false,
     "grade_id": "cell-9a2369f32e864b8a",
     "locked": false,
     "schema_version": 3,
     "solution": true,
     "task": false
    }
   },
   "outputs": [],
   "source": [
    "# TODO: Implement this! (5 points)\n",
    "def compute_df(documents):\n",
    "    \"\"\"\n",
    "        Compute the document frequency of all terms in the vocabulary\n",
    "        Input: A list of documents\n",
    "        Output: A dictionary with {token: document frequency (int)}\n",
    "    \"\"\"\n",
    "    # YOUR CODE HERE\n",
    "    df = {}\n",
    "    for doc in documents:\n",
    "        seen_tks = {}\n",
    "        for tk in doc:\n",
    "            if tk not in df:\n",
    "                df[tk] = 0\n",
    "            df[tk] += not tk in seen_tks\n",
    "            seen_tks[tk] = True\n",
    "    return df"
   ]
  },
  {
   "cell_type": "code",
   "execution_count": 29,
   "metadata": {
    "deletable": false,
    "editable": false,
    "nbgrader": {
     "cell_type": "code",
     "checksum": "154985511d7925c5793a1f97dea81880",
     "grade": false,
     "grade_id": "cell-4c3bddd0b73ac90e",
     "locked": true,
     "schema_version": 3,
     "solution": false,
     "task": false
    }
   },
   "outputs": [],
   "source": [
    "#### Compute df based on the two configs\n",
    "\n",
    "# get the document frequencies of each document\n",
    "df_1 = compute_df([d[1] for d in doc_repr_1])\n",
    "df_2 = compute_df([d[1] for d in doc_repr_2])\n",
    "\n",
    "def get_df(index_set):\n",
    "    assert index_set in {1, 2}\n",
    "    return {\n",
    "        1: df_1,\n",
    "        2: df_2\n",
    "    }[index_set]\n",
    "####"
   ]
  },
  {
   "cell_type": "code",
   "execution_count": 30,
   "metadata": {
    "deletable": false,
    "editable": false,
    "nbgrader": {
     "cell_type": "code",
     "checksum": "110cc180068cf3f77c682ee3de2a117c",
     "grade": true,
     "grade_id": "cell-79e8a6db1e5fc46f",
     "locked": true,
     "points": 5,
     "schema_version": 3,
     "solution": false,
     "task": false
    }
   },
   "outputs": [
    {
     "name": "stdout",
     "output_type": "stream",
     "text": [
      "597\n",
      "11\n"
     ]
    }
   ],
   "source": [
    "#### Function check\n",
    "\n",
    "print(df_1['computer'])\n",
    "print(df_2['computer'])\n",
    "####"
   ]
  },
  {
   "cell_type": "markdown",
   "metadata": {
    "deletable": false,
    "editable": false,
    "nbgrader": {
     "cell_type": "markdown",
     "checksum": "d0d577668fa51b80aeab6e67209ae73b",
     "grade": false,
     "grade_id": "cell-52f6acc487e1b96d",
     "locked": true,
     "schema_version": 3,
     "solution": false,
     "task": false
    }
   },
   "source": [
    "---\n",
    "#### 3.2.2 TF-IDF search (10 points)\n",
    "Next, implement a function that computes a tf-idf score, given a query.\n",
    "Use the following formulas for TF and IDF:\n",
    "\n",
    "$$ TF=\\log (1 + f_{d,t}) $$\n",
    "\n",
    "$$ IDF=\\log (\\frac{N}{n_t})$$\n",
    "\n",
    "where $f_{d,t}$ is the frequency of token $t$ in document $d$, $N$ is the number of total documents and $n_t$ is the number of documents containing token $t$.\n",
    "\n",
    "**Note:** your implementation will be auto-graded assuming you have used the above formulas.\n"
   ]
  },
  {
   "cell_type": "code",
   "execution_count": 31,
   "metadata": {
    "deletable": false,
    "nbgrader": {
     "cell_type": "code",
     "checksum": "3534c44b4a3419ca1db98eebe7115dc1",
     "grade": false,
     "grade_id": "cell-2fb5ba34b2994cd9",
     "locked": false,
     "schema_version": 3,
     "solution": true,
     "task": false
    }
   },
   "outputs": [],
   "source": [
    "# TODO: Implement this! (10 points)\n",
    "def tfidf_search(query, index_set):\n",
    "    \"\"\"\n",
    "        Perform a search over all documents with the given query using tf-idf. \n",
    "        Note #1: You have to use the `get_index` (and the `get_df`) function created in the previous cells\n",
    "        Input: \n",
    "            query - a (unprocessed) query\n",
    "            index_set - the index to use\n",
    "        Output: a list of (document_id, score), sorted in descending relevance to the given query \n",
    "    \"\"\"\n",
    "    index = get_index(index_set)\n",
    "    df = get_df(index_set)\n",
    "    processed_query = preprocess_query(query, index_set)\n",
    "    \n",
    "    N = len(docs)\n",
    "    \n",
    "    scores = {}\n",
    "    for q in processed_query:\n",
    "        if q not in index: continue\n",
    "        for (doc_id, freq) in index[q]:\n",
    "            tf = np.log(1 + freq)\n",
    "            idf = np.log(N/df[q])\n",
    "            if doc_id not in scores:\n",
    "                scores[doc_id] = 0\n",
    "            scores[doc_id] += tf*idf #question: correct to add tfidf score of each word?\n",
    "  \n",
    "    return dict_to_arr(scores)"
   ]
  },
  {
   "cell_type": "code",
   "execution_count": 32,
   "metadata": {
    "deletable": false,
    "editable": false,
    "nbgrader": {
     "cell_type": "code",
     "checksum": "7b66a514663d898694b09a23a597312b",
     "grade": true,
     "grade_id": "cell-bc68aeeacf42beb3",
     "locked": true,
     "points": 2,
     "schema_version": 3,
     "solution": false,
     "task": false
    }
   },
   "outputs": [],
   "source": [
    "\n",
    "#### Function check\n",
    "test_tfidf = tfidf_search(\"how to implement tf idf search\", index_set=1)[:5]\n",
    "assert isinstance(test_tfidf, list)\n",
    "assert len(test_tfidf[0]) == 2\n",
    "assert isinstance(test_tfidf[0][0], str)\n",
    "assert isinstance(test_tfidf[0][1], float)\n",
    "\n",
    "####"
   ]
  },
  {
   "cell_type": "code",
   "execution_count": 33,
   "metadata": {
    "deletable": false,
    "editable": false,
    "nbgrader": {
     "cell_type": "code",
     "checksum": "98fb1326cf4bf7983ae237ca8a9105f9",
     "grade": true,
     "grade_id": "cell-c7702fa8179fadb9",
     "locked": true,
     "points": 2,
     "schema_version": 3,
     "solution": false,
     "task": false
    }
   },
   "outputs": [
    {
     "name": "stdout",
     "output_type": "stream",
     "text": [
      "TFIDF Results:\n",
      "Rank 0(1.3e+01): PEEKABIT, Computer Offspring of Punched\\nCard PEEK...\n",
      "Rank 1(9.8): Variable Length Tree Structures Having Minimum Ave...\n",
      "Rank 2(8.2): A Stochastic Approach to the Grammatical Coding of...\n",
      "Rank 3(8.1): Full Table Quadratic Searching for Scatter Storage...\n",
      "Rank 4(7.6): Use of Tree Structures for Processing Files\\nIn da...\n"
     ]
    }
   ],
   "source": [
    "\n",
    "test_tfidf_2 = tfidf_search(\"computer word search\", index_set=2)[:5]\n",
    "print(f\"TFIDF Results:\")\n",
    "print_results(test_tfidf_2)\n"
   ]
  },
  {
   "cell_type": "code",
   "execution_count": 34,
   "metadata": {
    "deletable": false,
    "editable": false,
    "nbgrader": {
     "cell_type": "code",
     "checksum": "733b5b67be5e53989f5b763ce5e52ee9",
     "grade": true,
     "grade_id": "cell-3284f50ac29abbaa",
     "locked": true,
     "points": 3,
     "schema_version": 3,
     "solution": false,
     "task": false
    }
   },
   "outputs": [
    {
     "name": "stdout",
     "output_type": "stream",
     "text": [
      "TFIDF Results:\n",
      "Rank 0(9.4): Variable Length Tree Structures Having Minimum Ave...\n",
      "Rank 1(7.4): On the Feasibility of Voice Input to\\nan On-line C...\n",
      "Rank 2(7.3): Median Split Trees: A Fast Lookup Technique for Fr...\n",
      "Rank 3(7.0): Execution Time Requirements for Encipherment Progr...\n",
      "Rank 4(7.0): Storage and Search Properties of a Tree-Organized ...\n"
     ]
    }
   ],
   "source": [
    "\n",
    "test_tfidf_1 = tfidf_search(\"computer word search\", index_set=1)[:5]\n",
    "print(f\"TFIDF Results:\")\n",
    "print_results(test_tfidf_1)\n"
   ]
  },
  {
   "cell_type": "code",
   "execution_count": 35,
   "metadata": {
    "deletable": false,
    "editable": false,
    "nbgrader": {
     "cell_type": "code",
     "checksum": "e0edb37a5ae807a2de85d578c87ccb78",
     "grade": true,
     "grade_id": "cell-d908c80a3155354b",
     "locked": true,
     "points": 3,
     "schema_version": 3,
     "solution": false,
     "task": false
    }
   },
   "outputs": [
    {
     "name": "stdout",
     "output_type": "stream",
     "text": [
      "top-5 docs for index1 with BOW search: ('1771', '1936', '1543', '2535', '678')\n",
      "top-5 docs for index2 with BOW search: ('1525', '1936', '1844', '1700', '1366')\n",
      "top-5 docs for index1 with TF-IDF search: ('1936', '2054', '3041', '2620', '944')\n",
      "top-5 docs for index2 with TF-IDF search: ('1700', '1936', '1235', '2018', '849')\n"
     ]
    }
   ],
   "source": [
    "\n",
    "print('top-5 docs for index1 with BOW search:', list(zip(*test_bow_1[:5]))[0])\n",
    "print('top-5 docs for index2 with BOW search:', list(zip(*test_bow_2[:5]))[0])\n",
    "print('top-5 docs for index1 with TF-IDF search:', list(zip(*test_tfidf_1[:5]))[0])\n",
    "print('top-5 docs for index2 with TF-IDF search:', list(zip(*test_tfidf_2[:5]))[0])\n",
    "\n"
   ]
  },
  {
   "cell_type": "markdown",
   "metadata": {
    "deletable": false,
    "editable": false,
    "nbgrader": {
     "cell_type": "markdown",
     "checksum": "cdffc83f0eaea937cf64a212e7e9af8d",
     "grade": false,
     "grade_id": "cell-f5d923459ba21733",
     "locked": true,
     "schema_version": 3,
     "solution": false,
     "task": false
    }
   },
   "source": [
    "--- \n",
    "\n",
    "### Section 3.3: Query Likelihood Model (35 points) <a class=\"anchor\" id=\"qlm\"></a>\n",
    "\n",
    "In this section, you will implement a simple query likelihood model. \n",
    "\n",
    "\n",
    "#### 3.3.1 Naive QL (15 points)\n",
    "\n",
    "First, let us implement a naive version of a QL model, assuming a multinomial unigram language model (with a uniform prior over the documents). \n",
    "\n"
   ]
  },
  {
   "cell_type": "code",
   "execution_count": 36,
   "metadata": {
    "deletable": false,
    "editable": false,
    "nbgrader": {
     "cell_type": "code",
     "checksum": "b7ae2b7d818b428b4638c1c9206d2aca",
     "grade": false,
     "grade_id": "cell-98505778f7b68e7f",
     "locked": true,
     "schema_version": 3,
     "solution": false,
     "task": false
    }
   },
   "outputs": [],
   "source": [
    "#### Document length for normalization\n",
    "\n",
    "def doc_lengths(documents):\n",
    "    doc_lengths = {doc_id:len(doc) for (doc_id, doc) in documents}\n",
    "    return doc_lengths\n",
    "\n",
    "doc_lengths_1 = doc_lengths(doc_repr_1)\n",
    "doc_lengths_2 = doc_lengths(doc_repr_2)\n",
    "\n",
    "def get_doc_lengths(index_set):\n",
    "    assert index_set in {1, 2}\n",
    "    return {\n",
    "        1: doc_lengths_1,\n",
    "        2: doc_lengths_2\n",
    "    }[index_set]\n",
    "####"
   ]
  },
  {
   "cell_type": "code",
   "execution_count": 37,
   "metadata": {
    "deletable": false,
    "nbgrader": {
     "cell_type": "code",
     "checksum": "cedd08303a914243fefdb6b876977ca1",
     "grade": false,
     "grade_id": "cell-8bcf2b804d636c2e",
     "locked": false,
     "schema_version": 3,
     "solution": true,
     "task": false
    }
   },
   "outputs": [],
   "source": [
    "# TODO: Implement this! (15 points)\n",
    "def naive_ql_search(query, index_set):\n",
    "    \"\"\"\n",
    "        Perform a search over all documents with the given query using a naive QL model. \n",
    "        Note #1: You have to use the `get_index` (and get_doc_lengths) function created in the previous cells\n",
    "        Input: \n",
    "            query - a (unprocessed) query\n",
    "            index_set - the index to use\n",
    "        Output: a list of (document_id, score), sorted in descending relevance to the given query \n",
    "    \"\"\"\n",
    "    index = get_index(index_set)\n",
    "    doc_lengths = get_doc_lengths(index_set)\n",
    "    processed_query = preprocess_query(query, index_set)\n",
    "    scores = {}\n",
    "    for q in processed_query:\n",
    "        if q not in index: continue\n",
    "        for (doc_id, freq) in index[q]:\n",
    "            if doc_id not in scores:\n",
    "                scores[doc_id] = 1\n",
    "            scores[doc_id] *= freq/doc_lengths[str(doc_id)]\n",
    "    return dict_to_arr(scores)"
   ]
  },
  {
   "cell_type": "code",
   "execution_count": 38,
   "metadata": {
    "deletable": false,
    "editable": false,
    "nbgrader": {
     "cell_type": "code",
     "checksum": "b550d15bdad28354c336020a00c33d56",
     "grade": true,
     "grade_id": "cell-5a83ac12ecde8578",
     "locked": true,
     "points": 3,
     "schema_version": 3,
     "solution": false,
     "task": false
    }
   },
   "outputs": [
    {
     "name": "stdout",
     "output_type": "stream",
     "text": [
      "Naive QL Results:\n",
      "Rank 0(0.2): A Report Writer For COBOL...\n",
      "Rank 1(0.2): A CRT Report Generating System...\n",
      "Rank 2(0.17): Preliminary Report-International Algebraic Languag...\n",
      "Rank 3(0.17): Supplement to the ALGOL 60 Report...\n",
      "Rank 4(0.14): ALGOL Sub-Committee Report - Extensions...\n"
     ]
    }
   ],
   "source": [
    "#### Function check\n",
    "test_naiveql = naive_ql_search(\"report\", index_set=1)[:5]\n",
    "print(f\"Naive QL Results:\")\n",
    "print_results(test_naiveql)\n",
    "####"
   ]
  },
  {
   "cell_type": "code",
   "execution_count": 39,
   "metadata": {
    "deletable": false,
    "editable": false,
    "nbgrader": {
     "cell_type": "code",
     "checksum": "799df1d81c63fe90edbb6c218fc707fb",
     "grade": true,
     "grade_id": "cell-80f4bf2137f997bb",
     "locked": true,
     "points": 2,
     "schema_version": 3,
     "solution": false,
     "task": false
    }
   },
   "outputs": [],
   "source": [
    "#### Please do not change this. This cell is used for grading."
   ]
  },
  {
   "cell_type": "code",
   "execution_count": 40,
   "metadata": {
    "deletable": false,
    "editable": false,
    "nbgrader": {
     "cell_type": "code",
     "checksum": "875a4a517d27e20625d41783cebec118",
     "grade": true,
     "grade_id": "cell-5ce2993458a8ce51",
     "locked": true,
     "points": 3,
     "schema_version": 3,
     "solution": false,
     "task": false
    }
   },
   "outputs": [],
   "source": [
    "#### Please do not change this. This cell is used for grading."
   ]
  },
  {
   "cell_type": "code",
   "execution_count": 41,
   "metadata": {
    "deletable": false,
    "editable": false,
    "nbgrader": {
     "cell_type": "code",
     "checksum": "d5c4e1c3852e71a46f32825b122f1b71",
     "grade": true,
     "grade_id": "cell-7753bdb54e292f3d",
     "locked": true,
     "points": 3,
     "schema_version": 3,
     "solution": false,
     "task": false
    }
   },
   "outputs": [],
   "source": [
    "#### Please do not change this. This cell is used for grading."
   ]
  },
  {
   "cell_type": "code",
   "execution_count": 42,
   "metadata": {
    "deletable": false,
    "editable": false,
    "nbgrader": {
     "cell_type": "code",
     "checksum": "c4d4332d4356e89ce0240f6b80e1899a",
     "grade": true,
     "grade_id": "cell-54e476e2f96e64bb",
     "locked": true,
     "points": 4,
     "schema_version": 3,
     "solution": false,
     "task": false
    }
   },
   "outputs": [],
   "source": [
    "#### Please do not change this. This cell is used for grading."
   ]
  },
  {
   "cell_type": "markdown",
   "metadata": {
    "deletable": false,
    "editable": false,
    "nbgrader": {
     "cell_type": "markdown",
     "checksum": "8d739dc91a22bd48897f603885f95a74",
     "grade": false,
     "grade_id": "cell-5414dfd69dab8b94",
     "locked": true,
     "schema_version": 3,
     "solution": false,
     "task": false
    }
   },
   "source": [
    "---\n",
    "#### 3.3.2 QL (20 points)\n",
    "Now, let's implement a QL model that handles the issues with the naive version. In particular, you will implement a QL model with Jelinek-Mercer Smoothing. That means an interpolated score is computed per word - one term is the same as the previous naive version, and the second term comes from a unigram language model. In addition, you should accumulate the scores by summing the **log** (smoothed) probability which leads to better numerical stability."
   ]
  },
  {
   "cell_type": "code",
   "execution_count": 43,
   "metadata": {
    "deletable": false,
    "nbgrader": {
     "cell_type": "code",
     "checksum": "b8c6abf937ad333e628f1db891f2e29e",
     "grade": false,
     "grade_id": "cell-bb1f506409771257",
     "locked": false,
     "schema_version": 3,
     "solution": true,
     "task": false
    }
   },
   "outputs": [],
   "source": [
    "# TODO: Implement this! (20 points)\n",
    "\n",
    "# YOUR CODE HERE\n",
    "# raise NotImplementedError()\n",
    "\n",
    "def ql_search(query, index_set):\n",
    "    \"\"\"\n",
    "        Perform a search over all documents with the given query using a QL model \n",
    "        with Jelinek-Mercer Smoothing (set smoothing=0.1). \n",
    "        \n",
    "        \n",
    "        Note #1: You have to use the `get_index` (and get_doc_lengths) function created in the previous cells\n",
    "        Note #2: You might have to create some variables beforehand and use them in this function\n",
    "        \n",
    "        \n",
    "        Input: \n",
    "            query - a (unprocessed) query\n",
    "            index_set - the index to use\n",
    "        Output: a list of (document_id, score), sorted in descending relevance to the given query \n",
    "    \"\"\"\n",
    "    index = get_index(index_set)\n",
    "    doc_lengths = get_doc_lengths(index_set)\n",
    "    processed_query = preprocess_query(query, index_set)\n",
    "    scores = {}\n",
    "    N = sum(doc_lengths.values())\n",
    "    for q in processed_query:\n",
    "        if q not in index: continue\n",
    "        n = sum([x[1] for x in index[q]])\n",
    "        for (doc_id, freq) in index[q]:\n",
    "            D = doc_lengths[str(doc_id)]\n",
    "            if doc_id not in scores:\n",
    "                scores[doc_id] = 0\n",
    "            scores[doc_id] += np.log(0.9*freq/D + 0.1*n/N)\n",
    "    return dict_to_arr(scores)\n",
    "    "
   ]
  },
  {
   "cell_type": "code",
   "execution_count": 44,
   "metadata": {
    "deletable": false,
    "editable": false,
    "nbgrader": {
     "cell_type": "code",
     "checksum": "0b12a7f3355193a257fd9f5f69a66562",
     "grade": true,
     "grade_id": "cell-850e9d6369bcec32",
     "locked": true,
     "points": 4,
     "schema_version": 3,
     "solution": false,
     "task": false
    }
   },
   "outputs": [
    {
     "name": "stdout",
     "output_type": "stream",
     "text": [
      "Rank 0(-1.7): A Report Writer For COBOL...\n",
      "Rank 1(-1.7): A CRT Report Generating System...\n",
      "Rank 2(-1.9): Preliminary Report-International Algebraic Languag...\n",
      "Rank 3(-1.9): Supplement to the ALGOL 60 Report...\n",
      "Rank 4(-2.1): ALGOL Sub-Committee Report - Extensions...\n",
      "\n",
      "Rank 0(-1.7e+01): A Report Writer For COBOL...\n",
      "Rank 1(-1.7e+01): A CRT Report Generating System...\n",
      "Rank 2(-1.9e+01): Preliminary Report-International Algebraic Languag...\n",
      "Rank 3(-1.9e+01): Supplement to the ALGOL 60 Report...\n",
      "Rank 4(-2.1e+01): ALGOL Sub-Committee Report - Extensions...\n"
     ]
    }
   ],
   "source": [
    "#### Function check\n",
    "test_ql_results = ql_search(\"report\", index_set=1)[:5]\n",
    "print_results(test_ql_results)\n",
    "print()\n",
    "test_ql_results_long = ql_search(\"report \" * 10, index_set=1)[:5]\n",
    "print_results(test_ql_results_long)\n",
    "####"
   ]
  },
  {
   "cell_type": "code",
   "execution_count": 45,
   "metadata": {
    "deletable": false,
    "editable": false,
    "nbgrader": {
     "cell_type": "code",
     "checksum": "e40be645140389c115849856145f5b59",
     "grade": true,
     "grade_id": "cell-958cdcf6fd6899b7",
     "locked": true,
     "points": 3,
     "schema_version": 3,
     "solution": false,
     "task": false
    }
   },
   "outputs": [],
   "source": [
    "#### Please do not change this. This cell is used for grading."
   ]
  },
  {
   "cell_type": "code",
   "execution_count": 46,
   "metadata": {
    "deletable": false,
    "editable": false,
    "nbgrader": {
     "cell_type": "code",
     "checksum": "41d4aff001df17e7963ba79b45810b30",
     "grade": true,
     "grade_id": "cell-384dc23a0c251f6e",
     "locked": true,
     "points": 4,
     "schema_version": 3,
     "solution": false,
     "task": false
    }
   },
   "outputs": [],
   "source": [
    "#### Please do not change this. This cell is used for grading."
   ]
  },
  {
   "cell_type": "code",
   "execution_count": 47,
   "metadata": {
    "deletable": false,
    "editable": false,
    "nbgrader": {
     "cell_type": "code",
     "checksum": "893e8c5a073abc8ebb763d267b91bc02",
     "grade": true,
     "grade_id": "cell-7218966cba5097cc",
     "locked": true,
     "points": 4,
     "schema_version": 3,
     "solution": false,
     "task": false
    }
   },
   "outputs": [],
   "source": [
    "#### Please do not change this. This cell is used for grading."
   ]
  },
  {
   "cell_type": "code",
   "execution_count": 48,
   "metadata": {
    "deletable": false,
    "editable": false,
    "nbgrader": {
     "cell_type": "code",
     "checksum": "f99cb6f8b1f5830aaed8f06712ff846e",
     "grade": true,
     "grade_id": "cell-481ab073259ae53f",
     "locked": true,
     "points": 5,
     "schema_version": 3,
     "solution": false,
     "task": false
    }
   },
   "outputs": [],
   "source": [
    "#### Please do not change this. This cell is used for grading."
   ]
  },
  {
   "cell_type": "markdown",
   "metadata": {
    "deletable": false,
    "editable": false,
    "nbgrader": {
     "cell_type": "markdown",
     "checksum": "c02f14705d679579b1aa9f78f54779d5",
     "grade": false,
     "grade_id": "cell-f44088bfdac1dc90",
     "locked": true,
     "schema_version": 3,
     "solution": false,
     "task": false
    }
   },
   "source": [
    "--- \n",
    "\n",
    "### Section 3.4: BM25 (20 points) <a class=\"anchor\" id=\"bm25\"></a>\n",
    "\n",
    "In this section, we will implement the BM25 scoring function. \n"
   ]
  },
  {
   "cell_type": "code",
   "execution_count": 49,
   "metadata": {
    "deletable": false,
    "nbgrader": {
     "cell_type": "code",
     "checksum": "e57efe06ea92af1c83784a42eb3d86e0",
     "grade": false,
     "grade_id": "cell-15640fc9b5d00a3c",
     "locked": false,
     "schema_version": 3,
     "solution": true,
     "task": false
    }
   },
   "outputs": [],
   "source": [
    "# TODO: Implement this! (20 points)\n",
    "def bm25_search(query, index_set):\n",
    "    \"\"\"\n",
    "        Perform a search over all documents with the given query using BM25. Use k_1 = 1.5 and b = 0.75\n",
    "        Note #1: You have to use the `get_index` (and `get_doc_lengths`) function created in the previous cells\n",
    "        Note #2: You might have to create some variables beforehand and use them in this function\n",
    "        \n",
    "        Input: \n",
    "            query - a (unprocessed) query\n",
    "            index_set - the index to use\n",
    "        Output: a list of (document_id, score), sorted in descending relevance to the given query \n",
    "    \"\"\"\n",
    "    k_1 = 1.5\n",
    "    b = 0.75\n",
    "    index = get_index(index_set)\n",
    "    df = get_df(index_set)\n",
    "    doc_lengths = get_doc_lengths(index_set)\n",
    "    processed_query = preprocess_query(query, index_set)\n",
    "    scores = {}\n",
    "    vals = doc_lengths.values()\n",
    "    N = len(vals)\n",
    "    dl_avg = sum(vals)/len(vals)\n",
    "    for q in processed_query:\n",
    "        if q not in index: continue\n",
    "        for (doc_id, freq) in index[q]:\n",
    "            if doc_id not in scores:\n",
    "                scores[doc_id] = 0\n",
    "            scores[doc_id] += np.log(N/df[q])*(k_1+1)*freq/(k_1*(1-b + b*doc_lengths[str(doc_id)]/dl_avg)+freq)\n",
    "    return dict_to_arr(scores)"
   ]
  },
  {
   "cell_type": "code",
   "execution_count": 50,
   "metadata": {
    "deletable": false,
    "editable": false,
    "nbgrader": {
     "cell_type": "code",
     "checksum": "4be9de5d4e94637960d83725422bea6c",
     "grade": true,
     "grade_id": "cell-d10536bca72c74b1",
     "locked": true,
     "points": 3,
     "schema_version": 3,
     "solution": false,
     "task": false
    }
   },
   "outputs": [
    {
     "name": "stdout",
     "output_type": "stream",
     "text": [
      "Rank 0(6.7): A Report Writer For COBOL...\n",
      "Rank 1(6.7): A CRT Report Generating System...\n",
      "Rank 2(6.6): Preliminary Report-International Algebraic Languag...\n",
      "Rank 3(6.6): Supplement to the ALGOL 60 Report...\n",
      "Rank 4(6.5): ALGOL Sub-Committee Report - Extensions...\n"
     ]
    }
   ],
   "source": [
    "#### Function check\n",
    "test_bm25_results = bm25_search(\"report\", index_set=1)[:5]\n",
    "print_results(test_bm25_results)\n",
    "####"
   ]
  },
  {
   "cell_type": "code",
   "execution_count": 51,
   "metadata": {
    "deletable": false,
    "editable": false,
    "nbgrader": {
     "cell_type": "code",
     "checksum": "31b550d6a46ae4f8ede88788799ac2b9",
     "grade": true,
     "grade_id": "cell-60f6ec5052712d79",
     "locked": true,
     "points": 5,
     "schema_version": 3,
     "solution": false,
     "task": false
    }
   },
   "outputs": [],
   "source": [
    "#### Please do not change this. This cell is used for grading."
   ]
  },
  {
   "cell_type": "code",
   "execution_count": 52,
   "metadata": {
    "deletable": false,
    "editable": false,
    "nbgrader": {
     "cell_type": "code",
     "checksum": "3da2ec16bfe781916e71755d65aa2983",
     "grade": true,
     "grade_id": "cell-5d17524043a5abcc",
     "locked": true,
     "points": 5,
     "schema_version": 3,
     "solution": false,
     "task": false
    }
   },
   "outputs": [],
   "source": [
    "#### Please do not change this. This cell is used for grading."
   ]
  },
  {
   "cell_type": "code",
   "execution_count": 53,
   "metadata": {
    "deletable": false,
    "editable": false,
    "nbgrader": {
     "cell_type": "code",
     "checksum": "e7b563d54fa84c20909c0ae107010541",
     "grade": true,
     "grade_id": "cell-ff8e704eda1184e3",
     "locked": true,
     "points": 3,
     "schema_version": 3,
     "solution": false,
     "task": false
    }
   },
   "outputs": [],
   "source": [
    "#### Please do not change this. This cell is used for grading."
   ]
  },
  {
   "cell_type": "code",
   "execution_count": 54,
   "metadata": {
    "deletable": false,
    "editable": false,
    "nbgrader": {
     "cell_type": "code",
     "checksum": "b013f90974b396630a8831d6f1d7e5f7",
     "grade": true,
     "grade_id": "cell-a52310500a2543cb",
     "locked": true,
     "points": 4,
     "schema_version": 3,
     "solution": false,
     "task": false
    }
   },
   "outputs": [],
   "source": [
    "#### Please do not change this. This cell is used for grading."
   ]
  },
  {
   "cell_type": "markdown",
   "metadata": {
    "deletable": false,
    "editable": false,
    "nbgrader": {
     "cell_type": "markdown",
     "checksum": "8fcf67cb7d5e8b26cb9bf1f0aa42c847",
     "grade": false,
     "grade_id": "cell-8b2b412c81d62f2d",
     "locked": true,
     "schema_version": 3,
     "solution": false,
     "task": false
    }
   },
   "source": [
    "\n",
    "---\n",
    "\n",
    "### 3.5. Test Your Functions\n",
    "\n",
    "The widget below allows you to play with the search functions you've written so far. Use this to test your search functions and ensure that they work as expected."
   ]
  },
  {
   "cell_type": "code",
   "execution_count": 55,
   "metadata": {
    "deletable": false,
    "editable": false,
    "nbgrader": {
     "cell_type": "code",
     "checksum": "dfeb204b390acc0794dbdcac92b0cf2c",
     "grade": false,
     "grade_id": "cell-c9c2bb76354e8d97",
     "locked": true,
     "schema_version": 3,
     "solution": false,
     "task": false
    }
   },
   "outputs": [],
   "source": [
    "#### Highlighter function\n",
    "# class for results\n",
    "ResultRow = namedtuple(\"ResultRow\", [\"doc_id\", \"snippet\", \"score\"])\n",
    "# doc_id -> doc\n",
    "docs_by_id = dict((d[0], d[1]) for d in docs)\n",
    "\n",
    "def highlight_text(document, query, tol=17):\n",
    "    import re\n",
    "    tokens = tokenize(query)\n",
    "    regex = \"|\".join(f\"(\\\\b{t}\\\\b)\" for t in tokens)\n",
    "    regex = re.compile(regex, flags=re.IGNORECASE)\n",
    "    output = \"\"\n",
    "    i = 0\n",
    "    for m in regex.finditer(document):\n",
    "        start_idx = max(0, m.start() - tol)\n",
    "        end_idx = min(len(document), m.end() + tol)\n",
    "        output += \"\".join([\"...\",\n",
    "                        document[start_idx:m.start()],\n",
    "                        \"<strong>\",\n",
    "                        document[m.start():m.end()],\n",
    "                        \"</strong>\",\n",
    "                        document[m.end():end_idx],\n",
    "                        \"...\"])\n",
    "    return output.replace(\"\\n\", \" \")\n",
    "\n",
    "\n",
    "def make_results(query, search_fn, index_set):\n",
    "    results = []\n",
    "    for doc_id, score in search_fn(query, index_set):\n",
    "        highlight = highlight_text(docs_by_id[doc_id], query)\n",
    "        if len(highlight.strip()) == 0:\n",
    "            highlight = docs_by_id[doc_id]\n",
    "        results.append(ResultRow(doc_id, highlight, score))\n",
    "    return results\n",
    "####"
   ]
  },
  {
   "cell_type": "code",
   "execution_count": 56,
   "metadata": {},
   "outputs": [
    {
     "data": {
      "application/vnd.jupyter.widget-view+json": {
       "model_id": "826faa6fafa34aa687523ce0088708ea",
       "version_major": 2,
       "version_minor": 0
      },
      "text/plain": [
       "Text(value='', description='Search Bar')"
      ]
     },
     "metadata": {},
     "output_type": "display_data"
    }
   ],
   "source": [
    "# TODO: Set this to the function you want to test!\n",
    "# this function should take in a query (string)\n",
    "# and return a sorted list of (doc_id, score) \n",
    "# with the most relevant document in the first position\n",
    "search_fn = bm25_search\n",
    "index_set = 1\n",
    "\n",
    "text = widgets.Text(description=\"Search Bar\", width=200)\n",
    "display(text)\n",
    "\n",
    "def handle_submit(sender):\n",
    "    print(f\"Searching for: '{sender.value}'\")\n",
    "    \n",
    "    results = make_results(sender.value, search_fn, index_set)\n",
    "    \n",
    "    # display only the top 5\n",
    "    results = results[:5]\n",
    "    \n",
    "    body = \"\"\n",
    "    for idx, r in enumerate(results):\n",
    "        body += f\"<li>Document #{r.doc_id}({r.score}): {r.snippet}</li>\"\n",
    "    display(HTML(f\"<ul>{body}</ul>\"))\n",
    "    \n",
    "\n",
    "text.on_submit(handle_submit)"
   ]
  },
  {
   "cell_type": "markdown",
   "metadata": {
    "deletable": false,
    "editable": false,
    "nbgrader": {
     "cell_type": "markdown",
     "checksum": "019b1ff878dc6339dd068e2d48d19904",
     "grade": false,
     "grade_id": "cell-8d46fe8e4f3d8cdb",
     "locked": true,
     "schema_version": 3,
     "solution": false,
     "task": false
    }
   },
   "source": [
    "---\n",
    "\n",
    "## Section 4: Evaluation (40 points) <a class=\"anchor\" id=\"evaluation\"></a>\n",
    "\n",
    "[Back to Part 1](#part1)\n",
    "\n",
    "In order to analyze the effectiveness of retrieval algorithms, we first have to learn how to evaluate such a system. In particular, we will work with offline evaluation metrics. These metrics are computed on a dataset with known relevance judgements.\n",
    "\n",
    "Implement the following evaluation metrics. \n",
    "\n",
    "1. Precision (7 points)\n",
    "2. Recall (7 points)\n",
    "3. Mean Average Precision (13 points)\n",
    "4. Expected Reciprocal Rank (13 points)"
   ]
  },
  {
   "cell_type": "markdown",
   "metadata": {
    "deletable": false,
    "editable": false,
    "nbgrader": {
     "cell_type": "markdown",
     "checksum": "e46f54c7f81d88bbc950b0fae14c4ca5",
     "grade": false,
     "grade_id": "cell-3419fd3bc663d7cc",
     "locked": true,
     "schema_version": 3,
     "solution": false,
     "task": false
    }
   },
   "source": [
    "---\n",
    "### 4.1 Read relevance labels\n",
    "\n",
    "Let's take a look at the `qrels.text` file, which contains the ground truth relevance scores. The relevance labels for CACM are binary - either 0 or 1. \n"
   ]
  },
  {
   "cell_type": "code",
   "execution_count": 57,
   "metadata": {
    "deletable": false,
    "editable": false,
    "nbgrader": {
     "cell_type": "code",
     "checksum": "6c11025f5a222796f2882c73c1634799",
     "grade": false,
     "grade_id": "cell-6b738366059dde9e",
     "locked": true,
     "schema_version": 3,
     "solution": false,
     "task": false
    }
   },
   "outputs": [
    {
     "name": "stderr",
     "output_type": "stream",
     "text": [
      "'head' is not recognized as an internal or external command,\n",
      "operable program or batch file.\n"
     ]
    }
   ],
   "source": [
    "!head ./datasets/qrels.text"
   ]
  },
  {
   "cell_type": "markdown",
   "metadata": {
    "deletable": false,
    "editable": false,
    "nbgrader": {
     "cell_type": "markdown",
     "checksum": "7ce95245c1597183320d7254afde5c8e",
     "grade": false,
     "grade_id": "cell-10e16bff2753ffbb",
     "locked": true,
     "schema_version": 3,
     "solution": false,
     "task": false
    }
   },
   "source": [
    "---\n",
    "\n",
    "The first column is the query_id and the second column is the document_id. We can safely ignore the 3rd and 4th columns."
   ]
  },
  {
   "cell_type": "code",
   "execution_count": 58,
   "metadata": {
    "deletable": false,
    "nbgrader": {
     "cell_type": "code",
     "checksum": "000c6d59dce08dba0ba1e8d691dbbc2e",
     "grade": false,
     "grade_id": "cell-ee5253a4ef602fce",
     "locked": false,
     "schema_version": 3,
     "solution": true,
     "task": false
    }
   },
   "outputs": [],
   "source": [
    "def read_qrels():\n",
    "    obj = {}\n",
    "    table = np.loadtxt('./datasets/qrels.text', dtype=int)[:, 0:2]\n",
    "    for (qid, did) in table:\n",
    "        qid = str(qid)\n",
    "        if qid not in obj:\n",
    "            obj[qid] = [did]\n",
    "        else:\n",
    "            obj[qid].append(did)\n",
    "    return obj"
   ]
  },
  {
   "cell_type": "code",
   "execution_count": 59,
   "metadata": {
    "deletable": false,
    "editable": false,
    "nbgrader": {
     "cell_type": "code",
     "checksum": "d60caeba85c2a97d2211184a5ae91fd1",
     "grade": false,
     "grade_id": "cell-72215605fbe24f65",
     "locked": true,
     "schema_version": 3,
     "solution": false,
     "task": false
    }
   },
   "outputs": [],
   "source": [
    "#### Function check\n",
    "qrels = read_qrels()\n",
    "\n",
    "assert len(qrels) == 52, \"There should be 52 queries with relevance judgements\"\n",
    "assert sum(len(j) for j in qrels.values()) == 796, \"There should be a total of 796 Relevance Judgements\"\n",
    "\n",
    "assert np.min(np.array([len(j) for j in qrels.values()])) == 1\n",
    "assert np.max(np.array([len(j) for j in qrels.values()])) == 51\n",
    "\n",
    "####"
   ]
  },
  {
   "cell_type": "markdown",
   "metadata": {
    "deletable": false,
    "editable": false,
    "nbgrader": {
     "cell_type": "markdown",
     "checksum": "6c9e7428a52e291a2cdf92a379730d4c",
     "grade": false,
     "grade_id": "cell-176a6fb2939d0420",
     "locked": true,
     "schema_version": 3,
     "solution": false,
     "task": false
    }
   },
   "source": [
    "---\n",
    "**Note:** For a given query `query_id`, you can assume that documents *not* in `qrels[query_id]` are not relevant to `query_id`. \n"
   ]
  },
  {
   "cell_type": "markdown",
   "metadata": {
    "deletable": false,
    "editable": false,
    "nbgrader": {
     "cell_type": "markdown",
     "checksum": "b26a818c7b4f7ad490e00b35ea0edd69",
     "grade": false,
     "grade_id": "cell-bd8341b72cdd89bb",
     "locked": true,
     "schema_version": 3,
     "solution": false,
     "task": false
    }
   },
   "source": [
    "---\n",
    "### 4.2 Precision (7 points)\n",
    "Implement the `precision@k` metric:"
   ]
  },
  {
   "cell_type": "code",
   "execution_count": 60,
   "metadata": {
    "deletable": false,
    "nbgrader": {
     "cell_type": "code",
     "checksum": "43dea1979ebdec24ffcfeff71c670433",
     "grade": false,
     "grade_id": "cell-494bd0cce108ed67",
     "locked": false,
     "schema_version": 3,
     "solution": true,
     "task": false
    }
   },
   "outputs": [],
   "source": [
    "# TODO: Implement this! (7 points)\n",
    "def precision_k(results, relevant_docs, k):\n",
    "    \"\"\"\n",
    "        Compute Precision@K\n",
    "        Input: \n",
    "            results: A sorted list of 2-tuples (document_id, score), \n",
    "                    with the most relevant document in the first position\n",
    "            relevant_docs: A set of relevant documents. \n",
    "            k: the cut-off\n",
    "        Output: Precision@K\n",
    "    \"\"\"\n",
    "    if k > len(results):\n",
    "        k = len(results)\n",
    "    res = set([x[0] for x in results[0:k]])\n",
    "    rel = set(relevant_docs)\n",
    "    return sum([int(r) in rel for r in res])/k"
   ]
  },
  {
   "cell_type": "code",
   "execution_count": 61,
   "metadata": {
    "deletable": false,
    "editable": false,
    "nbgrader": {
     "cell_type": "code",
     "checksum": "9222e35582b1840ffb60fd02fb0b60c3",
     "grade": true,
     "grade_id": "cell-e7ff0d91c319ca64",
     "locked": true,
     "points": 7,
     "schema_version": 3,
     "solution": false,
     "task": false
    }
   },
   "outputs": [
    {
     "name": "stdout",
     "output_type": "stream",
     "text": [
      "query: What articles exist which deal with TSS (Time Sharing System), an\n",
      "operating system for IBM computers?\n",
      "precision@10 = 0.2\n"
     ]
    }
   ],
   "source": [
    "\n",
    "#### Function check\n",
    "qid = queries[0][0]\n",
    "qtext = queries[0][1]\n",
    "print(f'query:{qtext}')\n",
    "results = bm25_search(qtext, 2)\n",
    "precision = precision_k(results, qrels[qid], 10)\n",
    "print(f'precision@10 = {precision}')\n",
    "####"
   ]
  },
  {
   "cell_type": "markdown",
   "metadata": {
    "deletable": false,
    "editable": false,
    "nbgrader": {
     "cell_type": "markdown",
     "checksum": "8fd3b3998197c7097a40348500affb68",
     "grade": false,
     "grade_id": "cell-afd95f865bc7191e",
     "locked": true,
     "schema_version": 3,
     "solution": false,
     "task": false
    }
   },
   "source": [
    "---\n",
    "### 4.3 Recall (7 points)\n",
    "Implement the `recall@k` metric:"
   ]
  },
  {
   "cell_type": "code",
   "execution_count": 62,
   "metadata": {
    "deletable": false,
    "nbgrader": {
     "cell_type": "code",
     "checksum": "b2020e5741ae03b3fe35817ed8f4ccaa",
     "grade": false,
     "grade_id": "cell-c323fc8c3f8a7cf8",
     "locked": false,
     "schema_version": 3,
     "solution": true,
     "task": false
    }
   },
   "outputs": [],
   "source": [
    "# TODO: Implement this! (7 points)\n",
    "def recall_k(results, relevant_docs, k):\n",
    "    \"\"\"\n",
    "        Compute Recall@K\n",
    "        Input: \n",
    "            results: A sorted list of 2-tuples (document_id, score), with the most relevant document in the first position\n",
    "            relevant_docs: A set of relevant documents. \n",
    "            k: the cut-off\n",
    "        Output: Recall@K\n",
    "    \"\"\"\n",
    "    res = set([x[0] for x in results[0:k]])\n",
    "    rel = set(relevant_docs)\n",
    "    return sum([int(r) in rel for r in res])/len(relevant_docs)"
   ]
  },
  {
   "cell_type": "code",
   "execution_count": 63,
   "metadata": {
    "deletable": false,
    "editable": false,
    "nbgrader": {
     "cell_type": "code",
     "checksum": "56b6e0b8522f8b2dffbfb3206b2efa84",
     "grade": true,
     "grade_id": "cell-b25172161aef165c",
     "locked": true,
     "points": 7,
     "schema_version": 3,
     "solution": false,
     "task": false
    }
   },
   "outputs": [
    {
     "name": "stdout",
     "output_type": "stream",
     "text": [
      "query: SETL, Very High Level Languages\n",
      "recall@10 = 0.3157894736842105\n"
     ]
    }
   ],
   "source": [
    "#### Function check\n",
    "qid = queries[10][0]\n",
    "qtext = queries[10][1]\n",
    "print(f'query:{qtext}')\n",
    "results = bm25_search(qtext, 2)\n",
    "recall = recall_k(results, qrels[qid], 10)\n",
    "print(f'recall@10 = {recall}')\n",
    "####"
   ]
  },
  {
   "cell_type": "markdown",
   "metadata": {
    "deletable": false,
    "editable": false,
    "nbgrader": {
     "cell_type": "markdown",
     "checksum": "b3d3c7bd1cd977cd07ef5df7d3fbf159",
     "grade": false,
     "grade_id": "cell-77fd2e7a39a74739",
     "locked": true,
     "schema_version": 3,
     "solution": false,
     "task": false
    }
   },
   "source": [
    "---\n",
    "### 4.4 Mean Average Precision (13 points)\n",
    "Implement the `map` metric:"
   ]
  },
  {
   "cell_type": "code",
   "execution_count": 64,
   "metadata": {
    "deletable": false,
    "nbgrader": {
     "cell_type": "code",
     "checksum": "aae2c62f2ffd76f5b6c004e9519b9f14",
     "grade": false,
     "grade_id": "cell-e50925fa9093a30d",
     "locked": false,
     "schema_version": 3,
     "solution": true,
     "task": false
    }
   },
   "outputs": [],
   "source": [
    "# TODO: Implement this! (12 points)\n",
    "def average_precision(results, relevant_docs):\n",
    "    \"\"\"\n",
    "        Compute Average Precision (for a single query - the results are \n",
    "        averaged across queries to get MAP in the next few cells)\n",
    "        Hint: You can use the recall_k and precision_k functions here!\n",
    "        Input: \n",
    "            results: A sorted list of 2-tuples (document_id, score), with the most \n",
    "                    relevant document in the first position\n",
    "            relevant_docs: A set of relevant documents. \n",
    "        Output: Average Precision\n",
    "    \"\"\"\n",
    "    n = len(results)\n",
    "    r = np.array([recall_k(results, relevant_docs, k) for k in range(1,n)])\n",
    "    p = np.array([precision_k(results, relevant_docs, k) for k in range(1,n)])\n",
    "    return np.sum(p[1:]*(r[1:]-r[:-1]))"
   ]
  },
  {
   "cell_type": "code",
   "execution_count": 65,
   "metadata": {
    "deletable": false,
    "editable": false,
    "nbgrader": {
     "cell_type": "code",
     "checksum": "3b00e147c2fa146fa59f179b7c9cab75",
     "grade": true,
     "grade_id": "cell-8a1f7ec98571e58b",
     "locked": true,
     "points": 13,
     "schema_version": 3,
     "solution": false,
     "task": false
    }
   },
   "outputs": [
    {
     "name": "stdout",
     "output_type": "stream",
     "text": [
      "query: computational complexity, intractability, class-complete reductions,\n",
      "algorithms and efficiency\n",
      "MAP = 0.17240404110559454\n"
     ]
    }
   ],
   "source": [
    "#### Function check\n",
    "qid = queries[20][0]\n",
    "qtext = queries[20][1]\n",
    "print(f'query:{qtext}')\n",
    "results = bm25_search(qtext, 2)\n",
    "mean_ap = average_precision(results, qrels[qid])\n",
    "print(f'MAP = {mean_ap}')\n",
    "####"
   ]
  },
  {
   "cell_type": "markdown",
   "metadata": {
    "deletable": false,
    "editable": false,
    "nbgrader": {
     "cell_type": "markdown",
     "checksum": "36f85f45ef52d9467ba9a717d6d99ff2",
     "grade": false,
     "grade_id": "cell-1da18f0fe6f6d7be",
     "locked": true,
     "schema_version": 3,
     "solution": false,
     "task": false
    }
   },
   "source": [
    "---\n",
    "### 4.5 Expected Reciprocal Rank (13 points)\n",
    "Implement the `err` metric:"
   ]
  },
  {
   "cell_type": "code",
   "execution_count": 66,
   "metadata": {
    "deletable": false,
    "nbgrader": {
     "cell_type": "code",
     "checksum": "9ac94db728e23ea1f5dc0d509473c6fb",
     "grade": false,
     "grade_id": "cell-64262889f9b267ea",
     "locked": false,
     "schema_version": 3,
     "solution": true,
     "task": false
    }
   },
   "outputs": [],
   "source": [
    "# TODO: Implement this! (12 points)\n",
    "def err(results, relevant_docs):\n",
    "    \"\"\"\n",
    "        Compute the expected reciprocal rank.\n",
    "        Hint: https://dl.acm.org/doi/pdf/10.1145/1645953.1646033?download=true\n",
    "        Input: \n",
    "            results: A sorted list of 2-tuples (document_id, score), with the most \n",
    "                    relevant document in the first position\n",
    "            relevant_docs: A set of relevant documents. \n",
    "        Output: ERR\n",
    "        \n",
    "    \"\"\"\n",
    "    p = 1\n",
    "    err = 0\n",
    "    n = len(results)\n",
    "    rel = set(relevant_docs)\n",
    "    for i in range(len(results)):\n",
    "        R = (int(results[i][0]) in rel)/2\n",
    "        err += p*R/(i+1)\n",
    "        p *= 1-R\n",
    "    return err"
   ]
  },
  {
   "cell_type": "code",
   "execution_count": 67,
   "metadata": {
    "deletable": false,
    "editable": false,
    "nbgrader": {
     "cell_type": "code",
     "checksum": "b7d201de0990b69d5f38704668665d87",
     "grade": true,
     "grade_id": "cell-071e3970ff1afae4",
     "locked": true,
     "points": 13,
     "schema_version": 3,
     "solution": false,
     "task": false
    }
   },
   "outputs": [
    {
     "name": "stdout",
     "output_type": "stream",
     "text": [
      "query: I'd like to find articles describing the use of singular value decomposition\n",
      "in digital image processing.  Applications include finding approximations\n",
      "to the original image and restoring images that are subject to noise. An\n",
      "article on the subject is H.C. Andrews and C.L. Patterson \"Outer product\n",
      "expansions and their uses in digital image processing\", American Mathematical\n",
      "Monthly, vol. 82.\n",
      "ERR = 0.625\n"
     ]
    }
   ],
   "source": [
    "#### Function check\n",
    "qid = queries[30][0]\n",
    "qtext = queries[30][1]\n",
    "print(f'query:{qtext}')\n",
    "results = bm25_search(qtext, 2)\n",
    "ERR = err(results, qrels[qid])\n",
    "print(f'ERR = {ERR}')\n",
    "####"
   ]
  },
  {
   "cell_type": "markdown",
   "metadata": {
    "deletable": false,
    "editable": false,
    "nbgrader": {
     "cell_type": "markdown",
     "checksum": "5bd94caf77cfa5f34675df758d91002d",
     "grade": false,
     "grade_id": "cell-43709a765f353946",
     "locked": true,
     "schema_version": 3,
     "solution": false,
     "task": false
    }
   },
   "source": [
    "---\n",
    "### 4.6 Evaluate Search Functions\n",
    "\n",
    "Let's define some metrics@k using [partial functions](https://docs.python.org/3/library/functools.html#functools.partial)"
   ]
  },
  {
   "cell_type": "code",
   "execution_count": 68,
   "metadata": {
    "deletable": false,
    "editable": false,
    "nbgrader": {
     "cell_type": "code",
     "checksum": "49ccc158e5fb7340ace55e90eeb9d62a",
     "grade": false,
     "grade_id": "cell-dab560e18e340da8",
     "locked": true,
     "schema_version": 3,
     "solution": false,
     "task": false
    }
   },
   "outputs": [],
   "source": [
    "#### metrics@k functions\n",
    "\n",
    "recall_at_1 = partial(recall_k, k=1)\n",
    "recall_at_5 = partial(recall_k, k=5)\n",
    "recall_at_10 = partial(recall_k, k=10)\n",
    "precision_at_1 = partial(precision_k, k=1)\n",
    "precision_at_5 = partial(precision_k, k=5)\n",
    "precision_at_10 = partial(precision_k, k=10)\n",
    "\n",
    "\n",
    "list_of_metrics = [\n",
    "    (\"ERR\", err),\n",
    "    (\"MAP\", average_precision),\n",
    "    (\"Recall@1\",recall_at_1),\n",
    "    (\"Recall@5\", recall_at_5),\n",
    "    (\"Recall@10\", recall_at_10),\n",
    "    (\"Precision@1\", precision_at_1),\n",
    "    (\"Precision@5\", precision_at_5),\n",
    "    (\"Precision@10\", precision_at_10)]\n",
    "####"
   ]
  },
  {
   "cell_type": "markdown",
   "metadata": {
    "deletable": false,
    "editable": false,
    "nbgrader": {
     "cell_type": "markdown",
     "checksum": "fb541002c03221b453b8936290020ea5",
     "grade": false,
     "grade_id": "cell-580a2bdc66d03b47",
     "locked": true,
     "schema_version": 3,
     "solution": false,
     "task": false
    }
   },
   "source": [
    "---\n",
    "\n",
    "The following function evaluates a `search_fn` using the `metric_fn`. Note that the final number is averaged over all the queries"
   ]
  },
  {
   "cell_type": "code",
   "execution_count": 69,
   "metadata": {},
   "outputs": [],
   "source": [
    "#### Evaluate a search function\n",
    "\n",
    "list_of_search_fns = [\n",
    "    (\"BOW\", bow_search),\n",
    "    (\"TF-IDF\", tfidf_search),\n",
    "    (\"NaiveQL\", naive_ql_search),\n",
    "    (\"QL\", ql_search),\n",
    "    (\"BM25\", bm25_search)\n",
    "]\n",
    "\n",
    "def evaluate_search_fn(search_fn, metric_fns, index_set=None):\n",
    "    # build a dict query_id -> query \n",
    "    queries_by_id = dict((q[0], q[1]) for q in queries)\n",
    "    \n",
    "    metrics = {}\n",
    "    for metric, metric_fn in metric_fns:\n",
    "        metrics[metric] = np.zeros(len(qrels), dtype=np.float32)\n",
    "    \n",
    "    for i, (query_id, relevant_docs) in enumerate(qrels.items()):\n",
    "        query = queries_by_id[query_id]\n",
    "        if index_set:\n",
    "            results = search_fn(query, index_set)\n",
    "        else:\n",
    "            results = search_fn(query)\n",
    "        \n",
    "        for metric, metric_fn in metric_fns:\n",
    "            metrics[metric][i] = metric_fn(results, relevant_docs)\n",
    "\n",
    "    \n",
    "    \n",
    "    final_dict = {}\n",
    "    for metric, metric_vals in metrics.items():\n",
    "        final_dict[metric] = metric_vals.mean()\n",
    "    \n",
    "    return final_dict\n",
    "####"
   ]
  },
  {
   "cell_type": "markdown",
   "metadata": {
    "deletable": false,
    "editable": false,
    "nbgrader": {
     "cell_type": "markdown",
     "checksum": "6ea67534f74a8f81e1f504794f641709",
     "grade": false,
     "grade_id": "cell-b156d83a0649cbb4",
     "locked": true,
     "schema_version": 3,
     "solution": false,
     "task": false
    }
   },
   "source": [
    "## Section 5: Analysis (30 points) <a class=\"anchor\" id=\"analysis\"></a>\n",
    "\n",
    "[Back to Part 1](#part1)\n",
    "\n",
    "In the final section of Part1, we will compare the different term-based IR algorithms and different preprocessing configurations and analyze their advantages and disadvantages.\n",
    "\n",
    "### Section 5.1: Plot (20 points)\n",
    "\n",
    "First, gather the results. The results should consider the index set, the different search functions and different metrics. Plot the results in bar charts, per metric, with clear labels.\n",
    "\n",
    "**Rubric:**\n",
    "- Each Metric is plotted: 7 points\n",
    "- Each Method is plotted: 7 points\n",
    "- Clear titles, x label, y labels and legends (if applicable): 6 points"
   ]
  },
  {
   "cell_type": "code",
   "execution_count": 106,
   "metadata": {
    "deletable": false,
    "nbgrader": {
     "cell_type": "code",
     "checksum": "7e2588a925d13ddf588abe8311dc9cfc",
     "grade": true,
     "grade_id": "cell-46fda42a25863a04",
     "locked": false,
     "points": 20,
     "schema_version": 3,
     "solution": true,
     "task": false
    }
   },
   "outputs": [
    {
     "name": "stdout",
     "output_type": "stream",
     "text": [
      "<function naive_ql_search at 0x00000240BC7EE820>\n"
     ]
    },
    {
     "ename": "KeyboardInterrupt",
     "evalue": "",
     "output_type": "error",
     "traceback": [
      "\u001b[1;31m---------------------------------------------------------------------------\u001b[0m",
      "\u001b[1;31mKeyboardInterrupt\u001b[0m                         Traceback (most recent call last)",
      "\u001b[1;32m~\\AppData\\Local\\Temp/ipykernel_936/1545588336.py\u001b[0m in \u001b[0;36m<module>\u001b[1;34m\u001b[0m\n\u001b[0;32m      2\u001b[0m     \u001b[0mprint\u001b[0m\u001b[1;33m(\u001b[0m\u001b[0ms_fn\u001b[0m\u001b[1;33m)\u001b[0m\u001b[1;33m\u001b[0m\u001b[1;33m\u001b[0m\u001b[0m\n\u001b[0;32m      3\u001b[0m     \u001b[1;32mfor\u001b[0m \u001b[0mi\u001b[0m \u001b[1;32min\u001b[0m \u001b[1;33m[\u001b[0m\u001b[1;36m2\u001b[0m\u001b[1;33m]\u001b[0m\u001b[1;33m:\u001b[0m\u001b[1;33m\u001b[0m\u001b[1;33m\u001b[0m\u001b[0m\n\u001b[1;32m----> 4\u001b[1;33m         \u001b[0mprint\u001b[0m\u001b[1;33m(\u001b[0m\u001b[0ms_name\u001b[0m\u001b[1;33m,\u001b[0m \u001b[0mevaluate_search_fn\u001b[0m\u001b[1;33m(\u001b[0m\u001b[0ms_fn\u001b[0m\u001b[1;33m,\u001b[0m \u001b[0mlist_of_metrics\u001b[0m\u001b[1;33m,\u001b[0m \u001b[0mindex_set\u001b[0m\u001b[1;33m=\u001b[0m\u001b[0mi\u001b[0m\u001b[1;33m)\u001b[0m\u001b[1;33m)\u001b[0m\u001b[1;33m\u001b[0m\u001b[1;33m\u001b[0m\u001b[0m\n\u001b[0m\u001b[0;32m      5\u001b[0m \u001b[1;33m\u001b[0m\u001b[0m\n\u001b[0;32m      6\u001b[0m \u001b[1;32mfor\u001b[0m \u001b[1;33m(\u001b[0m\u001b[0ms_name\u001b[0m\u001b[1;33m,\u001b[0m \u001b[0ms_fn\u001b[0m\u001b[1;33m)\u001b[0m \u001b[1;32min\u001b[0m \u001b[1;33m[\u001b[0m\u001b[1;33m(\u001b[0m\u001b[1;34m\"QL\"\u001b[0m\u001b[1;33m,\u001b[0m \u001b[0mql_search\u001b[0m\u001b[1;33m)\u001b[0m\u001b[1;33m]\u001b[0m\u001b[1;33m:\u001b[0m\u001b[1;33m\u001b[0m\u001b[1;33m\u001b[0m\u001b[0m\n",
      "\u001b[1;32m~\\AppData\\Local\\Temp/ipykernel_936/1418695802.py\u001b[0m in \u001b[0;36mevaluate_search_fn\u001b[1;34m(search_fn, metric_fns, index_set)\u001b[0m\n\u001b[0;32m     25\u001b[0m \u001b[1;33m\u001b[0m\u001b[0m\n\u001b[0;32m     26\u001b[0m         \u001b[1;32mfor\u001b[0m \u001b[0mmetric\u001b[0m\u001b[1;33m,\u001b[0m \u001b[0mmetric_fn\u001b[0m \u001b[1;32min\u001b[0m \u001b[0mmetric_fns\u001b[0m\u001b[1;33m:\u001b[0m\u001b[1;33m\u001b[0m\u001b[1;33m\u001b[0m\u001b[0m\n\u001b[1;32m---> 27\u001b[1;33m             \u001b[0mmetrics\u001b[0m\u001b[1;33m[\u001b[0m\u001b[0mmetric\u001b[0m\u001b[1;33m]\u001b[0m\u001b[1;33m[\u001b[0m\u001b[0mi\u001b[0m\u001b[1;33m]\u001b[0m \u001b[1;33m=\u001b[0m \u001b[0mmetric_fn\u001b[0m\u001b[1;33m(\u001b[0m\u001b[0mresults\u001b[0m\u001b[1;33m,\u001b[0m \u001b[0mrelevant_docs\u001b[0m\u001b[1;33m)\u001b[0m\u001b[1;33m\u001b[0m\u001b[1;33m\u001b[0m\u001b[0m\n\u001b[0m\u001b[0;32m     28\u001b[0m \u001b[1;33m\u001b[0m\u001b[0m\n\u001b[0;32m     29\u001b[0m \u001b[1;33m\u001b[0m\u001b[0m\n",
      "\u001b[1;32m~\\AppData\\Local\\Temp/ipykernel_936/1611674213.py\u001b[0m in \u001b[0;36maverage_precision\u001b[1;34m(results, relevant_docs)\u001b[0m\n\u001b[0;32m     12\u001b[0m     \"\"\"\n\u001b[0;32m     13\u001b[0m     \u001b[0mn\u001b[0m \u001b[1;33m=\u001b[0m \u001b[0mlen\u001b[0m\u001b[1;33m(\u001b[0m\u001b[0mresults\u001b[0m\u001b[1;33m)\u001b[0m\u001b[1;33m\u001b[0m\u001b[1;33m\u001b[0m\u001b[0m\n\u001b[1;32m---> 14\u001b[1;33m     \u001b[0mr\u001b[0m \u001b[1;33m=\u001b[0m \u001b[0mnp\u001b[0m\u001b[1;33m.\u001b[0m\u001b[0marray\u001b[0m\u001b[1;33m(\u001b[0m\u001b[1;33m[\u001b[0m\u001b[0mrecall_k\u001b[0m\u001b[1;33m(\u001b[0m\u001b[0mresults\u001b[0m\u001b[1;33m,\u001b[0m \u001b[0mrelevant_docs\u001b[0m\u001b[1;33m,\u001b[0m \u001b[0mk\u001b[0m\u001b[1;33m)\u001b[0m \u001b[1;32mfor\u001b[0m \u001b[0mk\u001b[0m \u001b[1;32min\u001b[0m \u001b[0mrange\u001b[0m\u001b[1;33m(\u001b[0m\u001b[1;36m1\u001b[0m\u001b[1;33m,\u001b[0m\u001b[0mn\u001b[0m\u001b[1;33m)\u001b[0m\u001b[1;33m]\u001b[0m\u001b[1;33m)\u001b[0m\u001b[1;33m\u001b[0m\u001b[1;33m\u001b[0m\u001b[0m\n\u001b[0m\u001b[0;32m     15\u001b[0m     \u001b[0mp\u001b[0m \u001b[1;33m=\u001b[0m \u001b[0mnp\u001b[0m\u001b[1;33m.\u001b[0m\u001b[0marray\u001b[0m\u001b[1;33m(\u001b[0m\u001b[1;33m[\u001b[0m\u001b[0mprecision_k\u001b[0m\u001b[1;33m(\u001b[0m\u001b[0mresults\u001b[0m\u001b[1;33m,\u001b[0m \u001b[0mrelevant_docs\u001b[0m\u001b[1;33m,\u001b[0m \u001b[0mk\u001b[0m\u001b[1;33m)\u001b[0m \u001b[1;32mfor\u001b[0m \u001b[0mk\u001b[0m \u001b[1;32min\u001b[0m \u001b[0mrange\u001b[0m\u001b[1;33m(\u001b[0m\u001b[1;36m1\u001b[0m\u001b[1;33m,\u001b[0m\u001b[0mn\u001b[0m\u001b[1;33m)\u001b[0m\u001b[1;33m]\u001b[0m\u001b[1;33m)\u001b[0m\u001b[1;33m\u001b[0m\u001b[1;33m\u001b[0m\u001b[0m\n\u001b[0;32m     16\u001b[0m     \u001b[1;32mreturn\u001b[0m \u001b[0mnp\u001b[0m\u001b[1;33m.\u001b[0m\u001b[0msum\u001b[0m\u001b[1;33m(\u001b[0m\u001b[0mp\u001b[0m\u001b[1;33m[\u001b[0m\u001b[1;36m1\u001b[0m\u001b[1;33m:\u001b[0m\u001b[1;33m]\u001b[0m\u001b[1;33m*\u001b[0m\u001b[1;33m(\u001b[0m\u001b[0mr\u001b[0m\u001b[1;33m[\u001b[0m\u001b[1;36m1\u001b[0m\u001b[1;33m:\u001b[0m\u001b[1;33m]\u001b[0m\u001b[1;33m-\u001b[0m\u001b[0mr\u001b[0m\u001b[1;33m[\u001b[0m\u001b[1;33m:\u001b[0m\u001b[1;33m-\u001b[0m\u001b[1;36m1\u001b[0m\u001b[1;33m]\u001b[0m\u001b[1;33m)\u001b[0m\u001b[1;33m)\u001b[0m\u001b[1;33m\u001b[0m\u001b[1;33m\u001b[0m\u001b[0m\n",
      "\u001b[1;32m~\\AppData\\Local\\Temp/ipykernel_936/1611674213.py\u001b[0m in \u001b[0;36m<listcomp>\u001b[1;34m(.0)\u001b[0m\n\u001b[0;32m     12\u001b[0m     \"\"\"\n\u001b[0;32m     13\u001b[0m     \u001b[0mn\u001b[0m \u001b[1;33m=\u001b[0m \u001b[0mlen\u001b[0m\u001b[1;33m(\u001b[0m\u001b[0mresults\u001b[0m\u001b[1;33m)\u001b[0m\u001b[1;33m\u001b[0m\u001b[1;33m\u001b[0m\u001b[0m\n\u001b[1;32m---> 14\u001b[1;33m     \u001b[0mr\u001b[0m \u001b[1;33m=\u001b[0m \u001b[0mnp\u001b[0m\u001b[1;33m.\u001b[0m\u001b[0marray\u001b[0m\u001b[1;33m(\u001b[0m\u001b[1;33m[\u001b[0m\u001b[0mrecall_k\u001b[0m\u001b[1;33m(\u001b[0m\u001b[0mresults\u001b[0m\u001b[1;33m,\u001b[0m \u001b[0mrelevant_docs\u001b[0m\u001b[1;33m,\u001b[0m \u001b[0mk\u001b[0m\u001b[1;33m)\u001b[0m \u001b[1;32mfor\u001b[0m \u001b[0mk\u001b[0m \u001b[1;32min\u001b[0m \u001b[0mrange\u001b[0m\u001b[1;33m(\u001b[0m\u001b[1;36m1\u001b[0m\u001b[1;33m,\u001b[0m\u001b[0mn\u001b[0m\u001b[1;33m)\u001b[0m\u001b[1;33m]\u001b[0m\u001b[1;33m)\u001b[0m\u001b[1;33m\u001b[0m\u001b[1;33m\u001b[0m\u001b[0m\n\u001b[0m\u001b[0;32m     15\u001b[0m     \u001b[0mp\u001b[0m \u001b[1;33m=\u001b[0m \u001b[0mnp\u001b[0m\u001b[1;33m.\u001b[0m\u001b[0marray\u001b[0m\u001b[1;33m(\u001b[0m\u001b[1;33m[\u001b[0m\u001b[0mprecision_k\u001b[0m\u001b[1;33m(\u001b[0m\u001b[0mresults\u001b[0m\u001b[1;33m,\u001b[0m \u001b[0mrelevant_docs\u001b[0m\u001b[1;33m,\u001b[0m \u001b[0mk\u001b[0m\u001b[1;33m)\u001b[0m \u001b[1;32mfor\u001b[0m \u001b[0mk\u001b[0m \u001b[1;32min\u001b[0m \u001b[0mrange\u001b[0m\u001b[1;33m(\u001b[0m\u001b[1;36m1\u001b[0m\u001b[1;33m,\u001b[0m\u001b[0mn\u001b[0m\u001b[1;33m)\u001b[0m\u001b[1;33m]\u001b[0m\u001b[1;33m)\u001b[0m\u001b[1;33m\u001b[0m\u001b[1;33m\u001b[0m\u001b[0m\n\u001b[0;32m     16\u001b[0m     \u001b[1;32mreturn\u001b[0m \u001b[0mnp\u001b[0m\u001b[1;33m.\u001b[0m\u001b[0msum\u001b[0m\u001b[1;33m(\u001b[0m\u001b[0mp\u001b[0m\u001b[1;33m[\u001b[0m\u001b[1;36m1\u001b[0m\u001b[1;33m:\u001b[0m\u001b[1;33m]\u001b[0m\u001b[1;33m*\u001b[0m\u001b[1;33m(\u001b[0m\u001b[0mr\u001b[0m\u001b[1;33m[\u001b[0m\u001b[1;36m1\u001b[0m\u001b[1;33m:\u001b[0m\u001b[1;33m]\u001b[0m\u001b[1;33m-\u001b[0m\u001b[0mr\u001b[0m\u001b[1;33m[\u001b[0m\u001b[1;33m:\u001b[0m\u001b[1;33m-\u001b[0m\u001b[1;36m1\u001b[0m\u001b[1;33m]\u001b[0m\u001b[1;33m)\u001b[0m\u001b[1;33m)\u001b[0m\u001b[1;33m\u001b[0m\u001b[1;33m\u001b[0m\u001b[0m\n",
      "\u001b[1;32m~\\AppData\\Local\\Temp/ipykernel_936/2626312409.py\u001b[0m in \u001b[0;36mrecall_k\u001b[1;34m(results, relevant_docs, k)\u001b[0m\n\u001b[0;32m     11\u001b[0m     \u001b[0mres\u001b[0m \u001b[1;33m=\u001b[0m \u001b[0mset\u001b[0m\u001b[1;33m(\u001b[0m\u001b[1;33m[\u001b[0m\u001b[0mx\u001b[0m\u001b[1;33m[\u001b[0m\u001b[1;36m0\u001b[0m\u001b[1;33m]\u001b[0m \u001b[1;32mfor\u001b[0m \u001b[0mx\u001b[0m \u001b[1;32min\u001b[0m \u001b[0mresults\u001b[0m\u001b[1;33m[\u001b[0m\u001b[1;36m0\u001b[0m\u001b[1;33m:\u001b[0m\u001b[0mk\u001b[0m\u001b[1;33m]\u001b[0m\u001b[1;33m]\u001b[0m\u001b[1;33m)\u001b[0m\u001b[1;33m\u001b[0m\u001b[1;33m\u001b[0m\u001b[0m\n\u001b[0;32m     12\u001b[0m     \u001b[0mrel\u001b[0m \u001b[1;33m=\u001b[0m \u001b[0mset\u001b[0m\u001b[1;33m(\u001b[0m\u001b[0mrelevant_docs\u001b[0m\u001b[1;33m)\u001b[0m\u001b[1;33m\u001b[0m\u001b[1;33m\u001b[0m\u001b[0m\n\u001b[1;32m---> 13\u001b[1;33m     \u001b[1;32mreturn\u001b[0m \u001b[0msum\u001b[0m\u001b[1;33m(\u001b[0m\u001b[1;33m[\u001b[0m\u001b[0mint\u001b[0m\u001b[1;33m(\u001b[0m\u001b[0mr\u001b[0m\u001b[1;33m)\u001b[0m \u001b[1;32min\u001b[0m \u001b[0mrel\u001b[0m \u001b[1;32mfor\u001b[0m \u001b[0mr\u001b[0m \u001b[1;32min\u001b[0m \u001b[0mres\u001b[0m\u001b[1;33m]\u001b[0m\u001b[1;33m)\u001b[0m\u001b[1;33m/\u001b[0m\u001b[0mlen\u001b[0m\u001b[1;33m(\u001b[0m\u001b[0mrelevant_docs\u001b[0m\u001b[1;33m)\u001b[0m\u001b[1;33m\u001b[0m\u001b[1;33m\u001b[0m\u001b[0m\n\u001b[0m",
      "\u001b[1;32m~\\AppData\\Local\\Temp/ipykernel_936/2626312409.py\u001b[0m in \u001b[0;36m<listcomp>\u001b[1;34m(.0)\u001b[0m\n\u001b[0;32m     11\u001b[0m     \u001b[0mres\u001b[0m \u001b[1;33m=\u001b[0m \u001b[0mset\u001b[0m\u001b[1;33m(\u001b[0m\u001b[1;33m[\u001b[0m\u001b[0mx\u001b[0m\u001b[1;33m[\u001b[0m\u001b[1;36m0\u001b[0m\u001b[1;33m]\u001b[0m \u001b[1;32mfor\u001b[0m \u001b[0mx\u001b[0m \u001b[1;32min\u001b[0m \u001b[0mresults\u001b[0m\u001b[1;33m[\u001b[0m\u001b[1;36m0\u001b[0m\u001b[1;33m:\u001b[0m\u001b[0mk\u001b[0m\u001b[1;33m]\u001b[0m\u001b[1;33m]\u001b[0m\u001b[1;33m)\u001b[0m\u001b[1;33m\u001b[0m\u001b[1;33m\u001b[0m\u001b[0m\n\u001b[0;32m     12\u001b[0m     \u001b[0mrel\u001b[0m \u001b[1;33m=\u001b[0m \u001b[0mset\u001b[0m\u001b[1;33m(\u001b[0m\u001b[0mrelevant_docs\u001b[0m\u001b[1;33m)\u001b[0m\u001b[1;33m\u001b[0m\u001b[1;33m\u001b[0m\u001b[0m\n\u001b[1;32m---> 13\u001b[1;33m     \u001b[1;32mreturn\u001b[0m \u001b[0msum\u001b[0m\u001b[1;33m(\u001b[0m\u001b[1;33m[\u001b[0m\u001b[0mint\u001b[0m\u001b[1;33m(\u001b[0m\u001b[0mr\u001b[0m\u001b[1;33m)\u001b[0m \u001b[1;32min\u001b[0m \u001b[0mrel\u001b[0m \u001b[1;32mfor\u001b[0m \u001b[0mr\u001b[0m \u001b[1;32min\u001b[0m \u001b[0mres\u001b[0m\u001b[1;33m]\u001b[0m\u001b[1;33m)\u001b[0m\u001b[1;33m/\u001b[0m\u001b[0mlen\u001b[0m\u001b[1;33m(\u001b[0m\u001b[0mrelevant_docs\u001b[0m\u001b[1;33m)\u001b[0m\u001b[1;33m\u001b[0m\u001b[1;33m\u001b[0m\u001b[0m\n\u001b[0m",
      "\u001b[1;31mKeyboardInterrupt\u001b[0m: "
     ]
    }
   ],
   "source": [
    "for (s_name, s_fn) in [(\"NaiveQL\", naive_ql_search)]:\n",
    "    for i in [2]:\n",
    "        print(s_name, evaluate_search_fn(s_fn, list_of_metrics, index_set=i))\n",
    "    \n",
    "for (s_name, s_fn) in [(\"QL\", ql_search)]:\n",
    "    for i in [2]:\n",
    "        print(s_name, evaluate_search_fn(s_fn, list_of_metrics, index_set=i))"
   ]
  },
  {
   "cell_type": "markdown",
   "metadata": {
    "deletable": false,
    "editable": false,
    "nbgrader": {
     "cell_type": "markdown",
     "checksum": "e88c444a0acf4e398c65e289169b75f7",
     "grade": false,
     "grade_id": "cell-8aabe3bcf265deb0",
     "locked": true,
     "points": 10,
     "schema_version": 3,
     "solution": false,
     "task": true
    }
   },
   "source": [
    "---\n",
    "### Section 5.2: Summary (10 points)\n",
    "Write a summary of what you observe in the results.\n",
    "Your summary should compare results across the 2 indices and the methods being used. State what you expected to see in the results, followed by either supporting evidence *or* justify why the results did not support your expectations.      "
   ]
  },
  {
   "cell_type": "markdown",
   "metadata": {},
   "source": [
    "Write your answer here!"
   ]
  },
  {
   "cell_type": "markdown",
   "metadata": {
    "deletable": false,
    "editable": false,
    "nbgrader": {
     "cell_type": "markdown",
     "checksum": "b3eb77be74eecca205fc7b47316d1627",
     "grade": false,
     "grade_id": "cell-bb60dd5c092d0f2e",
     "locked": true,
     "schema_version": 3,
     "solution": false,
     "task": false
    }
   },
   "source": [
    "---\n",
    "---\n",
    "# Part 2: Semantic-based Matching (85 points) <a class=\"anchor\" id=\"part2\"></a>\n",
    "\n",
    "[Back to top](#top)\n",
    "\n",
    "We will now experiment with methods that go beyond lexical methods like TF-IDF, which operate at the word level and are high dimensional and sparse, and look at methods which constructs low dimensional dense representations of queries and documents. \n",
    "\n",
    "Since these low-dimensional methods have a higher time complexity, they are typically used in conjunction with methods like BM-25. That is, instead of searching through potentially million documents to find matches using low dimensional vectors, a list of K documents are retrieved using BM25, and then **re-ranked** using the other method. This is the method that is going to be applied in the following exercises. \n",
    "\n",
    "LSI/LDA takes documents that are similar on a semantic level - for instance, if they are describing the same topic - and projects them into nearby vectors, despite having low lexical overlap.\n",
    "\n",
    "In this assignment, you will use `gensim` to create LSI/LDA models and use them in re-ranking. \n",
    "\n",
    "**Note**: The following exercises only uses `doc_repr_2` and `config_2`\n",
    "\n",
    "Table of contents:\n",
    "- [Section 6: LSI](#lsi) (15 points)\n",
    "- [Section 7: LDA](#lda) (10 points)\n",
    "- [Section 8: Word2Vec/Doc2Vec](#2vec) (20 points)\n",
    "- [Section 8: Re-ranking](#reranking) (10 points)\n",
    "- [Section 9: Re-ranking Evaluation](#reranking_eval) (30 points)"
   ]
  },
  {
   "cell_type": "markdown",
   "metadata": {
    "deletable": false,
    "editable": false,
    "nbgrader": {
     "cell_type": "markdown",
     "checksum": "f7c7b2cab82f576ed0acf836ca57171c",
     "grade": false,
     "grade_id": "cell-6b2c81e7a8abd180",
     "locked": true,
     "schema_version": 3,
     "solution": false,
     "task": false
    }
   },
   "source": [
    "---\n",
    "## Section 6: Latent Semantic Indexing (LSI) (15 points) <a class=\"anchor\" id=\"lsi\"></a>\n",
    "\n",
    "[Back to Part 2](#part2)\n",
    "\n",
    "LSI is one of the methods to embed the queries and documents into vectors. It is based on a method similar to Principal Component Analysis (PCA) for obtaining a dense concept matrix out of the sparse term-document matrix.\n",
    "\n",
    "See [wikipedia](https://en.wikipedia.org/wiki/Latent_semantic_analysis), particularly [#Mathematics_of_LSI](https://en.wikipedia.org/wiki/Latent_semantic_analysis#Mathematics_of_LSI)."
   ]
  },
  {
   "cell_type": "code",
   "execution_count": 71,
   "metadata": {
    "deletable": false,
    "editable": false,
    "nbgrader": {
     "cell_type": "code",
     "checksum": "c17ee75319cb517e2bf48ec3d9efc329",
     "grade": false,
     "grade_id": "cell-59913daee47f680d",
     "locked": true,
     "schema_version": 3,
     "solution": false,
     "task": false
    }
   },
   "outputs": [],
   "source": [
    "from gensim.corpora import Dictionary\n",
    "from gensim.models import LdaModel, LsiModel, Word2Vec\n",
    "from gensim.models.doc2vec import Doc2Vec, TaggedDocument\n",
    "from gensim import downloader as g_downloader\n",
    "# gensim uses logging, so set it up \n",
    "import logging\n",
    "logging.basicConfig(format='%(asctime)s : %(levelname)s : %(message)s', level=logging.INFO)"
   ]
  },
  {
   "cell_type": "markdown",
   "metadata": {
    "deletable": false,
    "editable": false,
    "nbgrader": {
     "cell_type": "markdown",
     "checksum": "5fce140c546759b54a9fc060901ae77c",
     "grade": false,
     "grade_id": "cell-3644faff4976598a",
     "locked": true,
     "schema_version": 3,
     "solution": false,
     "task": false
    }
   },
   "source": [
    "---\n",
    "### Section 6.1: Cosine Similarity (5 points)<a class=\"anchor\" id=\"cosing_sim\"></a>\n",
    "Before we begin, let us first define our method of similarity for the LSI model, the cosine similarity:\n",
    "\n",
    "$$\\text{similarity} = \\cos(\\theta) = {\\mathbf{A} \\cdot \\mathbf{B} \\over \\|\\mathbf{A}\\| \\|\\mathbf{B}\\|} = \\frac{ \\sum\\limits_{i=1}^{n}{A_i  B_i} }{ \\sqrt{\\sum\\limits_{i=1}^{n}{A_i^2}}  \\sqrt{\\sum\\limits_{i=1}^{n}{B_i^2}} }$$\n",
    "\n",
    "Since we are using gensim, the types of vectors returned by their classes are of the form defined below (they are not just simple vectors):"
   ]
  },
  {
   "cell_type": "code",
   "execution_count": 72,
   "metadata": {
    "deletable": false,
    "editable": false,
    "nbgrader": {
     "cell_type": "code",
     "checksum": "4e340e1a1d546f430c018fd0760e707a",
     "grade": false,
     "grade_id": "cell-3995a50f951314d5",
     "locked": true,
     "schema_version": 3,
     "solution": false,
     "task": false
    }
   },
   "outputs": [],
   "source": [
    "# 1, 2, 3 are either latent dimensions (LSI), or topics (LDA)\n",
    "# The second value in each tuple is a number (LSI) or a probability (LDA)  \n",
    "example_vec_1 = [(1, 0.2), (2, 0.3), (3, 0.4)]\n",
    "example_vec_2 = [(1, 0.2), (2, 0.7), (3, 0.4)]"
   ]
  },
  {
   "cell_type": "markdown",
   "metadata": {
    "deletable": false,
    "editable": false,
    "nbgrader": {
     "cell_type": "markdown",
     "checksum": "20832fd4f579f49ae204b0efee02edd1",
     "grade": false,
     "grade_id": "cell-5e54d581858dc8f7",
     "locked": true,
     "schema_version": 3,
     "solution": false,
     "task": false
    }
   },
   "source": [
    "---\n",
    "**Implementation (2+3 points):**\n",
    "Now, implement the `dot product` operation on these types of vectors and using this operator, implement the `cosine similarity` (don't forget: two functions to implement!):"
   ]
  },
  {
   "cell_type": "code",
   "execution_count": 73,
   "metadata": {
    "deletable": false,
    "nbgrader": {
     "cell_type": "code",
     "checksum": "06a712ee75fc213a21c5f0067fd8fe28",
     "grade": false,
     "grade_id": "cell-0e8189f5f93de33f",
     "locked": false,
     "schema_version": 3,
     "solution": true,
     "task": false
    }
   },
   "outputs": [],
   "source": [
    "def dot(vec_1,vec_2): \n",
    "    \"\"\"\n",
    "        vec_1 and vec_2 are of the form: [(int, float), (int, float), ...]\n",
    "        Return the dot product of two such vectors, computed only on the floats\n",
    "        You can assume that the lengths of the vectors are the same, and the dimensions are aligned \n",
    "            i.e you won't get: vec_1 = [(1, 0.2)] ; vec_2 = [(2, 0.3)] \n",
    "                                (dimensions are unaligned and lengths are different)\n",
    "    \"\"\"\n",
    "    ar_1=np.array(vec_1)[:,1]\n",
    "    ar_2=np.array(vec_2)[:,1]\n",
    "    combined=np.dot(ar_1,ar_2)\n",
    "    return combined\n",
    "\n",
    "\n",
    "# TODO: Implement this! (3 points)\n",
    "def cosine_sim(vec_1, vec_2):\n",
    "    d = dot(vec_1,vec_2)\n",
    "    ar_1=np.array(vec_1)[:,1]\n",
    "    ar_2=np.array(vec_2)[:,1]\n",
    "    squar_1=np.sqrt(np.sum(np.square(ar_1)))\n",
    "    squar_2=np.sqrt(np.sum(np.square(ar_2)))\n",
    "    if np.dot(squar_1,squar_2)==0:\n",
    "        return 0\n",
    "    else:\n",
    "        return d/(np.dot(squar_1,squar_2))"
   ]
  },
  {
   "cell_type": "code",
   "execution_count": 74,
   "metadata": {
    "deletable": false,
    "editable": false,
    "nbgrader": {
     "cell_type": "code",
     "checksum": "d22a4a7325ba7815a808390388f534a1",
     "grade": true,
     "grade_id": "cell-b25d04ed6b79fd35",
     "locked": true,
     "points": 2,
     "schema_version": 3,
     "solution": false,
     "task": false
    }
   },
   "outputs": [
    {
     "name": "stdout",
     "output_type": "stream",
     "text": [
      "vectors: ([(1, 0.2), (2, 0.3), (3, 0.4)], [(1, 0.2), (2, 0.7), (3, 0.4)])\n",
      "dot product = 0.41000000000000003\n",
      "cosine similarity = 0.9165587597202866\n"
     ]
    }
   ],
   "source": [
    "##### Function check\n",
    "print(f'vectors: {(example_vec_1,example_vec_2)}')\n",
    "print(f'dot product = {dot(example_vec_1,example_vec_2)}')\n",
    "print(f'cosine similarity = {cosine_sim(example_vec_1,example_vec_2)}')\n",
    "##### "
   ]
  },
  {
   "cell_type": "code",
   "execution_count": 75,
   "metadata": {
    "deletable": false,
    "editable": false,
    "nbgrader": {
     "cell_type": "code",
     "checksum": "0744131724ce76b1b3f163b4bae5f700",
     "grade": true,
     "grade_id": "cell-ae3c4466866ace77",
     "locked": true,
     "points": 3,
     "schema_version": 3,
     "solution": false,
     "task": false
    }
   },
   "outputs": [],
   "source": [
    "#### Please do not change this. This cell is used for grading."
   ]
  },
  {
   "cell_type": "markdown",
   "metadata": {
    "deletable": false,
    "editable": false,
    "nbgrader": {
     "cell_type": "markdown",
     "checksum": "9b123f599f9ea372d14676e23f1c6a52",
     "grade": false,
     "grade_id": "cell-4b2534067c44fcdf",
     "locked": true,
     "schema_version": 3,
     "solution": false,
     "task": false
    }
   },
   "source": [
    "---\n",
    "### Section 6.2: LSI Retrieval (10 points)<a class=\"anchor\" id=\"lsi_retrieval\"></a>\n",
    "LSI retrieval is simply ranking the documents based on their cosine similarity to the query vector.\n",
    "First, let's write a parent class for vector-based retrieval models:"
   ]
  },
  {
   "cell_type": "code",
   "execution_count": 76,
   "metadata": {
    "deletable": false,
    "editable": false,
    "nbgrader": {
     "cell_type": "code",
     "checksum": "ecc111d58182570e2252b8ef5d6b02af",
     "grade": false,
     "grade_id": "cell-937936cea18711ee",
     "locked": true,
     "schema_version": 3,
     "solution": false,
     "task": false
    }
   },
   "outputs": [],
   "source": [
    "class VectorSpaceRetrievalModel:\n",
    "    \"\"\"\n",
    "        Parent class for Dense Vector Retrieval models\n",
    "    \"\"\"\n",
    "    def __init__(self, doc_repr):\n",
    "        \"\"\"\n",
    "            document_collection: \n",
    "                [\n",
    "                    (doc_id_1, [token 1, token 2, ...]), \n",
    "                    (doc_id_2, [token 1, token 2, ....]) \n",
    "                    ...\n",
    "                ]\n",
    "\n",
    "        \"\"\"\n",
    "        self.doc_repr = doc_repr\n",
    "        self.documents = [_[1] for _ in self.doc_repr]\n",
    "        \n",
    "        # construct a dictionary\n",
    "        self.dictionary = Dictionary(self.documents)\n",
    "        # Filter out words that occur less than 20 documents, or more than 50% of the documents.\n",
    "        self.dictionary.filter_extremes(no_below=10)\n",
    "        self.corpus = [self.dictionary.doc2bow(doc) for doc in self.documents]\n",
    "    \n",
    "        # Make a index to word dictionary.\n",
    "        temp = self.dictionary[0]  # This is only to \"load\" the dictionary.\n",
    "        self.id2word = self.dictionary.id2token\n",
    "        \n",
    "        # this is set by the train_model function\n",
    "        self.model = None\n",
    "        \n",
    "        \n",
    "    def vectorize_documents(self):\n",
    "        \"\"\"\n",
    "            Returns a doc_id -> vector dictionary\n",
    "        \"\"\"\n",
    "        vectors = {}\n",
    "        for (doc_id, _), cc in zip(self.doc_repr, self.corpus):\n",
    "            vectors[doc_id] = self.model[cc]\n",
    "        return vectors\n",
    "\n",
    "    def vectorize_query(self, query):\n",
    "        # Note the use of config_2 here!\n",
    "        query = process_text(query, **config_2)\n",
    "        query_vector = self.dictionary.doc2bow(query)\n",
    "        return self.model[query_vector]\n",
    "    \n",
    "    def train_model(self):\n",
    "        \"\"\"\n",
    "            Trains a model and sets the 'self.model' variable. \n",
    "            Make sure to use the variables created in the __init__ method.\n",
    "            e.g the variables which may be useful: {corpus, dictionary, id2word}\n",
    "        \"\"\"\n",
    "        raise NotImplementedError()"
   ]
  },
  {
   "cell_type": "markdown",
   "metadata": {
    "deletable": false,
    "editable": false,
    "nbgrader": {
     "cell_type": "markdown",
     "checksum": "ff161eefd9b81b768cd6361bc1a502b0",
     "grade": false,
     "grade_id": "cell-704a18c2f80cd60c",
     "locked": true,
     "schema_version": 3,
     "solution": false,
     "task": false
    }
   },
   "source": [
    "---\n",
    "**Implementation (5 points):**\n",
    "Implement the `train_model` method in the following class (note that this is only one line of code in `gensim`!). Ensure that the parameters defined in the `__init__` method are not changed, and are *used in the `train_method` function*. Normally, the hyperaparameter space will be searched using grid search / other methods - in this assignment we have provided the hyperparameters for you.\n",
    "\n",
    "The last two lines of code train an LSI model on the list of documents which have been stemmed, lower-cased and have stopwords removed. "
   ]
  },
  {
   "cell_type": "code",
   "execution_count": 77,
   "metadata": {
    "deletable": false,
    "nbgrader": {
     "cell_type": "code",
     "checksum": "0e90eedc27c248bc1ae050518a46a46c",
     "grade": false,
     "grade_id": "cell-307682c9089f15d6",
     "locked": false,
     "schema_version": 3,
     "solution": true,
     "task": false
    }
   },
   "outputs": [],
   "source": [
    "# TODO: Implement this! (5 points)\n",
    "class LsiRetrievalModel(VectorSpaceRetrievalModel):\n",
    "    def __init__(self, doc_repr):\n",
    "        super().__init__(doc_repr)\n",
    "        \n",
    "        self.num_topics = 100\n",
    "        self.chunksize = 2000\n",
    "    \n",
    "    def train_model(self):\n",
    "        # YOUR CODE HERE\n",
    "        self.model=LsiModel(self.corpus, id2word=self.id2word, num_topics=self.num_topics, chunksize=self.chunksize)"
   ]
  },
  {
   "cell_type": "code",
   "execution_count": 78,
   "metadata": {
    "deletable": false,
    "editable": false,
    "nbgrader": {
     "cell_type": "code",
     "checksum": "00399cfe13d60cb4beed1271e36004b0",
     "grade": true,
     "grade_id": "cell-5ce512650c1b2dfb",
     "locked": true,
     "points": 0,
     "schema_version": 3,
     "solution": false,
     "task": false
    }
   },
   "outputs": [
    {
     "name": "stderr",
     "output_type": "stream",
     "text": [
      "2022-02-26 16:26:20,000 : INFO : adding document #0 to Dictionary(0 unique tokens: [])\n",
      "2022-02-26 16:26:20,091 : INFO : built Dictionary(5937 unique tokens: ['-', 'algebra', 'intern', 'languag', 'preliminari']...) from 3204 documents (total 115969 corpus positions)\n",
      "2022-02-26 16:26:20,091 : INFO : Dictionary lifecycle event {'msg': \"built Dictionary(5937 unique tokens: ['-', 'algebra', 'intern', 'languag', 'preliminari']...) from 3204 documents (total 115969 corpus positions)\", 'datetime': '2022-02-26T16:26:20.091220', 'gensim': '4.1.2', 'python': '3.9.7 (default, Sep 16 2021, 16:59:28) [MSC v.1916 64 bit (AMD64)]', 'platform': 'Windows-10-10.0.19042-SP0', 'event': 'created'}\n",
      "2022-02-26 16:26:20,096 : INFO : discarding 4740 tokens: [('repeat', 8), ('glossari', 7), ('inspect', 8), ('uncol', 2), ('rung', 9), ('secant', 2), ('.', 1603), ('acceler', 6), ('diverg', 3), ('induc', 9)]...\n",
      "2022-02-26 16:26:20,097 : INFO : keeping 1197 tokens which were in no less than 10 and no more than 1602 (=50.0%) documents\n",
      "2022-02-26 16:26:20,099 : INFO : resulting dictionary: Dictionary(1197 unique tokens: ['-', 'algebra', 'intern', 'languag', 'preliminari']...)\n",
      "2022-02-26 16:26:20,149 : INFO : using serial LSI version on this node\n",
      "2022-02-26 16:26:20,150 : INFO : updating model with new documents\n",
      "2022-02-26 16:26:20,150 : INFO : preparing a new chunk of documents\n",
      "2022-02-26 16:26:20,158 : INFO : using 100 extra samples and 2 power iterations\n",
      "2022-02-26 16:26:20,158 : INFO : 1st phase: constructing (1197, 200) action matrix\n",
      "2022-02-26 16:26:20,173 : INFO : orthonormalizing (1197, 200) action matrix\n",
      "2022-02-26 16:26:20,559 : INFO : 2nd phase: running dense svd on (200, 2000) matrix\n",
      "2022-02-26 16:26:20,650 : INFO : computing the final decomposition\n",
      "2022-02-26 16:26:20,651 : INFO : keeping 100 factors (discarding 13.413% of energy spectrum)\n",
      "2022-02-26 16:26:20,653 : INFO : processed documents up to #2000\n",
      "2022-02-26 16:26:20,654 : INFO : topic #0(152.127): -0.741*\",\" + -0.342*\"-\" + -0.211*\"system\" + -0.204*\"program\" + -0.192*\"comput\" + -0.146*\"(\" + -0.127*\"languag\" + -0.108*\")\" + -0.084*\"gener\" + -0.083*\"data\"\n",
      "2022-02-26 16:26:20,655 : INFO : topic #1(60.600): -0.607*\"(\" + -0.434*\")\" + -0.366*\"algorithm\" + -0.300*\"-\" + 0.237*\",\" + 0.213*\"system\" + 0.132*\"comput\" + -0.096*\"[\" + 0.093*\"program\" + -0.084*\"])\"\n",
      "2022-02-26 16:26:20,655 : INFO : topic #2(57.438): -0.744*\"-\" + 0.452*\",\" + -0.263*\"system\" + 0.214*\"(\" + 0.166*\")\" + -0.107*\"time\" + -0.105*\"program\" + 0.094*\"algorithm\" + -0.068*\"comput\" + -0.067*\"share\"\n",
      "2022-02-26 16:26:20,656 : INFO : topic #3(48.370): 0.483*\"system\" + 0.375*\"program\" + 0.367*\"comput\" + -0.363*\"-\" + -0.308*\",\" + 0.212*\"(\" + 0.168*\")\" + 0.147*\"algorithm\" + -0.144*\"languag\" + 0.119*\"time\"\n",
      "2022-02-26 16:26:20,657 : INFO : topic #4(45.710): -0.489*\"comput\" + 0.475*\"languag\" + 0.428*\"program\" + -0.238*\"method\" + -0.141*\"problem\" + 0.121*\"system\" + 0.109*\")\" + -0.107*\"equat\" + -0.100*\"algorithm\" + 0.099*\"(\"\n",
      "2022-02-26 16:26:20,657 : INFO : preparing a new chunk of documents\n",
      "2022-02-26 16:26:20,665 : INFO : using 100 extra samples and 2 power iterations\n",
      "2022-02-26 16:26:20,665 : INFO : 1st phase: constructing (1197, 200) action matrix\n",
      "2022-02-26 16:26:20,677 : INFO : orthonormalizing (1197, 200) action matrix\n",
      "2022-02-26 16:26:20,719 : INFO : 2nd phase: running dense svd on (200, 1204) matrix\n",
      "2022-02-26 16:26:20,738 : INFO : computing the final decomposition\n",
      "2022-02-26 16:26:20,738 : INFO : keeping 100 factors (discarding 14.023% of energy spectrum)\n",
      "2022-02-26 16:26:20,740 : INFO : merging projections: (1197, 100) + (1197, 100)\n",
      "2022-02-26 16:26:20,757 : INFO : keeping 100 factors (discarding 8.155% of energy spectrum)\n",
      "2022-02-26 16:26:20,759 : INFO : processed documents up to #3204\n",
      "2022-02-26 16:26:20,760 : INFO : topic #0(225.136): 0.759*\",\" + 0.337*\"-\" + 0.196*\"system\" + 0.186*\"program\" + 0.166*\"comput\" + 0.139*\"(\" + 0.103*\")\" + 0.103*\"algorithm\" + 0.099*\"languag\" + 0.087*\"time\"\n",
      "2022-02-26 16:26:20,760 : INFO : topic #1(87.805): 0.613*\"-\" + -0.399*\",\" + 0.399*\"(\" + 0.326*\"algorithm\" + 0.293*\")\" + -0.129*\"system\" + -0.107*\"program\" + 0.085*\"method\" + 0.077*\"time\" + 0.062*\"1\"\n",
      "2022-02-26 16:26:20,761 : INFO : topic #2(81.909): 0.550*\"-\" + -0.434*\"(\" + 0.355*\"system\" + -0.321*\")\" + -0.291*\",\" + -0.266*\"algorithm\" + 0.146*\"program\" + 0.123*\"comput\" + 0.078*\"time\" + -0.064*\"[\"\n",
      "2022-02-26 16:26:20,761 : INFO : topic #3(72.433): -0.693*\"program\" + 0.339*\",\" + 0.279*\"-\" + -0.251*\"(\" + -0.221*\"system\" + -0.214*\"languag\" + -0.204*\")\" + -0.160*\"comput\" + -0.099*\"data\" + -0.056*\"execut\"\n",
      "2022-02-26 16:26:20,762 : INFO : topic #4(68.523): -0.673*\"system\" + 0.453*\"program\" + 0.254*\"languag\" + 0.212*\"-\" + -0.179*\"comput\" + -0.165*\"(\" + -0.121*\")\" + -0.115*\"model\" + 0.101*\",\" + -0.098*\"algorithm\"\n",
      "2022-02-26 16:26:20,762 : INFO : LsiModel lifecycle event {'msg': 'trained LsiModel(num_terms=1197, num_topics=100, decay=1.0, chunksize=2000) in 0.61s', 'datetime': '2022-02-26T16:26:20.762552', 'gensim': '4.1.2', 'python': '3.9.7 (default, Sep 16 2021, 16:59:28) [MSC v.1916 64 bit (AMD64)]', 'platform': 'Windows-10-10.0.19042-SP0', 'event': 'created'}\n"
     ]
    },
    {
     "data": {
      "text/plain": [
       "[(0, 0.01521564942165238),\n",
       " (1, -0.016297461762320394),\n",
       " (2, -0.00018701513942558524),\n",
       " (3, -0.0018195961839162838),\n",
       " (4, -0.009446545854501732),\n",
       " (5, -0.004672438859087991),\n",
       " (6, 0.02691810148535928),\n",
       " (7, 0.016776501219348004),\n",
       " (8, -0.031789985203172874),\n",
       " (9, -0.00063641227664144),\n",
       " (10, 0.0023844878368228335),\n",
       " (11, -0.017773797389250792),\n",
       " (12, 3.4786055263129334e-05),\n",
       " (13, 0.0014899950289511505),\n",
       " (14, 0.004006462253688369),\n",
       " (15, 0.005242964283680675),\n",
       " (16, 0.005008884476454472),\n",
       " (17, 0.002729814608601156),\n",
       " (18, -0.017030593809571802),\n",
       " (19, 0.02030046236273063),\n",
       " (20, -0.010945182036142665),\n",
       " (21, -0.014038090048604707),\n",
       " (22, 0.04802700897226393),\n",
       " (23, 0.027310052176848117),\n",
       " (24, -0.008691934317065936),\n",
       " (25, -0.013247110079482455),\n",
       " (26, 0.008133957144603247),\n",
       " (27, 0.07673969265847487),\n",
       " (28, -0.06206037551070706),\n",
       " (29, 0.030758166273499227),\n",
       " (30, 0.04253456703162625),\n",
       " (31, 0.04641834250861806),\n",
       " (32, -0.06433132845333077),\n",
       " (33, 0.04993577945708481),\n",
       " (34, -0.02631440259630198),\n",
       " (35, 0.06391517576007874),\n",
       " (36, 0.0420933274956025),\n",
       " (37, -0.009506513246170932),\n",
       " (38, -0.056646333964206444),\n",
       " (39, 0.03282421239917037),\n",
       " (40, -0.04312299541401922),\n",
       " (41, -0.03153519398813375),\n",
       " (42, 0.021558663190016966),\n",
       " (43, 0.013969707504597875),\n",
       " (44, 0.009417889072854454),\n",
       " (45, 0.05814819390500476),\n",
       " (46, -0.007602570269477098),\n",
       " (47, 0.008269443287671955),\n",
       " (48, 0.01411270023091632),\n",
       " (49, 0.02904453804242543),\n",
       " (50, 0.013334961653528116),\n",
       " (51, 0.05367087548090914),\n",
       " (52, -0.004854785202757127),\n",
       " (53, 0.003290627805728223),\n",
       " (54, 0.039799667857601695),\n",
       " (55, -0.020330571294251403),\n",
       " (56, 0.027824205247264023),\n",
       " (57, -0.01727024404354813),\n",
       " (58, -0.0016998106723532889),\n",
       " (59, 0.04389256207042027),\n",
       " (60, -0.009611066630814135),\n",
       " (61, -0.05214411460719715),\n",
       " (62, 0.006472491145131315),\n",
       " (63, 0.019521419352046647),\n",
       " (64, 0.048393764671874576),\n",
       " (65, 0.057444503398845576),\n",
       " (66, 0.008730025818494582),\n",
       " (67, -0.012271220628305718),\n",
       " (68, 0.05605207733791122),\n",
       " (69, -0.037241893154420766),\n",
       " (70, -0.04730540414772638),\n",
       " (71, -0.019061997458384487),\n",
       " (72, 0.018228254403806432),\n",
       " (73, -0.06045105707669889),\n",
       " (74, -0.09437074134939584),\n",
       " (75, 0.02767020302883831),\n",
       " (76, -0.033459212112089895),\n",
       " (77, 0.008476919413895532),\n",
       " (78, 0.06285066716949451),\n",
       " (79, -0.010326540399693326),\n",
       " (80, -0.03033695609619294),\n",
       " (81, -0.005406615164266449),\n",
       " (82, 0.01801039359385037),\n",
       " (83, 0.05510970650371011),\n",
       " (84, -0.05046241374016733),\n",
       " (85, 0.020821228542696933),\n",
       " (86, -0.024122548345530494),\n",
       " (87, 0.0029081043797096334),\n",
       " (88, -0.06216538808323124),\n",
       " (89, -0.08732328606689213),\n",
       " (90, 0.006562554783192148),\n",
       " (91, 0.045943522008029675),\n",
       " (92, -0.02027089608414508),\n",
       " (93, -0.020998502281933982),\n",
       " (94, -0.052543716961455614),\n",
       " (95, -0.007072252562883014),\n",
       " (96, -0.004025231872219045),\n",
       " (97, 0.0006544349076755759),\n",
       " (98, 0.0008999111779854731),\n",
       " (99, 0.013395881486628408)]"
      ]
     },
     "execution_count": 78,
     "metadata": {},
     "output_type": "execute_result"
    }
   ],
   "source": [
    "##### Function check\n",
    "lsi = LsiRetrievalModel(doc_repr_2)\n",
    "lsi.train_model()\n",
    "\n",
    "# you can now get an LSI vector for a given query in the following way:\n",
    "lsi.vectorize_query(\"report\")\n",
    "##### "
   ]
  },
  {
   "cell_type": "markdown",
   "metadata": {
    "deletable": false,
    "editable": false,
    "nbgrader": {
     "cell_type": "markdown",
     "checksum": "7116bb9f576c5bb04934e1d59c51d729",
     "grade": false,
     "grade_id": "cell-4c5eeb557b4fca2f",
     "locked": true,
     "points": 5,
     "schema_version": 3,
     "solution": false,
     "task": true
    }
   },
   "source": [
    "\\#### Please do not change this. This cell is used for grading."
   ]
  },
  {
   "cell_type": "markdown",
   "metadata": {
    "deletable": false,
    "editable": false,
    "nbgrader": {
     "cell_type": "markdown",
     "checksum": "26e2ff3c413745e633d99f66c041d6b1",
     "grade": false,
     "grade_id": "cell-c4e50296cd17a555",
     "locked": true,
     "schema_version": 3,
     "solution": false,
     "task": false
    }
   },
   "source": [
    "---\n",
    "**Implementation (5 points):**\n",
    " Next, implement a basic ranking class for vector space retrieval (used for all semantic methods): "
   ]
  },
  {
   "cell_type": "code",
   "execution_count": 79,
   "metadata": {
    "deletable": false,
    "nbgrader": {
     "cell_type": "code",
     "checksum": "1a8389d2f0635c3405e2b0b27ed9f327",
     "grade": false,
     "grade_id": "cell-250515d288e80cdc",
     "locked": false,
     "schema_version": 3,
     "solution": true,
     "task": false
    }
   },
   "outputs": [],
   "source": [
    "# TODO: Implement this! (5 points)\n",
    "class DenseRetrievalRanker:\n",
    "    def __init__(self, vsrm, similarity_fn):\n",
    "        \"\"\"\n",
    "            vsrm: instance of `VectorSpaceRetrievalModel`\n",
    "            similarity_fn: function instance that takes in two vectors \n",
    "                            and returns a similarity score e.g cosine_sim defined earlier\n",
    "        \"\"\"\n",
    "        self.vsrm = vsrm\n",
    "        self.vectorized_documents = self.vsrm.vectorize_documents()\n",
    "        self.similarity_fn = similarity_fn\n",
    "    \n",
    "    def _compute_sim(self, query_vector):\n",
    "        \"\"\"\n",
    "            Compute the similarity of `query_vector` to documents in \n",
    "            `self.vectorized_documents` using `self.similarity_fn`\n",
    "            Returns a list of (doc_id, score) tuples\n",
    "        \"\"\"\n",
    "        tup=[]\n",
    "        for i in self.vectorized_documents:\n",
    "            \n",
    "            if np.array(self.vectorized_documents[i]).size==0 or  np.array(query_vector).size==0:\n",
    "                continue\n",
    "            \n",
    "            if np.array(self.vectorized_documents[i]).shape!=np.array(query_vector).shape:\n",
    "                continue\n",
    "            else:\n",
    "                scor=self.similarity_fn(self.vectorized_documents[i],query_vector)\n",
    "            tup.append((i,scor))\n",
    "        return tup\n",
    "    \n",
    "    def search(self, query):\n",
    "        scores = self._compute_sim(self.vsrm.vectorize_query(query))\n",
    "        scores.sort(key=lambda _:-_[1])\n",
    "        return scores"
   ]
  },
  {
   "cell_type": "code",
   "execution_count": 80,
   "metadata": {
    "deletable": false,
    "editable": false,
    "nbgrader": {
     "cell_type": "code",
     "checksum": "f237dd1ef6c1783c06797f4b514421f5",
     "grade": true,
     "grade_id": "cell-b73068b3e77a8e31",
     "locked": true,
     "points": 0,
     "schema_version": 3,
     "solution": false,
     "task": false
    }
   },
   "outputs": [
    {
     "data": {
      "text/plain": [
       "[('599', 0.7996754396396448),\n",
       " ('947', 0.5771939546205432),\n",
       " ('53', 0.4872903892416663),\n",
       " ('3160', 0.4418007561126397),\n",
       " ('1339', 0.4393032896006976)]"
      ]
     },
     "execution_count": 80,
     "metadata": {},
     "output_type": "execute_result"
    }
   ],
   "source": [
    "##### Function check\n",
    "drm_lsi = DenseRetrievalRanker(lsi, cosine_sim)\n",
    "drm_lsi.search(\"report\")[:5]\n",
    "##### "
   ]
  },
  {
   "cell_type": "markdown",
   "metadata": {
    "deletable": false,
    "editable": false,
    "nbgrader": {
     "cell_type": "markdown",
     "checksum": "5b3f19fdcaa585d263706d5a26038799",
     "grade": false,
     "grade_id": "cell-034c755a6502b868",
     "locked": true,
     "points": 5,
     "schema_version": 3,
     "solution": false,
     "task": true
    }
   },
   "source": [
    "\\#### Please do not change this. This cell is used for grading."
   ]
  },
  {
   "cell_type": "markdown",
   "metadata": {
    "deletable": false,
    "editable": false,
    "nbgrader": {
     "cell_type": "markdown",
     "checksum": "dcafef6e037033c46304b914f7c78bdf",
     "grade": false,
     "grade_id": "cell-d1df23f497d5ed6b",
     "locked": true,
     "schema_version": 3,
     "solution": false,
     "task": false
    }
   },
   "source": [
    "---\n",
    "Now, you can test your LSI model in the following cell: try finding queries which are lexically different to documents, but semantically similar - does LSI work well for these queries?!"
   ]
  },
  {
   "cell_type": "code",
   "execution_count": 81,
   "metadata": {
    "deletable": false,
    "editable": false,
    "nbgrader": {
     "cell_type": "code",
     "checksum": "11734bc7674377b340ad51297a8e8bb5",
     "grade": false,
     "grade_id": "cell-efd1d08dfc04ec3e",
     "locked": true,
     "schema_version": 3,
     "solution": false,
     "task": false
    }
   },
   "outputs": [
    {
     "data": {
      "application/vnd.jupyter.widget-view+json": {
       "model_id": "83ef391f2fd74b8f931ded2b3cdf4b2e",
       "version_major": 2,
       "version_minor": 0
      },
      "text/plain": [
       "Text(value='', description='Search Bar')"
      ]
     },
     "metadata": {},
     "output_type": "display_data"
    }
   ],
   "source": [
    "# test your LSI model\n",
    "search_fn = drm_lsi.search\n",
    "\n",
    "text = widgets.Text(description=\"Search Bar\", width=200)\n",
    "display(text)\n",
    "\n",
    "def make_results_2(query, search_fn):\n",
    "    results = []\n",
    "    for doc_id, score in search_fn(query):\n",
    "        highlight = highlight_text(docs_by_id[doc_id], query)\n",
    "        if len(highlight.strip()) == 0:\n",
    "            highlight = docs_by_id[doc_id]\n",
    "        results.append(ResultRow(doc_id, highlight, score))\n",
    "    return results\n",
    "\n",
    "def handle_submit_2(sender):\n",
    "    print(f\"Searching for: '{sender.value}' (SEARCH FN: {search_fn})\")\n",
    "    \n",
    "    results = make_results_2(sender.value, search_fn)\n",
    "    \n",
    "    # display only the top 5\n",
    "    results = results[:5]\n",
    "    \n",
    "    body = \"\"\n",
    "    for idx, r in enumerate(results):\n",
    "        body += f\"<li>Document #{r.doc_id}({r.score}): {r.snippet}</li>\"\n",
    "    display(HTML(f\"<ul>{body}</ul>\"))\n",
    "    \n",
    "\n",
    "text.on_submit(handle_submit_2)"
   ]
  },
  {
   "cell_type": "markdown",
   "metadata": {
    "deletable": false,
    "editable": false,
    "nbgrader": {
     "cell_type": "markdown",
     "checksum": "d074ce1ca48384cdda78742741c938be",
     "grade": false,
     "grade_id": "cell-3a86cef264d8f6cf",
     "locked": true,
     "schema_version": 3,
     "solution": false,
     "task": false
    }
   },
   "source": [
    "---\n",
    "## Section 7: Latent Dirichlet Allocation (LDA) (10 points) <a class=\"anchor\" id=\"lda\"></a>\n",
    "\n",
    "[Back to Part 2](#part2)\n",
    "\n",
    "The specifics of LDA is out of the scope of this assignment, but we will use the `gensim` implementation to perform search using LDA over our small document collection. The key thing to remember is that LDA, unlike LSI, outputs a topic **distribution**, not a vector. With that in mind, let's first define a similarity measure.\n"
   ]
  },
  {
   "cell_type": "markdown",
   "metadata": {
    "deletable": false,
    "editable": false,
    "nbgrader": {
     "cell_type": "markdown",
     "checksum": "db01092373b18f0c9dfed1bb17db4ad9",
     "grade": false,
     "grade_id": "cell-6b78ad22c2d60ba7",
     "locked": true,
     "schema_version": 3,
     "solution": false,
     "task": false
    }
   },
   "source": [
    "---\n",
    "### Section 7.1: Jenson-Shannon divergence (5 points) <a class=\"anchor\" id=\"js_sim\"></a>\n",
    "\n",
    "The Jenson-Shannon divergence is a symmetric and finite measure on two probability distributions (unlike the KL, which is neither). For identical distributions, the JSD is equal to 0, and since our code uses 0 as irrelevant and higher scores as relevant, we use `(1 - JSD)` as the score or 'similarity' in our setup\n",
    "\n",
    "**Note**: the JSD is bounded to \\[0,1\\] only if we use log base 2. So please ensure that you're using `np.log2` instead of `np.log`"
   ]
  },
  {
   "cell_type": "code",
   "execution_count": 82,
   "metadata": {
    "deletable": false,
    "nbgrader": {
     "cell_type": "code",
     "checksum": "a579e6cd7a24a3516bc9a84528b392d3",
     "grade": false,
     "grade_id": "cell-d2376a85a4841e98",
     "locked": false,
     "schema_version": 3,
     "solution": true,
     "task": false
    }
   },
   "outputs": [],
   "source": [
    "## TODO: Implement this! (5 points)\n",
    "def KL_divergence(p, q):\n",
    "    \"\"\" Compute KL divergence of two vectors, K(p || q).\"\"\"\n",
    "    return sum(p[i] * np.log2(p[i]/q[i]) for i in range(len(p)) if q[i] != 0 or q[i] != 0.0)\n",
    "\n",
    "def jenson_shannon_divergence(vec_1, vec_2, assert_prob=False):\n",
    "    \"\"\"\n",
    "        Computes the Jensen-Shannon divergence between two probability distributions. \n",
    "        NOTE: DO NOT RETURN 1 - JSD here, that is handled by the next function which is already implemented! \n",
    "        The inputs are *gensim* vectors - same as the vectors for the cosine_sim function\n",
    "        assert_prob is a flag that checks if the inputs are proper probability distributions \n",
    "            i.e they sum to 1 and are positive - use this to check your inputs if needed. \n",
    "                (This is optional to implement, but recommended - \n",
    "                you can the default to False to save a few ms off the runtime)\n",
    "    \"\"\"\n",
    "    \n",
    "    if not vec_1 or not vec_2:\n",
    "        return 0\n",
    "    vec_1=np.array(vec_1)[:,1]\n",
    "    vec_2=np.array(vec_2)[:,1]\n",
    "    if vec_1.size!=vec_2.size:\n",
    "        return 0\n",
    "    m = 0.5 * (vec_1 + vec_2)\n",
    "    return 0.5 * KL_divergence(vec_1, m) + 0.5 * KL_divergence(vec_2, m)\n",
    "    \n",
    "\n",
    "def jenson_shannon_sim(vec_1, vec_2, assert_prob=False):\n",
    "    return 1 - jenson_shannon_divergence(vec_1, vec_2)"
   ]
  },
  {
   "cell_type": "code",
   "execution_count": 83,
   "metadata": {
    "deletable": false,
    "editable": false,
    "nbgrader": {
     "cell_type": "code",
     "checksum": "ab340aa941c9fb5c89b3fd0a9139e246",
     "grade": true,
     "grade_id": "cell-487c6d2933f38053",
     "locked": true,
     "points": 5,
     "schema_version": 3,
     "solution": false,
     "task": false
    }
   },
   "outputs": [
    {
     "data": {
      "text/plain": [
       "0.9251064410358459"
      ]
     },
     "execution_count": 83,
     "metadata": {},
     "output_type": "execute_result"
    }
   ],
   "source": [
    "##### Function check\n",
    "vec_1 = [(1, 0.3), (2, 0.4), (3, 0.3)]\n",
    "vec_2 = [(1, 0.1), (2, 0.7), (3, 0.2)]\n",
    "jenson_shannon_sim(vec_1, vec_2, assert_prob=True)\n",
    "##### "
   ]
  },
  {
   "cell_type": "markdown",
   "metadata": {
    "deletable": false,
    "editable": false,
    "nbgrader": {
     "cell_type": "markdown",
     "checksum": "0a1583a5f23e3390038331cce67f5d8e",
     "grade": false,
     "grade_id": "cell-4535cc67a50b80fa",
     "locked": true,
     "schema_version": 3,
     "solution": false,
     "task": false
    }
   },
   "source": [
    "---\n",
    "### Section 7.2: LDA retrieval (5 points) <a class=\"anchor\" id=\"lda_ret\"></a>\n",
    "\n",
    "Implement the `train_model` method in the following class (note that this is only one line of code in `gensim`!). Ensure that the parameters defined in the `__init__` method are not changed, and are *used in the `train_method` function*. You do not need to set this. Normally, the hyperaparameter space will be searched using grid search / other methods. Note that training the LDA model might take some time\n",
    "\n",
    "The last two lines of code train an LDA model on the list of documents which have been stemmed, lower-cased and have stopwords removed. "
   ]
  },
  {
   "cell_type": "code",
   "execution_count": 84,
   "metadata": {
    "deletable": false,
    "nbgrader": {
     "cell_type": "code",
     "checksum": "27de8e4fa85536bb396b73bfc51b3f50",
     "grade": false,
     "grade_id": "cell-021a48dff4a8bb91",
     "locked": false,
     "schema_version": 3,
     "solution": true,
     "task": false
    }
   },
   "outputs": [],
   "source": [
    "# TODO: Implement this! (5 points)\n",
    "class LdaRetrievalModel(VectorSpaceRetrievalModel):\n",
    "    def __init__(self, doc_repr):\n",
    "        super().__init__(doc_repr)\n",
    "        \n",
    "        # use these parameters in the train_model method\n",
    "        self.num_topics = 100\n",
    "        self.chunksize = 2000\n",
    "        self.passes = 20\n",
    "        self.iterations = 400\n",
    "        self.eval_every = 10\n",
    "        # this is need to get full vectors\n",
    "        self.minimum_probability=0.0\n",
    "        self.alpha='auto'\n",
    "        self.eta='auto'\n",
    "    \n",
    "    \n",
    "    def train_model(self):\n",
    "        self.model=LdaModel(self.corpus, num_topics=self.num_topics, chunksize=self.chunksize, passes=self.passes, \n",
    "                           iterations=self.iterations, eval_every=self.eval_every, minimum_probability=self.minimum_probability,\n",
    "                           alpha=self.alpha, eta=self.eta)"
   ]
  },
  {
   "cell_type": "code",
   "execution_count": 85,
   "metadata": {
    "deletable": false,
    "editable": false,
    "nbgrader": {
     "cell_type": "code",
     "checksum": "be70fcb8098d0b6ce64cd2a10e6a05b7",
     "grade": true,
     "grade_id": "cell-86750b715f0345fd",
     "locked": true,
     "points": 0,
     "schema_version": 3,
     "solution": false,
     "task": false
    }
   },
   "outputs": [
    {
     "name": "stderr",
     "output_type": "stream",
     "text": [
      "2022-02-26 16:26:23,100 : INFO : adding document #0 to Dictionary(0 unique tokens: [])\n",
      "2022-02-26 16:26:23,192 : INFO : built Dictionary(5937 unique tokens: ['-', 'algebra', 'intern', 'languag', 'preliminari']...) from 3204 documents (total 115969 corpus positions)\n",
      "2022-02-26 16:26:23,192 : INFO : Dictionary lifecycle event {'msg': \"built Dictionary(5937 unique tokens: ['-', 'algebra', 'intern', 'languag', 'preliminari']...) from 3204 documents (total 115969 corpus positions)\", 'datetime': '2022-02-26T16:26:23.192755', 'gensim': '4.1.2', 'python': '3.9.7 (default, Sep 16 2021, 16:59:28) [MSC v.1916 64 bit (AMD64)]', 'platform': 'Windows-10-10.0.19042-SP0', 'event': 'created'}\n",
      "2022-02-26 16:26:23,198 : INFO : discarding 4740 tokens: [('repeat', 8), ('glossari', 7), ('inspect', 8), ('uncol', 2), ('rung', 9), ('secant', 2), ('.', 1603), ('acceler', 6), ('diverg', 3), ('induc', 9)]...\n",
      "2022-02-26 16:26:23,198 : INFO : keeping 1197 tokens which were in no less than 10 and no more than 1602 (=50.0%) documents\n",
      "2022-02-26 16:26:23,201 : INFO : resulting dictionary: Dictionary(1197 unique tokens: ['-', 'algebra', 'intern', 'languag', 'preliminari']...)\n",
      "2022-02-26 16:26:23,252 : WARNING : no word id mapping provided; initializing from corpus, assuming identity\n",
      "2022-02-26 16:26:23,258 : INFO : using autotuned alpha, starting with [0.01, 0.01, 0.01, 0.01, 0.01, 0.01, 0.01, 0.01, 0.01, 0.01, 0.01, 0.01, 0.01, 0.01, 0.01, 0.01, 0.01, 0.01, 0.01, 0.01, 0.01, 0.01, 0.01, 0.01, 0.01, 0.01, 0.01, 0.01, 0.01, 0.01, 0.01, 0.01, 0.01, 0.01, 0.01, 0.01, 0.01, 0.01, 0.01, 0.01, 0.01, 0.01, 0.01, 0.01, 0.01, 0.01, 0.01, 0.01, 0.01, 0.01, 0.01, 0.01, 0.01, 0.01, 0.01, 0.01, 0.01, 0.01, 0.01, 0.01, 0.01, 0.01, 0.01, 0.01, 0.01, 0.01, 0.01, 0.01, 0.01, 0.01, 0.01, 0.01, 0.01, 0.01, 0.01, 0.01, 0.01, 0.01, 0.01, 0.01, 0.01, 0.01, 0.01, 0.01, 0.01, 0.01, 0.01, 0.01, 0.01, 0.01, 0.01, 0.01, 0.01, 0.01, 0.01, 0.01, 0.01, 0.01, 0.01, 0.01]\n",
      "2022-02-26 16:26:23,258 : INFO : using serial LDA version on this node\n",
      "2022-02-26 16:26:23,270 : INFO : running online (multi-pass) LDA training, 100 topics, 20 passes over the supplied corpus of 3204 documents, updating model once every 2000 documents, evaluating perplexity every 3204 documents, iterating 400x with a convergence threshold of 0.001000\n",
      "2022-02-26 16:26:23,271 : INFO : PROGRESS: pass 0, at document #2000/3204\n",
      "2022-02-26 16:26:25,125 : INFO : optimized alpha [0.009824198, 0.009829706, 0.00983425, 0.009840161, 0.009772701, 0.009808985, 0.00983396, 0.009829208, 0.0099827675, 0.009798317, 0.009876985, 0.009777693, 0.009870991, 0.009808535, 0.009835323, 0.009793272, 0.009971276, 0.009767476, 0.009772543, 0.009834359, 0.009803843, 0.009808945, 0.009845125, 0.009813794, 0.009876349, 0.009824485, 0.009860385, 0.009819232, 0.009860239, 0.00980354, 0.009850484, 0.009870672, 0.009793326, 0.009855469, 0.009798324, 0.009788138, 0.0098138405, 0.009794505, 0.009824202, 0.009777832, 0.009782959, 0.009834436, 0.009809106, 0.009897566, 0.009803552, 0.009928744, 0.009903124, 0.009850154, 0.009793341, 0.009850443, 0.009828933, 0.009924017, 0.00979325, 0.009907018, 0.009788007, 0.009808934, 0.009818714, 0.0097934175, 0.009777557, 0.009849966, 0.009783127, 0.009803916, 0.009866247, 0.009819287, 0.009974801, 0.0097983815, 0.009803492, 0.009793355, 0.009793284, 0.00979843, 0.009813549, 0.009818673, 0.009834804, 0.009803892, 0.009814198, 0.0098609645, 0.009782845, 0.009808491, 0.009813906, 0.009809115, 0.009850017, 0.010209535, 0.0097726155, 0.009793292, 0.0097829485, 0.009782972, 0.009849859, 0.009782815, 0.009814131, 0.009818914, 0.00980879, 0.009798545, 0.009819508, 0.0097777285, 0.009819031, 0.009793249, 0.009803715, 0.009834828, 0.009875701, 0.009819341]\n",
      "2022-02-26 16:26:25,131 : INFO : merging changes from 2000 documents into a model of 3204 documents\n",
      "2022-02-26 16:26:25,170 : INFO : topic #17 (0.010): 0.044*\"398\" + 0.044*\"296\" + 0.044*\"50\" + 0.044*\"3\" + 0.044*\"49\" + 0.029*\"397\" + 0.029*\"77\" + 0.029*\"153\" + 0.029*\"176\" + 0.029*\"27\"\n",
      "2022-02-26 16:26:25,171 : INFO : topic #82 (0.010): 0.056*\"214\" + 0.056*\"73\" + 0.042*\"318\" + 0.042*\"50\" + 0.042*\"1005\" + 0.028*\"69\" + 0.028*\"142\" + 0.028*\"999\" + 0.028*\"700\" + 0.028*\"184\"\n",
      "2022-02-26 16:26:25,171 : INFO : topic #45 (0.010): 0.088*\"50\" + 0.031*\"13\" + 0.026*\"0\" + 0.022*\"49\" + 0.022*\"34\" + 0.016*\"6\" + 0.013*\"35\" + 0.011*\"73\" + 0.010*\"174\" + 0.010*\"146\"\n",
      "2022-02-26 16:26:25,172 : INFO : topic #8 (0.010): 0.062*\"50\" + 0.032*\"34\" + 0.027*\"35\" + 0.022*\"13\" + 0.020*\"0\" + 0.018*\"49\" + 0.015*\"47\" + 0.013*\"6\" + 0.011*\"29\" + 0.011*\"176\"\n",
      "2022-02-26 16:26:25,172 : INFO : topic #81 (0.010): 0.076*\"50\" + 0.027*\"0\" + 0.019*\"3\" + 0.018*\"6\" + 0.017*\"13\" + 0.017*\"49\" + 0.011*\"73\" + 0.010*\"176\" + 0.010*\"53\" + 0.010*\"34\"\n",
      "2022-02-26 16:26:25,173 : INFO : topic diff=83.365036, rho=1.000000\n",
      "2022-02-26 16:26:26,266 : INFO : -7.267 per-word bound, 154.1 perplexity estimate based on a held-out corpus of 1204 documents with 49783 words\n",
      "2022-02-26 16:26:26,267 : INFO : PROGRESS: pass 0, at document #3204/3204\n",
      "2022-02-26 16:26:27,082 : INFO : optimized alpha [0.009986811, 0.009925177, 0.00983272, 0.010291972, 0.009859796, 0.009956466, 0.010097652, 0.0098574925, 0.010227593, 0.009698765, 0.010168237, 0.009812248, 0.009857077, 0.009737855, 0.009977754, 0.0101164775, 0.010451536, 0.009795733, 0.009713547, 0.009786061, 0.010051883, 0.0098670265, 0.01009465, 0.009936431, 0.010090794, 0.009972815, 0.009776295, 0.009966408, 0.009864963, 0.010092338, 0.010080764, 0.00988091, 0.009916058, 0.010109498, 0.009704025, 0.009876, 0.0098069, 0.009968375, 0.009899949, 0.009754113, 0.009812142, 0.009862454, 0.01024045, 0.010116882, 0.009855722, 0.01006635, 0.010184124, 0.00986756, 0.00982703, 0.010103723, 0.00983944, 0.010342558, 0.0098282555, 0.00992388, 0.009723135, 0.010067682, 0.009758752, 0.0099750925, 0.009642781, 0.009979624, 0.009853685, 0.010117275, 0.010019267, 0.009925915, 0.01012372, 0.010103769, 0.009867651, 0.009959116, 0.009805105, 0.009751851, 0.009870895, 0.009811023, 0.00998229, 0.009839954, 0.010008424, 0.0100568505, 0.009736087, 0.009877479, 0.010025406, 0.010009494, 0.009944193, 0.011041265, 0.009865137, 0.009845638, 0.009975589, 0.009805873, 0.009801613, 0.009862697, 0.0099713765, 0.009846758, 0.009784364, 0.009969969, 0.009990536, 0.009701328, 0.009865099, 0.010158013, 0.010127387, 0.010090551, 0.010159673, 0.009948978]\n",
      "2022-02-26 16:26:27,089 : INFO : merging changes from 1204 documents into a model of 3204 documents\n",
      "2022-02-26 16:26:27,100 : INFO : topic #34 (0.010): 0.089*\"34\" + 0.073*\"35\" + 0.065*\"83\" + 0.063*\"885\" + 0.054*\"830\" + 0.052*\"273\" + 0.041*\"75\" + 0.030*\"13\" + 0.026*\"87\" + 0.022*\"670\"\n",
      "2022-02-26 16:26:27,101 : INFO : topic #58 (0.010): 0.122*\"311\" + 0.117*\"83\" + 0.116*\"34\" + 0.099*\"35\" + 0.077*\"1057\" + 0.077*\"429\" + 0.064*\"611\" + 0.060*\"1093\" + 0.043*\"361\" + 0.043*\"630\"\n",
      "2022-02-26 16:26:27,101 : INFO : topic #51 (0.010): 0.088*\"50\" + 0.033*\"0\" + 0.022*\"49\" + 0.022*\"603\" + 0.020*\"458\" + 0.020*\"115\" + 0.017*\"13\" + 0.014*\"582\" + 0.013*\"3\" + 0.012*\"34\"\n",
      "2022-02-26 16:26:27,101 : INFO : topic #16 (0.010): 0.084*\"50\" + 0.055*\"49\" + 0.044*\"0\" + 0.016*\"6\" + 0.016*\"165\" + 0.015*\"34\" + 0.015*\"13\" + 0.014*\"289\" + 0.014*\"35\" + 0.013*\"146\"\n",
      "2022-02-26 16:26:27,102 : INFO : topic #81 (0.011): 0.083*\"50\" + 0.029*\"0\" + 0.021*\"13\" + 0.019*\"3\" + 0.016*\"49\" + 0.012*\"6\" + 0.011*\"176\" + 0.009*\"73\" + 0.009*\"165\" + 0.008*\"53\"\n",
      "2022-02-26 16:26:27,103 : INFO : topic diff=0.715393, rho=0.707107\n",
      "2022-02-26 16:26:27,111 : INFO : PROGRESS: pass 1, at document #2000/3204\n",
      "2022-02-26 16:26:27,944 : INFO : optimized alpha [0.010028905, 0.0098467115, 0.009789819, 0.010177088, 0.009784437, 0.009892861, 0.010753309, 0.009793131, 0.010128566, 0.009743993, 0.010114575, 0.00982131, 0.009816094, 0.009759058, 0.009971016, 0.01014816, 0.010462388, 0.009862701, 0.009742183, 0.009788169, 0.009991586, 0.009794738, 0.01000102, 0.009811951, 0.009997745, 0.009922677, 0.009718913, 0.00991576, 0.00977683, 0.010095735, 0.010011877, 0.009779268, 0.009882065, 0.010020677, 0.009807912, 0.009835193, 0.009707031, 0.010006809, 0.00983738, 0.009795243, 0.009837314, 0.009808326, 0.010206147, 0.010026127, 0.009809669, 0.009995754, 0.010184255, 0.009876696, 0.009781396, 0.010050717, 0.01022806, 0.010291267, 0.009947932, 0.009877053, 0.009744147, 0.010009205, 0.009748444, 0.009918776, 0.009579951, 0.009939807, 0.009836597, 0.010047475, 0.009972959, 0.009839163, 0.010046606, 0.010047543, 0.009852746, 0.009996781, 0.009813129, 0.009734041, 0.009824183, 0.010136345, 0.009963981, 0.0098586315, 0.009959386, 0.009994302, 0.009847765, 0.00990435, 0.01002967, 0.009899445, 0.009867478, 0.011026029, 0.009868378, 0.0098282555, 0.0099722445, 0.0098440815, 0.009712384, 0.009818741, 0.0099041965, 0.009829498, 0.009744798, 0.009951336, 0.0099932, 0.009691922, 0.009838, 0.010221532, 0.010122025, 0.010122329, 0.010097117, 0.009880005]\n"
     ]
    },
    {
     "name": "stderr",
     "output_type": "stream",
     "text": [
      "2022-02-26 16:26:27,951 : INFO : merging changes from 2000 documents into a model of 3204 documents\n",
      "2022-02-26 16:26:27,962 : INFO : topic #58 (0.010): 0.107*\"34\" + 0.107*\"311\" + 0.100*\"83\" + 0.093*\"1093\" + 0.090*\"1057\" + 0.075*\"611\" + 0.058*\"35\" + 0.057*\"874\" + 0.053*\"630\" + 0.045*\"429\"\n",
      "2022-02-26 16:26:27,963 : INFO : topic #36 (0.010): 0.047*\"50\" + 0.046*\"106\" + 0.044*\"454\" + 0.035*\"1153\" + 0.035*\"57\" + 0.034*\"595\" + 0.024*\"283\" + 0.020*\"299\" + 0.018*\"518\" + 0.017*\"984\"\n",
      "2022-02-26 16:26:27,963 : INFO : topic #16 (0.010): 0.086*\"50\" + 0.061*\"49\" + 0.045*\"0\" + 0.017*\"13\" + 0.016*\"6\" + 0.016*\"146\" + 0.014*\"518\" + 0.014*\"34\" + 0.014*\"229\" + 0.013*\"165\"\n",
      "2022-02-26 16:26:27,964 : INFO : topic #6 (0.011): 0.213*\"34\" + 0.205*\"83\" + 0.141*\"35\" + 0.061*\"611\" + 0.043*\"1015\" + 0.027*\"1182\" + 0.025*\"0\" + 0.024*\"1192\" + 0.020*\"273\" + 0.018*\"12\"\n",
      "2022-02-26 16:26:27,965 : INFO : topic #81 (0.011): 0.086*\"50\" + 0.028*\"0\" + 0.023*\"3\" + 0.021*\"13\" + 0.016*\"49\" + 0.012*\"176\" + 0.012*\"6\" + 0.010*\"73\" + 0.009*\"53\" + 0.009*\"165\"\n",
      "2022-02-26 16:26:27,965 : INFO : topic diff=0.282787, rho=0.526900\n",
      "2022-02-26 16:26:28,859 : INFO : -6.901 per-word bound, 119.5 perplexity estimate based on a held-out corpus of 1204 documents with 49783 words\n",
      "2022-02-26 16:26:28,859 : INFO : PROGRESS: pass 1, at document #3204/3204\n",
      "2022-02-26 16:26:29,597 : INFO : optimized alpha [0.01010531, 0.010006888, 0.009821798, 0.010483538, 0.009893819, 0.010043324, 0.011281339, 0.009971937, 0.010207068, 0.00974657, 0.010310549, 0.010030308, 0.009859993, 0.00979978, 0.010108165, 0.010441145, 0.010768536, 0.009997114, 0.009812756, 0.009845666, 0.010168658, 0.009895957, 0.010206392, 0.009930709, 0.010091032, 0.010069347, 0.009674165, 0.01005637, 0.009844035, 0.010443448, 0.010233024, 0.009846391, 0.010035274, 0.010175509, 0.009842814, 0.010011144, 0.0097441, 0.010251589, 0.009969729, 0.009895399, 0.009964018, 0.009970259, 0.010552917, 0.010131176, 0.009902238, 0.0100672515, 0.010367735, 0.009930028, 0.009925022, 0.010200273, 0.01044819, 0.010497173, 0.010061545, 0.0098690465, 0.009789346, 0.010234444, 0.0097586885, 0.010054202, 0.009546382, 0.010037102, 0.009959395, 0.010306312, 0.010105198, 0.009998879, 0.010036577, 0.010290784, 0.009989094, 0.010298815, 0.009940654, 0.00979306, 0.0099328, 0.010224528, 0.010171433, 0.009982584, 0.01012642, 0.010127123, 0.0100221215, 0.0100518, 0.010228249, 0.0100230565, 0.009960108, 0.01141889, 0.010055975, 0.009968527, 0.010217824, 0.00996626, 0.0096978005, 0.009914824, 0.010097189, 0.009968472, 0.009832667, 0.010150851, 0.010116455, 0.009776106, 0.009930525, 0.010681287, 0.010425207, 0.010473213, 0.010346417, 0.010021492]\n",
      "2022-02-26 16:26:29,605 : INFO : merging changes from 1204 documents into a model of 3204 documents\n",
      "2022-02-26 16:26:29,615 : INFO : topic #58 (0.010): 0.197*\"311\" + 0.108*\"1093\" + 0.103*\"34\" + 0.102*\"83\" + 0.099*\"1057\" + 0.070*\"611\" + 0.069*\"35\" + 0.051*\"874\" + 0.040*\"361\" + 0.037*\"630\"\n",
      "2022-02-26 16:26:29,616 : INFO : topic #26 (0.010): 0.077*\"0\" + 0.045*\"1071\" + 0.037*\"10\" + 0.036*\"411\" + 0.033*\"120\" + 0.029*\"107\" + 0.028*\"15\" + 0.025*\"250\" + 0.024*\"92\" + 0.021*\"50\"\n",
      "2022-02-26 16:26:29,616 : INFO : topic #16 (0.011): 0.091*\"50\" + 0.072*\"49\" + 0.044*\"0\" + 0.021*\"518\" + 0.020*\"289\" + 0.020*\"165\" + 0.017*\"229\" + 0.017*\"6\" + 0.016*\"146\" + 0.013*\"13\"\n",
      "2022-02-26 16:26:29,617 : INFO : topic #6 (0.011): 0.222*\"34\" + 0.216*\"83\" + 0.162*\"35\" + 0.060*\"611\" + 0.048*\"1182\" + 0.042*\"1192\" + 0.026*\"0\" + 0.018*\"1015\" + 0.017*\"12\" + 0.014*\"254\"\n",
      "2022-02-26 16:26:29,617 : INFO : topic #81 (0.011): 0.090*\"50\" + 0.030*\"0\" + 0.023*\"3\" + 0.023*\"13\" + 0.016*\"49\" + 0.013*\"165\" + 0.010*\"73\" + 0.010*\"6\" + 0.010*\"176\" + 0.009*\"53\"\n",
      "2022-02-26 16:26:29,618 : INFO : topic diff=0.404626, rho=0.526900\n",
      "2022-02-26 16:26:29,626 : INFO : PROGRESS: pass 2, at document #2000/3204\n",
      "2022-02-26 16:26:30,487 : INFO : optimized alpha [0.010202112, 0.009958131, 0.009792237, 0.010386091, 0.009862547, 0.010010425, 0.011800087, 0.009946758, 0.010118892, 0.00981024, 0.010268931, 0.010072238, 0.009843408, 0.009848917, 0.01013039, 0.010461787, 0.010839407, 0.010140708, 0.0099075055, 0.009910443, 0.010104743, 0.009851343, 0.010117667, 0.009845534, 0.010026679, 0.010034054, 0.009642391, 0.0100421095, 0.009779323, 0.010502076, 0.010211327, 0.009767861, 0.010021036, 0.010106525, 0.010027781, 0.010025905, 0.009676816, 0.010320099, 0.009956784, 0.009994706, 0.010037614, 0.009966357, 0.010538409, 0.0100446325, 0.009885257, 0.010020417, 0.010420548, 0.00995258, 0.0098981615, 0.010169607, 0.0110255, 0.010452785, 0.010170576, 0.00985762, 0.009845169, 0.010185711, 0.009773485, 0.010013516, 0.009525276, 0.010047339, 0.009976693, 0.010269018, 0.0100902235, 0.009952648, 0.009971354, 0.010238979, 0.009958975, 0.010383739, 0.010022173, 0.009842968, 0.009905538, 0.010699754, 0.010184902, 0.010081657, 0.010096335, 0.010071686, 0.010152152, 0.010100453, 0.010233, 0.009943387, 0.009916706, 0.011378365, 0.010131135, 0.009983278, 0.0102224825, 0.010083947, 0.009645229, 0.009925275, 0.010058134, 0.009997145, 0.009862887, 0.010171329, 0.010132622, 0.009823208, 0.00995352, 0.0107542565, 0.010449583, 0.0105433855, 0.010286227, 0.009991276]\n",
      "2022-02-26 16:26:30,494 : INFO : merging changes from 2000 documents into a model of 3204 documents\n",
      "2022-02-26 16:26:30,505 : INFO : topic #58 (0.010): 0.177*\"311\" + 0.119*\"1093\" + 0.117*\"1057\" + 0.094*\"34\" + 0.092*\"83\" + 0.064*\"611\" + 0.056*\"874\" + 0.046*\"35\" + 0.046*\"361\" + 0.046*\"630\"\n",
      "2022-02-26 16:26:30,505 : INFO : topic #86 (0.010): 0.070*\"21\" + 0.040*\"50\" + 0.037*\"6\" + 0.029*\"238\" + 0.026*\"27\" + 0.026*\"359\" + 0.020*\"35\" + 0.020*\"0\" + 0.020*\"146\" + 0.020*\"34\"\n",
      "2022-02-26 16:26:30,506 : INFO : topic #50 (0.011): 0.213*\"35\" + 0.211*\"34\" + 0.188*\"83\" + 0.035*\"19\" + 0.034*\"69\" + 0.033*\"12\" + 0.033*\"293\" + 0.023*\"379\" + 0.023*\"516\" + 0.020*\"392\"\n",
      "2022-02-26 16:26:30,506 : INFO : topic #81 (0.011): 0.091*\"50\" + 0.030*\"0\" + 0.026*\"3\" + 0.023*\"13\" + 0.016*\"49\" + 0.012*\"165\" + 0.011*\"176\" + 0.011*\"73\" + 0.010*\"6\" + 0.010*\"1008\"\n",
      "2022-02-26 16:26:30,507 : INFO : topic #6 (0.012): 0.231*\"34\" + 0.223*\"83\" + 0.180*\"35\" + 0.046*\"611\" + 0.035*\"1182\" + 0.027*\"1192\" + 0.023*\"1015\" + 0.022*\"0\" + 0.017*\"254\" + 0.016*\"12\"\n",
      "2022-02-26 16:26:30,508 : INFO : topic diff=0.357462, rho=0.466151\n",
      "2022-02-26 16:26:31,406 : INFO : -6.789 per-word bound, 110.5 perplexity estimate based on a held-out corpus of 1204 documents with 49783 words\n",
      "2022-02-26 16:26:31,406 : INFO : PROGRESS: pass 2, at document #3204/3204\n",
      "2022-02-26 16:26:32,185 : INFO : optimized alpha [0.010281297, 0.010159239, 0.0098867, 0.010627661, 0.009979466, 0.010160439, 0.012350045, 0.010164536, 0.010197469, 0.009851126, 0.010427562, 0.0103024, 0.00991392, 0.009923538, 0.010264271, 0.010745319, 0.011123734, 0.01028329, 0.010012371, 0.010011654, 0.010262563, 0.009964802, 0.010333205, 0.0099594, 0.010102331, 0.010172724, 0.009639647, 0.010155341, 0.009866868, 0.010903064, 0.01044871, 0.009874765, 0.010165551, 0.010228475, 0.010096102, 0.010261744, 0.009749243, 0.010599759, 0.010129788, 0.010129914, 0.010193284, 0.010138109, 0.010846713, 0.010114968, 0.009979644, 0.0101043135, 0.010612389, 0.009992425, 0.010049366, 0.01032663, 0.011330273, 0.010615219, 0.01029484, 0.009848545, 0.009935065, 0.010394712, 0.009814033, 0.0101223495, 0.009553578, 0.010161461, 0.010089713, 0.010521005, 0.010211984, 0.0101186745, 0.00996535, 0.01043212, 0.010103902, 0.01070976, 0.010210029, 0.009933914, 0.010013929, 0.010823542, 0.010386273, 0.0102195395, 0.010276718, 0.01022157, 0.0103271315, 0.010282534, 0.010438266, 0.010065618, 0.010042218, 0.011676872, 0.010350177, 0.010190107, 0.010478139, 0.010211601, 0.009672734, 0.009999597, 0.0102616735, 0.010155739, 0.0100067975, 0.010353941, 0.010238438, 0.009951665, 0.010094197, 0.011232323, 0.010755153, 0.010894511, 0.01049707, 0.010204011]\n",
      "2022-02-26 16:26:32,193 : INFO : merging changes from 1204 documents into a model of 3204 documents\n",
      "2022-02-26 16:26:32,204 : INFO : topic #58 (0.010): 0.249*\"311\" + 0.131*\"1093\" + 0.116*\"1057\" + 0.095*\"83\" + 0.082*\"34\" + 0.061*\"611\" + 0.048*\"35\" + 0.047*\"874\" + 0.041*\"361\" + 0.033*\"630\"\n",
      "2022-02-26 16:26:32,204 : INFO : topic #86 (0.010): 0.083*\"21\" + 0.044*\"50\" + 0.032*\"238\" + 0.032*\"6\" + 0.027*\"209\" + 0.027*\"628\" + 0.025*\"688\" + 0.024*\"359\" + 0.022*\"27\" + 0.022*\"64\"\n"
     ]
    },
    {
     "name": "stderr",
     "output_type": "stream",
     "text": [
      "2022-02-26 16:26:32,205 : INFO : topic #50 (0.011): 0.224*\"35\" + 0.221*\"34\" + 0.181*\"83\" + 0.038*\"19\" + 0.034*\"69\" + 0.029*\"516\" + 0.029*\"12\" + 0.026*\"379\" + 0.025*\"851\" + 0.023*\"293\"\n",
      "2022-02-26 16:26:32,206 : INFO : topic #81 (0.012): 0.094*\"50\" + 0.030*\"0\" + 0.026*\"3\" + 0.024*\"13\" + 0.016*\"165\" + 0.016*\"49\" + 0.011*\"73\" + 0.011*\"1008\" + 0.010*\"6\" + 0.009*\"87\"\n",
      "2022-02-26 16:26:32,206 : INFO : topic #6 (0.012): 0.236*\"34\" + 0.229*\"83\" + 0.188*\"35\" + 0.049*\"1182\" + 0.049*\"611\" + 0.040*\"1192\" + 0.024*\"0\" + 0.016*\"12\" + 0.013*\"254\" + 0.011*\"1015\"\n",
      "2022-02-26 16:26:32,207 : INFO : topic diff=0.490811, rho=0.466151\n",
      "2022-02-26 16:26:32,216 : INFO : PROGRESS: pass 3, at document #2000/3204\n",
      "2022-02-26 16:26:33,036 : INFO : optimized alpha [0.010411242, 0.010111629, 0.00987282, 0.0105354, 0.009953221, 0.01014768, 0.012887309, 0.010185548, 0.010108037, 0.009919912, 0.010395967, 0.010365684, 0.0099162385, 0.009980967, 0.010306146, 0.010778003, 0.011199543, 0.010419319, 0.010128574, 0.01011953, 0.010204318, 0.00992667, 0.010253871, 0.009910518, 0.01005167, 0.010140515, 0.009645433, 0.010161886, 0.009834347, 0.010986551, 0.010438446, 0.009823353, 0.01014355, 0.010181721, 0.010323989, 0.010326219, 0.009714363, 0.010701212, 0.010147742, 0.010259309, 0.010275318, 0.010142525, 0.010842436, 0.010046845, 0.009972977, 0.010073347, 0.010675884, 0.010007367, 0.010028749, 0.0103026945, 0.011933629, 0.010592433, 0.010409853, 0.00984391, 0.010021726, 0.010353766, 0.009823987, 0.010096511, 0.009561868, 0.010188126, 0.010146134, 0.010485251, 0.010222529, 0.010106297, 0.0099196015, 0.010408575, 0.010089116, 0.0108295595, 0.010327519, 0.010005015, 0.010008405, 0.011333722, 0.010426335, 0.010334227, 0.010266024, 0.010195006, 0.010476701, 0.01035009, 0.0104391435, 0.010002565, 0.010030636, 0.011637079, 0.010507999, 0.01023913, 0.010503081, 0.010371275, 0.009639281, 0.010037117, 0.010244627, 0.010224535, 0.010110621, 0.010387357, 0.010268549, 0.01002601, 0.0101405615, 0.011321989, 0.010809783, 0.011003385, 0.010452346, 0.010216856]\n",
      "2022-02-26 16:26:33,043 : INFO : merging changes from 2000 documents into a model of 3204 documents\n",
      "2022-02-26 16:26:33,054 : INFO : topic #58 (0.010): 0.246*\"311\" + 0.140*\"1093\" + 0.127*\"1057\" + 0.085*\"83\" + 0.072*\"34\" + 0.051*\"874\" + 0.050*\"611\" + 0.044*\"361\" + 0.037*\"375\" + 0.037*\"630\"\n",
      "2022-02-26 16:26:33,055 : INFO : topic #86 (0.010): 0.075*\"21\" + 0.041*\"50\" + 0.038*\"6\" + 0.030*\"209\" + 0.029*\"359\" + 0.027*\"27\" + 0.027*\"238\" + 0.026*\"688\" + 0.021*\"146\" + 0.021*\"628\"\n",
      "2022-02-26 16:26:33,055 : INFO : topic #81 (0.012): 0.095*\"50\" + 0.030*\"0\" + 0.029*\"3\" + 0.024*\"13\" + 0.015*\"49\" + 0.015*\"165\" + 0.012*\"1008\" + 0.011*\"73\" + 0.010*\"87\" + 0.010*\"53\"\n",
      "2022-02-26 16:26:33,056 : INFO : topic #50 (0.012): 0.231*\"35\" + 0.230*\"34\" + 0.187*\"83\" + 0.042*\"19\" + 0.035*\"69\" + 0.032*\"293\" + 0.031*\"12\" + 0.023*\"516\" + 0.022*\"379\" + 0.019*\"392\"\n",
      "2022-02-26 16:26:33,056 : INFO : topic #6 (0.013): 0.244*\"34\" + 0.233*\"83\" + 0.204*\"35\" + 0.039*\"1182\" + 0.035*\"611\" + 0.029*\"1192\" + 0.021*\"0\" + 0.017*\"12\" + 0.016*\"254\" + 0.012*\"386\"\n",
      "2022-02-26 16:26:33,057 : INFO : topic diff=0.491960, rho=0.422502\n",
      "2022-02-26 16:26:33,921 : INFO : -6.709 per-word bound, 104.6 perplexity estimate based on a held-out corpus of 1204 documents with 49783 words\n",
      "2022-02-26 16:26:33,922 : INFO : PROGRESS: pass 3, at document #3204/3204\n",
      "2022-02-26 16:26:34,699 : INFO : optimized alpha [0.010486376, 0.010320661, 0.009983884, 0.010760088, 0.010067164, 0.0103138015, 0.013495656, 0.010417729, 0.01018805, 0.009971106, 0.010563104, 0.010588344, 0.010001808, 0.010059316, 0.010432019, 0.011039343, 0.011505731, 0.010560178, 0.010237863, 0.010250683, 0.010348548, 0.0100446595, 0.0104808565, 0.010053639, 0.0101247765, 0.01024556, 0.009678364, 0.010250778, 0.0099215135, 0.011387773, 0.010663722, 0.009939021, 0.010290282, 0.0102857975, 0.010395353, 0.01060586, 0.009805216, 0.011012041, 0.010328032, 0.010396882, 0.010461182, 0.0102887675, 0.011122279, 0.010126217, 0.010063026, 0.010171875, 0.010863052, 0.010040652, 0.010191731, 0.010449827, 0.012264434, 0.010759646, 0.010548675, 0.009854638, 0.010121023, 0.010581646, 0.0098753525, 0.010220885, 0.009622096, 0.010296119, 0.010274272, 0.010731408, 0.010344774, 0.010265435, 0.009948147, 0.010585165, 0.01026502, 0.011163209, 0.010536231, 0.010123491, 0.010139136, 0.011467328, 0.010640245, 0.010452603, 0.010452967, 0.010349942, 0.010644201, 0.0105532585, 0.010660529, 0.010139104, 0.010166783, 0.011893712, 0.010728058, 0.010450659, 0.010752987, 0.0104982685, 0.009672514, 0.010112227, 0.010449268, 0.010376573, 0.010252815, 0.010598682, 0.010386898, 0.010150271, 0.010322849, 0.011809531, 0.011069108, 0.011329786, 0.010634161, 0.010488285]\n",
      "2022-02-26 16:26:34,706 : INFO : merging changes from 1204 documents into a model of 3204 documents\n",
      "2022-02-26 16:26:34,717 : INFO : topic #86 (0.010): 0.084*\"21\" + 0.044*\"50\" + 0.038*\"209\" + 0.035*\"6\" + 0.030*\"628\" + 0.029*\"359\" + 0.029*\"688\" + 0.025*\"238\" + 0.023*\"1004\" + 0.023*\"64\"\n",
      "2022-02-26 16:26:34,717 : INFO : topic #26 (0.010): 0.070*\"120\" + 0.058*\"0\" + 0.054*\"250\" + 0.052*\"107\" + 0.050*\"1071\" + 0.044*\"411\" + 0.041*\"15\" + 0.038*\"10\" + 0.035*\"92\" + 0.027*\"718\"\n",
      "2022-02-26 16:26:34,718 : INFO : topic #81 (0.012): 0.097*\"50\" + 0.030*\"0\" + 0.029*\"3\" + 0.025*\"13\" + 0.020*\"165\" + 0.015*\"49\" + 0.013*\"1008\" + 0.012*\"73\" + 0.010*\"1165\" + 0.010*\"498\"\n",
      "2022-02-26 16:26:34,718 : INFO : topic #50 (0.012): 0.238*\"35\" + 0.235*\"34\" + 0.179*\"83\" + 0.041*\"19\" + 0.036*\"69\" + 0.028*\"516\" + 0.028*\"12\" + 0.025*\"379\" + 0.025*\"293\" + 0.023*\"851\"\n",
      "2022-02-26 16:26:34,719 : INFO : topic #6 (0.013): 0.249*\"34\" + 0.234*\"83\" + 0.208*\"35\" + 0.049*\"1182\" + 0.041*\"611\" + 0.039*\"1192\" + 0.021*\"0\" + 0.015*\"12\" + 0.013*\"254\" + 0.010*\"835\"\n",
      "2022-02-26 16:26:34,720 : INFO : topic diff=0.606710, rho=0.422502\n",
      "2022-02-26 16:26:34,728 : INFO : PROGRESS: pass 4, at document #2000/3204\n",
      "2022-02-26 16:26:35,516 : INFO : optimized alpha [0.010617834, 0.01026937, 0.009969261, 0.010688813, 0.010047012, 0.010321767, 0.01407484, 0.010450199, 0.01010921, 0.010046795, 0.01054799, 0.01066065, 0.010019861, 0.0101302285, 0.010485184, 0.011079017, 0.011629601, 0.01069306, 0.010383965, 0.010373121, 0.010308986, 0.0100155575, 0.010431163, 0.010024228, 0.010081115, 0.010224219, 0.009695876, 0.010267195, 0.009897965, 0.0114725595, 0.010665464, 0.009899733, 0.010275675, 0.010239204, 0.010623514, 0.0107310545, 0.009781337, 0.011137657, 0.010380667, 0.010533752, 0.01056356, 0.010300508, 0.011140593, 0.010060566, 0.010061052, 0.010151717, 0.010946935, 0.010047381, 0.010190026, 0.010435634, 0.012879575, 0.010746605, 0.010674364, 0.009849622, 0.010195664, 0.010561163, 0.009894754, 0.010209132, 0.009647102, 0.010326919, 0.010352568, 0.010703115, 0.010360623, 0.010251609, 0.009911557, 0.010575192, 0.010270884, 0.0113007, 0.010674262, 0.010215254, 0.010145701, 0.011970418, 0.010691137, 0.010590471, 0.010448434, 0.010349505, 0.010796298, 0.0106214825, 0.01066839, 0.010098946, 0.010167905, 0.0118503785, 0.010886297, 0.010517885, 0.010785215, 0.010672096, 0.009652396, 0.010143227, 0.010428427, 0.010474602, 0.01039351, 0.010676838, 0.0104269665, 0.010233173, 0.010397381, 0.011908568, 0.011151291, 0.011434701, 0.010600594, 0.010523314]\n",
      "2022-02-26 16:26:35,523 : INFO : merging changes from 2000 documents into a model of 3204 documents\n",
      "2022-02-26 16:26:35,534 : INFO : topic #86 (0.010): 0.079*\"21\" + 0.042*\"50\" + 0.041*\"209\" + 0.037*\"6\" + 0.033*\"359\" + 0.030*\"688\" + 0.029*\"27\" + 0.024*\"628\" + 0.024*\"165\" + 0.023*\"238\"\n",
      "2022-02-26 16:26:35,534 : INFO : topic #58 (0.010): 0.320*\"311\" + 0.145*\"1093\" + 0.128*\"1057\" + 0.075*\"83\" + 0.054*\"34\" + 0.048*\"874\" + 0.042*\"361\" + 0.036*\"375\" + 0.036*\"611\" + 0.028*\"630\"\n",
      "2022-02-26 16:26:35,535 : INFO : topic #71 (0.012): 0.227*\"611\" + 0.197*\"83\" + 0.169*\"34\" + 0.166*\"1015\" + 0.051*\"646\" + 0.021*\"73\" + 0.019*\"1036\" + 0.016*\"872\" + 0.015*\"202\" + 0.014*\"1104\"\n",
      "2022-02-26 16:26:35,535 : INFO : topic #50 (0.013): 0.241*\"35\" + 0.241*\"34\" + 0.182*\"83\" + 0.044*\"19\" + 0.036*\"69\" + 0.031*\"293\" + 0.030*\"12\" + 0.024*\"516\" + 0.022*\"379\" + 0.019*\"392\"\n",
      "2022-02-26 16:26:35,536 : INFO : topic #6 (0.014): 0.256*\"34\" + 0.239*\"83\" + 0.220*\"35\" + 0.039*\"1182\" + 0.030*\"611\" + 0.029*\"1192\" + 0.020*\"0\" + 0.015*\"12\" + 0.014*\"254\" + 0.012*\"386\"\n"
     ]
    },
    {
     "name": "stderr",
     "output_type": "stream",
     "text": [
      "2022-02-26 16:26:35,536 : INFO : topic diff=0.585714, rho=0.389191\n",
      "2022-02-26 16:26:36,378 : INFO : -6.655 per-word bound, 100.8 perplexity estimate based on a held-out corpus of 1204 documents with 49783 words\n",
      "2022-02-26 16:26:36,378 : INFO : PROGRESS: pass 4, at document #3204/3204\n",
      "2022-02-26 16:26:37,082 : INFO : optimized alpha [0.010669526, 0.01049413, 0.01008551, 0.010926201, 0.010159437, 0.010510346, 0.014824592, 0.010684266, 0.010200946, 0.010094044, 0.0107104415, 0.010896412, 0.0101155145, 0.010209182, 0.01059858, 0.01134528, 0.011925429, 0.010837473, 0.010505045, 0.010518296, 0.0104532605, 0.010141531, 0.010656877, 0.010170452, 0.010162729, 0.010318684, 0.009758618, 0.010373138, 0.010005014, 0.011878964, 0.010892924, 0.010029899, 0.010429059, 0.0103258705, 0.0106985485, 0.01104011, 0.009897839, 0.01144872, 0.010576089, 0.010671404, 0.010754037, 0.0104429545, 0.011387731, 0.010141599, 0.010138284, 0.010256752, 0.011124919, 0.010082279, 0.010348381, 0.010582671, 0.013180914, 0.0109376935, 0.010803122, 0.009867189, 0.010290964, 0.010791006, 0.009942798, 0.010344697, 0.009731134, 0.010440842, 0.010508357, 0.010932899, 0.010487735, 0.010413029, 0.0099393185, 0.010760014, 0.010471486, 0.011634739, 0.010907769, 0.010348576, 0.010283653, 0.012087369, 0.010894298, 0.010703389, 0.010642962, 0.010510704, 0.010965935, 0.010817797, 0.010902772, 0.010216085, 0.010304457, 0.012077549, 0.011127347, 0.0107496735, 0.011026043, 0.01079633, 0.009712508, 0.01020988, 0.010626006, 0.010629581, 0.01054579, 0.010881285, 0.010547087, 0.01036173, 0.01058741, 0.012384262, 0.011412258, 0.01174983, 0.010766176, 0.010805511]\n",
      "2022-02-26 16:26:37,090 : INFO : merging changes from 1204 documents into a model of 3204 documents\n",
      "2022-02-26 16:26:37,101 : INFO : topic #58 (0.010): 0.384*\"311\" + 0.144*\"1093\" + 0.122*\"1057\" + 0.073*\"83\" + 0.045*\"874\" + 0.042*\"34\" + 0.039*\"361\" + 0.031*\"611\" + 0.028*\"375\" + 0.021*\"35\"\n",
      "2022-02-26 16:26:37,106 : INFO : topic #86 (0.010): 0.084*\"21\" + 0.045*\"50\" + 0.044*\"209\" + 0.035*\"6\" + 0.032*\"688\" + 0.032*\"628\" + 0.030*\"359\" + 0.026*\"1004\" + 0.025*\"64\" + 0.025*\"737\"\n",
      "2022-02-26 16:26:37,107 : INFO : topic #95 (0.012): 0.205*\"859\" + 0.149*\"18\" + 0.080*\"375\" + 0.057*\"81\" + 0.055*\"530\" + 0.040*\"50\" + 0.035*\"69\" + 0.030*\"515\" + 0.028*\"517\" + 0.019*\"560\"\n",
      "2022-02-26 16:26:37,108 : INFO : topic #50 (0.013): 0.248*\"35\" + 0.247*\"34\" + 0.170*\"83\" + 0.044*\"19\" + 0.037*\"69\" + 0.029*\"516\" + 0.026*\"12\" + 0.025*\"293\" + 0.025*\"379\" + 0.023*\"851\"\n",
      "2022-02-26 16:26:37,108 : INFO : topic #6 (0.015): 0.259*\"34\" + 0.238*\"83\" + 0.224*\"35\" + 0.045*\"1182\" + 0.038*\"611\" + 0.036*\"1192\" + 0.020*\"0\" + 0.015*\"12\" + 0.012*\"254\" + 0.009*\"835\"\n",
      "2022-02-26 16:26:37,110 : INFO : topic diff=0.651623, rho=0.389191\n",
      "2022-02-26 16:26:37,117 : INFO : PROGRESS: pass 5, at document #2000/3204\n",
      "2022-02-26 16:26:37,908 : INFO : optimized alpha [0.010818752, 0.0104525555, 0.010075629, 0.010860302, 0.010142587, 0.010524777, 0.015488442, 0.010729262, 0.010134041, 0.01017826, 0.0106998505, 0.01096558, 0.010143542, 0.010283338, 0.010650339, 0.011389434, 0.012048605, 0.010960799, 0.010658378, 0.010635613, 0.010422029, 0.010123675, 0.010611249, 0.010144589, 0.010124548, 0.010306663, 0.00979138, 0.010390493, 0.0099905785, 0.011987539, 0.010895396, 0.009996949, 0.010413225, 0.010287008, 0.010930821, 0.01121071, 0.009891897, 0.011581383, 0.010656019, 0.010821958, 0.010867768, 0.010465166, 0.011407736, 0.010083291, 0.010149939, 0.010247535, 0.011203603, 0.010087554, 0.01036334, 0.010576994, 0.013699578, 0.010924632, 0.010929579, 0.009870799, 0.010363032, 0.01078045, 0.009961526, 0.0103429565, 0.009763576, 0.010486906, 0.01058951, 0.0109191835, 0.010521746, 0.010405287, 0.009919302, 0.010757827, 0.010485688, 0.011774886, 0.011055954, 0.0104539255, 0.010302618, 0.012578219, 0.010939382, 0.010851286, 0.010641754, 0.010532879, 0.011119611, 0.010898927, 0.010914897, 0.010180702, 0.010310977, 0.012047076, 0.011291414, 0.010825811, 0.011071275, 0.010978673, 0.009703329, 0.010231874, 0.0106114205, 0.0107430825, 0.010707728, 0.0109703, 0.010602025, 0.01045093, 0.010666615, 0.012484333, 0.011492992, 0.011856411, 0.010746226, 0.010848903]\n",
      "2022-02-26 16:26:37,915 : INFO : merging changes from 2000 documents into a model of 3204 documents\n",
      "2022-02-26 16:26:37,926 : INFO : topic #86 (0.010): 0.079*\"21\" + 0.046*\"209\" + 0.043*\"50\" + 0.037*\"6\" + 0.035*\"688\" + 0.034*\"359\" + 0.029*\"27\" + 0.026*\"628\" + 0.025*\"165\" + 0.025*\"1004\"\n",
      "2022-02-26 16:26:37,927 : INFO : topic #58 (0.010): 0.378*\"311\" + 0.151*\"1093\" + 0.127*\"1057\" + 0.065*\"83\" + 0.048*\"874\" + 0.041*\"361\" + 0.037*\"34\" + 0.036*\"375\" + 0.025*\"611\" + 0.019*\"630\"\n",
      "2022-02-26 16:26:37,927 : INFO : topic #71 (0.013): 0.231*\"611\" + 0.198*\"83\" + 0.170*\"34\" + 0.167*\"1015\" + 0.051*\"646\" + 0.021*\"73\" + 0.019*\"1036\" + 0.016*\"872\" + 0.015*\"202\" + 0.014*\"1104\"\n",
      "2022-02-26 16:26:37,927 : INFO : topic #50 (0.014): 0.247*\"34\" + 0.245*\"35\" + 0.170*\"83\" + 0.048*\"19\" + 0.039*\"69\" + 0.030*\"293\" + 0.029*\"12\" + 0.025*\"516\" + 0.023*\"379\" + 0.019*\"392\"\n",
      "2022-02-26 16:26:37,928 : INFO : topic #6 (0.015): 0.265*\"34\" + 0.243*\"83\" + 0.235*\"35\" + 0.037*\"1182\" + 0.028*\"611\" + 0.027*\"1192\" + 0.019*\"0\" + 0.015*\"12\" + 0.013*\"254\" + 0.011*\"386\"\n",
      "2022-02-26 16:26:37,929 : INFO : topic diff=0.594682, rho=0.362690\n",
      "2022-02-26 16:26:38,765 : INFO : -6.616 per-word bound, 98.1 perplexity estimate based on a held-out corpus of 1204 documents with 49783 words\n",
      "2022-02-26 16:26:38,766 : INFO : PROGRESS: pass 5, at document #3204/3204\n",
      "2022-02-26 16:26:39,475 : INFO : optimized alpha [0.010856484, 0.010664617, 0.010194217, 0.011100575, 0.010266722, 0.01073466, 0.01631463, 0.010966989, 0.01023315, 0.0102254525, 0.01085267, 0.011198796, 0.010242463, 0.010369642, 0.010760022, 0.011641695, 0.012355697, 0.011109722, 0.010784588, 0.010775235, 0.01054825, 0.010245281, 0.0108406665, 0.010303663, 0.010204707, 0.010401804, 0.009871315, 0.01049009, 0.010100475, 0.012380883, 0.01110368, 0.010134555, 0.010570188, 0.010362297, 0.01100959, 0.011557559, 0.010010676, 0.011891714, 0.010879909, 0.010957559, 0.011054251, 0.010595947, 0.011648182, 0.010169202, 0.010241088, 0.010361878, 0.011371329, 0.010124008, 0.010521878, 0.01072178, 0.013927565, 0.011121377, 0.011056888, 0.00989399, 0.010455495, 0.010994008, 0.010016023, 0.010482946, 0.009863197, 0.010609874, 0.010761752, 0.011129251, 0.010644567, 0.010573135, 0.009955378, 0.010938326, 0.010687951, 0.012119112, 0.011301109, 0.010588849, 0.010441714, 0.012703392, 0.011144388, 0.01095683, 0.0108283, 0.010703913, 0.011282569, 0.011090724, 0.011153012, 0.010303291, 0.010442503, 0.012271857, 0.011564259, 0.011051995, 0.011309224, 0.011098183, 0.009774864, 0.010300961, 0.010794488, 0.010911594, 0.010867184, 0.011190288, 0.010731035, 0.010578063, 0.01085874, 0.012945115, 0.0117681995, 0.012171037, 0.010905227, 0.011169663]\n",
      "2022-02-26 16:26:39,482 : INFO : merging changes from 1204 documents into a model of 3204 documents\n",
      "2022-02-26 16:26:39,493 : INFO : topic #86 (0.010): 0.083*\"21\" + 0.046*\"209\" + 0.046*\"50\" + 0.035*\"688\" + 0.035*\"6\" + 0.033*\"628\" + 0.032*\"359\" + 0.028*\"1004\" + 0.027*\"737\" + 0.026*\"200\"\n",
      "2022-02-26 16:26:39,494 : INFO : topic #58 (0.010): 0.435*\"311\" + 0.145*\"1093\" + 0.120*\"1057\" + 0.064*\"83\" + 0.045*\"874\" + 0.038*\"361\" + 0.029*\"34\" + 0.028*\"375\" + 0.022*\"611\" + 0.013*\"630\"\n",
      "2022-02-26 16:26:39,495 : INFO : topic #95 (0.013): 0.210*\"859\" + 0.156*\"18\" + 0.082*\"375\" + 0.060*\"81\" + 0.058*\"530\" + 0.040*\"69\" + 0.038*\"50\" + 0.031*\"515\" + 0.029*\"517\" + 0.019*\"560\"\n",
      "2022-02-26 16:26:39,496 : INFO : topic #50 (0.014): 0.248*\"34\" + 0.247*\"35\" + 0.161*\"83\" + 0.048*\"19\" + 0.041*\"69\" + 0.031*\"516\" + 0.028*\"12\" + 0.026*\"379\" + 0.026*\"293\" + 0.023*\"851\"\n",
      "2022-02-26 16:26:39,496 : INFO : topic #6 (0.016): 0.268*\"34\" + 0.241*\"83\" + 0.237*\"35\" + 0.042*\"1182\" + 0.035*\"611\" + 0.033*\"1192\" + 0.019*\"0\" + 0.013*\"12\" + 0.011*\"254\" + 0.009*\"386\"\n",
      "2022-02-26 16:26:39,497 : INFO : topic diff=0.623018, rho=0.362690\n",
      "2022-02-26 16:26:39,504 : INFO : PROGRESS: pass 6, at document #2000/3204\n",
      "2022-02-26 16:26:40,285 : INFO : optimized alpha [0.011011671, 0.010635273, 0.010190122, 0.011046724, 0.01025786, 0.010773311, 0.017060976, 0.011014331, 0.010172713, 0.010305358, 0.010848092, 0.011265693, 0.010274325, 0.010450554, 0.010818448, 0.011684383, 0.012481121, 0.011226909, 0.010940076, 0.010905186, 0.010533396, 0.01023555, 0.0108075645, 0.010280658, 0.010171191, 0.0104050515, 0.009912656, 0.010504765, 0.010097319, 0.012485178, 0.011116544, 0.010113756, 0.010571222, 0.010330066, 0.011239782, 0.011752845, 0.010011899, 0.012019625, 0.010966844, 0.011108828, 0.011175668, 0.010623979, 0.011667999, 0.010120434, 0.0102488, 0.0103586195, 0.011455471, 0.010131467, 0.0105464645, 0.010721734, 0.014411016, 0.011119849, 0.011181086, 0.009901723, 0.010525631, 0.010984955, 0.010035888, 0.010495444, 0.009895641, 0.0106646, 0.010845891, 0.011126879, 0.010682227, 0.010570785, 0.009935862, 0.0109431455, 0.010702399, 0.012277631, 0.011465857, 0.01069617, 0.01047017, 0.013185142, 0.011193929, 0.011112944, 0.010830239, 0.010742756, 0.011421429, 0.01117111, 0.011161353, 0.010270053, 0.010455769, 0.0122442655, 0.011732868, 0.0111293215, 0.011355033, 0.011280191, 0.009781707, 0.010334429, 0.0107781645, 0.011036301, 0.011042451, 0.011274334, 0.010797781, 0.010668111, 0.010939119, 0.013042557, 0.011850006, 0.0122674955, 0.010891768, 0.011222582]\n"
     ]
    },
    {
     "name": "stderr",
     "output_type": "stream",
     "text": [
      "2022-02-26 16:26:40,292 : INFO : merging changes from 2000 documents into a model of 3204 documents\n",
      "2022-02-26 16:26:40,303 : INFO : topic #86 (0.010): 0.079*\"21\" + 0.048*\"209\" + 0.044*\"50\" + 0.038*\"6\" + 0.037*\"688\" + 0.035*\"359\" + 0.030*\"27\" + 0.029*\"628\" + 0.028*\"200\" + 0.027*\"1004\"\n",
      "2022-02-26 16:26:40,304 : INFO : topic #58 (0.010): 0.422*\"311\" + 0.153*\"1093\" + 0.125*\"1057\" + 0.058*\"83\" + 0.047*\"874\" + 0.040*\"361\" + 0.035*\"375\" + 0.026*\"34\" + 0.018*\"611\" + 0.014*\"630\"\n",
      "2022-02-26 16:26:40,304 : INFO : topic #71 (0.013): 0.233*\"611\" + 0.199*\"83\" + 0.170*\"34\" + 0.167*\"1015\" + 0.052*\"646\" + 0.021*\"73\" + 0.019*\"1036\" + 0.017*\"872\" + 0.015*\"202\" + 0.013*\"1104\"\n",
      "2022-02-26 16:26:40,305 : INFO : topic #50 (0.014): 0.247*\"34\" + 0.244*\"35\" + 0.164*\"83\" + 0.051*\"19\" + 0.042*\"69\" + 0.031*\"12\" + 0.031*\"293\" + 0.027*\"516\" + 0.024*\"379\" + 0.020*\"392\"\n",
      "2022-02-26 16:26:40,306 : INFO : topic #6 (0.017): 0.273*\"34\" + 0.246*\"35\" + 0.244*\"83\" + 0.035*\"1182\" + 0.026*\"611\" + 0.026*\"1192\" + 0.018*\"0\" + 0.013*\"12\" + 0.012*\"254\" + 0.011*\"386\"\n",
      "2022-02-26 16:26:40,307 : INFO : topic diff=0.552666, rho=0.340958\n",
      "2022-02-26 16:26:41,141 : INFO : -6.585 per-word bound, 96.0 perplexity estimate based on a held-out corpus of 1204 documents with 49783 words\n",
      "2022-02-26 16:26:41,141 : INFO : PROGRESS: pass 6, at document #3204/3204\n",
      "2022-02-26 16:26:41,849 : INFO : optimized alpha [0.011052808, 0.010852214, 0.010305403, 0.011278817, 0.010384398, 0.010985747, 0.01798786, 0.011244405, 0.010272885, 0.010358645, 0.010999412, 0.011497991, 0.010385475, 0.010532079, 0.010931633, 0.011931766, 0.012830102, 0.011380752, 0.011065295, 0.011043627, 0.010656122, 0.010350883, 0.011032466, 0.010431706, 0.010256198, 0.010489387, 0.009991323, 0.01060811, 0.010207231, 0.012882889, 0.01132425, 0.010252961, 0.010714358, 0.010407781, 0.011316217, 0.012132424, 0.010141809, 0.012331357, 0.011196757, 0.0112528745, 0.011340458, 0.010760138, 0.0119004045, 0.010216702, 0.010346986, 0.010476081, 0.011611496, 0.010169458, 0.010700077, 0.010868335, 0.014588898, 0.011306931, 0.011301602, 0.009935764, 0.010622106, 0.011203795, 0.010090666, 0.01063425, 0.009992946, 0.010790465, 0.011009692, 0.011317108, 0.01080477, 0.010742296, 0.00997936, 0.011092665, 0.010898087, 0.012616675, 0.011720581, 0.010836374, 0.010617048, 0.013323162, 0.011382682, 0.011228459, 0.011013635, 0.010932914, 0.011598473, 0.011350499, 0.011410648, 0.010383468, 0.010580559, 0.012464642, 0.012011391, 0.011357768, 0.011588551, 0.011373413, 0.009855217, 0.010405905, 0.010961316, 0.011212081, 0.011203455, 0.011494222, 0.010935626, 0.010782585, 0.011168545, 0.013495533, 0.012147075, 0.012569372, 0.011058276, 0.011543862]\n",
      "2022-02-26 16:26:41,856 : INFO : merging changes from 1204 documents into a model of 3204 documents\n",
      "2022-02-26 16:26:41,866 : INFO : topic #86 (0.010): 0.084*\"21\" + 0.048*\"209\" + 0.046*\"50\" + 0.037*\"688\" + 0.035*\"6\" + 0.034*\"359\" + 0.034*\"628\" + 0.030*\"200\" + 0.029*\"1004\" + 0.029*\"737\"\n",
      "2022-02-26 16:26:41,867 : INFO : topic #53 (0.010): 0.174*\"22\" + 0.056*\"50\" + 0.047*\"6\" + 0.042*\"0\" + 0.038*\"833\" + 0.023*\"108\" + 0.022*\"640\" + 0.020*\"119\" + 0.018*\"146\" + 0.016*\"242\"\n",
      "2022-02-26 16:26:41,868 : INFO : topic #95 (0.013): 0.213*\"859\" + 0.162*\"18\" + 0.084*\"375\" + 0.062*\"81\" + 0.060*\"530\" + 0.043*\"69\" + 0.037*\"50\" + 0.031*\"515\" + 0.031*\"517\" + 0.022*\"560\"\n",
      "2022-02-26 16:26:41,869 : INFO : topic #50 (0.015): 0.244*\"34\" + 0.243*\"35\" + 0.157*\"83\" + 0.052*\"19\" + 0.043*\"69\" + 0.032*\"516\" + 0.031*\"12\" + 0.028*\"379\" + 0.027*\"293\" + 0.024*\"851\"\n",
      "2022-02-26 16:26:41,869 : INFO : topic #6 (0.018): 0.277*\"34\" + 0.250*\"35\" + 0.239*\"83\" + 0.040*\"1182\" + 0.031*\"611\" + 0.031*\"1192\" + 0.019*\"0\" + 0.012*\"12\" + 0.010*\"254\" + 0.008*\"386\"\n",
      "2022-02-26 16:26:41,870 : INFO : topic diff=0.562502, rho=0.340958\n",
      "2022-02-26 16:26:41,879 : INFO : PROGRESS: pass 7, at document #2000/3204\n",
      "2022-02-26 16:26:42,646 : INFO : optimized alpha [0.011196408, 0.010825086, 0.010303251, 0.011222815, 0.010379284, 0.011029305, 0.01887544, 0.011299732, 0.01021953, 0.010438397, 0.011000205, 0.011574159, 0.010432475, 0.010621409, 0.010987375, 0.011973467, 0.012951837, 0.011500166, 0.011219956, 0.011164628, 0.010648937, 0.010348382, 0.011010775, 0.010411257, 0.010228296, 0.010501445, 0.010035707, 0.010622174, 0.010209246, 0.013000145, 0.011344925, 0.010231412, 0.010725596, 0.0103812525, 0.011543837, 0.0123651195, 0.010144512, 0.012459566, 0.011296069, 0.011407315, 0.01146597, 0.010795364, 0.011930009, 0.010170983, 0.010352792, 0.010483267, 0.011691783, 0.010183794, 0.010737123, 0.0108803855, 0.014956251, 0.011310359, 0.011431632, 0.009945389, 0.010690836, 0.011210645, 0.010111615, 0.010652878, 0.010025507, 0.010842706, 0.011100613, 0.011323385, 0.010863314, 0.010746522, 0.009964869, 0.01110057, 0.010911231, 0.01276474, 0.011881249, 0.0109479325, 0.0106473295, 0.013800455, 0.0114257485, 0.011380317, 0.011014915, 0.01097828, 0.011725979, 0.0114305625, 0.0114266975, 0.0103571955, 0.010587966, 0.012447828, 0.012194943, 0.011433052, 0.011631492, 0.011559335, 0.009866904, 0.010441511, 0.010948809, 0.011344321, 0.011383375, 0.011585494, 0.011006346, 0.010875643, 0.01124853, 0.013593244, 0.012234266, 0.012667012, 0.011057661, 0.011609911]\n",
      "2022-02-26 16:26:42,653 : INFO : merging changes from 2000 documents into a model of 3204 documents\n",
      "2022-02-26 16:26:42,664 : INFO : topic #86 (0.010): 0.081*\"21\" + 0.049*\"209\" + 0.045*\"50\" + 0.040*\"688\" + 0.038*\"6\" + 0.037*\"359\" + 0.032*\"628\" + 0.032*\"200\" + 0.031*\"27\" + 0.028*\"1004\"\n",
      "2022-02-26 16:26:42,665 : INFO : topic #53 (0.010): 0.175*\"22\" + 0.051*\"6\" + 0.050*\"50\" + 0.046*\"833\" + 0.040*\"0\" + 0.025*\"119\" + 0.022*\"108\" + 0.020*\"640\" + 0.018*\"146\" + 0.015*\"320\"\n",
      "2022-02-26 16:26:42,665 : INFO : topic #71 (0.014): 0.237*\"611\" + 0.200*\"83\" + 0.171*\"34\" + 0.166*\"1015\" + 0.053*\"646\" + 0.020*\"73\" + 0.019*\"1036\" + 0.017*\"872\" + 0.016*\"202\" + 0.014*\"1104\"\n",
      "2022-02-26 16:26:42,666 : INFO : topic #50 (0.015): 0.239*\"34\" + 0.235*\"35\" + 0.159*\"83\" + 0.056*\"19\" + 0.045*\"69\" + 0.034*\"12\" + 0.032*\"293\" + 0.029*\"516\" + 0.027*\"379\" + 0.021*\"392\"\n",
      "2022-02-26 16:26:42,667 : INFO : topic #6 (0.019): 0.283*\"34\" + 0.260*\"35\" + 0.242*\"83\" + 0.032*\"1182\" + 0.024*\"1192\" + 0.023*\"611\" + 0.017*\"0\" + 0.011*\"12\" + 0.011*\"254\" + 0.010*\"386\"\n",
      "2022-02-26 16:26:42,668 : INFO : topic diff=0.492269, rho=0.322715\n",
      "2022-02-26 16:26:43,490 : INFO : -6.559 per-word bound, 94.3 perplexity estimate based on a held-out corpus of 1204 documents with 49783 words\n",
      "2022-02-26 16:26:43,490 : INFO : PROGRESS: pass 7, at document #3204/3204\n",
      "2022-02-26 16:26:44,213 : INFO : optimized alpha [0.011228844, 0.011038959, 0.010416261, 0.011457495, 0.010505803, 0.011245506, 0.019942475, 0.0115269, 0.0103208935, 0.010497537, 0.011129791, 0.011812929, 0.010541463, 0.0107046375, 0.011098313, 0.012220766, 0.013289908, 0.011647178, 0.0113301035, 0.01130272, 0.010766016, 0.010461378, 0.011259637, 0.010561222, 0.010318079, 0.01059057, 0.010121566, 0.010720877, 0.010314213, 0.01339705, 0.011547173, 0.01036715, 0.0108653, 0.010461263, 0.011624733, 0.012782882, 0.010279654, 0.012774374, 0.011542272, 0.011547902, 0.01162672, 0.0109225325, 0.012149923, 0.010263137, 0.010457762, 0.010604087, 0.011850385, 0.010220409, 0.010892696, 0.011041291, 0.015050684, 0.01148943, 0.011546385, 0.009980967, 0.010782767, 0.011420521, 0.010164096, 0.010791262, 0.010129063, 0.010977645, 0.011248394, 0.011514694, 0.010995111, 0.010922223, 0.009998796, 0.011240438, 0.011098849, 0.013096721, 0.012165383, 0.011093681, 0.010796469, 0.013966506, 0.011600328, 0.0115119, 0.01119046, 0.011163631, 0.011907921, 0.011605309, 0.011684499, 0.01048231, 0.010712702, 0.012651725, 0.012477376, 0.011671131, 0.011865094, 0.011641218, 0.009939863, 0.010523816, 0.011126984, 0.011521833, 0.011546801, 0.011812639, 0.011158884, 0.010993569, 0.011487271, 0.014033503, 0.012524314, 0.01297555, 0.0112258885, 0.011930355]\n",
      "2022-02-26 16:26:44,220 : INFO : merging changes from 1204 documents into a model of 3204 documents\n",
      "2022-02-26 16:26:44,231 : INFO : topic #86 (0.010): 0.085*\"21\" + 0.049*\"209\" + 0.047*\"50\" + 0.039*\"688\" + 0.036*\"359\" + 0.036*\"628\" + 0.036*\"6\" + 0.034*\"200\" + 0.030*\"1004\" + 0.029*\"737\"\n",
      "2022-02-26 16:26:44,232 : INFO : topic #53 (0.010): 0.184*\"22\" + 0.056*\"50\" + 0.047*\"6\" + 0.041*\"0\" + 0.039*\"833\" + 0.024*\"108\" + 0.023*\"119\" + 0.022*\"640\" + 0.017*\"146\" + 0.016*\"410\"\n"
     ]
    },
    {
     "name": "stderr",
     "output_type": "stream",
     "text": [
      "2022-02-26 16:26:44,232 : INFO : topic #95 (0.014): 0.215*\"859\" + 0.167*\"18\" + 0.086*\"375\" + 0.064*\"81\" + 0.061*\"530\" + 0.046*\"69\" + 0.036*\"50\" + 0.032*\"517\" + 0.031*\"515\" + 0.023*\"560\"\n",
      "2022-02-26 16:26:44,233 : INFO : topic #50 (0.015): 0.232*\"34\" + 0.230*\"35\" + 0.154*\"83\" + 0.059*\"19\" + 0.047*\"69\" + 0.036*\"516\" + 0.035*\"12\" + 0.031*\"379\" + 0.028*\"293\" + 0.026*\"851\"\n",
      "2022-02-26 16:26:44,233 : INFO : topic #6 (0.020): 0.287*\"34\" + 0.264*\"35\" + 0.235*\"83\" + 0.037*\"1182\" + 0.029*\"1192\" + 0.026*\"611\" + 0.018*\"0\" + 0.011*\"12\" + 0.009*\"254\" + 0.008*\"386\"\n",
      "2022-02-26 16:26:44,234 : INFO : topic diff=0.497534, rho=0.322715\n",
      "2022-02-26 16:26:44,242 : INFO : PROGRESS: pass 8, at document #2000/3204\n",
      "2022-02-26 16:26:45,032 : INFO : optimized alpha [0.011367184, 0.011022223, 0.010414246, 0.0114081595, 0.01050247, 0.011297035, 0.020946294, 0.011588184, 0.010270501, 0.010577438, 0.011140862, 0.01188735, 0.010594608, 0.0107955355, 0.011165712, 0.012263622, 0.013421166, 0.011767532, 0.011474077, 0.011422623, 0.010767416, 0.010465519, 0.011241051, 0.010543056, 0.010295055, 0.010602359, 0.0101642, 0.010737749, 0.01031792, 0.01351099, 0.011571657, 0.010346415, 0.010884336, 0.010441306, 0.011847253, 0.013024629, 0.010285237, 0.012905256, 0.011635937, 0.0117006535, 0.0117530795, 0.010969664, 0.012171926, 0.01022798, 0.010474624, 0.010620854, 0.011938428, 0.010236338, 0.010931358, 0.011054233, 0.015344033, 0.011492232, 0.011678877, 0.009989209, 0.010850501, 0.01142978, 0.010187668, 0.010818879, 0.010161813, 0.011027725, 0.011344423, 0.011523708, 0.011051227, 0.010929136, 0.009984247, 0.011246031, 0.011115907, 0.013235401, 0.012318978, 0.011204576, 0.010831861, 0.0144350985, 0.011637647, 0.011669265, 0.0111895185, 0.01121528, 0.012039835, 0.0116873095, 0.011704027, 0.0104637705, 0.010721397, 0.012642836, 0.01268221, 0.011746464, 0.011914387, 0.011826435, 0.009954411, 0.010564513, 0.011116182, 0.011652936, 0.0117319245, 0.011901761, 0.011238805, 0.011083118, 0.011579488, 0.014125571, 0.0126170525, 0.013076853, 0.011226715, 0.0119964825]\n",
      "2022-02-26 16:26:45,039 : INFO : merging changes from 2000 documents into a model of 3204 documents\n",
      "2022-02-26 16:26:45,050 : INFO : topic #86 (0.010): 0.082*\"21\" + 0.050*\"209\" + 0.046*\"50\" + 0.042*\"688\" + 0.039*\"6\" + 0.038*\"359\" + 0.035*\"200\" + 0.034*\"628\" + 0.031*\"27\" + 0.028*\"1004\"\n",
      "2022-02-26 16:26:45,051 : INFO : topic #53 (0.010): 0.185*\"22\" + 0.051*\"6\" + 0.050*\"50\" + 0.047*\"833\" + 0.039*\"0\" + 0.026*\"119\" + 0.023*\"108\" + 0.020*\"640\" + 0.017*\"146\" + 0.015*\"83\"\n",
      "2022-02-26 16:26:45,051 : INFO : topic #71 (0.014): 0.241*\"611\" + 0.201*\"83\" + 0.171*\"34\" + 0.165*\"1015\" + 0.053*\"646\" + 0.019*\"73\" + 0.019*\"1036\" + 0.017*\"872\" + 0.016*\"202\" + 0.013*\"1104\"\n",
      "2022-02-26 16:26:45,052 : INFO : topic #50 (0.015): 0.226*\"34\" + 0.221*\"35\" + 0.157*\"83\" + 0.064*\"19\" + 0.047*\"69\" + 0.039*\"12\" + 0.035*\"293\" + 0.033*\"516\" + 0.029*\"379\" + 0.024*\"392\"\n",
      "2022-02-26 16:26:45,052 : INFO : topic #6 (0.021): 0.293*\"34\" + 0.273*\"35\" + 0.237*\"83\" + 0.030*\"1182\" + 0.023*\"1192\" + 0.020*\"611\" + 0.016*\"0\" + 0.010*\"12\" + 0.010*\"254\" + 0.010*\"386\"\n",
      "2022-02-26 16:26:45,053 : INFO : topic diff=0.433000, rho=0.307119\n",
      "2022-02-26 16:26:45,867 : INFO : -6.540 per-word bound, 93.0 perplexity estimate based on a held-out corpus of 1204 documents with 49783 words\n",
      "2022-02-26 16:26:45,867 : INFO : PROGRESS: pass 8, at document #3204/3204\n",
      "2022-02-26 16:26:46,584 : INFO : optimized alpha [0.01139767, 0.011245398, 0.010525478, 0.011634268, 0.0106347045, 0.011523507, 0.02206681, 0.011813551, 0.010365349, 0.010642109, 0.011268175, 0.01212432, 0.010704545, 0.0108779045, 0.011277927, 0.012499205, 0.013760727, 0.011914679, 0.011576341, 0.0115551865, 0.010904799, 0.010571396, 0.011501997, 0.010689894, 0.010381384, 0.010696156, 0.010254387, 0.010835249, 0.010423979, 0.013898151, 0.011769528, 0.010471629, 0.011024072, 0.010523613, 0.011929775, 0.013473063, 0.010423055, 0.013204537, 0.011880748, 0.011829463, 0.011907679, 0.011097372, 0.012393182, 0.01032188, 0.010575441, 0.01075068, 0.012087858, 0.010271799, 0.0110893315, 0.011223397, 0.015424217, 0.011673307, 0.011788742, 0.010036562, 0.010941417, 0.0116378525, 0.0102382, 0.010957335, 0.01027156, 0.011157336, 0.011492177, 0.011713601, 0.011191954, 0.011098262, 0.010025092, 0.011383331, 0.0112879705, 0.013572006, 0.012614154, 0.011367753, 0.010978097, 0.014633413, 0.011805466, 0.01180451, 0.011352565, 0.011388093, 0.012224289, 0.011864401, 0.0119533995, 0.010600184, 0.010838549, 0.01285207, 0.012960024, 0.011985577, 0.012146042, 0.011907094, 0.010032193, 0.0106435325, 0.011281773, 0.01182675, 0.011892229, 0.012139844, 0.011405868, 0.011201898, 0.011840062, 0.014554716, 0.012901428, 0.013355845, 0.011397156, 0.01230811]\n",
      "2022-02-26 16:26:46,591 : INFO : merging changes from 1204 documents into a model of 3204 documents\n",
      "2022-02-26 16:26:46,602 : INFO : topic #53 (0.010): 0.190*\"22\" + 0.055*\"50\" + 0.047*\"6\" + 0.040*\"0\" + 0.040*\"833\" + 0.024*\"108\" + 0.024*\"119\" + 0.022*\"640\" + 0.018*\"410\" + 0.016*\"146\"\n",
      "2022-02-26 16:26:46,602 : INFO : topic #86 (0.010): 0.086*\"21\" + 0.049*\"209\" + 0.048*\"50\" + 0.040*\"688\" + 0.039*\"628\" + 0.037*\"359\" + 0.036*\"200\" + 0.036*\"6\" + 0.031*\"737\" + 0.030*\"1004\"\n",
      "2022-02-26 16:26:46,603 : INFO : topic #71 (0.015): 0.257*\"611\" + 0.203*\"83\" + 0.162*\"34\" + 0.134*\"1015\" + 0.067*\"646\" + 0.020*\"73\" + 0.020*\"1036\" + 0.019*\"872\" + 0.016*\"1104\" + 0.015*\"202\"\n",
      "2022-02-26 16:26:46,603 : INFO : topic #50 (0.015): 0.219*\"34\" + 0.216*\"35\" + 0.153*\"83\" + 0.066*\"19\" + 0.048*\"69\" + 0.039*\"12\" + 0.038*\"516\" + 0.033*\"379\" + 0.030*\"851\" + 0.030*\"293\"\n",
      "2022-02-26 16:26:46,604 : INFO : topic #6 (0.022): 0.296*\"34\" + 0.276*\"35\" + 0.230*\"83\" + 0.035*\"1182\" + 0.028*\"1192\" + 0.021*\"611\" + 0.017*\"0\" + 0.010*\"12\" + 0.009*\"254\" + 0.008*\"386\"\n",
      "2022-02-26 16:26:46,605 : INFO : topic diff=0.437055, rho=0.307119\n",
      "2022-02-26 16:26:46,614 : INFO : PROGRESS: pass 9, at document #2000/3204\n",
      "2022-02-26 16:26:47,378 : INFO : optimized alpha [0.01153146, 0.011231718, 0.0105251195, 0.011587715, 0.010636076, 0.011586246, 0.023177443, 0.011875573, 0.010312983, 0.0107318405, 0.01127542, 0.012199158, 0.010768323, 0.010964151, 0.011349564, 0.012534126, 0.013891601, 0.012029309, 0.011717469, 0.011666157, 0.010901262, 0.010580178, 0.011491409, 0.010675328, 0.0103612635, 0.01070924, 0.010301534, 0.010853139, 0.01043064, 0.014013419, 0.011799377, 0.010460965, 0.011045524, 0.01051266, 0.012149831, 0.013742439, 0.010432848, 0.013326907, 0.011970993, 0.011982849, 0.012035262, 0.011147589, 0.012419093, 0.010287013, 0.010596447, 0.010773096, 0.012181775, 0.010293682, 0.011137727, 0.011235429, 0.015681326, 0.011684196, 0.011915341, 0.01004937, 0.011005183, 0.011644413, 0.010261287, 0.010983761, 0.010307533, 0.011207195, 0.011581411, 0.011735578, 0.011255869, 0.011109372, 0.010014893, 0.011392, 0.01130235, 0.013723868, 0.012768822, 0.011491681, 0.011011995, 0.015103702, 0.011842856, 0.01195719, 0.011354687, 0.01144101, 0.012351849, 0.011952065, 0.011969436, 0.010583817, 0.0108548505, 0.012848605, 0.013178915, 0.012059412, 0.012198226, 0.012085123, 0.010047848, 0.010678159, 0.011269417, 0.011957174, 0.0120759625, 0.012236314, 0.011489651, 0.011286705, 0.0119409645, 0.014650221, 0.012999909, 0.013463101, 0.01140091, 0.012387229]\n",
      "2022-02-26 16:26:47,385 : INFO : merging changes from 2000 documents into a model of 3204 documents\n",
      "2022-02-26 16:26:47,396 : INFO : topic #64 (0.010): 0.129*\"50\" + 0.074*\"398\" + 0.055*\"0\" + 0.036*\"287\" + 0.035*\"1171\" + 0.033*\"320\" + 0.030*\"439\" + 0.024*\"112\" + 0.024*\"49\" + 0.021*\"57\"\n",
      "2022-02-26 16:26:47,397 : INFO : topic #86 (0.010): 0.083*\"21\" + 0.051*\"209\" + 0.047*\"50\" + 0.043*\"688\" + 0.039*\"359\" + 0.039*\"6\" + 0.037*\"200\" + 0.036*\"628\" + 0.032*\"27\" + 0.029*\"1004\"\n",
      "2022-02-26 16:26:47,398 : INFO : topic #71 (0.015): 0.245*\"611\" + 0.203*\"83\" + 0.171*\"34\" + 0.163*\"1015\" + 0.053*\"646\" + 0.018*\"1036\" + 0.018*\"73\" + 0.018*\"872\" + 0.016*\"202\" + 0.013*\"1104\"\n",
      "2022-02-26 16:26:47,398 : INFO : topic #50 (0.016): 0.213*\"34\" + 0.207*\"35\" + 0.156*\"83\" + 0.071*\"19\" + 0.048*\"69\" + 0.043*\"12\" + 0.037*\"293\" + 0.035*\"516\" + 0.032*\"379\" + 0.025*\"392\"\n",
      "2022-02-26 16:26:47,399 : INFO : topic #6 (0.023): 0.302*\"34\" + 0.284*\"35\" + 0.232*\"83\" + 0.029*\"1182\" + 0.022*\"1192\" + 0.016*\"0\" + 0.016*\"611\" + 0.009*\"12\" + 0.009*\"254\" + 0.009*\"386\"\n"
     ]
    },
    {
     "name": "stderr",
     "output_type": "stream",
     "text": [
      "2022-02-26 16:26:47,400 : INFO : topic diff=0.380537, rho=0.293585\n",
      "2022-02-26 16:26:48,187 : INFO : -6.524 per-word bound, 92.0 perplexity estimate based on a held-out corpus of 1204 documents with 49783 words\n",
      "2022-02-26 16:26:48,187 : INFO : PROGRESS: pass 9, at document #3204/3204\n",
      "2022-02-26 16:26:48,847 : INFO : optimized alpha [0.011563216, 0.011458937, 0.01064278, 0.01182369, 0.0107663525, 0.011812024, 0.02443543, 0.012094265, 0.0104071805, 0.010799155, 0.011409422, 0.012446971, 0.010877001, 0.011043373, 0.0114661055, 0.012753182, 0.014230164, 0.012168285, 0.011812605, 0.011799525, 0.01103661, 0.010679787, 0.011764815, 0.010814524, 0.010447178, 0.010797076, 0.01039107, 0.010944498, 0.010540536, 0.014409457, 0.011996609, 0.010594623, 0.011188551, 0.0105947135, 0.012234271, 0.0142237, 0.0105736, 0.013624826, 0.012218101, 0.012109683, 0.012196265, 0.011268038, 0.012639424, 0.010375258, 0.010703993, 0.010911814, 0.012331978, 0.010330716, 0.011295909, 0.011398885, 0.015732672, 0.011867935, 0.012012173, 0.010095296, 0.011092761, 0.011854366, 0.0103127165, 0.011117392, 0.010413474, 0.011335084, 0.011738282, 0.011916378, 0.011400182, 0.011286552, 0.010064602, 0.011532872, 0.011465901, 0.014076352, 0.013066588, 0.011646876, 0.011155965, 0.015304982, 0.012007992, 0.012099328, 0.0115149105, 0.011616567, 0.012530074, 0.012123333, 0.012231992, 0.010720771, 0.010957226, 0.013034654, 0.013453161, 0.012300529, 0.012431717, 0.0121679865, 0.010120437, 0.010754379, 0.011434911, 0.012125188, 0.0122367, 0.012494995, 0.01165697, 0.011404022, 0.012206425, 0.0150697045, 0.013283043, 0.013737662, 0.011582369, 0.012709542]\n",
      "2022-02-26 16:26:48,854 : INFO : merging changes from 1204 documents into a model of 3204 documents\n",
      "2022-02-26 16:26:48,866 : INFO : topic #64 (0.010): 0.131*\"50\" + 0.074*\"398\" + 0.051*\"0\" + 0.037*\"287\" + 0.037*\"1171\" + 0.033*\"320\" + 0.028*\"439\" + 0.024*\"112\" + 0.023*\"49\" + 0.022*\"57\"\n",
      "2022-02-26 16:26:48,867 : INFO : topic #86 (0.010): 0.086*\"21\" + 0.050*\"209\" + 0.050*\"50\" + 0.043*\"628\" + 0.042*\"688\" + 0.038*\"359\" + 0.038*\"200\" + 0.037*\"6\" + 0.033*\"737\" + 0.030*\"1004\"\n",
      "2022-02-26 16:26:48,867 : INFO : topic #71 (0.015): 0.262*\"611\" + 0.203*\"83\" + 0.161*\"34\" + 0.134*\"1015\" + 0.066*\"646\" + 0.020*\"872\" + 0.019*\"1036\" + 0.019*\"73\" + 0.016*\"1104\" + 0.016*\"202\"\n",
      "2022-02-26 16:26:48,868 : INFO : topic #50 (0.016): 0.203*\"34\" + 0.199*\"35\" + 0.154*\"83\" + 0.075*\"19\" + 0.048*\"69\" + 0.044*\"12\" + 0.042*\"516\" + 0.037*\"379\" + 0.034*\"851\" + 0.033*\"293\"\n",
      "2022-02-26 16:26:48,869 : INFO : topic #6 (0.024): 0.305*\"34\" + 0.287*\"35\" + 0.225*\"83\" + 0.033*\"1182\" + 0.026*\"1192\" + 0.017*\"611\" + 0.017*\"0\" + 0.009*\"12\" + 0.008*\"254\" + 0.007*\"386\"\n",
      "2022-02-26 16:26:48,870 : INFO : topic diff=0.385420, rho=0.293585\n",
      "2022-02-26 16:26:48,878 : INFO : PROGRESS: pass 10, at document #2000/3204\n",
      "2022-02-26 16:26:49,612 : INFO : optimized alpha [0.011691442, 0.011443126, 0.010643939, 0.011781105, 0.010770589, 0.011897509, 0.02564004, 0.012158944, 0.010364753, 0.010890814, 0.011422836, 0.012520609, 0.010938832, 0.011127009, 0.011538759, 0.012789849, 0.01437717, 0.012286354, 0.011949647, 0.011913844, 0.011042492, 0.010686863, 0.011763285, 0.0108034285, 0.010429605, 0.010806873, 0.010438183, 0.0109696705, 0.01054848, 0.0145203, 0.012024912, 0.010590264, 0.011218651, 0.010590509, 0.0124508925, 0.014514448, 0.010587303, 0.013748928, 0.012301852, 0.012258933, 0.012325409, 0.011319775, 0.012667357, 0.010342121, 0.010727312, 0.010933329, 0.012430016, 0.010353732, 0.011355357, 0.011415069, 0.015989223, 0.011874604, 0.012136864, 0.010106649, 0.01115455, 0.011861681, 0.010338255, 0.011152278, 0.010448286, 0.011391299, 0.011834697, 0.01193549, 0.011470119, 0.011295163, 0.010052458, 0.011539443, 0.0114810215, 0.014229824, 0.013219095, 0.011778961, 0.011188556, 0.015769316, 0.012052418, 0.012253195, 0.011519881, 0.011674041, 0.012659082, 0.012202932, 0.012242933, 0.010709384, 0.010970006, 0.013034671, 0.0136752855, 0.012378523, 0.012486843, 0.0123516405, 0.010141511, 0.010788026, 0.011430735, 0.012253678, 0.012428262, 0.012588245, 0.011739749, 0.011489468, 0.012324648, 0.015156261, 0.013374127, 0.013845116, 0.011585522, 0.012792604]\n",
      "2022-02-26 16:26:49,620 : INFO : merging changes from 2000 documents into a model of 3204 documents\n",
      "2022-02-26 16:26:49,631 : INFO : topic #64 (0.010): 0.130*\"50\" + 0.077*\"398\" + 0.053*\"0\" + 0.036*\"287\" + 0.035*\"1171\" + 0.033*\"320\" + 0.030*\"439\" + 0.025*\"112\" + 0.025*\"49\" + 0.023*\"57\"\n",
      "2022-02-26 16:26:49,632 : INFO : topic #53 (0.010): 0.196*\"22\" + 0.052*\"6\" + 0.050*\"50\" + 0.048*\"833\" + 0.038*\"0\" + 0.029*\"119\" + 0.023*\"108\" + 0.021*\"640\" + 0.016*\"83\" + 0.016*\"410\"\n",
      "2022-02-26 16:26:49,633 : INFO : topic #71 (0.016): 0.249*\"611\" + 0.204*\"83\" + 0.171*\"34\" + 0.161*\"1015\" + 0.053*\"646\" + 0.018*\"1036\" + 0.018*\"872\" + 0.017*\"73\" + 0.016*\"202\" + 0.013*\"1104\"\n",
      "2022-02-26 16:26:49,634 : INFO : topic #50 (0.016): 0.200*\"34\" + 0.193*\"35\" + 0.156*\"83\" + 0.080*\"19\" + 0.048*\"12\" + 0.047*\"69\" + 0.040*\"293\" + 0.038*\"516\" + 0.035*\"379\" + 0.027*\"392\"\n",
      "2022-02-26 16:26:49,634 : INFO : topic #6 (0.026): 0.309*\"34\" + 0.293*\"35\" + 0.227*\"83\" + 0.028*\"1182\" + 0.021*\"1192\" + 0.015*\"0\" + 0.013*\"611\" + 0.009*\"386\" + 0.009*\"254\" + 0.009*\"12\"\n",
      "2022-02-26 16:26:49,635 : INFO : topic diff=0.335171, rho=0.281696\n",
      "2022-02-26 16:26:50,402 : INFO : -6.509 per-word bound, 91.1 perplexity estimate based on a held-out corpus of 1204 documents with 49783 words\n",
      "2022-02-26 16:26:50,403 : INFO : PROGRESS: pass 10, at document #3204/3204\n",
      "2022-02-26 16:26:51,048 : INFO : optimized alpha [0.011721701, 0.0116694765, 0.010755419, 0.012013232, 0.010899312, 0.012131608, 0.02699314, 0.012377409, 0.010456071, 0.0109583, 0.011560809, 0.012768114, 0.011046558, 0.011203446, 0.011665099, 0.013005653, 0.01471919, 0.012423663, 0.012038324, 0.012042929, 0.011178798, 0.010783278, 0.012047161, 0.010943333, 0.0105128465, 0.010899587, 0.010527267, 0.01105549, 0.01065977, 0.014898785, 0.012222041, 0.010727249, 0.01135992, 0.010672509, 0.01253163, 0.015034373, 0.010721316, 0.014043077, 0.012534302, 0.0123872245, 0.012481524, 0.01143635, 0.012875437, 0.010432566, 0.010838929, 0.0110704, 0.012578441, 0.010394708, 0.0115167005, 0.011573662, 0.016025227, 0.012058562, 0.012230207, 0.01015368, 0.011244402, 0.012071258, 0.010388135, 0.011292162, 0.010553288, 0.011520547, 0.012000793, 0.012110913, 0.011615599, 0.011475106, 0.010093724, 0.011670457, 0.011636833, 0.014582522, 0.01352637, 0.011921262, 0.011330747, 0.015981559, 0.012212526, 0.012385087, 0.011680543, 0.011850007, 0.012831815, 0.012366221, 0.012510347, 0.010842015, 0.011076838, 0.013214887, 0.013959281, 0.012610631, 0.012717067, 0.0124337785, 0.010218921, 0.010869359, 0.011588469, 0.012422431, 0.01258706, 0.0128379455, 0.011918738, 0.0116084125, 0.012601461, 0.01556708, 0.013653534, 0.014129219, 0.011748054, 0.013108548]\n",
      "2022-02-26 16:26:51,055 : INFO : merging changes from 1204 documents into a model of 3204 documents\n",
      "2022-02-26 16:26:51,066 : INFO : topic #53 (0.010): 0.198*\"22\" + 0.055*\"50\" + 0.049*\"6\" + 0.041*\"833\" + 0.039*\"0\" + 0.027*\"119\" + 0.024*\"108\" + 0.022*\"640\" + 0.021*\"410\" + 0.018*\"83\"\n",
      "2022-02-26 16:26:51,067 : INFO : topic #64 (0.010): 0.132*\"50\" + 0.076*\"398\" + 0.049*\"0\" + 0.038*\"287\" + 0.037*\"1171\" + 0.033*\"320\" + 0.028*\"439\" + 0.025*\"112\" + 0.023*\"49\" + 0.023*\"57\"\n",
      "2022-02-26 16:26:51,067 : INFO : topic #71 (0.016): 0.267*\"611\" + 0.204*\"83\" + 0.162*\"34\" + 0.134*\"1015\" + 0.066*\"646\" + 0.020*\"872\" + 0.019*\"1036\" + 0.018*\"73\" + 0.016*\"1104\" + 0.016*\"202\"\n",
      "2022-02-26 16:26:51,068 : INFO : topic #50 (0.016): 0.190*\"34\" + 0.184*\"35\" + 0.151*\"83\" + 0.084*\"19\" + 0.049*\"12\" + 0.046*\"69\" + 0.045*\"516\" + 0.041*\"379\" + 0.038*\"851\" + 0.036*\"293\"\n",
      "2022-02-26 16:26:51,069 : INFO : topic #6 (0.027): 0.311*\"34\" + 0.295*\"35\" + 0.221*\"83\" + 0.032*\"1182\" + 0.025*\"1192\" + 0.016*\"0\" + 0.013*\"611\" + 0.008*\"12\" + 0.008*\"254\" + 0.007*\"386\"\n",
      "2022-02-26 16:26:51,070 : INFO : topic diff=0.341241, rho=0.281696\n",
      "2022-02-26 16:26:51,077 : INFO : PROGRESS: pass 11, at document #2000/3204\n",
      "2022-02-26 16:26:51,794 : INFO : optimized alpha [0.01184815, 0.011656454, 0.010753638, 0.01197265, 0.010903329, 0.012225846, 0.028256703, 0.012441438, 0.010416906, 0.011048987, 0.011575291, 0.012849396, 0.01110809, 0.011290881, 0.011737294, 0.0130352685, 0.014864479, 0.012540237, 0.012171834, 0.012149342, 0.011185877, 0.010794682, 0.012054181, 0.010932456, 0.010493333, 0.010909223, 0.010574475, 0.011075528, 0.01066889, 0.015009543, 0.012252329, 0.010722873, 0.011395168, 0.010670236, 0.01275044, 0.015347613, 0.010735921, 0.014170941, 0.012624025, 0.012536227, 0.012609134, 0.011491225, 0.012901917, 0.0104009295, 0.010863006, 0.011097173, 0.012678968, 0.010417374, 0.011577326, 0.011592203, 0.016268294, 0.012064558, 0.012355004, 0.010167821, 0.011308997, 0.012074388, 0.010411784, 0.011328888, 0.0105870385, 0.0115750255, 0.012107596, 0.012132386, 0.011685007, 0.011490771, 0.010088164, 0.01167997, 0.011652842, 0.014747912, 0.013684384, 0.0120646255, 0.0113621615, 0.016447186, 0.012250283, 0.012542172, 0.011685077, 0.011907193, 0.012957361, 0.012446707, 0.012523118, 0.010836845, 0.011090766, 0.013221861, 0.01418138, 0.012685983, 0.012776882, 0.01261495, 0.010242267, 0.0109036025, 0.011587335, 0.0125509575, 0.012783355, 0.0129318265, 0.012012108, 0.011694609, 0.012731805, 0.01565352, 0.013745226, 0.014231343, 0.011760499, 0.013188614]\n"
     ]
    },
    {
     "name": "stderr",
     "output_type": "stream",
     "text": [
      "2022-02-26 16:26:51,801 : INFO : merging changes from 2000 documents into a model of 3204 documents\n",
      "2022-02-26 16:26:51,813 : INFO : topic #53 (0.010): 0.199*\"22\" + 0.052*\"6\" + 0.050*\"50\" + 0.049*\"833\" + 0.037*\"0\" + 0.031*\"119\" + 0.024*\"108\" + 0.021*\"640\" + 0.017*\"410\" + 0.017*\"83\"\n",
      "2022-02-26 16:26:51,813 : INFO : topic #64 (0.010): 0.129*\"50\" + 0.080*\"398\" + 0.051*\"0\" + 0.037*\"287\" + 0.035*\"1171\" + 0.034*\"320\" + 0.030*\"439\" + 0.025*\"112\" + 0.025*\"49\" + 0.025*\"57\"\n",
      "2022-02-26 16:26:51,814 : INFO : topic #50 (0.016): 0.188*\"34\" + 0.179*\"35\" + 0.154*\"83\" + 0.090*\"19\" + 0.053*\"12\" + 0.046*\"69\" + 0.043*\"293\" + 0.041*\"516\" + 0.038*\"379\" + 0.029*\"392\"\n",
      "2022-02-26 16:26:51,815 : INFO : topic #71 (0.016): 0.253*\"611\" + 0.206*\"83\" + 0.172*\"34\" + 0.160*\"1015\" + 0.053*\"646\" + 0.019*\"872\" + 0.018*\"1036\" + 0.017*\"73\" + 0.016*\"202\" + 0.013*\"1104\"\n",
      "2022-02-26 16:26:51,816 : INFO : topic #6 (0.028): 0.314*\"34\" + 0.300*\"35\" + 0.224*\"83\" + 0.027*\"1182\" + 0.021*\"1192\" + 0.015*\"0\" + 0.010*\"611\" + 0.009*\"254\" + 0.008*\"386\" + 0.008*\"12\"\n",
      "2022-02-26 16:26:51,817 : INFO : topic diff=0.297241, rho=0.271143\n",
      "2022-02-26 16:26:52,576 : INFO : -6.496 per-word bound, 90.3 perplexity estimate based on a held-out corpus of 1204 documents with 49783 words\n",
      "2022-02-26 16:26:52,577 : INFO : PROGRESS: pass 11, at document #3204/3204\n",
      "2022-02-26 16:26:53,209 : INFO : optimized alpha [0.011877017, 0.011877301, 0.010864367, 0.012201725, 0.01103817, 0.012477373, 0.02966765, 0.012654642, 0.010505644, 0.011114308, 0.01170945, 0.013097201, 0.011217685, 0.011364849, 0.0118627185, 0.013245455, 0.0152176, 0.012679057, 0.012254584, 0.012277247, 0.011318264, 0.010890722, 0.012337882, 0.011068432, 0.010574266, 0.010999296, 0.010665679, 0.011163845, 0.01078413, 0.015388274, 0.012447132, 0.010860939, 0.011542862, 0.010749931, 0.012830609, 0.015895044, 0.0108662, 0.0144620035, 0.012860133, 0.01265489, 0.012760887, 0.011609528, 0.01311034, 0.010486409, 0.010973871, 0.011235521, 0.012820234, 0.010469122, 0.011739682, 0.011746477, 0.016312582, 0.012238041, 0.012450828, 0.010209021, 0.011393587, 0.012273055, 0.010460333, 0.0114673395, 0.010689016, 0.011703264, 0.012266596, 0.012300298, 0.011826567, 0.0116608115, 0.010133194, 0.011812482, 0.01180437, 0.015087981, 0.013989646, 0.012224863, 0.011505507, 0.016681824, 0.012411404, 0.012673046, 0.01184399, 0.012086779, 0.013136976, 0.0126054855, 0.012781704, 0.010970612, 0.011197023, 0.013399958, 0.014463083, 0.012921194, 0.013007321, 0.012696706, 0.010319789, 0.010982608, 0.011740738, 0.012715129, 0.012932024, 0.0131909195, 0.012192189, 0.0118127195, 0.013023661, 0.016056662, 0.014018609, 0.01451249, 0.011934626, 0.01349282]\n",
      "2022-02-26 16:26:53,216 : INFO : merging changes from 1204 documents into a model of 3204 documents\n",
      "2022-02-26 16:26:53,227 : INFO : topic #64 (0.010): 0.131*\"50\" + 0.079*\"398\" + 0.048*\"0\" + 0.038*\"287\" + 0.037*\"1171\" + 0.033*\"320\" + 0.028*\"439\" + 0.025*\"112\" + 0.025*\"57\" + 0.023*\"49\"\n",
      "2022-02-26 16:26:53,228 : INFO : topic #53 (0.010): 0.202*\"22\" + 0.055*\"50\" + 0.049*\"6\" + 0.042*\"833\" + 0.037*\"0\" + 0.028*\"119\" + 0.025*\"108\" + 0.023*\"640\" + 0.022*\"410\" + 0.018*\"83\"\n",
      "2022-02-26 16:26:53,228 : INFO : topic #50 (0.016): 0.178*\"34\" + 0.172*\"35\" + 0.149*\"83\" + 0.092*\"19\" + 0.056*\"12\" + 0.047*\"516\" + 0.045*\"69\" + 0.044*\"379\" + 0.041*\"851\" + 0.038*\"293\"\n",
      "2022-02-26 16:26:53,229 : INFO : topic #71 (0.017): 0.272*\"611\" + 0.205*\"83\" + 0.162*\"34\" + 0.133*\"1015\" + 0.065*\"646\" + 0.020*\"872\" + 0.019*\"1036\" + 0.017*\"73\" + 0.016*\"1104\" + 0.015*\"202\"\n",
      "2022-02-26 16:26:53,229 : INFO : topic #6 (0.030): 0.316*\"34\" + 0.302*\"35\" + 0.219*\"83\" + 0.031*\"1182\" + 0.025*\"1192\" + 0.016*\"0\" + 0.009*\"611\" + 0.008*\"12\" + 0.008*\"254\" + 0.007*\"386\"\n",
      "2022-02-26 16:26:53,231 : INFO : topic diff=0.303811, rho=0.271143\n",
      "2022-02-26 16:26:53,239 : INFO : PROGRESS: pass 12, at document #2000/3204\n",
      "2022-02-26 16:26:53,934 : INFO : optimized alpha [0.012001954, 0.011866942, 0.010865516, 0.012161411, 0.011044787, 0.012592188, 0.03100374, 0.012718209, 0.010470905, 0.011202804, 0.011723448, 0.013175937, 0.011279054, 0.011447174, 0.0119345, 0.013277161, 0.015363418, 0.012799482, 0.012383333, 0.012382608, 0.011329538, 0.010900487, 0.012346717, 0.011059227, 0.010561272, 0.011016093, 0.010718638, 0.011187841, 0.010794369, 0.015515545, 0.0124794105, 0.010865036, 0.011583012, 0.010752224, 0.013042026, 0.016230026, 0.010883094, 0.014586388, 0.012937093, 0.0128023075, 0.0128871985, 0.011661389, 0.013137245, 0.010456143, 0.010997244, 0.011268844, 0.012923279, 0.010492831, 0.011804735, 0.011764299, 0.016558805, 0.012241889, 0.012569506, 0.010223146, 0.011455031, 0.012280383, 0.010486334, 0.011502901, 0.010721842, 0.0117577985, 0.012370788, 0.012324144, 0.011892615, 0.011677229, 0.01012426, 0.011821577, 0.011816532, 0.015241705, 0.014140605, 0.012370076, 0.011537382, 0.017143069, 0.012457621, 0.012826925, 0.011849692, 0.012150052, 0.013259485, 0.012682033, 0.012793095, 0.010966922, 0.011216527, 0.013402955, 0.014685452, 0.012999192, 0.013075203, 0.012874143, 0.010342611, 0.011018936, 0.011734764, 0.012842324, 0.013126592, 0.0132908495, 0.012291157, 0.011898336, 0.0131595535, 0.016139064, 0.0141166365, 0.014619258, 0.011943156, 0.013580692]\n",
      "2022-02-26 16:26:53,941 : INFO : merging changes from 2000 documents into a model of 3204 documents\n",
      "2022-02-26 16:26:53,951 : INFO : topic #64 (0.010): 0.129*\"50\" + 0.082*\"398\" + 0.049*\"0\" + 0.037*\"287\" + 0.036*\"1171\" + 0.034*\"320\" + 0.030*\"439\" + 0.026*\"57\" + 0.025*\"112\" + 0.025*\"49\"\n",
      "2022-02-26 16:26:53,952 : INFO : topic #53 (0.010): 0.202*\"22\" + 0.053*\"6\" + 0.050*\"50\" + 0.049*\"833\" + 0.035*\"0\" + 0.032*\"119\" + 0.024*\"108\" + 0.021*\"640\" + 0.018*\"410\" + 0.018*\"83\"\n",
      "2022-02-26 16:26:53,952 : INFO : topic #50 (0.017): 0.178*\"34\" + 0.169*\"35\" + 0.151*\"83\" + 0.097*\"19\" + 0.060*\"12\" + 0.045*\"293\" + 0.045*\"69\" + 0.043*\"516\" + 0.040*\"379\" + 0.030*\"851\"\n",
      "2022-02-26 16:26:53,953 : INFO : topic #71 (0.017): 0.257*\"611\" + 0.206*\"83\" + 0.172*\"34\" + 0.159*\"1015\" + 0.053*\"646\" + 0.019*\"872\" + 0.018*\"1036\" + 0.016*\"73\" + 0.016*\"202\" + 0.013*\"1104\"\n",
      "2022-02-26 16:26:53,954 : INFO : topic #6 (0.031): 0.318*\"34\" + 0.305*\"35\" + 0.222*\"83\" + 0.027*\"1182\" + 0.020*\"1192\" + 0.015*\"0\" + 0.009*\"254\" + 0.008*\"386\" + 0.008*\"12\" + 0.007*\"611\"\n",
      "2022-02-26 16:26:53,955 : INFO : topic diff=0.265721, rho=0.261694\n",
      "2022-02-26 16:26:54,698 : INFO : -6.485 per-word bound, 89.6 perplexity estimate based on a held-out corpus of 1204 documents with 49783 words\n",
      "2022-02-26 16:26:54,698 : INFO : PROGRESS: pass 12, at document #3204/3204\n",
      "2022-02-26 16:26:55,314 : INFO : optimized alpha [0.012029628, 0.012088042, 0.01097335, 0.012382506, 0.011181016, 0.012844989, 0.032457497, 0.012921211, 0.010557318, 0.0112637095, 0.011859233, 0.013427374, 0.01138326, 0.011521412, 0.012054054, 0.013488194, 0.015700985, 0.012942975, 0.012466019, 0.012509711, 0.011473443, 0.010991585, 0.012647293, 0.011191724, 0.010640099, 0.01110621, 0.010812097, 0.011278685, 0.010908974, 0.015895272, 0.012672412, 0.011009074, 0.011732131, 0.010827466, 0.013121908, 0.016792616, 0.011010076, 0.014865483, 0.013174134, 0.012920291, 0.013043453, 0.011781682, 0.013340714, 0.01053944, 0.011105149, 0.011406259, 0.013060816, 0.010547961, 0.011988947, 0.01191732, 0.016599879, 0.012419229, 0.012662492, 0.010267882, 0.011539774, 0.012485076, 0.010533686, 0.011635302, 0.010821143, 0.011882725, 0.012531238, 0.012485181, 0.012028037, 0.011850811, 0.010161656, 0.011950609, 0.011959037, 0.015589523, 0.014450381, 0.01253197, 0.011674655, 0.017374834, 0.012620235, 0.012962733, 0.01200452, 0.012322785, 0.013434722, 0.012842246, 0.013049134, 0.011101999, 0.011324903, 0.013573498, 0.014974826, 0.013232416, 0.013312213, 0.012958551, 0.010422615, 0.0111006, 0.011894448, 0.012996743, 0.013274149, 0.013539485, 0.012488764, 0.0120132705, 0.013455603, 0.016535252, 0.014387672, 0.01490455, 0.012121024, 0.0138887055]\n",
      "2022-02-26 16:26:55,322 : INFO : merging changes from 1204 documents into a model of 3204 documents\n",
      "2022-02-26 16:26:55,333 : INFO : topic #64 (0.010): 0.131*\"50\" + 0.080*\"398\" + 0.047*\"0\" + 0.038*\"287\" + 0.038*\"1171\" + 0.033*\"320\" + 0.028*\"439\" + 0.026*\"57\" + 0.025*\"112\" + 0.024*\"49\"\n",
      "2022-02-26 16:26:55,333 : INFO : topic #53 (0.010): 0.205*\"22\" + 0.055*\"50\" + 0.050*\"6\" + 0.043*\"833\" + 0.036*\"0\" + 0.030*\"119\" + 0.025*\"108\" + 0.023*\"640\" + 0.023*\"410\" + 0.019*\"83\"\n"
     ]
    },
    {
     "name": "stderr",
     "output_type": "stream",
     "text": [
      "2022-02-26 16:26:55,334 : INFO : topic #35 (0.017): 0.486*\"41\" + 0.053*\"50\" + 0.035*\"6\" + 0.030*\"425\" + 0.026*\"0\" + 0.023*\"140\" + 0.022*\"117\" + 0.019*\"146\" + 0.018*\"63\" + 0.017*\"240\"\n",
      "2022-02-26 16:26:55,335 : INFO : topic #71 (0.017): 0.276*\"611\" + 0.206*\"83\" + 0.162*\"34\" + 0.133*\"1015\" + 0.064*\"646\" + 0.021*\"872\" + 0.019*\"1036\" + 0.015*\"202\" + 0.015*\"73\" + 0.015*\"1104\"\n",
      "2022-02-26 16:26:55,336 : INFO : topic #6 (0.032): 0.320*\"34\" + 0.307*\"35\" + 0.216*\"83\" + 0.031*\"1182\" + 0.024*\"1192\" + 0.015*\"0\" + 0.008*\"254\" + 0.008*\"12\" + 0.007*\"611\" + 0.007*\"386\"\n",
      "2022-02-26 16:26:55,337 : INFO : topic diff=0.272505, rho=0.261694\n",
      "2022-02-26 16:26:55,345 : INFO : PROGRESS: pass 13, at document #2000/3204\n",
      "2022-02-26 16:26:56,027 : INFO : optimized alpha [0.012154835, 0.012078661, 0.010974544, 0.012347324, 0.011194374, 0.012964014, 0.0338744, 0.012982811, 0.010526712, 0.011350178, 0.011883377, 0.013503699, 0.011443173, 0.011604747, 0.012121046, 0.013518463, 0.01585344, 0.01305748, 0.012595124, 0.012615861, 0.011491466, 0.011002609, 0.012656236, 0.011182686, 0.010626405, 0.011126938, 0.010865196, 0.011305046, 0.010921649, 0.016026853, 0.012701803, 0.0110086845, 0.011772592, 0.0108327195, 0.013329695, 0.017146202, 0.011027848, 0.0149847595, 0.013255606, 0.013068042, 0.013172112, 0.011833689, 0.013362985, 0.010513122, 0.011127912, 0.011438589, 0.013164854, 0.010572616, 0.0120522315, 0.011939004, 0.01684704, 0.012425824, 0.012780254, 0.010285885, 0.011601265, 0.012493124, 0.010561984, 0.011671355, 0.010854509, 0.011937354, 0.012634685, 0.012511318, 0.012092436, 0.011867916, 0.010154871, 0.011957926, 0.011970722, 0.015735881, 0.0145982485, 0.012671388, 0.011708472, 0.017836325, 0.012665043, 0.013118703, 0.012012894, 0.012389078, 0.013557887, 0.012921681, 0.013060933, 0.011103939, 0.0113496175, 0.013579583, 0.015203446, 0.013313159, 0.013376279, 0.013130967, 0.010444951, 0.0111375125, 0.011891337, 0.0131229395, 0.013465594, 0.013633323, 0.012590398, 0.01209695, 0.013590447, 0.016616061, 0.0144792115, 0.015008392, 0.012133572, 0.013977426]\n",
      "2022-02-26 16:26:56,034 : INFO : merging changes from 2000 documents into a model of 3204 documents\n",
      "2022-02-26 16:26:56,045 : INFO : topic #64 (0.010): 0.129*\"50\" + 0.084*\"398\" + 0.048*\"0\" + 0.037*\"287\" + 0.036*\"1171\" + 0.034*\"320\" + 0.030*\"439\" + 0.028*\"57\" + 0.026*\"112\" + 0.025*\"49\"\n",
      "2022-02-26 16:26:56,045 : INFO : topic #53 (0.010): 0.205*\"22\" + 0.053*\"6\" + 0.051*\"50\" + 0.049*\"833\" + 0.034*\"0\" + 0.034*\"119\" + 0.024*\"108\" + 0.021*\"640\" + 0.019*\"410\" + 0.019*\"83\"\n",
      "2022-02-26 16:26:56,046 : INFO : topic #35 (0.017): 0.490*\"41\" + 0.052*\"50\" + 0.036*\"6\" + 0.029*\"425\" + 0.025*\"0\" + 0.023*\"140\" + 0.021*\"117\" + 0.019*\"146\" + 0.018*\"63\" + 0.016*\"240\"\n",
      "2022-02-26 16:26:56,046 : INFO : topic #71 (0.018): 0.260*\"611\" + 0.207*\"83\" + 0.172*\"34\" + 0.158*\"1015\" + 0.053*\"646\" + 0.019*\"872\" + 0.018*\"1036\" + 0.016*\"202\" + 0.015*\"73\" + 0.013*\"1104\"\n",
      "2022-02-26 16:26:56,047 : INFO : topic #6 (0.034): 0.322*\"34\" + 0.310*\"35\" + 0.220*\"83\" + 0.027*\"1182\" + 0.020*\"1192\" + 0.014*\"0\" + 0.009*\"254\" + 0.008*\"386\" + 0.007*\"12\" + 0.006*\"835\"\n",
      "2022-02-26 16:26:56,048 : INFO : topic diff=0.239339, rho=0.253169\n",
      "2022-02-26 16:26:56,768 : INFO : -6.475 per-word bound, 88.9 perplexity estimate based on a held-out corpus of 1204 documents with 49783 words\n",
      "2022-02-26 16:26:56,769 : INFO : PROGRESS: pass 13, at document #3204/3204\n",
      "2022-02-26 16:26:57,347 : INFO : optimized alpha [0.012178857, 0.012292759, 0.011079762, 0.012563696, 0.0113298185, 0.013226784, 0.03538722, 0.013187073, 0.010613326, 0.011411749, 0.012018543, 0.013750617, 0.011549604, 0.011681821, 0.012235129, 0.0137221, 0.01619635, 0.0131946895, 0.012672636, 0.012742443, 0.011634517, 0.0110914875, 0.012974237, 0.011314409, 0.010707931, 0.011207764, 0.010960966, 0.011393646, 0.0110403355, 0.01641843, 0.012885165, 0.011154125, 0.011925851, 0.010912998, 0.0134067135, 0.017732129, 0.011161151, 0.015261809, 0.013482784, 0.013185571, 0.013321942, 0.011951078, 0.0135649545, 0.0105988635, 0.011233217, 0.011589889, 0.013304604, 0.010626478, 0.012230171, 0.012093607, 0.016896032, 0.012593909, 0.012867932, 0.010334029, 0.0116838375, 0.01269347, 0.010612741, 0.011803084, 0.010951365, 0.012064385, 0.012796873, 0.012665988, 0.012227174, 0.012047761, 0.010202437, 0.01208135, 0.012109873, 0.016082244, 0.0149190845, 0.0128272325, 0.011842535, 0.018065426, 0.012834715, 0.013262328, 0.01216415, 0.012563369, 0.013737745, 0.013078213, 0.0133177, 0.011235863, 0.011455367, 0.013745906, 0.01548836, 0.0135419145, 0.013605886, 0.013215267, 0.010523024, 0.011217196, 0.012054807, 0.013276421, 0.0136095, 0.013883296, 0.012789674, 0.012214175, 0.013891087, 0.017009346, 0.014733163, 0.015288762, 0.01231275, 0.014283881]\n",
      "2022-02-26 16:26:57,354 : INFO : merging changes from 1204 documents into a model of 3204 documents\n",
      "2022-02-26 16:26:57,365 : INFO : topic #64 (0.010): 0.130*\"50\" + 0.082*\"398\" + 0.046*\"0\" + 0.038*\"287\" + 0.038*\"1171\" + 0.033*\"320\" + 0.029*\"439\" + 0.027*\"57\" + 0.025*\"112\" + 0.024*\"49\"\n",
      "2022-02-26 16:26:57,366 : INFO : topic #53 (0.010): 0.207*\"22\" + 0.055*\"50\" + 0.050*\"6\" + 0.043*\"833\" + 0.035*\"0\" + 0.031*\"119\" + 0.026*\"108\" + 0.023*\"410\" + 0.023*\"640\" + 0.020*\"83\"\n",
      "2022-02-26 16:26:57,367 : INFO : topic #35 (0.018): 0.500*\"41\" + 0.051*\"50\" + 0.034*\"6\" + 0.029*\"425\" + 0.025*\"0\" + 0.023*\"140\" + 0.021*\"117\" + 0.019*\"146\" + 0.018*\"63\" + 0.016*\"1061\"\n",
      "2022-02-26 16:26:57,367 : INFO : topic #71 (0.018): 0.278*\"611\" + 0.206*\"83\" + 0.163*\"34\" + 0.133*\"1015\" + 0.063*\"646\" + 0.020*\"872\" + 0.019*\"1036\" + 0.016*\"202\" + 0.015*\"1104\" + 0.014*\"73\"\n",
      "2022-02-26 16:26:57,368 : INFO : topic #6 (0.035): 0.324*\"34\" + 0.312*\"35\" + 0.213*\"83\" + 0.030*\"1182\" + 0.024*\"1192\" + 0.015*\"0\" + 0.008*\"254\" + 0.007*\"12\" + 0.006*\"386\" + 0.006*\"835\"\n",
      "2022-02-26 16:26:57,369 : INFO : topic diff=0.245921, rho=0.253169\n",
      "2022-02-26 16:26:57,378 : INFO : PROGRESS: pass 14, at document #2000/3204\n",
      "2022-02-26 16:26:58,029 : INFO : optimized alpha [0.012301542, 0.012285982, 0.011078283, 0.012536514, 0.011345529, 0.013366455, 0.037024196, 0.013251777, 0.0105812615, 0.011495086, 0.012040509, 0.013823092, 0.011609604, 0.011766335, 0.012303648, 0.013754547, 0.016347999, 0.013310153, 0.012800735, 0.012844856, 0.011656312, 0.011105166, 0.0129864495, 0.011305532, 0.010697572, 0.011232323, 0.011015627, 0.011418074, 0.011052684, 0.01654452, 0.012918313, 0.011161817, 0.011968178, 0.010919685, 0.013612936, 0.018094487, 0.0111811105, 0.015385687, 0.013560499, 0.013333934, 0.013446582, 0.01200042, 0.013592976, 0.010576211, 0.011258235, 0.01162566, 0.0134131275, 0.010650763, 0.012294836, 0.012111552, 0.017144041, 0.012606323, 0.012983366, 0.010354395, 0.011741167, 0.012696095, 0.010644546, 0.011839653, 0.010985316, 0.01212232, 0.012904577, 0.012691346, 0.012297569, 0.012068575, 0.010198797, 0.0120899435, 0.012122615, 0.01622717, 0.01505847, 0.012962637, 0.011875475, 0.018520804, 0.012881405, 0.013412394, 0.012172103, 0.012627997, 0.013860217, 0.013155764, 0.0133332135, 0.011241766, 0.01147534, 0.013753357, 0.015723506, 0.013618913, 0.013674751, 0.013386341, 0.0105462335, 0.011254778, 0.012052946, 0.013398529, 0.013799817, 0.013983395, 0.0128971245, 0.01230059, 0.014030138, 0.01708657, 0.0148332035, 0.01538997, 0.012327708, 0.014370129]\n",
      "2022-02-26 16:26:58,036 : INFO : merging changes from 2000 documents into a model of 3204 documents\n",
      "2022-02-26 16:26:58,048 : INFO : topic #64 (0.010): 0.128*\"50\" + 0.086*\"398\" + 0.047*\"0\" + 0.037*\"287\" + 0.036*\"1171\" + 0.034*\"320\" + 0.031*\"439\" + 0.029*\"57\" + 0.026*\"112\" + 0.025*\"49\"\n",
      "2022-02-26 16:26:58,049 : INFO : topic #53 (0.010): 0.209*\"22\" + 0.054*\"6\" + 0.051*\"50\" + 0.050*\"833\" + 0.036*\"119\" + 0.033*\"0\" + 0.025*\"108\" + 0.022*\"640\" + 0.019*\"410\" + 0.019*\"83\"\n",
      "2022-02-26 16:26:58,049 : INFO : topic #35 (0.018): 0.504*\"41\" + 0.050*\"50\" + 0.035*\"6\" + 0.028*\"425\" + 0.025*\"0\" + 0.023*\"140\" + 0.021*\"117\" + 0.019*\"63\" + 0.018*\"146\" + 0.016*\"240\"\n",
      "2022-02-26 16:26:58,049 : INFO : topic #71 (0.019): 0.262*\"611\" + 0.208*\"83\" + 0.173*\"34\" + 0.157*\"1015\" + 0.053*\"646\" + 0.019*\"872\" + 0.018*\"1036\" + 0.016*\"202\" + 0.013*\"73\" + 0.013*\"1104\"\n",
      "2022-02-26 16:26:58,050 : INFO : topic #6 (0.037): 0.326*\"34\" + 0.315*\"35\" + 0.217*\"83\" + 0.026*\"1182\" + 0.020*\"1192\" + 0.014*\"0\" + 0.009*\"254\" + 0.007*\"386\" + 0.007*\"12\" + 0.006*\"835\"\n"
     ]
    },
    {
     "name": "stderr",
     "output_type": "stream",
     "text": [
      "2022-02-26 16:26:58,051 : INFO : topic diff=0.216878, rho=0.245426\n",
      "2022-02-26 16:26:58,762 : INFO : -6.467 per-word bound, 88.4 perplexity estimate based on a held-out corpus of 1204 documents with 49783 words\n",
      "2022-02-26 16:26:58,762 : INFO : PROGRESS: pass 14, at document #3204/3204\n",
      "2022-02-26 16:26:59,337 : INFO : optimized alpha [0.012327174, 0.012501089, 0.011181147, 0.012754034, 0.011480427, 0.013642546, 0.038650505, 0.013449411, 0.01066598, 0.011552756, 0.0121776415, 0.014071514, 0.011711232, 0.011846257, 0.0124176815, 0.013962471, 0.016679915, 0.013446935, 0.012878565, 0.012971083, 0.011803551, 0.011187481, 0.013308953, 0.011434423, 0.010781748, 0.011315917, 0.011111498, 0.011509356, 0.011171048, 0.016928209, 0.013098017, 0.011304294, 0.012123252, 0.011002664, 0.013690069, 0.018690027, 0.011311621, 0.015661271, 0.013786609, 0.01344309, 0.013601344, 0.012120101, 0.013782437, 0.0106622465, 0.011361191, 0.011776414, 0.013555254, 0.010703492, 0.012482064, 0.012262972, 0.01718645, 0.0127787385, 0.013068744, 0.01039943, 0.011819418, 0.012892485, 0.010692042, 0.011973364, 0.011080005, 0.012246567, 0.01307141, 0.012847963, 0.01244453, 0.012244944, 0.010239101, 0.0122106355, 0.012258778, 0.016568782, 0.015384732, 0.013125949, 0.012009076, 0.018743627, 0.013058185, 0.013549936, 0.012322663, 0.012793622, 0.014044753, 0.013311613, 0.013588389, 0.0113708675, 0.011576367, 0.013927607, 0.016013714, 0.013843606, 0.013903149, 0.013470909, 0.010622574, 0.011334976, 0.0122155035, 0.0135459155, 0.013934758, 0.0142412465, 0.013111582, 0.012420247, 0.014344352, 0.017474039, 0.015082721, 0.015675353, 0.012505954, 0.014675476]\n",
      "2022-02-26 16:26:59,345 : INFO : merging changes from 1204 documents into a model of 3204 documents\n",
      "2022-02-26 16:26:59,356 : INFO : topic #64 (0.010): 0.128*\"50\" + 0.085*\"398\" + 0.045*\"0\" + 0.038*\"287\" + 0.038*\"1171\" + 0.033*\"320\" + 0.030*\"439\" + 0.029*\"57\" + 0.026*\"112\" + 0.024*\"49\"\n",
      "2022-02-26 16:26:59,356 : INFO : topic #53 (0.010): 0.210*\"22\" + 0.055*\"50\" + 0.051*\"6\" + 0.043*\"833\" + 0.033*\"0\" + 0.033*\"119\" + 0.026*\"108\" + 0.023*\"410\" + 0.023*\"640\" + 0.020*\"83\"\n",
      "2022-02-26 16:26:59,357 : INFO : topic #35 (0.019): 0.513*\"41\" + 0.050*\"50\" + 0.034*\"6\" + 0.029*\"425\" + 0.024*\"0\" + 0.023*\"140\" + 0.021*\"117\" + 0.019*\"63\" + 0.018*\"146\" + 0.015*\"1061\"\n",
      "2022-02-26 16:26:59,357 : INFO : topic #71 (0.019): 0.280*\"611\" + 0.207*\"83\" + 0.163*\"34\" + 0.133*\"1015\" + 0.063*\"646\" + 0.020*\"872\" + 0.019*\"1036\" + 0.016*\"202\" + 0.015*\"1104\" + 0.013*\"73\"\n",
      "2022-02-26 16:26:59,358 : INFO : topic #6 (0.039): 0.328*\"34\" + 0.317*\"35\" + 0.211*\"83\" + 0.030*\"1182\" + 0.023*\"1192\" + 0.015*\"0\" + 0.008*\"254\" + 0.007*\"12\" + 0.006*\"835\" + 0.006*\"386\"\n",
      "2022-02-26 16:26:59,358 : INFO : topic diff=0.223491, rho=0.245426\n",
      "2022-02-26 16:26:59,366 : INFO : PROGRESS: pass 15, at document #2000/3204\n",
      "2022-02-26 16:27:00,004 : INFO : optimized alpha [0.012447587, 0.012490725, 0.011179789, 0.012726707, 0.011495633, 0.013795038, 0.04042699, 0.013514097, 0.010636329, 0.011635861, 0.01220341, 0.014146951, 0.011772789, 0.011933423, 0.012486304, 0.01398696, 0.016834775, 0.013561834, 0.013002808, 0.013068442, 0.01182757, 0.011202336, 0.013324345, 0.011425697, 0.010774446, 0.011334636, 0.011165085, 0.01153887, 0.011185735, 0.017042784, 0.01313479, 0.01131163, 0.012167426, 0.011009386, 0.013894977, 0.01906578, 0.011332356, 0.015780568, 0.013867499, 0.013585822, 0.013727075, 0.0121669145, 0.013809476, 0.010641697, 0.011385685, 0.011818312, 0.013663307, 0.010730069, 0.012546701, 0.012283252, 0.017423512, 0.012790566, 0.013180576, 0.010419617, 0.011875645, 0.012893027, 0.010724591, 0.012007601, 0.011113264, 0.012310549, 0.01317871, 0.012869477, 0.012519411, 0.012266429, 0.010233492, 0.012220506, 0.012271133, 0.01672069, 0.01553436, 0.013267085, 0.012038309, 0.019204022, 0.01310668, 0.013700982, 0.012333192, 0.012856761, 0.014168193, 0.013389062, 0.013604343, 0.011373845, 0.0116001265, 0.013936304, 0.016248273, 0.013918645, 0.013971917, 0.013640897, 0.01064541, 0.0113718705, 0.012219251, 0.013669026, 0.014122483, 0.014339247, 0.013220237, 0.012509437, 0.014482717, 0.017550118, 0.015171357, 0.015770208, 0.01252777, 0.014759372]\n",
      "2022-02-26 16:27:00,011 : INFO : merging changes from 2000 documents into a model of 3204 documents\n",
      "2022-02-26 16:27:00,022 : INFO : topic #64 (0.010): 0.126*\"50\" + 0.089*\"398\" + 0.046*\"0\" + 0.038*\"287\" + 0.036*\"1171\" + 0.034*\"320\" + 0.032*\"439\" + 0.030*\"57\" + 0.026*\"112\" + 0.025*\"49\"\n",
      "2022-02-26 16:27:00,022 : INFO : topic #53 (0.010): 0.212*\"22\" + 0.054*\"6\" + 0.051*\"50\" + 0.050*\"833\" + 0.037*\"119\" + 0.031*\"0\" + 0.024*\"108\" + 0.022*\"640\" + 0.020*\"410\" + 0.020*\"136\"\n",
      "2022-02-26 16:27:00,023 : INFO : topic #35 (0.019): 0.515*\"41\" + 0.049*\"50\" + 0.035*\"6\" + 0.029*\"425\" + 0.024*\"0\" + 0.023*\"140\" + 0.021*\"117\" + 0.020*\"63\" + 0.018*\"146\" + 0.015*\"466\"\n",
      "2022-02-26 16:27:00,023 : INFO : topic #71 (0.019): 0.264*\"611\" + 0.209*\"83\" + 0.173*\"34\" + 0.156*\"1015\" + 0.053*\"646\" + 0.019*\"872\" + 0.018*\"1036\" + 0.016*\"202\" + 0.013*\"1104\" + 0.013*\"73\"\n",
      "2022-02-26 16:27:00,023 : INFO : topic #6 (0.040): 0.330*\"34\" + 0.319*\"35\" + 0.215*\"83\" + 0.026*\"1182\" + 0.019*\"1192\" + 0.014*\"0\" + 0.009*\"254\" + 0.007*\"386\" + 0.006*\"12\" + 0.006*\"835\"\n",
      "2022-02-26 16:27:00,025 : INFO : topic diff=0.198202, rho=0.238352\n",
      "2022-02-26 16:27:00,705 : INFO : -6.460 per-word bound, 88.0 perplexity estimate based on a held-out corpus of 1204 documents with 49783 words\n",
      "2022-02-26 16:27:00,705 : INFO : PROGRESS: pass 15, at document #3204/3204\n",
      "2022-02-26 16:27:01,259 : INFO : optimized alpha [0.0124748545, 0.012707082, 0.011285017, 0.012945618, 0.011630171, 0.014085039, 0.042115886, 0.013711046, 0.010723559, 0.011692142, 0.0123377275, 0.01438884, 0.011872261, 0.012013862, 0.012593004, 0.014207767, 0.017152572, 0.013706498, 0.013078517, 0.013191977, 0.011967255, 0.011282955, 0.013646378, 0.0115519855, 0.010856906, 0.0114210155, 0.01126337, 0.011630517, 0.011303931, 0.017425625, 0.013316375, 0.011460446, 0.012326884, 0.011095044, 0.013972363, 0.019671014, 0.011462618, 0.01605184, 0.0140955765, 0.013697669, 0.013876006, 0.012286543, 0.013989801, 0.010725983, 0.011484248, 0.011973499, 0.0137971565, 0.010783884, 0.012728341, 0.012439164, 0.01747363, 0.012959747, 0.013263882, 0.01047005, 0.011952144, 0.013090953, 0.010775439, 0.012138611, 0.011203801, 0.012429766, 0.013345061, 0.013012758, 0.012658571, 0.012451905, 0.010273186, 0.012338714, 0.012404577, 0.017064817, 0.015875665, 0.0134301605, 0.01216926, 0.019420596, 0.013282829, 0.013835622, 0.012480706, 0.01302455, 0.014354954, 0.013541847, 0.013858299, 0.011502615, 0.011703726, 0.014101478, 0.016537776, 0.014139689, 0.014191009, 0.013720328, 0.010722298, 0.011452666, 0.012383572, 0.013810599, 0.014254348, 0.014593584, 0.013442113, 0.012626613, 0.01480248, 0.017932199, 0.015416743, 0.016057756, 0.0127153145, 0.015060853]\n",
      "2022-02-26 16:27:01,266 : INFO : merging changes from 1204 documents into a model of 3204 documents\n",
      "2022-02-26 16:27:01,278 : INFO : topic #64 (0.010): 0.127*\"50\" + 0.086*\"398\" + 0.044*\"0\" + 0.039*\"287\" + 0.038*\"1171\" + 0.033*\"320\" + 0.031*\"439\" + 0.030*\"57\" + 0.026*\"112\" + 0.024*\"49\"\n",
      "2022-02-26 16:27:01,278 : INFO : topic #53 (0.010): 0.212*\"22\" + 0.055*\"50\" + 0.051*\"6\" + 0.044*\"833\" + 0.034*\"119\" + 0.032*\"0\" + 0.026*\"108\" + 0.024*\"640\" + 0.024*\"410\" + 0.021*\"83\"\n",
      "2022-02-26 16:27:01,279 : INFO : topic #71 (0.019): 0.282*\"611\" + 0.208*\"83\" + 0.164*\"34\" + 0.133*\"1015\" + 0.063*\"646\" + 0.020*\"872\" + 0.019*\"1036\" + 0.016*\"202\" + 0.015*\"1104\" + 0.012*\"73\"\n",
      "2022-02-26 16:27:01,279 : INFO : topic #35 (0.020): 0.525*\"41\" + 0.048*\"50\" + 0.033*\"6\" + 0.029*\"425\" + 0.023*\"0\" + 0.022*\"140\" + 0.021*\"117\" + 0.020*\"63\" + 0.018*\"146\" + 0.015*\"55\"\n",
      "2022-02-26 16:27:01,280 : INFO : topic #6 (0.042): 0.331*\"34\" + 0.321*\"35\" + 0.210*\"83\" + 0.029*\"1182\" + 0.023*\"1192\" + 0.015*\"0\" + 0.008*\"254\" + 0.006*\"12\" + 0.006*\"835\" + 0.006*\"386\"\n",
      "2022-02-26 16:27:01,281 : INFO : topic diff=0.204706, rho=0.238352\n",
      "2022-02-26 16:27:01,289 : INFO : PROGRESS: pass 16, at document #2000/3204\n",
      "2022-02-26 16:27:01,923 : INFO : optimized alpha [0.01259322, 0.01269622, 0.0112850545, 0.012916691, 0.011646281, 0.014247227, 0.0439794, 0.013775735, 0.010697461, 0.011773793, 0.012368653, 0.014460734, 0.011931298, 0.012099513, 0.012664746, 0.014237728, 0.017308697, 0.013819436, 0.013202192, 0.013290642, 0.011994827, 0.011296355, 0.013656941, 0.011544748, 0.010852525, 0.011446187, 0.01131725, 0.011656788, 0.011319553, 0.017543077, 0.0133582475, 0.01146743, 0.012369988, 0.011106903, 0.014174604, 0.02005125, 0.011486712, 0.01616663, 0.014171359, 0.013838257, 0.014001291, 0.012333778, 0.01401753, 0.010704926, 0.011506943, 0.012015863, 0.013908185, 0.010810122, 0.012794524, 0.0124631915, 0.017700471, 0.012977124, 0.013375371, 0.010491231, 0.012003218, 0.0130955, 0.010810026, 0.012174835, 0.0112351375, 0.01249254, 0.013459818, 0.013035167, 0.012733438, 0.0124812, 0.010270595, 0.012346916, 0.012416545, 0.017211823, 0.016015375, 0.013573984, 0.012197827, 0.0198774, 0.013331618, 0.013989404, 0.012487935, 0.013090801, 0.014477994, 0.013619309, 0.01387467, 0.011506767, 0.0117297135, 0.014109813, 0.016771913, 0.014217785, 0.014264615, 0.013887832, 0.010744768, 0.011491557, 0.012389838, 0.01393327, 0.014438019, 0.014696283, 0.0135458475, 0.012708399, 0.0149403075, 0.018007176, 0.0155068245, 0.0161521, 0.012731809, 0.015144263]\n"
     ]
    },
    {
     "name": "stderr",
     "output_type": "stream",
     "text": [
      "2022-02-26 16:27:01,930 : INFO : merging changes from 2000 documents into a model of 3204 documents\n",
      "2022-02-26 16:27:01,941 : INFO : topic #64 (0.010): 0.125*\"50\" + 0.090*\"398\" + 0.046*\"0\" + 0.038*\"287\" + 0.037*\"1171\" + 0.035*\"320\" + 0.032*\"439\" + 0.031*\"57\" + 0.026*\"112\" + 0.025*\"49\"\n",
      "2022-02-26 16:27:01,941 : INFO : topic #53 (0.010): 0.214*\"22\" + 0.055*\"6\" + 0.051*\"50\" + 0.050*\"833\" + 0.038*\"119\" + 0.030*\"0\" + 0.024*\"108\" + 0.023*\"640\" + 0.021*\"136\" + 0.020*\"410\"\n",
      "2022-02-26 16:27:01,942 : INFO : topic #71 (0.020): 0.265*\"611\" + 0.210*\"83\" + 0.173*\"34\" + 0.156*\"1015\" + 0.053*\"646\" + 0.019*\"872\" + 0.018*\"1036\" + 0.016*\"202\" + 0.013*\"1104\" + 0.012*\"1018\"\n",
      "2022-02-26 16:27:01,942 : INFO : topic #35 (0.020): 0.527*\"41\" + 0.047*\"50\" + 0.034*\"6\" + 0.028*\"425\" + 0.023*\"0\" + 0.022*\"140\" + 0.020*\"117\" + 0.020*\"63\" + 0.018*\"146\" + 0.015*\"466\"\n",
      "2022-02-26 16:27:01,943 : INFO : topic #6 (0.044): 0.333*\"34\" + 0.323*\"35\" + 0.214*\"83\" + 0.025*\"1182\" + 0.019*\"1192\" + 0.014*\"0\" + 0.009*\"254\" + 0.007*\"386\" + 0.006*\"835\" + 0.006*\"12\"\n",
      "2022-02-26 16:27:01,944 : INFO : topic diff=0.182756, rho=0.231857\n",
      "2022-02-26 16:27:02,616 : INFO : -6.453 per-word bound, 87.6 perplexity estimate based on a held-out corpus of 1204 documents with 49783 words\n",
      "2022-02-26 16:27:02,617 : INFO : PROGRESS: pass 16, at document #3204/3204\n",
      "2022-02-26 16:27:03,156 : INFO : optimized alpha [0.012622036, 0.012911671, 0.011390434, 0.013134581, 0.011780588, 0.014565257, 0.04569554, 0.013974841, 0.010789285, 0.011828812, 0.012497994, 0.01470462, 0.012033347, 0.012173564, 0.012769362, 0.014443959, 0.017642936, 0.013961295, 0.013270931, 0.013414199, 0.012138965, 0.011375423, 0.013978796, 0.0116708875, 0.010933414, 0.0115308985, 0.011411468, 0.011751175, 0.011435551, 0.017925333, 0.013534205, 0.011615905, 0.01253151, 0.011193094, 0.014249617, 0.020666257, 0.011621268, 0.016440013, 0.014393417, 0.0139476145, 0.014152771, 0.012453529, 0.014197393, 0.010787639, 0.011603572, 0.012163767, 0.014044828, 0.010860852, 0.012980767, 0.012621162, 0.017761793, 0.013153494, 0.013456739, 0.010538747, 0.012080491, 0.013287551, 0.010857807, 0.012301013, 0.011323897, 0.012611956, 0.013623272, 0.013178331, 0.012857759, 0.012661318, 0.010311743, 0.012465229, 0.012549827, 0.017551946, 0.016359912, 0.013736957, 0.012323997, 0.020091698, 0.013504802, 0.014129475, 0.012632778, 0.013258329, 0.014664322, 0.013766591, 0.014130452, 0.011637584, 0.0118336, 0.014271763, 0.017070442, 0.014438149, 0.0144858705, 0.013965076, 0.0108201485, 0.011570792, 0.012548897, 0.014074702, 0.014564242, 0.014944521, 0.013765019, 0.012820858, 0.015268673, 0.018384263, 0.015745452, 0.016439078, 0.012918805, 0.015433388]\n",
      "2022-02-26 16:27:03,163 : INFO : merging changes from 1204 documents into a model of 3204 documents\n",
      "2022-02-26 16:27:03,174 : INFO : topic #64 (0.010): 0.126*\"50\" + 0.087*\"398\" + 0.044*\"0\" + 0.039*\"287\" + 0.038*\"1171\" + 0.034*\"320\" + 0.031*\"439\" + 0.031*\"57\" + 0.026*\"112\" + 0.024*\"49\"\n",
      "2022-02-26 16:27:03,175 : INFO : topic #53 (0.011): 0.214*\"22\" + 0.055*\"50\" + 0.052*\"6\" + 0.044*\"833\" + 0.034*\"119\" + 0.031*\"0\" + 0.026*\"108\" + 0.025*\"640\" + 0.024*\"410\" + 0.022*\"83\"\n",
      "2022-02-26 16:27:03,176 : INFO : topic #71 (0.020): 0.282*\"611\" + 0.209*\"83\" + 0.164*\"34\" + 0.133*\"1015\" + 0.062*\"646\" + 0.020*\"872\" + 0.019*\"1036\" + 0.016*\"202\" + 0.015*\"1104\" + 0.011*\"73\"\n",
      "2022-02-26 16:27:03,177 : INFO : topic #35 (0.021): 0.535*\"41\" + 0.047*\"50\" + 0.032*\"6\" + 0.029*\"425\" + 0.023*\"0\" + 0.022*\"140\" + 0.021*\"117\" + 0.021*\"63\" + 0.018*\"146\" + 0.015*\"466\"\n",
      "2022-02-26 16:27:03,177 : INFO : topic #6 (0.046): 0.334*\"34\" + 0.324*\"35\" + 0.209*\"83\" + 0.028*\"1182\" + 0.022*\"1192\" + 0.014*\"0\" + 0.008*\"254\" + 0.006*\"835\" + 0.006*\"386\" + 0.006*\"12\"\n",
      "2022-02-26 16:27:03,178 : INFO : topic diff=0.188364, rho=0.231857\n",
      "2022-02-26 16:27:03,186 : INFO : PROGRESS: pass 17, at document #2000/3204\n",
      "2022-02-26 16:27:03,798 : INFO : optimized alpha [0.012738512, 0.012900322, 0.011390514, 0.013104047, 0.01179625, 0.014732561, 0.047627337, 0.014034996, 0.010765186, 0.011910475, 0.012528262, 0.014774715, 0.0120927375, 0.012257833, 0.012842885, 0.014464649, 0.017788263, 0.014072392, 0.013391176, 0.01350818, 0.012164501, 0.011391315, 0.013992675, 0.011662399, 0.010928078, 0.011554368, 0.011468274, 0.011780995, 0.011452144, 0.018043853, 0.013579672, 0.011626497, 0.012577919, 0.0112061035, 0.014447748, 0.021050945, 0.011646109, 0.016565315, 0.01446586, 0.014087733, 0.014280881, 0.012502653, 0.014221057, 0.010768515, 0.0116258515, 0.012209356, 0.014157286, 0.010886769, 0.013048487, 0.012651696, 0.01799101, 0.013170253, 0.013566472, 0.010563336, 0.012130729, 0.013290054, 0.0108907, 0.012340616, 0.011354688, 0.012673589, 0.013740897, 0.013201655, 0.012940134, 0.012695514, 0.01030722, 0.012474682, 0.012560058, 0.017706197, 0.0165045, 0.013882022, 0.012350529, 0.02054932, 0.013558632, 0.014281233, 0.012639706, 0.013330758, 0.014787007, 0.01384259, 0.014145621, 0.011642873, 0.01185368, 0.014278094, 0.01731375, 0.014516141, 0.014557836, 0.014128725, 0.010842304, 0.011609054, 0.012557635, 0.014197037, 0.01474734, 0.015045476, 0.013868647, 0.012904153, 0.015411128, 0.018456275, 0.015840692, 0.016534992, 0.012937531, 0.015514697]\n",
      "2022-02-26 16:27:03,805 : INFO : merging changes from 2000 documents into a model of 3204 documents\n",
      "2022-02-26 16:27:03,817 : INFO : topic #64 (0.010): 0.123*\"50\" + 0.090*\"398\" + 0.045*\"0\" + 0.038*\"287\" + 0.037*\"1171\" + 0.035*\"320\" + 0.033*\"439\" + 0.032*\"57\" + 0.026*\"112\" + 0.025*\"49\"\n",
      "2022-02-26 16:27:03,818 : INFO : topic #53 (0.011): 0.216*\"22\" + 0.056*\"6\" + 0.051*\"50\" + 0.051*\"833\" + 0.039*\"119\" + 0.029*\"0\" + 0.024*\"108\" + 0.023*\"640\" + 0.022*\"136\" + 0.021*\"83\"\n",
      "2022-02-26 16:27:03,818 : INFO : topic #71 (0.021): 0.266*\"611\" + 0.211*\"83\" + 0.173*\"34\" + 0.155*\"1015\" + 0.053*\"646\" + 0.019*\"872\" + 0.018*\"1036\" + 0.016*\"202\" + 0.013*\"1104\" + 0.012*\"1018\"\n",
      "2022-02-26 16:27:03,819 : INFO : topic #35 (0.021): 0.537*\"41\" + 0.046*\"50\" + 0.034*\"6\" + 0.028*\"425\" + 0.022*\"0\" + 0.022*\"140\" + 0.021*\"63\" + 0.020*\"117\" + 0.017*\"146\" + 0.015*\"466\"\n",
      "2022-02-26 16:27:03,819 : INFO : topic #6 (0.048): 0.336*\"34\" + 0.326*\"35\" + 0.212*\"83\" + 0.025*\"1182\" + 0.019*\"1192\" + 0.013*\"0\" + 0.009*\"254\" + 0.006*\"386\" + 0.006*\"835\" + 0.005*\"879\"\n",
      "2022-02-26 16:27:03,820 : INFO : topic diff=0.169215, rho=0.225865\n",
      "2022-02-26 16:27:04,497 : INFO : -6.445 per-word bound, 87.1 perplexity estimate based on a held-out corpus of 1204 documents with 49783 words\n",
      "2022-02-26 16:27:04,498 : INFO : PROGRESS: pass 17, at document #3204/3204\n",
      "2022-02-26 16:27:05,031 : INFO : optimized alpha [0.012766495, 0.013110251, 0.011491882, 0.013323717, 0.011930455, 0.015068758, 0.049363993, 0.014233801, 0.010851244, 0.011966584, 0.012662598, 0.015020946, 0.012195199, 0.01233266, 0.012943096, 0.014673149, 0.01812581, 0.014206347, 0.013460745, 0.013629418, 0.012308626, 0.011471131, 0.014309356, 0.011786333, 0.011009578, 0.01164193, 0.01156726, 0.011880267, 0.011568268, 0.018418837, 0.013750279, 0.011776899, 0.012744031, 0.011292875, 0.01452054, 0.021683369, 0.0117806215, 0.016831802, 0.01467947, 0.014200045, 0.014429762, 0.012617963, 0.014397935, 0.0108497655, 0.011720744, 0.01235969, 0.014288779, 0.010936638, 0.013232113, 0.012807168, 0.018059714, 0.013343776, 0.013648623, 0.010612034, 0.012204274, 0.013481577, 0.010937641, 0.012464617, 0.0114439605, 0.012798052, 0.013899168, 0.0133398045, 0.013076994, 0.012877738, 0.0103457915, 0.012590885, 0.012698136, 0.018049655, 0.016852362, 0.014047654, 0.012472219, 0.020757642, 0.013731666, 0.014437753, 0.012782089, 0.013498271, 0.014967566, 0.013992519, 0.014398175, 0.011773665, 0.011960226, 0.014434412, 0.017608982, 0.014733399, 0.01477595, 0.014209296, 0.010920419, 0.011691169, 0.012718822, 0.014335826, 0.014870886, 0.015302034, 0.0140904, 0.013019315, 0.015742943, 0.01882863, 0.016075917, 0.016815277, 0.0131266955, 0.015800443]\n",
      "2022-02-26 16:27:05,038 : INFO : merging changes from 1204 documents into a model of 3204 documents\n",
      "2022-02-26 16:27:05,049 : INFO : topic #64 (0.010): 0.124*\"50\" + 0.090*\"398\" + 0.043*\"0\" + 0.040*\"287\" + 0.039*\"1171\" + 0.034*\"320\" + 0.032*\"439\" + 0.032*\"57\" + 0.026*\"112\" + 0.023*\"49\"\n",
      "2022-02-26 16:27:05,050 : INFO : topic #53 (0.011): 0.215*\"22\" + 0.056*\"50\" + 0.053*\"6\" + 0.044*\"833\" + 0.035*\"119\" + 0.030*\"0\" + 0.026*\"640\" + 0.025*\"108\" + 0.024*\"410\" + 0.022*\"83\"\n"
     ]
    },
    {
     "name": "stderr",
     "output_type": "stream",
     "text": [
      "2022-02-26 16:27:05,051 : INFO : topic #71 (0.021): 0.282*\"611\" + 0.211*\"83\" + 0.164*\"34\" + 0.133*\"1015\" + 0.062*\"646\" + 0.020*\"872\" + 0.019*\"1036\" + 0.016*\"202\" + 0.015*\"1104\" + 0.011*\"1017\"\n",
      "2022-02-26 16:27:05,051 : INFO : topic #35 (0.022): 0.545*\"41\" + 0.045*\"50\" + 0.032*\"6\" + 0.029*\"425\" + 0.022*\"0\" + 0.022*\"140\" + 0.021*\"63\" + 0.021*\"117\" + 0.017*\"146\" + 0.015*\"466\"\n",
      "2022-02-26 16:27:05,052 : INFO : topic #6 (0.049): 0.337*\"34\" + 0.327*\"35\" + 0.208*\"83\" + 0.028*\"1182\" + 0.022*\"1192\" + 0.014*\"0\" + 0.009*\"254\" + 0.006*\"835\" + 0.006*\"386\" + 0.005*\"879\"\n",
      "2022-02-26 16:27:05,053 : INFO : topic diff=0.174380, rho=0.225865\n",
      "2022-02-26 16:27:05,061 : INFO : PROGRESS: pass 18, at document #2000/3204\n",
      "2022-02-26 16:27:05,661 : INFO : optimized alpha [0.01288124, 0.01309848, 0.011492032, 0.013291529, 0.011945691, 0.015249773, 0.05140783, 0.014295694, 0.010827845, 0.012049663, 0.012695093, 0.015090997, 0.012254963, 0.012412921, 0.01301837, 0.014686458, 0.018270677, 0.01431884, 0.01358071, 0.013720421, 0.012334918, 0.011486856, 0.014324833, 0.011777966, 0.011003317, 0.011667653, 0.011621874, 0.0119082825, 0.011589589, 0.018536484, 0.013793228, 0.01178971, 0.01278941, 0.011306998, 0.014716422, 0.022062797, 0.011802309, 0.016949235, 0.01475704, 0.014339894, 0.014556175, 0.0126662245, 0.0144208325, 0.010831286, 0.011745264, 0.012412658, 0.014402758, 0.010965957, 0.013301507, 0.012834086, 0.018275475, 0.013362897, 0.013756814, 0.010634025, 0.012255089, 0.013485093, 0.010977297, 0.012504857, 0.011474249, 0.012862897, 0.014016647, 0.013368581, 0.013159511, 0.012911105, 0.010340579, 0.01260294, 0.012709463, 0.01819727, 0.016992722, 0.014198774, 0.012499602, 0.021211617, 0.013787393, 0.014594257, 0.012788737, 0.0135709215, 0.015091752, 0.014064057, 0.014417017, 0.011777439, 0.011985261, 0.014443638, 0.017854132, 0.014811367, 0.014852844, 0.014369312, 0.010942261, 0.011731438, 0.01272711, 0.014454828, 0.015053596, 0.0154027855, 0.014195572, 0.013101329, 0.015886815, 0.018904101, 0.016165715, 0.016907206, 0.013147586, 0.01588148]\n",
      "2022-02-26 16:27:05,668 : INFO : merging changes from 2000 documents into a model of 3204 documents\n",
      "2022-02-26 16:27:05,680 : INFO : topic #64 (0.010): 0.122*\"50\" + 0.094*\"398\" + 0.044*\"0\" + 0.039*\"287\" + 0.037*\"1171\" + 0.035*\"320\" + 0.034*\"439\" + 0.034*\"57\" + 0.027*\"112\" + 0.025*\"49\"\n",
      "2022-02-26 16:27:05,681 : INFO : topic #53 (0.011): 0.217*\"22\" + 0.056*\"6\" + 0.052*\"50\" + 0.051*\"833\" + 0.039*\"119\" + 0.028*\"0\" + 0.024*\"640\" + 0.024*\"108\" + 0.023*\"136\" + 0.022*\"83\"\n",
      "2022-02-26 16:27:05,682 : INFO : topic #71 (0.021): 0.267*\"611\" + 0.212*\"83\" + 0.174*\"34\" + 0.155*\"1015\" + 0.053*\"646\" + 0.019*\"872\" + 0.018*\"1036\" + 0.016*\"202\" + 0.013*\"1104\" + 0.012*\"1018\"\n",
      "2022-02-26 16:27:05,682 : INFO : topic #35 (0.022): 0.546*\"41\" + 0.044*\"50\" + 0.033*\"6\" + 0.028*\"425\" + 0.022*\"140\" + 0.022*\"0\" + 0.021*\"63\" + 0.021*\"117\" + 0.017*\"146\" + 0.015*\"466\"\n",
      "2022-02-26 16:27:05,683 : INFO : topic #6 (0.051): 0.338*\"34\" + 0.328*\"35\" + 0.212*\"83\" + 0.024*\"1182\" + 0.019*\"1192\" + 0.013*\"0\" + 0.009*\"254\" + 0.006*\"386\" + 0.006*\"835\" + 0.005*\"879\"\n",
      "2022-02-26 16:27:05,684 : INFO : topic diff=0.157434, rho=0.220316\n",
      "2022-02-26 16:27:06,324 : INFO : -6.440 per-word bound, 86.8 perplexity estimate based on a held-out corpus of 1204 documents with 49783 words\n",
      "2022-02-26 16:27:06,324 : INFO : PROGRESS: pass 18, at document #3204/3204\n",
      "2022-02-26 16:27:06,835 : INFO : optimized alpha [0.012908448, 0.013305567, 0.011595893, 0.013513129, 0.012084349, 0.015596353, 0.053148236, 0.014494355, 0.010920453, 0.012104638, 0.012831907, 0.015334199, 0.012357922, 0.012490872, 0.013131322, 0.014889116, 0.01859475, 0.0144583285, 0.013643727, 0.013839513, 0.012481393, 0.011565298, 0.014655188, 0.011899875, 0.011083476, 0.01174949, 0.011719245, 0.012005895, 0.011705947, 0.018914944, 0.013958742, 0.011944304, 0.012955474, 0.011394388, 0.014787113, 0.022708962, 0.011936819, 0.017209053, 0.014965144, 0.01445, 0.014699877, 0.012781926, 0.014597607, 0.010913179, 0.011838508, 0.012565469, 0.014534651, 0.011021053, 0.013487625, 0.0129990885, 0.018338162, 0.013541184, 0.013834749, 0.010681943, 0.012327319, 0.01367634, 0.011025457, 0.012622206, 0.01156199, 0.0129902065, 0.014172485, 0.013501999, 0.01328691, 0.013100386, 0.010374821, 0.0127194375, 0.012840575, 0.018544096, 0.017353782, 0.014364631, 0.012619303, 0.021413995, 0.013960456, 0.014745712, 0.012926476, 0.013738467, 0.015272266, 0.014211552, 0.0146665005, 0.011901821, 0.012090016, 0.014594705, 0.018142816, 0.015023005, 0.015070802, 0.014450578, 0.011021064, 0.011814282, 0.012888149, 0.014591166, 0.015171843, 0.015653932, 0.014420209, 0.013214536, 0.016222341, 0.019272048, 0.016394498, 0.017199935, 0.01333902, 0.0161582]\n",
      "2022-02-26 16:27:06,842 : INFO : merging changes from 1204 documents into a model of 3204 documents\n",
      "2022-02-26 16:27:06,853 : INFO : topic #64 (0.010): 0.124*\"50\" + 0.094*\"398\" + 0.043*\"0\" + 0.040*\"287\" + 0.040*\"1171\" + 0.035*\"320\" + 0.033*\"439\" + 0.033*\"57\" + 0.027*\"112\" + 0.022*\"49\"\n",
      "2022-02-26 16:27:06,853 : INFO : topic #53 (0.011): 0.217*\"22\" + 0.056*\"50\" + 0.053*\"6\" + 0.045*\"833\" + 0.035*\"119\" + 0.029*\"0\" + 0.026*\"640\" + 0.025*\"108\" + 0.024*\"410\" + 0.022*\"83\"\n",
      "2022-02-26 16:27:06,854 : INFO : topic #71 (0.021): 0.282*\"611\" + 0.213*\"83\" + 0.165*\"34\" + 0.134*\"1015\" + 0.062*\"646\" + 0.020*\"872\" + 0.019*\"1036\" + 0.015*\"202\" + 0.015*\"1104\" + 0.011*\"1017\"\n",
      "2022-02-26 16:27:06,855 : INFO : topic #35 (0.023): 0.552*\"41\" + 0.044*\"50\" + 0.031*\"6\" + 0.028*\"425\" + 0.022*\"140\" + 0.022*\"63\" + 0.022*\"0\" + 0.021*\"117\" + 0.017*\"146\" + 0.015*\"466\"\n",
      "2022-02-26 16:27:06,855 : INFO : topic #6 (0.053): 0.339*\"34\" + 0.329*\"35\" + 0.207*\"83\" + 0.028*\"1182\" + 0.022*\"1192\" + 0.014*\"0\" + 0.009*\"254\" + 0.006*\"835\" + 0.006*\"386\" + 0.005*\"879\"\n",
      "2022-02-26 16:27:06,856 : INFO : topic diff=0.162209, rho=0.220316\n",
      "2022-02-26 16:27:06,875 : INFO : PROGRESS: pass 19, at document #2000/3204\n",
      "2022-02-26 16:27:07,460 : INFO : optimized alpha [0.013024409, 0.013293386, 0.011601062, 0.013485239, 0.0121017285, 0.015783085, 0.05524242, 0.0145564955, 0.01089883, 0.012189137, 0.012867951, 0.015402662, 0.012416745, 0.012570011, 0.013199788, 0.0149081545, 0.018733114, 0.014570809, 0.013762057, 0.013930658, 0.012508426, 0.011580887, 0.0146723, 0.011891606, 0.011078735, 0.01177616, 0.011773029, 0.0120321335, 0.011731887, 0.019031776, 0.014002334, 0.011960511, 0.013001322, 0.011410803, 0.01498091, 0.023087477, 0.011961828, 0.01732065, 0.01504451, 0.014588064, 0.014824664, 0.01283079, 0.014626137, 0.010892899, 0.011862626, 0.012613399, 0.014643954, 0.011051197, 0.013554321, 0.013023911, 0.01854682, 0.013561125, 0.013942985, 0.010707197, 0.012380061, 0.013682297, 0.011069408, 0.0126589965, 0.011591826, 0.01305398, 0.014293024, 0.013527287, 0.013369579, 0.013139954, 0.010370112, 0.012728555, 0.012854384, 0.018695306, 0.017489985, 0.014514061, 0.01264209, 0.021873523, 0.014018144, 0.014905404, 0.012932872, 0.013809892, 0.015397932, 0.014283335, 0.014681053, 0.011906734, 0.012113343, 0.014600468, 0.018395687, 0.015099437, 0.01514626, 0.014611762, 0.011042598, 0.0118552325, 0.012898827, 0.014706983, 0.015350992, 0.015756393, 0.014527001, 0.013301051, 0.016374629, 0.019346844, 0.016482498, 0.017291399, 0.013356253, 0.016237397]\n",
      "2022-02-26 16:27:07,467 : INFO : merging changes from 2000 documents into a model of 3204 documents\n",
      "2022-02-26 16:27:07,478 : INFO : topic #64 (0.010): 0.122*\"50\" + 0.097*\"398\" + 0.044*\"0\" + 0.039*\"287\" + 0.038*\"1171\" + 0.035*\"320\" + 0.035*\"57\" + 0.034*\"439\" + 0.027*\"112\" + 0.024*\"49\"\n",
      "2022-02-26 16:27:07,478 : INFO : topic #53 (0.011): 0.218*\"22\" + 0.057*\"6\" + 0.052*\"50\" + 0.051*\"833\" + 0.040*\"119\" + 0.027*\"0\" + 0.025*\"640\" + 0.024*\"136\" + 0.024*\"108\" + 0.022*\"83\"\n",
      "2022-02-26 16:27:07,479 : INFO : topic #71 (0.022): 0.267*\"611\" + 0.214*\"83\" + 0.174*\"34\" + 0.155*\"1015\" + 0.053*\"646\" + 0.019*\"872\" + 0.018*\"1036\" + 0.016*\"202\" + 0.013*\"1104\" + 0.012*\"1018\"\n",
      "2022-02-26 16:27:07,479 : INFO : topic #35 (0.023): 0.553*\"41\" + 0.043*\"50\" + 0.032*\"6\" + 0.028*\"425\" + 0.022*\"140\" + 0.022*\"63\" + 0.021*\"0\" + 0.021*\"117\" + 0.017*\"146\" + 0.015*\"466\"\n",
      "2022-02-26 16:27:07,480 : INFO : topic #6 (0.055): 0.340*\"34\" + 0.330*\"35\" + 0.211*\"83\" + 0.024*\"1182\" + 0.018*\"1192\" + 0.013*\"0\" + 0.009*\"254\" + 0.006*\"386\" + 0.006*\"835\" + 0.005*\"879\"\n"
     ]
    },
    {
     "name": "stderr",
     "output_type": "stream",
     "text": [
      "2022-02-26 16:27:07,481 : INFO : topic diff=0.146903, rho=0.215156\n",
      "2022-02-26 16:27:08,116 : INFO : -6.435 per-word bound, 86.5 perplexity estimate based on a held-out corpus of 1204 documents with 49783 words\n",
      "2022-02-26 16:27:08,116 : INFO : PROGRESS: pass 19, at document #3204/3204\n",
      "2022-02-26 16:27:08,610 : INFO : optimized alpha [0.013048513, 0.013500226, 0.011703331, 0.013706583, 0.01224704, 0.01614908, 0.05698359, 0.014755296, 0.010986016, 0.012245245, 0.013009685, 0.015648566, 0.0125202825, 0.0126465615, 0.0133013185, 0.015102594, 0.019071057, 0.014705395, 0.013828512, 0.014047749, 0.012659622, 0.011658115, 0.014995302, 0.01201375, 0.01115764, 0.011856698, 0.0118709495, 0.01212814, 0.0118464595, 0.019406896, 0.014168034, 0.012119529, 0.013169953, 0.01150301, 0.015052299, 0.023751266, 0.01209445, 0.017574193, 0.015258193, 0.014698719, 0.01496877, 0.012946959, 0.014805671, 0.010973525, 0.011956472, 0.012766533, 0.014770983, 0.011101479, 0.01373818, 0.013189068, 0.018607121, 0.013734529, 0.014019384, 0.010750532, 0.012451081, 0.013878331, 0.011118782, 0.012779064, 0.011678154, 0.013184015, 0.014446587, 0.013653784, 0.013499911, 0.013322355, 0.0103983525, 0.012838652, 0.012990487, 0.019052438, 0.017842498, 0.01468012, 0.0127599565, 0.02206977, 0.014196407, 0.0150463665, 0.013068525, 0.013985236, 0.015589495, 0.014431087, 0.014932963, 0.012033515, 0.012218673, 0.014751836, 0.018684326, 0.015313784, 0.0153641645, 0.014691143, 0.011120171, 0.011936754, 0.01306217, 0.014838363, 0.015469563, 0.016016304, 0.014749323, 0.013410046, 0.016714005, 0.019710662, 0.016717346, 0.017587356, 0.013550172, 0.016505169]\n",
      "2022-02-26 16:27:08,618 : INFO : merging changes from 1204 documents into a model of 3204 documents\n",
      "2022-02-26 16:27:08,629 : INFO : topic #64 (0.010): 0.123*\"50\" + 0.097*\"398\" + 0.043*\"0\" + 0.041*\"287\" + 0.040*\"1171\" + 0.034*\"320\" + 0.034*\"57\" + 0.034*\"439\" + 0.027*\"112\" + 0.022*\"49\"\n",
      "2022-02-26 16:27:08,630 : INFO : topic #53 (0.011): 0.218*\"22\" + 0.056*\"50\" + 0.054*\"6\" + 0.045*\"833\" + 0.036*\"119\" + 0.028*\"0\" + 0.026*\"640\" + 0.025*\"108\" + 0.024*\"410\" + 0.023*\"83\"\n",
      "2022-02-26 16:27:08,631 : INFO : topic #71 (0.022): 0.282*\"611\" + 0.214*\"83\" + 0.166*\"34\" + 0.134*\"1015\" + 0.061*\"646\" + 0.020*\"872\" + 0.019*\"1036\" + 0.015*\"202\" + 0.015*\"1104\" + 0.011*\"1017\"\n",
      "2022-02-26 16:27:08,631 : INFO : topic #35 (0.024): 0.559*\"41\" + 0.042*\"50\" + 0.031*\"6\" + 0.028*\"425\" + 0.022*\"63\" + 0.022*\"140\" + 0.021*\"117\" + 0.021*\"0\" + 0.017*\"146\" + 0.015*\"466\"\n",
      "2022-02-26 16:27:08,632 : INFO : topic #6 (0.057): 0.340*\"34\" + 0.331*\"35\" + 0.207*\"83\" + 0.027*\"1182\" + 0.021*\"1192\" + 0.014*\"0\" + 0.009*\"254\" + 0.006*\"835\" + 0.006*\"386\" + 0.005*\"879\"\n",
      "2022-02-26 16:27:08,634 : INFO : topic diff=0.151506, rho=0.215156\n",
      "2022-02-26 16:27:08,641 : INFO : LdaModel lifecycle event {'msg': 'trained LdaModel(num_terms=1197, num_topics=100, decay=0.5, chunksize=2000) in 45.37s', 'datetime': '2022-02-26T16:27:08.641389', 'gensim': '4.1.2', 'python': '3.9.7 (default, Sep 16 2021, 16:59:28) [MSC v.1916 64 bit (AMD64)]', 'platform': 'Windows-10-10.0.19042-SP0', 'event': 'created'}\n"
     ]
    },
    {
     "data": {
      "text/plain": [
       "[(0, 0.005315399),\n",
       " (1, 0.005499407),\n",
       " (2, 0.00476743),\n",
       " (3, 0.005583468),\n",
       " (4, 0.0049889134),\n",
       " (5, 0.006578435),\n",
       " (6, 0.023212645),\n",
       " (7, 0.0060106684),\n",
       " (8, 0.004475227),\n",
       " (9, 0.0049881823),\n",
       " (10, 0.4126533),\n",
       " (11, 0.0063745477),\n",
       " (12, 0.0051002204),\n",
       " (13, 0.005151661),\n",
       " (14, 0.0054183807),\n",
       " (15, 0.0061521423),\n",
       " (16, 0.0077687227),\n",
       " (17, 0.005990341),\n",
       " (18, 0.0056331367),\n",
       " (19, 0.0057224445),\n",
       " (20, 0.0051569818),\n",
       " (21, 0.0047490112),\n",
       " (22, 0.0061084363),\n",
       " (23, 0.0048938813),\n",
       " (24, 0.004545139),\n",
       " (25, 0.0048299055),\n",
       " (26, 0.0048357104),\n",
       " (27, 0.0049404786),\n",
       " (28, 0.0048257345),\n",
       " (29, 0.007905529),\n",
       " (30, 0.0057714432),\n",
       " (31, 0.004936971),\n",
       " (32, 0.0053648683),\n",
       " (33, 0.004685828),\n",
       " (34, 0.0061316546),\n",
       " (35, 0.009675236),\n",
       " (36, 0.004926755),\n",
       " (37, 0.007158965),\n",
       " (38, 0.0062155267),\n",
       " (39, 0.0059876214),\n",
       " (40, 0.0060976283),\n",
       " (41, 0.00527403),\n",
       " (42, 0.0060311886),\n",
       " (43, 0.004470139),\n",
       " (44, 0.004870549),\n",
       " (45, 0.0052005323),\n",
       " (46, 0.0060170586),\n",
       " (47, 0.0045222617),\n",
       " (48, 0.0055963392),\n",
       " (49, 0.005372655),\n",
       " (50, 0.007579735),\n",
       " (51, 0.005594852),\n",
       " (52, 0.0057108896),\n",
       " (53, 0.004379301),\n",
       " (54, 0.0050720307),\n",
       " (55, 0.0056534307),\n",
       " (56, 0.00452931),\n",
       " (57, 0.005205637),\n",
       " (58, 0.004757174),\n",
       " (59, 0.0053705964),\n",
       " (60, 0.0058849137),\n",
       " (61, 0.00556196),\n",
       " (62, 0.0054992787),\n",
       " (63, 0.0054269503),\n",
       " (64, 0.004235838),\n",
       " (65, 0.005229911),\n",
       " (66, 0.0052917614),\n",
       " (67, 0.007761138),\n",
       " (68, 0.0072682607),\n",
       " (69, 0.005980045),\n",
       " (70, 0.0051978533),\n",
       " (71, 0.008990268),\n",
       " (72, 0.005783001),\n",
       " (73, 0.006129238),\n",
       " (74, 0.005323551),\n",
       " (75, 0.0056969794),\n",
       " (76, 0.006350485),\n",
       " (77, 0.0058786),\n",
       " (78, 0.0060830424),\n",
       " (79, 0.0049019326),\n",
       " (80, 0.004977358),\n",
       " (81, 0.006009259),\n",
       " (82, 0.007611185),\n",
       " (83, 0.006238172),\n",
       " (84, 0.006258695),\n",
       " (85, 0.0059845354),\n",
       " (86, 0.004529876),\n",
       " (87, 0.004862516),\n",
       " (88, 0.005320962),\n",
       " (89, 0.006044506),\n",
       " (90, 0.00630163),\n",
       " (91, 0.0065243486),\n",
       " (92, 0.0060082353),\n",
       " (93, 0.0054626716),\n",
       " (94, 0.0068085613),\n",
       " (95, 0.00802927),\n",
       " (96, 0.0068099224),\n",
       " (97, 0.007164327),\n",
       " (98, 0.005519753),\n",
       " (99, 0.0067234905)]"
      ]
     },
     "execution_count": 85,
     "metadata": {},
     "output_type": "execute_result"
    }
   ],
   "source": [
    "##### Function check\n",
    "lda = LdaRetrievalModel(doc_repr_2)\n",
    "lda.train_model()\n",
    "\n",
    "# you can now get an LDA vector for a given query in the following way:\n",
    "lda.vectorize_query(\"report\")\n",
    "##### "
   ]
  },
  {
   "cell_type": "markdown",
   "metadata": {
    "deletable": false,
    "editable": false,
    "nbgrader": {
     "cell_type": "markdown",
     "checksum": "32d83b6ea79ca3ddb789a7f8805a1b25",
     "grade": false,
     "grade_id": "cell-0e24b727d5908c0e",
     "locked": true,
     "points": 5,
     "schema_version": 3,
     "solution": false,
     "task": true
    }
   },
   "source": [
    "\\#### Please do not change this. This cell is used for grading."
   ]
  },
  {
   "cell_type": "markdown",
   "metadata": {
    "deletable": false,
    "editable": false,
    "nbgrader": {
     "cell_type": "markdown",
     "checksum": "114a934f0b9ce696e6cf09d3b8da6a3d",
     "grade": false,
     "grade_id": "cell-b1bffcb970b18aeb",
     "locked": true,
     "schema_version": 3,
     "solution": false,
     "task": false
    }
   },
   "source": [
    "---\n",
    "Now we can use the `DenseRetrievalModel` class to obtain an LDA search function.\n",
    "You can test your LDA model in the following cell: Try finding queries which are lexically different to documents, but semantically similar - does LDA work well for these queries?!"
   ]
  },
  {
   "cell_type": "code",
   "execution_count": 86,
   "metadata": {},
   "outputs": [
    {
     "data": {
      "application/vnd.jupyter.widget-view+json": {
       "model_id": "c0fd0a76e39b44dd82761ab8a0062345",
       "version_major": 2,
       "version_minor": 0
      },
      "text/plain": [
       "Text(value='', description='Search Bar')"
      ]
     },
     "metadata": {},
     "output_type": "display_data"
    }
   ],
   "source": [
    "drm_lda = DenseRetrievalRanker(lda, jenson_shannon_sim)\n",
    "\n",
    "# test your LDA model\n",
    "search_fn = drm_lda.search\n",
    "\n",
    "text = widgets.Text(description=\"Search Bar\", width=200)\n",
    "display(text)\n",
    "\n",
    "\n",
    "text.on_submit(handle_submit_2)"
   ]
  },
  {
   "cell_type": "markdown",
   "metadata": {
    "deletable": false,
    "editable": false,
    "nbgrader": {
     "cell_type": "markdown",
     "checksum": "9d7f15863b655119b45f4d89354e5661",
     "grade": false,
     "grade_id": "cell-190cd0854b2791cc",
     "locked": true,
     "schema_version": 3,
     "solution": false,
     "task": false
    }
   },
   "source": [
    "## Section 8: Word2Vec/Doc2Vec (20 points) <a class=\"anchor\" id=\"2vec\"></a>\n",
    "\n",
    "[Back to Part 2](#part2)\n",
    "\n",
    "We will implement two other methods here, the Word2Vec model and the Doc2Vec model, also using `gensim`. Word2Vec creates representations of words, not documents, so the word level vectors need to be aggregated to obtain a representation for the document. Here, we will simply take the mean of the vectors. \n",
    "\n",
    "\n",
    "A drawback of these models is that they need a lot of training data. Our dataset is tiny, so in addition to using a model trained on the data, we will also use a pre-trained model for Word2Vec (this will be automatically downloaded).     \n",
    "\n",
    "*Note*:\n",
    "1. The code in vectorize_documents / vectorize_query should return gensim-like vectors i.e `[(dim, val), .. (dim, val)]`. \n",
    "2. For Word2Vec: You should also handle the following two cases: (a) A word in the query is not present in the vocabulary of the model and (b) none of the words in the query are present in the model - you can return 0 scores for all documents in this case. For either of these, you can check if a `word` is present in the vocab by using `word in self.model`\n"
   ]
  },
  {
   "cell_type": "code",
   "execution_count": 87,
   "metadata": {
    "deletable": false,
    "nbgrader": {
     "cell_type": "code",
     "checksum": "83ab733608ed14c29c09b36b4e1b6daa",
     "grade": false,
     "grade_id": "cell-2b73759f9baf688f",
     "locked": false,
     "schema_version": 3,
     "solution": true,
     "task": false
    }
   },
   "outputs": [
    {
     "name": "stderr",
     "output_type": "stream",
     "text": [
      "2022-02-26 16:27:10,120 : INFO : adding document #0 to Dictionary(0 unique tokens: [])\n",
      "2022-02-26 16:27:10,211 : INFO : built Dictionary(5937 unique tokens: ['-', 'algebra', 'intern', 'languag', 'preliminari']...) from 3204 documents (total 115969 corpus positions)\n",
      "2022-02-26 16:27:10,212 : INFO : Dictionary lifecycle event {'msg': \"built Dictionary(5937 unique tokens: ['-', 'algebra', 'intern', 'languag', 'preliminari']...) from 3204 documents (total 115969 corpus positions)\", 'datetime': '2022-02-26T16:27:10.212713', 'gensim': '4.1.2', 'python': '3.9.7 (default, Sep 16 2021, 16:59:28) [MSC v.1916 64 bit (AMD64)]', 'platform': 'Windows-10-10.0.19042-SP0', 'event': 'created'}\n",
      "2022-02-26 16:27:10,216 : INFO : discarding 4740 tokens: [('repeat', 8), ('glossari', 7), ('inspect', 8), ('uncol', 2), ('rung', 9), ('secant', 2), ('.', 1603), ('acceler', 6), ('diverg', 3), ('induc', 9)]...\n",
      "2022-02-26 16:27:10,217 : INFO : keeping 1197 tokens which were in no less than 10 and no more than 1602 (=50.0%) documents\n",
      "2022-02-26 16:27:10,219 : INFO : resulting dictionary: Dictionary(1197 unique tokens: ['-', 'algebra', 'intern', 'languag', 'preliminari']...)\n",
      "2022-02-26 16:27:10,270 : INFO : collecting all words and their counts\n",
      "2022-02-26 16:27:10,270 : INFO : PROGRESS: at sentence #0, processed 0 words, keeping 0 word types\n",
      "2022-02-26 16:27:10,286 : INFO : collected 5937 word types from a corpus of 115969 raw words and 3204 sentences\n",
      "2022-02-26 16:27:10,286 : INFO : Creating a fresh vocabulary\n",
      "2022-02-26 16:27:10,305 : INFO : Word2Vec lifecycle event {'msg': 'effective_min_count=1 retains 5937 unique words (100.0%% of original 5937, drops 0)', 'datetime': '2022-02-26T16:27:10.305467', 'gensim': '4.1.2', 'python': '3.9.7 (default, Sep 16 2021, 16:59:28) [MSC v.1916 64 bit (AMD64)]', 'platform': 'Windows-10-10.0.19042-SP0', 'event': 'prepare_vocab'}\n",
      "2022-02-26 16:27:10,306 : INFO : Word2Vec lifecycle event {'msg': 'effective_min_count=1 leaves 115969 word corpus (100.0%% of original 115969, drops 0)', 'datetime': '2022-02-26T16:27:10.306465', 'gensim': '4.1.2', 'python': '3.9.7 (default, Sep 16 2021, 16:59:28) [MSC v.1916 64 bit (AMD64)]', 'platform': 'Windows-10-10.0.19042-SP0', 'event': 'prepare_vocab'}\n",
      "2022-02-26 16:27:10,335 : INFO : deleting the raw counts dictionary of 5937 items\n",
      "2022-02-26 16:27:10,336 : INFO : sample=0.001 downsamples 40 most-common words\n",
      "2022-02-26 16:27:10,336 : INFO : Word2Vec lifecycle event {'msg': 'downsampling leaves estimated 92346.50772718964 word corpus (79.6%% of prior 115969)', 'datetime': '2022-02-26T16:27:10.336385', 'gensim': '4.1.2', 'python': '3.9.7 (default, Sep 16 2021, 16:59:28) [MSC v.1916 64 bit (AMD64)]', 'platform': 'Windows-10-10.0.19042-SP0', 'event': 'prepare_vocab'}\n",
      "2022-02-26 16:27:10,380 : INFO : estimated required memory for 5937 words and 100 dimensions: 7718100 bytes\n",
      "2022-02-26 16:27:10,380 : INFO : resetting layer weights\n",
      "2022-02-26 16:27:10,383 : INFO : Word2Vec lifecycle event {'update': False, 'trim_rule': 'None', 'datetime': '2022-02-26T16:27:10.383265', 'gensim': '4.1.2', 'python': '3.9.7 (default, Sep 16 2021, 16:59:28) [MSC v.1916 64 bit (AMD64)]', 'platform': 'Windows-10-10.0.19042-SP0', 'event': 'build_vocab'}\n",
      "2022-02-26 16:27:10,384 : INFO : Word2Vec lifecycle event {'msg': 'training model with 4 workers on 5937 vocabulary and 100 features, using sg=0 hs=0 sample=0.001 negative=5 window=2 shrink_windows=True', 'datetime': '2022-02-26T16:27:10.384286', 'gensim': '4.1.2', 'python': '3.9.7 (default, Sep 16 2021, 16:59:28) [MSC v.1916 64 bit (AMD64)]', 'platform': 'Windows-10-10.0.19042-SP0', 'event': 'train'}\n",
      "2022-02-26 16:27:10,420 : INFO : worker thread finished; awaiting finish of 3 more threads\n",
      "2022-02-26 16:27:10,423 : INFO : worker thread finished; awaiting finish of 2 more threads\n",
      "2022-02-26 16:27:10,423 : INFO : worker thread finished; awaiting finish of 1 more threads\n",
      "2022-02-26 16:27:10,425 : INFO : worker thread finished; awaiting finish of 0 more threads\n",
      "2022-02-26 16:27:10,425 : INFO : EPOCH - 1 : training on 115969 raw words (92345 effective words) took 0.0s, 2472191 effective words/s\n",
      "2022-02-26 16:27:10,463 : INFO : worker thread finished; awaiting finish of 3 more threads\n",
      "2022-02-26 16:27:10,468 : INFO : worker thread finished; awaiting finish of 2 more threads\n",
      "2022-02-26 16:27:10,469 : INFO : worker thread finished; awaiting finish of 1 more threads\n",
      "2022-02-26 16:27:10,470 : INFO : worker thread finished; awaiting finish of 0 more threads\n",
      "2022-02-26 16:27:10,471 : INFO : EPOCH - 2 : training on 115969 raw words (92507 effective words) took 0.0s, 2196377 effective words/s\n",
      "2022-02-26 16:27:10,507 : INFO : worker thread finished; awaiting finish of 3 more threads\n",
      "2022-02-26 16:27:10,509 : INFO : worker thread finished; awaiting finish of 2 more threads\n",
      "2022-02-26 16:27:10,510 : INFO : worker thread finished; awaiting finish of 1 more threads\n",
      "2022-02-26 16:27:10,511 : INFO : worker thread finished; awaiting finish of 0 more threads\n",
      "2022-02-26 16:27:10,512 : INFO : EPOCH - 3 : training on 115969 raw words (92294 effective words) took 0.0s, 2511654 effective words/s\n",
      "2022-02-26 16:27:10,547 : INFO : worker thread finished; awaiting finish of 3 more threads\n",
      "2022-02-26 16:27:10,549 : INFO : worker thread finished; awaiting finish of 2 more threads\n",
      "2022-02-26 16:27:10,550 : INFO : worker thread finished; awaiting finish of 1 more threads\n",
      "2022-02-26 16:27:10,552 : INFO : worker thread finished; awaiting finish of 0 more threads\n",
      "2022-02-26 16:27:10,552 : INFO : EPOCH - 4 : training on 115969 raw words (92233 effective words) took 0.0s, 2536577 effective words/s\n",
      "2022-02-26 16:27:10,589 : INFO : worker thread finished; awaiting finish of 3 more threads\n",
      "2022-02-26 16:27:10,594 : INFO : worker thread finished; awaiting finish of 2 more threads\n",
      "2022-02-26 16:27:10,595 : INFO : worker thread finished; awaiting finish of 1 more threads\n",
      "2022-02-26 16:27:10,596 : INFO : worker thread finished; awaiting finish of 0 more threads\n",
      "2022-02-26 16:27:10,597 : INFO : EPOCH - 5 : training on 115969 raw words (92307 effective words) took 0.0s, 2254167 effective words/s\n",
      "2022-02-26 16:27:10,597 : INFO : Word2Vec lifecycle event {'msg': 'training on 579845 raw words (461686 effective words) took 0.2s, 2164831 effective words/s', 'datetime': '2022-02-26T16:27:10.597706', 'gensim': '4.1.2', 'python': '3.9.7 (default, Sep 16 2021, 16:59:28) [MSC v.1916 64 bit (AMD64)]', 'platform': 'Windows-10-10.0.19042-SP0', 'event': 'train'}\n",
      "2022-02-26 16:27:10,597 : INFO : Word2Vec lifecycle event {'params': 'Word2Vec(vocab=5937, vector_size=100, alpha=0.025)', 'datetime': '2022-02-26T16:27:10.597706', 'gensim': '4.1.2', 'python': '3.9.7 (default, Sep 16 2021, 16:59:28) [MSC v.1916 64 bit (AMD64)]', 'platform': 'Windows-10-10.0.19042-SP0', 'event': 'created'}\n"
     ]
    },
    {
     "data": {
      "text/plain": [
       "[(0, -0.27406543),\n",
       " (1, 0.48604712),\n",
       " (2, 0.059712745),\n",
       " (3, -0.17907408),\n",
       " (4, 0.0020762081),\n",
       " (5, -0.46949866),\n",
       " (6, 0.30897883),\n",
       " (7, 0.8275809),\n",
       " (8, -0.31215668),\n",
       " (9, -0.22011492),\n",
       " (10, -0.13759601),\n",
       " (11, -0.4938415),\n",
       " (12, 0.24371801),\n",
       " (13, -0.10488505),\n",
       " (14, 0.006901202),\n",
       " (15, -0.35089302),\n",
       " (16, 0.19893117),\n",
       " (17, -0.38763288),\n",
       " (18, -0.17507619),\n",
       " (19, -0.84607667),\n",
       " (20, 0.106019944),\n",
       " (21, -0.031546257),\n",
       " (22, 0.46604097),\n",
       " (23, -0.1541458),\n",
       " (24, -0.2687515),\n",
       " (25, -0.013268797),\n",
       " (26, -0.26545182),\n",
       " (27, -0.25894794),\n",
       " (28, -0.33522552),\n",
       " (29, 0.0027850708),\n",
       " (30, 0.4899433),\n",
       " (31, -0.07460093),\n",
       " (32, 0.21041662),\n",
       " (33, -0.3536359),\n",
       " (34, -0.07988831),\n",
       " (35, 0.4257682),\n",
       " (36, 0.2665312),\n",
       " (37, -0.40039685),\n",
       " (38, -0.50581306),\n",
       " (39, -0.65933186),\n",
       " (40, 0.20731275),\n",
       " (41, -0.2515856),\n",
       " (42, -0.3961148),\n",
       " (43, -0.03707809),\n",
       " (44, 0.44325754),\n",
       " (45, -0.2831102),\n",
       " (46, -0.0655328),\n",
       " (47, -0.05457919),\n",
       " (48, 0.26698253),\n",
       " (49, 0.070784144),\n",
       " (50, 0.18115222),\n",
       " (51, -0.45434684),\n",
       " (52, 0.20263934),\n",
       " (53, -0.019260675),\n",
       " (54, -0.34402403),\n",
       " (55, 0.115455024),\n",
       " (56, 0.17313285),\n",
       " (57, -0.08693994),\n",
       " (58, -0.3958166),\n",
       " (59, -0.2234116),\n",
       " (60, 0.086467974),\n",
       " (61, 0.19661008),\n",
       " (62, 0.26452065),\n",
       " (63, 0.03564684),\n",
       " (64, -0.51119214),\n",
       " (65, 0.30051357),\n",
       " (66, 0.0061733597),\n",
       " (67, 0.1761186),\n",
       " (68, -0.4817201),\n",
       " (69, 0.2119266),\n",
       " (70, -0.07580349),\n",
       " (71, 0.2370905),\n",
       " (72, 0.2885625),\n",
       " (73, 0.29588005),\n",
       " (74, 0.35770497),\n",
       " (75, 0.12239229),\n",
       " (76, 0.1240624),\n",
       " (77, -0.058605984),\n",
       " (78, -0.65883034),\n",
       " (79, 0.0614083),\n",
       " (80, -0.19190767),\n",
       " (81, -0.08997847),\n",
       " (82, -0.29669812),\n",
       " (83, 0.5747243),\n",
       " (84, -0.07873822),\n",
       " (85, -0.08435993),\n",
       " (86, 0.18596427),\n",
       " (87, 0.34278756),\n",
       " (88, 0.25183225),\n",
       " (89, 0.17745754),\n",
       " (90, 0.34251738),\n",
       " (91, 0.09209103),\n",
       " (92, -0.060839254),\n",
       " (93, 0.19284011),\n",
       " (94, 0.8623269),\n",
       " (95, 0.47370222),\n",
       " (96, 0.12718466),\n",
       " (97, -0.48884675),\n",
       " (98, 0.32435098),\n",
       " (99, -0.07516943)]"
      ]
     },
     "execution_count": 87,
     "metadata": {},
     "output_type": "execute_result"
    }
   ],
   "source": [
    "# TODO: Implement this! (10 points)\n",
    "class W2VRetrievalModel(VectorSpaceRetrievalModel):\n",
    "    def __init__(self, doc_repr):\n",
    "        super().__init__(doc_repr)\n",
    "        \n",
    "        # the dimensionality of the vectors\n",
    "        self.size = 100 \n",
    "        self.min_count = 1\n",
    "    \n",
    "    def train_model(self):\n",
    "        \"\"\"\n",
    "        Trains the W2V model\n",
    "        \"\"\"\n",
    "        self.model = Word2Vec(self.documents, vector_size=self.size, window=2, min_count=self.min_count, workers=4)\n",
    "        \n",
    "    def vectorize_documents(self):\n",
    "        \"\"\"\n",
    "            Returns a doc_id -> vector dictionary\n",
    "        \"\"\"    \n",
    "        vectors={}\n",
    "        for (doc_id, _), cc in zip(self.doc_repr, self.documents):\n",
    "            for word in cc:\n",
    "                if word not in self.model.wv:\n",
    "                    cc.remove(word)\n",
    "            docvec = self.model.wv[cc]\n",
    "            tot=np.linspace(0, self.size-1,num=self.size,dtype=int)\n",
    "            real=list(zip(tot, docvec[0]))\n",
    "            vectors[doc_id]=real\n",
    "        return vectors\n",
    "\n",
    "    def vectorize_query(self, query):\n",
    "        \"\"\"\n",
    "        Vectorizes the query using the W2V model\n",
    "        \"\"\"\n",
    "        query = process_text(query, **config_2)\n",
    "        for word in query:\n",
    "            if word not in self.model.wv:\n",
    "                return np.zeros(self.size)\n",
    "        tot=np.linspace(0, self.size-1,num=self.size,dtype=int)\n",
    "        query_vector = self.model.wv[query]\n",
    "        real=list(zip(tot, query_vector[0]))\n",
    "        return real\n",
    "        \n",
    "    \n",
    "    \n",
    "class W2VPretrainedRetrievalModel(W2VRetrievalModel):\n",
    "    def __init__(self, doc_repr):\n",
    "        super().__init__(doc_repr)\n",
    "        self.model_name = \"word2vec-google-news-300\"\n",
    "        self.size = 300\n",
    "    \n",
    "    def train_model(self):\n",
    "        \"\"\"\n",
    "        Loads the pretrained model\n",
    "        \"\"\"\n",
    "        self.model = g_downloader.load(self.model_name)\n",
    "        \n",
    "    def vectorize_documents(self):\n",
    "        \"\"\"\n",
    "            Returns a doc_id -> vector dictionary\n",
    "        \"\"\"    \n",
    "        vectors={}\n",
    "        for (doc_id, _), cc in zip(self.doc_repr, self.documents):\n",
    "            wrong_words=[]\n",
    "            new=cc[:]\n",
    "            for word in cc:\n",
    "                if word not in self.model:\n",
    "                    wrong_words.append(word)\n",
    "            if len(wrong_words)==len(cc):\n",
    "                docvec=[np.zeros(self.size)]\n",
    "            else:\n",
    "                for i in wrong_words:\n",
    "                    new.remove(i)\n",
    "                docvec = self.model[new]\n",
    "            tot=np.linspace(0, self.size-1,num=self.size,dtype=int)\n",
    "            real=list(zip(tot, docvec[0]))\n",
    "            vectors[doc_id]=real\n",
    "        return vectors\n",
    "\n",
    "    def vectorize_query(self, query):\n",
    "        \"\"\"\n",
    "        Vectorizes the query using the W2V model\n",
    "        \"\"\"\n",
    "        query = process_text(query, **config_2)\n",
    "        for word in query:\n",
    "            if word not in self.model:\n",
    "                return np.zeros(self.size)\n",
    "        tot=np.linspace(0, self.size-1,num=self.size,dtype=int)\n",
    "        query_vector = self.model[query]\n",
    "        real=list(zip(tot, query_vector[0]))\n",
    "        return real\n",
    "\n",
    "\n",
    "w2v = W2VRetrievalModel(doc_repr_2)\n",
    "w2v.train_model()\n",
    "\n",
    "# you can now get a W2V vector for a given query in the following way:\n",
    "w2v.vectorize_query(\"report\")"
   ]
  },
  {
   "cell_type": "code",
   "execution_count": 88,
   "metadata": {
    "deletable": false,
    "editable": false,
    "nbgrader": {
     "cell_type": "code",
     "checksum": "f92b5c5a8c6c4b80652b94223209ab0b",
     "grade": true,
     "grade_id": "cell-b31c0f8d214b8bdf",
     "locked": true,
     "points": 0,
     "schema_version": 3,
     "solution": false,
     "task": false
    }
   },
   "outputs": [],
   "source": [
    "assert len(w2v.vectorize_query(\"report\")) == 100\n",
    "assert len(w2v.vectorize_query(\"this is a sentence that is not mellifluous\")) == 100\n"
   ]
  },
  {
   "cell_type": "markdown",
   "metadata": {
    "deletable": false,
    "editable": false,
    "nbgrader": {
     "cell_type": "markdown",
     "checksum": "8dfaabebcb06f308a7ca61fdc5d369e7",
     "grade": false,
     "grade_id": "cell-c2614fa067386384",
     "locked": true,
     "points": 8,
     "schema_version": 3,
     "solution": false,
     "task": true
    }
   },
   "source": [
    "\\#### Please do not change this. This cell is used for grading."
   ]
  },
  {
   "cell_type": "code",
   "execution_count": 89,
   "metadata": {},
   "outputs": [
    {
     "name": "stderr",
     "output_type": "stream",
     "text": [
      "2022-02-26 16:27:10,741 : INFO : adding document #0 to Dictionary(0 unique tokens: [])\n",
      "2022-02-26 16:27:10,839 : INFO : built Dictionary(5937 unique tokens: ['-', 'algebra', 'intern', 'languag', 'preliminari']...) from 3204 documents (total 115969 corpus positions)\n",
      "2022-02-26 16:27:10,839 : INFO : Dictionary lifecycle event {'msg': \"built Dictionary(5937 unique tokens: ['-', 'algebra', 'intern', 'languag', 'preliminari']...) from 3204 documents (total 115969 corpus positions)\", 'datetime': '2022-02-26T16:27:10.839095', 'gensim': '4.1.2', 'python': '3.9.7 (default, Sep 16 2021, 16:59:28) [MSC v.1916 64 bit (AMD64)]', 'platform': 'Windows-10-10.0.19042-SP0', 'event': 'created'}\n",
      "2022-02-26 16:27:10,845 : INFO : discarding 4740 tokens: [('repeat', 8), ('glossari', 7), ('inspect', 8), ('uncol', 2), ('rung', 9), ('secant', 2), ('.', 1603), ('acceler', 6), ('diverg', 3), ('induc', 9)]...\n",
      "2022-02-26 16:27:10,845 : INFO : keeping 1197 tokens which were in no less than 10 and no more than 1602 (=50.0%) documents\n",
      "2022-02-26 16:27:10,848 : INFO : resulting dictionary: Dictionary(1197 unique tokens: ['-', 'algebra', 'intern', 'languag', 'preliminari']...)\n",
      "2022-02-26 16:27:11,130 : INFO : loading projection weights from C:\\Users\\Bram/gensim-data\\word2vec-google-news-300\\word2vec-google-news-300.gz\n",
      "2022-02-26 16:29:27,429 : INFO : KeyedVectors lifecycle event {'msg': 'loaded (3000000, 300) matrix of type float32 from C:\\\\Users\\\\Bram/gensim-data\\\\word2vec-google-news-300\\\\word2vec-google-news-300.gz', 'binary': True, 'encoding': 'utf8', 'datetime': '2022-02-26T16:29:27.429442', 'gensim': '4.1.2', 'python': '3.9.7 (default, Sep 16 2021, 16:59:28) [MSC v.1916 64 bit (AMD64)]', 'platform': 'Windows-10-10.0.19042-SP0', 'event': 'load_word2vec_format'}\n"
     ]
    },
    {
     "data": {
      "text/plain": [
       "[(0, -0.14257812),\n",
       " (1, -0.1640625),\n",
       " (2, -0.09033203),\n",
       " (3, -0.11230469),\n",
       " (4, 0.100097656),\n",
       " (5, -0.041259766),\n",
       " (6, 0.048828125),\n",
       " (7, -0.13671875),\n",
       " (8, 0.19628906),\n",
       " (9, -0.13476562),\n",
       " (10, -0.017578125),\n",
       " (11, 0.032226562),\n",
       " (12, 0.095214844),\n",
       " (13, -0.10595703),\n",
       " (14, -0.16992188),\n",
       " (15, 0.041015625),\n",
       " (16, -0.26367188),\n",
       " (17, -0.0063171387),\n",
       " (18, -0.17773438),\n",
       " (19, -0.24023438),\n",
       " (20, 0.3515625),\n",
       " (21, -0.012207031),\n",
       " (22, -0.16210938),\n",
       " (23, -0.12060547),\n",
       " (24, 0.04321289),\n",
       " (25, 0.10986328),\n",
       " (26, 0.052490234),\n",
       " (27, 0.17871094),\n",
       " (28, -0.14550781),\n",
       " (29, 0.13769531),\n",
       " (30, -0.08203125),\n",
       " (31, -0.28320312),\n",
       " (32, -0.10888672),\n",
       " (33, -0.2890625),\n",
       " (34, 0.072265625),\n",
       " (35, -0.04736328),\n",
       " (36, 0.040283203),\n",
       " (37, 0.067871094),\n",
       " (38, 0.11669922),\n",
       " (39, 0.000831604),\n",
       " (40, 0.068359375),\n",
       " (41, 0.12011719),\n",
       " (42, -0.088378906),\n",
       " (43, 0.33789062),\n",
       " (44, -0.044677734),\n",
       " (45, -0.030151367),\n",
       " (46, 0.0076904297),\n",
       " (47, -0.021118164),\n",
       " (48, -0.25390625),\n",
       " (49, 0.14941406),\n",
       " (50, 0.3984375),\n",
       " (51, 0.021606445),\n",
       " (52, -0.02319336),\n",
       " (53, 0.0063476562),\n",
       " (54, 0.008239746),\n",
       " (55, -0.16894531),\n",
       " (56, 0.037353516),\n",
       " (57, -0.06347656),\n",
       " (58, 0.1171875),\n",
       " (59, -0.1484375),\n",
       " (60, -0.07861328),\n",
       " (61, 0.36914062),\n",
       " (62, -0.22460938),\n",
       " (63, 0.17382812),\n",
       " (64, 0.0138549805),\n",
       " (65, 0.1875),\n",
       " (66, -0.10107422),\n",
       " (67, 0.037841797),\n",
       " (68, 0.0021209717),\n",
       " (69, -0.05126953),\n",
       " (70, 0.096191406),\n",
       " (71, -0.057128906),\n",
       " (72, 0.10595703),\n",
       " (73, -0.020996094),\n",
       " (74, 0.16113281),\n",
       " (75, 0.09765625),\n",
       " (76, 0.038330078),\n",
       " (77, 0.21972656),\n",
       " (78, 0.10644531),\n",
       " (79, 0.0859375),\n",
       " (80, 0.1796875),\n",
       " (81, -0.08300781),\n",
       " (82, -0.033203125),\n",
       " (83, 0.041015625),\n",
       " (84, -0.064941406),\n",
       " (85, 0.019897461),\n",
       " (86, 0.13378906),\n",
       " (87, -0.09765625),\n",
       " (88, -0.19335938),\n",
       " (89, -0.23535156),\n",
       " (90, 0.19042969),\n",
       " (91, 0.0024871826),\n",
       " (92, -0.01574707),\n",
       " (93, 0.032226562),\n",
       " (94, -0.21972656),\n",
       " (95, -0.091308594),\n",
       " (96, 0.021240234),\n",
       " (97, 0.15820312),\n",
       " (98, 0.29882812),\n",
       " (99, -0.328125),\n",
       " (100, 0.057373047),\n",
       " (101, -0.04638672),\n",
       " (102, 0.11328125),\n",
       " (103, -0.1015625),\n",
       " (104, 0.18066406),\n",
       " (105, -0.025146484),\n",
       " (106, -0.16601562),\n",
       " (107, -0.096191406),\n",
       " (108, 0.018798828),\n",
       " (109, -0.19433594),\n",
       " (110, 0.14941406),\n",
       " (111, -0.056640625),\n",
       " (112, -0.106933594),\n",
       " (113, -0.15039062),\n",
       " (114, -0.17578125),\n",
       " (115, 0.11279297),\n",
       " (116, 0.049316406),\n",
       " (117, 0.21972656),\n",
       " (118, 0.31835938),\n",
       " (119, 0.15722656),\n",
       " (120, -0.29296875),\n",
       " (121, 0.10498047),\n",
       " (122, -0.296875),\n",
       " (123, -0.013427734),\n",
       " (124, 0.09082031),\n",
       " (125, 0.012573242),\n",
       " (126, -0.051513672),\n",
       " (127, -0.12890625),\n",
       " (128, 0.014465332),\n",
       " (129, 0.12060547),\n",
       " (130, -0.10107422),\n",
       " (131, -0.111328125),\n",
       " (132, 0.063964844),\n",
       " (133, -0.052978516),\n",
       " (134, -0.04321289),\n",
       " (135, -0.012939453),\n",
       " (136, -0.02758789),\n",
       " (137, -0.09716797),\n",
       " (138, -0.20214844),\n",
       " (139, 0.123046875),\n",
       " (140, -0.04248047),\n",
       " (141, 0.17382812),\n",
       " (142, -0.013671875),\n",
       " (143, 0.1015625),\n",
       " (144, -0.0009384155),\n",
       " (145, -0.03564453),\n",
       " (146, 0.30078125),\n",
       " (147, -0.068359375),\n",
       " (148, -0.056152344),\n",
       " (149, 0.037597656),\n",
       " (150, 0.06591797),\n",
       " (151, 0.040283203),\n",
       " (152, 0.0119018555),\n",
       " (153, 0.096191406),\n",
       " (154, 0.3671875),\n",
       " (155, -0.27929688),\n",
       " (156, -0.052001953),\n",
       " (157, -0.106933594),\n",
       " (158, -0.13476562),\n",
       " (159, -0.046142578),\n",
       " (160, 0.25),\n",
       " (161, 0.0056762695),\n",
       " (162, -0.014404297),\n",
       " (163, -0.03100586),\n",
       " (164, -0.060302734),\n",
       " (165, 0.10595703),\n",
       " (166, 0.37890625),\n",
       " (167, 0.05883789),\n",
       " (168, 0.123046875),\n",
       " (169, -0.115234375),\n",
       " (170, 0.14941406),\n",
       " (171, -0.1640625),\n",
       " (172, -0.23339844),\n",
       " (173, -0.07763672),\n",
       " (174, 0.026733398),\n",
       " (175, -0.021118164),\n",
       " (176, 0.19433594),\n",
       " (177, -0.056152344),\n",
       " (178, -0.006439209),\n",
       " (179, -0.16992188),\n",
       " (180, -0.118652344),\n",
       " (181, -0.06738281),\n",
       " (182, -0.068847656),\n",
       " (183, -0.08691406),\n",
       " (184, -0.1015625),\n",
       " (185, 0.014160156),\n",
       " (186, -0.20117188),\n",
       " (187, 0.09814453),\n",
       " (188, -0.010253906),\n",
       " (189, 0.1875),\n",
       " (190, 0.19628906),\n",
       " (191, -0.22070312),\n",
       " (192, -0.19628906),\n",
       " (193, -0.07373047),\n",
       " (194, 0.06640625),\n",
       " (195, -0.13378906),\n",
       " (196, 0.18359375),\n",
       " (197, -0.20019531),\n",
       " (198, 0.19824219),\n",
       " (199, 0.05029297),\n",
       " (200, 0.029907227),\n",
       " (201, 0.017700195),\n",
       " (202, -0.19335938),\n",
       " (203, -0.096191406),\n",
       " (204, -0.10253906),\n",
       " (205, 0.21289062),\n",
       " (206, -0.029907227),\n",
       " (207, 0.14355469),\n",
       " (208, 0.041015625),\n",
       " (209, -0.21191406),\n",
       " (210, 0.20800781),\n",
       " (211, 0.13769531),\n",
       " (212, -0.01965332),\n",
       " (213, 0.014953613),\n",
       " (214, -0.09765625),\n",
       " (215, 0.24316406),\n",
       " (216, 0.080078125),\n",
       " (217, 0.08251953),\n",
       " (218, 0.09863281),\n",
       " (219, 0.056884766),\n",
       " (220, 0.04248047),\n",
       " (221, 0.068847656),\n",
       " (222, -0.03540039),\n",
       " (223, -0.076171875),\n",
       " (224, -0.00016117096),\n",
       " (225, -0.07519531),\n",
       " (226, 0.22460938),\n",
       " (227, 0.15136719),\n",
       " (228, 0.10058594),\n",
       " (229, 0.10986328),\n",
       " (230, 0.023803711),\n",
       " (231, 0.088378906),\n",
       " (232, 0.061767578),\n",
       " (233, -0.107910156),\n",
       " (234, 0.06225586),\n",
       " (235, 0.0034332275),\n",
       " (236, 0.080566406),\n",
       " (237, 0.106933594),\n",
       " (238, 0.08886719),\n",
       " (239, -0.23730469),\n",
       " (240, 0.064941406),\n",
       " (241, 0.010192871),\n",
       " (242, -0.088378906),\n",
       " (243, -0.33203125),\n",
       " (244, 0.0046691895),\n",
       " (245, 0.21289062),\n",
       " (246, 0.0859375),\n",
       " (247, 0.020385742),\n",
       " (248, 0.045654297),\n",
       " (249, 0.1484375),\n",
       " (250, 0.11816406),\n",
       " (251, 0.055664062),\n",
       " (252, -0.17285156),\n",
       " (253, -0.125),\n",
       " (254, -0.025390625),\n",
       " (255, -0.31835938),\n",
       " (256, 0.03112793),\n",
       " (257, 0.0859375),\n",
       " (258, -0.041992188),\n",
       " (259, 0.15625),\n",
       " (260, 0.16113281),\n",
       " (261, 0.19824219),\n",
       " (262, -0.100097656),\n",
       " (263, 0.203125),\n",
       " (264, 0.12890625),\n",
       " (265, 0.23339844),\n",
       " (266, -0.26757812),\n",
       " (267, 0.05517578),\n",
       " (268, 0.048828125),\n",
       " (269, 0.072265625),\n",
       " (270, 0.24414062),\n",
       " (271, 0.24414062),\n",
       " (272, 0.056884766),\n",
       " (273, -0.0546875),\n",
       " (274, -0.033691406),\n",
       " (275, -0.12060547),\n",
       " (276, 0.03491211),\n",
       " (277, -0.14550781),\n",
       " (278, 0.087402344),\n",
       " (279, -0.08300781),\n",
       " (280, 0.017211914),\n",
       " (281, 0.14355469),\n",
       " (282, -0.122558594),\n",
       " (283, 0.1796875),\n",
       " (284, 0.13085938),\n",
       " (285, -0.16503906),\n",
       " (286, 0.012756348),\n",
       " (287, 0.16015625),\n",
       " (288, -0.03112793),\n",
       " (289, 0.08203125),\n",
       " (290, 0.17382812),\n",
       " (291, -0.16796875),\n",
       " (292, 0.13085938),\n",
       " (293, 0.08544922),\n",
       " (294, -0.2109375),\n",
       " (295, -0.13085938),\n",
       " (296, -0.028930664),\n",
       " (297, -0.10546875),\n",
       " (298, 0.084472656),\n",
       " (299, -0.14160156)]"
      ]
     },
     "execution_count": 89,
     "metadata": {},
     "output_type": "execute_result"
    }
   ],
   "source": [
    "w2v_pretrained = W2VPretrainedRetrievalModel(doc_repr_2)\n",
    "w2v_pretrained.train_model()\n",
    "\n",
    "# you can now get an W2V vector for a given query in the following way:\n",
    "w2v_pretrained.vectorize_query(\"report\")"
   ]
  },
  {
   "cell_type": "code",
   "execution_count": 90,
   "metadata": {
    "deletable": false,
    "editable": false,
    "nbgrader": {
     "cell_type": "code",
     "checksum": "0822845afb5eafe5ddb1ffeaa4f4942a",
     "grade": true,
     "grade_id": "cell-1b1466f8ce516f42",
     "locked": true,
     "points": 2,
     "schema_version": 3,
     "solution": false,
     "task": false
    }
   },
   "outputs": [
    {
     "name": "stdout",
     "output_type": "stream",
     "text": [
      "300\n"
     ]
    }
   ],
   "source": [
    "##### Function check\n",
    "\n",
    "print(len(w2v_pretrained.vectorize_query(\"report\")))\n",
    "#####"
   ]
  },
  {
   "cell_type": "code",
   "execution_count": 91,
   "metadata": {},
   "outputs": [
    {
     "data": {
      "application/vnd.jupyter.widget-view+json": {
       "model_id": "860ff3b18e5841999199ebc5b2263ee6",
       "version_major": 2,
       "version_minor": 0
      },
      "text/plain": [
       "Text(value='', description='Search Bar')"
      ]
     },
     "metadata": {},
     "output_type": "display_data"
    }
   ],
   "source": [
    "drm_w2v = DenseRetrievalRanker(w2v, cosine_sim)\n",
    "\n",
    "# test your LDA model\n",
    "search_fn = drm_w2v.search\n",
    "\n",
    "text = widgets.Text(description=\"Search Bar\", width=200)\n",
    "display(text)\n",
    "\n",
    "\n",
    "text.on_submit(handle_submit_2)"
   ]
  },
  {
   "cell_type": "code",
   "execution_count": 92,
   "metadata": {},
   "outputs": [
    {
     "data": {
      "application/vnd.jupyter.widget-view+json": {
       "model_id": "0f90e58327cd4960bc94fce1812876cb",
       "version_major": 2,
       "version_minor": 0
      },
      "text/plain": [
       "Text(value='', description='Search Bar')"
      ]
     },
     "metadata": {},
     "output_type": "display_data"
    }
   ],
   "source": [
    "drm_w2v_pretrained = DenseRetrievalRanker(w2v_pretrained, cosine_sim)\n",
    "\n",
    "#test your LDA model\n",
    "search_fn = drm_w2v_pretrained.search\n",
    "\n",
    "text = widgets.Text(description=\"Search Bar\", width=200)\n",
    "display(text)\n",
    "\n",
    "\n",
    "text.on_submit(handle_submit_2)"
   ]
  },
  {
   "cell_type": "markdown",
   "metadata": {
    "deletable": false,
    "editable": false,
    "nbgrader": {
     "cell_type": "markdown",
     "checksum": "51b778984fd60757974f51047c61eb15",
     "grade": false,
     "grade_id": "cell-b92f701cbc706108",
     "locked": true,
     "schema_version": 3,
     "solution": false,
     "task": false
    }
   },
   "source": [
    "**Implementation (10 points):**\n",
    "For Doc2Vec, you will need to create a list of `TaggedDocument` instead of using the `self.corpus` or `self.documents` variable. Use the document id as the 'tag'.\n",
    "  "
   ]
  },
  {
   "cell_type": "code",
   "execution_count": 93,
   "metadata": {
    "deletable": false,
    "editable": false,
    "nbgrader": {
     "cell_type": "code",
     "checksum": "e83a363a9d4f136efbdde1426a83925e",
     "grade": true,
     "grade_id": "cell-5e2c5e0c9a2e8cb5",
     "locked": true,
     "points": 0,
     "schema_version": 3,
     "solution": false,
     "task": false
    }
   },
   "outputs": [],
   "source": [
    "#### Please do not change this. This cell is used for grading."
   ]
  },
  {
   "cell_type": "markdown",
   "metadata": {
    "deletable": false,
    "editable": false,
    "nbgrader": {
     "cell_type": "markdown",
     "checksum": "5bb46bf6b9be1e0ca66f0b0bc6260ecb",
     "grade": false,
     "grade_id": "cell-8a49d414f798a595",
     "locked": true,
     "points": 10,
     "schema_version": 3,
     "solution": false,
     "task": true
    }
   },
   "source": [
    "\\#### Please do not change this. This cell is used for grading."
   ]
  },
  {
   "cell_type": "code",
   "execution_count": 94,
   "metadata": {
    "deletable": false,
    "nbgrader": {
     "cell_type": "code",
     "checksum": "1f60fdeb97febb7f4a6fd5bf109aac20",
     "grade": false,
     "grade_id": "cell-680facdcc98a19ab",
     "locked": false,
     "schema_version": 3,
     "solution": true,
     "task": false
    }
   },
   "outputs": [
    {
     "name": "stderr",
     "output_type": "stream",
     "text": [
      "2022-02-26 16:29:28,806 : INFO : adding document #0 to Dictionary(0 unique tokens: [])\n",
      "2022-02-26 16:29:28,896 : INFO : built Dictionary(5937 unique tokens: ['-', 'algebra', 'intern', 'languag', 'preliminari']...) from 3204 documents (total 115969 corpus positions)\n",
      "2022-02-26 16:29:28,897 : INFO : Dictionary lifecycle event {'msg': \"built Dictionary(5937 unique tokens: ['-', 'algebra', 'intern', 'languag', 'preliminari']...) from 3204 documents (total 115969 corpus positions)\", 'datetime': '2022-02-26T16:29:28.897146', 'gensim': '4.1.2', 'python': '3.9.7 (default, Sep 16 2021, 16:59:28) [MSC v.1916 64 bit (AMD64)]', 'platform': 'Windows-10-10.0.19042-SP0', 'event': 'created'}\n",
      "2022-02-26 16:29:28,903 : INFO : discarding 4740 tokens: [('repeat', 8), ('glossari', 7), ('inspect', 8), ('uncol', 2), ('rung', 9), ('secant', 2), ('.', 1603), ('acceler', 6), ('diverg', 3), ('induc', 9)]...\n",
      "2022-02-26 16:29:28,904 : INFO : keeping 1197 tokens which were in no less than 10 and no more than 1602 (=50.0%) documents\n",
      "2022-02-26 16:29:28,907 : INFO : resulting dictionary: Dictionary(1197 unique tokens: ['-', 'algebra', 'intern', 'languag', 'preliminari']...)\n",
      "2022-02-26 16:29:28,964 : INFO : collecting all words and their counts\n",
      "2022-02-26 16:29:28,965 : INFO : PROGRESS: at example #0, processed 0 words (0/s), 0 word types, 0 tags\n",
      "2022-02-26 16:29:28,982 : INFO : collected 5937 word types and 1 unique tags from a corpus of 3204 examples and 115969 words\n",
      "2022-02-26 16:29:28,983 : INFO : Creating a fresh vocabulary\n",
      "2022-02-26 16:29:29,003 : INFO : Doc2Vec lifecycle event {'msg': 'effective_min_count=1 retains 5937 unique words (100.0%% of original 5937, drops 0)', 'datetime': '2022-02-26T16:29:29.003861', 'gensim': '4.1.2', 'python': '3.9.7 (default, Sep 16 2021, 16:59:28) [MSC v.1916 64 bit (AMD64)]', 'platform': 'Windows-10-10.0.19042-SP0', 'event': 'prepare_vocab'}\n",
      "2022-02-26 16:29:29,004 : INFO : Doc2Vec lifecycle event {'msg': 'effective_min_count=1 leaves 115969 word corpus (100.0%% of original 115969, drops 0)', 'datetime': '2022-02-26T16:29:29.004859', 'gensim': '4.1.2', 'python': '3.9.7 (default, Sep 16 2021, 16:59:28) [MSC v.1916 64 bit (AMD64)]', 'platform': 'Windows-10-10.0.19042-SP0', 'event': 'prepare_vocab'}\n",
      "2022-02-26 16:29:29,034 : INFO : deleting the raw counts dictionary of 5937 items\n",
      "2022-02-26 16:29:29,035 : INFO : sample=0.001 downsamples 40 most-common words\n",
      "2022-02-26 16:29:29,035 : INFO : Doc2Vec lifecycle event {'msg': 'downsampling leaves estimated 92346.50772718964 word corpus (79.6%% of prior 115969)', 'datetime': '2022-02-26T16:29:29.035800', 'gensim': '4.1.2', 'python': '3.9.7 (default, Sep 16 2021, 16:59:28) [MSC v.1916 64 bit (AMD64)]', 'platform': 'Windows-10-10.0.19042-SP0', 'event': 'prepare_vocab'}\n",
      "2022-02-26 16:29:29,078 : INFO : estimated required memory for 5937 words and 100 dimensions: 7718700 bytes\n",
      "2022-02-26 16:29:29,079 : INFO : resetting layer weights\n",
      "2022-02-26 16:29:29,083 : INFO : Doc2Vec lifecycle event {'msg': 'training model with 4 workers on 5937 vocabulary and 100 features, using sg=0 hs=0 sample=0.001 negative=5 window=5 shrink_windows=True', 'datetime': '2022-02-26T16:29:29.083648', 'gensim': '4.1.2', 'python': '3.9.7 (default, Sep 16 2021, 16:59:28) [MSC v.1916 64 bit (AMD64)]', 'platform': 'Windows-10-10.0.19042-SP0', 'event': 'train'}\n",
      "2022-02-26 16:29:29,282 : INFO : worker thread finished; awaiting finish of 3 more threads\n",
      "2022-02-26 16:29:29,296 : INFO : worker thread finished; awaiting finish of 2 more threads\n",
      "2022-02-26 16:29:29,297 : INFO : worker thread finished; awaiting finish of 1 more threads\n",
      "2022-02-26 16:29:29,299 : INFO : worker thread finished; awaiting finish of 0 more threads\n",
      "2022-02-26 16:29:29,299 : INFO : EPOCH - 1 : training on 115969 raw words (95402 effective words) took 0.2s, 450083 effective words/s\n",
      "2022-02-26 16:29:29,484 : INFO : worker thread finished; awaiting finish of 3 more threads\n",
      "2022-02-26 16:29:29,500 : INFO : worker thread finished; awaiting finish of 2 more threads\n",
      "2022-02-26 16:29:29,502 : INFO : worker thread finished; awaiting finish of 1 more threads\n",
      "2022-02-26 16:29:29,503 : INFO : worker thread finished; awaiting finish of 0 more threads\n",
      "2022-02-26 16:29:29,504 : INFO : EPOCH - 2 : training on 115969 raw words (95667 effective words) took 0.2s, 476269 effective words/s\n",
      "2022-02-26 16:29:29,701 : INFO : worker thread finished; awaiting finish of 3 more threads\n",
      "2022-02-26 16:29:29,719 : INFO : worker thread finished; awaiting finish of 2 more threads\n",
      "2022-02-26 16:29:29,722 : INFO : worker thread finished; awaiting finish of 1 more threads\n",
      "2022-02-26 16:29:29,723 : INFO : worker thread finished; awaiting finish of 0 more threads\n",
      "2022-02-26 16:29:29,723 : INFO : EPOCH - 3 : training on 115969 raw words (95507 effective words) took 0.2s, 441583 effective words/s\n",
      "2022-02-26 16:29:29,919 : INFO : worker thread finished; awaiting finish of 3 more threads\n",
      "2022-02-26 16:29:29,930 : INFO : worker thread finished; awaiting finish of 2 more threads\n",
      "2022-02-26 16:29:29,934 : INFO : worker thread finished; awaiting finish of 1 more threads\n",
      "2022-02-26 16:29:29,935 : INFO : worker thread finished; awaiting finish of 0 more threads\n",
      "2022-02-26 16:29:29,935 : INFO : EPOCH - 4 : training on 115969 raw words (95529 effective words) took 0.2s, 460702 effective words/s\n",
      "2022-02-26 16:29:30,127 : INFO : worker thread finished; awaiting finish of 3 more threads\n",
      "2022-02-26 16:29:30,140 : INFO : worker thread finished; awaiting finish of 2 more threads\n",
      "2022-02-26 16:29:30,144 : INFO : worker thread finished; awaiting finish of 1 more threads\n",
      "2022-02-26 16:29:30,146 : INFO : worker thread finished; awaiting finish of 0 more threads\n",
      "2022-02-26 16:29:30,146 : INFO : EPOCH - 5 : training on 115969 raw words (95587 effective words) took 0.2s, 461873 effective words/s\n",
      "2022-02-26 16:29:30,326 : INFO : worker thread finished; awaiting finish of 3 more threads\n",
      "2022-02-26 16:29:30,343 : INFO : worker thread finished; awaiting finish of 2 more threads\n",
      "2022-02-26 16:29:30,346 : INFO : worker thread finished; awaiting finish of 1 more threads\n",
      "2022-02-26 16:29:30,346 : INFO : worker thread finished; awaiting finish of 0 more threads\n",
      "2022-02-26 16:29:30,346 : INFO : EPOCH - 6 : training on 115969 raw words (95595 effective words) took 0.2s, 488358 effective words/s\n",
      "2022-02-26 16:29:30,542 : INFO : worker thread finished; awaiting finish of 3 more threads\n",
      "2022-02-26 16:29:30,557 : INFO : worker thread finished; awaiting finish of 2 more threads\n",
      "2022-02-26 16:29:30,559 : INFO : worker thread finished; awaiting finish of 1 more threads\n",
      "2022-02-26 16:29:30,561 : INFO : worker thread finished; awaiting finish of 0 more threads\n",
      "2022-02-26 16:29:30,562 : INFO : EPOCH - 7 : training on 115969 raw words (95629 effective words) took 0.2s, 451477 effective words/s\n",
      "2022-02-26 16:29:30,753 : INFO : worker thread finished; awaiting finish of 3 more threads\n",
      "2022-02-26 16:29:30,766 : INFO : worker thread finished; awaiting finish of 2 more threads\n",
      "2022-02-26 16:29:30,769 : INFO : worker thread finished; awaiting finish of 1 more threads\n",
      "2022-02-26 16:29:30,771 : INFO : worker thread finished; awaiting finish of 0 more threads\n",
      "2022-02-26 16:29:30,771 : INFO : EPOCH - 8 : training on 115969 raw words (95552 effective words) took 0.2s, 463801 effective words/s\n",
      "2022-02-26 16:29:30,974 : INFO : worker thread finished; awaiting finish of 3 more threads\n",
      "2022-02-26 16:29:30,989 : INFO : worker thread finished; awaiting finish of 2 more threads\n",
      "2022-02-26 16:29:30,991 : INFO : worker thread finished; awaiting finish of 1 more threads\n",
      "2022-02-26 16:29:30,991 : INFO : worker thread finished; awaiting finish of 0 more threads\n",
      "2022-02-26 16:29:30,992 : INFO : EPOCH - 9 : training on 115969 raw words (95559 effective words) took 0.2s, 443151 effective words/s\n",
      "2022-02-26 16:29:31,183 : INFO : worker thread finished; awaiting finish of 3 more threads\n",
      "2022-02-26 16:29:31,196 : INFO : worker thread finished; awaiting finish of 2 more threads\n",
      "2022-02-26 16:29:31,197 : INFO : worker thread finished; awaiting finish of 1 more threads\n",
      "2022-02-26 16:29:31,198 : INFO : worker thread finished; awaiting finish of 0 more threads\n",
      "2022-02-26 16:29:31,199 : INFO : EPOCH - 10 : training on 115969 raw words (95723 effective words) took 0.2s, 470177 effective words/s\n"
     ]
    },
    {
     "name": "stderr",
     "output_type": "stream",
     "text": [
      "2022-02-26 16:29:31,199 : INFO : Doc2Vec lifecycle event {'msg': 'training on 1159690 raw words (955750 effective words) took 2.1s, 451712 effective words/s', 'datetime': '2022-02-26T16:29:31.199612', 'gensim': '4.1.2', 'python': '3.9.7 (default, Sep 16 2021, 16:59:28) [MSC v.1916 64 bit (AMD64)]', 'platform': 'Windows-10-10.0.19042-SP0', 'event': 'train'}\n",
      "2022-02-26 16:29:31,200 : INFO : Doc2Vec lifecycle event {'params': 'Doc2Vec(dm/m,d100,n5,w5,s0.001,t4)', 'datetime': '2022-02-26T16:29:31.200609', 'gensim': '4.1.2', 'python': '3.9.7 (default, Sep 16 2021, 16:59:28) [MSC v.1916 64 bit (AMD64)]', 'platform': 'Windows-10-10.0.19042-SP0', 'event': 'created'}\n"
     ]
    },
    {
     "data": {
      "text/plain": [
       "[(0, -0.2382578),\n",
       " (1, -0.38500568),\n",
       " (2, -0.584612),\n",
       " (3, 0.19600002),\n",
       " (4, -0.04550454),\n",
       " (5, -0.22444838),\n",
       " (6, -0.49082708),\n",
       " (7, -0.10491634),\n",
       " (8, -0.724499),\n",
       " (9, 0.08354024),\n",
       " (10, 0.19157822),\n",
       " (11, 0.024628483),\n",
       " (12, -0.11669216),\n",
       " (13, -0.27088496),\n",
       " (14, -0.40803123),\n",
       " (15, -0.51948583),\n",
       " (16, 0.3020432),\n",
       " (17, 0.4267489),\n",
       " (18, -0.41340858),\n",
       " (19, -0.5292038),\n",
       " (20, -0.21280168),\n",
       " (21, 0.17016983),\n",
       " (22, -0.043876737),\n",
       " (23, 0.07044011),\n",
       " (24, 0.17703007),\n",
       " (25, -0.5497365),\n",
       " (26, -0.4921289),\n",
       " (27, -0.79720163),\n",
       " (28, 0.3428091),\n",
       " (29, -0.6041827),\n",
       " (30, 0.42041492),\n",
       " (31, 0.500429),\n",
       " (32, -0.3914009),\n",
       " (33, -0.34024495),\n",
       " (34, -0.065283224),\n",
       " (35, 0.12016718),\n",
       " (36, -0.1439687),\n",
       " (37, -0.65704167),\n",
       " (38, -0.2424705),\n",
       " (39, -0.094995454),\n",
       " (40, -0.09603678),\n",
       " (41, -0.56781745),\n",
       " (42, 0.25613612),\n",
       " (43, -0.64041585),\n",
       " (44, 0.14435391),\n",
       " (45, -0.26128545),\n",
       " (46, -0.016998181),\n",
       " (47, -0.044237778),\n",
       " (48, 0.4045727),\n",
       " (49, -0.6092405),\n",
       " (50, -0.299475),\n",
       " (51, -0.2305478),\n",
       " (52, -0.12682071),\n",
       " (53, -0.11542275),\n",
       " (54, -0.20162064),\n",
       " (55, 0.57299936),\n",
       " (56, -0.076937504),\n",
       " (57, 0.2782289),\n",
       " (58, -0.46751606),\n",
       " (59, 0.37519675),\n",
       " (60, 0.2806535),\n",
       " (61, 0.48207644),\n",
       " (62, 0.21549402),\n",
       " (63, -0.19667721),\n",
       " (64, 0.008363417),\n",
       " (65, -0.24111427),\n",
       " (66, 0.36669773),\n",
       " (67, 0.20773917),\n",
       " (68, -0.3552215),\n",
       " (69, -0.5763699),\n",
       " (70, -0.35686845),\n",
       " (71, 0.11526659),\n",
       " (72, -0.5162478),\n",
       " (73, -0.5211576),\n",
       " (74, -0.31169254),\n",
       " (75, 0.53840303),\n",
       " (76, -0.54851615),\n",
       " (77, -0.4930311),\n",
       " (78, -0.08169226),\n",
       " (79, 0.19667624),\n",
       " (80, 0.62586373),\n",
       " (81, 0.32171652),\n",
       " (82, -0.643321),\n",
       " (83, -0.018422643),\n",
       " (84, 0.5428758),\n",
       " (85, 0.1471131),\n",
       " (86, 0.24749786),\n",
       " (87, -0.2508548),\n",
       " (88, 0.4994892),\n",
       " (89, 0.37064648),\n",
       " (90, -0.5111421),\n",
       " (91, 0.25036183),\n",
       " (92, -0.7702278),\n",
       " (93, -0.39910552),\n",
       " (94, -0.02952762),\n",
       " (95, 0.8673665),\n",
       " (96, 0.050701883),\n",
       " (97, -0.3062015),\n",
       " (98, 0.4880612),\n",
       " (99, 0.20305853)]"
      ]
     },
     "execution_count": 94,
     "metadata": {},
     "output_type": "execute_result"
    }
   ],
   "source": [
    "# TODO: Implement this! (10 points)\n",
    "class D2VRetrievalModel(VectorSpaceRetrievalModel):\n",
    "    def __init__(self, doc_repr):\n",
    "        super().__init__(doc_repr)\n",
    "        \n",
    "        self.vector_size= 100\n",
    "        self.min_count = 1\n",
    "        self.epochs = 20\n",
    "        self.doc = [TaggedDocument(d[1],[0]) for i, d in enumerate(doc_repr)]\n",
    "        \n",
    "    def train_model(self):\n",
    "        \"\"\"\n",
    "        Trains the W2V model\n",
    "        \"\"\"\n",
    "        self.model = Doc2Vec(self.doc, vector_size=self.vector_size, window=5, min_count=self.min_count, workers=4)\n",
    "        \n",
    "    def vectorize_documents(self):\n",
    "        \"\"\"\n",
    "            Returns a doc_id -> vector dictionary\n",
    "        \"\"\"    \n",
    "        vectors={}\n",
    "        \n",
    "        for (doc_id, _), cc in zip(self.doc_repr, self.documents):\n",
    "            n=cc[:]\n",
    "            for word in cc:\n",
    "                if word not in self.model.wv:\n",
    "                    n.remove(word)        \n",
    "            docvec=self.model.infer_vector(n)\n",
    "            tot=np.linspace(0, self.vector_size-1,num=self.vector_size,dtype=int)\n",
    "            real=list(zip(tot, docvec))\n",
    "            vectors[doc_id]=real\n",
    "            \n",
    "        return vectors\n",
    "\n",
    "    def vectorize_query(self, query):\n",
    "        \"\"\"\n",
    "        Vectorizes the query using the W2V model\n",
    "        \"\"\"\n",
    "        query = process_text(query, **config_2)\n",
    "        for word in query:\n",
    "            if word not in self.model.wv:\n",
    "                return np.zeros(self.vector_size)\n",
    "        tot=np.linspace(0, self.vector_size-1,num=self.vector_size,dtype=int)\n",
    "        query_vector = self.model.wv[query]\n",
    "        real=list(zip(tot, query_vector[0]))\n",
    "        \n",
    "        return real\n",
    "        \n",
    "d2v = D2VRetrievalModel(doc_repr_2)\n",
    "d2v.train_model()\n",
    "\n",
    "\n",
    "# # you can now get an LSI vector for a given query in the following way:\n",
    "d2v.vectorize_query(\"report\")"
   ]
  },
  {
   "cell_type": "code",
   "execution_count": 95,
   "metadata": {},
   "outputs": [
    {
     "data": {
      "application/vnd.jupyter.widget-view+json": {
       "model_id": "29517256724e495782132bf1ea56c6a0",
       "version_major": 2,
       "version_minor": 0
      },
      "text/plain": [
       "Text(value='', description='Search Bar')"
      ]
     },
     "metadata": {},
     "output_type": "display_data"
    }
   ],
   "source": [
    "drm_d2v = DenseRetrievalRanker(d2v, cosine_sim)\n",
    "\n",
    "# test your LDA model\n",
    "search_fn = drm_d2v.search\n",
    "\n",
    "text = widgets.Text(description=\"Search Bar\", width=200)\n",
    "display(text)\n",
    "\n",
    "\n",
    "text.on_submit(handle_submit_2)"
   ]
  },
  {
   "cell_type": "markdown",
   "metadata": {
    "deletable": false,
    "editable": false,
    "nbgrader": {
     "cell_type": "markdown",
     "checksum": "363ec36c1d03d9f9e1c2045a6e193c14",
     "grade": false,
     "grade_id": "cell-3529ae29eece7b97",
     "locked": true,
     "schema_version": 3,
     "solution": false,
     "task": false
    }
   },
   "source": [
    "---\n",
    "## Section 9: Re-ranking (10 points) <a class=\"anchor\" id=\"reranking\"></a>\n",
    "\n",
    "[Back to Part 2](#part2)\n",
    "\n",
    "To motivate the re-ranking perspective (i.e retrieve with lexical method + rerank with a semantic method), let's search using semantic methods and compare it to BM25's performance, along with their runtime:\n"
   ]
  },
  {
   "cell_type": "code",
   "execution_count": 96,
   "metadata": {
    "deletable": false,
    "editable": false,
    "nbgrader": {
     "cell_type": "code",
     "checksum": "5755f70e3eb28abc65d14d80125338af",
     "grade": false,
     "grade_id": "cell-f8f43bf5ae383128",
     "locked": true,
     "schema_version": 3,
     "solution": false,
     "task": false
    }
   },
   "outputs": [
    {
     "name": "stdout",
     "output_type": "stream",
     "text": [
      "BM25: \n",
      "1.03 ms ± 16.1 µs per loop (mean ± std. dev. of 7 runs, 1000 loops each)\n",
      "LSI: \n",
      "1.22 s ± 10.6 ms per loop (mean ± std. dev. of 7 runs, 1 loop each)\n",
      "LDA: \n",
      "1.98 s ± 24.7 ms per loop (mean ± std. dev. of 7 runs, 1 loop each)\n",
      "W2V: \n",
      "1.41 s ± 23.4 ms per loop (mean ± std. dev. of 7 runs, 1 loop each)\n",
      "W2V(Pretrained): \n",
      "4.04 s ± 38.2 ms per loop (mean ± std. dev. of 7 runs, 1 loop each)\n",
      "D2V:\n",
      "1.41 s ± 18 ms per loop (mean ± std. dev. of 7 runs, 1 loop each)\n"
     ]
    }
   ],
   "source": [
    "query = \"algebraic functions\"\n",
    "print(\"BM25: \")\n",
    "%timeit bm25_search(query, 2)\n",
    "print(\"LSI: \")\n",
    "%timeit drm_lsi.search(query)\n",
    "print(\"LDA: \")\n",
    "%timeit drm_lda.search(query)\n",
    "print(\"W2V: \")\n",
    "%timeit drm_w2v.search(query)\n",
    "print(\"W2V(Pretrained): \")\n",
    "%timeit drm_w2v_pretrained.search(query)\n",
    "print(\"D2V:\")\n",
    "%timeit drm_d2v.search(query)"
   ]
  },
  {
   "cell_type": "markdown",
   "metadata": {
    "deletable": false,
    "editable": false,
    "nbgrader": {
     "cell_type": "markdown",
     "checksum": "ae398da0a8c23c95bcbb0023b7ec6f34",
     "grade": false,
     "grade_id": "cell-db5ff09f97841af7",
     "locked": true,
     "schema_version": 3,
     "solution": false,
     "task": false
    }
   },
   "source": [
    "---\n",
    "\n",
    "**Implementation (10 points):**\n",
    "Re-ranking involves retrieving a small set of documents using simple but fast methods like BM25 and then re-ranking them with the aid of semantic methods such as LDA or LSI. Implement the following class, which takes in an `initial_retrieval_fn` - the initial retrieval function and `vsrm` - an instance of the `VectorSpaceRetrievalModel` class (i.e LSI/LDA) as input. The search function should first retrieve an initial list of K documents, and then these documents are re-ranked using a semantic method. This not only makes retrieval faster, but semantic methods perform poorly when used in isolation, as you will find out."
   ]
  },
  {
   "cell_type": "code",
   "execution_count": 97,
   "metadata": {
    "deletable": false,
    "nbgrader": {
     "cell_type": "code",
     "checksum": "63b6b05a676a2ae3f08d8bed1bc59428",
     "grade": false,
     "grade_id": "cell-5bf47600d1a0c507",
     "locked": false,
     "schema_version": 3,
     "solution": true,
     "task": false
    }
   },
   "outputs": [],
   "source": [
    "# TODO: Implement this! (10 points)\n",
    "def Sort_Tuple(tup): \n",
    "      \n",
    "    # getting length of list of tuples\n",
    "    lst = len(tup) \n",
    "    for i in range(0, lst): \n",
    "          \n",
    "        for j in range(0, lst-i-1): \n",
    "            if (tup[j][1] < tup[j + 1][1]): \n",
    "                temp = tup[j] \n",
    "                tup[j]= tup[j + 1] \n",
    "                tup[j + 1]= temp \n",
    "    return tup \n",
    "\n",
    "\n",
    "class DenseRerankingModel:\n",
    "    def __init__(self, initial_retrieval_fn, vsrm, similarity_fn):\n",
    "        \"\"\"\n",
    "            initial_retrieval_fn: takes in a query and returns a list of [(doc_id, score)] (sorted)\n",
    "            vsrm: instance of `VectorSpaceRetrievalModel`\n",
    "            similarity_fn: function instance that takes in two vectors \n",
    "                            and returns a similarity score e.g cosine_sim defined earlier\n",
    "        \"\"\"\n",
    "        self.ret = initial_retrieval_fn\n",
    "        self.vsrm = vsrm\n",
    "        self.similarity_fn = similarity_fn\n",
    "        self.vectorized_documents = vsrm.vectorize_documents()\n",
    "        \n",
    "        assert len(self.vectorized_documents) == len(doc_repr_2)\n",
    "    \n",
    "    def search(self, query, K=50):\n",
    "        \"\"\"\n",
    "            First, retrieve the top K results using the retrieval function\n",
    "            Then, re-rank the results using the VSRM instance\n",
    "        \"\"\"\n",
    "        reranked_l=[]\n",
    "        n=0\n",
    "        for i in self.ret(query):\n",
    "            n+=1\n",
    "            query_vector=self.vsrm.vectorize_query(query)\n",
    "            doc_id=i[0]\n",
    "            if np.array(self.vectorized_documents[doc_id]).size==0 or  np.array(query_vector).size==0:\n",
    "                continue\n",
    "            else:\n",
    "                \n",
    "\n",
    "                scor=self.similarity_fn(self.vectorized_documents[doc_id],query_vector)\n",
    "                reranked_l.append([doc_id,scor])\n",
    "        reranked_l=Sort_Tuple(reranked_l)\n",
    "        final=[]\n",
    "        for i in range(len(reranked_l)):\n",
    "            final.append(reranked_l[i])\n",
    "            if i==K:\n",
    "                break\n",
    "        return final"
   ]
  },
  {
   "cell_type": "code",
   "execution_count": 98,
   "metadata": {
    "deletable": false,
    "editable": false,
    "nbgrader": {
     "cell_type": "code",
     "checksum": "334ab5af96976265cace682ab82a7387",
     "grade": true,
     "grade_id": "cell-52c6d18a4c0b4882",
     "locked": true,
     "points": 0,
     "schema_version": 3,
     "solution": false,
     "task": false
    }
   },
   "outputs": [],
   "source": [
    "##### Function check\n",
    "bm25_search_2 = partial(bm25_search, index_set=2)\n",
    "lsi_rerank = DenseRerankingModel(bm25_search_2, lsi, cosine_sim)\n",
    "lda_rerank = DenseRerankingModel(bm25_search_2, lda, jenson_shannon_sim)\n",
    "w2v_rerank = DenseRerankingModel(bm25_search_2, w2v, cosine_sim)\n",
    "w2v_pretrained_rerank = DenseRerankingModel(bm25_search_2, w2v_pretrained, cosine_sim)\n",
    "d2v_rerank = DenseRerankingModel(bm25_search_2, d2v, cosine_sim)\n",
    "\n",
    "##### "
   ]
  },
  {
   "cell_type": "markdown",
   "metadata": {
    "deletable": false,
    "editable": false,
    "nbgrader": {
     "cell_type": "markdown",
     "checksum": "bd904253f45f84e63bab3a69729058fc",
     "grade": false,
     "grade_id": "cell-93215dfe6bcf7cff",
     "locked": true,
     "points": 10,
     "schema_version": 3,
     "solution": false,
     "task": true
    }
   },
   "source": [
    "\\#### Please do not change this. This cell is used for grading."
   ]
  },
  {
   "cell_type": "markdown",
   "metadata": {
    "deletable": false,
    "editable": false,
    "nbgrader": {
     "cell_type": "markdown",
     "checksum": "b592e60292bfe3d9ef2930a354c4077a",
     "grade": false,
     "grade_id": "cell-aa694ff55fa91e7d",
     "locked": true,
     "schema_version": 3,
     "solution": false,
     "task": false
    }
   },
   "source": [
    "---\n",
    "Now, let us time the new search functions:"
   ]
  },
  {
   "cell_type": "code",
   "execution_count": 100,
   "metadata": {
    "deletable": false,
    "editable": false,
    "nbgrader": {
     "cell_type": "code",
     "checksum": "338c7e3528cba266a865a061287c0e38",
     "grade": false,
     "grade_id": "cell-5edbd481562ad91f",
     "locked": true,
     "schema_version": 3,
     "solution": false,
     "task": false
    }
   },
   "outputs": [
    {
     "name": "stdout",
     "output_type": "stream",
     "text": [
      "BM25: \n",
      "1.01 ms ± 20.5 µs per loop (mean ± std. dev. of 7 runs, 1000 loops each)\n",
      "LSI: \n",
      "201 ms ± 2.33 ms per loop (mean ± std. dev. of 7 runs, 10 loops each)\n",
      "LDA: \n",
      "341 ms ± 5.04 ms per loop (mean ± std. dev. of 7 runs, 1 loop each)\n",
      "W2V: \n",
      "198 ms ± 2.88 ms per loop (mean ± std. dev. of 7 runs, 10 loops each)\n",
      "W2V(Pretrained): \n",
      "446 ms ± 10.5 ms per loop (mean ± std. dev. of 7 runs, 1 loop each)\n",
      "D2V:\n",
      "199 ms ± 4.35 ms per loop (mean ± std. dev. of 7 runs, 1 loop each)\n"
     ]
    }
   ],
   "source": [
    "query = \"algebraic functions\"\n",
    "print(\"BM25: \")\n",
    "%timeit bm25_search(query, 2)\n",
    "print(\"LSI: \")\n",
    "%timeit lsi_rerank.search(query)\n",
    "print(\"LDA: \")\n",
    "%timeit lda_rerank.search(query)\n",
    "print(\"W2V: \")\n",
    "%timeit w2v_rerank.search(query)\n",
    "print(\"W2V(Pretrained): \")\n",
    "%timeit w2v_pretrained_rerank.search(query)\n",
    "print(\"D2V:\")\n",
    "%timeit d2v_rerank.search(query)"
   ]
  },
  {
   "cell_type": "code",
   "execution_count": 103,
   "metadata": {},
   "outputs": [
    {
     "name": "stdout",
     "output_type": "stream",
     "text": [
      "[['1821', 0.9526389925836899], ['1898', 0.9506541301971941], ['1607', 0.9449727255693682], ['1', 0.9435347164207486], ['21', 0.9430562082766132], ['2224', 0.9425628262874518], ['1896', 0.9386325136544523], ['510', 0.9385295477613587], ['3078', 0.9347732039664763], ['688', 0.9340798937274366], ['1596', 0.9299152073090311], ['1214', 0.9299127352230289], ['1799', 0.928126704164609], ['365', 0.9258729613800347], ['992', 0.9239115502114826], ['1460', 0.9234314823637659], ['1819', 0.9228614564283217], ['93', 0.9216401934634334], ['1471', 0.9194955562619811], ['1397', 0.9158584703197543], ['2165', 0.9158017366247356], ['2166', 0.9140141073820525], ['2167', 0.9139487308448646], ['1579', 0.9127270803879394], ['967', 0.9117112080455816], ['1798', 0.9114824319108437], ['1467', 0.9109263604552138], ['1028', 0.9105100988095318], ['2775', 0.9058251118802645], ['384', 0.9040505298619688], ['2958', 0.9034757925483086], ['95', 0.9034241328759225], ['1510', 0.9027223585854685], ['2210', 0.9004986445754298], ['1913', 0.8999458568493574], ['1253', 0.8998576575394173], ['1272', 0.8988600334803807], ['1788', 0.8974069307275073], ['3126', 0.8967332890781947], ['484', 0.8958693089891482], ['1789', 0.8957211269725622], ['2470', 0.8948799233500752], ['2645', 0.8945066688578005], ['1584', 0.8927890341684201], ['1942', 0.8924667306141795], ['1394', 0.8911886079926453], ['2259', 0.8910214674124126], ['951', 0.890452584132829], ['2718', 0.8889237348717267], ['344', 0.8878431715590286], ['1258', 0.8877879826477706]]\n"
     ]
    }
   ],
   "source": [
    "print(d2v_rerank.search(query))"
   ]
  },
  {
   "cell_type": "markdown",
   "metadata": {
    "deletable": false,
    "editable": false,
    "nbgrader": {
     "cell_type": "markdown",
     "checksum": "c45c5e3f015b2de89d9d39ae3766368b",
     "grade": false,
     "grade_id": "cell-85c50f2ab9eec301",
     "locked": true,
     "schema_version": 3,
     "solution": false,
     "task": false
    }
   },
   "source": [
    "---\n",
    "As you can see, it is much faster (but BM25 is still orders of magnitude faster)."
   ]
  },
  {
   "cell_type": "markdown",
   "metadata": {
    "deletable": false,
    "editable": false,
    "nbgrader": {
     "cell_type": "markdown",
     "checksum": "1e2f3388e3807659f303fe31a75a010e",
     "grade": false,
     "grade_id": "cell-5071bb99b2af61cb",
     "locked": true,
     "schema_version": 3,
     "solution": false,
     "task": false
    }
   },
   "source": [
    "---\n",
    "## Section 10: Evaluation & Analysis (30 points) <a class=\"anchor\" id=\"reranking_eval\"></a>\n",
    "\n",
    "[Back to Part 2](#part2)\n",
    "\n",
    "[Previously](#evaluation) we have implemented some evaluation metrics and used them for measuring the ranking performance of term-based IR algorithms. In this section, we will do the same for semantic methods, both with and without re-ranking.\n",
    "\n",
    "### Section 10.1: Plot (10 points)\n",
    "\n",
    "First, gather the results. The results should consider the index set, the different search functions and different metrics. Plot the results in bar charts, per metric, with clear labels.\n",
    "\n",
    "Then, gather only the re-ranking models, and plot and compare them with the results obtained in part 1 (only index set 2)."
   ]
  },
  {
   "cell_type": "code",
   "execution_count": 101,
   "metadata": {
    "deletable": false,
    "editable": false,
    "nbgrader": {
     "cell_type": "code",
     "checksum": "4fe81520ac6413a803838913fd64de03",
     "grade": false,
     "grade_id": "cell-b672fe6dfae0b1ce",
     "locked": true,
     "schema_version": 3,
     "solution": false,
     "task": false
    }
   },
   "outputs": [],
   "source": [
    "list_of_sem_search_fns = [\n",
    "    (\"lda\", drm_lda.search),\n",
    "    (\"lsi\", drm_lsi.search),\n",
    "    (\"w2v\", drm_w2v.search),\n",
    "    (\"w2v_pretrained\", drm_w2v_pretrained.search),\n",
    "    (\"d2v\", drm_d2v.search),\n",
    "    (\"lsi_rr\", lsi_rerank.search),\n",
    "    (\"lda_rr\", lda_rerank.search),\n",
    "    (\"w2v_rr\", w2v_rerank.search),\n",
    "    (\"w2v_pretrained_rr\", w2v_pretrained_rerank.search),\n",
    "    (\"d2v_rr\", d2v_rerank.search),\n",
    "    \n",
    "]"
   ]
  },
  {
   "cell_type": "code",
   "execution_count": null,
   "metadata": {
    "deletable": false,
    "nbgrader": {
     "cell_type": "code",
     "checksum": "54707c4afac084299aeefa047259b4a9",
     "grade": true,
     "grade_id": "cell-7dd8273b0f5a3c22",
     "locked": false,
     "points": 10,
     "schema_version": 3,
     "solution": true,
     "task": false
    }
   },
   "outputs": [],
   "source": []
  },
  {
   "cell_type": "markdown",
   "metadata": {
    "deletable": false,
    "editable": false,
    "nbgrader": {
     "cell_type": "markdown",
     "checksum": "a8a3b6189bdde66704c694d85e38d049",
     "grade": false,
     "grade_id": "cell-deb2ef3daa306e82",
     "locked": true,
     "schema_version": 3,
     "solution": false,
     "task": false
    }
   },
   "source": [
    "### Section 10.2: Summary (20 points)\n",
    "\n",
    "Your summary should compare methods from Part 1 and Part 2 (only for index set 2). State what you expected to see in the results, followed by either supporting evidence *or* justify why the results did not support your expectations. Consider the availability of data, scalability, domain/type of data, etc."
   ]
  },
  {
   "cell_type": "markdown",
   "metadata": {
    "deletable": false,
    "nbgrader": {
     "cell_type": "markdown",
     "checksum": "ff97c43837d10bff6aaffa75e1492887",
     "grade": true,
     "grade_id": "cell-ec5dd7d9cf59dd86",
     "locked": false,
     "points": 20,
     "schema_version": 3,
     "solution": true,
     "task": false
    }
   },
   "source": [
    "YOUR ANSWER HERE"
   ]
  }
 ],
 "metadata": {
  "kernelspec": {
   "display_name": "Python 3 (ipykernel)",
   "language": "python",
   "name": "python3"
  },
  "language_info": {
   "codemirror_mode": {
    "name": "ipython",
    "version": 3
   },
   "file_extension": ".py",
   "mimetype": "text/x-python",
   "name": "python",
   "nbconvert_exporter": "python",
   "pygments_lexer": "ipython3",
   "version": "3.9.7"
  },
  "toc": {
   "base_numbering": 1,
   "nav_menu": {},
   "number_sections": true,
   "sideBar": true,
   "skip_h1_title": false,
   "title_cell": "Table of Contents",
   "title_sidebar": "Contents",
   "toc_cell": false,
   "toc_position": {},
   "toc_section_display": true,
   "toc_window_display": false
  }
 },
 "nbformat": 4,
 "nbformat_minor": 4
}
