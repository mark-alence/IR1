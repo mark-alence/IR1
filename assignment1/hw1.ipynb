{
 "cells": [
  {
   "cell_type": "markdown",
   "metadata": {
    "deletable": false,
    "editable": false,
    "nbgrader": {
     "cell_type": "markdown",
     "checksum": "1bba455de8bc2825ca70469169bbadaa",
     "grade": false,
     "grade_id": "cell-c9cd9e550239e812",
     "locked": true,
     "schema_version": 3,
     "solution": false,
     "task": false
    }
   },
   "source": [
    "# Homework 1 (Total Points: 250) <a class=\"anchor\" id=\"top\"></a>\n",
    "\n",
    "\n",
    "**Submission instructions**:\n",
    "- The cells with the `# YOUR CODE HERE` denote that these sections are graded and you need to add your implementation.\n",
    "- For Part 1: You can use the `nltk`, `NumPy`, and `matplotlib` libraries here. Other libraries, e.g., `gensim` or `scikit-learn`, may not be used. For Part 2: `gensim` is allowed in addition to the imported libraries in the next code cell\n",
    "- Please use Python 3.6.5 and `pip install -r requirements.txt` to avoid version issues.\n",
    "- The notebook you submit has to have the student ids, separated by underscores (E.g., `12341234_12341234_12341234_hw1.ipynb`).\n",
    "- This will be parsed by a regexp, **so please double check your filename**.\n",
    "- Only one member of each group has to submit the file (**please do not compress the .ipynb file when you will submit it**) to canvas.\n",
    "- **Make sure to check that your notebook runs before submission**. A quick way to do this is to restart the kernel and run all the cells.  \n",
    "- Do not change the number of arugments in the given functions.\n",
    "- **Please do not delete/add new cells**. Removing cells **will** lead to grade deduction. \n",
    "- Note, that you are not allowed to use Google Colab.\n",
    "\n",
    "\n",
    "**Learning Goals**:\n",
    "- [Part 1, Term-based matching](#part1) (165 points):\n",
    "    - Learn how to load a dataset and process it.\n",
    "    - Learn how to implement several standard IR methods (TF-IDF, BM25, QL) and understand their weaknesses & strengths.\n",
    "    - Learn how to evaluate IR methods.\n",
    "- [Part 2, Semantic-based matching](#part2) (85 points):\n",
    "    - Learn how to implement vector-space retrieval methods (LSI, LDA).\n",
    "    - Learn how to use LSI and LDA for re-ranking.\n",
    "\n",
    "    \n",
    "**Resources**: \n",
    "- **Part 1**: Sections 2.3, 4.1, 4.2, 4.3, 5.3, 5.6, 5.7, 6.2, 7, 8 of [Search Engines: Information Retrieval in Practice](https://ciir.cs.umass.edu/downloads/SEIRiP.pdf)\n",
    "- **Part 2**: [LSI - Chapter 18](https://nlp.stanford.edu/IR-book/pdf/18lsi.pdf) from [Introduction to Information Retrieval](https://nlp.stanford.edu/IR-book/) book and the [original LDA paper](https://jmlr.org/papers/volume3/blei03a/blei03a.pdf)"
   ]
  },
  {
   "cell_type": "code",
   "execution_count": 1,
   "metadata": {
    "deletable": false,
    "editable": false,
    "nbgrader": {
     "cell_type": "code",
     "checksum": "c55bfe94ff1f564dd595547e516c4c6e",
     "grade": false,
     "grade_id": "cell-f5357fabdb9660e3",
     "locked": true,
     "schema_version": 3,
     "solution": false,
     "task": false
    }
   },
   "outputs": [],
   "source": [
    "# imports \n",
    "# TODO: Ensure that no additional library is imported in the notebook. \n",
    "# TODO: Only the standard library and the following libraries are allowed:\n",
    "# TODO: You can also use unlisted classes from these libraries or standard libraries (such as defaultdict, Counter, ...).\n",
    "\n",
    "import os\n",
    "import zipfile\n",
    "from functools import partial\n",
    "\n",
    "import nltk\n",
    "import requests\n",
    "import numpy as np\n",
    "from tqdm import tqdm\n",
    "\n",
    "import matplotlib.pyplot as plt\n",
    "from matplotlib.pyplot import cm\n",
    "\n",
    "from ipywidgets import widgets\n",
    "from IPython.display import display, HTML\n",
    "#from IPython.html import widgets\n",
    "from collections import namedtuple\n",
    "\n",
    "%matplotlib inline"
   ]
  },
  {
   "cell_type": "markdown",
   "metadata": {
    "deletable": false,
    "editable": false,
    "nbgrader": {
     "cell_type": "markdown",
     "checksum": "c8328f758ca5b69f76eee03dbbdd4715",
     "grade": false,
     "grade_id": "cell-7428e12ed184408b",
     "locked": true,
     "schema_version": 3,
     "solution": false,
     "task": false
    }
   },
   "source": [
    "\n",
    "# Part 1: Term-based Matching (165 points) <a class=\"anchor\" id=\"part1\"></a>\n",
    "\n",
    "[Back to top](#top)\n",
    "\n",
    "In the first part, we will learn the basics of IR from loading and preprocessing the material, to implementing some well known search algorithms, to evaluating the ranking performance of the implemented algorithms. We will be using the CACM dataset throughout the assignment. The CACM dataset is a collection of titles and abstracts from the journal CACM (Communication of the ACM).\n",
    "\n",
    "Table of contents:\n",
    "- [Section 1: Text Processing](#text_processing) (5 points)\n",
    "- [Section 2: Indexing](#indexing) (10 points)\n",
    "- [Section 3: Ranking](#ranking) (80 points)\n",
    "- [Section 4: Evaluation](#evaluation) (40 points)\n",
    "- [Section 5: Analysis](#analysis) (30 points)\n"
   ]
  },
  {
   "cell_type": "markdown",
   "metadata": {
    "deletable": false,
    "editable": false,
    "nbgrader": {
     "cell_type": "markdown",
     "checksum": "4e3f938065183dc743aa8254b96b4f5e",
     "grade": false,
     "grade_id": "cell-4b24825cf4ae55ec",
     "locked": true,
     "schema_version": 3,
     "solution": false,
     "task": false
    }
   },
   "source": [
    "---\n",
    "## Section 1: Text Processing (5 points)<a class=\"anchor\" id=\"text_processing\"></a>\n",
    "\n",
    "[Back to Part 1](#part1)\n",
    "\n",
    "In this section, we will load the dataset and learn how to clean up the data to make it usable for an IR system. \n",
    "First, go through the implementation of the following functions:\n",
    "- `read_cacm_docs`: Reads in the CACM documents.\n",
    "- `read_queries`: Reads in the CACM queries.\n",
    "- `load_stopwords`: Loads the stopwords.\n",
    "\n",
    "The points of this section are earned for the following implementations:\n",
    "- `tokenize` (3 points): Tokenizes the input text.\n",
    "- `stem_token` (2 points): Stems the given token. \n",
    "\n",
    "We are using the [CACM dataset](http://ir.dcs.gla.ac.uk/resources/test_collections/cacm/), which is a small, classic IR dataset, composed of a collection of titles and abstracts from the journal CACM. It comes with relevance judgements for queries, so we can evaluate our IR system. \n"
   ]
  },
  {
   "cell_type": "markdown",
   "metadata": {
    "deletable": false,
    "editable": false,
    "nbgrader": {
     "cell_type": "markdown",
     "checksum": "0155d897c7016389d73d160921947a6f",
     "grade": false,
     "grade_id": "cell-45651364e7af6d5a",
     "locked": true,
     "schema_version": 3,
     "solution": false,
     "task": false
    }
   },
   "source": [
    "---\n",
    "### 1.1 Read the CACM documents\n",
    "\n",
    "\n",
    "The following cell downloads the dataset and unzips it to a local directory."
   ]
  },
  {
   "cell_type": "code",
   "execution_count": 2,
   "metadata": {
    "deletable": false,
    "editable": false,
    "nbgrader": {
     "cell_type": "code",
     "checksum": "4d43c9ad6e77cc01ce4cef0c34824930",
     "grade": false,
     "grade_id": "cell-bbc3030bb3fe7e02",
     "locked": true,
     "schema_version": 3,
     "solution": false,
     "task": false
    }
   },
   "outputs": [],
   "source": [
    "def download_dataset():\n",
    "    folder_path = os.environ.get(\"IR1_DATA_PATH\")\n",
    "    if not folder_path:\n",
    "        folder_path = \"./datasets/\"\n",
    "    os.makedirs(folder_path, exist_ok=True)\n",
    "    \n",
    "    file_location = os.path.join(folder_path, \"cacm.zip\")\n",
    "    \n",
    "    # download file if it doesn't exist\n",
    "    if not os.path.exists(file_location):\n",
    "        \n",
    "        url = \"https://surfdrive.surf.nl/files/index.php/s/M0FGJpX2p8wDwxR/download\"\n",
    "\n",
    "        with open(file_location, \"wb\") as handle:\n",
    "            print(f\"Downloading file from {url} to {file_location}\")\n",
    "            response = requests.get(url, stream=True)\n",
    "            for data in tqdm(response.iter_content()):\n",
    "                handle.write(data)\n",
    "            print(\"Finished downloading file\")\n",
    "    \n",
    "    if not os.path.exists(os.path.join(folder_path, \"train.txt\")):\n",
    "        \n",
    "        # unzip file\n",
    "        with zipfile.ZipFile(file_location, 'r') as zip_ref:\n",
    "            zip_ref.extractall(folder_path)\n",
    "        \n",
    "download_dataset()"
   ]
  },
  {
   "cell_type": "markdown",
   "metadata": {
    "deletable": false,
    "editable": false,
    "nbgrader": {
     "cell_type": "markdown",
     "checksum": "31609b0d61d0c74cbd69bc43e47c23be",
     "grade": false,
     "grade_id": "cell-a7dd9a9bf98ede05",
     "locked": true,
     "schema_version": 3,
     "solution": false,
     "task": false
    }
   },
   "source": [
    "---\n",
    "\n",
    "You can see a brief description of each file in the dataset by looking at the README file:"
   ]
  },
  {
   "cell_type": "code",
   "execution_count": 3,
   "metadata": {
    "deletable": false,
    "editable": false,
    "nbgrader": {
     "cell_type": "code",
     "checksum": "cb3c9a2b8b2bf4fd5b7446b0c4c00f43",
     "grade": false,
     "grade_id": "cell-9b6ff1a17124711f",
     "locked": true,
     "schema_version": 3,
     "solution": false,
     "task": false
    }
   },
   "outputs": [
    {
     "name": "stdout",
     "output_type": "stream",
     "text": [
      "Files in this directory with sizes:\n",
      "          0 Jun 19 21:01 README\n",
      "\n",
      "    2187734 Jun 19 20:55 cacm.all              text of documents\n",
      "        626 Jun 19 20:58 cite.info             key to citation info\n",
      "                                                (the X sections in cacm.all)\n",
      "       2668 Jun 19 20:55 common_words           stop words used by smart\n",
      "       2194 Jun 19 20:55 make_coll*             shell script to make collection\n",
      "       1557 Jun 19 20:55 make_coll_term*        ditto (both useless without\n",
      "                                                smart system)\n",
      "       9948 Jun 19 20:55 qrels.text             relation giving\n",
      "                                                    qid did 0 0\n",
      "                                                to indicate dument did is\n",
      "                                                relevant to query qid\n",
      "      13689 Jun 19 20:55 query.text             Original text of the query\n",
      "\n"
     ]
    }
   ],
   "source": [
    "##### Read the README file \n",
    "with open (\"./datasets/README\",\"r\") as file:\n",
    "    readme = file.read()\n",
    "    print(readme)\n",
    "#####"
   ]
  },
  {
   "cell_type": "markdown",
   "metadata": {
    "deletable": false,
    "editable": false,
    "nbgrader": {
     "cell_type": "markdown",
     "checksum": "6e2712c4c4632bf7486a532f7f18074d",
     "grade": false,
     "grade_id": "cell-73351431869fda76",
     "locked": true,
     "schema_version": 3,
     "solution": false,
     "task": false
    }
   },
   "source": [
    "---\n",
    "We are interested in 4 files:\n",
    "- `cacm.all` : Contains the text for all documents. Note that some documents do not have abstracts available\n",
    "- `query.text` : The text of all queries\n",
    "- `qrels.text` : The relevance judgements\n",
    "- `common_words` : A list of common words. This may be used as a collection of stopwords"
   ]
  },
  {
   "cell_type": "code",
   "execution_count": 4,
   "metadata": {
    "deletable": false,
    "editable": false,
    "nbgrader": {
     "cell_type": "code",
     "checksum": "f1162c15177eb4ffe466531d03cff4a2",
     "grade": false,
     "grade_id": "cell-b44dd14079f278ca",
     "locked": true,
     "schema_version": 3,
     "solution": false,
     "task": false
    }
   },
   "outputs": [
    {
     "name": "stdout",
     "output_type": "stream",
     "text": [
      ".I 1\n",
      ".T\n",
      "Preliminary Report-International Algebraic Language\n",
      ".B\n",
      "CACM December, 1958\n",
      ".A\n",
      "Perlis, A. J.\n",
      "Samelson,K.\n",
      ".N\n",
      "CA581203 JB March 22, 1978  8:28 PM\n",
      ".X\n",
      "100\t5\t1\n",
      "123\t5\t1\n",
      "164\t5\t1\n",
      "1\t5\t1\n",
      "1\t5\t1\n",
      "1\t5\t1\n",
      "205\t5\t1\n",
      "210\t5\t1\n",
      "214\t5\t1\n",
      "1982\t5\t1\n",
      "398\t5\t1\n",
      "642\t5\t1\n",
      "669\t5\t1\n",
      "1\t6\t1\n",
      "1\t6\t1\n",
      "1\t6\t1\n",
      "1\t6\t1\n",
      "1\t6\t1\n",
      "1\t6\t1\n",
      "1\t6\t1\n",
      "1\t6\t1\n",
      "1\t6\t1\n",
      "1\t6\t1\n",
      "165\t6\t1\n",
      "196\t6\t1\n",
      "196\t6\t1\n",
      "1273\t6\t1\n",
      "1883\t6\t1\n",
      "324\t6\t1\n",
      "43\t6\t1\n",
      "53\t6\t1\n",
      "91\t6\t1\n",
      "410\t6\t1\n",
      "3184\t6\t1\n",
      "\n"
     ]
    }
   ],
   "source": [
    "##### The first 45 lines of the CACM dataset forms the first record\n",
    "# We are interested only in 3 fields. \n",
    "# 1. the '.I' field, which is the document id\n",
    "# 2. the '.T' field (the title) and\n",
    "# 3. the '.W' field (the abstract, which may be absent)\n",
    "with open (\"./datasets/cacm.all\",\"r\") as file:\n",
    "    cacm_all = \"\".join(file.readlines()[:45])\n",
    "    print(cacm_all)\n",
    "#####"
   ]
  },
  {
   "cell_type": "markdown",
   "metadata": {
    "deletable": false,
    "editable": false,
    "nbgrader": {
     "cell_type": "markdown",
     "checksum": "250b413baccd8efb186bb46a34ae0060",
     "grade": false,
     "grade_id": "cell-c4bf2e263ec553d8",
     "locked": true,
     "schema_version": 3,
     "solution": false,
     "task": false
    }
   },
   "source": [
    "---\n",
    "\n",
    "The following function reads the `cacm.all` file. Note that each document has a variable number of lines. The `.I` field denotes a new document:"
   ]
  },
  {
   "cell_type": "code",
   "execution_count": 5,
   "metadata": {
    "deletable": false,
    "editable": false,
    "nbgrader": {
     "cell_type": "code",
     "checksum": "57d757e6a7a6938740dc899022b4f291",
     "grade": false,
     "grade_id": "cell-b736116eb419c624",
     "locked": true,
     "schema_version": 3,
     "solution": false,
     "task": false
    }
   },
   "outputs": [],
   "source": [
    "def read_cacm_docs(root_folder = \"./datasets/\"):\n",
    "    \"\"\"\n",
    "        Reads in the CACM documents. The dataset is assumed to be in the folder \"./datasets/\" by default\n",
    "        Returns: A list of 2-tuples: (doc_id, document), where 'document' is a single string created by \n",
    "            appending the title and abstract (separated by a \"\\n\"). \n",
    "            In case the record doesn't have an abstract, the document is composed only by the title\n",
    "    \"\"\"\n",
    "    with open(os.path.join(root_folder, \"cacm.all\")) as reader:\n",
    "        lines = reader.readlines()\n",
    "    \n",
    "    doc_id, title, abstract = None, None, None\n",
    "    \n",
    "    docs = []\n",
    "    line_idx = 0\n",
    "    while line_idx < len(lines):\n",
    "        line = lines[line_idx]\n",
    "        if line.startswith(\".I\"):\n",
    "            if doc_id is not None:\n",
    "                docs.append((doc_id, title, abstract))\n",
    "                doc_id, title, abstract = None, None, None\n",
    "            \n",
    "            doc_id = line.split()[-1]\n",
    "            line_idx += 1\n",
    "        elif line.startswith(\".T\"):\n",
    "            # start at next line\n",
    "            line_idx += 1\n",
    "            temp_lines = []\n",
    "            # read till next '.'\n",
    "            while not lines[line_idx].startswith(\".\"):\n",
    "                temp_lines.append(lines[line_idx].strip(\"\\n\"))\n",
    "                line_idx += 1\n",
    "            title = \"\\n\".join(temp_lines).strip(\"\\n\")\n",
    "        elif line.startswith(\".W\"):\n",
    "            # start at next line\n",
    "            line_idx += 1\n",
    "            temp_lines = []\n",
    "            # read till next '.'\n",
    "            while not lines[line_idx].startswith(\".\"):\n",
    "                temp_lines.append(lines[line_idx].strip(\"\\n\"))\n",
    "                line_idx += 1\n",
    "            abstract = \"\\n\".join(temp_lines).strip(\"\\n\")\n",
    "        else:\n",
    "            line_idx += 1\n",
    "    \n",
    "    docs.append((doc_id, title, abstract))\n",
    "    \n",
    "    p_docs = []\n",
    "    for (did, t, a) in docs:\n",
    "        if a is None:\n",
    "            a = \"\"\n",
    "        p_docs.append((did, t + \"\\n\" + a))\n",
    "    return p_docs\n"
   ]
  },
  {
   "cell_type": "code",
   "execution_count": 6,
   "metadata": {
    "deletable": false,
    "editable": false,
    "nbgrader": {
     "cell_type": "code",
     "checksum": "2f81930fcd89670b6e20e2255e1f2369",
     "grade": false,
     "grade_id": "cell-a1c43818e0d3fd79",
     "locked": true,
     "schema_version": 3,
     "solution": false,
     "task": false
    }
   },
   "outputs": [],
   "source": [
    "##### Function check\n",
    "docs = read_cacm_docs()\n",
    "\n",
    "assert isinstance(docs, list)\n",
    "assert len(docs) == 3204, \"There should be exactly 3204 documents\"\n",
    "\n",
    "unzipped_docs = list(zip(*docs))\n",
    "assert np.sum(np.array(list(map(int,unzipped_docs[0])))) == 5134410\n",
    "\n",
    "##### "
   ]
  },
  {
   "cell_type": "markdown",
   "metadata": {
    "deletable": false,
    "editable": false,
    "nbgrader": {
     "cell_type": "markdown",
     "checksum": "25fd3cfaf2137c56002b850699b3c9d3",
     "grade": false,
     "grade_id": "cell-5ed2ddc91f73c60e",
     "locked": true,
     "schema_version": 3,
     "solution": false,
     "task": false
    }
   },
   "source": [
    "---\n",
    "### 1.2 Read the CACM queries\n",
    "\n",
    "Next, let us read the queries. They are formatted similarly:"
   ]
  },
  {
   "cell_type": "code",
   "execution_count": 7,
   "metadata": {
    "deletable": false,
    "editable": false,
    "nbgrader": {
     "cell_type": "code",
     "checksum": "5d26c0908e758acb9968b84056b1060a",
     "grade": false,
     "grade_id": "cell-5c7e8e7c4fc2757f",
     "locked": true,
     "schema_version": 3,
     "solution": false,
     "task": false
    }
   },
   "outputs": [
    {
     "name": "stderr",
     "output_type": "stream",
     "text": [
      "'head' is not recognized as an internal or external command,\n",
      "operable program or batch file.\n"
     ]
    }
   ],
   "source": [
    "##### The first 15 lines of 'query.text' has 2 queries\n",
    "# We are interested only in 2 fields. \n",
    "# 1. the '.I' - the query id\n",
    "# 2. the '.W' - the query\n",
    "!head -15 ./datasets/query.text\n",
    "#####"
   ]
  },
  {
   "cell_type": "markdown",
   "metadata": {
    "deletable": false,
    "editable": false,
    "nbgrader": {
     "cell_type": "markdown",
     "checksum": "8f19f311a660f30e3f86cb0f7037d54a",
     "grade": false,
     "grade_id": "cell-88e293507d2dcef6",
     "locked": true,
     "schema_version": 3,
     "solution": false,
     "task": false
    }
   },
   "source": [
    "---\n",
    "\n",
    "The following function reads the `query.text` file:"
   ]
  },
  {
   "cell_type": "code",
   "execution_count": 8,
   "metadata": {
    "deletable": false,
    "editable": false,
    "nbgrader": {
     "cell_type": "code",
     "checksum": "e3fbb193211007672849487f5cff1664",
     "grade": false,
     "grade_id": "cell-433e3ad5d0e2572a",
     "locked": true,
     "schema_version": 3,
     "solution": false,
     "task": false
    }
   },
   "outputs": [],
   "source": [
    "def read_queries(root_folder = \"./datasets/\"):\n",
    "    \"\"\"\n",
    "        Reads in the CACM queries. The dataset is assumed to be in the folder \"./datasets/\" by default\n",
    "        Returns: A list of 2-tuples: (query_id, query)\n",
    "    \"\"\"\n",
    "    with open(os.path.join(root_folder, \"query.text\")) as reader:\n",
    "        lines = reader.readlines()\n",
    "    \n",
    "    query_id, query = None, None\n",
    "    \n",
    "    queries = []\n",
    "    line_idx = 0\n",
    "    while line_idx < len(lines):\n",
    "        line = lines[line_idx]\n",
    "        if line.startswith(\".I\"):\n",
    "            if query_id is not None:\n",
    "                queries.append((query_id, query))\n",
    "                query_id, query = None, None\n",
    "    \n",
    "            query_id = line.split()[-1]\n",
    "            line_idx += 1\n",
    "        elif line.startswith(\".W\"):\n",
    "            # start at next line\n",
    "            line_idx += 1\n",
    "            temp_lines = []\n",
    "            # read till next '.'\n",
    "            while not lines[line_idx].startswith(\".\"):\n",
    "                temp_lines.append(lines[line_idx].strip(\"\\n\"))\n",
    "                line_idx += 1\n",
    "            query = \"\\n\".join(temp_lines).strip(\"\\n\")\n",
    "        else:\n",
    "            line_idx += 1\n",
    "    \n",
    "    queries.append((query_id, query))\n",
    "    return queries\n"
   ]
  },
  {
   "cell_type": "code",
   "execution_count": 9,
   "metadata": {
    "deletable": false,
    "editable": false,
    "nbgrader": {
     "cell_type": "code",
     "checksum": "a897b9771b54f447be3418d7246fc4a0",
     "grade": false,
     "grade_id": "cell-6ec540abce66c598",
     "locked": true,
     "schema_version": 3,
     "solution": false,
     "task": false
    }
   },
   "outputs": [],
   "source": [
    "##### Function check\n",
    "queries = read_queries()\n",
    "\n",
    "assert isinstance(queries, list)\n",
    "assert len(queries) == 64 and all([q[1] is not None for q in queries]), \"There should be exactly 64 queries\"\n",
    "\n",
    "unzipped_queries = list(zip(*queries))\n",
    "assert np.sum(np.array(list(map(int,unzipped_queries[0])))) == 2080\n",
    "\n",
    "##### "
   ]
  },
  {
   "cell_type": "markdown",
   "metadata": {
    "deletable": false,
    "editable": false,
    "nbgrader": {
     "cell_type": "markdown",
     "checksum": "a300c41912ac63b239070b4c15c9f5c5",
     "grade": false,
     "grade_id": "cell-1c31569491d7b782",
     "locked": true,
     "schema_version": 3,
     "solution": false,
     "task": false
    }
   },
   "source": [
    "---\n",
    "### 1.3 Read the stop words\n",
    "\n",
    "We use the common words stored in `common_words`:"
   ]
  },
  {
   "cell_type": "code",
   "execution_count": 10,
   "metadata": {
    "deletable": false,
    "editable": false,
    "nbgrader": {
     "cell_type": "code",
     "checksum": "1ad6f5bae6a792504c1c8513ae5751ad",
     "grade": false,
     "grade_id": "cell-34bdb63461418a96",
     "locked": true,
     "schema_version": 3,
     "solution": false,
     "task": false
    }
   },
   "outputs": [
    {
     "name": "stderr",
     "output_type": "stream",
     "text": [
      "'head' is not recognized as an internal or external command,\n",
      "operable program or batch file.\n"
     ]
    }
   ],
   "source": [
    "##### Read the stop words file \n",
    "!head ./datasets/common_words\n",
    "##### Read the README file "
   ]
  },
  {
   "cell_type": "markdown",
   "metadata": {
    "deletable": false,
    "editable": false,
    "nbgrader": {
     "cell_type": "markdown",
     "checksum": "6d0fe612e770213b6397c2179b07a966",
     "grade": false,
     "grade_id": "cell-4744bde0338895d8",
     "locked": true,
     "schema_version": 3,
     "solution": false,
     "task": false
    }
   },
   "source": [
    "---\n",
    "\n",
    "The following function reads the `common_words` file (For better coverage, we try to keep them in lowercase):"
   ]
  },
  {
   "cell_type": "code",
   "execution_count": 11,
   "metadata": {
    "deletable": false,
    "editable": false,
    "nbgrader": {
     "cell_type": "code",
     "checksum": "9409713fd26eb0c33587e190638997c4",
     "grade": false,
     "grade_id": "cell-7357aa40f64e5bcb",
     "locked": true,
     "schema_version": 3,
     "solution": false,
     "task": false
    }
   },
   "outputs": [],
   "source": [
    "def load_stopwords(root_folder = \"./datasets/\"):\n",
    "    \"\"\"\n",
    "        Loads the stopwords. The dataset is assumed to be in the folder \"./datasets/\" by default\n",
    "        Output: A set of stopwords\n",
    "    \"\"\"\n",
    "    with open(os.path.join(root_folder, \"common_words\")) as reader:\n",
    "        lines = reader.readlines()\n",
    "    stopwords = set([l.strip().lower() for l in lines])\n",
    "    return stopwords\n"
   ]
  },
  {
   "cell_type": "code",
   "execution_count": 12,
   "metadata": {
    "deletable": false,
    "editable": false,
    "nbgrader": {
     "cell_type": "code",
     "checksum": "f1c8153c3c38133bc2db6e7b076ad470",
     "grade": false,
     "grade_id": "cell-2ca3ac162004de97",
     "locked": true,
     "schema_version": 3,
     "solution": false,
     "task": false
    }
   },
   "outputs": [],
   "source": [
    "##### Function check\n",
    "stopwords = load_stopwords()\n",
    "\n",
    "assert isinstance(stopwords, set)\n",
    "assert len(stopwords) == 428, \"There should be exactly 428 stop words\"\n",
    "\n",
    "assert np.sum(np.array(list(map(len,stopwords)))) == 2234\n",
    "\n",
    "##### \n"
   ]
  },
  {
   "cell_type": "markdown",
   "metadata": {
    "deletable": false,
    "editable": false,
    "nbgrader": {
     "cell_type": "markdown",
     "checksum": "92c1191e9e7291dcf0d70dc67b907a65",
     "grade": false,
     "grade_id": "cell-134b72872f4300cb",
     "locked": true,
     "schema_version": 3,
     "solution": false,
     "task": false
    }
   },
   "source": [
    "---\n",
    "### 1.4 Tokenization (3 points)\n",
    "\n",
    "We can now write some basic text processing functions. \n",
    "A first step is to tokenize the text. \n",
    "\n",
    "**Note**: Use the  `WordPunctTokenizer` available in the `nltk` library:"
   ]
  },
  {
   "cell_type": "code",
   "execution_count": 13,
   "metadata": {
    "deletable": false,
    "nbgrader": {
     "cell_type": "code",
     "checksum": "3f5564d3c75bf22fbf832b3a9b938f37",
     "grade": false,
     "grade_id": "cell-322be4c9499bdc4b",
     "locked": false,
     "schema_version": 3,
     "solution": true,
     "task": false
    }
   },
   "outputs": [],
   "source": [
    "# TODO: Implement this! (4 points)\n",
    "def tokenize(text):\n",
    "    \"\"\"\n",
    "        Tokenizes the input text. Use the WordPunctTokenizer\n",
    "        Input: text - a string\n",
    "        Output: a list of tokens\n",
    "    \"\"\"\n",
    "    tk = nltk.tokenize.WordPunctTokenizer()\n",
    "    return tk.tokenize(text)"
   ]
  },
  {
   "cell_type": "code",
   "execution_count": 14,
   "metadata": {
    "deletable": false,
    "editable": false,
    "nbgrader": {
     "cell_type": "code",
     "checksum": "e15af22c4d8ae0a3f9dac43bef7097ec",
     "grade": true,
     "grade_id": "cell-7fbf48bf7541a622",
     "locked": true,
     "points": 3,
     "schema_version": 3,
     "solution": false,
     "task": false
    }
   },
   "outputs": [
    {
     "name": "stdout",
     "output_type": "stream",
     "text": [
      "['the', 'quick', 'brown', 'fox', 'jumps', 'over', 'the', 'lazy', 'dog']\n"
     ]
    }
   ],
   "source": [
    "##### Function check\n",
    "text = \"the quick brown fox jumps over the lazy dog\"\n",
    "tokens = tokenize(text)\n",
    "\n",
    "assert isinstance(tokens, list)\n",
    "assert len(tokens) == 9\n",
    "\n",
    "print(tokens)\n",
    "# output: ['the', 'quick', 'brown', 'fox', 'jumps', 'over', 'the', 'lazy', 'dog']\n",
    "#####"
   ]
  },
  {
   "cell_type": "markdown",
   "metadata": {
    "deletable": false,
    "editable": false,
    "nbgrader": {
     "cell_type": "markdown",
     "checksum": "34210618bff4cb47aad2f03cb4b9854c",
     "grade": false,
     "grade_id": "cell-fd1b98ae61b697ca",
     "locked": true,
     "schema_version": 3,
     "solution": false,
     "task": false
    }
   },
   "source": [
    "---\n",
    "### 1.5 Stemming (2 points)\n",
    "\n",
    "Write a function to stem tokens. \n",
    "Again, you can use the nltk library for this:"
   ]
  },
  {
   "cell_type": "code",
   "execution_count": 15,
   "metadata": {
    "deletable": false,
    "nbgrader": {
     "cell_type": "code",
     "checksum": "1c4a6aa979d66158c7b6b992af43293a",
     "grade": false,
     "grade_id": "cell-e3f6c8e3f874b28d",
     "locked": false,
     "schema_version": 3,
     "solution": true,
     "task": false
    }
   },
   "outputs": [],
   "source": [
    "# TODO: Implement this! (3 points)\n",
    "def stem_token(token):\n",
    "    \"\"\"\n",
    "        Stems the given token using the PorterStemmer from the nltk library\n",
    "        Input: a single token\n",
    "        Output: the stem of the token\n",
    "    \"\"\"\n",
    "    stemmer=nltk.stem.porter.PorterStemmer()\n",
    "    return stemmer.stem(token)"
   ]
  },
  {
   "cell_type": "code",
   "execution_count": 16,
   "metadata": {
    "deletable": false,
    "editable": false,
    "nbgrader": {
     "cell_type": "code",
     "checksum": "9363b4f09b556d424d9c895d4ab57b1c",
     "grade": true,
     "grade_id": "cell-cd6863e6ee6ed205",
     "locked": true,
     "points": 2,
     "schema_version": 3,
     "solution": false,
     "task": false
    }
   },
   "outputs": [],
   "source": [
    "##### Function check\n",
    "\n",
    "assert stem_token('owned') == 'own'\n",
    "assert stem_token('itemization') == 'item'\n",
    "#####"
   ]
  },
  {
   "cell_type": "markdown",
   "metadata": {
    "deletable": false,
    "editable": false,
    "nbgrader": {
     "cell_type": "markdown",
     "checksum": "0b311d014146da6afa1d39542fab9869",
     "grade": false,
     "grade_id": "cell-47c9f90498699110",
     "locked": true,
     "schema_version": 3,
     "solution": false,
     "task": false
    }
   },
   "source": [
    "---\n",
    "### 1.6 Summary\n",
    "\n",
    "The following function puts it all together. Given an input string, this functions tokenizes and processes it according to the flags that you set."
   ]
  },
  {
   "cell_type": "code",
   "execution_count": 17,
   "metadata": {
    "deletable": false,
    "editable": false,
    "nbgrader": {
     "cell_type": "code",
     "checksum": "2ff2d215ee8e0039c5a91fd3de12e6bd",
     "grade": false,
     "grade_id": "cell-dd0d3f46b30801da",
     "locked": true,
     "schema_version": 3,
     "solution": false,
     "task": false
    }
   },
   "outputs": [],
   "source": [
    "#### Putting it all together\n",
    "def process_text(text, stem=False, remove_stopwords=False, lowercase_text=False):\n",
    "    \n",
    "    tokens = []\n",
    "    for token in tokenize(text):\n",
    "        if remove_stopwords and token.lower() in stopwords:\n",
    "            continue\n",
    "        if stem:\n",
    "            token = stem_token(token)\n",
    "        if lowercase_text:\n",
    "            token = token.lower()\n",
    "        tokens.append(token)\n",
    "\n",
    "    return tokens\n",
    "#### "
   ]
  },
  {
   "cell_type": "markdown",
   "metadata": {
    "deletable": false,
    "editable": false,
    "nbgrader": {
     "cell_type": "markdown",
     "checksum": "02d433b18eb43654fa4306a7bf55b190",
     "grade": false,
     "grade_id": "cell-8d885bfd2edd43ae",
     "locked": true,
     "schema_version": 3,
     "solution": false,
     "task": false
    }
   },
   "source": [
    "---\n",
    "\n",
    "Let's create two sets of preprocessed documents.\n",
    "We can process the documents and queries according to these two configurations:"
   ]
  },
  {
   "cell_type": "code",
   "execution_count": 18,
   "metadata": {
    "deletable": false,
    "editable": false,
    "nbgrader": {
     "cell_type": "code",
     "checksum": "dbe4ca667be6842fdcf512fbcad50c7f",
     "grade": false,
     "grade_id": "cell-d427365ee0fb21d8",
     "locked": true,
     "schema_version": 3,
     "solution": false,
     "task": false
    }
   },
   "outputs": [],
   "source": [
    "# In this configuration:\n",
    "# Don't preprocess the text, except to tokenize \n",
    "config_1 = {\n",
    "  \"stem\": False,\n",
    "  \"remove_stopwords\" : False,\n",
    "  \"lowercase_text\": True\n",
    "} \n",
    "\n",
    "\n",
    "# In this configuration:\n",
    "# Preprocess the text, stem and remove stopwords\n",
    "config_2 = {\n",
    "  \"stem\": True,\n",
    "  \"remove_stopwords\" : True,\n",
    "  \"lowercase_text\": True, \n",
    "} \n",
    "\n",
    "####\n",
    "doc_repr_1 = []\n",
    "doc_repr_2 = []\n",
    "for (doc_id, document) in docs:\n",
    "    doc_repr_1.append((doc_id, process_text(document, **config_1)))\n",
    "    doc_repr_2.append((doc_id, process_text(document, **config_2)))\n",
    "\n",
    "####"
   ]
  },
  {
   "cell_type": "markdown",
   "metadata": {
    "deletable": false,
    "editable": false,
    "nbgrader": {
     "cell_type": "markdown",
     "checksum": "b60589aac19e80941d860d9b3f1e9a16",
     "grade": false,
     "grade_id": "cell-b1c102db61ae7495",
     "locked": true,
     "schema_version": 3,
     "solution": false,
     "task": false
    }
   },
   "source": [
    "--- \n",
    "\n",
    "## Section 2: Indexing (10 points)<a class=\"anchor\" id=\"indexing\"></a>\n",
    "\n",
    "[Back to Part 1](#part1)\n",
    "\n",
    "\n",
    "\n",
    "A retrieval function usually takes in a query document pair, and scores a query against a document.  Our document set is quite small - just a few thousand documents. However, consider a web-scale dataset with a few million documents. In such a scenario, it would become infeasible to score every query and document pair. In such a case, we can build an inverted index. From Wikipedia:\n",
    "\n",
    "> ... , an inverted index (also referred to as a postings file or inverted file) is a database index storing a mapping from content, such as words or numbers, to its locations in a table, .... The purpose of an inverted index is to allow fast full-text searches, at a cost of increased processing when a document is added to the database. ...\n",
    "\n",
    "\n",
    "Consider a simple inverted index, which maps from word to document. This can improve the performance of a retrieval system significantly. In this assignment, we consider a *simple* inverted index, which maps a word to a set of documents. In practice, however, more complex indices might be used.  \n"
   ]
  },
  {
   "cell_type": "markdown",
   "metadata": {
    "deletable": false,
    "editable": false,
    "nbgrader": {
     "cell_type": "markdown",
     "checksum": "710fd943f45523ac36fcb887cc0d4d39",
     "grade": false,
     "grade_id": "cell-fa373192c1b7bb95",
     "locked": true,
     "schema_version": 3,
     "solution": false,
     "task": false
    }
   },
   "source": [
    "### 2.1 Term Frequency-index (10 points)\n",
    "In this assignment, we will be using an index created in memory since our dataset is tiny. To get started, build a simple index that maps each `token` to a list of `(doc_id, count)` where `count` is the count of the `token` in `doc_id`.\n",
    "For consistency, build this index using a python dictionary.\n",
    "    \n",
    "Now, implement a function to build an index:"
   ]
  },
  {
   "cell_type": "code",
   "execution_count": 240,
   "metadata": {
    "deletable": false,
    "nbgrader": {
     "cell_type": "code",
     "checksum": "d4e8c6b658c469379d5fe511de05b536",
     "grade": false,
     "grade_id": "cell-077599b87e953209",
     "locked": false,
     "schema_version": 3,
     "solution": true,
     "task": false
    }
   },
   "outputs": [],
   "source": [
    "# TODO: Implement this! (10 points)\n",
    "from collections import defaultdict\n",
    "def build_tf_index(documents):\n",
    "    \"\"\"\n",
    "        Build an inverted index (with counts). The output is a dictionary which takes in a token\n",
    "        and returns a list of (doc_id, count) where 'count' is the count of the 'token' in 'doc_id'\n",
    "        Input: a list of documents - (doc_id, tokens) \n",
    "        Output: An inverted index implemented within a pyhton dictionary: [token] -> [(doc_id, token_count)]\n",
    "    \"\"\"\n",
    "    # YOUR CODE HERE\n",
    "    index = defaultdict(list)\n",
    "    for (doc_id, tokens) in documents:\n",
    "        doc_id = int(doc_id)\n",
    "        seen_tks = {}\n",
    "        for tk in tokens:\n",
    "            new_tk = tk not in index\n",
    "            if new_tk:\n",
    "                index[tk] = []\n",
    "            if tk not in seen_tks:\n",
    "                index[tk].append([doc_id, 1])\n",
    "                seen_tks[tk] = True\n",
    "            else:\n",
    "                index[tk][-1][1] += 1\n",
    "    return index"
   ]
  },
  {
   "cell_type": "markdown",
   "metadata": {
    "deletable": false,
    "editable": false,
    "nbgrader": {
     "cell_type": "markdown",
     "checksum": "15e7041b4323d2a290322de538ff7670",
     "grade": false,
     "grade_id": "cell-093aebfa504f96f2",
     "locked": true,
     "schema_version": 3,
     "solution": false,
     "task": false
    }
   },
   "source": [
    "---\n",
    "Now we can build indexed documents and preprocess the queries based on the two configurations:"
   ]
  },
  {
   "cell_type": "code",
   "execution_count": 241,
   "metadata": {
    "deletable": false,
    "editable": false,
    "nbgrader": {
     "cell_type": "code",
     "checksum": "e27540c1d8d77a3779a05f557f3f40c6",
     "grade": false,
     "grade_id": "cell-b2ff1676348b90a8",
     "locked": true,
     "schema_version": 3,
     "solution": false,
     "task": false
    }
   },
   "outputs": [],
   "source": [
    "#### Indexed documents based on the two configs\n",
    "\n",
    "# Create the 2 indices\n",
    "tf_index_1 = build_tf_index(doc_repr_1)\n",
    "tf_index_2 = build_tf_index(doc_repr_2)\n",
    "\n",
    "# This function returns the tf_index of the corresponding config\n",
    "def get_index(index_set):\n",
    "    assert index_set in {1, 2}\n",
    "    return {\n",
    "        1: tf_index_1,\n",
    "        2: tf_index_2\n",
    "    }[index_set]\n",
    "\n",
    "####\n",
    "#### Preprocessed query based on the two configs\n",
    "\n",
    "# This function preprocesses the text given the index set, according to the specified config\n",
    "def preprocess_query(text, index_set):\n",
    "    assert index_set in {1, 2}\n",
    "    if index_set == 1:\n",
    "        return process_text(text, **config_1)\n",
    "    elif index_set == 2:\n",
    "        return process_text(text, **config_2)\n",
    "\n",
    "#### "
   ]
  },
  {
   "cell_type": "code",
   "execution_count": null,
   "metadata": {
    "deletable": false,
    "editable": false,
    "nbgrader": {
     "cell_type": "code",
     "checksum": "f0cbc8703e1248cd6edf03f9019b69db",
     "grade": true,
     "grade_id": "cell-fc7c7232d5d2ee46",
     "locked": true,
     "points": 5,
     "schema_version": 3,
     "solution": false,
     "task": false
    }
   },
   "outputs": [],
   "source": [
    "##### Function check\n",
    "\n",
    "assert isinstance(tf_index_1, dict)\n",
    "\n",
    "assert isinstance(tf_index_1['computer'], list)\n",
    "print('sample tf index for computer:', tf_index_1['computer'][:10])\n",
    "\n",
    "assert isinstance(tf_index_1['examples'], list)\n",
    "print('sample tf index for examples:', tf_index_1['examples'][:10])\n",
    "#### "
   ]
  },
  {
   "cell_type": "code",
   "execution_count": null,
   "metadata": {
    "deletable": false,
    "editable": false,
    "nbgrader": {
     "cell_type": "code",
     "checksum": "d49b8ac36815d9a5cb4bed838ab53a50",
     "grade": true,
     "grade_id": "cell-ff06bd11204db250",
     "locked": true,
     "points": 5,
     "schema_version": 3,
     "solution": false,
     "task": false
    }
   },
   "outputs": [],
   "source": [
    "##### Function check\n",
    "\n",
    "assert isinstance(tf_index_2, dict)\n",
    "\n",
    "assert isinstance(tf_index_2['computer'], list)\n",
    "print('sample tf index for computer:', tf_index_1['computer'][:10])\n",
    "\n",
    "assert isinstance(tf_index_2['examples'], list)\n",
    "print('sample tf index for examples:', tf_index_2['examples'][:10])\n",
    "#### "
   ]
  },
  {
   "cell_type": "markdown",
   "metadata": {
    "deletable": false,
    "editable": false,
    "nbgrader": {
     "cell_type": "markdown",
     "checksum": "880b2ef3ca405f2af6e0667d2dc7a600",
     "grade": false,
     "grade_id": "cell-89eba71f04310291",
     "locked": true,
     "schema_version": 3,
     "solution": false,
     "task": false
    }
   },
   "source": [
    "\n",
    "---\n",
    "## Section 3: Ranking  (80 points) <a class=\"anchor\" id=\"ranking\"></a>\n",
    "\n",
    "[Back to Part 1](#part1)\n",
    "\n",
    "Now that we have cleaned and processed our dataset, we can start building simple IR systems. \n",
    "\n",
    "For now, we consider *simple* IR systems, which involve computing scores from the tokens present in the document/query. More advanced methods are covered in later assignments.\n",
    "\n",
    "We will implement the following methods in this section:\n",
    "- [Section 3.1: Bag of Words](#bow) (10 points)\n",
    "- [Section 3.2: TF-IDF](#tfidf) (15 points)\n",
    "- [Section 3.3: Query Likelihood Model](#qlm) (35 points)\n",
    "- [Section 3.4: BM25](#bm25) (20 points)\n",
    "\n",
    "*All search functions should be able to handle multiple words queries.*\n",
    "\n",
    "**Scoring policy:**\n",
    "Your implementations in this section are scored based on the expected performance of your ranking functions.\n",
    "You will get a full mark if your implementation meets the expected performance (measured by some evaluation metric).\n",
    "Otherwise, you may get partial credit.\n",
    "For example, if your *Bag of words* ranking function has 60% of expected performance, you will get 6 out of 10."
   ]
  },
  {
   "cell_type": "markdown",
   "metadata": {
    "deletable": false,
    "editable": false,
    "nbgrader": {
     "cell_type": "markdown",
     "checksum": "6c74e5061917358300c6e8085ec07864",
     "grade": false,
     "grade_id": "cell-3daf70a60e393adf",
     "locked": true,
     "schema_version": 3,
     "solution": false,
     "task": false
    }
   },
   "source": [
    "--- \n",
    "\n",
    "### Section 3.1: Bag of Words (10 points)<a class=\"anchor\" id=\"bow\"></a>\n",
    "\n",
    "Probably the simplest IR model is the Bag of Words (BOW) model.\n",
    "Implement a function that scores and ranks all the documents against a query using this model.   \n",
    "\n",
    "- For consistency, you should use the count of the token and **not** the binary indicator.\n",
    "- Use `float` type for the scores (even though the scores are integers in this case).\n",
    "- No normalization of the scores is necessary, as the ordering is what we are interested in.\n",
    "- If two documents have the same score, they can have any ordering: you are not required to disambiguate.\n"
   ]
  },
  {
   "cell_type": "code",
   "execution_count": 252,
   "metadata": {
    "deletable": false,
    "nbgrader": {
     "cell_type": "code",
     "checksum": "fee4640e22bfc4f05eb958a675ef40e7",
     "grade": false,
     "grade_id": "cell-de9cf0459c4b9324",
     "locked": false,
     "schema_version": 3,
     "solution": true,
     "task": false
    }
   },
   "outputs": [],
   "source": [
    "# TODO: Implement this! (10 points)\n",
    "def dict_to_arr(d, descending=True):\n",
    "    arr = []\n",
    "    for k in d.keys():\n",
    "         arr.append([str(k), d[k]])\n",
    "    return sorted(arr, key=lambda x: x[1], reverse=descending)\n",
    "\n",
    "def bow_search(query, index_set):\n",
    "    \"\"\"\n",
    "        Perform a search over all documents with the given query. \n",
    "        Note: You have to use the `get_index` function created in the previous cells\n",
    "        Input: \n",
    "            query - a (unprocessed) query\n",
    "            index_set - the index to use\n",
    "        Output: a list of (document_id, score), sorted in descending relevance to the given query. \n",
    "    \"\"\"\n",
    "    index = get_index(index_set)\n",
    "    processed_query = preprocess_query(query, index_set)\n",
    "    \n",
    "    # YOUR CODE HERE\n",
    "    raise NotImplementedError()"
   ]
  },
  {
   "cell_type": "code",
   "execution_count": null,
   "metadata": {
    "deletable": false,
    "editable": false,
    "nbgrader": {
     "cell_type": "code",
     "checksum": "613524fbbf02b1d122c6611a71fbf11b",
     "grade": true,
     "grade_id": "cell-9f6aceae6dd9125f",
     "locked": true,
     "points": 2,
     "schema_version": 3,
     "solution": false,
     "task": false
    }
   },
   "outputs": [],
   "source": [
    "#### Function check\n",
    "\n",
    "test_bow = bow_search(\"how to implement bag of words search\", index_set=1)[:5]\n",
    "assert isinstance(test_bow, list)\n",
    "assert len(test_bow[0]) == 2\n",
    "assert isinstance(test_bow[0][0], str)\n",
    "assert isinstance(test_bow[0][1], float)\n",
    "\n",
    "#### "
   ]
  },
  {
   "cell_type": "code",
   "execution_count": null,
   "metadata": {
    "deletable": false,
    "editable": false,
    "nbgrader": {
     "cell_type": "code",
     "checksum": "9af20897659edb62fe77598483590500",
     "grade": true,
     "grade_id": "cell-4eed3abf233d9b58",
     "locked": true,
     "points": 2,
     "schema_version": 3,
     "solution": false,
     "task": false
    }
   },
   "outputs": [],
   "source": [
    "\n",
    "docs_by_id = dict(docs)\n",
    "def print_results(docs, len_limit=50):    \n",
    "    for i, (doc_id, score) in enumerate(docs):\n",
    "        doc_content = docs_by_id[doc_id].strip().replace(\"\\n\", \"\\\\n\")[:len_limit] + \"...\"\n",
    "        print(f\"Rank {i}({score:.2}): {doc_content}\")\n",
    "\n",
    "test_bow_2 = bow_search(\"computer search word\", index_set=2)[:5]\n",
    "print(f\"BOW Results:\")\n",
    "print_results(test_bow_2)\n"
   ]
  },
  {
   "cell_type": "code",
   "execution_count": null,
   "metadata": {
    "deletable": false,
    "editable": false,
    "nbgrader": {
     "cell_type": "code",
     "checksum": "3c9c8b16c8e7d1032f101e9da8a6e845",
     "grade": true,
     "grade_id": "cell-4d65a2d7090c466c",
     "locked": true,
     "points": 3,
     "schema_version": 3,
     "solution": false,
     "task": false
    }
   },
   "outputs": [],
   "source": [
    "\n",
    "test_bow_1 = bow_search(\"computer search word\", index_set=1)[:5]\n",
    "print(f\"BOW Results:\")\n",
    "print_results(test_bow_1)\n"
   ]
  },
  {
   "cell_type": "code",
   "execution_count": null,
   "metadata": {
    "deletable": false,
    "editable": false,
    "nbgrader": {
     "cell_type": "code",
     "checksum": "b7e593847aa4202ae45ec061fb18ad73",
     "grade": true,
     "grade_id": "cell-dedf36ab5853ce20",
     "locked": true,
     "points": 3,
     "schema_version": 3,
     "solution": false,
     "task": false
    }
   },
   "outputs": [],
   "source": [
    "print('top-5 docs for index1:', list(zip(*test_bow_1[:5]))[0])\n",
    "print('top-5 docs for index2:', list(zip(*test_bow_2[:5]))[0])\n"
   ]
  },
  {
   "cell_type": "markdown",
   "metadata": {
    "deletable": false,
    "editable": false,
    "nbgrader": {
     "cell_type": "markdown",
     "checksum": "b04352ee0716dfdf094b8cdb6f32e984",
     "grade": false,
     "grade_id": "cell-a5c09c79ac1f2871",
     "locked": true,
     "schema_version": 3,
     "solution": false,
     "task": false
    }
   },
   "source": [
    "\n",
    "---\n",
    "\n",
    "### Section 3.2: TF-IDF (15 points) <a class=\"anchor\" id=\"tfidf\"></a>\n",
    "\n",
    "Before we implement the tf-idf scoring functions, let's first write a function to compute the document frequencies of all words.  \n",
    "\n",
    "#### 3.2.1 Document frequency (5 points)\n",
    "Compute the document frequencies of all tokens in the collection. \n",
    "Your code should return a dictionary with tokens as its keys and the number of documents containing the token as values.\n",
    "For consistency, the values should have `int` type."
   ]
  },
  {
   "cell_type": "code",
   "execution_count": 245,
   "metadata": {
    "deletable": false,
    "nbgrader": {
     "cell_type": "code",
     "checksum": "5c53263cf4c0b0ffcaae08b91fc364cc",
     "grade": false,
     "grade_id": "cell-9a2369f32e864b8a",
     "locked": false,
     "schema_version": 3,
     "solution": true,
     "task": false
    }
   },
   "outputs": [],
   "source": [
    "# TODO: Implement this! (5 points)\n",
    "def compute_df(documents):\n",
    "    \"\"\"\n",
    "        Compute the document frequency of all terms in the vocabulary\n",
    "        Input: A list of documents\n",
    "        Output: A dictionary with {token: document frequency (int)}\n",
    "    \"\"\"\n",
    "    # YOUR CODE HERE\n",
    "    df = {}\n",
    "    for doc in documents:\n",
    "        seen_tks = {}\n",
    "        for tk in doc:\n",
    "            if tk not in df:\n",
    "                df[tk] = 0\n",
    "            df[tk] += not tk in seen_tks\n",
    "            seen_tks[tk] = True\n",
    "    return df"
   ]
  },
  {
   "cell_type": "code",
   "execution_count": 246,
   "metadata": {
    "deletable": false,
    "editable": false,
    "nbgrader": {
     "cell_type": "code",
     "checksum": "154985511d7925c5793a1f97dea81880",
     "grade": false,
     "grade_id": "cell-4c3bddd0b73ac90e",
     "locked": true,
     "schema_version": 3,
     "solution": false,
     "task": false
    }
   },
   "outputs": [],
   "source": [
    "#### Compute df based on the two configs\n",
    "\n",
    "# get the document frequencies of each document\n",
    "df_1 = compute_df([d[1] for d in doc_repr_1])\n",
    "df_2 = compute_df([d[1] for d in doc_repr_2])\n",
    "\n",
    "def get_df(index_set):\n",
    "    assert index_set in {1, 2}\n",
    "    return {\n",
    "        1: df_1,\n",
    "        2: df_2\n",
    "    }[index_set]\n",
    "####"
   ]
  },
  {
   "cell_type": "code",
   "execution_count": null,
   "metadata": {
    "deletable": false,
    "editable": false,
    "nbgrader": {
     "cell_type": "code",
     "checksum": "110cc180068cf3f77c682ee3de2a117c",
     "grade": true,
     "grade_id": "cell-79e8a6db1e5fc46f",
     "locked": true,
     "points": 5,
     "schema_version": 3,
     "solution": false,
     "task": false
    }
   },
   "outputs": [],
   "source": [
    "#### Function check\n",
    "\n",
    "print(df_1['computer'])\n",
    "print(df_2['computer'])\n",
    "####"
   ]
  },
  {
   "cell_type": "markdown",
   "metadata": {
    "deletable": false,
    "editable": false,
    "nbgrader": {
     "cell_type": "markdown",
     "checksum": "d0d577668fa51b80aeab6e67209ae73b",
     "grade": false,
     "grade_id": "cell-52f6acc487e1b96d",
     "locked": true,
     "schema_version": 3,
     "solution": false,
     "task": false
    }
   },
   "source": [
    "---\n",
    "#### 3.2.2 TF-IDF search (10 points)\n",
    "Next, implement a function that computes a tf-idf score, given a query.\n",
    "Use the following formulas for TF and IDF:\n",
    "\n",
    "$$ TF=\\log (1 + f_{d,t}) $$\n",
    "\n",
    "$$ IDF=\\log (\\frac{N}{n_t})$$\n",
    "\n",
    "where $f_{d,t}$ is the frequency of token $t$ in document $d$, $N$ is the number of total documents and $n_t$ is the number of documents containing token $t$.\n",
    "\n",
    "**Note:** your implementation will be auto-graded assuming you have used the above formulas.\n"
   ]
  },
  {
   "cell_type": "code",
   "execution_count": null,
   "metadata": {
    "deletable": false,
    "nbgrader": {
     "cell_type": "code",
     "checksum": "3534c44b4a3419ca1db98eebe7115dc1",
     "grade": false,
     "grade_id": "cell-2fb5ba34b2994cd9",
     "locked": false,
     "schema_version": 3,
     "solution": true,
     "task": false
    }
   },
   "outputs": [],
   "source": [
    "# TODO: Implement this! (10 points)\n",
    "def tfidf_search(query, index_set):\n",
    "    \"\"\"\n",
    "        Perform a search over all documents with the given query using tf-idf. \n",
    "        Note #1: You have to use the `get_index` (and the `get_df`) function created in the previous cells\n",
    "        Input: \n",
    "            query - a (unprocessed) query\n",
    "            index_set - the index to use\n",
    "        Output: a list of (document_id, score), sorted in descending relevance to the given query \n",
    "    \"\"\"\n",
    "    index = get_index(index_set)\n",
    "    df = get_df(index_set)\n",
    "    processed_query = preprocess_query(query, index_set)\n",
    "    \n",
    "    N = len(docs)\n",
    "    # YOUR CODE HERE\n",
    "    raise NotImplementedError()"
   ]
  },
  {
   "cell_type": "code",
   "execution_count": null,
   "metadata": {
    "deletable": false,
    "editable": false,
    "nbgrader": {
     "cell_type": "code",
     "checksum": "7b66a514663d898694b09a23a597312b",
     "grade": true,
     "grade_id": "cell-bc68aeeacf42beb3",
     "locked": true,
     "points": 2,
     "schema_version": 3,
     "solution": false,
     "task": false
    }
   },
   "outputs": [],
   "source": [
    "\n",
    "#### Function check\n",
    "test_tfidf = tfidf_search(\"how to implement tf idf search\", index_set=1)[:5]\n",
    "assert isinstance(test_tfidf, list)\n",
    "assert len(test_tfidf[0]) == 2\n",
    "assert isinstance(test_tfidf[0][0], str)\n",
    "assert isinstance(test_tfidf[0][1], float)\n",
    "\n",
    "####"
   ]
  },
  {
   "cell_type": "code",
   "execution_count": null,
   "metadata": {
    "deletable": false,
    "editable": false,
    "nbgrader": {
     "cell_type": "code",
     "checksum": "98fb1326cf4bf7983ae237ca8a9105f9",
     "grade": true,
     "grade_id": "cell-c7702fa8179fadb9",
     "locked": true,
     "points": 2,
     "schema_version": 3,
     "solution": false,
     "task": false
    }
   },
   "outputs": [],
   "source": [
    "\n",
    "test_tfidf_2 = tfidf_search(\"computer word search\", index_set=2)[:5]\n",
    "print(f\"TFIDF Results:\")\n",
    "print_results(test_tfidf_2)\n"
   ]
  },
  {
   "cell_type": "code",
   "execution_count": null,
   "metadata": {
    "deletable": false,
    "editable": false,
    "nbgrader": {
     "cell_type": "code",
     "checksum": "733b5b67be5e53989f5b763ce5e52ee9",
     "grade": true,
     "grade_id": "cell-3284f50ac29abbaa",
     "locked": true,
     "points": 3,
     "schema_version": 3,
     "solution": false,
     "task": false
    }
   },
   "outputs": [],
   "source": [
    "\n",
    "test_tfidf_1 = tfidf_search(\"computer word search\", index_set=1)[:5]\n",
    "print(f\"TFIDF Results:\")\n",
    "print_results(test_tfidf_1)\n"
   ]
  },
  {
   "cell_type": "code",
   "execution_count": null,
   "metadata": {
    "deletable": false,
    "editable": false,
    "nbgrader": {
     "cell_type": "code",
     "checksum": "e0edb37a5ae807a2de85d578c87ccb78",
     "grade": true,
     "grade_id": "cell-d908c80a3155354b",
     "locked": true,
     "points": 3,
     "schema_version": 3,
     "solution": false,
     "task": false
    }
   },
   "outputs": [],
   "source": [
    "\n",
    "print('top-5 docs for index1 with BOW search:', list(zip(*test_bow_1[:5]))[0])\n",
    "print('top-5 docs for index2 with BOW search:', list(zip(*test_bow_2[:5]))[0])\n",
    "print('top-5 docs for index1 with TF-IDF search:', list(zip(*test_tfidf_1[:5]))[0])\n",
    "print('top-5 docs for index2 with TF-IDF search:', list(zip(*test_tfidf_2[:5]))[0])\n",
    "\n"
   ]
  },
  {
   "cell_type": "markdown",
   "metadata": {
    "deletable": false,
    "editable": false,
    "nbgrader": {
     "cell_type": "markdown",
     "checksum": "cdffc83f0eaea937cf64a212e7e9af8d",
     "grade": false,
     "grade_id": "cell-f5d923459ba21733",
     "locked": true,
     "schema_version": 3,
     "solution": false,
     "task": false
    }
   },
   "source": [
    "--- \n",
    "\n",
    "### Section 3.3: Query Likelihood Model (35 points) <a class=\"anchor\" id=\"qlm\"></a>\n",
    "\n",
    "In this section, you will implement a simple query likelihood model. \n",
    "\n",
    "\n",
    "#### 3.3.1 Naive QL (15 points)\n",
    "\n",
    "First, let us implement a naive version of a QL model, assuming a multinomial unigram language model (with a uniform prior over the documents). \n",
    "\n"
   ]
  },
  {
   "cell_type": "code",
   "execution_count": 249,
   "metadata": {
    "deletable": false,
    "editable": false,
    "nbgrader": {
     "cell_type": "code",
     "checksum": "b7ae2b7d818b428b4638c1c9206d2aca",
     "grade": false,
     "grade_id": "cell-98505778f7b68e7f",
     "locked": true,
     "schema_version": 3,
     "solution": false,
     "task": false
    }
   },
   "outputs": [],
   "source": [
    "#### Document length for normalization\n",
    "\n",
    "def doc_lengths(documents):\n",
    "    doc_lengths = {doc_id:len(doc) for (doc_id, doc) in documents}\n",
    "    return doc_lengths\n",
    "\n",
    "doc_lengths_1 = doc_lengths(doc_repr_1)\n",
    "doc_lengths_2 = doc_lengths(doc_repr_2)\n",
    "\n",
    "def get_doc_lengths(index_set):\n",
    "    assert index_set in {1, 2}\n",
    "    return {\n",
    "        1: doc_lengths_1,\n",
    "        2: doc_lengths_2\n",
    "    }[index_set]\n",
    "####"
   ]
  },
  {
   "cell_type": "code",
   "execution_count": null,
   "metadata": {
    "deletable": false,
    "nbgrader": {
     "cell_type": "code",
     "checksum": "cedd08303a914243fefdb6b876977ca1",
     "grade": false,
     "grade_id": "cell-8bcf2b804d636c2e",
     "locked": false,
     "schema_version": 3,
     "solution": true,
     "task": false
    }
   },
   "outputs": [],
   "source": [
    "# TODO: Implement this! (15 points)\n",
    "def naive_ql_search(query, index_set):\n",
    "    \"\"\"\n",
    "        Perform a search over all documents with the given query using a naive QL model. \n",
    "        Note #1: You have to use the `get_index` (and get_doc_lengths) function created in the previous cells\n",
    "        Input: \n",
    "            query - a (unprocessed) query\n",
    "            index_set - the index to use\n",
    "        Output: a list of (document_id, score), sorted in descending relevance to the given query \n",
    "    \"\"\"\n",
    "    index = get_index(index_set)\n",
    "    doc_lengths = get_doc_lengths(index_set)\n",
    "    processed_query = preprocess_query(query, index_set)\n",
    "    # YOUR CODE HERE\n",
    "    raise NotImplementedError()"
   ]
  },
  {
   "cell_type": "code",
   "execution_count": null,
   "metadata": {
    "deletable": false,
    "editable": false,
    "nbgrader": {
     "cell_type": "code",
     "checksum": "b550d15bdad28354c336020a00c33d56",
     "grade": true,
     "grade_id": "cell-5a83ac12ecde8578",
     "locked": true,
     "points": 3,
     "schema_version": 3,
     "solution": false,
     "task": false
    }
   },
   "outputs": [],
   "source": [
    "#### Function check\n",
    "test_naiveql = naive_ql_search(\"report\", index_set=1)[:5]\n",
    "print(f\"Naive QL Results:\")\n",
    "print_results(test_naiveql)\n",
    "####"
   ]
  },
  {
   "cell_type": "code",
   "execution_count": null,
   "metadata": {
    "deletable": false,
    "editable": false,
    "nbgrader": {
     "cell_type": "code",
     "checksum": "799df1d81c63fe90edbb6c218fc707fb",
     "grade": true,
     "grade_id": "cell-80f4bf2137f997bb",
     "locked": true,
     "points": 2,
     "schema_version": 3,
     "solution": false,
     "task": false
    }
   },
   "outputs": [],
   "source": [
    "#### Please do not change this. This cell is used for grading."
   ]
  },
  {
   "cell_type": "code",
   "execution_count": null,
   "metadata": {
    "deletable": false,
    "editable": false,
    "nbgrader": {
     "cell_type": "code",
     "checksum": "875a4a517d27e20625d41783cebec118",
     "grade": true,
     "grade_id": "cell-5ce2993458a8ce51",
     "locked": true,
     "points": 3,
     "schema_version": 3,
     "solution": false,
     "task": false
    }
   },
   "outputs": [],
   "source": [
    "#### Please do not change this. This cell is used for grading."
   ]
  },
  {
   "cell_type": "code",
   "execution_count": null,
   "metadata": {
    "deletable": false,
    "editable": false,
    "nbgrader": {
     "cell_type": "code",
     "checksum": "d5c4e1c3852e71a46f32825b122f1b71",
     "grade": true,
     "grade_id": "cell-7753bdb54e292f3d",
     "locked": true,
     "points": 3,
     "schema_version": 3,
     "solution": false,
     "task": false
    }
   },
   "outputs": [],
   "source": [
    "#### Please do not change this. This cell is used for grading."
   ]
  },
  {
   "cell_type": "code",
   "execution_count": null,
   "metadata": {
    "deletable": false,
    "editable": false,
    "nbgrader": {
     "cell_type": "code",
     "checksum": "c4d4332d4356e89ce0240f6b80e1899a",
     "grade": true,
     "grade_id": "cell-54e476e2f96e64bb",
     "locked": true,
     "points": 4,
     "schema_version": 3,
     "solution": false,
     "task": false
    }
   },
   "outputs": [],
   "source": [
    "#### Please do not change this. This cell is used for grading."
   ]
  },
  {
   "cell_type": "markdown",
   "metadata": {
    "deletable": false,
    "editable": false,
    "nbgrader": {
     "cell_type": "markdown",
     "checksum": "8d739dc91a22bd48897f603885f95a74",
     "grade": false,
     "grade_id": "cell-5414dfd69dab8b94",
     "locked": true,
     "schema_version": 3,
     "solution": false,
     "task": false
    }
   },
   "source": [
    "---\n",
    "#### 3.3.2 QL (20 points)\n",
    "Now, let's implement a QL model that handles the issues with the naive version. In particular, you will implement a QL model with Jelinek-Mercer Smoothing. That means an interpolated score is computed per word - one term is the same as the previous naive version, and the second term comes from a unigram language model. In addition, you should accumulate the scores by summing the **log** (smoothed) probability which leads to better numerical stability."
   ]
  },
  {
   "cell_type": "code",
   "execution_count": null,
   "metadata": {
    "deletable": false,
    "nbgrader": {
     "cell_type": "code",
     "checksum": "b8c6abf937ad333e628f1db891f2e29e",
     "grade": false,
     "grade_id": "cell-bb1f506409771257",
     "locked": false,
     "schema_version": 3,
     "solution": true,
     "task": false
    }
   },
   "outputs": [],
   "source": [
    "# TODO: Implement this! (20 points)\n",
    "\n",
    "# YOUR CODE HERE\n",
    "raise NotImplementedError()\n",
    "\n",
    "def ql_search(query, index_set):\n",
    "    \"\"\"\n",
    "        Perform a search over all documents with the given query using a QL model \n",
    "        with Jelinek-Mercer Smoothing (set smoothing=0.1). \n",
    "        \n",
    "        \n",
    "        Note #1: You have to use the `get_index` (and get_doc_lengths) function created in the previous cells\n",
    "        Note #2: You might have to create some variables beforehand and use them in this function\n",
    "        \n",
    "        \n",
    "        Input: \n",
    "            query - a (unprocessed) query\n",
    "            index_set - the index to use\n",
    "        Output: a list of (document_id, score), sorted in descending relevance to the given query \n",
    "    \"\"\"\n",
    "    index = get_index(index_set)\n",
    "    doc_lengths = get_doc_lengths(index_set)\n",
    "    processed_query = preprocess_query(query, index_set)\n",
    "    \n",
    "    # YOUR CODE HERE\n",
    "    raise NotImplementedError()\n",
    "    "
   ]
  },
  {
   "cell_type": "code",
   "execution_count": null,
   "metadata": {
    "deletable": false,
    "editable": false,
    "nbgrader": {
     "cell_type": "code",
     "checksum": "0b12a7f3355193a257fd9f5f69a66562",
     "grade": true,
     "grade_id": "cell-850e9d6369bcec32",
     "locked": true,
     "points": 4,
     "schema_version": 3,
     "solution": false,
     "task": false
    }
   },
   "outputs": [],
   "source": [
    "#### Function check\n",
    "test_ql_results = ql_search(\"report\", index_set=1)[:5]\n",
    "print_results(test_ql_results)\n",
    "print()\n",
    "test_ql_results_long = ql_search(\"report \" * 10, index_set=1)[:5]\n",
    "print_results(test_ql_results_long)\n",
    "####"
   ]
  },
  {
   "cell_type": "code",
   "execution_count": null,
   "metadata": {
    "deletable": false,
    "editable": false,
    "nbgrader": {
     "cell_type": "code",
     "checksum": "e40be645140389c115849856145f5b59",
     "grade": true,
     "grade_id": "cell-958cdcf6fd6899b7",
     "locked": true,
     "points": 3,
     "schema_version": 3,
     "solution": false,
     "task": false
    }
   },
   "outputs": [],
   "source": [
    "#### Please do not change this. This cell is used for grading."
   ]
  },
  {
   "cell_type": "code",
   "execution_count": null,
   "metadata": {
    "deletable": false,
    "editable": false,
    "nbgrader": {
     "cell_type": "code",
     "checksum": "41d4aff001df17e7963ba79b45810b30",
     "grade": true,
     "grade_id": "cell-384dc23a0c251f6e",
     "locked": true,
     "points": 4,
     "schema_version": 3,
     "solution": false,
     "task": false
    }
   },
   "outputs": [],
   "source": [
    "#### Please do not change this. This cell is used for grading."
   ]
  },
  {
   "cell_type": "code",
   "execution_count": null,
   "metadata": {
    "deletable": false,
    "editable": false,
    "nbgrader": {
     "cell_type": "code",
     "checksum": "893e8c5a073abc8ebb763d267b91bc02",
     "grade": true,
     "grade_id": "cell-7218966cba5097cc",
     "locked": true,
     "points": 4,
     "schema_version": 3,
     "solution": false,
     "task": false
    }
   },
   "outputs": [],
   "source": [
    "#### Please do not change this. This cell is used for grading."
   ]
  },
  {
   "cell_type": "code",
   "execution_count": null,
   "metadata": {
    "deletable": false,
    "editable": false,
    "nbgrader": {
     "cell_type": "code",
     "checksum": "f99cb6f8b1f5830aaed8f06712ff846e",
     "grade": true,
     "grade_id": "cell-481ab073259ae53f",
     "locked": true,
     "points": 5,
     "schema_version": 3,
     "solution": false,
     "task": false
    }
   },
   "outputs": [],
   "source": [
    "#### Please do not change this. This cell is used for grading."
   ]
  },
  {
   "cell_type": "markdown",
   "metadata": {
    "deletable": false,
    "editable": false,
    "nbgrader": {
     "cell_type": "markdown",
     "checksum": "c02f14705d679579b1aa9f78f54779d5",
     "grade": false,
     "grade_id": "cell-f44088bfdac1dc90",
     "locked": true,
     "schema_version": 3,
     "solution": false,
     "task": false
    }
   },
   "source": [
    "--- \n",
    "\n",
    "### Section 3.4: BM25 (20 points) <a class=\"anchor\" id=\"bm25\"></a>\n",
    "\n",
    "In this section, we will implement the BM25 scoring function. \n"
   ]
  },
  {
   "cell_type": "code",
   "execution_count": 253,
   "metadata": {
    "deletable": false,
    "nbgrader": {
     "cell_type": "code",
     "checksum": "e57efe06ea92af1c83784a42eb3d86e0",
     "grade": false,
     "grade_id": "cell-15640fc9b5d00a3c",
     "locked": false,
     "schema_version": 3,
     "solution": true,
     "task": false
    }
   },
   "outputs": [],
   "source": [
    "# TODO: Implement this! (20 points)\n",
    "def bm25_search(query, index_set):\n",
    "    \"\"\"\n",
    "        Perform a search over all documents with the given query using BM25. Use k_1 = 1.5 and b = 0.75\n",
    "        Note #1: You have to use the `get_index` (and `get_doc_lengths`) function created in the previous cells\n",
    "        Note #2: You might have to create some variables beforehand and use them in this function\n",
    "        \n",
    "        Input: \n",
    "            query - a (unprocessed) query\n",
    "            index_set - the index to use\n",
    "        Output: a list of (document_id, score), sorted in descending relevance to the given query \n",
    "    \"\"\"\n",
    "    k_1 = 1.5\n",
    "    b = 0.75\n",
    "    index = get_index(index_set)\n",
    "    df = get_df(index_set)\n",
    "    doc_lengths = get_doc_lengths(index_set)\n",
    "    processed_query = preprocess_query(query, index_set)\n",
    "    scores = {}\n",
    "    vals = doc_lengths.values()\n",
    "    N = len(vals)\n",
    "    dl_avg = sum(vals)/len(vals)\n",
    "    for q in processed_query:\n",
    "        if q not in index: continue\n",
    "        for (doc_id, freq) in index[q]:\n",
    "            if doc_id not in scores:\n",
    "                scores[doc_id] = 0\n",
    "            scores[doc_id] += np.log(N/df[q])*(k_1+1)*freq/(k_1*(1-b + b*doc_lengths[str(doc_id)]/dl_avg)+freq)\n",
    "    return dict_to_arr(scores)"
   ]
  },
  {
   "cell_type": "code",
   "execution_count": 254,
   "metadata": {
    "deletable": false,
    "editable": false,
    "nbgrader": {
     "cell_type": "code",
     "checksum": "4be9de5d4e94637960d83725422bea6c",
     "grade": true,
     "grade_id": "cell-d10536bca72c74b1",
     "locked": true,
     "points": 3,
     "schema_version": 3,
     "solution": false,
     "task": false
    }
   },
   "outputs": [
    {
     "ename": "NameError",
     "evalue": "name 'print_results' is not defined",
     "output_type": "error",
     "traceback": [
      "\u001b[1;31m---------------------------------------------------------------------------\u001b[0m",
      "\u001b[1;31mNameError\u001b[0m                                 Traceback (most recent call last)",
      "\u001b[1;32m~\\AppData\\Local\\Temp/ipykernel_15384/1158184704.py\u001b[0m in \u001b[0;36m<module>\u001b[1;34m\u001b[0m\n\u001b[0;32m      1\u001b[0m \u001b[1;31m#### Function check\u001b[0m\u001b[1;33m\u001b[0m\u001b[1;33m\u001b[0m\u001b[0m\n\u001b[0;32m      2\u001b[0m \u001b[0mtest_bm25_results\u001b[0m \u001b[1;33m=\u001b[0m \u001b[0mbm25_search\u001b[0m\u001b[1;33m(\u001b[0m\u001b[1;34m\"report\"\u001b[0m\u001b[1;33m,\u001b[0m \u001b[0mindex_set\u001b[0m\u001b[1;33m=\u001b[0m\u001b[1;36m1\u001b[0m\u001b[1;33m)\u001b[0m\u001b[1;33m[\u001b[0m\u001b[1;33m:\u001b[0m\u001b[1;36m5\u001b[0m\u001b[1;33m]\u001b[0m\u001b[1;33m\u001b[0m\u001b[1;33m\u001b[0m\u001b[0m\n\u001b[1;32m----> 3\u001b[1;33m \u001b[0mprint_results\u001b[0m\u001b[1;33m(\u001b[0m\u001b[0mtest_bm25_results\u001b[0m\u001b[1;33m)\u001b[0m\u001b[1;33m\u001b[0m\u001b[1;33m\u001b[0m\u001b[0m\n\u001b[0m\u001b[0;32m      4\u001b[0m \u001b[1;31m####\u001b[0m\u001b[1;33m\u001b[0m\u001b[1;33m\u001b[0m\u001b[0m\n",
      "\u001b[1;31mNameError\u001b[0m: name 'print_results' is not defined"
     ]
    }
   ],
   "source": [
    "#### Function check\n",
    "test_bm25_results = bm25_search(\"report\", index_set=1)[:5]\n",
    "print_results(test_bm25_results)\n",
    "####"
   ]
  },
  {
   "cell_type": "code",
   "execution_count": null,
   "metadata": {
    "deletable": false,
    "editable": false,
    "nbgrader": {
     "cell_type": "code",
     "checksum": "31b550d6a46ae4f8ede88788799ac2b9",
     "grade": true,
     "grade_id": "cell-60f6ec5052712d79",
     "locked": true,
     "points": 5,
     "schema_version": 3,
     "solution": false,
     "task": false
    }
   },
   "outputs": [],
   "source": [
    "#### Please do not change this. This cell is used for grading."
   ]
  },
  {
   "cell_type": "code",
   "execution_count": null,
   "metadata": {
    "deletable": false,
    "editable": false,
    "nbgrader": {
     "cell_type": "code",
     "checksum": "3da2ec16bfe781916e71755d65aa2983",
     "grade": true,
     "grade_id": "cell-5d17524043a5abcc",
     "locked": true,
     "points": 5,
     "schema_version": 3,
     "solution": false,
     "task": false
    }
   },
   "outputs": [],
   "source": [
    "#### Please do not change this. This cell is used for grading."
   ]
  },
  {
   "cell_type": "code",
   "execution_count": null,
   "metadata": {
    "deletable": false,
    "editable": false,
    "nbgrader": {
     "cell_type": "code",
     "checksum": "e7b563d54fa84c20909c0ae107010541",
     "grade": true,
     "grade_id": "cell-ff8e704eda1184e3",
     "locked": true,
     "points": 3,
     "schema_version": 3,
     "solution": false,
     "task": false
    }
   },
   "outputs": [],
   "source": [
    "#### Please do not change this. This cell is used for grading."
   ]
  },
  {
   "cell_type": "code",
   "execution_count": null,
   "metadata": {
    "deletable": false,
    "editable": false,
    "nbgrader": {
     "cell_type": "code",
     "checksum": "b013f90974b396630a8831d6f1d7e5f7",
     "grade": true,
     "grade_id": "cell-a52310500a2543cb",
     "locked": true,
     "points": 4,
     "schema_version": 3,
     "solution": false,
     "task": false
    }
   },
   "outputs": [],
   "source": [
    "#### Please do not change this. This cell is used for grading."
   ]
  },
  {
   "cell_type": "markdown",
   "metadata": {
    "deletable": false,
    "editable": false,
    "nbgrader": {
     "cell_type": "markdown",
     "checksum": "8fcf67cb7d5e8b26cb9bf1f0aa42c847",
     "grade": false,
     "grade_id": "cell-8b2b412c81d62f2d",
     "locked": true,
     "schema_version": 3,
     "solution": false,
     "task": false
    }
   },
   "source": [
    "\n",
    "---\n",
    "\n",
    "### 3.5. Test Your Functions\n",
    "\n",
    "The widget below allows you to play with the search functions you've written so far. Use this to test your search functions and ensure that they work as expected."
   ]
  },
  {
   "cell_type": "code",
   "execution_count": 30,
   "metadata": {
    "deletable": false,
    "editable": false,
    "nbgrader": {
     "cell_type": "code",
     "checksum": "dfeb204b390acc0794dbdcac92b0cf2c",
     "grade": false,
     "grade_id": "cell-c9c2bb76354e8d97",
     "locked": true,
     "schema_version": 3,
     "solution": false,
     "task": false
    }
   },
   "outputs": [],
   "source": [
    "#### Highlighter function\n",
    "# class for results\n",
    "ResultRow = namedtuple(\"ResultRow\", [\"doc_id\", \"snippet\", \"score\"])\n",
    "# doc_id -> doc\n",
    "docs_by_id = dict((d[0], d[1]) for d in docs)\n",
    "\n",
    "def highlight_text(document, query, tol=17):\n",
    "    import re\n",
    "    tokens = tokenize(query)\n",
    "    regex = \"|\".join(f\"(\\\\b{t}\\\\b)\" for t in tokens)\n",
    "    regex = re.compile(regex, flags=re.IGNORECASE)\n",
    "    output = \"\"\n",
    "    i = 0\n",
    "    for m in regex.finditer(document):\n",
    "        start_idx = max(0, m.start() - tol)\n",
    "        end_idx = min(len(document), m.end() + tol)\n",
    "        output += \"\".join([\"...\",\n",
    "                        document[start_idx:m.start()],\n",
    "                        \"<strong>\",\n",
    "                        document[m.start():m.end()],\n",
    "                        \"</strong>\",\n",
    "                        document[m.end():end_idx],\n",
    "                        \"...\"])\n",
    "    return output.replace(\"\\n\", \" \")\n",
    "\n",
    "\n",
    "def make_results(query, search_fn, index_set):\n",
    "    results = []\n",
    "    for doc_id, score in search_fn(query, index_set):\n",
    "        highlight = highlight_text(docs_by_id[doc_id], query)\n",
    "        if len(highlight.strip()) == 0:\n",
    "            highlight = docs_by_id[doc_id]\n",
    "        results.append(ResultRow(doc_id, highlight, score))\n",
    "    return results\n",
    "####"
   ]
  },
  {
   "cell_type": "code",
   "execution_count": 84,
   "metadata": {},
   "outputs": [
    {
     "ename": "NameError",
     "evalue": "name 'bm25_search' is not defined",
     "output_type": "error",
     "traceback": [
      "\u001b[1;31m---------------------------------------------------------------------------\u001b[0m",
      "\u001b[1;31mNameError\u001b[0m                                 Traceback (most recent call last)",
      "\u001b[1;32m~\\AppData\\Local\\Temp/ipykernel_15384/2027238185.py\u001b[0m in \u001b[0;36m<module>\u001b[1;34m\u001b[0m\n\u001b[0;32m      3\u001b[0m \u001b[1;31m# and return a sorted list of (doc_id, score)\u001b[0m\u001b[1;33m\u001b[0m\u001b[1;33m\u001b[0m\u001b[0m\n\u001b[0;32m      4\u001b[0m \u001b[1;31m# with the most relevant document in the first position\u001b[0m\u001b[1;33m\u001b[0m\u001b[1;33m\u001b[0m\u001b[0m\n\u001b[1;32m----> 5\u001b[1;33m \u001b[0msearch_fn\u001b[0m \u001b[1;33m=\u001b[0m \u001b[0mbm25_search\u001b[0m\u001b[1;33m\u001b[0m\u001b[1;33m\u001b[0m\u001b[0m\n\u001b[0m\u001b[0;32m      6\u001b[0m \u001b[0mindex_set\u001b[0m \u001b[1;33m=\u001b[0m \u001b[1;36m1\u001b[0m\u001b[1;33m\u001b[0m\u001b[1;33m\u001b[0m\u001b[0m\n\u001b[0;32m      7\u001b[0m \u001b[1;33m\u001b[0m\u001b[0m\n",
      "\u001b[1;31mNameError\u001b[0m: name 'bm25_search' is not defined"
     ]
    }
   ],
   "source": [
    "# TODO: Set this to the function you want to test!\n",
    "# this function should take in a query (string)\n",
    "# and return a sorted list of (doc_id, score) \n",
    "# with the most relevant document in the first position\n",
    "search_fn = bm25_search\n",
    "index_set = 1\n",
    "\n",
    "text = widgets.Text(description=\"Search Bar\", width=200)\n",
    "display(text)\n",
    "\n",
    "def handle_submit(sender):\n",
    "    print(f\"Searching for: '{sender.value}'\")\n",
    "    \n",
    "    results = make_results(sender.value, search_fn, index_set)\n",
    "    \n",
    "    # display only the top 5\n",
    "    results = results[:5]\n",
    "    \n",
    "    body = \"\"\n",
    "    for idx, r in enumerate(results):\n",
    "        body += f\"<li>Document #{r.doc_id}({r.score}): {r.snippet}</li>\"\n",
    "    display(HTML(f\"<ul>{body}</ul>\"))\n",
    "    \n",
    "\n",
    "text.on_submit(handle_submit)"
   ]
  },
  {
   "cell_type": "markdown",
   "metadata": {
    "deletable": false,
    "editable": false,
    "nbgrader": {
     "cell_type": "markdown",
     "checksum": "019b1ff878dc6339dd068e2d48d19904",
     "grade": false,
     "grade_id": "cell-8d46fe8e4f3d8cdb",
     "locked": true,
     "schema_version": 3,
     "solution": false,
     "task": false
    }
   },
   "source": [
    "---\n",
    "\n",
    "## Section 4: Evaluation (40 points) <a class=\"anchor\" id=\"evaluation\"></a>\n",
    "\n",
    "[Back to Part 1](#part1)\n",
    "\n",
    "In order to analyze the effectiveness of retrieval algorithms, we first have to learn how to evaluate such a system. In particular, we will work with offline evaluation metrics. These metrics are computed on a dataset with known relevance judgements.\n",
    "\n",
    "Implement the following evaluation metrics. \n",
    "\n",
    "1. Precision (7 points)\n",
    "2. Recall (7 points)\n",
    "3. Mean Average Precision (13 points)\n",
    "4. Expected Reciprocal Rank (13 points)"
   ]
  },
  {
   "cell_type": "markdown",
   "metadata": {
    "deletable": false,
    "editable": false,
    "nbgrader": {
     "cell_type": "markdown",
     "checksum": "e46f54c7f81d88bbc950b0fae14c4ca5",
     "grade": false,
     "grade_id": "cell-3419fd3bc663d7cc",
     "locked": true,
     "schema_version": 3,
     "solution": false,
     "task": false
    }
   },
   "source": [
    "---\n",
    "### 4.1 Read relevance labels\n",
    "\n",
    "Let's take a look at the `qrels.text` file, which contains the ground truth relevance scores. The relevance labels for CACM are binary - either 0 or 1. \n"
   ]
  },
  {
   "cell_type": "code",
   "execution_count": null,
   "metadata": {
    "deletable": false,
    "editable": false,
    "nbgrader": {
     "cell_type": "code",
     "checksum": "6c11025f5a222796f2882c73c1634799",
     "grade": false,
     "grade_id": "cell-6b738366059dde9e",
     "locked": true,
     "schema_version": 3,
     "solution": false,
     "task": false
    }
   },
   "outputs": [],
   "source": [
    "!head ./datasets/qrels.text"
   ]
  },
  {
   "cell_type": "markdown",
   "metadata": {
    "deletable": false,
    "editable": false,
    "nbgrader": {
     "cell_type": "markdown",
     "checksum": "7ce95245c1597183320d7254afde5c8e",
     "grade": false,
     "grade_id": "cell-10e16bff2753ffbb",
     "locked": true,
     "schema_version": 3,
     "solution": false,
     "task": false
    }
   },
   "source": [
    "---\n",
    "\n",
    "The first column is the query_id and the second column is the document_id. We can safely ignore the 3rd and 4th columns."
   ]
  },
  {
   "cell_type": "code",
   "execution_count": null,
   "metadata": {
    "deletable": false,
    "nbgrader": {
     "cell_type": "code",
     "checksum": "000c6d59dce08dba0ba1e8d691dbbc2e",
     "grade": false,
     "grade_id": "cell-ee5253a4ef602fce",
     "locked": false,
     "schema_version": 3,
     "solution": true,
     "task": false
    }
   },
   "outputs": [],
   "source": [
    "# YOUR CODE HERE\n",
    "raise NotImplementedError()"
   ]
  },
  {
   "cell_type": "code",
   "execution_count": null,
   "metadata": {
    "deletable": false,
    "editable": false,
    "nbgrader": {
     "cell_type": "code",
     "checksum": "d60caeba85c2a97d2211184a5ae91fd1",
     "grade": false,
     "grade_id": "cell-72215605fbe24f65",
     "locked": true,
     "schema_version": 3,
     "solution": false,
     "task": false
    }
   },
   "outputs": [],
   "source": [
    "#### Function check\n",
    "qrels = read_qrels()\n",
    "\n",
    "assert len(qrels) == 52, \"There should be 52 queries with relevance judgements\"\n",
    "assert sum(len(j) for j in qrels.values()) == 796, \"There should be a total of 796 Relevance Judgements\"\n",
    "\n",
    "assert np.min(np.array([len(j) for j in qrels.values()])) == 1\n",
    "assert np.max(np.array([len(j) for j in qrels.values()])) == 51\n",
    "\n",
    "####"
   ]
  },
  {
   "cell_type": "markdown",
   "metadata": {
    "deletable": false,
    "editable": false,
    "nbgrader": {
     "cell_type": "markdown",
     "checksum": "6c9e7428a52e291a2cdf92a379730d4c",
     "grade": false,
     "grade_id": "cell-176a6fb2939d0420",
     "locked": true,
     "schema_version": 3,
     "solution": false,
     "task": false
    }
   },
   "source": [
    "---\n",
    "**Note:** For a given query `query_id`, you can assume that documents *not* in `qrels[query_id]` are not relevant to `query_id`. \n"
   ]
  },
  {
   "cell_type": "markdown",
   "metadata": {
    "deletable": false,
    "editable": false,
    "nbgrader": {
     "cell_type": "markdown",
     "checksum": "b26a818c7b4f7ad490e00b35ea0edd69",
     "grade": false,
     "grade_id": "cell-bd8341b72cdd89bb",
     "locked": true,
     "schema_version": 3,
     "solution": false,
     "task": false
    }
   },
   "source": [
    "---\n",
    "### 4.2 Precision (7 points)\n",
    "Implement the `precision@k` metric:"
   ]
  },
  {
   "cell_type": "code",
   "execution_count": null,
   "metadata": {
    "deletable": false,
    "nbgrader": {
     "cell_type": "code",
     "checksum": "43dea1979ebdec24ffcfeff71c670433",
     "grade": false,
     "grade_id": "cell-494bd0cce108ed67",
     "locked": false,
     "schema_version": 3,
     "solution": true,
     "task": false
    }
   },
   "outputs": [],
   "source": [
    "# TODO: Implement this! (7 points)\n",
    "def precision_k(results, relevant_docs, k):\n",
    "    \"\"\"\n",
    "        Compute Precision@K\n",
    "        Input: \n",
    "            results: A sorted list of 2-tuples (document_id, score), \n",
    "                    with the most relevant document in the first position\n",
    "            relevant_docs: A set of relevant documents. \n",
    "            k: the cut-off\n",
    "        Output: Precision@K\n",
    "    \"\"\"\n",
    "    if k > len(results):\n",
    "        k = len(results)\n",
    "    # YOUR CODE HERE\n",
    "    raise NotImplementedError()"
   ]
  },
  {
   "cell_type": "code",
   "execution_count": null,
   "metadata": {
    "deletable": false,
    "editable": false,
    "nbgrader": {
     "cell_type": "code",
     "checksum": "9222e35582b1840ffb60fd02fb0b60c3",
     "grade": true,
     "grade_id": "cell-e7ff0d91c319ca64",
     "locked": true,
     "points": 7,
     "schema_version": 3,
     "solution": false,
     "task": false
    }
   },
   "outputs": [],
   "source": [
    "\n",
    "#### Function check\n",
    "qid = queries[0][0]\n",
    "qtext = queries[0][1]\n",
    "print(f'query:{qtext}')\n",
    "results = bm25_search(qtext, 2)\n",
    "precision = precision_k(results, qrels[qid], 10)\n",
    "print(f'precision@10 = {precision}')\n",
    "####"
   ]
  },
  {
   "cell_type": "markdown",
   "metadata": {
    "deletable": false,
    "editable": false,
    "nbgrader": {
     "cell_type": "markdown",
     "checksum": "8fd3b3998197c7097a40348500affb68",
     "grade": false,
     "grade_id": "cell-afd95f865bc7191e",
     "locked": true,
     "schema_version": 3,
     "solution": false,
     "task": false
    }
   },
   "source": [
    "---\n",
    "### 4.3 Recall (7 points)\n",
    "Implement the `recall@k` metric:"
   ]
  },
  {
   "cell_type": "code",
   "execution_count": null,
   "metadata": {
    "deletable": false,
    "nbgrader": {
     "cell_type": "code",
     "checksum": "b2020e5741ae03b3fe35817ed8f4ccaa",
     "grade": false,
     "grade_id": "cell-c323fc8c3f8a7cf8",
     "locked": false,
     "schema_version": 3,
     "solution": true,
     "task": false
    }
   },
   "outputs": [],
   "source": [
    "# TODO: Implement this! (7 points)\n",
    "def recall_k(results, relevant_docs, k):\n",
    "    \"\"\"\n",
    "        Compute Recall@K\n",
    "        Input: \n",
    "            results: A sorted list of 2-tuples (document_id, score), with the most relevant document in the first position\n",
    "            relevant_docs: A set of relevant documents. \n",
    "            k: the cut-off\n",
    "        Output: Recall@K\n",
    "    \"\"\"\n",
    "    # YOUR CODE HERE\n",
    "    raise NotImplementedError()"
   ]
  },
  {
   "cell_type": "code",
   "execution_count": null,
   "metadata": {
    "deletable": false,
    "editable": false,
    "nbgrader": {
     "cell_type": "code",
     "checksum": "56b6e0b8522f8b2dffbfb3206b2efa84",
     "grade": true,
     "grade_id": "cell-b25172161aef165c",
     "locked": true,
     "points": 7,
     "schema_version": 3,
     "solution": false,
     "task": false
    }
   },
   "outputs": [],
   "source": [
    "#### Function check\n",
    "qid = queries[10][0]\n",
    "qtext = queries[10][1]\n",
    "print(f'query:{qtext}')\n",
    "results = bm25_search(qtext, 2)\n",
    "recall = recall_k(results, qrels[qid], 10)\n",
    "print(f'recall@10 = {recall}')\n",
    "####"
   ]
  },
  {
   "cell_type": "markdown",
   "metadata": {
    "deletable": false,
    "editable": false,
    "nbgrader": {
     "cell_type": "markdown",
     "checksum": "b3d3c7bd1cd977cd07ef5df7d3fbf159",
     "grade": false,
     "grade_id": "cell-77fd2e7a39a74739",
     "locked": true,
     "schema_version": 3,
     "solution": false,
     "task": false
    }
   },
   "source": [
    "---\n",
    "### 4.4 Mean Average Precision (13 points)\n",
    "Implement the `map` metric:"
   ]
  },
  {
   "cell_type": "code",
   "execution_count": null,
   "metadata": {
    "deletable": false,
    "nbgrader": {
     "cell_type": "code",
     "checksum": "aae2c62f2ffd76f5b6c004e9519b9f14",
     "grade": false,
     "grade_id": "cell-e50925fa9093a30d",
     "locked": false,
     "schema_version": 3,
     "solution": true,
     "task": false
    }
   },
   "outputs": [],
   "source": [
    "# TODO: Implement this! (12 points)\n",
    "def average_precision(results, relevant_docs):\n",
    "    \"\"\"\n",
    "        Compute Average Precision (for a single query - the results are \n",
    "        averaged across queries to get MAP in the next few cells)\n",
    "        Hint: You can use the recall_k and precision_k functions here!\n",
    "        Input: \n",
    "            results: A sorted list of 2-tuples (document_id, score), with the most \n",
    "                    relevant document in the first position\n",
    "            relevant_docs: A set of relevant documents. \n",
    "        Output: Average Precision\n",
    "    \"\"\"\n",
    "    # YOUR CODE HERE\n",
    "    raise NotImplementedError()\n"
   ]
  },
  {
   "cell_type": "code",
   "execution_count": null,
   "metadata": {
    "deletable": false,
    "editable": false,
    "nbgrader": {
     "cell_type": "code",
     "checksum": "3b00e147c2fa146fa59f179b7c9cab75",
     "grade": true,
     "grade_id": "cell-8a1f7ec98571e58b",
     "locked": true,
     "points": 13,
     "schema_version": 3,
     "solution": false,
     "task": false
    }
   },
   "outputs": [],
   "source": [
    "#### Function check\n",
    "qid = queries[20][0]\n",
    "qtext = queries[20][1]\n",
    "print(f'query:{qtext}')\n",
    "results = bm25_search(qtext, 2)\n",
    "mean_ap = average_precision(results, qrels[qid])\n",
    "print(f'MAP = {mean_ap}')\n",
    "####"
   ]
  },
  {
   "cell_type": "markdown",
   "metadata": {
    "deletable": false,
    "editable": false,
    "nbgrader": {
     "cell_type": "markdown",
     "checksum": "36f85f45ef52d9467ba9a717d6d99ff2",
     "grade": false,
     "grade_id": "cell-1da18f0fe6f6d7be",
     "locked": true,
     "schema_version": 3,
     "solution": false,
     "task": false
    }
   },
   "source": [
    "---\n",
    "### 4.5 Expected Reciprocal Rank (13 points)\n",
    "Implement the `err` metric:"
   ]
  },
  {
   "cell_type": "code",
   "execution_count": null,
   "metadata": {
    "deletable": false,
    "nbgrader": {
     "cell_type": "code",
     "checksum": "9ac94db728e23ea1f5dc0d509473c6fb",
     "grade": false,
     "grade_id": "cell-64262889f9b267ea",
     "locked": false,
     "schema_version": 3,
     "solution": true,
     "task": false
    }
   },
   "outputs": [],
   "source": [
    "# TODO: Implement this! (12 points)\n",
    "def err(results, relevant_docs):\n",
    "    \"\"\"\n",
    "        Compute the expected reciprocal rank.\n",
    "        Hint: https://dl.acm.org/doi/pdf/10.1145/1645953.1646033?download=true\n",
    "        Input: \n",
    "            results: A sorted list of 2-tuples (document_id, score), with the most \n",
    "                    relevant document in the first position\n",
    "            relevant_docs: A set of relevant documents. \n",
    "        Output: ERR\n",
    "        \n",
    "    \"\"\"\n",
    "    # YOUR CODE HERE\n",
    "    raise NotImplementedError()"
   ]
  },
  {
   "cell_type": "code",
   "execution_count": null,
   "metadata": {
    "deletable": false,
    "editable": false,
    "nbgrader": {
     "cell_type": "code",
     "checksum": "b7d201de0990b69d5f38704668665d87",
     "grade": true,
     "grade_id": "cell-071e3970ff1afae4",
     "locked": true,
     "points": 13,
     "schema_version": 3,
     "solution": false,
     "task": false
    }
   },
   "outputs": [],
   "source": [
    "#### Function check\n",
    "qid = queries[30][0]\n",
    "qtext = queries[30][1]\n",
    "print(f'query:{qtext}')\n",
    "results = bm25_search(qtext, 2)\n",
    "ERR = err(results, qrels[qid])\n",
    "print(f'ERR = {ERR}')\n",
    "####"
   ]
  },
  {
   "cell_type": "markdown",
   "metadata": {
    "deletable": false,
    "editable": false,
    "nbgrader": {
     "cell_type": "markdown",
     "checksum": "5bd94caf77cfa5f34675df758d91002d",
     "grade": false,
     "grade_id": "cell-43709a765f353946",
     "locked": true,
     "schema_version": 3,
     "solution": false,
     "task": false
    }
   },
   "source": [
    "---\n",
    "### 4.6 Evaluate Search Functions\n",
    "\n",
    "Let's define some metrics@k using [partial functions](https://docs.python.org/3/library/functools.html#functools.partial)"
   ]
  },
  {
   "cell_type": "code",
   "execution_count": null,
   "metadata": {
    "deletable": false,
    "editable": false,
    "nbgrader": {
     "cell_type": "code",
     "checksum": "49ccc158e5fb7340ace55e90eeb9d62a",
     "grade": false,
     "grade_id": "cell-dab560e18e340da8",
     "locked": true,
     "schema_version": 3,
     "solution": false,
     "task": false
    }
   },
   "outputs": [],
   "source": [
    "#### metrics@k functions\n",
    "\n",
    "recall_at_1 = partial(recall_k, k=1)\n",
    "recall_at_5 = partial(recall_k, k=5)\n",
    "recall_at_10 = partial(recall_k, k=10)\n",
    "precision_at_1 = partial(precision_k, k=1)\n",
    "precision_at_5 = partial(precision_k, k=5)\n",
    "precision_at_10 = partial(precision_k, k=10)\n",
    "\n",
    "\n",
    "list_of_metrics = [\n",
    "    (\"ERR\", err),\n",
    "    (\"MAP\", average_precision),\n",
    "    (\"Recall@1\",recall_at_1),\n",
    "    (\"Recall@5\", recall_at_5),\n",
    "    (\"Recall@10\", recall_at_10),\n",
    "    (\"Precision@1\", precision_at_1),\n",
    "    (\"Precision@5\", precision_at_5),\n",
    "    (\"Precision@10\", precision_at_10)]\n",
    "####"
   ]
  },
  {
   "cell_type": "markdown",
   "metadata": {
    "deletable": false,
    "editable": false,
    "nbgrader": {
     "cell_type": "markdown",
     "checksum": "fb541002c03221b453b8936290020ea5",
     "grade": false,
     "grade_id": "cell-580a2bdc66d03b47",
     "locked": true,
     "schema_version": 3,
     "solution": false,
     "task": false
    }
   },
   "source": [
    "---\n",
    "\n",
    "The following function evaluates a `search_fn` using the `metric_fn`. Note that the final number is averaged over all the queries"
   ]
  },
  {
   "cell_type": "code",
   "execution_count": null,
   "metadata": {},
   "outputs": [],
   "source": [
    "#### Evaluate a search function\n",
    "\n",
    "list_of_search_fns = [\n",
    "    (\"BOW\", bow_search),\n",
    "    (\"TF-IDF\", tfidf_search),\n",
    "    (\"NaiveQL\", naive_ql_search),\n",
    "    (\"QL\", ql_search),\n",
    "    (\"BM25\", bm25_search)\n",
    "]\n",
    "\n",
    "def evaluate_search_fn(search_fn, metric_fns, index_set=None):\n",
    "    # build a dict query_id -> query \n",
    "    queries_by_id = dict((q[0], q[1]) for q in queries)\n",
    "    \n",
    "    metrics = {}\n",
    "    for metric, metric_fn in metric_fns:\n",
    "        metrics[metric] = np.zeros(len(qrels), dtype=np.float32)\n",
    "    \n",
    "    for i, (query_id, relevant_docs) in enumerate(qrels.items()):\n",
    "        query = queries_by_id[query_id]\n",
    "        if index_set:\n",
    "            results = search_fn(query, index_set)\n",
    "        else:\n",
    "            results = search_fn(query)\n",
    "        \n",
    "        for metric, metric_fn in metric_fns:\n",
    "            metrics[metric][i] = metric_fn(results, relevant_docs)\n",
    "\n",
    "    \n",
    "    \n",
    "    final_dict = {}\n",
    "    for metric, metric_vals in metrics.items():\n",
    "        final_dict[metric] = metric_vals.mean()\n",
    "    \n",
    "    return final_dict\n",
    "####"
   ]
  },
  {
   "cell_type": "markdown",
   "metadata": {
    "deletable": false,
    "editable": false,
    "nbgrader": {
     "cell_type": "markdown",
     "checksum": "6ea67534f74a8f81e1f504794f641709",
     "grade": false,
     "grade_id": "cell-b156d83a0649cbb4",
     "locked": true,
     "schema_version": 3,
     "solution": false,
     "task": false
    }
   },
   "source": [
    "## Section 5: Analysis (30 points) <a class=\"anchor\" id=\"analysis\"></a>\n",
    "\n",
    "[Back to Part 1](#part1)\n",
    "\n",
    "In the final section of Part1, we will compare the different term-based IR algorithms and different preprocessing configurations and analyze their advantages and disadvantages.\n",
    "\n",
    "### Section 5.1: Plot (20 points)\n",
    "\n",
    "First, gather the results. The results should consider the index set, the different search functions and different metrics. Plot the results in bar charts, per metric, with clear labels.\n",
    "\n",
    "**Rubric:**\n",
    "- Each Metric is plotted: 7 points\n",
    "- Each Method is plotted: 7 points\n",
    "- Clear titles, x label, y labels and legends (if applicable): 6 points"
   ]
  },
  {
   "cell_type": "code",
   "execution_count": null,
   "metadata": {
    "deletable": false,
    "nbgrader": {
     "cell_type": "code",
     "checksum": "7e2588a925d13ddf588abe8311dc9cfc",
     "grade": true,
     "grade_id": "cell-46fda42a25863a04",
     "locked": false,
     "points": 20,
     "schema_version": 3,
     "solution": true,
     "task": false
    }
   },
   "outputs": [],
   "source": [
    "# YOUR CODE HERE\n",
    "raise NotImplementedError()"
   ]
  },
  {
   "cell_type": "markdown",
   "metadata": {
    "deletable": false,
    "editable": false,
    "nbgrader": {
     "cell_type": "markdown",
     "checksum": "e88c444a0acf4e398c65e289169b75f7",
     "grade": false,
     "grade_id": "cell-8aabe3bcf265deb0",
     "locked": true,
     "points": 10,
     "schema_version": 3,
     "solution": false,
     "task": true
    }
   },
   "source": [
    "---\n",
    "### Section 5.2: Summary (10 points)\n",
    "Write a summary of what you observe in the results.\n",
    "Your summary should compare results across the 2 indices and the methods being used. State what you expected to see in the results, followed by either supporting evidence *or* justify why the results did not support your expectations.      "
   ]
  },
  {
   "cell_type": "markdown",
   "metadata": {},
   "source": [
    "Write your answer here!"
   ]
  },
  {
   "cell_type": "markdown",
   "metadata": {
    "deletable": false,
    "editable": false,
    "nbgrader": {
     "cell_type": "markdown",
     "checksum": "b3eb77be74eecca205fc7b47316d1627",
     "grade": false,
     "grade_id": "cell-bb60dd5c092d0f2e",
     "locked": true,
     "schema_version": 3,
     "solution": false,
     "task": false
    }
   },
   "source": [
    "---\n",
    "---\n",
    "# Part 2: Semantic-based Matching (85 points) <a class=\"anchor\" id=\"part2\"></a>\n",
    "\n",
    "[Back to top](#top)\n",
    "\n",
    "We will now experiment with methods that go beyond lexical methods like TF-IDF, which operate at the word level and are high dimensional and sparse, and look at methods which constructs low dimensional dense representations of queries and documents. \n",
    "\n",
    "Since these low-dimensional methods have a higher time complexity, they are typically used in conjunction with methods like BM-25. That is, instead of searching through potentially million documents to find matches using low dimensional vectors, a list of K documents are retrieved using BM25, and then **re-ranked** using the other method. This is the method that is going to be applied in the following exercises. \n",
    "\n",
    "LSI/LDA takes documents that are similar on a semantic level - for instance, if they are describing the same topic - and projects them into nearby vectors, despite having low lexical overlap.\n",
    "\n",
    "In this assignment, you will use `gensim` to create LSI/LDA models and use them in re-ranking. \n",
    "\n",
    "**Note**: The following exercises only uses `doc_repr_2` and `config_2`\n",
    "\n",
    "Table of contents:\n",
    "- [Section 6: LSI](#lsi) (15 points)\n",
    "- [Section 7: LDA](#lda) (10 points)\n",
    "- [Section 8: Word2Vec/Doc2Vec](#2vec) (20 points)\n",
    "- [Section 8: Re-ranking](#reranking) (10 points)\n",
    "- [Section 9: Re-ranking Evaluation](#reranking_eval) (30 points)"
   ]
  },
  {
   "cell_type": "markdown",
   "metadata": {
    "deletable": false,
    "editable": false,
    "nbgrader": {
     "cell_type": "markdown",
     "checksum": "f7c7b2cab82f576ed0acf836ca57171c",
     "grade": false,
     "grade_id": "cell-6b2c81e7a8abd180",
     "locked": true,
     "schema_version": 3,
     "solution": false,
     "task": false
    }
   },
   "source": [
    "---\n",
    "## Section 6: Latent Semantic Indexing (LSI) (15 points) <a class=\"anchor\" id=\"lsi\"></a>\n",
    "\n",
    "[Back to Part 2](#part2)\n",
    "\n",
    "LSI is one of the methods to embed the queries and documents into vectors. It is based on a method similar to Principal Component Analysis (PCA) for obtaining a dense concept matrix out of the sparse term-document matrix.\n",
    "\n",
    "See [wikipedia](https://en.wikipedia.org/wiki/Latent_semantic_analysis), particularly [#Mathematics_of_LSI](https://en.wikipedia.org/wiki/Latent_semantic_analysis#Mathematics_of_LSI)."
   ]
  },
  {
   "cell_type": "code",
   "execution_count": 19,
   "metadata": {
    "deletable": false,
    "editable": false,
    "nbgrader": {
     "cell_type": "code",
     "checksum": "c17ee75319cb517e2bf48ec3d9efc329",
     "grade": false,
     "grade_id": "cell-59913daee47f680d",
     "locked": true,
     "schema_version": 3,
     "solution": false,
     "task": false
    }
   },
   "outputs": [],
   "source": [
    "from gensim.corpora import Dictionary\n",
    "from gensim.models import LdaModel, LsiModel, Word2Vec\n",
    "from gensim.models.doc2vec import Doc2Vec, TaggedDocument\n",
    "from gensim import downloader as g_downloader\n",
    "# gensim uses logging, so set it up \n",
    "import logging\n",
    "logging.basicConfig(format='%(asctime)s : %(levelname)s : %(message)s', level=logging.INFO)"
   ]
  },
  {
   "cell_type": "markdown",
   "metadata": {
    "deletable": false,
    "editable": false,
    "nbgrader": {
     "cell_type": "markdown",
     "checksum": "5fce140c546759b54a9fc060901ae77c",
     "grade": false,
     "grade_id": "cell-3644faff4976598a",
     "locked": true,
     "schema_version": 3,
     "solution": false,
     "task": false
    }
   },
   "source": [
    "---\n",
    "### Section 6.1: Cosine Similarity (5 points)<a class=\"anchor\" id=\"cosing_sim\"></a>\n",
    "Before we begin, let us first define our method of similarity for the LSI model, the cosine similarity:\n",
    "\n",
    "$$\\text{similarity} = \\cos(\\theta) = {\\mathbf{A} \\cdot \\mathbf{B} \\over \\|\\mathbf{A}\\| \\|\\mathbf{B}\\|} = \\frac{ \\sum\\limits_{i=1}^{n}{A_i  B_i} }{ \\sqrt{\\sum\\limits_{i=1}^{n}{A_i^2}}  \\sqrt{\\sum\\limits_{i=1}^{n}{B_i^2}} }$$\n",
    "\n",
    "Since we are using gensim, the types of vectors returned by their classes are of the form defined below (they are not just simple vectors):"
   ]
  },
  {
   "cell_type": "code",
   "execution_count": 20,
   "metadata": {
    "deletable": false,
    "editable": false,
    "nbgrader": {
     "cell_type": "code",
     "checksum": "4e340e1a1d546f430c018fd0760e707a",
     "grade": false,
     "grade_id": "cell-3995a50f951314d5",
     "locked": true,
     "schema_version": 3,
     "solution": false,
     "task": false
    }
   },
   "outputs": [],
   "source": [
    "# 1, 2, 3 are either latent dimensions (LSI), or topics (LDA)\n",
    "# The second value in each tuple is a number (LSI) or a probability (LDA)  \n",
    "example_vec_1 = [(1, 0.2), (2, 0.3), (3, 0.4)]\n",
    "example_vec_2 = [(1, 0.2), (2, 0.7), (3, 0.4)]"
   ]
  },
  {
   "cell_type": "markdown",
   "metadata": {
    "deletable": false,
    "editable": false,
    "nbgrader": {
     "cell_type": "markdown",
     "checksum": "20832fd4f579f49ae204b0efee02edd1",
     "grade": false,
     "grade_id": "cell-5e54d581858dc8f7",
     "locked": true,
     "schema_version": 3,
     "solution": false,
     "task": false
    }
   },
   "source": [
    "---\n",
    "**Implementation (2+3 points):**\n",
    "Now, implement the `dot product` operation on these types of vectors and using this operator, implement the `cosine similarity` (don't forget: two functions to implement!):"
   ]
  },
  {
   "cell_type": "code",
   "execution_count": 21,
   "metadata": {
    "deletable": false,
    "nbgrader": {
     "cell_type": "code",
     "checksum": "06a712ee75fc213a21c5f0067fd8fe28",
     "grade": false,
     "grade_id": "cell-0e8189f5f93de33f",
     "locked": false,
     "schema_version": 3,
     "solution": true,
     "task": false
    }
   },
   "outputs": [],
   "source": [
    "def dot(vec_1,vec_2): \n",
    "    \"\"\"\n",
    "        vec_1 and vec_2 are of the form: [(int, float), (int, float), ...]\n",
    "        Return the dot product of two such vectors, computed only on the floats\n",
    "        You can assume that the lengths of the vectors are the same, and the dimensions are aligned \n",
    "            i.e you won't get: vec_1 = [(1, 0.2)] ; vec_2 = [(2, 0.3)] \n",
    "                                (dimensions are unaligned and lengths are different)\n",
    "    \"\"\"\n",
    "    ar_1=np.array(vec_1)[:,1]\n",
    "    ar_2=np.array(vec_2)[:,1]\n",
    "    combined=np.dot(ar_1,ar_2)\n",
    "    return combined\n",
    "\n",
    "\n",
    "# TODO: Implement this! (3 points)\n",
    "def cosine_sim(vec_1, vec_2):\n",
    "    d = dot(vec_1,vec_2)\n",
    "    ar_1=np.array(vec_1)[:,1]\n",
    "    ar_2=np.array(vec_2)[:,1]\n",
    "    squar_1=np.sqrt(np.sum(np.square(ar_1)))\n",
    "    squar_2=np.sqrt(np.sum(np.square(ar_2)))\n",
    "    \n",
    "    return d/(np.dot(squar_1,squar_2))"
   ]
  },
  {
   "cell_type": "code",
   "execution_count": 22,
   "metadata": {
    "deletable": false,
    "editable": false,
    "nbgrader": {
     "cell_type": "code",
     "checksum": "d22a4a7325ba7815a808390388f534a1",
     "grade": true,
     "grade_id": "cell-b25d04ed6b79fd35",
     "locked": true,
     "points": 2,
     "schema_version": 3,
     "solution": false,
     "task": false
    }
   },
   "outputs": [
    {
     "name": "stdout",
     "output_type": "stream",
     "text": [
      "vectors: ([(1, 0.2), (2, 0.3), (3, 0.4)], [(1, 0.2), (2, 0.7), (3, 0.4)])\n",
      "dot product = 0.41000000000000003\n",
      "cosine similarity = 0.9165587597202866\n"
     ]
    }
   ],
   "source": [
    "##### Function check\n",
    "print(f'vectors: {(example_vec_1,example_vec_2)}')\n",
    "print(f'dot product = {dot(example_vec_1,example_vec_2)}')\n",
    "print(f'cosine similarity = {cosine_sim(example_vec_1,example_vec_2)}')\n",
    "##### "
   ]
  },
  {
   "cell_type": "code",
   "execution_count": 23,
   "metadata": {
    "deletable": false,
    "editable": false,
    "nbgrader": {
     "cell_type": "code",
     "checksum": "0744131724ce76b1b3f163b4bae5f700",
     "grade": true,
     "grade_id": "cell-ae3c4466866ace77",
     "locked": true,
     "points": 3,
     "schema_version": 3,
     "solution": false,
     "task": false
    }
   },
   "outputs": [],
   "source": [
    "#### Please do not change this. This cell is used for grading."
   ]
  },
  {
   "cell_type": "markdown",
   "metadata": {
    "deletable": false,
    "editable": false,
    "nbgrader": {
     "cell_type": "markdown",
     "checksum": "9b123f599f9ea372d14676e23f1c6a52",
     "grade": false,
     "grade_id": "cell-4b2534067c44fcdf",
     "locked": true,
     "schema_version": 3,
     "solution": false,
     "task": false
    }
   },
   "source": [
    "---\n",
    "### Section 6.2: LSI Retrieval (10 points)<a class=\"anchor\" id=\"lsi_retrieval\"></a>\n",
    "LSI retrieval is simply ranking the documents based on their cosine similarity to the query vector.\n",
    "First, let's write a parent class for vector-based retrieval models:"
   ]
  },
  {
   "cell_type": "code",
   "execution_count": 24,
   "metadata": {
    "deletable": false,
    "editable": false,
    "nbgrader": {
     "cell_type": "code",
     "checksum": "ecc111d58182570e2252b8ef5d6b02af",
     "grade": false,
     "grade_id": "cell-937936cea18711ee",
     "locked": true,
     "schema_version": 3,
     "solution": false,
     "task": false
    }
   },
   "outputs": [],
   "source": [
    "class VectorSpaceRetrievalModel:\n",
    "    \"\"\"\n",
    "        Parent class for Dense Vector Retrieval models\n",
    "    \"\"\"\n",
    "    def __init__(self, doc_repr):\n",
    "        \"\"\"\n",
    "            document_collection: \n",
    "                [\n",
    "                    (doc_id_1, [token 1, token 2, ...]), \n",
    "                    (doc_id_2, [token 1, token 2, ....]) \n",
    "                    ...\n",
    "                ]\n",
    "\n",
    "        \"\"\"\n",
    "        self.doc_repr = doc_repr\n",
    "        self.documents = [_[1] for _ in self.doc_repr]\n",
    "        \n",
    "        # construct a dictionary\n",
    "        self.dictionary = Dictionary(self.documents)\n",
    "        # Filter out words that occur less than 20 documents, or more than 50% of the documents.\n",
    "        self.dictionary.filter_extremes(no_below=10)\n",
    "        self.corpus = [self.dictionary.doc2bow(doc) for doc in self.documents]\n",
    "    \n",
    "        # Make a index to word dictionary.\n",
    "        temp = self.dictionary[0]  # This is only to \"load\" the dictionary.\n",
    "        self.id2word = self.dictionary.id2token\n",
    "        \n",
    "        # this is set by the train_model function\n",
    "        self.model = None\n",
    "        \n",
    "        \n",
    "    def vectorize_documents(self):\n",
    "        \"\"\"\n",
    "            Returns a doc_id -> vector dictionary\n",
    "        \"\"\"\n",
    "        vectors = {}\n",
    "        for (doc_id, _), cc in zip(self.doc_repr, self.corpus):\n",
    "            vectors[doc_id] = self.model[cc]\n",
    "        return vectors\n",
    "\n",
    "    def vectorize_query(self, query):\n",
    "        # Note the use of config_2 here!\n",
    "        query = process_text(query, **config_2)\n",
    "        query_vector = self.dictionary.doc2bow(query)\n",
    "        return self.model[query_vector]\n",
    "    \n",
    "    def train_model(self):\n",
    "        \"\"\"\n",
    "            Trains a model and sets the 'self.model' variable. \n",
    "            Make sure to use the variables created in the __init__ method.\n",
    "            e.g the variables which may be useful: {corpus, dictionary, id2word}\n",
    "        \"\"\"\n",
    "        raise NotImplementedError()"
   ]
  },
  {
   "cell_type": "markdown",
   "metadata": {
    "deletable": false,
    "editable": false,
    "nbgrader": {
     "cell_type": "markdown",
     "checksum": "ff161eefd9b81b768cd6361bc1a502b0",
     "grade": false,
     "grade_id": "cell-704a18c2f80cd60c",
     "locked": true,
     "schema_version": 3,
     "solution": false,
     "task": false
    }
   },
   "source": [
    "---\n",
    "**Implementation (5 points):**\n",
    "Implement the `train_model` method in the following class (note that this is only one line of code in `gensim`!). Ensure that the parameters defined in the `__init__` method are not changed, and are *used in the `train_method` function*. Normally, the hyperaparameter space will be searched using grid search / other methods - in this assignment we have provided the hyperparameters for you.\n",
    "\n",
    "The last two lines of code train an LSI model on the list of documents which have been stemmed, lower-cased and have stopwords removed. "
   ]
  },
  {
   "cell_type": "code",
   "execution_count": 25,
   "metadata": {
    "deletable": false,
    "nbgrader": {
     "cell_type": "code",
     "checksum": "0e90eedc27c248bc1ae050518a46a46c",
     "grade": false,
     "grade_id": "cell-307682c9089f15d6",
     "locked": false,
     "schema_version": 3,
     "solution": true,
     "task": false
    }
   },
   "outputs": [],
   "source": [
    "# TODO: Implement this! (5 points)\n",
    "class LsiRetrievalModel(VectorSpaceRetrievalModel):\n",
    "    def __init__(self, doc_repr):\n",
    "        super().__init__(doc_repr)\n",
    "        \n",
    "        self.num_topics = 100\n",
    "        self.chunksize = 2000\n",
    "    \n",
    "    def train_model(self):\n",
    "        # YOUR CODE HERE\n",
    "        self.model=LsiModel(self.corpus, id2word=self.id2word, num_topics=self.num_topics, chunksize=self.chunksize)"
   ]
  },
  {
   "cell_type": "code",
   "execution_count": 26,
   "metadata": {
    "deletable": false,
    "editable": false,
    "nbgrader": {
     "cell_type": "code",
     "checksum": "00399cfe13d60cb4beed1271e36004b0",
     "grade": true,
     "grade_id": "cell-5ce512650c1b2dfb",
     "locked": true,
     "points": 0,
     "schema_version": 3,
     "solution": false,
     "task": false
    }
   },
   "outputs": [
    {
     "name": "stderr",
     "output_type": "stream",
     "text": [
      "2022-02-24 11:15:14,485 : INFO : adding document #0 to Dictionary(0 unique tokens: [])\n",
      "2022-02-24 11:15:14,586 : INFO : built Dictionary(5937 unique tokens: ['-', 'algebra', 'intern', 'languag', 'preliminari']...) from 3204 documents (total 115969 corpus positions)\n",
      "2022-02-24 11:15:14,587 : INFO : Dictionary lifecycle event {'msg': \"built Dictionary(5937 unique tokens: ['-', 'algebra', 'intern', 'languag', 'preliminari']...) from 3204 documents (total 115969 corpus positions)\", 'datetime': '2022-02-24T11:15:14.587449', 'gensim': '4.1.2', 'python': '3.9.7 (default, Sep 16 2021, 16:59:28) [MSC v.1916 64 bit (AMD64)]', 'platform': 'Windows-10-10.0.19042-SP0', 'event': 'created'}\n",
      "2022-02-24 11:15:14,593 : INFO : discarding 4740 tokens: [('repeat', 8), ('glossari', 7), ('inspect', 8), ('uncol', 2), ('rung', 9), ('secant', 2), ('.', 1603), ('acceler', 6), ('diverg', 3), ('induc', 9)]...\n",
      "2022-02-24 11:15:14,593 : INFO : keeping 1197 tokens which were in no less than 10 and no more than 1602 (=50.0%) documents\n",
      "2022-02-24 11:15:14,596 : INFO : resulting dictionary: Dictionary(1197 unique tokens: ['-', 'algebra', 'intern', 'languag', 'preliminari']...)\n",
      "2022-02-24 11:15:14,649 : INFO : using serial LSI version on this node\n",
      "2022-02-24 11:15:14,649 : INFO : updating model with new documents\n",
      "2022-02-24 11:15:14,650 : INFO : preparing a new chunk of documents\n",
      "2022-02-24 11:15:14,657 : INFO : using 100 extra samples and 2 power iterations\n",
      "2022-02-24 11:15:14,658 : INFO : 1st phase: constructing (1197, 200) action matrix\n",
      "2022-02-24 11:15:14,721 : INFO : orthonormalizing (1197, 200) action matrix\n",
      "2022-02-24 11:15:15,628 : INFO : 2nd phase: running dense svd on (200, 2000) matrix\n",
      "2022-02-24 11:15:16,190 : INFO : computing the final decomposition\n",
      "2022-02-24 11:15:16,192 : INFO : keeping 100 factors (discarding 13.478% of energy spectrum)\n",
      "2022-02-24 11:15:16,218 : INFO : processed documents up to #2000\n",
      "2022-02-24 11:15:16,236 : INFO : topic #0(152.127): -0.741*\",\" + -0.342*\"-\" + -0.211*\"system\" + -0.204*\"program\" + -0.192*\"comput\" + -0.146*\"(\" + -0.127*\"languag\" + -0.108*\")\" + -0.084*\"gener\" + -0.083*\"data\"\n",
      "2022-02-24 11:15:16,237 : INFO : topic #1(60.600): -0.607*\"(\" + -0.434*\")\" + -0.366*\"algorithm\" + -0.300*\"-\" + 0.237*\",\" + 0.213*\"system\" + 0.132*\"comput\" + -0.096*\"[\" + 0.093*\"program\" + -0.084*\"])\"\n",
      "2022-02-24 11:15:16,238 : INFO : topic #2(57.438): -0.744*\"-\" + 0.452*\",\" + -0.263*\"system\" + 0.214*\"(\" + 0.166*\")\" + -0.107*\"time\" + -0.105*\"program\" + 0.094*\"algorithm\" + -0.068*\"comput\" + -0.067*\"share\"\n",
      "2022-02-24 11:15:16,239 : INFO : topic #3(48.370): -0.483*\"system\" + -0.375*\"program\" + -0.367*\"comput\" + 0.363*\"-\" + 0.308*\",\" + -0.212*\"(\" + -0.168*\")\" + -0.147*\"algorithm\" + 0.144*\"languag\" + -0.119*\"time\"\n",
      "2022-02-24 11:15:16,240 : INFO : topic #4(45.710): -0.489*\"comput\" + 0.475*\"languag\" + 0.428*\"program\" + -0.238*\"method\" + -0.141*\"problem\" + 0.121*\"system\" + 0.109*\")\" + -0.107*\"equat\" + -0.100*\"algorithm\" + 0.099*\"(\"\n",
      "2022-02-24 11:15:16,241 : INFO : preparing a new chunk of documents\n",
      "2022-02-24 11:15:16,250 : INFO : using 100 extra samples and 2 power iterations\n",
      "2022-02-24 11:15:16,250 : INFO : 1st phase: constructing (1197, 200) action matrix\n",
      "2022-02-24 11:15:16,264 : INFO : orthonormalizing (1197, 200) action matrix\n",
      "2022-02-24 11:15:16,314 : INFO : 2nd phase: running dense svd on (200, 1204) matrix\n",
      "2022-02-24 11:15:16,335 : INFO : computing the final decomposition\n",
      "2022-02-24 11:15:16,336 : INFO : keeping 100 factors (discarding 14.036% of energy spectrum)\n",
      "2022-02-24 11:15:16,339 : INFO : merging projections: (1197, 100) + (1197, 100)\n",
      "2022-02-24 11:15:16,349 : INFO : keeping 100 factors (discarding 8.160% of energy spectrum)\n",
      "2022-02-24 11:15:16,352 : INFO : processed documents up to #3204\n",
      "2022-02-24 11:15:16,353 : INFO : topic #0(225.136): 0.759*\",\" + 0.337*\"-\" + 0.196*\"system\" + 0.186*\"program\" + 0.166*\"comput\" + 0.139*\"(\" + 0.103*\")\" + 0.103*\"algorithm\" + 0.099*\"languag\" + 0.087*\"time\"\n",
      "2022-02-24 11:15:16,354 : INFO : topic #1(87.805): 0.613*\"-\" + -0.399*\",\" + 0.399*\"(\" + 0.326*\"algorithm\" + 0.293*\")\" + -0.129*\"system\" + -0.107*\"program\" + 0.085*\"method\" + 0.077*\"time\" + 0.062*\"1\"\n",
      "2022-02-24 11:15:16,354 : INFO : topic #2(81.909): 0.550*\"-\" + -0.434*\"(\" + 0.355*\"system\" + -0.321*\")\" + -0.291*\",\" + -0.266*\"algorithm\" + 0.146*\"program\" + 0.123*\"comput\" + 0.078*\"time\" + -0.064*\"[\"\n",
      "2022-02-24 11:15:16,355 : INFO : topic #3(72.433): -0.693*\"program\" + 0.339*\",\" + 0.279*\"-\" + -0.251*\"(\" + -0.221*\"system\" + -0.214*\"languag\" + -0.204*\")\" + -0.160*\"comput\" + -0.099*\"data\" + -0.056*\"execut\"\n",
      "2022-02-24 11:15:16,356 : INFO : topic #4(68.523): -0.673*\"system\" + 0.453*\"program\" + 0.254*\"languag\" + 0.212*\"-\" + -0.179*\"comput\" + -0.165*\"(\" + -0.121*\")\" + -0.115*\"model\" + 0.101*\",\" + -0.098*\"algorithm\"\n",
      "2022-02-24 11:15:16,356 : INFO : LsiModel lifecycle event {'msg': 'trained LsiModel(num_terms=1197, num_topics=100, decay=1.0, chunksize=2000) in 1.71s', 'datetime': '2022-02-24T11:15:16.356877', 'gensim': '4.1.2', 'python': '3.9.7 (default, Sep 16 2021, 16:59:28) [MSC v.1916 64 bit (AMD64)]', 'platform': 'Windows-10-10.0.19042-SP0', 'event': 'created'}\n"
     ]
    },
    {
     "data": {
      "text/plain": [
       "[(0, 0.015215631439977865),\n",
       " (1, -0.016278790162605035),\n",
       " (2, -0.0001541836565231193),\n",
       " (3, -0.0018059463951937917),\n",
       " (4, -0.009411474688430534),\n",
       " (5, -0.004803258836632836),\n",
       " (6, 0.02700537907444965),\n",
       " (7, 0.0165628229253435),\n",
       " (8, -0.03175437374174067),\n",
       " (9, -0.0008666954429372518),\n",
       " (10, 0.0020930476059984955),\n",
       " (11, -0.01746359701151132),\n",
       " (12, 0.0004108639238813751),\n",
       " (13, 0.001225869332146432),\n",
       " (14, 0.004370292306163186),\n",
       " (15, 0.00491933918189602),\n",
       " (16, 0.005255352472765701),\n",
       " (17, 0.0021872838388268152),\n",
       " (18, -0.017338662255069966),\n",
       " (19, 0.01977032810571728),\n",
       " (20, -0.01063992454896577),\n",
       " (21, -0.013266477413967276),\n",
       " (22, 0.049829503250589456),\n",
       " (23, 0.02399852877751616),\n",
       " (24, -0.011901649748994382),\n",
       " (25, -0.012132535726598268),\n",
       " (26, 0.006832857881685087),\n",
       " (27, 0.0748432230348226),\n",
       " (28, -0.06171480995711938),\n",
       " (29, 0.03383468489467766),\n",
       " (30, 0.04216589293963088),\n",
       " (31, 0.04895054815993258),\n",
       " (32, -0.07193370986641853),\n",
       " (33, 0.053454608029253343),\n",
       " (34, -0.027770696632483754),\n",
       " (35, 0.06481903101954563),\n",
       " (36, 0.0399914861978493),\n",
       " (37, -0.004824689009747705),\n",
       " (38, -0.06612717904788516),\n",
       " (39, 0.02596185622653823),\n",
       " (40, -0.043905431600396436),\n",
       " (41, -0.032424172831986536),\n",
       " (42, 0.017043207574645045),\n",
       " (43, 0.011546007596732584),\n",
       " (44, 0.01927061116701422),\n",
       " (45, 0.05744554475261912),\n",
       " (46, -0.0094354314526359),\n",
       " (47, 0.004238034101844552),\n",
       " (48, 0.017789032858909492),\n",
       " (49, 0.02669094203629711),\n",
       " (50, 0.016767380393138288),\n",
       " (51, 0.05163877834229437),\n",
       " (52, -0.0099223474918062),\n",
       " (53, -0.00022247171858101253),\n",
       " (54, 0.04277305993305251),\n",
       " (55, 0.026923290222875092),\n",
       " (56, -0.0050804389267456165),\n",
       " (57, -0.01935887856520177),\n",
       " (58, -0.009548169069886255),\n",
       " (59, 0.03671121508764222),\n",
       " (60, -0.01190710444417361),\n",
       " (61, -0.04245228840920985),\n",
       " (62, 0.012901334820371401),\n",
       " (63, 0.011641606941734273),\n",
       " (64, 0.05592996177892269),\n",
       " (65, 0.05458121478526731),\n",
       " (66, 0.004424455771462944),\n",
       " (67, -0.026115428365910066),\n",
       " (68, -0.05570544170667326),\n",
       " (69, -0.03811850759653643),\n",
       " (70, -0.0536444014789468),\n",
       " (71, -0.013064930059572804),\n",
       " (72, 0.023177039092233696),\n",
       " (73, 0.06240955433867812),\n",
       " (74, -0.08287750525196838),\n",
       " (75, 0.04101506686707049),\n",
       " (76, -0.03406315454017621),\n",
       " (77, -0.004645153403023523),\n",
       " (78, 0.05578172362111426),\n",
       " (79, 0.004077445026591721),\n",
       " (80, -0.02402008570359361),\n",
       " (81, -0.016921750563760128),\n",
       " (82, 0.0433277659036045),\n",
       " (83, -0.0076932644794214695),\n",
       " (84, -0.06062408387905242),\n",
       " (85, -0.023454659675001023),\n",
       " (86, 0.013020279914268476),\n",
       " (87, 0.03732636859081387),\n",
       " (88, -0.04773433861450292),\n",
       " (89, -0.07226409709444356),\n",
       " (90, -0.003594624050780355),\n",
       " (91, 0.07100627369117338),\n",
       " (92, 0.004237280202529895),\n",
       " (93, 0.04050286601371142),\n",
       " (94, -0.021708041706318015),\n",
       " (95, -0.015522045900490042),\n",
       " (96, -0.005370081104078751),\n",
       " (97, 0.009556576968955559),\n",
       " (98, 0.011191175826006873),\n",
       " (99, -0.0019113270845447748)]"
      ]
     },
     "execution_count": 26,
     "metadata": {},
     "output_type": "execute_result"
    }
   ],
   "source": [
    "##### Function check\n",
    "lsi = LsiRetrievalModel(doc_repr_2)\n",
    "lsi.train_model()\n",
    "\n",
    "# you can now get an LSI vector for a given query in the following way:\n",
    "lsi.vectorize_query(\"report\")\n",
    "##### "
   ]
  },
  {
   "cell_type": "markdown",
   "metadata": {
    "deletable": false,
    "editable": false,
    "nbgrader": {
     "cell_type": "markdown",
     "checksum": "7116bb9f576c5bb04934e1d59c51d729",
     "grade": false,
     "grade_id": "cell-4c5eeb557b4fca2f",
     "locked": true,
     "points": 5,
     "schema_version": 3,
     "solution": false,
     "task": true
    }
   },
   "source": [
    "\\#### Please do not change this. This cell is used for grading."
   ]
  },
  {
   "cell_type": "markdown",
   "metadata": {
    "deletable": false,
    "editable": false,
    "nbgrader": {
     "cell_type": "markdown",
     "checksum": "26e2ff3c413745e633d99f66c041d6b1",
     "grade": false,
     "grade_id": "cell-c4e50296cd17a555",
     "locked": true,
     "schema_version": 3,
     "solution": false,
     "task": false
    }
   },
   "source": [
    "---\n",
    "**Implementation (5 points):**\n",
    " Next, implement a basic ranking class for vector space retrieval (used for all semantic methods): "
   ]
  },
  {
   "cell_type": "code",
   "execution_count": 516,
   "metadata": {
    "deletable": false,
    "nbgrader": {
     "cell_type": "code",
     "checksum": "1a8389d2f0635c3405e2b0b27ed9f327",
     "grade": false,
     "grade_id": "cell-250515d288e80cdc",
     "locked": false,
     "schema_version": 3,
     "solution": true,
     "task": false
    }
   },
   "outputs": [],
   "source": [
    "# TODO: Implement this! (5 points)\n",
    "class DenseRetrievalRanker:\n",
    "    def __init__(self, vsrm, similarity_fn):\n",
    "        \"\"\"\n",
    "            vsrm: instance of `VectorSpaceRetrievalModel`\n",
    "            similarity_fn: function instance that takes in two vectors \n",
    "                            and returns a similarity score e.g cosine_sim defined earlier\n",
    "        \"\"\"\n",
    "        self.vsrm = vsrm\n",
    "        self.vectorized_documents = self.vsrm.vectorize_documents()\n",
    "        self.similarity_fn = similarity_fn\n",
    "    \n",
    "    def _compute_sim(self, query_vector):\n",
    "        \"\"\"\n",
    "            Compute the similarity of `query_vector` to documents in \n",
    "            `self.vectorized_documents` using `self.similarity_fn`\n",
    "            Returns a list of (doc_id, score) tuples\n",
    "        \"\"\"\n",
    "        tup=[]\n",
    "        for i in self.vectorized_documents:\n",
    "            \n",
    "            if np.array(self.vectorized_documents[i]).size==0 or  np.array(query_vector).size==0:\n",
    "                continue\n",
    "            \n",
    "            if np.array(self.vectorized_documents[i]).shape!=np.array(query_vector).shape:\n",
    "                continue\n",
    "            else:\n",
    "                scor=self.similarity_fn(self.vectorized_documents[i],query_vector)\n",
    "            tup.append((i,scor))\n",
    "        return tup\n",
    "    \n",
    "    def search(self, query):\n",
    "        scores = self._compute_sim(self.vsrm.vectorize_query(query))\n",
    "        scores.sort(key=lambda _:-_[1])\n",
    "        return scores "
   ]
  },
  {
   "cell_type": "code",
   "execution_count": 517,
   "metadata": {
    "deletable": false,
    "editable": false,
    "nbgrader": {
     "cell_type": "code",
     "checksum": "f237dd1ef6c1783c06797f4b514421f5",
     "grade": true,
     "grade_id": "cell-b73068b3e77a8e31",
     "locked": true,
     "points": 0,
     "schema_version": 3,
     "solution": false,
     "task": false
    }
   },
   "outputs": [
    {
     "data": {
      "text/plain": [
       "[('599', 0.7970838688136261),\n",
       " ('947', 0.5791857647410769),\n",
       " ('53', 0.4996494666951299),\n",
       " ('1339', 0.46564041830979813),\n",
       " ('3160', 0.4453413974273841)]"
      ]
     },
     "execution_count": 517,
     "metadata": {},
     "output_type": "execute_result"
    }
   ],
   "source": [
    "##### Function check\n",
    "drm_lsi = DenseRetrievalRanker(lsi, cosine_sim)\n",
    "drm_lsi.search(\"report\")[:5]\n",
    "##### "
   ]
  },
  {
   "cell_type": "markdown",
   "metadata": {
    "deletable": false,
    "editable": false,
    "nbgrader": {
     "cell_type": "markdown",
     "checksum": "5b3f19fdcaa585d263706d5a26038799",
     "grade": false,
     "grade_id": "cell-034c755a6502b868",
     "locked": true,
     "points": 5,
     "schema_version": 3,
     "solution": false,
     "task": true
    }
   },
   "source": [
    "\\#### Please do not change this. This cell is used for grading."
   ]
  },
  {
   "cell_type": "markdown",
   "metadata": {
    "deletable": false,
    "editable": false,
    "nbgrader": {
     "cell_type": "markdown",
     "checksum": "dcafef6e037033c46304b914f7c78bdf",
     "grade": false,
     "grade_id": "cell-d1df23f497d5ed6b",
     "locked": true,
     "schema_version": 3,
     "solution": false,
     "task": false
    }
   },
   "source": [
    "---\n",
    "Now, you can test your LSI model in the following cell: try finding queries which are lexically different to documents, but semantically similar - does LSI work well for these queries?!"
   ]
  },
  {
   "cell_type": "code",
   "execution_count": 48,
   "metadata": {
    "deletable": false,
    "editable": false,
    "nbgrader": {
     "cell_type": "code",
     "checksum": "11734bc7674377b340ad51297a8e8bb5",
     "grade": false,
     "grade_id": "cell-efd1d08dfc04ec3e",
     "locked": true,
     "schema_version": 3,
     "solution": false,
     "task": false
    }
   },
   "outputs": [
    {
     "data": {
      "application/vnd.jupyter.widget-view+json": {
       "model_id": "93d14806467e49719465773a7e8c6ebd",
       "version_major": 2,
       "version_minor": 0
      },
      "text/plain": [
       "Text(value='', description='Search Bar')"
      ]
     },
     "metadata": {},
     "output_type": "display_data"
    },
    {
     "name": "stdout",
     "output_type": "stream",
     "text": [
      "Searching for: 'naaad' (SEARCH FN: <bound method DenseRetrievalRanker.search of <__main__.DenseRetrievalRanker object at 0x00000270DF0C4550>>)\n"
     ]
    },
    {
     "data": {
      "text/html": [
       "<ul></ul>"
      ],
      "text/plain": [
       "<IPython.core.display.HTML object>"
      ]
     },
     "metadata": {},
     "output_type": "display_data"
    },
    {
     "name": "stdout",
     "output_type": "stream",
     "text": [
      "Searching for: 'badd' (SEARCH FN: <bound method DenseRetrievalRanker.search of <__main__.DenseRetrievalRanker object at 0x00000270DF0C4550>>)\n"
     ]
    },
    {
     "data": {
      "text/html": [
       "<ul></ul>"
      ],
      "text/plain": [
       "<IPython.core.display.HTML object>"
      ]
     },
     "metadata": {},
     "output_type": "display_data"
    },
    {
     "name": "stdout",
     "output_type": "stream",
     "text": [
      "Searching for: 'bad' (SEARCH FN: <bound method DenseRetrievalRanker.search of <__main__.DenseRetrievalRanker object at 0x00000270DF0C4550>>)\n"
     ]
    },
    {
     "data": {
      "text/html": [
       "<ul></ul>"
      ],
      "text/plain": [
       "<IPython.core.display.HTML object>"
      ]
     },
     "metadata": {},
     "output_type": "display_data"
    },
    {
     "name": "stdout",
     "output_type": "stream",
     "text": [
      "Searching for: 'probability' (SEARCH FN: <bound method DenseRetrievalRanker.search of <__main__.DenseRetrievalRanker object at 0x00000270DF0C4550>>)\n"
     ]
    },
    {
     "data": {
      "text/html": [
       "<ul><li>Document #2914(0.4865541507745365): ... Two families of <strong>probability</strong> distributions we...</li><li>Document #2022(0.47872669923441435): Note on an Anomaly in Paging\n",
       "</li><li>Document #2085(0.46051088212863894): Comment on a Paging Anomaly\n",
       "</li><li>Document #954(0.4232216928980687): A Note on the Calculation of Probabilities in an F-Distribution\n",
       "</li><li>Document #2068(0.40783928068681885): Comment on Multiprogramming Under a Page on Demand Strategy\n",
       "</li></ul>"
      ],
      "text/plain": [
       "<IPython.core.display.HTML object>"
      ]
     },
     "metadata": {},
     "output_type": "display_data"
    }
   ],
   "source": [
    "# test your LSI model\n",
    "search_fn = drm_lsi.search\n",
    "\n",
    "text = widgets.Text(description=\"Search Bar\", width=200)\n",
    "display(text)\n",
    "\n",
    "def make_results_2(query, search_fn):\n",
    "    results = []\n",
    "    for doc_id, score in search_fn(query):\n",
    "        highlight = highlight_text(docs_by_id[doc_id], query)\n",
    "        if len(highlight.strip()) == 0:\n",
    "            highlight = docs_by_id[doc_id]\n",
    "        results.append(ResultRow(doc_id, highlight, score))\n",
    "    return results\n",
    "\n",
    "def handle_submit_2(sender):\n",
    "    print(f\"Searching for: '{sender.value}' (SEARCH FN: {search_fn})\")\n",
    "    \n",
    "    results = make_results_2(sender.value, search_fn)\n",
    "    \n",
    "    # display only the top 5\n",
    "    results = results[:5]\n",
    "    \n",
    "    body = \"\"\n",
    "    for idx, r in enumerate(results):\n",
    "        body += f\"<li>Document #{r.doc_id}({r.score}): {r.snippet}</li>\"\n",
    "    display(HTML(f\"<ul>{body}</ul>\"))\n",
    "    \n",
    "\n",
    "text.on_submit(handle_submit_2)"
   ]
  },
  {
   "cell_type": "markdown",
   "metadata": {
    "deletable": false,
    "editable": false,
    "nbgrader": {
     "cell_type": "markdown",
     "checksum": "d074ce1ca48384cdda78742741c938be",
     "grade": false,
     "grade_id": "cell-3a86cef264d8f6cf",
     "locked": true,
     "schema_version": 3,
     "solution": false,
     "task": false
    }
   },
   "source": [
    "---\n",
    "## Section 7: Latent Dirichlet Allocation (LDA) (10 points) <a class=\"anchor\" id=\"lda\"></a>\n",
    "\n",
    "[Back to Part 2](#part2)\n",
    "\n",
    "The specifics of LDA is out of the scope of this assignment, but we will use the `gensim` implementation to perform search using LDA over our small document collection. The key thing to remember is that LDA, unlike LSI, outputs a topic **distribution**, not a vector. With that in mind, let's first define a similarity measure.\n"
   ]
  },
  {
   "cell_type": "markdown",
   "metadata": {
    "deletable": false,
    "editable": false,
    "nbgrader": {
     "cell_type": "markdown",
     "checksum": "db01092373b18f0c9dfed1bb17db4ad9",
     "grade": false,
     "grade_id": "cell-6b78ad22c2d60ba7",
     "locked": true,
     "schema_version": 3,
     "solution": false,
     "task": false
    }
   },
   "source": [
    "---\n",
    "### Section 7.1: Jenson-Shannon divergence (5 points) <a class=\"anchor\" id=\"js_sim\"></a>\n",
    "\n",
    "The Jenson-Shannon divergence is a symmetric and finite measure on two probability distributions (unlike the KL, which is neither). For identical distributions, the JSD is equal to 0, and since our code uses 0 as irrelevant and higher scores as relevant, we use `(1 - JSD)` as the score or 'similarity' in our setup\n",
    "\n",
    "**Note**: the JSD is bounded to \\[0,1\\] only if we use log base 2. So please ensure that you're using `np.log2` instead of `np.log`"
   ]
  },
  {
   "cell_type": "code",
   "execution_count": 34,
   "metadata": {
    "deletable": false,
    "nbgrader": {
     "cell_type": "code",
     "checksum": "a579e6cd7a24a3516bc9a84528b392d3",
     "grade": false,
     "grade_id": "cell-d2376a85a4841e98",
     "locked": false,
     "schema_version": 3,
     "solution": true,
     "task": false
    }
   },
   "outputs": [],
   "source": [
    "## TODO: Implement this! (5 points)\n",
    "def KL_divergence(p, q):\n",
    "    \"\"\" Compute KL divergence of two vectors, K(p || q).\"\"\"\n",
    "    return sum(p[x] * np.log2((p[x]) / (q[x])) for x in range(len(p)) if p[x] != 0.0 or p[x] != 0)\n",
    "\n",
    "def jenson_shannon_divergence(vec_1, vec_2, assert_prob=False):\n",
    "    \"\"\"\n",
    "        Computes the Jensen-Shannon divergence between two probability distributions. \n",
    "        NOTE: DO NOT RETURN 1 - JSD here, that is handled by the next function which is already implemented! \n",
    "        The inputs are *gensim* vectors - same as the vectors for the cosine_sim function\n",
    "        assert_prob is a flag that checks if the inputs are proper probability distributions \n",
    "            i.e they sum to 1 and are positive - use this to check your inputs if needed. \n",
    "                (This is optional to implement, but recommended - \n",
    "                you can the default to False to save a few ms off the runtime)\n",
    "    \"\"\"\n",
    "    \n",
    "    if not vec_1 or not vec_2:\n",
    "        return 0\n",
    "    vec_1=np.array(vec_1)[:,1]\n",
    "    vec_2=np.array(vec_2)[:,1]\n",
    "    if vec_1.size!=vec_2.size:\n",
    "        return 0\n",
    "    JSD = 0.0\n",
    "    weight = 0.5\n",
    "    average = np.zeros(len(vec_1)) #Average\n",
    "    for x in range(len(vec_1)):\n",
    "        average[x] = weight * vec_1[x] + (1 - weight) * vec_2[x]\n",
    "        JSD = (weight * KL_divergence(np.array(vec_1), average)) + ((1 - weight) * KL_divergence(np.array(vec_2), average))\n",
    "    return JSD/np.sqrt(2*0.5)\n",
    "    \n",
    "\n",
    "def jenson_shannon_sim(vec_1, vec_2, assert_prob=False):\n",
    "    return 1 - jenson_shannon_divergence(vec_1, vec_2)\n",
    "\n"
   ]
  },
  {
   "cell_type": "code",
   "execution_count": 35,
   "metadata": {
    "deletable": false,
    "editable": false,
    "nbgrader": {
     "cell_type": "code",
     "checksum": "ab340aa941c9fb5c89b3fd0a9139e246",
     "grade": true,
     "grade_id": "cell-487c6d2933f38053",
     "locked": true,
     "points": 5,
     "schema_version": 3,
     "solution": false,
     "task": false
    }
   },
   "outputs": [
    {
     "name": "stderr",
     "output_type": "stream",
     "text": [
      "C:\\Users\\Bram\\AppData\\Local\\Temp/ipykernel_15384/2120849064.py:4: RuntimeWarning: divide by zero encountered in double_scalars\n",
      "  return sum(p[x] * np.log2((p[x]) / (q[x])) for x in range(len(p)) if p[x] != 0.0 or p[x] != 0)\n"
     ]
    },
    {
     "data": {
      "text/plain": [
       "0.9251064410358459"
      ]
     },
     "execution_count": 35,
     "metadata": {},
     "output_type": "execute_result"
    }
   ],
   "source": [
    "##### Function check\n",
    "vec_1 = [(1, 0.3), (2, 0.4), (3, 0.3)]\n",
    "vec_2 = [(1, 0.1), (2, 0.7), (3, 0.2)]\n",
    "jenson_shannon_sim(vec_1, vec_2, assert_prob=True)\n",
    "##### "
   ]
  },
  {
   "cell_type": "markdown",
   "metadata": {
    "deletable": false,
    "editable": false,
    "nbgrader": {
     "cell_type": "markdown",
     "checksum": "0a1583a5f23e3390038331cce67f5d8e",
     "grade": false,
     "grade_id": "cell-4535cc67a50b80fa",
     "locked": true,
     "schema_version": 3,
     "solution": false,
     "task": false
    }
   },
   "source": [
    "---\n",
    "### Section 7.2: LDA retrieval (5 points) <a class=\"anchor\" id=\"lda_ret\"></a>\n",
    "\n",
    "Implement the `train_model` method in the following class (note that this is only one line of code in `gensim`!). Ensure that the parameters defined in the `__init__` method are not changed, and are *used in the `train_method` function*. You do not need to set this. Normally, the hyperaparameter space will be searched using grid search / other methods. Note that training the LDA model might take some time\n",
    "\n",
    "The last two lines of code train an LDA model on the list of documents which have been stemmed, lower-cased and have stopwords removed. "
   ]
  },
  {
   "cell_type": "code",
   "execution_count": 38,
   "metadata": {
    "deletable": false,
    "nbgrader": {
     "cell_type": "code",
     "checksum": "27de8e4fa85536bb396b73bfc51b3f50",
     "grade": false,
     "grade_id": "cell-021a48dff4a8bb91",
     "locked": false,
     "schema_version": 3,
     "solution": true,
     "task": false
    }
   },
   "outputs": [],
   "source": [
    "# TODO: Implement this! (5 points)\n",
    "class LdaRetrievalModel(VectorSpaceRetrievalModel):\n",
    "    def __init__(self, doc_repr):\n",
    "        super().__init__(doc_repr)\n",
    "        \n",
    "        # use these parameters in the train_model method\n",
    "        self.num_topics = 100\n",
    "        self.chunksize = 2000\n",
    "        self.passes = 20\n",
    "        self.iterations = 400\n",
    "        self.eval_every = 10\n",
    "        # this is need to get full vectors\n",
    "        self.minimum_probability=0.0\n",
    "        self.alpha='auto'\n",
    "        self.eta='auto'\n",
    "    \n",
    "    \n",
    "    def train_model(self):\n",
    "        self.model=LdaModel(self.corpus, num_topics=self.num_topics, chunksize=self.chunksize, passes=self.passes, \n",
    "                           iterations=self.iterations, eval_every=self.eval_every, minimum_probability=self.minimum_probability,\n",
    "                           alpha=self.alpha, eta=self.eta)"
   ]
  },
  {
   "cell_type": "code",
   "execution_count": 39,
   "metadata": {
    "deletable": false,
    "editable": false,
    "nbgrader": {
     "cell_type": "code",
     "checksum": "be70fcb8098d0b6ce64cd2a10e6a05b7",
     "grade": true,
     "grade_id": "cell-86750b715f0345fd",
     "locked": true,
     "points": 0,
     "schema_version": 3,
     "solution": false,
     "task": false
    }
   },
   "outputs": [
    {
     "name": "stderr",
     "output_type": "stream",
     "text": [
      "2022-02-24 11:17:06,690 : INFO : adding document #0 to Dictionary(0 unique tokens: [])\n",
      "2022-02-24 11:17:06,785 : INFO : built Dictionary(5937 unique tokens: ['-', 'algebra', 'intern', 'languag', 'preliminari']...) from 3204 documents (total 115969 corpus positions)\n",
      "2022-02-24 11:17:06,786 : INFO : Dictionary lifecycle event {'msg': \"built Dictionary(5937 unique tokens: ['-', 'algebra', 'intern', 'languag', 'preliminari']...) from 3204 documents (total 115969 corpus positions)\", 'datetime': '2022-02-24T11:17:06.786660', 'gensim': '4.1.2', 'python': '3.9.7 (default, Sep 16 2021, 16:59:28) [MSC v.1916 64 bit (AMD64)]', 'platform': 'Windows-10-10.0.19042-SP0', 'event': 'created'}\n",
      "2022-02-24 11:17:06,791 : INFO : discarding 4740 tokens: [('repeat', 8), ('glossari', 7), ('inspect', 8), ('uncol', 2), ('rung', 9), ('secant', 2), ('.', 1603), ('acceler', 6), ('diverg', 3), ('induc', 9)]...\n",
      "2022-02-24 11:17:06,791 : INFO : keeping 1197 tokens which were in no less than 10 and no more than 1602 (=50.0%) documents\n",
      "2022-02-24 11:17:06,794 : INFO : resulting dictionary: Dictionary(1197 unique tokens: ['-', 'algebra', 'intern', 'languag', 'preliminari']...)\n",
      "2022-02-24 11:17:06,845 : WARNING : no word id mapping provided; initializing from corpus, assuming identity\n",
      "2022-02-24 11:17:06,852 : INFO : using autotuned alpha, starting with [0.01, 0.01, 0.01, 0.01, 0.01, 0.01, 0.01, 0.01, 0.01, 0.01, 0.01, 0.01, 0.01, 0.01, 0.01, 0.01, 0.01, 0.01, 0.01, 0.01, 0.01, 0.01, 0.01, 0.01, 0.01, 0.01, 0.01, 0.01, 0.01, 0.01, 0.01, 0.01, 0.01, 0.01, 0.01, 0.01, 0.01, 0.01, 0.01, 0.01, 0.01, 0.01, 0.01, 0.01, 0.01, 0.01, 0.01, 0.01, 0.01, 0.01, 0.01, 0.01, 0.01, 0.01, 0.01, 0.01, 0.01, 0.01, 0.01, 0.01, 0.01, 0.01, 0.01, 0.01, 0.01, 0.01, 0.01, 0.01, 0.01, 0.01, 0.01, 0.01, 0.01, 0.01, 0.01, 0.01, 0.01, 0.01, 0.01, 0.01, 0.01, 0.01, 0.01, 0.01, 0.01, 0.01, 0.01, 0.01, 0.01, 0.01, 0.01, 0.01, 0.01, 0.01, 0.01, 0.01, 0.01, 0.01, 0.01, 0.01]\n",
      "2022-02-24 11:17:06,853 : INFO : using serial LDA version on this node\n",
      "2022-02-24 11:17:06,864 : INFO : running online (multi-pass) LDA training, 100 topics, 20 passes over the supplied corpus of 3204 documents, updating model once every 2000 documents, evaluating perplexity every 3204 documents, iterating 400x with a convergence threshold of 0.001000\n",
      "2022-02-24 11:17:06,865 : INFO : PROGRESS: pass 0, at document #2000/3204\n",
      "2022-02-24 11:17:08,672 : INFO : optimized alpha [0.009783428, 0.009788964, 0.009876415, 0.0097989505, 0.0098663205, 0.009819557, 0.009793887, 0.009773167, 0.0098718535, 0.009840671, 0.009861088, 0.009773162, 0.009829913, 0.009793773, 0.009762846, 0.009840687, 0.009887274, 0.009773196, 0.009913713, 0.009871535, 0.009804079, 0.009819529, 0.009778236, 0.009932962, 0.00983854, 0.009804567, 0.009788768, 0.009913641, 0.009778228, 0.009794084, 0.0098044, 0.009835059, 0.009791486, 0.009835163, 0.009861028, 0.009783628, 0.009866383, 0.009834787, 0.0098094875, 0.00977832, 0.009951037, 0.009840666, 0.009799086, 0.009981373, 0.009851135, 0.009762871, 0.009825354, 0.009835074, 0.009793775, 0.009886247, 0.009835131, 0.009840322, 0.009803456, 0.00977318, 0.009841205, 0.009820078, 0.009778175, 0.009814779, 0.009850636, 0.009867134, 0.009809689, 0.009859835, 0.009824898, 0.009831905, 0.009799051, 0.010001909, 0.009773116, 0.0098043075, 0.009809373, 0.009788899, 0.0097886985, 0.009870513, 0.009954085, 0.009861229, 0.009830175, 0.0098514445, 0.009778403, 0.009913931, 0.009789031, 0.009860909, 0.009835287, 0.00979882, 0.009773234, 0.00981454, 0.009809639, 0.00983811, 0.009783391, 0.009855421, 0.009861627, 0.009819882, 0.0098355105, 0.009803873, 0.009840541, 0.009854576, 0.00978331, 0.009965509, 0.009809177, 0.009788604, 0.009809424, 0.009799296]\n",
      "2022-02-24 11:17:08,678 : INFO : merging changes from 2000 documents into a model of 3204 documents\n",
      "2022-02-24 11:17:08,709 : INFO : topic #39 (0.010): 0.050*\"65\" + 0.040*\"319\" + 0.040*\"289\" + 0.040*\"1173\" + 0.030*\"50\" + 0.030*\"13\" + 0.020*\"1051\" + 0.020*\"131\" + 0.020*\"134\" + 0.020*\"182\"\n",
      "2022-02-24 11:17:08,709 : INFO : topic #69 (0.010): 0.040*\"50\" + 0.028*\"15\" + 0.028*\"96\" + 0.020*\"35\" + 0.020*\"267\" + 0.020*\"29\" + 0.020*\"202\" + 0.020*\"69\" + 0.020*\"34\" + 0.016*\"552\"\n",
      "2022-02-24 11:17:08,710 : INFO : topic #65 (0.010): 0.065*\"0\" + 0.056*\"50\" + 0.031*\"34\" + 0.027*\"35\" + 0.017*\"6\" + 0.014*\"324\" + 0.012*\"24\" + 0.012*\"15\" + 0.011*\"13\" + 0.011*\"491\"\n",
      "2022-02-24 11:17:08,711 : INFO : topic #40 (0.010): 0.090*\"50\" + 0.035*\"49\" + 0.033*\"13\" + 0.029*\"0\" + 0.019*\"6\" + 0.011*\"57\" + 0.010*\"239\" + 0.009*\"45\" + 0.009*\"115\" + 0.009*\"176\"\n",
      "2022-02-24 11:17:08,711 : INFO : topic #95 (0.010): 0.067*\"50\" + 0.040*\"6\" + 0.034*\"0\" + 0.019*\"49\" + 0.017*\"13\" + 0.016*\"34\" + 0.015*\"3\" + 0.015*\"57\" + 0.012*\"146\" + 0.010*\"35\"\n",
      "2022-02-24 11:17:08,712 : INFO : topic diff=82.760101, rho=1.000000\n",
      "2022-02-24 11:17:09,704 : INFO : -7.275 per-word bound, 154.9 perplexity estimate based on a held-out corpus of 1204 documents with 49783 words\n",
      "2022-02-24 11:17:09,705 : INFO : PROGRESS: pass 0, at document #3204/3204\n",
      "2022-02-24 11:17:10,522 : INFO : optimized alpha [0.009765114, 0.009959966, 0.00993437, 0.010280142, 0.010061446, 0.009760699, 0.009950638, 0.009895534, 0.010234519, 0.010024824, 0.00989007, 0.009765961, 0.009929882, 0.009846515, 0.009686628, 0.009851561, 0.010118885, 0.009830122, 0.010393608, 0.009917837, 0.009856405, 0.00974304, 0.009789803, 0.010301589, 0.0097846165, 0.009846776, 0.009823427, 0.01007491, 0.009777724, 0.010023903, 0.009992076, 0.0097226435, 0.009886087, 0.009851927, 0.009902144, 0.009842833, 0.010030748, 0.009833121, 0.00990914, 0.009766458, 0.0105177, 0.00984616, 0.0100166565, 0.010474832, 0.010200582, 0.009588283, 0.009955317, 0.01012374, 0.01000923, 0.009741601, 0.010020917, 0.009851728, 0.009755891, 0.009783941, 0.010204721, 0.009873227, 0.009649842, 0.010092016, 0.009826717, 0.010271622, 0.010098014, 0.010066864, 0.009960103, 0.010013401, 0.009879526, 0.010349372, 0.009650008, 0.009916501, 0.009820728, 0.009889351, 0.010109415, 0.009833757, 0.010090357, 0.010127416, 0.009996503, 0.009958691, 0.009931041, 0.010101095, 0.009989394, 0.01046927, 0.010165232, 0.009757419, 0.009650427, 0.009985486, 0.009880331, 0.009996998, 0.009590292, 0.009960609, 0.010082237, 0.0099492185, 0.009984305, 0.009943721, 0.010029551, 0.010002674, 0.009723555, 0.010120862, 0.009842778, 0.009905116, 0.010056696, 0.0098231435]\n",
      "2022-02-24 11:17:10,530 : INFO : merging changes from 1204 documents into a model of 3204 documents\n",
      "2022-02-24 11:17:10,540 : INFO : topic #45 (0.010): 0.176*\"637\" + 0.153*\"320\" + 0.128*\"445\" + 0.128*\"276\" + 0.069*\"25\" + 0.039*\"247\" + 0.030*\"49\" + 0.025*\"421\" + 0.022*\"582\" + 0.021*\"63\"\n",
      "2022-02-24 11:17:10,540 : INFO : topic #86 (0.010): 0.135*\"83\" + 0.102*\"398\" + 0.061*\"193\" + 0.060*\"202\" + 0.051*\"1091\" + 0.041*\"34\" + 0.040*\"96\" + 0.039*\"0\" + 0.037*\"109\" + 0.035*\"194\"\n",
      "2022-02-24 11:17:10,541 : INFO : topic #43 (0.010): 0.073*\"50\" + 0.045*\"49\" + 0.023*\"582\" + 0.021*\"13\" + 0.017*\"57\" + 0.017*\"603\" + 0.016*\"115\" + 0.012*\"561\" + 0.011*\"45\" + 0.011*\"458\"\n",
      "2022-02-24 11:17:10,541 : INFO : topic #79 (0.010): 0.074*\"918\" + 0.046*\"91\" + 0.041*\"50\" + 0.037*\"765\" + 0.034*\"996\" + 0.030*\"83\" + 0.030*\"0\" + 0.025*\"34\" + 0.021*\"146\" + 0.017*\"458\"\n",
      "2022-02-24 11:17:10,542 : INFO : topic #40 (0.011): 0.102*\"50\" + 0.045*\"49\" + 0.029*\"13\" + 0.026*\"0\" + 0.018*\"239\" + 0.015*\"6\" + 0.012*\"45\" + 0.010*\"166\" + 0.010*\"115\" + 0.009*\"165\"\n",
      "2022-02-24 11:17:10,542 : INFO : topic diff=0.744598, rho=0.707107\n",
      "2022-02-24 11:17:10,551 : INFO : PROGRESS: pass 1, at document #2000/3204\n",
      "2022-02-24 11:17:11,386 : INFO : optimized alpha [0.009787357, 0.009989408, 0.009884346, 0.010320479, 0.009938967, 0.009724873, 0.009891715, 0.009985635, 0.010208869, 0.009960208, 0.009804105, 0.009736401, 0.00983214, 0.009965775, 0.009651073, 0.00980878, 0.0100734215, 0.00994518, 0.010335286, 0.00988158, 0.009794098, 0.009753889, 0.009901645, 0.010217028, 0.009813279, 0.009809385, 0.009756836, 0.010017615, 0.009776972, 0.010009433, 0.010047475, 0.009666182, 0.009875882, 0.009776925, 0.009805158, 0.009846871, 0.00996557, 0.009776789, 0.009864434, 0.009711271, 0.01050285, 0.009871763, 0.009937603, 0.010454432, 0.010090659, 0.009559593, 0.0099581, 0.0100778425, 0.009994078, 0.009771041, 0.010003432, 0.009787442, 0.00983872, 0.009964847, 0.010185671, 0.009792805, 0.0097395815, 0.010022385, 0.009737094, 0.010165704, 0.0100202095, 0.009984624, 0.009959315, 0.009929542, 0.0099646235, 0.010355403, 0.009602159, 0.00984026, 0.009806575, 0.009829479, 0.010049751, 0.009751351, 0.009997131, 0.010030381, 0.009964323, 0.009884854, 0.009920411, 0.01081733, 0.009957201, 0.010393247, 0.0100993905, 0.009813115, 0.009618027, 0.009923506, 0.009860738, 0.009894669, 0.00952087, 0.009893937, 0.0099891145, 0.009882792, 0.009903881, 0.010254127, 0.010004444, 0.00991148, 0.009687091, 0.010068548, 0.009783647, 0.009860552, 0.009979841, 0.009751573]\n"
     ]
    },
    {
     "name": "stderr",
     "output_type": "stream",
     "text": [
      "2022-02-24 11:17:11,393 : INFO : merging changes from 2000 documents into a model of 3204 documents\n",
      "2022-02-24 11:17:11,403 : INFO : topic #86 (0.010): 0.116*\"398\" + 0.097*\"83\" + 0.063*\"202\" + 0.057*\"1091\" + 0.052*\"821\" + 0.051*\"193\" + 0.044*\"0\" + 0.039*\"194\" + 0.036*\"96\" + 0.035*\"703\"\n",
      "2022-02-24 11:17:11,404 : INFO : topic #82 (0.010): 0.184*\"162\" + 0.061*\"368\" + 0.056*\"50\" + 0.051*\"15\" + 0.044*\"499\" + 0.042*\"903\" + 0.035*\"997\" + 0.034*\"520\" + 0.029*\"41\" + 0.027*\"404\"\n",
      "2022-02-24 11:17:11,404 : INFO : topic #43 (0.010): 0.075*\"50\" + 0.050*\"49\" + 0.027*\"582\" + 0.023*\"13\" + 0.020*\"57\" + 0.019*\"603\" + 0.018*\"115\" + 0.012*\"3\" + 0.012*\"561\" + 0.012*\"45\"\n",
      "2022-02-24 11:17:11,405 : INFO : topic #40 (0.011): 0.104*\"50\" + 0.048*\"49\" + 0.033*\"13\" + 0.028*\"0\" + 0.017*\"6\" + 0.017*\"239\" + 0.012*\"45\" + 0.011*\"166\" + 0.010*\"115\" + 0.010*\"57\"\n",
      "2022-02-24 11:17:11,405 : INFO : topic #77 (0.011): 0.191*\"83\" + 0.181*\"34\" + 0.104*\"35\" + 0.094*\"611\" + 0.072*\"1015\" + 0.026*\"69\" + 0.018*\"404\" + 0.015*\"131\" + 0.015*\"12\" + 0.012*\"872\"\n",
      "2022-02-24 11:17:11,406 : INFO : topic diff=0.290747, rho=0.526900\n",
      "2022-02-24 11:17:12,294 : INFO : -6.896 per-word bound, 119.1 perplexity estimate based on a held-out corpus of 1204 documents with 49783 words\n",
      "2022-02-24 11:17:12,294 : INFO : PROGRESS: pass 1, at document #3204/3204\n",
      "2022-02-24 11:17:13,048 : INFO : optimized alpha [0.009896211, 0.010264377, 0.009972759, 0.01079261, 0.010084709, 0.009784074, 0.009995987, 0.010155908, 0.010510376, 0.010142398, 0.009823554, 0.009836186, 0.010004386, 0.010034488, 0.009726367, 0.009870671, 0.010224171, 0.010197015, 0.010579824, 0.009973773, 0.009890625, 0.009873436, 0.010076314, 0.0104259, 0.009809847, 0.009885997, 0.009823315, 0.010092974, 0.009907732, 0.010172134, 0.010222833, 0.009657215, 0.01002586, 0.009912726, 0.009859438, 0.00996594, 0.010092156, 0.0098945685, 0.00995666, 0.009786897, 0.010810422, 0.009880857, 0.010104808, 0.010680524, 0.010345023, 0.009716056, 0.010063567, 0.010226796, 0.010230813, 0.00973726, 0.010137401, 0.009824608, 0.009912557, 0.010107245, 0.010451307, 0.009868807, 0.009772017, 0.010203597, 0.009735484, 0.010379714, 0.010210162, 0.010139331, 0.0100948345, 0.010047491, 0.0100499615, 0.010603043, 0.009609919, 0.010033898, 0.009895195, 0.00997063, 0.010353196, 0.009783496, 0.010076158, 0.010166582, 0.010061949, 0.009930099, 0.010109101, 0.011058084, 0.010102353, 0.010838198, 0.010351923, 0.009826897, 0.009630029, 0.010086619, 0.009945129, 0.010075314, 0.009488089, 0.010026232, 0.010123219, 0.010023305, 0.010059561, 0.0104150465, 0.010217045, 0.01000893, 0.009769901, 0.01011642, 0.009818958, 0.010136485, 0.010258113, 0.009784162]\n",
      "2022-02-24 11:17:13,055 : INFO : merging changes from 1204 documents into a model of 3204 documents\n",
      "2022-02-24 11:17:13,066 : INFO : topic #86 (0.009): 0.166*\"398\" + 0.149*\"83\" + 0.093*\"202\" + 0.087*\"193\" + 0.049*\"1091\" + 0.044*\"194\" + 0.044*\"109\" + 0.044*\"0\" + 0.038*\"96\" + 0.030*\"703\"\n",
      "2022-02-24 11:17:13,066 : INFO : topic #66 (0.010): 0.223*\"206\" + 0.173*\"231\" + 0.061*\"35\" + 0.059*\"69\" + 0.053*\"394\" + 0.052*\"34\" + 0.050*\"1154\" + 0.049*\"591\" + 0.043*\"83\" + 0.043*\"590\"\n",
      "2022-02-24 11:17:13,067 : INFO : topic #40 (0.011): 0.111*\"50\" + 0.055*\"49\" + 0.028*\"13\" + 0.026*\"0\" + 0.020*\"239\" + 0.015*\"6\" + 0.014*\"45\" + 0.013*\"244\" + 0.012*\"166\" + 0.011*\"115\"\n",
      "2022-02-24 11:17:13,067 : INFO : topic #79 (0.011): 0.094*\"918\" + 0.062*\"91\" + 0.047*\"50\" + 0.040*\"765\" + 0.036*\"996\" + 0.032*\"0\" + 0.030*\"83\" + 0.023*\"146\" + 0.020*\"458\" + 0.018*\"34\"\n",
      "2022-02-24 11:17:13,068 : INFO : topic #77 (0.011): 0.202*\"83\" + 0.180*\"34\" + 0.125*\"35\" + 0.093*\"611\" + 0.038*\"1015\" + 0.027*\"404\" + 0.027*\"69\" + 0.017*\"486\" + 0.015*\"73\" + 0.015*\"131\"\n",
      "2022-02-24 11:17:13,069 : INFO : topic diff=0.422763, rho=0.526900\n",
      "2022-02-24 11:17:13,077 : INFO : PROGRESS: pass 2, at document #2000/3204\n",
      "2022-02-24 11:17:13,880 : INFO : optimized alpha [0.009959551, 0.0103515, 0.009961946, 0.010864361, 0.009984051, 0.009804033, 0.009953581, 0.010225737, 0.01049921, 0.010101016, 0.0097686285, 0.009842406, 0.009964999, 0.010159469, 0.009738625, 0.009857014, 0.010204892, 0.010353647, 0.010530747, 0.009953574, 0.009861559, 0.009922025, 0.010249003, 0.01036913, 0.009898428, 0.009879057, 0.009781718, 0.010061978, 0.009936877, 0.010175039, 0.01032401, 0.009632417, 0.010047046, 0.009876631, 0.009792171, 0.010018292, 0.010046378, 0.009837887, 0.009940964, 0.009766383, 0.010804047, 0.009948587, 0.01005096, 0.010644785, 0.010243056, 0.009728527, 0.010077718, 0.010204876, 0.010248657, 0.009782337, 0.01015489, 0.009797228, 0.010053481, 0.010314406, 0.010451551, 0.009826875, 0.009877066, 0.010177153, 0.009673148, 0.010282145, 0.010140249, 0.010075836, 0.010121923, 0.009980657, 0.010142347, 0.01060601, 0.009627906, 0.009998365, 0.00993166, 0.009943133, 0.010316337, 0.009715048, 0.0100094285, 0.01010998, 0.010050445, 0.009873608, 0.0101504205, 0.011809943, 0.010097157, 0.010776877, 0.0103105465, 0.009867321, 0.009688837, 0.010057332, 0.009958635, 0.0100197205, 0.009478674, 0.009969662, 0.01004118, 0.009992614, 0.010014195, 0.010849871, 0.010255814, 0.0099482555, 0.009754231, 0.010088174, 0.009791429, 0.010165772, 0.010199229, 0.009755108]\n",
      "2022-02-24 11:17:13,887 : INFO : merging changes from 2000 documents into a model of 3204 documents\n",
      "2022-02-24 11:17:13,898 : INFO : topic #86 (0.009): 0.192*\"398\" + 0.116*\"83\" + 0.110*\"202\" + 0.076*\"193\" + 0.050*\"1091\" + 0.049*\"194\" + 0.046*\"0\" + 0.042*\"703\" + 0.042*\"821\" + 0.035*\"109\"\n",
      "2022-02-24 11:17:13,899 : INFO : topic #31 (0.010): 0.060*\"50\" + 0.059*\"99\" + 0.058*\"3\" + 0.051*\"729\" + 0.028*\"624\" + 0.023*\"725\" + 0.023*\"73\" + 0.021*\"67\" + 0.021*\"454\" + 0.021*\"64\"\n",
      "2022-02-24 11:17:13,899 : INFO : topic #40 (0.011): 0.113*\"50\" + 0.059*\"49\" + 0.032*\"13\" + 0.027*\"0\" + 0.020*\"239\" + 0.015*\"6\" + 0.015*\"45\" + 0.013*\"166\" + 0.012*\"244\" + 0.011*\"115\"\n",
      "2022-02-24 11:17:13,900 : INFO : topic #3 (0.011): 0.116*\"859\" + 0.078*\"844\" + 0.058*\"9\" + 0.042*\"50\" + 0.031*\"52\" + 0.031*\"56\" + 0.030*\"69\" + 0.026*\"517\" + 0.024*\"427\" + 0.024*\"652\"\n",
      "2022-02-24 11:17:13,900 : INFO : topic #77 (0.012): 0.200*\"83\" + 0.188*\"34\" + 0.107*\"611\" + 0.104*\"35\" + 0.083*\"1015\" + 0.032*\"69\" + 0.021*\"404\" + 0.015*\"131\" + 0.014*\"73\" + 0.013*\"315\"\n",
      "2022-02-24 11:17:13,901 : INFO : topic diff=0.367597, rho=0.466151\n",
      "2022-02-24 11:17:14,778 : INFO : -6.781 per-word bound, 110.0 perplexity estimate based on a held-out corpus of 1204 documents with 49783 words\n",
      "2022-02-24 11:17:14,779 : INFO : PROGRESS: pass 2, at document #3204/3204\n",
      "2022-02-24 11:17:15,531 : INFO : optimized alpha [0.010087004, 0.010647528, 0.010072164, 0.011303712, 0.010113891, 0.009910699, 0.010042629, 0.010389074, 0.01077771, 0.010279447, 0.009814356, 0.0100191375, 0.010157666, 0.010219362, 0.009869954, 0.009923979, 0.010339051, 0.0106319245, 0.0107069565, 0.010090254, 0.009989987, 0.010090158, 0.0104324855, 0.0105754, 0.0099261245, 0.00997838, 0.009875714, 0.0101371845, 0.010092145, 0.010339569, 0.010475585, 0.0096602915, 0.010235725, 0.010055709, 0.009876226, 0.010158988, 0.010174771, 0.009939244, 0.010026807, 0.009883231, 0.0110369455, 0.009968169, 0.010215383, 0.010829165, 0.010477858, 0.009932381, 0.010183191, 0.01034153, 0.010532347, 0.009795733, 0.010285741, 0.009877222, 0.010137423, 0.010472182, 0.010701306, 0.009929733, 0.009909006, 0.010358451, 0.009677932, 0.010448137, 0.010289348, 0.010209209, 0.010238002, 0.010101523, 0.01021332, 0.01086479, 0.009684265, 0.010186296, 0.010045415, 0.010068983, 0.010604625, 0.009771766, 0.0100764055, 0.010219212, 0.010113683, 0.00992266, 0.010361721, 0.012000991, 0.010210088, 0.011158096, 0.010527858, 0.009880043, 0.009767581, 0.010230191, 0.010037533, 0.01020011, 0.009558786, 0.0100993365, 0.010176575, 0.010148819, 0.010168428, 0.011093569, 0.010498276, 0.010058641, 0.0098508885, 0.010099521, 0.009839058, 0.010445603, 0.010436296, 0.009800388]\n",
      "2022-02-24 11:17:15,538 : INFO : merging changes from 1204 documents into a model of 3204 documents\n",
      "2022-02-24 11:17:15,549 : INFO : topic #86 (0.010): 0.212*\"398\" + 0.150*\"202\" + 0.135*\"83\" + 0.112*\"193\" + 0.050*\"194\" + 0.042*\"0\" + 0.038*\"109\" + 0.037*\"1091\" + 0.031*\"703\" + 0.025*\"96\"\n",
      "2022-02-24 11:17:15,549 : INFO : topic #31 (0.010): 0.070*\"3\" + 0.066*\"729\" + 0.057*\"50\" + 0.036*\"99\" + 0.033*\"624\" + 0.030*\"725\" + 0.026*\"67\" + 0.025*\"64\" + 0.024*\"73\" + 0.023*\"731\"\n"
     ]
    },
    {
     "name": "stderr",
     "output_type": "stream",
     "text": [
      "2022-02-24 11:17:15,550 : INFO : topic #91 (0.011): 0.237*\"34\" + 0.211*\"35\" + 0.163*\"83\" + 0.046*\"254\" + 0.035*\"611\" + 0.032*\"1057\" + 0.030*\"210\" + 0.026*\"219\" + 0.026*\"1093\" + 0.017*\"1054\"\n",
      "2022-02-24 11:17:15,550 : INFO : topic #3 (0.011): 0.184*\"859\" + 0.089*\"844\" + 0.040*\"50\" + 0.036*\"9\" + 0.033*\"652\" + 0.029*\"69\" + 0.027*\"427\" + 0.025*\"1169\" + 0.025*\"1079\" + 0.024*\"6\"\n",
      "2022-02-24 11:17:15,551 : INFO : topic #77 (0.012): 0.211*\"83\" + 0.182*\"34\" + 0.116*\"35\" + 0.107*\"611\" + 0.053*\"1015\" + 0.032*\"69\" + 0.027*\"404\" + 0.018*\"73\" + 0.017*\"486\" + 0.015*\"131\"\n",
      "2022-02-24 11:17:15,551 : INFO : topic diff=0.511729, rho=0.466151\n",
      "2022-02-24 11:17:15,559 : INFO : PROGRESS: pass 3, at document #2000/3204\n",
      "2022-02-24 11:17:16,349 : INFO : optimized alpha [0.010161396, 0.010769062, 0.010075143, 0.011375612, 0.010023215, 0.009968814, 0.010019704, 0.010465304, 0.010806389, 0.010271793, 0.009788983, 0.010032378, 0.010146818, 0.010337888, 0.009899497, 0.009929014, 0.010341038, 0.010822783, 0.010673107, 0.010101546, 0.00997615, 0.010152908, 0.010635451, 0.010531495, 0.010034644, 0.009982783, 0.009859216, 0.010113841, 0.01013302, 0.010363416, 0.010627714, 0.009632903, 0.010280242, 0.010045302, 0.009837311, 0.010230047, 0.010159135, 0.009879681, 0.010017162, 0.0098833805, 0.011045991, 0.010051442, 0.010187649, 0.010816694, 0.010392707, 0.009967742, 0.010206868, 0.010341154, 0.01058872, 0.009864093, 0.010316641, 0.00988646, 0.010275088, 0.010669903, 0.010699519, 0.009913109, 0.010011127, 0.010339805, 0.009634012, 0.010361689, 0.010238895, 0.010160408, 0.010290619, 0.010043319, 0.010306345, 0.010890979, 0.009729521, 0.010181065, 0.010112626, 0.010054628, 0.01058413, 0.009721383, 0.010021428, 0.010192349, 0.010110337, 0.009889749, 0.010413382, 0.012630804, 0.0102334665, 0.011095195, 0.010493114, 0.00991526, 0.009858564, 0.010233205, 0.010052215, 0.010159663, 0.009570755, 0.010054412, 0.010106715, 0.010133327, 0.010122284, 0.011703432, 0.01055662, 0.010012544, 0.009847224, 0.010079692, 0.009842144, 0.010497157, 0.010401045, 0.009787499]\n",
      "2022-02-24 11:17:16,356 : INFO : merging changes from 2000 documents into a model of 3204 documents\n",
      "2022-02-24 11:17:16,367 : INFO : topic #86 (0.010): 0.225*\"398\" + 0.162*\"202\" + 0.112*\"83\" + 0.096*\"193\" + 0.050*\"194\" + 0.045*\"0\" + 0.043*\"703\" + 0.039*\"1091\" + 0.032*\"109\" + 0.032*\"821\"\n",
      "2022-02-24 11:17:16,367 : INFO : topic #58 (0.010): 0.081*\"50\" + 0.047*\"3\" + 0.038*\"351\" + 0.037*\"518\" + 0.030*\"85\" + 0.029*\"0\" + 0.022*\"13\" + 0.017*\"341\" + 0.016*\"48\" + 0.015*\"304\"\n",
      "2022-02-24 11:17:16,368 : INFO : topic #3 (0.011): 0.130*\"859\" + 0.089*\"844\" + 0.062*\"9\" + 0.038*\"50\" + 0.035*\"56\" + 0.032*\"52\" + 0.032*\"652\" + 0.028*\"517\" + 0.028*\"69\" + 0.025*\"6\"\n",
      "2022-02-24 11:17:16,369 : INFO : topic #91 (0.012): 0.259*\"34\" + 0.236*\"35\" + 0.184*\"83\" + 0.049*\"254\" + 0.028*\"219\" + 0.025*\"611\" + 0.024*\"1057\" + 0.019*\"1093\" + 0.016*\"210\" + 0.011*\"1054\"\n",
      "2022-02-24 11:17:16,370 : INFO : topic #77 (0.013): 0.200*\"83\" + 0.180*\"34\" + 0.127*\"611\" + 0.096*\"1015\" + 0.084*\"35\" + 0.036*\"69\" + 0.022*\"404\" + 0.016*\"73\" + 0.015*\"131\" + 0.015*\"315\"\n",
      "2022-02-24 11:17:16,371 : INFO : topic diff=0.508175, rho=0.422502\n",
      "2022-02-24 11:17:17,212 : INFO : -6.706 per-word bound, 104.4 perplexity estimate based on a held-out corpus of 1204 documents with 49783 words\n",
      "2022-02-24 11:17:17,213 : INFO : PROGRESS: pass 3, at document #3204/3204\n",
      "2022-02-24 11:17:17,927 : INFO : optimized alpha [0.0102882935, 0.011088854, 0.010211632, 0.011792961, 0.010184652, 0.010080061, 0.010122523, 0.010640174, 0.011089495, 0.01045712, 0.009855729, 0.010225928, 0.010370126, 0.010417184, 0.010050743, 0.010014904, 0.010473979, 0.0110837305, 0.010810842, 0.010283485, 0.01011102, 0.010338826, 0.010825569, 0.010716242, 0.010076937, 0.0100914305, 0.009948731, 0.010208065, 0.010289086, 0.010513474, 0.01077661, 0.009693353, 0.010478672, 0.010230206, 0.009910876, 0.010361921, 0.0102978125, 0.009979337, 0.010095619, 0.010014314, 0.011258922, 0.0100760795, 0.010337647, 0.01100439, 0.010629679, 0.010147708, 0.010292015, 0.010458612, 0.010876456, 0.009910909, 0.010446785, 0.009963095, 0.010379655, 0.01083975, 0.0109285135, 0.010014101, 0.010053721, 0.010531197, 0.009670832, 0.010498345, 0.010360385, 0.010285847, 0.010435923, 0.010182336, 0.01036327, 0.011163476, 0.009797864, 0.010352948, 0.0102234, 0.010187499, 0.010875113, 0.009787564, 0.010090212, 0.010310231, 0.010168314, 0.0099492585, 0.0106143365, 0.012801431, 0.01033985, 0.011426965, 0.01069547, 0.009934436, 0.009954125, 0.010423929, 0.010145714, 0.010353363, 0.009714795, 0.010183447, 0.010230512, 0.0102938395, 0.010284738, 0.012070214, 0.010802116, 0.010127527, 0.009963191, 0.0100984145, 0.009885912, 0.010762637, 0.0105996635, 0.0098328795]\n",
      "2022-02-24 11:17:17,934 : INFO : merging changes from 1204 documents into a model of 3204 documents\n",
      "2022-02-24 11:17:17,945 : INFO : topic #58 (0.010): 0.085*\"50\" + 0.050*\"3\" + 0.043*\"351\" + 0.040*\"518\" + 0.031*\"85\" + 0.025*\"0\" + 0.021*\"48\" + 0.021*\"13\" + 0.019*\"341\" + 0.019*\"546\"\n",
      "2022-02-24 11:17:17,945 : INFO : topic #31 (0.010): 0.088*\"3\" + 0.065*\"729\" + 0.057*\"50\" + 0.035*\"725\" + 0.034*\"624\" + 0.031*\"67\" + 0.030*\"99\" + 0.028*\"64\" + 0.025*\"731\" + 0.024*\"73\"\n",
      "2022-02-24 11:17:17,946 : INFO : topic #3 (0.012): 0.186*\"859\" + 0.096*\"844\" + 0.040*\"9\" + 0.039*\"652\" + 0.036*\"50\" + 0.027*\"69\" + 0.026*\"427\" + 0.026*\"6\" + 0.025*\"56\" + 0.024*\"1169\"\n",
      "2022-02-24 11:17:17,947 : INFO : topic #91 (0.012): 0.276*\"34\" + 0.253*\"35\" + 0.178*\"83\" + 0.037*\"254\" + 0.026*\"611\" + 0.025*\"1057\" + 0.023*\"210\" + 0.021*\"219\" + 0.020*\"1093\" + 0.013*\"1054\"\n",
      "2022-02-24 11:17:17,947 : INFO : topic #77 (0.013): 0.208*\"83\" + 0.175*\"34\" + 0.128*\"611\" + 0.097*\"35\" + 0.065*\"1015\" + 0.035*\"69\" + 0.028*\"404\" + 0.018*\"73\" + 0.017*\"486\" + 0.016*\"131\"\n",
      "2022-02-24 11:17:17,948 : INFO : topic diff=0.626445, rho=0.422502\n",
      "2022-02-24 11:17:17,955 : INFO : PROGRESS: pass 4, at document #2000/3204\n",
      "2022-02-24 11:17:18,725 : INFO : optimized alpha [0.0103751905, 0.011227548, 0.010229979, 0.011879967, 0.010104823, 0.010151643, 0.0101035265, 0.010735379, 0.011123002, 0.0104738595, 0.009840674, 0.010258982, 0.010401606, 0.0105313705, 0.010087316, 0.010037295, 0.010491859, 0.011269214, 0.010783602, 0.0103071835, 0.010111648, 0.01040025, 0.011028579, 0.010678986, 0.010185783, 0.01010335, 0.009947365, 0.010198886, 0.010324351, 0.010541118, 0.010937246, 0.009670682, 0.0105334, 0.01022161, 0.009889267, 0.010468032, 0.01029705, 0.009932701, 0.010090995, 0.010023884, 0.011270451, 0.010163298, 0.010321754, 0.010991789, 0.01055364, 0.010181678, 0.010307933, 0.010464352, 0.010954785, 0.009982232, 0.010483261, 0.009997453, 0.01050361, 0.011035439, 0.010925351, 0.01001472, 0.010162223, 0.010510873, 0.009644908, 0.010431406, 0.010322013, 0.010253003, 0.010498412, 0.01014844, 0.010464076, 0.011197013, 0.009868476, 0.010361481, 0.010297648, 0.010188019, 0.010866456, 0.009749589, 0.010044449, 0.010303699, 0.010163777, 0.009933444, 0.01066333, 0.013415818, 0.010395956, 0.011374479, 0.010670482, 0.009971311, 0.010061916, 0.010441982, 0.010175253, 0.010331212, 0.009755528, 0.010143804, 0.01016643, 0.010290868, 0.010247691, 0.012794879, 0.0108975675, 0.010104882, 0.009965374, 0.010081209, 0.0098971315, 0.010819591, 0.010557699, 0.009831447]\n",
      "2022-02-24 11:17:18,732 : INFO : merging changes from 2000 documents into a model of 3204 documents\n",
      "2022-02-24 11:17:18,742 : INFO : topic #58 (0.010): 0.083*\"50\" + 0.054*\"3\" + 0.042*\"351\" + 0.037*\"518\" + 0.033*\"85\" + 0.028*\"0\" + 0.020*\"13\" + 0.019*\"341\" + 0.018*\"48\" + 0.017*\"304\"\n",
      "2022-02-24 11:17:18,743 : INFO : topic #31 (0.010): 0.091*\"3\" + 0.060*\"50\" + 0.055*\"729\" + 0.036*\"99\" + 0.035*\"67\" + 0.033*\"725\" + 0.031*\"624\" + 0.027*\"454\" + 0.025*\"64\" + 0.023*\"73\"\n",
      "2022-02-24 11:17:18,744 : INFO : topic #3 (0.012): 0.136*\"859\" + 0.096*\"844\" + 0.063*\"9\" + 0.036*\"652\" + 0.036*\"56\" + 0.035*\"50\" + 0.032*\"52\" + 0.028*\"517\" + 0.027*\"6\" + 0.026*\"69\"\n",
      "2022-02-24 11:17:18,745 : INFO : topic #91 (0.013): 0.289*\"34\" + 0.269*\"35\" + 0.191*\"83\" + 0.038*\"254\" + 0.021*\"219\" + 0.020*\"1057\" + 0.018*\"611\" + 0.016*\"1093\" + 0.014*\"210\" + 0.010*\"24\"\n",
      "2022-02-24 11:17:18,745 : INFO : topic #77 (0.013): 0.198*\"83\" + 0.173*\"34\" + 0.143*\"611\" + 0.106*\"1015\" + 0.070*\"35\" + 0.036*\"69\" + 0.023*\"404\" + 0.017*\"73\" + 0.016*\"131\" + 0.016*\"315\"\n"
     ]
    },
    {
     "name": "stderr",
     "output_type": "stream",
     "text": [
      "2022-02-24 11:17:18,746 : INFO : topic diff=0.600594, rho=0.389191\n",
      "2022-02-24 11:17:19,578 : INFO : -6.652 per-word bound, 100.6 perplexity estimate based on a held-out corpus of 1204 documents with 49783 words\n",
      "2022-02-24 11:17:19,579 : INFO : PROGRESS: pass 4, at document #3204/3204\n",
      "2022-02-24 11:17:20,296 : INFO : optimized alpha [0.010489356, 0.0116096, 0.010386726, 0.0122858975, 0.01027452, 0.010277755, 0.010221981, 0.0108942455, 0.011391607, 0.010660262, 0.009915718, 0.010465892, 0.010620447, 0.010583526, 0.010237601, 0.010120113, 0.010622036, 0.011520822, 0.010904235, 0.010496722, 0.010227034, 0.010590116, 0.011233913, 0.0108610345, 0.010230971, 0.010210768, 0.010056468, 0.010326413, 0.010492677, 0.010666622, 0.011067532, 0.009724096, 0.010721692, 0.010433292, 0.009954659, 0.010590065, 0.010459249, 0.010031807, 0.010170453, 0.010161653, 0.01145369, 0.010182305, 0.010470904, 0.0111770425, 0.0107740145, 0.010345899, 0.010390336, 0.0106007, 0.011239035, 0.010038362, 0.010620887, 0.010084741, 0.010589641, 0.0111894645, 0.0111348955, 0.010134742, 0.010201184, 0.010692274, 0.009692443, 0.0105618825, 0.010461867, 0.01036286, 0.010650203, 0.010294208, 0.010523242, 0.011462986, 0.009963296, 0.01052447, 0.01043367, 0.01033462, 0.011152845, 0.009827173, 0.010115452, 0.010419924, 0.01022797, 0.00999547, 0.010867724, 0.0135915335, 0.010494245, 0.011702953, 0.01085171, 0.009992754, 0.01017618, 0.010633031, 0.010265267, 0.010521321, 0.009927268, 0.0102669075, 0.010284897, 0.010446615, 0.010398567, 0.013315551, 0.011184367, 0.010224748, 0.010082608, 0.010102865, 0.009934951, 0.01107865, 0.010735162, 0.0098837055]\n",
      "2022-02-24 11:17:20,302 : INFO : merging changes from 1204 documents into a model of 3204 documents\n",
      "2022-02-24 11:17:20,313 : INFO : topic #58 (0.010): 0.087*\"50\" + 0.055*\"3\" + 0.045*\"351\" + 0.040*\"518\" + 0.034*\"85\" + 0.025*\"0\" + 0.024*\"48\" + 0.023*\"733\" + 0.020*\"13\" + 0.020*\"546\"\n",
      "2022-02-24 11:17:20,313 : INFO : topic #31 (0.010): 0.102*\"3\" + 0.066*\"729\" + 0.057*\"50\" + 0.037*\"725\" + 0.033*\"67\" + 0.033*\"624\" + 0.029*\"64\" + 0.026*\"454\" + 0.025*\"731\" + 0.025*\"73\"\n",
      "2022-02-24 11:17:20,313 : INFO : topic #3 (0.012): 0.187*\"859\" + 0.103*\"844\" + 0.043*\"9\" + 0.042*\"652\" + 0.032*\"50\" + 0.027*\"6\" + 0.026*\"56\" + 0.026*\"517\" + 0.025*\"1169\" + 0.025*\"69\"\n",
      "2022-02-24 11:17:20,314 : INFO : topic #91 (0.013): 0.304*\"34\" + 0.284*\"35\" + 0.183*\"83\" + 0.029*\"254\" + 0.020*\"1057\" + 0.018*\"611\" + 0.017*\"210\" + 0.016*\"1093\" + 0.016*\"219\" + 0.011*\"1054\"\n",
      "2022-02-24 11:17:20,314 : INFO : topic #77 (0.014): 0.204*\"83\" + 0.169*\"34\" + 0.148*\"611\" + 0.081*\"35\" + 0.076*\"1015\" + 0.034*\"69\" + 0.029*\"404\" + 0.018*\"486\" + 0.017*\"73\" + 0.016*\"131\"\n",
      "2022-02-24 11:17:20,315 : INFO : topic diff=0.664904, rho=0.389191\n",
      "2022-02-24 11:17:20,322 : INFO : PROGRESS: pass 5, at document #2000/3204\n",
      "2022-02-24 11:17:21,084 : INFO : optimized alpha [0.010584257, 0.011757063, 0.010418596, 0.012381083, 0.010207156, 0.010357886, 0.010215342, 0.010995195, 0.0114360675, 0.01068488, 0.009911, 0.010501706, 0.010697565, 0.010683193, 0.010280609, 0.010137508, 0.010644403, 0.011715306, 0.0108888075, 0.010531444, 0.010227494, 0.010650728, 0.011440943, 0.010831299, 0.010337232, 0.010225582, 0.010058851, 0.010323332, 0.010536578, 0.010703994, 0.01122122, 0.0097142765, 0.010768548, 0.010425855, 0.009935118, 0.010724668, 0.010469327, 0.009979387, 0.010164562, 0.010179462, 0.011474241, 0.010273604, 0.010453716, 0.011174649, 0.01070764, 0.010388413, 0.010409288, 0.010607797, 0.011323787, 0.010118275, 0.010662438, 0.010131706, 0.010717793, 0.011380926, 0.011126674, 0.0101464195, 0.010305096, 0.010682178, 0.009679718, 0.010511161, 0.010441146, 0.010347596, 0.010727824, 0.010275396, 0.010625794, 0.011492807, 0.010040363, 0.010537483, 0.010522113, 0.010334734, 0.011148725, 0.009797588, 0.010071711, 0.010432938, 0.010233628, 0.010006896, 0.010922612, 0.014200478, 0.010558369, 0.011661499, 0.010827486, 0.0100387, 0.010296168, 0.010666604, 0.010302457, 0.010501662, 0.0099738855, 0.010239164, 0.010231049, 0.010449018, 0.010373122, 0.014151141, 0.011304012, 0.010207212, 0.010089886, 0.010095436, 0.009951495, 0.0111573115, 0.010705115, 0.009888303]\n",
      "2022-02-24 11:17:21,090 : INFO : merging changes from 2000 documents into a model of 3204 documents\n",
      "2022-02-24 11:17:21,101 : INFO : topic #58 (0.010): 0.085*\"50\" + 0.059*\"3\" + 0.045*\"351\" + 0.038*\"518\" + 0.036*\"85\" + 0.028*\"0\" + 0.021*\"48\" + 0.020*\"304\" + 0.020*\"341\" + 0.019*\"13\"\n",
      "2022-02-24 11:17:21,101 : INFO : topic #31 (0.010): 0.104*\"3\" + 0.059*\"50\" + 0.057*\"729\" + 0.038*\"67\" + 0.034*\"725\" + 0.032*\"624\" + 0.029*\"454\" + 0.029*\"99\" + 0.026*\"64\" + 0.024*\"73\"\n",
      "2022-02-24 11:17:21,102 : INFO : topic #3 (0.012): 0.141*\"859\" + 0.102*\"844\" + 0.064*\"9\" + 0.039*\"652\" + 0.037*\"56\" + 0.033*\"52\" + 0.032*\"50\" + 0.030*\"517\" + 0.029*\"6\" + 0.026*\"356\"\n",
      "2022-02-24 11:17:21,102 : INFO : topic #77 (0.014): 0.194*\"83\" + 0.169*\"34\" + 0.158*\"611\" + 0.114*\"1015\" + 0.059*\"35\" + 0.036*\"69\" + 0.024*\"404\" + 0.017*\"315\" + 0.016*\"131\" + 0.016*\"73\"\n",
      "2022-02-24 11:17:21,103 : INFO : topic #91 (0.014): 0.310*\"34\" + 0.294*\"35\" + 0.193*\"83\" + 0.029*\"254\" + 0.017*\"1057\" + 0.016*\"219\" + 0.013*\"1093\" + 0.013*\"611\" + 0.011*\"210\" + 0.011*\"24\"\n",
      "2022-02-24 11:17:21,104 : INFO : topic diff=0.604569, rho=0.362690\n",
      "2022-02-24 11:17:21,919 : INFO : -6.612 per-word bound, 97.8 perplexity estimate based on a held-out corpus of 1204 documents with 49783 words\n",
      "2022-02-24 11:17:21,919 : INFO : PROGRESS: pass 5, at document #3204/3204\n",
      "2022-02-24 11:17:22,617 : INFO : optimized alpha [0.010700635, 0.012162579, 0.010582037, 0.012783897, 0.010382106, 0.010479424, 0.01034826, 0.01114764, 0.011679767, 0.01086726, 0.009981632, 0.010703493, 0.010960149, 0.01073795, 0.010437404, 0.010212182, 0.01076982, 0.0119607095, 0.0110019995, 0.010738895, 0.010338914, 0.010862052, 0.011645042, 0.010989102, 0.010376107, 0.010348374, 0.010161416, 0.010465204, 0.010711001, 0.0108021, 0.011339492, 0.009773677, 0.010952761, 0.010637963, 0.010002897, 0.010838717, 0.010615347, 0.010072644, 0.01023305, 0.010324319, 0.011664291, 0.010300329, 0.010590637, 0.011359238, 0.010915172, 0.010549171, 0.010496189, 0.010745496, 0.011617399, 0.01017989, 0.010794877, 0.010235107, 0.010804314, 0.011538929, 0.011320317, 0.010277751, 0.010347297, 0.010862569, 0.009751252, 0.010659435, 0.010563046, 0.010463429, 0.0108801555, 0.010440629, 0.010677488, 0.011751316, 0.010144159, 0.010700403, 0.010656402, 0.01047882, 0.0114198625, 0.009870651, 0.01015412, 0.010548492, 0.010303439, 0.01008957, 0.01111525, 0.014374298, 0.01065354, 0.011968852, 0.010994508, 0.010071325, 0.010412521, 0.010869258, 0.010393014, 0.0106903855, 0.010147872, 0.010348492, 0.01035505, 0.010611169, 0.010521324, 0.014830492, 0.01159391, 0.010329061, 0.010211911, 0.0101413075, 0.009984397, 0.01143316, 0.010871899, 0.0099558]\n",
      "2022-02-24 11:17:22,624 : INFO : merging changes from 1204 documents into a model of 3204 documents\n",
      "2022-02-24 11:17:22,636 : INFO : topic #58 (0.010): 0.089*\"50\" + 0.058*\"3\" + 0.047*\"351\" + 0.038*\"518\" + 0.035*\"85\" + 0.026*\"48\" + 0.025*\"0\" + 0.024*\"733\" + 0.022*\"341\" + 0.021*\"837\"\n",
      "2022-02-24 11:17:22,637 : INFO : topic #31 (0.010): 0.115*\"3\" + 0.066*\"729\" + 0.056*\"50\" + 0.037*\"725\" + 0.036*\"67\" + 0.034*\"624\" + 0.028*\"64\" + 0.027*\"454\" + 0.025*\"73\" + 0.025*\"731\"\n",
      "2022-02-24 11:17:22,637 : INFO : topic #3 (0.013): 0.187*\"859\" + 0.108*\"844\" + 0.045*\"9\" + 0.044*\"652\" + 0.030*\"50\" + 0.029*\"6\" + 0.028*\"56\" + 0.027*\"517\" + 0.026*\"1169\" + 0.026*\"52\"\n",
      "2022-02-24 11:17:22,638 : INFO : topic #77 (0.014): 0.205*\"83\" + 0.163*\"34\" + 0.159*\"611\" + 0.084*\"1015\" + 0.067*\"35\" + 0.035*\"69\" + 0.030*\"404\" + 0.019*\"486\" + 0.018*\"315\" + 0.016*\"73\"\n",
      "2022-02-24 11:17:22,639 : INFO : topic #91 (0.015): 0.323*\"34\" + 0.305*\"35\" + 0.186*\"83\" + 0.023*\"254\" + 0.018*\"1057\" + 0.014*\"611\" + 0.013*\"210\" + 0.012*\"1093\" + 0.011*\"24\" + 0.011*\"219\"\n",
      "2022-02-24 11:17:22,640 : INFO : topic diff=0.628850, rho=0.362690\n",
      "2022-02-24 11:17:22,648 : INFO : PROGRESS: pass 6, at document #2000/3204\n",
      "2022-02-24 11:17:23,433 : INFO : optimized alpha [0.010797935, 0.012321612, 0.0106244795, 0.012876675, 0.010321625, 0.010567884, 0.010345318, 0.011252507, 0.011716547, 0.01090506, 0.009986233, 0.010749269, 0.011066528, 0.010828762, 0.010481264, 0.010232274, 0.010790721, 0.012155011, 0.010993235, 0.010780154, 0.010339278, 0.010924293, 0.011847301, 0.010962497, 0.010480553, 0.0103781335, 0.010163708, 0.010465426, 0.010759284, 0.010841206, 0.011491568, 0.009766519, 0.011007858, 0.010635263, 0.009993611, 0.010978155, 0.010642673, 0.010027155, 0.010233117, 0.01034431, 0.011670704, 0.010399373, 0.010572354, 0.011360145, 0.01086103, 0.010588942, 0.010512417, 0.0107519, 0.011710766, 0.010266198, 0.010839492, 0.010302415, 0.010924218, 0.011725716, 0.011323285, 0.010306195, 0.010449371, 0.010854175, 0.009746313, 0.01061507, 0.010550704, 0.01045081, 0.010953382, 0.010424177, 0.010780242, 0.011788263, 0.01022403, 0.010708375, 0.010758456, 0.010487548, 0.0114474995, 0.009848321, 0.0101187425, 0.010568036, 0.010314404, 0.010103986, 0.01117032, 0.01495641, 0.010741589, 0.011929351, 0.010972961, 0.010106421, 0.010531956, 0.010911355, 0.010429954, 0.010683784, 0.010196688, 0.010331386, 0.010308039, 0.010621991, 0.01049701, 0.015818333, 0.011748991, 0.010317728, 0.010221973, 0.010143714, 0.010019403, 0.011510871, 0.01084682, 0.00996728]\n"
     ]
    },
    {
     "name": "stderr",
     "output_type": "stream",
     "text": [
      "2022-02-24 11:17:23,440 : INFO : merging changes from 2000 documents into a model of 3204 documents\n",
      "2022-02-24 11:17:23,450 : INFO : topic #31 (0.010): 0.118*\"3\" + 0.059*\"50\" + 0.058*\"729\" + 0.039*\"67\" + 0.034*\"725\" + 0.032*\"624\" + 0.030*\"454\" + 0.026*\"64\" + 0.025*\"73\" + 0.022*\"731\"\n",
      "2022-02-24 11:17:23,451 : INFO : topic #58 (0.010): 0.086*\"50\" + 0.063*\"3\" + 0.047*\"351\" + 0.036*\"85\" + 0.036*\"518\" + 0.028*\"0\" + 0.023*\"48\" + 0.022*\"341\" + 0.022*\"304\" + 0.020*\"733\"\n",
      "2022-02-24 11:17:23,451 : INFO : topic #3 (0.013): 0.145*\"859\" + 0.106*\"844\" + 0.065*\"9\" + 0.040*\"652\" + 0.038*\"56\" + 0.033*\"52\" + 0.031*\"6\" + 0.031*\"517\" + 0.030*\"50\" + 0.030*\"356\"\n",
      "2022-02-24 11:17:23,451 : INFO : topic #77 (0.015): 0.197*\"83\" + 0.166*\"611\" + 0.166*\"34\" + 0.118*\"1015\" + 0.049*\"35\" + 0.036*\"69\" + 0.024*\"404\" + 0.018*\"315\" + 0.016*\"131\" + 0.016*\"486\"\n",
      "2022-02-24 11:17:23,452 : INFO : topic #91 (0.016): 0.328*\"34\" + 0.312*\"35\" + 0.194*\"83\" + 0.023*\"254\" + 0.015*\"1057\" + 0.011*\"24\" + 0.011*\"1093\" + 0.010*\"219\" + 0.010*\"611\" + 0.010*\"36\"\n",
      "2022-02-24 11:17:23,453 : INFO : topic diff=0.555545, rho=0.340958\n",
      "2022-02-24 11:17:24,284 : INFO : -6.586 per-word bound, 96.1 perplexity estimate based on a held-out corpus of 1204 documents with 49783 words\n",
      "2022-02-24 11:17:24,285 : INFO : PROGRESS: pass 6, at document #3204/3204\n",
      "2022-02-24 11:17:25,012 : INFO : optimized alpha [0.010895646, 0.012760329, 0.010798071, 0.013268002, 0.010499402, 0.010691971, 0.01048314, 0.011390316, 0.011962164, 0.011097574, 0.010067639, 0.010953568, 0.011362806, 0.010898603, 0.010638998, 0.01030301, 0.010915681, 0.012382401, 0.011113194, 0.010989931, 0.010453763, 0.011128796, 0.012044796, 0.011127683, 0.010519846, 0.01049754, 0.01026672, 0.010611828, 0.010946499, 0.010933874, 0.011592965, 0.009828508, 0.011182813, 0.010855324, 0.010066609, 0.011095043, 0.010772005, 0.010115571, 0.010300991, 0.010493439, 0.011854576, 0.010427366, 0.0107082, 0.011571508, 0.011054899, 0.010750424, 0.01060378, 0.010891631, 0.012018807, 0.010330109, 0.010968042, 0.010409128, 0.011005547, 0.011855141, 0.01149732, 0.010436676, 0.0104918, 0.0110285105, 0.009811489, 0.010761844, 0.01067821, 0.010569617, 0.011103908, 0.010587105, 0.010841048, 0.012041801, 0.010330847, 0.010872212, 0.010894903, 0.010618146, 0.011712895, 0.009920426, 0.010197184, 0.010689701, 0.010386593, 0.01019974, 0.0113597615, 0.015150754, 0.01083442, 0.012219202, 0.011137568, 0.010125803, 0.010647943, 0.011116604, 0.010515648, 0.0108875055, 0.010394148, 0.010446885, 0.010425639, 0.010784982, 0.010640559, 0.016664417, 0.012047759, 0.010441959, 0.010343388, 0.010181688, 0.010062173, 0.01177475, 0.011023573, 0.010051342]\n",
      "2022-02-24 11:17:25,019 : INFO : merging changes from 1204 documents into a model of 3204 documents\n",
      "2022-02-24 11:17:25,030 : INFO : topic #31 (0.010): 0.123*\"3\" + 0.068*\"729\" + 0.056*\"50\" + 0.040*\"67\" + 0.038*\"725\" + 0.035*\"624\" + 0.028*\"64\" + 0.028*\"454\" + 0.026*\"216\" + 0.026*\"731\"\n",
      "2022-02-24 11:17:25,030 : INFO : topic #58 (0.010): 0.089*\"50\" + 0.057*\"3\" + 0.047*\"351\" + 0.036*\"518\" + 0.035*\"85\" + 0.028*\"733\" + 0.028*\"48\" + 0.025*\"0\" + 0.025*\"341\" + 0.024*\"837\"\n",
      "2022-02-24 11:17:25,031 : INFO : topic #3 (0.013): 0.188*\"859\" + 0.112*\"844\" + 0.047*\"9\" + 0.045*\"652\" + 0.031*\"6\" + 0.029*\"56\" + 0.029*\"50\" + 0.028*\"517\" + 0.027*\"1169\" + 0.026*\"52\"\n",
      "2022-02-24 11:17:25,031 : INFO : topic #77 (0.015): 0.206*\"83\" + 0.169*\"611\" + 0.159*\"34\" + 0.089*\"1015\" + 0.056*\"35\" + 0.035*\"69\" + 0.030*\"404\" + 0.020*\"486\" + 0.018*\"315\" + 0.016*\"73\"\n",
      "2022-02-24 11:17:25,032 : INFO : topic #91 (0.017): 0.339*\"34\" + 0.322*\"35\" + 0.186*\"83\" + 0.018*\"254\" + 0.016*\"1057\" + 0.011*\"24\" + 0.010*\"1093\" + 0.010*\"611\" + 0.009*\"210\" + 0.009*\"36\"\n",
      "2022-02-24 11:17:25,033 : INFO : topic diff=0.562119, rho=0.340958\n",
      "2022-02-24 11:17:25,040 : INFO : PROGRESS: pass 7, at document #2000/3204\n",
      "2022-02-24 11:17:25,808 : INFO : optimized alpha [0.010988695, 0.01293148, 0.010848616, 0.013361413, 0.010443148, 0.010783371, 0.010483479, 0.011499341, 0.012001854, 0.011140219, 0.010072242, 0.010996571, 0.011503115, 0.010988793, 0.010689033, 0.010327402, 0.010938953, 0.012571397, 0.011104823, 0.011028443, 0.010453999, 0.011187588, 0.012237648, 0.011100079, 0.010624846, 0.010527474, 0.01028398, 0.0106255775, 0.010999038, 0.0109765325, 0.0117406305, 0.009828478, 0.011240341, 0.010856884, 0.010059875, 0.011244934, 0.010804803, 0.010074539, 0.010308069, 0.010513747, 0.011867857, 0.010517002, 0.010702833, 0.011584712, 0.011008147, 0.010787796, 0.01062276, 0.010892052, 0.012108997, 0.010415948, 0.011019247, 0.010476777, 0.011121899, 0.012011528, 0.011495745, 0.010470348, 0.0105944825, 0.011027077, 0.009808798, 0.010728306, 0.0106767835, 0.0105713615, 0.011178922, 0.01057433, 0.010960429, 0.012091553, 0.010410409, 0.01088635, 0.010992413, 0.0106296735, 0.011741695, 0.009904499, 0.010162412, 0.010729078, 0.010400678, 0.010228456, 0.011417109, 0.015743224, 0.01093101, 0.012183481, 0.011114755, 0.0101579195, 0.010770968, 0.011159649, 0.0105560785, 0.01088554, 0.010451898, 0.010433999, 0.010384504, 0.0108105065, 0.010617193, 0.017798714, 0.012229955, 0.010439574, 0.010352723, 0.010191242, 0.010099057, 0.011867149, 0.011009933, 0.010077138]\n",
      "2022-02-24 11:17:25,815 : INFO : merging changes from 2000 documents into a model of 3204 documents\n",
      "2022-02-24 11:17:25,827 : INFO : topic #58 (0.010): 0.086*\"50\" + 0.062*\"3\" + 0.048*\"351\" + 0.036*\"518\" + 0.036*\"85\" + 0.028*\"0\" + 0.025*\"48\" + 0.025*\"341\" + 0.024*\"304\" + 0.023*\"733\"\n",
      "2022-02-24 11:17:25,827 : INFO : topic #31 (0.010): 0.122*\"3\" + 0.060*\"729\" + 0.059*\"50\" + 0.043*\"67\" + 0.037*\"725\" + 0.033*\"624\" + 0.029*\"454\" + 0.026*\"64\" + 0.024*\"216\" + 0.024*\"73\"\n",
      "2022-02-24 11:17:25,828 : INFO : topic #3 (0.013): 0.148*\"859\" + 0.110*\"844\" + 0.066*\"9\" + 0.040*\"652\" + 0.038*\"56\" + 0.033*\"356\" + 0.033*\"6\" + 0.033*\"52\" + 0.032*\"517\" + 0.029*\"50\"\n",
      "2022-02-24 11:17:25,829 : INFO : topic #77 (0.016): 0.200*\"83\" + 0.174*\"611\" + 0.163*\"34\" + 0.122*\"1015\" + 0.042*\"35\" + 0.036*\"69\" + 0.025*\"404\" + 0.018*\"315\" + 0.016*\"486\" + 0.016*\"131\"\n",
      "2022-02-24 11:17:25,829 : INFO : topic #91 (0.018): 0.341*\"34\" + 0.326*\"35\" + 0.193*\"83\" + 0.018*\"254\" + 0.014*\"1057\" + 0.011*\"24\" + 0.009*\"36\" + 0.009*\"1093\" + 0.007*\"611\" + 0.007*\"1054\"\n",
      "2022-02-24 11:17:25,830 : INFO : topic diff=0.492046, rho=0.322715\n",
      "2022-02-24 11:17:26,660 : INFO : -6.562 per-word bound, 94.5 perplexity estimate based on a held-out corpus of 1204 documents with 49783 words\n",
      "2022-02-24 11:17:26,661 : INFO : PROGRESS: pass 7, at document #3204/3204\n",
      "2022-02-24 11:17:27,381 : INFO : optimized alpha [0.011087419, 0.013384747, 0.011029634, 0.013732774, 0.010615848, 0.010910491, 0.010623628, 0.01165804, 0.0122376885, 0.011339913, 0.010160884, 0.011183686, 0.011815416, 0.011066982, 0.010848477, 0.010397654, 0.011058074, 0.012789316, 0.011231537, 0.01124156, 0.010563336, 0.011401615, 0.0124232825, 0.011260877, 0.010659018, 0.010644349, 0.010390596, 0.010777248, 0.011181302, 0.011061679, 0.011839769, 0.009887792, 0.011405008, 0.011091142, 0.010132427, 0.011352964, 0.010928195, 0.010153415, 0.010381064, 0.010656299, 0.01204044, 0.010551971, 0.010826638, 0.011799571, 0.011196312, 0.01094791, 0.010709937, 0.011019387, 0.012429138, 0.010476598, 0.011138874, 0.010584259, 0.011198801, 0.01213437, 0.0116619645, 0.010600681, 0.010640284, 0.011193801, 0.009892382, 0.010880098, 0.010812935, 0.010681948, 0.01132558, 0.010753019, 0.011023742, 0.012357938, 0.010520507, 0.011045765, 0.0111315735, 0.010760087, 0.012044352, 0.009973453, 0.010240271, 0.010853954, 0.010472476, 0.010330913, 0.011598297, 0.015929017, 0.011027931, 0.012464644, 0.011274969, 0.010179465, 0.010881411, 0.011362509, 0.010632026, 0.011101198, 0.010672346, 0.010549874, 0.010496839, 0.010975043, 0.0107542835, 0.018791407, 0.0125656715, 0.01056089, 0.010468578, 0.010225132, 0.010140011, 0.012127685, 0.01117296, 0.010160148]\n",
      "2022-02-24 11:17:27,388 : INFO : merging changes from 1204 documents into a model of 3204 documents\n",
      "2022-02-24 11:17:27,398 : INFO : topic #31 (0.010): 0.126*\"3\" + 0.069*\"729\" + 0.057*\"50\" + 0.043*\"67\" + 0.040*\"725\" + 0.036*\"624\" + 0.028*\"216\" + 0.028*\"64\" + 0.027*\"454\" + 0.026*\"731\"\n",
      "2022-02-24 11:17:27,399 : INFO : topic #58 (0.010): 0.089*\"50\" + 0.057*\"3\" + 0.046*\"351\" + 0.036*\"518\" + 0.034*\"85\" + 0.033*\"733\" + 0.029*\"48\" + 0.026*\"341\" + 0.026*\"837\" + 0.026*\"0\"\n"
     ]
    },
    {
     "name": "stderr",
     "output_type": "stream",
     "text": [
      "2022-02-24 11:17:27,399 : INFO : topic #3 (0.014): 0.189*\"859\" + 0.116*\"844\" + 0.049*\"9\" + 0.045*\"652\" + 0.033*\"6\" + 0.030*\"56\" + 0.029*\"517\" + 0.027*\"1169\" + 0.027*\"50\" + 0.027*\"356\"\n",
      "2022-02-24 11:17:27,400 : INFO : topic #77 (0.016): 0.208*\"83\" + 0.178*\"611\" + 0.157*\"34\" + 0.094*\"1015\" + 0.048*\"35\" + 0.034*\"69\" + 0.029*\"404\" + 0.020*\"486\" + 0.018*\"315\" + 0.017*\"872\"\n",
      "2022-02-24 11:17:27,400 : INFO : topic #91 (0.019): 0.352*\"34\" + 0.335*\"35\" + 0.185*\"83\" + 0.015*\"254\" + 0.014*\"1057\" + 0.011*\"24\" + 0.009*\"1093\" + 0.009*\"36\" + 0.008*\"611\" + 0.008*\"1054\"\n",
      "2022-02-24 11:17:27,402 : INFO : topic diff=0.493194, rho=0.322715\n",
      "2022-02-24 11:17:27,409 : INFO : PROGRESS: pass 8, at document #2000/3204\n",
      "2022-02-24 11:17:28,186 : INFO : optimized alpha [0.011178358, 0.013568784, 0.011087909, 0.013820884, 0.010563292, 0.0110083595, 0.010626973, 0.011758993, 0.012286118, 0.011392565, 0.010166958, 0.011236281, 0.011978236, 0.011155293, 0.010901063, 0.010424425, 0.011080275, 0.012975849, 0.011221757, 0.0112828845, 0.010561942, 0.011460814, 0.012609738, 0.011235868, 0.010761628, 0.010677859, 0.010413555, 0.010810176, 0.011231066, 0.011119926, 0.011991023, 0.009885159, 0.011458182, 0.011096569, 0.010129469, 0.011504548, 0.010959479, 0.010116388, 0.010388087, 0.010675386, 0.012048897, 0.01064621, 0.010824762, 0.01182606, 0.011149209, 0.010983292, 0.010728212, 0.011019623, 0.012516766, 0.010562303, 0.011194771, 0.010662112, 0.011307193, 0.012283106, 0.011656365, 0.010637688, 0.01074228, 0.0111954585, 0.00989455, 0.010861309, 0.010808007, 0.010685382, 0.0114008095, 0.010738469, 0.011147053, 0.0124199055, 0.010604863, 0.011063909, 0.011227066, 0.010774186, 0.012081594, 0.009961678, 0.01021237, 0.010899965, 0.010497626, 0.010369595, 0.011654487, 0.016499167, 0.011122408, 0.01242675, 0.011257987, 0.010210546, 0.011003252, 0.011415434, 0.010680756, 0.011106851, 0.010725474, 0.010535893, 0.010462722, 0.011002494, 0.0107317185, 0.02006306, 0.012771464, 0.0105650285, 0.010477341, 0.010234834, 0.010172517, 0.012215932, 0.01115951, 0.010191274]\n",
      "2022-02-24 11:17:28,193 : INFO : merging changes from 2000 documents into a model of 3204 documents\n",
      "2022-02-24 11:17:28,203 : INFO : topic #31 (0.010): 0.127*\"3\" + 0.062*\"729\" + 0.060*\"50\" + 0.046*\"67\" + 0.039*\"725\" + 0.034*\"624\" + 0.029*\"454\" + 0.026*\"216\" + 0.024*\"64\" + 0.024*\"731\"\n",
      "2022-02-24 11:17:28,204 : INFO : topic #58 (0.010): 0.087*\"50\" + 0.062*\"3\" + 0.048*\"351\" + 0.035*\"518\" + 0.034*\"85\" + 0.028*\"0\" + 0.027*\"733\" + 0.027*\"341\" + 0.026*\"304\" + 0.026*\"48\"\n",
      "2022-02-24 11:17:28,204 : INFO : topic #3 (0.014): 0.150*\"859\" + 0.113*\"844\" + 0.067*\"9\" + 0.041*\"652\" + 0.039*\"56\" + 0.036*\"356\" + 0.035*\"6\" + 0.033*\"517\" + 0.033*\"52\" + 0.028*\"50\"\n",
      "2022-02-24 11:17:28,205 : INFO : topic #77 (0.016): 0.201*\"83\" + 0.180*\"611\" + 0.162*\"34\" + 0.125*\"1015\" + 0.035*\"35\" + 0.035*\"69\" + 0.024*\"404\" + 0.017*\"315\" + 0.017*\"486\" + 0.016*\"131\"\n",
      "2022-02-24 11:17:28,206 : INFO : topic #91 (0.020): 0.351*\"34\" + 0.337*\"35\" + 0.192*\"83\" + 0.015*\"254\" + 0.013*\"1057\" + 0.010*\"24\" + 0.009*\"36\" + 0.008*\"1093\" + 0.007*\"1054\" + 0.007*\"386\"\n",
      "2022-02-24 11:17:28,206 : INFO : topic diff=0.430738, rho=0.307119\n",
      "2022-02-24 11:17:29,044 : INFO : -6.543 per-word bound, 93.3 perplexity estimate based on a held-out corpus of 1204 documents with 49783 words\n",
      "2022-02-24 11:17:29,044 : INFO : PROGRESS: pass 8, at document #3204/3204\n",
      "2022-02-24 11:17:29,772 : INFO : optimized alpha [0.011275654, 0.014045554, 0.011273818, 0.014191848, 0.010745395, 0.011141801, 0.010772467, 0.011917197, 0.012519837, 0.011582176, 0.010265251, 0.011422208, 0.012307788, 0.011224283, 0.011059943, 0.010502577, 0.011191687, 0.013202218, 0.011349239, 0.011482663, 0.010664234, 0.011676108, 0.012791279, 0.01138442, 0.010791197, 0.010792781, 0.010526574, 0.010964469, 0.011409388, 0.011201396, 0.012085426, 0.009939698, 0.011616552, 0.011328374, 0.010196592, 0.011613601, 0.011080646, 0.01019474, 0.010455508, 0.0108068995, 0.012220881, 0.010679411, 0.0109407725, 0.012042416, 0.011330064, 0.011148365, 0.010814593, 0.011141813, 0.012814916, 0.010620186, 0.01131227, 0.010789804, 0.0113746505, 0.0124098705, 0.0118099125, 0.010784754, 0.010783, 0.011364323, 0.009990159, 0.011012703, 0.010938864, 0.010794295, 0.011544517, 0.010924371, 0.011215714, 0.012690437, 0.010715793, 0.011219863, 0.011366483, 0.010902172, 0.012402945, 0.010035581, 0.010295095, 0.011025438, 0.010582834, 0.010473173, 0.011822635, 0.016706973, 0.01121218, 0.012700928, 0.01140007, 0.010234157, 0.011120165, 0.011610971, 0.010742571, 0.011309102, 0.010957763, 0.010641639, 0.010565111, 0.011169203, 0.010855147, 0.02120059, 0.013145253, 0.01069237, 0.0105964495, 0.01027303, 0.010224977, 0.012468025, 0.011324719, 0.01028136]\n",
      "2022-02-24 11:17:29,779 : INFO : merging changes from 1204 documents into a model of 3204 documents\n",
      "2022-02-24 11:17:29,789 : INFO : topic #31 (0.010): 0.131*\"3\" + 0.070*\"729\" + 0.057*\"50\" + 0.047*\"67\" + 0.041*\"725\" + 0.036*\"624\" + 0.029*\"216\" + 0.027*\"454\" + 0.027*\"731\" + 0.027*\"64\"\n",
      "2022-02-24 11:17:29,790 : INFO : topic #58 (0.010): 0.089*\"50\" + 0.056*\"3\" + 0.046*\"351\" + 0.036*\"733\" + 0.034*\"518\" + 0.032*\"85\" + 0.030*\"48\" + 0.028*\"341\" + 0.027*\"837\" + 0.026*\"0\"\n",
      "2022-02-24 11:17:29,790 : INFO : topic #3 (0.014): 0.190*\"859\" + 0.118*\"844\" + 0.051*\"9\" + 0.045*\"652\" + 0.035*\"6\" + 0.030*\"517\" + 0.030*\"56\" + 0.030*\"356\" + 0.028*\"1169\" + 0.027*\"52\"\n",
      "2022-02-24 11:17:29,791 : INFO : topic #77 (0.017): 0.208*\"83\" + 0.185*\"611\" + 0.156*\"34\" + 0.098*\"1015\" + 0.041*\"35\" + 0.034*\"69\" + 0.029*\"404\" + 0.022*\"486\" + 0.018*\"315\" + 0.017*\"872\"\n",
      "2022-02-24 11:17:29,791 : INFO : topic #91 (0.021): 0.361*\"34\" + 0.344*\"35\" + 0.183*\"83\" + 0.013*\"1057\" + 0.013*\"254\" + 0.010*\"24\" + 0.009*\"1093\" + 0.009*\"36\" + 0.007*\"1054\" + 0.006*\"386\"\n",
      "2022-02-24 11:17:29,792 : INFO : topic diff=0.432413, rho=0.307119\n",
      "2022-02-24 11:17:29,801 : INFO : PROGRESS: pass 9, at document #2000/3204\n",
      "2022-02-24 11:17:30,567 : INFO : optimized alpha [0.011370027, 0.01423474, 0.01134291, 0.014283578, 0.010699063, 0.011252742, 0.010783263, 0.012028355, 0.012574869, 0.01163928, 0.010275589, 0.011475754, 0.012499031, 0.011311184, 0.011115165, 0.010528421, 0.0112113515, 0.013377476, 0.011339792, 0.011526891, 0.010662978, 0.011734212, 0.012974131, 0.011355036, 0.010890264, 0.010831327, 0.010557843, 0.010997598, 0.011458507, 0.011259263, 0.012230052, 0.009936134, 0.011670817, 0.011334182, 0.010194105, 0.01176567, 0.0111105675, 0.01015968, 0.010464076, 0.010823483, 0.012237651, 0.010768826, 0.010934047, 0.012076089, 0.011289437, 0.011183573, 0.010835467, 0.011143611, 0.012909714, 0.010706063, 0.011369384, 0.01087123, 0.011477651, 0.012549924, 0.01180425, 0.010832795, 0.010881526, 0.011368769, 0.010002667, 0.011004089, 0.0109371655, 0.010795994, 0.011623596, 0.010917814, 0.011333273, 0.012756738, 0.010798762, 0.011240197, 0.011466958, 0.010922034, 0.012461114, 0.01003055, 0.010273347, 0.011081125, 0.010611756, 0.01052434, 0.011872841, 0.017278278, 0.011306677, 0.012662833, 0.011380216, 0.010259833, 0.011246225, 0.011663107, 0.010792741, 0.011317122, 0.011011511, 0.010625219, 0.010534145, 0.011198519, 0.010835141, 0.022570152, 0.013369728, 0.010696204, 0.010606252, 0.0102797765, 0.010259434, 0.0125562595, 0.011307983, 0.010312874]\n",
      "2022-02-24 11:17:30,573 : INFO : merging changes from 2000 documents into a model of 3204 documents\n",
      "2022-02-24 11:17:30,584 : INFO : topic #58 (0.010): 0.086*\"50\" + 0.060*\"3\" + 0.048*\"351\" + 0.034*\"518\" + 0.033*\"85\" + 0.030*\"733\" + 0.029*\"341\" + 0.029*\"304\" + 0.028*\"0\" + 0.027*\"48\"\n",
      "2022-02-24 11:17:30,585 : INFO : topic #31 (0.010): 0.131*\"3\" + 0.063*\"729\" + 0.061*\"50\" + 0.050*\"67\" + 0.040*\"725\" + 0.034*\"624\" + 0.029*\"454\" + 0.027*\"216\" + 0.024*\"731\" + 0.023*\"64\"\n",
      "2022-02-24 11:17:30,585 : INFO : topic #3 (0.014): 0.152*\"859\" + 0.115*\"844\" + 0.068*\"9\" + 0.041*\"652\" + 0.039*\"56\" + 0.039*\"356\" + 0.036*\"6\" + 0.033*\"517\" + 0.033*\"52\" + 0.028*\"254\"\n",
      "2022-02-24 11:17:30,586 : INFO : topic #77 (0.017): 0.203*\"83\" + 0.186*\"611\" + 0.162*\"34\" + 0.126*\"1015\" + 0.034*\"69\" + 0.030*\"35\" + 0.024*\"404\" + 0.018*\"486\" + 0.017*\"315\" + 0.016*\"131\"\n",
      "2022-02-24 11:17:30,587 : INFO : topic #91 (0.023): 0.360*\"34\" + 0.346*\"35\" + 0.190*\"83\" + 0.013*\"254\" + 0.012*\"1057\" + 0.010*\"24\" + 0.009*\"36\" + 0.008*\"1093\" + 0.007*\"386\" + 0.006*\"1054\"\n"
     ]
    },
    {
     "name": "stderr",
     "output_type": "stream",
     "text": [
      "2022-02-24 11:17:30,588 : INFO : topic diff=0.376810, rho=0.293585\n",
      "2022-02-24 11:17:31,403 : INFO : -6.528 per-word bound, 92.3 perplexity estimate based on a held-out corpus of 1204 documents with 49783 words\n",
      "2022-02-24 11:17:31,403 : INFO : PROGRESS: pass 9, at document #3204/3204\n",
      "2022-02-24 11:17:32,106 : INFO : optimized alpha [0.01145785, 0.014712378, 0.011539788, 0.014645018, 0.010877592, 0.011406311, 0.0109289335, 0.012192648, 0.012813635, 0.011828677, 0.010370348, 0.011652856, 0.012850348, 0.011382878, 0.011271384, 0.010614077, 0.011315802, 0.01359648, 0.011468503, 0.011726014, 0.010777342, 0.011934059, 0.013152416, 0.011492742, 0.01091311, 0.0109528145, 0.010682335, 0.011149269, 0.01163926, 0.011343199, 0.012317359, 0.010006039, 0.011829415, 0.011569963, 0.010268956, 0.011870192, 0.011230106, 0.01023782, 0.010526549, 0.010955613, 0.012409756, 0.010800537, 0.011043179, 0.012309462, 0.011464035, 0.011345844, 0.010929365, 0.011264043, 0.0132062705, 0.010764197, 0.011488192, 0.0109969275, 0.01154778, 0.012671689, 0.011955262, 0.0109802075, 0.010928346, 0.01153461, 0.0101047205, 0.011161047, 0.011068607, 0.01090903, 0.011773558, 0.011103112, 0.011404434, 0.013028997, 0.010913392, 0.01139055, 0.011607097, 0.011045331, 0.01280219, 0.010104283, 0.010358288, 0.011215704, 0.010709418, 0.010632002, 0.012037926, 0.017496293, 0.011395694, 0.012934469, 0.01151989, 0.010282903, 0.011353291, 0.011846635, 0.010854812, 0.011518373, 0.011229258, 0.010732519, 0.010638071, 0.01135692, 0.010962207, 0.023851525, 0.013773926, 0.0108189965, 0.01072622, 0.010319461, 0.01032258, 0.012810268, 0.011472943, 0.010399773]\n",
      "2022-02-24 11:17:32,113 : INFO : merging changes from 1204 documents into a model of 3204 documents\n",
      "2022-02-24 11:17:32,124 : INFO : topic #31 (0.010): 0.134*\"3\" + 0.070*\"729\" + 0.058*\"50\" + 0.051*\"67\" + 0.042*\"725\" + 0.036*\"624\" + 0.031*\"216\" + 0.027*\"454\" + 0.026*\"731\" + 0.025*\"64\"\n",
      "2022-02-24 11:17:32,124 : INFO : topic #71 (0.010): 0.152*\"478\" + 0.112*\"1103\" + 0.090*\"159\" + 0.077*\"34\" + 0.046*\"0\" + 0.046*\"1156\" + 0.041*\"83\" + 0.030*\"1159\" + 0.030*\"380\" + 0.029*\"35\"\n",
      "2022-02-24 11:17:32,125 : INFO : topic #1 (0.015): 0.284*\"29\" + 0.069*\"30\" + 0.057*\"13\" + 0.049*\"345\" + 0.044*\"352\" + 0.036*\"6\" + 0.032*\"354\" + 0.029*\"172\" + 0.026*\"50\" + 0.024*\"146\"\n",
      "2022-02-24 11:17:32,125 : INFO : topic #77 (0.017): 0.209*\"83\" + 0.191*\"611\" + 0.155*\"34\" + 0.100*\"1015\" + 0.035*\"35\" + 0.033*\"69\" + 0.029*\"404\" + 0.023*\"486\" + 0.018*\"315\" + 0.017*\"872\"\n",
      "2022-02-24 11:17:32,126 : INFO : topic #91 (0.024): 0.370*\"34\" + 0.353*\"35\" + 0.180*\"83\" + 0.013*\"1057\" + 0.011*\"254\" + 0.009*\"24\" + 0.008*\"36\" + 0.008*\"1093\" + 0.007*\"1054\" + 0.006*\"386\"\n",
      "2022-02-24 11:17:32,127 : INFO : topic diff=0.380287, rho=0.293585\n",
      "2022-02-24 11:17:32,134 : INFO : PROGRESS: pass 10, at document #2000/3204\n",
      "2022-02-24 11:17:32,868 : INFO : optimized alpha [0.011546041, 0.014900977, 0.0116129005, 0.014730324, 0.010840071, 0.011518931, 0.010940628, 0.012315864, 0.0128642805, 0.011883626, 0.010383357, 0.011710793, 0.013056237, 0.0114685865, 0.011329261, 0.010643597, 0.0113347005, 0.013766899, 0.011464237, 0.011771511, 0.010777596, 0.011988023, 0.01333031, 0.011467651, 0.011007581, 0.010996237, 0.010716925, 0.011190479, 0.011684567, 0.01140727, 0.0124594, 0.01000999, 0.011888341, 0.011577747, 0.010268291, 0.012021418, 0.011263663, 0.010207419, 0.010536585, 0.010969847, 0.012425578, 0.010890277, 0.011038347, 0.012335919, 0.011422763, 0.011381079, 0.010957359, 0.011265638, 0.013297253, 0.010851955, 0.0115433335, 0.011080421, 0.011652404, 0.012809372, 0.011952885, 0.011028026, 0.011030013, 0.011541779, 0.010115339, 0.011160275, 0.011073144, 0.010915299, 0.011851592, 0.011092986, 0.011520077, 0.013109004, 0.010995267, 0.0114131, 0.011702781, 0.011064293, 0.01286809, 0.010096848, 0.010342044, 0.01128225, 0.010752512, 0.010682905, 0.012084333, 0.018062688, 0.011488852, 0.012898018, 0.011503843, 0.010308079, 0.011478898, 0.011903342, 0.010904965, 0.011533556, 0.011272818, 0.010713686, 0.010620696, 0.011384924, 0.010947607, 0.025338886, 0.014013881, 0.010825602, 0.010737073, 0.010329408, 0.0103604095, 0.012906026, 0.01145803, 0.0104406]\n",
      "2022-02-24 11:17:32,875 : INFO : merging changes from 2000 documents into a model of 3204 documents\n",
      "2022-02-24 11:17:32,885 : INFO : topic #31 (0.010): 0.135*\"3\" + 0.063*\"729\" + 0.062*\"50\" + 0.053*\"67\" + 0.041*\"725\" + 0.035*\"624\" + 0.029*\"216\" + 0.029*\"454\" + 0.024*\"731\" + 0.022*\"64\"\n",
      "2022-02-24 11:17:32,886 : INFO : topic #58 (0.010): 0.086*\"50\" + 0.059*\"3\" + 0.048*\"351\" + 0.033*\"733\" + 0.032*\"518\" + 0.032*\"341\" + 0.030*\"304\" + 0.029*\"85\" + 0.028*\"48\" + 0.028*\"0\"\n",
      "2022-02-24 11:17:32,886 : INFO : topic #1 (0.015): 0.281*\"29\" + 0.069*\"30\" + 0.057*\"13\" + 0.049*\"345\" + 0.044*\"352\" + 0.038*\"6\" + 0.036*\"354\" + 0.026*\"50\" + 0.026*\"172\" + 0.022*\"0\"\n",
      "2022-02-24 11:17:32,887 : INFO : topic #77 (0.018): 0.204*\"83\" + 0.190*\"611\" + 0.162*\"34\" + 0.127*\"1015\" + 0.033*\"69\" + 0.025*\"35\" + 0.025*\"404\" + 0.019*\"486\" + 0.017*\"315\" + 0.016*\"131\"\n",
      "2022-02-24 11:17:32,887 : INFO : topic #91 (0.025): 0.367*\"34\" + 0.353*\"35\" + 0.186*\"83\" + 0.012*\"1057\" + 0.012*\"254\" + 0.009*\"24\" + 0.008*\"36\" + 0.007*\"1093\" + 0.007*\"386\" + 0.006*\"1054\"\n",
      "2022-02-24 11:17:32,888 : INFO : topic diff=0.331522, rho=0.281696\n",
      "2022-02-24 11:17:33,686 : INFO : -6.514 per-word bound, 91.4 perplexity estimate based on a held-out corpus of 1204 documents with 49783 words\n",
      "2022-02-24 11:17:33,686 : INFO : PROGRESS: pass 10, at document #3204/3204\n",
      "2022-02-24 11:17:34,352 : INFO : optimized alpha [0.011641505, 0.01540156, 0.011809893, 0.015086659, 0.0110208085, 0.011684287, 0.011084337, 0.01248365, 0.013108671, 0.012059091, 0.010494759, 0.011879915, 0.013415347, 0.01154849, 0.011480822, 0.010726469, 0.011427672, 0.013982749, 0.011586038, 0.011970495, 0.010893343, 0.012193488, 0.013502846, 0.011603602, 0.011032074, 0.011116484, 0.010860069, 0.01134823, 0.011865313, 0.011490992, 0.012543233, 0.010091859, 0.012039348, 0.011812695, 0.0103528965, 0.012116366, 0.011389919, 0.010299955, 0.010594653, 0.011095195, 0.012595442, 0.010920701, 0.0111516975, 0.012562988, 0.011594616, 0.011543715, 0.011043002, 0.011384747, 0.013593045, 0.010910469, 0.01165825, 0.011202207, 0.011719792, 0.0129386755, 0.012101981, 0.0111736255, 0.01108005, 0.011707908, 0.01022127, 0.011314782, 0.011192554, 0.011022249, 0.011996857, 0.011270256, 0.011585673, 0.013383838, 0.011106162, 0.011553391, 0.01184677, 0.011178315, 0.01322064, 0.010170556, 0.010424225, 0.011415325, 0.0108596645, 0.01079207, 0.012238574, 0.018287113, 0.0115746595, 0.0131619675, 0.011639043, 0.010335603, 0.011590287, 0.012087042, 0.0109701175, 0.011734511, 0.011476916, 0.010817531, 0.01071367, 0.011538418, 0.011073255, 0.026794337, 0.01444019, 0.010949494, 0.010855665, 0.010370596, 0.010423939, 0.01315971, 0.011617831, 0.010532055]\n",
      "2022-02-24 11:17:34,359 : INFO : merging changes from 1204 documents into a model of 3204 documents\n",
      "2022-02-24 11:17:34,370 : INFO : topic #31 (0.010): 0.136*\"3\" + 0.069*\"729\" + 0.059*\"50\" + 0.052*\"67\" + 0.042*\"725\" + 0.040*\"624\" + 0.031*\"216\" + 0.026*\"454\" + 0.026*\"731\" + 0.024*\"64\"\n",
      "2022-02-24 11:17:34,370 : INFO : topic #58 (0.010): 0.088*\"50\" + 0.054*\"3\" + 0.045*\"351\" + 0.040*\"733\" + 0.033*\"341\" + 0.031*\"48\" + 0.031*\"518\" + 0.028*\"837\" + 0.027*\"85\" + 0.027*\"304\"\n",
      "2022-02-24 11:17:34,371 : INFO : topic #1 (0.015): 0.295*\"29\" + 0.070*\"30\" + 0.053*\"13\" + 0.050*\"345\" + 0.042*\"352\" + 0.036*\"6\" + 0.032*\"354\" + 0.028*\"172\" + 0.026*\"50\" + 0.021*\"146\"\n",
      "2022-02-24 11:17:34,372 : INFO : topic #77 (0.018): 0.211*\"83\" + 0.196*\"611\" + 0.155*\"34\" + 0.102*\"1015\" + 0.031*\"69\" + 0.029*\"35\" + 0.028*\"404\" + 0.024*\"486\" + 0.017*\"315\" + 0.017*\"872\"\n",
      "2022-02-24 11:17:34,372 : INFO : topic #91 (0.027): 0.376*\"34\" + 0.359*\"35\" + 0.177*\"83\" + 0.012*\"1057\" + 0.010*\"254\" + 0.009*\"24\" + 0.008*\"36\" + 0.008*\"1093\" + 0.007*\"1054\" + 0.006*\"386\"\n",
      "2022-02-24 11:17:34,373 : INFO : topic diff=0.336514, rho=0.281696\n",
      "2022-02-24 11:17:34,381 : INFO : PROGRESS: pass 11, at document #2000/3204\n",
      "2022-02-24 11:17:35,084 : INFO : optimized alpha [0.011728843, 0.015610856, 0.011887107, 0.015172087, 0.010977923, 0.011798745, 0.011098446, 0.0126169985, 0.013162379, 0.012121965, 0.010511584, 0.011940703, 0.013636324, 0.011636497, 0.011538358, 0.010755194, 0.011446036, 0.014150779, 0.011583551, 0.0120222205, 0.010897991, 0.012248556, 0.013674657, 0.011587192, 0.011125472, 0.011158457, 0.010900771, 0.011386437, 0.011910396, 0.011562639, 0.012681548, 0.010094474, 0.012102929, 0.011822448, 0.0103581045, 0.012270502, 0.011427017, 0.010270829, 0.010603291, 0.011110352, 0.012610421, 0.011003538, 0.01114705, 0.012596446, 0.011559079, 0.011575948, 0.011076238, 0.011387819, 0.013693557, 0.010995837, 0.011713284, 0.011286422, 0.011818318, 0.013074401, 0.012099447, 0.011219919, 0.011181949, 0.011715992, 0.010232859, 0.0113321915, 0.01119384, 0.011031389, 0.012075718, 0.011256861, 0.011701369, 0.013460721, 0.011185675, 0.0115765855, 0.011942961, 0.011199669, 0.013295966, 0.010167772, 0.010410227, 0.01147827, 0.0109028565, 0.010848808, 0.0122816395, 0.018854378, 0.011663675, 0.013125287, 0.011623443, 0.010358897, 0.011717341, 0.012148312, 0.011023428, 0.011753301, 0.011527861, 0.0107965125, 0.010697057, 0.011569966, 0.011066631, 0.028415112, 0.014692572, 0.010958757, 0.010868989, 0.010382046, 0.01045935, 0.013259593, 0.011603114, 0.010568822]\n"
     ]
    },
    {
     "name": "stderr",
     "output_type": "stream",
     "text": [
      "2022-02-24 11:17:35,091 : INFO : merging changes from 2000 documents into a model of 3204 documents\n",
      "2022-02-24 11:17:35,101 : INFO : topic #31 (0.010): 0.137*\"3\" + 0.063*\"729\" + 0.063*\"50\" + 0.054*\"67\" + 0.040*\"725\" + 0.038*\"624\" + 0.029*\"216\" + 0.028*\"454\" + 0.023*\"731\" + 0.022*\"64\"\n",
      "2022-02-24 11:17:35,101 : INFO : topic #71 (0.010): 0.175*\"478\" + 0.101*\"1103\" + 0.086*\"159\" + 0.061*\"34\" + 0.044*\"1156\" + 0.044*\"0\" + 0.037*\"83\" + 0.032*\"380\" + 0.029*\"1159\" + 0.025*\"694\"\n",
      "2022-02-24 11:17:35,101 : INFO : topic #1 (0.016): 0.291*\"29\" + 0.070*\"30\" + 0.053*\"13\" + 0.050*\"345\" + 0.042*\"352\" + 0.039*\"6\" + 0.036*\"354\" + 0.026*\"50\" + 0.026*\"172\" + 0.021*\"0\"\n",
      "2022-02-24 11:17:35,102 : INFO : topic #77 (0.019): 0.205*\"83\" + 0.194*\"611\" + 0.161*\"34\" + 0.128*\"1015\" + 0.032*\"69\" + 0.024*\"404\" + 0.021*\"35\" + 0.020*\"486\" + 0.017*\"315\" + 0.017*\"131\"\n",
      "2022-02-24 11:17:35,102 : INFO : topic #91 (0.028): 0.372*\"34\" + 0.359*\"35\" + 0.184*\"83\" + 0.011*\"1057\" + 0.011*\"254\" + 0.008*\"24\" + 0.008*\"36\" + 0.007*\"386\" + 0.007*\"1093\" + 0.006*\"1054\"\n",
      "2022-02-24 11:17:35,103 : INFO : topic diff=0.293767, rho=0.271143\n",
      "2022-02-24 11:17:35,870 : INFO : -6.504 per-word bound, 90.8 perplexity estimate based on a held-out corpus of 1204 documents with 49783 words\n",
      "2022-02-24 11:17:35,871 : INFO : PROGRESS: pass 11, at document #3204/3204\n",
      "2022-02-24 11:17:36,509 : INFO : optimized alpha [0.011826608, 0.016128737, 0.012106393, 0.01551393, 0.011151116, 0.011973335, 0.0112430835, 0.0128140785, 0.013406835, 0.012295646, 0.0106294695, 0.012110707, 0.014006978, 0.011719029, 0.011693538, 0.010835641, 0.01153627, 0.014367141, 0.0117151225, 0.012229937, 0.011007927, 0.012465413, 0.013842104, 0.011721813, 0.01114153, 0.011287895, 0.011032489, 0.0115476595, 0.012094373, 0.01164641, 0.012756557, 0.010173972, 0.012260568, 0.012051826, 0.010437907, 0.012356598, 0.011560058, 0.0103770085, 0.010657348, 0.011232075, 0.01278421, 0.011032868, 0.011259621, 0.01281797, 0.011733975, 0.011728918, 0.011174499, 0.011506122, 0.013998605, 0.011054867, 0.011824769, 0.011414957, 0.011880685, 0.013190638, 0.012244182, 0.011376775, 0.0112477625, 0.011874843, 0.010345052, 0.011498002, 0.0113072265, 0.011140265, 0.012224913, 0.011434515, 0.011767142, 0.013723418, 0.011298217, 0.011725882, 0.012083, 0.011312846, 0.013657882, 0.010237066, 0.010490108, 0.011612866, 0.011014281, 0.010957283, 0.012431453, 0.019068902, 0.011749298, 0.01338837, 0.0117546925, 0.010388256, 0.01183055, 0.012335553, 0.011101642, 0.011949135, 0.011734836, 0.010909565, 0.0107897315, 0.011727053, 0.011181054, 0.030042069, 0.015132192, 0.011079036, 0.010981701, 0.010429377, 0.010518693, 0.013501578, 0.011768734, 0.010662371]\n",
      "2022-02-24 11:17:36,516 : INFO : merging changes from 1204 documents into a model of 3204 documents\n",
      "2022-02-24 11:17:36,528 : INFO : topic #31 (0.010): 0.138*\"3\" + 0.069*\"729\" + 0.061*\"50\" + 0.053*\"67\" + 0.042*\"624\" + 0.041*\"725\" + 0.032*\"216\" + 0.026*\"454\" + 0.025*\"731\" + 0.024*\"64\"\n",
      "2022-02-24 11:17:36,529 : INFO : topic #71 (0.010): 0.169*\"478\" + 0.118*\"1103\" + 0.097*\"159\" + 0.060*\"34\" + 0.048*\"1156\" + 0.048*\"0\" + 0.037*\"380\" + 0.033*\"83\" + 0.032*\"1159\" + 0.026*\"404\"\n",
      "2022-02-24 11:17:36,529 : INFO : topic #1 (0.016): 0.304*\"29\" + 0.071*\"30\" + 0.052*\"345\" + 0.050*\"13\" + 0.040*\"352\" + 0.037*\"6\" + 0.031*\"354\" + 0.028*\"172\" + 0.026*\"50\" + 0.020*\"0\"\n",
      "2022-02-24 11:17:36,530 : INFO : topic #77 (0.019): 0.212*\"83\" + 0.201*\"611\" + 0.155*\"34\" + 0.104*\"1015\" + 0.031*\"69\" + 0.028*\"404\" + 0.025*\"486\" + 0.023*\"35\" + 0.017*\"315\" + 0.017*\"872\"\n",
      "2022-02-24 11:17:36,531 : INFO : topic #91 (0.030): 0.380*\"34\" + 0.365*\"35\" + 0.174*\"83\" + 0.012*\"1057\" + 0.009*\"254\" + 0.008*\"24\" + 0.007*\"36\" + 0.007*\"1093\" + 0.007*\"386\" + 0.006*\"1054\"\n",
      "2022-02-24 11:17:36,532 : INFO : topic diff=0.300157, rho=0.271143\n",
      "2022-02-24 11:17:36,539 : INFO : PROGRESS: pass 12, at document #2000/3204\n",
      "2022-02-24 11:17:37,232 : INFO : optimized alpha [0.011914786, 0.016342485, 0.012198818, 0.015597732, 0.011109106, 0.012093043, 0.011256551, 0.012959296, 0.013463594, 0.012358286, 0.010651383, 0.012175847, 0.014238326, 0.011803232, 0.011750845, 0.010865092, 0.011554301, 0.014529346, 0.011715687, 0.012287849, 0.011015317, 0.012523341, 0.014008304, 0.011701241, 0.0112355, 0.011339023, 0.011076221, 0.011585998, 0.01214096, 0.011716278, 0.012889883, 0.010186055, 0.012320652, 0.012060382, 0.010443123, 0.012513788, 0.011602022, 0.010353041, 0.010668912, 0.011245235, 0.012805209, 0.0111165475, 0.011258097, 0.012854905, 0.011702193, 0.011761454, 0.0112097915, 0.011506046, 0.014094083, 0.011138109, 0.011881409, 0.011499915, 0.01197831, 0.013328187, 0.012244831, 0.011423042, 0.011351608, 0.011883955, 0.0103589725, 0.011519118, 0.011307044, 0.011156498, 0.012304763, 0.011420973, 0.0118799675, 0.013799465, 0.011377121, 0.011749695, 0.012178298, 0.01133206, 0.013735564, 0.010234676, 0.010472701, 0.011680181, 0.011059135, 0.011021136, 0.012468189, 0.019652631, 0.01183906, 0.013351493, 0.0117395, 0.0104084825, 0.011950156, 0.012404543, 0.011153629, 0.011971509, 0.011790136, 0.010899318, 0.010782448, 0.011760505, 0.011176188, 0.031785723, 0.015399729, 0.011087915, 0.010994605, 0.01044362, 0.01055876, 0.013602178, 0.011754081, 0.010705168]\n",
      "2022-02-24 11:17:37,240 : INFO : merging changes from 2000 documents into a model of 3204 documents\n",
      "2022-02-24 11:17:37,251 : INFO : topic #31 (0.010): 0.140*\"3\" + 0.064*\"50\" + 0.063*\"729\" + 0.056*\"67\" + 0.040*\"725\" + 0.039*\"624\" + 0.030*\"216\" + 0.028*\"454\" + 0.023*\"731\" + 0.021*\"64\"\n",
      "2022-02-24 11:17:37,252 : INFO : topic #71 (0.010): 0.181*\"478\" + 0.104*\"1103\" + 0.089*\"159\" + 0.054*\"34\" + 0.045*\"1156\" + 0.044*\"0\" + 0.034*\"83\" + 0.034*\"380\" + 0.030*\"1159\" + 0.026*\"694\"\n",
      "2022-02-24 11:17:37,253 : INFO : topic #1 (0.016): 0.300*\"29\" + 0.071*\"30\" + 0.051*\"345\" + 0.051*\"13\" + 0.040*\"352\" + 0.039*\"6\" + 0.035*\"354\" + 0.026*\"50\" + 0.025*\"172\" + 0.021*\"0\"\n",
      "2022-02-24 11:17:37,254 : INFO : topic #77 (0.020): 0.207*\"83\" + 0.198*\"611\" + 0.161*\"34\" + 0.130*\"1015\" + 0.030*\"69\" + 0.024*\"404\" + 0.021*\"486\" + 0.016*\"35\" + 0.016*\"315\" + 0.016*\"131\"\n",
      "2022-02-24 11:17:37,255 : INFO : topic #91 (0.032): 0.376*\"34\" + 0.364*\"35\" + 0.181*\"83\" + 0.011*\"1057\" + 0.010*\"254\" + 0.008*\"24\" + 0.008*\"386\" + 0.007*\"36\" + 0.007*\"1093\" + 0.006*\"1054\"\n",
      "2022-02-24 11:17:37,256 : INFO : topic diff=0.263109, rho=0.261694\n",
      "2022-02-24 11:17:37,991 : INFO : -6.495 per-word bound, 90.2 perplexity estimate based on a held-out corpus of 1204 documents with 49783 words\n",
      "2022-02-24 11:17:37,991 : INFO : PROGRESS: pass 12, at document #3204/3204\n",
      "2022-02-24 11:17:38,617 : INFO : optimized alpha [0.01201489, 0.01688224, 0.012427417, 0.015936112, 0.01127305, 0.012290354, 0.011399944, 0.013160436, 0.013711668, 0.0125305895, 0.010773275, 0.012341715, 0.014624657, 0.011891096, 0.011902154, 0.010950485, 0.011647125, 0.01474676, 0.011851563, 0.012477606, 0.011131955, 0.012730053, 0.014171141, 0.01182714, 0.011248514, 0.011467688, 0.011211886, 0.011745903, 0.012323187, 0.011802642, 0.012970775, 0.010261182, 0.012474551, 0.012287356, 0.010527682, 0.01260777, 0.0117291035, 0.010463235, 0.01071934, 0.011363705, 0.012977446, 0.011142528, 0.011370092, 0.0130742965, 0.011877865, 0.011913169, 0.011300534, 0.011626199, 0.014405756, 0.011197745, 0.011992452, 0.011627701, 0.012046532, 0.01344665, 0.0123804, 0.011571124, 0.011420309, 0.012038682, 0.010463744, 0.011698699, 0.011417373, 0.011265013, 0.012452718, 0.011591853, 0.011951326, 0.014059708, 0.011486534, 0.011905367, 0.012317405, 0.011439801, 0.014101678, 0.010302156, 0.010555126, 0.011816415, 0.01117008, 0.011124333, 0.012622246, 0.019856991, 0.011924711, 0.013608421, 0.011862115, 0.010439595, 0.012057636, 0.012581871, 0.011232131, 0.012170617, 0.011997759, 0.011011852, 0.0108893365, 0.011916206, 0.011294924, 0.033540532, 0.015860273, 0.011212348, 0.011104296, 0.010492163, 0.010625699, 0.013839091, 0.011915599, 0.010793894]\n",
      "2022-02-24 11:17:38,624 : INFO : merging changes from 1204 documents into a model of 3204 documents\n",
      "2022-02-24 11:17:38,634 : INFO : topic #31 (0.010): 0.140*\"3\" + 0.069*\"729\" + 0.062*\"50\" + 0.055*\"67\" + 0.043*\"624\" + 0.042*\"725\" + 0.032*\"216\" + 0.025*\"731\" + 0.025*\"454\" + 0.022*\"115\"\n",
      "2022-02-24 11:17:38,634 : INFO : topic #71 (0.010): 0.175*\"478\" + 0.120*\"1103\" + 0.100*\"159\" + 0.053*\"34\" + 0.049*\"1156\" + 0.048*\"0\" + 0.038*\"380\" + 0.032*\"1159\" + 0.031*\"83\" + 0.027*\"404\"\n"
     ]
    },
    {
     "name": "stderr",
     "output_type": "stream",
     "text": [
      "2022-02-24 11:17:38,634 : INFO : topic #1 (0.017): 0.314*\"29\" + 0.072*\"30\" + 0.053*\"345\" + 0.047*\"13\" + 0.038*\"352\" + 0.038*\"6\" + 0.031*\"354\" + 0.027*\"172\" + 0.025*\"50\" + 0.020*\"0\"\n",
      "2022-02-24 11:17:38,634 : INFO : topic #77 (0.020): 0.210*\"83\" + 0.207*\"611\" + 0.155*\"34\" + 0.107*\"1015\" + 0.029*\"69\" + 0.028*\"404\" + 0.025*\"486\" + 0.017*\"35\" + 0.017*\"872\" + 0.017*\"315\"\n",
      "2022-02-24 11:17:38,635 : INFO : topic #91 (0.034): 0.383*\"34\" + 0.370*\"35\" + 0.172*\"83\" + 0.011*\"1057\" + 0.009*\"254\" + 0.007*\"24\" + 0.007*\"1093\" + 0.007*\"386\" + 0.007*\"36\" + 0.006*\"1054\"\n",
      "2022-02-24 11:17:38,636 : INFO : topic diff=0.270128, rho=0.261694\n",
      "2022-02-24 11:17:38,644 : INFO : PROGRESS: pass 13, at document #2000/3204\n",
      "2022-02-24 11:17:39,314 : INFO : optimized alpha [0.012107031, 0.017102959, 0.01253504, 0.016022585, 0.011239091, 0.012413976, 0.01141573, 0.013314493, 0.013766328, 0.012597946, 0.010804187, 0.012411379, 0.014861301, 0.011971816, 0.011959334, 0.010977854, 0.011664755, 0.014903574, 0.011859669, 0.012530523, 0.01113768, 0.012792538, 0.014335733, 0.011805609, 0.011350216, 0.0115174195, 0.011257266, 0.011781479, 0.012369739, 0.011872367, 0.013102824, 0.010274419, 0.012537769, 0.012301072, 0.010535599, 0.012761904, 0.0117788445, 0.01044137, 0.010732335, 0.011377888, 0.012997507, 0.01122293, 0.011370115, 0.013116297, 0.011851142, 0.011947619, 0.01133356, 0.011629128, 0.014505479, 0.011279117, 0.012049205, 0.011712148, 0.012144987, 0.013577746, 0.0123793585, 0.011617499, 0.011526202, 0.012048845, 0.010478562, 0.011721801, 0.011417222, 0.011285167, 0.01253051, 0.01158416, 0.012069213, 0.014142243, 0.011563563, 0.011931345, 0.0124089345, 0.011457047, 0.01417819, 0.010300105, 0.010541145, 0.011888028, 0.011216638, 0.011190911, 0.012657757, 0.020435192, 0.012010856, 0.013571395, 0.011847391, 0.010460936, 0.012180846, 0.012650522, 0.011285738, 0.012194996, 0.012049783, 0.011000504, 0.01087948, 0.011950073, 0.011291636, 0.035403688, 0.016149538, 0.011222315, 0.01111682, 0.0105117615, 0.010664852, 0.0139370235, 0.011905571, 0.010832915]\n",
      "2022-02-24 11:17:39,321 : INFO : merging changes from 2000 documents into a model of 3204 documents\n",
      "2022-02-24 11:17:39,331 : INFO : topic #71 (0.010): 0.186*\"478\" + 0.106*\"1103\" + 0.091*\"159\" + 0.049*\"34\" + 0.046*\"1156\" + 0.045*\"0\" + 0.035*\"380\" + 0.032*\"83\" + 0.030*\"1159\" + 0.026*\"694\"\n",
      "2022-02-24 11:17:39,332 : INFO : topic #31 (0.010): 0.142*\"3\" + 0.065*\"50\" + 0.063*\"729\" + 0.057*\"67\" + 0.041*\"624\" + 0.040*\"725\" + 0.030*\"216\" + 0.027*\"454\" + 0.023*\"731\" + 0.021*\"115\"\n",
      "2022-02-24 11:17:39,332 : INFO : topic #1 (0.017): 0.310*\"29\" + 0.072*\"30\" + 0.052*\"345\" + 0.048*\"13\" + 0.039*\"6\" + 0.038*\"352\" + 0.035*\"354\" + 0.025*\"50\" + 0.025*\"172\" + 0.020*\"0\"\n",
      "2022-02-24 11:17:39,333 : INFO : topic #77 (0.020): 0.205*\"83\" + 0.203*\"611\" + 0.161*\"34\" + 0.131*\"1015\" + 0.029*\"69\" + 0.025*\"404\" + 0.021*\"486\" + 0.017*\"315\" + 0.016*\"73\" + 0.016*\"872\"\n",
      "2022-02-24 11:17:39,333 : INFO : topic #91 (0.035): 0.380*\"34\" + 0.368*\"35\" + 0.179*\"83\" + 0.011*\"1057\" + 0.009*\"254\" + 0.008*\"386\" + 0.007*\"24\" + 0.007*\"36\" + 0.007*\"1093\" + 0.006*\"1054\"\n",
      "2022-02-24 11:17:39,334 : INFO : topic diff=0.237887, rho=0.253169\n",
      "2022-02-24 11:17:40,063 : INFO : -6.486 per-word bound, 89.6 perplexity estimate based on a held-out corpus of 1204 documents with 49783 words\n",
      "2022-02-24 11:17:40,063 : INFO : PROGRESS: pass 13, at document #3204/3204\n",
      "2022-02-24 11:17:40,673 : INFO : optimized alpha [0.01221216, 0.017662387, 0.012773352, 0.0163547, 0.011403951, 0.012618275, 0.011560608, 0.013539527, 0.014003773, 0.012763924, 0.010934648, 0.012578808, 0.015276617, 0.012059835, 0.012107221, 0.0110588195, 0.01175034, 0.015106707, 0.011989921, 0.012732118, 0.011249176, 0.012997807, 0.014494394, 0.011930923, 0.011365143, 0.011643121, 0.011399324, 0.011935346, 0.0125480015, 0.011959058, 0.013184011, 0.010352097, 0.012701441, 0.012520982, 0.010613657, 0.01285571, 0.0119078485, 0.010557729, 0.010788426, 0.011493472, 0.013174273, 0.011245786, 0.0114769675, 0.013328503, 0.012025269, 0.012098324, 0.011424521, 0.011746395, 0.014815261, 0.011339476, 0.012157441, 0.011841831, 0.012208638, 0.013692985, 0.012514327, 0.011769677, 0.011600201, 0.012200095, 0.010589676, 0.0119100595, 0.011532149, 0.011393457, 0.0126723405, 0.011761196, 0.012143434, 0.014403661, 0.011670268, 0.012083375, 0.012544787, 0.0115571795, 0.014552078, 0.010365973, 0.010626057, 0.012023635, 0.011327267, 0.011293902, 0.012810811, 0.020651545, 0.012094165, 0.013819868, 0.011969557, 0.01049146, 0.012290572, 0.01282921, 0.011364576, 0.012397697, 0.012258492, 0.011119634, 0.010988497, 0.012102263, 0.011409944, 0.037251275, 0.016618863, 0.0113414135, 0.0112238275, 0.010561448, 0.010734661, 0.014178196, 0.012063322, 0.010919422]\n",
      "2022-02-24 11:17:40,680 : INFO : merging changes from 1204 documents into a model of 3204 documents\n",
      "2022-02-24 11:17:40,691 : INFO : topic #31 (0.010): 0.142*\"3\" + 0.069*\"729\" + 0.063*\"50\" + 0.056*\"67\" + 0.044*\"624\" + 0.042*\"725\" + 0.032*\"216\" + 0.025*\"731\" + 0.024*\"454\" + 0.023*\"204\"\n",
      "2022-02-24 11:17:40,692 : INFO : topic #71 (0.010): 0.180*\"478\" + 0.122*\"1103\" + 0.102*\"159\" + 0.050*\"1156\" + 0.048*\"0\" + 0.048*\"34\" + 0.039*\"380\" + 0.033*\"1159\" + 0.029*\"83\" + 0.027*\"404\"\n",
      "2022-02-24 11:17:40,692 : INFO : topic #1 (0.018): 0.324*\"29\" + 0.073*\"30\" + 0.054*\"345\" + 0.045*\"13\" + 0.038*\"6\" + 0.036*\"352\" + 0.031*\"354\" + 0.026*\"172\" + 0.025*\"50\" + 0.019*\"0\"\n",
      "2022-02-24 11:17:40,693 : INFO : topic #77 (0.021): 0.212*\"611\" + 0.209*\"83\" + 0.155*\"34\" + 0.109*\"1015\" + 0.028*\"404\" + 0.028*\"69\" + 0.026*\"486\" + 0.017*\"315\" + 0.017*\"872\" + 0.017*\"73\"\n",
      "2022-02-24 11:17:40,694 : INFO : topic #91 (0.037): 0.387*\"34\" + 0.373*\"35\" + 0.171*\"83\" + 0.011*\"1057\" + 0.008*\"254\" + 0.007*\"386\" + 0.007*\"1093\" + 0.006*\"24\" + 0.006*\"1054\" + 0.006*\"36\"\n",
      "2022-02-24 11:17:40,695 : INFO : topic diff=0.244609, rho=0.253169\n",
      "2022-02-24 11:17:40,701 : INFO : PROGRESS: pass 14, at document #2000/3204\n",
      "2022-02-24 11:17:41,359 : INFO : optimized alpha [0.012306871, 0.017881637, 0.012889936, 0.016440049, 0.011366265, 0.012747515, 0.011577211, 0.013699223, 0.014054801, 0.012842148, 0.010964682, 0.012657529, 0.015518933, 0.012138757, 0.012164439, 0.011089759, 0.011766292, 0.015258518, 0.01199628, 0.012784954, 0.0112575535, 0.013058426, 0.0146541, 0.011914427, 0.011467571, 0.011694623, 0.011447715, 0.011969868, 0.012594646, 0.012033308, 0.013311795, 0.010362612, 0.012769356, 0.012533653, 0.010625463, 0.013013519, 0.011954953, 0.010542913, 0.010801373, 0.011507281, 0.013193492, 0.011327261, 0.01147988, 0.013367355, 0.011997313, 0.012131682, 0.011462492, 0.011749215, 0.014917612, 0.011420534, 0.012215864, 0.011925872, 0.012306521, 0.013819667, 0.012514802, 0.011817734, 0.011704001, 0.012209766, 0.010606687, 0.011933602, 0.011534864, 0.011411775, 0.012754526, 0.011759076, 0.012266407, 0.014487421, 0.011747027, 0.012108483, 0.01263898, 0.011576919, 0.014632952, 0.010364217, 0.010612662, 0.012090637, 0.011372722, 0.0113534415, 0.012843675, 0.02122704, 0.012184482, 0.013782721, 0.011955242, 0.010513882, 0.012421991, 0.012899289, 0.011419843, 0.012422461, 0.012308883, 0.011112704, 0.0109762885, 0.012135065, 0.011413786, 0.039229397, 0.016914751, 0.011355224, 0.011236029, 0.010582145, 0.010767752, 0.014284206, 0.012057727, 0.0109616425]\n",
      "2022-02-24 11:17:41,366 : INFO : merging changes from 2000 documents into a model of 3204 documents\n",
      "2022-02-24 11:17:41,377 : INFO : topic #31 (0.010): 0.143*\"3\" + 0.066*\"50\" + 0.063*\"729\" + 0.058*\"67\" + 0.041*\"624\" + 0.041*\"725\" + 0.030*\"216\" + 0.026*\"454\" + 0.023*\"731\" + 0.022*\"204\"\n",
      "2022-02-24 11:17:41,378 : INFO : topic #71 (0.010): 0.191*\"478\" + 0.109*\"1103\" + 0.094*\"159\" + 0.047*\"1156\" + 0.045*\"0\" + 0.044*\"34\" + 0.037*\"380\" + 0.031*\"1159\" + 0.029*\"83\" + 0.026*\"694\"\n",
      "2022-02-24 11:17:41,379 : INFO : topic #1 (0.018): 0.320*\"29\" + 0.073*\"30\" + 0.053*\"345\" + 0.046*\"13\" + 0.039*\"6\" + 0.036*\"352\" + 0.035*\"354\" + 0.025*\"50\" + 0.024*\"172\" + 0.019*\"0\"\n",
      "2022-02-24 11:17:41,379 : INFO : topic #77 (0.021): 0.207*\"611\" + 0.205*\"83\" + 0.161*\"34\" + 0.132*\"1015\" + 0.027*\"69\" + 0.025*\"404\" + 0.021*\"486\" + 0.017*\"315\" + 0.016*\"73\" + 0.016*\"872\"\n",
      "2022-02-24 11:17:41,380 : INFO : topic #91 (0.039): 0.383*\"34\" + 0.371*\"35\" + 0.177*\"83\" + 0.011*\"1057\" + 0.009*\"254\" + 0.008*\"386\" + 0.006*\"1093\" + 0.006*\"24\" + 0.006*\"36\" + 0.006*\"1054\"\n"
     ]
    },
    {
     "name": "stderr",
     "output_type": "stream",
     "text": [
      "2022-02-24 11:17:41,381 : INFO : topic diff=0.216722, rho=0.245426\n",
      "2022-02-24 11:17:42,098 : INFO : -6.479 per-word bound, 89.2 perplexity estimate based on a held-out corpus of 1204 documents with 49783 words\n",
      "2022-02-24 11:17:42,098 : INFO : PROGRESS: pass 14, at document #3204/3204\n",
      "2022-02-24 11:17:42,692 : INFO : optimized alpha [0.012404403, 0.0184544, 0.013146149, 0.016766494, 0.011527606, 0.012961726, 0.011719084, 0.013940027, 0.014282156, 0.013007513, 0.011092477, 0.012834636, 0.0159458, 0.012234532, 0.012309218, 0.011166613, 0.011849957, 0.015457194, 0.012141082, 0.012982884, 0.0113689685, 0.013267963, 0.014811917, 0.01203702, 0.011486702, 0.0118249, 0.011589241, 0.012123028, 0.012779561, 0.012117915, 0.013387958, 0.0104385335, 0.012929742, 0.012754691, 0.010710548, 0.013099396, 0.01207871, 0.010658882, 0.010854074, 0.0116202785, 0.013372128, 0.011351818, 0.011579622, 0.013572783, 0.012165323, 0.012279211, 0.01155838, 0.011863861, 0.015235121, 0.011479346, 0.012324064, 0.012052815, 0.012365908, 0.013943136, 0.012649335, 0.011961999, 0.011778409, 0.012362692, 0.010713247, 0.012128176, 0.011640111, 0.0115270885, 0.01289839, 0.011935003, 0.012348594, 0.01474752, 0.011851268, 0.012262311, 0.012774436, 0.011679513, 0.015009061, 0.010428623, 0.01070003, 0.012223356, 0.011487783, 0.011456483, 0.012990748, 0.021447092, 0.012270724, 0.014029134, 0.012074667, 0.010543879, 0.012541725, 0.013066444, 0.0115061235, 0.012626527, 0.012513947, 0.011226898, 0.011087382, 0.012281573, 0.011531869, 0.041170955, 0.017414324, 0.011474024, 0.011340615, 0.010630787, 0.010833756, 0.014521286, 0.012217103, 0.011052937]\n",
      "2022-02-24 11:17:42,698 : INFO : merging changes from 1204 documents into a model of 3204 documents\n",
      "2022-02-24 11:17:42,709 : INFO : topic #31 (0.010): 0.144*\"3\" + 0.068*\"729\" + 0.063*\"50\" + 0.057*\"67\" + 0.044*\"624\" + 0.042*\"725\" + 0.032*\"216\" + 0.024*\"731\" + 0.024*\"454\" + 0.023*\"204\"\n",
      "2022-02-24 11:17:42,710 : INFO : topic #71 (0.010): 0.185*\"478\" + 0.125*\"1103\" + 0.104*\"159\" + 0.051*\"1156\" + 0.048*\"0\" + 0.042*\"34\" + 0.040*\"380\" + 0.033*\"1159\" + 0.028*\"404\" + 0.027*\"694\"\n",
      "2022-02-24 11:17:42,710 : INFO : topic #1 (0.018): 0.334*\"29\" + 0.074*\"30\" + 0.055*\"345\" + 0.043*\"13\" + 0.037*\"6\" + 0.034*\"352\" + 0.031*\"354\" + 0.026*\"172\" + 0.025*\"50\" + 0.020*\"174\"\n",
      "2022-02-24 11:17:42,711 : INFO : topic #77 (0.021): 0.217*\"611\" + 0.208*\"83\" + 0.155*\"34\" + 0.111*\"1015\" + 0.028*\"404\" + 0.026*\"69\" + 0.026*\"486\" + 0.017*\"872\" + 0.017*\"315\" + 0.017*\"73\"\n",
      "2022-02-24 11:17:42,711 : INFO : topic #91 (0.041): 0.389*\"34\" + 0.376*\"35\" + 0.169*\"83\" + 0.011*\"1057\" + 0.008*\"254\" + 0.007*\"386\" + 0.006*\"1093\" + 0.006*\"1054\" + 0.005*\"24\" + 0.005*\"36\"\n",
      "2022-02-24 11:17:42,712 : INFO : topic diff=0.222945, rho=0.245426\n",
      "2022-02-24 11:17:42,720 : INFO : PROGRESS: pass 15, at document #2000/3204\n",
      "2022-02-24 11:17:43,370 : INFO : optimized alpha [0.012500314, 0.01867425, 0.013259239, 0.016848955, 0.011491911, 0.013096708, 0.011735148, 0.014107308, 0.014336628, 0.013090433, 0.0111270975, 0.01292856, 0.016205406, 0.0123147825, 0.012363641, 0.011199665, 0.011865661, 0.0156060625, 0.012148603, 0.013037296, 0.011375758, 0.013328445, 0.014970551, 0.012022409, 0.0115872165, 0.011878023, 0.011640631, 0.012163807, 0.012829373, 0.012195122, 0.013513394, 0.010447774, 0.012996087, 0.012764821, 0.010720927, 0.013246797, 0.0121247135, 0.010646967, 0.010870895, 0.011637868, 0.013387238, 0.011431769, 0.011582553, 0.013608691, 0.012137711, 0.012313102, 0.0116011305, 0.011868113, 0.015331141, 0.011560246, 0.012385682, 0.012139473, 0.012460442, 0.014069034, 0.012649731, 0.012010381, 0.0118831415, 0.012377872, 0.0107299015, 0.012157998, 0.011645656, 0.011547725, 0.012981873, 0.011932492, 0.012475303, 0.014827277, 0.011926498, 0.012291002, 0.012871355, 0.01169605, 0.015096047, 0.0104271965, 0.010688437, 0.012297735, 0.011534955, 0.011521695, 0.013022668, 0.022020774, 0.012354904, 0.01399357, 0.01206077, 0.010567374, 0.012678413, 0.013138008, 0.011571312, 0.01265174, 0.0125643145, 0.011216109, 0.0110781435, 0.012314967, 0.011532816, 0.04322101, 0.017723236, 0.011486089, 0.011353892, 0.010651332, 0.010868869, 0.014635569, 0.012208442, 0.011095619]\n",
      "2022-02-24 11:17:43,377 : INFO : merging changes from 2000 documents into a model of 3204 documents\n",
      "2022-02-24 11:17:43,387 : INFO : topic #71 (0.010): 0.196*\"478\" + 0.111*\"1103\" + 0.096*\"159\" + 0.048*\"1156\" + 0.045*\"0\" + 0.038*\"34\" + 0.038*\"380\" + 0.032*\"1159\" + 0.028*\"83\" + 0.027*\"694\"\n",
      "2022-02-24 11:17:43,388 : INFO : topic #31 (0.010): 0.145*\"3\" + 0.066*\"50\" + 0.063*\"729\" + 0.059*\"67\" + 0.041*\"624\" + 0.041*\"725\" + 0.030*\"216\" + 0.026*\"454\" + 0.023*\"90\" + 0.023*\"731\"\n",
      "2022-02-24 11:17:43,389 : INFO : topic #1 (0.019): 0.330*\"29\" + 0.074*\"30\" + 0.054*\"345\" + 0.044*\"13\" + 0.039*\"6\" + 0.035*\"354\" + 0.033*\"352\" + 0.025*\"50\" + 0.024*\"172\" + 0.020*\"174\"\n",
      "2022-02-24 11:17:43,389 : INFO : topic #77 (0.022): 0.211*\"611\" + 0.204*\"83\" + 0.161*\"34\" + 0.133*\"1015\" + 0.026*\"69\" + 0.025*\"404\" + 0.021*\"486\" + 0.017*\"315\" + 0.016*\"872\" + 0.016*\"73\"\n",
      "2022-02-24 11:17:43,389 : INFO : topic #91 (0.043): 0.385*\"34\" + 0.374*\"35\" + 0.176*\"83\" + 0.011*\"1057\" + 0.008*\"254\" + 0.008*\"386\" + 0.006*\"1093\" + 0.005*\"1054\" + 0.005*\"36\" + 0.005*\"24\"\n",
      "2022-02-24 11:17:43,390 : INFO : topic diff=0.198589, rho=0.238352\n",
      "2022-02-24 11:17:44,096 : INFO : -6.471 per-word bound, 88.7 perplexity estimate based on a held-out corpus of 1204 documents with 49783 words\n",
      "2022-02-24 11:17:44,097 : INFO : PROGRESS: pass 15, at document #3204/3204\n",
      "2022-02-24 11:17:44,668 : INFO : optimized alpha [0.012598121, 0.019257225, 0.013518035, 0.017170178, 0.011656887, 0.013308115, 0.011876558, 0.014350354, 0.014571513, 0.013263354, 0.011254621, 0.013105184, 0.016634647, 0.012401014, 0.01250803, 0.011277097, 0.0119451955, 0.015794456, 0.012293072, 0.01323439, 0.01148035, 0.013545021, 0.015130721, 0.012152026, 0.011598786, 0.012005734, 0.01178645, 0.012314011, 0.013013544, 0.012280274, 0.013592886, 0.0105200475, 0.013161301, 0.0129769975, 0.010802143, 0.013333057, 0.012248384, 0.010764831, 0.010928976, 0.011750843, 0.013554374, 0.011458066, 0.011687103, 0.013810519, 0.012317074, 0.012457658, 0.011692738, 0.011980328, 0.01565078, 0.011619927, 0.012489038, 0.012266348, 0.01252571, 0.014197945, 0.012781497, 0.012161453, 0.011960441, 0.012530255, 0.010832196, 0.012356636, 0.011755671, 0.011663127, 0.013125423, 0.012109966, 0.01256517, 0.015086428, 0.012030826, 0.012441805, 0.013009258, 0.0117964735, 0.015475054, 0.010488226, 0.010771899, 0.012435204, 0.011656864, 0.0116294995, 0.013169356, 0.022223057, 0.012436625, 0.0142355235, 0.012177742, 0.010596914, 0.01279565, 0.013307315, 0.011653387, 0.012857443, 0.01277093, 0.011327925, 0.011187024, 0.012463598, 0.011655395, 0.04523193, 0.018240413, 0.011607073, 0.011456285, 0.010703333, 0.010937829, 0.014877594, 0.012364708, 0.011189445]\n",
      "2022-02-24 11:17:44,675 : INFO : merging changes from 1204 documents into a model of 3204 documents\n",
      "2022-02-24 11:17:44,685 : INFO : topic #31 (0.011): 0.146*\"3\" + 0.068*\"729\" + 0.064*\"50\" + 0.058*\"67\" + 0.044*\"624\" + 0.042*\"725\" + 0.032*\"216\" + 0.024*\"731\" + 0.024*\"204\" + 0.023*\"454\"\n",
      "2022-02-24 11:17:44,686 : INFO : topic #71 (0.010): 0.189*\"478\" + 0.127*\"1103\" + 0.106*\"159\" + 0.052*\"1156\" + 0.048*\"0\" + 0.040*\"380\" + 0.037*\"34\" + 0.034*\"1159\" + 0.028*\"404\" + 0.027*\"694\"\n",
      "2022-02-24 11:17:44,687 : INFO : topic #1 (0.019): 0.344*\"29\" + 0.075*\"30\" + 0.056*\"345\" + 0.041*\"13\" + 0.037*\"6\" + 0.031*\"354\" + 0.031*\"352\" + 0.025*\"172\" + 0.025*\"50\" + 0.020*\"174\"\n",
      "2022-02-24 11:17:44,687 : INFO : topic #77 (0.022): 0.221*\"611\" + 0.206*\"83\" + 0.155*\"34\" + 0.112*\"1015\" + 0.028*\"404\" + 0.026*\"486\" + 0.025*\"69\" + 0.017*\"872\" + 0.017*\"73\" + 0.017*\"315\"\n",
      "2022-02-24 11:17:44,687 : INFO : topic #91 (0.045): 0.391*\"34\" + 0.379*\"35\" + 0.168*\"83\" + 0.011*\"1057\" + 0.007*\"254\" + 0.007*\"386\" + 0.006*\"1093\" + 0.006*\"1054\" + 0.005*\"24\" + 0.005*\"36\"\n",
      "2022-02-24 11:17:44,688 : INFO : topic diff=0.204540, rho=0.238352\n",
      "2022-02-24 11:17:44,696 : INFO : PROGRESS: pass 16, at document #2000/3204\n",
      "2022-02-24 11:17:45,319 : INFO : optimized alpha [0.012693739, 0.019468881, 0.013635558, 0.017251855, 0.011621697, 0.013445832, 0.0118934605, 0.014522099, 0.0146277435, 0.013346229, 0.011291072, 0.013204975, 0.016910467, 0.012481258, 0.012562709, 0.01131351, 0.0119579695, 0.015942419, 0.012303154, 0.013288907, 0.011488376, 0.013603936, 0.015288575, 0.012139142, 0.011696204, 0.012053505, 0.011836702, 0.012355233, 0.01306352, 0.012360418, 0.013720928, 0.010529272, 0.013227819, 0.012989256, 0.010816216, 0.013479794, 0.012296288, 0.010754385, 0.010944426, 0.011766683, 0.013572204, 0.011535283, 0.011691409, 0.013848331, 0.012295367, 0.012489234, 0.011741453, 0.011992897, 0.01574241, 0.01170347, 0.012552363, 0.01235723, 0.01262003, 0.014311795, 0.012784858, 0.012212978, 0.012067573, 0.012540472, 0.010854807, 0.01238823, 0.011761096, 0.011686022, 0.013207254, 0.01210846, 0.012692857, 0.015165843, 0.012104655, 0.012468216, 0.01310444, 0.011814126, 0.015568386, 0.010487077, 0.010759522, 0.012511119, 0.011704433, 0.011696272, 0.013197381, 0.022791926, 0.012519303, 0.014199855, 0.012165628, 0.010618929, 0.012937741, 0.013378929, 0.011720033, 0.0128816, 0.01281841, 0.011329191, 0.011183303, 0.012497566, 0.011654958, 0.047396045, 0.018550366, 0.01162288, 0.011470623, 0.010727427, 0.010976175, 0.014991362, 0.012360309, 0.011236533]\n"
     ]
    },
    {
     "name": "stderr",
     "output_type": "stream",
     "text": [
      "2022-02-24 11:17:45,326 : INFO : merging changes from 2000 documents into a model of 3204 documents\n",
      "2022-02-24 11:17:45,337 : INFO : topic #31 (0.011): 0.147*\"3\" + 0.066*\"50\" + 0.063*\"729\" + 0.059*\"67\" + 0.041*\"624\" + 0.041*\"725\" + 0.030*\"216\" + 0.026*\"454\" + 0.024*\"90\" + 0.023*\"204\"\n",
      "2022-02-24 11:17:45,338 : INFO : topic #71 (0.010): 0.200*\"478\" + 0.114*\"1103\" + 0.099*\"159\" + 0.049*\"1156\" + 0.045*\"0\" + 0.038*\"380\" + 0.033*\"34\" + 0.032*\"1159\" + 0.027*\"694\" + 0.026*\"715\"\n",
      "2022-02-24 11:17:45,338 : INFO : topic #1 (0.019): 0.339*\"29\" + 0.075*\"30\" + 0.055*\"345\" + 0.041*\"13\" + 0.039*\"6\" + 0.035*\"354\" + 0.030*\"352\" + 0.025*\"50\" + 0.023*\"172\" + 0.020*\"174\"\n",
      "2022-02-24 11:17:45,339 : INFO : topic #77 (0.023): 0.215*\"611\" + 0.203*\"83\" + 0.161*\"34\" + 0.134*\"1015\" + 0.025*\"404\" + 0.025*\"69\" + 0.022*\"486\" + 0.016*\"872\" + 0.016*\"73\" + 0.016*\"315\"\n",
      "2022-02-24 11:17:45,339 : INFO : topic #91 (0.047): 0.387*\"34\" + 0.376*\"35\" + 0.175*\"83\" + 0.010*\"1057\" + 0.008*\"254\" + 0.008*\"386\" + 0.006*\"1093\" + 0.005*\"1054\" + 0.005*\"24\" + 0.005*\"36\"\n",
      "2022-02-24 11:17:45,340 : INFO : topic diff=0.183206, rho=0.231857\n",
      "2022-02-24 11:17:46,030 : INFO : -6.465 per-word bound, 88.3 perplexity estimate based on a held-out corpus of 1204 documents with 49783 words\n",
      "2022-02-24 11:17:46,031 : INFO : PROGRESS: pass 16, at document #3204/3204\n",
      "2022-02-24 11:17:46,584 : INFO : optimized alpha [0.012789472, 0.020066142, 0.013891833, 0.017574854, 0.011785973, 0.01365719, 0.012032335, 0.014770516, 0.01485341, 0.013516294, 0.011422933, 0.013383896, 0.01736843, 0.01257044, 0.012704468, 0.011389412, 0.01203599, 0.016127001, 0.012454673, 0.01348547, 0.0115931835, 0.013811973, 0.015445433, 0.01226628, 0.011707448, 0.0121789295, 0.011977746, 0.012514777, 0.013249679, 0.012441332, 0.0137984725, 0.010602214, 0.01338498, 0.013198048, 0.010895881, 0.013571684, 0.012417629, 0.010874233, 0.01100149, 0.011877473, 0.013747, 0.011560973, 0.011798439, 0.014049557, 0.01246439, 0.01263832, 0.01183358, 0.012107675, 0.016058335, 0.01176631, 0.012653662, 0.012479354, 0.012683712, 0.014446039, 0.012906621, 0.012359059, 0.012143109, 0.012692473, 0.010961551, 0.012595967, 0.011869009, 0.0118152965, 0.013353167, 0.0122852735, 0.01278813, 0.01541834, 0.012204567, 0.012618728, 0.013237282, 0.011910297, 0.015947532, 0.0105510065, 0.010837157, 0.012646132, 0.011828654, 0.0118088545, 0.013343841, 0.022989748, 0.012606464, 0.01443775, 0.012280308, 0.010650078, 0.013055067, 0.013540088, 0.011798115, 0.013089118, 0.013024354, 0.011438817, 0.011290097, 0.012643531, 0.011782027, 0.04945719, 0.019067744, 0.011741604, 0.011573237, 0.010784736, 0.011050085, 0.015232762, 0.012523376, 0.011330746]\n",
      "2022-02-24 11:17:46,591 : INFO : merging changes from 1204 documents into a model of 3204 documents\n",
      "2022-02-24 11:17:46,602 : INFO : topic #31 (0.011): 0.147*\"3\" + 0.068*\"729\" + 0.065*\"50\" + 0.058*\"67\" + 0.044*\"624\" + 0.042*\"725\" + 0.032*\"216\" + 0.024*\"204\" + 0.024*\"731\" + 0.023*\"454\"\n",
      "2022-02-24 11:17:46,603 : INFO : topic #71 (0.011): 0.193*\"478\" + 0.129*\"1103\" + 0.108*\"159\" + 0.053*\"1156\" + 0.048*\"0\" + 0.044*\"380\" + 0.035*\"1159\" + 0.032*\"34\" + 0.029*\"404\" + 0.027*\"694\"\n",
      "2022-02-24 11:17:46,604 : INFO : topic #1 (0.020): 0.353*\"29\" + 0.076*\"30\" + 0.057*\"345\" + 0.039*\"13\" + 0.037*\"6\" + 0.031*\"354\" + 0.028*\"352\" + 0.025*\"172\" + 0.025*\"50\" + 0.021*\"240\"\n",
      "2022-02-24 11:17:46,605 : INFO : topic #77 (0.023): 0.225*\"611\" + 0.205*\"83\" + 0.155*\"34\" + 0.113*\"1015\" + 0.028*\"404\" + 0.026*\"486\" + 0.024*\"69\" + 0.017*\"872\" + 0.017*\"73\" + 0.017*\"315\"\n",
      "2022-02-24 11:17:46,606 : INFO : topic #91 (0.049): 0.393*\"34\" + 0.381*\"35\" + 0.167*\"83\" + 0.011*\"1057\" + 0.007*\"254\" + 0.007*\"386\" + 0.006*\"1093\" + 0.006*\"1054\" + 0.005*\"24\" + 0.004*\"36\"\n",
      "2022-02-24 11:17:46,607 : INFO : topic diff=0.188496, rho=0.231857\n",
      "2022-02-24 11:17:46,615 : INFO : PROGRESS: pass 17, at document #2000/3204\n",
      "2022-02-24 11:17:47,236 : INFO : optimized alpha [0.012882099, 0.020287499, 0.014017081, 0.01765789, 0.01175387, 0.013794769, 0.012052843, 0.0149650015, 0.014909725, 0.0135930125, 0.011457357, 0.013500154, 0.017647292, 0.01265215, 0.012758013, 0.011423912, 0.01204734, 0.016268807, 0.012465767, 0.013538675, 0.011601072, 0.0138694765, 0.015600903, 0.01225506, 0.0118019385, 0.012224347, 0.0120283095, 0.012550718, 0.013301343, 0.012520216, 0.013927651, 0.010613835, 0.013450097, 0.013209455, 0.010911062, 0.013711757, 0.012460349, 0.010863948, 0.011018123, 0.011892985, 0.013770485, 0.0116395885, 0.011800024, 0.014094276, 0.01244708, 0.012669081, 0.011884148, 0.012118603, 0.016147524, 0.011845839, 0.012714398, 0.012568713, 0.012776463, 0.014561064, 0.012908437, 0.012412362, 0.012249988, 0.0127022425, 0.010988685, 0.01262791, 0.011878392, 0.011837624, 0.013436561, 0.0122861555, 0.01292129, 0.015499195, 0.012275732, 0.012644417, 0.0133339055, 0.011928969, 0.016038327, 0.010550111, 0.010826511, 0.012722142, 0.01187528, 0.011879814, 0.013372637, 0.023556255, 0.012684882, 0.014403606, 0.01226992, 0.010675551, 0.013207107, 0.013608731, 0.011863709, 0.013113735, 0.01307342, 0.0114491265, 0.011286519, 0.012678112, 0.011786906, 0.051670138, 0.019387223, 0.011761016, 0.011587314, 0.010808569, 0.01109399, 0.015339423, 0.0125201745, 0.011379582]\n",
      "2022-02-24 11:17:47,243 : INFO : merging changes from 2000 documents into a model of 3204 documents\n",
      "2022-02-24 11:17:47,253 : INFO : topic #71 (0.011): 0.204*\"478\" + 0.116*\"1103\" + 0.100*\"159\" + 0.050*\"1156\" + 0.045*\"0\" + 0.041*\"380\" + 0.033*\"1159\" + 0.029*\"34\" + 0.027*\"694\" + 0.026*\"715\"\n",
      "2022-02-24 11:17:47,254 : INFO : topic #31 (0.011): 0.149*\"3\" + 0.067*\"50\" + 0.062*\"729\" + 0.059*\"67\" + 0.042*\"624\" + 0.041*\"725\" + 0.030*\"216\" + 0.026*\"454\" + 0.024*\"90\" + 0.024*\"204\"\n",
      "2022-02-24 11:17:47,255 : INFO : topic #1 (0.020): 0.348*\"29\" + 0.076*\"30\" + 0.056*\"345\" + 0.039*\"13\" + 0.039*\"6\" + 0.035*\"354\" + 0.027*\"352\" + 0.025*\"50\" + 0.023*\"172\" + 0.021*\"174\"\n",
      "2022-02-24 11:17:47,255 : INFO : topic #77 (0.024): 0.218*\"611\" + 0.202*\"83\" + 0.161*\"34\" + 0.134*\"1015\" + 0.026*\"404\" + 0.023*\"69\" + 0.022*\"486\" + 0.017*\"73\" + 0.016*\"872\" + 0.016*\"315\"\n",
      "2022-02-24 11:17:47,256 : INFO : topic #91 (0.052): 0.389*\"34\" + 0.378*\"35\" + 0.174*\"83\" + 0.010*\"1057\" + 0.008*\"254\" + 0.008*\"386\" + 0.006*\"1093\" + 0.005*\"1054\" + 0.005*\"24\" + 0.004*\"36\"\n",
      "2022-02-24 11:17:47,257 : INFO : topic diff=0.169914, rho=0.225865\n",
      "2022-02-24 11:17:47,942 : INFO : -6.458 per-word bound, 87.9 perplexity estimate based on a held-out corpus of 1204 documents with 49783 words\n",
      "2022-02-24 11:17:47,943 : INFO : PROGRESS: pass 17, at document #3204/3204\n",
      "2022-02-24 11:17:48,496 : INFO : optimized alpha [0.012980759, 0.02088818, 0.014279062, 0.017979782, 0.011913162, 0.014006247, 0.012189386, 0.01521912, 0.015137763, 0.0137630785, 0.011591474, 0.013686591, 0.018128872, 0.012748942, 0.012894965, 0.011498419, 0.01212624, 0.016452802, 0.01262192, 0.013734948, 0.011695192, 0.014079745, 0.015763383, 0.012382301, 0.011817342, 0.012352248, 0.012176161, 0.012712483, 0.013484583, 0.012608953, 0.014005928, 0.010689479, 0.013607224, 0.0134225525, 0.010989297, 0.013793761, 0.012581894, 0.010983762, 0.011076288, 0.0120039955, 0.013939856, 0.0116669405, 0.011905107, 0.014300495, 0.01262279, 0.012820424, 0.0119745275, 0.012231352, 0.016456826, 0.01190516, 0.012813772, 0.012695698, 0.012838743, 0.014689921, 0.013030506, 0.012563206, 0.012328513, 0.012846838, 0.011091502, 0.012840065, 0.01197983, 0.011960289, 0.013585072, 0.012462615, 0.013021907, 0.015742313, 0.012376047, 0.012797102, 0.013461841, 0.012023352, 0.016414845, 0.010608936, 0.0109048905, 0.012857297, 0.011997401, 0.011990402, 0.013516528, 0.023758927, 0.012765468, 0.014640433, 0.012382552, 0.010706239, 0.013329587, 0.01376969, 0.011940255, 0.0133208195, 0.013274049, 0.011569886, 0.01140216, 0.012824022, 0.011911765, 0.053719856, 0.019904777, 0.011877686, 0.011685882, 0.010864919, 0.011168674, 0.015580488, 0.012687647, 0.011476417]\n",
      "2022-02-24 11:17:48,503 : INFO : merging changes from 1204 documents into a model of 3204 documents\n",
      "2022-02-24 11:17:48,514 : INFO : topic #71 (0.011): 0.197*\"478\" + 0.131*\"1103\" + 0.110*\"159\" + 0.054*\"1156\" + 0.049*\"0\" + 0.042*\"380\" + 0.035*\"1159\" + 0.029*\"404\" + 0.028*\"694\" + 0.027*\"34\"\n",
      "2022-02-24 11:17:48,515 : INFO : topic #31 (0.011): 0.150*\"3\" + 0.067*\"729\" + 0.065*\"50\" + 0.058*\"67\" + 0.045*\"624\" + 0.042*\"725\" + 0.031*\"216\" + 0.025*\"204\" + 0.024*\"731\" + 0.023*\"454\"\n"
     ]
    },
    {
     "name": "stderr",
     "output_type": "stream",
     "text": [
      "2022-02-24 11:17:48,515 : INFO : topic #1 (0.021): 0.361*\"29\" + 0.077*\"30\" + 0.057*\"345\" + 0.037*\"6\" + 0.036*\"13\" + 0.031*\"354\" + 0.025*\"352\" + 0.024*\"50\" + 0.024*\"172\" + 0.022*\"174\"\n",
      "2022-02-24 11:17:48,516 : INFO : topic #77 (0.024): 0.227*\"611\" + 0.205*\"83\" + 0.156*\"34\" + 0.114*\"1015\" + 0.028*\"404\" + 0.026*\"486\" + 0.022*\"69\" + 0.017*\"872\" + 0.017*\"73\" + 0.017*\"315\"\n",
      "2022-02-24 11:17:48,517 : INFO : topic #91 (0.054): 0.394*\"34\" + 0.382*\"35\" + 0.167*\"83\" + 0.011*\"1057\" + 0.007*\"386\" + 0.007*\"254\" + 0.006*\"1093\" + 0.006*\"1054\" + 0.004*\"24\" + 0.004*\"36\"\n",
      "2022-02-24 11:17:48,517 : INFO : topic diff=0.174604, rho=0.225865\n",
      "2022-02-24 11:17:48,525 : INFO : PROGRESS: pass 18, at document #2000/3204\n",
      "2022-02-24 11:17:49,132 : INFO : optimized alpha [0.013070532, 0.021121815, 0.014413666, 0.018060256, 0.011882744, 0.014143735, 0.012208047, 0.015431898, 0.015197664, 0.01384762, 0.011629033, 0.013813318, 0.018423237, 0.012834917, 0.0129474895, 0.011531091, 0.012136224, 0.016588593, 0.012636794, 0.013789911, 0.0117030265, 0.014134343, 0.015916657, 0.012376775, 0.011910427, 0.012396827, 0.012225727, 0.012756068, 0.013536558, 0.012688026, 0.014134804, 0.010698632, 0.013678688, 0.013433136, 0.011007972, 0.013930403, 0.012623779, 0.0109760035, 0.01109649, 0.0120192, 0.01395792, 0.011746933, 0.011909314, 0.01434886, 0.012604015, 0.012853235, 0.012034856, 0.012243392, 0.016543679, 0.0119848, 0.01287352, 0.012790755, 0.0129329255, 0.014803163, 0.013030877, 0.012625314, 0.012435242, 0.012861989, 0.011110795, 0.0128737865, 0.011991763, 0.011986105, 0.01366244, 0.012458938, 0.013154776, 0.015823105, 0.012446053, 0.012822115, 0.013556916, 0.012040439, 0.016505044, 0.0106071355, 0.010895886, 0.012932033, 0.012047148, 0.012057585, 0.013546125, 0.024323653, 0.012844068, 0.014606125, 0.012372446, 0.010730292, 0.013481449, 0.013837063, 0.012002191, 0.013344476, 0.01332475, 0.01157617, 0.011402461, 0.01285637, 0.011915131, 0.05599728, 0.02021401, 0.0118927695, 0.011699738, 0.010890873, 0.011208198, 0.015692083, 0.012685562, 0.011529537]\n",
      "2022-02-24 11:17:49,139 : INFO : merging changes from 2000 documents into a model of 3204 documents\n",
      "2022-02-24 11:17:49,150 : INFO : topic #71 (0.011): 0.208*\"478\" + 0.119*\"1103\" + 0.102*\"159\" + 0.051*\"1156\" + 0.045*\"0\" + 0.040*\"380\" + 0.034*\"1159\" + 0.027*\"715\" + 0.027*\"694\" + 0.026*\"404\"\n",
      "2022-02-24 11:17:49,151 : INFO : topic #81 (0.011): 0.181*\"646\" + 0.167*\"83\" + 0.077*\"34\" + 0.076*\"981\" + 0.070*\"951\" + 0.065*\"485\" + 0.062*\"1036\" + 0.042*\"73\" + 0.038*\"0\" + 0.037*\"35\"\n",
      "2022-02-24 11:17:49,151 : INFO : topic #1 (0.021): 0.357*\"29\" + 0.077*\"30\" + 0.057*\"345\" + 0.038*\"6\" + 0.037*\"13\" + 0.034*\"354\" + 0.025*\"352\" + 0.024*\"50\" + 0.022*\"172\" + 0.021*\"174\"\n",
      "2022-02-24 11:17:49,151 : INFO : topic #77 (0.024): 0.220*\"611\" + 0.202*\"83\" + 0.162*\"34\" + 0.134*\"1015\" + 0.026*\"404\" + 0.022*\"486\" + 0.020*\"69\" + 0.017*\"73\" + 0.017*\"872\" + 0.016*\"315\"\n",
      "2022-02-24 11:17:49,152 : INFO : topic #91 (0.056): 0.390*\"34\" + 0.379*\"35\" + 0.174*\"83\" + 0.010*\"1057\" + 0.008*\"386\" + 0.008*\"254\" + 0.006*\"1093\" + 0.005*\"1054\" + 0.004*\"24\" + 0.003*\"36\"\n",
      "2022-02-24 11:17:49,153 : INFO : topic diff=0.158350, rho=0.220316\n",
      "2022-02-24 11:17:49,818 : INFO : -6.454 per-word bound, 87.7 perplexity estimate based on a held-out corpus of 1204 documents with 49783 words\n",
      "2022-02-24 11:17:49,819 : INFO : PROGRESS: pass 18, at document #3204/3204\n",
      "2022-02-24 11:17:50,353 : INFO : optimized alpha [0.013162578, 0.021741671, 0.014689453, 0.018377898, 0.012039539, 0.014358135, 0.012344685, 0.015697652, 0.015433793, 0.014020427, 0.011763314, 0.0139973415, 0.01892611, 0.012932315, 0.013084609, 0.011606351, 0.012211577, 0.016763294, 0.012795265, 0.0139885815, 0.011795619, 0.014344525, 0.016076256, 0.012504224, 0.011921061, 0.012520439, 0.01236926, 0.012913241, 0.013717216, 0.012777541, 0.0142113175, 0.010775003, 0.013833412, 0.0136433765, 0.011086908, 0.014013053, 0.01274563, 0.011099897, 0.011153685, 0.012128366, 0.014127261, 0.011773694, 0.012019236, 0.014549699, 0.012767797, 0.01299986, 0.012125842, 0.01235656, 0.016858548, 0.01204514, 0.012975836, 0.012922696, 0.012991477, 0.014948377, 0.013148438, 0.012774016, 0.012516791, 0.0130066415, 0.0112200985, 0.013085912, 0.01209805, 0.012117919, 0.013806013, 0.01263743, 0.013263025, 0.01606299, 0.012544589, 0.012974757, 0.013685201, 0.012133225, 0.01689123, 0.010665013, 0.01097085, 0.013067514, 0.012171771, 0.012179822, 0.013687661, 0.024526745, 0.012930269, 0.01483956, 0.012483167, 0.010760546, 0.013609279, 0.014008177, 0.012077239, 0.013548875, 0.013525223, 0.011692847, 0.011520513, 0.012999977, 0.01204025, 0.058047388, 0.020738723, 0.012009709, 0.011798773, 0.010948316, 0.011283635, 0.015935991, 0.012850543, 0.01162901]\n",
      "2022-02-24 11:17:50,360 : INFO : merging changes from 1204 documents into a model of 3204 documents\n",
      "2022-02-24 11:17:50,370 : INFO : topic #71 (0.011): 0.200*\"478\" + 0.133*\"1103\" + 0.112*\"159\" + 0.055*\"1156\" + 0.049*\"0\" + 0.041*\"380\" + 0.036*\"1159\" + 0.028*\"404\" + 0.027*\"694\" + 0.024*\"715\"\n",
      "2022-02-24 11:17:50,371 : INFO : topic #81 (0.011): 0.186*\"646\" + 0.166*\"83\" + 0.092*\"981\" + 0.083*\"951\" + 0.073*\"34\" + 0.062*\"485\" + 0.056*\"1036\" + 0.040*\"73\" + 0.039*\"0\" + 0.036*\"35\"\n",
      "2022-02-24 11:17:50,371 : INFO : topic #1 (0.022): 0.370*\"29\" + 0.078*\"30\" + 0.059*\"345\" + 0.037*\"6\" + 0.034*\"13\" + 0.031*\"354\" + 0.024*\"50\" + 0.023*\"352\" + 0.023*\"172\" + 0.022*\"174\"\n",
      "2022-02-24 11:17:50,372 : INFO : topic #77 (0.025): 0.230*\"611\" + 0.205*\"83\" + 0.156*\"34\" + 0.115*\"1015\" + 0.028*\"404\" + 0.026*\"486\" + 0.019*\"69\" + 0.017*\"872\" + 0.017*\"73\" + 0.016*\"315\"\n",
      "2022-02-24 11:17:50,372 : INFO : topic #91 (0.058): 0.395*\"34\" + 0.383*\"35\" + 0.167*\"83\" + 0.010*\"1057\" + 0.007*\"386\" + 0.007*\"254\" + 0.006*\"1093\" + 0.006*\"1054\" + 0.004*\"24\" + 0.003*\"36\"\n",
      "2022-02-24 11:17:50,373 : INFO : topic diff=0.162930, rho=0.220316\n",
      "2022-02-24 11:17:50,381 : INFO : PROGRESS: pass 19, at document #2000/3204\n",
      "2022-02-24 11:17:50,972 : INFO : optimized alpha [0.013252482, 0.02198353, 0.01482732, 0.018455967, 0.012008121, 0.014498773, 0.012362878, 0.015922545, 0.015495466, 0.014095945, 0.011806472, 0.014127146, 0.019226348, 0.013019818, 0.01313617, 0.0116411, 0.012220278, 0.01690053, 0.01281383, 0.0140438285, 0.011802154, 0.014394691, 0.016227493, 0.012498753, 0.01201539, 0.012564196, 0.012416544, 0.012957279, 0.013769502, 0.012856874, 0.014336902, 0.010786451, 0.013905114, 0.013651705, 0.011106572, 0.014153997, 0.012788125, 0.011089793, 0.011173712, 0.01214332, 0.014144822, 0.011851303, 0.012023392, 0.014600043, 0.012747634, 0.013031943, 0.012187927, 0.012367083, 0.016943222, 0.012126266, 0.013036092, 0.0130219385, 0.013081515, 0.01506787, 0.013145997, 0.012836355, 0.012623483, 0.013019912, 0.011242628, 0.013118604, 0.012108495, 0.0121445265, 0.013883554, 0.012632022, 0.013398594, 0.016148834, 0.012614856, 0.013000511, 0.013777526, 0.012150082, 0.016978968, 0.010664651, 0.010963444, 0.013145341, 0.012218008, 0.012253893, 0.0137195205, 0.025086947, 0.013011873, 0.014806697, 0.012477368, 0.010784423, 0.013764035, 0.014077332, 0.012140899, 0.013573087, 0.0135747325, 0.011704039, 0.0115232635, 0.013034515, 0.012043498, 0.06036681, 0.021050803, 0.012025772, 0.011813691, 0.010977599, 0.011325013, 0.016049257, 0.012852368, 0.011681331]\n",
      "2022-02-24 11:17:50,979 : INFO : merging changes from 2000 documents into a model of 3204 documents\n",
      "2022-02-24 11:17:50,990 : INFO : topic #71 (0.011): 0.210*\"478\" + 0.120*\"1103\" + 0.104*\"159\" + 0.051*\"1156\" + 0.046*\"0\" + 0.039*\"380\" + 0.034*\"1159\" + 0.028*\"694\" + 0.027*\"715\" + 0.026*\"404\"\n",
      "2022-02-24 11:17:50,991 : INFO : topic #31 (0.011): 0.153*\"3\" + 0.068*\"50\" + 0.062*\"729\" + 0.059*\"67\" + 0.042*\"624\" + 0.040*\"725\" + 0.030*\"216\" + 0.026*\"90\" + 0.025*\"454\" + 0.025*\"204\"\n",
      "2022-02-24 11:17:50,991 : INFO : topic #1 (0.022): 0.365*\"29\" + 0.078*\"30\" + 0.058*\"345\" + 0.038*\"6\" + 0.034*\"13\" + 0.034*\"354\" + 0.024*\"50\" + 0.022*\"352\" + 0.022*\"174\" + 0.022*\"172\"\n",
      "2022-02-24 11:17:50,992 : INFO : topic #77 (0.025): 0.222*\"611\" + 0.203*\"83\" + 0.162*\"34\" + 0.135*\"1015\" + 0.026*\"404\" + 0.022*\"486\" + 0.017*\"69\" + 0.017*\"73\" + 0.017*\"872\" + 0.016*\"315\"\n",
      "2022-02-24 11:17:50,993 : INFO : topic #91 (0.060): 0.391*\"34\" + 0.380*\"35\" + 0.174*\"83\" + 0.010*\"1057\" + 0.008*\"386\" + 0.007*\"254\" + 0.006*\"1093\" + 0.005*\"1054\" + 0.004*\"24\" + 0.003*\"535\"\n"
     ]
    },
    {
     "name": "stderr",
     "output_type": "stream",
     "text": [
      "2022-02-24 11:17:50,994 : INFO : topic diff=0.148283, rho=0.215156\n",
      "2022-02-24 11:17:51,657 : INFO : -6.448 per-word bound, 87.3 perplexity estimate based on a held-out corpus of 1204 documents with 49783 words\n",
      "2022-02-24 11:17:51,657 : INFO : PROGRESS: pass 19, at document #3204/3204\n",
      "2022-02-24 11:17:52,175 : INFO : optimized alpha [0.01334283, 0.022599747, 0.015098687, 0.018762976, 0.01215825, 0.014713722, 0.012495292, 0.016189048, 0.015723202, 0.014268977, 0.011949642, 0.014326525, 0.01975138, 0.013122515, 0.01326886, 0.011713084, 0.012292197, 0.017069113, 0.0129725, 0.014235037, 0.011897528, 0.014594503, 0.016390108, 0.012626469, 0.012025655, 0.012688211, 0.012564784, 0.01311468, 0.013952588, 0.012947158, 0.01441433, 0.010861633, 0.014067721, 0.013856839, 0.011184266, 0.014234861, 0.012910378, 0.011209824, 0.011231996, 0.012250764, 0.01431686, 0.011879735, 0.012133742, 0.014798154, 0.0129159875, 0.013185717, 0.012281837, 0.012478438, 0.017251994, 0.012185498, 0.013139085, 0.013156589, 0.013136542, 0.015210687, 0.013256918, 0.012983041, 0.012701268, 0.013160022, 0.011352369, 0.013333192, 0.012215294, 0.012270126, 0.014027402, 0.012799068, 0.01351454, 0.016388826, 0.012709471, 0.0131509295, 0.013906227, 0.012241351, 0.017362941, 0.010721608, 0.011041226, 0.013283447, 0.012340815, 0.012365504, 0.013858842, 0.02527725, 0.013096502, 0.015036934, 0.0125863375, 0.010818131, 0.013894732, 0.014243472, 0.012212438, 0.013777418, 0.013772731, 0.011818909, 0.01163956, 0.013183082, 0.012177571, 0.062435377, 0.021575062, 0.012143056, 0.011911145, 0.0110460315, 0.011401245, 0.016293237, 0.013012672, 0.011781379]\n",
      "2022-02-24 11:17:52,182 : INFO : merging changes from 1204 documents into a model of 3204 documents\n",
      "2022-02-24 11:17:52,192 : INFO : topic #71 (0.011): 0.204*\"478\" + 0.135*\"1103\" + 0.114*\"159\" + 0.056*\"1156\" + 0.049*\"0\" + 0.043*\"380\" + 0.036*\"1159\" + 0.028*\"404\" + 0.027*\"694\" + 0.025*\"715\"\n",
      "2022-02-24 11:17:52,193 : INFO : topic #81 (0.011): 0.190*\"646\" + 0.164*\"83\" + 0.097*\"981\" + 0.085*\"951\" + 0.068*\"34\" + 0.065*\"485\" + 0.057*\"1036\" + 0.041*\"73\" + 0.040*\"0\" + 0.031*\"35\"\n",
      "2022-02-24 11:17:52,194 : INFO : topic #1 (0.023): 0.378*\"29\" + 0.079*\"30\" + 0.060*\"345\" + 0.037*\"6\" + 0.032*\"13\" + 0.031*\"354\" + 0.024*\"50\" + 0.023*\"240\" + 0.023*\"174\" + 0.022*\"172\"\n",
      "2022-02-24 11:17:52,194 : INFO : topic #77 (0.025): 0.232*\"611\" + 0.205*\"83\" + 0.156*\"34\" + 0.116*\"1015\" + 0.028*\"404\" + 0.026*\"486\" + 0.018*\"872\" + 0.017*\"73\" + 0.016*\"315\" + 0.015*\"69\"\n",
      "2022-02-24 11:17:52,195 : INFO : topic #91 (0.062): 0.396*\"34\" + 0.384*\"35\" + 0.167*\"83\" + 0.010*\"1057\" + 0.007*\"386\" + 0.007*\"254\" + 0.006*\"1093\" + 0.006*\"1054\" + 0.004*\"24\" + 0.003*\"535\"\n",
      "2022-02-24 11:17:52,195 : INFO : topic diff=0.152559, rho=0.215156\n",
      "2022-02-24 11:17:52,203 : INFO : LdaModel lifecycle event {'msg': 'trained LdaModel(num_terms=1197, num_topics=100, decay=0.5, chunksize=2000) in 45.34s', 'datetime': '2022-02-24T11:17:52.203782', 'gensim': '4.1.2', 'python': '3.9.7 (default, Sep 16 2021, 16:59:28) [MSC v.1916 64 bit (AMD64)]', 'platform': 'Windows-10-10.0.19042-SP0', 'event': 'created'}\n"
     ]
    },
    {
     "data": {
      "text/plain": [
       "[(0, 0.005538163),\n",
       " (1, 0.009380399),\n",
       " (2, 0.00626696),\n",
       " (3, 0.0077878837),\n",
       " (4, 0.005046483),\n",
       " (5, 0.006107174),\n",
       " (6, 0.005186378),\n",
       " (7, 0.0067195324),\n",
       " (8, 0.0065261754),\n",
       " (9, 0.005922575),\n",
       " (10, 0.0049598967),\n",
       " (11, 0.0059464616),\n",
       " (12, 0.008198137),\n",
       " (13, 0.005446717),\n",
       " (14, 0.00550746),\n",
       " (15, 0.004861709),\n",
       " (16, 0.00510208),\n",
       " (17, 0.0070848176),\n",
       " (18, 0.005384451),\n",
       " (19, 0.005908488),\n",
       " (20, 0.004938266),\n",
       " (21, 0.00605769),\n",
       " (22, 0.0068029854),\n",
       " (23, 0.005240825),\n",
       " (24, 0.004991447),\n",
       " (25, 0.005266452),\n",
       " (26, 0.0052152216),\n",
       " (27, 0.005443465),\n",
       " (28, 0.0057912525),\n",
       " (29, 0.0053739324),\n",
       " (30, 0.005982906),\n",
       " (31, 0.0045083007),\n",
       " (32, 0.0058390405),\n",
       " (33, 0.0057515106),\n",
       " (34, 0.0046422146),\n",
       " (35, 0.0059084147),\n",
       " (36, 0.005358666),\n",
       " (37, 0.0046528233),\n",
       " (38, 0.0046620257),\n",
       " (39, 0.0050848825),\n",
       " (40, 0.0059424494),\n",
       " (41, 0.0049308804),\n",
       " (42, 0.0050363103),\n",
       " (43, 0.006142219),\n",
       " (44, 0.0053609945),\n",
       " (45, 0.00547295),\n",
       " (46, 0.00509778),\n",
       " (47, 0.0051793824),\n",
       " (48, 0.007160726),\n",
       " (49, 0.0050577926),\n",
       " (50, 0.0054535945),\n",
       " (51, 0.00546086),\n",
       " (52, 0.0054525393),\n",
       " (53, 0.0063134474),\n",
       " (54, 0.0055025034),\n",
       " (55, 0.005388826),\n",
       " (56, 0.0052718716),\n",
       " (57, 0.005462285),\n",
       " (58, 0.0047119884),\n",
       " (59, 0.0055341623),\n",
       " (60, 0.00507016),\n",
       " (61, 0.005092919),\n",
       " (62, 0.0058223056),\n",
       " (63, 0.005312465),\n",
       " (64, 0.0056094336),\n",
       " (65, 0.0068024537),\n",
       " (66, 0.0052752765),\n",
       " (67, 0.005458511),\n",
       " (68, 0.4208322),\n",
       " (69, 0.0050809756),\n",
       " (70, 0.007206776),\n",
       " (71, 0.004450181),\n",
       " (72, 0.0045828437),\n",
       " (73, 0.005513515),\n",
       " (74, 0.0051222597),\n",
       " (75, 0.005132507),\n",
       " (76, 0.005752342),\n",
       " (77, 0.010491741),\n",
       " (78, 0.00543592),\n",
       " (79, 0.0062413285),\n",
       " (80, 0.005224168),\n",
       " (81, 0.0044902447),\n",
       " (82, 0.005767239),\n",
       " (83, 0.005911989),\n",
       " (84, 0.0050689746),\n",
       " (85, 0.0057185455),\n",
       " (86, 0.0057166),\n",
       " (87, 0.004905634),\n",
       " (88, 0.004831192),\n",
       " (89, 0.005471857),\n",
       " (90, 0.0050545023),\n",
       " (91, 0.025914837),\n",
       " (92, 0.008955087),\n",
       " (93, 0.005040176),\n",
       " (94, 0.004943918),\n",
       " (95, 0.004584838),\n",
       " (96, 0.004732276),\n",
       " (97, 0.006762778),\n",
       " (98, 0.0054011247),\n",
       " (99, 0.0048900563)]"
      ]
     },
     "execution_count": 39,
     "metadata": {},
     "output_type": "execute_result"
    }
   ],
   "source": [
    "##### Function check\n",
    "lda = LdaRetrievalModel(doc_repr_2)\n",
    "lda.train_model()\n",
    "\n",
    "# you can now get an LDA vector for a given query in the following way:\n",
    "lda.vectorize_query(\"report\")\n",
    "##### "
   ]
  },
  {
   "cell_type": "markdown",
   "metadata": {
    "deletable": false,
    "editable": false,
    "nbgrader": {
     "cell_type": "markdown",
     "checksum": "32d83b6ea79ca3ddb789a7f8805a1b25",
     "grade": false,
     "grade_id": "cell-0e24b727d5908c0e",
     "locked": true,
     "points": 5,
     "schema_version": 3,
     "solution": false,
     "task": true
    }
   },
   "source": [
    "\\#### Please do not change this. This cell is used for grading."
   ]
  },
  {
   "cell_type": "markdown",
   "metadata": {
    "deletable": false,
    "editable": false,
    "nbgrader": {
     "cell_type": "markdown",
     "checksum": "114a934f0b9ce696e6cf09d3b8da6a3d",
     "grade": false,
     "grade_id": "cell-b1bffcb970b18aeb",
     "locked": true,
     "schema_version": 3,
     "solution": false,
     "task": false
    }
   },
   "source": [
    "---\n",
    "Now we can use the `DenseRetrievalModel` class to obtain an LDA search function.\n",
    "You can test your LDA model in the following cell: Try finding queries which are lexically different to documents, but semantically similar - does LDA work well for these queries?!"
   ]
  },
  {
   "cell_type": "code",
   "execution_count": 40,
   "metadata": {},
   "outputs": [
    {
     "data": {
      "application/vnd.jupyter.widget-view+json": {
       "model_id": "037d64645d6f42919db2b532f0eb3e1b",
       "version_major": 2,
       "version_minor": 0
      },
      "text/plain": [
       "Text(value='', description='Search Bar')"
      ]
     },
     "metadata": {},
     "output_type": "display_data"
    },
    {
     "name": "stdout",
     "output_type": "stream",
     "text": [
      "Searching for: 'root' (SEARCH FN: <bound method DenseRetrievalRanker.search of <__main__.DenseRetrievalRanker object at 0x00000270E68AFA00>>)\n"
     ]
    },
    {
     "name": "stderr",
     "output_type": "stream",
     "text": [
      "C:\\Users\\Bram\\AppData\\Local\\Temp/ipykernel_15384/2120849064.py:4: RuntimeWarning: divide by zero encountered in double_scalars\n",
      "  return sum(p[x] * np.log2((p[x]) / (q[x])) for x in range(len(p)) if p[x] != 0.0 or p[x] != 0)\n"
     ]
    }
   ],
   "source": [
    "drm_lda = DenseRetrievalRanker(lda, jenson_shannon_sim)\n",
    "\n",
    "# test your LDA model\n",
    "search_fn = drm_lda.search\n",
    "\n",
    "text = widgets.Text(description=\"Search Bar\", width=200)\n",
    "display(text)\n",
    "\n",
    "\n",
    "text.on_submit(handle_submit_2)"
   ]
  },
  {
   "cell_type": "markdown",
   "metadata": {
    "deletable": false,
    "editable": false,
    "nbgrader": {
     "cell_type": "markdown",
     "checksum": "9d7f15863b655119b45f4d89354e5661",
     "grade": false,
     "grade_id": "cell-190cd0854b2791cc",
     "locked": true,
     "schema_version": 3,
     "solution": false,
     "task": false
    }
   },
   "source": [
    "## Section 8: Word2Vec/Doc2Vec (20 points) <a class=\"anchor\" id=\"2vec\"></a>\n",
    "\n",
    "[Back to Part 2](#part2)\n",
    "\n",
    "We will implement two other methods here, the Word2Vec model and the Doc2Vec model, also using `gensim`. Word2Vec creates representations of words, not documents, so the word level vectors need to be aggregated to obtain a representation for the document. Here, we will simply take the mean of the vectors. \n",
    "\n",
    "\n",
    "A drawback of these models is that they need a lot of training data. Our dataset is tiny, so in addition to using a model trained on the data, we will also use a pre-trained model for Word2Vec (this will be automatically downloaded).     \n",
    "\n",
    "*Note*:\n",
    "1. The code in vectorize_documents / vectorize_query should return gensim-like vectors i.e `[(dim, val), .. (dim, val)]`. \n",
    "2. For Word2Vec: You should also handle the following two cases: (a) A word in the query is not present in the vocabulary of the model and (b) none of the words in the query are present in the model - you can return 0 scores for all documents in this case. For either of these, you can check if a `word` is present in the vocab by using `word in self.model`\n"
   ]
  },
  {
   "cell_type": "code",
   "execution_count": 518,
   "metadata": {
    "deletable": false,
    "nbgrader": {
     "cell_type": "code",
     "checksum": "83ab733608ed14c29c09b36b4e1b6daa",
     "grade": false,
     "grade_id": "cell-2b73759f9baf688f",
     "locked": false,
     "schema_version": 3,
     "solution": true,
     "task": false
    }
   },
   "outputs": [
    {
     "name": "stderr",
     "output_type": "stream",
     "text": [
      "2022-02-24 16:21:23,390 : INFO : adding document #0 to Dictionary(0 unique tokens: [])\n",
      "2022-02-24 16:21:23,483 : INFO : built Dictionary(5937 unique tokens: ['-', 'algebra', 'intern', 'languag', 'preliminari']...) from 3204 documents (total 115969 corpus positions)\n",
      "2022-02-24 16:21:23,483 : INFO : Dictionary lifecycle event {'msg': \"built Dictionary(5937 unique tokens: ['-', 'algebra', 'intern', 'languag', 'preliminari']...) from 3204 documents (total 115969 corpus positions)\", 'datetime': '2022-02-24T16:21:23.483566', 'gensim': '4.1.2', 'python': '3.9.7 (default, Sep 16 2021, 16:59:28) [MSC v.1916 64 bit (AMD64)]', 'platform': 'Windows-10-10.0.19042-SP0', 'event': 'created'}\n",
      "2022-02-24 16:21:23,488 : INFO : discarding 4740 tokens: [('repeat', 8), ('glossari', 7), ('inspect', 8), ('uncol', 2), ('rung', 9), ('secant', 2), ('.', 1603), ('acceler', 6), ('diverg', 3), ('induc', 9)]...\n",
      "2022-02-24 16:21:23,489 : INFO : keeping 1197 tokens which were in no less than 10 and no more than 1602 (=50.0%) documents\n",
      "2022-02-24 16:21:23,492 : INFO : resulting dictionary: Dictionary(1197 unique tokens: ['-', 'algebra', 'intern', 'languag', 'preliminari']...)\n",
      "2022-02-24 16:21:23,543 : INFO : collecting all words and their counts\n",
      "2022-02-24 16:21:23,543 : INFO : PROGRESS: at sentence #0, processed 0 words, keeping 0 word types\n",
      "2022-02-24 16:21:23,559 : INFO : collected 5937 word types from a corpus of 115969 raw words and 3204 sentences\n",
      "2022-02-24 16:21:23,560 : INFO : Creating a fresh vocabulary\n",
      "2022-02-24 16:21:23,578 : INFO : Word2Vec lifecycle event {'msg': 'effective_min_count=1 retains 5937 unique words (100.0%% of original 5937, drops 0)', 'datetime': '2022-02-24T16:21:23.578284', 'gensim': '4.1.2', 'python': '3.9.7 (default, Sep 16 2021, 16:59:28) [MSC v.1916 64 bit (AMD64)]', 'platform': 'Windows-10-10.0.19042-SP0', 'event': 'prepare_vocab'}\n",
      "2022-02-24 16:21:23,579 : INFO : Word2Vec lifecycle event {'msg': 'effective_min_count=1 leaves 115969 word corpus (100.0%% of original 115969, drops 0)', 'datetime': '2022-02-24T16:21:23.578284', 'gensim': '4.1.2', 'python': '3.9.7 (default, Sep 16 2021, 16:59:28) [MSC v.1916 64 bit (AMD64)]', 'platform': 'Windows-10-10.0.19042-SP0', 'event': 'prepare_vocab'}\n",
      "2022-02-24 16:21:23,608 : INFO : deleting the raw counts dictionary of 5937 items\n",
      "2022-02-24 16:21:23,609 : INFO : sample=0.001 downsamples 40 most-common words\n",
      "2022-02-24 16:21:23,609 : INFO : Word2Vec lifecycle event {'msg': 'downsampling leaves estimated 92346.50772718964 word corpus (79.6%% of prior 115969)', 'datetime': '2022-02-24T16:21:23.609229', 'gensim': '4.1.2', 'python': '3.9.7 (default, Sep 16 2021, 16:59:28) [MSC v.1916 64 bit (AMD64)]', 'platform': 'Windows-10-10.0.19042-SP0', 'event': 'prepare_vocab'}\n",
      "2022-02-24 16:21:23,652 : INFO : estimated required memory for 5937 words and 100 dimensions: 7718100 bytes\n",
      "2022-02-24 16:21:23,653 : INFO : resetting layer weights\n",
      "2022-02-24 16:21:23,655 : INFO : Word2Vec lifecycle event {'update': False, 'trim_rule': 'None', 'datetime': '2022-02-24T16:21:23.655079', 'gensim': '4.1.2', 'python': '3.9.7 (default, Sep 16 2021, 16:59:28) [MSC v.1916 64 bit (AMD64)]', 'platform': 'Windows-10-10.0.19042-SP0', 'event': 'build_vocab'}\n",
      "2022-02-24 16:21:23,656 : INFO : Word2Vec lifecycle event {'msg': 'training model with 4 workers on 5937 vocabulary and 100 features, using sg=0 hs=0 sample=0.001 negative=5 window=2 shrink_windows=True', 'datetime': '2022-02-24T16:21:23.656105', 'gensim': '4.1.2', 'python': '3.9.7 (default, Sep 16 2021, 16:59:28) [MSC v.1916 64 bit (AMD64)]', 'platform': 'Windows-10-10.0.19042-SP0', 'event': 'train'}\n",
      "2022-02-24 16:21:23,694 : INFO : worker thread finished; awaiting finish of 3 more threads\n",
      "2022-02-24 16:21:23,696 : INFO : worker thread finished; awaiting finish of 2 more threads\n",
      "2022-02-24 16:21:23,697 : INFO : worker thread finished; awaiting finish of 1 more threads\n",
      "2022-02-24 16:21:23,698 : INFO : worker thread finished; awaiting finish of 0 more threads\n",
      "2022-02-24 16:21:23,699 : INFO : EPOCH - 1 : training on 115969 raw words (92345 effective words) took 0.0s, 2350009 effective words/s\n",
      "2022-02-24 16:21:23,735 : INFO : worker thread finished; awaiting finish of 3 more threads\n",
      "2022-02-24 16:21:23,737 : INFO : worker thread finished; awaiting finish of 2 more threads\n",
      "2022-02-24 16:21:23,739 : INFO : worker thread finished; awaiting finish of 1 more threads\n",
      "2022-02-24 16:21:23,741 : INFO : worker thread finished; awaiting finish of 0 more threads\n",
      "2022-02-24 16:21:23,741 : INFO : EPOCH - 2 : training on 115969 raw words (92226 effective words) took 0.0s, 2363073 effective words/s\n",
      "2022-02-24 16:21:23,778 : INFO : worker thread finished; awaiting finish of 3 more threads\n",
      "2022-02-24 16:21:23,781 : INFO : worker thread finished; awaiting finish of 2 more threads\n",
      "2022-02-24 16:21:23,782 : INFO : worker thread finished; awaiting finish of 1 more threads\n",
      "2022-02-24 16:21:23,784 : INFO : worker thread finished; awaiting finish of 0 more threads\n",
      "2022-02-24 16:21:23,784 : INFO : EPOCH - 3 : training on 115969 raw words (92440 effective words) took 0.0s, 2392903 effective words/s\n",
      "2022-02-24 16:21:23,822 : INFO : worker thread finished; awaiting finish of 3 more threads\n",
      "2022-02-24 16:21:23,826 : INFO : worker thread finished; awaiting finish of 2 more threads\n",
      "2022-02-24 16:21:23,827 : INFO : worker thread finished; awaiting finish of 1 more threads\n",
      "2022-02-24 16:21:23,828 : INFO : worker thread finished; awaiting finish of 0 more threads\n",
      "2022-02-24 16:21:23,829 : INFO : EPOCH - 4 : training on 115969 raw words (92268 effective words) took 0.0s, 2263479 effective words/s\n",
      "2022-02-24 16:21:23,867 : INFO : worker thread finished; awaiting finish of 3 more threads\n",
      "2022-02-24 16:21:23,871 : INFO : worker thread finished; awaiting finish of 2 more threads\n",
      "2022-02-24 16:21:23,872 : INFO : worker thread finished; awaiting finish of 1 more threads\n",
      "2022-02-24 16:21:23,874 : INFO : worker thread finished; awaiting finish of 0 more threads\n",
      "2022-02-24 16:21:23,875 : INFO : EPOCH - 5 : training on 115969 raw words (92243 effective words) took 0.0s, 2175958 effective words/s\n",
      "2022-02-24 16:21:23,875 : INFO : Word2Vec lifecycle event {'msg': 'training on 579845 raw words (461522 effective words) took 0.2s, 2104201 effective words/s', 'datetime': '2022-02-24T16:21:23.875491', 'gensim': '4.1.2', 'python': '3.9.7 (default, Sep 16 2021, 16:59:28) [MSC v.1916 64 bit (AMD64)]', 'platform': 'Windows-10-10.0.19042-SP0', 'event': 'train'}\n",
      "2022-02-24 16:21:23,876 : INFO : Word2Vec lifecycle event {'params': 'Word2Vec(vocab=5937, vector_size=100, alpha=0.025)', 'datetime': '2022-02-24T16:21:23.876487', 'gensim': '4.1.2', 'python': '3.9.7 (default, Sep 16 2021, 16:59:28) [MSC v.1916 64 bit (AMD64)]', 'platform': 'Windows-10-10.0.19042-SP0', 'event': 'created'}\n"
     ]
    },
    {
     "data": {
      "text/plain": [
       "[(0, -0.28269136),\n",
       " (1, 0.49819764),\n",
       " (2, 0.06365946),\n",
       " (3, -0.18719114),\n",
       " (4, 0.0044463915),\n",
       " (5, -0.4760814),\n",
       " (6, 0.3114989),\n",
       " (7, 0.8384582),\n",
       " (8, -0.3059881),\n",
       " (9, -0.2152389),\n",
       " (10, -0.14277785),\n",
       " (11, -0.4898834),\n",
       " (12, 0.2404292),\n",
       " (13, -0.105481125),\n",
       " (14, 0.008063824),\n",
       " (15, -0.36006474),\n",
       " (16, 0.19489853),\n",
       " (17, -0.39115587),\n",
       " (18, -0.17926194),\n",
       " (19, -0.85692096),\n",
       " (20, 0.100521505),\n",
       " (21, -0.03871558),\n",
       " (22, 0.4771609),\n",
       " (23, -0.1497572),\n",
       " (24, -0.2730095),\n",
       " (25, -0.012713571),\n",
       " (26, -0.26674286),\n",
       " (27, -0.26500133),\n",
       " (28, -0.348026),\n",
       " (29, 0.00092919543),\n",
       " (30, 0.5044258),\n",
       " (31, -0.07639225),\n",
       " (32, 0.21755947),\n",
       " (33, -0.3499114),\n",
       " (34, -0.0765402),\n",
       " (35, 0.42081532),\n",
       " (36, 0.26548785),\n",
       " (37, -0.4087433),\n",
       " (38, -0.5128143),\n",
       " (39, -0.66547436),\n",
       " (40, 0.2047444),\n",
       " (41, -0.2456076),\n",
       " (42, -0.4033521),\n",
       " (43, -0.033661615),\n",
       " (44, 0.44646418),\n",
       " (45, -0.28750977),\n",
       " (46, -0.05724067),\n",
       " (47, -0.053733986),\n",
       " (48, 0.26694825),\n",
       " (49, 0.061883844),\n",
       " (50, 0.1839782),\n",
       " (51, -0.46389553),\n",
       " (52, 0.2020439),\n",
       " (53, -0.025349706),\n",
       " (54, -0.340223),\n",
       " (55, 0.11393076),\n",
       " (56, 0.17427497),\n",
       " (57, -0.08872913),\n",
       " (58, -0.40139714),\n",
       " (59, -0.2213561),\n",
       " (60, 0.0875896),\n",
       " (61, 0.20173034),\n",
       " (62, 0.27085412),\n",
       " (63, 0.03881337),\n",
       " (64, -0.52773684),\n",
       " (65, 0.3024378),\n",
       " (66, 0.00020906283),\n",
       " (67, 0.18305175),\n",
       " (68, -0.49198118),\n",
       " (69, 0.21183185),\n",
       " (70, -0.07786807),\n",
       " (71, 0.24015985),\n",
       " (72, 0.29288438),\n",
       " (73, 0.30265543),\n",
       " (74, 0.36074838),\n",
       " (75, 0.12717533),\n",
       " (76, 0.11950878),\n",
       " (77, -0.05676177),\n",
       " (78, -0.67483544),\n",
       " (79, 0.056127053),\n",
       " (80, -0.19516936),\n",
       " (81, -0.08787644),\n",
       " (82, -0.29061368),\n",
       " (83, 0.5855379),\n",
       " (84, -0.07234081),\n",
       " (85, -0.094669074),\n",
       " (86, 0.18951817),\n",
       " (87, 0.3512156),\n",
       " (88, 0.25165817),\n",
       " (89, 0.17090599),\n",
       " (90, 0.3369007),\n",
       " (91, 0.09564203),\n",
       " (92, -0.063135564),\n",
       " (93, 0.18461302),\n",
       " (94, 0.87487227),\n",
       " (95, 0.47802147),\n",
       " (96, 0.12732844),\n",
       " (97, -0.49581608),\n",
       " (98, 0.3373031),\n",
       " (99, -0.08037299)]"
      ]
     },
     "execution_count": 518,
     "metadata": {},
     "output_type": "execute_result"
    }
   ],
   "source": [
    "# TODO: Implement this! (10 points)\n",
    "class W2VRetrievalModel(VectorSpaceRetrievalModel):\n",
    "    def __init__(self, doc_repr):\n",
    "        super().__init__(doc_repr)\n",
    "        \n",
    "        # the dimensionality of the vectors\n",
    "        self.size = 100 \n",
    "        self.min_count = 1\n",
    "    \n",
    "    def train_model(self):\n",
    "        \"\"\"\n",
    "        Trains the W2V model\n",
    "        \"\"\"\n",
    "        self.model = Word2Vec(self.documents, vector_size=self.size, window=2, min_count=self.min_count, workers=4)\n",
    "        \n",
    "    def vectorize_documents(self):\n",
    "        \"\"\"\n",
    "            Returns a doc_id -> vector dictionary\n",
    "        \"\"\"    \n",
    "        vectors={}\n",
    "        for (doc_id, _), cc in zip(self.doc_repr, self.documents):\n",
    "            docvec=np.zeros(self.size)\n",
    "            zer=0\n",
    "            for word in cc:\n",
    "                if word not in self.model.wv:\n",
    "                    zer=1\n",
    "            if zer==0:\n",
    "                docvec = self.model.wv[cc]\n",
    "            tot=np.linspace(0, self.size-1,num=self.size,dtype=int)\n",
    "            real=list(zip(tot, docvec[0]))\n",
    "            vectors[doc_id]=real\n",
    "        return vectors\n",
    "\n",
    "    def vectorize_query(self, query):\n",
    "        \"\"\"\n",
    "        Vectorizes the query using the W2V model\n",
    "        \"\"\"\n",
    "        query = process_text(query, **config_2)\n",
    "        for word in query:\n",
    "            if word not in self.model.wv:\n",
    "                return np.zeros(self.size)\n",
    "        tot=np.linspace(0, self.size-1,num=self.size,dtype=int)\n",
    "        query_vector = self.model.wv[query]\n",
    "        real=list(zip(tot, query_vector[0]))\n",
    "        return real\n",
    "        \n",
    "    \n",
    "    \n",
    "class W2VPretrainedRetrievalModel(W2VRetrievalModel):\n",
    "    def __init__(self, doc_repr):\n",
    "        super().__init__(doc_repr)\n",
    "        self.model_name = \"word2vec-google-news-300\"\n",
    "        self.size = 300\n",
    "    \n",
    "    def train_model(self):\n",
    "        \"\"\"\n",
    "        Loads the pretrained model\n",
    "        \"\"\"\n",
    "        self.model = g_downloader.load(self.model_name)\n",
    "        \n",
    "    def vectorize_documents(self):\n",
    "        \"\"\"\n",
    "            Returns a doc_id -> vector dictionary\n",
    "        \"\"\"    \n",
    "        vectors={}\n",
    "        for (doc_id, _), cc in zip(self.doc_repr, self.documents):\n",
    "            docvec=np.zeros(self.size)\n",
    "            zer=0\n",
    "            for word in cc:\n",
    "                if word not in self.model:\n",
    "                    zer=1\n",
    "            if zer==0:\n",
    "                docvec = self.model[cc]\n",
    "            tot=np.linspace(0, self.size-1,num=self.size,dtype=int)\n",
    "            real=list(zip(tot, docvec[0]))\n",
    "            vectors[doc_id]=real\n",
    "        return vectors\n",
    "\n",
    "    def vectorize_query(self, query):\n",
    "        \"\"\"\n",
    "        Vectorizes the query using the W2V model\n",
    "        \"\"\"\n",
    "        query = process_text(query, **config_2)\n",
    "        for word in query:\n",
    "            if word not in self.model:\n",
    "                return np.zeros(self.size)\n",
    "        tot=np.linspace(0, self.size-1,num=self.size,dtype=int)\n",
    "        query_vector = self.model[query]\n",
    "        real=list(zip(tot, query_vector[0]))\n",
    "        return real\n",
    "\n",
    "\n",
    "w2v = W2VRetrievalModel(doc_repr_2)\n",
    "w2v.train_model()\n",
    "\n",
    "# you can now get a W2V vector for a given query in the following way:\n",
    "w2v.vectorize_query(\"report\")"
   ]
  },
  {
   "cell_type": "code",
   "execution_count": 486,
   "metadata": {
    "deletable": false,
    "editable": false,
    "nbgrader": {
     "cell_type": "code",
     "checksum": "f92b5c5a8c6c4b80652b94223209ab0b",
     "grade": true,
     "grade_id": "cell-b31c0f8d214b8bdf",
     "locked": true,
     "points": 0,
     "schema_version": 3,
     "solution": false,
     "task": false
    }
   },
   "outputs": [],
   "source": [
    "assert len(w2v.vectorize_query(\"report\")) == 100\n",
    "assert len(w2v.vectorize_query(\"this is a sentence that is not mellifluous\")) == 100\n"
   ]
  },
  {
   "cell_type": "markdown",
   "metadata": {
    "deletable": false,
    "editable": false,
    "nbgrader": {
     "cell_type": "markdown",
     "checksum": "8dfaabebcb06f308a7ca61fdc5d369e7",
     "grade": false,
     "grade_id": "cell-c2614fa067386384",
     "locked": true,
     "points": 8,
     "schema_version": 3,
     "solution": false,
     "task": true
    }
   },
   "source": [
    "\\#### Please do not change this. This cell is used for grading."
   ]
  },
  {
   "cell_type": "code",
   "execution_count": 487,
   "metadata": {},
   "outputs": [
    {
     "name": "stderr",
     "output_type": "stream",
     "text": [
      "2022-02-24 16:08:10,890 : INFO : adding document #0 to Dictionary(0 unique tokens: [])\n",
      "2022-02-24 16:08:10,982 : INFO : built Dictionary(5937 unique tokens: ['-', 'algebra', 'intern', 'languag', 'preliminari']...) from 3204 documents (total 115969 corpus positions)\n",
      "2022-02-24 16:08:10,983 : INFO : Dictionary lifecycle event {'msg': \"built Dictionary(5937 unique tokens: ['-', 'algebra', 'intern', 'languag', 'preliminari']...) from 3204 documents (total 115969 corpus positions)\", 'datetime': '2022-02-24T16:08:10.983378', 'gensim': '4.1.2', 'python': '3.9.7 (default, Sep 16 2021, 16:59:28) [MSC v.1916 64 bit (AMD64)]', 'platform': 'Windows-10-10.0.19042-SP0', 'event': 'created'}\n",
      "2022-02-24 16:08:11,029 : INFO : discarding 4740 tokens: [('repeat', 8), ('glossari', 7), ('inspect', 8), ('uncol', 2), ('rung', 9), ('secant', 2), ('.', 1603), ('acceler', 6), ('diverg', 3), ('induc', 9)]...\n",
      "2022-02-24 16:08:11,029 : INFO : keeping 1197 tokens which were in no less than 10 and no more than 1602 (=50.0%) documents\n",
      "2022-02-24 16:08:11,031 : INFO : resulting dictionary: Dictionary(1197 unique tokens: ['-', 'algebra', 'intern', 'languag', 'preliminari']...)\n",
      "2022-02-24 16:08:14,093 : INFO : loading projection weights from C:\\Users\\Bram/gensim-data\\word2vec-google-news-300\\word2vec-google-news-300.gz\n",
      "2022-02-24 16:11:18,169 : INFO : KeyedVectors lifecycle event {'msg': 'loaded (3000000, 300) matrix of type float32 from C:\\\\Users\\\\Bram/gensim-data\\\\word2vec-google-news-300\\\\word2vec-google-news-300.gz', 'binary': True, 'encoding': 'utf8', 'datetime': '2022-02-24T16:11:18.169968', 'gensim': '4.1.2', 'python': '3.9.7 (default, Sep 16 2021, 16:59:28) [MSC v.1916 64 bit (AMD64)]', 'platform': 'Windows-10-10.0.19042-SP0', 'event': 'load_word2vec_format'}\n"
     ]
    },
    {
     "data": {
      "text/plain": [
       "[(0, -0.14257812),\n",
       " (1, -0.1640625),\n",
       " (2, -0.09033203),\n",
       " (3, -0.11230469),\n",
       " (4, 0.100097656),\n",
       " (5, -0.041259766),\n",
       " (6, 0.048828125),\n",
       " (7, -0.13671875),\n",
       " (8, 0.19628906),\n",
       " (9, -0.13476562),\n",
       " (10, -0.017578125),\n",
       " (11, 0.032226562),\n",
       " (12, 0.095214844),\n",
       " (13, -0.10595703),\n",
       " (14, -0.16992188),\n",
       " (15, 0.041015625),\n",
       " (16, -0.26367188),\n",
       " (17, -0.0063171387),\n",
       " (18, -0.17773438),\n",
       " (19, -0.24023438),\n",
       " (20, 0.3515625),\n",
       " (21, -0.012207031),\n",
       " (22, -0.16210938),\n",
       " (23, -0.12060547),\n",
       " (24, 0.04321289),\n",
       " (25, 0.10986328),\n",
       " (26, 0.052490234),\n",
       " (27, 0.17871094),\n",
       " (28, -0.14550781),\n",
       " (29, 0.13769531),\n",
       " (30, -0.08203125),\n",
       " (31, -0.28320312),\n",
       " (32, -0.10888672),\n",
       " (33, -0.2890625),\n",
       " (34, 0.072265625),\n",
       " (35, -0.04736328),\n",
       " (36, 0.040283203),\n",
       " (37, 0.067871094),\n",
       " (38, 0.11669922),\n",
       " (39, 0.000831604),\n",
       " (40, 0.068359375),\n",
       " (41, 0.12011719),\n",
       " (42, -0.088378906),\n",
       " (43, 0.33789062),\n",
       " (44, -0.044677734),\n",
       " (45, -0.030151367),\n",
       " (46, 0.0076904297),\n",
       " (47, -0.021118164),\n",
       " (48, -0.25390625),\n",
       " (49, 0.14941406),\n",
       " (50, 0.3984375),\n",
       " (51, 0.021606445),\n",
       " (52, -0.02319336),\n",
       " (53, 0.0063476562),\n",
       " (54, 0.008239746),\n",
       " (55, -0.16894531),\n",
       " (56, 0.037353516),\n",
       " (57, -0.06347656),\n",
       " (58, 0.1171875),\n",
       " (59, -0.1484375),\n",
       " (60, -0.07861328),\n",
       " (61, 0.36914062),\n",
       " (62, -0.22460938),\n",
       " (63, 0.17382812),\n",
       " (64, 0.0138549805),\n",
       " (65, 0.1875),\n",
       " (66, -0.10107422),\n",
       " (67, 0.037841797),\n",
       " (68, 0.0021209717),\n",
       " (69, -0.05126953),\n",
       " (70, 0.096191406),\n",
       " (71, -0.057128906),\n",
       " (72, 0.10595703),\n",
       " (73, -0.020996094),\n",
       " (74, 0.16113281),\n",
       " (75, 0.09765625),\n",
       " (76, 0.038330078),\n",
       " (77, 0.21972656),\n",
       " (78, 0.10644531),\n",
       " (79, 0.0859375),\n",
       " (80, 0.1796875),\n",
       " (81, -0.08300781),\n",
       " (82, -0.033203125),\n",
       " (83, 0.041015625),\n",
       " (84, -0.064941406),\n",
       " (85, 0.019897461),\n",
       " (86, 0.13378906),\n",
       " (87, -0.09765625),\n",
       " (88, -0.19335938),\n",
       " (89, -0.23535156),\n",
       " (90, 0.19042969),\n",
       " (91, 0.0024871826),\n",
       " (92, -0.01574707),\n",
       " (93, 0.032226562),\n",
       " (94, -0.21972656),\n",
       " (95, -0.091308594),\n",
       " (96, 0.021240234),\n",
       " (97, 0.15820312),\n",
       " (98, 0.29882812),\n",
       " (99, -0.328125),\n",
       " (100, 0.057373047),\n",
       " (101, -0.04638672),\n",
       " (102, 0.11328125),\n",
       " (103, -0.1015625),\n",
       " (104, 0.18066406),\n",
       " (105, -0.025146484),\n",
       " (106, -0.16601562),\n",
       " (107, -0.096191406),\n",
       " (108, 0.018798828),\n",
       " (109, -0.19433594),\n",
       " (110, 0.14941406),\n",
       " (111, -0.056640625),\n",
       " (112, -0.106933594),\n",
       " (113, -0.15039062),\n",
       " (114, -0.17578125),\n",
       " (115, 0.11279297),\n",
       " (116, 0.049316406),\n",
       " (117, 0.21972656),\n",
       " (118, 0.31835938),\n",
       " (119, 0.15722656),\n",
       " (120, -0.29296875),\n",
       " (121, 0.10498047),\n",
       " (122, -0.296875),\n",
       " (123, -0.013427734),\n",
       " (124, 0.09082031),\n",
       " (125, 0.012573242),\n",
       " (126, -0.051513672),\n",
       " (127, -0.12890625),\n",
       " (128, 0.014465332),\n",
       " (129, 0.12060547),\n",
       " (130, -0.10107422),\n",
       " (131, -0.111328125),\n",
       " (132, 0.063964844),\n",
       " (133, -0.052978516),\n",
       " (134, -0.04321289),\n",
       " (135, -0.012939453),\n",
       " (136, -0.02758789),\n",
       " (137, -0.09716797),\n",
       " (138, -0.20214844),\n",
       " (139, 0.123046875),\n",
       " (140, -0.04248047),\n",
       " (141, 0.17382812),\n",
       " (142, -0.013671875),\n",
       " (143, 0.1015625),\n",
       " (144, -0.0009384155),\n",
       " (145, -0.03564453),\n",
       " (146, 0.30078125),\n",
       " (147, -0.068359375),\n",
       " (148, -0.056152344),\n",
       " (149, 0.037597656),\n",
       " (150, 0.06591797),\n",
       " (151, 0.040283203),\n",
       " (152, 0.0119018555),\n",
       " (153, 0.096191406),\n",
       " (154, 0.3671875),\n",
       " (155, -0.27929688),\n",
       " (156, -0.052001953),\n",
       " (157, -0.106933594),\n",
       " (158, -0.13476562),\n",
       " (159, -0.046142578),\n",
       " (160, 0.25),\n",
       " (161, 0.0056762695),\n",
       " (162, -0.014404297),\n",
       " (163, -0.03100586),\n",
       " (164, -0.060302734),\n",
       " (165, 0.10595703),\n",
       " (166, 0.37890625),\n",
       " (167, 0.05883789),\n",
       " (168, 0.123046875),\n",
       " (169, -0.115234375),\n",
       " (170, 0.14941406),\n",
       " (171, -0.1640625),\n",
       " (172, -0.23339844),\n",
       " (173, -0.07763672),\n",
       " (174, 0.026733398),\n",
       " (175, -0.021118164),\n",
       " (176, 0.19433594),\n",
       " (177, -0.056152344),\n",
       " (178, -0.006439209),\n",
       " (179, -0.16992188),\n",
       " (180, -0.118652344),\n",
       " (181, -0.06738281),\n",
       " (182, -0.068847656),\n",
       " (183, -0.08691406),\n",
       " (184, -0.1015625),\n",
       " (185, 0.014160156),\n",
       " (186, -0.20117188),\n",
       " (187, 0.09814453),\n",
       " (188, -0.010253906),\n",
       " (189, 0.1875),\n",
       " (190, 0.19628906),\n",
       " (191, -0.22070312),\n",
       " (192, -0.19628906),\n",
       " (193, -0.07373047),\n",
       " (194, 0.06640625),\n",
       " (195, -0.13378906),\n",
       " (196, 0.18359375),\n",
       " (197, -0.20019531),\n",
       " (198, 0.19824219),\n",
       " (199, 0.05029297),\n",
       " (200, 0.029907227),\n",
       " (201, 0.017700195),\n",
       " (202, -0.19335938),\n",
       " (203, -0.096191406),\n",
       " (204, -0.10253906),\n",
       " (205, 0.21289062),\n",
       " (206, -0.029907227),\n",
       " (207, 0.14355469),\n",
       " (208, 0.041015625),\n",
       " (209, -0.21191406),\n",
       " (210, 0.20800781),\n",
       " (211, 0.13769531),\n",
       " (212, -0.01965332),\n",
       " (213, 0.014953613),\n",
       " (214, -0.09765625),\n",
       " (215, 0.24316406),\n",
       " (216, 0.080078125),\n",
       " (217, 0.08251953),\n",
       " (218, 0.09863281),\n",
       " (219, 0.056884766),\n",
       " (220, 0.04248047),\n",
       " (221, 0.068847656),\n",
       " (222, -0.03540039),\n",
       " (223, -0.076171875),\n",
       " (224, -0.00016117096),\n",
       " (225, -0.07519531),\n",
       " (226, 0.22460938),\n",
       " (227, 0.15136719),\n",
       " (228, 0.10058594),\n",
       " (229, 0.10986328),\n",
       " (230, 0.023803711),\n",
       " (231, 0.088378906),\n",
       " (232, 0.061767578),\n",
       " (233, -0.107910156),\n",
       " (234, 0.06225586),\n",
       " (235, 0.0034332275),\n",
       " (236, 0.080566406),\n",
       " (237, 0.106933594),\n",
       " (238, 0.08886719),\n",
       " (239, -0.23730469),\n",
       " (240, 0.064941406),\n",
       " (241, 0.010192871),\n",
       " (242, -0.088378906),\n",
       " (243, -0.33203125),\n",
       " (244, 0.0046691895),\n",
       " (245, 0.21289062),\n",
       " (246, 0.0859375),\n",
       " (247, 0.020385742),\n",
       " (248, 0.045654297),\n",
       " (249, 0.1484375),\n",
       " (250, 0.11816406),\n",
       " (251, 0.055664062),\n",
       " (252, -0.17285156),\n",
       " (253, -0.125),\n",
       " (254, -0.025390625),\n",
       " (255, -0.31835938),\n",
       " (256, 0.03112793),\n",
       " (257, 0.0859375),\n",
       " (258, -0.041992188),\n",
       " (259, 0.15625),\n",
       " (260, 0.16113281),\n",
       " (261, 0.19824219),\n",
       " (262, -0.100097656),\n",
       " (263, 0.203125),\n",
       " (264, 0.12890625),\n",
       " (265, 0.23339844),\n",
       " (266, -0.26757812),\n",
       " (267, 0.05517578),\n",
       " (268, 0.048828125),\n",
       " (269, 0.072265625),\n",
       " (270, 0.24414062),\n",
       " (271, 0.24414062),\n",
       " (272, 0.056884766),\n",
       " (273, -0.0546875),\n",
       " (274, -0.033691406),\n",
       " (275, -0.12060547),\n",
       " (276, 0.03491211),\n",
       " (277, -0.14550781),\n",
       " (278, 0.087402344),\n",
       " (279, -0.08300781),\n",
       " (280, 0.017211914),\n",
       " (281, 0.14355469),\n",
       " (282, -0.122558594),\n",
       " (283, 0.1796875),\n",
       " (284, 0.13085938),\n",
       " (285, -0.16503906),\n",
       " (286, 0.012756348),\n",
       " (287, 0.16015625),\n",
       " (288, -0.03112793),\n",
       " (289, 0.08203125),\n",
       " (290, 0.17382812),\n",
       " (291, -0.16796875),\n",
       " (292, 0.13085938),\n",
       " (293, 0.08544922),\n",
       " (294, -0.2109375),\n",
       " (295, -0.13085938),\n",
       " (296, -0.028930664),\n",
       " (297, -0.10546875),\n",
       " (298, 0.084472656),\n",
       " (299, -0.14160156)]"
      ]
     },
     "execution_count": 487,
     "metadata": {},
     "output_type": "execute_result"
    }
   ],
   "source": [
    "w2v_pretrained = W2VPretrainedRetrievalModel(doc_repr_2)\n",
    "w2v_pretrained.train_model()\n",
    "\n",
    "# you can now get an W2V vector for a given query in the following way:\n",
    "w2v_pretrained.vectorize_query(\"report\")"
   ]
  },
  {
   "cell_type": "code",
   "execution_count": 223,
   "metadata": {
    "deletable": false,
    "editable": false,
    "nbgrader": {
     "cell_type": "code",
     "checksum": "0822845afb5eafe5ddb1ffeaa4f4942a",
     "grade": true,
     "grade_id": "cell-1b1466f8ce516f42",
     "locked": true,
     "points": 2,
     "schema_version": 3,
     "solution": false,
     "task": false
    }
   },
   "outputs": [
    {
     "name": "stdout",
     "output_type": "stream",
     "text": [
      "300\n"
     ]
    }
   ],
   "source": [
    "##### Function check\n",
    "\n",
    "print(len(w2v_pretrained.vectorize_query(\"report\")))\n",
    "#####"
   ]
  },
  {
   "cell_type": "code",
   "execution_count": 224,
   "metadata": {},
   "outputs": [
    {
     "data": {
      "application/vnd.jupyter.widget-view+json": {
       "model_id": "38c50ea3d74045f29c548fb1f6681c58",
       "version_major": 2,
       "version_minor": 0
      },
      "text/plain": [
       "Text(value='', description='Search Bar')"
      ]
     },
     "metadata": {},
     "output_type": "display_data"
    },
    {
     "name": "stdout",
     "output_type": "stream",
     "text": [
      "Searching for: 'great' (SEARCH FN: <bound method DenseRetrievalRanker.search of <__main__.DenseRetrievalRanker object at 0x00000270DEBB7190>>)\n"
     ]
    },
    {
     "data": {
      "text/html": [
       "<ul></ul>"
      ],
      "text/plain": [
       "<IPython.core.display.HTML object>"
      ]
     },
     "metadata": {},
     "output_type": "display_data"
    }
   ],
   "source": [
    "drm_w2v = DenseRetrievalRanker(w2v, cosine_sim)\n",
    "\n",
    "# test your LDA model\n",
    "search_fn = drm_w2v.search\n",
    "\n",
    "text = widgets.Text(description=\"Search Bar\", width=200)\n",
    "display(text)\n",
    "\n",
    "\n",
    "text.on_submit(handle_submit_2)"
   ]
  },
  {
   "cell_type": "code",
   "execution_count": 225,
   "metadata": {},
   "outputs": [
    {
     "data": {
      "application/vnd.jupyter.widget-view+json": {
       "model_id": "80af2ec212eb462fa5f3013684d2b95f",
       "version_major": 2,
       "version_minor": 0
      },
      "text/plain": [
       "Text(value='', description='Search Bar')"
      ]
     },
     "metadata": {},
     "output_type": "display_data"
    },
    {
     "name": "stdout",
     "output_type": "stream",
     "text": [
      "Searching for: 'report' (SEARCH FN: <bound method DenseRetrievalRanker.search of <__main__.DenseRetrievalRanker object at 0x00000271CCEA6340>>)\n"
     ]
    },
    {
     "data": {
      "text/html": [
       "<ul></ul>"
      ],
      "text/plain": [
       "<IPython.core.display.HTML object>"
      ]
     },
     "metadata": {},
     "output_type": "display_data"
    }
   ],
   "source": [
    "drm_w2v_pretrained = DenseRetrievalRanker(w2v_pretrained, cosine_sim)\n",
    "\n",
    "#test your LDA model\n",
    "search_fn = drm_w2v_pretrained.search\n",
    "\n",
    "text = widgets.Text(description=\"Search Bar\", width=200)\n",
    "display(text)\n",
    "\n",
    "\n",
    "text.on_submit(handle_submit_2)"
   ]
  },
  {
   "cell_type": "markdown",
   "metadata": {
    "deletable": false,
    "editable": false,
    "nbgrader": {
     "cell_type": "markdown",
     "checksum": "51b778984fd60757974f51047c61eb15",
     "grade": false,
     "grade_id": "cell-b92f701cbc706108",
     "locked": true,
     "schema_version": 3,
     "solution": false,
     "task": false
    }
   },
   "source": [
    "**Implementation (10 points):**\n",
    "For Doc2Vec, you will need to create a list of `TaggedDocument` instead of using the `self.corpus` or `self.documents` variable. Use the document id as the 'tag'.\n",
    "  "
   ]
  },
  {
   "cell_type": "code",
   "execution_count": 82,
   "metadata": {
    "deletable": false,
    "editable": false,
    "nbgrader": {
     "cell_type": "code",
     "checksum": "e83a363a9d4f136efbdde1426a83925e",
     "grade": true,
     "grade_id": "cell-5e2c5e0c9a2e8cb5",
     "locked": true,
     "points": 0,
     "schema_version": 3,
     "solution": false,
     "task": false
    }
   },
   "outputs": [],
   "source": [
    "#### Please do not change this. This cell is used for grading."
   ]
  },
  {
   "cell_type": "markdown",
   "metadata": {
    "deletable": false,
    "editable": false,
    "nbgrader": {
     "cell_type": "markdown",
     "checksum": "5bb46bf6b9be1e0ca66f0b0bc6260ecb",
     "grade": false,
     "grade_id": "cell-8a49d414f798a595",
     "locked": true,
     "points": 10,
     "schema_version": 3,
     "solution": false,
     "task": true
    }
   },
   "source": [
    "\\#### Please do not change this. This cell is used for grading."
   ]
  },
  {
   "cell_type": "code",
   "execution_count": 582,
   "metadata": {
    "deletable": false,
    "nbgrader": {
     "cell_type": "code",
     "checksum": "1f60fdeb97febb7f4a6fd5bf109aac20",
     "grade": false,
     "grade_id": "cell-680facdcc98a19ab",
     "locked": false,
     "schema_version": 3,
     "solution": true,
     "task": false
    }
   },
   "outputs": [
    {
     "name": "stderr",
     "output_type": "stream",
     "text": [
      "2022-02-24 16:50:48,517 : INFO : adding document #0 to Dictionary(0 unique tokens: [])\n",
      "2022-02-24 16:50:48,609 : INFO : built Dictionary(5937 unique tokens: ['-', 'algebra', 'intern', 'languag', 'preliminari']...) from 3204 documents (total 115969 corpus positions)\n",
      "2022-02-24 16:50:48,610 : INFO : Dictionary lifecycle event {'msg': \"built Dictionary(5937 unique tokens: ['-', 'algebra', 'intern', 'languag', 'preliminari']...) from 3204 documents (total 115969 corpus positions)\", 'datetime': '2022-02-24T16:50:48.610017', 'gensim': '4.1.2', 'python': '3.9.7 (default, Sep 16 2021, 16:59:28) [MSC v.1916 64 bit (AMD64)]', 'platform': 'Windows-10-10.0.19042-SP0', 'event': 'created'}\n",
      "2022-02-24 16:50:48,615 : INFO : discarding 4740 tokens: [('repeat', 8), ('glossari', 7), ('inspect', 8), ('uncol', 2), ('rung', 9), ('secant', 2), ('.', 1603), ('acceler', 6), ('diverg', 3), ('induc', 9)]...\n",
      "2022-02-24 16:50:48,615 : INFO : keeping 1197 tokens which were in no less than 10 and no more than 1602 (=50.0%) documents\n",
      "2022-02-24 16:50:48,617 : INFO : resulting dictionary: Dictionary(1197 unique tokens: ['-', 'algebra', 'intern', 'languag', 'preliminari']...)\n",
      "2022-02-24 16:50:48,669 : INFO : collecting all words and their counts\n",
      "2022-02-24 16:50:48,669 : INFO : PROGRESS: at example #0, processed 0 words (0/s), 0 word types, 0 tags\n",
      "2022-02-24 16:50:48,692 : INFO : collected 5937 word types and 10 unique tags from a corpus of 3204 examples and 115969 words\n",
      "2022-02-24 16:50:48,692 : INFO : Creating a fresh vocabulary\n",
      "2022-02-24 16:50:48,710 : INFO : Doc2Vec lifecycle event {'msg': 'effective_min_count=1 retains 5937 unique words (100.0%% of original 5937, drops 0)', 'datetime': '2022-02-24T16:50:48.710745', 'gensim': '4.1.2', 'python': '3.9.7 (default, Sep 16 2021, 16:59:28) [MSC v.1916 64 bit (AMD64)]', 'platform': 'Windows-10-10.0.19042-SP0', 'event': 'prepare_vocab'}\n",
      "2022-02-24 16:50:48,711 : INFO : Doc2Vec lifecycle event {'msg': 'effective_min_count=1 leaves 115969 word corpus (100.0%% of original 115969, drops 0)', 'datetime': '2022-02-24T16:50:48.711743', 'gensim': '4.1.2', 'python': '3.9.7 (default, Sep 16 2021, 16:59:28) [MSC v.1916 64 bit (AMD64)]', 'platform': 'Windows-10-10.0.19042-SP0', 'event': 'prepare_vocab'}\n",
      "2022-02-24 16:50:48,741 : INFO : deleting the raw counts dictionary of 5937 items\n",
      "2022-02-24 16:50:48,741 : INFO : sample=0.001 downsamples 40 most-common words\n",
      "2022-02-24 16:50:48,742 : INFO : Doc2Vec lifecycle event {'msg': 'downsampling leaves estimated 92346.50772718964 word corpus (79.6%% of prior 115969)', 'datetime': '2022-02-24T16:50:48.742665', 'gensim': '4.1.2', 'python': '3.9.7 (default, Sep 16 2021, 16:59:28) [MSC v.1916 64 bit (AMD64)]', 'platform': 'Windows-10-10.0.19042-SP0', 'event': 'prepare_vocab'}\n",
      "2022-02-24 16:50:48,787 : INFO : estimated required memory for 5937 words and 100 dimensions: 7724100 bytes\n",
      "2022-02-24 16:50:48,787 : INFO : resetting layer weights\n",
      "2022-02-24 16:50:48,790 : INFO : Doc2Vec lifecycle event {'msg': 'training model with 4 workers on 5937 vocabulary and 100 features, using sg=0 hs=0 sample=0.001 negative=5 window=5 shrink_windows=True', 'datetime': '2022-02-24T16:50:48.790539', 'gensim': '4.1.2', 'python': '3.9.7 (default, Sep 16 2021, 16:59:28) [MSC v.1916 64 bit (AMD64)]', 'platform': 'Windows-10-10.0.19042-SP0', 'event': 'train'}\n",
      "2022-02-24 16:50:48,976 : INFO : worker thread finished; awaiting finish of 3 more threads\n",
      "2022-02-24 16:50:48,988 : INFO : worker thread finished; awaiting finish of 2 more threads\n",
      "2022-02-24 16:50:48,993 : INFO : worker thread finished; awaiting finish of 1 more threads\n",
      "2022-02-24 16:50:48,996 : INFO : worker thread finished; awaiting finish of 0 more threads\n",
      "2022-02-24 16:50:48,997 : INFO : EPOCH - 1 : training on 115969 raw words (104100 effective words) took 0.2s, 513796 effective words/s\n",
      "2022-02-24 16:50:49,188 : INFO : worker thread finished; awaiting finish of 3 more threads\n",
      "2022-02-24 16:50:49,196 : INFO : worker thread finished; awaiting finish of 2 more threads\n",
      "2022-02-24 16:50:49,200 : INFO : worker thread finished; awaiting finish of 1 more threads\n",
      "2022-02-24 16:50:49,202 : INFO : worker thread finished; awaiting finish of 0 more threads\n",
      "2022-02-24 16:50:49,203 : INFO : EPOCH - 2 : training on 115969 raw words (104100 effective words) took 0.2s, 516492 effective words/s\n",
      "2022-02-24 16:50:49,403 : INFO : worker thread finished; awaiting finish of 3 more threads\n",
      "2022-02-24 16:50:49,413 : INFO : worker thread finished; awaiting finish of 2 more threads\n",
      "2022-02-24 16:50:49,414 : INFO : worker thread finished; awaiting finish of 1 more threads\n",
      "2022-02-24 16:50:49,417 : INFO : worker thread finished; awaiting finish of 0 more threads\n",
      "2022-02-24 16:50:49,417 : INFO : EPOCH - 3 : training on 115969 raw words (104042 effective words) took 0.2s, 493947 effective words/s\n",
      "2022-02-24 16:50:49,622 : INFO : worker thread finished; awaiting finish of 3 more threads\n",
      "2022-02-24 16:50:49,630 : INFO : worker thread finished; awaiting finish of 2 more threads\n",
      "2022-02-24 16:50:49,631 : INFO : worker thread finished; awaiting finish of 1 more threads\n",
      "2022-02-24 16:50:49,632 : INFO : worker thread finished; awaiting finish of 0 more threads\n",
      "2022-02-24 16:50:49,633 : INFO : EPOCH - 4 : training on 115969 raw words (104039 effective words) took 0.2s, 491112 effective words/s\n",
      "2022-02-24 16:50:49,829 : INFO : worker thread finished; awaiting finish of 3 more threads\n",
      "2022-02-24 16:50:49,841 : INFO : worker thread finished; awaiting finish of 2 more threads\n",
      "2022-02-24 16:50:49,842 : INFO : worker thread finished; awaiting finish of 1 more threads\n",
      "2022-02-24 16:50:49,844 : INFO : worker thread finished; awaiting finish of 0 more threads\n",
      "2022-02-24 16:50:49,844 : INFO : EPOCH - 5 : training on 115969 raw words (103969 effective words) took 0.2s, 501680 effective words/s\n",
      "2022-02-24 16:50:50,028 : INFO : worker thread finished; awaiting finish of 3 more threads\n",
      "2022-02-24 16:50:50,047 : INFO : worker thread finished; awaiting finish of 2 more threads\n",
      "2022-02-24 16:50:50,049 : INFO : worker thread finished; awaiting finish of 1 more threads\n",
      "2022-02-24 16:50:50,049 : INFO : worker thread finished; awaiting finish of 0 more threads\n",
      "2022-02-24 16:50:50,049 : INFO : EPOCH - 6 : training on 115969 raw words (104236 effective words) took 0.2s, 519083 effective words/s\n",
      "2022-02-24 16:50:50,238 : INFO : worker thread finished; awaiting finish of 3 more threads\n",
      "2022-02-24 16:50:50,255 : INFO : worker thread finished; awaiting finish of 2 more threads\n",
      "2022-02-24 16:50:50,257 : INFO : worker thread finished; awaiting finish of 1 more threads\n",
      "2022-02-24 16:50:50,258 : INFO : worker thread finished; awaiting finish of 0 more threads\n",
      "2022-02-24 16:50:50,258 : INFO : EPOCH - 7 : training on 115969 raw words (104111 effective words) took 0.2s, 508497 effective words/s\n",
      "2022-02-24 16:50:50,449 : INFO : worker thread finished; awaiting finish of 3 more threads\n",
      "2022-02-24 16:50:50,460 : INFO : worker thread finished; awaiting finish of 2 more threads\n",
      "2022-02-24 16:50:50,461 : INFO : worker thread finished; awaiting finish of 1 more threads\n",
      "2022-02-24 16:50:50,464 : INFO : worker thread finished; awaiting finish of 0 more threads\n",
      "2022-02-24 16:50:50,465 : INFO : EPOCH - 8 : training on 115969 raw words (104072 effective words) took 0.2s, 513083 effective words/s\n",
      "2022-02-24 16:50:50,662 : INFO : worker thread finished; awaiting finish of 3 more threads\n",
      "2022-02-24 16:50:50,673 : INFO : worker thread finished; awaiting finish of 2 more threads\n",
      "2022-02-24 16:50:50,676 : INFO : worker thread finished; awaiting finish of 1 more threads\n",
      "2022-02-24 16:50:50,678 : INFO : worker thread finished; awaiting finish of 0 more threads\n",
      "2022-02-24 16:50:50,678 : INFO : EPOCH - 9 : training on 115969 raw words (104019 effective words) took 0.2s, 498210 effective words/s\n",
      "2022-02-24 16:50:50,867 : INFO : worker thread finished; awaiting finish of 3 more threads\n",
      "2022-02-24 16:50:50,882 : INFO : worker thread finished; awaiting finish of 2 more threads\n",
      "2022-02-24 16:50:50,884 : INFO : worker thread finished; awaiting finish of 1 more threads\n",
      "2022-02-24 16:50:50,885 : INFO : worker thread finished; awaiting finish of 0 more threads\n",
      "2022-02-24 16:50:50,886 : INFO : EPOCH - 10 : training on 115969 raw words (104086 effective words) took 0.2s, 510091 effective words/s\n"
     ]
    },
    {
     "name": "stderr",
     "output_type": "stream",
     "text": [
      "2022-02-24 16:50:50,886 : INFO : Doc2Vec lifecycle event {'msg': 'training on 1159690 raw words (1040774 effective words) took 2.1s, 496468 effective words/s', 'datetime': '2022-02-24T16:50:50.886794', 'gensim': '4.1.2', 'python': '3.9.7 (default, Sep 16 2021, 16:59:28) [MSC v.1916 64 bit (AMD64)]', 'platform': 'Windows-10-10.0.19042-SP0', 'event': 'train'}\n",
      "2022-02-24 16:50:50,887 : INFO : Doc2Vec lifecycle event {'params': 'Doc2Vec(dm/m,d100,n5,w5,s0.001,t4)', 'datetime': '2022-02-24T16:50:50.887791', 'gensim': '4.1.2', 'python': '3.9.7 (default, Sep 16 2021, 16:59:28) [MSC v.1916 64 bit (AMD64)]', 'platform': 'Windows-10-10.0.19042-SP0', 'event': 'created'}\n"
     ]
    },
    {
     "data": {
      "text/plain": [
       "[(0, -0.31818688),\n",
       " (1, -0.3642748),\n",
       " (2, -0.4794853),\n",
       " (3, 0.28377432),\n",
       " (4, 0.033227865),\n",
       " (5, -0.07386055),\n",
       " (6, -0.38798797),\n",
       " (7, -0.018074824),\n",
       " (8, -0.7126169),\n",
       " (9, 0.05327832),\n",
       " (10, 0.09299619),\n",
       " (11, 0.035904825),\n",
       " (12, -0.13017577),\n",
       " (13, -0.18614832),\n",
       " (14, -0.24202296),\n",
       " (15, -0.46552107),\n",
       " (16, 0.2416039),\n",
       " (17, 0.46236992),\n",
       " (18, -0.21027808),\n",
       " (19, -0.26402554),\n",
       " (20, -0.085892364),\n",
       " (21, 0.07353525),\n",
       " (22, -0.15807979),\n",
       " (23, 0.35701814),\n",
       " (24, 0.10416707),\n",
       " (25, -0.3896972),\n",
       " (26, -0.5616182),\n",
       " (27, -0.57713115),\n",
       " (28, 0.14533271),\n",
       " (29, -0.73964125),\n",
       " (30, 0.35103235),\n",
       " (31, 0.3870823),\n",
       " (32, -0.25085452),\n",
       " (33, -0.03265667),\n",
       " (34, -0.10750699),\n",
       " (35, 0.22283392),\n",
       " (36, -0.31515235),\n",
       " (37, -0.69298786),\n",
       " (38, -0.20739423),\n",
       " (39, -0.19842733),\n",
       " (40, 0.15136081),\n",
       " (41, -0.32502896),\n",
       " (42, 0.1928304),\n",
       " (43, -0.43657002),\n",
       " (44, -0.04799908),\n",
       " (45, -0.20189176),\n",
       " (46, -0.09227677),\n",
       " (47, 0.0713862),\n",
       " (48, 0.17575511),\n",
       " (49, -0.30014163),\n",
       " (50, -0.369882),\n",
       " (51, -0.09109342),\n",
       " (52, -0.20244583),\n",
       " (53, -0.21830146),\n",
       " (54, -0.18817636),\n",
       " (55, 0.4476132),\n",
       " (56, -0.37658212),\n",
       " (57, 0.49952036),\n",
       " (58, -0.44094598),\n",
       " (59, 0.25919473),\n",
       " (60, 0.5381118),\n",
       " (61, 0.6282413),\n",
       " (62, 0.03848773),\n",
       " (63, -0.099800244),\n",
       " (64, 0.16316225),\n",
       " (65, -0.074535444),\n",
       " (66, 0.46796077),\n",
       " (67, 0.04630925),\n",
       " (68, -0.284734),\n",
       " (69, -0.23359525),\n",
       " (70, -0.5975924),\n",
       " (71, -0.1356973),\n",
       " (72, -0.72234917),\n",
       " (73, -0.4567442),\n",
       " (74, 0.09209289),\n",
       " (75, 0.47654596),\n",
       " (76, -0.022063654),\n",
       " (77, -0.54591274),\n",
       " (78, -0.05496796),\n",
       " (79, 0.33312362),\n",
       " (80, 0.24071805),\n",
       " (81, 0.40904987),\n",
       " (82, -0.6320102),\n",
       " (83, 0.114095494),\n",
       " (84, 0.1744855),\n",
       " (85, 0.58927464),\n",
       " (86, 0.041462053),\n",
       " (87, -0.23978494),\n",
       " (88, 0.35598314),\n",
       " (89, 0.14165927),\n",
       " (90, -0.56408536),\n",
       " (91, 0.3148656),\n",
       " (92, -0.7806368),\n",
       " (93, -0.19001248),\n",
       " (94, -0.04570437),\n",
       " (95, 0.6836144),\n",
       " (96, -0.008488665),\n",
       " (97, -0.20829956),\n",
       " (98, 0.4548093),\n",
       " (99, 0.18983138)]"
      ]
     },
     "execution_count": 582,
     "metadata": {},
     "output_type": "execute_result"
    }
   ],
   "source": [
    "# TODO: Implement this! (10 points)\n",
    "class D2VRetrievalModel(VectorSpaceRetrievalModel):\n",
    "    def __init__(self, doc_repr):\n",
    "        super().__init__(doc_repr)\n",
    "        \n",
    "        self.vector_size= 100\n",
    "        self.min_count = 1\n",
    "        self.epochs = 20\n",
    "        self.doc = [TaggedDocument(d[1], d[0]) for i, d in enumerate(doc_repr)]\n",
    "        \n",
    "    def train_model(self):\n",
    "        \"\"\"\n",
    "        Trains the W2V model\n",
    "        \"\"\"\n",
    "        self.model = Doc2Vec(self.doc, vector_size=self.vector_size, window=5, min_count=self.min_count, workers=4)\n",
    "        \n",
    "    def vectorize_documents(self):\n",
    "        \"\"\"\n",
    "            Returns a doc_id -> vector dictionary\n",
    "        \"\"\"    \n",
    "        vectors={}\n",
    "        \n",
    "        for (_, doc_id) in self.doc:\n",
    "            if doc_id not in self.model.dv:\n",
    "                docvec=np.zeros(self.vector_size)\n",
    "            else:\n",
    "                docvec=self.model.dv[doc_id]\n",
    "            tot=np.linspace(0, self.vector_size-1,num=self.vector_size,dtype=int)\n",
    "            real=list(zip(tot, docvec))\n",
    "            vectors[doc_id]=real\n",
    "            \n",
    "        return vectors\n",
    "\n",
    "    def vectorize_query(self, query):\n",
    "        \"\"\"\n",
    "        Vectorizes the query using the W2V model\n",
    "        \"\"\"\n",
    "        query = process_text(query, **config_2)\n",
    "        for word in query:\n",
    "            if word not in self.model.wv:\n",
    "                return np.zeros(self.vector_size)\n",
    "        tot=np.linspace(0, self.vector_size-1,num=self.vector_size,dtype=int)\n",
    "        query_vector = self.model.wv[query]\n",
    "        real=list(zip(tot, query_vector[0]))\n",
    "        \n",
    "        return real\n",
    "        \n",
    "d2v = D2VRetrievalModel(doc_repr_2)\n",
    "d2v.train_model()\n",
    "\n",
    "\n",
    "# # you can now get an LSI vector for a given query in the following way:\n",
    "d2v.vectorize_query(\"report\")"
   ]
  },
  {
   "cell_type": "code",
   "execution_count": 583,
   "metadata": {},
   "outputs": [
    {
     "data": {
      "application/vnd.jupyter.widget-view+json": {
       "model_id": "5ddea5f80c0b4fd09b2d1b687f95aa1d",
       "version_major": 2,
       "version_minor": 0
      },
      "text/plain": [
       "Text(value='', description='Search Bar')"
      ]
     },
     "metadata": {},
     "output_type": "display_data"
    },
    {
     "name": "stdout",
     "output_type": "stream",
     "text": [
      "Searching for: 'report' (SEARCH FN: <bound method DenseRetrievalRanker.search of <__main__.DenseRetrievalRanker object at 0x000002713F701E50>>)\n"
     ]
    },
    {
     "name": "stderr",
     "output_type": "stream",
     "text": [
      "C:\\Users\\Bram\\AppData\\Local\\Temp/ipykernel_15384/1313106104.py:23: RuntimeWarning: invalid value encountered in double_scalars\n",
      "  return d/(np.dot(squar_1,squar_2))\n"
     ]
    },
    {
     "data": {
      "text/html": [
       "<ul><li>Document #4(0.5788567581129961): Glossary of Computer Engineering and Programming Terminology\n",
       "</li><li>Document #5(0.5110267857888778): Two Square-Root Approximations\n",
       "</li><li>Document #6(0.5072478855580382): The Use of Computers in Inspection Procedures\n",
       "</li><li>Document #8(0.49067541373279266): On The Equivalence and Transformation of Program Schemes\n",
       "</li><li>Document #1(0.48580319049554177): ...Preliminary <strong>Report</strong>-International Al...</li></ul>"
      ],
      "text/plain": [
       "<IPython.core.display.HTML object>"
      ]
     },
     "metadata": {},
     "output_type": "display_data"
    }
   ],
   "source": [
    "drm_d2v = DenseRetrievalRanker(d2v, cosine_sim)\n",
    "\n",
    "# test your LDA model\n",
    "search_fn = drm_d2v.search\n",
    "\n",
    "text = widgets.Text(description=\"Search Bar\", width=200)\n",
    "display(text)\n",
    "\n",
    "\n",
    "text.on_submit(handle_submit_2)"
   ]
  },
  {
   "cell_type": "markdown",
   "metadata": {
    "deletable": false,
    "editable": false,
    "nbgrader": {
     "cell_type": "markdown",
     "checksum": "363ec36c1d03d9f9e1c2045a6e193c14",
     "grade": false,
     "grade_id": "cell-3529ae29eece7b97",
     "locked": true,
     "schema_version": 3,
     "solution": false,
     "task": false
    }
   },
   "source": [
    "---\n",
    "## Section 9: Re-ranking (10 points) <a class=\"anchor\" id=\"reranking\"></a>\n",
    "\n",
    "[Back to Part 2](#part2)\n",
    "\n",
    "To motivate the re-ranking perspective (i.e retrieve with lexical method + rerank with a semantic method), let's search using semantic methods and compare it to BM25's performance, along with their runtime:\n"
   ]
  },
  {
   "cell_type": "code",
   "execution_count": 255,
   "metadata": {
    "deletable": false,
    "editable": false,
    "nbgrader": {
     "cell_type": "code",
     "checksum": "5755f70e3eb28abc65d14d80125338af",
     "grade": false,
     "grade_id": "cell-f8f43bf5ae383128",
     "locked": true,
     "schema_version": 3,
     "solution": false,
     "task": false
    }
   },
   "outputs": [
    {
     "name": "stdout",
     "output_type": "stream",
     "text": [
      "BM25: \n",
      "1.01 ms ± 5.12 µs per loop (mean ± std. dev. of 7 runs, 1000 loops each)\n",
      "LSI: \n",
      "1.23 s ± 10.2 ms per loop (mean ± std. dev. of 7 runs, 1 loop each)\n",
      "LDA: \n"
     ]
    },
    {
     "name": "stderr",
     "output_type": "stream",
     "text": [
      "C:\\Users\\Bram\\AppData\\Local\\Temp/ipykernel_15384/2120849064.py:4: RuntimeWarning: divide by zero encountered in double_scalars\n",
      "  return sum(p[x] * np.log2((p[x]) / (q[x])) for x in range(len(p)) if p[x] != 0.0 or p[x] != 0)\n"
     ]
    },
    {
     "ename": "KeyboardInterrupt",
     "evalue": "",
     "output_type": "error",
     "traceback": [
      "\u001b[1;31m---------------------------------------------------------------------------\u001b[0m",
      "\u001b[1;31mKeyboardInterrupt\u001b[0m                         Traceback (most recent call last)",
      "\u001b[1;32m~\\AppData\\Local\\Temp/ipykernel_15384/3324382678.py\u001b[0m in \u001b[0;36m<module>\u001b[1;34m\u001b[0m\n\u001b[0;32m      5\u001b[0m \u001b[0mget_ipython\u001b[0m\u001b[1;33m(\u001b[0m\u001b[1;33m)\u001b[0m\u001b[1;33m.\u001b[0m\u001b[0mrun_line_magic\u001b[0m\u001b[1;33m(\u001b[0m\u001b[1;34m'timeit'\u001b[0m\u001b[1;33m,\u001b[0m \u001b[1;34m'drm_lsi.search(query)'\u001b[0m\u001b[1;33m)\u001b[0m\u001b[1;33m\u001b[0m\u001b[1;33m\u001b[0m\u001b[0m\n\u001b[0;32m      6\u001b[0m \u001b[0mprint\u001b[0m\u001b[1;33m(\u001b[0m\u001b[1;34m\"LDA: \"\u001b[0m\u001b[1;33m)\u001b[0m\u001b[1;33m\u001b[0m\u001b[1;33m\u001b[0m\u001b[0m\n\u001b[1;32m----> 7\u001b[1;33m \u001b[0mget_ipython\u001b[0m\u001b[1;33m(\u001b[0m\u001b[1;33m)\u001b[0m\u001b[1;33m.\u001b[0m\u001b[0mrun_line_magic\u001b[0m\u001b[1;33m(\u001b[0m\u001b[1;34m'timeit'\u001b[0m\u001b[1;33m,\u001b[0m \u001b[1;34m'drm_lda.search(query)'\u001b[0m\u001b[1;33m)\u001b[0m\u001b[1;33m\u001b[0m\u001b[1;33m\u001b[0m\u001b[0m\n\u001b[0m\u001b[0;32m      8\u001b[0m \u001b[0mprint\u001b[0m\u001b[1;33m(\u001b[0m\u001b[1;34m\"W2V: \"\u001b[0m\u001b[1;33m)\u001b[0m\u001b[1;33m\u001b[0m\u001b[1;33m\u001b[0m\u001b[0m\n\u001b[0;32m      9\u001b[0m \u001b[0mget_ipython\u001b[0m\u001b[1;33m(\u001b[0m\u001b[1;33m)\u001b[0m\u001b[1;33m.\u001b[0m\u001b[0mrun_line_magic\u001b[0m\u001b[1;33m(\u001b[0m\u001b[1;34m'timeit'\u001b[0m\u001b[1;33m,\u001b[0m \u001b[1;34m'drm_w2v.search(query)'\u001b[0m\u001b[1;33m)\u001b[0m\u001b[1;33m\u001b[0m\u001b[1;33m\u001b[0m\u001b[0m\n",
      "\u001b[1;32mC:\\ProgramData\\Anaconda3\\lib\\site-packages\\IPython\\core\\interactiveshell.py\u001b[0m in \u001b[0;36mrun_line_magic\u001b[1;34m(self, magic_name, line, _stack_depth)\u001b[0m\n\u001b[0;32m   2349\u001b[0m                 \u001b[0mkwargs\u001b[0m\u001b[1;33m[\u001b[0m\u001b[1;34m'local_ns'\u001b[0m\u001b[1;33m]\u001b[0m \u001b[1;33m=\u001b[0m \u001b[0mself\u001b[0m\u001b[1;33m.\u001b[0m\u001b[0mget_local_scope\u001b[0m\u001b[1;33m(\u001b[0m\u001b[0mstack_depth\u001b[0m\u001b[1;33m)\u001b[0m\u001b[1;33m\u001b[0m\u001b[1;33m\u001b[0m\u001b[0m\n\u001b[0;32m   2350\u001b[0m             \u001b[1;32mwith\u001b[0m \u001b[0mself\u001b[0m\u001b[1;33m.\u001b[0m\u001b[0mbuiltin_trap\u001b[0m\u001b[1;33m:\u001b[0m\u001b[1;33m\u001b[0m\u001b[1;33m\u001b[0m\u001b[0m\n\u001b[1;32m-> 2351\u001b[1;33m                 \u001b[0mresult\u001b[0m \u001b[1;33m=\u001b[0m \u001b[0mfn\u001b[0m\u001b[1;33m(\u001b[0m\u001b[1;33m*\u001b[0m\u001b[0margs\u001b[0m\u001b[1;33m,\u001b[0m \u001b[1;33m**\u001b[0m\u001b[0mkwargs\u001b[0m\u001b[1;33m)\u001b[0m\u001b[1;33m\u001b[0m\u001b[1;33m\u001b[0m\u001b[0m\n\u001b[0m\u001b[0;32m   2352\u001b[0m             \u001b[1;32mreturn\u001b[0m \u001b[0mresult\u001b[0m\u001b[1;33m\u001b[0m\u001b[1;33m\u001b[0m\u001b[0m\n\u001b[0;32m   2353\u001b[0m \u001b[1;33m\u001b[0m\u001b[0m\n",
      "\u001b[1;32mC:\\ProgramData\\Anaconda3\\lib\\site-packages\\decorator.py\u001b[0m in \u001b[0;36mfun\u001b[1;34m(*args, **kw)\u001b[0m\n\u001b[0;32m    230\u001b[0m             \u001b[1;32mif\u001b[0m \u001b[1;32mnot\u001b[0m \u001b[0mkwsyntax\u001b[0m\u001b[1;33m:\u001b[0m\u001b[1;33m\u001b[0m\u001b[1;33m\u001b[0m\u001b[0m\n\u001b[0;32m    231\u001b[0m                 \u001b[0margs\u001b[0m\u001b[1;33m,\u001b[0m \u001b[0mkw\u001b[0m \u001b[1;33m=\u001b[0m \u001b[0mfix\u001b[0m\u001b[1;33m(\u001b[0m\u001b[0margs\u001b[0m\u001b[1;33m,\u001b[0m \u001b[0mkw\u001b[0m\u001b[1;33m,\u001b[0m \u001b[0msig\u001b[0m\u001b[1;33m)\u001b[0m\u001b[1;33m\u001b[0m\u001b[1;33m\u001b[0m\u001b[0m\n\u001b[1;32m--> 232\u001b[1;33m             \u001b[1;32mreturn\u001b[0m \u001b[0mcaller\u001b[0m\u001b[1;33m(\u001b[0m\u001b[0mfunc\u001b[0m\u001b[1;33m,\u001b[0m \u001b[1;33m*\u001b[0m\u001b[1;33m(\u001b[0m\u001b[0mextras\u001b[0m \u001b[1;33m+\u001b[0m \u001b[0margs\u001b[0m\u001b[1;33m)\u001b[0m\u001b[1;33m,\u001b[0m \u001b[1;33m**\u001b[0m\u001b[0mkw\u001b[0m\u001b[1;33m)\u001b[0m\u001b[1;33m\u001b[0m\u001b[1;33m\u001b[0m\u001b[0m\n\u001b[0m\u001b[0;32m    233\u001b[0m     \u001b[0mfun\u001b[0m\u001b[1;33m.\u001b[0m\u001b[0m__name__\u001b[0m \u001b[1;33m=\u001b[0m \u001b[0mfunc\u001b[0m\u001b[1;33m.\u001b[0m\u001b[0m__name__\u001b[0m\u001b[1;33m\u001b[0m\u001b[1;33m\u001b[0m\u001b[0m\n\u001b[0;32m    234\u001b[0m     \u001b[0mfun\u001b[0m\u001b[1;33m.\u001b[0m\u001b[0m__doc__\u001b[0m \u001b[1;33m=\u001b[0m \u001b[0mfunc\u001b[0m\u001b[1;33m.\u001b[0m\u001b[0m__doc__\u001b[0m\u001b[1;33m\u001b[0m\u001b[1;33m\u001b[0m\u001b[0m\n",
      "\u001b[1;32mC:\\ProgramData\\Anaconda3\\lib\\site-packages\\IPython\\core\\magic.py\u001b[0m in \u001b[0;36m<lambda>\u001b[1;34m(f, *a, **k)\u001b[0m\n\u001b[0;32m    185\u001b[0m     \u001b[1;31m# but it's overkill for just that one bit of state.\u001b[0m\u001b[1;33m\u001b[0m\u001b[1;33m\u001b[0m\u001b[0m\n\u001b[0;32m    186\u001b[0m     \u001b[1;32mdef\u001b[0m \u001b[0mmagic_deco\u001b[0m\u001b[1;33m(\u001b[0m\u001b[0marg\u001b[0m\u001b[1;33m)\u001b[0m\u001b[1;33m:\u001b[0m\u001b[1;33m\u001b[0m\u001b[1;33m\u001b[0m\u001b[0m\n\u001b[1;32m--> 187\u001b[1;33m         \u001b[0mcall\u001b[0m \u001b[1;33m=\u001b[0m \u001b[1;32mlambda\u001b[0m \u001b[0mf\u001b[0m\u001b[1;33m,\u001b[0m \u001b[1;33m*\u001b[0m\u001b[0ma\u001b[0m\u001b[1;33m,\u001b[0m \u001b[1;33m**\u001b[0m\u001b[0mk\u001b[0m\u001b[1;33m:\u001b[0m \u001b[0mf\u001b[0m\u001b[1;33m(\u001b[0m\u001b[1;33m*\u001b[0m\u001b[0ma\u001b[0m\u001b[1;33m,\u001b[0m \u001b[1;33m**\u001b[0m\u001b[0mk\u001b[0m\u001b[1;33m)\u001b[0m\u001b[1;33m\u001b[0m\u001b[1;33m\u001b[0m\u001b[0m\n\u001b[0m\u001b[0;32m    188\u001b[0m \u001b[1;33m\u001b[0m\u001b[0m\n\u001b[0;32m    189\u001b[0m         \u001b[1;32mif\u001b[0m \u001b[0mcallable\u001b[0m\u001b[1;33m(\u001b[0m\u001b[0marg\u001b[0m\u001b[1;33m)\u001b[0m\u001b[1;33m:\u001b[0m\u001b[1;33m\u001b[0m\u001b[1;33m\u001b[0m\u001b[0m\n",
      "\u001b[1;32mC:\\ProgramData\\Anaconda3\\lib\\site-packages\\IPython\\core\\magics\\execution.py\u001b[0m in \u001b[0;36mtimeit\u001b[1;34m(self, line, cell, local_ns)\u001b[0m\n\u001b[0;32m   1167\u001b[0m             \u001b[1;32mfor\u001b[0m \u001b[0mindex\u001b[0m \u001b[1;32min\u001b[0m \u001b[0mrange\u001b[0m\u001b[1;33m(\u001b[0m\u001b[1;36m0\u001b[0m\u001b[1;33m,\u001b[0m \u001b[1;36m10\u001b[0m\u001b[1;33m)\u001b[0m\u001b[1;33m:\u001b[0m\u001b[1;33m\u001b[0m\u001b[1;33m\u001b[0m\u001b[0m\n\u001b[0;32m   1168\u001b[0m                 \u001b[0mnumber\u001b[0m \u001b[1;33m=\u001b[0m \u001b[1;36m10\u001b[0m \u001b[1;33m**\u001b[0m \u001b[0mindex\u001b[0m\u001b[1;33m\u001b[0m\u001b[1;33m\u001b[0m\u001b[0m\n\u001b[1;32m-> 1169\u001b[1;33m                 \u001b[0mtime_number\u001b[0m \u001b[1;33m=\u001b[0m \u001b[0mtimer\u001b[0m\u001b[1;33m.\u001b[0m\u001b[0mtimeit\u001b[0m\u001b[1;33m(\u001b[0m\u001b[0mnumber\u001b[0m\u001b[1;33m)\u001b[0m\u001b[1;33m\u001b[0m\u001b[1;33m\u001b[0m\u001b[0m\n\u001b[0m\u001b[0;32m   1170\u001b[0m                 \u001b[1;32mif\u001b[0m \u001b[0mtime_number\u001b[0m \u001b[1;33m>=\u001b[0m \u001b[1;36m0.2\u001b[0m\u001b[1;33m:\u001b[0m\u001b[1;33m\u001b[0m\u001b[1;33m\u001b[0m\u001b[0m\n\u001b[0;32m   1171\u001b[0m                     \u001b[1;32mbreak\u001b[0m\u001b[1;33m\u001b[0m\u001b[1;33m\u001b[0m\u001b[0m\n",
      "\u001b[1;32mC:\\ProgramData\\Anaconda3\\lib\\site-packages\\IPython\\core\\magics\\execution.py\u001b[0m in \u001b[0;36mtimeit\u001b[1;34m(self, number)\u001b[0m\n\u001b[0;32m    167\u001b[0m         \u001b[0mgc\u001b[0m\u001b[1;33m.\u001b[0m\u001b[0mdisable\u001b[0m\u001b[1;33m(\u001b[0m\u001b[1;33m)\u001b[0m\u001b[1;33m\u001b[0m\u001b[1;33m\u001b[0m\u001b[0m\n\u001b[0;32m    168\u001b[0m         \u001b[1;32mtry\u001b[0m\u001b[1;33m:\u001b[0m\u001b[1;33m\u001b[0m\u001b[1;33m\u001b[0m\u001b[0m\n\u001b[1;32m--> 169\u001b[1;33m             \u001b[0mtiming\u001b[0m \u001b[1;33m=\u001b[0m \u001b[0mself\u001b[0m\u001b[1;33m.\u001b[0m\u001b[0minner\u001b[0m\u001b[1;33m(\u001b[0m\u001b[0mit\u001b[0m\u001b[1;33m,\u001b[0m \u001b[0mself\u001b[0m\u001b[1;33m.\u001b[0m\u001b[0mtimer\u001b[0m\u001b[1;33m)\u001b[0m\u001b[1;33m\u001b[0m\u001b[1;33m\u001b[0m\u001b[0m\n\u001b[0m\u001b[0;32m    170\u001b[0m         \u001b[1;32mfinally\u001b[0m\u001b[1;33m:\u001b[0m\u001b[1;33m\u001b[0m\u001b[1;33m\u001b[0m\u001b[0m\n\u001b[0;32m    171\u001b[0m             \u001b[1;32mif\u001b[0m \u001b[0mgcold\u001b[0m\u001b[1;33m:\u001b[0m\u001b[1;33m\u001b[0m\u001b[1;33m\u001b[0m\u001b[0m\n",
      "\u001b[1;32m<magic-timeit>\u001b[0m in \u001b[0;36minner\u001b[1;34m(_it, _timer)\u001b[0m\n",
      "\u001b[1;32m~\\AppData\\Local\\Temp/ipykernel_15384/2385717924.py\u001b[0m in \u001b[0;36msearch\u001b[1;34m(self, query)\u001b[0m\n\u001b[0;32m     28\u001b[0m \u001b[1;33m\u001b[0m\u001b[0m\n\u001b[0;32m     29\u001b[0m     \u001b[1;32mdef\u001b[0m \u001b[0msearch\u001b[0m\u001b[1;33m(\u001b[0m\u001b[0mself\u001b[0m\u001b[1;33m,\u001b[0m \u001b[0mquery\u001b[0m\u001b[1;33m)\u001b[0m\u001b[1;33m:\u001b[0m\u001b[1;33m\u001b[0m\u001b[1;33m\u001b[0m\u001b[0m\n\u001b[1;32m---> 30\u001b[1;33m         \u001b[0mscores\u001b[0m \u001b[1;33m=\u001b[0m \u001b[0mself\u001b[0m\u001b[1;33m.\u001b[0m\u001b[0m_compute_sim\u001b[0m\u001b[1;33m(\u001b[0m\u001b[0mself\u001b[0m\u001b[1;33m.\u001b[0m\u001b[0mvsrm\u001b[0m\u001b[1;33m.\u001b[0m\u001b[0mvectorize_query\u001b[0m\u001b[1;33m(\u001b[0m\u001b[0mquery\u001b[0m\u001b[1;33m)\u001b[0m\u001b[1;33m)\u001b[0m\u001b[1;33m\u001b[0m\u001b[1;33m\u001b[0m\u001b[0m\n\u001b[0m\u001b[0;32m     31\u001b[0m         \u001b[0mscores\u001b[0m\u001b[1;33m.\u001b[0m\u001b[0msort\u001b[0m\u001b[1;33m(\u001b[0m\u001b[0mkey\u001b[0m\u001b[1;33m=\u001b[0m\u001b[1;32mlambda\u001b[0m \u001b[0m_\u001b[0m\u001b[1;33m:\u001b[0m\u001b[1;33m-\u001b[0m\u001b[0m_\u001b[0m\u001b[1;33m[\u001b[0m\u001b[1;36m1\u001b[0m\u001b[1;33m]\u001b[0m\u001b[1;33m)\u001b[0m\u001b[1;33m\u001b[0m\u001b[1;33m\u001b[0m\u001b[0m\n\u001b[0;32m     32\u001b[0m         \u001b[1;32mreturn\u001b[0m \u001b[0mscores\u001b[0m\u001b[1;33m\u001b[0m\u001b[1;33m\u001b[0m\u001b[0m\n",
      "\u001b[1;32m~\\AppData\\Local\\Temp/ipykernel_15384/2385717924.py\u001b[0m in \u001b[0;36m_compute_sim\u001b[1;34m(self, query_vector)\u001b[0m\n\u001b[0;32m     23\u001b[0m                 \u001b[1;32mcontinue\u001b[0m\u001b[1;33m\u001b[0m\u001b[1;33m\u001b[0m\u001b[0m\n\u001b[0;32m     24\u001b[0m             \u001b[1;32melse\u001b[0m\u001b[1;33m:\u001b[0m\u001b[1;33m\u001b[0m\u001b[1;33m\u001b[0m\u001b[0m\n\u001b[1;32m---> 25\u001b[1;33m                 \u001b[0mscor\u001b[0m\u001b[1;33m=\u001b[0m\u001b[0mself\u001b[0m\u001b[1;33m.\u001b[0m\u001b[0msimilarity_fn\u001b[0m\u001b[1;33m(\u001b[0m\u001b[0mself\u001b[0m\u001b[1;33m.\u001b[0m\u001b[0mvectorized_documents\u001b[0m\u001b[1;33m[\u001b[0m\u001b[0mi\u001b[0m\u001b[1;33m]\u001b[0m\u001b[1;33m,\u001b[0m\u001b[0mquery_vector\u001b[0m\u001b[1;33m)\u001b[0m\u001b[1;33m\u001b[0m\u001b[1;33m\u001b[0m\u001b[0m\n\u001b[0m\u001b[0;32m     26\u001b[0m             \u001b[0mtup\u001b[0m\u001b[1;33m.\u001b[0m\u001b[0mappend\u001b[0m\u001b[1;33m(\u001b[0m\u001b[1;33m(\u001b[0m\u001b[0mi\u001b[0m\u001b[1;33m,\u001b[0m\u001b[0mscor\u001b[0m\u001b[1;33m)\u001b[0m\u001b[1;33m)\u001b[0m\u001b[1;33m\u001b[0m\u001b[1;33m\u001b[0m\u001b[0m\n\u001b[0;32m     27\u001b[0m         \u001b[1;32mreturn\u001b[0m \u001b[0mtup\u001b[0m\u001b[1;33m\u001b[0m\u001b[1;33m\u001b[0m\u001b[0m\n",
      "\u001b[1;32m~\\AppData\\Local\\Temp/ipykernel_15384/2120849064.py\u001b[0m in \u001b[0;36mjenson_shannon_sim\u001b[1;34m(vec_1, vec_2, assert_prob)\u001b[0m\n\u001b[0;32m     31\u001b[0m \u001b[1;33m\u001b[0m\u001b[0m\n\u001b[0;32m     32\u001b[0m \u001b[1;32mdef\u001b[0m \u001b[0mjenson_shannon_sim\u001b[0m\u001b[1;33m(\u001b[0m\u001b[0mvec_1\u001b[0m\u001b[1;33m,\u001b[0m \u001b[0mvec_2\u001b[0m\u001b[1;33m,\u001b[0m \u001b[0massert_prob\u001b[0m\u001b[1;33m=\u001b[0m\u001b[1;32mFalse\u001b[0m\u001b[1;33m)\u001b[0m\u001b[1;33m:\u001b[0m\u001b[1;33m\u001b[0m\u001b[1;33m\u001b[0m\u001b[0m\n\u001b[1;32m---> 33\u001b[1;33m     \u001b[1;32mreturn\u001b[0m \u001b[1;36m1\u001b[0m \u001b[1;33m-\u001b[0m \u001b[0mjenson_shannon_divergence\u001b[0m\u001b[1;33m(\u001b[0m\u001b[0mvec_1\u001b[0m\u001b[1;33m,\u001b[0m \u001b[0mvec_2\u001b[0m\u001b[1;33m)\u001b[0m\u001b[1;33m\u001b[0m\u001b[1;33m\u001b[0m\u001b[0m\n\u001b[0m\u001b[0;32m     34\u001b[0m \u001b[1;33m\u001b[0m\u001b[0m\n",
      "\u001b[1;32m~\\AppData\\Local\\Temp/ipykernel_15384/2120849064.py\u001b[0m in \u001b[0;36mjenson_shannon_divergence\u001b[1;34m(vec_1, vec_2, assert_prob)\u001b[0m\n\u001b[0;32m     26\u001b[0m     \u001b[1;32mfor\u001b[0m \u001b[0mx\u001b[0m \u001b[1;32min\u001b[0m \u001b[0mrange\u001b[0m\u001b[1;33m(\u001b[0m\u001b[0mlen\u001b[0m\u001b[1;33m(\u001b[0m\u001b[0mvec_1\u001b[0m\u001b[1;33m)\u001b[0m\u001b[1;33m)\u001b[0m\u001b[1;33m:\u001b[0m\u001b[1;33m\u001b[0m\u001b[1;33m\u001b[0m\u001b[0m\n\u001b[0;32m     27\u001b[0m         \u001b[0maverage\u001b[0m\u001b[1;33m[\u001b[0m\u001b[0mx\u001b[0m\u001b[1;33m]\u001b[0m \u001b[1;33m=\u001b[0m \u001b[0mweight\u001b[0m \u001b[1;33m*\u001b[0m \u001b[0mvec_1\u001b[0m\u001b[1;33m[\u001b[0m\u001b[0mx\u001b[0m\u001b[1;33m]\u001b[0m \u001b[1;33m+\u001b[0m \u001b[1;33m(\u001b[0m\u001b[1;36m1\u001b[0m \u001b[1;33m-\u001b[0m \u001b[0mweight\u001b[0m\u001b[1;33m)\u001b[0m \u001b[1;33m*\u001b[0m \u001b[0mvec_2\u001b[0m\u001b[1;33m[\u001b[0m\u001b[0mx\u001b[0m\u001b[1;33m]\u001b[0m\u001b[1;33m\u001b[0m\u001b[1;33m\u001b[0m\u001b[0m\n\u001b[1;32m---> 28\u001b[1;33m         \u001b[0mJSD\u001b[0m \u001b[1;33m=\u001b[0m \u001b[1;33m(\u001b[0m\u001b[0mweight\u001b[0m \u001b[1;33m*\u001b[0m \u001b[0mKL_divergence\u001b[0m\u001b[1;33m(\u001b[0m\u001b[0mnp\u001b[0m\u001b[1;33m.\u001b[0m\u001b[0marray\u001b[0m\u001b[1;33m(\u001b[0m\u001b[0mvec_1\u001b[0m\u001b[1;33m)\u001b[0m\u001b[1;33m,\u001b[0m \u001b[0maverage\u001b[0m\u001b[1;33m)\u001b[0m\u001b[1;33m)\u001b[0m \u001b[1;33m+\u001b[0m \u001b[1;33m(\u001b[0m\u001b[1;33m(\u001b[0m\u001b[1;36m1\u001b[0m \u001b[1;33m-\u001b[0m \u001b[0mweight\u001b[0m\u001b[1;33m)\u001b[0m \u001b[1;33m*\u001b[0m \u001b[0mKL_divergence\u001b[0m\u001b[1;33m(\u001b[0m\u001b[0mnp\u001b[0m\u001b[1;33m.\u001b[0m\u001b[0marray\u001b[0m\u001b[1;33m(\u001b[0m\u001b[0mvec_2\u001b[0m\u001b[1;33m)\u001b[0m\u001b[1;33m,\u001b[0m \u001b[0maverage\u001b[0m\u001b[1;33m)\u001b[0m\u001b[1;33m)\u001b[0m\u001b[1;33m\u001b[0m\u001b[1;33m\u001b[0m\u001b[0m\n\u001b[0m\u001b[0;32m     29\u001b[0m     \u001b[1;32mreturn\u001b[0m \u001b[0mJSD\u001b[0m\u001b[1;33m/\u001b[0m\u001b[0mnp\u001b[0m\u001b[1;33m.\u001b[0m\u001b[0msqrt\u001b[0m\u001b[1;33m(\u001b[0m\u001b[1;36m2\u001b[0m\u001b[1;33m*\u001b[0m\u001b[1;36m0.5\u001b[0m\u001b[1;33m)\u001b[0m\u001b[1;33m\u001b[0m\u001b[1;33m\u001b[0m\u001b[0m\n\u001b[0;32m     30\u001b[0m \u001b[1;33m\u001b[0m\u001b[0m\n",
      "\u001b[1;31mKeyboardInterrupt\u001b[0m: "
     ]
    }
   ],
   "source": [
    "query = \"algebraic functions\"\n",
    "print(\"BM25: \")\n",
    "%timeit bm25_search(query, 2)\n",
    "print(\"LSI: \")\n",
    "%timeit drm_lsi.search(query)\n",
    "print(\"LDA: \")\n",
    "%timeit drm_lda.search(query)\n",
    "print(\"W2V: \")\n",
    "%timeit drm_w2v.search(query)\n",
    "print(\"W2V(Pretrained): \")\n",
    "%timeit drm_w2v_pretrained.search(query)\n",
    "print(\"D2V:\")\n",
    "%timeit drm_d2v.search(query)"
   ]
  },
  {
   "cell_type": "code",
   "execution_count": 570,
   "metadata": {},
   "outputs": [
    {
     "name": "stdout",
     "output_type": "stream",
     "text": [
      "BM25: \n"
     ]
    },
    {
     "ename": "KeyboardInterrupt",
     "evalue": "",
     "output_type": "error",
     "traceback": [
      "\u001b[1;31m---------------------------------------------------------------------------\u001b[0m",
      "\u001b[1;31mKeyboardInterrupt\u001b[0m                         Traceback (most recent call last)",
      "\u001b[1;32m~\\AppData\\Local\\Temp/ipykernel_15384/3716371163.py\u001b[0m in \u001b[0;36m<module>\u001b[1;34m\u001b[0m\n\u001b[0;32m      1\u001b[0m \u001b[0mquery\u001b[0m \u001b[1;33m=\u001b[0m \u001b[1;34m\"algebraic functions\"\u001b[0m\u001b[1;33m\u001b[0m\u001b[1;33m\u001b[0m\u001b[0m\n\u001b[0;32m      2\u001b[0m \u001b[0mprint\u001b[0m\u001b[1;33m(\u001b[0m\u001b[1;34m\"BM25: \"\u001b[0m\u001b[1;33m)\u001b[0m\u001b[1;33m\u001b[0m\u001b[1;33m\u001b[0m\u001b[0m\n\u001b[1;32m----> 3\u001b[1;33m \u001b[0mget_ipython\u001b[0m\u001b[1;33m(\u001b[0m\u001b[1;33m)\u001b[0m\u001b[1;33m.\u001b[0m\u001b[0mrun_line_magic\u001b[0m\u001b[1;33m(\u001b[0m\u001b[1;34m'timeit'\u001b[0m\u001b[1;33m,\u001b[0m \u001b[1;34m'bm25_search(query, 2)'\u001b[0m\u001b[1;33m)\u001b[0m\u001b[1;33m\u001b[0m\u001b[1;33m\u001b[0m\u001b[0m\n\u001b[0m\u001b[0;32m      4\u001b[0m \u001b[0mprint\u001b[0m\u001b[1;33m(\u001b[0m\u001b[1;34m\"LSI: \"\u001b[0m\u001b[1;33m)\u001b[0m\u001b[1;33m\u001b[0m\u001b[1;33m\u001b[0m\u001b[0m\n\u001b[0;32m      5\u001b[0m \u001b[0mget_ipython\u001b[0m\u001b[1;33m(\u001b[0m\u001b[1;33m)\u001b[0m\u001b[1;33m.\u001b[0m\u001b[0mrun_line_magic\u001b[0m\u001b[1;33m(\u001b[0m\u001b[1;34m'timeit'\u001b[0m\u001b[1;33m,\u001b[0m \u001b[1;34m'drm_lsi.search(query)'\u001b[0m\u001b[1;33m)\u001b[0m\u001b[1;33m\u001b[0m\u001b[1;33m\u001b[0m\u001b[0m\n",
      "\u001b[1;32mC:\\ProgramData\\Anaconda3\\lib\\site-packages\\IPython\\core\\interactiveshell.py\u001b[0m in \u001b[0;36mrun_line_magic\u001b[1;34m(self, magic_name, line, _stack_depth)\u001b[0m\n\u001b[0;32m   2349\u001b[0m                 \u001b[0mkwargs\u001b[0m\u001b[1;33m[\u001b[0m\u001b[1;34m'local_ns'\u001b[0m\u001b[1;33m]\u001b[0m \u001b[1;33m=\u001b[0m \u001b[0mself\u001b[0m\u001b[1;33m.\u001b[0m\u001b[0mget_local_scope\u001b[0m\u001b[1;33m(\u001b[0m\u001b[0mstack_depth\u001b[0m\u001b[1;33m)\u001b[0m\u001b[1;33m\u001b[0m\u001b[1;33m\u001b[0m\u001b[0m\n\u001b[0;32m   2350\u001b[0m             \u001b[1;32mwith\u001b[0m \u001b[0mself\u001b[0m\u001b[1;33m.\u001b[0m\u001b[0mbuiltin_trap\u001b[0m\u001b[1;33m:\u001b[0m\u001b[1;33m\u001b[0m\u001b[1;33m\u001b[0m\u001b[0m\n\u001b[1;32m-> 2351\u001b[1;33m                 \u001b[0mresult\u001b[0m \u001b[1;33m=\u001b[0m \u001b[0mfn\u001b[0m\u001b[1;33m(\u001b[0m\u001b[1;33m*\u001b[0m\u001b[0margs\u001b[0m\u001b[1;33m,\u001b[0m \u001b[1;33m**\u001b[0m\u001b[0mkwargs\u001b[0m\u001b[1;33m)\u001b[0m\u001b[1;33m\u001b[0m\u001b[1;33m\u001b[0m\u001b[0m\n\u001b[0m\u001b[0;32m   2352\u001b[0m             \u001b[1;32mreturn\u001b[0m \u001b[0mresult\u001b[0m\u001b[1;33m\u001b[0m\u001b[1;33m\u001b[0m\u001b[0m\n\u001b[0;32m   2353\u001b[0m \u001b[1;33m\u001b[0m\u001b[0m\n",
      "\u001b[1;32mC:\\ProgramData\\Anaconda3\\lib\\site-packages\\decorator.py\u001b[0m in \u001b[0;36mfun\u001b[1;34m(*args, **kw)\u001b[0m\n\u001b[0;32m    230\u001b[0m             \u001b[1;32mif\u001b[0m \u001b[1;32mnot\u001b[0m \u001b[0mkwsyntax\u001b[0m\u001b[1;33m:\u001b[0m\u001b[1;33m\u001b[0m\u001b[1;33m\u001b[0m\u001b[0m\n\u001b[0;32m    231\u001b[0m                 \u001b[0margs\u001b[0m\u001b[1;33m,\u001b[0m \u001b[0mkw\u001b[0m \u001b[1;33m=\u001b[0m \u001b[0mfix\u001b[0m\u001b[1;33m(\u001b[0m\u001b[0margs\u001b[0m\u001b[1;33m,\u001b[0m \u001b[0mkw\u001b[0m\u001b[1;33m,\u001b[0m \u001b[0msig\u001b[0m\u001b[1;33m)\u001b[0m\u001b[1;33m\u001b[0m\u001b[1;33m\u001b[0m\u001b[0m\n\u001b[1;32m--> 232\u001b[1;33m             \u001b[1;32mreturn\u001b[0m \u001b[0mcaller\u001b[0m\u001b[1;33m(\u001b[0m\u001b[0mfunc\u001b[0m\u001b[1;33m,\u001b[0m \u001b[1;33m*\u001b[0m\u001b[1;33m(\u001b[0m\u001b[0mextras\u001b[0m \u001b[1;33m+\u001b[0m \u001b[0margs\u001b[0m\u001b[1;33m)\u001b[0m\u001b[1;33m,\u001b[0m \u001b[1;33m**\u001b[0m\u001b[0mkw\u001b[0m\u001b[1;33m)\u001b[0m\u001b[1;33m\u001b[0m\u001b[1;33m\u001b[0m\u001b[0m\n\u001b[0m\u001b[0;32m    233\u001b[0m     \u001b[0mfun\u001b[0m\u001b[1;33m.\u001b[0m\u001b[0m__name__\u001b[0m \u001b[1;33m=\u001b[0m \u001b[0mfunc\u001b[0m\u001b[1;33m.\u001b[0m\u001b[0m__name__\u001b[0m\u001b[1;33m\u001b[0m\u001b[1;33m\u001b[0m\u001b[0m\n\u001b[0;32m    234\u001b[0m     \u001b[0mfun\u001b[0m\u001b[1;33m.\u001b[0m\u001b[0m__doc__\u001b[0m \u001b[1;33m=\u001b[0m \u001b[0mfunc\u001b[0m\u001b[1;33m.\u001b[0m\u001b[0m__doc__\u001b[0m\u001b[1;33m\u001b[0m\u001b[1;33m\u001b[0m\u001b[0m\n",
      "\u001b[1;32mC:\\ProgramData\\Anaconda3\\lib\\site-packages\\IPython\\core\\magic.py\u001b[0m in \u001b[0;36m<lambda>\u001b[1;34m(f, *a, **k)\u001b[0m\n\u001b[0;32m    185\u001b[0m     \u001b[1;31m# but it's overkill for just that one bit of state.\u001b[0m\u001b[1;33m\u001b[0m\u001b[1;33m\u001b[0m\u001b[0m\n\u001b[0;32m    186\u001b[0m     \u001b[1;32mdef\u001b[0m \u001b[0mmagic_deco\u001b[0m\u001b[1;33m(\u001b[0m\u001b[0marg\u001b[0m\u001b[1;33m)\u001b[0m\u001b[1;33m:\u001b[0m\u001b[1;33m\u001b[0m\u001b[1;33m\u001b[0m\u001b[0m\n\u001b[1;32m--> 187\u001b[1;33m         \u001b[0mcall\u001b[0m \u001b[1;33m=\u001b[0m \u001b[1;32mlambda\u001b[0m \u001b[0mf\u001b[0m\u001b[1;33m,\u001b[0m \u001b[1;33m*\u001b[0m\u001b[0ma\u001b[0m\u001b[1;33m,\u001b[0m \u001b[1;33m**\u001b[0m\u001b[0mk\u001b[0m\u001b[1;33m:\u001b[0m \u001b[0mf\u001b[0m\u001b[1;33m(\u001b[0m\u001b[1;33m*\u001b[0m\u001b[0ma\u001b[0m\u001b[1;33m,\u001b[0m \u001b[1;33m**\u001b[0m\u001b[0mk\u001b[0m\u001b[1;33m)\u001b[0m\u001b[1;33m\u001b[0m\u001b[1;33m\u001b[0m\u001b[0m\n\u001b[0m\u001b[0;32m    188\u001b[0m \u001b[1;33m\u001b[0m\u001b[0m\n\u001b[0;32m    189\u001b[0m         \u001b[1;32mif\u001b[0m \u001b[0mcallable\u001b[0m\u001b[1;33m(\u001b[0m\u001b[0marg\u001b[0m\u001b[1;33m)\u001b[0m\u001b[1;33m:\u001b[0m\u001b[1;33m\u001b[0m\u001b[1;33m\u001b[0m\u001b[0m\n",
      "\u001b[1;32mC:\\ProgramData\\Anaconda3\\lib\\site-packages\\IPython\\core\\magics\\execution.py\u001b[0m in \u001b[0;36mtimeit\u001b[1;34m(self, line, cell, local_ns)\u001b[0m\n\u001b[0;32m   1171\u001b[0m                     \u001b[1;32mbreak\u001b[0m\u001b[1;33m\u001b[0m\u001b[1;33m\u001b[0m\u001b[0m\n\u001b[0;32m   1172\u001b[0m \u001b[1;33m\u001b[0m\u001b[0m\n\u001b[1;32m-> 1173\u001b[1;33m         \u001b[0mall_runs\u001b[0m \u001b[1;33m=\u001b[0m \u001b[0mtimer\u001b[0m\u001b[1;33m.\u001b[0m\u001b[0mrepeat\u001b[0m\u001b[1;33m(\u001b[0m\u001b[0mrepeat\u001b[0m\u001b[1;33m,\u001b[0m \u001b[0mnumber\u001b[0m\u001b[1;33m)\u001b[0m\u001b[1;33m\u001b[0m\u001b[1;33m\u001b[0m\u001b[0m\n\u001b[0m\u001b[0;32m   1174\u001b[0m         \u001b[0mbest\u001b[0m \u001b[1;33m=\u001b[0m \u001b[0mmin\u001b[0m\u001b[1;33m(\u001b[0m\u001b[0mall_runs\u001b[0m\u001b[1;33m)\u001b[0m \u001b[1;33m/\u001b[0m \u001b[0mnumber\u001b[0m\u001b[1;33m\u001b[0m\u001b[1;33m\u001b[0m\u001b[0m\n\u001b[0;32m   1175\u001b[0m         \u001b[0mworst\u001b[0m \u001b[1;33m=\u001b[0m \u001b[0mmax\u001b[0m\u001b[1;33m(\u001b[0m\u001b[0mall_runs\u001b[0m\u001b[1;33m)\u001b[0m \u001b[1;33m/\u001b[0m \u001b[0mnumber\u001b[0m\u001b[1;33m\u001b[0m\u001b[1;33m\u001b[0m\u001b[0m\n",
      "\u001b[1;32mC:\\ProgramData\\Anaconda3\\lib\\timeit.py\u001b[0m in \u001b[0;36mrepeat\u001b[1;34m(self, repeat, number)\u001b[0m\n\u001b[0;32m    203\u001b[0m         \u001b[0mr\u001b[0m \u001b[1;33m=\u001b[0m \u001b[1;33m[\u001b[0m\u001b[1;33m]\u001b[0m\u001b[1;33m\u001b[0m\u001b[1;33m\u001b[0m\u001b[0m\n\u001b[0;32m    204\u001b[0m         \u001b[1;32mfor\u001b[0m \u001b[0mi\u001b[0m \u001b[1;32min\u001b[0m \u001b[0mrange\u001b[0m\u001b[1;33m(\u001b[0m\u001b[0mrepeat\u001b[0m\u001b[1;33m)\u001b[0m\u001b[1;33m:\u001b[0m\u001b[1;33m\u001b[0m\u001b[1;33m\u001b[0m\u001b[0m\n\u001b[1;32m--> 205\u001b[1;33m             \u001b[0mt\u001b[0m \u001b[1;33m=\u001b[0m \u001b[0mself\u001b[0m\u001b[1;33m.\u001b[0m\u001b[0mtimeit\u001b[0m\u001b[1;33m(\u001b[0m\u001b[0mnumber\u001b[0m\u001b[1;33m)\u001b[0m\u001b[1;33m\u001b[0m\u001b[1;33m\u001b[0m\u001b[0m\n\u001b[0m\u001b[0;32m    206\u001b[0m             \u001b[0mr\u001b[0m\u001b[1;33m.\u001b[0m\u001b[0mappend\u001b[0m\u001b[1;33m(\u001b[0m\u001b[0mt\u001b[0m\u001b[1;33m)\u001b[0m\u001b[1;33m\u001b[0m\u001b[1;33m\u001b[0m\u001b[0m\n\u001b[0;32m    207\u001b[0m         \u001b[1;32mreturn\u001b[0m \u001b[0mr\u001b[0m\u001b[1;33m\u001b[0m\u001b[1;33m\u001b[0m\u001b[0m\n",
      "\u001b[1;32mC:\\ProgramData\\Anaconda3\\lib\\site-packages\\IPython\\core\\magics\\execution.py\u001b[0m in \u001b[0;36mtimeit\u001b[1;34m(self, number)\u001b[0m\n\u001b[0;32m    167\u001b[0m         \u001b[0mgc\u001b[0m\u001b[1;33m.\u001b[0m\u001b[0mdisable\u001b[0m\u001b[1;33m(\u001b[0m\u001b[1;33m)\u001b[0m\u001b[1;33m\u001b[0m\u001b[1;33m\u001b[0m\u001b[0m\n\u001b[0;32m    168\u001b[0m         \u001b[1;32mtry\u001b[0m\u001b[1;33m:\u001b[0m\u001b[1;33m\u001b[0m\u001b[1;33m\u001b[0m\u001b[0m\n\u001b[1;32m--> 169\u001b[1;33m             \u001b[0mtiming\u001b[0m \u001b[1;33m=\u001b[0m \u001b[0mself\u001b[0m\u001b[1;33m.\u001b[0m\u001b[0minner\u001b[0m\u001b[1;33m(\u001b[0m\u001b[0mit\u001b[0m\u001b[1;33m,\u001b[0m \u001b[0mself\u001b[0m\u001b[1;33m.\u001b[0m\u001b[0mtimer\u001b[0m\u001b[1;33m)\u001b[0m\u001b[1;33m\u001b[0m\u001b[1;33m\u001b[0m\u001b[0m\n\u001b[0m\u001b[0;32m    170\u001b[0m         \u001b[1;32mfinally\u001b[0m\u001b[1;33m:\u001b[0m\u001b[1;33m\u001b[0m\u001b[1;33m\u001b[0m\u001b[0m\n\u001b[0;32m    171\u001b[0m             \u001b[1;32mif\u001b[0m \u001b[0mgcold\u001b[0m\u001b[1;33m:\u001b[0m\u001b[1;33m\u001b[0m\u001b[1;33m\u001b[0m\u001b[0m\n",
      "\u001b[1;32m<magic-timeit>\u001b[0m in \u001b[0;36minner\u001b[1;34m(_it, _timer)\u001b[0m\n",
      "\u001b[1;32m~\\AppData\\Local\\Temp/ipykernel_15384/3564186495.py\u001b[0m in \u001b[0;36mbm25_search\u001b[1;34m(query, index_set)\u001b[0m\n\u001b[0;32m     20\u001b[0m     \u001b[0mvals\u001b[0m \u001b[1;33m=\u001b[0m \u001b[0mdoc_lengths\u001b[0m\u001b[1;33m.\u001b[0m\u001b[0mvalues\u001b[0m\u001b[1;33m(\u001b[0m\u001b[1;33m)\u001b[0m\u001b[1;33m\u001b[0m\u001b[1;33m\u001b[0m\u001b[0m\n\u001b[0;32m     21\u001b[0m     \u001b[0mN\u001b[0m \u001b[1;33m=\u001b[0m \u001b[0mlen\u001b[0m\u001b[1;33m(\u001b[0m\u001b[0mvals\u001b[0m\u001b[1;33m)\u001b[0m\u001b[1;33m\u001b[0m\u001b[1;33m\u001b[0m\u001b[0m\n\u001b[1;32m---> 22\u001b[1;33m     \u001b[0mdl_avg\u001b[0m \u001b[1;33m=\u001b[0m \u001b[0msum\u001b[0m\u001b[1;33m(\u001b[0m\u001b[0mvals\u001b[0m\u001b[1;33m)\u001b[0m\u001b[1;33m/\u001b[0m\u001b[0mlen\u001b[0m\u001b[1;33m(\u001b[0m\u001b[0mvals\u001b[0m\u001b[1;33m)\u001b[0m\u001b[1;33m\u001b[0m\u001b[1;33m\u001b[0m\u001b[0m\n\u001b[0m\u001b[0;32m     23\u001b[0m     \u001b[1;32mfor\u001b[0m \u001b[0mq\u001b[0m \u001b[1;32min\u001b[0m \u001b[0mprocessed_query\u001b[0m\u001b[1;33m:\u001b[0m\u001b[1;33m\u001b[0m\u001b[1;33m\u001b[0m\u001b[0m\n\u001b[0;32m     24\u001b[0m         \u001b[1;32mif\u001b[0m \u001b[0mq\u001b[0m \u001b[1;32mnot\u001b[0m \u001b[1;32min\u001b[0m \u001b[0mindex\u001b[0m\u001b[1;33m:\u001b[0m \u001b[1;32mcontinue\u001b[0m\u001b[1;33m\u001b[0m\u001b[1;33m\u001b[0m\u001b[0m\n",
      "\u001b[1;31mKeyboardInterrupt\u001b[0m: "
     ]
    }
   ],
   "source": [
    "query = \"algebraic functions\"\n",
    "print(\"BM25: \")\n",
    "%timeit bm25_search(query, 2)\n",
    "print(\"LSI: \")\n",
    "%timeit drm_lsi.search(query)\n",
    "#print(\"LDA: \")\n",
    "#%timeit drm_lda.search(query)\n",
    "print(\"W2V: \")\n",
    "%timeit drm_w2v.search(query)\n",
    "print(\"W2V(Pretrained): \")\n",
    "%timeit drm_w2v_pretrained.search(query)\n",
    "print(\"D2V:\")\n",
    "%timeit drm_d2v.search(query)"
   ]
  },
  {
   "cell_type": "markdown",
   "metadata": {
    "deletable": false,
    "editable": false,
    "nbgrader": {
     "cell_type": "markdown",
     "checksum": "ae398da0a8c23c95bcbb0023b7ec6f34",
     "grade": false,
     "grade_id": "cell-db5ff09f97841af7",
     "locked": true,
     "schema_version": 3,
     "solution": false,
     "task": false
    }
   },
   "source": [
    "---\n",
    "\n",
    "**Implementation (10 points):**\n",
    "Re-ranking involves retrieving a small set of documents using simple but fast methods like BM25 and then re-ranking them with the aid of semantic methods such as LDA or LSI. Implement the following class, which takes in an `initial_retrieval_fn` - the initial retrieval function and `vsrm` - an instance of the `VectorSpaceRetrievalModel` class (i.e LSI/LDA) as input. The search function should first retrieve an initial list of K documents, and then these documents are re-ranked using a semantic method. This not only makes retrieval faster, but semantic methods perform poorly when used in isolation, as you will find out."
   ]
  },
  {
   "cell_type": "code",
   "execution_count": 597,
   "metadata": {
    "deletable": false,
    "nbgrader": {
     "cell_type": "code",
     "checksum": "63b6b05a676a2ae3f08d8bed1bc59428",
     "grade": false,
     "grade_id": "cell-5bf47600d1a0c507",
     "locked": false,
     "schema_version": 3,
     "solution": true,
     "task": false
    }
   },
   "outputs": [],
   "source": [
    "# TODO: Implement this! (10 points)\n",
    "def Sort_Tuple(tup): \n",
    "      \n",
    "    # getting length of list of tuples\n",
    "    lst = len(tup) \n",
    "    for i in range(0, lst): \n",
    "          \n",
    "        for j in range(0, lst-i-1): \n",
    "            if (tup[j][1] > tup[j + 1][1]): \n",
    "                temp = tup[j] \n",
    "                tup[j]= tup[j + 1] \n",
    "                tup[j + 1]= temp \n",
    "    return tup \n",
    "\n",
    "\n",
    "class DenseRerankingModel:\n",
    "    def __init__(self, initial_retrieval_fn, vsrm, similarity_fn):\n",
    "        \"\"\"\n",
    "            initial_retrieval_fn: takes in a query and returns a list of [(doc_id, score)] (sorted)\n",
    "            vsrm: instance of `VectorSpaceRetrievalModel`\n",
    "            similarity_fn: function instance that takes in two vectors \n",
    "                            and returns a similarity score e.g cosine_sim defined earlier\n",
    "        \"\"\"\n",
    "        self.ret = initial_retrieval_fn\n",
    "        self.vsrm = vsrm\n",
    "        self.similarity_fn = similarity_fn\n",
    "        self.vectorized_documents = vsrm.vectorize_documents()\n",
    "        \n",
    "        assert len(self.vectorized_documents) == len(doc_repr_2)\n",
    "    \n",
    "    def search(self, query, K=50):\n",
    "        \"\"\"\n",
    "            First, retrieve the top K results using the retrieval function\n",
    "            Then, re-rank the results using the VSRM instance\n",
    "        \"\"\"\n",
    "        reranked_l=[]\n",
    "        for i in self.ret(query):\n",
    "            query_vector=self.vsrm.vectorize_query(query)\n",
    "            doc_id=i[0]\n",
    "            if np.array(self.vectorized_documents[doc_id]).size==0 or  np.array(query_vector).size==0:\n",
    "                continue\n",
    "            else:\n",
    "                \n",
    "\n",
    "                scor=self.similarity_fn(self.vectorized_documents[doc_id],query_vector)\n",
    "                reranked_l.append([doc_id,scor])\n",
    "        reranked_l=Sort_Tuple(reranked_l)\n",
    "        print(reranked_l)\n",
    "        return reranked_l\n",
    "            "
   ]
  },
  {
   "cell_type": "code",
   "execution_count": 598,
   "metadata": {
    "deletable": false,
    "editable": false,
    "nbgrader": {
     "cell_type": "code",
     "checksum": "334ab5af96976265cace682ab82a7387",
     "grade": true,
     "grade_id": "cell-52c6d18a4c0b4882",
     "locked": true,
     "points": 0,
     "schema_version": 3,
     "solution": false,
     "task": false
    }
   },
   "outputs": [],
   "source": [
    "##### Function check\n",
    "bm25_search_2 = partial(bm25_search, index_set=2)\n",
    "lsi_rerank = DenseRerankingModel(bm25_search_2, lsi, cosine_sim)\n",
    "lda_rerank = DenseRerankingModel(bm25_search_2, lda, jenson_shannon_sim)\n",
    "w2v_rerank = DenseRerankingModel(bm25_search_2, w2v, cosine_sim)\n",
    "w2v_pretrained_rerank = DenseRerankingModel(bm25_search_2, w2v_pretrained, cosine_sim)\n",
    "d2v_rerank = DenseRerankingModel(bm25_search_2, d2v, cosine_sim)\n",
    "\n",
    "##### "
   ]
  },
  {
   "cell_type": "code",
   "execution_count": 340,
   "metadata": {},
   "outputs": [
    {
     "name": "stdout",
     "output_type": "stream",
     "text": [
      "[['1667', 7.449153363679816], ['1893', 7.449153363679816], ['5', 6.903649986863807], ['42', 6.763441377985474], ['220', 6.763441377985474], ['1031', 6.6998305979075266], ['2', 6.628814497853222], ['35', 6.628814497853222], ['194', 6.628814497853222], ['2234', 6.499442537265385], ['2440', 6.499442537265385], ['2458', 6.499442537265385], ['1440', 6.462865832192601], ['1633', 6.440679133769386], ['1524', 6.380318240404117], ['304', 6.375023711453946], ['334', 6.375023711453946], ['348', 6.375023711453946], ['503', 6.255278909861246], ['640', 6.255278909861246], ['1803', 6.255278909861246], ['2291', 6.139949605904734], ['1999', 6.087480752087412], ['788', 6.028795993783186], ['1520', 6.028795993783186], ['1567', 5.978201840572855], ['1450', 5.92159532406452], ['1763', 5.92159532406452], ['1882', 5.92159532406452], ['1615', 5.872777162932156], ['1618', 5.818140413745135], ['1790', 5.818140413745135], ['848', 5.771006346231923], ['2213', 5.718238309810039], ['380', 5.624796109253045], ['1932', 4.91864254177429], ['2001', 4.809774137742745], ['1047', 4.256491380271699], ['2544', 4.20277385880091], ['1420', 3.9533167823450244], ['3058', 3.690458662540862], ['1956', 3.631403514395256], ['111', 3.6104386714716314], ['1495', 3.3557684399316328], ['2799', 3.1346584150818515], ['1806', 3.0485717115076914], ['962', 2.840546268458901], ['1601', 2.7243574985034944], ['1933', 2.617300307866734], ['2800', 1.88960587505173], ['2722', 1.7597967341180767]]\n"
     ]
    }
   ],
   "source": [
    "print(lsi_rerank.ret('root'))"
   ]
  },
  {
   "cell_type": "markdown",
   "metadata": {
    "deletable": false,
    "editable": false,
    "nbgrader": {
     "cell_type": "markdown",
     "checksum": "bd904253f45f84e63bab3a69729058fc",
     "grade": false,
     "grade_id": "cell-93215dfe6bcf7cff",
     "locked": true,
     "points": 10,
     "schema_version": 3,
     "solution": false,
     "task": true
    }
   },
   "source": [
    "\\#### Please do not change this. This cell is used for grading."
   ]
  },
  {
   "cell_type": "markdown",
   "metadata": {
    "deletable": false,
    "editable": false,
    "nbgrader": {
     "cell_type": "markdown",
     "checksum": "b592e60292bfe3d9ef2930a354c4077a",
     "grade": false,
     "grade_id": "cell-aa694ff55fa91e7d",
     "locked": true,
     "schema_version": 3,
     "solution": false,
     "task": false
    }
   },
   "source": [
    "---\n",
    "Now, let us time the new search functions:"
   ]
  },
  {
   "cell_type": "code",
   "execution_count": 573,
   "metadata": {
    "deletable": false,
    "editable": false,
    "nbgrader": {
     "cell_type": "code",
     "checksum": "338c7e3528cba266a865a061287c0e38",
     "grade": false,
     "grade_id": "cell-5edbd481562ad91f",
     "locked": true,
     "schema_version": 3,
     "solution": false,
     "task": false
    }
   },
   "outputs": [
    {
     "name": "stdout",
     "output_type": "stream",
     "text": [
      "BM25: \n"
     ]
    },
    {
     "ename": "KeyboardInterrupt",
     "evalue": "",
     "output_type": "error",
     "traceback": [
      "\u001b[1;31m---------------------------------------------------------------------------\u001b[0m",
      "\u001b[1;31mKeyboardInterrupt\u001b[0m                         Traceback (most recent call last)",
      "\u001b[1;32m~\\AppData\\Local\\Temp/ipykernel_15384/4053269946.py\u001b[0m in \u001b[0;36m<module>\u001b[1;34m\u001b[0m\n\u001b[0;32m      1\u001b[0m \u001b[0mquery\u001b[0m \u001b[1;33m=\u001b[0m \u001b[1;34m\"algebraic functions\"\u001b[0m\u001b[1;33m\u001b[0m\u001b[1;33m\u001b[0m\u001b[0m\n\u001b[0;32m      2\u001b[0m \u001b[0mprint\u001b[0m\u001b[1;33m(\u001b[0m\u001b[1;34m\"BM25: \"\u001b[0m\u001b[1;33m)\u001b[0m\u001b[1;33m\u001b[0m\u001b[1;33m\u001b[0m\u001b[0m\n\u001b[1;32m----> 3\u001b[1;33m \u001b[0mget_ipython\u001b[0m\u001b[1;33m(\u001b[0m\u001b[1;33m)\u001b[0m\u001b[1;33m.\u001b[0m\u001b[0mrun_line_magic\u001b[0m\u001b[1;33m(\u001b[0m\u001b[1;34m'timeit'\u001b[0m\u001b[1;33m,\u001b[0m \u001b[1;34m'bm25_search(query, 2)'\u001b[0m\u001b[1;33m)\u001b[0m\u001b[1;33m\u001b[0m\u001b[1;33m\u001b[0m\u001b[0m\n\u001b[0m\u001b[0;32m      4\u001b[0m \u001b[0mprint\u001b[0m\u001b[1;33m(\u001b[0m\u001b[1;34m\"LSI: \"\u001b[0m\u001b[1;33m)\u001b[0m\u001b[1;33m\u001b[0m\u001b[1;33m\u001b[0m\u001b[0m\n\u001b[0;32m      5\u001b[0m \u001b[0mget_ipython\u001b[0m\u001b[1;33m(\u001b[0m\u001b[1;33m)\u001b[0m\u001b[1;33m.\u001b[0m\u001b[0mrun_line_magic\u001b[0m\u001b[1;33m(\u001b[0m\u001b[1;34m'timeit'\u001b[0m\u001b[1;33m,\u001b[0m \u001b[1;34m'lsi_rerank.search(query)'\u001b[0m\u001b[1;33m)\u001b[0m\u001b[1;33m\u001b[0m\u001b[1;33m\u001b[0m\u001b[0m\n",
      "\u001b[1;32mC:\\ProgramData\\Anaconda3\\lib\\site-packages\\IPython\\core\\interactiveshell.py\u001b[0m in \u001b[0;36mrun_line_magic\u001b[1;34m(self, magic_name, line, _stack_depth)\u001b[0m\n\u001b[0;32m   2349\u001b[0m                 \u001b[0mkwargs\u001b[0m\u001b[1;33m[\u001b[0m\u001b[1;34m'local_ns'\u001b[0m\u001b[1;33m]\u001b[0m \u001b[1;33m=\u001b[0m \u001b[0mself\u001b[0m\u001b[1;33m.\u001b[0m\u001b[0mget_local_scope\u001b[0m\u001b[1;33m(\u001b[0m\u001b[0mstack_depth\u001b[0m\u001b[1;33m)\u001b[0m\u001b[1;33m\u001b[0m\u001b[1;33m\u001b[0m\u001b[0m\n\u001b[0;32m   2350\u001b[0m             \u001b[1;32mwith\u001b[0m \u001b[0mself\u001b[0m\u001b[1;33m.\u001b[0m\u001b[0mbuiltin_trap\u001b[0m\u001b[1;33m:\u001b[0m\u001b[1;33m\u001b[0m\u001b[1;33m\u001b[0m\u001b[0m\n\u001b[1;32m-> 2351\u001b[1;33m                 \u001b[0mresult\u001b[0m \u001b[1;33m=\u001b[0m \u001b[0mfn\u001b[0m\u001b[1;33m(\u001b[0m\u001b[1;33m*\u001b[0m\u001b[0margs\u001b[0m\u001b[1;33m,\u001b[0m \u001b[1;33m**\u001b[0m\u001b[0mkwargs\u001b[0m\u001b[1;33m)\u001b[0m\u001b[1;33m\u001b[0m\u001b[1;33m\u001b[0m\u001b[0m\n\u001b[0m\u001b[0;32m   2352\u001b[0m             \u001b[1;32mreturn\u001b[0m \u001b[0mresult\u001b[0m\u001b[1;33m\u001b[0m\u001b[1;33m\u001b[0m\u001b[0m\n\u001b[0;32m   2353\u001b[0m \u001b[1;33m\u001b[0m\u001b[0m\n",
      "\u001b[1;32mC:\\ProgramData\\Anaconda3\\lib\\site-packages\\decorator.py\u001b[0m in \u001b[0;36mfun\u001b[1;34m(*args, **kw)\u001b[0m\n\u001b[0;32m    230\u001b[0m             \u001b[1;32mif\u001b[0m \u001b[1;32mnot\u001b[0m \u001b[0mkwsyntax\u001b[0m\u001b[1;33m:\u001b[0m\u001b[1;33m\u001b[0m\u001b[1;33m\u001b[0m\u001b[0m\n\u001b[0;32m    231\u001b[0m                 \u001b[0margs\u001b[0m\u001b[1;33m,\u001b[0m \u001b[0mkw\u001b[0m \u001b[1;33m=\u001b[0m \u001b[0mfix\u001b[0m\u001b[1;33m(\u001b[0m\u001b[0margs\u001b[0m\u001b[1;33m,\u001b[0m \u001b[0mkw\u001b[0m\u001b[1;33m,\u001b[0m \u001b[0msig\u001b[0m\u001b[1;33m)\u001b[0m\u001b[1;33m\u001b[0m\u001b[1;33m\u001b[0m\u001b[0m\n\u001b[1;32m--> 232\u001b[1;33m             \u001b[1;32mreturn\u001b[0m \u001b[0mcaller\u001b[0m\u001b[1;33m(\u001b[0m\u001b[0mfunc\u001b[0m\u001b[1;33m,\u001b[0m \u001b[1;33m*\u001b[0m\u001b[1;33m(\u001b[0m\u001b[0mextras\u001b[0m \u001b[1;33m+\u001b[0m \u001b[0margs\u001b[0m\u001b[1;33m)\u001b[0m\u001b[1;33m,\u001b[0m \u001b[1;33m**\u001b[0m\u001b[0mkw\u001b[0m\u001b[1;33m)\u001b[0m\u001b[1;33m\u001b[0m\u001b[1;33m\u001b[0m\u001b[0m\n\u001b[0m\u001b[0;32m    233\u001b[0m     \u001b[0mfun\u001b[0m\u001b[1;33m.\u001b[0m\u001b[0m__name__\u001b[0m \u001b[1;33m=\u001b[0m \u001b[0mfunc\u001b[0m\u001b[1;33m.\u001b[0m\u001b[0m__name__\u001b[0m\u001b[1;33m\u001b[0m\u001b[1;33m\u001b[0m\u001b[0m\n\u001b[0;32m    234\u001b[0m     \u001b[0mfun\u001b[0m\u001b[1;33m.\u001b[0m\u001b[0m__doc__\u001b[0m \u001b[1;33m=\u001b[0m \u001b[0mfunc\u001b[0m\u001b[1;33m.\u001b[0m\u001b[0m__doc__\u001b[0m\u001b[1;33m\u001b[0m\u001b[1;33m\u001b[0m\u001b[0m\n",
      "\u001b[1;32mC:\\ProgramData\\Anaconda3\\lib\\site-packages\\IPython\\core\\magic.py\u001b[0m in \u001b[0;36m<lambda>\u001b[1;34m(f, *a, **k)\u001b[0m\n\u001b[0;32m    185\u001b[0m     \u001b[1;31m# but it's overkill for just that one bit of state.\u001b[0m\u001b[1;33m\u001b[0m\u001b[1;33m\u001b[0m\u001b[0m\n\u001b[0;32m    186\u001b[0m     \u001b[1;32mdef\u001b[0m \u001b[0mmagic_deco\u001b[0m\u001b[1;33m(\u001b[0m\u001b[0marg\u001b[0m\u001b[1;33m)\u001b[0m\u001b[1;33m:\u001b[0m\u001b[1;33m\u001b[0m\u001b[1;33m\u001b[0m\u001b[0m\n\u001b[1;32m--> 187\u001b[1;33m         \u001b[0mcall\u001b[0m \u001b[1;33m=\u001b[0m \u001b[1;32mlambda\u001b[0m \u001b[0mf\u001b[0m\u001b[1;33m,\u001b[0m \u001b[1;33m*\u001b[0m\u001b[0ma\u001b[0m\u001b[1;33m,\u001b[0m \u001b[1;33m**\u001b[0m\u001b[0mk\u001b[0m\u001b[1;33m:\u001b[0m \u001b[0mf\u001b[0m\u001b[1;33m(\u001b[0m\u001b[1;33m*\u001b[0m\u001b[0ma\u001b[0m\u001b[1;33m,\u001b[0m \u001b[1;33m**\u001b[0m\u001b[0mk\u001b[0m\u001b[1;33m)\u001b[0m\u001b[1;33m\u001b[0m\u001b[1;33m\u001b[0m\u001b[0m\n\u001b[0m\u001b[0;32m    188\u001b[0m \u001b[1;33m\u001b[0m\u001b[0m\n\u001b[0;32m    189\u001b[0m         \u001b[1;32mif\u001b[0m \u001b[0mcallable\u001b[0m\u001b[1;33m(\u001b[0m\u001b[0marg\u001b[0m\u001b[1;33m)\u001b[0m\u001b[1;33m:\u001b[0m\u001b[1;33m\u001b[0m\u001b[1;33m\u001b[0m\u001b[0m\n",
      "\u001b[1;32mC:\\ProgramData\\Anaconda3\\lib\\site-packages\\IPython\\core\\magics\\execution.py\u001b[0m in \u001b[0;36mtimeit\u001b[1;34m(self, line, cell, local_ns)\u001b[0m\n\u001b[0;32m   1171\u001b[0m                     \u001b[1;32mbreak\u001b[0m\u001b[1;33m\u001b[0m\u001b[1;33m\u001b[0m\u001b[0m\n\u001b[0;32m   1172\u001b[0m \u001b[1;33m\u001b[0m\u001b[0m\n\u001b[1;32m-> 1173\u001b[1;33m         \u001b[0mall_runs\u001b[0m \u001b[1;33m=\u001b[0m \u001b[0mtimer\u001b[0m\u001b[1;33m.\u001b[0m\u001b[0mrepeat\u001b[0m\u001b[1;33m(\u001b[0m\u001b[0mrepeat\u001b[0m\u001b[1;33m,\u001b[0m \u001b[0mnumber\u001b[0m\u001b[1;33m)\u001b[0m\u001b[1;33m\u001b[0m\u001b[1;33m\u001b[0m\u001b[0m\n\u001b[0m\u001b[0;32m   1174\u001b[0m         \u001b[0mbest\u001b[0m \u001b[1;33m=\u001b[0m \u001b[0mmin\u001b[0m\u001b[1;33m(\u001b[0m\u001b[0mall_runs\u001b[0m\u001b[1;33m)\u001b[0m \u001b[1;33m/\u001b[0m \u001b[0mnumber\u001b[0m\u001b[1;33m\u001b[0m\u001b[1;33m\u001b[0m\u001b[0m\n\u001b[0;32m   1175\u001b[0m         \u001b[0mworst\u001b[0m \u001b[1;33m=\u001b[0m \u001b[0mmax\u001b[0m\u001b[1;33m(\u001b[0m\u001b[0mall_runs\u001b[0m\u001b[1;33m)\u001b[0m \u001b[1;33m/\u001b[0m \u001b[0mnumber\u001b[0m\u001b[1;33m\u001b[0m\u001b[1;33m\u001b[0m\u001b[0m\n",
      "\u001b[1;32mC:\\ProgramData\\Anaconda3\\lib\\timeit.py\u001b[0m in \u001b[0;36mrepeat\u001b[1;34m(self, repeat, number)\u001b[0m\n\u001b[0;32m    203\u001b[0m         \u001b[0mr\u001b[0m \u001b[1;33m=\u001b[0m \u001b[1;33m[\u001b[0m\u001b[1;33m]\u001b[0m\u001b[1;33m\u001b[0m\u001b[1;33m\u001b[0m\u001b[0m\n\u001b[0;32m    204\u001b[0m         \u001b[1;32mfor\u001b[0m \u001b[0mi\u001b[0m \u001b[1;32min\u001b[0m \u001b[0mrange\u001b[0m\u001b[1;33m(\u001b[0m\u001b[0mrepeat\u001b[0m\u001b[1;33m)\u001b[0m\u001b[1;33m:\u001b[0m\u001b[1;33m\u001b[0m\u001b[1;33m\u001b[0m\u001b[0m\n\u001b[1;32m--> 205\u001b[1;33m             \u001b[0mt\u001b[0m \u001b[1;33m=\u001b[0m \u001b[0mself\u001b[0m\u001b[1;33m.\u001b[0m\u001b[0mtimeit\u001b[0m\u001b[1;33m(\u001b[0m\u001b[0mnumber\u001b[0m\u001b[1;33m)\u001b[0m\u001b[1;33m\u001b[0m\u001b[1;33m\u001b[0m\u001b[0m\n\u001b[0m\u001b[0;32m    206\u001b[0m             \u001b[0mr\u001b[0m\u001b[1;33m.\u001b[0m\u001b[0mappend\u001b[0m\u001b[1;33m(\u001b[0m\u001b[0mt\u001b[0m\u001b[1;33m)\u001b[0m\u001b[1;33m\u001b[0m\u001b[1;33m\u001b[0m\u001b[0m\n\u001b[0;32m    207\u001b[0m         \u001b[1;32mreturn\u001b[0m \u001b[0mr\u001b[0m\u001b[1;33m\u001b[0m\u001b[1;33m\u001b[0m\u001b[0m\n",
      "\u001b[1;32mC:\\ProgramData\\Anaconda3\\lib\\site-packages\\IPython\\core\\magics\\execution.py\u001b[0m in \u001b[0;36mtimeit\u001b[1;34m(self, number)\u001b[0m\n\u001b[0;32m    167\u001b[0m         \u001b[0mgc\u001b[0m\u001b[1;33m.\u001b[0m\u001b[0mdisable\u001b[0m\u001b[1;33m(\u001b[0m\u001b[1;33m)\u001b[0m\u001b[1;33m\u001b[0m\u001b[1;33m\u001b[0m\u001b[0m\n\u001b[0;32m    168\u001b[0m         \u001b[1;32mtry\u001b[0m\u001b[1;33m:\u001b[0m\u001b[1;33m\u001b[0m\u001b[1;33m\u001b[0m\u001b[0m\n\u001b[1;32m--> 169\u001b[1;33m             \u001b[0mtiming\u001b[0m \u001b[1;33m=\u001b[0m \u001b[0mself\u001b[0m\u001b[1;33m.\u001b[0m\u001b[0minner\u001b[0m\u001b[1;33m(\u001b[0m\u001b[0mit\u001b[0m\u001b[1;33m,\u001b[0m \u001b[0mself\u001b[0m\u001b[1;33m.\u001b[0m\u001b[0mtimer\u001b[0m\u001b[1;33m)\u001b[0m\u001b[1;33m\u001b[0m\u001b[1;33m\u001b[0m\u001b[0m\n\u001b[0m\u001b[0;32m    170\u001b[0m         \u001b[1;32mfinally\u001b[0m\u001b[1;33m:\u001b[0m\u001b[1;33m\u001b[0m\u001b[1;33m\u001b[0m\u001b[0m\n\u001b[0;32m    171\u001b[0m             \u001b[1;32mif\u001b[0m \u001b[0mgcold\u001b[0m\u001b[1;33m:\u001b[0m\u001b[1;33m\u001b[0m\u001b[1;33m\u001b[0m\u001b[0m\n",
      "\u001b[1;32m<magic-timeit>\u001b[0m in \u001b[0;36minner\u001b[1;34m(_it, _timer)\u001b[0m\n",
      "\u001b[1;32m~\\AppData\\Local\\Temp/ipykernel_15384/3564186495.py\u001b[0m in \u001b[0;36mbm25_search\u001b[1;34m(query, index_set)\u001b[0m\n\u001b[0;32m     26\u001b[0m             \u001b[1;32mif\u001b[0m \u001b[0mdoc_id\u001b[0m \u001b[1;32mnot\u001b[0m \u001b[1;32min\u001b[0m \u001b[0mscores\u001b[0m\u001b[1;33m:\u001b[0m\u001b[1;33m\u001b[0m\u001b[1;33m\u001b[0m\u001b[0m\n\u001b[0;32m     27\u001b[0m                 \u001b[0mscores\u001b[0m\u001b[1;33m[\u001b[0m\u001b[0mdoc_id\u001b[0m\u001b[1;33m]\u001b[0m \u001b[1;33m=\u001b[0m \u001b[1;36m0\u001b[0m\u001b[1;33m\u001b[0m\u001b[1;33m\u001b[0m\u001b[0m\n\u001b[1;32m---> 28\u001b[1;33m             \u001b[0mscores\u001b[0m\u001b[1;33m[\u001b[0m\u001b[0mdoc_id\u001b[0m\u001b[1;33m]\u001b[0m \u001b[1;33m+=\u001b[0m \u001b[0mnp\u001b[0m\u001b[1;33m.\u001b[0m\u001b[0mlog\u001b[0m\u001b[1;33m(\u001b[0m\u001b[0mN\u001b[0m\u001b[1;33m/\u001b[0m\u001b[0mdf\u001b[0m\u001b[1;33m[\u001b[0m\u001b[0mq\u001b[0m\u001b[1;33m]\u001b[0m\u001b[1;33m)\u001b[0m\u001b[1;33m*\u001b[0m\u001b[1;33m(\u001b[0m\u001b[0mk_1\u001b[0m\u001b[1;33m+\u001b[0m\u001b[1;36m1\u001b[0m\u001b[1;33m)\u001b[0m\u001b[1;33m*\u001b[0m\u001b[0mfreq\u001b[0m\u001b[1;33m/\u001b[0m\u001b[1;33m(\u001b[0m\u001b[0mk_1\u001b[0m\u001b[1;33m*\u001b[0m\u001b[1;33m(\u001b[0m\u001b[1;36m1\u001b[0m\u001b[1;33m-\u001b[0m\u001b[0mb\u001b[0m \u001b[1;33m+\u001b[0m \u001b[0mb\u001b[0m\u001b[1;33m*\u001b[0m\u001b[0mdoc_lengths\u001b[0m\u001b[1;33m[\u001b[0m\u001b[0mstr\u001b[0m\u001b[1;33m(\u001b[0m\u001b[0mdoc_id\u001b[0m\u001b[1;33m)\u001b[0m\u001b[1;33m]\u001b[0m\u001b[1;33m/\u001b[0m\u001b[0mdl_avg\u001b[0m\u001b[1;33m)\u001b[0m\u001b[1;33m+\u001b[0m\u001b[0mfreq\u001b[0m\u001b[1;33m)\u001b[0m\u001b[1;33m\u001b[0m\u001b[1;33m\u001b[0m\u001b[0m\n\u001b[0m\u001b[0;32m     29\u001b[0m     \u001b[1;32mreturn\u001b[0m \u001b[0mdict_to_arr\u001b[0m\u001b[1;33m(\u001b[0m\u001b[0mscores\u001b[0m\u001b[1;33m)\u001b[0m\u001b[1;33m\u001b[0m\u001b[1;33m\u001b[0m\u001b[0m\n",
      "\u001b[1;31mKeyboardInterrupt\u001b[0m: "
     ]
    }
   ],
   "source": [
    "query = \"algebraic functions\"\n",
    "print(\"BM25: \")\n",
    "%timeit bm25_search(query, 2)\n",
    "print(\"LSI: \")\n",
    "%timeit lsi_rerank.search(query)\n",
    "print(\"LDA: \")\n",
    "%timeit lda_rerank.search(query)\n",
    "print(\"W2V: \")\n",
    "%timeit w2v_rerank.search(query)\n",
    "print(\"W2V(Pretrained): \")\n",
    "%timeit w2v_pretrained_rerank.search(query)\n",
    "print(\"D2V:\")\n",
    "%timeit d2v_rerank.search(query)"
   ]
  },
  {
   "cell_type": "code",
   "execution_count": null,
   "metadata": {},
   "outputs": [],
   "source": []
  },
  {
   "cell_type": "markdown",
   "metadata": {
    "deletable": false,
    "editable": false,
    "nbgrader": {
     "cell_type": "markdown",
     "checksum": "c45c5e3f015b2de89d9d39ae3766368b",
     "grade": false,
     "grade_id": "cell-85c50f2ab9eec301",
     "locked": true,
     "schema_version": 3,
     "solution": false,
     "task": false
    }
   },
   "source": [
    "---\n",
    "As you can see, it is much faster (but BM25 is still orders of magnitude faster)."
   ]
  },
  {
   "cell_type": "markdown",
   "metadata": {
    "deletable": false,
    "editable": false,
    "nbgrader": {
     "cell_type": "markdown",
     "checksum": "1e2f3388e3807659f303fe31a75a010e",
     "grade": false,
     "grade_id": "cell-5071bb99b2af61cb",
     "locked": true,
     "schema_version": 3,
     "solution": false,
     "task": false
    }
   },
   "source": [
    "---\n",
    "## Section 10: Evaluation & Analysis (30 points) <a class=\"anchor\" id=\"reranking_eval\"></a>\n",
    "\n",
    "[Back to Part 2](#part2)\n",
    "\n",
    "[Previously](#evaluation) we have implemented some evaluation metrics and used them for measuring the ranking performance of term-based IR algorithms. In this section, we will do the same for semantic methods, both with and without re-ranking.\n",
    "\n",
    "### Section 10.1: Plot (10 points)\n",
    "\n",
    "First, gather the results. The results should consider the index set, the different search functions and different metrics. Plot the results in bar charts, per metric, with clear labels.\n",
    "\n",
    "Then, gather only the re-ranking models, and plot and compare them with the results obtained in part 1 (only index set 2)."
   ]
  },
  {
   "cell_type": "code",
   "execution_count": 261,
   "metadata": {
    "deletable": false,
    "editable": false,
    "nbgrader": {
     "cell_type": "code",
     "checksum": "4fe81520ac6413a803838913fd64de03",
     "grade": false,
     "grade_id": "cell-b672fe6dfae0b1ce",
     "locked": true,
     "schema_version": 3,
     "solution": false,
     "task": false
    }
   },
   "outputs": [],
   "source": [
    "list_of_sem_search_fns = [\n",
    "    (\"lda\", drm_lda.search),\n",
    "    (\"lsi\", drm_lsi.search),\n",
    "    (\"w2v\", drm_w2v.search),\n",
    "    (\"w2v_pretrained\", drm_w2v_pretrained.search),\n",
    "    (\"d2v\", drm_d2v.search),\n",
    "    (\"lsi_rr\", lsi_rerank.search),\n",
    "    (\"lda_rr\", lda_rerank.search),\n",
    "    (\"w2v_rr\", w2v_rerank.search),\n",
    "    (\"w2v_pretrained_rr\", w2v_pretrained_rerank.search),\n",
    "    (\"d2v_rr\", d2v_rerank.search),\n",
    "    \n",
    "]"
   ]
  },
  {
   "cell_type": "code",
   "execution_count": null,
   "metadata": {
    "deletable": false,
    "nbgrader": {
     "cell_type": "code",
     "checksum": "54707c4afac084299aeefa047259b4a9",
     "grade": true,
     "grade_id": "cell-7dd8273b0f5a3c22",
     "locked": false,
     "points": 10,
     "schema_version": 3,
     "solution": true,
     "task": false
    }
   },
   "outputs": [],
   "source": [
    "# YOUR CODE HERE\n",
    "raise NotImplementedError()"
   ]
  },
  {
   "cell_type": "markdown",
   "metadata": {
    "deletable": false,
    "editable": false,
    "nbgrader": {
     "cell_type": "markdown",
     "checksum": "a8a3b6189bdde66704c694d85e38d049",
     "grade": false,
     "grade_id": "cell-deb2ef3daa306e82",
     "locked": true,
     "schema_version": 3,
     "solution": false,
     "task": false
    }
   },
   "source": [
    "### Section 10.2: Summary (20 points)\n",
    "\n",
    "Your summary should compare methods from Part 1 and Part 2 (only for index set 2). State what you expected to see in the results, followed by either supporting evidence *or* justify why the results did not support your expectations. Consider the availability of data, scalability, domain/type of data, etc."
   ]
  },
  {
   "cell_type": "markdown",
   "metadata": {
    "deletable": false,
    "nbgrader": {
     "cell_type": "markdown",
     "checksum": "ff97c43837d10bff6aaffa75e1492887",
     "grade": true,
     "grade_id": "cell-ec5dd7d9cf59dd86",
     "locked": false,
     "points": 20,
     "schema_version": 3,
     "solution": true,
     "task": false
    }
   },
   "source": [
    "YOUR ANSWER HERE"
   ]
  }
 ],
 "metadata": {
  "kernelspec": {
   "display_name": "Python 3 (ipykernel)",
   "language": "python",
   "name": "python3"
  },
  "language_info": {
   "codemirror_mode": {
    "name": "ipython",
    "version": 3
   },
   "file_extension": ".py",
   "mimetype": "text/x-python",
   "name": "python",
   "nbconvert_exporter": "python",
   "pygments_lexer": "ipython3",
   "version": "3.9.7"
  },
  "toc": {
   "base_numbering": 1,
   "nav_menu": {},
   "number_sections": true,
   "sideBar": true,
   "skip_h1_title": false,
   "title_cell": "Table of Contents",
   "title_sidebar": "Contents",
   "toc_cell": false,
   "toc_position": {},
   "toc_section_display": true,
   "toc_window_display": false
  }
 },
 "nbformat": 4,
 "nbformat_minor": 4
}
