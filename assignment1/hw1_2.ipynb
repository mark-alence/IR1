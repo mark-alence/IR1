{
 "cells": [
  {
   "cell_type": "markdown",
   "metadata": {
    "deletable": false,
    "editable": false,
    "nbgrader": {
     "cell_type": "markdown",
     "checksum": "1bba455de8bc2825ca70469169bbadaa",
     "grade": false,
     "grade_id": "cell-c9cd9e550239e812",
     "locked": true,
     "schema_version": 3,
     "solution": false,
     "task": false
    }
   },
   "source": [
    "# Homework 1 (Total Points: 250) <a class=\"anchor\" id=\"top\"></a>\n",
    "\n",
    "\n",
    "**Submission instructions**:\n",
    "- The cells with the `# YOUR CODE HERE` denote that these sections are graded and you need to add your implementation.\n",
    "- For Part 1: You can use the `nltk`, `NumPy`, and `matplotlib` libraries here. Other libraries, e.g., `gensim` or `scikit-learn`, may not be used. For Part 2: `gensim` is allowed in addition to the imported libraries in the next code cell\n",
    "- Please use Python 3.6.5 and `pip install -r requirements.txt` to avoid version issues.\n",
    "- The notebook you submit has to have the student ids, separated by underscores (E.g., `12341234_12341234_12341234_hw1.ipynb`).\n",
    "- This will be parsed by a regexp, **so please double check your filename**.\n",
    "- Only one member of each group has to submit the file (**please do not compress the .ipynb file when you will submit it**) to canvas.\n",
    "- **Make sure to check that your notebook runs before submission**. A quick way to do this is to restart the kernel and run all the cells.  \n",
    "- Do not change the number of arugments in the given functions.\n",
    "- **Please do not delete/add new cells**. Removing cells **will** lead to grade deduction. \n",
    "- Note, that you are not allowed to use Google Colab.\n",
    "\n",
    "\n",
    "**Learning Goals**:\n",
    "- [Part 1, Term-based matching](#part1) (165 points):\n",
    "    - Learn how to load a dataset and process it.\n",
    "    - Learn how to implement several standard IR methods (TF-IDF, BM25, QL) and understand their weaknesses & strengths.\n",
    "    - Learn how to evaluate IR methods.\n",
    "- [Part 2, Semantic-based matching](#part2) (85 points):\n",
    "    - Learn how to implement vector-space retrieval methods (LSI, LDA).\n",
    "    - Learn how to use LSI and LDA for re-ranking.\n",
    "\n",
    "    \n",
    "**Resources**: \n",
    "- **Part 1**: Sections 2.3, 4.1, 4.2, 4.3, 5.3, 5.6, 5.7, 6.2, 7, 8 of [Search Engines: Information Retrieval in Practice](https://ciir.cs.umass.edu/downloads/SEIRiP.pdf)\n",
    "- **Part 2**: [LSI - Chapter 18](https://nlp.stanford.edu/IR-book/pdf/18lsi.pdf) from [Introduction to Information Retrieval](https://nlp.stanford.edu/IR-book/) book and the [original LDA paper](https://jmlr.org/papers/volume3/blei03a/blei03a.pdf)"
   ]
  },
  {
   "cell_type": "code",
   "execution_count": 89,
   "metadata": {
    "deletable": false,
    "editable": false,
    "nbgrader": {
     "cell_type": "code",
     "checksum": "c55bfe94ff1f564dd595547e516c4c6e",
     "grade": false,
     "grade_id": "cell-f5357fabdb9660e3",
     "locked": true,
     "schema_version": 3,
     "solution": false,
     "task": false
    }
   },
   "outputs": [],
   "source": [
    "# imports \n",
    "# TODO: Ensure that no additional library is imported in the notebook. \n",
    "# TODO: Only the standard library and the following libraries are allowed:\n",
    "# TODO: You can also use unlisted classes from these libraries or standard libraries (such as defaultdict, Counter, ...).\n",
    "\n",
    "import os\n",
    "import zipfile\n",
    "from functools import partial\n",
    "\n",
    "import nltk\n",
    "import requests\n",
    "import numpy as np\n",
    "from tqdm import tqdm\n",
    "\n",
    "import matplotlib.pyplot as plt\n",
    "from matplotlib.pyplot import cm\n",
    "\n",
    "from ipywidgets import widgets\n",
    "from IPython.display import display, HTML\n",
    "#from IPython.html import widgets\n",
    "from collections import namedtuple\n",
    "\n",
    "%matplotlib inline"
   ]
  },
  {
   "cell_type": "markdown",
   "metadata": {
    "deletable": false,
    "editable": false,
    "nbgrader": {
     "cell_type": "markdown",
     "checksum": "c8328f758ca5b69f76eee03dbbdd4715",
     "grade": false,
     "grade_id": "cell-7428e12ed184408b",
     "locked": true,
     "schema_version": 3,
     "solution": false,
     "task": false
    }
   },
   "source": [
    "\n",
    "# Part 1: Term-based Matching (165 points) <a class=\"anchor\" id=\"part1\"></a>\n",
    "\n",
    "[Back to top](#top)\n",
    "\n",
    "In the first part, we will learn the basics of IR from loading and preprocessing the material, to implementing some well known search algorithms, to evaluating the ranking performance of the implemented algorithms. We will be using the CACM dataset throughout the assignment. The CACM dataset is a collection of titles and abstracts from the journal CACM (Communication of the ACM).\n",
    "\n",
    "Table of contents:\n",
    "- [Section 1: Text Processing](#text_processing) (5 points)\n",
    "- [Section 2: Indexing](#indexing) (10 points)\n",
    "- [Section 3: Ranking](#ranking) (80 points)\n",
    "- [Section 4: Evaluation](#evaluation) (40 points)\n",
    "- [Section 5: Analysis](#analysis) (30 points)\n"
   ]
  },
  {
   "cell_type": "markdown",
   "metadata": {
    "deletable": false,
    "editable": false,
    "nbgrader": {
     "cell_type": "markdown",
     "checksum": "4e3f938065183dc743aa8254b96b4f5e",
     "grade": false,
     "grade_id": "cell-4b24825cf4ae55ec",
     "locked": true,
     "schema_version": 3,
     "solution": false,
     "task": false
    }
   },
   "source": [
    "---\n",
    "## Section 1: Text Processing (5 points)<a class=\"anchor\" id=\"text_processing\"></a>\n",
    "\n",
    "[Back to Part 1](#part1)\n",
    "\n",
    "In this section, we will load the dataset and learn how to clean up the data to make it usable for an IR system. \n",
    "First, go through the implementation of the following functions:\n",
    "- `read_cacm_docs`: Reads in the CACM documents.\n",
    "- `read_queries`: Reads in the CACM queries.\n",
    "- `load_stopwords`: Loads the stopwords.\n",
    "\n",
    "The points of this section are earned for the following implementations:\n",
    "- `tokenize` (3 points): Tokenizes the input text.\n",
    "- `stem_token` (2 points): Stems the given token. \n",
    "\n",
    "We are using the [CACM dataset](http://ir.dcs.gla.ac.uk/resources/test_collections/cacm/), which is a small, classic IR dataset, composed of a collection of titles and abstracts from the journal CACM. It comes with relevance judgements for queries, so we can evaluate our IR system. \n"
   ]
  },
  {
   "cell_type": "markdown",
   "metadata": {
    "deletable": false,
    "editable": false,
    "nbgrader": {
     "cell_type": "markdown",
     "checksum": "0155d897c7016389d73d160921947a6f",
     "grade": false,
     "grade_id": "cell-45651364e7af6d5a",
     "locked": true,
     "schema_version": 3,
     "solution": false,
     "task": false
    }
   },
   "source": [
    "---\n",
    "### 1.1 Read the CACM documents\n",
    "\n",
    "\n",
    "The following cell downloads the dataset and unzips it to a local directory."
   ]
  },
  {
   "cell_type": "code",
   "execution_count": 90,
   "metadata": {
    "deletable": false,
    "editable": false,
    "nbgrader": {
     "cell_type": "code",
     "checksum": "4d43c9ad6e77cc01ce4cef0c34824930",
     "grade": false,
     "grade_id": "cell-bbc3030bb3fe7e02",
     "locked": true,
     "schema_version": 3,
     "solution": false,
     "task": false
    }
   },
   "outputs": [],
   "source": [
    "def download_dataset():\n",
    "    folder_path = os.environ.get(\"IR1_DATA_PATH\")\n",
    "    if not folder_path:\n",
    "        folder_path = \"./datasets/\"\n",
    "    os.makedirs(folder_path, exist_ok=True)\n",
    "    \n",
    "    file_location = os.path.join(folder_path, \"cacm.zip\")\n",
    "    \n",
    "    # download file if it doesn't exist\n",
    "    if not os.path.exists(file_location):\n",
    "        \n",
    "        url = \"https://surfdrive.surf.nl/files/index.php/s/M0FGJpX2p8wDwxR/download\"\n",
    "\n",
    "        with open(file_location, \"wb\") as handle:\n",
    "            print(f\"Downloading file from {url} to {file_location}\")\n",
    "            response = requests.get(url, stream=True)\n",
    "            for data in tqdm(response.iter_content()):\n",
    "                handle.write(data)\n",
    "            print(\"Finished downloading file\")\n",
    "    \n",
    "    if not os.path.exists(os.path.join(folder_path, \"train.txt\")):\n",
    "        \n",
    "        # unzip file\n",
    "        with zipfile.ZipFile(file_location, 'r') as zip_ref:\n",
    "            zip_ref.extractall(folder_path)\n",
    "        \n",
    "download_dataset()"
   ]
  },
  {
   "cell_type": "markdown",
   "metadata": {
    "deletable": false,
    "editable": false,
    "nbgrader": {
     "cell_type": "markdown",
     "checksum": "31609b0d61d0c74cbd69bc43e47c23be",
     "grade": false,
     "grade_id": "cell-a7dd9a9bf98ede05",
     "locked": true,
     "schema_version": 3,
     "solution": false,
     "task": false
    }
   },
   "source": [
    "---\n",
    "\n",
    "You can see a brief description of each file in the dataset by looking at the README file:"
   ]
  },
  {
   "cell_type": "code",
   "execution_count": 91,
   "metadata": {
    "deletable": false,
    "editable": false,
    "nbgrader": {
     "cell_type": "code",
     "checksum": "cb3c9a2b8b2bf4fd5b7446b0c4c00f43",
     "grade": false,
     "grade_id": "cell-9b6ff1a17124711f",
     "locked": true,
     "schema_version": 3,
     "solution": false,
     "task": false
    }
   },
   "outputs": [
    {
     "name": "stdout",
     "output_type": "stream",
     "text": [
      "Files in this directory with sizes:\n",
      "          0 Jun 19 21:01 README\n",
      "\n",
      "    2187734 Jun 19 20:55 cacm.all              text of documents\n",
      "        626 Jun 19 20:58 cite.info             key to citation info\n",
      "                                                (the X sections in cacm.all)\n",
      "       2668 Jun 19 20:55 common_words           stop words used by smart\n",
      "       2194 Jun 19 20:55 make_coll*             shell script to make collection\n",
      "       1557 Jun 19 20:55 make_coll_term*        ditto (both useless without\n",
      "                                                smart system)\n",
      "       9948 Jun 19 20:55 qrels.text             relation giving\n",
      "                                                    qid did 0 0\n",
      "                                                to indicate dument did is\n",
      "                                                relevant to query qid\n",
      "      13689 Jun 19 20:55 query.text             Original text of the query\n",
      "\n"
     ]
    }
   ],
   "source": [
    "##### Read the README file \n",
    "with open (\"./datasets/README\",\"r\") as file:\n",
    "    readme = file.read()\n",
    "    print(readme)\n",
    "#####"
   ]
  },
  {
   "cell_type": "markdown",
   "metadata": {
    "deletable": false,
    "editable": false,
    "nbgrader": {
     "cell_type": "markdown",
     "checksum": "6e2712c4c4632bf7486a532f7f18074d",
     "grade": false,
     "grade_id": "cell-73351431869fda76",
     "locked": true,
     "schema_version": 3,
     "solution": false,
     "task": false
    }
   },
   "source": [
    "---\n",
    "We are interested in 4 files:\n",
    "- `cacm.all` : Contains the text for all documents. Note that some documents do not have abstracts available\n",
    "- `query.text` : The text of all queries\n",
    "- `qrels.text` : The relevance judgements\n",
    "- `common_words` : A list of common words. This may be used as a collection of stopwords"
   ]
  },
  {
   "cell_type": "code",
   "execution_count": 92,
   "metadata": {
    "deletable": false,
    "editable": false,
    "nbgrader": {
     "cell_type": "code",
     "checksum": "f1162c15177eb4ffe466531d03cff4a2",
     "grade": false,
     "grade_id": "cell-b44dd14079f278ca",
     "locked": true,
     "schema_version": 3,
     "solution": false,
     "task": false
    }
   },
   "outputs": [
    {
     "name": "stdout",
     "output_type": "stream",
     "text": [
      ".I 1\n",
      ".T\n",
      "Preliminary Report-International Algebraic Language\n",
      ".B\n",
      "CACM December, 1958\n",
      ".A\n",
      "Perlis, A. J.\n",
      "Samelson,K.\n",
      ".N\n",
      "CA581203 JB March 22, 1978  8:28 PM\n",
      ".X\n",
      "100\t5\t1\n",
      "123\t5\t1\n",
      "164\t5\t1\n",
      "1\t5\t1\n",
      "1\t5\t1\n",
      "1\t5\t1\n",
      "205\t5\t1\n",
      "210\t5\t1\n",
      "214\t5\t1\n",
      "1982\t5\t1\n",
      "398\t5\t1\n",
      "642\t5\t1\n",
      "669\t5\t1\n",
      "1\t6\t1\n",
      "1\t6\t1\n",
      "1\t6\t1\n",
      "1\t6\t1\n",
      "1\t6\t1\n",
      "1\t6\t1\n",
      "1\t6\t1\n",
      "1\t6\t1\n",
      "1\t6\t1\n",
      "1\t6\t1\n",
      "165\t6\t1\n",
      "196\t6\t1\n",
      "196\t6\t1\n",
      "1273\t6\t1\n",
      "1883\t6\t1\n",
      "324\t6\t1\n",
      "43\t6\t1\n",
      "53\t6\t1\n",
      "91\t6\t1\n",
      "410\t6\t1\n",
      "3184\t6\t1\n",
      "\n"
     ]
    }
   ],
   "source": [
    "##### The first 45 lines of the CACM dataset forms the first record\n",
    "# We are interested only in 3 fields. \n",
    "# 1. the '.I' field, which is the document id\n",
    "# 2. the '.T' field (the title) and\n",
    "# 3. the '.W' field (the abstract, which may be absent)\n",
    "with open (\"./datasets/cacm.all\",\"r\") as file:\n",
    "    cacm_all = \"\".join(file.readlines()[:45])\n",
    "    print(cacm_all)\n",
    "#####"
   ]
  },
  {
   "cell_type": "markdown",
   "metadata": {
    "deletable": false,
    "editable": false,
    "nbgrader": {
     "cell_type": "markdown",
     "checksum": "250b413baccd8efb186bb46a34ae0060",
     "grade": false,
     "grade_id": "cell-c4bf2e263ec553d8",
     "locked": true,
     "schema_version": 3,
     "solution": false,
     "task": false
    }
   },
   "source": [
    "---\n",
    "\n",
    "The following function reads the `cacm.all` file. Note that each document has a variable number of lines. The `.I` field denotes a new document:"
   ]
  },
  {
   "cell_type": "code",
   "execution_count": 93,
   "metadata": {
    "deletable": false,
    "editable": false,
    "nbgrader": {
     "cell_type": "code",
     "checksum": "57d757e6a7a6938740dc899022b4f291",
     "grade": false,
     "grade_id": "cell-b736116eb419c624",
     "locked": true,
     "schema_version": 3,
     "solution": false,
     "task": false
    }
   },
   "outputs": [],
   "source": [
    "def read_cacm_docs(root_folder = \"./datasets/\"):\n",
    "    \"\"\"\n",
    "        Reads in the CACM documents. The dataset is assumed to be in the folder \"./datasets/\" by default\n",
    "        Returns: A list of 2-tuples: (doc_id, document), where 'document' is a single string created by \n",
    "            appending the title and abstract (separated by a \"\\n\"). \n",
    "            In case the record doesn't have an abstract, the document is composed only by the title\n",
    "    \"\"\"\n",
    "    with open(os.path.join(root_folder, \"cacm.all\")) as reader:\n",
    "        lines = reader.readlines()\n",
    "    \n",
    "    doc_id, title, abstract = None, None, None\n",
    "    \n",
    "    docs = []\n",
    "    line_idx = 0\n",
    "    while line_idx < len(lines):\n",
    "        line = lines[line_idx]\n",
    "        if line.startswith(\".I\"):\n",
    "            if doc_id is not None:\n",
    "                docs.append((doc_id, title, abstract))\n",
    "                doc_id, title, abstract = None, None, None\n",
    "            \n",
    "            doc_id = line.split()[-1]\n",
    "            line_idx += 1\n",
    "        elif line.startswith(\".T\"):\n",
    "            # start at next line\n",
    "            line_idx += 1\n",
    "            temp_lines = []\n",
    "            # read till next '.'\n",
    "            while not lines[line_idx].startswith(\".\"):\n",
    "                temp_lines.append(lines[line_idx].strip(\"\\n\"))\n",
    "                line_idx += 1\n",
    "            title = \"\\n\".join(temp_lines).strip(\"\\n\")\n",
    "        elif line.startswith(\".W\"):\n",
    "            # start at next line\n",
    "            line_idx += 1\n",
    "            temp_lines = []\n",
    "            # read till next '.'\n",
    "            while not lines[line_idx].startswith(\".\"):\n",
    "                temp_lines.append(lines[line_idx].strip(\"\\n\"))\n",
    "                line_idx += 1\n",
    "            abstract = \"\\n\".join(temp_lines).strip(\"\\n\")\n",
    "        else:\n",
    "            line_idx += 1\n",
    "    \n",
    "    docs.append((doc_id, title, abstract))\n",
    "    \n",
    "    p_docs = []\n",
    "    for (did, t, a) in docs:\n",
    "        if a is None:\n",
    "            a = \"\"\n",
    "        p_docs.append((did, t + \"\\n\" + a))\n",
    "    return p_docs\n"
   ]
  },
  {
   "cell_type": "code",
   "execution_count": 94,
   "metadata": {
    "deletable": false,
    "editable": false,
    "nbgrader": {
     "cell_type": "code",
     "checksum": "2f81930fcd89670b6e20e2255e1f2369",
     "grade": false,
     "grade_id": "cell-a1c43818e0d3fd79",
     "locked": true,
     "schema_version": 3,
     "solution": false,
     "task": false
    }
   },
   "outputs": [],
   "source": [
    "##### Function check\n",
    "docs = read_cacm_docs()\n",
    "\n",
    "assert isinstance(docs, list)\n",
    "assert len(docs) == 3204, \"There should be exactly 3204 documents\"\n",
    "\n",
    "unzipped_docs = list(zip(*docs))\n",
    "assert np.sum(np.array(list(map(int,unzipped_docs[0])))) == 5134410\n",
    "\n",
    "##### "
   ]
  },
  {
   "cell_type": "markdown",
   "metadata": {
    "deletable": false,
    "editable": false,
    "nbgrader": {
     "cell_type": "markdown",
     "checksum": "25fd3cfaf2137c56002b850699b3c9d3",
     "grade": false,
     "grade_id": "cell-5ed2ddc91f73c60e",
     "locked": true,
     "schema_version": 3,
     "solution": false,
     "task": false
    }
   },
   "source": [
    "---\n",
    "### 1.2 Read the CACM queries\n",
    "\n",
    "Next, let us read the queries. They are formatted similarly:"
   ]
  },
  {
   "cell_type": "code",
   "execution_count": 95,
   "metadata": {
    "deletable": false,
    "editable": false,
    "nbgrader": {
     "cell_type": "code",
     "checksum": "5d26c0908e758acb9968b84056b1060a",
     "grade": false,
     "grade_id": "cell-5c7e8e7c4fc2757f",
     "locked": true,
     "schema_version": 3,
     "solution": false,
     "task": false
    }
   },
   "outputs": [
    {
     "name": "stdout",
     "output_type": "stream",
     "text": [
      ".I 1\r\n",
      ".W\r\n",
      " What articles exist which deal with TSS (Time Sharing System), an\r\n",
      "operating system for IBM computers?\r\n",
      ".N\r\n",
      " 1. Richard Alexander, Comp Serv, Langmuir Lab (TSS)\r\n",
      " \r\n",
      ".I 2\r\n",
      ".W\r\n",
      " I am interested in articles written either by Prieve or Udo Pooch\r\n",
      ".A\r\n",
      "Prieve, B.\r\n",
      "Pooch, U.\r\n",
      ".N\r\n",
      " 2. Richard Alexander, Comp Serv, Langmuir Lab (author = Pooch or Prieve)\r\n"
     ]
    }
   ],
   "source": [
    "##### The first 15 lines of 'query.text' has 2 queries\n",
    "# We are interested only in 2 fields. \n",
    "# 1. the '.I' - the query id\n",
    "# 2. the '.W' - the query\n",
    "!head -15 ./datasets/query.text\n",
    "#####"
   ]
  },
  {
   "cell_type": "markdown",
   "metadata": {
    "deletable": false,
    "editable": false,
    "nbgrader": {
     "cell_type": "markdown",
     "checksum": "8f19f311a660f30e3f86cb0f7037d54a",
     "grade": false,
     "grade_id": "cell-88e293507d2dcef6",
     "locked": true,
     "schema_version": 3,
     "solution": false,
     "task": false
    }
   },
   "source": [
    "---\n",
    "\n",
    "The following function reads the `query.text` file:"
   ]
  },
  {
   "cell_type": "code",
   "execution_count": 96,
   "metadata": {
    "deletable": false,
    "editable": false,
    "nbgrader": {
     "cell_type": "code",
     "checksum": "e3fbb193211007672849487f5cff1664",
     "grade": false,
     "grade_id": "cell-433e3ad5d0e2572a",
     "locked": true,
     "schema_version": 3,
     "solution": false,
     "task": false
    }
   },
   "outputs": [],
   "source": [
    "def read_queries(root_folder = \"./datasets/\"):\n",
    "    \"\"\"\n",
    "        Reads in the CACM queries. The dataset is assumed to be in the folder \"./datasets/\" by default\n",
    "        Returns: A list of 2-tuples: (query_id, query)\n",
    "    \"\"\"\n",
    "    with open(os.path.join(root_folder, \"query.text\")) as reader:\n",
    "        lines = reader.readlines()\n",
    "    \n",
    "    query_id, query = None, None\n",
    "    \n",
    "    queries = []\n",
    "    line_idx = 0\n",
    "    while line_idx < len(lines):\n",
    "        line = lines[line_idx]\n",
    "        if line.startswith(\".I\"):\n",
    "            if query_id is not None:\n",
    "                queries.append((query_id, query))\n",
    "                query_id, query = None, None\n",
    "    \n",
    "            query_id = line.split()[-1]\n",
    "            line_idx += 1\n",
    "        elif line.startswith(\".W\"):\n",
    "            # start at next line\n",
    "            line_idx += 1\n",
    "            temp_lines = []\n",
    "            # read till next '.'\n",
    "            while not lines[line_idx].startswith(\".\"):\n",
    "                temp_lines.append(lines[line_idx].strip(\"\\n\"))\n",
    "                line_idx += 1\n",
    "            query = \"\\n\".join(temp_lines).strip(\"\\n\")\n",
    "        else:\n",
    "            line_idx += 1\n",
    "    \n",
    "    queries.append((query_id, query))\n",
    "    return queries\n"
   ]
  },
  {
   "cell_type": "code",
   "execution_count": 97,
   "metadata": {
    "deletable": false,
    "editable": false,
    "nbgrader": {
     "cell_type": "code",
     "checksum": "a897b9771b54f447be3418d7246fc4a0",
     "grade": false,
     "grade_id": "cell-6ec540abce66c598",
     "locked": true,
     "schema_version": 3,
     "solution": false,
     "task": false
    }
   },
   "outputs": [],
   "source": [
    "##### Function check\n",
    "queries = read_queries()\n",
    "\n",
    "assert isinstance(queries, list)\n",
    "assert len(queries) == 64 and all([q[1] is not None for q in queries]), \"There should be exactly 64 queries\"\n",
    "\n",
    "unzipped_queries = list(zip(*queries))\n",
    "assert np.sum(np.array(list(map(int,unzipped_queries[0])))) == 2080\n",
    "\n",
    "##### "
   ]
  },
  {
   "cell_type": "markdown",
   "metadata": {
    "deletable": false,
    "editable": false,
    "nbgrader": {
     "cell_type": "markdown",
     "checksum": "a300c41912ac63b239070b4c15c9f5c5",
     "grade": false,
     "grade_id": "cell-1c31569491d7b782",
     "locked": true,
     "schema_version": 3,
     "solution": false,
     "task": false
    }
   },
   "source": [
    "---\n",
    "### 1.3 Read the stop words\n",
    "\n",
    "We use the common words stored in `common_words`:"
   ]
  },
  {
   "cell_type": "code",
   "execution_count": 98,
   "metadata": {
    "deletable": false,
    "editable": false,
    "nbgrader": {
     "cell_type": "code",
     "checksum": "1ad6f5bae6a792504c1c8513ae5751ad",
     "grade": false,
     "grade_id": "cell-34bdb63461418a96",
     "locked": true,
     "schema_version": 3,
     "solution": false,
     "task": false
    }
   },
   "outputs": [
    {
     "name": "stdout",
     "output_type": "stream",
     "text": [
      "a\r\n",
      "about\r\n",
      "above\r\n",
      "accordingly\r\n",
      "across\r\n",
      "after\r\n",
      "afterwards\r\n",
      "again\r\n",
      "against\r\n",
      "all\r\n"
     ]
    }
   ],
   "source": [
    "##### Read the stop words file \n",
    "!head ./datasets/common_words\n",
    "##### Read the README file "
   ]
  },
  {
   "cell_type": "markdown",
   "metadata": {
    "deletable": false,
    "editable": false,
    "nbgrader": {
     "cell_type": "markdown",
     "checksum": "6d0fe612e770213b6397c2179b07a966",
     "grade": false,
     "grade_id": "cell-4744bde0338895d8",
     "locked": true,
     "schema_version": 3,
     "solution": false,
     "task": false
    }
   },
   "source": [
    "---\n",
    "\n",
    "The following function reads the `common_words` file (For better coverage, we try to keep them in lowercase):"
   ]
  },
  {
   "cell_type": "code",
   "execution_count": 99,
   "metadata": {
    "deletable": false,
    "editable": false,
    "nbgrader": {
     "cell_type": "code",
     "checksum": "9409713fd26eb0c33587e190638997c4",
     "grade": false,
     "grade_id": "cell-7357aa40f64e5bcb",
     "locked": true,
     "schema_version": 3,
     "solution": false,
     "task": false
    }
   },
   "outputs": [],
   "source": [
    "def load_stopwords(root_folder = \"./datasets/\"):\n",
    "    \"\"\"\n",
    "        Loads the stopwords. The dataset is assumed to be in the folder \"./datasets/\" by default\n",
    "        Output: A set of stopwords\n",
    "    \"\"\"\n",
    "    with open(os.path.join(root_folder, \"common_words\")) as reader:\n",
    "        lines = reader.readlines()\n",
    "    stopwords = set([l.strip().lower() for l in lines])\n",
    "    return stopwords\n"
   ]
  },
  {
   "cell_type": "code",
   "execution_count": 100,
   "metadata": {
    "deletable": false,
    "editable": false,
    "nbgrader": {
     "cell_type": "code",
     "checksum": "f1c8153c3c38133bc2db6e7b076ad470",
     "grade": false,
     "grade_id": "cell-2ca3ac162004de97",
     "locked": true,
     "schema_version": 3,
     "solution": false,
     "task": false
    }
   },
   "outputs": [],
   "source": [
    "##### Function check\n",
    "stopwords = load_stopwords()\n",
    "\n",
    "assert isinstance(stopwords, set)\n",
    "assert len(stopwords) == 428, \"There should be exactly 428 stop words\"\n",
    "\n",
    "assert np.sum(np.array(list(map(len,stopwords)))) == 2234\n",
    "\n",
    "##### \n"
   ]
  },
  {
   "cell_type": "markdown",
   "metadata": {
    "deletable": false,
    "editable": false,
    "nbgrader": {
     "cell_type": "markdown",
     "checksum": "92c1191e9e7291dcf0d70dc67b907a65",
     "grade": false,
     "grade_id": "cell-134b72872f4300cb",
     "locked": true,
     "schema_version": 3,
     "solution": false,
     "task": false
    }
   },
   "source": [
    "---\n",
    "### 1.4 Tokenization (3 points)\n",
    "\n",
    "We can now write some basic text processing functions. \n",
    "A first step is to tokenize the text. \n",
    "\n",
    "**Note**: Use the  `WordPunctTokenizer` available in the `nltk` library:"
   ]
  },
  {
   "cell_type": "code",
   "execution_count": 101,
   "metadata": {
    "deletable": false,
    "nbgrader": {
     "cell_type": "code",
     "checksum": "3f5564d3c75bf22fbf832b3a9b938f37",
     "grade": false,
     "grade_id": "cell-322be4c9499bdc4b",
     "locked": false,
     "schema_version": 3,
     "solution": true,
     "task": false
    }
   },
   "outputs": [],
   "source": [
    "# TODO: Implement this! (4 points)\n",
    "def tokenize(text):\n",
    "    \"\"\"\n",
    "        Tokenizes the input text. Use the WordPunctTokenizer\n",
    "        Input: text - a string\n",
    "        Output: a list of tokens\n",
    "    \"\"\"\n",
    "    tk = nltk.tokenize.WordPunctTokenizer()\n",
    "    return tk.tokenize(text)"
   ]
  },
  {
   "cell_type": "code",
   "execution_count": 102,
   "metadata": {
    "deletable": false,
    "editable": false,
    "nbgrader": {
     "cell_type": "code",
     "checksum": "e15af22c4d8ae0a3f9dac43bef7097ec",
     "grade": true,
     "grade_id": "cell-7fbf48bf7541a622",
     "locked": true,
     "points": 3,
     "schema_version": 3,
     "solution": false,
     "task": false
    }
   },
   "outputs": [
    {
     "name": "stdout",
     "output_type": "stream",
     "text": [
      "['the', 'quick', 'brown', 'fox', 'jumps', 'over', 'the', 'lazy', 'dog']\n"
     ]
    }
   ],
   "source": [
    "##### Function check\n",
    "text = \"the quick brown fox jumps over the lazy dog\"\n",
    "tokens = tokenize(text)\n",
    "\n",
    "assert isinstance(tokens, list)\n",
    "assert len(tokens) == 9\n",
    "\n",
    "print(tokens)\n",
    "# output: ['the', 'quick', 'brown', 'fox', 'jumps', 'over', 'the', 'lazy', 'dog']\n",
    "#####"
   ]
  },
  {
   "cell_type": "markdown",
   "metadata": {
    "deletable": false,
    "editable": false,
    "nbgrader": {
     "cell_type": "markdown",
     "checksum": "34210618bff4cb47aad2f03cb4b9854c",
     "grade": false,
     "grade_id": "cell-fd1b98ae61b697ca",
     "locked": true,
     "schema_version": 3,
     "solution": false,
     "task": false
    }
   },
   "source": [
    "---\n",
    "### 1.5 Stemming (2 points)\n",
    "\n",
    "Write a function to stem tokens. \n",
    "Again, you can use the nltk library for this:"
   ]
  },
  {
   "cell_type": "code",
   "execution_count": 103,
   "metadata": {
    "deletable": false,
    "nbgrader": {
     "cell_type": "code",
     "checksum": "1c4a6aa979d66158c7b6b992af43293a",
     "grade": false,
     "grade_id": "cell-e3f6c8e3f874b28d",
     "locked": false,
     "schema_version": 3,
     "solution": true,
     "task": false
    }
   },
   "outputs": [],
   "source": [
    "# TODO: Implement this! (3 points)\n",
    "def stem_token(token):\n",
    "    \"\"\"\n",
    "        Stems the given token using the PorterStemmer from the nltk library\n",
    "        Input: a single token\n",
    "        Output: the stem of the token\n",
    "    \"\"\"\n",
    "    stemmer = nltk.stem.PorterStemmer()\n",
    "    return stemmer.stem(token)"
   ]
  },
  {
   "cell_type": "code",
   "execution_count": 104,
   "metadata": {
    "deletable": false,
    "editable": false,
    "nbgrader": {
     "cell_type": "code",
     "checksum": "9363b4f09b556d424d9c895d4ab57b1c",
     "grade": true,
     "grade_id": "cell-cd6863e6ee6ed205",
     "locked": true,
     "points": 2,
     "schema_version": 3,
     "solution": false,
     "task": false
    }
   },
   "outputs": [],
   "source": [
    "##### Function check\n",
    "\n",
    "assert stem_token('owned') == 'own'\n",
    "assert stem_token('itemization') == 'item'\n",
    "#####"
   ]
  },
  {
   "cell_type": "markdown",
   "metadata": {
    "deletable": false,
    "editable": false,
    "nbgrader": {
     "cell_type": "markdown",
     "checksum": "0b311d014146da6afa1d39542fab9869",
     "grade": false,
     "grade_id": "cell-47c9f90498699110",
     "locked": true,
     "schema_version": 3,
     "solution": false,
     "task": false
    }
   },
   "source": [
    "---\n",
    "### 1.6 Summary\n",
    "\n",
    "The following function puts it all together. Given an input string, this functions tokenizes and processes it according to the flags that you set."
   ]
  },
  {
   "cell_type": "code",
   "execution_count": 105,
   "metadata": {
    "deletable": false,
    "editable": false,
    "nbgrader": {
     "cell_type": "code",
     "checksum": "2ff2d215ee8e0039c5a91fd3de12e6bd",
     "grade": false,
     "grade_id": "cell-dd0d3f46b30801da",
     "locked": true,
     "schema_version": 3,
     "solution": false,
     "task": false
    }
   },
   "outputs": [],
   "source": [
    "#### Putting it all together\n",
    "def process_text(text, stem=False, remove_stopwords=False, lowercase_text=False):\n",
    "    \n",
    "    tokens = []\n",
    "    for token in tokenize(text):\n",
    "        if remove_stopwords and token.lower() in stopwords:\n",
    "            continue\n",
    "        if stem:\n",
    "            token = stem_token(token)\n",
    "        if lowercase_text:\n",
    "            token = token.lower()\n",
    "        tokens.append(token)\n",
    "\n",
    "    return tokens\n",
    "#### "
   ]
  },
  {
   "cell_type": "markdown",
   "metadata": {
    "deletable": false,
    "editable": false,
    "nbgrader": {
     "cell_type": "markdown",
     "checksum": "02d433b18eb43654fa4306a7bf55b190",
     "grade": false,
     "grade_id": "cell-8d885bfd2edd43ae",
     "locked": true,
     "schema_version": 3,
     "solution": false,
     "task": false
    }
   },
   "source": [
    "---\n",
    "\n",
    "Let's create two sets of preprocessed documents.\n",
    "We can process the documents and queries according to these two configurations:"
   ]
  },
  {
   "cell_type": "code",
   "execution_count": 106,
   "metadata": {
    "deletable": false,
    "editable": false,
    "nbgrader": {
     "cell_type": "code",
     "checksum": "dbe4ca667be6842fdcf512fbcad50c7f",
     "grade": false,
     "grade_id": "cell-d427365ee0fb21d8",
     "locked": true,
     "schema_version": 3,
     "solution": false,
     "task": false
    }
   },
   "outputs": [],
   "source": [
    "# In this configuration:\n",
    "# Don't preprocess the text, except to tokenize \n",
    "config_1 = {\n",
    "  \"stem\": False,\n",
    "  \"remove_stopwords\" : False,\n",
    "  \"lowercase_text\": True\n",
    "} \n",
    "\n",
    "\n",
    "# In this configuration:\n",
    "# Preprocess the text, stem and remove stopwords\n",
    "config_2 = {\n",
    "  \"stem\": True,\n",
    "  \"remove_stopwords\" : True,\n",
    "  \"lowercase_text\": True, \n",
    "} \n",
    "\n",
    "####\n",
    "doc_repr_1 = []\n",
    "doc_repr_2 = []\n",
    "for (doc_id, document) in docs:\n",
    "    doc_repr_1.append((doc_id, process_text(document, **config_1)))\n",
    "    doc_repr_2.append((doc_id, process_text(document, **config_2)))\n",
    "\n",
    "####"
   ]
  },
  {
   "cell_type": "markdown",
   "metadata": {
    "deletable": false,
    "editable": false,
    "nbgrader": {
     "cell_type": "markdown",
     "checksum": "b60589aac19e80941d860d9b3f1e9a16",
     "grade": false,
     "grade_id": "cell-b1c102db61ae7495",
     "locked": true,
     "schema_version": 3,
     "solution": false,
     "task": false
    }
   },
   "source": [
    "--- \n",
    "\n",
    "## Section 2: Indexing (10 points)<a class=\"anchor\" id=\"indexing\"></a>\n",
    "\n",
    "[Back to Part 1](#part1)\n",
    "\n",
    "\n",
    "\n",
    "A retrieval function usually takes in a query document pair, and scores a query against a document.  Our document set is quite small - just a few thousand documents. However, consider a web-scale dataset with a few million documents. In such a scenario, it would become infeasible to score every query and document pair. In such a case, we can build an inverted index. From Wikipedia:\n",
    "\n",
    "> ... , an inverted index (also referred to as a postings file or inverted file) is a database index storing a mapping from content, such as words or numbers, to its locations in a table, .... The purpose of an inverted index is to allow fast full-text searches, at a cost of increased processing when a document is added to the database. ...\n",
    "\n",
    "\n",
    "Consider a simple inverted index, which maps from word to document. This can improve the performance of a retrieval system significantly. In this assignment, we consider a *simple* inverted index, which maps a word to a set of documents. In practice, however, more complex indices might be used.  \n"
   ]
  },
  {
   "cell_type": "markdown",
   "metadata": {
    "deletable": false,
    "editable": false,
    "nbgrader": {
     "cell_type": "markdown",
     "checksum": "710fd943f45523ac36fcb887cc0d4d39",
     "grade": false,
     "grade_id": "cell-fa373192c1b7bb95",
     "locked": true,
     "schema_version": 3,
     "solution": false,
     "task": false
    }
   },
   "source": [
    "### 2.1 Term Frequency-index (10 points)\n",
    "In this assignment, we will be using an index created in memory since our dataset is tiny. To get started, build a simple index that maps each `token` to a list of `(doc_id, count)` where `count` is the count of the `token` in `doc_id`.\n",
    "For consistency, build this index using a python dictionary.\n",
    "    \n",
    "Now, implement a function to build an index:"
   ]
  },
  {
   "cell_type": "code",
   "execution_count": 107,
   "metadata": {
    "deletable": false,
    "nbgrader": {
     "cell_type": "code",
     "checksum": "d4e8c6b658c469379d5fe511de05b536",
     "grade": false,
     "grade_id": "cell-077599b87e953209",
     "locked": false,
     "schema_version": 3,
     "solution": true,
     "task": false
    }
   },
   "outputs": [],
   "source": [
    "# TODO: Implement this! (10 points)\n",
    "from collections import defaultdict\n",
    "def build_tf_index(documents):\n",
    "    \"\"\"\n",
    "        Build an inverted index (with counts). The output is a dictionary which takes in a token\n",
    "        and returns a list of (doc_id, count) where 'count' is the count of the 'token' in 'doc_id'\n",
    "        Input: a list of documents - (doc_id, tokens) \n",
    "        Output: An inverted index implemented within a pyhton dictionary: [token] -> [(doc_id, token_count)]\n",
    "    \"\"\"\n",
    "    # YOUR CODE HERE\n",
    "    index = defaultdict(list)\n",
    "    for (doc_id, tokens) in documents:\n",
    "        doc_id = int(doc_id)\n",
    "        seen_tks = {}\n",
    "        for tk in tokens:\n",
    "            new_tk = tk not in index\n",
    "            if new_tk:\n",
    "                index[tk] = []\n",
    "            if tk not in seen_tks:\n",
    "                index[tk].append([doc_id, 1])\n",
    "                seen_tks[tk] = True\n",
    "            else:\n",
    "                index[tk][-1][1] += 1\n",
    "    return index"
   ]
  },
  {
   "cell_type": "markdown",
   "metadata": {
    "deletable": false,
    "editable": false,
    "nbgrader": {
     "cell_type": "markdown",
     "checksum": "15e7041b4323d2a290322de538ff7670",
     "grade": false,
     "grade_id": "cell-093aebfa504f96f2",
     "locked": true,
     "schema_version": 3,
     "solution": false,
     "task": false
    }
   },
   "source": [
    "---\n",
    "Now we can build indexed documents and preprocess the queries based on the two configurations:"
   ]
  },
  {
   "cell_type": "code",
   "execution_count": 108,
   "metadata": {
    "deletable": false,
    "editable": false,
    "nbgrader": {
     "cell_type": "code",
     "checksum": "e27540c1d8d77a3779a05f557f3f40c6",
     "grade": false,
     "grade_id": "cell-b2ff1676348b90a8",
     "locked": true,
     "schema_version": 3,
     "solution": false,
     "task": false
    }
   },
   "outputs": [],
   "source": [
    "#### Indexed documents based on the two configs\n",
    "\n",
    "# Create the 2 indices\n",
    "tf_index_1 = build_tf_index(doc_repr_1)\n",
    "tf_index_2 = build_tf_index(doc_repr_2)\n",
    "\n",
    "# This function returns the tf_index of the corresponding config\n",
    "def get_index(index_set):\n",
    "    assert index_set in {1, 2}\n",
    "    return {\n",
    "        1: tf_index_1,\n",
    "        2: tf_index_2\n",
    "    }[index_set]\n",
    "\n",
    "####\n",
    "#### Preprocessed query based on the two configs\n",
    "\n",
    "# This function preprocesses the text given the index set, according to the specified config\n",
    "def preprocess_query(text, index_set):\n",
    "    assert index_set in {1, 2}\n",
    "    if index_set == 1:\n",
    "        return process_text(text, **config_1)\n",
    "    elif index_set == 2:\n",
    "        return process_text(text, **config_2)\n",
    "\n",
    "#### "
   ]
  },
  {
   "cell_type": "code",
   "execution_count": 109,
   "metadata": {
    "deletable": false,
    "editable": false,
    "nbgrader": {
     "cell_type": "code",
     "checksum": "f0cbc8703e1248cd6edf03f9019b69db",
     "grade": true,
     "grade_id": "cell-fc7c7232d5d2ee46",
     "locked": true,
     "points": 5,
     "schema_version": 3,
     "solution": false,
     "task": false
    }
   },
   "outputs": [
    {
     "name": "stdout",
     "output_type": "stream",
     "text": [
      "sample tf index for computer: [[4, 1], [7, 1], [10, 1], [13, 1], [19, 1], [22, 1], [23, 1], [37, 1], [40, 3], [41, 1]]\n",
      "sample tf index for examples: [[111, 1], [320, 1], [644, 1], [691, 1], [727, 1], [848, 1], [892, 1], [893, 1], [1049, 1], [1051, 1]]\n"
     ]
    }
   ],
   "source": [
    "##### Function check\n",
    "\n",
    "assert isinstance(tf_index_1, dict)\n",
    "\n",
    "assert isinstance(tf_index_1['computer'], list)\n",
    "print('sample tf index for computer:', tf_index_1['computer'][:10])\n",
    "\n",
    "assert isinstance(tf_index_1['examples'], list)\n",
    "print('sample tf index for examples:', tf_index_1['examples'][:10])\n",
    "#### "
   ]
  },
  {
   "cell_type": "code",
   "execution_count": 110,
   "metadata": {
    "deletable": false,
    "editable": false,
    "nbgrader": {
     "cell_type": "code",
     "checksum": "d49b8ac36815d9a5cb4bed838ab53a50",
     "grade": true,
     "grade_id": "cell-ff06bd11204db250",
     "locked": true,
     "points": 5,
     "schema_version": 3,
     "solution": false,
     "task": false
    }
   },
   "outputs": [
    {
     "name": "stdout",
     "output_type": "stream",
     "text": [
      "sample tf index for computer: [[4, 1], [7, 1], [10, 1], [13, 1], [19, 1], [22, 1], [23, 1], [37, 1], [40, 3], [41, 1]]\n",
      "sample tf index for examples: []\n"
     ]
    }
   ],
   "source": [
    "##### Function check\n",
    "\n",
    "assert isinstance(tf_index_2, dict)\n",
    "\n",
    "assert isinstance(tf_index_2['computer'], list)\n",
    "print('sample tf index for computer:', tf_index_1['computer'][:10])\n",
    "\n",
    "assert isinstance(tf_index_2['examples'], list)\n",
    "print('sample tf index for examples:', tf_index_2['examples'][:10])\n",
    "#### "
   ]
  },
  {
   "cell_type": "markdown",
   "metadata": {
    "deletable": false,
    "editable": false,
    "nbgrader": {
     "cell_type": "markdown",
     "checksum": "880b2ef3ca405f2af6e0667d2dc7a600",
     "grade": false,
     "grade_id": "cell-89eba71f04310291",
     "locked": true,
     "schema_version": 3,
     "solution": false,
     "task": false
    }
   },
   "source": [
    "\n",
    "---\n",
    "## Section 3: Ranking  (80 points) <a class=\"anchor\" id=\"ranking\"></a>\n",
    "\n",
    "[Back to Part 1](#part1)\n",
    "\n",
    "Now that we have cleaned and processed our dataset, we can start building simple IR systems. \n",
    "\n",
    "For now, we consider *simple* IR systems, which involve computing scores from the tokens present in the document/query. More advanced methods are covered in later assignments.\n",
    "\n",
    "We will implement the following methods in this section:\n",
    "- [Section 3.1: Bag of Words](#bow) (10 points)\n",
    "- [Section 3.2: TF-IDF](#tfidf) (15 points)\n",
    "- [Section 3.3: Query Likelihood Model](#qlm) (35 points)\n",
    "- [Section 3.4: BM25](#bm25) (20 points)\n",
    "\n",
    "*All search functions should be able to handle multiple words queries.*\n",
    "\n",
    "**Scoring policy:**\n",
    "Your implementations in this section are scored based on the expected performance of your ranking functions.\n",
    "You will get a full mark if your implementation meets the expected performance (measured by some evaluation metric).\n",
    "Otherwise, you may get partial credit.\n",
    "For example, if your *Bag of words* ranking function has 60% of expected performance, you will get 6 out of 10."
   ]
  },
  {
   "cell_type": "markdown",
   "metadata": {
    "deletable": false,
    "editable": false,
    "nbgrader": {
     "cell_type": "markdown",
     "checksum": "6c74e5061917358300c6e8085ec07864",
     "grade": false,
     "grade_id": "cell-3daf70a60e393adf",
     "locked": true,
     "schema_version": 3,
     "solution": false,
     "task": false
    }
   },
   "source": [
    "--- \n",
    "\n",
    "### Section 3.1: Bag of Words (10 points)<a class=\"anchor\" id=\"bow\"></a>\n",
    "\n",
    "Probably the simplest IR model is the Bag of Words (BOW) model.\n",
    "Implement a function that scores and ranks all the documents against a query using this model.   \n",
    "\n",
    "- For consistency, you should use the count of the token and **not** the binary indicator.\n",
    "- Use `float` type for the scores (even though the scores are integers in this case).\n",
    "- No normalization of the scores is necessary, as the ordering is what we are interested in.\n",
    "- If two documents have the same score, they can have any ordering: you are not required to disambiguate.\n"
   ]
  },
  {
   "cell_type": "code",
   "execution_count": 111,
   "metadata": {
    "deletable": false,
    "nbgrader": {
     "cell_type": "code",
     "checksum": "fee4640e22bfc4f05eb958a675ef40e7",
     "grade": false,
     "grade_id": "cell-de9cf0459c4b9324",
     "locked": false,
     "schema_version": 3,
     "solution": true,
     "task": false
    }
   },
   "outputs": [],
   "source": [
    "# TODO: Implement this! (10 points)\n",
    "\n",
    "def dict_to_arr(d, descending=True):\n",
    "    arr = []\n",
    "    for k in d.keys():\n",
    "         arr.append([str(k), d[k]])\n",
    "    return sorted(arr, key=lambda x: x[1], reverse=descending)\n",
    "\n",
    "def bow_search(query, index_set):\n",
    "    \"\"\"\n",
    "        Perform a search over all documents with the given query. \n",
    "        Note: You have to use the `get_index` function created in the previous cells\n",
    "        Input: \n",
    "            query - a (unprocessed) query\n",
    "            index_set - the index to use\n",
    "        Output: a list of (document_id, score), sorted in descending relevance to the given query. \n",
    "    \"\"\"\n",
    "    index = get_index(index_set)\n",
    "    processed_query = preprocess_query(query, index_set)\n",
    "    scores = {}\n",
    "    for q in processed_query:\n",
    "        if q not in index: continue\n",
    "        for (doc_id, freq) in index[q]:\n",
    "            if doc_id not in scores:\n",
    "                scores[doc_id] = float(freq)\n",
    "            else:\n",
    "                scores[doc_id] += freq\n",
    "    return dict_to_arr(scores)"
   ]
  },
  {
   "cell_type": "code",
   "execution_count": 112,
   "metadata": {
    "deletable": false,
    "editable": false,
    "nbgrader": {
     "cell_type": "code",
     "checksum": "613524fbbf02b1d122c6611a71fbf11b",
     "grade": true,
     "grade_id": "cell-9f6aceae6dd9125f",
     "locked": true,
     "points": 2,
     "schema_version": 3,
     "solution": false,
     "task": false
    }
   },
   "outputs": [],
   "source": [
    "#### Function check\n",
    "\n",
    "test_bow = bow_search(\"how to implement bag of words search\", index_set=1)[:5]\n",
    "assert isinstance(test_bow, list)\n",
    "assert len(test_bow[0]) == 2\n",
    "assert isinstance(test_bow[0][0], str)\n",
    "assert isinstance(test_bow[0][1], float)\n",
    "\n",
    "#### "
   ]
  },
  {
   "cell_type": "code",
   "execution_count": 113,
   "metadata": {
    "deletable": false,
    "editable": false,
    "nbgrader": {
     "cell_type": "code",
     "checksum": "9af20897659edb62fe77598483590500",
     "grade": true,
     "grade_id": "cell-4eed3abf233d9b58",
     "locked": true,
     "points": 2,
     "schema_version": 3,
     "solution": false,
     "task": false
    }
   },
   "outputs": [
    {
     "name": "stdout",
     "output_type": "stream",
     "text": [
      "BOW Results:\n",
      "Rank 0(1.3e+01): On Computing The Fast Fourier Transform\\nCooley an...\n",
      "Rank 1(1.2e+01): Variable Length Tree Structures Having Minimum Ave...\n",
      "Rank 2(1.1e+01): A Modular Computer Sharing System\\nAn alternative ...\n",
      "Rank 3(1e+01): PEEKABIT, Computer Offspring of Punched\\nCard PEEK...\n",
      "Rank 4(9.0): Computer Simulation-Discussion of the\\nTechnique a...\n"
     ]
    }
   ],
   "source": [
    "\n",
    "docs_by_id = dict(docs)\n",
    "def print_results(docs, len_limit=50):    \n",
    "    for i, (doc_id, score) in enumerate(docs):\n",
    "        doc_content = docs_by_id[doc_id].strip().replace(\"\\n\", \"\\\\n\")[:len_limit] + \"...\"\n",
    "        print(f\"Rank {i}({score:.2}): {doc_content}\")\n",
    "\n",
    "test_bow_2 = bow_search(\"computer search word\", index_set=2)[:5]\n",
    "print(f\"BOW Results:\")\n",
    "print_results(test_bow_2)\n"
   ]
  },
  {
   "cell_type": "code",
   "execution_count": 114,
   "metadata": {
    "deletable": false,
    "editable": false,
    "nbgrader": {
     "cell_type": "code",
     "checksum": "3c9c8b16c8e7d1032f101e9da8a6e845",
     "grade": true,
     "grade_id": "cell-4d65a2d7090c466c",
     "locked": true,
     "points": 3,
     "schema_version": 3,
     "solution": false,
     "task": false
    }
   },
   "outputs": [
    {
     "name": "stdout",
     "output_type": "stream",
     "text": [
      "BOW Results:\n",
      "Rank 0(9.0): CURRICULUM 68 -- Recommendations for Academic\\nPro...\n",
      "Rank 1(9.0): Variable Length Tree Structures Having Minimum Ave...\n",
      "Rank 2(7.0): Computer Formulation of the Equations of Motion Us...\n",
      "Rank 3(7.0): The Effects of Multiplexing on a Computer-Communic...\n",
      "Rank 4(6.0): Optimizing Bit-time Computer Simulation\\nA major c...\n"
     ]
    }
   ],
   "source": [
    "\n",
    "test_bow_1 = bow_search(\"computer search word\", index_set=1)[:5]\n",
    "print(f\"BOW Results:\")\n",
    "print_results(test_bow_1)\n"
   ]
  },
  {
   "cell_type": "code",
   "execution_count": 115,
   "metadata": {
    "deletable": false,
    "editable": false,
    "nbgrader": {
     "cell_type": "code",
     "checksum": "b7e593847aa4202ae45ec061fb18ad73",
     "grade": true,
     "grade_id": "cell-dedf36ab5853ce20",
     "locked": true,
     "points": 3,
     "schema_version": 3,
     "solution": false,
     "task": false
    }
   },
   "outputs": [
    {
     "name": "stdout",
     "output_type": "stream",
     "text": [
      "top-5 docs for index1: ('1771', '1936', '1543', '2535', '678')\n",
      "top-5 docs for index2: ('1525', '1936', '1844', '1700', '1366')\n"
     ]
    }
   ],
   "source": [
    "print('top-5 docs for index1:', list(zip(*test_bow_1[:5]))[0])\n",
    "print('top-5 docs for index2:', list(zip(*test_bow_2[:5]))[0])\n"
   ]
  },
  {
   "cell_type": "markdown",
   "metadata": {
    "deletable": false,
    "editable": false,
    "nbgrader": {
     "cell_type": "markdown",
     "checksum": "b04352ee0716dfdf094b8cdb6f32e984",
     "grade": false,
     "grade_id": "cell-a5c09c79ac1f2871",
     "locked": true,
     "schema_version": 3,
     "solution": false,
     "task": false
    }
   },
   "source": [
    "\n",
    "---\n",
    "\n",
    "### Section 3.2: TF-IDF (15 points) <a class=\"anchor\" id=\"tfidf\"></a>\n",
    "\n",
    "Before we implement the tf-idf scoring functions, let's first write a function to compute the document frequencies of all words.  \n",
    "\n",
    "#### 3.2.1 Document frequency (5 points)\n",
    "Compute the document frequencies of all tokens in the collection. \n",
    "Your code should return a dictionary with tokens as its keys and the number of documents containing the token as values.\n",
    "For consistency, the values should have `int` type."
   ]
  },
  {
   "cell_type": "code",
   "execution_count": 116,
   "metadata": {
    "deletable": false,
    "nbgrader": {
     "cell_type": "code",
     "checksum": "5c53263cf4c0b0ffcaae08b91fc364cc",
     "grade": false,
     "grade_id": "cell-9a2369f32e864b8a",
     "locked": false,
     "schema_version": 3,
     "solution": true,
     "task": false
    }
   },
   "outputs": [],
   "source": [
    "# TODO: Implement this! (5 points)\n",
    "def compute_df(documents):\n",
    "    \"\"\"\n",
    "        Compute the document frequency of all terms in the vocabulary\n",
    "        Input: A list of documents\n",
    "        Output: A dictionary with {token: document frequency (int)}\n",
    "    \"\"\"\n",
    "    # YOUR CODE HERE\n",
    "    df = {}\n",
    "    for doc in documents:\n",
    "        seen_tks = {}\n",
    "        for tk in doc:\n",
    "            if tk not in df:\n",
    "                df[tk] = 0\n",
    "            df[tk] += not tk in seen_tks\n",
    "            seen_tks[tk] = True\n",
    "    return df"
   ]
  },
  {
   "cell_type": "code",
   "execution_count": 117,
   "metadata": {
    "deletable": false,
    "editable": false,
    "nbgrader": {
     "cell_type": "code",
     "checksum": "154985511d7925c5793a1f97dea81880",
     "grade": false,
     "grade_id": "cell-4c3bddd0b73ac90e",
     "locked": true,
     "schema_version": 3,
     "solution": false,
     "task": false
    }
   },
   "outputs": [],
   "source": [
    "#### Compute df based on the two configs\n",
    "\n",
    "# get the document frequencies of each document\n",
    "df_1 = compute_df([d[1] for d in doc_repr_1])\n",
    "df_2 = compute_df([d[1] for d in doc_repr_2])\n",
    "\n",
    "def get_df(index_set):\n",
    "    assert index_set in {1, 2}\n",
    "    return {\n",
    "        1: df_1,\n",
    "        2: df_2\n",
    "    }[index_set]\n",
    "####"
   ]
  },
  {
   "cell_type": "code",
   "execution_count": 118,
   "metadata": {
    "deletable": false,
    "editable": false,
    "nbgrader": {
     "cell_type": "code",
     "checksum": "110cc180068cf3f77c682ee3de2a117c",
     "grade": true,
     "grade_id": "cell-79e8a6db1e5fc46f",
     "locked": true,
     "points": 5,
     "schema_version": 3,
     "solution": false,
     "task": false
    }
   },
   "outputs": [
    {
     "name": "stdout",
     "output_type": "stream",
     "text": [
      "597\n",
      "11\n"
     ]
    }
   ],
   "source": [
    "#### Function check\n",
    "\n",
    "print(df_1['computer'])\n",
    "print(df_2['computer'])\n",
    "####"
   ]
  },
  {
   "cell_type": "markdown",
   "metadata": {
    "deletable": false,
    "editable": false,
    "nbgrader": {
     "cell_type": "markdown",
     "checksum": "d0d577668fa51b80aeab6e67209ae73b",
     "grade": false,
     "grade_id": "cell-52f6acc487e1b96d",
     "locked": true,
     "schema_version": 3,
     "solution": false,
     "task": false
    }
   },
   "source": [
    "---\n",
    "#### 3.2.2 TF-IDF search (10 points)\n",
    "Next, implement a function that computes a tf-idf score, given a query.\n",
    "Use the following formulas for TF and IDF:\n",
    "\n",
    "$$ TF=\\log (1 + f_{d,t}) $$\n",
    "\n",
    "$$ IDF=\\log (\\frac{N}{n_t})$$\n",
    "\n",
    "where $f_{d,t}$ is the frequency of token $t$ in document $d$, $N$ is the number of total documents and $n_t$ is the number of documents containing token $t$.\n",
    "\n",
    "**Note:** your implementation will be auto-graded assuming you have used the above formulas.\n"
   ]
  },
  {
   "cell_type": "code",
   "execution_count": 119,
   "metadata": {
    "deletable": false,
    "nbgrader": {
     "cell_type": "code",
     "checksum": "3534c44b4a3419ca1db98eebe7115dc1",
     "grade": false,
     "grade_id": "cell-2fb5ba34b2994cd9",
     "locked": false,
     "schema_version": 3,
     "solution": true,
     "task": false
    }
   },
   "outputs": [],
   "source": [
    "# TODO: Implement this! (10 points)\n",
    "def tfidf_search(query, index_set):\n",
    "    \"\"\"\n",
    "        Perform a search over all documents with the given query using tf-idf. \n",
    "        Note #1: You have to use the `get_index` (and the `get_df`) function created in the previous cells\n",
    "        Input: \n",
    "            query - a (unprocessed) query\n",
    "            index_set - the index to use\n",
    "        Output: a list of (document_id, score), sorted in descending relevance to the given query \n",
    "    \"\"\"\n",
    "    index = get_index(index_set)\n",
    "    df = get_df(index_set)\n",
    "    processed_query = preprocess_query(query, index_set)\n",
    "    \n",
    "    N = len(docs)\n",
    "    \n",
    "    scores = {}\n",
    "    for q in processed_query:\n",
    "        if q not in index: continue\n",
    "        for (doc_id, freq) in index[q]:\n",
    "            tf = np.log(1 + freq)\n",
    "            idf = np.log(N/df[q])\n",
    "            if doc_id not in scores:\n",
    "                scores[doc_id] = 0\n",
    "            scores[doc_id] += tf*idf #question: correct to add tfidf score of each word?\n",
    "  \n",
    "    return dict_to_arr(scores)"
   ]
  },
  {
   "cell_type": "code",
   "execution_count": 120,
   "metadata": {
    "deletable": false,
    "editable": false,
    "nbgrader": {
     "cell_type": "code",
     "checksum": "7b66a514663d898694b09a23a597312b",
     "grade": true,
     "grade_id": "cell-bc68aeeacf42beb3",
     "locked": true,
     "points": 2,
     "schema_version": 3,
     "solution": false,
     "task": false
    }
   },
   "outputs": [],
   "source": [
    "\n",
    "#### Function check\n",
    "test_tfidf = tfidf_search(\"how to implement tf idf search\", index_set=1)[:5]\n",
    "assert isinstance(test_tfidf, list)\n",
    "assert len(test_tfidf[0]) == 2\n",
    "assert isinstance(test_tfidf[0][0], str)\n",
    "assert isinstance(test_tfidf[0][1], float)\n",
    "\n",
    "####"
   ]
  },
  {
   "cell_type": "code",
   "execution_count": 121,
   "metadata": {
    "deletable": false,
    "editable": false,
    "nbgrader": {
     "cell_type": "code",
     "checksum": "98fb1326cf4bf7983ae237ca8a9105f9",
     "grade": true,
     "grade_id": "cell-c7702fa8179fadb9",
     "locked": true,
     "points": 2,
     "schema_version": 3,
     "solution": false,
     "task": false
    }
   },
   "outputs": [
    {
     "name": "stdout",
     "output_type": "stream",
     "text": [
      "TFIDF Results:\n",
      "Rank 0(1.3e+01): PEEKABIT, Computer Offspring of Punched\\nCard PEEK...\n",
      "Rank 1(9.8): Variable Length Tree Structures Having Minimum Ave...\n",
      "Rank 2(8.2): A Stochastic Approach to the Grammatical Coding of...\n",
      "Rank 3(8.1): Full Table Quadratic Searching for Scatter Storage...\n",
      "Rank 4(7.6): Use of Tree Structures for Processing Files\\nIn da...\n"
     ]
    }
   ],
   "source": [
    "\n",
    "test_tfidf_2 = tfidf_search(\"computer word search\", index_set=2)[:5]\n",
    "print(f\"TFIDF Results:\")\n",
    "print_results(test_tfidf_2)\n"
   ]
  },
  {
   "cell_type": "code",
   "execution_count": 122,
   "metadata": {
    "deletable": false,
    "editable": false,
    "nbgrader": {
     "cell_type": "code",
     "checksum": "733b5b67be5e53989f5b763ce5e52ee9",
     "grade": true,
     "grade_id": "cell-3284f50ac29abbaa",
     "locked": true,
     "points": 3,
     "schema_version": 3,
     "solution": false,
     "task": false
    }
   },
   "outputs": [
    {
     "name": "stdout",
     "output_type": "stream",
     "text": [
      "TFIDF Results:\n",
      "Rank 0(9.4): Variable Length Tree Structures Having Minimum Ave...\n",
      "Rank 1(7.4): On the Feasibility of Voice Input to\\nan On-line C...\n",
      "Rank 2(7.3): Median Split Trees: A Fast Lookup Technique for Fr...\n",
      "Rank 3(7.0): Execution Time Requirements for Encipherment Progr...\n",
      "Rank 4(7.0): Storage and Search Properties of a Tree-Organized ...\n"
     ]
    }
   ],
   "source": [
    "\n",
    "test_tfidf_1 = tfidf_search(\"computer word search\", index_set=1)[:5]\n",
    "print(f\"TFIDF Results:\")\n",
    "print_results(test_tfidf_1)\n"
   ]
  },
  {
   "cell_type": "code",
   "execution_count": 123,
   "metadata": {
    "deletable": false,
    "editable": false,
    "nbgrader": {
     "cell_type": "code",
     "checksum": "e0edb37a5ae807a2de85d578c87ccb78",
     "grade": true,
     "grade_id": "cell-d908c80a3155354b",
     "locked": true,
     "points": 3,
     "schema_version": 3,
     "solution": false,
     "task": false
    }
   },
   "outputs": [
    {
     "name": "stdout",
     "output_type": "stream",
     "text": [
      "top-5 docs for index1 with BOW search: ('1771', '1936', '1543', '2535', '678')\n",
      "top-5 docs for index2 with BOW search: ('1525', '1936', '1844', '1700', '1366')\n",
      "top-5 docs for index1 with TF-IDF search: ('1936', '2054', '3041', '2620', '944')\n",
      "top-5 docs for index2 with TF-IDF search: ('1700', '1936', '1235', '2018', '849')\n"
     ]
    }
   ],
   "source": [
    "\n",
    "print('top-5 docs for index1 with BOW search:', list(zip(*test_bow_1[:5]))[0])\n",
    "print('top-5 docs for index2 with BOW search:', list(zip(*test_bow_2[:5]))[0])\n",
    "print('top-5 docs for index1 with TF-IDF search:', list(zip(*test_tfidf_1[:5]))[0])\n",
    "print('top-5 docs for index2 with TF-IDF search:', list(zip(*test_tfidf_2[:5]))[0])\n",
    "\n"
   ]
  },
  {
   "cell_type": "markdown",
   "metadata": {
    "deletable": false,
    "editable": false,
    "nbgrader": {
     "cell_type": "markdown",
     "checksum": "cdffc83f0eaea937cf64a212e7e9af8d",
     "grade": false,
     "grade_id": "cell-f5d923459ba21733",
     "locked": true,
     "schema_version": 3,
     "solution": false,
     "task": false
    }
   },
   "source": [
    "--- \n",
    "\n",
    "### Section 3.3: Query Likelihood Model (35 points) <a class=\"anchor\" id=\"qlm\"></a>\n",
    "\n",
    "In this section, you will implement a simple query likelihood model. \n",
    "\n",
    "\n",
    "#### 3.3.1 Naive QL (15 points)\n",
    "\n",
    "First, let us implement a naive version of a QL model, assuming a multinomial unigram language model (with a uniform prior over the documents). \n",
    "\n"
   ]
  },
  {
   "cell_type": "code",
   "execution_count": 124,
   "metadata": {
    "deletable": false,
    "editable": false,
    "nbgrader": {
     "cell_type": "code",
     "checksum": "b7ae2b7d818b428b4638c1c9206d2aca",
     "grade": false,
     "grade_id": "cell-98505778f7b68e7f",
     "locked": true,
     "schema_version": 3,
     "solution": false,
     "task": false
    }
   },
   "outputs": [],
   "source": [
    "#### Document length for normalization\n",
    "\n",
    "def doc_lengths(documents):\n",
    "    doc_lengths = {doc_id:len(doc) for (doc_id, doc) in documents}\n",
    "    return doc_lengths\n",
    "\n",
    "doc_lengths_1 = doc_lengths(doc_repr_1)\n",
    "doc_lengths_2 = doc_lengths(doc_repr_2)\n",
    "\n",
    "def get_doc_lengths(index_set):\n",
    "    assert index_set in {1, 2}\n",
    "    return {\n",
    "        1: doc_lengths_1,\n",
    "        2: doc_lengths_2\n",
    "    }[index_set]\n",
    "####"
   ]
  },
  {
   "cell_type": "code",
   "execution_count": 125,
   "metadata": {
    "deletable": false,
    "nbgrader": {
     "cell_type": "code",
     "checksum": "cedd08303a914243fefdb6b876977ca1",
     "grade": false,
     "grade_id": "cell-8bcf2b804d636c2e",
     "locked": false,
     "schema_version": 3,
     "solution": true,
     "task": false
    }
   },
   "outputs": [],
   "source": [
    "# TODO: Implement this! (15 points)\n",
    "def naive_ql_search(query, index_set):\n",
    "    \"\"\"\n",
    "        Perform a search over all documents with the given query using a naive QL model. \n",
    "        Note #1: You have to use the `get_index` (and get_doc_lengths) function created in the previous cells\n",
    "        Input: \n",
    "            query - a (unprocessed) query\n",
    "            index_set - the index to use\n",
    "        Output: a list of (document_id, score), sorted in descending relevance to the given query \n",
    "    \"\"\"\n",
    "    index = get_index(index_set)\n",
    "    doc_lengths = get_doc_lengths(index_set)\n",
    "    processed_query = preprocess_query(query, index_set)\n",
    "    scores = {}\n",
    "    for q in processed_query:\n",
    "        if q not in index: continue\n",
    "        for (doc_id, freq) in index[q]:\n",
    "            if doc_id not in scores:\n",
    "                scores[doc_id] = 1\n",
    "            scores[doc_id] *= freq/doc_lengths[str(doc_id)]\n",
    "    return dict_to_arr(scores)"
   ]
  },
  {
   "cell_type": "code",
   "execution_count": 126,
   "metadata": {
    "deletable": false,
    "editable": false,
    "nbgrader": {
     "cell_type": "code",
     "checksum": "b550d15bdad28354c336020a00c33d56",
     "grade": true,
     "grade_id": "cell-5a83ac12ecde8578",
     "locked": true,
     "points": 3,
     "schema_version": 3,
     "solution": false,
     "task": false
    }
   },
   "outputs": [
    {
     "name": "stdout",
     "output_type": "stream",
     "text": [
      "Naive QL Results:\n",
      "Rank 0(0.2): A Report Writer For COBOL...\n",
      "Rank 1(0.2): A CRT Report Generating System...\n",
      "Rank 2(0.17): Preliminary Report-International Algebraic Languag...\n",
      "Rank 3(0.17): Supplement to the ALGOL 60 Report...\n",
      "Rank 4(0.14): ALGOL Sub-Committee Report - Extensions...\n"
     ]
    }
   ],
   "source": [
    "#### Function check\n",
    "test_naiveql = naive_ql_search(\"report\", index_set=1)[:5]\n",
    "print(f\"Naive QL Results:\")\n",
    "print_results(test_naiveql)\n",
    "####"
   ]
  },
  {
   "cell_type": "code",
   "execution_count": 127,
   "metadata": {
    "deletable": false,
    "editable": false,
    "nbgrader": {
     "cell_type": "code",
     "checksum": "799df1d81c63fe90edbb6c218fc707fb",
     "grade": true,
     "grade_id": "cell-80f4bf2137f997bb",
     "locked": true,
     "points": 2,
     "schema_version": 3,
     "solution": false,
     "task": false
    }
   },
   "outputs": [],
   "source": [
    "#### Please do not change this. This cell is used for grading."
   ]
  },
  {
   "cell_type": "code",
   "execution_count": 128,
   "metadata": {
    "deletable": false,
    "editable": false,
    "nbgrader": {
     "cell_type": "code",
     "checksum": "875a4a517d27e20625d41783cebec118",
     "grade": true,
     "grade_id": "cell-5ce2993458a8ce51",
     "locked": true,
     "points": 3,
     "schema_version": 3,
     "solution": false,
     "task": false
    }
   },
   "outputs": [],
   "source": [
    "#### Please do not change this. This cell is used for grading."
   ]
  },
  {
   "cell_type": "code",
   "execution_count": 129,
   "metadata": {
    "deletable": false,
    "editable": false,
    "nbgrader": {
     "cell_type": "code",
     "checksum": "d5c4e1c3852e71a46f32825b122f1b71",
     "grade": true,
     "grade_id": "cell-7753bdb54e292f3d",
     "locked": true,
     "points": 3,
     "schema_version": 3,
     "solution": false,
     "task": false
    }
   },
   "outputs": [],
   "source": [
    "#### Please do not change this. This cell is used for grading."
   ]
  },
  {
   "cell_type": "code",
   "execution_count": 130,
   "metadata": {
    "deletable": false,
    "editable": false,
    "nbgrader": {
     "cell_type": "code",
     "checksum": "c4d4332d4356e89ce0240f6b80e1899a",
     "grade": true,
     "grade_id": "cell-54e476e2f96e64bb",
     "locked": true,
     "points": 4,
     "schema_version": 3,
     "solution": false,
     "task": false
    }
   },
   "outputs": [],
   "source": [
    "#### Please do not change this. This cell is used for grading."
   ]
  },
  {
   "cell_type": "markdown",
   "metadata": {
    "deletable": false,
    "editable": false,
    "nbgrader": {
     "cell_type": "markdown",
     "checksum": "8d739dc91a22bd48897f603885f95a74",
     "grade": false,
     "grade_id": "cell-5414dfd69dab8b94",
     "locked": true,
     "schema_version": 3,
     "solution": false,
     "task": false
    }
   },
   "source": [
    "---\n",
    "#### 3.3.2 QL (20 points)\n",
    "Now, let's implement a QL model that handles the issues with the naive version. In particular, you will implement a QL model with Jelinek-Mercer Smoothing. That means an interpolated score is computed per word - one term is the same as the previous naive version, and the second term comes from a unigram language model. In addition, you should accumulate the scores by summing the **log** (smoothed) probability which leads to better numerical stability."
   ]
  },
  {
   "cell_type": "code",
   "execution_count": 131,
   "metadata": {
    "deletable": false,
    "nbgrader": {
     "cell_type": "code",
     "checksum": "b8c6abf937ad333e628f1db891f2e29e",
     "grade": false,
     "grade_id": "cell-bb1f506409771257",
     "locked": false,
     "schema_version": 3,
     "solution": true,
     "task": false
    }
   },
   "outputs": [],
   "source": [
    "# TODO: Implement this! (20 points)\n",
    "\n",
    "# YOUR CODE HERE\n",
    "# raise NotImplementedError()\n",
    "\n",
    "def ql_search(query, index_set):\n",
    "    \"\"\"\n",
    "        Perform a search over all documents with the given query using a QL model \n",
    "        with Jelinek-Mercer Smoothing (set smoothing=0.1). \n",
    "        \n",
    "        \n",
    "        Note #1: You have to use the `get_index` (and get_doc_lengths) function created in the previous cells\n",
    "        Note #2: You might have to create some variables beforehand and use them in this function\n",
    "        \n",
    "        \n",
    "        Input: \n",
    "            query - a (unprocessed) query\n",
    "            index_set - the index to use\n",
    "        Output: a list of (document_id, score), sorted in descending relevance to the given query \n",
    "    \"\"\"\n",
    "    index = get_index(index_set)\n",
    "    doc_lengths = get_doc_lengths(index_set)\n",
    "    processed_query = preprocess_query(query, index_set)\n",
    "    scores = {}\n",
    "    N = sum(doc_lengths.values())        \n",
    "    \n",
    "    for q in processed_query:\n",
    "        seen = {int(key): False for key in doc_lengths.keys()}\n",
    "        n = sum([x[1] for x in index[q]])\n",
    "        if q in index:\n",
    "            for (doc_id, freq) in index[q]:\n",
    "                D = doc_lengths[str(doc_id)]\n",
    "                if doc_id not in scores:\n",
    "                    scores[doc_id] = 0\n",
    "                scores[doc_id] += np.log(0.9*freq/D + 0.1*n/N)\n",
    "                seen[doc_id] = True\n",
    "        for k in seen.keys():\n",
    "            if not seen[k]:\n",
    "                if k not in scores:\n",
    "                    scores[k] = 0\n",
    "                scores[k] += np.log(1e-20)\n",
    "    return dict_to_arr(scores)"
   ]
  },
  {
   "cell_type": "code",
   "execution_count": 132,
   "metadata": {
    "deletable": false,
    "editable": false,
    "nbgrader": {
     "cell_type": "code",
     "checksum": "0b12a7f3355193a257fd9f5f69a66562",
     "grade": true,
     "grade_id": "cell-850e9d6369bcec32",
     "locked": true,
     "points": 4,
     "schema_version": 3,
     "solution": false,
     "task": false
    }
   },
   "outputs": [
    {
     "name": "stdout",
     "output_type": "stream",
     "text": [
      "Rank 0(-1.7): A Report Writer For COBOL...\n",
      "Rank 1(-1.7): A CRT Report Generating System...\n",
      "Rank 2(-1.9): Preliminary Report-International Algebraic Languag...\n",
      "Rank 3(-1.9): Supplement to the ALGOL 60 Report...\n",
      "Rank 4(-2.1): ALGOL Sub-Committee Report - Extensions...\n",
      "\n",
      "Rank 0(-1.7e+01): A Report Writer For COBOL...\n",
      "Rank 1(-1.7e+01): A CRT Report Generating System...\n",
      "Rank 2(-1.9e+01): Preliminary Report-International Algebraic Languag...\n",
      "Rank 3(-1.9e+01): Supplement to the ALGOL 60 Report...\n",
      "Rank 4(-2.1e+01): ALGOL Sub-Committee Report - Extensions...\n"
     ]
    }
   ],
   "source": [
    "#### Function check\n",
    "test_ql_results = ql_search(\"report\", index_set=1)[:5]\n",
    "print_results(test_ql_results)\n",
    "print()\n",
    "test_ql_results_long = ql_search(\"report \" * 10, index_set=1)[:5]\n",
    "print_results(test_ql_results_long)\n",
    "####"
   ]
  },
  {
   "cell_type": "code",
   "execution_count": 133,
   "metadata": {
    "deletable": false,
    "editable": false,
    "nbgrader": {
     "cell_type": "code",
     "checksum": "e40be645140389c115849856145f5b59",
     "grade": true,
     "grade_id": "cell-958cdcf6fd6899b7",
     "locked": true,
     "points": 3,
     "schema_version": 3,
     "solution": false,
     "task": false
    }
   },
   "outputs": [],
   "source": [
    "#### Please do not change this. This cell is used for grading."
   ]
  },
  {
   "cell_type": "code",
   "execution_count": 134,
   "metadata": {
    "deletable": false,
    "editable": false,
    "nbgrader": {
     "cell_type": "code",
     "checksum": "41d4aff001df17e7963ba79b45810b30",
     "grade": true,
     "grade_id": "cell-384dc23a0c251f6e",
     "locked": true,
     "points": 4,
     "schema_version": 3,
     "solution": false,
     "task": false
    }
   },
   "outputs": [],
   "source": [
    "#### Please do not change this. This cell is used for grading."
   ]
  },
  {
   "cell_type": "code",
   "execution_count": 135,
   "metadata": {
    "deletable": false,
    "editable": false,
    "nbgrader": {
     "cell_type": "code",
     "checksum": "893e8c5a073abc8ebb763d267b91bc02",
     "grade": true,
     "grade_id": "cell-7218966cba5097cc",
     "locked": true,
     "points": 4,
     "schema_version": 3,
     "solution": false,
     "task": false
    }
   },
   "outputs": [],
   "source": [
    "#### Please do not change this. This cell is used for grading."
   ]
  },
  {
   "cell_type": "code",
   "execution_count": 136,
   "metadata": {
    "deletable": false,
    "editable": false,
    "nbgrader": {
     "cell_type": "code",
     "checksum": "f99cb6f8b1f5830aaed8f06712ff846e",
     "grade": true,
     "grade_id": "cell-481ab073259ae53f",
     "locked": true,
     "points": 5,
     "schema_version": 3,
     "solution": false,
     "task": false
    }
   },
   "outputs": [],
   "source": [
    "#### Please do not change this. This cell is used for grading."
   ]
  },
  {
   "cell_type": "markdown",
   "metadata": {
    "deletable": false,
    "editable": false,
    "nbgrader": {
     "cell_type": "markdown",
     "checksum": "c02f14705d679579b1aa9f78f54779d5",
     "grade": false,
     "grade_id": "cell-f44088bfdac1dc90",
     "locked": true,
     "schema_version": 3,
     "solution": false,
     "task": false
    }
   },
   "source": [
    "--- \n",
    "\n",
    "### Section 3.4: BM25 (20 points) <a class=\"anchor\" id=\"bm25\"></a>\n",
    "\n",
    "In this section, we will implement the BM25 scoring function. \n"
   ]
  },
  {
   "cell_type": "code",
   "execution_count": 137,
   "metadata": {
    "deletable": false,
    "nbgrader": {
     "cell_type": "code",
     "checksum": "e57efe06ea92af1c83784a42eb3d86e0",
     "grade": false,
     "grade_id": "cell-15640fc9b5d00a3c",
     "locked": false,
     "schema_version": 3,
     "solution": true,
     "task": false
    }
   },
   "outputs": [],
   "source": [
    "# TODO: Implement this! (20 points)\n",
    "def bm25_search(query, index_set):\n",
    "    \"\"\"\n",
    "        Perform a search over all documents with the given query using BM25. Use k_1 = 1.5 and b = 0.75\n",
    "        Note #1: You have to use the `get_index` (and `get_doc_lengths`) function created in the previous cells\n",
    "        Note #2: You might have to create some variables beforehand and use them in this function\n",
    "        \n",
    "        Input: \n",
    "            query - a (unprocessed) query\n",
    "            index_set - the index to use\n",
    "        Output: a list of (document_id, score), sorted in descending relevance to the given query \n",
    "    \"\"\"\n",
    "    k_1 = 1.5\n",
    "    b = 0.75\n",
    "    index = get_index(index_set)\n",
    "    df = get_df(index_set)\n",
    "    doc_lengths = get_doc_lengths(index_set)\n",
    "    processed_query = preprocess_query(query, index_set)\n",
    "    scores = {}\n",
    "    vals = doc_lengths.values()\n",
    "    N = len(vals)\n",
    "    dl_avg = sum(vals)/len(vals)\n",
    "    for q in processed_query:\n",
    "        if q not in index: continue\n",
    "        for (doc_id, freq) in index[q]:\n",
    "            if doc_id not in scores:\n",
    "                scores[doc_id] = 0\n",
    "            scores[doc_id] += np.log(N/df[q])*(k_1+1)*freq/(k_1*(1-b + b*doc_lengths[str(doc_id)]/dl_avg)+freq)\n",
    "    return dict_to_arr(scores)"
   ]
  },
  {
   "cell_type": "code",
   "execution_count": 138,
   "metadata": {
    "deletable": false,
    "editable": false,
    "nbgrader": {
     "cell_type": "code",
     "checksum": "4be9de5d4e94637960d83725422bea6c",
     "grade": true,
     "grade_id": "cell-d10536bca72c74b1",
     "locked": true,
     "points": 3,
     "schema_version": 3,
     "solution": false,
     "task": false
    }
   },
   "outputs": [
    {
     "name": "stdout",
     "output_type": "stream",
     "text": [
      "Rank 0(6.7): A Report Writer For COBOL...\n",
      "Rank 1(6.7): A CRT Report Generating System...\n",
      "Rank 2(6.6): Preliminary Report-International Algebraic Languag...\n",
      "Rank 3(6.6): Supplement to the ALGOL 60 Report...\n",
      "Rank 4(6.5): ALGOL Sub-Committee Report - Extensions...\n"
     ]
    }
   ],
   "source": [
    "#### Function check\n",
    "test_bm25_results = bm25_search(\"report\", index_set=1)[:5]\n",
    "print_results(test_bm25_results)\n",
    "####"
   ]
  },
  {
   "cell_type": "code",
   "execution_count": 139,
   "metadata": {
    "deletable": false,
    "editable": false,
    "nbgrader": {
     "cell_type": "code",
     "checksum": "31b550d6a46ae4f8ede88788799ac2b9",
     "grade": true,
     "grade_id": "cell-60f6ec5052712d79",
     "locked": true,
     "points": 5,
     "schema_version": 3,
     "solution": false,
     "task": false
    }
   },
   "outputs": [],
   "source": [
    "#### Please do not change this. This cell is used for grading."
   ]
  },
  {
   "cell_type": "code",
   "execution_count": 140,
   "metadata": {
    "deletable": false,
    "editable": false,
    "nbgrader": {
     "cell_type": "code",
     "checksum": "3da2ec16bfe781916e71755d65aa2983",
     "grade": true,
     "grade_id": "cell-5d17524043a5abcc",
     "locked": true,
     "points": 5,
     "schema_version": 3,
     "solution": false,
     "task": false
    }
   },
   "outputs": [],
   "source": [
    "#### Please do not change this. This cell is used for grading."
   ]
  },
  {
   "cell_type": "code",
   "execution_count": 141,
   "metadata": {
    "deletable": false,
    "editable": false,
    "nbgrader": {
     "cell_type": "code",
     "checksum": "e7b563d54fa84c20909c0ae107010541",
     "grade": true,
     "grade_id": "cell-ff8e704eda1184e3",
     "locked": true,
     "points": 3,
     "schema_version": 3,
     "solution": false,
     "task": false
    }
   },
   "outputs": [],
   "source": [
    "#### Please do not change this. This cell is used for grading."
   ]
  },
  {
   "cell_type": "code",
   "execution_count": 142,
   "metadata": {
    "deletable": false,
    "editable": false,
    "nbgrader": {
     "cell_type": "code",
     "checksum": "b013f90974b396630a8831d6f1d7e5f7",
     "grade": true,
     "grade_id": "cell-a52310500a2543cb",
     "locked": true,
     "points": 4,
     "schema_version": 3,
     "solution": false,
     "task": false
    }
   },
   "outputs": [],
   "source": [
    "#### Please do not change this. This cell is used for grading."
   ]
  },
  {
   "cell_type": "markdown",
   "metadata": {
    "deletable": false,
    "editable": false,
    "nbgrader": {
     "cell_type": "markdown",
     "checksum": "8fcf67cb7d5e8b26cb9bf1f0aa42c847",
     "grade": false,
     "grade_id": "cell-8b2b412c81d62f2d",
     "locked": true,
     "schema_version": 3,
     "solution": false,
     "task": false
    }
   },
   "source": [
    "\n",
    "---\n",
    "\n",
    "### 3.5. Test Your Functions\n",
    "\n",
    "The widget below allows you to play with the search functions you've written so far. Use this to test your search functions and ensure that they work as expected."
   ]
  },
  {
   "cell_type": "code",
   "execution_count": 143,
   "metadata": {
    "deletable": false,
    "editable": false,
    "nbgrader": {
     "cell_type": "code",
     "checksum": "dfeb204b390acc0794dbdcac92b0cf2c",
     "grade": false,
     "grade_id": "cell-c9c2bb76354e8d97",
     "locked": true,
     "schema_version": 3,
     "solution": false,
     "task": false
    }
   },
   "outputs": [],
   "source": [
    "#### Highlighter function\n",
    "# class for results\n",
    "ResultRow = namedtuple(\"ResultRow\", [\"doc_id\", \"snippet\", \"score\"])\n",
    "# doc_id -> doc\n",
    "docs_by_id = dict((d[0], d[1]) for d in docs)\n",
    "\n",
    "def highlight_text(document, query, tol=17):\n",
    "    import re\n",
    "    tokens = tokenize(query)\n",
    "    regex = \"|\".join(f\"(\\\\b{t}\\\\b)\" for t in tokens)\n",
    "    regex = re.compile(regex, flags=re.IGNORECASE)\n",
    "    output = \"\"\n",
    "    i = 0\n",
    "    for m in regex.finditer(document):\n",
    "        start_idx = max(0, m.start() - tol)\n",
    "        end_idx = min(len(document), m.end() + tol)\n",
    "        output += \"\".join([\"...\",\n",
    "                        document[start_idx:m.start()],\n",
    "                        \"<strong>\",\n",
    "                        document[m.start():m.end()],\n",
    "                        \"</strong>\",\n",
    "                        document[m.end():end_idx],\n",
    "                        \"...\"])\n",
    "    return output.replace(\"\\n\", \" \")\n",
    "\n",
    "\n",
    "def make_results(query, search_fn, index_set):\n",
    "    results = []\n",
    "    for doc_id, score in search_fn(query, index_set):\n",
    "        highlight = highlight_text(docs_by_id[doc_id], query)\n",
    "        if len(highlight.strip()) == 0:\n",
    "            highlight = docs_by_id[doc_id]\n",
    "        results.append(ResultRow(doc_id, highlight, score))\n",
    "    return results\n",
    "####"
   ]
  },
  {
   "cell_type": "code",
   "execution_count": 144,
   "metadata": {},
   "outputs": [
    {
     "data": {
      "application/vnd.jupyter.widget-view+json": {
       "model_id": "6f6c8cc70bdf4adb9c72a12a928203fe",
       "version_major": 2,
       "version_minor": 0
      },
      "text/plain": [
       "Text(value='', description='Search Bar')"
      ]
     },
     "metadata": {},
     "output_type": "display_data"
    }
   ],
   "source": [
    "# TODO: Set this to the function you want to test!\n",
    "# this function should take in a query (string)\n",
    "# and return a sorted list of (doc_id, score) \n",
    "# with the most relevant document in the first position\n",
    "search_fn = bm25_search\n",
    "index_set = 1\n",
    "\n",
    "text = widgets.Text(description=\"Search Bar\", width=200)\n",
    "display(text)\n",
    "\n",
    "def handle_submit(sender):\n",
    "    print(f\"Searching for: '{sender.value}'\")\n",
    "    \n",
    "    results = make_results(sender.value, search_fn, index_set)\n",
    "    \n",
    "    # display only the top 5\n",
    "    results = results[:5]\n",
    "    \n",
    "    body = \"\"\n",
    "    for idx, r in enumerate(results):\n",
    "        body += f\"<li>Document #{r.doc_id}({r.score}): {r.snippet}</li>\"\n",
    "    display(HTML(f\"<ul>{body}</ul>\"))\n",
    "    \n",
    "\n",
    "text.on_submit(handle_submit)"
   ]
  },
  {
   "cell_type": "markdown",
   "metadata": {
    "deletable": false,
    "editable": false,
    "nbgrader": {
     "cell_type": "markdown",
     "checksum": "019b1ff878dc6339dd068e2d48d19904",
     "grade": false,
     "grade_id": "cell-8d46fe8e4f3d8cdb",
     "locked": true,
     "schema_version": 3,
     "solution": false,
     "task": false
    }
   },
   "source": [
    "---\n",
    "\n",
    "## Section 4: Evaluation (40 points) <a class=\"anchor\" id=\"evaluation\"></a>\n",
    "\n",
    "[Back to Part 1](#part1)\n",
    "\n",
    "In order to analyze the effectiveness of retrieval algorithms, we first have to learn how to evaluate such a system. In particular, we will work with offline evaluation metrics. These metrics are computed on a dataset with known relevance judgements.\n",
    "\n",
    "Implement the following evaluation metrics. \n",
    "\n",
    "1. Precision (7 points)\n",
    "2. Recall (7 points)\n",
    "3. Mean Average Precision (13 points)\n",
    "4. Expected Reciprocal Rank (13 points)"
   ]
  },
  {
   "cell_type": "markdown",
   "metadata": {
    "deletable": false,
    "editable": false,
    "nbgrader": {
     "cell_type": "markdown",
     "checksum": "e46f54c7f81d88bbc950b0fae14c4ca5",
     "grade": false,
     "grade_id": "cell-3419fd3bc663d7cc",
     "locked": true,
     "schema_version": 3,
     "solution": false,
     "task": false
    }
   },
   "source": [
    "---\n",
    "### 4.1 Read relevance labels\n",
    "\n",
    "Let's take a look at the `qrels.text` file, which contains the ground truth relevance scores. The relevance labels for CACM are binary - either 0 or 1. \n"
   ]
  },
  {
   "cell_type": "code",
   "execution_count": 145,
   "metadata": {
    "deletable": false,
    "editable": false,
    "nbgrader": {
     "cell_type": "code",
     "checksum": "6c11025f5a222796f2882c73c1634799",
     "grade": false,
     "grade_id": "cell-6b738366059dde9e",
     "locked": true,
     "schema_version": 3,
     "solution": false,
     "task": false
    }
   },
   "outputs": [
    {
     "name": "stdout",
     "output_type": "stream",
     "text": [
      "01 1410  0 0\r\n",
      "01 1572  0 0\r\n",
      "01 1605  0 0\r\n",
      "01 2020  0 0\r\n",
      "01 2358  0 0\r\n",
      "02 2434  0 0\r\n",
      "02 2863  0 0\r\n",
      "02 3078  0 0\r\n",
      "03 1134  0 0\r\n",
      "03 1613  0 0\r\n"
     ]
    }
   ],
   "source": [
    "!head ./datasets/qrels.text"
   ]
  },
  {
   "cell_type": "markdown",
   "metadata": {
    "deletable": false,
    "editable": false,
    "nbgrader": {
     "cell_type": "markdown",
     "checksum": "7ce95245c1597183320d7254afde5c8e",
     "grade": false,
     "grade_id": "cell-10e16bff2753ffbb",
     "locked": true,
     "schema_version": 3,
     "solution": false,
     "task": false
    }
   },
   "source": [
    "---\n",
    "\n",
    "The first column is the query_id and the second column is the document_id. We can safely ignore the 3rd and 4th columns."
   ]
  },
  {
   "cell_type": "code",
   "execution_count": 146,
   "metadata": {
    "deletable": false,
    "nbgrader": {
     "cell_type": "code",
     "checksum": "000c6d59dce08dba0ba1e8d691dbbc2e",
     "grade": false,
     "grade_id": "cell-ee5253a4ef602fce",
     "locked": false,
     "schema_version": 3,
     "solution": true,
     "task": false
    }
   },
   "outputs": [],
   "source": [
    "def read_qrels():\n",
    "    obj = {}\n",
    "    table = np.loadtxt('./datasets/qrels.text', dtype=int)[:, 0:2]\n",
    "    for (qid, did) in table:\n",
    "        qid = str(qid)\n",
    "        if qid not in obj:\n",
    "            obj[qid] = [did]\n",
    "        else:\n",
    "            obj[qid].append(did)\n",
    "    return obj"
   ]
  },
  {
   "cell_type": "code",
   "execution_count": 147,
   "metadata": {
    "deletable": false,
    "editable": false,
    "nbgrader": {
     "cell_type": "code",
     "checksum": "d60caeba85c2a97d2211184a5ae91fd1",
     "grade": false,
     "grade_id": "cell-72215605fbe24f65",
     "locked": true,
     "schema_version": 3,
     "solution": false,
     "task": false
    }
   },
   "outputs": [],
   "source": [
    "#### Function check\n",
    "qrels = read_qrels()\n",
    "\n",
    "assert len(qrels) == 52, \"There should be 52 queries with relevance judgements\"\n",
    "assert sum(len(j) for j in qrels.values()) == 796, \"There should be a total of 796 Relevance Judgements\"\n",
    "\n",
    "assert np.min(np.array([len(j) for j in qrels.values()])) == 1\n",
    "assert np.max(np.array([len(j) for j in qrels.values()])) == 51\n",
    "\n",
    "####"
   ]
  },
  {
   "cell_type": "markdown",
   "metadata": {
    "deletable": false,
    "editable": false,
    "nbgrader": {
     "cell_type": "markdown",
     "checksum": "6c9e7428a52e291a2cdf92a379730d4c",
     "grade": false,
     "grade_id": "cell-176a6fb2939d0420",
     "locked": true,
     "schema_version": 3,
     "solution": false,
     "task": false
    }
   },
   "source": [
    "---\n",
    "**Note:** For a given query `query_id`, you can assume that documents *not* in `qrels[query_id]` are not relevant to `query_id`. \n"
   ]
  },
  {
   "cell_type": "markdown",
   "metadata": {
    "deletable": false,
    "editable": false,
    "nbgrader": {
     "cell_type": "markdown",
     "checksum": "b26a818c7b4f7ad490e00b35ea0edd69",
     "grade": false,
     "grade_id": "cell-bd8341b72cdd89bb",
     "locked": true,
     "schema_version": 3,
     "solution": false,
     "task": false
    }
   },
   "source": [
    "---\n",
    "### 4.2 Precision (7 points)\n",
    "Implement the `precision@k` metric:"
   ]
  },
  {
   "cell_type": "code",
   "execution_count": 148,
   "metadata": {
    "deletable": false,
    "nbgrader": {
     "cell_type": "code",
     "checksum": "43dea1979ebdec24ffcfeff71c670433",
     "grade": false,
     "grade_id": "cell-494bd0cce108ed67",
     "locked": false,
     "schema_version": 3,
     "solution": true,
     "task": false
    }
   },
   "outputs": [],
   "source": [
    "# TODO: Implement this! (7 points)\n",
    "def precision_k(results, relevant_docs, k):\n",
    "    \"\"\"\n",
    "        Compute Precision@K\n",
    "        Input: \n",
    "            results: A sorted list of 2-tuples (document_id, score), \n",
    "                    with the most relevant document in the first position\n",
    "            relevant_docs: A set of relevant documents. \n",
    "            k: the cut-off\n",
    "        Output: Precision@K\n",
    "    \"\"\"\n",
    "    if k > len(results):\n",
    "        k = len(results)\n",
    "    res = set([x[0] for x in results[0:k]])\n",
    "    rel = set(relevant_docs)\n",
    "    return sum([int(r) in rel for r in res])/k"
   ]
  },
  {
   "cell_type": "code",
   "execution_count": 149,
   "metadata": {
    "deletable": false,
    "editable": false,
    "nbgrader": {
     "cell_type": "code",
     "checksum": "9222e35582b1840ffb60fd02fb0b60c3",
     "grade": true,
     "grade_id": "cell-e7ff0d91c319ca64",
     "locked": true,
     "points": 7,
     "schema_version": 3,
     "solution": false,
     "task": false
    }
   },
   "outputs": [
    {
     "name": "stdout",
     "output_type": "stream",
     "text": [
      "query: What articles exist which deal with TSS (Time Sharing System), an\n",
      "operating system for IBM computers?\n",
      "precision@10 = 0.2\n"
     ]
    }
   ],
   "source": [
    "\n",
    "#### Function check\n",
    "qid = queries[0][0]\n",
    "qtext = queries[0][1]\n",
    "print(f'query:{qtext}')\n",
    "results = bm25_search(qtext, 2)\n",
    "precision = precision_k(results, qrels[qid], 10)\n",
    "print(f'precision@10 = {precision}')\n",
    "####"
   ]
  },
  {
   "cell_type": "markdown",
   "metadata": {
    "deletable": false,
    "editable": false,
    "nbgrader": {
     "cell_type": "markdown",
     "checksum": "8fd3b3998197c7097a40348500affb68",
     "grade": false,
     "grade_id": "cell-afd95f865bc7191e",
     "locked": true,
     "schema_version": 3,
     "solution": false,
     "task": false
    }
   },
   "source": [
    "---\n",
    "### 4.3 Recall (7 points)\n",
    "Implement the `recall@k` metric:"
   ]
  },
  {
   "cell_type": "code",
   "execution_count": 150,
   "metadata": {
    "deletable": false,
    "nbgrader": {
     "cell_type": "code",
     "checksum": "b2020e5741ae03b3fe35817ed8f4ccaa",
     "grade": false,
     "grade_id": "cell-c323fc8c3f8a7cf8",
     "locked": false,
     "schema_version": 3,
     "solution": true,
     "task": false
    }
   },
   "outputs": [],
   "source": [
    "# TODO: Implement this! (7 points)\n",
    "def recall_k(results, relevant_docs, k):\n",
    "    \"\"\"\n",
    "        Compute Recall@K\n",
    "        Input: \n",
    "            results: A sorted list of 2-tuples (document_id, score), with the most relevant document in the first position\n",
    "            relevant_docs: A set of relevant documents. \n",
    "            k: the cut-off\n",
    "        Output: Recall@K\n",
    "    \"\"\"\n",
    "    res = set([x[0] for x in results[0:k]])\n",
    "    rel = set(relevant_docs)\n",
    "    return sum([int(r) in rel for r in res])/len(relevant_docs)"
   ]
  },
  {
   "cell_type": "code",
   "execution_count": 151,
   "metadata": {
    "deletable": false,
    "editable": false,
    "nbgrader": {
     "cell_type": "code",
     "checksum": "56b6e0b8522f8b2dffbfb3206b2efa84",
     "grade": true,
     "grade_id": "cell-b25172161aef165c",
     "locked": true,
     "points": 7,
     "schema_version": 3,
     "solution": false,
     "task": false
    }
   },
   "outputs": [
    {
     "name": "stdout",
     "output_type": "stream",
     "text": [
      "query: SETL, Very High Level Languages\n",
      "recall@10 = 0.3157894736842105\n"
     ]
    }
   ],
   "source": [
    "#### Function check\n",
    "qid = queries[10][0]\n",
    "qtext = queries[10][1]\n",
    "print(f'query:{qtext}')\n",
    "results = bm25_search(qtext, 2)\n",
    "recall = recall_k(results, qrels[qid], 10)\n",
    "print(f'recall@10 = {recall}')\n",
    "####"
   ]
  },
  {
   "cell_type": "markdown",
   "metadata": {
    "deletable": false,
    "editable": false,
    "nbgrader": {
     "cell_type": "markdown",
     "checksum": "b3d3c7bd1cd977cd07ef5df7d3fbf159",
     "grade": false,
     "grade_id": "cell-77fd2e7a39a74739",
     "locked": true,
     "schema_version": 3,
     "solution": false,
     "task": false
    }
   },
   "source": [
    "---\n",
    "### 4.4 Mean Average Precision (13 points)\n",
    "Implement the `map` metric:"
   ]
  },
  {
   "cell_type": "code",
   "execution_count": 152,
   "metadata": {
    "deletable": false,
    "nbgrader": {
     "cell_type": "code",
     "checksum": "aae2c62f2ffd76f5b6c004e9519b9f14",
     "grade": false,
     "grade_id": "cell-e50925fa9093a30d",
     "locked": false,
     "schema_version": 3,
     "solution": true,
     "task": false
    }
   },
   "outputs": [],
   "source": [
    "# TODO: Implement this! (12 points)\n",
    "def average_precision(results, relevant_docs):\n",
    "    \"\"\"\n",
    "        Compute Average Precision (for a single query - the results are \n",
    "        averaged across queries to get MAP in the next few cells)\n",
    "        Hint: You can use the recall_k and precision_k functions here!\n",
    "        Input: \n",
    "            results: A sorted list of 2-tuples (document_id, score), with the most \n",
    "                    relevant document in the first position\n",
    "            relevant_docs: A set of relevant documents. \n",
    "        Output: Average Precision\n",
    "    \"\"\"\n",
    "    N_relevant = len(relevant_docs)\n",
    "    relevant = []\n",
    "    numerator = 0 \n",
    "    for i, result in enumerate(results):\n",
    "        if int(result[0]) in relevant_docs:\n",
    "            relevant.append(i)\n",
    "    numerator = np.sum([precision_k(results, relevant_docs, i + 1) for i in relevant])\n",
    "    AP = numerator / N_relevant\n",
    "    return  AP"
   ]
  },
  {
   "cell_type": "code",
   "execution_count": 153,
   "metadata": {
    "deletable": false,
    "editable": false,
    "nbgrader": {
     "cell_type": "code",
     "checksum": "3b00e147c2fa146fa59f179b7c9cab75",
     "grade": true,
     "grade_id": "cell-8a1f7ec98571e58b",
     "locked": true,
     "points": 13,
     "schema_version": 3,
     "solution": false,
     "task": false
    }
   },
   "outputs": [
    {
     "name": "stdout",
     "output_type": "stream",
     "text": [
      "query: computational complexity, intractability, class-complete reductions,\n",
      "algorithms and efficiency\n",
      "MAP = 0.1724040411055945\n"
     ]
    }
   ],
   "source": [
    "#### Function check\n",
    "qid = queries[20][0]\n",
    "qtext = queries[20][1]\n",
    "print(f'query:{qtext}')\n",
    "results = bm25_search(qtext, 2)\n",
    "mean_ap = average_precision(results, qrels[qid])\n",
    "print(f'MAP = {mean_ap}')\n",
    "####"
   ]
  },
  {
   "cell_type": "markdown",
   "metadata": {
    "deletable": false,
    "editable": false,
    "nbgrader": {
     "cell_type": "markdown",
     "checksum": "36f85f45ef52d9467ba9a717d6d99ff2",
     "grade": false,
     "grade_id": "cell-1da18f0fe6f6d7be",
     "locked": true,
     "schema_version": 3,
     "solution": false,
     "task": false
    }
   },
   "source": [
    "---\n",
    "### 4.5 Expected Reciprocal Rank (13 points)\n",
    "Implement the `err` metric:"
   ]
  },
  {
   "cell_type": "code",
   "execution_count": 154,
   "metadata": {
    "deletable": false,
    "nbgrader": {
     "cell_type": "code",
     "checksum": "9ac94db728e23ea1f5dc0d509473c6fb",
     "grade": false,
     "grade_id": "cell-64262889f9b267ea",
     "locked": false,
     "schema_version": 3,
     "solution": true,
     "task": false
    }
   },
   "outputs": [],
   "source": [
    "# TODO: Implement this! (12 points)\n",
    "def err(results, relevant_docs):\n",
    "    \"\"\"\n",
    "        Compute the expected reciprocal rank.\n",
    "        Hint: https://dl.acm.org/doi/pdf/10.1145/1645953.1646033?download=true\n",
    "        Input: \n",
    "            results: A sorted list of 2-tuples (document_id, score), with the most \n",
    "                    relevant document in the first position\n",
    "            relevant_docs: A set of relevant documents. \n",
    "        Output: ERR\n",
    "        \n",
    "    \"\"\"\n",
    "    p = 1\n",
    "    err = 0\n",
    "    n = len(results)\n",
    "    rel = set(relevant_docs)\n",
    "    for i in range(len(results)):\n",
    "        R = (int(results[i][0]) in rel)/2\n",
    "        err += p*R/(i+1)\n",
    "        p *= 1-R\n",
    "    return err"
   ]
  },
  {
   "cell_type": "code",
   "execution_count": 155,
   "metadata": {
    "deletable": false,
    "editable": false,
    "nbgrader": {
     "cell_type": "code",
     "checksum": "b7d201de0990b69d5f38704668665d87",
     "grade": true,
     "grade_id": "cell-071e3970ff1afae4",
     "locked": true,
     "points": 13,
     "schema_version": 3,
     "solution": false,
     "task": false
    }
   },
   "outputs": [
    {
     "name": "stdout",
     "output_type": "stream",
     "text": [
      "query: I'd like to find articles describing the use of singular value decomposition\n",
      "in digital image processing.  Applications include finding approximations\n",
      "to the original image and restoring images that are subject to noise. An\n",
      "article on the subject is H.C. Andrews and C.L. Patterson \"Outer product\n",
      "expansions and their uses in digital image processing\", American Mathematical\n",
      "Monthly, vol. 82.\n",
      "ERR = 0.625\n"
     ]
    }
   ],
   "source": [
    "#### Function check\n",
    "qid = queries[30][0]\n",
    "qtext = queries[30][1]\n",
    "print(f'query:{qtext}')\n",
    "results = bm25_search(qtext, 2)\n",
    "ERR = err(results, qrels[qid])\n",
    "print(f'ERR = {ERR}')\n",
    "####"
   ]
  },
  {
   "cell_type": "markdown",
   "metadata": {
    "deletable": false,
    "editable": false,
    "nbgrader": {
     "cell_type": "markdown",
     "checksum": "5bd94caf77cfa5f34675df758d91002d",
     "grade": false,
     "grade_id": "cell-43709a765f353946",
     "locked": true,
     "schema_version": 3,
     "solution": false,
     "task": false
    }
   },
   "source": [
    "---\n",
    "### 4.6 Evaluate Search Functions\n",
    "\n",
    "Let's define some metrics@k using [partial functions](https://docs.python.org/3/library/functools.html#functools.partial)"
   ]
  },
  {
   "cell_type": "code",
   "execution_count": 156,
   "metadata": {
    "deletable": false,
    "editable": false,
    "nbgrader": {
     "cell_type": "code",
     "checksum": "49ccc158e5fb7340ace55e90eeb9d62a",
     "grade": false,
     "grade_id": "cell-dab560e18e340da8",
     "locked": true,
     "schema_version": 3,
     "solution": false,
     "task": false
    }
   },
   "outputs": [],
   "source": [
    "#### metrics@k functions\n",
    "\n",
    "recall_at_1 = partial(recall_k, k=1)\n",
    "recall_at_5 = partial(recall_k, k=5)\n",
    "recall_at_10 = partial(recall_k, k=10)\n",
    "precision_at_1 = partial(precision_k, k=1)\n",
    "precision_at_5 = partial(precision_k, k=5)\n",
    "precision_at_10 = partial(precision_k, k=10)\n",
    "\n",
    "\n",
    "list_of_metrics = [\n",
    "    (\"ERR\", err),\n",
    "    (\"MAP\", average_precision),\n",
    "    (\"Recall@1\",recall_at_1),\n",
    "    (\"Recall@5\", recall_at_5),\n",
    "    (\"Recall@10\", recall_at_10),\n",
    "    (\"Precision@1\", precision_at_1),\n",
    "    (\"Precision@5\", precision_at_5),\n",
    "    (\"Precision@10\", precision_at_10)]\n",
    "####"
   ]
  },
  {
   "cell_type": "markdown",
   "metadata": {
    "deletable": false,
    "editable": false,
    "nbgrader": {
     "cell_type": "markdown",
     "checksum": "fb541002c03221b453b8936290020ea5",
     "grade": false,
     "grade_id": "cell-580a2bdc66d03b47",
     "locked": true,
     "schema_version": 3,
     "solution": false,
     "task": false
    }
   },
   "source": [
    "---\n",
    "\n",
    "The following function evaluates a `search_fn` using the `metric_fn`. Note that the final number is averaged over all the queries"
   ]
  },
  {
   "cell_type": "code",
   "execution_count": 157,
   "metadata": {},
   "outputs": [],
   "source": [
    "#### Evaluate a search function\n",
    "\n",
    "list_of_search_fns = [\n",
    "    (\"BOW\", bow_search),\n",
    "    (\"TF-IDF\", tfidf_search),\n",
    "    (\"NaiveQL\", naive_ql_search),\n",
    "    (\"QL\", ql_search),\n",
    "    (\"BM25\", bm25_search)\n",
    "]\n",
    "\n",
    "def evaluate_search_fn(search_fn, metric_fns, index_set=None):\n",
    "    # build a dict query_id -> query \n",
    "    queries_by_id = dict((q[0], q[1]) for q in queries)\n",
    "    \n",
    "    metrics = {}\n",
    "    for metric, metric_fn in metric_fns:\n",
    "        metrics[metric] = np.zeros(len(qrels), dtype=np.float32)\n",
    "    \n",
    "    for i, (query_id, relevant_docs) in enumerate(qrels.items()):\n",
    "        query = queries_by_id[query_id]\n",
    "        if index_set:\n",
    "            results = search_fn(query, index_set)\n",
    "        else:\n",
    "            results = search_fn(query)\n",
    "        \n",
    "        for metric, metric_fn in metric_fns:\n",
    "            metrics[metric][i] = metric_fn(results, relevant_docs)\n",
    "\n",
    "    \n",
    "    \n",
    "    final_dict = {}\n",
    "    for metric, metric_vals in metrics.items():\n",
    "        final_dict[metric] = metric_vals.mean()\n",
    "    \n",
    "    return final_dict\n",
    "####"
   ]
  },
  {
   "cell_type": "markdown",
   "metadata": {
    "deletable": false,
    "editable": false,
    "nbgrader": {
     "cell_type": "markdown",
     "checksum": "6ea67534f74a8f81e1f504794f641709",
     "grade": false,
     "grade_id": "cell-b156d83a0649cbb4",
     "locked": true,
     "schema_version": 3,
     "solution": false,
     "task": false
    }
   },
   "source": [
    "## Section 5: Analysis (30 points) <a class=\"anchor\" id=\"analysis\"></a>\n",
    "\n",
    "[Back to Part 1](#part1)\n",
    "\n",
    "In the final section of Part1, we will compare the different term-based IR algorithms and different preprocessing configurations and analyze their advantages and disadvantages.\n",
    "\n",
    "### Section 5.1: Plot (20 points)\n",
    "\n",
    "First, gather the results. The results should consider the index set, the different search functions and different metrics. Plot the results in bar charts, per metric, with clear labels.\n",
    "\n",
    "**Rubric:**\n",
    "- Each Metric is plotted: 7 points\n",
    "- Each Method is plotted: 7 points\n",
    "- Clear titles, x label, y labels and legends (if applicable): 6 points"
   ]
  },
  {
   "cell_type": "code",
   "execution_count": 255,
   "metadata": {
    "deletable": false,
    "nbgrader": {
     "cell_type": "code",
     "checksum": "7e2588a925d13ddf588abe8311dc9cfc",
     "grade": true,
     "grade_id": "cell-46fda42a25863a04",
     "locked": false,
     "points": 20,
     "schema_version": 3,
     "solution": true,
     "task": false
    }
   },
   "outputs": [
    {
     "data": {
      "image/png": "[encoded data removed]",
      "text/plain": [
       "<Figure size 864x432 with 1 Axes>"
      ]
     },
     "metadata": {
      "needs_background": "light"
     },
     "output_type": "display_data"
    },
    {
     "data": {
      "image/png": "[encoded data removed]",
      "text/plain": [
       "<Figure size 864x432 with 1 Axes>"
      ]
     },
     "metadata": {
      "needs_background": "light"
     },
     "output_type": "display_data"
    }
   ],
   "source": [
    "import pandas as pd\n",
    "def plot_results(search_fns, include_index):\n",
    "    results = []\n",
    "    for i in [1,2] if include_index else [None]:\n",
    "        r = []\n",
    "        for (s_name, s_fn) in search_fns:\n",
    "            r.append((s_name, evaluate_search_fn(s_fn, list_of_metrics, index_set=i)))\n",
    "        results.append(r)\n",
    "\n",
    "    index = [x[0] for x in results[0]]\n",
    "    data = {}\n",
    "\n",
    "    for r in range(2 if include_index else 1):\n",
    "        for k in results[0][0][1].keys():\n",
    "            data[k] = [x[1][k] for x in results[r]]\n",
    "        df = pd.DataFrame(data, index)\n",
    "        if include_index:\n",
    "            df.T.plot.bar(figsize=(12,6), title=f\"Index Set {r+1}\")\n",
    "        else:\n",
    "            df.T.plot.bar(figsize=(16,8), title=f\"Index Set {r+1}\")\n",
    "plot_results(list_of_search_fns, True)"
   ]
  },
  {
   "cell_type": "markdown",
   "metadata": {
    "deletable": false,
    "editable": false,
    "nbgrader": {
     "cell_type": "markdown",
     "checksum": "e88c444a0acf4e398c65e289169b75f7",
     "grade": false,
     "grade_id": "cell-8aabe3bcf265deb0",
     "locked": true,
     "points": 10,
     "schema_version": 3,
     "solution": false,
     "task": true
    }
   },
   "source": [
    "---\n",
    "### Section 5.2: Summary (10 points)\n",
    "Write a summary of what you observe in the results.\n",
    "Your summary should compare results across the 2 indices and the methods being used. State what you expected to see in the results, followed by either supporting evidence *or* justify why the results did not support your expectations.      "
   ]
  },
  {
   "cell_type": "markdown",
   "metadata": {},
   "source": [
    "Write your answer here!"
   ]
  },
  {
   "cell_type": "markdown",
   "metadata": {
    "deletable": false,
    "editable": false,
    "nbgrader": {
     "cell_type": "markdown",
     "checksum": "b3eb77be74eecca205fc7b47316d1627",
     "grade": false,
     "grade_id": "cell-bb60dd5c092d0f2e",
     "locked": true,
     "schema_version": 3,
     "solution": false,
     "task": false
    }
   },
   "source": [
    "---\n",
    "---\n",
    "# Part 2: Semantic-based Matching (85 points) <a class=\"anchor\" id=\"part2\"></a>\n",
    "\n",
    "[Back to top](#top)\n",
    "\n",
    "We will now experiment with methods that go beyond lexical methods like TF-IDF, which operate at the word level and are high dimensional and sparse, and look at methods which constructs low dimensional dense representations of queries and documents. \n",
    "\n",
    "Since these low-dimensional methods have a higher time complexity, they are typically used in conjunction with methods like BM-25. That is, instead of searching through potentially million documents to find matches using low dimensional vectors, a list of K documents are retrieved using BM25, and then **re-ranked** using the other method. This is the method that is going to be applied in the following exercises. \n",
    "\n",
    "LSI/LDA takes documents that are similar on a semantic level - for instance, if they are describing the same topic - and projects them into nearby vectors, despite having low lexical overlap.\n",
    "\n",
    "In this assignment, you will use `gensim` to create LSI/LDA models and use them in re-ranking. \n",
    "\n",
    "**Note**: The following exercises only uses `doc_repr_2` and `config_2`\n",
    "\n",
    "Table of contents:\n",
    "- [Section 6: LSI](#lsi) (15 points)\n",
    "- [Section 7: LDA](#lda) (10 points)\n",
    "- [Section 8: Word2Vec/Doc2Vec](#2vec) (20 points)\n",
    "- [Section 8: Re-ranking](#reranking) (10 points)\n",
    "- [Section 9: Re-ranking Evaluation](#reranking_eval) (30 points)"
   ]
  },
  {
   "cell_type": "markdown",
   "metadata": {
    "deletable": false,
    "editable": false,
    "nbgrader": {
     "cell_type": "markdown",
     "checksum": "f7c7b2cab82f576ed0acf836ca57171c",
     "grade": false,
     "grade_id": "cell-6b2c81e7a8abd180",
     "locked": true,
     "schema_version": 3,
     "solution": false,
     "task": false
    }
   },
   "source": [
    "---\n",
    "## Section 6: Latent Semantic Indexing (LSI) (15 points) <a class=\"anchor\" id=\"lsi\"></a>\n",
    "\n",
    "[Back to Part 2](#part2)\n",
    "\n",
    "LSI is one of the methods to embed the queries and documents into vectors. It is based on a method similar to Principal Component Analysis (PCA) for obtaining a dense concept matrix out of the sparse term-document matrix.\n",
    "\n",
    "See [wikipedia](https://en.wikipedia.org/wiki/Latent_semantic_analysis), particularly [#Mathematics_of_LSI](https://en.wikipedia.org/wiki/Latent_semantic_analysis#Mathematics_of_LSI)."
   ]
  },
  {
   "cell_type": "code",
   "execution_count": 158,
   "metadata": {
    "deletable": false,
    "editable": false,
    "nbgrader": {
     "cell_type": "code",
     "checksum": "c17ee75319cb517e2bf48ec3d9efc329",
     "grade": false,
     "grade_id": "cell-59913daee47f680d",
     "locked": true,
     "schema_version": 3,
     "solution": false,
     "task": false
    }
   },
   "outputs": [],
   "source": [
    "from gensim.corpora import Dictionary\n",
    "from gensim.models import LdaModel, LsiModel, Word2Vec\n",
    "from gensim.models.doc2vec import Doc2Vec, TaggedDocument\n",
    "from gensim import downloader as g_downloader\n",
    "# gensim uses logging, so set it up \n",
    "import logging\n",
    "logging.basicConfig(format='%(asctime)s : %(levelname)s : %(message)s', level=logging.INFO)"
   ]
  },
  {
   "cell_type": "markdown",
   "metadata": {
    "deletable": false,
    "editable": false,
    "nbgrader": {
     "cell_type": "markdown",
     "checksum": "5fce140c546759b54a9fc060901ae77c",
     "grade": false,
     "grade_id": "cell-3644faff4976598a",
     "locked": true,
     "schema_version": 3,
     "solution": false,
     "task": false
    }
   },
   "source": [
    "---\n",
    "### Section 6.1: Cosine Similarity (5 points)<a class=\"anchor\" id=\"cosing_sim\"></a>\n",
    "Before we begin, let us first define our method of similarity for the LSI model, the cosine similarity:\n",
    "\n",
    "$$\\text{similarity} = \\cos(\\theta) = {\\mathbf{A} \\cdot \\mathbf{B} \\over \\|\\mathbf{A}\\| \\|\\mathbf{B}\\|} = \\frac{ \\sum\\limits_{i=1}^{n}{A_i  B_i} }{ \\sqrt{\\sum\\limits_{i=1}^{n}{A_i^2}}  \\sqrt{\\sum\\limits_{i=1}^{n}{B_i^2}} }$$\n",
    "\n",
    "Since we are using gensim, the types of vectors returned by their classes are of the form defined below (they are not just simple vectors):"
   ]
  },
  {
   "cell_type": "code",
   "execution_count": 159,
   "metadata": {
    "deletable": false,
    "editable": false,
    "nbgrader": {
     "cell_type": "code",
     "checksum": "4e340e1a1d546f430c018fd0760e707a",
     "grade": false,
     "grade_id": "cell-3995a50f951314d5",
     "locked": true,
     "schema_version": 3,
     "solution": false,
     "task": false
    }
   },
   "outputs": [],
   "source": [
    "# 1, 2, 3 are either latent dimensions (LSI), or topics (LDA)\n",
    "# The second value in each tuple is a number (LSI) or a probability (LDA)  \n",
    "example_vec_1 = [(1, 0.2), (2, 0.3), (3, 0.4)]\n",
    "example_vec_2 = [(1, 0.2), (2, 0.7), (3, 0.4)]"
   ]
  },
  {
   "cell_type": "markdown",
   "metadata": {
    "deletable": false,
    "editable": false,
    "nbgrader": {
     "cell_type": "markdown",
     "checksum": "20832fd4f579f49ae204b0efee02edd1",
     "grade": false,
     "grade_id": "cell-5e54d581858dc8f7",
     "locked": true,
     "schema_version": 3,
     "solution": false,
     "task": false
    }
   },
   "source": [
    "---\n",
    "**Implementation (2+3 points):**\n",
    "Now, implement the `dot product` operation on these types of vectors and using this operator, implement the `cosine similarity` (don't forget: two functions to implement!):"
   ]
  },
  {
   "cell_type": "code",
   "execution_count": 160,
   "metadata": {
    "deletable": false,
    "nbgrader": {
     "cell_type": "code",
     "checksum": "06a712ee75fc213a21c5f0067fd8fe28",
     "grade": false,
     "grade_id": "cell-0e8189f5f93de33f",
     "locked": false,
     "schema_version": 3,
     "solution": true,
     "task": false
    }
   },
   "outputs": [],
   "source": [
    "def dot(vec_1,vec_2): \n",
    "    \"\"\"\n",
    "        vec_1 and vec_2 are of the form: [(int, float), (int, float), ...]\n",
    "        Return the dot product of two such vectors, computed only on the floats\n",
    "        You can assume that the lengths of the vectors are the same, and the dimensions are aligned \n",
    "            i.e you won't get: vec_1 = [(1, 0.2)] ; vec_2 = [(2, 0.3)] \n",
    "                                (dimensions are unaligned and lengths are different)\n",
    "    \"\"\"\n",
    "    return sum([x[1]*y[1] for (x,y) in zip(vec_1, vec_2)])\n",
    "\n",
    "\n",
    "# TODO: Implement this! (3 points)\n",
    "def cosine_sim(vec_1, vec_2):\n",
    "    d = dot(vec_1,vec_2)\n",
    "    x = sum([x[1]**2 for x in vec_1])\n",
    "    y = sum([y[1]**2 for y in vec_2])\n",
    "    if x*y == 0: return 0\n",
    "    else: return d/np.sqrt(x)/np.sqrt(y)"
   ]
  },
  {
   "cell_type": "code",
   "execution_count": 161,
   "metadata": {
    "deletable": false,
    "editable": false,
    "nbgrader": {
     "cell_type": "code",
     "checksum": "d22a4a7325ba7815a808390388f534a1",
     "grade": true,
     "grade_id": "cell-b25d04ed6b79fd35",
     "locked": true,
     "points": 2,
     "schema_version": 3,
     "solution": false,
     "task": false
    }
   },
   "outputs": [
    {
     "name": "stdout",
     "output_type": "stream",
     "text": [
      "vectors: ([(1, 0.2), (2, 0.3), (3, 0.4)], [(1, 0.2), (2, 0.7), (3, 0.4)])\n",
      "dot product = 0.41000000000000003\n",
      "cosine similarity = 0.9165587597202864\n"
     ]
    }
   ],
   "source": [
    "##### Function check\n",
    "print(f'vectors: {(example_vec_1,example_vec_2)}')\n",
    "print(f'dot product = {dot(example_vec_1,example_vec_2)}')\n",
    "print(f'cosine similarity = {cosine_sim(example_vec_1,example_vec_2)}')\n",
    "##### "
   ]
  },
  {
   "cell_type": "code",
   "execution_count": 162,
   "metadata": {
    "deletable": false,
    "editable": false,
    "nbgrader": {
     "cell_type": "code",
     "checksum": "0744131724ce76b1b3f163b4bae5f700",
     "grade": true,
     "grade_id": "cell-ae3c4466866ace77",
     "locked": true,
     "points": 3,
     "schema_version": 3,
     "solution": false,
     "task": false
    }
   },
   "outputs": [],
   "source": [
    "#### Please do not change this. This cell is used for grading."
   ]
  },
  {
   "cell_type": "markdown",
   "metadata": {
    "deletable": false,
    "editable": false,
    "nbgrader": {
     "cell_type": "markdown",
     "checksum": "9b123f599f9ea372d14676e23f1c6a52",
     "grade": false,
     "grade_id": "cell-4b2534067c44fcdf",
     "locked": true,
     "schema_version": 3,
     "solution": false,
     "task": false
    }
   },
   "source": [
    "---\n",
    "### Section 6.2: LSI Retrieval (10 points)<a class=\"anchor\" id=\"lsi_retrieval\"></a>\n",
    "LSI retrieval is simply ranking the documents based on their cosine similarity to the query vector.\n",
    "First, let's write a parent class for vector-based retrieval models:"
   ]
  },
  {
   "cell_type": "code",
   "execution_count": 163,
   "metadata": {
    "deletable": false,
    "editable": false,
    "nbgrader": {
     "cell_type": "code",
     "checksum": "ecc111d58182570e2252b8ef5d6b02af",
     "grade": false,
     "grade_id": "cell-937936cea18711ee",
     "locked": true,
     "schema_version": 3,
     "solution": false,
     "task": false
    }
   },
   "outputs": [],
   "source": [
    "class VectorSpaceRetrievalModel:\n",
    "    \"\"\"\n",
    "        Parent class for Dense Vector Retrieval models\n",
    "    \"\"\"\n",
    "    def __init__(self, doc_repr):\n",
    "        \"\"\"\n",
    "            document_collection: \n",
    "                [\n",
    "                    (doc_id_1, [token 1, token 2, ...]), \n",
    "                    (doc_id_2, [token 1, token 2, ....]) \n",
    "                    ...\n",
    "                ]\n",
    "\n",
    "        \"\"\"\n",
    "        self.doc_repr = doc_repr\n",
    "        self.documents = [_[1] for _ in self.doc_repr]\n",
    "        \n",
    "        # construct a dictionary\n",
    "        self.dictionary = Dictionary(self.documents)\n",
    "        # Filter out words that occur less than 20 documents, or more than 50% of the documents.\n",
    "        self.dictionary.filter_extremes(no_below=10)\n",
    "        self.corpus = [self.dictionary.doc2bow(doc) for doc in self.documents]\n",
    "    \n",
    "        # Make a index to word dictionary.\n",
    "        temp = self.dictionary[0]  # This is only to \"load\" the dictionary.\n",
    "        self.id2word = self.dictionary.id2token\n",
    "        \n",
    "        # this is set by the train_model function\n",
    "        self.model = None\n",
    "        \n",
    "        \n",
    "    def vectorize_documents(self):\n",
    "        \"\"\"\n",
    "            Returns a doc_id -> vector dictionary\n",
    "        \"\"\"\n",
    "        vectors = {}\n",
    "        for (doc_id, _), cc in zip(self.doc_repr, self.corpus):\n",
    "            vectors[doc_id] = self.model[cc]\n",
    "        return vectors\n",
    "\n",
    "    def vectorize_query(self, query):\n",
    "        # Note the use of config_2 here!\n",
    "        query = process_text(query, **config_2)\n",
    "        query_vector = self.dictionary.doc2bow(query)\n",
    "        return self.model[query_vector]\n",
    "    \n",
    "    def train_model(self):\n",
    "        \"\"\"\n",
    "            Trains a model and sets the 'self.model' variable. \n",
    "            Make sure to use the variables created in the __init__ method.\n",
    "            e.g the variables which may be useful: {corpus, dictionary, id2word}\n",
    "        \"\"\"\n",
    "        raise NotImplementedError()"
   ]
  },
  {
   "cell_type": "markdown",
   "metadata": {
    "deletable": false,
    "editable": false,
    "nbgrader": {
     "cell_type": "markdown",
     "checksum": "ff161eefd9b81b768cd6361bc1a502b0",
     "grade": false,
     "grade_id": "cell-704a18c2f80cd60c",
     "locked": true,
     "schema_version": 3,
     "solution": false,
     "task": false
    }
   },
   "source": [
    "---\n",
    "**Implementation (5 points):**\n",
    "Implement the `train_model` method in the following class (note that this is only one line of code in `gensim`!). Ensure that the parameters defined in the `__init__` method are not changed, and are *used in the `train_method` function*. Normally, the hyperaparameter space will be searched using grid search / other methods - in this assignment we have provided the hyperparameters for you.\n",
    "\n",
    "The last two lines of code train an LSI model on the list of documents which have been stemmed, lower-cased and have stopwords removed. "
   ]
  },
  {
   "cell_type": "code",
   "execution_count": 164,
   "metadata": {
    "deletable": false,
    "nbgrader": {
     "cell_type": "code",
     "checksum": "0e90eedc27c248bc1ae050518a46a46c",
     "grade": false,
     "grade_id": "cell-307682c9089f15d6",
     "locked": false,
     "schema_version": 3,
     "solution": true,
     "task": false
    }
   },
   "outputs": [],
   "source": [
    "# TODO: Implement this! (5 points)\n",
    "class LsiRetrievalModel(VectorSpaceRetrievalModel):\n",
    "    def __init__(self, doc_repr):\n",
    "        super().__init__(doc_repr)\n",
    "        \n",
    "        self.num_topics = 100\n",
    "        self.chunksize = 2000\n",
    "    \n",
    "    def train_model(self):\n",
    "        # YOUR CODE HERE\n",
    "        self.model=LsiModel(self.corpus, id2word=self.id2word, num_topics=self.num_topics, chunksize=self.chunksize)"
   ]
  },
  {
   "cell_type": "code",
   "execution_count": 165,
   "metadata": {
    "deletable": false,
    "editable": false,
    "nbgrader": {
     "cell_type": "code",
     "checksum": "00399cfe13d60cb4beed1271e36004b0",
     "grade": true,
     "grade_id": "cell-5ce512650c1b2dfb",
     "locked": true,
     "points": 0,
     "schema_version": 3,
     "solution": false,
     "task": false
    }
   },
   "outputs": [
    {
     "name": "stderr",
     "output_type": "stream",
     "text": [
      "2022-02-28 14:07:17,483 : INFO : adding document #0 to Dictionary(0 unique tokens: [])\n",
      "2022-02-28 14:07:17,584 : INFO : built Dictionary(5937 unique tokens: ['-', 'algebra', 'intern', 'languag', 'preliminari']...) from 3204 documents (total 115969 corpus positions)\n",
      "2022-02-28 14:07:17,585 : INFO : Dictionary lifecycle event {'msg': \"built Dictionary(5937 unique tokens: ['-', 'algebra', 'intern', 'languag', 'preliminari']...) from 3204 documents (total 115969 corpus positions)\", 'datetime': '2022-02-28T14:07:17.585133', 'gensim': '4.1.2', 'python': '3.8.10 (default, Nov 26 2021, 20:14:08) \\n[GCC 9.3.0]', 'platform': 'Linux-5.13.0-30-generic-x86_64-with-glibc2.29', 'event': 'created'}\n",
      "2022-02-28 14:07:17,592 : INFO : discarding 4740 tokens: [('repeat', 8), ('glossari', 7), ('inspect', 8), ('uncol', 2), ('rung', 9), ('secant', 2), ('.', 1603), ('acceler', 6), ('diverg', 3), ('induc', 9)]...\n",
      "2022-02-28 14:07:17,593 : INFO : keeping 1197 tokens which were in no less than 10 and no more than 1602 (=50.0%) documents\n",
      "2022-02-28 14:07:17,599 : INFO : resulting dictionary: Dictionary(1197 unique tokens: ['-', 'algebra', 'intern', 'languag', 'preliminari']...)\n",
      "2022-02-28 14:07:17,686 : INFO : using serial LSI version on this node\n",
      "2022-02-28 14:07:17,687 : INFO : updating model with new documents\n",
      "2022-02-28 14:07:17,687 : INFO : preparing a new chunk of documents\n",
      "2022-02-28 14:07:17,713 : INFO : using 100 extra samples and 2 power iterations\n",
      "2022-02-28 14:07:17,714 : INFO : 1st phase: constructing (1197, 200) action matrix\n",
      "2022-02-28 14:07:17,734 : INFO : orthonormalizing (1197, 200) action matrix\n",
      "2022-02-28 14:07:17,879 : INFO : 2nd phase: running dense svd on (200, 2000) matrix\n",
      "2022-02-28 14:07:17,994 : INFO : computing the final decomposition\n",
      "2022-02-28 14:07:17,996 : INFO : keeping 100 factors (discarding 13.461% of energy spectrum)\n",
      "2022-02-28 14:07:18,044 : INFO : processed documents up to #2000\n",
      "2022-02-28 14:07:18,048 : INFO : topic #0(152.127): 0.741*\",\" + 0.342*\"-\" + 0.211*\"system\" + 0.204*\"program\" + 0.192*\"comput\" + 0.146*\"(\" + 0.127*\"languag\" + 0.108*\")\" + 0.084*\"gener\" + 0.083*\"data\"\n",
      "2022-02-28 14:07:18,051 : INFO : topic #1(60.600): -0.607*\"(\" + -0.434*\")\" + -0.366*\"algorithm\" + -0.300*\"-\" + 0.237*\",\" + 0.213*\"system\" + 0.132*\"comput\" + -0.096*\"[\" + 0.093*\"program\" + -0.084*\"])\"\n",
      "2022-02-28 14:07:18,052 : INFO : topic #2(57.438): -0.744*\"-\" + 0.452*\",\" + -0.263*\"system\" + 0.214*\"(\" + 0.166*\")\" + -0.107*\"time\" + -0.105*\"program\" + 0.094*\"algorithm\" + -0.068*\"comput\" + -0.067*\"share\"\n",
      "2022-02-28 14:07:18,053 : INFO : topic #3(48.370): 0.483*\"system\" + 0.375*\"program\" + 0.367*\"comput\" + -0.363*\"-\" + -0.308*\",\" + 0.212*\"(\" + 0.168*\")\" + 0.147*\"algorithm\" + -0.144*\"languag\" + 0.119*\"time\"\n",
      "2022-02-28 14:07:18,054 : INFO : topic #4(45.710): -0.489*\"comput\" + 0.475*\"languag\" + 0.428*\"program\" + -0.238*\"method\" + -0.141*\"problem\" + 0.121*\"system\" + 0.109*\")\" + -0.107*\"equat\" + -0.100*\"algorithm\" + 0.099*\"(\"\n",
      "2022-02-28 14:07:18,055 : INFO : preparing a new chunk of documents\n",
      "2022-02-28 14:07:18,097 : INFO : using 100 extra samples and 2 power iterations\n",
      "2022-02-28 14:07:18,103 : INFO : 1st phase: constructing (1197, 200) action matrix\n",
      "2022-02-28 14:07:18,146 : INFO : orthonormalizing (1197, 200) action matrix\n",
      "2022-02-28 14:07:18,365 : INFO : 2nd phase: running dense svd on (200, 1204) matrix\n",
      "2022-02-28 14:07:18,451 : INFO : computing the final decomposition\n",
      "2022-02-28 14:07:18,452 : INFO : keeping 100 factors (discarding 14.032% of energy spectrum)\n",
      "2022-02-28 14:07:18,473 : INFO : merging projections: (1197, 100) + (1197, 100)\n",
      "2022-02-28 14:07:18,582 : INFO : keeping 100 factors (discarding 8.173% of energy spectrum)\n",
      "2022-02-28 14:07:18,589 : INFO : processed documents up to #3204\n",
      "2022-02-28 14:07:18,591 : INFO : topic #0(225.136): 0.759*\",\" + 0.337*\"-\" + 0.196*\"system\" + 0.186*\"program\" + 0.166*\"comput\" + 0.139*\"(\" + 0.103*\")\" + 0.103*\"algorithm\" + 0.099*\"languag\" + 0.087*\"time\"\n",
      "2022-02-28 14:07:18,592 : INFO : topic #1(87.805): 0.613*\"-\" + -0.399*\",\" + 0.399*\"(\" + 0.326*\"algorithm\" + 0.293*\")\" + -0.129*\"system\" + -0.107*\"program\" + 0.085*\"method\" + 0.077*\"time\" + 0.062*\"1\"\n",
      "2022-02-28 14:07:18,593 : INFO : topic #2(81.909): 0.550*\"-\" + -0.434*\"(\" + 0.355*\"system\" + -0.321*\")\" + -0.291*\",\" + -0.266*\"algorithm\" + 0.146*\"program\" + 0.123*\"comput\" + 0.078*\"time\" + -0.064*\"[\"\n",
      "2022-02-28 14:07:18,594 : INFO : topic #3(72.433): -0.693*\"program\" + 0.339*\",\" + 0.279*\"-\" + -0.251*\"(\" + -0.221*\"system\" + -0.214*\"languag\" + -0.204*\")\" + -0.160*\"comput\" + -0.099*\"data\" + -0.056*\"execut\"\n",
      "2022-02-28 14:07:18,595 : INFO : topic #4(68.523): -0.673*\"system\" + 0.453*\"program\" + 0.254*\"languag\" + 0.212*\"-\" + -0.179*\"comput\" + -0.165*\"(\" + -0.121*\")\" + -0.115*\"model\" + 0.101*\",\" + -0.098*\"algorithm\"\n",
      "2022-02-28 14:07:18,596 : INFO : LsiModel lifecycle event {'msg': 'trained LsiModel(num_terms=1197, num_topics=100, decay=1.0, chunksize=2000) in 0.91s', 'datetime': '2022-02-28T14:07:18.596135', 'gensim': '4.1.2', 'python': '3.8.10 (default, Nov 26 2021, 20:14:08) \\n[GCC 9.3.0]', 'platform': 'Linux-5.13.0-30-generic-x86_64-with-glibc2.29', 'event': 'created'}\n"
     ]
    },
    {
     "data": {
      "text/plain": [
       "[(0, 0.015214685589737952),\n",
       " (1, -0.01625411284074153),\n",
       " (2, -0.00021057905754122896),\n",
       " (3, -0.0018489680733645136),\n",
       " (4, -0.009400433282148336),\n",
       " (5, -0.004722828862590714),\n",
       " (6, 0.027023012723557942),\n",
       " (7, 0.016783038715912732),\n",
       " (8, -0.03181142945381764),\n",
       " (9, -0.0007573225193549128),\n",
       " (10, 0.0019588359179689885),\n",
       " (11, -0.017475148812873768),\n",
       " (12, 8.936982925267754e-05),\n",
       " (13, 0.0015564958477056173),\n",
       " (14, 0.004478328222609341),\n",
       " (15, 0.0056826691586250025),\n",
       " (16, 0.0052957802062056705),\n",
       " (17, 0.0028992927184154343),\n",
       " (18, -0.017450832943545734),\n",
       " (19, 0.018148576032287183),\n",
       " (20, -0.012618758489293346),\n",
       " (21, -0.014373213215798838),\n",
       " (22, 0.04671241070541891),\n",
       " (23, 0.027244458387596395),\n",
       " (24, -0.008588748808223232),\n",
       " (25, -0.009961884899612802),\n",
       " (26, 0.005424493231955576),\n",
       " (27, 0.07627827586702918),\n",
       " (28, -0.06225566233111508),\n",
       " (29, 0.033320067621069205),\n",
       " (30, 0.04376231928108601),\n",
       " (31, 0.04454199066655726),\n",
       " (32, -0.07056567294593692),\n",
       " (33, 0.04939737558949224),\n",
       " (34, -0.024421842258196016),\n",
       " (35, 0.05994944808297066),\n",
       " (36, 0.04294606322874513),\n",
       " (37, -0.005631384429105142),\n",
       " (38, -0.05636951163749957),\n",
       " (39, 0.021561036603086635),\n",
       " (40, -0.05080488278007038),\n",
       " (41, -0.03306898909528448),\n",
       " (42, 0.02717309211120124),\n",
       " (43, 0.014907446605006865),\n",
       " (44, 0.02031291728476888),\n",
       " (45, 0.05525968692491257),\n",
       " (46, -0.012171045235675238),\n",
       " (47, 0.007453692447296573),\n",
       " (48, 0.022596479776605647),\n",
       " (49, 0.02767591929238083),\n",
       " (50, 0.018435543266426317),\n",
       " (51, 0.04254820394612373),\n",
       " (52, -0.004669502738230217),\n",
       " (53, 0.0030421247205731448),\n",
       " (54, 0.039932994429980315),\n",
       " (55, 0.02764382387054421),\n",
       " (56, 0.00902369708583992),\n",
       " (57, -0.016747210427466207),\n",
       " (58, -0.013576490417658163),\n",
       " (59, 0.04631421764420624),\n",
       " (60, -0.010687624718968789),\n",
       " (61, 0.04929412218333168),\n",
       " (62, -0.023284781381784952),\n",
       " (63, 0.03288246673453364),\n",
       " (64, -0.029306808967314878),\n",
       " (65, 0.05564771387644549),\n",
       " (66, 0.014253062284419915),\n",
       " (67, -0.05351543580591804),\n",
       " (68, 0.02387121359370411),\n",
       " (69, -0.05931344453273088),\n",
       " (70, -0.04114349445911619),\n",
       " (71, -0.0094275373881475),\n",
       " (72, 0.04230554530870037),\n",
       " (73, -0.09453000190305583),\n",
       " (74, -0.02910982020403183),\n",
       " (75, 0.03214948306467551),\n",
       " (76, 0.030235620627266913),\n",
       " (77, 0.014254352543990085),\n",
       " (78, 0.015506544927244133),\n",
       " (79, 0.055017561634841845),\n",
       " (80, -0.024448758269187076),\n",
       " (81, -0.01224939040126109),\n",
       " (82, 0.035121264500287984),\n",
       " (83, -0.04384419545661028),\n",
       " (84, 0.03354754416161405),\n",
       " (85, -0.03598423461956009),\n",
       " (86, 0.02691403970671089),\n",
       " (87, 0.0031243399080715696),\n",
       " (88, -0.06566485887049153),\n",
       " (89, -0.0759840105537307),\n",
       " (90, -0.011647255662846311),\n",
       " (91, 0.05851745116677468),\n",
       " (92, -0.020354978250474033),\n",
       " (93, -0.004828423374666928),\n",
       " (94, 0.019123820055217313),\n",
       " (95, -0.055324595962130775),\n",
       " (96, 0.002946863244581704),\n",
       " (97, -0.009217226458592515),\n",
       " (98, 0.03584634079082238),\n",
       " (99, 0.018490508993750786)]"
      ]
     },
     "execution_count": 165,
     "metadata": {},
     "output_type": "execute_result"
    }
   ],
   "source": [
    "##### Function check\n",
    "lsi = LsiRetrievalModel(doc_repr_2)\n",
    "lsi.train_model()\n",
    "\n",
    "# you can now get an LSI vector for a given query in the following way:\n",
    "lsi.vectorize_query(\"report\")\n",
    "##### "
   ]
  },
  {
   "cell_type": "markdown",
   "metadata": {
    "deletable": false,
    "editable": false,
    "nbgrader": {
     "cell_type": "markdown",
     "checksum": "7116bb9f576c5bb04934e1d59c51d729",
     "grade": false,
     "grade_id": "cell-4c5eeb557b4fca2f",
     "locked": true,
     "points": 5,
     "schema_version": 3,
     "solution": false,
     "task": true
    }
   },
   "source": [
    "\\#### Please do not change this. This cell is used for grading."
   ]
  },
  {
   "cell_type": "markdown",
   "metadata": {
    "deletable": false,
    "editable": false,
    "nbgrader": {
     "cell_type": "markdown",
     "checksum": "26e2ff3c413745e633d99f66c041d6b1",
     "grade": false,
     "grade_id": "cell-c4e50296cd17a555",
     "locked": true,
     "schema_version": 3,
     "solution": false,
     "task": false
    }
   },
   "source": [
    "---\n",
    "**Implementation (5 points):**\n",
    " Next, implement a basic ranking class for vector space retrieval (used for all semantic methods): "
   ]
  },
  {
   "cell_type": "code",
   "execution_count": 173,
   "metadata": {
    "deletable": false,
    "nbgrader": {
     "cell_type": "code",
     "checksum": "1a8389d2f0635c3405e2b0b27ed9f327",
     "grade": false,
     "grade_id": "cell-250515d288e80cdc",
     "locked": false,
     "schema_version": 3,
     "solution": true,
     "task": false
    }
   },
   "outputs": [],
   "source": [
    "# TODO: Implement this! (5 points)\n",
    "class DenseRetrievalRanker:\n",
    "    def __init__(self, vsrm, similarity_fn):\n",
    "        \"\"\"\n",
    "            vsrm: instance of `VectorSpaceRetrievalModel`\n",
    "            similarity_fn: function instance that takes in two vectors \n",
    "                            and returns a similarity score e.g cosine_sim defined earlier\n",
    "        \"\"\"\n",
    "        self.vsrm = vsrm\n",
    "        self.vectorized_documents = self.vsrm.vectorize_documents()\n",
    "        self.similarity_fn = similarity_fn\n",
    "    \n",
    "    def _compute_sim(self, query_vector):\n",
    "        \"\"\"\n",
    "            Compute the similarity of `query_vector` to documents in \n",
    "            `self.vectorized_documents` using `self.similarity_fn`\n",
    "            Returns a list of (doc_id, score) tuples\n",
    "        \"\"\"\n",
    "        \n",
    "        scores=[]\n",
    "        for k in self.vectorized_documents.keys():\n",
    "            scores.append((k, self.similarity_fn(self.vectorized_documents[k], query_vector)))\n",
    "        return scores\n",
    "    \n",
    "    def search(self, query):\n",
    "        scores = self._compute_sim(self.vsrm.vectorize_query(query))\n",
    "        scores.sort(key=lambda _:-_[1])\n",
    "        return scores"
   ]
  },
  {
   "cell_type": "code",
   "execution_count": 174,
   "metadata": {
    "deletable": false,
    "editable": false,
    "nbgrader": {
     "cell_type": "code",
     "checksum": "f237dd1ef6c1783c06797f4b514421f5",
     "grade": true,
     "grade_id": "cell-b73068b3e77a8e31",
     "locked": true,
     "points": 0,
     "schema_version": 3,
     "solution": false,
     "task": false
    }
   },
   "outputs": [
    {
     "data": {
      "text/plain": [
       "[('599', 0.802850590532849),\n",
       " ('947', 0.5886043542479504),\n",
       " ('53', 0.5098162670223634),\n",
       " ('3160', 0.44333757650910854),\n",
       " ('1339', 0.4410677487028693)]"
      ]
     },
     "execution_count": 174,
     "metadata": {},
     "output_type": "execute_result"
    }
   ],
   "source": [
    "##### Function check\n",
    "drm_lsi = DenseRetrievalRanker(lsi, cosine_sim)\n",
    "drm_lsi.search(\"report\")[:5]\n",
    "##### "
   ]
  },
  {
   "cell_type": "markdown",
   "metadata": {
    "deletable": false,
    "editable": false,
    "nbgrader": {
     "cell_type": "markdown",
     "checksum": "5b3f19fdcaa585d263706d5a26038799",
     "grade": false,
     "grade_id": "cell-034c755a6502b868",
     "locked": true,
     "points": 5,
     "schema_version": 3,
     "solution": false,
     "task": true
    }
   },
   "source": [
    "\\#### Please do not change this. This cell is used for grading."
   ]
  },
  {
   "cell_type": "markdown",
   "metadata": {
    "deletable": false,
    "editable": false,
    "nbgrader": {
     "cell_type": "markdown",
     "checksum": "dcafef6e037033c46304b914f7c78bdf",
     "grade": false,
     "grade_id": "cell-d1df23f497d5ed6b",
     "locked": true,
     "schema_version": 3,
     "solution": false,
     "task": false
    }
   },
   "source": [
    "---\n",
    "Now, you can test your LSI model in the following cell: try finding queries which are lexically different to documents, but semantically similar - does LSI work well for these queries?!"
   ]
  },
  {
   "cell_type": "code",
   "execution_count": 175,
   "metadata": {
    "deletable": false,
    "editable": false,
    "nbgrader": {
     "cell_type": "code",
     "checksum": "11734bc7674377b340ad51297a8e8bb5",
     "grade": false,
     "grade_id": "cell-efd1d08dfc04ec3e",
     "locked": true,
     "schema_version": 3,
     "solution": false,
     "task": false
    }
   },
   "outputs": [
    {
     "data": {
      "application/vnd.jupyter.widget-view+json": {
       "model_id": "26310d25bea4492d956426e3587b4b00",
       "version_major": 2,
       "version_minor": 0
      },
      "text/plain": [
       "Text(value='', description='Search Bar')"
      ]
     },
     "metadata": {},
     "output_type": "display_data"
    }
   ],
   "source": [
    "# test your LSI model\n",
    "search_fn = drm_lsi.search\n",
    "\n",
    "text = widgets.Text(description=\"Search Bar\", width=200)\n",
    "display(text)\n",
    "\n",
    "def make_results_2(query, search_fn):\n",
    "    results = []\n",
    "    for doc_id, score in search_fn(query):\n",
    "        highlight = highlight_text(docs_by_id[doc_id], query)\n",
    "        if len(highlight.strip()) == 0:\n",
    "            highlight = docs_by_id[doc_id]\n",
    "        results.append(ResultRow(doc_id, highlight, score))\n",
    "    return results\n",
    "\n",
    "def handle_submit_2(sender):\n",
    "    print(f\"Searching for: '{sender.value}' (SEARCH FN: {search_fn})\")\n",
    "    \n",
    "    results = make_results_2(sender.value, search_fn)\n",
    "    \n",
    "    # display only the top 5\n",
    "    results = results[:5]\n",
    "    \n",
    "    body = \"\"\n",
    "    for idx, r in enumerate(results):\n",
    "        body += f\"<li>Document #{r.doc_id}({r.score}): {r.snippet}</li>\"\n",
    "    display(HTML(f\"<ul>{body}</ul>\"))\n",
    "    \n",
    "\n",
    "text.on_submit(handle_submit_2)"
   ]
  },
  {
   "cell_type": "markdown",
   "metadata": {
    "deletable": false,
    "editable": false,
    "nbgrader": {
     "cell_type": "markdown",
     "checksum": "d074ce1ca48384cdda78742741c938be",
     "grade": false,
     "grade_id": "cell-3a86cef264d8f6cf",
     "locked": true,
     "schema_version": 3,
     "solution": false,
     "task": false
    }
   },
   "source": [
    "---\n",
    "## Section 7: Latent Dirichlet Allocation (LDA) (10 points) <a class=\"anchor\" id=\"lda\"></a>\n",
    "\n",
    "[Back to Part 2](#part2)\n",
    "\n",
    "The specifics of LDA is out of the scope of this assignment, but we will use the `gensim` implementation to perform search using LDA over our small document collection. The key thing to remember is that LDA, unlike LSI, outputs a topic **distribution**, not a vector. With that in mind, let's first define a similarity measure.\n"
   ]
  },
  {
   "cell_type": "markdown",
   "metadata": {
    "deletable": false,
    "editable": false,
    "nbgrader": {
     "cell_type": "markdown",
     "checksum": "db01092373b18f0c9dfed1bb17db4ad9",
     "grade": false,
     "grade_id": "cell-6b78ad22c2d60ba7",
     "locked": true,
     "schema_version": 3,
     "solution": false,
     "task": false
    }
   },
   "source": [
    "---\n",
    "### Section 7.1: Jenson-Shannon divergence (5 points) <a class=\"anchor\" id=\"js_sim\"></a>\n",
    "\n",
    "The Jenson-Shannon divergence is a symmetric and finite measure on two probability distributions (unlike the KL, which is neither). For identical distributions, the JSD is equal to 0, and since our code uses 0 as irrelevant and higher scores as relevant, we use `(1 - JSD)` as the score or 'similarity' in our setup\n",
    "\n",
    "**Note**: the JSD is bounded to \\[0,1\\] only if we use log base 2. So please ensure that you're using `np.log2` instead of `np.log`"
   ]
  },
  {
   "cell_type": "code",
   "execution_count": 176,
   "metadata": {
    "deletable": false,
    "nbgrader": {
     "cell_type": "code",
     "checksum": "a579e6cd7a24a3516bc9a84528b392d3",
     "grade": false,
     "grade_id": "cell-d2376a85a4841e98",
     "locked": false,
     "schema_version": 3,
     "solution": true,
     "task": false
    }
   },
   "outputs": [],
   "source": [
    "## TODO: Implement this! (5 points)\n",
    "def KL_divergence(p, q):\n",
    "    return sum(p[i] * np.log2(p[i]/q[i]) for i in range(len(p)) if q[i] != 0 or q[i] != 0.0)\n",
    "\n",
    "def jenson_shannon_divergence(vec_1, vec_2, assert_prob=False):\n",
    "    \"\"\"\n",
    "        Computes the Jensen-Shannon divergence between two probability distributions. \n",
    "        NOTE: DO NOT RETURN 1 - JSD here, that is handled by the next function which is already implemented! \n",
    "        The inputs are *gensim* vectors - same as the vectors for the cosine_sim function\n",
    "        assert_prob is a flag that checks if the inputs are proper probability distributions \n",
    "            i.e they sum to 1 and are positive - use this to check your inputs if needed. \n",
    "                (This is optional to implement, but recommended - \n",
    "                you can the default to False to save a few ms off the runtime)\n",
    "    \"\"\"\n",
    "    \n",
    "    vec_1=np.array(vec_1)[:,1]\n",
    "    vec_2=np.array(vec_2)[:,1]\n",
    "    m = 0.5 * (vec_1 + vec_2)\n",
    "    return 0.5 * KL_divergence(vec_1, m) + 0.5 * KL_divergence(vec_2, m)\n",
    "    \n",
    "\n",
    "def jenson_shannon_sim(vec_1, vec_2, assert_prob=False):\n",
    "    return 1 - jenson_shannon_divergence(vec_1, vec_2)"
   ]
  },
  {
   "cell_type": "code",
   "execution_count": 177,
   "metadata": {
    "deletable": false,
    "editable": false,
    "nbgrader": {
     "cell_type": "code",
     "checksum": "ab340aa941c9fb5c89b3fd0a9139e246",
     "grade": true,
     "grade_id": "cell-487c6d2933f38053",
     "locked": true,
     "points": 5,
     "schema_version": 3,
     "solution": false,
     "task": false
    }
   },
   "outputs": [
    {
     "data": {
      "text/plain": [
       "0.9251064410358459"
      ]
     },
     "execution_count": 177,
     "metadata": {},
     "output_type": "execute_result"
    }
   ],
   "source": [
    "##### Function check\n",
    "vec_1 = [(1, 0.3), (2, 0.4), (3, 0.3)]\n",
    "vec_2 = [(1, 0.1), (2, 0.7), (3, 0.2)]\n",
    "jenson_shannon_sim(vec_1, vec_2, assert_prob=True)\n",
    "##### "
   ]
  },
  {
   "cell_type": "markdown",
   "metadata": {
    "deletable": false,
    "editable": false,
    "nbgrader": {
     "cell_type": "markdown",
     "checksum": "0a1583a5f23e3390038331cce67f5d8e",
     "grade": false,
     "grade_id": "cell-4535cc67a50b80fa",
     "locked": true,
     "schema_version": 3,
     "solution": false,
     "task": false
    }
   },
   "source": [
    "---\n",
    "### Section 7.2: LDA retrieval (5 points) <a class=\"anchor\" id=\"lda_ret\"></a>\n",
    "\n",
    "Implement the `train_model` method in the following class (note that this is only one line of code in `gensim`!). Ensure that the parameters defined in the `__init__` method are not changed, and are *used in the `train_method` function*. You do not need to set this. Normally, the hyperaparameter space will be searched using grid search / other methods. Note that training the LDA model might take some time\n",
    "\n",
    "The last two lines of code train an LDA model on the list of documents which have been stemmed, lower-cased and have stopwords removed. "
   ]
  },
  {
   "cell_type": "code",
   "execution_count": 178,
   "metadata": {
    "deletable": false,
    "nbgrader": {
     "cell_type": "code",
     "checksum": "27de8e4fa85536bb396b73bfc51b3f50",
     "grade": false,
     "grade_id": "cell-021a48dff4a8bb91",
     "locked": false,
     "schema_version": 3,
     "solution": true,
     "task": false
    }
   },
   "outputs": [],
   "source": [
    "# TODO: Implement this! (5 points)\n",
    "class LdaRetrievalModel(VectorSpaceRetrievalModel):\n",
    "    def __init__(self, doc_repr):\n",
    "        super().__init__(doc_repr)\n",
    "        \n",
    "        # use these parameters in the train_model method\n",
    "        self.num_topics = 100\n",
    "        self.chunksize = 2000\n",
    "        self.passes = 20\n",
    "        self.iterations = 400\n",
    "        self.eval_every = 10\n",
    "        # this is need to get full vectors\n",
    "        self.minimum_probability=0.0\n",
    "        self.alpha='auto'\n",
    "        self.eta='auto'\n",
    "    \n",
    "    \n",
    "    def train_model(self):\n",
    "        self.model=LdaModel(self.corpus, num_topics=self.num_topics, chunksize=self.chunksize, passes=self.passes, \n",
    "                           iterations=self.iterations, eval_every=self.eval_every, minimum_probability=self.minimum_probability,\n",
    "                           alpha=self.alpha, eta=self.eta)"
   ]
  },
  {
   "cell_type": "code",
   "execution_count": 179,
   "metadata": {
    "deletable": false,
    "editable": false,
    "nbgrader": {
     "cell_type": "code",
     "checksum": "be70fcb8098d0b6ce64cd2a10e6a05b7",
     "grade": true,
     "grade_id": "cell-86750b715f0345fd",
     "locked": true,
     "points": 0,
     "schema_version": 3,
     "solution": false,
     "task": false
    }
   },
   "outputs": [
    {
     "name": "stderr",
     "output_type": "stream",
     "text": [
      "2022-02-28 14:09:21,022 : INFO : adding document #0 to Dictionary(0 unique tokens: [])\n",
      "2022-02-28 14:09:21,130 : INFO : built Dictionary(5937 unique tokens: ['-', 'algebra', 'intern', 'languag', 'preliminari']...) from 3204 documents (total 115969 corpus positions)\n",
      "2022-02-28 14:09:21,131 : INFO : Dictionary lifecycle event {'msg': \"built Dictionary(5937 unique tokens: ['-', 'algebra', 'intern', 'languag', 'preliminari']...) from 3204 documents (total 115969 corpus positions)\", 'datetime': '2022-02-28T14:09:21.131371', 'gensim': '4.1.2', 'python': '3.8.10 (default, Nov 26 2021, 20:14:08) \\n[GCC 9.3.0]', 'platform': 'Linux-5.13.0-30-generic-x86_64-with-glibc2.29', 'event': 'created'}\n",
      "2022-02-28 14:09:21,142 : INFO : discarding 4740 tokens: [('repeat', 8), ('glossari', 7), ('inspect', 8), ('uncol', 2), ('rung', 9), ('secant', 2), ('.', 1603), ('acceler', 6), ('diverg', 3), ('induc', 9)]...\n",
      "2022-02-28 14:09:21,143 : INFO : keeping 1197 tokens which were in no less than 10 and no more than 1602 (=50.0%) documents\n",
      "2022-02-28 14:09:21,146 : INFO : resulting dictionary: Dictionary(1197 unique tokens: ['-', 'algebra', 'intern', 'languag', 'preliminari']...)\n",
      "2022-02-28 14:09:21,224 : WARNING : no word id mapping provided; initializing from corpus, assuming identity\n",
      "2022-02-28 14:09:21,231 : INFO : using autotuned alpha, starting with [0.01, 0.01, 0.01, 0.01, 0.01, 0.01, 0.01, 0.01, 0.01, 0.01, 0.01, 0.01, 0.01, 0.01, 0.01, 0.01, 0.01, 0.01, 0.01, 0.01, 0.01, 0.01, 0.01, 0.01, 0.01, 0.01, 0.01, 0.01, 0.01, 0.01, 0.01, 0.01, 0.01, 0.01, 0.01, 0.01, 0.01, 0.01, 0.01, 0.01, 0.01, 0.01, 0.01, 0.01, 0.01, 0.01, 0.01, 0.01, 0.01, 0.01, 0.01, 0.01, 0.01, 0.01, 0.01, 0.01, 0.01, 0.01, 0.01, 0.01, 0.01, 0.01, 0.01, 0.01, 0.01, 0.01, 0.01, 0.01, 0.01, 0.01, 0.01, 0.01, 0.01, 0.01, 0.01, 0.01, 0.01, 0.01, 0.01, 0.01, 0.01, 0.01, 0.01, 0.01, 0.01, 0.01, 0.01, 0.01, 0.01, 0.01, 0.01, 0.01, 0.01, 0.01, 0.01, 0.01, 0.01, 0.01, 0.01, 0.01]\n",
      "2022-02-28 14:09:21,233 : INFO : using serial LDA version on this node\n",
      "2022-02-28 14:09:21,245 : INFO : running online (multi-pass) LDA training, 100 topics, 20 passes over the supplied corpus of 3204 documents, updating model once every 2000 documents, evaluating perplexity every 3204 documents, iterating 400x with a convergence threshold of 0.001000\n",
      "2022-02-28 14:09:21,246 : INFO : PROGRESS: pass 0, at document #2000/3204\n",
      "2022-02-28 14:09:22,691 : INFO : optimized alpha [0.009772471, 0.009798249, 0.009850231, 0.009818823, 0.009818876, 0.009788138, 0.009777619, 0.009880615, 0.009839385, 0.0098035, 0.00981373, 0.009782636, 0.009803733, 0.009814155, 0.009782857, 0.00978809, 0.009859718, 0.009803291, 0.00977246, 0.009850483, 0.009850442, 0.010016761, 0.009782901, 0.0098088505, 0.009822506, 0.009772425, 0.009792833, 0.009907023, 0.009995718, 0.009896052, 0.009871642, 0.009886278, 0.009793227, 0.00987129, 0.009798074, 0.00978273, 0.009942415, 0.009777547, 0.009818749, 0.009796527, 0.009803258, 0.0098194685, 0.009824183, 0.0098715285, 0.009824085, 0.009772408, 0.009787997, 0.009913387, 0.009889118, 0.009808941, 0.009772605, 0.009803311, 0.009808313, 0.009824659, 0.009818979, 0.009793109, 0.009787099, 0.009802365, 0.009854898, 0.009897186, 0.009834295, 0.009901428, 0.009777564, 0.0098139215, 0.009845133, 0.009834787, 0.009844513, 0.009829956, 0.009814179, 0.009803315, 0.009803241, 0.00980372, 0.009787775, 0.009803437, 0.009818965, 0.009865397, 0.009811621, 0.009819073, 0.009813519, 0.0098452475, 0.009793232, 0.009865923, 0.009787779, 0.009772466, 0.009829566, 0.01008321, 0.009762092, 0.009834551, 0.009798514, 0.009876207, 0.009939007, 0.009777564, 0.009799059, 0.009777593, 0.009813673, 0.009928321, 0.009839488, 0.009896691, 0.009793214, 0.009787916]\n",
      "2022-02-28 14:09:22,696 : INFO : merging changes from 2000 documents into a model of 3204 documents\n",
      "2022-02-28 14:09:22,703 : INFO : topic #86 (0.010): 0.070*\"273\" + 0.070*\"626\" + 0.070*\"485\" + 0.070*\"35\" + 0.070*\"665\" + 0.070*\"34\" + 0.070*\"83\" + 0.000*\"798\" + 0.000*\"795\" + 0.000*\"799\"\n",
      "2022-02-28 14:09:22,704 : INFO : topic #91 (0.010): 0.075*\"576\" + 0.045*\"1015\" + 0.045*\"90\" + 0.045*\"3\" + 0.045*\"34\" + 0.045*\"83\" + 0.045*\"611\" + 0.030*\"1056\" + 0.030*\"833\" + 0.030*\"50\"\n",
      "2022-02-28 14:09:22,704 : INFO : topic #21 (0.010): 0.065*\"50\" + 0.032*\"0\" + 0.027*\"49\" + 0.025*\"34\" + 0.024*\"13\" + 0.020*\"35\" + 0.016*\"3\" + 0.013*\"6\" + 0.013*\"146\" + 0.011*\"29\"\n",
      "2022-02-28 14:09:22,705 : INFO : topic #28 (0.010): 0.044*\"50\" + 0.041*\"0\" + 0.033*\"6\" + 0.028*\"13\" + 0.024*\"49\" + 0.016*\"83\" + 0.015*\"398\" + 0.014*\"3\" + 0.014*\"34\" + 0.011*\"29\"\n",
      "2022-02-28 14:09:22,706 : INFO : topic #85 (0.010): 0.072*\"50\" + 0.037*\"0\" + 0.026*\"49\" + 0.020*\"6\" + 0.017*\"13\" + 0.014*\"34\" + 0.012*\"29\" + 0.012*\"83\" + 0.012*\"57\" + 0.011*\"238\"\n",
      "2022-02-28 14:09:22,707 : INFO : topic diff=82.951454, rho=1.000000\n",
      "2022-02-28 14:09:23,784 : INFO : -7.284 per-word bound, 155.8 perplexity estimate based on a held-out corpus of 1204 documents with 49783 words\n",
      "2022-02-28 14:09:23,785 : INFO : PROGRESS: pass 0, at document #3204/3204\n",
      "2022-02-28 14:09:24,624 : INFO : optimized alpha [0.009848324, 0.00986857, 0.01015719, 0.0097835, 0.009841849, 0.009935714, 0.009975505, 0.0101736095, 0.009785654, 0.010109634, 0.010071863, 0.009705575, 0.010116729, 0.01005066, 0.009847211, 0.009753199, 0.009804871, 0.009819464, 0.009796534, 0.010129388, 0.0100580575, 0.01030575, 0.009706887, 0.010138046, 0.009728102, 0.009732588, 0.009904169, 0.010091457, 0.010368005, 0.010232724, 0.010069465, 0.009956775, 0.010311067, 0.010032597, 0.00973946, 0.009816956, 0.010005476, 0.009730899, 0.009959506, 0.009801681, 0.009907572, 0.010085209, 0.0100368075, 0.010415048, 0.00999455, 0.0098879, 0.009963694, 0.010177089, 0.009970398, 0.009950881, 0.009953462, 0.010007338, 0.009725855, 0.010220833, 0.009825302, 0.009792785, 0.00995593, 0.009978774, 0.009782649, 0.01000372, 0.01002808, 0.009835203, 0.0098123355, 0.00997947, 0.010047482, 0.010030388, 0.0098902, 0.010001982, 0.009939403, 0.009962825, 0.009779016, 0.009933846, 0.010049622, 0.010069322, 0.010025011, 0.009906318, 0.009788875, 0.010073751, 0.009801695, 0.010200957, 0.010010155, 0.010009598, 0.009967549, 0.009887431, 0.010197366, 0.010501786, 0.00955833, 0.009947101, 0.009923559, 0.01018631, 0.010100532, 0.009747265, 0.010039398, 0.009695605, 0.009871955, 0.009999416, 0.009856301, 0.010074046, 0.009845852, 0.009851864]\n",
      "2022-02-28 14:09:24,630 : INFO : merging changes from 1204 documents into a model of 3204 documents\n",
      "2022-02-28 14:09:24,636 : INFO : topic #86 (0.010): 0.264*\"485\" + 0.146*\"273\" + 0.110*\"665\" + 0.083*\"35\" + 0.079*\"34\" + 0.077*\"83\" + 0.009*\"626\" + 0.000*\"798\" + 0.000*\"795\" + 0.000*\"800\"\n",
      "2022-02-28 14:09:24,637 : INFO : topic #93 (0.010): 0.076*\"507\" + 0.052*\"28\" + 0.047*\"243\" + 0.044*\"1078\" + 0.037*\"727\" + 0.036*\"791\" + 0.033*\"728\" + 0.027*\"13\" + 0.026*\"174\" + 0.026*\"398\"\n",
      "2022-02-28 14:09:24,637 : INFO : topic #28 (0.010): 0.056*\"50\" + 0.039*\"0\" + 0.032*\"6\" + 0.027*\"49\" + 0.022*\"398\" + 0.021*\"13\" + 0.013*\"844\" + 0.013*\"29\" + 0.013*\"518\" + 0.013*\"83\"\n",
      "2022-02-28 14:09:24,638 : INFO : topic #43 (0.010): 0.074*\"50\" + 0.030*\"0\" + 0.028*\"49\" + 0.027*\"512\" + 0.019*\"1024\" + 0.019*\"603\" + 0.018*\"518\" + 0.017*\"298\" + 0.015*\"91\" + 0.015*\"276\"\n",
      "2022-02-28 14:09:24,639 : INFO : topic #85 (0.011): 0.084*\"50\" + 0.035*\"0\" + 0.032*\"49\" + 0.024*\"238\" + 0.017*\"6\" + 0.013*\"13\" + 0.012*\"45\" + 0.011*\"146\" + 0.010*\"174\" + 0.010*\"57\"\n",
      "2022-02-28 14:09:24,640 : INFO : topic diff=0.764287, rho=0.707107\n",
      "2022-02-28 14:09:24,646 : INFO : PROGRESS: pass 1, at document #2000/3204\n",
      "2022-02-28 14:09:25,491 : INFO : optimized alpha [0.009944094, 0.009841012, 0.010149292, 0.009799075, 0.009827688, 0.009898746, 0.01006529, 0.010124045, 0.009777887, 0.010050375, 0.009986765, 0.0098161185, 0.010019861, 0.010055378, 0.009814488, 0.009779143, 0.009757523, 0.009800091, 0.009858896, 0.0100730015, 0.0100494, 0.010224924, 0.009780153, 0.010067677, 0.009813011, 0.009893116, 0.011018204, 0.009996017, 0.010335841, 0.010179347, 0.009977348, 0.009901685, 0.010233336, 0.009997906, 0.009742617, 0.009862788, 0.0100427475, 0.009731541, 0.0098716235, 0.00982415, 0.009865526, 0.010019019, 0.010014403, 0.010355229, 0.009913936, 0.00994301, 0.009959458, 0.010093483, 0.010061081, 0.009972644, 0.010249335, 0.010005818, 0.009793855, 0.0101927165, 0.009743434, 0.009714022, 0.009918424, 0.009962147, 0.0096965125, 0.009910587, 0.00997586, 0.009743184, 0.009782668, 0.010041318, 0.0100090625, 0.009990202, 0.009838316, 0.009927113, 0.009857939, 0.0100459205, 0.009791522, 0.009950556, 0.010140874, 0.010040923, 0.009949308, 0.009817874, 0.009857011, 0.010076328, 0.009796904, 0.0101187425, 0.009929257, 0.010115704, 0.009961289, 0.009885113, 0.010117992, 0.010441989, 0.009614531, 0.009884093, 0.009892618, 0.010107211, 0.0100461785, 0.009754887, 0.009949491, 0.00966812, 0.009828598, 0.009919958, 0.009818367, 0.0099598095, 0.009813467, 0.009826496]\n"
     ]
    },
    {
     "name": "stderr",
     "output_type": "stream",
     "text": [
      "2022-02-28 14:09:25,497 : INFO : merging changes from 2000 documents into a model of 3204 documents\n",
      "2022-02-28 14:09:25,503 : INFO : topic #86 (0.010): 0.320*\"273\" + 0.147*\"35\" + 0.137*\"34\" + 0.117*\"83\" + 0.108*\"485\" + 0.059*\"626\" + 0.053*\"665\" + 0.000*\"798\" + 0.000*\"799\" + 0.000*\"800\"\n",
      "2022-02-28 14:09:25,504 : INFO : topic #93 (0.010): 0.075*\"28\" + 0.070*\"507\" + 0.047*\"791\" + 0.035*\"727\" + 0.033*\"1078\" + 0.030*\"243\" + 0.029*\"13\" + 0.028*\"398\" + 0.028*\"6\" + 0.026*\"879\"\n",
      "2022-02-28 14:09:25,505 : INFO : topic #28 (0.010): 0.057*\"50\" + 0.042*\"0\" + 0.036*\"6\" + 0.032*\"49\" + 0.025*\"398\" + 0.024*\"13\" + 0.016*\"518\" + 0.015*\"844\" + 0.013*\"29\" + 0.012*\"146\"\n",
      "2022-02-28 14:09:25,506 : INFO : topic #85 (0.010): 0.085*\"50\" + 0.038*\"0\" + 0.032*\"49\" + 0.023*\"238\" + 0.019*\"6\" + 0.013*\"13\" + 0.012*\"57\" + 0.012*\"45\" + 0.011*\"146\" + 0.009*\"174\"\n",
      "2022-02-28 14:09:25,507 : INFO : topic #26 (0.011): 0.247*\"34\" + 0.243*\"83\" + 0.169*\"35\" + 0.093*\"611\" + 0.069*\"1015\" + 0.031*\"69\" + 0.016*\"1057\" + 0.013*\"404\" + 0.010*\"536\" + 0.009*\"1034\"\n",
      "2022-02-28 14:09:25,508 : INFO : topic diff=0.306280, rho=0.526900\n",
      "2022-02-28 14:09:26,454 : INFO : -6.905 per-word bound, 119.9 perplexity estimate based on a held-out corpus of 1204 documents with 49783 words\n",
      "2022-02-28 14:09:26,455 : INFO : PROGRESS: pass 1, at document #3204/3204\n",
      "2022-02-28 14:09:27,266 : INFO : optimized alpha [0.010101326, 0.009946692, 0.010334684, 0.009883598, 0.009894446, 0.010026591, 0.010383054, 0.0104857385, 0.009766792, 0.010379193, 0.010167319, 0.009897871, 0.010353646, 0.010317927, 0.009950206, 0.009833099, 0.009832916, 0.009891458, 0.010183821, 0.010272968, 0.010187188, 0.010339712, 0.009799138, 0.010338421, 0.009796713, 0.010020788, 0.011714831, 0.0101028355, 0.010524505, 0.010418788, 0.010067009, 0.009963881, 0.010526004, 0.010176359, 0.009792546, 0.010036468, 0.010102874, 0.009845879, 0.010029763, 0.009993677, 0.010013881, 0.010214102, 0.010209543, 0.010715316, 0.010076899, 0.01015611, 0.010191485, 0.010223208, 0.010138219, 0.010233933, 0.010496252, 0.010212971, 0.009824801, 0.010478627, 0.009828792, 0.009845875, 0.01014529, 0.010124743, 0.009661143, 0.009946598, 0.01023222, 0.009785747, 0.009913892, 0.010191146, 0.010133609, 0.01018241, 0.009904327, 0.010042453, 0.009956381, 0.010304408, 0.009874651, 0.0101492405, 0.010440766, 0.01019155, 0.010112554, 0.009854633, 0.009959485, 0.01034511, 0.009785568, 0.0103052985, 0.010118478, 0.010367808, 0.010171381, 0.010066948, 0.010473, 0.010622709, 0.00963085, 0.010035263, 0.01007493, 0.010254318, 0.010068149, 0.009876872, 0.010209316, 0.009722475, 0.009912864, 0.009934118, 0.009919948, 0.010039005, 0.009923932, 0.009957469]\n",
      "2022-02-28 14:09:27,272 : INFO : merging changes from 1204 documents into a model of 3204 documents\n",
      "2022-02-28 14:09:27,281 : INFO : topic #86 (0.010): 0.358*\"273\" + 0.150*\"35\" + 0.139*\"34\" + 0.126*\"485\" + 0.101*\"83\" + 0.055*\"665\" + 0.023*\"626\" + 0.000*\"798\" + 0.000*\"800\" + 0.000*\"799\"\n",
      "2022-02-28 14:09:27,282 : INFO : topic #93 (0.010): 0.100*\"507\" + 0.089*\"28\" + 0.066*\"727\" + 0.050*\"791\" + 0.044*\"1078\" + 0.041*\"243\" + 0.030*\"13\" + 0.027*\"398\" + 0.026*\"879\" + 0.025*\"6\"\n",
      "2022-02-28 14:09:27,285 : INFO : topic #85 (0.011): 0.093*\"50\" + 0.037*\"0\" + 0.036*\"49\" + 0.033*\"238\" + 0.017*\"6\" + 0.014*\"45\" + 0.011*\"146\" + 0.011*\"165\" + 0.011*\"737\" + 0.011*\"57\"\n",
      "2022-02-28 14:09:27,287 : INFO : topic #43 (0.011): 0.082*\"50\" + 0.040*\"512\" + 0.029*\"49\" + 0.027*\"0\" + 0.024*\"1024\" + 0.023*\"298\" + 0.022*\"518\" + 0.020*\"412\" + 0.020*\"603\" + 0.018*\"276\"\n",
      "2022-02-28 14:09:27,288 : INFO : topic #26 (0.012): 0.266*\"83\" + 0.255*\"34\" + 0.204*\"35\" + 0.092*\"611\" + 0.031*\"1015\" + 0.026*\"69\" + 0.018*\"1057\" + 0.016*\"404\" + 0.008*\"1034\" + 0.008*\"0\"\n",
      "2022-02-28 14:09:27,289 : INFO : topic diff=0.413786, rho=0.526900\n",
      "2022-02-28 14:09:27,299 : INFO : PROGRESS: pass 2, at document #2000/3204\n",
      "2022-02-28 14:09:28,168 : INFO : optimized alpha [0.010240596, 0.009938905, 0.010355766, 0.0099555645, 0.009936264, 0.009993658, 0.010525205, 0.010446954, 0.009789268, 0.010357317, 0.010096283, 0.010093395, 0.010273744, 0.010366344, 0.009930399, 0.0099540055, 0.009838006, 0.009862707, 0.010318827, 0.010229205, 0.010215676, 0.010276226, 0.00995018, 0.010278507, 0.009914694, 0.01017387, 0.01306725, 0.010034179, 0.010512423, 0.010376794, 0.009996414, 0.009921083, 0.010474031, 0.010183328, 0.009832905, 0.010153974, 0.010157852, 0.009922562, 0.009989725, 0.010078123, 0.010002224, 0.010171589, 0.010219927, 0.010663249, 0.01002428, 0.010261314, 0.010215394, 0.010149671, 0.010244669, 0.010338067, 0.01085267, 0.01023885, 0.009952276, 0.010477985, 0.009783246, 0.009827226, 0.010131778, 0.010126139, 0.009611676, 0.009869219, 0.010198113, 0.009725415, 0.009931535, 0.010284261, 0.010101878, 0.010193948, 0.009899262, 0.010010065, 0.009894852, 0.010430749, 0.009936937, 0.010213409, 0.01053504, 0.010180351, 0.010057157, 0.009771959, 0.010113873, 0.010431396, 0.009787419, 0.010224594, 0.010065207, 0.010537857, 0.010183671, 0.010106375, 0.010408316, 0.01057386, 0.009758578, 0.010010139, 0.010060911, 0.010201586, 0.010012537, 0.009918321, 0.010151733, 0.009726862, 0.009924593, 0.009864137, 0.009905332, 0.009949809, 0.009918891, 0.009972285]\n",
      "2022-02-28 14:09:28,173 : INFO : merging changes from 2000 documents into a model of 3204 documents\n",
      "2022-02-28 14:09:28,179 : INFO : topic #58 (0.010): 0.073*\"50\" + 0.045*\"6\" + 0.044*\"136\" + 0.029*\"422\" + 0.027*\"912\" + 0.024*\"98\" + 0.019*\"652\" + 0.018*\"134\" + 0.017*\"640\" + 0.015*\"472\"\n",
      "2022-02-28 14:09:28,183 : INFO : topic #93 (0.010): 0.101*\"28\" + 0.082*\"507\" + 0.064*\"727\" + 0.054*\"791\" + 0.033*\"1078\" + 0.033*\"13\" + 0.032*\"243\" + 0.031*\"6\" + 0.027*\"398\" + 0.027*\"879\"\n",
      "2022-02-28 14:09:28,184 : INFO : topic #43 (0.011): 0.082*\"50\" + 0.037*\"512\" + 0.030*\"49\" + 0.027*\"0\" + 0.022*\"298\" + 0.021*\"518\" + 0.021*\"603\" + 0.020*\"1024\" + 0.020*\"412\" + 0.020*\"276\"\n",
      "2022-02-28 14:09:28,185 : INFO : topic #50 (0.011): 0.122*\"99\" + 0.096*\"20\" + 0.083*\"491\" + 0.072*\"231\" + 0.058*\"571\" + 0.054*\"555\" + 0.038*\"261\" + 0.028*\"478\" + 0.028*\"265\" + 0.025*\"64\"\n",
      "2022-02-28 14:09:28,186 : INFO : topic #26 (0.013): 0.266*\"34\" + 0.256*\"83\" + 0.197*\"35\" + 0.089*\"611\" + 0.064*\"1015\" + 0.024*\"69\" + 0.012*\"1057\" + 0.011*\"404\" + 0.008*\"0\" + 0.007*\"254\"\n",
      "2022-02-28 14:09:28,187 : INFO : topic diff=0.379051, rho=0.466151\n",
      "2022-02-28 14:09:29,153 : INFO : -6.783 per-word bound, 110.1 perplexity estimate based on a held-out corpus of 1204 documents with 49783 words\n",
      "2022-02-28 14:09:29,154 : INFO : PROGRESS: pass 2, at document #3204/3204\n",
      "2022-02-28 14:09:29,949 : INFO : optimized alpha [0.010424057, 0.010048466, 0.010504632, 0.010108262, 0.010034745, 0.010099622, 0.010862053, 0.010849574, 0.009815331, 0.010677294, 0.010253509, 0.010211474, 0.010597674, 0.010630623, 0.010086381, 0.010051819, 0.009997395, 0.009963665, 0.010654046, 0.010407529, 0.010354508, 0.010366365, 0.010032329, 0.010532917, 0.00993483, 0.010338733, 0.01390137, 0.010165643, 0.010693386, 0.01059497, 0.010065091, 0.00998911, 0.010691784, 0.010322315, 0.009904395, 0.01037629, 0.010187289, 0.010086119, 0.010138231, 0.010291872, 0.010193203, 0.0103496015, 0.010398053, 0.010974382, 0.010197197, 0.010463741, 0.0104510505, 0.010229479, 0.010332127, 0.01058525, 0.011112489, 0.0104338685, 0.0099825505, 0.010738006, 0.009913802, 0.0100409305, 0.010334493, 0.010290778, 0.009598591, 0.009918751, 0.0104439715, 0.009799289, 0.010068166, 0.010413278, 0.010204883, 0.010450301, 0.009993446, 0.0101483725, 0.010033373, 0.010737211, 0.010061028, 0.01040713, 0.010829846, 0.010306347, 0.010186805, 0.00982568, 0.010251829, 0.010685667, 0.009782876, 0.010387033, 0.010261645, 0.010835295, 0.010407464, 0.010327263, 0.010776855, 0.0107308095, 0.009821937, 0.010168681, 0.010287012, 0.010312729, 0.010037813, 0.010042366, 0.010412452, 0.009821058, 0.010062374, 0.009902407, 0.010026989, 0.010029245, 0.010071784, 0.010123863]\n",
      "2022-02-28 14:09:29,956 : INFO : merging changes from 1204 documents into a model of 3204 documents\n",
      "2022-02-28 14:09:29,962 : INFO : topic #58 (0.010): 0.073*\"50\" + 0.054*\"136\" + 0.052*\"6\" + 0.042*\"912\" + 0.041*\"98\" + 0.032*\"640\" + 0.031*\"422\" + 0.022*\"998\" + 0.020*\"472\" + 0.018*\"283\"\n",
      "2022-02-28 14:09:29,963 : INFO : topic #61 (0.010): 0.092*\"146\" + 0.063*\"50\" + 0.053*\"475\" + 0.034*\"621\" + 0.023*\"216\" + 0.023*\"0\" + 0.022*\"57\" + 0.021*\"400\" + 0.019*\"849\" + 0.019*\"49\"\n"
     ]
    },
    {
     "name": "stderr",
     "output_type": "stream",
     "text": [
      "2022-02-28 14:09:29,964 : INFO : topic #43 (0.011): 0.086*\"50\" + 0.048*\"512\" + 0.029*\"49\" + 0.027*\"1024\" + 0.027*\"298\" + 0.025*\"518\" + 0.024*\"0\" + 0.024*\"412\" + 0.021*\"603\" + 0.019*\"276\"\n",
      "2022-02-28 14:09:29,965 : INFO : topic #50 (0.011): 0.102*\"491\" + 0.099*\"20\" + 0.090*\"99\" + 0.075*\"571\" + 0.070*\"231\" + 0.044*\"555\" + 0.035*\"812\" + 0.034*\"261\" + 0.032*\"418\" + 0.031*\"478\"\n",
      "2022-02-28 14:09:29,967 : INFO : topic #26 (0.014): 0.273*\"83\" + 0.270*\"34\" + 0.220*\"35\" + 0.087*\"611\" + 0.036*\"1015\" + 0.021*\"69\" + 0.015*\"1057\" + 0.012*\"404\" + 0.008*\"0\" + 0.006*\"536\"\n",
      "2022-02-28 14:09:29,969 : INFO : topic diff=0.505288, rho=0.466151\n",
      "2022-02-28 14:09:29,975 : INFO : PROGRESS: pass 3, at document #2000/3204\n",
      "2022-02-28 14:09:30,860 : INFO : optimized alpha [0.010586999, 0.010056489, 0.010530176, 0.010179984, 0.0100986175, 0.010085197, 0.011019855, 0.010816602, 0.009851226, 0.010684003, 0.010189004, 0.010421952, 0.010530794, 0.010689386, 0.0100807985, 0.010181899, 0.01003328, 0.009944259, 0.010813865, 0.010376021, 0.010397893, 0.010316419, 0.010220073, 0.010478712, 0.010100352, 0.010523177, 0.015401658, 0.010119067, 0.0106886495, 0.010562238, 0.0100134, 0.009949194, 0.010656846, 0.010335025, 0.009956155, 0.010512216, 0.010251015, 0.010181487, 0.01012752, 0.010385835, 0.010200973, 0.010317009, 0.010413561, 0.010924325, 0.010157597, 0.010593014, 0.010509173, 0.010166357, 0.010435781, 0.010716005, 0.011469206, 0.010469806, 0.010154253, 0.010747006, 0.009893595, 0.010056812, 0.01033425, 0.010302311, 0.0095643625, 0.009863244, 0.010437689, 0.009770888, 0.010096769, 0.010527094, 0.01018078, 0.010508333, 0.01001042, 0.010133973, 0.009986102, 0.010898602, 0.0101582995, 0.010476086, 0.010912497, 0.010300524, 0.010149749, 0.00975899, 0.010428709, 0.010784482, 0.00978788, 0.010324778, 0.010223225, 0.011043137, 0.010426123, 0.010388349, 0.010727791, 0.0106954705, 0.009953878, 0.0101672085, 0.010299157, 0.010267776, 0.00999577, 0.0100905765, 0.010375774, 0.009854335, 0.010122117, 0.009838757, 0.010022186, 0.009952198, 0.010077366, 0.010141256]\n",
      "2022-02-28 14:09:30,866 : INFO : merging changes from 2000 documents into a model of 3204 documents\n",
      "2022-02-28 14:09:30,872 : INFO : topic #58 (0.010): 0.076*\"50\" + 0.060*\"136\" + 0.048*\"6\" + 0.032*\"422\" + 0.029*\"912\" + 0.027*\"98\" + 0.026*\"640\" + 0.018*\"652\" + 0.018*\"998\" + 0.017*\"134\"\n",
      "2022-02-28 14:09:30,873 : INFO : topic #61 (0.010): 0.098*\"146\" + 0.067*\"50\" + 0.054*\"475\" + 0.027*\"621\" + 0.023*\"400\" + 0.021*\"0\" + 0.020*\"57\" + 0.019*\"216\" + 0.019*\"49\" + 0.018*\"532\"\n",
      "2022-02-28 14:09:30,874 : INFO : topic #81 (0.011): 0.173*\"3\" + 0.064*\"50\" + 0.061*\"13\" + 0.033*\"0\" + 0.026*\"580\" + 0.021*\"498\" + 0.020*\"581\" + 0.018*\"354\" + 0.016*\"154\" + 0.016*\"594\"\n",
      "2022-02-28 14:09:30,876 : INFO : topic #50 (0.011): 0.132*\"99\" + 0.104*\"20\" + 0.094*\"491\" + 0.076*\"231\" + 0.060*\"555\" + 0.048*\"571\" + 0.040*\"261\" + 0.033*\"265\" + 0.030*\"478\" + 0.024*\"812\"\n",
      "2022-02-28 14:09:30,877 : INFO : topic #26 (0.015): 0.278*\"34\" + 0.264*\"83\" + 0.216*\"35\" + 0.084*\"611\" + 0.058*\"1015\" + 0.019*\"69\" + 0.012*\"1057\" + 0.009*\"404\" + 0.007*\"0\" + 0.007*\"1018\"\n",
      "2022-02-28 14:09:30,879 : INFO : topic diff=0.519105, rho=0.422502\n",
      "2022-02-28 14:09:31,904 : INFO : -6.700 per-word bound, 104.0 perplexity estimate based on a held-out corpus of 1204 documents with 49783 words\n",
      "2022-02-28 14:09:31,905 : INFO : PROGRESS: pass 3, at document #3204/3204\n",
      "2022-02-28 14:09:32,679 : INFO : optimized alpha [0.010739763, 0.010160064, 0.010662146, 0.0103376545, 0.01022414, 0.010196285, 0.0113758305, 0.011208701, 0.009882374, 0.010990537, 0.010332977, 0.010554329, 0.010843927, 0.010917568, 0.010241287, 0.010284842, 0.010211062, 0.010064703, 0.011168091, 0.01054301, 0.010550819, 0.010402955, 0.010334108, 0.01071949, 0.01012121, 0.010751822, 0.016364837, 0.010246869, 0.010858244, 0.010780733, 0.010094644, 0.010019122, 0.010845006, 0.01046581, 0.01004932, 0.01074984, 0.010299934, 0.010363502, 0.010277488, 0.010629543, 0.010376113, 0.010468943, 0.010594977, 0.011210244, 0.010351571, 0.010782521, 0.010751618, 0.010254504, 0.010507494, 0.010951291, 0.011696737, 0.010663131, 0.01022312, 0.010974383, 0.010086665, 0.010288733, 0.01051978, 0.010452856, 0.009585192, 0.009916889, 0.010682281, 0.009894429, 0.010250126, 0.010621745, 0.010267828, 0.010800914, 0.010132015, 0.010296579, 0.010130573, 0.0112297, 0.010303489, 0.010657272, 0.011180974, 0.010426436, 0.010271772, 0.009812581, 0.010583673, 0.011018501, 0.009792042, 0.010510186, 0.010417517, 0.011370423, 0.0106463265, 0.010602044, 0.0110761095, 0.010861989, 0.010018134, 0.010330417, 0.010525179, 0.010376764, 0.010023917, 0.01021795, 0.0106483335, 0.009964516, 0.010259045, 0.00988567, 0.010137062, 0.010039747, 0.010242136, 0.01029789]\n",
      "2022-02-28 14:09:32,686 : INFO : merging changes from 1204 documents into a model of 3204 documents\n",
      "2022-02-28 14:09:32,695 : INFO : topic #58 (0.010): 0.076*\"50\" + 0.070*\"136\" + 0.052*\"6\" + 0.041*\"640\" + 0.040*\"912\" + 0.039*\"98\" + 0.031*\"422\" + 0.023*\"998\" + 0.022*\"519\" + 0.019*\"283\"\n",
      "2022-02-28 14:09:32,698 : INFO : topic #75 (0.010): 0.066*\"50\" + 0.061*\"73\" + 0.039*\"981\" + 0.029*\"741\" + 0.025*\"970\" + 0.025*\"169\" + 0.023*\"41\" + 0.022*\"6\" + 0.021*\"316\" + 0.019*\"1068\"\n",
      "2022-02-28 14:09:32,698 : INFO : topic #6 (0.011): 0.481*\"176\" + 0.060*\"57\" + 0.039*\"679\" + 0.030*\"220\" + 0.028*\"172\" + 0.025*\"13\" + 0.024*\"317\" + 0.021*\"680\" + 0.021*\"140\" + 0.018*\"477\"\n",
      "2022-02-28 14:09:32,699 : INFO : topic #50 (0.012): 0.115*\"491\" + 0.109*\"20\" + 0.105*\"99\" + 0.076*\"231\" + 0.051*\"555\" + 0.048*\"571\" + 0.036*\"261\" + 0.034*\"478\" + 0.034*\"812\" + 0.033*\"265\"\n",
      "2022-02-28 14:09:32,700 : INFO : topic #26 (0.016): 0.280*\"34\" + 0.276*\"83\" + 0.233*\"35\" + 0.082*\"611\" + 0.035*\"1015\" + 0.017*\"69\" + 0.013*\"1057\" + 0.010*\"404\" + 0.008*\"0\" + 0.005*\"536\"\n",
      "2022-02-28 14:09:32,701 : INFO : topic diff=0.631144, rho=0.422502\n",
      "2022-02-28 14:09:32,709 : INFO : PROGRESS: pass 4, at document #2000/3204\n",
      "2022-02-28 14:09:33,557 : INFO : optimized alpha [0.010887969, 0.010175581, 0.01069201, 0.010424267, 0.010297425, 0.010195165, 0.011532058, 0.011176482, 0.009931626, 0.011007431, 0.010283754, 0.010766503, 0.010785807, 0.01099486, 0.01023964, 0.01040824, 0.010279598, 0.010058652, 0.011332914, 0.010515538, 0.0105949165, 0.010370149, 0.0105648, 0.010667951, 0.01033395, 0.010942033, 0.017918076, 0.010206276, 0.010872829, 0.010755671, 0.010057997, 0.009997031, 0.010814251, 0.0104877995, 0.0101131955, 0.010889083, 0.010373548, 0.010506384, 0.010289433, 0.010732943, 0.010392795, 0.010459235, 0.010614989, 0.011172786, 0.0103202555, 0.010926059, 0.01081931, 0.010205527, 0.010612041, 0.011090202, 0.012036798, 0.01071231, 0.010439364, 0.01097505, 0.010080892, 0.010322286, 0.010535229, 0.01046314, 0.009574002, 0.009878905, 0.0106856795, 0.009885768, 0.010282299, 0.010754846, 0.010244177, 0.010898338, 0.01014175, 0.01030309, 0.010100835, 0.011392041, 0.010424088, 0.010718791, 0.011254615, 0.010429221, 0.010239678, 0.009760361, 0.010774553, 0.011131801, 0.009801719, 0.010466659, 0.0103893755, 0.011597919, 0.0106708985, 0.010660054, 0.01103852, 0.010852648, 0.010143282, 0.010347007, 0.010554088, 0.010337885, 0.009988709, 0.010264493, 0.010620871, 0.010005097, 0.010330534, 0.009838405, 0.010142669, 0.009981787, 0.010264937, 0.010317633]\n",
      "2022-02-28 14:09:33,564 : INFO : merging changes from 2000 documents into a model of 3204 documents\n",
      "2022-02-28 14:09:33,571 : INFO : topic #58 (0.010): 0.077*\"50\" + 0.076*\"136\" + 0.049*\"6\" + 0.033*\"640\" + 0.032*\"422\" + 0.029*\"912\" + 0.027*\"98\" + 0.022*\"519\" + 0.020*\"283\" + 0.019*\"482\"\n",
      "2022-02-28 14:09:33,572 : INFO : topic #75 (0.010): 0.066*\"50\" + 0.065*\"73\" + 0.032*\"981\" + 0.025*\"169\" + 0.023*\"741\" + 0.022*\"316\" + 0.022*\"970\" + 0.021*\"585\" + 0.021*\"6\" + 0.020*\"41\"\n",
      "2022-02-28 14:09:33,575 : INFO : topic #81 (0.012): 0.189*\"3\" + 0.069*\"50\" + 0.066*\"13\" + 0.032*\"0\" + 0.026*\"580\" + 0.021*\"498\" + 0.020*\"581\" + 0.017*\"154\" + 0.017*\"594\" + 0.016*\"354\"\n",
      "2022-02-28 14:09:33,577 : INFO : topic #50 (0.012): 0.140*\"99\" + 0.111*\"20\" + 0.103*\"491\" + 0.080*\"231\" + 0.065*\"555\" + 0.040*\"261\" + 0.036*\"265\" + 0.034*\"571\" + 0.032*\"478\" + 0.025*\"490\"\n",
      "2022-02-28 14:09:33,579 : INFO : topic #26 (0.018): 0.288*\"34\" + 0.267*\"83\" + 0.233*\"35\" + 0.077*\"611\" + 0.049*\"1015\" + 0.014*\"69\" + 0.012*\"1057\" + 0.009*\"404\" + 0.007*\"0\" + 0.007*\"1018\"\n"
     ]
    },
    {
     "name": "stderr",
     "output_type": "stream",
     "text": [
      "2022-02-28 14:09:33,580 : INFO : topic diff=0.618805, rho=0.389191\n",
      "2022-02-28 14:09:34,495 : INFO : -6.638 per-word bound, 99.6 perplexity estimate based on a held-out corpus of 1204 documents with 49783 words\n",
      "2022-02-28 14:09:34,495 : INFO : PROGRESS: pass 4, at document #3204/3204\n",
      "2022-02-28 14:09:35,259 : INFO : optimized alpha [0.011015425, 0.010284937, 0.010811, 0.010577696, 0.010413988, 0.010311893, 0.011876499, 0.011556469, 0.0099736545, 0.011294912, 0.010427929, 0.010906321, 0.011089441, 0.011208246, 0.010405607, 0.010516827, 0.010472061, 0.01017703, 0.011694354, 0.0106706945, 0.010733741, 0.010464614, 0.01076288, 0.010864526, 0.010358447, 0.011209674, 0.01901856, 0.010352212, 0.011041406, 0.010955793, 0.010150441, 0.010075666, 0.011007056, 0.010616265, 0.010186404, 0.011153865, 0.010429153, 0.0107099535, 0.010469025, 0.010985619, 0.010572676, 0.010597201, 0.010787169, 0.0114543885, 0.010541443, 0.011113143, 0.01103552, 0.010311352, 0.010688379, 0.011310395, 0.012229631, 0.010895894, 0.0105118705, 0.0111654345, 0.010300133, 0.010566064, 0.010728348, 0.010602961, 0.009606863, 0.0099393735, 0.010917852, 0.010039524, 0.010438295, 0.010848982, 0.010318668, 0.011198965, 0.010278017, 0.010450993, 0.010235275, 0.01173887, 0.010551981, 0.010877198, 0.011498726, 0.010559777, 0.010356434, 0.009804671, 0.010925514, 0.011332577, 0.00980676, 0.010659676, 0.0105838915, 0.0119269965, 0.010879485, 0.010880169, 0.011376393, 0.0110113295, 0.010205636, 0.010492194, 0.010803127, 0.010436179, 0.0100292135, 0.010389373, 0.010882915, 0.01012355, 0.01046799, 0.009918476, 0.010252808, 0.010066957, 0.010441704, 0.010476774]\n",
      "2022-02-28 14:09:35,265 : INFO : merging changes from 1204 documents into a model of 3204 documents\n",
      "2022-02-28 14:09:35,271 : INFO : topic #58 (0.010): 0.086*\"136\" + 0.076*\"50\" + 0.052*\"6\" + 0.043*\"640\" + 0.038*\"912\" + 0.038*\"98\" + 0.030*\"422\" + 0.027*\"519\" + 0.025*\"998\" + 0.021*\"283\"\n",
      "2022-02-28 14:09:35,272 : INFO : topic #75 (0.010): 0.070*\"50\" + 0.064*\"73\" + 0.041*\"981\" + 0.032*\"741\" + 0.029*\"169\" + 0.027*\"970\" + 0.025*\"316\" + 0.021*\"6\" + 0.021*\"233\" + 0.019*\"413\"\n",
      "2022-02-28 14:09:35,272 : INFO : topic #81 (0.012): 0.189*\"3\" + 0.073*\"50\" + 0.071*\"13\" + 0.034*\"580\" + 0.029*\"0\" + 0.021*\"498\" + 0.020*\"581\" + 0.016*\"154\" + 0.016*\"594\" + 0.016*\"673\"\n",
      "2022-02-28 14:09:35,274 : INFO : topic #50 (0.012): 0.123*\"491\" + 0.116*\"20\" + 0.114*\"99\" + 0.079*\"231\" + 0.056*\"555\" + 0.037*\"261\" + 0.035*\"265\" + 0.034*\"478\" + 0.033*\"418\" + 0.031*\"812\"\n",
      "2022-02-28 14:09:35,276 : INFO : topic #26 (0.019): 0.290*\"34\" + 0.275*\"83\" + 0.248*\"35\" + 0.075*\"611\" + 0.031*\"1015\" + 0.013*\"1057\" + 0.012*\"69\" + 0.009*\"404\" + 0.008*\"0\" + 0.005*\"536\"\n",
      "2022-02-28 14:09:35,277 : INFO : topic diff=0.682987, rho=0.389191\n",
      "2022-02-28 14:09:35,283 : INFO : PROGRESS: pass 5, at document #2000/3204\n",
      "2022-02-28 14:09:36,114 : INFO : optimized alpha [0.011151394, 0.0103108175, 0.010835072, 0.010664906, 0.010492338, 0.010320413, 0.012024098, 0.011524965, 0.010023855, 0.011313277, 0.010395304, 0.011115994, 0.011046896, 0.011282537, 0.010407386, 0.010646773, 0.0105533125, 0.010178794, 0.011865554, 0.0106527805, 0.010772886, 0.010434485, 0.011020828, 0.010825731, 0.0107204085, 0.0114132995, 0.020600352, 0.0103314975, 0.01107318, 0.010949619, 0.010131655, 0.010079511, 0.010979697, 0.010650466, 0.010254091, 0.011299493, 0.010506198, 0.010874411, 0.010489184, 0.011094483, 0.010605049, 0.01059405, 0.010813362, 0.01142807, 0.01052447, 0.011256876, 0.011116691, 0.010268162, 0.01079074, 0.011455753, 0.012569381, 0.010957446, 0.010742066, 0.011165348, 0.0103086885, 0.010625364, 0.010744079, 0.010608494, 0.009599159, 0.009914021, 0.010922003, 0.0100421915, 0.010481444, 0.011012454, 0.010297321, 0.011296386, 0.0102926325, 0.0104607465, 0.010216919, 0.0118948035, 0.010681122, 0.010930747, 0.01156722, 0.010568117, 0.010330541, 0.009759257, 0.011118763, 0.0114435535, 0.0098239845, 0.010630112, 0.010558716, 0.0121729, 0.010905611, 0.010937952, 0.011340463, 0.011002367, 0.010327409, 0.010515357, 0.010833059, 0.010419829, 0.010012301, 0.010440452, 0.01086348, 0.01017814, 0.010548618, 0.009884337, 0.010261903, 0.010017511, 0.010472028, 0.010500542]\n",
      "2022-02-28 14:09:36,121 : INFO : merging changes from 2000 documents into a model of 3204 documents\n",
      "2022-02-28 14:09:36,129 : INFO : topic #58 (0.010): 0.090*\"136\" + 0.078*\"50\" + 0.050*\"6\" + 0.035*\"640\" + 0.032*\"422\" + 0.029*\"912\" + 0.027*\"98\" + 0.025*\"519\" + 0.021*\"283\" + 0.021*\"998\"\n",
      "2022-02-28 14:09:36,130 : INFO : topic #75 (0.010): 0.070*\"50\" + 0.069*\"73\" + 0.035*\"981\" + 0.029*\"169\" + 0.027*\"316\" + 0.026*\"741\" + 0.024*\"970\" + 0.021*\"6\" + 0.020*\"233\" + 0.019*\"585\"\n",
      "2022-02-28 14:09:36,131 : INFO : topic #81 (0.012): 0.201*\"3\" + 0.074*\"50\" + 0.069*\"13\" + 0.031*\"0\" + 0.026*\"580\" + 0.020*\"498\" + 0.020*\"581\" + 0.018*\"154\" + 0.017*\"594\" + 0.014*\"354\"\n",
      "2022-02-28 14:09:36,133 : INFO : topic #50 (0.013): 0.146*\"99\" + 0.118*\"20\" + 0.110*\"491\" + 0.082*\"231\" + 0.067*\"555\" + 0.040*\"261\" + 0.038*\"265\" + 0.032*\"478\" + 0.026*\"490\" + 0.023*\"418\"\n",
      "2022-02-28 14:09:36,134 : INFO : topic #26 (0.021): 0.301*\"34\" + 0.269*\"83\" + 0.259*\"35\" + 0.060*\"611\" + 0.032*\"1015\" + 0.012*\"1057\" + 0.010*\"69\" + 0.008*\"404\" + 0.008*\"0\" + 0.007*\"1018\"\n",
      "2022-02-28 14:09:36,135 : INFO : topic diff=0.631856, rho=0.362690\n",
      "2022-02-28 14:09:37,101 : INFO : -6.594 per-word bound, 96.6 perplexity estimate based on a held-out corpus of 1204 documents with 49783 words\n",
      "2022-02-28 14:09:37,101 : INFO : PROGRESS: pass 5, at document #3204/3204\n",
      "2022-02-28 14:09:37,893 : INFO : optimized alpha [0.011243705, 0.010419833, 0.010956771, 0.010818957, 0.010611447, 0.010430131, 0.012360296, 0.011879567, 0.010075478, 0.011592564, 0.010543751, 0.011253719, 0.011337903, 0.011497855, 0.010569959, 0.010754898, 0.010741508, 0.010290118, 0.012236879, 0.010801931, 0.010933107, 0.010523524, 0.011272224, 0.011023915, 0.010749922, 0.011685685, 0.021837648, 0.010478589, 0.011252227, 0.011151563, 0.010243682, 0.0101536475, 0.011161375, 0.010777803, 0.01031956, 0.011557976, 0.010564727, 0.011090131, 0.010684032, 0.011344259, 0.010768263, 0.010740096, 0.0109788645, 0.011680498, 0.010730344, 0.011433222, 0.01132771, 0.01037725, 0.010861791, 0.011677842, 0.012742585, 0.011163506, 0.010824779, 0.011341151, 0.010534628, 0.0108693335, 0.010932595, 0.010740009, 0.009653886, 0.010004655, 0.011158051, 0.010211531, 0.010647356, 0.011113601, 0.010367571, 0.011610437, 0.010430163, 0.0106062805, 0.010349783, 0.012226467, 0.010801056, 0.0110800285, 0.011794534, 0.010694028, 0.01044977, 0.009807755, 0.011270779, 0.011619008, 0.009838716, 0.010831476, 0.010729161, 0.012514155, 0.011115383, 0.011165714, 0.011650777, 0.011162011, 0.010394758, 0.010667868, 0.011068904, 0.010515703, 0.010060225, 0.010570427, 0.011121227, 0.010301771, 0.010700115, 0.009969027, 0.010374817, 0.010104107, 0.010632284, 0.010647284]\n",
      "2022-02-28 14:09:37,901 : INFO : merging changes from 1204 documents into a model of 3204 documents\n",
      "2022-02-28 14:09:37,909 : INFO : topic #58 (0.010): 0.100*\"136\" + 0.077*\"50\" + 0.052*\"6\" + 0.048*\"640\" + 0.037*\"912\" + 0.036*\"98\" + 0.030*\"422\" + 0.030*\"519\" + 0.025*\"998\" + 0.020*\"589\"\n",
      "2022-02-28 14:09:37,910 : INFO : topic #75 (0.010): 0.074*\"50\" + 0.068*\"73\" + 0.042*\"981\" + 0.034*\"741\" + 0.031*\"169\" + 0.028*\"316\" + 0.028*\"970\" + 0.025*\"233\" + 0.021*\"6\" + 0.020*\"40\"\n",
      "2022-02-28 14:09:37,911 : INFO : topic #81 (0.013): 0.199*\"3\" + 0.077*\"50\" + 0.073*\"13\" + 0.033*\"580\" + 0.028*\"0\" + 0.021*\"498\" + 0.020*\"581\" + 0.017*\"154\" + 0.017*\"673\" + 0.016*\"594\"\n",
      "2022-02-28 14:09:37,912 : INFO : topic #50 (0.013): 0.129*\"491\" + 0.123*\"20\" + 0.122*\"99\" + 0.081*\"231\" + 0.059*\"555\" + 0.037*\"265\" + 0.037*\"261\" + 0.034*\"478\" + 0.033*\"418\" + 0.029*\"490\"\n",
      "2022-02-28 14:09:37,913 : INFO : topic #26 (0.022): 0.303*\"34\" + 0.272*\"35\" + 0.270*\"83\" + 0.061*\"611\" + 0.020*\"1015\" + 0.013*\"1057\" + 0.009*\"404\" + 0.009*\"69\" + 0.008*\"0\" + 0.005*\"536\"\n",
      "2022-02-28 14:09:37,914 : INFO : topic diff=0.655706, rho=0.362690\n",
      "2022-02-28 14:09:37,925 : INFO : PROGRESS: pass 6, at document #2000/3204\n",
      "2022-02-28 14:09:38,775 : INFO : optimized alpha [0.011373038, 0.010458673, 0.01097949, 0.010907211, 0.010689383, 0.01044898, 0.012485857, 0.0118469, 0.010138855, 0.01161645, 0.010505651, 0.011458529, 0.011295736, 0.011563839, 0.010573107, 0.010889705, 0.010831233, 0.010295374, 0.01241108, 0.010779159, 0.010969853, 0.01050301, 0.011556713, 0.010984742, 0.011165878, 0.011907646, 0.023393333, 0.010464322, 0.011291678, 0.011148801, 0.010240403, 0.01015952, 0.011140774, 0.010813847, 0.010383922, 0.011694757, 0.010641673, 0.011264455, 0.010717034, 0.011453259, 0.010809645, 0.010748103, 0.011003268, 0.011658248, 0.010722692, 0.011574149, 0.011406338, 0.0103405425, 0.010960825, 0.011822477, 0.0130926985, 0.011232749, 0.011060409, 0.011336637, 0.010548932, 0.010947131, 0.010954219, 0.010748847, 0.009663808, 0.009984685, 0.011166563, 0.010234701, 0.010702386, 0.011288791, 0.010348173, 0.011720373, 0.010443737, 0.010617134, 0.01034848, 0.0123774, 0.010927726, 0.011136266, 0.011860651, 0.010707371, 0.010436294, 0.009769552, 0.01146753, 0.011728403, 0.009860818, 0.01082148, 0.010710514, 0.0127647305, 0.011139296, 0.011236897, 0.011624636, 0.011161076, 0.010510556, 0.010693136, 0.011111531, 0.010506149, 0.010050436, 0.01062589, 0.011103348, 0.010367554, 0.010789307, 0.009951264, 0.010390635, 0.010070447, 0.0106679825, 0.010669514]\n"
     ]
    },
    {
     "name": "stderr",
     "output_type": "stream",
     "text": [
      "2022-02-28 14:09:38,782 : INFO : merging changes from 2000 documents into a model of 3204 documents\n",
      "2022-02-28 14:09:38,789 : INFO : topic #58 (0.010): 0.104*\"136\" + 0.078*\"50\" + 0.051*\"6\" + 0.039*\"640\" + 0.031*\"422\" + 0.028*\"912\" + 0.028*\"519\" + 0.027*\"98\" + 0.026*\"589\" + 0.022*\"998\"\n",
      "2022-02-28 14:09:38,791 : INFO : topic #75 (0.010): 0.073*\"73\" + 0.073*\"50\" + 0.036*\"981\" + 0.030*\"169\" + 0.030*\"316\" + 0.028*\"741\" + 0.025*\"233\" + 0.024*\"970\" + 0.021*\"6\" + 0.019*\"413\"\n",
      "2022-02-28 14:09:38,792 : INFO : topic #81 (0.013): 0.208*\"3\" + 0.077*\"50\" + 0.072*\"13\" + 0.030*\"0\" + 0.026*\"580\" + 0.020*\"581\" + 0.020*\"498\" + 0.018*\"154\" + 0.017*\"594\" + 0.015*\"673\"\n",
      "2022-02-28 14:09:38,793 : INFO : topic #50 (0.013): 0.151*\"99\" + 0.125*\"20\" + 0.115*\"491\" + 0.083*\"231\" + 0.069*\"555\" + 0.040*\"265\" + 0.039*\"261\" + 0.032*\"478\" + 0.026*\"490\" + 0.024*\"418\"\n",
      "2022-02-28 14:09:38,794 : INFO : topic #26 (0.023): 0.311*\"34\" + 0.285*\"35\" + 0.265*\"83\" + 0.047*\"611\" + 0.018*\"1015\" + 0.012*\"1057\" + 0.009*\"404\" + 0.007*\"0\" + 0.007*\"69\" + 0.007*\"1018\"\n",
      "2022-02-28 14:09:38,795 : INFO : topic diff=0.584935, rho=0.340958\n",
      "2022-02-28 14:09:39,723 : INFO : -6.563 per-word bound, 94.5 perplexity estimate based on a held-out corpus of 1204 documents with 49783 words\n",
      "2022-02-28 14:09:39,724 : INFO : PROGRESS: pass 6, at document #3204/3204\n",
      "2022-02-28 14:09:40,504 : INFO : optimized alpha [0.011463127, 0.010564977, 0.011088594, 0.011065988, 0.010808408, 0.010567974, 0.012787683, 0.012196767, 0.010199306, 0.01188013, 0.010655551, 0.011591947, 0.011583309, 0.011772463, 0.0107275285, 0.0110010905, 0.011025853, 0.010415548, 0.012766503, 0.010923992, 0.01112514, 0.010599705, 0.011825293, 0.011173065, 0.011187007, 0.012196697, 0.024802584, 0.010613154, 0.01148167, 0.011347279, 0.0103614265, 0.010238819, 0.011322957, 0.010943976, 0.010448884, 0.011955532, 0.010703171, 0.011508928, 0.01091782, 0.011705147, 0.010986302, 0.010889934, 0.011163466, 0.011895188, 0.010955342, 0.01173506, 0.011604195, 0.0104411915, 0.011024623, 0.0120578585, 0.013263469, 0.011422757, 0.011140658, 0.01150019, 0.010770674, 0.011205605, 0.011142713, 0.010882797, 0.009721524, 0.010073766, 0.011394933, 0.010416367, 0.0108693605, 0.011393648, 0.010421069, 0.012046172, 0.010574177, 0.010764311, 0.010477591, 0.012689594, 0.011044217, 0.011271627, 0.012077241, 0.010829815, 0.010546593, 0.009821851, 0.011624768, 0.011881445, 0.009889639, 0.011019327, 0.010875359, 0.013120055, 0.01134522, 0.0114669185, 0.011921436, 0.011312636, 0.010573871, 0.010834729, 0.0113589335, 0.010615429, 0.010099257, 0.010746132, 0.011346051, 0.010487672, 0.010951696, 0.010046125, 0.010500819, 0.010164326, 0.010823285, 0.010805882]\n",
      "2022-02-28 14:09:40,511 : INFO : merging changes from 1204 documents into a model of 3204 documents\n",
      "2022-02-28 14:09:40,519 : INFO : topic #58 (0.010): 0.113*\"136\" + 0.077*\"50\" + 0.052*\"6\" + 0.051*\"640\" + 0.036*\"912\" + 0.035*\"98\" + 0.031*\"519\" + 0.030*\"422\" + 0.026*\"589\" + 0.026*\"998\"\n",
      "2022-02-28 14:09:40,520 : INFO : topic #75 (0.010): 0.077*\"50\" + 0.072*\"73\" + 0.043*\"981\" + 0.035*\"741\" + 0.032*\"169\" + 0.030*\"316\" + 0.028*\"970\" + 0.028*\"233\" + 0.021*\"6\" + 0.021*\"40\"\n",
      "2022-02-28 14:09:40,522 : INFO : topic #81 (0.013): 0.207*\"3\" + 0.081*\"50\" + 0.076*\"13\" + 0.032*\"580\" + 0.027*\"0\" + 0.020*\"498\" + 0.020*\"581\" + 0.018*\"154\" + 0.017*\"673\" + 0.017*\"594\"\n",
      "2022-02-28 14:09:40,523 : INFO : topic #50 (0.013): 0.132*\"491\" + 0.130*\"20\" + 0.127*\"99\" + 0.082*\"231\" + 0.061*\"555\" + 0.039*\"265\" + 0.036*\"261\" + 0.035*\"478\" + 0.032*\"418\" + 0.029*\"490\"\n",
      "2022-02-28 14:09:40,524 : INFO : topic #26 (0.025): 0.314*\"34\" + 0.293*\"35\" + 0.263*\"83\" + 0.050*\"611\" + 0.013*\"1057\" + 0.012*\"1015\" + 0.009*\"404\" + 0.008*\"0\" + 0.006*\"69\" + 0.005*\"536\"\n",
      "2022-02-28 14:09:40,525 : INFO : topic diff=0.590555, rho=0.340958\n",
      "2022-02-28 14:09:40,532 : INFO : PROGRESS: pass 7, at document #2000/3204\n",
      "2022-02-28 14:09:41,358 : INFO : optimized alpha [0.011585149, 0.010608972, 0.011114042, 0.011161013, 0.010900391, 0.010601342, 0.012901216, 0.012163062, 0.010266611, 0.0119015565, 0.010622784, 0.011793224, 0.011541358, 0.011844677, 0.010732037, 0.011121648, 0.01112223, 0.010430661, 0.012952704, 0.010905976, 0.01116165, 0.010582295, 0.012126263, 0.011138905, 0.011621562, 0.012427895, 0.026469994, 0.010622136, 0.01153594, 0.011347638, 0.010363354, 0.010249803, 0.011310225, 0.010980002, 0.010512172, 0.012098135, 0.0107890535, 0.0116919875, 0.010959355, 0.011816745, 0.011039634, 0.01090821, 0.011191884, 0.011872963, 0.010946973, 0.011873986, 0.0116901565, 0.010417128, 0.011115819, 0.01219856, 0.013617012, 0.011492216, 0.011373703, 0.01150123, 0.010786903, 0.01128862, 0.011168159, 0.01089287, 0.009734578, 0.010061823, 0.011398528, 0.010456623, 0.010932148, 0.011569673, 0.0104101, 0.01215885, 0.010585343, 0.010777999, 0.010476385, 0.012840539, 0.011169153, 0.011330824, 0.012145708, 0.010837192, 0.0105476165, 0.009794547, 0.011826012, 0.011995706, 0.009919315, 0.011007359, 0.010859019, 0.013382808, 0.011369115, 0.011536248, 0.01189479, 0.011324571, 0.010686237, 0.010858595, 0.011404339, 0.010623936, 0.010097276, 0.010800696, 0.011331489, 0.0105571905, 0.01104221, 0.010036252, 0.010519349, 0.010136209, 0.010862306, 0.010821772]\n",
      "2022-02-28 14:09:41,364 : INFO : merging changes from 2000 documents into a model of 3204 documents\n",
      "2022-02-28 14:09:41,370 : INFO : topic #58 (0.010): 0.114*\"136\" + 0.078*\"50\" + 0.051*\"6\" + 0.043*\"640\" + 0.031*\"422\" + 0.030*\"519\" + 0.029*\"589\" + 0.028*\"912\" + 0.027*\"98\" + 0.022*\"998\"\n",
      "2022-02-28 14:09:41,372 : INFO : topic #75 (0.010): 0.078*\"73\" + 0.076*\"50\" + 0.036*\"981\" + 0.032*\"169\" + 0.031*\"316\" + 0.030*\"233\" + 0.029*\"741\" + 0.024*\"970\" + 0.021*\"6\" + 0.020*\"413\"\n",
      "2022-02-28 14:09:41,373 : INFO : topic #81 (0.013): 0.215*\"3\" + 0.081*\"50\" + 0.075*\"13\" + 0.029*\"0\" + 0.026*\"580\" + 0.020*\"581\" + 0.020*\"498\" + 0.019*\"154\" + 0.017*\"594\" + 0.016*\"673\"\n",
      "2022-02-28 14:09:41,374 : INFO : topic #50 (0.014): 0.154*\"99\" + 0.131*\"20\" + 0.118*\"491\" + 0.083*\"231\" + 0.069*\"555\" + 0.042*\"265\" + 0.039*\"261\" + 0.032*\"478\" + 0.026*\"490\" + 0.024*\"418\"\n",
      "2022-02-28 14:09:41,375 : INFO : topic #26 (0.026): 0.322*\"34\" + 0.304*\"35\" + 0.260*\"83\" + 0.037*\"611\" + 0.013*\"1057\" + 0.010*\"1015\" + 0.009*\"404\" + 0.007*\"0\" + 0.007*\"1018\" + 0.005*\"536\"\n",
      "2022-02-28 14:09:41,376 : INFO : topic diff=0.517185, rho=0.322715\n",
      "2022-02-28 14:09:42,324 : INFO : -6.537 per-word bound, 92.9 perplexity estimate based on a held-out corpus of 1204 documents with 49783 words\n",
      "2022-02-28 14:09:42,325 : INFO : PROGRESS: pass 7, at document #3204/3204\n",
      "2022-02-28 14:09:43,150 : INFO : optimized alpha [0.011664371, 0.010710404, 0.011221195, 0.011333932, 0.011016943, 0.010720702, 0.0131887095, 0.012497326, 0.010329721, 0.01217096, 0.010771885, 0.011929519, 0.011808284, 0.012044901, 0.010888345, 0.011236697, 0.011324015, 0.010548267, 0.013297876, 0.011035508, 0.011313294, 0.010686181, 0.012422898, 0.011337047, 0.011637719, 0.012721352, 0.028003903, 0.010770359, 0.011721243, 0.011537696, 0.010495848, 0.010325684, 0.011475515, 0.011113217, 0.010576907, 0.012352786, 0.010856387, 0.011984182, 0.011169806, 0.0120720025, 0.011220805, 0.011043819, 0.011351286, 0.01210643, 0.01117906, 0.012024488, 0.011879738, 0.010527653, 0.011176354, 0.012437923, 0.013790028, 0.011692754, 0.011449134, 0.011651388, 0.011008664, 0.011540913, 0.011351697, 0.011017891, 0.009803063, 0.010171552, 0.011633176, 0.010645137, 0.011094977, 0.011666175, 0.010482806, 0.012481158, 0.01071858, 0.010921619, 0.010591246, 0.013117987, 0.011274054, 0.0114632435, 0.012356611, 0.010974518, 0.010664506, 0.009847571, 0.011976256, 0.012135319, 0.009966047, 0.011211797, 0.011016585, 0.013743067, 0.011569446, 0.011781977, 0.012189889, 0.011485092, 0.010746142, 0.010996875, 0.011642264, 0.0107342545, 0.010141693, 0.010918399, 0.011573509, 0.010683341, 0.011197807, 0.010132422, 0.010618895, 0.010231552, 0.011010834, 0.010955018]\n",
      "2022-02-28 14:09:43,158 : INFO : merging changes from 1204 documents into a model of 3204 documents\n",
      "2022-02-28 14:09:43,166 : INFO : topic #58 (0.010): 0.121*\"136\" + 0.077*\"50\" + 0.052*\"640\" + 0.052*\"6\" + 0.034*\"912\" + 0.034*\"98\" + 0.032*\"519\" + 0.029*\"422\" + 0.029*\"589\" + 0.025*\"998\"\n",
      "2022-02-28 14:09:43,166 : INFO : topic #75 (0.010): 0.080*\"50\" + 0.076*\"73\" + 0.043*\"981\" + 0.036*\"741\" + 0.033*\"169\" + 0.033*\"316\" + 0.033*\"233\" + 0.029*\"970\" + 0.021*\"6\" + 0.020*\"413\"\n"
     ]
    },
    {
     "name": "stderr",
     "output_type": "stream",
     "text": [
      "2022-02-28 14:09:43,167 : INFO : topic #81 (0.014): 0.214*\"3\" + 0.084*\"50\" + 0.077*\"13\" + 0.032*\"580\" + 0.027*\"0\" + 0.020*\"581\" + 0.020*\"498\" + 0.018*\"154\" + 0.017*\"673\" + 0.017*\"594\"\n",
      "2022-02-28 14:09:43,169 : INFO : topic #50 (0.014): 0.137*\"20\" + 0.135*\"491\" + 0.131*\"99\" + 0.081*\"231\" + 0.062*\"555\" + 0.040*\"265\" + 0.037*\"261\" + 0.035*\"478\" + 0.032*\"418\" + 0.029*\"490\"\n",
      "2022-02-28 14:09:43,171 : INFO : topic #26 (0.028): 0.325*\"34\" + 0.309*\"35\" + 0.255*\"83\" + 0.040*\"611\" + 0.013*\"1057\" + 0.009*\"404\" + 0.008*\"0\" + 0.006*\"1015\" + 0.005*\"536\" + 0.005*\"1018\"\n",
      "2022-02-28 14:09:43,172 : INFO : topic diff=0.516507, rho=0.322715\n",
      "2022-02-28 14:09:43,180 : INFO : PROGRESS: pass 8, at document #2000/3204\n",
      "2022-02-28 14:09:43,999 : INFO : optimized alpha [0.0117783435, 0.010752698, 0.011249169, 0.011428757, 0.011112264, 0.010756017, 0.013299337, 0.012468525, 0.010405642, 0.012194026, 0.0107437875, 0.012124601, 0.0117721455, 0.0121289035, 0.010900759, 0.011365041, 0.011428828, 0.010562778, 0.01348236, 0.0110286055, 0.011349866, 0.010674833, 0.012734166, 0.011309004, 0.012067045, 0.0129488595, 0.02977328, 0.010778758, 0.011787669, 0.011542872, 0.010502574, 0.01034614, 0.011471869, 0.011152827, 0.010637836, 0.012499772, 0.010947505, 0.012182287, 0.011219405, 0.012182826, 0.011276778, 0.011066427, 0.011383622, 0.01208414, 0.011170048, 0.0121602025, 0.011965818, 0.010499962, 0.011262377, 0.012573549, 0.014137802, 0.011760862, 0.011675341, 0.011652227, 0.011026795, 0.011623812, 0.011377344, 0.011032667, 0.009823421, 0.010168139, 0.011628385, 0.010693392, 0.011168709, 0.011839998, 0.010469717, 0.012606645, 0.010737406, 0.010942886, 0.010595114, 0.01325934, 0.011403156, 0.01152004, 0.012442849, 0.010984807, 0.010668889, 0.009822305, 0.012176938, 0.012241598, 0.010010289, 0.011197942, 0.011002447, 0.014010686, 0.011595235, 0.011847935, 0.012175861, 0.011514205, 0.010860725, 0.011021312, 0.011692221, 0.01074605, 0.010143588, 0.010974078, 0.01155844, 0.010758242, 0.011293464, 0.010129643, 0.010640103, 0.010208284, 0.01105649, 0.01097184]\n",
      "2022-02-28 14:09:44,009 : INFO : merging changes from 2000 documents into a model of 3204 documents\n",
      "2022-02-28 14:09:44,017 : INFO : topic #75 (0.010): 0.079*\"73\" + 0.078*\"50\" + 0.037*\"981\" + 0.036*\"233\" + 0.034*\"169\" + 0.033*\"316\" + 0.031*\"741\" + 0.025*\"970\" + 0.021*\"6\" + 0.021*\"413\"\n",
      "2022-02-28 14:09:44,018 : INFO : topic #58 (0.010): 0.121*\"136\" + 0.077*\"50\" + 0.051*\"6\" + 0.046*\"640\" + 0.032*\"519\" + 0.032*\"589\" + 0.030*\"422\" + 0.028*\"912\" + 0.026*\"98\" + 0.022*\"998\"\n",
      "2022-02-28 14:09:44,020 : INFO : topic #81 (0.014): 0.221*\"3\" + 0.084*\"50\" + 0.076*\"13\" + 0.028*\"0\" + 0.026*\"580\" + 0.020*\"581\" + 0.019*\"498\" + 0.019*\"154\" + 0.017*\"594\" + 0.016*\"673\"\n",
      "2022-02-28 14:09:44,021 : INFO : topic #50 (0.014): 0.156*\"99\" + 0.137*\"20\" + 0.121*\"491\" + 0.082*\"231\" + 0.070*\"555\" + 0.043*\"265\" + 0.039*\"261\" + 0.033*\"478\" + 0.027*\"490\" + 0.024*\"418\"\n",
      "2022-02-28 14:09:44,023 : INFO : topic #26 (0.030): 0.331*\"34\" + 0.317*\"35\" + 0.255*\"83\" + 0.029*\"611\" + 0.012*\"1057\" + 0.009*\"404\" + 0.007*\"0\" + 0.007*\"1018\" + 0.005*\"536\" + 0.005*\"1015\"\n",
      "2022-02-28 14:09:44,024 : INFO : topic diff=0.447923, rho=0.307119\n",
      "2022-02-28 14:09:45,080 : INFO : -6.518 per-word bound, 91.6 perplexity estimate based on a held-out corpus of 1204 documents with 49783 words\n",
      "2022-02-28 14:09:45,081 : INFO : PROGRESS: pass 8, at document #3204/3204\n",
      "2022-02-28 14:09:45,999 : INFO : optimized alpha [0.011862902, 0.010849992, 0.011352106, 0.011598359, 0.011221238, 0.010876146, 0.0135776205, 0.012811652, 0.010466058, 0.012460644, 0.010895371, 0.012252061, 0.012029855, 0.0123250885, 0.0110510625, 0.011481159, 0.011617708, 0.010678444, 0.013832428, 0.011158815, 0.011504451, 0.010780251, 0.013066326, 0.011511159, 0.012078673, 0.013241168, 0.031412054, 0.010926858, 0.011978612, 0.011734853, 0.01062726, 0.010424361, 0.011642683, 0.0112837115, 0.010699915, 0.012755857, 0.011014755, 0.0124859335, 0.011439803, 0.012433092, 0.011462778, 0.01119409, 0.011530904, 0.012299608, 0.011405604, 0.012304616, 0.012145331, 0.010625307, 0.0113230925, 0.012808259, 0.014306475, 0.011960223, 0.011761359, 0.011793541, 0.0112579195, 0.011874292, 0.0115568945, 0.011147043, 0.00989687, 0.010278934, 0.011863881, 0.010872633, 0.0113255195, 0.011950204, 0.0105316555, 0.012923872, 0.010870951, 0.011095, 0.010708258, 0.013510793, 0.011509364, 0.01164123, 0.012649341, 0.011119433, 0.010781161, 0.009881214, 0.012333689, 0.012375636, 0.0100836065, 0.011403631, 0.011151082, 0.0143771935, 0.011788123, 0.012100752, 0.012461398, 0.01169259, 0.010920492, 0.011154091, 0.011931274, 0.010868733, 0.010194559, 0.011087122, 0.01179495, 0.010882185, 0.011449021, 0.010235211, 0.01073568, 0.010305203, 0.0112021845, 0.011099722]\n",
      "2022-02-28 14:09:46,005 : INFO : merging changes from 1204 documents into a model of 3204 documents\n",
      "2022-02-28 14:09:46,010 : INFO : topic #75 (0.010): 0.082*\"50\" + 0.076*\"73\" + 0.043*\"981\" + 0.038*\"233\" + 0.037*\"741\" + 0.035*\"316\" + 0.034*\"169\" + 0.029*\"970\" + 0.021*\"6\" + 0.020*\"413\"\n",
      "2022-02-28 14:09:46,011 : INFO : topic #58 (0.010): 0.125*\"136\" + 0.077*\"50\" + 0.053*\"640\" + 0.052*\"6\" + 0.033*\"912\" + 0.033*\"98\" + 0.033*\"589\" + 0.033*\"519\" + 0.028*\"422\" + 0.025*\"998\"\n",
      "2022-02-28 14:09:46,012 : INFO : topic #50 (0.014): 0.143*\"20\" + 0.137*\"491\" + 0.135*\"99\" + 0.081*\"231\" + 0.062*\"555\" + 0.041*\"265\" + 0.036*\"478\" + 0.036*\"261\" + 0.031*\"418\" + 0.029*\"490\"\n",
      "2022-02-28 14:09:46,013 : INFO : topic #81 (0.014): 0.219*\"3\" + 0.087*\"50\" + 0.079*\"13\" + 0.032*\"580\" + 0.026*\"0\" + 0.020*\"581\" + 0.020*\"498\" + 0.018*\"154\" + 0.018*\"673\" + 0.017*\"594\"\n",
      "2022-02-28 14:09:46,013 : INFO : topic #26 (0.031): 0.335*\"34\" + 0.321*\"35\" + 0.249*\"83\" + 0.031*\"611\" + 0.013*\"1057\" + 0.010*\"404\" + 0.007*\"0\" + 0.005*\"1018\" + 0.004*\"536\" + 0.004*\"1093\"\n",
      "2022-02-28 14:09:46,014 : INFO : topic diff=0.446898, rho=0.307119\n",
      "2022-02-28 14:09:46,021 : INFO : PROGRESS: pass 9, at document #2000/3204\n",
      "2022-02-28 14:09:46,983 : INFO : optimized alpha [0.01197659, 0.010890811, 0.011385923, 0.011698452, 0.011306771, 0.010913241, 0.013685914, 0.012783496, 0.010541007, 0.012483517, 0.010871429, 0.012441718, 0.011988467, 0.012402296, 0.011065997, 0.011610553, 0.01172755, 0.010692365, 0.014019754, 0.011172148, 0.0115343295, 0.010776021, 0.0133933425, 0.011486919, 0.012500128, 0.013463749, 0.03327912, 0.010938012, 0.012051511, 0.011742819, 0.010636854, 0.010445849, 0.01164399, 0.011321831, 0.010761975, 0.012900199, 0.011102901, 0.01268515, 0.011490409, 0.012549019, 0.01151978, 0.011214226, 0.011560159, 0.012271922, 0.01139759, 0.012441342, 0.012233537, 0.01060511, 0.011407864, 0.012939445, 0.014647298, 0.012027299, 0.011983494, 0.011797765, 0.01128118, 0.011948644, 0.011584575, 0.011159682, 0.009921122, 0.010281844, 0.011854804, 0.010926996, 0.011409801, 0.012124342, 0.010521204, 0.013048906, 0.010892181, 0.011116969, 0.010713686, 0.013643429, 0.011636093, 0.011699399, 0.012735995, 0.011137451, 0.010788674, 0.009867839, 0.012531029, 0.012478331, 0.010139797, 0.011389641, 0.011143848, 0.014650231, 0.011810686, 0.012170745, 0.012444535, 0.011723652, 0.01103122, 0.011179128, 0.01196998, 0.0108961575, 0.01020155, 0.0111439945, 0.011789846, 0.010957705, 0.011558201, 0.010232682, 0.010752975, 0.010284711, 0.011246017, 0.0111142015]\n",
      "2022-02-28 14:09:46,991 : INFO : merging changes from 2000 documents into a model of 3204 documents\n",
      "2022-02-28 14:09:47,001 : INFO : topic #75 (0.010): 0.080*\"50\" + 0.080*\"73\" + 0.043*\"233\" + 0.038*\"981\" + 0.035*\"316\" + 0.034*\"169\" + 0.032*\"741\" + 0.025*\"970\" + 0.021*\"6\" + 0.021*\"413\"\n",
      "2022-02-28 14:09:47,002 : INFO : topic #58 (0.010): 0.125*\"136\" + 0.078*\"50\" + 0.052*\"6\" + 0.048*\"640\" + 0.035*\"589\" + 0.032*\"519\" + 0.029*\"422\" + 0.027*\"912\" + 0.026*\"98\" + 0.022*\"998\"\n",
      "2022-02-28 14:09:47,003 : INFO : topic #81 (0.015): 0.225*\"3\" + 0.086*\"50\" + 0.077*\"13\" + 0.028*\"0\" + 0.026*\"580\" + 0.020*\"581\" + 0.019*\"498\" + 0.019*\"154\" + 0.017*\"594\" + 0.016*\"673\"\n",
      "2022-02-28 14:09:47,004 : INFO : topic #50 (0.015): 0.158*\"99\" + 0.143*\"20\" + 0.124*\"491\" + 0.082*\"231\" + 0.070*\"555\" + 0.044*\"265\" + 0.038*\"261\" + 0.034*\"478\" + 0.027*\"490\" + 0.024*\"418\"\n",
      "2022-02-28 14:09:47,006 : INFO : topic #26 (0.033): 0.339*\"34\" + 0.327*\"35\" + 0.249*\"83\" + 0.023*\"611\" + 0.012*\"1057\" + 0.009*\"404\" + 0.007*\"0\" + 0.006*\"1018\" + 0.004*\"536\" + 0.004*\"1093\"\n"
     ]
    },
    {
     "name": "stderr",
     "output_type": "stream",
     "text": [
      "2022-02-28 14:09:47,007 : INFO : topic diff=0.386186, rho=0.293585\n",
      "2022-02-28 14:09:48,032 : INFO : -6.501 per-word bound, 90.6 perplexity estimate based on a held-out corpus of 1204 documents with 49783 words\n",
      "2022-02-28 14:09:48,033 : INFO : PROGRESS: pass 9, at document #3204/3204\n",
      "2022-02-28 14:09:48,995 : INFO : optimized alpha [0.012054898, 0.0109872725, 0.011482302, 0.011865414, 0.011414557, 0.0110371495, 0.013959415, 0.013117606, 0.010606744, 0.012742262, 0.011020484, 0.012564106, 0.012240965, 0.01257994, 0.011219307, 0.0117279915, 0.011910484, 0.0107986815, 0.014358643, 0.011300616, 0.011680804, 0.010885736, 0.0137693435, 0.01167948, 0.012510528, 0.013755633, 0.034922242, 0.01109752, 0.012257385, 0.011925571, 0.010767651, 0.010529023, 0.0118147265, 0.011450914, 0.010821701, 0.013155447, 0.011167526, 0.012994846, 0.011715463, 0.012804337, 0.011705428, 0.011342979, 0.011696751, 0.012480206, 0.011626087, 0.012586463, 0.01241001, 0.010720858, 0.0114689395, 0.013173548, 0.014801451, 0.012226152, 0.012071311, 0.0119369915, 0.011502813, 0.012195159, 0.011752496, 0.011261802, 0.009989571, 0.010388772, 0.012080106, 0.011127747, 0.011586428, 0.0122391945, 0.010583816, 0.013368417, 0.011029018, 0.011266686, 0.010830806, 0.013887435, 0.011738159, 0.011822166, 0.01293897, 0.011272846, 0.010896982, 0.009924912, 0.012691473, 0.012607486, 0.010228166, 0.011597161, 0.011295426, 0.015027563, 0.011985577, 0.01241639, 0.012727994, 0.011910717, 0.011088364, 0.011301696, 0.012196008, 0.011041321, 0.010250995, 0.011252892, 0.012027675, 0.011074567, 0.0117085865, 0.010347336, 0.010847773, 0.010390922, 0.011386719, 0.011245757]\n",
      "2022-02-28 14:09:49,004 : INFO : merging changes from 1204 documents into a model of 3204 documents\n",
      "2022-02-28 14:09:49,012 : INFO : topic #75 (0.010): 0.084*\"50\" + 0.077*\"73\" + 0.046*\"233\" + 0.043*\"981\" + 0.037*\"741\" + 0.036*\"316\" + 0.035*\"169\" + 0.029*\"970\" + 0.020*\"6\" + 0.020*\"413\"\n",
      "2022-02-28 14:09:49,013 : INFO : topic #58 (0.010): 0.128*\"136\" + 0.077*\"50\" + 0.054*\"640\" + 0.053*\"6\" + 0.036*\"589\" + 0.033*\"519\" + 0.033*\"912\" + 0.033*\"98\" + 0.028*\"422\" + 0.024*\"998\"\n",
      "2022-02-28 14:09:49,015 : INFO : topic #50 (0.015): 0.148*\"20\" + 0.139*\"491\" + 0.138*\"99\" + 0.079*\"231\" + 0.064*\"555\" + 0.042*\"265\" + 0.037*\"478\" + 0.035*\"261\" + 0.031*\"418\" + 0.029*\"490\"\n",
      "2022-02-28 14:09:49,018 : INFO : topic #81 (0.015): 0.224*\"3\" + 0.089*\"50\" + 0.079*\"13\" + 0.031*\"580\" + 0.026*\"0\" + 0.020*\"581\" + 0.019*\"498\" + 0.018*\"154\" + 0.018*\"673\" + 0.017*\"594\"\n",
      "2022-02-28 14:09:49,020 : INFO : topic #26 (0.035): 0.343*\"34\" + 0.332*\"35\" + 0.242*\"83\" + 0.024*\"611\" + 0.013*\"1057\" + 0.009*\"404\" + 0.007*\"0\" + 0.005*\"1018\" + 0.004*\"536\" + 0.004*\"701\"\n",
      "2022-02-28 14:09:49,021 : INFO : topic diff=0.387311, rho=0.293585\n",
      "2022-02-28 14:09:49,030 : INFO : PROGRESS: pass 10, at document #2000/3204\n",
      "2022-02-28 14:09:49,951 : INFO : optimized alpha [0.01216692, 0.011025282, 0.011521667, 0.011964151, 0.011497528, 0.011079206, 0.014063821, 0.013086433, 0.010683952, 0.012768696, 0.010997236, 0.012749053, 0.012201553, 0.012656326, 0.01123667, 0.011860393, 0.012025403, 0.010813728, 0.014537224, 0.011313415, 0.011707813, 0.010881787, 0.014113611, 0.011657224, 0.012926842, 0.01398349, 0.036880188, 0.011103266, 0.012334817, 0.011937869, 0.010778378, 0.010550006, 0.011815668, 0.0114859715, 0.010881896, 0.013295729, 0.011254592, 0.013195705, 0.01177215, 0.012914862, 0.011765149, 0.011365649, 0.011731605, 0.012454624, 0.011619044, 0.012721147, 0.012498833, 0.010696912, 0.011552784, 0.013300725, 0.015144495, 0.012299345, 0.012285042, 0.011942685, 0.011535975, 0.012271858, 0.011782185, 0.0112758, 0.010016015, 0.010401981, 0.012067076, 0.01118792, 0.011676147, 0.012409035, 0.010575752, 0.013493416, 0.0110524865, 0.011287697, 0.01083912, 0.014014055, 0.011862932, 0.011878493, 0.013020669, 0.011291714, 0.010912037, 0.009915358, 0.012887881, 0.012710637, 0.010298597, 0.011596162, 0.0112914285, 0.015311429, 0.012005249, 0.012481884, 0.012713834, 0.011943851, 0.011198861, 0.0113274185, 0.012236228, 0.011077079, 0.010259685, 0.011309462, 0.012023524, 0.011153918, 0.011814731, 0.0103508495, 0.010861557, 0.010375759, 0.011433832, 0.011259654]\n",
      "2022-02-28 14:09:49,957 : INFO : merging changes from 2000 documents into a model of 3204 documents\n",
      "2022-02-28 14:09:49,964 : INFO : topic #75 (0.010): 0.081*\"50\" + 0.080*\"73\" + 0.050*\"233\" + 0.038*\"981\" + 0.036*\"316\" + 0.035*\"169\" + 0.032*\"741\" + 0.025*\"970\" + 0.021*\"6\" + 0.020*\"413\"\n",
      "2022-02-28 14:09:49,965 : INFO : topic #58 (0.010): 0.130*\"136\" + 0.078*\"50\" + 0.052*\"6\" + 0.048*\"640\" + 0.037*\"589\" + 0.033*\"519\" + 0.029*\"422\" + 0.027*\"912\" + 0.026*\"98\" + 0.022*\"998\"\n",
      "2022-02-28 14:09:49,966 : INFO : topic #50 (0.015): 0.160*\"99\" + 0.148*\"20\" + 0.126*\"491\" + 0.081*\"231\" + 0.071*\"555\" + 0.044*\"265\" + 0.037*\"261\" + 0.035*\"478\" + 0.026*\"490\" + 0.024*\"418\"\n",
      "2022-02-28 14:09:49,969 : INFO : topic #81 (0.015): 0.229*\"3\" + 0.089*\"50\" + 0.078*\"13\" + 0.028*\"0\" + 0.026*\"580\" + 0.020*\"581\" + 0.019*\"154\" + 0.019*\"498\" + 0.017*\"594\" + 0.017*\"673\"\n",
      "2022-02-28 14:09:49,970 : INFO : topic #26 (0.037): 0.346*\"34\" + 0.335*\"35\" + 0.243*\"83\" + 0.018*\"611\" + 0.012*\"1057\" + 0.009*\"404\" + 0.007*\"0\" + 0.006*\"1018\" + 0.004*\"536\" + 0.004*\"701\"\n",
      "2022-02-28 14:09:49,972 : INFO : topic diff=0.334421, rho=0.281696\n",
      "2022-02-28 14:09:51,072 : INFO : -6.487 per-word bound, 89.7 perplexity estimate based on a held-out corpus of 1204 documents with 49783 words\n",
      "2022-02-28 14:09:51,073 : INFO : PROGRESS: pass 10, at document #3204/3204\n",
      "2022-02-28 14:09:51,897 : INFO : optimized alpha [0.012247959, 0.011123739, 0.011620318, 0.012129053, 0.011607183, 0.0112043815, 0.01432684, 0.013421818, 0.010754887, 0.013023561, 0.01114168, 0.012869949, 0.012446995, 0.012843644, 0.011385348, 0.011971081, 0.012205906, 0.010919152, 0.014865576, 0.011448456, 0.011846946, 0.010990586, 0.014529052, 0.01183285, 0.012930229, 0.014285445, 0.038565077, 0.011279184, 0.012541082, 0.012123629, 0.010917782, 0.01063055, 0.011981219, 0.011619064, 0.010944783, 0.01355079, 0.0113195935, 0.013515249, 0.011994147, 0.013163878, 0.011948293, 0.011487661, 0.011877653, 0.012662618, 0.01184678, 0.01286747, 0.012678843, 0.010816596, 0.011611711, 0.013535009, 0.015288266, 0.012492581, 0.012369167, 0.012077526, 0.011759943, 0.012512137, 0.011945032, 0.011379959, 0.0100846505, 0.010508054, 0.012291754, 0.011386342, 0.011853304, 0.012525639, 0.010641656, 0.013816129, 0.011195483, 0.011430201, 0.010960195, 0.01424809, 0.011961378, 0.012014268, 0.0132208355, 0.01143622, 0.011016917, 0.009980172, 0.013055304, 0.012820284, 0.010430194, 0.011797809, 0.011435664, 0.015686441, 0.012171972, 0.012730058, 0.01299599, 0.012134263, 0.011253721, 0.01144607, 0.012464754, 0.011225748, 0.010310211, 0.011414799, 0.012251999, 0.011261775, 0.011966017, 0.010461935, 0.010953272, 0.010485962, 0.011575524, 0.011389783]\n",
      "2022-02-28 14:09:51,904 : INFO : merging changes from 1204 documents into a model of 3204 documents\n",
      "2022-02-28 14:09:51,913 : INFO : topic #75 (0.010): 0.085*\"50\" + 0.077*\"73\" + 0.054*\"233\" + 0.043*\"981\" + 0.036*\"316\" + 0.036*\"741\" + 0.036*\"169\" + 0.027*\"970\" + 0.020*\"6\" + 0.018*\"413\"\n",
      "2022-02-28 14:09:51,915 : INFO : topic #58 (0.010): 0.133*\"136\" + 0.078*\"50\" + 0.054*\"640\" + 0.052*\"6\" + 0.038*\"589\" + 0.034*\"519\" + 0.033*\"912\" + 0.032*\"98\" + 0.028*\"422\" + 0.024*\"998\"\n",
      "2022-02-28 14:09:51,916 : INFO : topic #50 (0.015): 0.154*\"20\" + 0.142*\"99\" + 0.142*\"491\" + 0.076*\"231\" + 0.066*\"555\" + 0.043*\"265\" + 0.038*\"478\" + 0.034*\"261\" + 0.030*\"418\" + 0.028*\"490\"\n",
      "2022-02-28 14:09:51,917 : INFO : topic #81 (0.016): 0.227*\"3\" + 0.091*\"50\" + 0.080*\"13\" + 0.031*\"580\" + 0.026*\"0\" + 0.020*\"581\" + 0.019*\"498\" + 0.018*\"154\" + 0.018*\"673\" + 0.017*\"594\"\n",
      "2022-02-28 14:09:51,919 : INFO : topic #26 (0.039): 0.351*\"34\" + 0.339*\"35\" + 0.236*\"83\" + 0.017*\"611\" + 0.013*\"1057\" + 0.009*\"404\" + 0.007*\"0\" + 0.005*\"1018\" + 0.004*\"695\" + 0.004*\"701\"\n",
      "2022-02-28 14:09:51,920 : INFO : topic diff=0.338596, rho=0.281696\n",
      "2022-02-28 14:09:51,930 : INFO : PROGRESS: pass 11, at document #2000/3204\n",
      "2022-02-28 14:09:52,755 : INFO : optimized alpha [0.012356986, 0.011160633, 0.011658588, 0.012228365, 0.011687814, 0.011242041, 0.014431621, 0.013391361, 0.010831459, 0.01304644, 0.011120575, 0.01305072, 0.012409532, 0.012917618, 0.01140197, 0.012105089, 0.012316171, 0.010933784, 0.015041695, 0.011459217, 0.011874628, 0.010988441, 0.01487451, 0.011814181, 0.013336693, 0.014505598, 0.040614694, 0.011290602, 0.012615992, 0.012135141, 0.0109354695, 0.01066117, 0.0119883595, 0.011662624, 0.0110077225, 0.013692939, 0.011404348, 0.01371991, 0.012058434, 0.013272938, 0.0120140705, 0.011514381, 0.011908035, 0.012635523, 0.011845552, 0.012996895, 0.012765003, 0.010803988, 0.011691736, 0.013662405, 0.015621696, 0.012566795, 0.012581894, 0.01208302, 0.01179627, 0.012589604, 0.01197518, 0.011396731, 0.010110516, 0.010520946, 0.012283327, 0.011449223, 0.011943764, 0.012695013, 0.010635856, 0.013933781, 0.011224104, 0.011448779, 0.010971255, 0.014376757, 0.012082934, 0.012072086, 0.013305212, 0.011460517, 0.011031556, 0.009978079, 0.013251264, 0.012929522, 0.010514266, 0.011799522, 0.011431688, 0.015970785, 0.012194039, 0.012791337, 0.0129861515, 0.012165885, 0.011361234, 0.011472539, 0.012499638, 0.011275662, 0.010324702, 0.011468188, 0.01225213, 0.0113419695, 0.0120709315, 0.010471116, 0.010971252, 0.010467122, 0.011628912, 0.01140471]\n"
     ]
    },
    {
     "name": "stderr",
     "output_type": "stream",
     "text": [
      "2022-02-28 14:09:52,762 : INFO : merging changes from 2000 documents into a model of 3204 documents\n",
      "2022-02-28 14:09:52,770 : INFO : topic #75 (0.010): 0.082*\"50\" + 0.080*\"73\" + 0.059*\"233\" + 0.038*\"981\" + 0.037*\"316\" + 0.036*\"169\" + 0.031*\"741\" + 0.024*\"970\" + 0.021*\"6\" + 0.019*\"647\"\n",
      "2022-02-28 14:09:52,771 : INFO : topic #58 (0.010): 0.135*\"136\" + 0.078*\"50\" + 0.052*\"6\" + 0.048*\"640\" + 0.039*\"589\" + 0.033*\"519\" + 0.029*\"422\" + 0.027*\"912\" + 0.026*\"98\" + 0.022*\"998\"\n",
      "2022-02-28 14:09:52,772 : INFO : topic #50 (0.016): 0.162*\"99\" + 0.153*\"20\" + 0.129*\"491\" + 0.079*\"231\" + 0.072*\"555\" + 0.044*\"265\" + 0.037*\"261\" + 0.036*\"478\" + 0.026*\"490\" + 0.024*\"418\"\n",
      "2022-02-28 14:09:52,773 : INFO : topic #81 (0.016): 0.232*\"3\" + 0.090*\"50\" + 0.079*\"13\" + 0.028*\"0\" + 0.026*\"580\" + 0.020*\"581\" + 0.019*\"154\" + 0.019*\"498\" + 0.017*\"594\" + 0.017*\"673\"\n",
      "2022-02-28 14:09:52,774 : INFO : topic #26 (0.041): 0.352*\"34\" + 0.341*\"35\" + 0.238*\"83\" + 0.013*\"611\" + 0.012*\"1057\" + 0.009*\"404\" + 0.007*\"0\" + 0.006*\"1018\" + 0.004*\"695\" + 0.004*\"701\"\n",
      "2022-02-28 14:09:52,775 : INFO : topic diff=0.292564, rho=0.271143\n",
      "2022-02-28 14:09:53,766 : INFO : -6.476 per-word bound, 89.0 perplexity estimate based on a held-out corpus of 1204 documents with 49783 words\n",
      "2022-02-28 14:09:53,767 : INFO : PROGRESS: pass 11, at document #3204/3204\n",
      "2022-02-28 14:09:54,640 : INFO : optimized alpha [0.012435282, 0.011258711, 0.011754322, 0.01239436, 0.01179686, 0.011368666, 0.014688242, 0.013716532, 0.010900193, 0.013298118, 0.011263459, 0.013170514, 0.012643057, 0.013088212, 0.011549064, 0.012215046, 0.012505807, 0.011038539, 0.015363751, 0.0115983505, 0.012009837, 0.011091578, 0.015300995, 0.0119929025, 0.013336344, 0.014805332, 0.04234268, 0.011461998, 0.0128144305, 0.012315962, 0.011078556, 0.010746559, 0.012154815, 0.011791918, 0.0110661825, 0.013945425, 0.011477621, 0.014043977, 0.012291611, 0.013519267, 0.012181587, 0.011638246, 0.0120580755, 0.012843668, 0.012070411, 0.013144736, 0.012940239, 0.010937611, 0.011748688, 0.01388798, 0.01574908, 0.012766471, 0.012662635, 0.012211225, 0.012025737, 0.0128244925, 0.0121362265, 0.0114979055, 0.010181694, 0.01063593, 0.012502386, 0.011666444, 0.012127196, 0.012807862, 0.010695178, 0.014247516, 0.011368196, 0.011589815, 0.011086477, 0.014598364, 0.012180763, 0.012192963, 0.013497046, 0.011608763, 0.01113339, 0.010052465, 0.013407991, 0.013035502, 0.010656927, 0.012004083, 0.01156923, 0.016340246, 0.012361536, 0.013039537, 0.0132736955, 0.012354186, 0.011414057, 0.011590284, 0.012719737, 0.011433382, 0.010371608, 0.011570421, 0.012477633, 0.011441527, 0.012215391, 0.010586256, 0.011062815, 0.010576512, 0.011769329, 0.011533697]\n",
      "2022-02-28 14:09:54,646 : INFO : merging changes from 1204 documents into a model of 3204 documents\n",
      "2022-02-28 14:09:54,653 : INFO : topic #75 (0.010): 0.085*\"50\" + 0.078*\"73\" + 0.061*\"233\" + 0.042*\"981\" + 0.037*\"169\" + 0.036*\"316\" + 0.036*\"741\" + 0.027*\"970\" + 0.020*\"6\" + 0.019*\"97\"\n",
      "2022-02-28 14:09:54,654 : INFO : topic #58 (0.010): 0.139*\"136\" + 0.079*\"50\" + 0.054*\"640\" + 0.050*\"6\" + 0.039*\"589\" + 0.034*\"519\" + 0.032*\"912\" + 0.032*\"98\" + 0.028*\"422\" + 0.024*\"998\"\n",
      "2022-02-28 14:09:54,663 : INFO : topic #50 (0.016): 0.159*\"20\" + 0.145*\"99\" + 0.145*\"491\" + 0.075*\"231\" + 0.067*\"555\" + 0.043*\"265\" + 0.038*\"478\" + 0.033*\"261\" + 0.029*\"418\" + 0.026*\"490\"\n",
      "2022-02-28 14:09:54,664 : INFO : topic #81 (0.016): 0.230*\"3\" + 0.092*\"50\" + 0.080*\"13\" + 0.031*\"580\" + 0.026*\"0\" + 0.020*\"581\" + 0.019*\"498\" + 0.018*\"154\" + 0.017*\"673\" + 0.017*\"594\"\n",
      "2022-02-28 14:09:54,665 : INFO : topic #26 (0.042): 0.357*\"34\" + 0.344*\"35\" + 0.232*\"83\" + 0.013*\"1057\" + 0.012*\"611\" + 0.009*\"404\" + 0.007*\"0\" + 0.005*\"1018\" + 0.004*\"695\" + 0.004*\"701\"\n",
      "2022-02-28 14:09:54,666 : INFO : topic diff=0.298616, rho=0.271143\n",
      "2022-02-28 14:09:54,675 : INFO : PROGRESS: pass 12, at document #2000/3204\n",
      "2022-02-28 14:09:55,556 : INFO : optimized alpha [0.012543272, 0.011299062, 0.011794692, 0.012491184, 0.011878576, 0.011408189, 0.014789817, 0.013690469, 0.0109748375, 0.013322906, 0.011251816, 0.01334925, 0.012614048, 0.01316003, 0.011568059, 0.012347702, 0.012606871, 0.011054217, 0.015539732, 0.011613253, 0.012035044, 0.0110911, 0.015659653, 0.011971218, 0.013735251, 0.0150277475, 0.044422846, 0.01147724, 0.01289583, 0.012328338, 0.011092598, 0.010776494, 0.012166168, 0.011835742, 0.011126132, 0.014085982, 0.0115648275, 0.014245491, 0.012355403, 0.013627053, 0.012247031, 0.011662627, 0.012089033, 0.01282016, 0.012068364, 0.013271095, 0.013022311, 0.010919471, 0.0118267415, 0.014010209, 0.016079478, 0.0128384065, 0.012871375, 0.012216615, 0.012061994, 0.012899499, 0.012165238, 0.011509775, 0.010209644, 0.010652645, 0.012496684, 0.011736641, 0.012221609, 0.012980527, 0.010691414, 0.014365671, 0.011404789, 0.011606181, 0.011097269, 0.014729551, 0.01229944, 0.012252428, 0.013578996, 0.011635258, 0.01115066, 0.010048061, 0.013605708, 0.0131402975, 0.0107572265, 0.012003537, 0.011569796, 0.016634021, 0.012382624, 0.013103683, 0.013262697, 0.012387804, 0.011520375, 0.011616006, 0.012756323, 0.011492402, 0.010380543, 0.0116178, 0.012480213, 0.011516735, 0.012337005, 0.010592411, 0.011078887, 0.010561087, 0.011821161, 0.011551146]\n",
      "2022-02-28 14:09:55,561 : INFO : merging changes from 2000 documents into a model of 3204 documents\n",
      "2022-02-28 14:09:55,567 : INFO : topic #75 (0.010): 0.083*\"50\" + 0.080*\"73\" + 0.066*\"233\" + 0.037*\"169\" + 0.037*\"981\" + 0.037*\"316\" + 0.032*\"741\" + 0.024*\"970\" + 0.021*\"6\" + 0.020*\"647\"\n",
      "2022-02-28 14:09:55,568 : INFO : topic #58 (0.010): 0.140*\"136\" + 0.079*\"50\" + 0.051*\"6\" + 0.049*\"640\" + 0.040*\"589\" + 0.033*\"519\" + 0.029*\"422\" + 0.027*\"912\" + 0.026*\"98\" + 0.022*\"998\"\n",
      "2022-02-28 14:09:55,568 : INFO : topic #50 (0.016): 0.164*\"99\" + 0.158*\"20\" + 0.131*\"491\" + 0.078*\"231\" + 0.073*\"555\" + 0.044*\"265\" + 0.036*\"261\" + 0.036*\"478\" + 0.025*\"490\" + 0.023*\"418\"\n",
      "2022-02-28 14:09:55,569 : INFO : topic #81 (0.017): 0.234*\"3\" + 0.092*\"50\" + 0.079*\"13\" + 0.027*\"0\" + 0.026*\"580\" + 0.020*\"581\" + 0.019*\"154\" + 0.019*\"498\" + 0.017*\"594\" + 0.016*\"673\"\n",
      "2022-02-28 14:09:55,569 : INFO : topic #26 (0.044): 0.356*\"34\" + 0.345*\"35\" + 0.234*\"83\" + 0.012*\"1057\" + 0.009*\"611\" + 0.009*\"404\" + 0.007*\"0\" + 0.006*\"1018\" + 0.004*\"695\" + 0.004*\"701\"\n",
      "2022-02-28 14:09:55,570 : INFO : topic diff=0.259250, rho=0.261694\n",
      "2022-02-28 14:09:56,529 : INFO : -6.466 per-word bound, 88.4 perplexity estimate based on a held-out corpus of 1204 documents with 49783 words\n",
      "2022-02-28 14:09:56,530 : INFO : PROGRESS: pass 12, at document #3204/3204\n",
      "2022-02-28 14:09:57,352 : INFO : optimized alpha [0.012619128, 0.01139452, 0.011898224, 0.0126531925, 0.011997566, 0.011536564, 0.015040651, 0.014009323, 0.011039176, 0.013574878, 0.011395913, 0.013462413, 0.012844732, 0.0133235045, 0.011708887, 0.012457189, 0.012800441, 0.011160991, 0.015859472, 0.011753943, 0.012166654, 0.011198849, 0.01609464, 0.012140136, 0.013725387, 0.015325662, 0.046144255, 0.011654721, 0.013107054, 0.012504755, 0.011239418, 0.010861995, 0.012333808, 0.011961635, 0.011182863, 0.0143332975, 0.011641095, 0.014568316, 0.012594737, 0.013868225, 0.012413101, 0.011788469, 0.01224581, 0.013020359, 0.012293519, 0.013406238, 0.013187365, 0.011059204, 0.011884489, 0.014236748, 0.016201386, 0.013036252, 0.012954535, 0.012341449, 0.012286773, 0.013129453, 0.012322151, 0.011610785, 0.0102767125, 0.010760087, 0.01271061, 0.011949736, 0.012411583, 0.013101324, 0.010754055, 0.014680531, 0.011555281, 0.011743571, 0.011209423, 0.0149427, 0.012388941, 0.012370064, 0.013766132, 0.011777222, 0.011247356, 0.010131486, 0.013758133, 0.013240279, 0.010927282, 0.012203384, 0.011706262, 0.017002154, 0.012545794, 0.013346761, 0.013550154, 0.012571869, 0.01157138, 0.011733258, 0.012988391, 0.011651429, 0.01042864, 0.011719778, 0.012697936, 0.011613507, 0.0124778, 0.010697576, 0.01116318, 0.010669937, 0.011970883, 0.011674246]\n",
      "2022-02-28 14:09:57,357 : INFO : merging changes from 1204 documents into a model of 3204 documents\n",
      "2022-02-28 14:09:57,364 : INFO : topic #75 (0.010): 0.086*\"50\" + 0.077*\"73\" + 0.069*\"233\" + 0.041*\"981\" + 0.039*\"169\" + 0.036*\"316\" + 0.036*\"741\" + 0.026*\"970\" + 0.020*\"6\" + 0.020*\"97\"\n",
      "2022-02-28 14:09:57,365 : INFO : topic #58 (0.010): 0.142*\"136\" + 0.079*\"50\" + 0.056*\"640\" + 0.049*\"6\" + 0.040*\"589\" + 0.034*\"519\" + 0.032*\"98\" + 0.032*\"912\" + 0.028*\"422\" + 0.024*\"998\"\n"
     ]
    },
    {
     "name": "stderr",
     "output_type": "stream",
     "text": [
      "2022-02-28 14:09:57,367 : INFO : topic #50 (0.016): 0.164*\"20\" + 0.148*\"99\" + 0.147*\"491\" + 0.074*\"231\" + 0.068*\"555\" + 0.043*\"265\" + 0.039*\"478\" + 0.032*\"261\" + 0.028*\"418\" + 0.025*\"490\"\n",
      "2022-02-28 14:09:57,367 : INFO : topic #81 (0.017): 0.232*\"3\" + 0.094*\"50\" + 0.080*\"13\" + 0.030*\"580\" + 0.026*\"0\" + 0.019*\"581\" + 0.019*\"498\" + 0.018*\"154\" + 0.017*\"673\" + 0.017*\"594\"\n",
      "2022-02-28 14:09:57,369 : INFO : topic #26 (0.046): 0.361*\"34\" + 0.348*\"35\" + 0.229*\"83\" + 0.013*\"1057\" + 0.009*\"404\" + 0.009*\"611\" + 0.007*\"0\" + 0.005*\"1018\" + 0.004*\"695\" + 0.004*\"701\"\n",
      "2022-02-28 14:09:57,370 : INFO : topic diff=0.265895, rho=0.261694\n",
      "2022-02-28 14:09:57,380 : INFO : PROGRESS: pass 13, at document #2000/3204\n",
      "2022-02-28 14:09:58,263 : INFO : optimized alpha [0.012724684, 0.011433853, 0.0119391, 0.012744488, 0.012075815, 0.011573511, 0.0151354605, 0.013980383, 0.011110712, 0.013598078, 0.011379998, 0.013637725, 0.012817158, 0.013398523, 0.011725723, 0.012587138, 0.012899115, 0.011179114, 0.016039744, 0.011768402, 0.012195706, 0.011205668, 0.016455092, 0.012121759, 0.0141205145, 0.015542888, 0.048253417, 0.011685649, 0.01319813, 0.01252117, 0.011258622, 0.010891269, 0.0123429885, 0.012004298, 0.011240033, 0.014472513, 0.011724833, 0.01477056, 0.012659672, 0.013978491, 0.012482993, 0.011818208, 0.012281936, 0.013000282, 0.01229231, 0.013529774, 0.013274009, 0.011049941, 0.011962244, 0.01435969, 0.016522937, 0.013106133, 0.013159747, 0.012345103, 0.012323027, 0.013202181, 0.012350127, 0.011622465, 0.010305398, 0.010776356, 0.0127044, 0.012013503, 0.012500649, 0.013274211, 0.010752239, 0.014806854, 0.011590729, 0.011765366, 0.011224243, 0.015078484, 0.01250347, 0.012434385, 0.013842292, 0.011804363, 0.011265664, 0.010133806, 0.013959407, 0.013344473, 0.011028475, 0.012206958, 0.011706707, 0.017283864, 0.012566026, 0.013412077, 0.013544989, 0.012605911, 0.011673831, 0.011758261, 0.013024997, 0.011702891, 0.010443056, 0.011771945, 0.012702934, 0.011686905, 0.012587457, 0.010702168, 0.01117904, 0.010655035, 0.012022761, 0.011689681]\n",
      "2022-02-28 14:09:58,270 : INFO : merging changes from 2000 documents into a model of 3204 documents\n",
      "2022-02-28 14:09:58,278 : INFO : topic #75 (0.010): 0.083*\"50\" + 0.079*\"73\" + 0.074*\"233\" + 0.039*\"169\" + 0.037*\"981\" + 0.037*\"316\" + 0.032*\"741\" + 0.023*\"970\" + 0.021*\"6\" + 0.020*\"647\"\n",
      "2022-02-28 14:09:58,279 : INFO : topic #58 (0.010): 0.144*\"136\" + 0.079*\"50\" + 0.050*\"640\" + 0.049*\"6\" + 0.040*\"589\" + 0.033*\"519\" + 0.029*\"422\" + 0.027*\"912\" + 0.027*\"98\" + 0.022*\"48\"\n",
      "2022-02-28 14:09:58,280 : INFO : topic #22 (0.016): 0.583*\"41\" + 0.058*\"87\" + 0.049*\"56\" + 0.040*\"75\" + 0.026*\"140\" + 0.016*\"63\" + 0.014*\"13\" + 0.014*\"105\" + 0.013*\"702\" + 0.011*\"905\"\n",
      "2022-02-28 14:09:58,280 : INFO : topic #81 (0.017): 0.236*\"3\" + 0.093*\"50\" + 0.079*\"13\" + 0.027*\"0\" + 0.026*\"580\" + 0.019*\"581\" + 0.019*\"154\" + 0.019*\"498\" + 0.017*\"594\" + 0.016*\"673\"\n",
      "2022-02-28 14:09:58,282 : INFO : topic #26 (0.048): 0.360*\"34\" + 0.348*\"35\" + 0.232*\"83\" + 0.012*\"1057\" + 0.009*\"404\" + 0.007*\"0\" + 0.007*\"611\" + 0.006*\"1018\" + 0.004*\"695\" + 0.004*\"701\"\n",
      "2022-02-28 14:09:58,283 : INFO : topic diff=0.232606, rho=0.253169\n",
      "2022-02-28 14:09:59,229 : INFO : -6.456 per-word bound, 87.8 perplexity estimate based on a held-out corpus of 1204 documents with 49783 words\n",
      "2022-02-28 14:09:59,229 : INFO : PROGRESS: pass 13, at document #3204/3204\n",
      "2022-02-28 14:10:00,010 : INFO : optimized alpha [0.012800982, 0.011526921, 0.012040082, 0.012902826, 0.012197047, 0.011708583, 0.015377767, 0.014296353, 0.011175612, 0.013842115, 0.011523104, 0.013747484, 0.013037575, 0.01355233, 0.011865726, 0.012701672, 0.013110319, 0.011283271, 0.016357647, 0.011898407, 0.012329398, 0.011317971, 0.016898882, 0.012291888, 0.014107449, 0.01583284, 0.049966644, 0.011859514, 0.013393999, 0.012693616, 0.011402238, 0.0109746875, 0.01250683, 0.012127158, 0.011295318, 0.014718051, 0.011791531, 0.015092393, 0.012902812, 0.014217988, 0.012647961, 0.0119435955, 0.012429949, 0.013198702, 0.012512903, 0.013664204, 0.0134352185, 0.011191163, 0.012015881, 0.014587522, 0.016639745, 0.013310717, 0.013239916, 0.01246951, 0.012548801, 0.01342761, 0.012500776, 0.011721019, 0.010375258, 0.010881221, 0.01291109, 0.012225412, 0.012692108, 0.013394579, 0.010817971, 0.0151233375, 0.011740259, 0.01190449, 0.0113289235, 0.01528694, 0.012587721, 0.01255706, 0.014016233, 0.011945536, 0.011357617, 0.010217378, 0.014107923, 0.0134473, 0.011212056, 0.012399948, 0.011842333, 0.017650755, 0.0127252685, 0.013659011, 0.0138243865, 0.012791425, 0.011723221, 0.0118726045, 0.013249741, 0.011858567, 0.010492374, 0.011883754, 0.012916133, 0.011781136, 0.012730226, 0.010816207, 0.011270716, 0.010765771, 0.012158855, 0.011809792]\n",
      "2022-02-28 14:10:00,016 : INFO : merging changes from 1204 documents into a model of 3204 documents\n",
      "2022-02-28 14:10:00,022 : INFO : topic #75 (0.010): 0.086*\"50\" + 0.077*\"73\" + 0.076*\"233\" + 0.041*\"981\" + 0.040*\"169\" + 0.036*\"316\" + 0.035*\"741\" + 0.025*\"970\" + 0.020*\"97\" + 0.020*\"6\"\n",
      "2022-02-28 14:10:00,023 : INFO : topic #58 (0.010): 0.145*\"136\" + 0.079*\"50\" + 0.055*\"640\" + 0.050*\"6\" + 0.040*\"589\" + 0.033*\"519\" + 0.032*\"98\" + 0.032*\"912\" + 0.027*\"422\" + 0.024*\"998\"\n",
      "2022-02-28 14:10:00,026 : INFO : topic #22 (0.017): 0.614*\"41\" + 0.055*\"87\" + 0.042*\"56\" + 0.033*\"75\" + 0.027*\"140\" + 0.016*\"63\" + 0.015*\"105\" + 0.013*\"702\" + 0.013*\"13\" + 0.012*\"905\"\n",
      "2022-02-28 14:10:00,029 : INFO : topic #81 (0.018): 0.234*\"3\" + 0.095*\"50\" + 0.080*\"13\" + 0.030*\"580\" + 0.026*\"0\" + 0.019*\"581\" + 0.019*\"498\" + 0.018*\"154\" + 0.017*\"594\" + 0.017*\"673\"\n",
      "2022-02-28 14:10:00,029 : INFO : topic #26 (0.050): 0.365*\"34\" + 0.349*\"35\" + 0.227*\"83\" + 0.013*\"1057\" + 0.009*\"404\" + 0.007*\"0\" + 0.006*\"611\" + 0.005*\"1018\" + 0.003*\"695\" + 0.003*\"701\"\n",
      "2022-02-28 14:10:00,030 : INFO : topic diff=0.239778, rho=0.253169\n",
      "2022-02-28 14:10:00,038 : INFO : PROGRESS: pass 14, at document #2000/3204\n",
      "2022-02-28 14:10:00,773 : INFO : optimized alpha [0.012905868, 0.011568236, 0.012080019, 0.012995291, 0.012275117, 0.011748873, 0.015473706, 0.014268136, 0.011248379, 0.013863801, 0.011513132, 0.013918046, 0.013014732, 0.013625541, 0.011883437, 0.012830708, 0.0132099595, 0.011300974, 0.016528336, 0.011916833, 0.012357683, 0.011330257, 0.01726516, 0.012273657, 0.01449397, 0.016050903, 0.05211943, 0.011889373, 0.013484712, 0.012710869, 0.011422179, 0.011004723, 0.012517035, 0.012168629, 0.011352671, 0.014856234, 0.011874987, 0.015290007, 0.012967374, 0.01432395, 0.012713043, 0.011977063, 0.012468142, 0.013181873, 0.012510964, 0.013785236, 0.013513238, 0.011181933, 0.012093484, 0.0147113465, 0.016955031, 0.013381882, 0.013445158, 0.012474633, 0.012585173, 0.013498294, 0.012529398, 0.011735358, 0.010404676, 0.010898483, 0.012904355, 0.012289038, 0.012782248, 0.013564668, 0.010823242, 0.015246878, 0.011773203, 0.011924133, 0.011344859, 0.015414133, 0.012701431, 0.012621441, 0.0140869375, 0.01198069, 0.01137556, 0.010219758, 0.0143078705, 0.013549254, 0.011318446, 0.012402917, 0.011847035, 0.01793816, 0.012743171, 0.0137206055, 0.013819668, 0.012822661, 0.01182499, 0.0118970005, 0.013283225, 0.011914495, 0.010506745, 0.011937617, 0.012920304, 0.011855871, 0.012842407, 0.010824741, 0.01128626, 0.01075393, 0.012213896, 0.011826263]\n",
      "2022-02-28 14:10:00,780 : INFO : merging changes from 2000 documents into a model of 3204 documents\n",
      "2022-02-28 14:10:00,786 : INFO : topic #75 (0.010): 0.084*\"50\" + 0.080*\"233\" + 0.079*\"73\" + 0.040*\"169\" + 0.037*\"316\" + 0.037*\"981\" + 0.032*\"741\" + 0.022*\"970\" + 0.021*\"6\" + 0.021*\"647\"\n",
      "2022-02-28 14:10:00,787 : INFO : topic #58 (0.010): 0.145*\"136\" + 0.079*\"50\" + 0.050*\"640\" + 0.050*\"6\" + 0.040*\"589\" + 0.033*\"519\" + 0.028*\"422\" + 0.027*\"98\" + 0.027*\"912\" + 0.025*\"48\"\n",
      "2022-02-28 14:10:00,788 : INFO : topic #22 (0.017): 0.594*\"41\" + 0.056*\"87\" + 0.049*\"56\" + 0.040*\"75\" + 0.026*\"140\" + 0.016*\"63\" + 0.014*\"105\" + 0.014*\"702\" + 0.013*\"13\" + 0.011*\"905\"\n",
      "2022-02-28 14:10:00,789 : INFO : topic #81 (0.018): 0.238*\"3\" + 0.094*\"50\" + 0.079*\"13\" + 0.027*\"0\" + 0.026*\"580\" + 0.020*\"154\" + 0.019*\"581\" + 0.019*\"498\" + 0.018*\"594\" + 0.016*\"673\"\n",
      "2022-02-28 14:10:00,791 : INFO : topic #26 (0.052): 0.363*\"34\" + 0.349*\"35\" + 0.231*\"83\" + 0.012*\"1057\" + 0.009*\"404\" + 0.007*\"0\" + 0.006*\"1018\" + 0.005*\"611\" + 0.003*\"695\" + 0.003*\"701\"\n"
     ]
    },
    {
     "name": "stderr",
     "output_type": "stream",
     "text": [
      "2022-02-28 14:10:00,792 : INFO : topic diff=0.211204, rho=0.245426\n",
      "2022-02-28 14:10:01,638 : INFO : -6.448 per-word bound, 87.3 perplexity estimate based on a held-out corpus of 1204 documents with 49783 words\n",
      "2022-02-28 14:10:01,638 : INFO : PROGRESS: pass 14, at document #3204/3204\n",
      "2022-02-28 14:10:02,312 : INFO : optimized alpha [0.0129827075, 0.0116638765, 0.012183652, 0.013152926, 0.012403672, 0.0118810395, 0.01571122, 0.014578763, 0.011311663, 0.014108845, 0.011657872, 0.014024744, 0.013236182, 0.013773335, 0.012022782, 0.012950272, 0.013417506, 0.011402724, 0.01684808, 0.012053701, 0.012483362, 0.011447136, 0.017714394, 0.0124426065, 0.0144808525, 0.016339531, 0.053759113, 0.012064776, 0.01368258, 0.012882383, 0.011560445, 0.011093034, 0.012682433, 0.012283715, 0.011406557, 0.015103454, 0.0119473385, 0.015601841, 0.013222562, 0.014562012, 0.012877135, 0.012104597, 0.012612987, 0.013376165, 0.012735103, 0.013919207, 0.013676458, 0.011329397, 0.012145746, 0.014935024, 0.017063659, 0.013587953, 0.0135225905, 0.012591054, 0.012804586, 0.013725295, 0.012674181, 0.011829236, 0.010479303, 0.011003317, 0.013120226, 0.012505151, 0.012978014, 0.013690356, 0.010894325, 0.015568644, 0.01192198, 0.012057828, 0.011454253, 0.015618376, 0.012783389, 0.01273609, 0.014254255, 0.012116391, 0.011465384, 0.010307741, 0.014452443, 0.013646709, 0.011517939, 0.012599792, 0.011982086, 0.018304039, 0.0129041225, 0.0139716435, 0.014100136, 0.012996499, 0.011872904, 0.01200879, 0.013509198, 0.012074416, 0.0105572045, 0.012046843, 0.013126725, 0.011959925, 0.012987325, 0.010940815, 0.011373505, 0.010857742, 0.012352093, 0.011943682]\n",
      "2022-02-28 14:10:02,318 : INFO : merging changes from 1204 documents into a model of 3204 documents\n",
      "2022-02-28 14:10:02,325 : INFO : topic #75 (0.010): 0.086*\"50\" + 0.083*\"233\" + 0.078*\"73\" + 0.042*\"169\" + 0.041*\"981\" + 0.036*\"316\" + 0.035*\"741\" + 0.024*\"970\" + 0.021*\"97\" + 0.021*\"904\"\n",
      "2022-02-28 14:10:02,326 : INFO : topic #58 (0.010): 0.146*\"136\" + 0.080*\"50\" + 0.055*\"640\" + 0.048*\"6\" + 0.039*\"589\" + 0.033*\"519\" + 0.032*\"98\" + 0.031*\"912\" + 0.027*\"422\" + 0.027*\"48\"\n",
      "2022-02-28 14:10:02,327 : INFO : topic #22 (0.018): 0.623*\"41\" + 0.053*\"87\" + 0.042*\"56\" + 0.033*\"75\" + 0.027*\"140\" + 0.016*\"63\" + 0.016*\"105\" + 0.014*\"702\" + 0.012*\"13\" + 0.012*\"905\"\n",
      "2022-02-28 14:10:02,328 : INFO : topic #81 (0.018): 0.235*\"3\" + 0.096*\"50\" + 0.080*\"13\" + 0.030*\"580\" + 0.025*\"0\" + 0.019*\"581\" + 0.019*\"154\" + 0.019*\"498\" + 0.018*\"594\" + 0.017*\"673\"\n",
      "2022-02-28 14:10:02,329 : INFO : topic #26 (0.054): 0.367*\"34\" + 0.351*\"35\" + 0.226*\"83\" + 0.013*\"1057\" + 0.009*\"404\" + 0.007*\"0\" + 0.005*\"1018\" + 0.004*\"611\" + 0.003*\"695\" + 0.003*\"701\"\n",
      "2022-02-28 14:10:02,329 : INFO : topic diff=0.218346, rho=0.245426\n",
      "2022-02-28 14:10:02,339 : INFO : PROGRESS: pass 15, at document #2000/3204\n",
      "2022-02-28 14:10:03,035 : INFO : optimized alpha [0.01308559, 0.011707133, 0.012215325, 0.013240337, 0.012477165, 0.0119231185, 0.01580278, 0.0145530095, 0.01138575, 0.014129128, 0.011647911, 0.014194132, 0.0132147195, 0.013849855, 0.012041349, 0.013081793, 0.01352299, 0.0114200255, 0.01701349, 0.012074453, 0.01250946, 0.011457775, 0.018090853, 0.012427419, 0.01486781, 0.01655466, 0.05592536, 0.01209669, 0.013773043, 0.012898918, 0.01158255, 0.011125124, 0.012692083, 0.012321273, 0.011461437, 0.015237109, 0.012030684, 0.015800418, 0.013291575, 0.014667273, 0.012945239, 0.012132792, 0.012650159, 0.01335921, 0.0127324, 0.014036197, 0.013762456, 0.011322873, 0.01222038, 0.015059864, 0.017370839, 0.013662174, 0.013724908, 0.0125960605, 0.012841125, 0.013795641, 0.012703486, 0.011850459, 0.0105094295, 0.011020212, 0.013116107, 0.012576224, 0.013070937, 0.013861268, 0.010898328, 0.01569321, 0.011955389, 0.01208125, 0.0114725595, 0.01574686, 0.012892, 0.01280984, 0.014321517, 0.012147727, 0.011484391, 0.010310149, 0.014647857, 0.0137531785, 0.011629557, 0.012606676, 0.01198795, 0.01858427, 0.012922838, 0.014032962, 0.014099395, 0.013029855, 0.011972703, 0.012032602, 0.013533134, 0.012136314, 0.010575363, 0.012099557, 0.01312867, 0.01203743, 0.013097409, 0.010950404, 0.011391518, 0.010848855, 0.012411745, 0.011962593]\n",
      "2022-02-28 14:10:03,043 : INFO : merging changes from 2000 documents into a model of 3204 documents\n",
      "2022-02-28 14:10:03,051 : INFO : topic #75 (0.010): 0.086*\"233\" + 0.084*\"50\" + 0.079*\"73\" + 0.042*\"169\" + 0.037*\"316\" + 0.037*\"981\" + 0.032*\"741\" + 0.022*\"970\" + 0.021*\"647\" + 0.021*\"6\"\n",
      "2022-02-28 14:10:03,052 : INFO : topic #58 (0.011): 0.147*\"136\" + 0.080*\"50\" + 0.050*\"640\" + 0.048*\"6\" + 0.040*\"589\" + 0.033*\"519\" + 0.029*\"48\" + 0.028*\"422\" + 0.027*\"98\" + 0.027*\"912\"\n",
      "2022-02-28 14:10:03,055 : INFO : topic #22 (0.018): 0.604*\"41\" + 0.055*\"87\" + 0.049*\"56\" + 0.040*\"75\" + 0.026*\"140\" + 0.016*\"63\" + 0.014*\"105\" + 0.014*\"702\" + 0.012*\"13\" + 0.011*\"905\"\n",
      "2022-02-28 14:10:03,057 : INFO : topic #81 (0.019): 0.239*\"3\" + 0.095*\"50\" + 0.079*\"13\" + 0.027*\"0\" + 0.026*\"580\" + 0.020*\"154\" + 0.019*\"581\" + 0.019*\"498\" + 0.018*\"594\" + 0.016*\"673\"\n",
      "2022-02-28 14:10:03,060 : INFO : topic #26 (0.056): 0.365*\"34\" + 0.350*\"35\" + 0.229*\"83\" + 0.012*\"1057\" + 0.009*\"404\" + 0.007*\"0\" + 0.006*\"1018\" + 0.003*\"695\" + 0.003*\"701\" + 0.003*\"611\"\n",
      "2022-02-28 14:10:03,063 : INFO : topic diff=0.193882, rho=0.238352\n",
      "2022-02-28 14:10:03,898 : INFO : -6.440 per-word bound, 86.8 perplexity estimate based on a held-out corpus of 1204 documents with 49783 words\n",
      "2022-02-28 14:10:03,899 : INFO : PROGRESS: pass 15, at document #3204/3204\n",
      "2022-02-28 14:10:04,563 : INFO : optimized alpha [0.013163028, 0.0118007045, 0.012314353, 0.013394888, 0.012605655, 0.012055012, 0.016035851, 0.01485019, 0.011447518, 0.014375566, 0.011787468, 0.014295118, 0.013437408, 0.013994589, 0.012177899, 0.013206429, 0.01374308, 0.011524159, 0.017335232, 0.012213519, 0.012632529, 0.01157229, 0.018552726, 0.012600425, 0.014851675, 0.016832523, 0.05746496, 0.012281232, 0.01397592, 0.013064536, 0.011727413, 0.01121379, 0.0128517775, 0.0124339005, 0.011514077, 0.015480258, 0.012098883, 0.016111672, 0.013546021, 0.014901366, 0.013101033, 0.012260224, 0.012792097, 0.0135550285, 0.012960265, 0.014167083, 0.013922417, 0.011462899, 0.012271346, 0.015285526, 0.017468046, 0.013869937, 0.013802502, 0.012707468, 0.01305705, 0.014013425, 0.012845285, 0.011939937, 0.010584552, 0.011122854, 0.013325556, 0.012789308, 0.013263524, 0.013989495, 0.010974468, 0.01603297, 0.012101282, 0.01220983, 0.011577357, 0.015953356, 0.012969314, 0.0129297385, 0.014493917, 0.012285524, 0.011574598, 0.010398341, 0.014789043, 0.013848226, 0.011849656, 0.0127975, 0.012117786, 0.018945703, 0.013080495, 0.0142801, 0.014378374, 0.013211027, 0.012019254, 0.012142007, 0.013760641, 0.012290939, 0.0106290635, 0.012206412, 0.013328693, 0.012132045, 0.013236711, 0.011059747, 0.011479197, 0.010950515, 0.012552097, 0.012077526]\n",
      "2022-02-28 14:10:04,571 : INFO : merging changes from 1204 documents into a model of 3204 documents\n",
      "2022-02-28 14:10:04,580 : INFO : topic #75 (0.010): 0.088*\"233\" + 0.086*\"50\" + 0.079*\"73\" + 0.043*\"169\" + 0.041*\"981\" + 0.037*\"316\" + 0.035*\"741\" + 0.024*\"970\" + 0.022*\"97\" + 0.021*\"904\"\n",
      "2022-02-28 14:10:04,581 : INFO : topic #90 (0.011): 0.062*\"50\" + 0.061*\"49\" + 0.060*\"241\" + 0.040*\"6\" + 0.036*\"897\" + 0.024*\"106\" + 0.019*\"26\" + 0.019*\"45\" + 0.018*\"0\" + 0.017*\"85\"\n",
      "2022-02-28 14:10:04,581 : INFO : topic #22 (0.019): 0.632*\"41\" + 0.051*\"87\" + 0.043*\"56\" + 0.033*\"75\" + 0.027*\"140\" + 0.016*\"63\" + 0.015*\"105\" + 0.014*\"702\" + 0.012*\"905\" + 0.011*\"13\"\n",
      "2022-02-28 14:10:04,585 : INFO : topic #81 (0.019): 0.237*\"3\" + 0.097*\"50\" + 0.080*\"13\" + 0.030*\"580\" + 0.025*\"0\" + 0.020*\"154\" + 0.019*\"581\" + 0.019*\"498\" + 0.018*\"594\" + 0.017*\"673\"\n",
      "2022-02-28 14:10:04,586 : INFO : topic #26 (0.057): 0.369*\"34\" + 0.352*\"35\" + 0.224*\"83\" + 0.013*\"1057\" + 0.009*\"404\" + 0.007*\"0\" + 0.005*\"1018\" + 0.003*\"695\" + 0.003*\"701\" + 0.003*\"611\"\n",
      "2022-02-28 14:10:04,587 : INFO : topic diff=0.200352, rho=0.238352\n",
      "2022-02-28 14:10:04,594 : INFO : PROGRESS: pass 16, at document #2000/3204\n",
      "2022-02-28 14:10:05,286 : INFO : optimized alpha [0.013265598, 0.011843109, 0.012349771, 0.013480604, 0.012682114, 0.012100332, 0.016127003, 0.0148235, 0.011520234, 0.014391169, 0.0117748175, 0.01446024, 0.01341563, 0.014069496, 0.012195914, 0.013340459, 0.013851299, 0.011541087, 0.01750753, 0.012239399, 0.012658049, 0.011584002, 0.018935546, 0.012582214, 0.015234192, 0.017042944, 0.059658416, 0.012320765, 0.014067971, 0.0130819, 0.011752973, 0.011246561, 0.0128669515, 0.012476524, 0.011570637, 0.015613167, 0.012182133, 0.016311381, 0.013616312, 0.015006073, 0.013169175, 0.012290691, 0.012831348, 0.013539564, 0.012958289, 0.014285275, 0.01401158, 0.0114603825, 0.012343223, 0.015409746, 0.017769458, 0.013940763, 0.014002159, 0.012712457, 0.013093823, 0.014086808, 0.012873806, 0.011956595, 0.010614102, 0.0111407135, 0.013317609, 0.012860292, 0.013356148, 0.0141596645, 0.0109785525, 0.016152995, 0.012133788, 0.01222837, 0.011595308, 0.016079346, 0.013073018, 0.013006623, 0.014557833, 0.0123174675, 0.0115946075, 0.0104044145, 0.014978399, 0.013951359, 0.011968171, 0.012805224, 0.012122011, 0.01921849, 0.0130984895, 0.014344561, 0.014374849, 0.013243346, 0.012117276, 0.012165296, 0.013788124, 0.012355863, 0.010645783, 0.012259453, 0.013334645, 0.012208113, 0.01334953, 0.01106909, 0.011494254, 0.010941879, 0.012613386, 0.012096004]\n"
     ]
    },
    {
     "name": "stderr",
     "output_type": "stream",
     "text": [
      "2022-02-28 14:10:05,294 : INFO : merging changes from 2000 documents into a model of 3204 documents\n",
      "2022-02-28 14:10:05,301 : INFO : topic #75 (0.010): 0.092*\"233\" + 0.084*\"50\" + 0.081*\"73\" + 0.043*\"169\" + 0.037*\"316\" + 0.037*\"981\" + 0.032*\"741\" + 0.022*\"466\" + 0.022*\"970\" + 0.022*\"97\"\n",
      "2022-02-28 14:10:05,303 : INFO : topic #90 (0.011): 0.063*\"50\" + 0.062*\"241\" + 0.058*\"49\" + 0.042*\"6\" + 0.036*\"897\" + 0.022*\"106\" + 0.020*\"45\" + 0.019*\"26\" + 0.019*\"0\" + 0.017*\"85\"\n",
      "2022-02-28 14:10:05,304 : INFO : topic #22 (0.019): 0.612*\"41\" + 0.054*\"87\" + 0.049*\"56\" + 0.039*\"75\" + 0.026*\"140\" + 0.017*\"63\" + 0.014*\"702\" + 0.014*\"105\" + 0.012*\"13\" + 0.011*\"905\"\n",
      "2022-02-28 14:10:05,304 : INFO : topic #81 (0.019): 0.240*\"3\" + 0.096*\"50\" + 0.079*\"13\" + 0.026*\"0\" + 0.026*\"580\" + 0.021*\"154\" + 0.019*\"581\" + 0.019*\"498\" + 0.018*\"594\" + 0.016*\"673\"\n",
      "2022-02-28 14:10:05,305 : INFO : topic #26 (0.060): 0.367*\"34\" + 0.352*\"35\" + 0.228*\"83\" + 0.012*\"1057\" + 0.009*\"404\" + 0.007*\"0\" + 0.006*\"1018\" + 0.003*\"695\" + 0.003*\"701\" + 0.003*\"536\"\n",
      "2022-02-28 14:10:05,307 : INFO : topic diff=0.179197, rho=0.231857\n",
      "2022-02-28 14:10:06,105 : INFO : -6.434 per-word bound, 86.5 perplexity estimate based on a held-out corpus of 1204 documents with 49783 words\n",
      "2022-02-28 14:10:06,105 : INFO : PROGRESS: pass 16, at document #3204/3204\n",
      "2022-02-28 14:10:06,765 : INFO : optimized alpha [0.013338601, 0.011934709, 0.012453987, 0.013639879, 0.012810644, 0.012225049, 0.016355941, 0.0151218735, 0.011578392, 0.014628157, 0.0119162705, 0.014558565, 0.013621645, 0.014222384, 0.012332198, 0.013462508, 0.014065612, 0.011640954, 0.01782147, 0.01238548, 0.012778748, 0.01170083, 0.019395905, 0.012751995, 0.015215179, 0.017329885, 0.061157297, 0.012500126, 0.014267793, 0.013247059, 0.011897577, 0.01133347, 0.013026193, 0.012589359, 0.011622132, 0.015852481, 0.012251178, 0.016619124, 0.01387796, 0.015236439, 0.013327187, 0.01241331, 0.012970625, 0.013721383, 0.013180209, 0.014410561, 0.014171252, 0.011609023, 0.012397724, 0.015628748, 0.017865904, 0.0141452, 0.014077309, 0.0128216455, 0.013311547, 0.014301147, 0.013015367, 0.012041959, 0.010693885, 0.011243544, 0.013526083, 0.013080635, 0.013548346, 0.014290641, 0.011063881, 0.016486311, 0.012276994, 0.012359249, 0.011695779, 0.01627897, 0.013153489, 0.013124086, 0.014724121, 0.012452621, 0.011685228, 0.010488839, 0.015110535, 0.01404423, 0.01219355, 0.013007777, 0.01225172, 0.019582989, 0.01325317, 0.014590871, 0.014649792, 0.013418863, 0.012162582, 0.012270219, 0.014009389, 0.0125151845, 0.0106985, 0.012368834, 0.013528677, 0.012303019, 0.013483568, 0.011180678, 0.011589073, 0.011041546, 0.012748683, 0.012208621]\n",
      "2022-02-28 14:10:06,772 : INFO : merging changes from 1204 documents into a model of 3204 documents\n",
      "2022-02-28 14:10:06,778 : INFO : topic #75 (0.010): 0.093*\"233\" + 0.086*\"50\" + 0.079*\"73\" + 0.044*\"169\" + 0.041*\"981\" + 0.037*\"316\" + 0.035*\"741\" + 0.024*\"970\" + 0.023*\"97\" + 0.022*\"466\"\n",
      "2022-02-28 14:10:06,779 : INFO : topic #58 (0.011): 0.148*\"136\" + 0.080*\"50\" + 0.054*\"640\" + 0.044*\"6\" + 0.039*\"589\" + 0.033*\"48\" + 0.032*\"519\" + 0.031*\"98\" + 0.030*\"912\" + 0.027*\"422\"\n",
      "2022-02-28 14:10:06,780 : INFO : topic #22 (0.019): 0.639*\"41\" + 0.049*\"87\" + 0.043*\"56\" + 0.033*\"75\" + 0.027*\"140\" + 0.016*\"63\" + 0.015*\"105\" + 0.014*\"702\" + 0.012*\"905\" + 0.011*\"308\"\n",
      "2022-02-28 14:10:06,781 : INFO : topic #81 (0.020): 0.238*\"3\" + 0.097*\"50\" + 0.080*\"13\" + 0.030*\"580\" + 0.025*\"0\" + 0.020*\"154\" + 0.019*\"581\" + 0.019*\"498\" + 0.018*\"594\" + 0.017*\"673\"\n",
      "2022-02-28 14:10:06,786 : INFO : topic #26 (0.061): 0.371*\"34\" + 0.353*\"35\" + 0.223*\"83\" + 0.013*\"1057\" + 0.009*\"404\" + 0.007*\"0\" + 0.005*\"1018\" + 0.003*\"695\" + 0.003*\"701\" + 0.003*\"536\"\n",
      "2022-02-28 14:10:06,786 : INFO : topic diff=0.184948, rho=0.231857\n",
      "2022-02-28 14:10:06,796 : INFO : PROGRESS: pass 17, at document #2000/3204\n",
      "2022-02-28 14:10:07,466 : INFO : optimized alpha [0.0134394765, 0.011974983, 0.012491554, 0.013725509, 0.012888525, 0.012269442, 0.016444948, 0.015094237, 0.0116498545, 0.014645925, 0.011907767, 0.014719637, 0.013601187, 0.014294212, 0.01235247, 0.01359302, 0.014176739, 0.011658865, 0.017986761, 0.012406379, 0.01280367, 0.011718957, 0.019787358, 0.012736675, 0.015591774, 0.017537683, 0.06336406, 0.012537284, 0.014366447, 0.013266716, 0.011923769, 0.011365649, 0.013037795, 0.012629662, 0.01167908, 0.015984794, 0.012331703, 0.016816335, 0.013952756, 0.015342467, 0.013393823, 0.012448738, 0.013007495, 0.013704208, 0.013180457, 0.014525134, 0.014263635, 0.011608957, 0.012471174, 0.01574704, 0.018155562, 0.014220806, 0.01427451, 0.012826573, 0.013347053, 0.014371234, 0.013044592, 0.012063877, 0.010727797, 0.011261021, 0.013516195, 0.013153156, 0.013639251, 0.014468485, 0.0110730585, 0.016614981, 0.0123114465, 0.012377261, 0.0117106745, 0.016402652, 0.013254005, 0.013210105, 0.0147866355, 0.01248382, 0.011706235, 0.010497271, 0.015300734, 0.014148833, 0.012321705, 0.013020758, 0.012258489, 0.019855076, 0.013272064, 0.014651905, 0.014650078, 0.013448692, 0.012260336, 0.012293092, 0.014032584, 0.012571654, 0.010717575, 0.012422217, 0.013535542, 0.012374993, 0.013590031, 0.011189764, 0.011606495, 0.011030651, 0.012813097, 0.012226674]\n",
      "2022-02-28 14:10:07,474 : INFO : merging changes from 2000 documents into a model of 3204 documents\n",
      "2022-02-28 14:10:07,481 : INFO : topic #75 (0.010): 0.096*\"233\" + 0.084*\"50\" + 0.081*\"73\" + 0.043*\"169\" + 0.037*\"316\" + 0.037*\"981\" + 0.032*\"741\" + 0.022*\"466\" + 0.022*\"97\" + 0.022*\"970\"\n",
      "2022-02-28 14:10:07,483 : INFO : topic #90 (0.011): 0.062*\"50\" + 0.062*\"241\" + 0.059*\"49\" + 0.042*\"6\" + 0.035*\"897\" + 0.022*\"106\" + 0.020*\"45\" + 0.019*\"26\" + 0.019*\"0\" + 0.017*\"85\"\n",
      "2022-02-28 14:10:07,485 : INFO : topic #22 (0.020): 0.620*\"41\" + 0.051*\"87\" + 0.049*\"56\" + 0.040*\"75\" + 0.026*\"140\" + 0.017*\"63\" + 0.014*\"702\" + 0.014*\"105\" + 0.011*\"13\" + 0.010*\"905\"\n",
      "2022-02-28 14:10:07,486 : INFO : topic #81 (0.020): 0.242*\"3\" + 0.096*\"50\" + 0.078*\"13\" + 0.026*\"0\" + 0.026*\"580\" + 0.021*\"154\" + 0.019*\"581\" + 0.019*\"498\" + 0.018*\"594\" + 0.016*\"673\"\n",
      "2022-02-28 14:10:07,486 : INFO : topic #26 (0.063): 0.368*\"34\" + 0.352*\"35\" + 0.227*\"83\" + 0.012*\"1057\" + 0.009*\"404\" + 0.007*\"0\" + 0.006*\"1018\" + 0.003*\"695\" + 0.003*\"701\" + 0.003*\"536\"\n",
      "2022-02-28 14:10:07,488 : INFO : topic diff=0.166428, rho=0.225865\n",
      "2022-02-28 14:10:08,282 : INFO : -6.428 per-word bound, 86.1 perplexity estimate based on a held-out corpus of 1204 documents with 49783 words\n",
      "2022-02-28 14:10:08,282 : INFO : PROGRESS: pass 17, at document #3204/3204\n",
      "2022-02-28 14:10:08,917 : INFO : optimized alpha [0.013510782, 0.012067151, 0.0125938365, 0.013879671, 0.013012217, 0.012389619, 0.016673118, 0.015382777, 0.011706755, 0.0148848295, 0.012042303, 0.014818249, 0.013808954, 0.014447184, 0.012488648, 0.013720335, 0.014403967, 0.011756863, 0.018293152, 0.012564077, 0.012919696, 0.011833767, 0.020257186, 0.012903593, 0.015570042, 0.017824171, 0.06478211, 0.012709339, 0.014568931, 0.013434088, 0.0120728, 0.011455196, 0.01320161, 0.012737922, 0.011729537, 0.016223455, 0.012399237, 0.017120682, 0.0142142745, 0.015569377, 0.013551654, 0.012573755, 0.0131467655, 0.013888116, 0.01339918, 0.014650523, 0.014420504, 0.011746375, 0.012526829, 0.015953664, 0.018234544, 0.014430205, 0.014352717, 0.012931304, 0.013569354, 0.014585062, 0.013183603, 0.012147606, 0.010810149, 0.011364093, 0.013721387, 0.013378451, 0.0138261495, 0.014599518, 0.011163174, 0.016948344, 0.012449854, 0.012503457, 0.011811484, 0.016598655, 0.013335148, 0.013330403, 0.014949932, 0.012618905, 0.011795139, 0.010586022, 0.0154355485, 0.014239624, 0.012559394, 0.0132252835, 0.012385868, 0.020219153, 0.013423993, 0.014897601, 0.014927093, 0.01362403, 0.012304493, 0.012398341, 0.0142452195, 0.012728472, 0.01077139, 0.012529535, 0.01372643, 0.012468041, 0.0137216635, 0.011299277, 0.011699554, 0.011130581, 0.012946043, 0.012339506]\n",
      "2022-02-28 14:10:08,922 : INFO : merging changes from 1204 documents into a model of 3204 documents\n",
      "2022-02-28 14:10:08,929 : INFO : topic #75 (0.011): 0.096*\"233\" + 0.086*\"50\" + 0.078*\"73\" + 0.044*\"169\" + 0.041*\"981\" + 0.037*\"316\" + 0.035*\"741\" + 0.024*\"243\" + 0.024*\"970\" + 0.023*\"97\"\n",
      "2022-02-28 14:10:08,930 : INFO : topic #90 (0.011): 0.061*\"49\" + 0.061*\"50\" + 0.061*\"241\" + 0.040*\"6\" + 0.035*\"897\" + 0.024*\"106\" + 0.019*\"45\" + 0.019*\"26\" + 0.018*\"0\" + 0.017*\"85\"\n"
     ]
    },
    {
     "name": "stderr",
     "output_type": "stream",
     "text": [
      "2022-02-28 14:10:08,930 : INFO : topic #22 (0.020): 0.645*\"41\" + 0.047*\"87\" + 0.043*\"56\" + 0.033*\"75\" + 0.027*\"140\" + 0.017*\"63\" + 0.015*\"105\" + 0.014*\"702\" + 0.011*\"905\" + 0.011*\"308\"\n",
      "2022-02-28 14:10:08,931 : INFO : topic #81 (0.020): 0.239*\"3\" + 0.098*\"50\" + 0.080*\"13\" + 0.030*\"580\" + 0.025*\"0\" + 0.020*\"154\" + 0.019*\"581\" + 0.019*\"498\" + 0.018*\"594\" + 0.017*\"673\"\n",
      "2022-02-28 14:10:08,932 : INFO : topic #26 (0.065): 0.372*\"34\" + 0.354*\"35\" + 0.222*\"83\" + 0.012*\"1057\" + 0.009*\"404\" + 0.007*\"0\" + 0.005*\"1018\" + 0.003*\"695\" + 0.003*\"701\" + 0.003*\"536\"\n",
      "2022-02-28 14:10:08,932 : INFO : topic diff=0.171564, rho=0.225865\n",
      "2022-02-28 14:10:08,940 : INFO : PROGRESS: pass 18, at document #2000/3204\n",
      "2022-02-28 14:10:09,603 : INFO : optimized alpha [0.013608516, 0.012108055, 0.0126306685, 0.013962255, 0.0130930925, 0.012431772, 0.016758239, 0.015357666, 0.011775747, 0.014901435, 0.012031134, 0.014977104, 0.013786728, 0.014514433, 0.01250836, 0.01385064, 0.014514901, 0.011774432, 0.018453626, 0.012585749, 0.012948435, 0.011851478, 0.020648535, 0.012888235, 0.015946018, 0.01803146, 0.06698311, 0.012748383, 0.014660955, 0.013453073, 0.012103666, 0.011490659, 0.013214145, 0.012780335, 0.011786859, 0.016357075, 0.012477059, 0.017315492, 0.014288938, 0.0156716, 0.013615515, 0.012607072, 0.013184266, 0.013872455, 0.013400159, 0.014764862, 0.014509644, 0.011753966, 0.012594966, 0.016071597, 0.018508704, 0.014500983, 0.014549242, 0.012934769, 0.013603619, 0.014661526, 0.0132135935, 0.012171876, 0.010843438, 0.01137997, 0.013710968, 0.013455457, 0.013915478, 0.0147816995, 0.011172156, 0.017068977, 0.012486184, 0.012523783, 0.011828777, 0.01672379, 0.013434066, 0.013419528, 0.015011026, 0.012650747, 0.011814498, 0.010598974, 0.015620165, 0.014340957, 0.012692001, 0.013237411, 0.01239239, 0.020490719, 0.013440739, 0.014956938, 0.014927963, 0.013660588, 0.012399357, 0.012422149, 0.014272098, 0.012786672, 0.010790286, 0.012583317, 0.013731146, 0.012538813, 0.01383409, 0.0113068875, 0.011716657, 0.011121196, 0.013013572, 0.012355789]\n",
      "2022-02-28 14:10:09,610 : INFO : merging changes from 2000 documents into a model of 3204 documents\n",
      "2022-02-28 14:10:09,619 : INFO : topic #75 (0.011): 0.099*\"233\" + 0.084*\"50\" + 0.081*\"73\" + 0.043*\"169\" + 0.038*\"316\" + 0.037*\"981\" + 0.032*\"741\" + 0.024*\"243\" + 0.023*\"97\" + 0.022*\"466\"\n",
      "2022-02-28 14:10:09,620 : INFO : topic #90 (0.011): 0.062*\"50\" + 0.062*\"241\" + 0.058*\"49\" + 0.042*\"6\" + 0.035*\"897\" + 0.022*\"106\" + 0.020*\"45\" + 0.019*\"0\" + 0.018*\"26\" + 0.017*\"85\"\n",
      "2022-02-28 14:10:09,621 : INFO : topic #81 (0.020): 0.242*\"3\" + 0.097*\"50\" + 0.078*\"13\" + 0.026*\"580\" + 0.026*\"0\" + 0.021*\"154\" + 0.019*\"581\" + 0.019*\"498\" + 0.018*\"594\" + 0.016*\"673\"\n",
      "2022-02-28 14:10:09,622 : INFO : topic #22 (0.021): 0.627*\"41\" + 0.049*\"87\" + 0.049*\"56\" + 0.039*\"75\" + 0.026*\"140\" + 0.017*\"63\" + 0.015*\"702\" + 0.014*\"105\" + 0.011*\"13\" + 0.010*\"905\"\n",
      "2022-02-28 14:10:09,623 : INFO : topic #26 (0.067): 0.370*\"34\" + 0.353*\"35\" + 0.226*\"83\" + 0.012*\"1057\" + 0.009*\"404\" + 0.007*\"0\" + 0.006*\"1018\" + 0.003*\"695\" + 0.003*\"701\" + 0.003*\"536\"\n",
      "2022-02-28 14:10:09,624 : INFO : topic diff=0.155317, rho=0.220316\n",
      "2022-02-28 14:10:10,406 : INFO : -6.422 per-word bound, 85.7 perplexity estimate based on a held-out corpus of 1204 documents with 49783 words\n",
      "2022-02-28 14:10:10,407 : INFO : PROGRESS: pass 18, at document #3204/3204\n",
      "2022-02-28 14:10:11,029 : INFO : optimized alpha [0.013673222, 0.0121963415, 0.012733482, 0.0141139, 0.013219571, 0.012554491, 0.016982831, 0.015647985, 0.011831495, 0.01513423, 0.012163404, 0.015070614, 0.013991325, 0.014664883, 0.01264227, 0.013975667, 0.01473943, 0.011868532, 0.01875934, 0.012729464, 0.013062452, 0.011964396, 0.021142803, 0.013050074, 0.015921576, 0.018307589, 0.06829932, 0.012934583, 0.0148663055, 0.013615341, 0.012243761, 0.011580791, 0.013380329, 0.012881972, 0.011836334, 0.016595332, 0.012543184, 0.017616492, 0.014558211, 0.015895197, 0.013773205, 0.012737188, 0.013321149, 0.014061092, 0.013615934, 0.014890476, 0.014666462, 0.011893532, 0.012647205, 0.01627187, 0.018594386, 0.01470215, 0.014630471, 0.013040047, 0.013825657, 0.014875094, 0.013347827, 0.012254067, 0.010928381, 0.01148553, 0.0139156105, 0.013690943, 0.014107285, 0.014915578, 0.011262833, 0.017402451, 0.012622339, 0.012647854, 0.011930039, 0.01692576, 0.01351351, 0.013542604, 0.015171513, 0.012783601, 0.011903961, 0.010686218, 0.01574931, 0.014427138, 0.012930803, 0.013439155, 0.012519864, 0.020839393, 0.013590107, 0.015199484, 0.015196063, 0.013830739, 0.012442458, 0.012525556, 0.014473729, 0.012945914, 0.010849215, 0.012688721, 0.013921681, 0.012632394, 0.013965959, 0.011414625, 0.0118123675, 0.01121941, 0.013144339, 0.0124734165]\n",
      "2022-02-28 14:10:11,036 : INFO : merging changes from 1204 documents into a model of 3204 documents\n",
      "2022-02-28 14:10:11,042 : INFO : topic #75 (0.011): 0.099*\"233\" + 0.086*\"50\" + 0.078*\"73\" + 0.044*\"169\" + 0.041*\"981\" + 0.037*\"316\" + 0.034*\"741\" + 0.028*\"243\" + 0.024*\"97\" + 0.024*\"318\"\n",
      "2022-02-28 14:10:11,043 : INFO : topic #90 (0.011): 0.061*\"49\" + 0.061*\"50\" + 0.060*\"241\" + 0.040*\"6\" + 0.035*\"897\" + 0.024*\"106\" + 0.019*\"45\" + 0.018*\"0\" + 0.018*\"26\" + 0.017*\"85\"\n",
      "2022-02-28 14:10:11,044 : INFO : topic #81 (0.021): 0.240*\"3\" + 0.098*\"50\" + 0.080*\"13\" + 0.030*\"580\" + 0.025*\"0\" + 0.021*\"154\" + 0.019*\"581\" + 0.019*\"498\" + 0.018*\"594\" + 0.017*\"673\"\n",
      "2022-02-28 14:10:11,045 : INFO : topic #22 (0.021): 0.651*\"41\" + 0.045*\"87\" + 0.043*\"56\" + 0.033*\"75\" + 0.026*\"140\" + 0.017*\"63\" + 0.014*\"702\" + 0.014*\"105\" + 0.011*\"308\" + 0.011*\"905\"\n",
      "2022-02-28 14:10:11,045 : INFO : topic #26 (0.068): 0.373*\"34\" + 0.354*\"35\" + 0.222*\"83\" + 0.012*\"1057\" + 0.009*\"404\" + 0.007*\"0\" + 0.005*\"1018\" + 0.003*\"695\" + 0.003*\"701\" + 0.003*\"536\"\n",
      "2022-02-28 14:10:11,046 : INFO : topic diff=0.159662, rho=0.220316\n",
      "2022-02-28 14:10:11,054 : INFO : PROGRESS: pass 19, at document #2000/3204\n",
      "2022-02-28 14:10:11,692 : INFO : optimized alpha [0.013769511, 0.012236571, 0.012773789, 0.014196588, 0.013299283, 0.012597224, 0.017064175, 0.015620227, 0.011898197, 0.015151407, 0.012154898, 0.015229015, 0.013970384, 0.014734109, 0.012664155, 0.014110253, 0.014850218, 0.011885803, 0.0189068, 0.012751932, 0.013087784, 0.011981763, 0.021540722, 0.013033242, 0.016292002, 0.018514412, 0.070488825, 0.012978347, 0.014961677, 0.013633637, 0.012275249, 0.011614433, 0.01339514, 0.012923667, 0.011892743, 0.016728498, 0.012619858, 0.017814634, 0.014637435, 0.015993787, 0.013835853, 0.0127698155, 0.0133578535, 0.014052914, 0.013617668, 0.015004724, 0.01475724, 0.011895578, 0.012715693, 0.0163913, 0.018865226, 0.014772992, 0.01482492, 0.013046353, 0.013860227, 0.01494995, 0.013375679, 0.012278013, 0.010962305, 0.011501087, 0.013906318, 0.013768048, 0.01419659, 0.015097588, 0.0112765515, 0.017526368, 0.012656537, 0.0126662925, 0.011945704, 0.017048834, 0.01361098, 0.013639285, 0.015231348, 0.01281475, 0.011923023, 0.010698933, 0.015935205, 0.01453327, 0.013063674, 0.013449056, 0.012526134, 0.02110585, 0.013604831, 0.01525885, 0.015197381, 0.013866382, 0.01253592, 0.012548933, 0.014501147, 0.013005883, 0.010864362, 0.012740195, 0.013927286, 0.012703388, 0.014075299, 0.011420808, 0.011829178, 0.011212646, 0.013206487, 0.012491989]\n",
      "2022-02-28 14:10:11,699 : INFO : merging changes from 2000 documents into a model of 3204 documents\n",
      "2022-02-28 14:10:11,707 : INFO : topic #75 (0.011): 0.102*\"233\" + 0.085*\"50\" + 0.080*\"73\" + 0.043*\"169\" + 0.038*\"316\" + 0.037*\"981\" + 0.031*\"741\" + 0.028*\"243\" + 0.024*\"97\" + 0.023*\"318\"\n",
      "2022-02-28 14:10:11,709 : INFO : topic #90 (0.011): 0.062*\"241\" + 0.061*\"50\" + 0.058*\"49\" + 0.042*\"6\" + 0.035*\"897\" + 0.022*\"106\" + 0.020*\"45\" + 0.019*\"0\" + 0.018*\"26\" + 0.017*\"85\"\n",
      "2022-02-28 14:10:11,711 : INFO : topic #81 (0.021): 0.243*\"3\" + 0.098*\"50\" + 0.078*\"13\" + 0.026*\"580\" + 0.026*\"0\" + 0.021*\"154\" + 0.019*\"581\" + 0.019*\"498\" + 0.018*\"594\" + 0.016*\"673\"\n",
      "2022-02-28 14:10:11,711 : INFO : topic #22 (0.022): 0.633*\"41\" + 0.049*\"56\" + 0.048*\"87\" + 0.039*\"75\" + 0.026*\"140\" + 0.017*\"63\" + 0.015*\"702\" + 0.014*\"105\" + 0.011*\"174\" + 0.010*\"187\"\n",
      "2022-02-28 14:10:11,712 : INFO : topic #26 (0.070): 0.370*\"34\" + 0.353*\"35\" + 0.226*\"83\" + 0.012*\"1057\" + 0.009*\"404\" + 0.007*\"0\" + 0.006*\"1018\" + 0.003*\"695\" + 0.003*\"701\" + 0.003*\"536\"\n"
     ]
    },
    {
     "name": "stderr",
     "output_type": "stream",
     "text": [
      "2022-02-28 14:10:11,714 : INFO : topic diff=0.145453, rho=0.215156\n",
      "2022-02-28 14:10:12,487 : INFO : -6.417 per-word bound, 85.5 perplexity estimate based on a held-out corpus of 1204 documents with 49783 words\n",
      "2022-02-28 14:10:12,487 : INFO : PROGRESS: pass 19, at document #3204/3204\n",
      "2022-02-28 14:10:13,094 : INFO : optimized alpha [0.013835277, 0.012323329, 0.012874879, 0.014343265, 0.013423686, 0.012715729, 0.01728537, 0.01590697, 0.011952883, 0.015383789, 0.012287289, 0.015320294, 0.014167195, 0.014879541, 0.012795958, 0.014238099, 0.015072202, 0.0119804265, 0.019208666, 0.012905021, 0.013199938, 0.012095101, 0.022030013, 0.013194956, 0.016259156, 0.018790387, 0.07175127, 0.013157713, 0.015159048, 0.013791008, 0.012413303, 0.011703068, 0.0135637, 0.013023565, 0.011941305, 0.016966565, 0.012691561, 0.01811241, 0.014907023, 0.016211482, 0.013998517, 0.012895699, 0.013494977, 0.014233639, 0.013830608, 0.015128002, 0.0149247805, 0.012033043, 0.012769175, 0.016585516, 0.01894426, 0.014976653, 0.014906618, 0.0131499, 0.014077196, 0.015168677, 0.013510124, 0.0123566, 0.0110458145, 0.011609104, 0.0141156195, 0.01400152, 0.014393587, 0.015229054, 0.011374027, 0.017857, 0.012795172, 0.012786105, 0.012049606, 0.017244622, 0.01368879, 0.013762778, 0.015389232, 0.012947824, 0.012010954, 0.010792409, 0.01606159, 0.014617691, 0.013305925, 0.013648262, 0.012653806, 0.021446614, 0.013754229, 0.015498401, 0.015470603, 0.014046661, 0.012578017, 0.012655123, 0.014697317, 0.013158258, 0.010920363, 0.012843803, 0.0141150495, 0.012790766, 0.01420752, 0.011537099, 0.011923317, 0.011307233, 0.01333519, 0.012603255]\n",
      "2022-02-28 14:10:13,100 : INFO : merging changes from 1204 documents into a model of 3204 documents\n",
      "2022-02-28 14:10:13,107 : INFO : topic #75 (0.011): 0.102*\"233\" + 0.087*\"50\" + 0.077*\"73\" + 0.043*\"169\" + 0.041*\"981\" + 0.037*\"316\" + 0.033*\"741\" + 0.033*\"243\" + 0.025*\"97\" + 0.025*\"318\"\n",
      "2022-02-28 14:10:13,109 : INFO : topic #90 (0.011): 0.061*\"49\" + 0.060*\"50\" + 0.060*\"241\" + 0.040*\"6\" + 0.035*\"897\" + 0.024*\"106\" + 0.019*\"45\" + 0.018*\"0\" + 0.017*\"26\" + 0.017*\"85\"\n",
      "2022-02-28 14:10:13,110 : INFO : topic #81 (0.021): 0.240*\"3\" + 0.099*\"50\" + 0.079*\"13\" + 0.030*\"580\" + 0.025*\"0\" + 0.021*\"154\" + 0.019*\"581\" + 0.019*\"498\" + 0.018*\"594\" + 0.017*\"673\"\n",
      "2022-02-28 14:10:13,111 : INFO : topic #22 (0.022): 0.656*\"41\" + 0.044*\"87\" + 0.043*\"56\" + 0.033*\"75\" + 0.027*\"140\" + 0.017*\"63\" + 0.014*\"702\" + 0.014*\"105\" + 0.011*\"905\" + 0.011*\"174\"\n",
      "2022-02-28 14:10:13,112 : INFO : topic #26 (0.072): 0.373*\"34\" + 0.355*\"35\" + 0.222*\"83\" + 0.012*\"1057\" + 0.009*\"404\" + 0.007*\"0\" + 0.005*\"1018\" + 0.003*\"695\" + 0.003*\"701\" + 0.003*\"536\"\n",
      "2022-02-28 14:10:13,113 : INFO : topic diff=0.149261, rho=0.215156\n",
      "2022-02-28 14:10:13,120 : INFO : LdaModel lifecycle event {'msg': 'trained LdaModel(num_terms=1197, num_topics=100, decay=0.5, chunksize=2000) in 51.88s', 'datetime': '2022-02-28T14:10:13.120551', 'gensim': '4.1.2', 'python': '3.8.10 (default, Nov 26 2021, 20:14:08) \\n[GCC 9.3.0]', 'platform': 'Linux-5.13.0-30-generic-x86_64-with-glibc2.29', 'event': 'created'}\n"
     ]
    },
    {
     "data": {
      "text/plain": [
       "[(0, 0.005616999),\n",
       " (1, 0.0050031617),\n",
       " (2, 0.005227086),\n",
       " (3, 0.005823238),\n",
       " (4, 0.0054498967),\n",
       " (5, 0.0051624724),\n",
       " (6, 0.0070177056),\n",
       " (7, 0.0064580874),\n",
       " (8, 0.004852764),\n",
       " (9, 0.006245681),\n",
       " (10, 0.0049885297),\n",
       " (11, 0.0062199025),\n",
       " (12, 0.005751755),\n",
       " (13, 0.0060409606),\n",
       " (14, 0.005195045),\n",
       " (15, 0.005780541),\n",
       " (16, 0.0061191795),\n",
       " (17, 0.0048639462),\n",
       " (18, 0.007798547),\n",
       " (19, 0.0052393237),\n",
       " (20, 0.0053590573),\n",
       " (21, 0.004910503),\n",
       " (22, 0.008943989),\n",
       " (23, 0.0053570345),\n",
       " (24, 0.0066010724),\n",
       " (25, 0.0076287296),\n",
       " (26, 0.029130375),\n",
       " (27, 0.005341914),\n",
       " (28, 0.0061544385),\n",
       " (29, 0.005599026),\n",
       " (30, 0.4110278),\n",
       " (31, 0.0047513414),\n",
       " (32, 0.0055067413),\n",
       " (33, 0.005287451),\n",
       " (34, 0.0048480635),\n",
       " (35, 0.006888274),\n",
       " (36, 0.0051526604),\n",
       " (37, 0.0073534767),\n",
       " (38, 0.0060521183),\n",
       " (39, 0.006581717),\n",
       " (40, 0.005683273),\n",
       " (41, 0.005235539),\n",
       " (42, 0.0054788403),\n",
       " (43, 0.005778731),\n",
       " (44, 0.0056151035),\n",
       " (45, 0.0061418335),\n",
       " (46, 0.0060593276),\n",
       " (47, 0.0048853084),\n",
       " (48, 0.0051841713),\n",
       " (49, 0.0067335716),\n",
       " (50, 0.0076912004),\n",
       " (51, 0.0060803876),\n",
       " (52, 0.006051954),\n",
       " (53, 0.0053387424),\n",
       " (54, 0.005715216),\n",
       " (55, 0.0061583477),\n",
       " (56, 0.00548499),\n",
       " (57, 0.005016669),\n",
       " (58, 0.004484502),\n",
       " (59, 0.004713193),\n",
       " (60, 0.0057308157),\n",
       " (61, 0.005684492),\n",
       " (62, 0.005843668),\n",
       " (63, 0.00618286),\n",
       " (64, 0.0046177534),\n",
       " (65, 0.007249783),\n",
       " (66, 0.0051947255),\n",
       " (67, 0.005191045),\n",
       " (68, 0.0048920326),\n",
       " (69, 0.007001163),\n",
       " (70, 0.0055575264),\n",
       " (71, 0.005587565),\n",
       " (72, 0.006247891),\n",
       " (73, 0.005256701),\n",
       " (74, 0.0048763403),\n",
       " (75, 0.0043816217),\n",
       " (76, 0.0065208618),\n",
       " (77, 0.005934652),\n",
       " (78, 0.005402087),\n",
       " (79, 0.0055410727),\n",
       " (80, 0.0051373322),\n",
       " (81, 0.008707134),\n",
       " (82, 0.005584094),\n",
       " (83, 0.0062922123),\n",
       " (84, 0.0062809265),\n",
       " (85, 0.0057028187),\n",
       " (86, 0.0051065627),\n",
       " (87, 0.0051378673),\n",
       " (88, 0.0059669795),\n",
       " (89, 0.005342135),\n",
       " (90, 0.00443357),\n",
       " (91, 0.0052144695),\n",
       " (92, 0.0057305843),\n",
       " (93, 0.005192937),\n",
       " (94, 0.0057681263),\n",
       " (95, 0.0046839593),\n",
       " (96, 0.0048407605),\n",
       " (97, 0.0045906357),\n",
       " (98, 0.005413968),\n",
       " (99, 0.005116809)]"
      ]
     },
     "execution_count": 179,
     "metadata": {},
     "output_type": "execute_result"
    }
   ],
   "source": [
    "##### Function check\n",
    "lda = LdaRetrievalModel(doc_repr_2)\n",
    "lda.train_model()\n",
    "\n",
    "# you can now get an LDA vector for a given query in the following way:\n",
    "lda.vectorize_query(\"report\")\n",
    "##### "
   ]
  },
  {
   "cell_type": "markdown",
   "metadata": {
    "deletable": false,
    "editable": false,
    "nbgrader": {
     "cell_type": "markdown",
     "checksum": "32d83b6ea79ca3ddb789a7f8805a1b25",
     "grade": false,
     "grade_id": "cell-0e24b727d5908c0e",
     "locked": true,
     "points": 5,
     "schema_version": 3,
     "solution": false,
     "task": true
    }
   },
   "source": [
    "\\#### Please do not change this. This cell is used for grading."
   ]
  },
  {
   "cell_type": "markdown",
   "metadata": {
    "deletable": false,
    "editable": false,
    "nbgrader": {
     "cell_type": "markdown",
     "checksum": "114a934f0b9ce696e6cf09d3b8da6a3d",
     "grade": false,
     "grade_id": "cell-b1bffcb970b18aeb",
     "locked": true,
     "schema_version": 3,
     "solution": false,
     "task": false
    }
   },
   "source": [
    "---\n",
    "Now we can use the `DenseRetrievalModel` class to obtain an LDA search function.\n",
    "You can test your LDA model in the following cell: Try finding queries which are lexically different to documents, but semantically similar - does LDA work well for these queries?!"
   ]
  },
  {
   "cell_type": "code",
   "execution_count": 180,
   "metadata": {},
   "outputs": [
    {
     "data": {
      "application/vnd.jupyter.widget-view+json": {
       "model_id": "199240c0026640fe8f3021b23419de1e",
       "version_major": 2,
       "version_minor": 0
      },
      "text/plain": [
       "Text(value='', description='Search Bar')"
      ]
     },
     "metadata": {},
     "output_type": "display_data"
    }
   ],
   "source": [
    "drm_lda = DenseRetrievalRanker(lda, jenson_shannon_sim)\n",
    "\n",
    "# test your LDA model\n",
    "search_fn = drm_lda.search\n",
    "\n",
    "text = widgets.Text(description=\"Search Bar\", width=200)\n",
    "display(text)\n",
    "\n",
    "\n",
    "text.on_submit(handle_submit_2)"
   ]
  },
  {
   "cell_type": "markdown",
   "metadata": {
    "deletable": false,
    "editable": false,
    "nbgrader": {
     "cell_type": "markdown",
     "checksum": "9d7f15863b655119b45f4d89354e5661",
     "grade": false,
     "grade_id": "cell-190cd0854b2791cc",
     "locked": true,
     "schema_version": 3,
     "solution": false,
     "task": false
    }
   },
   "source": [
    "## Section 8: Word2Vec/Doc2Vec (20 points) <a class=\"anchor\" id=\"2vec\"></a>\n",
    "\n",
    "[Back to Part 2](#part2)\n",
    "\n",
    "We will implement two other methods here, the Word2Vec model and the Doc2Vec model, also using `gensim`. Word2Vec creates representations of words, not documents, so the word level vectors need to be aggregated to obtain a representation for the document. Here, we will simply take the mean of the vectors. \n",
    "\n",
    "\n",
    "A drawback of these models is that they need a lot of training data. Our dataset is tiny, so in addition to using a model trained on the data, we will also use a pre-trained model for Word2Vec (this will be automatically downloaded).     \n",
    "\n",
    "*Note*:\n",
    "1. The code in vectorize_documents / vectorize_query should return gensim-like vectors i.e `[(dim, val), .. (dim, val)]`. \n",
    "2. For Word2Vec: You should also handle the following two cases: (a) A word in the query is not present in the vocabulary of the model and (b) none of the words in the query are present in the model - you can return 0 scores for all documents in this case. For either of these, you can check if a `word` is present in the vocab by using `word in self.model`\n"
   ]
  },
  {
   "cell_type": "code",
   "execution_count": 181,
   "metadata": {
    "deletable": false,
    "nbgrader": {
     "cell_type": "code",
     "checksum": "83ab733608ed14c29c09b36b4e1b6daa",
     "grade": false,
     "grade_id": "cell-2b73759f9baf688f",
     "locked": false,
     "schema_version": 3,
     "solution": true,
     "task": false
    }
   },
   "outputs": [
    {
     "name": "stderr",
     "output_type": "stream",
     "text": [
      "2022-02-28 14:10:14,887 : INFO : adding document #0 to Dictionary(0 unique tokens: [])\n",
      "2022-02-28 14:10:14,991 : INFO : built Dictionary(5937 unique tokens: ['-', 'algebra', 'intern', 'languag', 'preliminari']...) from 3204 documents (total 115969 corpus positions)\n",
      "2022-02-28 14:10:14,992 : INFO : Dictionary lifecycle event {'msg': \"built Dictionary(5937 unique tokens: ['-', 'algebra', 'intern', 'languag', 'preliminari']...) from 3204 documents (total 115969 corpus positions)\", 'datetime': '2022-02-28T14:10:14.992538', 'gensim': '4.1.2', 'python': '3.8.10 (default, Nov 26 2021, 20:14:08) \\n[GCC 9.3.0]', 'platform': 'Linux-5.13.0-30-generic-x86_64-with-glibc2.29', 'event': 'created'}\n",
      "2022-02-28 14:10:14,999 : INFO : discarding 4740 tokens: [('repeat', 8), ('glossari', 7), ('inspect', 8), ('uncol', 2), ('rung', 9), ('secant', 2), ('.', 1603), ('acceler', 6), ('diverg', 3), ('induc', 9)]...\n",
      "2022-02-28 14:10:15,000 : INFO : keeping 1197 tokens which were in no less than 10 and no more than 1602 (=50.0%) documents\n",
      "2022-02-28 14:10:15,003 : INFO : resulting dictionary: Dictionary(1197 unique tokens: ['-', 'algebra', 'intern', 'languag', 'preliminari']...)\n",
      "2022-02-28 14:10:15,065 : INFO : collecting all words and their counts\n",
      "2022-02-28 14:10:15,066 : INFO : PROGRESS: at sentence #0, processed 0 words, keeping 0 word types\n",
      "2022-02-28 14:10:15,083 : INFO : collected 5937 word types from a corpus of 115969 raw words and 3204 sentences\n",
      "2022-02-28 14:10:15,084 : INFO : Creating a fresh vocabulary\n",
      "2022-02-28 14:10:15,093 : INFO : Word2Vec lifecycle event {'msg': 'effective_min_count=5 retains 2069 unique words (34.8492504631969%% of original 5937, drops 3868)', 'datetime': '2022-02-28T14:10:15.093753', 'gensim': '4.1.2', 'python': '3.8.10 (default, Nov 26 2021, 20:14:08) \\n[GCC 9.3.0]', 'platform': 'Linux-5.13.0-30-generic-x86_64-with-glibc2.29', 'event': 'prepare_vocab'}\n",
      "2022-02-28 14:10:15,095 : INFO : Word2Vec lifecycle event {'msg': 'effective_min_count=5 leaves 109261 word corpus (94.21569557381714%% of original 115969, drops 6708)', 'datetime': '2022-02-28T14:10:15.094986', 'gensim': '4.1.2', 'python': '3.8.10 (default, Nov 26 2021, 20:14:08) \\n[GCC 9.3.0]', 'platform': 'Linux-5.13.0-30-generic-x86_64-with-glibc2.29', 'event': 'prepare_vocab'}\n",
      "2022-02-28 14:10:15,124 : INFO : deleting the raw counts dictionary of 5937 items\n",
      "2022-02-28 14:10:15,126 : INFO : sample=0.001 downsamples 44 most-common words\n",
      "2022-02-28 14:10:15,127 : INFO : Word2Vec lifecycle event {'msg': 'downsampling leaves estimated 84994.13994831842 word corpus (77.8%% of prior 109261)', 'datetime': '2022-02-28T14:10:15.127724', 'gensim': '4.1.2', 'python': '3.8.10 (default, Nov 26 2021, 20:14:08) \\n[GCC 9.3.0]', 'platform': 'Linux-5.13.0-30-generic-x86_64-with-glibc2.29', 'event': 'prepare_vocab'}\n",
      "2022-02-28 14:10:15,156 : INFO : estimated required memory for 2069 words and 100 dimensions: 2689700 bytes\n",
      "2022-02-28 14:10:15,157 : INFO : resetting layer weights\n",
      "2022-02-28 14:10:15,161 : INFO : Word2Vec lifecycle event {'update': False, 'trim_rule': 'None', 'datetime': '2022-02-28T14:10:15.160883', 'gensim': '4.1.2', 'python': '3.8.10 (default, Nov 26 2021, 20:14:08) \\n[GCC 9.3.0]', 'platform': 'Linux-5.13.0-30-generic-x86_64-with-glibc2.29', 'event': 'build_vocab'}\n",
      "2022-02-28 14:10:15,162 : INFO : Word2Vec lifecycle event {'msg': 'training model with 3 workers on 2069 vocabulary and 100 features, using sg=0 hs=0 sample=0.001 negative=5 window=5 shrink_windows=True', 'datetime': '2022-02-28T14:10:15.162459', 'gensim': '4.1.2', 'python': '3.8.10 (default, Nov 26 2021, 20:14:08) \\n[GCC 9.3.0]', 'platform': 'Linux-5.13.0-30-generic-x86_64-with-glibc2.29', 'event': 'train'}\n",
      "2022-02-28 14:10:15,256 : INFO : worker thread finished; awaiting finish of 2 more threads\n",
      "2022-02-28 14:10:15,259 : INFO : worker thread finished; awaiting finish of 1 more threads\n",
      "2022-02-28 14:10:15,262 : INFO : worker thread finished; awaiting finish of 0 more threads\n",
      "2022-02-28 14:10:15,263 : INFO : EPOCH - 1 : training on 115969 raw words (84833 effective words) took 0.1s, 883006 effective words/s\n",
      "2022-02-28 14:10:15,337 : INFO : worker thread finished; awaiting finish of 2 more threads\n",
      "2022-02-28 14:10:15,340 : INFO : worker thread finished; awaiting finish of 1 more threads\n",
      "2022-02-28 14:10:15,344 : INFO : worker thread finished; awaiting finish of 0 more threads\n",
      "2022-02-28 14:10:15,345 : INFO : EPOCH - 2 : training on 115969 raw words (85168 effective words) took 0.1s, 1113784 effective words/s\n",
      "2022-02-28 14:10:15,417 : INFO : worker thread finished; awaiting finish of 2 more threads\n",
      "2022-02-28 14:10:15,424 : INFO : worker thread finished; awaiting finish of 1 more threads\n",
      "2022-02-28 14:10:15,425 : INFO : worker thread finished; awaiting finish of 0 more threads\n",
      "2022-02-28 14:10:15,426 : INFO : EPOCH - 3 : training on 115969 raw words (85055 effective words) took 0.1s, 1127947 effective words/s\n",
      "2022-02-28 14:10:15,503 : INFO : worker thread finished; awaiting finish of 2 more threads\n",
      "2022-02-28 14:10:15,510 : INFO : worker thread finished; awaiting finish of 1 more threads\n",
      "2022-02-28 14:10:15,511 : INFO : worker thread finished; awaiting finish of 0 more threads\n",
      "2022-02-28 14:10:15,515 : INFO : EPOCH - 4 : training on 115969 raw words (85094 effective words) took 0.1s, 985008 effective words/s\n",
      "2022-02-28 14:10:15,597 : INFO : worker thread finished; awaiting finish of 2 more threads\n",
      "2022-02-28 14:10:15,601 : INFO : worker thread finished; awaiting finish of 1 more threads\n",
      "2022-02-28 14:10:15,603 : INFO : worker thread finished; awaiting finish of 0 more threads\n",
      "2022-02-28 14:10:15,603 : INFO : EPOCH - 5 : training on 115969 raw words (85095 effective words) took 0.1s, 1012689 effective words/s\n",
      "2022-02-28 14:10:15,604 : INFO : Word2Vec lifecycle event {'msg': 'training on 579845 raw words (425245 effective words) took 0.4s, 963805 effective words/s', 'datetime': '2022-02-28T14:10:15.604806', 'gensim': '4.1.2', 'python': '3.8.10 (default, Nov 26 2021, 20:14:08) \\n[GCC 9.3.0]', 'platform': 'Linux-5.13.0-30-generic-x86_64-with-glibc2.29', 'event': 'train'}\n",
      "2022-02-28 14:10:15,606 : INFO : Word2Vec lifecycle event {'params': 'Word2Vec(vocab=2069, vector_size=100, alpha=0.025)', 'datetime': '2022-02-28T14:10:15.606216', 'gensim': '4.1.2', 'python': '3.8.10 (default, Nov 26 2021, 20:14:08) \\n[GCC 9.3.0]', 'platform': 'Linux-5.13.0-30-generic-x86_64-with-glibc2.29', 'event': 'created'}\n"
     ]
    },
    {
     "data": {
      "text/plain": [
       "[(0, 0.11334200203418732),\n",
       " (1, 0.4299832880496979),\n",
       " (2, 0.18170103430747986),\n",
       " (3, -0.15169990062713623),\n",
       " (4, 0.05395561084151268),\n",
       " (5, -0.47995150089263916),\n",
       " (6, 0.2027544379234314),\n",
       " (7, 0.7525514960289001),\n",
       " (8, -0.25156885385513306),\n",
       " (9, -0.29004886746406555),\n",
       " (10, -0.023942962288856506),\n",
       " (11, -0.7143921256065369),\n",
       " (12, 0.30069297552108765),\n",
       " (13, -0.08065694570541382),\n",
       " (14, 0.05942344292998314),\n",
       " (15, -0.09660622477531433),\n",
       " (16, 0.09915225952863693),\n",
       " (17, -0.14617443084716797),\n",
       " (18, 0.06946460902690887),\n",
       " (19, -0.6824052333831787),\n",
       " (20, 0.026470104232430458),\n",
       " (21, 0.2892482578754425),\n",
       " (22, 0.11665066331624985),\n",
       " (23, -0.04124067723751068),\n",
       " (24, -0.12367342412471771),\n",
       " (25, 0.14742864668369293),\n",
       " (26, -0.1624273806810379),\n",
       " (27, -0.17095082998275757),\n",
       " (28, -0.24521933495998383),\n",
       " (29, -0.0719776302576065),\n",
       " (30, 0.3773348927497864),\n",
       " (31, -0.12729081511497498),\n",
       " (32, 0.39226171374320984),\n",
       " (33, -0.4095984101295471),\n",
       " (34, -0.1571471095085144),\n",
       " (35, 0.15361696481704712),\n",
       " (36, -0.02402990125119686),\n",
       " (37, -0.4310018718242645),\n",
       " (38, -0.2572415769100189),\n",
       " (39, -0.5700706839561462),\n",
       " (40, 0.1496991515159607),\n",
       " (41, -0.3295392394065857),\n",
       " (42, -0.25762709975242615),\n",
       " (43, -0.022421471774578094),\n",
       " (44, 0.36294588446617126),\n",
       " (45, -0.16349512338638306),\n",
       " (46, -0.3458980619907379),\n",
       " (47, 0.1103142723441124),\n",
       " (48, 0.022158464416861534),\n",
       " (49, 0.1642884761095047),\n",
       " (50, 0.2043100893497467),\n",
       " (51, -0.3236979842185974),\n",
       " (52, -0.2270340472459793),\n",
       " (53, 0.2104257196187973),\n",
       " (54, -0.2551458477973938),\n",
       " (55, 0.03876848891377449),\n",
       " (56, 0.12118903547525406),\n",
       " (57, -0.22356612980365753),\n",
       " (58, -0.36265480518341064),\n",
       " (59, 0.16755150258541107),\n",
       " (60, -0.11934821307659149),\n",
       " (61, 0.06720481812953949),\n",
       " (62, 0.06440326571464539),\n",
       " (63, -0.05686565861105919),\n",
       " (64, -0.5696442723274231),\n",
       " (65, 0.30057230591773987),\n",
       " (66, -0.026753736659884453),\n",
       " (67, 0.25073397159576416),\n",
       " (68, -0.44871240854263306),\n",
       " (69, 0.04809316247701645),\n",
       " (70, -0.25573256611824036),\n",
       " (71, 0.16919712722301483),\n",
       " (72, 0.5616917014122009),\n",
       " (73, -0.015260779298841953),\n",
       " (74, 0.21054770052433014),\n",
       " (75, 0.31623777747154236),\n",
       " (76, 0.2273770570755005),\n",
       " (77, 0.03833625838160515),\n",
       " (78, -0.47309306263923645),\n",
       " (79, 0.3029024302959442),\n",
       " (80, -0.3367481827735901),\n",
       " (81, 0.05052648484706879),\n",
       " (82, -0.2228955775499344),\n",
       " (83, 0.317195862531662),\n",
       " (84, 0.1543385237455368),\n",
       " (85, 0.2301766276359558),\n",
       " (86, -0.0414263978600502),\n",
       " (87, 0.23299147188663483),\n",
       " (88, 0.4712670147418976),\n",
       " (89, 0.3057064712047577),\n",
       " (90, 0.21794414520263672),\n",
       " (91, 0.44342902302742004),\n",
       " (92, -0.12747815251350403),\n",
       " (93, 0.21345220506191254),\n",
       " (94, 0.6788762807846069),\n",
       " (95, 0.6700564026832581),\n",
       " (96, 0.039138175547122955),\n",
       " (97, -0.4647631347179413),\n",
       " (98, 0.15652793645858765),\n",
       " (99, -0.03183808550238609)]"
      ]
     },
     "execution_count": 181,
     "metadata": {},
     "output_type": "execute_result"
    }
   ],
   "source": [
    "#TODO: Implement this! (10 points)\n",
    "class W2VRetrievalModel(VectorSpaceRetrievalModel):\n",
    "    def __init__(self, doc_repr):\n",
    "        super().__init__(doc_repr)\n",
    "        \n",
    "        # the dimensionality of the vectors\n",
    "        self.size = 100 \n",
    "        self.min_count = 1\n",
    "    \n",
    "    def train_model(self):\n",
    "        \"\"\"\n",
    "        Trains the W2V model\n",
    "        \"\"\"\n",
    "        self.model = Word2Vec(self.documents).wv\n",
    "        \n",
    "    def vectorize_documents(self):\n",
    "        \"\"\"\n",
    "            Returns a doc_id -> vector dictionary\n",
    "        \"\"\"\n",
    "        id2vec = {}\n",
    "        for (doc_id, doc) in self.doc_repr:\n",
    "            v = np.zeros(self.size)\n",
    "            for word in doc:\n",
    "                if word in self.model:\n",
    "                    v += self.model[word]\n",
    "                v /= len(doc)\n",
    "            id2vec[doc_id] = [(i, v[i]) for i in range(self.size)]\n",
    "            \n",
    "        return id2vec\n",
    "            \n",
    "    def vectorize_query(self, query):\n",
    "        \"\"\"\n",
    "        Vectorizes the query using the W2V model\n",
    "        \"\"\"\n",
    "        query = process_text(query, **config_2)\n",
    "        \n",
    "        v = np.zeros(self.size)\n",
    "        for word in query:\n",
    "            if word in self.model:\n",
    "                 v += self.model[word]\n",
    "        v /= len(query)\n",
    "        \n",
    "        return [(i, v[i]) for i in range(self.size)]\n",
    "    \n",
    "class W2VPretrainedRetrievalModel(W2VRetrievalModel):\n",
    "    def __init__(self, doc_repr):\n",
    "        super().__init__(doc_repr)\n",
    "        self.model_name = \"word2vec-google-news-300\"\n",
    "        self.size = 300\n",
    "    \n",
    "    def train_model(self):\n",
    "        \"\"\"\n",
    "        Loads the pretrained model\n",
    "        \"\"\"\n",
    "        global pre\n",
    "#         pre = g_downloader.load(self.model_name)\n",
    "        self.model = pre\n",
    "        \n",
    "w2v = W2VRetrievalModel(doc_repr_2)\n",
    "w2v.train_model()\n",
    "\n",
    "# you can now get a W2V vector for a given query in the following way:\n",
    "w2v.vectorize_query(\"report\")"
   ]
  },
  {
   "cell_type": "code",
   "execution_count": 182,
   "metadata": {
    "deletable": false,
    "editable": false,
    "nbgrader": {
     "cell_type": "code",
     "checksum": "f92b5c5a8c6c4b80652b94223209ab0b",
     "grade": true,
     "grade_id": "cell-b31c0f8d214b8bdf",
     "locked": true,
     "points": 0,
     "schema_version": 3,
     "solution": false,
     "task": false
    }
   },
   "outputs": [],
   "source": [
    "assert len(w2v.vectorize_query(\"report\")) == 100\n",
    "assert len(w2v.vectorize_query(\"this is a sentence that is not mellifluous\")) == 100\n"
   ]
  },
  {
   "cell_type": "markdown",
   "metadata": {
    "deletable": false,
    "editable": false,
    "nbgrader": {
     "cell_type": "markdown",
     "checksum": "8dfaabebcb06f308a7ca61fdc5d369e7",
     "grade": false,
     "grade_id": "cell-c2614fa067386384",
     "locked": true,
     "points": 8,
     "schema_version": 3,
     "solution": false,
     "task": true
    }
   },
   "source": [
    "\\#### Please do not change this. This cell is used for grading."
   ]
  },
  {
   "cell_type": "code",
   "execution_count": 183,
   "metadata": {},
   "outputs": [
    {
     "name": "stderr",
     "output_type": "stream",
     "text": [
      "2022-02-28 14:10:15,629 : INFO : adding document #0 to Dictionary(0 unique tokens: [])\n",
      "2022-02-28 14:10:15,722 : INFO : built Dictionary(5937 unique tokens: ['-', 'algebra', 'intern', 'languag', 'preliminari']...) from 3204 documents (total 115969 corpus positions)\n",
      "2022-02-28 14:10:15,723 : INFO : Dictionary lifecycle event {'msg': \"built Dictionary(5937 unique tokens: ['-', 'algebra', 'intern', 'languag', 'preliminari']...) from 3204 documents (total 115969 corpus positions)\", 'datetime': '2022-02-28T14:10:15.723001', 'gensim': '4.1.2', 'python': '3.8.10 (default, Nov 26 2021, 20:14:08) \\n[GCC 9.3.0]', 'platform': 'Linux-5.13.0-30-generic-x86_64-with-glibc2.29', 'event': 'created'}\n",
      "2022-02-28 14:10:15,728 : INFO : discarding 4740 tokens: [('repeat', 8), ('glossari', 7), ('inspect', 8), ('uncol', 2), ('rung', 9), ('secant', 2), ('.', 1603), ('acceler', 6), ('diverg', 3), ('induc', 9)]...\n",
      "2022-02-28 14:10:15,729 : INFO : keeping 1197 tokens which were in no less than 10 and no more than 1602 (=50.0%) documents\n",
      "2022-02-28 14:10:15,732 : INFO : resulting dictionary: Dictionary(1197 unique tokens: ['-', 'algebra', 'intern', 'languag', 'preliminari']...)\n"
     ]
    },
    {
     "data": {
      "text/plain": [
       "[(0, -0.142578125),\n",
       " (1, -0.1640625),\n",
       " (2, -0.09033203125),\n",
       " (3, -0.1123046875),\n",
       " (4, 0.10009765625),\n",
       " (5, -0.041259765625),\n",
       " (6, 0.048828125),\n",
       " (7, -0.13671875),\n",
       " (8, 0.1962890625),\n",
       " (9, -0.134765625),\n",
       " (10, -0.017578125),\n",
       " (11, 0.0322265625),\n",
       " (12, 0.09521484375),\n",
       " (13, -0.10595703125),\n",
       " (14, -0.169921875),\n",
       " (15, 0.041015625),\n",
       " (16, -0.263671875),\n",
       " (17, -0.006317138671875),\n",
       " (18, -0.177734375),\n",
       " (19, -0.240234375),\n",
       " (20, 0.3515625),\n",
       " (21, -0.01220703125),\n",
       " (22, -0.162109375),\n",
       " (23, -0.12060546875),\n",
       " (24, 0.043212890625),\n",
       " (25, 0.10986328125),\n",
       " (26, 0.052490234375),\n",
       " (27, 0.1787109375),\n",
       " (28, -0.1455078125),\n",
       " (29, 0.1376953125),\n",
       " (30, -0.08203125),\n",
       " (31, -0.283203125),\n",
       " (32, -0.10888671875),\n",
       " (33, -0.2890625),\n",
       " (34, 0.072265625),\n",
       " (35, -0.04736328125),\n",
       " (36, 0.040283203125),\n",
       " (37, 0.06787109375),\n",
       " (38, 0.11669921875),\n",
       " (39, 0.00083160400390625),\n",
       " (40, 0.068359375),\n",
       " (41, 0.1201171875),\n",
       " (42, -0.08837890625),\n",
       " (43, 0.337890625),\n",
       " (44, -0.044677734375),\n",
       " (45, -0.0301513671875),\n",
       " (46, 0.0076904296875),\n",
       " (47, -0.0211181640625),\n",
       " (48, -0.25390625),\n",
       " (49, 0.1494140625),\n",
       " (50, 0.3984375),\n",
       " (51, 0.0216064453125),\n",
       " (52, -0.023193359375),\n",
       " (53, 0.00634765625),\n",
       " (54, 0.00823974609375),\n",
       " (55, -0.1689453125),\n",
       " (56, 0.037353515625),\n",
       " (57, -0.0634765625),\n",
       " (58, 0.1171875),\n",
       " (59, -0.1484375),\n",
       " (60, -0.07861328125),\n",
       " (61, 0.369140625),\n",
       " (62, -0.224609375),\n",
       " (63, 0.173828125),\n",
       " (64, 0.01385498046875),\n",
       " (65, 0.1875),\n",
       " (66, -0.10107421875),\n",
       " (67, 0.037841796875),\n",
       " (68, 0.0021209716796875),\n",
       " (69, -0.05126953125),\n",
       " (70, 0.09619140625),\n",
       " (71, -0.05712890625),\n",
       " (72, 0.10595703125),\n",
       " (73, -0.02099609375),\n",
       " (74, 0.1611328125),\n",
       " (75, 0.09765625),\n",
       " (76, 0.038330078125),\n",
       " (77, 0.2197265625),\n",
       " (78, 0.1064453125),\n",
       " (79, 0.0859375),\n",
       " (80, 0.1796875),\n",
       " (81, -0.0830078125),\n",
       " (82, -0.033203125),\n",
       " (83, 0.041015625),\n",
       " (84, -0.06494140625),\n",
       " (85, 0.0198974609375),\n",
       " (86, 0.1337890625),\n",
       " (87, -0.09765625),\n",
       " (88, -0.193359375),\n",
       " (89, -0.2353515625),\n",
       " (90, 0.1904296875),\n",
       " (91, 0.0024871826171875),\n",
       " (92, -0.0157470703125),\n",
       " (93, 0.0322265625),\n",
       " (94, -0.2197265625),\n",
       " (95, -0.09130859375),\n",
       " (96, 0.021240234375),\n",
       " (97, 0.158203125),\n",
       " (98, 0.298828125),\n",
       " (99, -0.328125),\n",
       " (100, 0.057373046875),\n",
       " (101, -0.04638671875),\n",
       " (102, 0.11328125),\n",
       " (103, -0.1015625),\n",
       " (104, 0.1806640625),\n",
       " (105, -0.025146484375),\n",
       " (106, -0.166015625),\n",
       " (107, -0.09619140625),\n",
       " (108, 0.018798828125),\n",
       " (109, -0.1943359375),\n",
       " (110, 0.1494140625),\n",
       " (111, -0.056640625),\n",
       " (112, -0.10693359375),\n",
       " (113, -0.150390625),\n",
       " (114, -0.17578125),\n",
       " (115, 0.11279296875),\n",
       " (116, 0.04931640625),\n",
       " (117, 0.2197265625),\n",
       " (118, 0.318359375),\n",
       " (119, 0.1572265625),\n",
       " (120, -0.29296875),\n",
       " (121, 0.10498046875),\n",
       " (122, -0.296875),\n",
       " (123, -0.013427734375),\n",
       " (124, 0.0908203125),\n",
       " (125, 0.0125732421875),\n",
       " (126, -0.051513671875),\n",
       " (127, -0.12890625),\n",
       " (128, 0.01446533203125),\n",
       " (129, 0.12060546875),\n",
       " (130, -0.10107421875),\n",
       " (131, -0.111328125),\n",
       " (132, 0.06396484375),\n",
       " (133, -0.052978515625),\n",
       " (134, -0.043212890625),\n",
       " (135, -0.012939453125),\n",
       " (136, -0.027587890625),\n",
       " (137, -0.09716796875),\n",
       " (138, -0.2021484375),\n",
       " (139, 0.123046875),\n",
       " (140, -0.04248046875),\n",
       " (141, 0.173828125),\n",
       " (142, -0.013671875),\n",
       " (143, 0.1015625),\n",
       " (144, -0.00093841552734375),\n",
       " (145, -0.03564453125),\n",
       " (146, 0.30078125),\n",
       " (147, -0.068359375),\n",
       " (148, -0.05615234375),\n",
       " (149, 0.03759765625),\n",
       " (150, 0.06591796875),\n",
       " (151, 0.040283203125),\n",
       " (152, 0.01190185546875),\n",
       " (153, 0.09619140625),\n",
       " (154, 0.3671875),\n",
       " (155, -0.279296875),\n",
       " (156, -0.052001953125),\n",
       " (157, -0.10693359375),\n",
       " (158, -0.134765625),\n",
       " (159, -0.046142578125),\n",
       " (160, 0.25),\n",
       " (161, 0.00567626953125),\n",
       " (162, -0.014404296875),\n",
       " (163, -0.031005859375),\n",
       " (164, -0.060302734375),\n",
       " (165, 0.10595703125),\n",
       " (166, 0.37890625),\n",
       " (167, 0.058837890625),\n",
       " (168, 0.123046875),\n",
       " (169, -0.115234375),\n",
       " (170, 0.1494140625),\n",
       " (171, -0.1640625),\n",
       " (172, -0.2333984375),\n",
       " (173, -0.07763671875),\n",
       " (174, 0.0267333984375),\n",
       " (175, -0.0211181640625),\n",
       " (176, 0.1943359375),\n",
       " (177, -0.05615234375),\n",
       " (178, -0.006439208984375),\n",
       " (179, -0.169921875),\n",
       " (180, -0.11865234375),\n",
       " (181, -0.0673828125),\n",
       " (182, -0.06884765625),\n",
       " (183, -0.0869140625),\n",
       " (184, -0.1015625),\n",
       " (185, 0.01416015625),\n",
       " (186, -0.201171875),\n",
       " (187, 0.09814453125),\n",
       " (188, -0.01025390625),\n",
       " (189, 0.1875),\n",
       " (190, 0.1962890625),\n",
       " (191, -0.220703125),\n",
       " (192, -0.1962890625),\n",
       " (193, -0.07373046875),\n",
       " (194, 0.06640625),\n",
       " (195, -0.1337890625),\n",
       " (196, 0.18359375),\n",
       " (197, -0.2001953125),\n",
       " (198, 0.1982421875),\n",
       " (199, 0.05029296875),\n",
       " (200, 0.0299072265625),\n",
       " (201, 0.0177001953125),\n",
       " (202, -0.193359375),\n",
       " (203, -0.09619140625),\n",
       " (204, -0.1025390625),\n",
       " (205, 0.212890625),\n",
       " (206, -0.0299072265625),\n",
       " (207, 0.1435546875),\n",
       " (208, 0.041015625),\n",
       " (209, -0.2119140625),\n",
       " (210, 0.2080078125),\n",
       " (211, 0.1376953125),\n",
       " (212, -0.0196533203125),\n",
       " (213, 0.01495361328125),\n",
       " (214, -0.09765625),\n",
       " (215, 0.2431640625),\n",
       " (216, 0.080078125),\n",
       " (217, 0.08251953125),\n",
       " (218, 0.0986328125),\n",
       " (219, 0.056884765625),\n",
       " (220, 0.04248046875),\n",
       " (221, 0.06884765625),\n",
       " (222, -0.035400390625),\n",
       " (223, -0.076171875),\n",
       " (224, -0.00016117095947265625),\n",
       " (225, -0.0751953125),\n",
       " (226, 0.224609375),\n",
       " (227, 0.1513671875),\n",
       " (228, 0.1005859375),\n",
       " (229, 0.10986328125),\n",
       " (230, 0.0238037109375),\n",
       " (231, 0.08837890625),\n",
       " (232, 0.061767578125),\n",
       " (233, -0.10791015625),\n",
       " (234, 0.062255859375),\n",
       " (235, 0.0034332275390625),\n",
       " (236, 0.08056640625),\n",
       " (237, 0.10693359375),\n",
       " (238, 0.0888671875),\n",
       " (239, -0.2373046875),\n",
       " (240, 0.06494140625),\n",
       " (241, 0.01019287109375),\n",
       " (242, -0.08837890625),\n",
       " (243, -0.33203125),\n",
       " (244, 0.004669189453125),\n",
       " (245, 0.212890625),\n",
       " (246, 0.0859375),\n",
       " (247, 0.0203857421875),\n",
       " (248, 0.045654296875),\n",
       " (249, 0.1484375),\n",
       " (250, 0.1181640625),\n",
       " (251, 0.0556640625),\n",
       " (252, -0.1728515625),\n",
       " (253, -0.125),\n",
       " (254, -0.025390625),\n",
       " (255, -0.318359375),\n",
       " (256, 0.0311279296875),\n",
       " (257, 0.0859375),\n",
       " (258, -0.0419921875),\n",
       " (259, 0.15625),\n",
       " (260, 0.1611328125),\n",
       " (261, 0.1982421875),\n",
       " (262, -0.10009765625),\n",
       " (263, 0.203125),\n",
       " (264, 0.12890625),\n",
       " (265, 0.2333984375),\n",
       " (266, -0.267578125),\n",
       " (267, 0.05517578125),\n",
       " (268, 0.048828125),\n",
       " (269, 0.072265625),\n",
       " (270, 0.244140625),\n",
       " (271, 0.244140625),\n",
       " (272, 0.056884765625),\n",
       " (273, -0.0546875),\n",
       " (274, -0.03369140625),\n",
       " (275, -0.12060546875),\n",
       " (276, 0.034912109375),\n",
       " (277, -0.1455078125),\n",
       " (278, 0.08740234375),\n",
       " (279, -0.0830078125),\n",
       " (280, 0.0172119140625),\n",
       " (281, 0.1435546875),\n",
       " (282, -0.12255859375),\n",
       " (283, 0.1796875),\n",
       " (284, 0.130859375),\n",
       " (285, -0.1650390625),\n",
       " (286, 0.01275634765625),\n",
       " (287, 0.16015625),\n",
       " (288, -0.0311279296875),\n",
       " (289, 0.08203125),\n",
       " (290, 0.173828125),\n",
       " (291, -0.16796875),\n",
       " (292, 0.130859375),\n",
       " (293, 0.08544921875),\n",
       " (294, -0.2109375),\n",
       " (295, -0.130859375),\n",
       " (296, -0.0289306640625),\n",
       " (297, -0.10546875),\n",
       " (298, 0.08447265625),\n",
       " (299, -0.1416015625)]"
      ]
     },
     "execution_count": 183,
     "metadata": {},
     "output_type": "execute_result"
    }
   ],
   "source": [
    "w2v_pretrained = W2VPretrainedRetrievalModel(doc_repr_2)\n",
    "w2v_pretrained.train_model()\n",
    "\n",
    "# you can now get an W2V vector for a given query in the following way:\n",
    "w2v_pretrained.vectorize_query(\"report\")"
   ]
  },
  {
   "cell_type": "code",
   "execution_count": 184,
   "metadata": {
    "deletable": false,
    "editable": false,
    "nbgrader": {
     "cell_type": "code",
     "checksum": "0822845afb5eafe5ddb1ffeaa4f4942a",
     "grade": true,
     "grade_id": "cell-1b1466f8ce516f42",
     "locked": true,
     "points": 2,
     "schema_version": 3,
     "solution": false,
     "task": false
    }
   },
   "outputs": [
    {
     "name": "stdout",
     "output_type": "stream",
     "text": [
      "300\n"
     ]
    }
   ],
   "source": [
    "##### Function check\n",
    "\n",
    "print(len(w2v_pretrained.vectorize_query(\"report\")))\n",
    "#####"
   ]
  },
  {
   "cell_type": "code",
   "execution_count": 185,
   "metadata": {},
   "outputs": [
    {
     "data": {
      "application/vnd.jupyter.widget-view+json": {
       "model_id": "8c6d575639d342d291946b0e02bfa178",
       "version_major": 2,
       "version_minor": 0
      },
      "text/plain": [
       "Text(value='', description='Search Bar')"
      ]
     },
     "metadata": {},
     "output_type": "display_data"
    }
   ],
   "source": [
    "drm_w2v = DenseRetrievalRanker(w2v, cosine_sim)\n",
    "\n",
    "# test your LDA model\n",
    "search_fn = drm_w2v.search\n",
    "\n",
    "text = widgets.Text(description=\"Search Bar\", width=200)\n",
    "display(text)\n",
    "\n",
    "\n",
    "text.on_submit(handle_submit_2)"
   ]
  },
  {
   "cell_type": "code",
   "execution_count": 186,
   "metadata": {},
   "outputs": [
    {
     "data": {
      "application/vnd.jupyter.widget-view+json": {
       "model_id": "15db4cb5ea2140f2bcfddfcf8487a7ce",
       "version_major": 2,
       "version_minor": 0
      },
      "text/plain": [
       "Text(value='', description='Search Bar')"
      ]
     },
     "metadata": {},
     "output_type": "display_data"
    }
   ],
   "source": [
    "drm_w2v_pretrained = DenseRetrievalRanker(w2v_pretrained, cosine_sim)\n",
    "\n",
    "#test your LDA model\n",
    "search_fn = drm_w2v_pretrained.search\n",
    "\n",
    "text = widgets.Text(description=\"Search Bar\", width=200)\n",
    "display(text)\n",
    "\n",
    "\n",
    "text.on_submit(handle_submit_2)"
   ]
  },
  {
   "cell_type": "markdown",
   "metadata": {
    "deletable": false,
    "editable": false,
    "nbgrader": {
     "cell_type": "markdown",
     "checksum": "51b778984fd60757974f51047c61eb15",
     "grade": false,
     "grade_id": "cell-b92f701cbc706108",
     "locked": true,
     "schema_version": 3,
     "solution": false,
     "task": false
    }
   },
   "source": [
    "**Implementation (10 points):**\n",
    "For Doc2Vec, you will need to create a list of `TaggedDocument` instead of using the `self.corpus` or `self.documents` variable. Use the document id as the 'tag'.\n",
    "  "
   ]
  },
  {
   "cell_type": "code",
   "execution_count": 187,
   "metadata": {
    "deletable": false,
    "editable": false,
    "nbgrader": {
     "cell_type": "code",
     "checksum": "e83a363a9d4f136efbdde1426a83925e",
     "grade": true,
     "grade_id": "cell-5e2c5e0c9a2e8cb5",
     "locked": true,
     "points": 0,
     "schema_version": 3,
     "solution": false,
     "task": false
    }
   },
   "outputs": [],
   "source": [
    "#### Please do not change this. This cell is used for grading."
   ]
  },
  {
   "cell_type": "markdown",
   "metadata": {
    "deletable": false,
    "editable": false,
    "nbgrader": {
     "cell_type": "markdown",
     "checksum": "5bb46bf6b9be1e0ca66f0b0bc6260ecb",
     "grade": false,
     "grade_id": "cell-8a49d414f798a595",
     "locked": true,
     "points": 10,
     "schema_version": 3,
     "solution": false,
     "task": true
    }
   },
   "source": [
    "\\#### Please do not change this. This cell is used for grading."
   ]
  },
  {
   "cell_type": "code",
   "execution_count": 188,
   "metadata": {
    "deletable": false,
    "nbgrader": {
     "cell_type": "code",
     "checksum": "1f60fdeb97febb7f4a6fd5bf109aac20",
     "grade": false,
     "grade_id": "cell-680facdcc98a19ab",
     "locked": false,
     "schema_version": 3,
     "solution": true,
     "task": false
    }
   },
   "outputs": [
    {
     "name": "stderr",
     "output_type": "stream",
     "text": [
      "2022-02-28 14:10:17,072 : INFO : adding document #0 to Dictionary(0 unique tokens: [])\n",
      "2022-02-28 14:10:17,194 : INFO : built Dictionary(5937 unique tokens: ['-', 'algebra', 'intern', 'languag', 'preliminari']...) from 3204 documents (total 115969 corpus positions)\n",
      "2022-02-28 14:10:17,195 : INFO : Dictionary lifecycle event {'msg': \"built Dictionary(5937 unique tokens: ['-', 'algebra', 'intern', 'languag', 'preliminari']...) from 3204 documents (total 115969 corpus positions)\", 'datetime': '2022-02-28T14:10:17.195606', 'gensim': '4.1.2', 'python': '3.8.10 (default, Nov 26 2021, 20:14:08) \\n[GCC 9.3.0]', 'platform': 'Linux-5.13.0-30-generic-x86_64-with-glibc2.29', 'event': 'created'}\n",
      "2022-02-28 14:10:17,201 : INFO : discarding 4740 tokens: [('repeat', 8), ('glossari', 7), ('inspect', 8), ('uncol', 2), ('rung', 9), ('secant', 2), ('.', 1603), ('acceler', 6), ('diverg', 3), ('induc', 9)]...\n",
      "2022-02-28 14:10:17,202 : INFO : keeping 1197 tokens which were in no less than 10 and no more than 1602 (=50.0%) documents\n",
      "2022-02-28 14:10:17,204 : INFO : resulting dictionary: Dictionary(1197 unique tokens: ['-', 'algebra', 'intern', 'languag', 'preliminari']...)\n",
      "2022-02-28 14:10:17,252 : INFO : collecting all words and their counts\n",
      "2022-02-28 14:10:17,254 : INFO : PROGRESS: at example #0, processed 0 words (0/s), 0 word types, 0 tags\n",
      "2022-02-28 14:10:17,321 : INFO : collected 5937 word types and 3204 unique tags from a corpus of 3204 examples and 115969 words\n",
      "2022-02-28 14:10:17,322 : INFO : Creating a fresh vocabulary\n",
      "2022-02-28 14:10:17,331 : INFO : Doc2Vec lifecycle event {'msg': 'effective_min_count=5 retains 2069 unique words (34.8492504631969%% of original 5937, drops 3868)', 'datetime': '2022-02-28T14:10:17.331690', 'gensim': '4.1.2', 'python': '3.8.10 (default, Nov 26 2021, 20:14:08) \\n[GCC 9.3.0]', 'platform': 'Linux-5.13.0-30-generic-x86_64-with-glibc2.29', 'event': 'prepare_vocab'}\n",
      "2022-02-28 14:10:17,333 : INFO : Doc2Vec lifecycle event {'msg': 'effective_min_count=5 leaves 109261 word corpus (94.21569557381714%% of original 115969, drops 6708)', 'datetime': '2022-02-28T14:10:17.333272', 'gensim': '4.1.2', 'python': '3.8.10 (default, Nov 26 2021, 20:14:08) \\n[GCC 9.3.0]', 'platform': 'Linux-5.13.0-30-generic-x86_64-with-glibc2.29', 'event': 'prepare_vocab'}\n",
      "2022-02-28 14:10:17,350 : INFO : deleting the raw counts dictionary of 5937 items\n",
      "2022-02-28 14:10:17,351 : INFO : sample=0.001 downsamples 44 most-common words\n",
      "2022-02-28 14:10:17,353 : INFO : Doc2Vec lifecycle event {'msg': 'downsampling leaves estimated 84994.13994831842 word corpus (77.8%% of prior 109261)', 'datetime': '2022-02-28T14:10:17.353012', 'gensim': '4.1.2', 'python': '3.8.10 (default, Nov 26 2021, 20:14:08) \\n[GCC 9.3.0]', 'platform': 'Linux-5.13.0-30-generic-x86_64-with-glibc2.29', 'event': 'prepare_vocab'}\n",
      "2022-02-28 14:10:17,383 : INFO : estimated required memory for 2069 words and 100 dimensions: 4612100 bytes\n",
      "2022-02-28 14:10:17,389 : INFO : resetting layer weights\n",
      "2022-02-28 14:10:17,396 : INFO : Doc2Vec lifecycle event {'msg': 'training model with 3 workers on 2069 vocabulary and 100 features, using sg=0 hs=0 sample=0.001 negative=5 window=5 shrink_windows=True', 'datetime': '2022-02-28T14:10:17.396723', 'gensim': '4.1.2', 'python': '3.8.10 (default, Nov 26 2021, 20:14:08) \\n[GCC 9.3.0]', 'platform': 'Linux-5.13.0-30-generic-x86_64-with-glibc2.29', 'event': 'train'}\n",
      "2022-02-28 14:10:17,620 : INFO : worker thread finished; awaiting finish of 2 more threads\n",
      "2022-02-28 14:10:17,633 : INFO : worker thread finished; awaiting finish of 1 more threads\n",
      "2022-02-28 14:10:17,639 : INFO : worker thread finished; awaiting finish of 0 more threads\n",
      "2022-02-28 14:10:17,639 : INFO : EPOCH - 1 : training on 115969 raw words (88303 effective words) took 0.2s, 397591 effective words/s\n",
      "2022-02-28 14:10:17,845 : INFO : worker thread finished; awaiting finish of 2 more threads\n",
      "2022-02-28 14:10:17,853 : INFO : worker thread finished; awaiting finish of 1 more threads\n",
      "2022-02-28 14:10:17,856 : INFO : worker thread finished; awaiting finish of 0 more threads\n",
      "2022-02-28 14:10:17,856 : INFO : EPOCH - 2 : training on 115969 raw words (88160 effective words) took 0.2s, 416456 effective words/s\n",
      "2022-02-28 14:10:18,061 : INFO : worker thread finished; awaiting finish of 2 more threads\n",
      "2022-02-28 14:10:18,069 : INFO : worker thread finished; awaiting finish of 1 more threads\n",
      "2022-02-28 14:10:18,079 : INFO : worker thread finished; awaiting finish of 0 more threads\n",
      "2022-02-28 14:10:18,079 : INFO : EPOCH - 3 : training on 115969 raw words (88205 effective words) took 0.2s, 402827 effective words/s\n",
      "2022-02-28 14:10:18,291 : INFO : worker thread finished; awaiting finish of 2 more threads\n",
      "2022-02-28 14:10:18,302 : INFO : worker thread finished; awaiting finish of 1 more threads\n",
      "2022-02-28 14:10:18,306 : INFO : worker thread finished; awaiting finish of 0 more threads\n",
      "2022-02-28 14:10:18,307 : INFO : EPOCH - 4 : training on 115969 raw words (88236 effective words) took 0.2s, 401914 effective words/s\n",
      "2022-02-28 14:10:18,514 : INFO : worker thread finished; awaiting finish of 2 more threads\n",
      "2022-02-28 14:10:18,523 : INFO : worker thread finished; awaiting finish of 1 more threads\n",
      "2022-02-28 14:10:18,533 : INFO : worker thread finished; awaiting finish of 0 more threads\n",
      "2022-02-28 14:10:18,534 : INFO : EPOCH - 5 : training on 115969 raw words (88110 effective words) took 0.2s, 398516 effective words/s\n",
      "2022-02-28 14:10:18,742 : INFO : worker thread finished; awaiting finish of 2 more threads\n",
      "2022-02-28 14:10:18,750 : INFO : worker thread finished; awaiting finish of 1 more threads\n",
      "2022-02-28 14:10:18,754 : INFO : worker thread finished; awaiting finish of 0 more threads\n",
      "2022-02-28 14:10:18,755 : INFO : EPOCH - 6 : training on 115969 raw words (88332 effective words) took 0.2s, 407818 effective words/s\n",
      "2022-02-28 14:10:18,954 : INFO : worker thread finished; awaiting finish of 2 more threads\n",
      "2022-02-28 14:10:18,962 : INFO : worker thread finished; awaiting finish of 1 more threads\n",
      "2022-02-28 14:10:18,972 : INFO : worker thread finished; awaiting finish of 0 more threads\n",
      "2022-02-28 14:10:18,972 : INFO : EPOCH - 7 : training on 115969 raw words (88111 effective words) took 0.2s, 414228 effective words/s\n",
      "2022-02-28 14:10:19,167 : INFO : worker thread finished; awaiting finish of 2 more threads\n",
      "2022-02-28 14:10:19,175 : INFO : worker thread finished; awaiting finish of 1 more threads\n",
      "2022-02-28 14:10:19,189 : INFO : worker thread finished; awaiting finish of 0 more threads\n",
      "2022-02-28 14:10:19,192 : INFO : EPOCH - 8 : training on 115969 raw words (88195 effective words) took 0.2s, 408985 effective words/s\n",
      "2022-02-28 14:10:19,424 : INFO : worker thread finished; awaiting finish of 2 more threads\n",
      "2022-02-28 14:10:19,427 : INFO : worker thread finished; awaiting finish of 1 more threads\n",
      "2022-02-28 14:10:19,435 : INFO : worker thread finished; awaiting finish of 0 more threads\n",
      "2022-02-28 14:10:19,436 : INFO : EPOCH - 9 : training on 115969 raw words (88239 effective words) took 0.2s, 368835 effective words/s\n",
      "2022-02-28 14:10:19,633 : INFO : worker thread finished; awaiting finish of 2 more threads\n",
      "2022-02-28 14:10:19,643 : INFO : worker thread finished; awaiting finish of 1 more threads\n",
      "2022-02-28 14:10:19,649 : INFO : worker thread finished; awaiting finish of 0 more threads\n",
      "2022-02-28 14:10:19,650 : INFO : EPOCH - 10 : training on 115969 raw words (88133 effective words) took 0.2s, 421791 effective words/s\n",
      "2022-02-28 14:10:19,650 : INFO : Doc2Vec lifecycle event {'msg': 'training on 1159690 raw words (882024 effective words) took 2.2s, 392444 effective words/s', 'datetime': '2022-02-28T14:10:19.650638', 'gensim': '4.1.2', 'python': '3.8.10 (default, Nov 26 2021, 20:14:08) \\n[GCC 9.3.0]', 'platform': 'Linux-5.13.0-30-generic-x86_64-with-glibc2.29', 'event': 'train'}\n",
      "2022-02-28 14:10:19,651 : INFO : Doc2Vec lifecycle event {'params': 'Doc2Vec(dm/m,d100,n5,w5,mc5,s0.001,t3)', 'datetime': '2022-02-28T14:10:19.651306', 'gensim': '4.1.2', 'python': '3.8.10 (default, Nov 26 2021, 20:14:08) \\n[GCC 9.3.0]', 'platform': 'Linux-5.13.0-30-generic-x86_64-with-glibc2.29', 'event': 'created'}\n"
     ]
    },
    {
     "data": {
      "text/plain": [
       "[(0, -0.01353285),\n",
       " (1, 0.042712696),\n",
       " (2, 0.018580304),\n",
       " (3, -0.016877871),\n",
       " (4, 0.019102853),\n",
       " (5, -0.054532792),\n",
       " (6, -0.011915799),\n",
       " (7, 0.07290973),\n",
       " (8, -0.045296427),\n",
       " (9, -0.030209461),\n",
       " (10, -0.030762916),\n",
       " (11, -0.04584186),\n",
       " (12, 0.023500307),\n",
       " (13, -0.0029613941),\n",
       " (14, -0.013732138),\n",
       " (15, -0.02349165),\n",
       " (16, 0.023773305),\n",
       " (17, -0.027549772),\n",
       " (18, -0.01103536),\n",
       " (19, -0.09040033),\n",
       " (20, -0.0013575504),\n",
       " (21, 0.0065902774),\n",
       " (22, 0.0043631485),\n",
       " (23, 0.003246933),\n",
       " (24, -0.0064481064),\n",
       " (25, 0.01800475),\n",
       " (26, -0.021742864),\n",
       " (27, -0.014282969),\n",
       " (28, -0.008010525),\n",
       " (29, 0.0029745137),\n",
       " (30, 0.03781887),\n",
       " (31, -0.012551757),\n",
       " (32, 0.028160423),\n",
       " (33, -0.015630767),\n",
       " (34, 0.008686539),\n",
       " (35, 0.025492473),\n",
       " (36, 0.019390218),\n",
       " (37, -0.027579894),\n",
       " (38, -0.008914209),\n",
       " (39, -0.038333487),\n",
       " (40, 0.012510116),\n",
       " (41, -0.030968022),\n",
       " (42, -0.021577334),\n",
       " (43, -0.00888224),\n",
       " (44, 0.013206895),\n",
       " (45, -0.0074183475),\n",
       " (46, -0.004137453),\n",
       " (47, 0.01043244),\n",
       " (48, -0.020143976),\n",
       " (49, 0.022202944),\n",
       " (50, -0.01543577),\n",
       " (51, -0.030300628),\n",
       " (52, -0.01056836),\n",
       " (53, 0.00373646),\n",
       " (54, -0.03880766),\n",
       " (55, -0.0016933258),\n",
       " (56, -0.009616182),\n",
       " (57, -0.031188453),\n",
       " (58, -0.030320251),\n",
       " (59, 0.011713065),\n",
       " (60, -0.010088538),\n",
       " (61, -0.013453941),\n",
       " (62, 0.022388222),\n",
       " (63, -0.027742753),\n",
       " (64, -0.052521173),\n",
       " (65, 0.046514925),\n",
       " (66, 0.0028097732),\n",
       " (67, 0.0009840541),\n",
       " (68, -0.037760884),\n",
       " (69, 0.019226098),\n",
       " (70, -0.03349347),\n",
       " (71, 0.022536514),\n",
       " (72, 0.047119126),\n",
       " (73, 0.0071553555),\n",
       " (74, 0.03328895),\n",
       " (75, 0.0202856),\n",
       " (76, 0.014994682),\n",
       " (77, 0.0056023113),\n",
       " (78, -0.010653913),\n",
       " (79, 0.02193054),\n",
       " (80, -0.007839592),\n",
       " (81, 0.009816004),\n",
       " (82, -0.0023719664),\n",
       " (83, 0.017450184),\n",
       " (84, 0.00686671),\n",
       " (85, 0.016197244),\n",
       " (86, -0.0043545174),\n",
       " (87, 0.005588348),\n",
       " (88, 0.03099276),\n",
       " (89, 0.022310875),\n",
       " (90, 0.020066576),\n",
       " (91, 0.013606416),\n",
       " (92, -0.048241112),\n",
       " (93, 0.015314222),\n",
       " (94, 0.06074273),\n",
       " (95, 0.027941369),\n",
       " (96, -0.007033671),\n",
       " (97, -0.04014737),\n",
       " (98, 0.0056658187),\n",
       " (99, -0.009547316)]"
      ]
     },
     "execution_count": 188,
     "metadata": {},
     "output_type": "execute_result"
    }
   ],
   "source": [
    "# TODO: Implement this! (10 points)\n",
    "class D2VRetrievalModel(VectorSpaceRetrievalModel):\n",
    "    def __init__(self, doc_repr):\n",
    "        super().__init__(doc_repr)\n",
    "        \n",
    "        self.vector_size= 100\n",
    "        self.min_count = 1\n",
    "        self.epochs = 20\n",
    "        self.tagged_docs = [TaggedDocument(doc, [doc_id]) for (doc_id, doc) in self.doc_repr]\n",
    "        \n",
    "    def train_model(self):\n",
    "        # YOUR CODE HERE\n",
    "        self.model = Doc2Vec(self.tagged_docs)\n",
    "    \n",
    "    def vectorize_documents(self):\n",
    "        \"\"\"\n",
    "            Returns a doc_id -> vector dictionary\n",
    "        \"\"\"\n",
    "        id2vec = {}\n",
    "        for (doc_id, doc) in self.doc_repr:\n",
    "            v = self.model.infer_vector(doc)\n",
    "            id2vec[doc_id] = [(i, v[i]) for i in range(self.vector_size)]\n",
    "        return id2vec\n",
    "\n",
    "    def vectorize_query(self, query):\n",
    "        query = process_text(query, **config_2)        \n",
    "        v = self.model.infer_vector(query)\n",
    "        return [(i, v[i]) for i in range(self.vector_size)]\n",
    "        \n",
    "d2v = D2VRetrievalModel(doc_repr_2)\n",
    "d2v.train_model()\n",
    "\n",
    "\n",
    "# # you can now get an LSI vector for a given query in the following way:\n",
    "d2v.vectorize_query(\"report\")"
   ]
  },
  {
   "cell_type": "code",
   "execution_count": 189,
   "metadata": {},
   "outputs": [
    {
     "data": {
      "application/vnd.jupyter.widget-view+json": {
       "model_id": "052ba6ce52c94a318a5e5e83cd72fbdc",
       "version_major": 2,
       "version_minor": 0
      },
      "text/plain": [
       "Text(value='', description='Search Bar')"
      ]
     },
     "metadata": {},
     "output_type": "display_data"
    }
   ],
   "source": [
    "drm_d2v = DenseRetrievalRanker(d2v, cosine_sim)\n",
    "\n",
    "# test your LDA model\n",
    "search_fn = drm_d2v.search\n",
    "\n",
    "text = widgets.Text(description=\"Search Bar\", width=200)\n",
    "display(text)\n",
    "\n",
    "\n",
    "text.on_submit(handle_submit_2)"
   ]
  },
  {
   "cell_type": "markdown",
   "metadata": {
    "deletable": false,
    "editable": false,
    "nbgrader": {
     "cell_type": "markdown",
     "checksum": "363ec36c1d03d9f9e1c2045a6e193c14",
     "grade": false,
     "grade_id": "cell-3529ae29eece7b97",
     "locked": true,
     "schema_version": 3,
     "solution": false,
     "task": false
    }
   },
   "source": [
    "---\n",
    "## Section 9: Re-ranking (10 points) <a class=\"anchor\" id=\"reranking\"></a>\n",
    "\n",
    "[Back to Part 2](#part2)\n",
    "\n",
    "To motivate the re-ranking perspective (i.e retrieve with lexical method + rerank with a semantic method), let's search using semantic methods and compare it to BM25's performance, along with their runtime:\n"
   ]
  },
  {
   "cell_type": "code",
   "execution_count": 190,
   "metadata": {
    "deletable": false,
    "editable": false,
    "nbgrader": {
     "cell_type": "code",
     "checksum": "5755f70e3eb28abc65d14d80125338af",
     "grade": false,
     "grade_id": "cell-f8f43bf5ae383128",
     "locked": true,
     "schema_version": 3,
     "solution": false,
     "task": false
    }
   },
   "outputs": [
    {
     "name": "stdout",
     "output_type": "stream",
     "text": [
      "BM25: \n",
      "1.11 ms ± 20.3 µs per loop (mean ± std. dev. of 7 runs, 1,000 loops each)\n",
      "LSI: \n",
      "344 ms ± 3.74 ms per loop (mean ± std. dev. of 7 runs, 1 loop each)\n",
      "LDA: \n",
      "1.83 s ± 23.6 ms per loop (mean ± std. dev. of 7 runs, 1 loop each)\n",
      "W2V: \n",
      "330 ms ± 6.17 ms per loop (mean ± std. dev. of 7 runs, 1 loop each)\n",
      "W2V(Pretrained): \n",
      "951 ms ± 6.41 ms per loop (mean ± std. dev. of 7 runs, 1 loop each)\n",
      "D2V:\n",
      "1.52 s ± 9.18 ms per loop (mean ± std. dev. of 7 runs, 1 loop each)\n"
     ]
    }
   ],
   "source": [
    "query = \"algebraic functions\"\n",
    "print(\"BM25: \")\n",
    "%timeit bm25_search(query, 2)\n",
    "print(\"LSI: \")\n",
    "%timeit drm_lsi.search(query)\n",
    "print(\"LDA: \")\n",
    "%timeit drm_lda.search(query)\n",
    "print(\"W2V: \")\n",
    "%timeit drm_w2v.search(query)\n",
    "print(\"W2V(Pretrained): \")\n",
    "%timeit drm_w2v_pretrained.search(query)\n",
    "print(\"D2V:\")\n",
    "%timeit drm_d2v.search(query)"
   ]
  },
  {
   "cell_type": "markdown",
   "metadata": {
    "deletable": false,
    "editable": false,
    "nbgrader": {
     "cell_type": "markdown",
     "checksum": "ae398da0a8c23c95bcbb0023b7ec6f34",
     "grade": false,
     "grade_id": "cell-db5ff09f97841af7",
     "locked": true,
     "schema_version": 3,
     "solution": false,
     "task": false
    }
   },
   "source": [
    "---\n",
    "\n",
    "**Implementation (10 points):**\n",
    "Re-ranking involves retrieving a small set of documents using simple but fast methods like BM25 and then re-ranking them with the aid of semantic methods such as LDA or LSI. Implement the following class, which takes in an `initial_retrieval_fn` - the initial retrieval function and `vsrm` - an instance of the `VectorSpaceRetrievalModel` class (i.e LSI/LDA) as input. The search function should first retrieve an initial list of K documents, and then these documents are re-ranked using a semantic method. This not only makes retrieval faster, but semantic methods perform poorly when used in isolation, as you will find out."
   ]
  },
  {
   "cell_type": "code",
   "execution_count": 229,
   "metadata": {
    "deletable": false,
    "nbgrader": {
     "cell_type": "code",
     "checksum": "63b6b05a676a2ae3f08d8bed1bc59428",
     "grade": false,
     "grade_id": "cell-5bf47600d1a0c507",
     "locked": false,
     "schema_version": 3,
     "solution": true,
     "task": false
    }
   },
   "outputs": [],
   "source": [
    "# TODO: Implement this! (10 points)\n",
    "class DenseRerankingModel:\n",
    "    def __init__(self, initial_retrieval_fn, vsrm, similarity_fn):\n",
    "        \"\"\"\n",
    "            initial_retrieval_fn: takes in a query and returns a list of [(doc_id, score)] (sorted)\n",
    "            vsrm: instance of `VectorSpaceRetrievalModel`\n",
    "            similarity_fn: function instance that takes in two vectors \n",
    "                            and returns a similarity score e.g cosine_sim defined earlier\n",
    "        \"\"\"\n",
    "        self.ret = initial_retrieval_fn\n",
    "        self.vsrm = vsrm\n",
    "        self.similarity_fn = similarity_fn\n",
    "        self.vectorized_documents = vsrm.vectorize_documents()\n",
    "        \n",
    "        assert len(self.vectorized_documents) == len(doc_repr_2)\n",
    "    \n",
    "    def search(self, query, K=50):\n",
    "        \"\"\"\n",
    "            First, retrieve the top K results using the retrieval function\n",
    "            Then, re-rank the results using the VSRM instance\n",
    "        \"\"\"\n",
    "        top_k = self.ret(query)[0:K]\n",
    "        scores = []\n",
    "        query = self.vsrm.vectorize_query(query)\n",
    "        for (doc_id, _) in top_k:\n",
    "            scores.append((doc_id, self.similarity_fn(query, self.vectorized_documents[doc_id])))\n",
    "        scores.sort(key=lambda _:-_[1])\n",
    "        return scores"
   ]
  },
  {
   "cell_type": "code",
   "execution_count": 265,
   "metadata": {},
   "outputs": [],
   "source": [
    "# TODO: Implement this! (10 points)\n",
    "def Sort_Tuple(tup): \n",
    "      \n",
    "    # getting length of list of tuples\n",
    "    lst = len(tup) \n",
    "    for i in range(0, lst): \n",
    "          \n",
    "        for j in range(0, lst-i-1): \n",
    "            if (tup[j][1] < tup[j + 1][1]): \n",
    "                temp = tup[j] \n",
    "                tup[j]= tup[j + 1] \n",
    "                tup[j + 1]= temp \n",
    "    return tup \n",
    "\n",
    "\n",
    "class DenseRerankingModel:\n",
    "    def __init__(self, initial_retrieval_fn, vsrm, similarity_fn):\n",
    "        \"\"\"\n",
    "            initial_retrieval_fn: takes in a query and returns a list of [(doc_id, score)] (sorted)\n",
    "            vsrm: instance of `VectorSpaceRetrievalModel`\n",
    "            similarity_fn: function instance that takes in two vectors \n",
    "                            and returns a similarity score e.g cosine_sim defined earlier\n",
    "        \"\"\"\n",
    "        self.ret = initial_retrieval_fn\n",
    "        self.vsrm = vsrm\n",
    "        self.similarity_fn = similarity_fn\n",
    "        self.vectorized_documents = vsrm.vectorize_documents()\n",
    "        \n",
    "        assert len(self.vectorized_documents) == len(doc_repr_2)\n",
    "    \n",
    "    def search(self, query, K=50):\n",
    "        \"\"\"\n",
    "            First, retrieve the top K results using the retrieval function\n",
    "            Then, re-rank the results using the VSRM instance\n",
    "        \"\"\"\n",
    "        reranked_l=[]\n",
    "        n=0\n",
    "        for i in self.ret(query):\n",
    "            n+=1\n",
    "            query_vector=self.vsrm.vectorize_query(query)\n",
    "            doc_id=i[0]\n",
    "            if np.array(self.vectorized_documents[doc_id]).size==0 or  np.array(query_vector).size==0:\n",
    "                continue\n",
    "            else:\n",
    "                \n",
    "\n",
    "                scor=self.similarity_fn(self.vectorized_documents[doc_id],query_vector)\n",
    "                reranked_l.append([doc_id,scor])\n",
    "        reranked_l=Sort_Tuple(reranked_l)\n",
    "        final=[]\n",
    "        for i in range(len(reranked_l)):\n",
    "            final.append(reranked_l[i])\n",
    "            if i==K:\n",
    "                break\n",
    "        return final"
   ]
  },
  {
   "cell_type": "code",
   "execution_count": 266,
   "metadata": {
    "deletable": false,
    "editable": false,
    "nbgrader": {
     "cell_type": "code",
     "checksum": "334ab5af96976265cace682ab82a7387",
     "grade": true,
     "grade_id": "cell-52c6d18a4c0b4882",
     "locked": true,
     "points": 0,
     "schema_version": 3,
     "solution": false,
     "task": false
    }
   },
   "outputs": [],
   "source": [
    "##### Function check\n",
    "bm25_search_2 = partial(bm25_search, index_set=2)\n",
    "lsi_rerank = DenseRerankingModel(bm25_search_2, lsi, cosine_sim)\n",
    "lda_rerank = DenseRerankingModel(bm25_search_2, lda, jenson_shannon_sim)\n",
    "w2v_rerank = DenseRerankingModel(bm25_search_2, w2v, cosine_sim)\n",
    "w2v_pretrained_rerank = DenseRerankingModel(bm25_search_2, w2v_pretrained, cosine_sim)\n",
    "d2v_rerank = DenseRerankingModel(bm25_search_2, d2v, cosine_sim)\n",
    "\n",
    "##### "
   ]
  },
  {
   "cell_type": "markdown",
   "metadata": {
    "deletable": false,
    "editable": false,
    "nbgrader": {
     "cell_type": "markdown",
     "checksum": "bd904253f45f84e63bab3a69729058fc",
     "grade": false,
     "grade_id": "cell-93215dfe6bcf7cff",
     "locked": true,
     "points": 10,
     "schema_version": 3,
     "solution": false,
     "task": true
    }
   },
   "source": [
    "\\#### Please do not change this. This cell is used for grading."
   ]
  },
  {
   "cell_type": "markdown",
   "metadata": {
    "deletable": false,
    "editable": false,
    "nbgrader": {
     "cell_type": "markdown",
     "checksum": "b592e60292bfe3d9ef2930a354c4077a",
     "grade": false,
     "grade_id": "cell-aa694ff55fa91e7d",
     "locked": true,
     "schema_version": 3,
     "solution": false,
     "task": false
    }
   },
   "source": [
    "---\n",
    "Now, let us time the new search functions:"
   ]
  },
  {
   "cell_type": "code",
   "execution_count": 267,
   "metadata": {
    "deletable": false,
    "editable": false,
    "nbgrader": {
     "cell_type": "code",
     "checksum": "338c7e3528cba266a865a061287c0e38",
     "grade": false,
     "grade_id": "cell-5edbd481562ad91f",
     "locked": true,
     "schema_version": 3,
     "solution": false,
     "task": false
    }
   },
   "outputs": [
    {
     "name": "stdout",
     "output_type": "stream",
     "text": [
      "BM25: \n",
      "1.29 ms ± 118 µs per loop (mean ± std. dev. of 7 runs, 1,000 loops each)\n",
      "LSI: \n",
      "234 ms ± 23 ms per loop (mean ± std. dev. of 7 runs, 1 loop each)\n",
      "LDA: \n",
      "485 ms ± 34 ms per loop (mean ± std. dev. of 7 runs, 1 loop each)\n",
      "W2V: \n",
      "157 ms ± 9.13 ms per loop (mean ± std. dev. of 7 runs, 10 loops each)\n",
      "W2V(Pretrained): \n",
      "365 ms ± 6.96 ms per loop (mean ± std. dev. of 7 runs, 1 loop each)\n",
      "D2V:\n",
      "548 ms ± 77.9 ms per loop (mean ± std. dev. of 7 runs, 1 loop each)\n"
     ]
    }
   ],
   "source": [
    "query = \"algebraic functions\"\n",
    "print(\"BM25: \")\n",
    "%timeit bm25_search(query, 2)\n",
    "print(\"LSI: \")\n",
    "%timeit lsi_rerank.search(query)\n",
    "print(\"LDA: \")\n",
    "%timeit lda_rerank.search(query)\n",
    "print(\"W2V: \")\n",
    "%timeit w2v_rerank.search(query)\n",
    "print(\"W2V(Pretrained): \")\n",
    "%timeit w2v_pretrained_rerank.search(query)\n",
    "print(\"D2V:\")\n",
    "%timeit d2v_rerank.search(query)"
   ]
  },
  {
   "cell_type": "code",
   "execution_count": 268,
   "metadata": {},
   "outputs": [
    {
     "name": "stdout",
     "output_type": "stream",
     "text": [
      "[['2512', 0.9498302248504588], ['788', 0.9357996366712114], ['2399', 0.9239352371948127], ['951', 0.9193321243638874], ['534', 0.9098448841820458], ['1510', 0.9086764706289278], ['484', 0.9040879711545211], ['295', 0.9021795055563983], ['1394', 0.8960260879138179], ['480', 0.8948618711757798], ['55', 0.8940002839055516], ['1156', 0.8899304826255349], ['2166', 0.88976365073622], ['532', 0.8817428077578416], ['352', 0.8782645715762696], ['1191', 0.8763974449972078], ['1023', 0.8756993084395522], ['347', 0.874638218368536], ['676', 0.8729185994630462], ['344', 0.8727537405109249], ['2039', 0.8718380285835764], ['384', 0.8706787357263752], ['1836', 0.8653357687164046], ['393', 0.8614340304661091], ['831', 0.8575813253998785], ['485', 0.8572794400926675], ['1536', 0.8562099464209907], ['544', 0.8561267897573464], ['1942', 0.8552197143336171], ['133', 0.8543221068729391], ['134', 0.8534389910323557], ['1789', 0.8521218361738516], ['547', 0.8480569797329779], ['2096', 0.8470948064262599], ['1157', 0.8436185175811659], ['54', 0.8408952996884669], ['2224', 0.8400258938691711], ['992', 0.8387449825151967], ['205', 0.8368689359578404], ['284', 0.8351788669768283], ['1272', 0.8347933404058283], ['1278', 0.8279641241365044], ['210', 0.8265280217260821], ['1579', 0.8228059536387742], ['2824', 0.8223751192888095], ['1402', 0.8220993354593492], ['2558', 0.8214878923136247], ['1904', 0.8192470212785276], ['3199', 0.8150078976985325], ['533', 0.8083365073684178], ['1391', 0.8080694870019071]]\n"
     ]
    }
   ],
   "source": [
    "print(d2v_rerank.search(query))"
   ]
  },
  {
   "cell_type": "markdown",
   "metadata": {
    "deletable": false,
    "editable": false,
    "nbgrader": {
     "cell_type": "markdown",
     "checksum": "c45c5e3f015b2de89d9d39ae3766368b",
     "grade": false,
     "grade_id": "cell-85c50f2ab9eec301",
     "locked": true,
     "schema_version": 3,
     "solution": false,
     "task": false
    }
   },
   "source": [
    "---\n",
    "As you can see, it is much faster (but BM25 is still orders of magnitude faster)."
   ]
  },
  {
   "cell_type": "markdown",
   "metadata": {
    "deletable": false,
    "editable": false,
    "nbgrader": {
     "cell_type": "markdown",
     "checksum": "1e2f3388e3807659f303fe31a75a010e",
     "grade": false,
     "grade_id": "cell-5071bb99b2af61cb",
     "locked": true,
     "schema_version": 3,
     "solution": false,
     "task": false
    }
   },
   "source": [
    "---\n",
    "## Section 10: Evaluation & Analysis (30 points) <a class=\"anchor\" id=\"reranking_eval\"></a>\n",
    "\n",
    "[Back to Part 2](#part2)\n",
    "\n",
    "[Previously](#evaluation) we have implemented some evaluation metrics and used them for measuring the ranking performance of term-based IR algorithms. In this section, we will do the same for semantic methods, both with and without re-ranking.\n",
    "\n",
    "### Section 10.1: Plot (10 points)\n",
    "\n",
    "First, gather the results. The results should consider the index set, the different search functions and different metrics. Plot the results in bar charts, per metric, with clear labels.\n",
    "\n",
    "Then, gather only the re-ranking models, and plot and compare them with the results obtained in part 1 (only index set 2)."
   ]
  },
  {
   "cell_type": "code",
   "execution_count": 269,
   "metadata": {
    "deletable": false,
    "editable": false,
    "nbgrader": {
     "cell_type": "code",
     "checksum": "4fe81520ac6413a803838913fd64de03",
     "grade": false,
     "grade_id": "cell-b672fe6dfae0b1ce",
     "locked": true,
     "schema_version": 3,
     "solution": false,
     "task": false
    }
   },
   "outputs": [],
   "source": [
    "list_of_sem_search_fns = [\n",
    "    (\"lda\", drm_lda.search),\n",
    "    (\"lsi\", drm_lsi.search),\n",
    "    (\"w2v\", drm_w2v.search),\n",
    "    (\"w2v_pretrained\", drm_w2v_pretrained.search),\n",
    "    (\"d2v\", drm_d2v.search),\n",
    "    (\"lsi_rr\", lsi_rerank.search),\n",
    "    (\"lda_rr\", lda_rerank.search),\n",
    "    (\"w2v_rr\", w2v_rerank.search),\n",
    "    (\"w2v_pretrained_rr\", w2v_pretrained_rerank.search),\n",
    "    (\"d2v_rr\", d2v_rerank.search),\n",
    "    \n",
    "]"
   ]
  },
  {
   "cell_type": "code",
   "execution_count": null,
   "metadata": {
    "deletable": false,
    "nbgrader": {
     "cell_type": "code",
     "checksum": "54707c4afac084299aeefa047259b4a9",
     "grade": true,
     "grade_id": "cell-7dd8273b0f5a3c22",
     "locked": false,
     "points": 10,
     "schema_version": 3,
     "solution": true,
     "task": false
    }
   },
   "outputs": [],
   "source": [
    "plot_results(list_of_sem_search_fns, include_index=False)"
   ]
  },
  {
   "cell_type": "markdown",
   "metadata": {
    "deletable": false,
    "editable": false,
    "nbgrader": {
     "cell_type": "markdown",
     "checksum": "a8a3b6189bdde66704c694d85e38d049",
     "grade": false,
     "grade_id": "cell-deb2ef3daa306e82",
     "locked": true,
     "schema_version": 3,
     "solution": false,
     "task": false
    }
   },
   "source": [
    "### Section 10.2: Summary (20 points)\n",
    "\n",
    "Your summary should compare methods from Part 1 and Part 2 (only for index set 2). State what you expected to see in the results, followed by either supporting evidence *or* justify why the results did not support your expectations. Consider the availability of data, scalability, domain/type of data, etc."
   ]
  },
  {
   "cell_type": "markdown",
   "metadata": {
    "deletable": false,
    "nbgrader": {
     "cell_type": "markdown",
     "checksum": "ff97c43837d10bff6aaffa75e1492887",
     "grade": true,
     "grade_id": "cell-ec5dd7d9cf59dd86",
     "locked": false,
     "points": 20,
     "schema_version": 3,
     "solution": true,
     "task": false
    }
   },
   "source": [
    "YOUR ANSWER HERE"
   ]
  }
 ],
 "metadata": {
  "kernelspec": {
   "display_name": "Python 3 (ipykernel)",
   "language": "python",
   "name": "python3"
  },
  "language_info": {
   "codemirror_mode": {
    "name": "ipython",
    "version": 3
   },
   "file_extension": ".py",
   "mimetype": "text/x-python",
   "name": "python",
   "nbconvert_exporter": "python",
   "pygments_lexer": "ipython3",
   "version": "3.8.10"
  },
  "toc": {
   "base_numbering": 1,
   "nav_menu": {},
   "number_sections": true,
   "sideBar": true,
   "skip_h1_title": false,
   "title_cell": "Table of Contents",
   "title_sidebar": "Contents",
   "toc_cell": false,
   "toc_position": {},
   "toc_section_display": true,
   "toc_window_display": false
  }
 },
 "nbformat": 4,
 "nbformat_minor": 4
}
